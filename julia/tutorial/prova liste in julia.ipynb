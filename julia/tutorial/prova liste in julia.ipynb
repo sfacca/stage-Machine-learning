{
 "cells": [
  {
   "cell_type": "code",
   "execution_count": 1,
   "metadata": {},
   "outputs": [
    {
     "data": {
      "text/plain": [
       "Main.lists"
      ]
     },
     "execution_count": 1,
     "metadata": {},
     "output_type": "execute_result"
    }
   ],
   "source": [
    "include(\"../../codice/julia/lists.jl\")"
   ]
  },
  {
   "cell_type": "code",
   "execution_count": 6,
   "metadata": {},
   "outputs": [
    {
     "name": "stdout",
     "output_type": "stream",
     "text": [
      "primo!\n",
      "secondo!\n",
      "terzo!\n"
     ]
    }
   ],
   "source": [
    "function tryme()\n",
    "    mynode= lists.lnode(\"secondo!\", nothing)\n",
    "    myl= lists.List(mynode, mynode)\n",
    "    \n",
    "    # aggiungiamo un nodo con valore terzo! alla fine della lista\n",
    "    lists.lappend!(myl, \"terzo!\")\n",
    "    \n",
    "    #aggiungiamo nodo primo! all inizio della lista\n",
    "    lists.lpush!(myl, \"primo!\")\n",
    "    myl\n",
    "end\n",
    "lista = tryme()\n",
    "lists.printList(lista)"
   ]
  }
 ],
 "metadata": {
  "kernelspec": {
   "display_name": "Julia 1.5.1",
   "language": "julia",
   "name": "julia-1.5"
  },
  "language_info": {
   "file_extension": ".jl",
   "mimetype": "application/julia",
   "name": "julia",
   "version": "1.5.1"
  }
 },
 "nbformat": 4,
 "nbformat_minor": 4
}
