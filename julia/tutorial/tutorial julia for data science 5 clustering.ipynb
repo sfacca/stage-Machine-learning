{
 "cells": [
  {
   "cell_type": "markdown",
   "metadata": {},
   "source": [
    "# Tutorial Julia for Data Science\n",
    "\n",
    "## 5 Clustering\n",
    "\n",
    "Questo tutorial riguarda il raggruppare a mostrare dati in gruppi(cluster) tali che un dato sia più simile ai dati del suo cluster che a dati in altri cluster.   \n",
    "Vedremo 4 modi per fare ciò dal pacchetto Clusters.jl:\n",
    "+ k-means: partiziona i dati in k gruppi, ognuno dei quali contenente dati più vicini alla media del gruppo (minimizza distanze media-dato)\n",
    "+ k-medoids: partiziona in k gruppi, minimizzando la distanza di ogni membro di ogni gruppo ad un dato posto come centro del loro gruppo (o moda)  \n",
    "+ hierarchical clustering: trova una gerarchie di distanze simili\n",
    "+ DBSCAN: raggruppa in base alla densità dei dati nello spazio\n",
    "\n",
    "\n",
    "Iniziamo preparando il nostro ambiente e caricando dei dati."
   ]
  },
  {
   "cell_type": "code",
   "execution_count": 30,
   "metadata": {},
   "outputs": [
    {
     "name": "stderr",
     "output_type": "stream",
     "text": [
      "\u001b[32m\u001b[1m Activating\u001b[22m\u001b[39m environment at `C:\\Users\\i am\\Documents\\GitHub\\stage-Machine-learning\\notebook\\tutorial\\Project.toml`\n"
     ]
    }
   ],
   "source": [
    "using Pkg\n",
    "Pkg.activate(\".\")\n",
    "Pkg.instantiate()"
   ]
  },
  {
   "cell_type": "code",
   "execution_count": 31,
   "metadata": {},
   "outputs": [],
   "source": [
    "using Clustering\n",
    "using VegaLite\n",
    "using VegaDatasets\n",
    "using DataFrames\n",
    "using Statistics\n",
    "using JSON\n",
    "using CSV\n",
    "using Distances"
   ]
  },
  {
   "cell_type": "code",
   "execution_count": 32,
   "metadata": {},
   "outputs": [
    {
     "data": {
      "text/plain": [
       "Vega JSON Dataset"
      ]
     },
     "execution_count": 32,
     "metadata": {},
     "output_type": "execute_result"
    }
   ],
   "source": [
    "mkpath(\"downloads\")\n",
    "download(\"https://raw.githubusercontent.com/ageron/handson-ml/master/datasets/housing/housing.csv\",\"downloads/newhouses.csv\")\n",
    "download(\"https://github.com/JuliaAcademy/DataScience/raw/master/data/california-counties.json\",\"downloads/california-counties.json\")\n",
    "\n",
    "houses = CSV.read(\"downloads/newhouses.csv\")\n",
    "cali_shape = JSON.parsefile(\"downloads/california-counties.json\")\n",
    "VV = VegaDatasets.VegaJSONDataset(cali_shape,\"downloads/california-counties.json\")"
   ]
  },
  {
   "cell_type": "markdown",
   "metadata": {},
   "source": [
    "Il dataset che abbviamo caricato riguarda i costi delle abitazioni in california abbinati alla loro locazione (latitudine, longitudine) mentre il JSON è una rappresetazione delle county della californioa che ci serviurà a rappresentare graficamente i dati spazialmente.  \n",
    "Possiamo vedere nello spazio i dati dando un impressione di dove sono le abitazioni più costose con una heatmap:"
   ]
  },
  {
   "cell_type": "code",
   "execution_count": null,
   "metadata": {},
   "outputs": [],
   "source": [
    "@vlplot(width=500, height=300) +\n",
    "@vlplot(\n",
    "    mark={\n",
    "        :geoshape,\n",
    "        fill=:black,\n",
    "        stroke=:white\n",
    "    },\n",
    "    data={\n",
    "        values=VV,\n",
    "        format={\n",
    "            type=:topojson,\n",
    "            feature=:cb_2015_california_county_20m\n",
    "        }\n",
    "    },\n",
    "    projection={type=:albersUsa},\n",
    ")+\n",
    "@vlplot(\n",
    "    :circle,\n",
    "    data=houses,\n",
    "    projection={type=:albersUsa},\n",
    "    longitude=\"longitude:q\",\n",
    "    latitude=\"latitude:q\",\n",
    "    size={value=12},\n",
    "    color=\"median_house_value:q\"\n",
    "                    \n",
    ")"
   ]
  },
  {
   "cell_type": "markdown",
   "metadata": {},
   "source": [
    "Possiamo anche diminuire la precisione raggruppando i valori delle case in classi con incrementi di 50k"
   ]
  },
  {
   "cell_type": "code",
   "execution_count": null,
   "metadata": {},
   "outputs": [],
   "source": [
    "bucketprice = Int.(div.(houses[!,:median_house_value],50000))\n",
    "insertcols!(houses,3,:cprices=>bucketprice)\n",
    "\n",
    "@vlplot(width=500, height=300) +\n",
    "@vlplot(\n",
    "    mark={\n",
    "        :geoshape,\n",
    "        fill=:black,\n",
    "        stroke=:white\n",
    "    },\n",
    "    data={\n",
    "        values=VV,\n",
    "        format={\n",
    "            type=:topojson,\n",
    "            feature=:cb_2015_california_county_20m\n",
    "        }\n",
    "    },\n",
    "    projection={type=:albersUsa},\n",
    ")+\n",
    "@vlplot(\n",
    "    :circle,\n",
    "    data=houses,\n",
    "    projection={type=:albersUsa},\n",
    "    longitude=\"longitude:q\",\n",
    "    latitude=\"latitude:q\",\n",
    "    size={value=12},\n",
    "    color=\"cprices:n\"\n",
    "                    \n",
    ")"
   ]
  },
  {
   "cell_type": "markdown",
   "metadata": {},
   "source": [
    "### K-means clustering\n",
    "\n",
    "K-means partiziona il dataset (preso come matrice) in k gruppi, ognuno di questi gruppi conterrà i dati più vicini alla media del gruppo stesso.  \n",
    "Proviamo a lanciare kmeans (dal pkg clustering) raggruppando in 10 gruppi basati su latitudine/longitudine.\n",
    "\n",
    "Notare come abbiam dovuto convertire il df in matrice per kmeans."
   ]
  },
  {
   "cell_type": "code",
   "execution_count": null,
   "metadata": {},
   "outputs": [],
   "source": [
    "X = houses[!, [:latitude,:longitude]]\n",
    "C = kmeans(Matrix(X)', 10) # kemans prende matrici come input quindi dobbiamo convertire dataframe X into matrice\n",
    "insertcols!(houses,3,:cluster10=>C.assignments)#aggiunge colonne clkuster10\n",
    "X"
   ]
  },
  {
   "cell_type": "markdown",
   "metadata": {},
   "source": [
    "Possiamo vedere una rappresentazione grafica di questi gruppi:"
   ]
  },
  {
   "cell_type": "code",
   "execution_count": null,
   "metadata": {},
   "outputs": [],
   "source": [
    "@vlplot(width=500, height=300) +\n",
    "@vlplot(\n",
    "    mark={\n",
    "        :geoshape,\n",
    "        fill=:black,\n",
    "        stroke=:white\n",
    "    },\n",
    "    data={\n",
    "        values=VV,\n",
    "        format={\n",
    "            type=:topojson,\n",
    "            feature=:cb_2015_california_county_20m\n",
    "        }\n",
    "    },\n",
    "    projection={type=:albersUsa},\n",
    ")+\n",
    "@vlplot(\n",
    "    :circle,\n",
    "    data=houses,\n",
    "    projection={type=:albersUsa},\n",
    "    longitude=\"longitude:q\",\n",
    "    latitude=\"latitude:q\",\n",
    "    size={value=12},\n",
    "    color=\"cluster10:n\"#colore in base al cluster\n",
    "                    \n",
    ")"
   ]
  },
  {
   "cell_type": "markdown",
   "metadata": {},
   "source": [
    "### K-medoids clustering\n",
    "\n",
    "K-medoids genera k gruppi contenenti i dati più vicini a un membro del gruppo posto come centro del gruppo stesso.  \n",
    "Per usare la funzione kmedoids di Clustering.jl dobbiamo ottenere una matrice delle distanze per i dati.  \n",
    "Generiamola a partire dalle distanze euclidiane dei dati:"
   ]
  },
  {
   "cell_type": "code",
   "execution_count": null,
   "metadata": {},
   "outputs": [],
   "source": [
    "xmatrix = Matrix(X)'\n",
    "D = pairwise(Euclidean(), xmatrix, xmatrix,dims=2) # facciamla secondo distanza euclidiana\n",
    "\n",
    "K = kmedoids(D,10)# 10 gruppi\n",
    "insertcols!(houses,3,:medoids_clusters=>K.assignments)#aggiungiamo altra colonna"
   ]
  },
  {
   "cell_type": "markdown",
   "metadata": {},
   "source": [
    "Una volta ottenuto ed aggiunto all df i dati, possiamo proiettarli sulla mappa della california, come prima:"
   ]
  },
  {
   "cell_type": "code",
   "execution_count": null,
   "metadata": {},
   "outputs": [],
   "source": [
    "@vlplot(width=500, height=300) +\n",
    "@vlplot(\n",
    "    mark={\n",
    "        :geoshape,\n",
    "        fill=:black,\n",
    "        stroke=:white\n",
    "    },\n",
    "    data={\n",
    "        values=VV,\n",
    "        format={\n",
    "            type=:topojson,\n",
    "            feature=:cb_2015_california_county_20m\n",
    "        }\n",
    "    },\n",
    "    projection={type=:albersUsa},\n",
    ")+\n",
    "@vlplot(\n",
    "    :circle,\n",
    "    data=houses,\n",
    "    projection={type=:albersUsa},\n",
    "    longitude=\"longitude:q\",\n",
    "    latitude=\"latitude:q\",\n",
    "    size={value=12},\n",
    "    color=\"medoids_clusters:n\"\n",
    "                    \n",
    ")"
   ]
  },
  {
   "cell_type": "markdown",
   "metadata": {},
   "source": [
    "### Clustering gerarchico\n",
    "Un algoritmo di clustering gerarchico restituisce una gerarchia di vicinanze dei dati.  \n",
    "Questo può avvenire seconbdo due strategie:\n",
    "+ strategia agglomerativa: \n",
    " 1. all inizio ogni dato è un cluster\n",
    " 2. i cluster più vicini vengono agglomerati\n",
    " 3. ripeti step2 finchè tutti i dati sono sullo stesso gruppo\n",
    " 4. il risultato è il dendogramma che spiega l'ordine in cui sono stati aggruppati i dati\n",
    "+ strategia divisiva:  simile all'agglomerativa ma partendo da un solo gruppo conetnente tutti i dati a cui vengono rimossi i dati in base a quali sono più distanti  "
   ]
  },
  {
   "cell_type": "code",
   "execution_count": null,
   "metadata": {},
   "outputs": [],
   "source": [
    "K = hclust(D)\n",
    "L = cutree(K;k=10)\n",
    "insertcols!(houses,3,:hclust_clusters=>L)"
   ]
  },
  {
   "cell_type": "code",
   "execution_count": null,
   "metadata": {},
   "outputs": [],
   "source": []
  },
  {
   "cell_type": "code",
   "execution_count": null,
   "metadata": {},
   "outputs": [],
   "source": [
    "@vlplot(width=500, height=300) +\n",
    "@vlplot(\n",
    "    mark={\n",
    "        :geoshape,\n",
    "        fill=:black,\n",
    "        stroke=:white\n",
    "    },\n",
    "    data={\n",
    "        values=VV,\n",
    "        format={\n",
    "            type=:topojson,\n",
    "            feature=:cb_2015_california_county_20m\n",
    "        }\n",
    "    },\n",
    "    projection={type=:albersUsa},\n",
    ")+\n",
    "@vlplot(\n",
    "    :circle,\n",
    "    data=houses,\n",
    "    projection={type=:albersUsa},\n",
    "    longitude=\"longitude:q\",\n",
    "    latitude=\"latitude:q\",\n",
    "    size={value=12},\n",
    "    color=\"hclust_clusters:n\"\n",
    "                    \n",
    ")"
   ]
  },
  {
   "cell_type": "markdown",
   "metadata": {},
   "source": [
    "Vediamo che non appaiono gerarchie particolari, i dati sono a grandi linee equidistanti."
   ]
  },
  {
   "cell_type": "markdown",
   "metadata": {},
   "source": [
    "### DBSCAN\n",
    "Density-based spatial clustering of applications with noise (DBSCAN) è una tecnica di clustering che, dati dei dati spaziali, restituisce aggruppamenti basati su quali gruppi di dati sono più aggruppati vicini (maggior numero di vicini), marcando inoltre outlier, soli in aree a bassa densità, i cui vicini più vicini sono particolarmente lontani.  \n",
    "Vediamo anche questo dal package Clustering.jl.  \n",
    "Anche per questo ci serve una matrice di distanze, questa volta usiamo la distanza quadratica per diminuire la varianza."
   ]
  },
  {
   "cell_type": "code",
   "execution_count": null,
   "metadata": {},
   "outputs": [],
   "source": [
    "using Distances\n",
    "dclara = pairwise(SqEuclidean(), Matrix(X)',dims=2)#mat distanze fatta con dist euclid quadrata questa volta\n",
    "D = pairwise(Euclidean(), xmatrix, xmatrix,dims=2)\n",
    "L = dbscan(dclara, 0.05, 10)\n",
    "@show length(unique(L.assignments))\n",
    "\n",
    "insertcols!(houses,3,:dbscanclusters=>L.assignments)"
   ]
  },
  {
   "cell_type": "markdown",
   "metadata": {},
   "source": [
    "L.assignments è il gruppo assegnato, unique(l.assignments) ci ritorna quindi quanti gruppi sono stati generati.  \n",
    "Vediamo ora in un grafico."
   ]
  },
  {
   "cell_type": "code",
   "execution_count": null,
   "metadata": {},
   "outputs": [],
   "source": [
    "@vlplot(width=500, height=300) +\n",
    "@vlplot(\n",
    "    mark={\n",
    "        :geoshape,\n",
    "    \n",
    "        fill=:black,\n",
    "        stroke=:white\n",
    "    },\n",
    "    data={\n",
    "        values=VV,\n",
    "        format={\n",
    "            type=:topojson,\n",
    "            feature=:cb_2015_california_county_20m\n",
    "        }\n",
    "    },\n",
    "    projection={type=:albersUsa},\n",
    ")+\n",
    "@vlplot(\n",
    "    :circle,\n",
    "    data=houses,\n",
    "    projection={type=:albersUsa},\n",
    "    longitude=\"longitude:q\",\n",
    "    latitude=\"latitude:q\",\n",
    "    size={value=12},\n",
    "    color=\"dbscanclusters:n\"\n",
    "                    \n",
    ")"
   ]
  },
  {
   "cell_type": "code",
   "execution_count": null,
   "metadata": {},
   "outputs": [],
   "source": [
    "housesdef = CSV.read(\"downloads/newhouses.csv\")\n",
    "names(housesdef)"
   ]
  },
  {
   "cell_type": "code",
   "execution_count": null,
   "metadata": {},
   "outputs": [],
   "source": []
  }
 ],
 "metadata": {
  "kernelspec": {
   "display_name": "Julia 1.5.1",
   "language": "julia",
   "name": "julia-1.5"
  },
  "language_info": {
   "file_extension": ".jl",
   "mimetype": "application/julia",
   "name": "julia",
   "version": "1.5.1"
  }
 },
 "nbformat": 4,
 "nbformat_minor": 4
}
