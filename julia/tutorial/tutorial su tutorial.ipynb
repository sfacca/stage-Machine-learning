{
 "cells": [
  {
   "cell_type": "markdown",
   "metadata": {},
   "source": [
    "# Creazione tutorial con Jupyter Notebook e Julia\n"
   ]
  },
  {
   "cell_type": "code",
   "execution_count": null,
   "metadata": {},
   "outputs": [],
   "source": []
  },
  {
   "cell_type": "markdown",
   "metadata": {},
   "source": [
    "1. crea nuovo documento notebook cliccando File / New Notebook / Julia\n",
    "2. clicca su uno dei rettangoli grigi nel foglio di lavoro\n",
    "\n",
    "    1. nel riquadro dropdown a scelta multipla, seleziona markdown, *ripeti questa operazione per ogni riquadro*  \n",
    "    alternativamente, premi ESC + M  \n",
    "    \n",
    "    2. per ingrandire il testo a titolo, digita un # seguito da uno spazio prima del testo  \n",
    "    \n",
    "    3. separa varie fasi del tutorial creando successivi blocchi tramite il pulsante $ + $  \n",
    "    alternativamente, premi ESC + B per creare una cella a pié pagina o ESC + A per crearne una in cima\n",
    "    \n",
    "    4. per vedere il risultato finale pigia il pulsante Run  \n",
    "    alternativamente, premi Shift + Enter\n",
    " \n",
    "3. quando hai finito, salva con Ctrl + S"
   ]
  },
  {
   "cell_type": "markdown",
   "metadata": {},
   "source": [
    "\n",
    "## Creazione tabelle in blocchi Markdown\n",
    "\n",
    "Avendo da rappresentare dei concetti con una tabella, possiamo definire al volo la struttura della tabella in questo modo:  \n",
    "Prima definiamo la prima riga così:\n",
    "\n",
    "``` | {nome prima colonna} | {nome seconda colonna} | {etc} |  ```\n",
    "\n",
    "Secondamente, dichiariamo le colonne dei contenuti così\n",
    "\n",
    "``` |---|---|---| ```  \n",
    "\n",
    "Nell'antecedente modo abbiamo dichiarato che la matrice avrà 3 colonne  \n",
    "Possiamo anche determinare l'allineamento dei contenuti con inserendo :\n",
    "\n",
    "``` |---|:---:|---:| ```  \n",
    "In questo caso, la prima colonna sarà allioneata a sinistra, la seconda al centro, la terza a destra.\n",
    "\n",
    "Dopodichè dichiariamo ogni riga così:\n",
    "\n",
    "``` | {valore} | {valore} | {etc} ```  \n",
    "\n",
    "I vari campi possono anche essere lasciati vuoti per creare, ad esempio, matrici di adiacenza\n",
    "\n",
    "||x|y|z|\n",
    "|-|-|-|-|\n",
    "|x|0|1|0|\n",
    "|y|1|0|1|\n",
    "|z|0|1|0|"
   ]
  },
  {
   "cell_type": "markdown",
   "metadata": {},
   "source": [
    "## Code snippet in blocchi Markdown\n",
    "\n",
    "Per creare un blocchetto di codice visibile in chiaro in un blocco markdown, antecediamolo da \\`\\`\\` seguito da spazio o a capo\n",
    " Otterremo così: \n",
    " \n",
    "```\n",
    "while true \n",
    "```\n",
    "\n",
    "Possiamo Anche dichiarare il linguaggio del codice scrivendolo subito dopo il  \\`\\`\\`\n",
    "\n",
    "```python\n",
    "a = 1 \n",
    "```\n"
   ]
  },
  {
   "cell_type": "markdown",
   "metadata": {},
   "source": [
    "## Usare simboli significativi di Markdown per il loro aspetto in Markdown\n",
    "\n",
    "Alcuni simboli, come ad esempio il simbolo del dollaro, vengono usati da Markdown per alcune funzionalità.\n",
    "\n",
    "Scritti normalmente in un blocco markdown non appaiono quindi nel prodotto finale.  \n",
    "Per ovviare a ciò, basta apporre un \\\\ prima di loro, ad esempio  ``` \\$  ``` produrrà un \\$ mentre ``` $ ```  \n",
    "indica a Markdown l'inizio di una parte per latex"
   ]
  },
  {
   "cell_type": "code",
   "execution_count": null,
   "metadata": {},
   "outputs": [],
   "source": []
  }
 ],
 "metadata": {
  "kernelspec": {
   "display_name": "Julia 1.5.1",
   "language": "julia",
   "name": "julia-1.5"
  },
  "language_info": {
   "file_extension": ".jl",
   "mimetype": "application/julia",
   "name": "julia",
   "version": "1.5.1"
  }
 },
 "nbformat": 4,
 "nbformat_minor": 4
}
