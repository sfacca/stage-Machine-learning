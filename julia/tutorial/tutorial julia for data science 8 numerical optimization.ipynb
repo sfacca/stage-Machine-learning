{
 "cells": [
  {
   "cell_type": "markdown",
   "metadata": {},
   "source": [
    "# Tutorial Julia for Data Science\n",
    "\n",
    "## 8 Problemi di ottimizzazione\n",
    "\n",
    "Questa parte riguarda definizione di problemi di ottimizzazione tramite modelli e la loro risoluzione.  \n",
    "Vedremo vari problemi di tipo comune e come risolverli.  \n",
    "Useremo molto funzionalità del pacchetto JuMP.jl.  \n",
    "Iniziamo inizializzando ambiente:"
   ]
  },
  {
   "cell_type": "code",
   "execution_count": 1,
   "metadata": {},
   "outputs": [
    {
     "name": "stderr",
     "output_type": "stream",
     "text": [
      "\u001b[32m\u001b[1m Activating\u001b[22m\u001b[39m environment at `C:\\Users\\i am\\Documents\\GitHub\\stage-Machine-learning\\notebook\\tutorial\\Project.toml`\n",
      "\u001b[32m\u001b[1mNo Changes\u001b[22m\u001b[39m to `C:\\Users\\i am\\Documents\\GitHub\\stage-Machine-learning\\notebook\\tutorial\\Project.toml`\n",
      "\u001b[32m\u001b[1mNo Changes\u001b[22m\u001b[39m to `C:\\Users\\i am\\Documents\\GitHub\\stage-Machine-learning\\notebook\\tutorial\\Manifest.toml`\n"
     ]
    },
    {
     "data": {
      "text/plain": [
       "\"out\""
      ]
     },
     "execution_count": 1,
     "metadata": {},
     "output_type": "execute_result"
    }
   ],
   "source": [
    "using Pkg\n",
    "Pkg.activate(\".\")\n",
    "Pkg.instantiate()\n",
    "\n",
    "Pkg.resolve()\n",
    "\n",
    "mkpath(\"downloads\")\n",
    "mkpath(\"out\")"
   ]
  },
  {
   "cell_type": "code",
   "execution_count": 2,
   "metadata": {},
   "outputs": [],
   "source": [
    "using Pkg\n",
    "using Convex\n",
    "using SCS\n",
    "using XLSX\n",
    "using DataFrames\n",
    "using Plots\n",
    "using CSV\n",
    "using Statistics\n",
    "using Images\n",
    "using DelimitedFiles\n",
    "using JuMP\n",
    "using GLPK"
   ]
  },
  {
   "cell_type": "markdown",
   "metadata": {},
   "source": [
    "### 1- Portfolio Investment\n",
    "In questo problema abbiamo un qualche budget che dobbiamo investire in alcuni tipi di azioni cercando di ottenere un ritorno che superi una determinata soglia percentuale minimizzando il fattore di rischio.    \n",
    "Iniziamo scaricando e dando un occhio a dei dati sull'andamento dei prezzi di queste azioini:"
   ]
  },
  {
   "cell_type": "code",
   "execution_count": 11,
   "metadata": {},
   "outputs": [
    {
     "data": {
      "image/svg+xml": [
       "<?xml version=\"1.0\" encoding=\"utf-8\"?>\n",
       "<svg xmlns=\"http://www.w3.org/2000/svg\" xmlns:xlink=\"http://www.w3.org/1999/xlink\" width=\"600\" height=\"400\" viewBox=\"0 0 2400 1600\">\n",
       "<defs>\n",
       "  <clipPath id=\"clip0300\">\n",
       "    <rect x=\"0\" y=\"0\" width=\"2400\" height=\"1600\"/>\n",
       "  </clipPath>\n",
       "</defs>\n",
       "<path clip-path=\"url(#clip0300)\" d=\"\n",
       "M0 1600 L2400 1600 L2400 0 L0 0  Z\n",
       "  \" fill=\"#ffffff\" fill-rule=\"evenodd\" fill-opacity=\"1\"/>\n",
       "<defs>\n",
       "  <clipPath id=\"clip0301\">\n",
       "    <rect x=\"480\" y=\"0\" width=\"1681\" height=\"1600\"/>\n",
       "  </clipPath>\n",
       "</defs>\n",
       "<path clip-path=\"url(#clip0300)\" d=\"\n",
       "M167.279 1487.47 L2352.76 1487.47 L2352.76 47.2441 L167.279 47.2441  Z\n",
       "  \" fill=\"#ffffff\" fill-rule=\"evenodd\" fill-opacity=\"1\"/>\n",
       "<defs>\n",
       "  <clipPath id=\"clip0302\">\n",
       "    <rect x=\"167\" y=\"47\" width=\"2186\" height=\"1441\"/>\n",
       "  </clipPath>\n",
       "</defs>\n",
       "<polyline clip-path=\"url(#clip0302)\" style=\"stroke:#000000; stroke-width:2; stroke-opacity:0.1; fill:none\" points=\"\n",
       "  486.854,1487.47 486.854,47.2441 \n",
       "  \"/>\n",
       "<polyline clip-path=\"url(#clip0302)\" style=\"stroke:#000000; stroke-width:2; stroke-opacity:0.1; fill:none\" points=\"\n",
       "  916.389,1487.47 916.389,47.2441 \n",
       "  \"/>\n",
       "<polyline clip-path=\"url(#clip0302)\" style=\"stroke:#000000; stroke-width:2; stroke-opacity:0.1; fill:none\" points=\"\n",
       "  1345.92,1487.47 1345.92,47.2441 \n",
       "  \"/>\n",
       "<polyline clip-path=\"url(#clip0302)\" style=\"stroke:#000000; stroke-width:2; stroke-opacity:0.1; fill:none\" points=\"\n",
       "  1775.46,1487.47 1775.46,47.2441 \n",
       "  \"/>\n",
       "<polyline clip-path=\"url(#clip0302)\" style=\"stroke:#000000; stroke-width:2; stroke-opacity:0.1; fill:none\" points=\"\n",
       "  2205,1487.47 2205,47.2441 \n",
       "  \"/>\n",
       "<polyline clip-path=\"url(#clip0302)\" style=\"stroke:#000000; stroke-width:2; stroke-opacity:0.1; fill:none\" points=\"\n",
       "  167.279,1476.14 2352.76,1476.14 \n",
       "  \"/>\n",
       "<polyline clip-path=\"url(#clip0302)\" style=\"stroke:#000000; stroke-width:2; stroke-opacity:0.1; fill:none\" points=\"\n",
       "  167.279,1171.22 2352.76,1171.22 \n",
       "  \"/>\n",
       "<polyline clip-path=\"url(#clip0302)\" style=\"stroke:#000000; stroke-width:2; stroke-opacity:0.1; fill:none\" points=\"\n",
       "  167.279,866.305 2352.76,866.305 \n",
       "  \"/>\n",
       "<polyline clip-path=\"url(#clip0302)\" style=\"stroke:#000000; stroke-width:2; stroke-opacity:0.1; fill:none\" points=\"\n",
       "  167.279,561.388 2352.76,561.388 \n",
       "  \"/>\n",
       "<polyline clip-path=\"url(#clip0302)\" style=\"stroke:#000000; stroke-width:2; stroke-opacity:0.1; fill:none\" points=\"\n",
       "  167.279,256.472 2352.76,256.472 \n",
       "  \"/>\n",
       "<polyline clip-path=\"url(#clip0300)\" style=\"stroke:#000000; stroke-width:4; stroke-opacity:1; fill:none\" points=\"\n",
       "  167.279,1487.47 2352.76,1487.47 \n",
       "  \"/>\n",
       "<polyline clip-path=\"url(#clip0300)\" style=\"stroke:#000000; stroke-width:4; stroke-opacity:1; fill:none\" points=\"\n",
       "  167.279,1487.47 167.279,47.2441 \n",
       "  \"/>\n",
       "<polyline clip-path=\"url(#clip0300)\" style=\"stroke:#000000; stroke-width:4; stroke-opacity:1; fill:none\" points=\"\n",
       "  486.854,1487.47 486.854,1470.19 \n",
       "  \"/>\n",
       "<polyline clip-path=\"url(#clip0300)\" style=\"stroke:#000000; stroke-width:4; stroke-opacity:1; fill:none\" points=\"\n",
       "  916.389,1487.47 916.389,1470.19 \n",
       "  \"/>\n",
       "<polyline clip-path=\"url(#clip0300)\" style=\"stroke:#000000; stroke-width:4; stroke-opacity:1; fill:none\" points=\"\n",
       "  1345.92,1487.47 1345.92,1470.19 \n",
       "  \"/>\n",
       "<polyline clip-path=\"url(#clip0300)\" style=\"stroke:#000000; stroke-width:4; stroke-opacity:1; fill:none\" points=\"\n",
       "  1775.46,1487.47 1775.46,1470.19 \n",
       "  \"/>\n",
       "<polyline clip-path=\"url(#clip0300)\" style=\"stroke:#000000; stroke-width:4; stroke-opacity:1; fill:none\" points=\"\n",
       "  2205,1487.47 2205,1470.19 \n",
       "  \"/>\n",
       "<polyline clip-path=\"url(#clip0300)\" style=\"stroke:#000000; stroke-width:4; stroke-opacity:1; fill:none\" points=\"\n",
       "  167.279,1476.14 193.505,1476.14 \n",
       "  \"/>\n",
       "<polyline clip-path=\"url(#clip0300)\" style=\"stroke:#000000; stroke-width:4; stroke-opacity:1; fill:none\" points=\"\n",
       "  167.279,1171.22 193.505,1171.22 \n",
       "  \"/>\n",
       "<polyline clip-path=\"url(#clip0300)\" style=\"stroke:#000000; stroke-width:4; stroke-opacity:1; fill:none\" points=\"\n",
       "  167.279,866.305 193.505,866.305 \n",
       "  \"/>\n",
       "<polyline clip-path=\"url(#clip0300)\" style=\"stroke:#000000; stroke-width:4; stroke-opacity:1; fill:none\" points=\"\n",
       "  167.279,561.388 193.505,561.388 \n",
       "  \"/>\n",
       "<polyline clip-path=\"url(#clip0300)\" style=\"stroke:#000000; stroke-width:4; stroke-opacity:1; fill:none\" points=\"\n",
       "  167.279,256.472 193.505,256.472 \n",
       "  \"/>\n",
       "<g clip-path=\"url(#clip0300)\">\n",
       "<text style=\"fill:#000000; fill-opacity:1; font-family:Arial,Helvetica Neue,Helvetica,sans-serif; font-size:48px; text-anchor:middle;\" transform=\"rotate(0, 486.854, 1541.47)\" x=\"486.854\" y=\"1541.47\">2.5</text>\n",
       "</g>\n",
       "<g clip-path=\"url(#clip0300)\">\n",
       "<text style=\"fill:#000000; fill-opacity:1; font-family:Arial,Helvetica Neue,Helvetica,sans-serif; font-size:48px; text-anchor:middle;\" transform=\"rotate(0, 916.389, 1541.47)\" x=\"916.389\" y=\"1541.47\">5.0</text>\n",
       "</g>\n",
       "<g clip-path=\"url(#clip0300)\">\n",
       "<text style=\"fill:#000000; fill-opacity:1; font-family:Arial,Helvetica Neue,Helvetica,sans-serif; font-size:48px; text-anchor:middle;\" transform=\"rotate(0, 1345.92, 1541.47)\" x=\"1345.92\" y=\"1541.47\">7.5</text>\n",
       "</g>\n",
       "<g clip-path=\"url(#clip0300)\">\n",
       "<text style=\"fill:#000000; fill-opacity:1; font-family:Arial,Helvetica Neue,Helvetica,sans-serif; font-size:48px; text-anchor:middle;\" transform=\"rotate(0, 1775.46, 1541.47)\" x=\"1775.46\" y=\"1541.47\">10.0</text>\n",
       "</g>\n",
       "<g clip-path=\"url(#clip0300)\">\n",
       "<text style=\"fill:#000000; fill-opacity:1; font-family:Arial,Helvetica Neue,Helvetica,sans-serif; font-size:48px; text-anchor:middle;\" transform=\"rotate(0, 2205, 1541.47)\" x=\"2205\" y=\"1541.47\">12.5</text>\n",
       "</g>\n",
       "<g clip-path=\"url(#clip0300)\">\n",
       "<text style=\"fill:#000000; fill-opacity:1; font-family:Arial,Helvetica Neue,Helvetica,sans-serif; font-size:48px; text-anchor:end;\" transform=\"rotate(0, 143.279, 1493.64)\" x=\"143.279\" y=\"1493.64\">100</text>\n",
       "</g>\n",
       "<g clip-path=\"url(#clip0300)\">\n",
       "<text style=\"fill:#000000; fill-opacity:1; font-family:Arial,Helvetica Neue,Helvetica,sans-serif; font-size:48px; text-anchor:end;\" transform=\"rotate(0, 143.279, 1188.72)\" x=\"143.279\" y=\"1188.72\">120</text>\n",
       "</g>\n",
       "<g clip-path=\"url(#clip0300)\">\n",
       "<text style=\"fill:#000000; fill-opacity:1; font-family:Arial,Helvetica Neue,Helvetica,sans-serif; font-size:48px; text-anchor:end;\" transform=\"rotate(0, 143.279, 883.805)\" x=\"143.279\" y=\"883.805\">140</text>\n",
       "</g>\n",
       "<g clip-path=\"url(#clip0300)\">\n",
       "<text style=\"fill:#000000; fill-opacity:1; font-family:Arial,Helvetica Neue,Helvetica,sans-serif; font-size:48px; text-anchor:end;\" transform=\"rotate(0, 143.279, 578.888)\" x=\"143.279\" y=\"578.888\">160</text>\n",
       "</g>\n",
       "<g clip-path=\"url(#clip0300)\">\n",
       "<text style=\"fill:#000000; fill-opacity:1; font-family:Arial,Helvetica Neue,Helvetica,sans-serif; font-size:48px; text-anchor:end;\" transform=\"rotate(0, 143.279, 273.972)\" x=\"143.279\" y=\"273.972\">180</text>\n",
       "</g>\n",
       "<polyline clip-path=\"url(#clip0302)\" style=\"stroke:#009af9; stroke-width:4; stroke-opacity:1; fill:none\" points=\"\n",
       "  229.132,1446.71 400.946,1433.45 572.761,1358.59 744.575,1366.83 916.389,1433.75 1088.2,1389.69 1260.02,1350.82 1431.83,1308.89 1603.65,1285.11 1775.46,1315.9 \n",
       "  1947.27,1233.58 2119.09,1216.2 2290.9,1202.63 \n",
       "  \"/>\n",
       "<polyline clip-path=\"url(#clip0302)\" style=\"stroke:#e26f46; stroke-width:4; stroke-opacity:1; fill:none\" points=\"\n",
       "  229.132,740.374 400.946,678.934 572.761,609.87 744.575,595.539 916.389,461.985 1088.2,402.679 1260.02,402.527 1431.83,363.65 1603.65,333.158 1775.46,364.565 \n",
       "  1947.27,163.167 2119.09,88.0053 2290.9,104.776 \n",
       "  \"/>\n",
       "<polyline clip-path=\"url(#clip0302)\" style=\"stroke:#3da44d; stroke-width:4; stroke-opacity:1; fill:none\" points=\"\n",
       "  229.132,897.559 400.946,808.371 572.761,713.237 744.575,728.94 916.389,474.335 1088.2,449.636 1260.02,523.274 1431.83,532.574 1603.65,526.628 1775.46,415.028 \n",
       "  1947.27,470.218 2119.09,495.221 2290.9,459.394 \n",
       "  \"/>\n",
       "<path clip-path=\"url(#clip0300)\" d=\"\n",
       "M1845.53 372.684 L2280.76 372.684 L2280.76 130.764 L1845.53 130.764  Z\n",
       "  \" fill=\"#ffffff\" fill-rule=\"evenodd\" fill-opacity=\"1\"/>\n",
       "<polyline clip-path=\"url(#clip0300)\" style=\"stroke:#000000; stroke-width:4; stroke-opacity:1; fill:none\" points=\"\n",
       "  1845.53,372.684 2280.76,372.684 2280.76,130.764 1845.53,130.764 1845.53,372.684 \n",
       "  \"/>\n",
       "<polyline clip-path=\"url(#clip0300)\" style=\"stroke:#009af9; stroke-width:4; stroke-opacity:1; fill:none\" points=\"\n",
       "  1869.53,191.244 2013.53,191.244 \n",
       "  \"/>\n",
       "<g clip-path=\"url(#clip0300)\">\n",
       "<text style=\"fill:#000000; fill-opacity:1; font-family:Arial,Helvetica Neue,Helvetica,sans-serif; font-size:48px; text-anchor:start;\" transform=\"rotate(0, 2037.53, 208.744)\" x=\"2037.53\" y=\"208.744\">Microsoft</text>\n",
       "</g>\n",
       "<polyline clip-path=\"url(#clip0300)\" style=\"stroke:#e26f46; stroke-width:4; stroke-opacity:1; fill:none\" points=\"\n",
       "  1869.53,251.724 2013.53,251.724 \n",
       "  \"/>\n",
       "<g clip-path=\"url(#clip0300)\">\n",
       "<text style=\"fill:#000000; fill-opacity:1; font-family:Arial,Helvetica Neue,Helvetica,sans-serif; font-size:48px; text-anchor:start;\" transform=\"rotate(0, 2037.53, 269.224)\" x=\"2037.53\" y=\"269.224\">Apple</text>\n",
       "</g>\n",
       "<polyline clip-path=\"url(#clip0300)\" style=\"stroke:#3da44d; stroke-width:4; stroke-opacity:1; fill:none\" points=\"\n",
       "  1869.53,312.204 2013.53,312.204 \n",
       "  \"/>\n",
       "<g clip-path=\"url(#clip0300)\">\n",
       "<text style=\"fill:#000000; fill-opacity:1; font-family:Arial,Helvetica Neue,Helvetica,sans-serif; font-size:48px; text-anchor:start;\" transform=\"rotate(0, 2037.53, 329.704)\" x=\"2037.53\" y=\"329.704\">FB</text>\n",
       "</g>\n",
       "</svg>\n"
      ]
     },
     "execution_count": 11,
     "metadata": {},
     "output_type": "execute_result"
    }
   ],
   "source": [
    "download(\"https://github.com/JuliaAcademy/DataScience/blob/master/data/stock_prices.xlsx?raw=true\", \"downloads/stock_prices.xlsx\")\n",
    "prices_matrix = Matrix(T)\n",
    "T = DataFrame(XLSX.readtable(\"downloads/stock_prices.xlsx\",\"Sheet2\")...)\n",
    "M1 = prices_matrix[1:end-1,:]\n",
    "M2 = prices_matrix[2:end,:]\n",
    "R = (M2.-M1)./M1\n",
    "\n",
    "plot(T[!,:MSFT],label=\"Microsoft\")\n",
    "plot!(T[!,:AAPL],label=\"Apple\")\n",
    "plot!(T[!,:FB],label=\"FB\")"
   ]
  },
  {
   "cell_type": "markdown",
   "metadata": {},
   "source": [
    "Il nostro problema avrà forma:\n",
    "$$ min(x^TMx) $$\n",
    "\n",
    "$$\n",
    " \\begin{eqnarray}   \n",
    " x = & \\begin{vmatrix}\n",
    " x_1 = \\mbox{porzione di budget investito in MSFT}\\\\\n",
    "x_2 = \\mbox{porzione di budget investito in FB}\\\\  \n",
    "x_3 = \\mbox{porzione di budget investito in AAPL}\\\\  \n",
    "\\end{vmatrix}  & : \\begin{array} x_1 + x_2 + x_3 = 1 \\\\ x >= 0 \\end{array}\\\\\n",
    "\\\\\n",
    "r = & \\begin{vmatrix}\n",
    " r_1 = \\mbox{ritorno proporzionale di MSFT}\\\\\n",
    "r_2 = \\mbox{ritorno proporzionale di FB}\\\\  \n",
    "r_3 = \\mbox{ritorno proporzionale di AAPL}\\\\  \n",
    "\\end{vmatrix}  &  \\\\ \n",
    " &\\sum_{i=1}^{3}(r_i*x_i) >= 0.2\n",
    "\\end{eqnarray}  \n",
    "$$\n",
    "\n",
    "Le variabili $r$ sono variabili aleatorie che quindi tratteremo con il loro valore atteso \n",
    "$ E[ \\sum_{i=1}^{3}(r_i*x_i)] = E[ \\sum_{i=1}^{3}(E[r_i]*x_i)] $  \n",
    "Iniziamo a definire il modello, partendo dalla matrice di rischio che sarà al matrice di covarianza:"
   ]
  },
  {
   "cell_type": "code",
   "execution_count": 12,
   "metadata": {},
   "outputs": [],
   "source": [
    "risk_matrix = cov(R);"
   ]
  },
  {
   "cell_type": "markdown",
   "metadata": {},
   "source": [
    "NB: è definita positiva:"
   ]
  },
  {
   "cell_type": "code",
   "execution_count": 13,
   "metadata": {},
   "outputs": [
    {
     "data": {
      "text/plain": [
       "true"
      ]
     },
     "execution_count": 13,
     "metadata": {},
     "output_type": "execute_result"
    }
   ],
   "source": [
    "isposdef(risk_matrix)"
   ]
  },
  {
   "cell_type": "markdown",
   "metadata": {},
   "source": [
    "Calcoliamo il valore atteso di r:"
   ]
  },
  {
   "cell_type": "code",
   "execution_count": 14,
   "metadata": {},
   "outputs": [
    {
     "data": {
      "text/plain": [
       "3-element Array{Float64,1}:\n",
       " 0.012532748705136572\n",
       " 0.016563036855293173\n",
       " 0.02114580465503291"
      ]
     },
     "execution_count": 14,
     "metadata": {},
     "output_type": "execute_result"
    }
   ],
   "source": [
    "r = mean(R,dims=1)[:]"
   ]
  },
  {
   "cell_type": "markdown",
   "metadata": {},
   "source": [
    "Definiamo il problema:"
   ]
  },
  {
   "cell_type": "code",
   "execution_count": 15,
   "metadata": {},
   "outputs": [
    {
     "data": {
      "text/plain": [
       "minimize\n",
       "└─ * (Convex.NotDcp; real)\n",
       "   ├─ * (affine; real)\n",
       "   │  ├─ adjoint (affine; real)\n",
       "   │  │  └─ …\n",
       "   │  └─ 3×3 Array{Float64,2}\n",
       "   └─ 3-element real variable (id: 108…509)\n",
       "subject to\n",
       "├─ == constraint (affine)\n",
       "│  ├─ sum (affine; real)\n",
       "│  │  └─ 3-element real variable (id: 108…509)\n",
       "│  └─ 1\n",
       "├─ >= constraint (affine)\n",
       "│  ├─ * (affine; real)\n",
       "│  │  ├─ [0.0125327 0.016563 0.0211458]\n",
       "│  │  └─ 3-element real variable (id: 108…509)\n",
       "│  └─ 0.02\n",
       "├─ >= constraint (affine)\n",
       "│  ├─ index (affine; real)\n",
       "│  │  └─ 3-element real variable (id: 108…509)\n",
       "│  └─ 0\n",
       "├─ >= constraint (affine)\n",
       "│  ├─ index (affine; real)\n",
       "│  │  └─ 3-element real variable (id: 108…509)\n",
       "│  └─ 0\n",
       "└─ >= constraint (affine)\n",
       "   ├─ index (affine; real)\n",
       "   │  └─ 3-element real variable (id: 108…509)\n",
       "   └─ 0\n",
       "\n",
       "status: `solve!` not called yet"
      ]
     },
     "execution_count": 15,
     "metadata": {},
     "output_type": "execute_result"
    },
    {
     "name": "stderr",
     "output_type": "stream",
     "text": [
      "┌ Warning: Expression not DCP compliant. Trying to solve non-DCP compliant problems can lead to unexpected behavior.\n",
      "└ @ Convex C:\\Users\\i am\\.julia\\packages\\Convex\\aYxJA\\src\\dcp.jl:25\n"
     ]
    }
   ],
   "source": [
    "x = Variable(length(r))\n",
    "problem = minimize(x'*risk_matrix*x,[sum(x)==1;r'*x>=0.02;x.>=0])"
   ]
  },
  {
   "cell_type": "markdown",
   "metadata": {},
   "source": [
    "Il pacchetto Convex.jl richiede che i problemi siano definiti seguendo linee guida DCP: http://cvxr.com/cvx/doc/dcp.html  \n",
    "Convertiamo il nostro problema in un problemas DCP compliant:  "
   ]
  },
  {
   "cell_type": "code",
   "execution_count": 16,
   "metadata": {},
   "outputs": [
    {
     "data": {
      "text/plain": [
       "minimize\n",
       "└─ * (convex; positive)\n",
       "   ├─ 1\n",
       "   └─ qol_elem (convex; positive)\n",
       "      ├─ norm2 (convex; positive)\n",
       "      │  └─ …\n",
       "      └─ [1.0]\n",
       "subject to\n",
       "├─ == constraint (affine)\n",
       "│  ├─ sum (affine; real)\n",
       "│  │  └─ 3-element real variable (id: 108…509)\n",
       "│  └─ 1\n",
       "├─ >= constraint (affine)\n",
       "│  ├─ * (affine; real)\n",
       "│  │  ├─ [0.0125327 0.016563 0.0211458]\n",
       "│  │  └─ 3-element real variable (id: 108…509)\n",
       "│  └─ 0.02\n",
       "├─ >= constraint (affine)\n",
       "│  ├─ index (affine; real)\n",
       "│  │  └─ 3-element real variable (id: 108…509)\n",
       "│  └─ 0\n",
       "├─ >= constraint (affine)\n",
       "│  ├─ index (affine; real)\n",
       "│  │  └─ 3-element real variable (id: 108…509)\n",
       "│  └─ 0\n",
       "└─ >= constraint (affine)\n",
       "   ├─ index (affine; real)\n",
       "   │  └─ 3-element real variable (id: 108…509)\n",
       "   └─ 0\n",
       "\n",
       "status: `solve!` not called yet"
      ]
     },
     "execution_count": 16,
     "metadata": {},
     "output_type": "execute_result"
    }
   ],
   "source": [
    "problem = minimize(Convex.quadform(x,risk_matrix),[sum(x)==1;r'*x>=0.02;x.>=0])"
   ]
  },
  {
   "cell_type": "code",
   "execution_count": 17,
   "metadata": {},
   "outputs": [
    {
     "name": "stdout",
     "output_type": "stream",
     "text": [
      "----------------------------------------------------------------------------\n",
      "\tSCS v2.1.2 - Splitting Conic Solver\n",
      "\t(c) Brendan O'Donoghue, Stanford University, 2012\n",
      "----------------------------------------------------------------------------\n",
      "Lin-sys: sparse-indirect, nnz in A = 24, CG tol ~ 1/iter^(2.00)\n",
      "eps = 1.00e-005, alpha = 1.50, max_iters = 5000, normalize = 1, scale = 1.00\n",
      "acceleration_lookback = 10, rho_x = 1.00e-003\n",
      "Variables n = 6, constraints m = 14\n",
      "Cones:\tprimal zero / dual free vars: 2\n",
      "\tlinear vars: 5\n",
      "\tsoc vars: 7, soc blks: 2\n",
      "Setup time: 4.04e-005s\n",
      "----------------------------------------------------------------------------\n",
      " Iter | pri res | dua res | rel gap | pri obj | dua obj | kap/tau | time (s)\n",
      "----------------------------------------------------------------------------\n",
      "     0|1.71e+019 2.86e+019 1.00e+000 -3.40e+019 5.17e+018 5.49e+019 1.80e-005 \n",
      "    97|4.78e-011 1.28e-010 1.08e-010 4.85e-004 4.85e-004 3.76e-017 3.86e-004 \n",
      "----------------------------------------------------------------------------\n",
      "Status: Solved\n",
      "Timing: Solve time: 3.89e-004s\n",
      "\tLin-sys: avg # CG iterations: 3.43, avg solve time: 5.06e-007s\n",
      "\tCones: avg projection time: 6.02e-008s\n",
      "\tAcceleration: avg step time: 2.84e-006s\n",
      "----------------------------------------------------------------------------\n",
      "Error metrics:\n",
      "dist(s, K) = 6.5489e-018, dist(y, K*) = 0.0000e+000, s'y/|s||y| = 1.6666e-017\n",
      "primal res: |Ax + s - b|_2 / (1 + |b|_2) = 4.7779e-011\n",
      "dual res:   |A'y + c|_2 / (1 + |c|_2) = 1.2839e-010\n",
      "rel gap:    |c'x + b'y| / (1 + |c'x| + |b'y|) = 1.0795e-010\n",
      "----------------------------------------------------------------------------\n",
      "c'x = 0.0005, -b'y = 0.0005\n",
      "============================================================================\n"
     ]
    }
   ],
   "source": [
    "solve!(problem, SCS.Optimizer)"
   ]
  },
  {
   "cell_type": "code",
   "execution_count": 19,
   "metadata": {},
   "outputs": [
    {
     "name": "stdout",
     "output_type": "stream",
     "text": [
      "((r' * x.value) * 100)[1] = 2.0000000000662013\n",
      "x.value .* 1000 = [67.95414742252918; 122.30857118794069; 809.7372814405625]\n"
     ]
    }
   ],
   "source": [
    "@show ((r'*x.value)*100)[1]\n",
    "\n",
    "@show x.value .* 1000;"
   ]
  },
  {
   "cell_type": "markdown",
   "metadata": {},
   "source": [
    "Quindi la soluzione che minimizza il rischio è di investire 67\\\\$ in azioni MSFT, 122\\\\$ in azioni FB e 809\\\\$ in azioni AAPL.  \n",
    "Così facendo ci aspetteremo di avere un ritorno del 2%"
   ]
  },
  {
   "cell_type": "markdown",
   "metadata": {},
   "source": [
    "### 2- Image Recovery\n",
    "Per questo problema dovremo cercare di ricostruire un immagine partendo dall immagine corrotta.  \n",
    "Per simulare il problema prenderemo un immagine e azzereremo circa 4000 pixel casuali.  "
   ]
  },
  {
   "cell_type": "code",
   "execution_count": 20,
   "metadata": {},
   "outputs": [
    {
     "data": {
      "image/png": "[encoded data removed]",
      "text/plain": [
       "283×283 Array{Gray{N0f8},2} with eltype Gray{Normed{UInt8,8}}:\n",
       " Gray{N0f8}(0.102)  Gray{N0f8}(0.063)  …  Gray{N0f8}(0.667)\n",
       " Gray{N0f8}(0.067)  Gray{N0f8}(0.098)     Gray{N0f8}(0.502)\n",
       " Gray{N0f8}(0.078)  Gray{N0f8}(0.086)     Gray{N0f8}(0.612)\n",
       " Gray{N0f8}(0.086)  Gray{N0f8}(0.067)     Gray{N0f8}(0.145)\n",
       " Gray{N0f8}(0.078)  Gray{N0f8}(0.102)     Gray{N0f8}(0.231)\n",
       " Gray{N0f8}(0.075)  Gray{N0f8}(0.075)  …  Gray{N0f8}(0.169)\n",
       " Gray{N0f8}(0.125)  Gray{N0f8}(0.098)     Gray{N0f8}(0.192)\n",
       " Gray{N0f8}(0.0)    Gray{N0f8}(0.447)     Gray{N0f8}(0.137)\n",
       " Gray{N0f8}(0.459)  Gray{N0f8}(0.455)     Gray{N0f8}(0.118)\n",
       " Gray{N0f8}(0.451)  Gray{N0f8}(0.467)     Gray{N0f8}(0.137)\n",
       " Gray{N0f8}(0.459)  Gray{N0f8}(0.459)  …  Gray{N0f8}(0.125)\n",
       " Gray{N0f8}(0.467)  Gray{N0f8}(0.451)     Gray{N0f8}(0.118)\n",
       " Gray{N0f8}(0.451)  Gray{N0f8}(0.451)     Gray{N0f8}(0.118)\n",
       " ⋮                                     ⋱  \n",
       " Gray{N0f8}(0.494)  Gray{N0f8}(0.475)     Gray{N0f8}(0.443)\n",
       " Gray{N0f8}(0.475)  Gray{N0f8}(0.482)     Gray{N0f8}(0.431)\n",
       " Gray{N0f8}(0.494)  Gray{N0f8}(0.502)     Gray{N0f8}(0.451)\n",
       " Gray{N0f8}(0.471)  Gray{N0f8}(0.494)     Gray{N0f8}(0.42)\n",
       " Gray{N0f8}(0.459)  Gray{N0f8}(0.482)  …  Gray{N0f8}(0.424)\n",
       " Gray{N0f8}(0.443)  Gray{N0f8}(0.459)     Gray{N0f8}(0.349)\n",
       " Gray{N0f8}(0.475)  Gray{N0f8}(0.478)     Gray{N0f8}(0.361)\n",
       " Gray{N0f8}(0.0)    Gray{N0f8}(0.478)     Gray{N0f8}(0.322)\n",
       " Gray{N0f8}(0.0)    Gray{N0f8}(0.553)     Gray{N0f8}(0.373)\n",
       " Gray{N0f8}(0.553)  Gray{N0f8}(0.545)  …  Gray{N0f8}(0.408)\n",
       " Gray{N0f8}(0.565)  Gray{N0f8}(0.553)     Gray{N0f8}(0.42)\n",
       " Gray{N0f8}(0.569)  Gray{N0f8}(0.553)     Gray{N0f8}(0.427)"
      ]
     },
     "execution_count": 20,
     "metadata": {},
     "output_type": "execute_result"
    }
   ],
   "source": [
    "download(\"https://github.com/JuliaAcademy/DataScience/blob/master/data/khiam-small.jpg?raw=true\", \"downloads/khiam-small.jpg\")\n",
    "Kref = load(\"downloads/khiam-small.jpg\")\n",
    "K = copy(Kref)\n",
    "Gray.(K)\n",
    "\n",
    "#creiamo dei pixel mancanti\n",
    "p = prod(size(K))\n",
    "missingids = rand(1:p,4000)\n",
    "K[missingids] .= RGBX{N0f8}(0.0,0.0,0.0)\n",
    "gK =Gray.(K)"
   ]
  },
  {
   "cell_type": "markdown",
   "metadata": {},
   "source": [
    "Tratteremo l'immagine in scala di grigio per comodità di conversione in matrice."
   ]
  },
  {
   "cell_type": "code",
   "execution_count": 21,
   "metadata": {},
   "outputs": [],
   "source": [
    "Y = Float64.(gK);"
   ]
  },
  {
   "cell_type": "markdown",
   "metadata": {},
   "source": [
    "Il problema di ricostruzione di immagine è ora trasformato in problema di ricostruzione di matrice.  \n",
    "L'algoritmo di Convex.jl che useremo ricreererà la matrice (immagine) X tale che X abbia norma nucleare minima e che i valori di Y che noi dichiariamo essere definiti non vengano cambiati."
   ]
  },
  {
   "cell_type": "code",
   "execution_count": 22,
   "metadata": {},
   "outputs": [
    {
     "data": {
      "text/plain": [
       "1-element Array{Constraint,1}:\n",
       " == constraint (affine)\n",
       "├─ index (affine; real)\n",
       "│  └─ 283×283 real variable (id: 178…722)\n",
       "└─ 76203-element Array{Float64,1}"
      ]
     },
     "execution_count": 22,
     "metadata": {},
     "output_type": "execute_result"
    }
   ],
   "source": [
    "correctids = findall(Y[:].!=0)\n",
    "X = Convex.Variable(size(Y))\n",
    "problem = minimize(nuclearnorm(X))\n",
    "problem.constraints += X[correctids]==Y[correctids]"
   ]
  },
  {
   "cell_type": "code",
   "execution_count": 24,
   "metadata": {},
   "outputs": [
    {
     "name": "stdout",
     "output_type": "stream",
     "text": [
      "----------------------------------------------------------------------------\n",
      "\tSCS v2.1.2 - Splitting Conic Solver\n",
      "\t(c) Brendan O'Donoghue, Stanford University, 2012\n",
      "----------------------------------------------------------------------------\n",
      "Lin-sys: sparse-indirect, nnz in A = 396843, CG tol ~ 1/iter^(2.00)\n",
      "eps = 1.00e-003, alpha = 1.50, max_iters = 5000, normalize = 1, scale = 1.00\n",
      "acceleration_lookback = 10, rho_x = 1.00e-003\n",
      "Variables n = 240268, constraints m = 396560\n",
      "Cones:\tprimal zero / dual free vars: 236099\n",
      "\tsd vars: 160461, sd blks: 1\n",
      "Setup time: 6.23e-002s\n",
      "----------------------------------------------------------------------------\n",
      " Iter | pri res | dua res | rel gap | pri obj | dua obj | kap/tau | time (s)\n",
      "----------------------------------------------------------------------------\n",
      "     0|1.04e+021 5.63e+019 1.00e+000 -1.51e+024 1.40e+022 1.13e+024 2.88e-001 \n",
      "   100|3.89e-002 2.37e-002 4.06e-004 4.35e+002 4.34e+002 3.28e-015 2.50e+001 \n",
      "   200|2.04e-002 1.05e-002 1.72e-004 4.39e+002 4.39e+002 7.72e-015 4.67e+001 \n",
      "   300|4.33e-003 2.16e-003 2.80e-005 4.40e+002 4.40e+002 1.71e-014 6.80e+001 \n",
      "   400|3.22e-003 1.97e-003 1.94e-005 4.40e+002 4.40e+002 6.68e-015 8.88e+001 \n",
      "   480|9.16e-004 4.82e-004 1.52e-005 4.40e+002 4.40e+002 6.14e-015 1.05e+002 \n",
      "----------------------------------------------------------------------------\n",
      "Status: Solved\n",
      "Timing: Solve time: 1.05e+002s\n",
      "\tLin-sys: avg # CG iterations: 6.40, avg solve time: 2.20e-002s\n",
      "\tCones: avg projection time: 1.40e-001s\n",
      "\tAcceleration: avg step time: 4.76e-002s\n",
      "----------------------------------------------------------------------------\n",
      "Error metrics:\n",
      "dist(s, K) = 6.2372e-010, dist(y, K*) = 7.9680e-010, s'y/|s||y| = 5.2812e-013\n",
      "primal res: |Ax + s - b|_2 / (1 + |b|_2) = 9.1625e-004\n",
      "dual res:   |A'y + c|_2 / (1 + |c|_2) = 4.8203e-004\n",
      "rel gap:    |c'x + b'y| / (1 + |c'x| + |b'y|) = 1.5163e-005\n",
      "----------------------------------------------------------------------------\n",
      "c'x = 440.1549, -b'y = 440.1415\n",
      "============================================================================\n"
     ]
    }
   ],
   "source": [
    "solve!(problem, SCS.Optimizer(eps=1e-3, alpha=1.5))"
   ]
  },
  {
   "cell_type": "code",
   "execution_count": 25,
   "metadata": {},
   "outputs": [
    {
     "name": "stdout",
     "output_type": "stream",
     "text": [
      "norm(float.(Gray.(Kref)) - X.value) = 3.584411093374155\n",
      "norm(-(X.value)) = 124.23019341044973\n"
     ]
    },
    {
     "data": {
      "image/png": "[encoded data removed]",
      "text/plain": [
       "283×283 reinterpret(Gray{Float64}, ::Array{Float64,2}):\n",
       " Gray{Float64}(0.101751)   …  Gray{Float64}(0.66705)\n",
       " Gray{Float64}(0.0666956)     Gray{Float64}(0.501604)\n",
       " Gray{Float64}(0.0781655)     Gray{Float64}(0.612342)\n",
       " Gray{Float64}(0.085884)      Gray{Float64}(0.144849)\n",
       " Gray{Float64}(0.078435)      Gray{Float64}(0.231361)\n",
       " Gray{Float64}(0.0744439)  …  Gray{Float64}(0.168308)\n",
       " Gray{Float64}(0.125723)      Gray{Float64}(0.192019)\n",
       " Gray{Float64}(0.278966)      Gray{Float64}(0.13718)\n",
       " Gray{Float64}(0.459144)      Gray{Float64}(0.117781)\n",
       " Gray{Float64}(0.451173)      Gray{Float64}(0.13725)\n",
       " Gray{Float64}(0.459075)   …  Gray{Float64}(0.125212)\n",
       " Gray{Float64}(0.466812)      Gray{Float64}(0.11735)\n",
       " Gray{Float64}(0.451209)      Gray{Float64}(0.117476)\n",
       " ⋮                         ⋱  \n",
       " Gray{Float64}(0.493742)      Gray{Float64}(0.44322)\n",
       " Gray{Float64}(0.474651)      Gray{Float64}(0.431197)\n",
       " Gray{Float64}(0.494214)      Gray{Float64}(0.451014)\n",
       " Gray{Float64}(0.470644)      Gray{Float64}(0.419478)\n",
       " Gray{Float64}(0.458675)   …  Gray{Float64}(0.423371)\n",
       " Gray{Float64}(0.443376)      Gray{Float64}(0.34927)\n",
       " Gray{Float64}(0.474308)      Gray{Float64}(0.36068)\n",
       " Gray{Float64}(0.492152)      Gray{Float64}(0.321573)\n",
       " Gray{Float64}(0.534633)      Gray{Float64}(0.372523)\n",
       " Gray{Float64}(0.552777)   …  Gray{Float64}(0.407848)\n",
       " Gray{Float64}(0.5653)        Gray{Float64}(0.419347)\n",
       " Gray{Float64}(0.568545)      Gray{Float64}(0.427371)"
      ]
     },
     "execution_count": 25,
     "metadata": {},
     "output_type": "execute_result"
    }
   ],
   "source": [
    "@show norm(float.(Gray.(Kref))-X.value)\n",
    "@show norm(-X.value)\n",
    "colorview(Gray, X.value)"
   ]
  },
  {
   "cell_type": "markdown",
   "metadata": {},
   "source": [
    "A vista è difficile distinguere le immagini, è quindi un buon risultato.\n",
    "\n",
    "### 3- Diet problem\n",
    "Immaginiamo di avere una dieta che stabiliscie i limiti giornalieri di certe caratteristiche nutritive che possiamo mangiare.  \n",
    "Vogliamo sapere quali ammontari di alimenti dovremmo comprare per raggiungere i limiti minimizzando la spesa.  \n",
    "Risolveremo questo problema con JuMP.jl.  \n",
    "Iniziamo dichiarando i nostri dati:  "
   ]
  },
  {
   "cell_type": "code",
   "execution_count": 26,
   "metadata": {},
   "outputs": [
    {
     "data": {
      "text/plain": [
       "2-dimensional DenseAxisArray{Float64,2,...} with index sets:\n",
       "    Dimension 1, [\"calories\", \"protein\", \"fat\", \"sodium\"]\n",
       "    Dimension 2, [\"min\", \"max\"]\n",
       "And data, a 4×2 Array{Float64,2}:\n",
       " 1800.0  2200.0\n",
       "   91.0    Inf\n",
       "    0.0    65.0\n",
       "    0.0  1779.0"
      ]
     },
     "execution_count": 26,
     "metadata": {},
     "output_type": "execute_result"
    }
   ],
   "source": [
    "category_data = JuMP.Containers.DenseAxisArray(\n",
    "    [1800 2200;\n",
    "     91   Inf;\n",
    "     0    65;\n",
    "     0    1779], \n",
    "    [\"calories\", \"protein\", \"fat\", \"sodium\"], \n",
    "    [\"min\", \"max\"])"
   ]
  },
  {
   "cell_type": "markdown",
   "metadata": {},
   "source": [
    "Quello che abbiamo dichiarato adesso è praticamente una matrice le cue colonne possono essere indicizzate con \"min\", \"max\" e le cui righe possono essere indicizzate con \"calories\", \"protein\", \"fat\", \"sodium\".  \n",
    "\n",
    "| | min | max|\n",
    "|---|---|---|\n",
    "|calories|1800|2200|\n",
    "|protein| 91|inf|\n",
    "|fat|0|65|\n",
    "|sodium|0|1779|"
   ]
  },
  {
   "cell_type": "code",
   "execution_count": 27,
   "metadata": {},
   "outputs": [
    {
     "name": "stdout",
     "output_type": "stream",
     "text": [
      "category_data[\"calories\", \"max\"] = 2200.0\n",
      "category_data[\"fat\", \"min\"] = 0.0\n"
     ]
    }
   ],
   "source": [
    "@show category_data[\"calories\",\"max\"] \n",
    "@show category_data[\"fat\",\"min\"]\n",
    ";"
   ]
  },
  {
   "cell_type": "markdown",
   "metadata": {},
   "source": [
    "Similarmente creiamo un dataset per i prezzi di alcuni alimenti:"
   ]
  },
  {
   "cell_type": "code",
   "execution_count": 28,
   "metadata": {},
   "outputs": [],
   "source": [
    "foods = [\"hamburger\", \"chicken\", \"hot dog\", \"fries\", \"macaroni\", \"pizza\",\"salad\", \"milk\", \"ice cream\"]\n",
    "cost = JuMP.Containers.DenseAxisArray(\n",
    "    [2.49, 2.89, 1.50, 1.89, 2.09, 1.99, 2.49, 0.89, 1.59],\n",
    "    foods);"
   ]
  },
  {
   "cell_type": "markdown",
   "metadata": {},
   "source": [
    "Come ultimo dataset creiamone uno che associ agli alimenti dei coefficienti nutrizionali:"
   ]
  },
  {
   "cell_type": "code",
   "execution_count": 29,
   "metadata": {},
   "outputs": [
    {
     "name": "stdout",
     "output_type": "stream",
     "text": [
      "food_data[\"chicken\", \"fat\"] = 10.0\n",
      "food_data[\"milk\", \"sodium\"] = 125.0\n"
     ]
    }
   ],
   "source": [
    "food_data = JuMP.Containers.DenseAxisArray(\n",
    "    [410 24 26 730;#una riga è una riga contenente valori per \"calories\", \"protein\", \"fat\", \"sodium\" dell alimento\n",
    "     420 32 10 1190;\n",
    "     560 20 32 1800;\n",
    "     380  4 19 270;\n",
    "     320 12 10 930;\n",
    "     320 15 12 820;\n",
    "     320 31 12 1230;\n",
    "     100  8 2.5 125;\n",
    "     330  8 10 180], \n",
    "    foods, \n",
    "    [\"calories\", \"protein\", \"fat\", \"sodium\"])\n",
    "\n",
    "@show food_data[\"chicken\", \"fat\"]\n",
    "@show food_data[\"milk\", \"sodium\"]\n",
    ";"
   ]
  },
  {
   "cell_type": "markdown",
   "metadata": {},
   "source": [
    "Non ci rimane che creare il modello:"
   ]
  },
  {
   "cell_type": "code",
   "execution_count": 30,
   "metadata": {},
   "outputs": [
    {
     "data": {
      "text/plain": [
       "1-dimensional DenseAxisArray{ConstraintRef{Model,MathOptInterface.ConstraintIndex{MathOptInterface.ScalarAffineFunction{Float64},MathOptInterface.EqualTo{Float64}},ScalarShape},1,...} with index sets:\n",
       "    Dimension 1, [\"calories\", \"protein\", \"fat\", \"sodium\"]\n",
       "And data, a 4-element Array{ConstraintRef{Model,MathOptInterface.ConstraintIndex{MathOptInterface.ScalarAffineFunction{Float64},MathOptInterface.EqualTo{Float64}},ScalarShape},1}:\n",
       " 410 buy[hamburger] + 420 buy[chicken] + 560 buy[hot dog] + 380 buy[fries] + 320 buy[macaroni] + 320 buy[pizza] + 320 buy[salad] + 100 buy[milk] + 330 buy[ice cream] - nutrition[calories] == 0.0\n",
       " 24 buy[hamburger] + 32 buy[chicken] + 20 buy[hot dog] + 4 buy[fries] + 12 buy[macaroni] + 15 buy[pizza] + 31 buy[salad] + 8 buy[milk] + 8 buy[ice cream] - nutrition[protein] == 0.0\n",
       " 26 buy[hamburger] + 10 buy[chicken] + 32 buy[hot dog] + 19 buy[fries] + 10 buy[macaroni] + 12 buy[pizza] + 12 buy[salad] + 2.5 buy[milk] + 10 buy[ice cream] - nutrition[fat] == 0.0\n",
       " 730 buy[hamburger] + 1190 buy[chicken] + 1800 buy[hot dog] + 270 buy[fries] + 930 buy[macaroni] + 820 buy[pizza] + 1230 buy[salad] + 125 buy[milk] + 180 buy[ice cream] - nutrition[sodium] == 0.0"
      ]
     },
     "execution_count": 30,
     "metadata": {},
     "output_type": "execute_result"
    }
   ],
   "source": [
    "model = Model(GLPK.Optimizer)\n",
    "\n",
    "categories = [\"calories\", \"protein\", \"fat\", \"sodium\"]\n",
    "\n",
    "# add the variables https://jump.dev/JuMP.jl/dev/variables/\n",
    "# https://jump.dev/JuMP.jl/dev/variables/#variables-1\n",
    "@variables(model, begin#var definite tra beginning e end\n",
    "    # Variables for nutrition info\n",
    "    category_data[c, \"min\"] <= nutrition[c = categories] <= category_data[c, \"max\"]\n",
    "    # Variables for which foods to buy\n",
    "    buy[foods] >= 0\n",
    "end)\n",
    "\n",
    "# Objective - minimize cost\n",
    "@objective(model, Min, sum(cost[f] * buy[f] for f in foods))\n",
    "# minimizza sommatoria di (i comprati * costo di un i) per ogni alimento i\n",
    "\n",
    "# Nutrition constraints\n",
    "@constraint(model, [c in categories],\n",
    "    sum(food_data[f, c] * buy[f] for f in foods) == nutrition[c]\n",
    ")# vincolo sulla soluzione"
   ]
  },
  {
   "cell_type": "markdown",
   "metadata": {},
   "source": [
    "$$ min(\\sum_{f:foods}(cost_fbuy_f)) $$\n",
    "\n",
    "$$\n",
    " \\begin{eqnarray}   \n",
    " & cost = [ c_f : \\mbox{costo dell'alimento }f]&\\\\\n",
    " & buy = [ x_f : \\mbox{numero di alimenti }f\\mbox{ da comprare}]&\\\\\n",
    " & food\\_data = \\{ d_{fc} : \\mbox{quantitativo di categoria }c\\mbox{ dell'alimento }f \\}&\\\\\n",
    " & nutrition = \\{ n_c :  \\sum_{f:foods}(x_f*d_{fc})\\} &\\\\\n",
    " & category\\_data[c, \"min\"] \\leq n_c  \\leq category\\_data[c, \"max\"] & \\forall c:\\mbox{category}\n",
    "\\end{eqnarray}  \n",
    "$$\n",
    "\n",
    "Avendo formulato il problema, possiamo risolverlo con JuMP:"
   ]
  },
  {
   "cell_type": "code",
   "execution_count": 31,
   "metadata": {},
   "outputs": [
    {
     "name": "stdout",
     "output_type": "stream",
     "text": [
      "JuMP.primal_status(model) == MOI.FEASIBLE_POINT = true\n",
      "JuMP.objective_value(model) ≈ 11.8288 = false\n",
      "atol = 0.0001 = 0.0001\n"
     ]
    },
    {
     "data": {
      "text/plain": [
       "0.0001"
      ]
     },
     "execution_count": 31,
     "metadata": {},
     "output_type": "execute_result"
    }
   ],
   "source": [
    "JuMP.optimize!(model)\n",
    "term_status = JuMP.termination_status(model)\n",
    "is_optimal = term_status == MOI.OPTIMAL\n",
    "@show JuMP.primal_status(model) == MOI.FEASIBLE_POINT\n",
    "@show JuMP.objective_value(model) ≈ 11.8288 atol = 1e-4"
   ]
  },
  {
   "cell_type": "markdown",
   "metadata": {},
   "source": [
    "### 4- Passport Problem\n",
    "Nel quarto ed ultimo problema vogliamo sapere l'insieme minimo di passaporti che ci permettono di visitare il mondo senza ottenere VISA prima.  \n",
    "Inanzitutto carichiamo un dataframe che ci dice quali nazioni possono essere visitate con quali passaporti senza visa:"
   ]
  },
  {
   "cell_type": "code",
   "execution_count": 33,
   "metadata": {},
   "outputs": [
    {
     "data": {
      "text/plain": [
       "200×200 Array{Any,2}:\n",
       " \"Passport\"              …    \"Yemen\"    \"Zambia\"    \"Zimbabwe\"\n",
       " \"Afghanistan\"                \"VR\"       \"VR\"        \"VR\"\n",
       " \"Albania\"                    \"VR\"       \"ETA\"       \"ETA\"\n",
       " \"Algeria\"                    \"ETA\"      \"VR\"        \"ETA\"\n",
       " \"Andorra\"                    \"VR\"       \"ETA\"       \"ETA\"\n",
       " \"Angola\"                …    \"VR\"     30          90\n",
       " \"Antigua and Barbuda\"        \"VR\"     90          90\n",
       " \"Argentina\"                  \"VR\"       \"ETA\"       \"ETA\"\n",
       " \"Armenia\"                    \"VR\"       \"VR\"        \"ETA\"\n",
       " \"Australia\"                  \"VR\"       \"ETA\"       \"ETA\"\n",
       " \"Austria\"               …    \"VR\"       \"ETA\"       \"ETA\"\n",
       " \"Azerbaijan\"                 \"VR\"       \"VR\"        \"ETA\"\n",
       " \"Bahamas\"                    \"VR\"     90          90\n",
       " ⋮                       ⋱                         \n",
       " \"United Arab Emirates\"       \"ETA\"      \"ETA\"       \"ETA\"\n",
       " \"United Kingdom\"             \"VR\"       \"ETA\"       \"ETA\"\n",
       " \"United States\"         …    \"VR\"       \"ETA\"       \"ETA\"\n",
       " \"Uruguay\"                    \"VR\"       \"ETA\"       \"ETA\"\n",
       " \"Uzbekistan\"                 \"VR\"       \"VR\"        \"ETA\"\n",
       " \"Vanuatu\"                    \"VR\"     90          90\n",
       " \"Vatican\"                    \"VR\"       \"ETA\"       \"ETA\"\n",
       " \"Venezuela\"             …    \"VR\"       \"ETA\"       \"ETA\"\n",
       " \"Vietnam\"                    \"VR\"       \"ETA\"       \"VR\"\n",
       " \"Yemen\"                    -1           \"VR\"        \"VR\"\n",
       " \"Zambia\"                     \"VR\"     -1          90\n",
       " \"Zimbabwe\"                   \"VR\"     90          -1"
      ]
     },
     "execution_count": 33,
     "metadata": {},
     "output_type": "execute_result"
    }
   ],
   "source": [
    "download(\"https://github.com/ilyankou/passport-index-dataset/raw/master/passport-index-matrix.csv\",\"downloads/passport-index-matrix.csv\")\n",
    "passportdata = readdlm(\"downloads/passport-index-matrix.csv\", ',')"
   ]
  },
  {
   "cell_type": "markdown",
   "metadata": {},
   "source": [
    "La categopria del df ha il seguente significato: \n",
    "\n",
    "| **Value** | **Explanation** |\n",
    "|---|:---|\n",
    "|7-360| number of visa-free days|\n",
    "|VF| visa-free travel (where number of days is not applicable or known, eg freedom of movement)|\n",
    "|VOA| visa on arrival|\n",
    "|ETA| eTA (electronic travel authority) required|\n",
    "|VR| visa required|\n",
    "|-1| where passport=destination, in matrix files only|\n",
    "\n",
    "Quindi se la nazione X ha \"VF\" o \"VOA\" con il passaporto della nazione Y, allora avendo passaporto Y possiamo andare a X senza premunirci di VISA.  \n",
    "Iniziamo la costruzione del modello:  "
   ]
  },
  {
   "cell_type": "code",
   "execution_count": 40,
   "metadata": {},
   "outputs": [],
   "source": [
    "cntr = passportdata[2:end,1]\n",
    "vf = (x ->  typeof(x)==Int64 || x == \"VF\" || x == \"VOA\" ? 1 : 0).(passportdata[2:end,2:end]);\n",
    "#steup  modello\n",
    "\n",
    "model = Model(GLPK.Optimizer)\n",
    "# GLPK è un wrapper della libreria GNU per la programmazione lineare\n",
    "# GLPK.Optimizer crea un ottimizzatore da usare con JuMP o MathOptInterface\n",
    "\n",
    "#aggiungi varibili, vinmcoli, fun obiettivo\n",
    "@variable(model, pass[1:length(cntr)], Bin)#var\n",
    "@constraint(model, [j=1:length(cntr)], sum( vf[i,j]*pass[i] for i in 1:length(cntr)) >= 1)#vincoli\n",
    "@objective(model, Min, sum(pass));#funzione obiettivo, minimizzare"
   ]
  },
  {
   "cell_type": "markdown",
   "metadata": {},
   "source": [
    "Abbiamo definito il modello per il nostro problema.  \n",
    "Proviamo adesso a trovare la soluzione ottimale:\n"
   ]
  },
  {
   "cell_type": "code",
   "execution_count": 41,
   "metadata": {},
   "outputs": [],
   "source": [
    "JuMP.optimize!(model)"
   ]
  },
  {
   "cell_type": "code",
   "execution_count": 43,
   "metadata": {},
   "outputs": [
    {
     "name": "stdout",
     "output_type": "stream",
     "text": [
      "21.0 passporti : Afghanistan, Angola, Austria, Comoros, Congo, Eritrea, Gambia, Georgia, Hong Kong, India, Iraq, Kenya, Madagascar, Maldives, North Korea, Papua New Guinea, Seychelles, Singapore, Somalia, Tunisia, United Arab Emirates"
     ]
    }
   ],
   "source": [
    "print(JuMP.objective_value(model),\" passporti : \",join(cntr[findall(JuMP.value.(pass) .== 1)],\", \"))"
   ]
  },
  {
   "cell_type": "code",
   "execution_count": null,
   "metadata": {},
   "outputs": [],
   "source": []
  }
 ],
 "metadata": {
  "kernelspec": {
   "display_name": "Julia 1.5.1",
   "language": "julia",
   "name": "julia-1.5"
  },
  "language_info": {
   "file_extension": ".jl",
   "mimetype": "application/julia",
   "name": "julia",
   "version": "1.5.1"
  }
 },
 "nbformat": 4,
 "nbformat_minor": 4
}
