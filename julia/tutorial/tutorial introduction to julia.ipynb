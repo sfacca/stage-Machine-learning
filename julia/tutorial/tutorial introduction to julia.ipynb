{
 "cells": [
  {
   "cell_type": "markdown",
   "metadata": {},
   "source": [
    "# Julia Academy - Introduction to Julia\n",
    "\n",
    "si può vedere documentazione di funzioni e keyword antecedendo con ?"
   ]
  },
  {
   "cell_type": "code",
   "execution_count": 113,
   "metadata": {},
   "outputs": [
    {
     "name": "stdout",
     "output_type": "stream",
     "text": [
      "search: \u001b[0m\u001b[1m+\u001b[22m\n",
      "\n"
     ]
    },
    {
     "data": {
      "text/latex": [
       "\\begin{verbatim}\n",
       "+(x, y...)\n",
       "\\end{verbatim}\n",
       "Addition operator. \\texttt{x+y+z+...} calls this function with all arguments, i.e. \\texttt{+(x, y, z, ...)}.\n",
       "\n",
       "\\section{Examples}\n",
       "\\begin{verbatim}\n",
       "julia> 1 + 20 + 4\n",
       "25\n",
       "\n",
       "julia> +(1, 20, 4)\n",
       "25\n",
       "\\end{verbatim}\n",
       "\\rule{\\textwidth}{1pt}\n",
       "\\begin{verbatim}\n",
       "dt::Date + t::Time -> DateTime\n",
       "\\end{verbatim}\n",
       "The addition of a \\texttt{Date} with a \\texttt{Time} produces a \\texttt{DateTime}. The hour, minute, second, and millisecond parts of the \\texttt{Time} are used along with the year, month, and day of the \\texttt{Date} to create the new \\texttt{DateTime}. Non-zero microseconds or nanoseconds in the \\texttt{Time} type will result in an \\texttt{InexactError} being thrown.\n",
       "\n"
      ],
      "text/markdown": [
       "```\n",
       "+(x, y...)\n",
       "```\n",
       "\n",
       "Addition operator. `x+y+z+...` calls this function with all arguments, i.e. `+(x, y, z, ...)`.\n",
       "\n",
       "# Examples\n",
       "\n",
       "```jldoctest\n",
       "julia> 1 + 20 + 4\n",
       "25\n",
       "\n",
       "julia> +(1, 20, 4)\n",
       "25\n",
       "```\n",
       "\n",
       "---\n",
       "\n",
       "```\n",
       "dt::Date + t::Time -> DateTime\n",
       "```\n",
       "\n",
       "The addition of a `Date` with a `Time` produces a `DateTime`. The hour, minute, second, and millisecond parts of the `Time` are used along with the year, month, and day of the `Date` to create the new `DateTime`. Non-zero microseconds or nanoseconds in the `Time` type will result in an `InexactError` being thrown.\n"
      ],
      "text/plain": [
       "\u001b[36m  +(x, y...)\u001b[39m\n",
       "\n",
       "  Addition operator. \u001b[36mx+y+z+...\u001b[39m calls this function with all arguments, i.e.\n",
       "  \u001b[36m+(x, y, z, ...)\u001b[39m.\n",
       "\n",
       "\u001b[1m  Examples\u001b[22m\n",
       "\u001b[1m  ≡≡≡≡≡≡≡≡≡≡\u001b[22m\n",
       "\n",
       "\u001b[36m  julia> 1 + 20 + 4\u001b[39m\n",
       "\u001b[36m  25\u001b[39m\n",
       "\u001b[36m  \u001b[39m\n",
       "\u001b[36m  julia> +(1, 20, 4)\u001b[39m\n",
       "\u001b[36m  25\u001b[39m\n",
       "\n",
       "  ────────────────────────────────────────────────────────────────────────────\n",
       "\n",
       "\u001b[36m  dt::Date + t::Time -> DateTime\u001b[39m\n",
       "\n",
       "  The addition of a \u001b[36mDate\u001b[39m with a \u001b[36mTime\u001b[39m produces a \u001b[36mDateTime\u001b[39m. The hour, minute,\n",
       "  second, and millisecond parts of the \u001b[36mTime\u001b[39m are used along with the year,\n",
       "  month, and day of the \u001b[36mDate\u001b[39m to create the new \u001b[36mDateTime\u001b[39m. Non-zero microseconds\n",
       "  or nanoseconds in the \u001b[36mTime\u001b[39m type will result in an \u001b[36mInexactError\u001b[39m being thrown."
      ]
     },
     "execution_count": 113,
     "metadata": {},
     "output_type": "execute_result"
    }
   ],
   "source": [
    "?+"
   ]
  },
  {
   "cell_type": "markdown",
   "metadata": {},
   "source": [
    "in jupyter, un ; alla fine dell ultima linea rimuove output"
   ]
  },
  {
   "cell_type": "code",
   "execution_count": 27,
   "metadata": {},
   "outputs": [
    {
     "data": {
      "text/plain": [
       "13"
      ]
     },
     "execution_count": 27,
     "metadata": {},
     "output_type": "execute_result"
    }
   ],
   "source": [
    "a = 13"
   ]
  },
  {
   "cell_type": "code",
   "execution_count": 28,
   "metadata": {},
   "outputs": [],
   "source": [
    "a = 13;"
   ]
  },
  {
   "cell_type": "markdown",
   "metadata": {},
   "source": [
    "## 1 installazione"
   ]
  },
  {
   "cell_type": "markdown",
   "metadata": {},
   "source": [
    "vedi tutorial installazione Julia"
   ]
  },
  {
   "cell_type": "markdown",
   "metadata": {},
   "source": [
    "## 2 varibiles and printing\n",
    "println() stampa input a schermata\n",
    "variabili non sono fortemente tipate di default"
   ]
  },
  {
   "cell_type": "code",
   "execution_count": 2,
   "metadata": {},
   "outputs": [
    {
     "name": "stdout",
     "output_type": "stream",
     "text": [
      "ciao\n",
      "12\n"
     ]
    }
   ],
   "source": [
    "asd = \"ciao\"\n",
    "println(asd)\n",
    "asd = 12\n",
    "println(asd)"
   ]
  },
  {
   "cell_type": "code",
   "execution_count": 6,
   "metadata": {},
   "outputs": [
    {
     "ename": "LoadError",
     "evalue": "MethodError: Cannot `convert` an object of type String to an object of type Int8\nClosest candidates are:\n  convert(::Type{T}, !Matched::T) where T<:Number at number.jl:6\n  convert(::Type{T}, !Matched::Number) where T<:Number at number.jl:7\n  convert(::Type{T}, !Matched::Ptr) where T<:Integer at pointer.jl:23\n  ...",
     "output_type": "error",
     "traceback": [
      "MethodError: Cannot `convert` an object of type String to an object of type Int8\nClosest candidates are:\n  convert(::Type{T}, !Matched::T) where T<:Number at number.jl:6\n  convert(::Type{T}, !Matched::Number) where T<:Number at number.jl:7\n  convert(::Type{T}, !Matched::Ptr) where T<:Integer at pointer.jl:23\n  ...",
      "",
      "Stacktrace:",
      " [1] foo() at .\\In[6]:3",
      " [2] top-level scope at In[6]:5",
      " [3] include_string(::Function, ::Module, ::String, ::String) at .\\loading.jl:1091"
     ]
    }
   ],
   "source": [
    "function foo()\n",
    "           x::Int8 = 100\n",
    "           x = \"stringa\"\n",
    "end\n",
    "foo()"
   ]
  },
  {
   "cell_type": "markdown",
   "metadata": {},
   "source": [
    "## 3 string\n",
    "dichiarabili tra \"  (singole) o tra \"\"\" (triple)\n",
    "dichiarando tra \"\"\" è poi possibile includere \" come caratteri all interno della stringa come definita\"\n",
    "\n",
    "si possono inserire valori variabili o espressioni con $()\n",
    "\n",
    "op tra/con string: \n",
    "concatenazione di 2 styringe con *\n",
    "concatenaz di stringa con se stessa n volte con ^n\n"
   ]
  },
  {
   "cell_type": "code",
   "execution_count": 11,
   "metadata": {},
   "outputs": [
    {
     "name": "stdout",
     "output_type": "stream",
     "text": [
      "string1: ciao string2:  ciao \"ciao\"  string3: ciaociaociao striing4: questo è un numero: 15 queste sono stringe: ciao ciao \"ciao\" \n"
     ]
    }
   ],
   "source": [
    "string1 = \"ciao\"\n",
    "string2 = \"\"\" ciao \"ciao\" \"\"\"\n",
    "string3 = mystring^3\n",
    "string4 = \"questo è un numero: $(12+3) queste sono stringe: $(string1*string2)\"\n",
    "println(\"string1: \"*string1*\" string2: \"*string2*\" string3: \"*string3*\" striing4: \"*string4)"
   ]
  },
  {
   "cell_type": "markdown",
   "metadata": {},
   "source": [
    "## 4 strutture dati\n",
    "3 tipi di collection principali: tuple, array, dictionaries\n",
    "\n",
    "### tuple\n",
    "ordinate, immutabili"
   ]
  },
  {
   "cell_type": "code",
   "execution_count": 14,
   "metadata": {},
   "outputs": [
    {
     "data": {
      "text/plain": [
       "(\"uno\", \"due\", 3)"
      ]
     },
     "execution_count": 14,
     "metadata": {},
     "output_type": "execute_result"
    }
   ],
   "source": [
    "tupla = (\"uno\",\"due\",3)"
   ]
  },
  {
   "cell_type": "markdown",
   "metadata": {},
   "source": [
    "### array\n",
    "ordinato, mutabile, bisogna reallocarlo per aumentarlo di dimensioni\n",
    "\n",
    "array di n elem -> indici da 1 a n"
   ]
  },
  {
   "cell_type": "code",
   "execution_count": 2,
   "metadata": {},
   "outputs": [
    {
     "data": {
      "text/plain": [
       "3-element Array{Int64,1}:\n",
       " 2\n",
       " 2\n",
       " 3"
      ]
     },
     "execution_count": 2,
     "metadata": {},
     "output_type": "execute_result"
    }
   ],
   "source": [
    "myarr = [1,2,3]\n",
    "myarr[1]=2\n",
    "myarr"
   ]
  },
  {
   "cell_type": "code",
   "execution_count": 3,
   "metadata": {},
   "outputs": [
    {
     "ename": "LoadError",
     "evalue": "BoundsError: attempt to access 3-element Array{Int64,1} at index [4]",
     "output_type": "error",
     "traceback": [
      "BoundsError: attempt to access 3-element Array{Int64,1} at index [4]",
      "",
      "Stacktrace:",
      " [1] setindex!(::Array{Int64,1}, ::Int64, ::Int64) at .\\array.jl:847",
      " [2] top-level scope at In[3]:1",
      " [3] include_string(::Function, ::Module, ::String, ::String) at .\\loading.jl:1091"
     ]
    }
   ],
   "source": [
    "myarr[4]=123 #genera errore"
   ]
  },
  {
   "cell_type": "markdown",
   "metadata": {},
   "source": [
    "julia gestisce array di tipi misti se e solo se l array è inizializzato con tipi diversi, altrimenti tenta di convertire:"
   ]
  },
  {
   "cell_type": "code",
   "execution_count": 6,
   "metadata": {},
   "outputs": [
    {
     "data": {
      "text/plain": [
       "3-element Array{Any,1}:\n",
       "   \"cane\"\n",
       "  1.3\n",
       " 33"
      ]
     },
     "execution_count": 6,
     "metadata": {},
     "output_type": "execute_result"
    }
   ],
   "source": [
    "mixarr=[\"cane\",1.3, 1.5]\n",
    "mixarr[3]=33\n",
    "mixarr"
   ]
  },
  {
   "cell_type": "code",
   "execution_count": 8,
   "metadata": {},
   "outputs": [
    {
     "ename": "LoadError",
     "evalue": "MethodError: Cannot `convert` an object of type String to an object of type Float64\nClosest candidates are:\n  convert(::Type{T}, !Matched::T) where T<:Number at number.jl:6\n  convert(::Type{T}, !Matched::Number) where T<:Number at number.jl:7\n  convert(::Type{T}, !Matched::Base.TwicePrecision) where T<:Number at twiceprecision.jl:250\n  ...",
     "output_type": "error",
     "traceback": [
      "MethodError: Cannot `convert` an object of type String to an object of type Float64\nClosest candidates are:\n  convert(::Type{T}, !Matched::T) where T<:Number at number.jl:6\n  convert(::Type{T}, !Matched::Number) where T<:Number at number.jl:7\n  convert(::Type{T}, !Matched::Base.TwicePrecision) where T<:Number at twiceprecision.jl:250\n  ...",
      "",
      "Stacktrace:",
      " [1] setindex!(::Array{Float64,1}, ::String, ::Int64) at .\\array.jl:847",
      " [2] top-level scope at In[8]:3",
      " [3] include_string(::Function, ::Module, ::String, ::String) at .\\loading.jl:1091"
     ]
    }
   ],
   "source": [
    "wrongarr = [1.5,2.5,3.5]\n",
    "wrongarr[1]=1\n",
    "wrongarr[2]=\"string\"\n",
    "wrongarr"
   ]
  },
  {
   "cell_type": "markdown",
   "metadata": {},
   "source": [
    "pop!(array) rimuove ultimo elemento e lo ritorna\n",
    "\n",
    "per convenzione, funzioni che modificano l'input terminano in !"
   ]
  },
  {
   "cell_type": "code",
   "execution_count": 13,
   "metadata": {},
   "outputs": [
    {
     "name": "stdout",
     "output_type": "stream",
     "text": [
      "array prima: [1, 2, 3, 4]\n",
      "elemento rimosso: 4\n",
      "array dopo: [1, 2, 3]\n"
     ]
    }
   ],
   "source": [
    "myarr = [1,2,3,4]\n",
    "println(\"array prima: $myarr\")\n",
    "println(\"elemento rimosso: $(pop!(myarr))\")\n",
    "println(\"array dopo: $myarr\")"
   ]
  },
  {
   "cell_type": "markdown",
   "metadata": {},
   "source": [
    "### dizionari\n",
    "non ordinati, mutabili, struttura di coppie  chiave/valore"
   ]
  },
  {
   "cell_type": "code",
   "execution_count": 14,
   "metadata": {},
   "outputs": [
    {
     "data": {
      "text/plain": [
       "\"gh\""
      ]
     },
     "execution_count": 14,
     "metadata": {},
     "output_type": "execute_result"
    }
   ],
   "source": [
    "mydict = Dict(\"mordenkeinen\" => \"fr\", \"elminst\" => \"gh\") #inizializzazione\n",
    "mydict[\"iggwilv\"] = \"gh\" #aggiunta coppia\n",
    "mydict[\"elminst\"] #ritorna valore assegnato alla chiave cercata"
   ]
  },
  {
   "cell_type": "markdown",
   "metadata": {},
   "source": [
    "## 5 cicli for/while\n",
    "funzionano come dappertutto\n",
    "\n",
    "sintassi:"
   ]
  },
  {
   "cell_type": "code",
   "execution_count": 17,
   "metadata": {},
   "outputs": [
    {
     "name": "stdout",
     "output_type": "stream",
     "text": [
      "1\n",
      "2\n",
      "3\n",
      "4\n",
      "5\n",
      "6\n",
      "7\n",
      "8\n",
      "9\n",
      "10\n"
     ]
    }
   ],
   "source": [
    "for i in 1:10\n",
    "    println(i)\n",
    "end #end chiude blocco for"
   ]
  },
  {
   "cell_type": "code",
   "execution_count": 19,
   "metadata": {},
   "outputs": [
    {
     "name": "stdout",
     "output_type": "stream",
     "text": [
      "1\n",
      "2\n",
      "3\n",
      "4\n",
      "5\n",
      "6\n",
      "7\n",
      "8\n",
      "9\n",
      "10\n"
     ]
    }
   ],
   "source": [
    "i = 0\n",
    "while i <10\n",
    "    i = i+1\n",
    "    println(i)\n",
    "end"
   ]
  },
  {
   "cell_type": "markdown",
   "metadata": {},
   "source": [
    "zucchero sintattico: for innestato, comodo per matrici"
   ]
  },
  {
   "cell_type": "code",
   "execution_count": 20,
   "metadata": {},
   "outputs": [
    {
     "data": {
      "text/plain": [
       "4×4 Array{Int64,2}:\n",
       " 2  3  4  5\n",
       " 3  4  5  6\n",
       " 4  5  6  7\n",
       " 5  6  7  8"
      ]
     },
     "execution_count": 20,
     "metadata": {},
     "output_type": "execute_result"
    }
   ],
   "source": [
    "n = 4\n",
    "Matrice = fill(0, (n,n))\n",
    "for i in 1:n, j in 1:n\n",
    "    Matrice[i,j]=i+j\n",
    "end\n",
    "Matrice"
   ]
  },
  {
   "cell_type": "markdown",
   "metadata": {},
   "source": [
    "## 6 condizionali\n",
    "sintassi\n"
   ]
  },
  {
   "cell_type": "code",
   "execution_count": 29,
   "metadata": {},
   "outputs": [
    {
     "name": "stdout",
     "output_type": "stream",
     "text": [
      "vera\n"
     ]
    }
   ],
   "source": [
    "condizione = 1==1\n",
    "if condizione\n",
    "    println(\"vera\")\n",
    "else\n",
    "    println(\"falsa\")\n",
    "end"
   ]
  },
  {
   "cell_type": "markdown",
   "metadata": {},
   "source": [
    "condizione ternaria a?b:c"
   ]
  },
  {
   "cell_type": "code",
   "execution_count": 30,
   "metadata": {},
   "outputs": [
    {
     "name": "stdout",
     "output_type": "stream",
     "text": [
      "vera\n"
     ]
    }
   ],
   "source": [
    "condizione ? println(\"vera\") : println(\"falsa\")"
   ]
  },
  {
   "cell_type": "markdown",
   "metadata": {},
   "source": [
    " $ \\wedge $ logico"
   ]
  },
  {
   "cell_type": "code",
   "execution_count": 31,
   "metadata": {},
   "outputs": [
    {
     "data": {
      "text/plain": [
       "false"
      ]
     },
     "execution_count": 31,
     "metadata": {},
     "output_type": "execute_result"
    }
   ],
   "source": [
    "secondacondizione = 1 == 2\n",
    "condizione&&secondacondizione"
   ]
  },
  {
   "cell_type": "markdown",
   "metadata": {},
   "source": [
    "NB: le condizioni sono valutate/eseguite in ordine:"
   ]
  },
  {
   "cell_type": "code",
   "execution_count": 32,
   "metadata": {},
   "outputs": [
    {
     "name": "stdout",
     "output_type": "stream",
     "text": [
      "questo stampa\n"
     ]
    }
   ],
   "source": [
    "condizione&&println(\"questo stampa\")\n",
    "secondacondizione&&println(\"questo no\");"
   ]
  },
  {
   "cell_type": "markdown",
   "metadata": {},
   "source": [
    "## 7 funzioni\n",
    "\n",
    "definite mediante keyword function"
   ]
  },
  {
   "cell_type": "code",
   "execution_count": 37,
   "metadata": {},
   "outputs": [
    {
     "data": {
      "text/plain": [
       "sayhi (generic function with 1 method)"
      ]
     },
     "execution_count": 37,
     "metadata": {},
     "output_type": "execute_result"
    }
   ],
   "source": [
    "function foo(x)\n",
    "    x^2\n",
    "end\n",
    "function sayhi(name)\n",
    "    println(\"o hi $name\")\n",
    "end"
   ]
  },
  {
   "cell_type": "code",
   "execution_count": 59,
   "metadata": {},
   "outputs": [
    {
     "name": "stdout",
     "output_type": "stream",
     "text": [
      "3^2= 9 \n",
      "o hi mark\n"
     ]
    }
   ],
   "source": [
    "println(\"3^2= $(foo(3)) \")\n",
    "sayhi(\"mark\")"
   ]
  },
  {
   "cell_type": "markdown",
   "metadata": {},
   "source": [
    "definite in riga singola senza kword"
   ]
  },
  {
   "cell_type": "code",
   "execution_count": 39,
   "metadata": {},
   "outputs": [
    {
     "data": {
      "text/plain": [
       "foo2 (generic function with 1 method)"
      ]
     },
     "execution_count": 39,
     "metadata": {},
     "output_type": "execute_result"
    }
   ],
   "source": [
    "foo2(x) = x^2"
   ]
  },
  {
   "cell_type": "markdown",
   "metadata": {},
   "source": [
    "definite come funzioni landa"
   ]
  },
  {
   "cell_type": "code",
   "execution_count": 40,
   "metadata": {},
   "outputs": [
    {
     "data": {
      "text/plain": [
       "#1 (generic function with 1 method)"
      ]
     },
     "execution_count": 40,
     "metadata": {},
     "output_type": "execute_result"
    }
   ],
   "source": [
    "foo3 = x-> x^2"
   ]
  },
  {
   "cell_type": "code",
   "execution_count": 41,
   "metadata": {},
   "outputs": [
    {
     "data": {
      "text/plain": [
       "4"
      ]
     },
     "execution_count": 41,
     "metadata": {},
     "output_type": "execute_result"
    }
   ],
   "source": [
    "foo3(2)"
   ]
  },
  {
   "cell_type": "markdown",
   "metadata": {},
   "source": [
    "per convenzione, funzioni terminanti in ! mutano l'input, funzioni senza ! non mutano l input, eg:"
   ]
  },
  {
   "cell_type": "code",
   "execution_count": 42,
   "metadata": {},
   "outputs": [
    {
     "data": {
      "text/plain": [
       "3-element Array{Int64,1}:\n",
       " 2\n",
       " 3\n",
       " 5"
      ]
     },
     "execution_count": 42,
     "metadata": {},
     "output_type": "execute_result"
    }
   ],
   "source": [
    "v = [3, 5, 2]\n",
    "sort(v)"
   ]
  },
  {
   "cell_type": "code",
   "execution_count": 43,
   "metadata": {},
   "outputs": [
    {
     "data": {
      "text/plain": [
       "3-element Array{Int64,1}:\n",
       " 3\n",
       " 5\n",
       " 2"
      ]
     },
     "execution_count": 43,
     "metadata": {},
     "output_type": "execute_result"
    }
   ],
   "source": [
    "v"
   ]
  },
  {
   "cell_type": "code",
   "execution_count": 44,
   "metadata": {},
   "outputs": [
    {
     "data": {
      "text/plain": [
       "3-element Array{Int64,1}:\n",
       " 2\n",
       " 3\n",
       " 5"
      ]
     },
     "execution_count": 44,
     "metadata": {},
     "output_type": "execute_result"
    }
   ],
   "source": [
    "sort!(v)"
   ]
  },
  {
   "cell_type": "code",
   "execution_count": 45,
   "metadata": {},
   "outputs": [
    {
     "data": {
      "text/plain": [
       "3-element Array{Int64,1}:\n",
       " 2\n",
       " 3\n",
       " 5"
      ]
     },
     "execution_count": 45,
     "metadata": {},
     "output_type": "execute_result"
    }
   ],
   "source": [
    "v"
   ]
  },
  {
   "cell_type": "markdown",
   "metadata": {},
   "source": [
    "funzioni di ordine superiore prendon funzioni come input\n",
    "\n",
    "eg, map(function,struct) applica la funzione di input a ogni membro della struct"
   ]
  },
  {
   "cell_type": "code",
   "execution_count": 46,
   "metadata": {},
   "outputs": [
    {
     "data": {
      "text/plain": [
       "3-element Array{Int64,1}:\n",
       " 1\n",
       " 4\n",
       " 9"
      ]
     },
     "execution_count": 46,
     "metadata": {},
     "output_type": "execute_result"
    }
   ],
   "source": [
    "map(foo, [1, 2, 3])"
   ]
  },
  {
   "cell_type": "markdown",
   "metadata": {},
   "source": [
    "### broadcast\n",
    "broadcast è funzione generalizzata di map, può esser invocata con sintassi:\n",
    "\n",
    "{funzione da invocare sugli elem}.( {struct degli elementi} )\n",
    "\n",
    "riproponendo esempio di prima:"
   ]
  },
  {
   "cell_type": "code",
   "execution_count": 48,
   "metadata": {},
   "outputs": [
    {
     "data": {
      "text/plain": [
       "3-element Array{Int64,1}:\n",
       " 1\n",
       " 4\n",
       " 9"
      ]
     },
     "execution_count": 48,
     "metadata": {},
     "output_type": "execute_result"
    }
   ],
   "source": [
    "foo.([1,2,3])"
   ]
  },
  {
   "cell_type": "markdown",
   "metadata": {},
   "source": [
    "### overload\n",
    "possiamo fare overload di una funzione dandogli altri metodi per combinazioni di tipi di input diverse:"
   ]
  },
  {
   "cell_type": "code",
   "execution_count": 58,
   "metadata": {},
   "outputs": [
    {
     "name": "stdout",
     "output_type": "stream",
     "text": [
      "2^2 = 4\n",
      "e invece questa  è una stringa \n"
     ]
    }
   ],
   "source": [
    "foo(x)=x^2\n",
    "foo(s::String)=\" è una stringa\"\n",
    "println(\"2^2 = $(foo(2))\")\n",
    "asd = \"asd\"\n",
    "println(\"e invece questa $(foo(asd)) \")"
   ]
  },
  {
   "cell_type": "code",
   "execution_count": null,
   "metadata": {},
   "outputs": [],
   "source": [
    "julia manda errore in caso di input ambigui (ovvero quando più metodi sono definiti per quella combinazione di input)\n",
    "\n",
    "possiamo overloadare anche operatori:"
   ]
  },
  {
   "cell_type": "code",
   "execution_count": 70,
   "metadata": {},
   "outputs": [
    {
     "ename": "LoadError",
     "evalue": "MethodError: no method matching +(::String, ::String)\nClosest candidates are:\n  +(::Any, ::Any, !Matched::Any, !Matched::Any...) at operators.jl:538\n  +(!Matched::PyObject, ::Any) at C:\\Users\\i am\\.julia\\packages\\PyCall\\zqDXB\\src\\pyoperators.jl:13\n  +(::Any, !Matched::PyObject) at C:\\Users\\i am\\.julia\\packages\\PyCall\\zqDXB\\src\\pyoperators.jl:14",
     "output_type": "error",
     "traceback": [
      "MethodError: no method matching +(::String, ::String)\nClosest candidates are:\n  +(::Any, ::Any, !Matched::Any, !Matched::Any...) at operators.jl:538\n  +(!Matched::PyObject, ::Any) at C:\\Users\\i am\\.julia\\packages\\PyCall\\zqDXB\\src\\pyoperators.jl:13\n  +(::Any, !Matched::PyObject) at C:\\Users\\i am\\.julia\\packages\\PyCall\\zqDXB\\src\\pyoperators.jl:14",
      "",
      "Stacktrace:",
      " [1] top-level scope at In[70]:1",
      " [2] include_string(::Function, ::Module, ::String, ::String) at .\\loading.jl:1091"
     ]
    }
   ],
   "source": [
    "\"stringa \" + \"stringa\""
   ]
  },
  {
   "cell_type": "code",
   "execution_count": 71,
   "metadata": {},
   "outputs": [
    {
     "data": {
      "text/plain": [
       "\"stringastringa\""
      ]
     },
     "execution_count": 71,
     "metadata": {},
     "output_type": "execute_result"
    }
   ],
   "source": [
    "import Base: +\n",
    "+(x::String,y::String) = x*y\n",
    "\"stringa \" + \"stringa\""
   ]
  },
  {
   "cell_type": "markdown",
   "metadata": {},
   "source": [
    "## 8 pacchetti\n",
    "prima di poter installare pacchetti bisogna importare Pkg:\n",
    "using Pkg\n",
    "\n",
    "sintassi installazione pacchetto:\n",
    "\n",
    "Pkg.add(\"{nome pacc}\")\n",
    "\n",
    "prima di usarlo:\n",
    "\n",
    "include {nome pacc}\n",
    "\n",
    "NB: nomi case sensitive "
   ]
  },
  {
   "cell_type": "markdown",
   "metadata": {},
   "source": [
    "## 9 plotting\n",
    "\n",
    "pacchetti base per plotting:"
   ]
  },
  {
   "cell_type": "code",
   "execution_count": 49,
   "metadata": {},
   "outputs": [
    {
     "name": "stderr",
     "output_type": "stream",
     "text": [
      "\u001b[32m\u001b[1m   Updating\u001b[22m\u001b[39m registry at `C:\\Users\\i am\\.julia\\registries\\General`\n",
      "\u001b[32m\u001b[1m  Resolving\u001b[22m\u001b[39m package versions...\n",
      "\u001b[32m\u001b[1mNo Changes\u001b[22m\u001b[39m to `C:\\Users\\i am\\.julia\\environments\\v1.5\\Project.toml`\n",
      "\u001b[32m\u001b[1mNo Changes\u001b[22m\u001b[39m to `C:\\Users\\i am\\.julia\\environments\\v1.5\\Manifest.toml`\n",
      "\u001b[32m\u001b[1m  Resolving\u001b[22m\u001b[39m package versions...\n",
      "\u001b[32m\u001b[1mNo Changes\u001b[22m\u001b[39m to `C:\\Users\\i am\\.julia\\environments\\v1.5\\Project.toml`\n",
      "\u001b[32m\u001b[1mNo Changes\u001b[22m\u001b[39m to `C:\\Users\\i am\\.julia\\environments\\v1.5\\Manifest.toml`\n",
      "\u001b[32m\u001b[1m  Resolving\u001b[22m\u001b[39m package versions...\n",
      "\u001b[32m\u001b[1mNo Changes\u001b[22m\u001b[39m to `C:\\Users\\i am\\.julia\\environments\\v1.5\\Project.toml`\n",
      "\u001b[32m\u001b[1mNo Changes\u001b[22m\u001b[39m to `C:\\Users\\i am\\.julia\\environments\\v1.5\\Manifest.toml`\n"
     ]
    }
   ],
   "source": [
    "using Pkg\n",
    "Pkg.add(\"Plots\")\n",
    "Pkg.add(\"PlotlyJS\")\n",
    "Pkg.add(\"ORCA\")"
   ]
  },
  {
   "cell_type": "code",
   "execution_count": 114,
   "metadata": {},
   "outputs": [
    {
     "ename": "SystemError",
     "evalue": "SystemError: opening file \"C:\\\\Users\\\\IAM~1\\\\AppData\\\\Local\\\\Temp\\\\jl_nB9WaKpXie.svg\": No such file or directory",
     "output_type": "error",
     "traceback": [
      "SystemError: opening file \"C:\\\\Users\\\\IAM~1\\\\AppData\\\\Local\\\\Temp\\\\jl_nB9WaKpXie.svg\": No such file or directory",
      "",
      "Stacktrace:",
      " [1] systemerror(::String, ::Int32; extrainfo::Nothing) at .\\error.jl:168",
      " [2] #systemerror#48 at .\\error.jl:167 [inlined]",
      " [3] systemerror at .\\error.jl:167 [inlined]",
      " [4] open(::String; lock::Bool, read::Nothing, write::Nothing, create::Nothing, truncate::Nothing, append::Nothing) at .\\iostream.jl:284",
      " [5] open at .\\iostream.jl:273 [inlined]",
      " [6] open(::Base.var\"#296#297\"{String}, ::String; kwargs::Base.Iterators.Pairs{Union{},Union{},Tuple{},NamedTuple{(),Tuple{}}}) at .\\io.jl:323",
      " [7] open at .\\io.jl:323 [inlined]",
      " [8] read at .\\io.jl:410 [inlined]",
      " [9] _show(::Base.GenericIOBuffer{Array{UInt8,1}}, ::MIME{Symbol(\"image/svg+xml\")}, ::Plots.Plot{Plots.GRBackend}) at C:\\Users\\i am\\.julia\\packages\\Plots\\cc8wh\\src\\backends\\gr.jl:1924",
      " [10] show(::Base.GenericIOBuffer{Array{UInt8,1}}, ::MIME{Symbol(\"image/svg+xml\")}, ::Plots.Plot{Plots.GRBackend}) at C:\\Users\\i am\\.julia\\packages\\Plots\\cc8wh\\src\\output.jl:216",
      " [11] sprint(::Function, ::MIME{Symbol(\"image/svg+xml\")}, ::Vararg{Any,N} where N; context::Nothing, sizehint::Int64) at .\\strings\\io.jl:105",
      " [12] sprint at .\\strings\\io.jl:101 [inlined]",
      " [13] _ijulia_display_dict(::Plots.Plot{Plots.GRBackend}) at C:\\Users\\i am\\.julia\\packages\\Plots\\cc8wh\\src\\ijulia.jl:53",
      " [14] display_dict(::Plots.Plot{Plots.GRBackend}) at C:\\Users\\i am\\.julia\\packages\\Plots\\cc8wh\\src\\init.jl:83",
      " [15] #invokelatest#1 at .\\essentials.jl:710 [inlined]",
      " [16] invokelatest at .\\essentials.jl:709 [inlined]",
      " [17] execute_request(::ZMQ.Socket, ::IJulia.Msg) at C:\\Users\\i am\\.julia\\packages\\IJulia\\tOM8L\\src\\execute_request.jl:112",
      " [18] #invokelatest#1 at .\\essentials.jl:710 [inlined]",
      " [19] invokelatest at .\\essentials.jl:709 [inlined]",
      " [20] eventloop(::ZMQ.Socket) at C:\\Users\\i am\\.julia\\packages\\IJulia\\tOM8L\\src\\eventloop.jl:8",
      " [21] (::IJulia.var\"#15#18\")() at .\\task.jl:356"
     ]
    }
   ],
   "source": [
    "using Plots\n",
    "x = -3:0.1:3\n",
    "f(x) = x^2\n",
    "y = f.(x) #applica f() ad ogni elemento di x, come visto prima\n",
    "\n",
    "gr() #backend grafico\n",
    "\n",
    "plot(x,y, legend=false) #crea linea tra punti x,y\n",
    "scatter!(x,y) #crea punti x,y"
   ]
  },
  {
   "cell_type": "markdown",
   "metadata": {},
   "source": [
    "NB: scatter!() aggiunge un scatterplot al plot antecedente, scatter() creerebbe un nuovo plot con solo scatter"
   ]
  },
  {
   "cell_type": "markdown",
   "metadata": {},
   "source": [
    "## 10 benchmarking\n",
    "package BenchmarkTools ha strumenti base di benchmar"
   ]
  },
  {
   "cell_type": "code",
   "execution_count": 63,
   "metadata": {},
   "outputs": [
    {
     "name": "stderr",
     "output_type": "stream",
     "text": [
      "\u001b[32m\u001b[1m  Resolving\u001b[22m\u001b[39m package versions...\n",
      "\u001b[32m\u001b[1mNo Changes\u001b[22m\u001b[39m to `C:\\Users\\i am\\.julia\\environments\\v1.5\\Project.toml`\n",
      "\u001b[32m\u001b[1mNo Changes\u001b[22m\u001b[39m to `C:\\Users\\i am\\.julia\\environments\\v1.5\\Manifest.toml`\n"
     ]
    }
   ],
   "source": [
    "using Pkg\n",
    "Pkg.add(\"BenchmarkTools\")\n",
    "Pkg.add(\"PyCall\") #serve per lanciare python da julia"
   ]
  },
  {
   "cell_type": "code",
   "execution_count": 66,
   "metadata": {},
   "outputs": [
    {
     "ename": "LoadError",
     "evalue": "MethodError: no method matching /(::BenchmarkTools.TrialEstimate, ::Float64)\nClosest candidates are:\n  /(!Matched::BigFloat, ::Union{Float16, Float32, Float64}) at mpfr.jl:437\n  /(!Matched::Float64, ::Float64) at float.jl:407\n  /(!Matched::Missing, ::Number) at missing.jl:115\n  ...",
     "output_type": "error",
     "traceback": [
      "MethodError: no method matching /(::BenchmarkTools.TrialEstimate, ::Float64)\nClosest candidates are:\n  /(!Matched::BigFloat, ::Union{Float16, Float32, Float64}) at mpfr.jl:437\n  /(!Matched::Float64, ::Float64) at float.jl:407\n  /(!Matched::Missing, ::Number) at missing.jl:115\n  ...",
      "",
      "Stacktrace:",
      " [1] top-level scope at In[66]:21",
      " [2] include_string(::Function, ::Module, ::String, ::String) at .\\loading.jl:1091"
     ]
    }
   ],
   "source": [
    "using BenchmarkTools\n",
    "\n",
    "a = rand(10^7) # a è array di 10^7 ~N(0,1)\n",
    "d = Dict()\n",
    "using PyCall\n",
    "pysum = pybuiltin(\"sum\")\n",
    "pysum(a)\n",
    "py_list_bench = @benchmark $pysum($a)\n",
    "d[\"Python built-in\"] = minimum(py_list_bench.times) / 1e6\n",
    "\n",
    "py\"\"\"\n",
    "def py_sum(A):\n",
    "    s = 0.0\n",
    "    for a in A:\n",
    "        s += a\n",
    "    return s\n",
    "\"\"\"\n",
    "\n",
    "sum_py = py\"py_sum\"\n",
    "py_hand_bench = @benchmark $sum_py($a)\n",
    "d[\"Python handmade\"] = minimum(py_hand_bench) / 1e6\n",
    "\n",
    "j_bench = @benchmark sum($a)\n",
    "d[\"Julia built-in\"] = minimum(j_bench.times) / 1e6\n",
    "d"
   ]
  },
  {
   "cell_type": "markdown",
   "metadata": {},
   "source": [
    "# 11 algebra di base\n",
    "iniziamo creando una matrice A, e un vettore x"
   ]
  },
  {
   "cell_type": "code",
   "execution_count": 72,
   "metadata": {},
   "outputs": [
    {
     "data": {
      "text/plain": [
       "3×3 Array{Int64,2}:\n",
       " 2  4  3\n",
       " 2  1  4\n",
       " 4  2  1"
      ]
     },
     "execution_count": 72,
     "metadata": {},
     "output_type": "execute_result"
    }
   ],
   "source": [
    "x = ones(3)\n",
    "A = rand(1:4,3,3)"
   ]
  },
  {
   "cell_type": "markdown",
   "metadata": {},
   "source": [
    "operatore * ha metodi per la moltiplicazione matrice * vettore"
   ]
  },
  {
   "cell_type": "code",
   "execution_count": 73,
   "metadata": {},
   "outputs": [
    {
     "data": {
      "text/plain": [
       "3-element Array{Float64,1}:\n",
       " 9.0\n",
       " 7.0\n",
       " 7.0"
      ]
     },
     "execution_count": 73,
     "metadata": {},
     "output_type": "execute_result"
    }
   ],
   "source": [
    "b = A*x"
   ]
  },
  {
   "cell_type": "markdown",
   "metadata": {},
   "source": [
    "possiamo ottenere trasposta coniugata con ' , trasposta con transpose()\n"
   ]
  },
  {
   "cell_type": "code",
   "execution_count": 75,
   "metadata": {},
   "outputs": [
    {
     "data": {
      "text/plain": [
       "3×3 LinearAlgebra.Transpose{Int64,Array{Int64,2}}:\n",
       " 2  2  4\n",
       " 4  1  2\n",
       " 3  4  1"
      ]
     },
     "metadata": {},
     "output_type": "display_data"
    },
    {
     "data": {
      "text/plain": [
       "3×3 LinearAlgebra.Adjoint{Int64,Array{Int64,2}}:\n",
       " 2  2  4\n",
       " 4  1  2\n",
       " 3  4  1"
      ]
     },
     "metadata": {},
     "output_type": "display_data"
    },
    {
     "data": {
      "text/plain": [
       "3×3 Array{Int64,2}:\n",
       " 2  4  3\n",
       " 2  1  4\n",
       " 4  2  1"
      ]
     },
     "metadata": {},
     "output_type": "display_data"
    }
   ],
   "source": [
    "conjtrA = A'\n",
    "transpA = transpose(A)\n",
    "display(transpA)\n",
    "display(conjtrA)\n",
    "display(A)"
   ]
  },
  {
   "cell_type": "markdown",
   "metadata": {},
   "source": [
    "### risoluzione sistemi lineari\n",
    "sistemi lineari del tipo Ax=b possono essere risolti facilmente\n",
    "\n",
    "per A quadrata, Ax=b si risolve come\n"
   ]
  },
  {
   "cell_type": "code",
   "execution_count": 76,
   "metadata": {},
   "outputs": [
    {
     "data": {
      "text/plain": [
       "3-element Array{Float64,1}:\n",
       " 1.0\n",
       " 1.0\n",
       " 1.0"
      ]
     },
     "execution_count": 76,
     "metadata": {},
     "output_type": "execute_result"
    }
   ],
   "source": [
    "A\\b"
   ]
  },
  {
   "cell_type": "markdown",
   "metadata": {},
   "source": [
    "se la matrice ha più righe che colonne, riceveremo soluzione per quadrati minimi "
   ]
  },
  {
   "cell_type": "code",
   "execution_count": 77,
   "metadata": {},
   "outputs": [
    {
     "data": {
      "text/plain": [
       "2-element Array{Float64,1}:\n",
       " 8.540488961501845\n",
       " 9.48670556911429"
      ]
     },
     "execution_count": 77,
     "metadata": {},
     "output_type": "execute_result"
    }
   ],
   "source": [
    "Atall = rand(3, 2)\n",
    "Atall\\b"
   ]
  },
  {
   "cell_type": "markdown",
   "metadata": {},
   "source": [
    "quando il rango non è sufficiente, avremo soluzione a norma minima di quadrati minimi"
   ]
  },
  {
   "cell_type": "code",
   "execution_count": 78,
   "metadata": {},
   "outputs": [
    {
     "data": {
      "text/plain": [
       "2-element Array{Float64,1}:\n",
       " 5.25354568275248\n",
       " 5.253545682752481"
      ]
     },
     "execution_count": 78,
     "metadata": {},
     "output_type": "execute_result"
    }
   ],
   "source": [
    "v = rand(3)\n",
    "rankdef = hcat(v, v)\n",
    "rankdef\\b"
   ]
  },
  {
   "cell_type": "markdown",
   "metadata": {},
   "source": [
    "lo stesso avremo quando la matrice ha più colonne che righe"
   ]
  },
  {
   "cell_type": "code",
   "execution_count": 79,
   "metadata": {},
   "outputs": [
    {
     "data": {
      "text/plain": [
       "3-element Array{Float64,1}:\n",
       " 0.05165194747737656\n",
       " 0.4345923961588576\n",
       " 0.4851460682377696"
      ]
     },
     "execution_count": 79,
     "metadata": {},
     "output_type": "execute_result"
    }
   ],
   "source": [
    "bshort = rand(2)\n",
    "Ashort = rand(2, 3)\n",
    "Ashort\\bshort"
   ]
  },
  {
   "cell_type": "markdown",
   "metadata": {},
   "source": [
    "## 12 fattorizzazioni/scomposizioni, autovalori/autovettori, attributi di dati\n",
    "\n",
    "usando package LinearAlgebra si può svolgere fattorizzazione LU tramite fun lu(A), ritorna matrici l,u vettore di permutazione p"
   ]
  },
  {
   "cell_type": "code",
   "execution_count": 82,
   "metadata": {},
   "outputs": [
    {
     "data": {
      "text/plain": [
       "LU{Float64,Array{Float64,2}}\n",
       "L factor:\n",
       "3×3 Array{Float64,2}:\n",
       " 1.0       0.0       0.0\n",
       " 0.441722  1.0       0.0\n",
       " 0.858667  0.360977  1.0\n",
       "U factor:\n",
       "3×3 Array{Float64,2}:\n",
       " 0.416257  0.0321873  0.242309\n",
       " 0.0       0.241418   0.258553\n",
       " 0.0       0.0        0.399609"
      ]
     },
     "execution_count": 82,
     "metadata": {},
     "output_type": "execute_result"
    }
   ],
   "source": [
    "using LinearAlgebra\n",
    "A = rand(3, 3)\n",
    "x = fill(1, (3,))\n",
    "b = A * x\n",
    "l,u,p = lu(A)"
   ]
  },
  {
   "cell_type": "markdown",
   "metadata": {},
   "source": [
    "julia permette di salvare anche tutto in una variabile di tipo speciale"
   ]
  },
  {
   "cell_type": "code",
   "execution_count": 85,
   "metadata": {},
   "outputs": [
    {
     "data": {
      "text/plain": [
       "LU{Float64,Array{Float64,2}}"
      ]
     },
     "execution_count": 85,
     "metadata": {},
     "output_type": "execute_result"
    }
   ],
   "source": [
    "Alu = lu(A)\n",
    "typeof(Alu)"
   ]
  },
  {
   "cell_type": "markdown",
   "metadata": {},
   "source": [
    "si può poi accedere ai vari elem con punto"
   ]
  },
  {
   "cell_type": "code",
   "execution_count": 86,
   "metadata": {},
   "outputs": [
    {
     "data": {
      "text/plain": [
       "3×3 Array{Float64,2}:\n",
       " 1.0  0.0  0.0\n",
       " 0.0  0.0  1.0\n",
       " 0.0  1.0  0.0"
      ]
     },
     "execution_count": 86,
     "metadata": {},
     "output_type": "execute_result"
    }
   ],
   "source": [
    "Alu.P"
   ]
  },
  {
   "cell_type": "markdown",
   "metadata": {},
   "source": [
    "possiamo usare le fattorizzazioni nei metodi\n",
    "\n",
    "ad esempio possiamo risolvere il sistema lineare precedente con la fattorizzata:"
   ]
  },
  {
   "cell_type": "code",
   "execution_count": 89,
   "metadata": {},
   "outputs": [
    {
     "data": {
      "text/plain": [
       "true"
      ]
     },
     "execution_count": 89,
     "metadata": {},
     "output_type": "execute_result"
    }
   ],
   "source": [
    "Alu\\b == A\\b"
   ]
  },
  {
   "cell_type": "markdown",
   "metadata": {},
   "source": [
    "possiamo anche trovare il determinante"
   ]
  },
  {
   "cell_type": "code",
   "execution_count": 90,
   "metadata": {},
   "outputs": [
    {
     "data": {
      "text/plain": [
       "true"
      ]
     },
     "execution_count": 90,
     "metadata": {},
     "output_type": "execute_result"
    }
   ],
   "source": [
    "det(Alu) == det(A)"
   ]
  },
  {
   "cell_type": "markdown",
   "metadata": {},
   "source": [
    "julia svolge fattorizzazioni QR in maniera simile"
   ]
  },
  {
   "cell_type": "code",
   "execution_count": 91,
   "metadata": {},
   "outputs": [
    {
     "data": {
      "text/plain": [
       "3×3 LinearAlgebra.QRCompactWYQ{Float64,Array{Float64,2}}:\n",
       " -0.719363   0.424943    0.54949\n",
       " -0.617694  -0.0294635  -0.785867\n",
       " -0.317759  -0.90474     0.28368"
      ]
     },
     "execution_count": 91,
     "metadata": {},
     "output_type": "execute_result"
    }
   ],
   "source": [
    "Aqr = qr(A)\n",
    "Aqr.Q"
   ]
  },
  {
   "cell_type": "markdown",
   "metadata": {},
   "source": [
    "### decomposizione spettrale (eigendecomposition)\n",
    "risultati di decomposiz spettrale vengono salvati in tipi `Factorization`"
   ]
  },
  {
   "cell_type": "code",
   "execution_count": 92,
   "metadata": {},
   "outputs": [
    {
     "data": {
      "text/plain": [
       "Eigen{Float64,Float64,Array{Float64,2},Array{Float64,1}}"
      ]
     },
     "execution_count": 92,
     "metadata": {},
     "output_type": "execute_result"
    }
   ],
   "source": [
    "Asym = A + A'\n",
    "AsymEig = eigen(Asym)\n",
    "typeof(AsymEig)"
   ]
  },
  {
   "cell_type": "markdown",
   "metadata": {},
   "source": [
    "autovalori/autovettori posson essere indicizzat da questo tipo cosi:"
   ]
  },
  {
   "cell_type": "code",
   "execution_count": 93,
   "metadata": {},
   "outputs": [
    {
     "data": {
      "text/plain": [
       "3×3 Array{Float64,2}:\n",
       "  0.0408753   0.860321  0.508112\n",
       " -0.798246   -0.277739  0.534475\n",
       "  0.600942   -0.427445  0.675395"
      ]
     },
     "execution_count": 93,
     "metadata": {},
     "output_type": "execute_result"
    }
   ],
   "source": [
    "AsymEig.values\n",
    "AsymEig.vectors"
   ]
  },
  {
   "cell_type": "markdown",
   "metadata": {},
   "source": [
    "poichè la fattorizzazione è salvata in un tipo particolare, avverrà il dispatch del metodo più adatto quando la useremo, utilizzando quindi le sue proprietà algebriche"
   ]
  },
  {
   "cell_type": "markdown",
   "metadata": {},
   "source": [
    "### struct e attributi speciali per matrici\n",
    "perquanto Julia possa individuare strutture utili e particolari delle matrici, è sempre meglio esplicitarle"
   ]
  },
  {
   "cell_type": "code",
   "execution_count": 95,
   "metadata": {},
   "outputs": [
    {
     "data": {
      "text/plain": [
       "true"
      ]
     },
     "execution_count": 95,
     "metadata": {},
     "output_type": "execute_result"
    }
   ],
   "source": [
    "n = 1000\n",
    "A = randn(n,n)\n",
    "Asym = A + A'\n",
    "issymmetric(Asym)"
   ]
  },
  {
   "cell_type": "markdown",
   "metadata": {},
   "source": [
    "come detto, Julia può riconosciere la simmetria di una matrice, proviamo adesso la stessa cosa con una matrice a cui aggiungiamo degli errori"
   ]
  },
  {
   "cell_type": "code",
   "execution_count": 96,
   "metadata": {},
   "outputs": [
    {
     "data": {
      "text/plain": [
       "false"
      ]
     },
     "execution_count": 96,
     "metadata": {},
     "output_type": "execute_result"
    }
   ],
   "source": [
    "Asym_noisy = copy(Asym)\n",
    "Asym_noisy[1,2] += 5eps() #simulazione di avere dei minuscoli errori nei dati\n",
    "issymmetric(Asym_noisy)"
   ]
  },
  {
   "cell_type": "code",
   "execution_count": 100,
   "metadata": {},
   "outputs": [
    {
     "data": {
      "text/plain": [
       "1.1102230246251565e-15"
      ]
     },
     "execution_count": 100,
     "metadata": {},
     "output_type": "execute_result"
    }
   ],
   "source": [
    "5eps()"
   ]
  },
  {
   "cell_type": "markdown",
   "metadata": {},
   "source": [
    "vediamo che julia non vede più la matrice essere praticamente simmetrica\n",
    "\n",
    "possiamo però dirgli esplicitamente che lo è:"
   ]
  },
  {
   "cell_type": "code",
   "execution_count": 102,
   "metadata": {},
   "outputs": [
    {
     "data": {
      "text/plain": [
       "true"
      ]
     },
     "execution_count": 102,
     "metadata": {},
     "output_type": "execute_result"
    }
   ],
   "source": [
    "Asym_explicit = Symmetric(Asym_noisy);\n",
    "issymmetric(Asym_explicit)"
   ]
  },
  {
   "cell_type": "markdown",
   "metadata": {},
   "source": [
    "vediamo ora come una accortezza di questo tipo possa aumentasre notevolmente la performance con un piccolo benchmark:"
   ]
  },
  {
   "cell_type": "code",
   "execution_count": 103,
   "metadata": {},
   "outputs": [],
   "source": [
    "using BenchmarkTools\n",
    "benchsym = @benchmark eigvals(Asym)\n",
    "benchnoisy = @benchmark eigvals(Asym_noisy)\n",
    "benchexplicit = @benchmark eigvals(Asym_explicit);"
   ]
  },
  {
   "cell_type": "code",
   "execution_count": 138,
   "metadata": {},
   "outputs": [
    {
     "name": "stderr",
     "output_type": "stream",
     "text": [
      "\u001b[32m\u001b[1m  Resolving\u001b[22m\u001b[39m package versions...\n",
      "\u001b[32m\u001b[1mNo Changes\u001b[22m\u001b[39m to `C:\\Users\\i am\\.julia\\environments\\v1.5\\Project.toml`\n",
      "\u001b[32m\u001b[1mNo Changes\u001b[22m\u001b[39m to `C:\\Users\\i am\\.julia\\environments\\v1.5\\Manifest.toml`\n"
     ]
    },
    {
     "data": {
      "text/plain": [
       "         +------------------------------------------------------------+ \n",
       "    3.09 |                                        .,---------------   | \n",
       "         |                                     .r/`|              |   | \n",
       "         |                                  .r/`   |              |   | \n",
       "         |                               _r/`      |              |   | \n",
       "         |                            _-\"          |              |   | \n",
       "         |                         _-\"             |              |   | \n",
       "         |                     ._r=____________.   |              |   | \n",
       "         |                  ../`|              |   |              |   | \n",
       "         |               ../`   |              |   |              |   | \n",
       "         |            ../`      |              |   |              |   | \n",
       "         |         ../`         |              |   |              |   | \n",
       "         |      ../`            |              |   |              |   | \n",
       "         |   ../`               |              |   |              |   | \n",
       "         |   |\"\"\"\"\"\"\"\"\"\"\"\"\"\"\\   |              |   |              |   | \n",
       "         |   |              |   |              |   |              |   | \n",
       "         |   |              |   |              |   |              |   | \n",
       "         |   |              |   |              |   |              |   | \n",
       "         |   |              |   |              |   |              |   | \n",
       "         |   |              |   |              |   |              |   | \n",
       "   -0.09 |------------------^---^--------------^---^------------------| \n",
       "         +------------------------------------------------------------+ \n",
       "         0.42696                                     3.5730399999999998"
      ]
     },
     "execution_count": 138,
     "metadata": {},
     "output_type": "execute_result"
    }
   ],
   "source": [
    "Pkg.add(\"UnicodePlots\")\n",
    "using Plots\n",
    "unicodeplots()\n",
    "\n",
    "\n",
    "names = [\"matrice simmetrica\", \"matrice con \\epsilon \", \"matrice esplicitata simmetrica\"]\n",
    "values = [median(benchsym.times/ 1e6), median(benchnoisy.times/ 1e6), median(benchexplicit.times/ 1e6)]\n",
    "names = [1,2,3]\n",
    "values=[1,2,3]\n",
    "Plots.bar(names,values, legend=false)"
   ]
  },
  {
   "cell_type": "code",
   "execution_count": null,
   "metadata": {},
   "outputs": [],
   "source": [
    "\n"
   ]
  },
  {
   "cell_type": "code",
   "execution_count": null,
   "metadata": {},
   "outputs": [],
   "source": []
  }
 ],
 "metadata": {
  "kernelspec": {
   "display_name": "Julia 1.5.1",
   "language": "julia",
   "name": "julia-1.5"
  },
  "language_info": {
   "file_extension": ".jl",
   "mimetype": "application/julia",
   "name": "julia",
   "version": "1.5.1"
  }
 },
 "nbformat": 4,
 "nbformat_minor": 4
}
