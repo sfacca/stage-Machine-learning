{
 "cells": [
  {
   "cell_type": "markdown",
   "metadata": {},
   "source": [
    "+ https://github.com/JuliaAcademy/DataScience/raw/master/10.%20Neural%20Nets.ipynb"
   ]
  },
  {
   "cell_type": "code",
   "execution_count": 3,
   "metadata": {},
   "outputs": [
    {
     "name": "stderr",
     "output_type": "stream",
     "text": [
      "\u001b[32m\u001b[1m Activating\u001b[22m\u001b[39m environment at `C:\\Users\\i am\\Documents\\GitHub\\stage-Machine-learning\\notebook\\appunti\\Project.toml`\n",
      "\u001b[32m\u001b[1m   Updating\u001b[22m\u001b[39m registry at `C:\\Users\\i am\\.julia\\registries\\General`\n",
      "\u001b[32m\u001b[1m  Resolving\u001b[22m\u001b[39m package versions...\n",
      "\u001b[32m\u001b[1m  Installed\u001b[22m\u001b[39m ZygoteRules ─────── v0.2.0\n",
      "\u001b[32m\u001b[1m  Installed\u001b[22m\u001b[39m Functors ────────── v0.1.0\n",
      "\u001b[32m\u001b[1m  Installed\u001b[22m\u001b[39m Media ───────────── v0.5.0\n",
      "\u001b[32m\u001b[1m  Installed\u001b[22m\u001b[39m IRTools ─────────── v0.4.1\n",
      "\u001b[32m\u001b[1m  Installed\u001b[22m\u001b[39m ChainRules ──────── v0.7.19\n",
      "\u001b[32m\u001b[1m  Installed\u001b[22m\u001b[39m NNlib ───────────── v0.7.4\n",
      "\u001b[32m\u001b[1m  Installed\u001b[22m\u001b[39m Flux ────────────── v0.11.1\n",
      "\u001b[32m\u001b[1m  Installed\u001b[22m\u001b[39m CUDA ────────────── v1.3.3\n",
      "\u001b[32m\u001b[1m  Installed\u001b[22m\u001b[39m MuladdMacro ─────── v0.2.2\n",
      "\u001b[32m\u001b[1m  Installed\u001b[22m\u001b[39m VectorizationBase ─ v0.12.33\n",
      "\u001b[32m\u001b[1m  Installed\u001b[22m\u001b[39m GPUArrays ───────── v5.2.0\n",
      "\u001b[32m\u001b[1m  Installed\u001b[22m\u001b[39m LLVM ────────────── v2.0.0\n",
      "\u001b[32m\u001b[1m  Installed\u001b[22m\u001b[39m SIMDPirates ─────── v0.8.25\n",
      "\u001b[32m\u001b[1m  Installed\u001b[22m\u001b[39m SLEEFPirates ────── v0.5.5\n",
      "\u001b[32m\u001b[1m  Installed\u001b[22m\u001b[39m ChainRulesCore ──── v0.9.10\n",
      "\u001b[32m\u001b[1m  Installed\u001b[22m\u001b[39m Juno ────────────── v0.8.3\n",
      "\u001b[32m\u001b[1m  Installed\u001b[22m\u001b[39m CpuId ───────────── v0.2.2\n",
      "\u001b[32m\u001b[1m  Installed\u001b[22m\u001b[39m Zygote ──────────── v0.5.7\n",
      "\u001b[32m\u001b[1m  Installed\u001b[22m\u001b[39m ArrayLayouts ────── v0.3.8\n",
      "\u001b[32m\u001b[1m  Installed\u001b[22m\u001b[39m GPUCompiler ─────── v0.6.1\n",
      "\u001b[32m\u001b[1m  Installed\u001b[22m\u001b[39m LoopVectorization ─ v0.8.26\n",
      "\u001b[32m\u001b[1mUpdating\u001b[22m\u001b[39m `C:\\Users\\i am\\Documents\\GitHub\\stage-Machine-learning\\notebook\\appunti\\Project.toml`\n",
      " \u001b[90m [587475ba] \u001b[39m\u001b[92m+ Flux v0.11.1\u001b[39m\n",
      "\u001b[32m\u001b[1mUpdating\u001b[22m\u001b[39m `C:\\Users\\i am\\Documents\\GitHub\\stage-Machine-learning\\notebook\\appunti\\Manifest.toml`\n",
      " \u001b[90m [4c555306] \u001b[39m\u001b[92m+ ArrayLayouts v0.3.8\u001b[39m\n",
      " \u001b[90m [052768ef] \u001b[39m\u001b[92m+ CUDA v1.3.3\u001b[39m\n",
      " \u001b[90m [082447d4] \u001b[39m\u001b[92m+ ChainRules v0.7.19\u001b[39m\n",
      " \u001b[90m [d360d2e6] \u001b[39m\u001b[92m+ ChainRulesCore v0.9.10\u001b[39m\n",
      " \u001b[90m [adafc99b] \u001b[39m\u001b[92m+ CpuId v0.2.2\u001b[39m\n",
      " \u001b[90m [587475ba] \u001b[39m\u001b[92m+ Flux v0.11.1\u001b[39m\n",
      " \u001b[90m [d9f16b24] \u001b[39m\u001b[92m+ Functors v0.1.0\u001b[39m\n",
      " \u001b[90m [0c68f7d7] \u001b[39m\u001b[92m+ GPUArrays v5.2.0\u001b[39m\n",
      " \u001b[90m [61eb1bfa] \u001b[39m\u001b[92m+ GPUCompiler v0.6.1\u001b[39m\n",
      " \u001b[90m [7869d1d1] \u001b[39m\u001b[92m+ IRTools v0.4.1\u001b[39m\n",
      " \u001b[90m [e5e0dc1b] \u001b[39m\u001b[92m+ Juno v0.8.3\u001b[39m\n",
      " \u001b[90m [929cbde3] \u001b[39m\u001b[92m+ LLVM v2.0.0\u001b[39m\n",
      " \u001b[90m [bdcacae8] \u001b[39m\u001b[92m+ LoopVectorization v0.8.26\u001b[39m\n",
      " \u001b[90m [e89f7d12] \u001b[39m\u001b[92m+ Media v0.5.0\u001b[39m\n",
      " \u001b[90m [46d2c3a1] \u001b[39m\u001b[92m+ MuladdMacro v0.2.2\u001b[39m\n",
      " \u001b[90m [872c559c] \u001b[39m\u001b[92m+ NNlib v0.7.4\u001b[39m\n",
      " \u001b[90m [21efa798] \u001b[39m\u001b[92m+ SIMDPirates v0.8.25\u001b[39m\n",
      " \u001b[90m [476501e8] \u001b[39m\u001b[92m+ SLEEFPirates v0.5.5\u001b[39m\n",
      " \u001b[90m [3d5dd08c] \u001b[39m\u001b[92m+ VectorizationBase v0.12.33\u001b[39m\n",
      " \u001b[90m [e88e6eb3] \u001b[39m\u001b[92m+ Zygote v0.5.7\u001b[39m\n",
      " \u001b[90m [700de1a5] \u001b[39m\u001b[92m+ ZygoteRules v0.2.0\u001b[39m\n",
      " \u001b[90m [9abbd945] \u001b[39m\u001b[92m+ Profile\u001b[39m\n",
      "\u001b[32m\u001b[1m   Building\u001b[22m\u001b[39m SLEEFPirates → `C:\\Users\\i am\\.julia\\packages\\SLEEFPirates\\jGsib\\deps\\build.log`\n",
      "\u001b[32m\u001b[1mNo Changes\u001b[22m\u001b[39m to `C:\\Users\\i am\\Documents\\GitHub\\stage-Machine-learning\\notebook\\appunti\\Project.toml`\n",
      "\u001b[32m\u001b[1mNo Changes\u001b[22m\u001b[39m to `C:\\Users\\i am\\Documents\\GitHub\\stage-Machine-learning\\notebook\\appunti\\Manifest.toml`\n"
     ]
    },
    {
     "data": {
      "text/plain": [
       "\"out\""
      ]
     },
     "execution_count": 3,
     "metadata": {},
     "output_type": "execute_result"
    }
   ],
   "source": [
    "using Pkg\n",
    "Pkg.activate(\".\")\n",
    "Pkg.instantiate()\n",
    "Pkg.resolve()\n",
    "\n",
    "mkpath(\"downloads\")\n",
    "mkpath(\"out\")"
   ]
  },
  {
   "cell_type": "code",
   "execution_count": 4,
   "metadata": {},
   "outputs": [
    {
     "name": "stderr",
     "output_type": "stream",
     "text": [
      "┌ Info: Precompiling Flux [587475ba-b771-5e3f-ad9e-33799f191a9c]\n",
      "└ @ Base loading.jl:1278\n"
     ]
    },
    {
     "name": "stdout",
     "output_type": "stream",
     "text": [
      "\u001b[32m\u001b[1mDownloading\u001b[22m\u001b[39m artifact: CUDA110\n",
      "\u001b[?25l\u001b[1A\u001b[2K\u001b[?25h\u001b[32m\u001b[1mDownloading\u001b[22m\u001b[39m artifact: CUDNN_CUDA110\n",
      "\u001b[?25l"
     ]
    },
    {
     "name": "stderr",
     "output_type": "stream",
     "text": [
      "Exception calling \"DownloadFile\" with \"2\" argument(s): \"The operation has timed out.\"\r\n",
      "At line:12 char:1\r\n",
      "+ $webclient.DownloadFile(\"https://pkg.julialang.org/artifact/c68026379 ...\r\n",
      "+ ~~~~~~~~~~~~~~~~~~~~~~~~~~~~~~~~~~~~~~~~~~~~~~~~~~~~~~~~~~~~~~~~~~~~~\r\n",
      "    + CategoryInfo          : NotSpecified: (:) [], MethodInvocationException\r\n",
      "    + FullyQualifiedErrorId : WebException\r\n",
      " \r\n"
     ]
    },
    {
     "name": "stdout",
     "output_type": "stream",
     "text": [
      "\u001b[1A\u001b[2K\u001b[?25h\u001b[32m\u001b[1mDownloading\u001b[22m\u001b[39m artifact: CUDNN_CUDA110\n",
      "\u001b[?25l\u001b[1A\u001b[2K\u001b[?25h\u001b[32m\u001b[1mDownloading\u001b[22m\u001b[39m artifact: CUTENSOR_CUDA110\n",
      "\u001b[?25l\u001b[1A\u001b[2K\u001b[?25h"
     ]
    }
   ],
   "source": [
    "using Flux, Flux.Data.MNIST\n",
    "using Flux: onehotbatch, argmax, crossentropy, throttle\n",
    "using Base.Iterators: repeated\n",
    "using Images"
   ]
  },
  {
   "cell_type": "code",
   "execution_count": 5,
   "metadata": {},
   "outputs": [
    {
     "name": "stderr",
     "output_type": "stream",
     "text": [
      "┌ Info: Downloading MNIST dataset\n",
      "└ @ Flux.Data.MNIST C:\\Users\\i am\\.julia\\packages\\Flux\\05b38\\src\\data\\mnist.jl:24\n",
      "┌ Info: Downloading MNIST dataset\n",
      "└ @ Flux.Data.MNIST C:\\Users\\i am\\.julia\\packages\\Flux\\05b38\\src\\data\\mnist.jl:24\n",
      "┌ Info: Downloading MNIST dataset\n",
      "└ @ Flux.Data.MNIST C:\\Users\\i am\\.julia\\packages\\Flux\\05b38\\src\\data\\mnist.jl:24\n",
      "┌ Info: Downloading MNIST dataset\n",
      "└ @ Flux.Data.MNIST C:\\Users\\i am\\.julia\\packages\\Flux\\05b38\\src\\data\\mnist.jl:24\n"
     ]
    },
    {
     "name": "stdout",
     "output_type": "stream",
     "text": [
      "typeof(imgs[3]) = Array{Gray{Normed{UInt8,8}},2}\n",
      "typeof(fpt_imgs[3]) = Array{Float32,2}\n"
     ]
    },
    {
     "data": {
      "text/plain": [
       "Array{Float32,2}"
      ]
     },
     "execution_count": 5,
     "metadata": {},
     "output_type": "execute_result"
    }
   ],
   "source": [
    "# stack cuda: https://juliagpu.gitlab.io/CUDA.jl/\n",
    "# per programmare su gpu nvidia\n",
    "# gpu son ottimizz per calcolare matrici di float32\n",
    "# prendiamo immagini e convertiamole in greyscale per tramutarle in matrici di float32\n",
    "# facciamo ciò su dataset di immagini:\n",
    "imgs = MNIST.images()\n",
    "colorview(Gray, imgs[100])#tipo di un elemento prima delle conversionji\n",
    "@show typeof(imgs[3])\n",
    "# sono ghià in grigio, convertiamo in mat\n",
    "myFloat32(X) = Float32.(X) #definiamo funzione per convertire campi matrice in float32 al volo\n",
    "fpt_imgs = myFloat32.(imgs)#eseguiamola su ogni elemento del dataset di immagini\n",
    "#otteniamo dataset di matrici di float32\n",
    "@show typeof(fpt_imgs[3])#tipo di un elemento dopo conversione"
   ]
  },
  {
   "cell_type": "code",
   "execution_count": 7,
   "metadata": {},
   "outputs": [
    {
     "name": "stdout",
     "output_type": "stream",
     "text": [
      "typeof(fpt_imgs) = Array{Array{Float32,2},1}\n",
      "typeof(vectorized_imgs) = Array{Array{Float32,1},1}\n"
     ]
    },
    {
     "data": {
      "text/plain": [
       "Array{Array{Float32,1},1}"
      ]
     },
     "execution_count": 7,
     "metadata": {},
     "output_type": "execute_result"
    }
   ],
   "source": [
    "#ora vettorizziamo le matrici:\n",
    "@show typeof(fpt_imgs)#tipo del dataset prima della vettorizzaz\n",
    "vectorize(x) = x[:]\n",
    "vectorized_imgs = vectorize.(fpt_imgs);\n",
    "@show typeof(vectorized_imgs)#tipo dataset con matrici vettorizzate"
   ]
  },
  {
   "cell_type": "code",
   "execution_count": 8,
   "metadata": {},
   "outputs": [
    {
     "data": {
      "text/plain": [
       "(784, 60000)"
      ]
     },
     "execution_count": 8,
     "metadata": {},
     "output_type": "execute_result"
    }
   ],
   "source": [
    "#come ultima manipolaz preliminare tramutiamo il dataset in una matrice unidimensionale dove ogni colonna è un immagine vettorizzata:\n",
    "X = hcat(vectorized_imgs...)\n",
    "size(X)"
   ]
  },
  {
   "cell_type": "code",
   "execution_count": 9,
   "metadata": {},
   "outputs": [
    {
     "data": {
      "image/png": "[encoded data removed]",
      "text/plain": [
       "28×28 reinterpret(Gray{Float32}, ::Array{Float32,2}):\n",
       " Gray{Float32}(0.0)  Gray{Float32}(0.0)  …  Gray{Float32}(0.0)\n",
       " Gray{Float32}(0.0)  Gray{Float32}(0.0)     Gray{Float32}(0.0)\n",
       " Gray{Float32}(0.0)  Gray{Float32}(0.0)     Gray{Float32}(0.0)\n",
       " Gray{Float32}(0.0)  Gray{Float32}(0.0)     Gray{Float32}(0.0)\n",
       " Gray{Float32}(0.0)  Gray{Float32}(0.0)     Gray{Float32}(0.0)\n",
       " Gray{Float32}(0.0)  Gray{Float32}(0.0)  …  Gray{Float32}(0.0)\n",
       " Gray{Float32}(0.0)  Gray{Float32}(0.0)     Gray{Float32}(0.0)\n",
       " Gray{Float32}(0.0)  Gray{Float32}(0.0)     Gray{Float32}(0.0)\n",
       " Gray{Float32}(0.0)  Gray{Float32}(0.0)     Gray{Float32}(0.0)\n",
       " Gray{Float32}(0.0)  Gray{Float32}(0.0)     Gray{Float32}(0.0)\n",
       " Gray{Float32}(0.0)  Gray{Float32}(0.0)  …  Gray{Float32}(0.0)\n",
       " Gray{Float32}(0.0)  Gray{Float32}(0.0)     Gray{Float32}(0.0)\n",
       " Gray{Float32}(0.0)  Gray{Float32}(0.0)     Gray{Float32}(0.0)\n",
       " ⋮                                       ⋱  \n",
       " Gray{Float32}(0.0)  Gray{Float32}(0.0)     Gray{Float32}(0.0)\n",
       " Gray{Float32}(0.0)  Gray{Float32}(0.0)     Gray{Float32}(0.0)\n",
       " Gray{Float32}(0.0)  Gray{Float32}(0.0)     Gray{Float32}(0.0)\n",
       " Gray{Float32}(0.0)  Gray{Float32}(0.0)     Gray{Float32}(0.0)\n",
       " Gray{Float32}(0.0)  Gray{Float32}(0.0)  …  Gray{Float32}(0.0)\n",
       " Gray{Float32}(0.0)  Gray{Float32}(0.0)     Gray{Float32}(0.0)\n",
       " Gray{Float32}(0.0)  Gray{Float32}(0.0)     Gray{Float32}(0.0)\n",
       " Gray{Float32}(0.0)  Gray{Float32}(0.0)     Gray{Float32}(0.0)\n",
       " Gray{Float32}(0.0)  Gray{Float32}(0.0)     Gray{Float32}(0.0)\n",
       " Gray{Float32}(0.0)  Gray{Float32}(0.0)  …  Gray{Float32}(0.0)\n",
       " Gray{Float32}(0.0)  Gray{Float32}(0.0)     Gray{Float32}(0.0)\n",
       " Gray{Float32}(0.0)  Gray{Float32}(0.0)     Gray{Float32}(0.0)"
      ]
     },
     "execution_count": 9,
     "metadata": {},
     "output_type": "execute_result"
    }
   ],
   "source": [
    "# abbiamo 60000 colonna = 60000 immagini\n",
    "#per estrarre e eveder un immagine dobbiamo prendere una colonna e ritramutarla in una matrice di float->greyscale\n",
    "onefigure = X[:,3]\n",
    "t1 = reshape(onefigure,28,28)\n",
    "colorview(Gray,t1)"
   ]
  },
  {
   "cell_type": "code",
   "execution_count": 10,
   "metadata": {},
   "outputs": [
    {
     "data": {
      "text/plain": [
       "5"
      ]
     },
     "execution_count": 10,
     "metadata": {},
     "output_type": "execute_result"
    }
   ],
   "source": [
    "#prendiamo le etichette\n",
    "labels = MNIST.labels()\n",
    "labels[1]"
   ]
  },
  {
   "cell_type": "code",
   "execution_count": 11,
   "metadata": {},
   "outputs": [
    {
     "data": {
      "text/plain": [
       "10×60000 Flux.OneHotMatrix{Array{Flux.OneHotVector,1}}:\n",
       " 0  1  0  0  0  0  0  0  0  0  0  0  0  …  0  0  0  0  0  0  0  0  0  0  0  0\n",
       " 0  0  0  1  0  0  1  0  1  0  0  0  0     0  0  0  0  0  0  1  0  0  0  0  0\n",
       " 0  0  0  0  0  1  0  0  0  0  0  0  0     0  0  0  1  0  0  0  0  0  0  0  0\n",
       " 0  0  0  0  0  0  0  1  0  0  1  0  1     0  0  0  0  0  0  0  0  1  0  0  0\n",
       " 0  0  1  0  0  0  0  0  0  1  0  0  0     0  0  0  0  0  0  0  0  0  0  0  0\n",
       " 1  0  0  0  0  0  0  0  0  0  0  1  0  …  0  0  0  0  0  1  0  0  0  1  0  0\n",
       " 0  0  0  0  0  0  0  0  0  0  0  0  0     0  0  0  0  0  0  0  0  0  0  1  0\n",
       " 0  0  0  0  0  0  0  0  0  0  0  0  0     1  0  0  0  0  0  0  0  0  0  0  0\n",
       " 0  0  0  0  0  0  0  0  0  0  0  0  0     0  1  0  0  0  0  0  1  0  0  0  1\n",
       " 0  0  0  0  1  0  0  0  0  0  0  0  0     0  0  1  0  1  0  0  0  0  0  0  0"
      ]
     },
     "execution_count": 11,
     "metadata": {},
     "output_type": "execute_result"
    }
   ],
   "source": [
    "#spoiler: la rete, vedendo un immagine, ritornerà un vettore[10] dove vettore[i=1:10] = probabilità che l'immagine sia il numero i-1\n",
    "#quindi prendiamo le label e tramutiamole in vettore[10] dove vettore[i=1:10] = i sse la label era i-1, 0 altrimenti\n",
    "#un array di questi array è una matrice dove ogni colonna rappresenta la label di un immagine\n",
    "Y = onehotbatch(labels, 0:9)\n",
    "#per migliorare la rete l'algoritmo cercherà di diminuire la differenza tra \n",
    "# la nostra matrice di 0,1 e la matrice di probabilità prodotta dalla rete"
   ]
  },
  {
   "cell_type": "code",
   "execution_count": 18,
   "metadata": {},
   "outputs": [
    {
     "name": "stdout",
     "output_type": "stream",
     "text": [
      "probs = m(onefigure) = Float32[0.09415792, 0.104902506, 0.102652565, 0.15673831, 0.10356263, 0.06977106, 0.113224626, 0.06734401, 0.07693305, 0.11071332]\n",
      "probabilità che l'immagine sia un 1 è: 0.09415792\n"
     ]
    }
   ],
   "source": [
    "#possiamo finalmente costruire la nostra rete\n",
    "m = Chain(\n",
    "  Dense(28^2, 32, relu),\n",
    "  Dense(32, 10),\n",
    "  softmax)\n",
    "# m non è allenata quindi darà risultato veramente poco sicuri:\n",
    "@show probs = m(onefigure)\n",
    "println(\"probabilità che l'immagine sia un 1 è: $(probs[1])\")"
   ]
  },
  {
   "cell_type": "code",
   "execution_count": 19,
   "metadata": {},
   "outputs": [
    {
     "data": {
      "text/plain": [
       "accuracy (generic function with 1 method)"
      ]
     },
     "execution_count": 19,
     "metadata": {},
     "output_type": "execute_result"
    }
   ],
   "source": [
    "#per farlo diventare meglio ci serve una funzione accuracy che ci dica la distanza \n",
    "# tra la predizione e i veri valori e una funzione loss che determini la qualità del\n",
    "# modello al cambiare dei pesi interni(gradiente)\n",
    "loss(x, y) = Flux.crossentropy(m(x), y)\n",
    "accuracy(x, y) = mean(argmax(m(x)) .== argmax(y))\n"
   ]
  },
  {
   "cell_type": "code",
   "execution_count": 20,
   "metadata": {},
   "outputs": [
    {
     "data": {
      "text/plain": [
       "Params([Float32[-0.0045027584 0.02948374 … 0.0035119497 0.033548135; 0.01977537 0.06548451 … 0.04544326 0.041422654; … ; 0.015556296 0.042835925 … -0.05286173 0.012135773; 0.054216303 0.029193146 … -0.012917499 0.019219799], Float32[0.0, 0.0, 0.0, 0.0, 0.0, 0.0, 0.0, 0.0, 0.0, 0.0  …  0.0, 0.0, 0.0, 0.0, 0.0, 0.0, 0.0, 0.0, 0.0, 0.0], Float32[0.2820034 -0.31616735 … -0.018043296 0.30743098; -0.22449003 0.3156856 … 0.12246693 -0.19599344; … ; -0.16123018 -0.05136033 … 0.029608315 -0.1395133; 0.28174505 0.15193322 … -0.093009286 0.0693619], Float32[0.0, 0.0, 0.0, 0.0, 0.0, 0.0, 0.0, 0.0, 0.0, 0.0]])"
      ]
     },
     "execution_count": 20,
     "metadata": {},
     "output_type": "execute_result"
    }
   ],
   "source": [
    "#per aver più campioni ripetiamo i nostri dati\n",
    "datasetx = repeated((X, Y), 200)\n",
    "C = collect(datasetx);\n",
    "#ci creaiamo ance una fun ausiuliaria per far vedere il loss di ogni passo\n",
    "evalcb = () -> @show(loss(X, Y))\n",
    "ps = Flux.params(m)\n"
   ]
  },
  {
   "cell_type": "code",
   "execution_count": 30,
   "metadata": {},
   "outputs": [
    {
     "name": "stdout",
     "output_type": "stream",
     "text": [
      "loss(X, Y) = 0.26937f0\n",
      "loss(X, Y) = 0.19216695f0\n",
      "loss(X, Y) = 0.1510896f0\n",
      "loss(X, Y) = 0.12133646f0\n"
     ]
    }
   ],
   "source": [
    "opt = ADAM()\n",
    "Flux.train!(loss#funzione loss\n",
    "    , ps#parametri\n",
    "    , datasetx#i nostri campioni\n",
    "    , opt#ottimizzatore\n",
    "    , cb = throttle(evalcb, 10)#callback\n",
    ")"
   ]
  },
  {
   "cell_type": "code",
   "execution_count": 22,
   "metadata": {},
   "outputs": [
    {
     "data": {
      "text/plain": [
       "10-element Array{Float32,1}:\n",
       " 8.825675f-5\n",
       " 6.3525586f-6\n",
       " 0.00023379612\n",
       " 0.0016785805\n",
       " 1.5218548f-5\n",
       " 0.00013615881\n",
       " 5.44824f-7\n",
       " 0.9960795\n",
       " 0.00011184748\n",
       " 0.0016496812"
      ]
     },
     "execution_count": 22,
     "metadata": {},
     "output_type": "execute_result"
    }
   ],
   "source": [
    "tX = hcat(float.(reshape.(MNIST.images(:test), :))...);\n",
    "test_image = m(tX[:,1])"
   ]
  },
  {
   "cell_type": "code",
   "execution_count": 23,
   "metadata": {},
   "outputs": [
    {
     "data": {
      "text/plain": [
       "7"
      ]
     },
     "execution_count": 23,
     "metadata": {},
     "output_type": "execute_result"
    }
   ],
   "source": [
    "argmax(test_image) - 1#NB: +-1, l array delle labels parte dallo 0!"
   ]
  },
  {
   "cell_type": "code",
   "execution_count": 24,
   "metadata": {},
   "outputs": [
    {
     "data": {
      "image/png": "[encoded data removed]",
      "text/plain": [
       "28×28 Array{Gray{Float32},2} with eltype Gray{Float32}:\n",
       " Gray{Float32}(0.0)  Gray{Float32}(0.0)  …  Gray{Float32}(0.0)\n",
       " Gray{Float32}(0.0)  Gray{Float32}(0.0)     Gray{Float32}(0.0)\n",
       " Gray{Float32}(0.0)  Gray{Float32}(0.0)     Gray{Float32}(0.0)\n",
       " Gray{Float32}(0.0)  Gray{Float32}(0.0)     Gray{Float32}(0.0)\n",
       " Gray{Float32}(0.0)  Gray{Float32}(0.0)     Gray{Float32}(0.0)\n",
       " Gray{Float32}(0.0)  Gray{Float32}(0.0)  …  Gray{Float32}(0.0)\n",
       " Gray{Float32}(0.0)  Gray{Float32}(0.0)     Gray{Float32}(0.0)\n",
       " Gray{Float32}(0.0)  Gray{Float32}(0.0)     Gray{Float32}(0.0)\n",
       " Gray{Float32}(0.0)  Gray{Float32}(0.0)     Gray{Float32}(0.0)\n",
       " Gray{Float32}(0.0)  Gray{Float32}(0.0)     Gray{Float32}(0.0)\n",
       " Gray{Float32}(0.0)  Gray{Float32}(0.0)  …  Gray{Float32}(0.0)\n",
       " Gray{Float32}(0.0)  Gray{Float32}(0.0)     Gray{Float32}(0.0)\n",
       " Gray{Float32}(0.0)  Gray{Float32}(0.0)     Gray{Float32}(0.0)\n",
       " ⋮                                       ⋱  \n",
       " Gray{Float32}(0.0)  Gray{Float32}(0.0)     Gray{Float32}(0.0)\n",
       " Gray{Float32}(0.0)  Gray{Float32}(0.0)     Gray{Float32}(0.0)\n",
       " Gray{Float32}(0.0)  Gray{Float32}(0.0)     Gray{Float32}(0.0)\n",
       " Gray{Float32}(0.0)  Gray{Float32}(0.0)     Gray{Float32}(0.0)\n",
       " Gray{Float32}(0.0)  Gray{Float32}(0.0)  …  Gray{Float32}(0.0)\n",
       " Gray{Float32}(0.0)  Gray{Float32}(0.0)     Gray{Float32}(0.0)\n",
       " Gray{Float32}(0.0)  Gray{Float32}(0.0)     Gray{Float32}(0.0)\n",
       " Gray{Float32}(0.0)  Gray{Float32}(0.0)     Gray{Float32}(0.0)\n",
       " Gray{Float32}(0.0)  Gray{Float32}(0.0)     Gray{Float32}(0.0)\n",
       " Gray{Float32}(0.0)  Gray{Float32}(0.0)  …  Gray{Float32}(0.0)\n",
       " Gray{Float32}(0.0)  Gray{Float32}(0.0)     Gray{Float32}(0.0)\n",
       " Gray{Float32}(0.0)  Gray{Float32}(0.0)     Gray{Float32}(0.0)"
      ]
     },
     "execution_count": 24,
     "metadata": {},
     "output_type": "execute_result"
    }
   ],
   "source": [
    "t1 = reshape(tX[:,1],28,28)\n",
    "colorview(Gray, t1)"
   ]
  },
  {
   "cell_type": "code",
   "execution_count": 25,
   "metadata": {},
   "outputs": [
    {
     "data": {
      "text/plain": [
       "10-element Array{Float32,1}:\n",
       " 0.99900216\n",
       " 2.659815f-7\n",
       " 0.00011560897\n",
       " 9.670487f-5\n",
       " 3.789181f-7\n",
       " 0.0006195735\n",
       " 2.803632f-5\n",
       " 1.9329193f-5\n",
       " 9.016732f-5\n",
       " 2.7874226f-5"
      ]
     },
     "execution_count": 25,
     "metadata": {},
     "output_type": "execute_result"
    }
   ],
   "source": [
    "onefigure = X[:,2]\n",
    "m(onefigure)"
   ]
  },
  {
   "cell_type": "code",
   "execution_count": 27,
   "metadata": {},
   "outputs": [
    {
     "data": {
      "image/png": "[encoded data removed]",
      "text/plain": [
       "28×28 reinterpret(Gray{Float32}, ::Array{Float32,2}):\n",
       " Gray{Float32}(0.0)  Gray{Float32}(0.0)  …  Gray{Float32}(0.0)\n",
       " Gray{Float32}(0.0)  Gray{Float32}(0.0)     Gray{Float32}(0.0)\n",
       " Gray{Float32}(0.0)  Gray{Float32}(0.0)     Gray{Float32}(0.0)\n",
       " Gray{Float32}(0.0)  Gray{Float32}(0.0)     Gray{Float32}(0.0)\n",
       " Gray{Float32}(0.0)  Gray{Float32}(0.0)     Gray{Float32}(0.0)\n",
       " Gray{Float32}(0.0)  Gray{Float32}(0.0)  …  Gray{Float32}(0.0)\n",
       " Gray{Float32}(0.0)  Gray{Float32}(0.0)     Gray{Float32}(0.0)\n",
       " Gray{Float32}(0.0)  Gray{Float32}(0.0)     Gray{Float32}(0.0)\n",
       " Gray{Float32}(0.0)  Gray{Float32}(0.0)     Gray{Float32}(0.0)\n",
       " Gray{Float32}(0.0)  Gray{Float32}(0.0)     Gray{Float32}(0.0)\n",
       " Gray{Float32}(0.0)  Gray{Float32}(0.0)  …  Gray{Float32}(0.0)\n",
       " Gray{Float32}(0.0)  Gray{Float32}(0.0)     Gray{Float32}(0.0)\n",
       " Gray{Float32}(0.0)  Gray{Float32}(0.0)     Gray{Float32}(0.0)\n",
       " ⋮                                       ⋱  \n",
       " Gray{Float32}(0.0)  Gray{Float32}(0.0)     Gray{Float32}(0.0)\n",
       " Gray{Float32}(0.0)  Gray{Float32}(0.0)     Gray{Float32}(0.0)\n",
       " Gray{Float32}(0.0)  Gray{Float32}(0.0)     Gray{Float32}(0.0)\n",
       " Gray{Float32}(0.0)  Gray{Float32}(0.0)     Gray{Float32}(0.0)\n",
       " Gray{Float32}(0.0)  Gray{Float32}(0.0)  …  Gray{Float32}(0.0)\n",
       " Gray{Float32}(0.0)  Gray{Float32}(0.0)     Gray{Float32}(0.0)\n",
       " Gray{Float32}(0.0)  Gray{Float32}(0.0)     Gray{Float32}(0.0)\n",
       " Gray{Float32}(0.0)  Gray{Float32}(0.0)     Gray{Float32}(0.0)\n",
       " Gray{Float32}(0.0)  Gray{Float32}(0.0)     Gray{Float32}(0.0)\n",
       " Gray{Float32}(0.0)  Gray{Float32}(0.0)  …  Gray{Float32}(0.0)\n",
       " Gray{Float32}(0.0)  Gray{Float32}(0.0)     Gray{Float32}(0.0)\n",
       " Gray{Float32}(0.0)  Gray{Float32}(0.0)     Gray{Float32}(0.0)"
      ]
     },
     "execution_count": 27,
     "metadata": {},
     "output_type": "execute_result"
    }
   ],
   "source": [
    "t1 = reshape(X[:,2],28,28)\n",
    "colorview(Gray, t1)"
   ]
  },
  {
   "cell_type": "code",
   "execution_count": 28,
   "metadata": {},
   "outputs": [
    {
     "data": {
      "text/plain": [
       "ADAM(0.001, (0.9, 0.999), IdDict{Any,Any}(Float32[0.371211 -0.36470917 … -0.01857748 0.403757; -0.30993247 0.35369977 … 0.2865198 -0.308877; … ; -0.21404907 -0.018822232 … -0.11445768 -0.099103086; 0.20205645 0.35386106 … 0.031816255 0.010945133] => (Float32[-0.002340452 0.0008147057 … 0.0005721405 -0.0040540993; 0.00042545822 -0.0012857672 … -0.0040810537 0.0028622968; … ; 4.461394f-5 -0.00024326927 … 0.003881447 -0.0007869803; 0.00070955785 -0.002369356 … -0.0014933391 9.175124f-5], Float32[7.550027f-5 1.1596413f-6 … 3.388898f-7 0.00011129386; 1.8575727f-5 1.048251f-6 … 4.1585376f-6 2.7929778f-5; … ; 1.7835823f-6 3.974151f-8 … 6.3780276f-6 1.1115386f-6; 4.844259f-6 1.2800392f-6 … 6.800144f-7 2.9964285f-6], (6.349571197789829e-10, 0.8178301806491574)),Float32[0.05304868, 0.04068923, -0.03393045, -0.071381986, 0.048796844, 0.073015325, -0.0016282666, 0.057589967, -0.12515531, -0.011664683] => (Float32[-0.00030099784, -0.00078369817, -0.00040250417, 0.0013699015, -0.0007289902, -0.0019099573, 0.00031456864, -0.000907679, 0.0029428285, 0.0004064434], Float32[1.1136819f-5, 7.876602f-6, 8.724818f-6, 1.6432083f-5, 1.34826005f-5, 2.0385091f-6, 6.052986f-6, 4.7515073f-6, 1.0089923f-5, 1.3070311f-6], (6.349571197789829e-10, 0.8178301806491574)),Float32[-0.0045027584 0.02948374 … 0.0035119497 0.033548135; 0.01977537 0.06548451 … 0.04544326 0.041422654; … ; 0.015556296 0.042835925 … -0.05286173 0.012135773; 0.054216303 0.029193146 … -0.012917499 0.019219799] => (Float32[0.0 0.0 … 0.0 0.0; 0.0 0.0 … 0.0 0.0; … ; 0.0 0.0 … 0.0 0.0; 0.0 0.0 … 0.0 0.0], Float32[0.0 0.0 … 0.0 0.0; 0.0 0.0 … 0.0 0.0; … ; 0.0 0.0 … 0.0 0.0; 0.0 0.0 … 0.0 0.0], (6.349571197789829e-10, 0.8178301806491574)),Float32[0.03281839, 0.0022789303, -0.018449243, -0.06479066, 0.09855636, -0.04098795, 0.059862092, 0.04068718, 0.018825242, 0.008054619  …  -0.104102835, 0.07035371, 0.048018724, -0.10479542, -0.02453708, 0.049536776, 0.033393238, 0.09495629, 0.05340759, 0.016709745] => (Float32[-0.00033091326, 0.00072439, 0.00089345046, 0.0004951538, -0.0010370159, 0.001101039, -0.0016271553, -0.00022810916, -0.0010864355, 0.00045692772  …  0.0015570839, -0.0009060767, -0.0005220665, 0.0017410541, -3.281843f-6, -0.00038374757, -0.0002805333, -0.001229599, -0.00026458228, 0.0007103752], Float32[4.496045f-6, 6.23355f-6, 2.1926694f-6, 3.3516812f-7, 1.6988654f-6, 1.6128732f-6, 3.0164374f-5, 4.9700097f-6, 2.5558843f-6, 1.1936852f-6  …  1.909069f-6, 1.1690352f-5, 1.4936438f-5, 1.8561143f-6, 1.1010698f-6, 1.4369608f-5, 2.1489386f-6, 2.4298818f-6, 1.2867555f-6, 3.1077805f-6], (6.349571197789829e-10, 0.8178301806491574))))"
      ]
     },
     "execution_count": 28,
     "metadata": {},
     "output_type": "execute_result"
    }
   ],
   "source": [
    "opt"
   ]
  },
  {
   "cell_type": "code",
   "execution_count": 29,
   "metadata": {},
   "outputs": [
    {
     "name": "stdout",
     "output_type": "stream",
     "text": [
      "search: \u001b[0m\u001b[1mA\u001b[22m\u001b[0m\u001b[1mD\u001b[22m\u001b[0m\u001b[1mA\u001b[22m\u001b[0m\u001b[1mM\u001b[22m \u001b[0m\u001b[1mA\u001b[22m\u001b[0m\u001b[1mD\u001b[22m\u001b[0m\u001b[1mA\u001b[22m\u001b[0m\u001b[1mM\u001b[22mW \u001b[0m\u001b[1mA\u001b[22m\u001b[0m\u001b[1md\u001b[22m\u001b[0m\u001b[1ma\u001b[22m\u001b[0m\u001b[1mM\u001b[22max R\u001b[0m\u001b[1mA\u001b[22m\u001b[0m\u001b[1mD\u001b[22m\u001b[0m\u001b[1mA\u001b[22m\u001b[0m\u001b[1mM\u001b[22m N\u001b[0m\u001b[1mA\u001b[22m\u001b[0m\u001b[1mD\u001b[22m\u001b[0m\u001b[1mA\u001b[22m\u001b[0m\u001b[1mM\u001b[22m H\u001b[0m\u001b[1ma\u001b[22ms\u001b[0m\u001b[1mD\u001b[22mimN\u001b[0m\u001b[1ma\u001b[22m\u001b[0m\u001b[1mm\u001b[22mes \u001b[0m\u001b[1mA\u001b[22m\u001b[0m\u001b[1md\u001b[22m\u001b[0m\u001b[1ma\u001b[22mptive\u001b[0m\u001b[1mM\u001b[22maxPool\n",
      "\n"
     ]
    },
    {
     "data": {
      "text/latex": [
       "\\begin{verbatim}\n",
       "ADAM(η = 0.001, β::Tuple = (0.9, 0.999))\n",
       "\\end{verbatim}\n",
       "\\href{https://arxiv.org/abs/1412.6980}{ADAM} optimiser.\n",
       "\n",
       "\\section{Parameters}\n",
       "\\begin{itemize}\n",
       "\\item Learning rate (\\texttt{η}): Amount by which gradients are discounted before updating                      the weights.\n",
       "\n",
       "\n",
       "\\item Decay of momentums (\\texttt{β::Tuple}): Exponential decay for the first (β1) and the                                  second (β2) momentum estimate.\n",
       "\n",
       "\\end{itemize}\n",
       "\\section{Examples}\n",
       "\\begin{verbatim}\n",
       "opt = ADAM()\n",
       "\n",
       "opt = ADAM(0.001, (0.9, 0.8))\n",
       "\\end{verbatim}\n"
      ],
      "text/markdown": [
       "```\n",
       "ADAM(η = 0.001, β::Tuple = (0.9, 0.999))\n",
       "```\n",
       "\n",
       "[ADAM](https://arxiv.org/abs/1412.6980) optimiser.\n",
       "\n",
       "# Parameters\n",
       "\n",
       "  * Learning rate (`η`): Amount by which gradients are discounted before updating                      the weights.\n",
       "  * Decay of momentums (`β::Tuple`): Exponential decay for the first (β1) and the                                  second (β2) momentum estimate.\n",
       "\n",
       "# Examples\n",
       "\n",
       "```julia\n",
       "opt = ADAM()\n",
       "\n",
       "opt = ADAM(0.001, (0.9, 0.8))\n",
       "```\n"
      ],
      "text/plain": [
       "\u001b[36m  ADAM(η = 0.001, β::Tuple = (0.9, 0.999))\u001b[39m\n",
       "\n",
       "  ADAM (https://arxiv.org/abs/1412.6980) optimiser.\n",
       "\n",
       "\u001b[1m  Parameters\u001b[22m\n",
       "\u001b[1m  ≡≡≡≡≡≡≡≡≡≡≡≡\u001b[22m\n",
       "\n",
       "    •    Learning rate (\u001b[36mη\u001b[39m): Amount by which gradients are discounted before\n",
       "        updating the weights.\n",
       "\n",
       "    •    Decay of momentums (\u001b[36mβ::Tuple\u001b[39m): Exponential decay for the first\n",
       "        (β1) and the second (β2) momentum estimate.\n",
       "\n",
       "\u001b[1m  Examples\u001b[22m\n",
       "\u001b[1m  ≡≡≡≡≡≡≡≡≡≡\u001b[22m\n",
       "\n",
       "\u001b[36m  opt = ADAM()\u001b[39m\n",
       "\u001b[36m  \u001b[39m\n",
       "\u001b[36m  opt = ADAM(0.001, (0.9, 0.8))\u001b[39m"
      ]
     },
     "execution_count": 29,
     "metadata": {},
     "output_type": "execute_result"
    }
   ],
   "source": [
    "?ADAM"
   ]
  },
  {
   "cell_type": "code",
   "execution_count": null,
   "metadata": {},
   "outputs": [],
   "source": []
  }
 ],
 "metadata": {
  "kernelspec": {
   "display_name": "Julia 1.5.1",
   "language": "julia",
   "name": "julia-1.5"
  },
  "language_info": {
   "file_extension": ".jl",
   "mimetype": "application/julia",
   "name": "julia",
   "version": "1.5.1"
  }
 },
 "nbformat": 4,
 "nbformat_minor": 4
}
