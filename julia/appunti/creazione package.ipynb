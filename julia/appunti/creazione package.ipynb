{
 "cells": [
  {
   "cell_type": "markdown",
   "metadata": {},
   "source": [
    "+ https://julialang.github.io/Pkg.jl/v1/creating-packages/#:~:text=To%20generate%20files%20for%20a%20new%20package%2C%20use%20pkg%3E%20generate%20.&text=We%20can%20now%20activate%20the,%3E%20import%20HelloWorld%20julia%3E%20HelloWorld.\n",
    "   \n",
    "   \n",
    "1. crea struttura con pkg templates\n",
    "2. dalla repl di julia, vai lla cartella generata dal template\n",
    "3. pkg-> activate .\n",
    "4. pkg-> add dipendenze\n",
    "5. registra pkg con registrator https://github.com/JuliaRegistries/Registrator.jl/#registrator"
   ]
  },
  {
   "cell_type": "code",
   "execution_count": null,
   "metadata": {},
   "outputs": [],
   "source": []
  }
 ],
 "metadata": {
  "kernelspec": {
   "display_name": "Julia 1.5.1",
   "language": "julia",
   "name": "julia-1.5"
  },
  "language_info": {
   "file_extension": ".jl",
   "mimetype": "application/julia",
   "name": "julia",
   "version": "1.5.1"
  }
 },
 "nbformat": 4,
 "nbformat_minor": 4
}
