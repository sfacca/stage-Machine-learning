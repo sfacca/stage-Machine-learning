{
 "cells": [
  {
   "cell_type": "markdown",
   "metadata": {},
   "source": [
    "+ https://www.queryverse.org/  \n",
    "+ https://www.youtube.com/watch?v=OFPNph-WxLM"
   ]
  },
  {
   "cell_type": "code",
   "execution_count": 44,
   "metadata": {},
   "outputs": [
    {
     "name": "stderr",
     "output_type": "stream",
     "text": [
      "\u001b[32m\u001b[1m Activating\u001b[22m\u001b[39m environment at `C:\\Users\\i am\\Documents\\GitHub\\stage-Machine-learning\\notebook\\appunti\\Project.toml`\n"
     ]
    }
   ],
   "source": [
    "using Pkg\n",
    "Pkg.activate(\".\")\n",
    "\n",
    "\n",
    "Pkg.instantiate()"
   ]
  },
  {
   "cell_type": "code",
   "execution_count": 3,
   "metadata": {},
   "outputs": [],
   "source": [
    "using Queryverse\n",
    "using VegaDatasets\n",
    "using IndexedTables\n",
    "using CSV\n",
    "#using GLM"
   ]
  },
  {
   "cell_type": "code",
   "execution_count": 46,
   "metadata": {},
   "outputs": [
    {
     "data": {
      "text/plain": [
       "\"out/cars.csv\""
      ]
     },
     "execution_count": 46,
     "metadata": {},
     "output_type": "execute_result"
    }
   ],
   "source": [
    "cars= DataFrame(dataset(\"cars\"))\n",
    "typeof(cars)\n",
    "CSV.write(\"out/cars.csv\",cars)"
   ]
  },
  {
   "cell_type": "markdown",
   "metadata": {},
   "source": [
    "# queryverse\n",
    "stack di pacchetti julia dedicati a data science\n"
   ]
  },
  {
   "cell_type": "markdown",
   "metadata": {},
   "source": [
    "# voyager\n",
    "summary grafico di dataset, scieglie automaticamente rappresentazione grafica opportuna per ogni elemento del dataset"
   ]
  },
  {
   "cell_type": "code",
   "execution_count": 4,
   "metadata": {},
   "outputs": [
    {
     "name": "stdout",
     "output_type": "stream",
     "text": [
      "\r\n"
     ]
    },
    {
     "ename": "LoadError",
     "evalue": "Path contained unexpected character",
     "output_type": "error",
     "traceback": [
      "Path contained unexpected character",
      "",
      "Stacktrace:",
      " [1] error(::String) at .\\error.jl:33",
      " [2] parse_url(::String) at C:\\Users\\i am\\.julia\\packages\\URIParser\\IuWoB\\src\\parser.jl:278",
      " [3] URI at C:\\Users\\i am\\.julia\\packages\\URIParser\\IuWoB\\src\\parser.jl:312 [inlined]",
      " [4] Voyager() at C:\\Users\\i am\\.julia\\packages\\DataVoyager\\71yWt\\src\\DataVoyager.jl:23",
      " [5] top-level scope at In[4]:2",
      " [6] include_string(::Function, ::Module, ::String, ::String) at .\\loading.jl:1091"
     ]
    }
   ],
   "source": [
    "\n",
    "v = Voyager()"
   ]
  },
  {
   "cell_type": "code",
   "execution_count": 10,
   "metadata": {},
   "outputs": [
    {
     "name": "stdout",
     "output_type": "stream",
     "text": [
      "\r\n"
     ]
    },
    {
     "ename": "LoadError",
     "evalue": "Path contained unexpected character",
     "output_type": "error",
     "traceback": [
      "Path contained unexpected character",
      "",
      "Stacktrace:",
      " [1] error(::String) at .\\error.jl:33",
      " [2] parse_url(::String) at C:\\Users\\i am\\.julia\\packages\\URIParser\\IuWoB\\src\\parser.jl:278",
      " [3] URI at C:\\Users\\i am\\.julia\\packages\\URIParser\\IuWoB\\src\\parser.jl:312 [inlined]",
      " [4] Voyager() at C:\\Users\\i am\\.julia\\packages\\DataVoyager\\71yWt\\src\\DataVoyager.jl:23",
      " [5] top-level scope at In[10]:1",
      " [6] include_string(::Function, ::Module, ::String, ::String) at .\\loading.jl:1091"
     ]
    }
   ],
   "source": [
    "cars |> Voyager()"
   ]
  },
  {
   "cell_type": "code",
   "execution_count": null,
   "metadata": {},
   "outputs": [],
   "source": [
    "#???"
   ]
  },
  {
   "cell_type": "markdown",
   "metadata": {},
   "source": [
    "# file io\n",
    "salvataggio/caricamento dati"
   ]
  },
  {
   "cell_type": "code",
   "execution_count": 6,
   "metadata": {
    "scrolled": false
   },
   "outputs": [],
   "source": [
    "cars = load(\"out/cars.csv\") \n",
    "cars |> @filter(_.Origin==\"USA\") |> save(\"out/us_cars.csv\")"
   ]
  },
  {
   "cell_type": "markdown",
   "metadata": {},
   "source": [
    "# query\n",
    "manipolazione dati"
   ]
  },
  {
   "cell_type": "code",
   "execution_count": 26,
   "metadata": {},
   "outputs": [
    {
     "data": {
      "application/vnd.dataresource+json": {
       "data": [
        {
         "Acceleration": 12,
         "Cylinders": 8,
         "Displacement": 307,
         "Horsepower": 130,
         "Miles_per_Gallon": 18,
         "Name": "chevrolet chevelle malibu",
         "Origin": "USA",
         "Weight_in_lbs": 3504,
         "Year": "1970-01-01"
        },
        {
         "Acceleration": 11.5,
         "Cylinders": 8,
         "Displacement": 350,
         "Horsepower": 165,
         "Miles_per_Gallon": 15,
         "Name": "buick skylark 320",
         "Origin": "USA",
         "Weight_in_lbs": 3693,
         "Year": "1970-01-01"
        },
        {
         "Acceleration": 11,
         "Cylinders": 8,
         "Displacement": 318,
         "Horsepower": 150,
         "Miles_per_Gallon": 18,
         "Name": "plymouth satellite",
         "Origin": "USA",
         "Weight_in_lbs": 3436,
         "Year": "1970-01-01"
        },
        {
         "Acceleration": 12,
         "Cylinders": 8,
         "Displacement": 304,
         "Horsepower": 150,
         "Miles_per_Gallon": 16,
         "Name": "amc rebel sst",
         "Origin": "USA",
         "Weight_in_lbs": 3433,
         "Year": "1970-01-01"
        },
        {
         "Acceleration": 10.5,
         "Cylinders": 8,
         "Displacement": 302,
         "Horsepower": 140,
         "Miles_per_Gallon": 17,
         "Name": "ford torino",
         "Origin": "USA",
         "Weight_in_lbs": 3449,
         "Year": "1970-01-01"
        },
        {
         "Acceleration": 10,
         "Cylinders": 8,
         "Displacement": 429,
         "Horsepower": 198,
         "Miles_per_Gallon": 15,
         "Name": "ford galaxie 500",
         "Origin": "USA",
         "Weight_in_lbs": 4341,
         "Year": "1970-01-01"
        },
        {
         "Acceleration": 9,
         "Cylinders": 8,
         "Displacement": 454,
         "Horsepower": 220,
         "Miles_per_Gallon": 14,
         "Name": "chevrolet impala",
         "Origin": "USA",
         "Weight_in_lbs": 4354,
         "Year": "1970-01-01"
        },
        {
         "Acceleration": 8.5,
         "Cylinders": 8,
         "Displacement": 440,
         "Horsepower": 215,
         "Miles_per_Gallon": 14,
         "Name": "plymouth fury iii",
         "Origin": "USA",
         "Weight_in_lbs": 4312,
         "Year": "1970-01-01"
        },
        {
         "Acceleration": 10,
         "Cylinders": 8,
         "Displacement": 455,
         "Horsepower": 225,
         "Miles_per_Gallon": 14,
         "Name": "pontiac catalina",
         "Origin": "USA",
         "Weight_in_lbs": 4425,
         "Year": "1970-01-01"
        },
        {
         "Acceleration": 8.5,
         "Cylinders": 8,
         "Displacement": 390,
         "Horsepower": 190,
         "Miles_per_Gallon": 15,
         "Name": "amc ambassador dpl",
         "Origin": "USA",
         "Weight_in_lbs": 3850,
         "Year": "1970-01-01"
        },
        {
         "Acceleration": 11.5,
         "Cylinders": 8,
         "Displacement": 350,
         "Horsepower": 165,
         "Miles_per_Gallon": null,
         "Name": "chevrolet chevelle concours (sw)",
         "Origin": "USA",
         "Weight_in_lbs": 4142,
         "Year": "1970-01-01"
        },
        {
         "Acceleration": 11,
         "Cylinders": 8,
         "Displacement": 351,
         "Horsepower": 153,
         "Miles_per_Gallon": null,
         "Name": "ford torino (sw)",
         "Origin": "USA",
         "Weight_in_lbs": 4034,
         "Year": "1970-01-01"
        },
        {
         "Acceleration": 10.5,
         "Cylinders": 8,
         "Displacement": 383,
         "Horsepower": 175,
         "Miles_per_Gallon": null,
         "Name": "plymouth satellite (sw)",
         "Origin": "USA",
         "Weight_in_lbs": 4166,
         "Year": "1970-01-01"
        },
        {
         "Acceleration": 11,
         "Cylinders": 8,
         "Displacement": 360,
         "Horsepower": 175,
         "Miles_per_Gallon": null,
         "Name": "amc rebel sst (sw)",
         "Origin": "USA",
         "Weight_in_lbs": 3850,
         "Year": "1970-01-01"
        },
        {
         "Acceleration": 10,
         "Cylinders": 8,
         "Displacement": 383,
         "Horsepower": 170,
         "Miles_per_Gallon": 15,
         "Name": "dodge challenger se",
         "Origin": "USA",
         "Weight_in_lbs": 3563,
         "Year": "1970-01-01"
        },
        {
         "Acceleration": 8,
         "Cylinders": 8,
         "Displacement": 340,
         "Horsepower": 160,
         "Miles_per_Gallon": 14,
         "Name": "plymouth 'cuda 340",
         "Origin": "USA",
         "Weight_in_lbs": 3609,
         "Year": "1970-01-01"
        },
        {
         "Acceleration": 8,
         "Cylinders": 8,
         "Displacement": 302,
         "Horsepower": 140,
         "Miles_per_Gallon": null,
         "Name": "ford mustang boss 302",
         "Origin": "USA",
         "Weight_in_lbs": 3353,
         "Year": "1970-01-01"
        },
        {
         "Acceleration": 9.5,
         "Cylinders": 8,
         "Displacement": 400,
         "Horsepower": 150,
         "Miles_per_Gallon": 15,
         "Name": "chevrolet monte carlo",
         "Origin": "USA",
         "Weight_in_lbs": 3761,
         "Year": "1970-01-01"
        },
        {
         "Acceleration": 10,
         "Cylinders": 8,
         "Displacement": 455,
         "Horsepower": 225,
         "Miles_per_Gallon": 14,
         "Name": "buick estate wagon (sw)",
         "Origin": "USA",
         "Weight_in_lbs": 3086,
         "Year": "1970-01-01"
        },
        {
         "Acceleration": 15.5,
         "Cylinders": 6,
         "Displacement": 198,
         "Horsepower": 95,
         "Miles_per_Gallon": 22,
         "Name": "plymouth duster",
         "Origin": "USA",
         "Weight_in_lbs": 2833,
         "Year": "1970-01-01"
        },
        {
         "Acceleration": 15.5,
         "Cylinders": 6,
         "Displacement": 199,
         "Horsepower": 97,
         "Miles_per_Gallon": 18,
         "Name": "amc hornet",
         "Origin": "USA",
         "Weight_in_lbs": 2774,
         "Year": "1970-01-01"
        },
        {
         "Acceleration": 16,
         "Cylinders": 6,
         "Displacement": 200,
         "Horsepower": 85,
         "Miles_per_Gallon": 21,
         "Name": "ford maverick",
         "Origin": "USA",
         "Weight_in_lbs": 2587,
         "Year": "1970-01-01"
        },
        {
         "Acceleration": 15,
         "Cylinders": 6,
         "Displacement": 199,
         "Horsepower": 90,
         "Miles_per_Gallon": 21,
         "Name": "amc gremlin",
         "Origin": "USA",
         "Weight_in_lbs": 2648,
         "Year": "1970-01-01"
        },
        {
         "Acceleration": 14,
         "Cylinders": 8,
         "Displacement": 360,
         "Horsepower": 215,
         "Miles_per_Gallon": 10,
         "Name": "ford f250",
         "Origin": "USA",
         "Weight_in_lbs": 4615,
         "Year": "1970-01-01"
        },
        {
         "Acceleration": 15,
         "Cylinders": 8,
         "Displacement": 307,
         "Horsepower": 200,
         "Miles_per_Gallon": 10,
         "Name": "chevy c20",
         "Origin": "USA",
         "Weight_in_lbs": 4376,
         "Year": "1970-01-01"
        },
        {
         "Acceleration": 13.5,
         "Cylinders": 8,
         "Displacement": 318,
         "Horsepower": 210,
         "Miles_per_Gallon": 11,
         "Name": "dodge d200",
         "Origin": "USA",
         "Weight_in_lbs": 4382,
         "Year": "1970-01-01"
        },
        {
         "Acceleration": 18.5,
         "Cylinders": 8,
         "Displacement": 304,
         "Horsepower": 193,
         "Miles_per_Gallon": 9,
         "Name": "hi 1200d",
         "Origin": "USA",
         "Weight_in_lbs": 4732,
         "Year": "1970-01-01"
        },
        {
         "Acceleration": 15.5,
         "Cylinders": 4,
         "Displacement": 140,
         "Horsepower": 90,
         "Miles_per_Gallon": 28,
         "Name": "chevrolet vega 2300",
         "Origin": "USA",
         "Weight_in_lbs": 2264,
         "Year": "1971-01-01"
        },
        {
         "Acceleration": 19,
         "Cylinders": 4,
         "Displacement": 98,
         "Horsepower": null,
         "Miles_per_Gallon": 25,
         "Name": "ford pinto",
         "Origin": "USA",
         "Weight_in_lbs": 2046,
         "Year": "1971-01-01"
        },
        {
         "Acceleration": 13,
         "Cylinders": 6,
         "Displacement": 232,
         "Horsepower": 100,
         "Miles_per_Gallon": 19,
         "Name": "amc gremlin",
         "Origin": "USA",
         "Weight_in_lbs": 2634,
         "Year": "1971-01-01"
        },
        {
         "Acceleration": 15.5,
         "Cylinders": 6,
         "Displacement": 225,
         "Horsepower": 105,
         "Miles_per_Gallon": 16,
         "Name": "plymouth satellite custom",
         "Origin": "USA",
         "Weight_in_lbs": 3439,
         "Year": "1971-01-01"
        },
        {
         "Acceleration": 15.5,
         "Cylinders": 6,
         "Displacement": 250,
         "Horsepower": 100,
         "Miles_per_Gallon": 17,
         "Name": "chevrolet chevelle malibu",
         "Origin": "USA",
         "Weight_in_lbs": 3329,
         "Year": "1971-01-01"
        },
        {
         "Acceleration": 15.5,
         "Cylinders": 6,
         "Displacement": 250,
         "Horsepower": 88,
         "Miles_per_Gallon": 19,
         "Name": "ford torino 500",
         "Origin": "USA",
         "Weight_in_lbs": 3302,
         "Year": "1971-01-01"
        },
        {
         "Acceleration": 15.5,
         "Cylinders": 6,
         "Displacement": 232,
         "Horsepower": 100,
         "Miles_per_Gallon": 18,
         "Name": "amc matador",
         "Origin": "USA",
         "Weight_in_lbs": 3288,
         "Year": "1971-01-01"
        },
        {
         "Acceleration": 12,
         "Cylinders": 8,
         "Displacement": 350,
         "Horsepower": 165,
         "Miles_per_Gallon": 14,
         "Name": "chevrolet impala",
         "Origin": "USA",
         "Weight_in_lbs": 4209,
         "Year": "1971-01-01"
        },
        {
         "Acceleration": 11.5,
         "Cylinders": 8,
         "Displacement": 400,
         "Horsepower": 175,
         "Miles_per_Gallon": 14,
         "Name": "pontiac catalina brougham",
         "Origin": "USA",
         "Weight_in_lbs": 4464,
         "Year": "1971-01-01"
        },
        {
         "Acceleration": 13.5,
         "Cylinders": 8,
         "Displacement": 351,
         "Horsepower": 153,
         "Miles_per_Gallon": 14,
         "Name": "ford galaxie 500",
         "Origin": "USA",
         "Weight_in_lbs": 4154,
         "Year": "1971-01-01"
        },
        {
         "Acceleration": 13,
         "Cylinders": 8,
         "Displacement": 318,
         "Horsepower": 150,
         "Miles_per_Gallon": 14,
         "Name": "plymouth fury iii",
         "Origin": "USA",
         "Weight_in_lbs": 4096,
         "Year": "1971-01-01"
        },
        {
         "Acceleration": 11.5,
         "Cylinders": 8,
         "Displacement": 383,
         "Horsepower": 180,
         "Miles_per_Gallon": 12,
         "Name": "dodge monaco (sw)",
         "Origin": "USA",
         "Weight_in_lbs": 4955,
         "Year": "1971-01-01"
        },
        {
         "Acceleration": 12,
         "Cylinders": 8,
         "Displacement": 400,
         "Horsepower": 170,
         "Miles_per_Gallon": 13,
         "Name": "ford country squire (sw)",
         "Origin": "USA",
         "Weight_in_lbs": 4746,
         "Year": "1971-01-01"
        },
        {
         "Acceleration": 12,
         "Cylinders": 8,
         "Displacement": 400,
         "Horsepower": 175,
         "Miles_per_Gallon": 13,
         "Name": "pontiac safari (sw)",
         "Origin": "USA",
         "Weight_in_lbs": 5140,
         "Year": "1971-01-01"
        },
        {
         "Acceleration": 13.5,
         "Cylinders": 6,
         "Displacement": 258,
         "Horsepower": 110,
         "Miles_per_Gallon": 18,
         "Name": "amc hornet sportabout (sw)",
         "Origin": "USA",
         "Weight_in_lbs": 2962,
         "Year": "1971-01-01"
        },
        {
         "Acceleration": 19,
         "Cylinders": 4,
         "Displacement": 140,
         "Horsepower": 72,
         "Miles_per_Gallon": 22,
         "Name": "chevrolet vega (sw)",
         "Origin": "USA",
         "Weight_in_lbs": 2408,
         "Year": "1971-01-01"
        },
        {
         "Acceleration": 15,
         "Cylinders": 6,
         "Displacement": 250,
         "Horsepower": 100,
         "Miles_per_Gallon": 19,
         "Name": "pontiac firebird",
         "Origin": "USA",
         "Weight_in_lbs": 3282,
         "Year": "1971-01-01"
        },
        {
         "Acceleration": 14.5,
         "Cylinders": 6,
         "Displacement": 250,
         "Horsepower": 88,
         "Miles_per_Gallon": 18,
         "Name": "ford mustang",
         "Origin": "USA",
         "Weight_in_lbs": 3139,
         "Year": "1971-01-01"
        },
        {
         "Acceleration": 14,
         "Cylinders": 4,
         "Displacement": 122,
         "Horsepower": 86,
         "Miles_per_Gallon": 23,
         "Name": "mercury capri 2000",
         "Origin": "USA",
         "Weight_in_lbs": 2220,
         "Year": "1971-01-01"
        },
        {
         "Acceleration": 20.5,
         "Cylinders": 4,
         "Displacement": 91,
         "Horsepower": 70,
         "Miles_per_Gallon": 26,
         "Name": "plymouth cricket",
         "Origin": "USA",
         "Weight_in_lbs": 1955,
         "Year": "1971-01-01"
        },
        {
         "Acceleration": 17,
         "Cylinders": 4,
         "Displacement": 97.5,
         "Horsepower": 80,
         "Miles_per_Gallon": 25,
         "Name": "dodge colt hardtop",
         "Origin": "USA",
         "Weight_in_lbs": 2126,
         "Year": "1972-01-01"
        },
        {
         "Acceleration": 19.5,
         "Cylinders": 4,
         "Displacement": 140,
         "Horsepower": 90,
         "Miles_per_Gallon": 20,
         "Name": "chevrolet vega",
         "Origin": "USA",
         "Weight_in_lbs": 2408,
         "Year": "1972-01-01"
        },
        {
         "Acceleration": 16.5,
         "Cylinders": 4,
         "Displacement": 122,
         "Horsepower": 86,
         "Miles_per_Gallon": 21,
         "Name": "ford pinto runabout",
         "Origin": "USA",
         "Weight_in_lbs": 2226,
         "Year": "1972-01-01"
        },
        {
         "Acceleration": 12,
         "Cylinders": 8,
         "Displacement": 350,
         "Horsepower": 165,
         "Miles_per_Gallon": 13,
         "Name": "chevrolet impala",
         "Origin": "USA",
         "Weight_in_lbs": 4274,
         "Year": "1972-01-01"
        },
        {
         "Acceleration": 12,
         "Cylinders": 8,
         "Displacement": 400,
         "Horsepower": 175,
         "Miles_per_Gallon": 14,
         "Name": "pontiac catalina",
         "Origin": "USA",
         "Weight_in_lbs": 4385,
         "Year": "1972-01-01"
        },
        {
         "Acceleration": 13.5,
         "Cylinders": 8,
         "Displacement": 318,
         "Horsepower": 150,
         "Miles_per_Gallon": 15,
         "Name": "plymouth fury iii",
         "Origin": "USA",
         "Weight_in_lbs": 4135,
         "Year": "1972-01-01"
        },
        {
         "Acceleration": 13,
         "Cylinders": 8,
         "Displacement": 351,
         "Horsepower": 153,
         "Miles_per_Gallon": 14,
         "Name": "ford galaxie 500",
         "Origin": "USA",
         "Weight_in_lbs": 4129,
         "Year": "1972-01-01"
        },
        {
         "Acceleration": 11.5,
         "Cylinders": 8,
         "Displacement": 304,
         "Horsepower": 150,
         "Miles_per_Gallon": 17,
         "Name": "amc ambassador sst",
         "Origin": "USA",
         "Weight_in_lbs": 3672,
         "Year": "1972-01-01"
        },
        {
         "Acceleration": 11,
         "Cylinders": 8,
         "Displacement": 429,
         "Horsepower": 208,
         "Miles_per_Gallon": 11,
         "Name": "mercury marquis",
         "Origin": "USA",
         "Weight_in_lbs": 4633,
         "Year": "1972-01-01"
        },
        {
         "Acceleration": 13.5,
         "Cylinders": 8,
         "Displacement": 350,
         "Horsepower": 155,
         "Miles_per_Gallon": 13,
         "Name": "buick lesabre custom",
         "Origin": "USA",
         "Weight_in_lbs": 4502,
         "Year": "1972-01-01"
        },
        {
         "Acceleration": 13.5,
         "Cylinders": 8,
         "Displacement": 350,
         "Horsepower": 160,
         "Miles_per_Gallon": 12,
         "Name": "oldsmobile delta 88 royale",
         "Origin": "USA",
         "Weight_in_lbs": 4456,
         "Year": "1972-01-01"
        },
        {
         "Acceleration": 12.5,
         "Cylinders": 8,
         "Displacement": 400,
         "Horsepower": 190,
         "Miles_per_Gallon": 13,
         "Name": "chrysler newport royal",
         "Origin": "USA",
         "Weight_in_lbs": 4422,
         "Year": "1972-01-01"
        },
        {
         "Acceleration": 12.5,
         "Cylinders": 8,
         "Displacement": 304,
         "Horsepower": 150,
         "Miles_per_Gallon": 15,
         "Name": "amc matador (sw)",
         "Origin": "USA",
         "Weight_in_lbs": 3892,
         "Year": "1972-01-01"
        },
        {
         "Acceleration": 14,
         "Cylinders": 8,
         "Displacement": 307,
         "Horsepower": 130,
         "Miles_per_Gallon": 13,
         "Name": "chevrolet chevelle concours (sw)",
         "Origin": "USA",
         "Weight_in_lbs": 4098,
         "Year": "1972-01-01"
        },
        {
         "Acceleration": 16,
         "Cylinders": 8,
         "Displacement": 302,
         "Horsepower": 140,
         "Miles_per_Gallon": 13,
         "Name": "ford gran torino (sw)",
         "Origin": "USA",
         "Weight_in_lbs": 4294,
         "Year": "1972-01-01"
        },
        {
         "Acceleration": 14,
         "Cylinders": 8,
         "Displacement": 318,
         "Horsepower": 150,
         "Miles_per_Gallon": 14,
         "Name": "plymouth satellite custom (sw)",
         "Origin": "USA",
         "Weight_in_lbs": 4077,
         "Year": "1972-01-01"
        },
        {
         "Acceleration": 16,
         "Cylinders": 4,
         "Displacement": 122,
         "Horsepower": 86,
         "Miles_per_Gallon": 22,
         "Name": "ford pinto (sw)",
         "Origin": "USA",
         "Weight_in_lbs": 2395,
         "Year": "1972-01-01"
        },
        {
         "Acceleration": 15,
         "Cylinders": 4,
         "Displacement": 98,
         "Horsepower": 80,
         "Miles_per_Gallon": 28,
         "Name": "dodge colt (sw)",
         "Origin": "USA",
         "Weight_in_lbs": 2164,
         "Year": "1972-01-01"
        },
        {
         "Acceleration": 13,
         "Cylinders": 8,
         "Displacement": 350,
         "Horsepower": 175,
         "Miles_per_Gallon": 13,
         "Name": "buick century 350",
         "Origin": "USA",
         "Weight_in_lbs": 4100,
         "Year": "1973-01-01"
        },
        {
         "Acceleration": 11.5,
         "Cylinders": 8,
         "Displacement": 304,
         "Horsepower": 150,
         "Miles_per_Gallon": 14,
         "Name": "amc matador",
         "Origin": "USA",
         "Weight_in_lbs": 3672,
         "Year": "1973-01-01"
        },
        {
         "Acceleration": 13,
         "Cylinders": 8,
         "Displacement": 350,
         "Horsepower": 145,
         "Miles_per_Gallon": 13,
         "Name": "chevrolet malibu",
         "Origin": "USA",
         "Weight_in_lbs": 3988,
         "Year": "1973-01-01"
        },
        {
         "Acceleration": 14.5,
         "Cylinders": 8,
         "Displacement": 302,
         "Horsepower": 137,
         "Miles_per_Gallon": 14,
         "Name": "ford gran torino",
         "Origin": "USA",
         "Weight_in_lbs": 4042,
         "Year": "1973-01-01"
        },
        {
         "Acceleration": 12.5,
         "Cylinders": 8,
         "Displacement": 318,
         "Horsepower": 150,
         "Miles_per_Gallon": 15,
         "Name": "dodge coronet custom",
         "Origin": "USA",
         "Weight_in_lbs": 3777,
         "Year": "1973-01-01"
        },
        {
         "Acceleration": 11.5,
         "Cylinders": 8,
         "Displacement": 429,
         "Horsepower": 198,
         "Miles_per_Gallon": 12,
         "Name": "mercury marquis brougham",
         "Origin": "USA",
         "Weight_in_lbs": 4952,
         "Year": "1973-01-01"
        },
        {
         "Acceleration": 12,
         "Cylinders": 8,
         "Displacement": 400,
         "Horsepower": 150,
         "Miles_per_Gallon": 13,
         "Name": "chevrolet caprice classic",
         "Origin": "USA",
         "Weight_in_lbs": 4464,
         "Year": "1973-01-01"
        },
        {
         "Acceleration": 13,
         "Cylinders": 8,
         "Displacement": 351,
         "Horsepower": 158,
         "Miles_per_Gallon": 13,
         "Name": "ford ltd",
         "Origin": "USA",
         "Weight_in_lbs": 4363,
         "Year": "1973-01-01"
        },
        {
         "Acceleration": 14.5,
         "Cylinders": 8,
         "Displacement": 318,
         "Horsepower": 150,
         "Miles_per_Gallon": 14,
         "Name": "plymouth fury gran sedan",
         "Origin": "USA",
         "Weight_in_lbs": 4237,
         "Year": "1973-01-01"
        },
        {
         "Acceleration": 11,
         "Cylinders": 8,
         "Displacement": 440,
         "Horsepower": 215,
         "Miles_per_Gallon": 13,
         "Name": "chrysler new yorker brougham",
         "Origin": "USA",
         "Weight_in_lbs": 4735,
         "Year": "1973-01-01"
        },
        {
         "Acceleration": 11,
         "Cylinders": 8,
         "Displacement": 455,
         "Horsepower": 225,
         "Miles_per_Gallon": 12,
         "Name": "buick electra 225 custom",
         "Origin": "USA",
         "Weight_in_lbs": 4951,
         "Year": "1973-01-01"
        },
        {
         "Acceleration": 11,
         "Cylinders": 8,
         "Displacement": 360,
         "Horsepower": 175,
         "Miles_per_Gallon": 13,
         "Name": "amc ambassador brougham",
         "Origin": "USA",
         "Weight_in_lbs": 3821,
         "Year": "1973-01-01"
        },
        {
         "Acceleration": 16.5,
         "Cylinders": 6,
         "Displacement": 225,
         "Horsepower": 105,
         "Miles_per_Gallon": 18,
         "Name": "plymouth valiant",
         "Origin": "USA",
         "Weight_in_lbs": 3121,
         "Year": "1973-01-01"
        },
        {
         "Acceleration": 18,
         "Cylinders": 6,
         "Displacement": 250,
         "Horsepower": 100,
         "Miles_per_Gallon": 16,
         "Name": "chevrolet nova custom",
         "Origin": "USA",
         "Weight_in_lbs": 3278,
         "Year": "1973-01-01"
        },
        {
         "Acceleration": 16,
         "Cylinders": 6,
         "Displacement": 232,
         "Horsepower": 100,
         "Miles_per_Gallon": 18,
         "Name": "amc hornet",
         "Origin": "USA",
         "Weight_in_lbs": 2945,
         "Year": "1973-01-01"
        },
        {
         "Acceleration": 16.5,
         "Cylinders": 6,
         "Displacement": 250,
         "Horsepower": 88,
         "Miles_per_Gallon": 18,
         "Name": "ford maverick",
         "Origin": "USA",
         "Weight_in_lbs": 3021,
         "Year": "1973-01-01"
        },
        {
         "Acceleration": 16,
         "Cylinders": 6,
         "Displacement": 198,
         "Horsepower": 95,
         "Miles_per_Gallon": 23,
         "Name": "plymouth duster",
         "Origin": "USA",
         "Weight_in_lbs": 2904,
         "Year": "1973-01-01"
        },
        {
         "Acceleration": 14,
         "Cylinders": 8,
         "Displacement": 400,
         "Horsepower": 150,
         "Miles_per_Gallon": 11,
         "Name": "chevrolet impala",
         "Origin": "USA",
         "Weight_in_lbs": 4997,
         "Year": "1973-01-01"
        },
        {
         "Acceleration": 12.5,
         "Cylinders": 8,
         "Displacement": 400,
         "Horsepower": 167,
         "Miles_per_Gallon": 12,
         "Name": "ford country",
         "Origin": "USA",
         "Weight_in_lbs": 4906,
         "Year": "1973-01-01"
        },
        {
         "Acceleration": 13,
         "Cylinders": 8,
         "Displacement": 360,
         "Horsepower": 170,
         "Miles_per_Gallon": 13,
         "Name": "plymouth custom suburb",
         "Origin": "USA",
         "Weight_in_lbs": 4654,
         "Year": "1973-01-01"
        },
        {
         "Acceleration": 12.5,
         "Cylinders": 8,
         "Displacement": 350,
         "Horsepower": 180,
         "Miles_per_Gallon": 12,
         "Name": "oldsmobile vista cruiser",
         "Origin": "USA",
         "Weight_in_lbs": 4499,
         "Year": "1973-01-01"
        },
        {
         "Acceleration": 15,
         "Cylinders": 6,
         "Displacement": 232,
         "Horsepower": 100,
         "Miles_per_Gallon": 18,
         "Name": "amc gremlin",
         "Origin": "USA",
         "Weight_in_lbs": 2789,
         "Year": "1973-01-01"
        },
        {
         "Acceleration": 19.5,
         "Cylinders": 4,
         "Displacement": 140,
         "Horsepower": 72,
         "Miles_per_Gallon": 21,
         "Name": "chevrolet vega",
         "Origin": "USA",
         "Weight_in_lbs": 2401,
         "Year": "1973-01-01"
        },
        {
         "Acceleration": 18.5,
         "Cylinders": 4,
         "Displacement": 122,
         "Horsepower": 85,
         "Miles_per_Gallon": 19,
         "Name": "ford pinto",
         "Origin": "USA",
         "Weight_in_lbs": 2310,
         "Year": "1973-01-01"
        },
        {
         "Acceleration": 14,
         "Cylinders": 6,
         "Displacement": 155,
         "Horsepower": 107,
         "Miles_per_Gallon": 21,
         "Name": "mercury capri v6",
         "Origin": "USA",
         "Weight_in_lbs": 2472,
         "Year": "1973-01-01"
        },
        {
         "Acceleration": 13,
         "Cylinders": 8,
         "Displacement": 350,
         "Horsepower": 145,
         "Miles_per_Gallon": 15,
         "Name": "chevrolet monte carlo s",
         "Origin": "USA",
         "Weight_in_lbs": 4082,
         "Year": "1973-01-01"
        },
        {
         "Acceleration": 9.5,
         "Cylinders": 8,
         "Displacement": 400,
         "Horsepower": 230,
         "Miles_per_Gallon": 16,
         "Name": "pontiac grand prix",
         "Origin": "USA",
         "Weight_in_lbs": 4278,
         "Year": "1973-01-01"
        },
        {
         "Acceleration": 11,
         "Cylinders": 8,
         "Displacement": 318,
         "Horsepower": 150,
         "Miles_per_Gallon": 15,
         "Name": "dodge dart custom",
         "Origin": "USA",
         "Weight_in_lbs": 3399,
         "Year": "1973-01-01"
        },
        {
         "Acceleration": 11,
         "Cylinders": 8,
         "Displacement": 350,
         "Horsepower": 180,
         "Miles_per_Gallon": 11,
         "Name": "oldsmobile omega",
         "Origin": "USA",
         "Weight_in_lbs": 3664,
         "Year": "1973-01-01"
        },
        {
         "Acceleration": 16.5,
         "Cylinders": 6,
         "Displacement": 198,
         "Horsepower": 95,
         "Miles_per_Gallon": 20,
         "Name": "plymouth duster",
         "Origin": "USA",
         "Weight_in_lbs": 3102,
         "Year": "1974-01-01"
        },
        {
         "Acceleration": 17,
         "Cylinders": 6,
         "Displacement": 200,
         "Horsepower": null,
         "Miles_per_Gallon": 21,
         "Name": "ford maverick",
         "Origin": "USA",
         "Weight_in_lbs": 2875,
         "Year": "1974-01-01"
        },
        {
         "Acceleration": 16,
         "Cylinders": 6,
         "Displacement": 232,
         "Horsepower": 100,
         "Miles_per_Gallon": 19,
         "Name": "amc hornet",
         "Origin": "USA",
         "Weight_in_lbs": 2901,
         "Year": "1974-01-01"
        },
        {
         "Acceleration": 17,
         "Cylinders": 6,
         "Displacement": 250,
         "Horsepower": 100,
         "Miles_per_Gallon": 15,
         "Name": "chevrolet nova",
         "Origin": "USA",
         "Weight_in_lbs": 3336,
         "Year": "1974-01-01"
        },
        {
         "Acceleration": 16.5,
         "Cylinders": 4,
         "Displacement": 122,
         "Horsepower": 80,
         "Miles_per_Gallon": 26,
         "Name": "ford pinto",
         "Origin": "USA",
         "Weight_in_lbs": 2451,
         "Year": "1974-01-01"
        },
        {
         "Acceleration": 17,
         "Cylinders": 4,
         "Displacement": 140,
         "Horsepower": 75,
         "Miles_per_Gallon": 25,
         "Name": "chevrolet vega",
         "Origin": "USA",
         "Weight_in_lbs": 2542,
         "Year": "1974-01-01"
        },
        {
         "Acceleration": 17,
         "Cylinders": 6,
         "Displacement": 250,
         "Horsepower": 100,
         "Miles_per_Gallon": 16,
         "Name": "chevrolet chevelle malibu classic",
         "Origin": "USA",
         "Weight_in_lbs": 3781,
         "Year": "1974-01-01"
        },
        {
         "Acceleration": 18,
         "Cylinders": 6,
         "Displacement": 258,
         "Horsepower": 110,
         "Miles_per_Gallon": 16,
         "Name": "amc matador",
         "Origin": "USA",
         "Weight_in_lbs": 3632,
         "Year": "1974-01-01"
        },
        {
         "Acceleration": 16.5,
         "Cylinders": 6,
         "Displacement": 225,
         "Horsepower": 105,
         "Miles_per_Gallon": 18,
         "Name": "plymouth satellite sebring",
         "Origin": "USA",
         "Weight_in_lbs": 3613,
         "Year": "1974-01-01"
        },
        {
         "Acceleration": 14,
         "Cylinders": 8,
         "Displacement": 302,
         "Horsepower": 140,
         "Miles_per_Gallon": 16,
         "Name": "ford gran torino",
         "Origin": "USA",
         "Weight_in_lbs": 4141,
         "Year": "1974-01-01"
        },
        {
         "Acceleration": 14.5,
         "Cylinders": 8,
         "Displacement": 350,
         "Horsepower": 150,
         "Miles_per_Gallon": 13,
         "Name": "buick century luxus (sw)",
         "Origin": "USA",
         "Weight_in_lbs": 4699,
         "Year": "1974-01-01"
        },
        {
         "Acceleration": 13.5,
         "Cylinders": 8,
         "Displacement": 318,
         "Horsepower": 150,
         "Miles_per_Gallon": 14,
         "Name": "dodge coronet custom (sw)",
         "Origin": "USA",
         "Weight_in_lbs": 4457,
         "Year": "1974-01-01"
        },
        {
         "Acceleration": 16,
         "Cylinders": 8,
         "Displacement": 302,
         "Horsepower": 140,
         "Miles_per_Gallon": 14,
         "Name": "ford gran torino (sw)",
         "Origin": "USA",
         "Weight_in_lbs": 4638,
         "Year": "1974-01-01"
        },
        {
         "Acceleration": 15.5,
         "Cylinders": 8,
         "Displacement": 304,
         "Horsepower": 150,
         "Miles_per_Gallon": 14,
         "Name": "amc matador (sw)",
         "Origin": "USA",
         "Weight_in_lbs": 4257,
         "Year": "1974-01-01"
        },
        {
         "Acceleration": 14.5,
         "Cylinders": 4,
         "Displacement": 90,
         "Horsepower": 75,
         "Miles_per_Gallon": 28,
         "Name": "dodge colt",
         "Origin": "USA",
         "Weight_in_lbs": 2125,
         "Year": "1974-01-01"
        },
        {
         "Acceleration": 16,
         "Cylinders": 6,
         "Displacement": 225,
         "Horsepower": 95,
         "Miles_per_Gallon": 19,
         "Name": "plymouth valiant custom",
         "Origin": "USA",
         "Weight_in_lbs": 3264,
         "Year": "1975-01-01"
        },
        {
         "Acceleration": 16,
         "Cylinders": 6,
         "Displacement": 250,
         "Horsepower": 105,
         "Miles_per_Gallon": 18,
         "Name": "chevrolet nova",
         "Origin": "USA",
         "Weight_in_lbs": 3459,
         "Year": "1975-01-01"
        },
        {
         "Acceleration": 21,
         "Cylinders": 6,
         "Displacement": 250,
         "Horsepower": 72,
         "Miles_per_Gallon": 15,
         "Name": "mercury monarch",
         "Origin": "USA",
         "Weight_in_lbs": 3432,
         "Year": "1975-01-01"
        },
        {
         "Acceleration": 19.5,
         "Cylinders": 6,
         "Displacement": 250,
         "Horsepower": 72,
         "Miles_per_Gallon": 15,
         "Name": "ford maverick",
         "Origin": "USA",
         "Weight_in_lbs": 3158,
         "Year": "1975-01-01"
        },
        {
         "Acceleration": 11.5,
         "Cylinders": 8,
         "Displacement": 400,
         "Horsepower": 170,
         "Miles_per_Gallon": 16,
         "Name": "pontiac catalina",
         "Origin": "USA",
         "Weight_in_lbs": 4668,
         "Year": "1975-01-01"
        },
        {
         "Acceleration": 14,
         "Cylinders": 8,
         "Displacement": 350,
         "Horsepower": 145,
         "Miles_per_Gallon": 15,
         "Name": "chevrolet bel air",
         "Origin": "USA",
         "Weight_in_lbs": 4440,
         "Year": "1975-01-01"
        },
        {
         "Acceleration": 14.5,
         "Cylinders": 8,
         "Displacement": 318,
         "Horsepower": 150,
         "Miles_per_Gallon": 16,
         "Name": "plymouth grand fury",
         "Origin": "USA",
         "Weight_in_lbs": 4498,
         "Year": "1975-01-01"
        },
        {
         "Acceleration": 13.5,
         "Cylinders": 8,
         "Displacement": 351,
         "Horsepower": 148,
         "Miles_per_Gallon": 14,
         "Name": "ford ltd",
         "Origin": "USA",
         "Weight_in_lbs": 4657,
         "Year": "1975-01-01"
        },
        {
         "Acceleration": 21,
         "Cylinders": 6,
         "Displacement": 231,
         "Horsepower": 110,
         "Miles_per_Gallon": 17,
         "Name": "buick century",
         "Origin": "USA",
         "Weight_in_lbs": 3907,
         "Year": "1975-01-01"
        },
        {
         "Acceleration": 18.5,
         "Cylinders": 6,
         "Displacement": 250,
         "Horsepower": 105,
         "Miles_per_Gallon": 16,
         "Name": "chevroelt chevelle malibu",
         "Origin": "USA",
         "Weight_in_lbs": 3897,
         "Year": "1975-01-01"
        },
        {
         "Acceleration": 19,
         "Cylinders": 6,
         "Displacement": 258,
         "Horsepower": 110,
         "Miles_per_Gallon": 15,
         "Name": "amc matador",
         "Origin": "USA",
         "Weight_in_lbs": 3730,
         "Year": "1975-01-01"
        },
        {
         "Acceleration": 19,
         "Cylinders": 6,
         "Displacement": 225,
         "Horsepower": 95,
         "Miles_per_Gallon": 18,
         "Name": "plymouth fury",
         "Origin": "USA",
         "Weight_in_lbs": 3785,
         "Year": "1975-01-01"
        },
        {
         "Acceleration": 15,
         "Cylinders": 6,
         "Displacement": 231,
         "Horsepower": 110,
         "Miles_per_Gallon": 21,
         "Name": "buick skyhawk",
         "Origin": "USA",
         "Weight_in_lbs": 3039,
         "Year": "1975-01-01"
        },
        {
         "Acceleration": 13.5,
         "Cylinders": 8,
         "Displacement": 262,
         "Horsepower": 110,
         "Miles_per_Gallon": 20,
         "Name": "chevrolet monza 2+2",
         "Origin": "USA",
         "Weight_in_lbs": 3221,
         "Year": "1975-01-01"
        },
        {
         "Acceleration": 12,
         "Cylinders": 8,
         "Displacement": 302,
         "Horsepower": 129,
         "Miles_per_Gallon": 13,
         "Name": "ford mustang ii",
         "Origin": "USA",
         "Weight_in_lbs": 3169,
         "Year": "1975-01-01"
        },
        {
         "Acceleration": 17,
         "Cylinders": 4,
         "Displacement": 140,
         "Horsepower": 83,
         "Miles_per_Gallon": 23,
         "Name": "ford pinto",
         "Origin": "USA",
         "Weight_in_lbs": 2639,
         "Year": "1975-01-01"
        },
        {
         "Acceleration": 16,
         "Cylinders": 6,
         "Displacement": 232,
         "Horsepower": 100,
         "Miles_per_Gallon": 20,
         "Name": "amc gremlin",
         "Origin": "USA",
         "Weight_in_lbs": 2914,
         "Year": "1975-01-01"
        },
        {
         "Acceleration": 18.5,
         "Cylinders": 4,
         "Displacement": 140,
         "Horsepower": 78,
         "Miles_per_Gallon": 23,
         "Name": "pontiac astro",
         "Origin": "USA",
         "Weight_in_lbs": 2592,
         "Year": "1975-01-01"
        },
        {
         "Acceleration": 14.5,
         "Cylinders": 6,
         "Displacement": 171,
         "Horsepower": 97,
         "Miles_per_Gallon": 18,
         "Name": "ford pinto",
         "Origin": "USA",
         "Weight_in_lbs": 2984,
         "Year": "1975-01-01"
        },
        {
         "Acceleration": 17,
         "Cylinders": 6,
         "Displacement": 232,
         "Horsepower": 90,
         "Miles_per_Gallon": 19,
         "Name": "amc pacer",
         "Origin": "USA",
         "Weight_in_lbs": 3211,
         "Year": "1975-01-01"
        },
        {
         "Acceleration": 14.9,
         "Cylinders": 4,
         "Displacement": 140,
         "Horsepower": 92,
         "Miles_per_Gallon": 25,
         "Name": "capri ii",
         "Origin": "USA",
         "Weight_in_lbs": 2572,
         "Year": "1976-01-01"
        },
        {
         "Acceleration": 17.7,
         "Cylinders": 4,
         "Displacement": 98,
         "Horsepower": 79,
         "Miles_per_Gallon": 26,
         "Name": "dodge colt",
         "Origin": "USA",
         "Weight_in_lbs": 2255,
         "Year": "1976-01-01"
        },
        {
         "Acceleration": 13,
         "Cylinders": 8,
         "Displacement": 305,
         "Horsepower": 140,
         "Miles_per_Gallon": 17.5,
         "Name": "chevrolet chevelle malibu classic",
         "Origin": "USA",
         "Weight_in_lbs": 4215,
         "Year": "1976-01-01"
        },
        {
         "Acceleration": 13,
         "Cylinders": 8,
         "Displacement": 318,
         "Horsepower": 150,
         "Miles_per_Gallon": 16,
         "Name": "dodge coronet brougham",
         "Origin": "USA",
         "Weight_in_lbs": 4190,
         "Year": "1976-01-01"
        },
        {
         "Acceleration": 13.9,
         "Cylinders": 8,
         "Displacement": 304,
         "Horsepower": 120,
         "Miles_per_Gallon": 15.5,
         "Name": "amc matador",
         "Origin": "USA",
         "Weight_in_lbs": 3962,
         "Year": "1976-01-01"
        },
        {
         "Acceleration": 12.8,
         "Cylinders": 8,
         "Displacement": 351,
         "Horsepower": 152,
         "Miles_per_Gallon": 14.5,
         "Name": "ford gran torino",
         "Origin": "USA",
         "Weight_in_lbs": 4215,
         "Year": "1976-01-01"
        },
        {
         "Acceleration": 15.4,
         "Cylinders": 6,
         "Displacement": 225,
         "Horsepower": 100,
         "Miles_per_Gallon": 22,
         "Name": "plymouth valiant",
         "Origin": "USA",
         "Weight_in_lbs": 3233,
         "Year": "1976-01-01"
        },
        {
         "Acceleration": 14.5,
         "Cylinders": 6,
         "Displacement": 250,
         "Horsepower": 105,
         "Miles_per_Gallon": 22,
         "Name": "chevrolet nova",
         "Origin": "USA",
         "Weight_in_lbs": 3353,
         "Year": "1976-01-01"
        },
        {
         "Acceleration": 17.6,
         "Cylinders": 6,
         "Displacement": 200,
         "Horsepower": 81,
         "Miles_per_Gallon": 24,
         "Name": "ford maverick",
         "Origin": "USA",
         "Weight_in_lbs": 3012,
         "Year": "1976-01-01"
        },
        {
         "Acceleration": 17.6,
         "Cylinders": 6,
         "Displacement": 232,
         "Horsepower": 90,
         "Miles_per_Gallon": 22.5,
         "Name": "amc hornet",
         "Origin": "USA",
         "Weight_in_lbs": 3085,
         "Year": "1976-01-01"
        },
        {
         "Acceleration": 22.2,
         "Cylinders": 4,
         "Displacement": 85,
         "Horsepower": 52,
         "Miles_per_Gallon": 29,
         "Name": "chevrolet chevette",
         "Origin": "USA",
         "Weight_in_lbs": 2035,
         "Year": "1976-01-01"
        },
        {
         "Acceleration": 22.1,
         "Cylinders": 4,
         "Displacement": 98,
         "Horsepower": 60,
         "Miles_per_Gallon": 24.5,
         "Name": "chevrolet woody",
         "Origin": "USA",
         "Weight_in_lbs": 2164,
         "Year": "1976-01-01"
        },
        {
         "Acceleration": 17.7,
         "Cylinders": 6,
         "Displacement": 225,
         "Horsepower": 100,
         "Miles_per_Gallon": 20,
         "Name": "dodge aspen se",
         "Origin": "USA",
         "Weight_in_lbs": 3651,
         "Year": "1976-01-01"
        },
        {
         "Acceleration": 21,
         "Cylinders": 6,
         "Displacement": 250,
         "Horsepower": 78,
         "Miles_per_Gallon": 18,
         "Name": "ford granada ghia",
         "Origin": "USA",
         "Weight_in_lbs": 3574,
         "Year": "1976-01-01"
        },
        {
         "Acceleration": 16.2,
         "Cylinders": 6,
         "Displacement": 250,
         "Horsepower": 110,
         "Miles_per_Gallon": 18.5,
         "Name": "pontiac ventura sj",
         "Origin": "USA",
         "Weight_in_lbs": 3645,
         "Year": "1976-01-01"
        },
        {
         "Acceleration": 17.8,
         "Cylinders": 6,
         "Displacement": 258,
         "Horsepower": 95,
         "Miles_per_Gallon": 17.5,
         "Name": "amc pacer d/l",
         "Origin": "USA",
         "Weight_in_lbs": 3193,
         "Year": "1976-01-01"
        },
        {
         "Acceleration": 13.6,
         "Cylinders": 4,
         "Displacement": 140,
         "Horsepower": 72,
         "Miles_per_Gallon": 26.5,
         "Name": "ford pinto",
         "Origin": "USA",
         "Weight_in_lbs": 2565,
         "Year": "1976-01-01"
        },
        {
         "Acceleration": 13.2,
         "Cylinders": 8,
         "Displacement": 318,
         "Horsepower": 150,
         "Miles_per_Gallon": 13,
         "Name": "plymouth volare premier v8",
         "Origin": "USA",
         "Weight_in_lbs": 3940,
         "Year": "1976-01-01"
        },
        {
         "Acceleration": 12.1,
         "Cylinders": 8,
         "Displacement": 350,
         "Horsepower": 180,
         "Miles_per_Gallon": 16.5,
         "Name": "cadillac seville",
         "Origin": "USA",
         "Weight_in_lbs": 4380,
         "Year": "1976-01-01"
        },
        {
         "Acceleration": 12,
         "Cylinders": 8,
         "Displacement": 350,
         "Horsepower": 145,
         "Miles_per_Gallon": 13,
         "Name": "chevy c10",
         "Origin": "USA",
         "Weight_in_lbs": 4055,
         "Year": "1976-01-01"
        },
        {
         "Acceleration": 15,
         "Cylinders": 8,
         "Displacement": 302,
         "Horsepower": 130,
         "Miles_per_Gallon": 13,
         "Name": "ford f108",
         "Origin": "USA",
         "Weight_in_lbs": 3870,
         "Year": "1976-01-01"
        },
        {
         "Acceleration": 14,
         "Cylinders": 8,
         "Displacement": 318,
         "Horsepower": 150,
         "Miles_per_Gallon": 13,
         "Name": "dodge d100",
         "Origin": "USA",
         "Weight_in_lbs": 3755,
         "Year": "1976-01-01"
        },
        {
         "Acceleration": 14.8,
         "Cylinders": 4,
         "Displacement": 111,
         "Horsepower": 80,
         "Miles_per_Gallon": 30,
         "Name": "buick opel isuzu deluxe",
         "Origin": "USA",
         "Weight_in_lbs": 2155,
         "Year": "1977-01-01"
        },
        {
         "Acceleration": 15.5,
         "Cylinders": 4,
         "Displacement": 122,
         "Horsepower": 96,
         "Miles_per_Gallon": 25.5,
         "Name": "plymouth arrow gs",
         "Origin": "USA",
         "Weight_in_lbs": 2300,
         "Year": "1977-01-01"
        },
        {
         "Acceleration": 12.5,
         "Cylinders": 8,
         "Displacement": 305,
         "Horsepower": 145,
         "Miles_per_Gallon": 17.5,
         "Name": "chevrolet caprice classic",
         "Origin": "USA",
         "Weight_in_lbs": 3880,
         "Year": "1977-01-01"
        },
        {
         "Acceleration": 19,
         "Cylinders": 8,
         "Displacement": 260,
         "Horsepower": 110,
         "Miles_per_Gallon": 17,
         "Name": "oldsmobile cutlass supreme",
         "Origin": "USA",
         "Weight_in_lbs": 4060,
         "Year": "1977-01-01"
        },
        {
         "Acceleration": 13.7,
         "Cylinders": 8,
         "Displacement": 318,
         "Horsepower": 145,
         "Miles_per_Gallon": 15.5,
         "Name": "dodge monaco brougham",
         "Origin": "USA",
         "Weight_in_lbs": 4140,
         "Year": "1977-01-01"
        },
        {
         "Acceleration": 14.9,
         "Cylinders": 8,
         "Displacement": 302,
         "Horsepower": 130,
         "Miles_per_Gallon": 15,
         "Name": "mercury cougar brougham",
         "Origin": "USA",
         "Weight_in_lbs": 4295,
         "Year": "1977-01-01"
        },
        {
         "Acceleration": 16.4,
         "Cylinders": 6,
         "Displacement": 250,
         "Horsepower": 110,
         "Miles_per_Gallon": 17.5,
         "Name": "chevrolet concours",
         "Origin": "USA",
         "Weight_in_lbs": 3520,
         "Year": "1977-01-01"
        },
        {
         "Acceleration": 16.9,
         "Cylinders": 6,
         "Displacement": 231,
         "Horsepower": 105,
         "Miles_per_Gallon": 20.5,
         "Name": "buick skylark",
         "Origin": "USA",
         "Weight_in_lbs": 3425,
         "Year": "1977-01-01"
        },
        {
         "Acceleration": 17.7,
         "Cylinders": 6,
         "Displacement": 225,
         "Horsepower": 100,
         "Miles_per_Gallon": 19,
         "Name": "plymouth volare custom",
         "Origin": "USA",
         "Weight_in_lbs": 3630,
         "Year": "1977-01-01"
        },
        {
         "Acceleration": 19,
         "Cylinders": 6,
         "Displacement": 250,
         "Horsepower": 98,
         "Miles_per_Gallon": 18.5,
         "Name": "ford granada",
         "Origin": "USA",
         "Weight_in_lbs": 3525,
         "Year": "1977-01-01"
        },
        {
         "Acceleration": 11.1,
         "Cylinders": 8,
         "Displacement": 400,
         "Horsepower": 180,
         "Miles_per_Gallon": 16,
         "Name": "pontiac grand prix lj",
         "Origin": "USA",
         "Weight_in_lbs": 4220,
         "Year": "1977-01-01"
        },
        {
         "Acceleration": 11.4,
         "Cylinders": 8,
         "Displacement": 350,
         "Horsepower": 170,
         "Miles_per_Gallon": 15.5,
         "Name": "chevrolet monte carlo landau",
         "Origin": "USA",
         "Weight_in_lbs": 4165,
         "Year": "1977-01-01"
        },
        {
         "Acceleration": 12.2,
         "Cylinders": 8,
         "Displacement": 400,
         "Horsepower": 190,
         "Miles_per_Gallon": 15.5,
         "Name": "chrysler cordoba",
         "Origin": "USA",
         "Weight_in_lbs": 4325,
         "Year": "1977-01-01"
        },
        {
         "Acceleration": 14.5,
         "Cylinders": 8,
         "Displacement": 351,
         "Horsepower": 149,
         "Miles_per_Gallon": 16,
         "Name": "ford thunderbird",
         "Origin": "USA",
         "Weight_in_lbs": 4335,
         "Year": "1977-01-01"
        },
        {
         "Acceleration": 16,
         "Cylinders": 4,
         "Displacement": 151,
         "Horsepower": 88,
         "Miles_per_Gallon": 24.5,
         "Name": "pontiac sunbird coupe",
         "Origin": "USA",
         "Weight_in_lbs": 2740,
         "Year": "1977-01-01"
        },
        {
         "Acceleration": 15.8,
         "Cylinders": 4,
         "Displacement": 140,
         "Horsepower": 89,
         "Miles_per_Gallon": 25.5,
         "Name": "ford mustang ii 2+2",
         "Origin": "USA",
         "Weight_in_lbs": 2755,
         "Year": "1977-01-01"
        },
        {
         "Acceleration": 17,
         "Cylinders": 4,
         "Displacement": 98,
         "Horsepower": 63,
         "Miles_per_Gallon": 30.5,
         "Name": "chevrolet chevette",
         "Origin": "USA",
         "Weight_in_lbs": 2051,
         "Year": "1977-01-01"
        },
        {
         "Acceleration": 15.9,
         "Cylinders": 4,
         "Displacement": 98,
         "Horsepower": 83,
         "Miles_per_Gallon": 33.5,
         "Name": "dodge colt m/m",
         "Origin": "USA",
         "Weight_in_lbs": 2075,
         "Year": "1977-01-01"
        },
        {
         "Acceleration": 14.4,
         "Cylinders": 4,
         "Displacement": 98,
         "Horsepower": 66,
         "Miles_per_Gallon": 36.1,
         "Name": "ford fiesta",
         "Origin": "USA",
         "Weight_in_lbs": 1800,
         "Year": "1978-01-01"
        },
        {
         "Acceleration": 15.5,
         "Cylinders": 8,
         "Displacement": 260,
         "Horsepower": 110,
         "Miles_per_Gallon": 19.9,
         "Name": "oldsmobile cutlass salon brougham",
         "Origin": "USA",
         "Weight_in_lbs": 3365,
         "Year": "1978-01-01"
        },
        {
         "Acceleration": 13.2,
         "Cylinders": 8,
         "Displacement": 318,
         "Horsepower": 140,
         "Miles_per_Gallon": 19.4,
         "Name": "dodge diplomat",
         "Origin": "USA",
         "Weight_in_lbs": 3735,
         "Year": "1978-01-01"
        },
        {
         "Acceleration": 12.8,
         "Cylinders": 8,
         "Displacement": 302,
         "Horsepower": 139,
         "Miles_per_Gallon": 20.2,
         "Name": "mercury monarch ghia",
         "Origin": "USA",
         "Weight_in_lbs": 3570,
         "Year": "1978-01-01"
        },
        {
         "Acceleration": 19.2,
         "Cylinders": 6,
         "Displacement": 231,
         "Horsepower": 105,
         "Miles_per_Gallon": 19.2,
         "Name": "pontiac phoenix lj",
         "Origin": "USA",
         "Weight_in_lbs": 3535,
         "Year": "1978-01-01"
        },
        {
         "Acceleration": 18.2,
         "Cylinders": 6,
         "Displacement": 200,
         "Horsepower": 95,
         "Miles_per_Gallon": 20.5,
         "Name": "chevrolet malibu",
         "Origin": "USA",
         "Weight_in_lbs": 3155,
         "Year": "1978-01-01"
        },
        {
         "Acceleration": 15.8,
         "Cylinders": 6,
         "Displacement": 200,
         "Horsepower": 85,
         "Miles_per_Gallon": 20.2,
         "Name": "ford fairmont (auto)",
         "Origin": "USA",
         "Weight_in_lbs": 2965,
         "Year": "1978-01-01"
        },
        {
         "Acceleration": 15.4,
         "Cylinders": 4,
         "Displacement": 140,
         "Horsepower": 88,
         "Miles_per_Gallon": 25.1,
         "Name": "ford fairmont (man)",
         "Origin": "USA",
         "Weight_in_lbs": 2720,
         "Year": "1978-01-01"
        },
        {
         "Acceleration": 17.2,
         "Cylinders": 6,
         "Displacement": 225,
         "Horsepower": 100,
         "Miles_per_Gallon": 20.5,
         "Name": "plymouth volare",
         "Origin": "USA",
         "Weight_in_lbs": 3430,
         "Year": "1978-01-01"
        },
        {
         "Acceleration": 17.2,
         "Cylinders": 6,
         "Displacement": 232,
         "Horsepower": 90,
         "Miles_per_Gallon": 19.4,
         "Name": "amc concord",
         "Origin": "USA",
         "Weight_in_lbs": 3210,
         "Year": "1978-01-01"
        },
        {
         "Acceleration": 15.8,
         "Cylinders": 6,
         "Displacement": 231,
         "Horsepower": 105,
         "Miles_per_Gallon": 20.6,
         "Name": "buick century special",
         "Origin": "USA",
         "Weight_in_lbs": 3380,
         "Year": "1978-01-01"
        },
        {
         "Acceleration": 16.7,
         "Cylinders": 6,
         "Displacement": 200,
         "Horsepower": 85,
         "Miles_per_Gallon": 20.8,
         "Name": "mercury zephyr",
         "Origin": "USA",
         "Weight_in_lbs": 3070,
         "Year": "1978-01-01"
        },
        {
         "Acceleration": 18.7,
         "Cylinders": 6,
         "Displacement": 225,
         "Horsepower": 110,
         "Miles_per_Gallon": 18.6,
         "Name": "dodge aspen",
         "Origin": "USA",
         "Weight_in_lbs": 3620,
         "Year": "1978-01-01"
        },
        {
         "Acceleration": 15.1,
         "Cylinders": 6,
         "Displacement": 258,
         "Horsepower": 120,
         "Miles_per_Gallon": 18.1,
         "Name": "amc concord d/l",
         "Origin": "USA",
         "Weight_in_lbs": 3410,
         "Year": "1978-01-01"
        },
        {
         "Acceleration": 13.2,
         "Cylinders": 8,
         "Displacement": 305,
         "Horsepower": 145,
         "Miles_per_Gallon": 19.2,
         "Name": "chevrolet monte carlo landau",
         "Origin": "USA",
         "Weight_in_lbs": 3425,
         "Year": "1978-01-01"
        },
        {
         "Acceleration": 13.4,
         "Cylinders": 6,
         "Displacement": 231,
         "Horsepower": 165,
         "Miles_per_Gallon": 17.7,
         "Name": "buick regal sport coupe (turbo)",
         "Origin": "USA",
         "Weight_in_lbs": 3445,
         "Year": "1978-01-01"
        },
        {
         "Acceleration": 11.2,
         "Cylinders": 8,
         "Displacement": 302,
         "Horsepower": 139,
         "Miles_per_Gallon": 18.1,
         "Name": "ford futura",
         "Origin": "USA",
         "Weight_in_lbs": 3205,
         "Year": "1978-01-01"
        },
        {
         "Acceleration": 13.7,
         "Cylinders": 8,
         "Displacement": 318,
         "Horsepower": 140,
         "Miles_per_Gallon": 17.5,
         "Name": "dodge magnum xe",
         "Origin": "USA",
         "Weight_in_lbs": 4080,
         "Year": "1978-01-01"
        },
        {
         "Acceleration": 16.5,
         "Cylinders": 4,
         "Displacement": 98,
         "Horsepower": 68,
         "Miles_per_Gallon": 30,
         "Name": "chevrolet chevette",
         "Origin": "USA",
         "Weight_in_lbs": 2155,
         "Year": "1978-01-01"
        },
        {
         "Acceleration": 14.5,
         "Cylinders": 4,
         "Displacement": 105,
         "Horsepower": 75,
         "Miles_per_Gallon": 30.9,
         "Name": "dodge omni",
         "Origin": "USA",
         "Weight_in_lbs": 2230,
         "Year": "1978-01-01"
        },
        {
         "Acceleration": 16.7,
         "Cylinders": 4,
         "Displacement": 156,
         "Horsepower": 105,
         "Miles_per_Gallon": 23.2,
         "Name": "plymouth sapporo",
         "Origin": "USA",
         "Weight_in_lbs": 2745,
         "Year": "1978-01-01"
        },
        {
         "Acceleration": 17.6,
         "Cylinders": 4,
         "Displacement": 151,
         "Horsepower": 85,
         "Miles_per_Gallon": 23.8,
         "Name": "oldsmobile starfire sx",
         "Origin": "USA",
         "Weight_in_lbs": 2855,
         "Year": "1978-01-01"
        },
        {
         "Acceleration": 15.4,
         "Cylinders": 6,
         "Displacement": 231,
         "Horsepower": 115,
         "Miles_per_Gallon": 21.5,
         "Name": "pontiac lemans v6",
         "Origin": "USA",
         "Weight_in_lbs": 3245,
         "Year": "1979-01-01"
        },
        {
         "Acceleration": 18.2,
         "Cylinders": 6,
         "Displacement": 200,
         "Horsepower": 85,
         "Miles_per_Gallon": 19.8,
         "Name": "mercury zephyr 6",
         "Origin": "USA",
         "Weight_in_lbs": 2990,
         "Year": "1979-01-01"
        },
        {
         "Acceleration": 17.3,
         "Cylinders": 4,
         "Displacement": 140,
         "Horsepower": 88,
         "Miles_per_Gallon": 22.3,
         "Name": "ford fairmont 4",
         "Origin": "USA",
         "Weight_in_lbs": 2890,
         "Year": "1979-01-01"
        },
        {
         "Acceleration": 18.2,
         "Cylinders": 6,
         "Displacement": 232,
         "Horsepower": 90,
         "Miles_per_Gallon": 20.2,
         "Name": "amc concord dl 6",
         "Origin": "USA",
         "Weight_in_lbs": 3265,
         "Year": "1979-01-01"
        },
        {
         "Acceleration": 16.6,
         "Cylinders": 6,
         "Displacement": 225,
         "Horsepower": 110,
         "Miles_per_Gallon": 20.6,
         "Name": "dodge aspen 6",
         "Origin": "USA",
         "Weight_in_lbs": 3360,
         "Year": "1979-01-01"
        },
        {
         "Acceleration": 15.4,
         "Cylinders": 8,
         "Displacement": 305,
         "Horsepower": 130,
         "Miles_per_Gallon": 17,
         "Name": "chevrolet caprice classic",
         "Origin": "USA",
         "Weight_in_lbs": 3840,
         "Year": "1979-01-01"
        },
        {
         "Acceleration": 13.4,
         "Cylinders": 8,
         "Displacement": 302,
         "Horsepower": 129,
         "Miles_per_Gallon": 17.6,
         "Name": "ford ltd landau",
         "Origin": "USA",
         "Weight_in_lbs": 3725,
         "Year": "1979-01-01"
        },
        {
         "Acceleration": 13.2,
         "Cylinders": 8,
         "Displacement": 351,
         "Horsepower": 138,
         "Miles_per_Gallon": 16.5,
         "Name": "mercury grand marquis",
         "Origin": "USA",
         "Weight_in_lbs": 3955,
         "Year": "1979-01-01"
        },
        {
         "Acceleration": 15.2,
         "Cylinders": 8,
         "Displacement": 318,
         "Horsepower": 135,
         "Miles_per_Gallon": 18.2,
         "Name": "dodge st. regis",
         "Origin": "USA",
         "Weight_in_lbs": 3830,
         "Year": "1979-01-01"
        },
        {
         "Acceleration": 14.9,
         "Cylinders": 8,
         "Displacement": 350,
         "Horsepower": 155,
         "Miles_per_Gallon": 16.9,
         "Name": "buick estate wagon (sw)",
         "Origin": "USA",
         "Weight_in_lbs": 4360,
         "Year": "1979-01-01"
        },
        {
         "Acceleration": 14.3,
         "Cylinders": 8,
         "Displacement": 351,
         "Horsepower": 142,
         "Miles_per_Gallon": 15.5,
         "Name": "ford country squire (sw)",
         "Origin": "USA",
         "Weight_in_lbs": 4054,
         "Year": "1979-01-01"
        },
        {
         "Acceleration": 15,
         "Cylinders": 8,
         "Displacement": 267,
         "Horsepower": 125,
         "Miles_per_Gallon": 19.2,
         "Name": "chevrolet malibu classic (sw)",
         "Origin": "USA",
         "Weight_in_lbs": 3605,
         "Year": "1979-01-01"
        },
        {
         "Acceleration": 13,
         "Cylinders": 8,
         "Displacement": 360,
         "Horsepower": 150,
         "Miles_per_Gallon": 18.5,
         "Name": "chrysler lebaron town @ country (sw)",
         "Origin": "USA",
         "Weight_in_lbs": 3940,
         "Year": "1979-01-01"
        },
        {
         "Acceleration": 14.4,
         "Cylinders": 4,
         "Displacement": 98,
         "Horsepower": 80,
         "Miles_per_Gallon": 35.7,
         "Name": "dodge colt hatchback custom",
         "Origin": "USA",
         "Weight_in_lbs": 1915,
         "Year": "1979-01-01"
        },
        {
         "Acceleration": 15,
         "Cylinders": 4,
         "Displacement": 121,
         "Horsepower": 80,
         "Miles_per_Gallon": 27.4,
         "Name": "amc spirit dl",
         "Origin": "USA",
         "Weight_in_lbs": 2670,
         "Year": "1979-01-01"
        },
        {
         "Acceleration": 17.4,
         "Cylinders": 8,
         "Displacement": 350,
         "Horsepower": 125,
         "Miles_per_Gallon": 23,
         "Name": "cadillac eldorado",
         "Origin": "USA",
         "Weight_in_lbs": 3900,
         "Year": "1979-01-01"
        },
        {
         "Acceleration": 22.2,
         "Cylinders": 8,
         "Displacement": 260,
         "Horsepower": 90,
         "Miles_per_Gallon": 23.9,
         "Name": "oldsmobile cutlass salon brougham",
         "Origin": "USA",
         "Weight_in_lbs": 3420,
         "Year": "1979-01-01"
        },
        {
         "Acceleration": 13.2,
         "Cylinders": 4,
         "Displacement": 105,
         "Horsepower": 70,
         "Miles_per_Gallon": 34.2,
         "Name": "plymouth horizon",
         "Origin": "USA",
         "Weight_in_lbs": 2200,
         "Year": "1979-01-01"
        },
        {
         "Acceleration": 14.9,
         "Cylinders": 4,
         "Displacement": 105,
         "Horsepower": 70,
         "Miles_per_Gallon": 34.5,
         "Name": "plymouth horizon tc3",
         "Origin": "USA",
         "Weight_in_lbs": 2150,
         "Year": "1979-01-01"
        },
        {
         "Acceleration": 16,
         "Cylinders": 4,
         "Displacement": 151,
         "Horsepower": 90,
         "Miles_per_Gallon": 28.4,
         "Name": "buick skylark limited",
         "Origin": "USA",
         "Weight_in_lbs": 2670,
         "Year": "1979-01-01"
        },
        {
         "Acceleration": 11.3,
         "Cylinders": 6,
         "Displacement": 173,
         "Horsepower": 115,
         "Miles_per_Gallon": 28.8,
         "Name": "chevrolet citation",
         "Origin": "USA",
         "Weight_in_lbs": 2595,
         "Year": "1979-01-01"
        },
        {
         "Acceleration": 12.9,
         "Cylinders": 6,
         "Displacement": 173,
         "Horsepower": 115,
         "Miles_per_Gallon": 26.8,
         "Name": "oldsmobile omega brougham",
         "Origin": "USA",
         "Weight_in_lbs": 2700,
         "Year": "1979-01-01"
        },
        {
         "Acceleration": 13.2,
         "Cylinders": 4,
         "Displacement": 151,
         "Horsepower": 90,
         "Miles_per_Gallon": 33.5,
         "Name": "pontiac phoenix",
         "Origin": "USA",
         "Weight_in_lbs": 2556,
         "Year": "1979-01-01"
        },
        {
         "Acceleration": 15.5,
         "Cylinders": 4,
         "Displacement": 98,
         "Horsepower": 70,
         "Miles_per_Gallon": 32.1,
         "Name": "chevrolet chevette",
         "Origin": "USA",
         "Weight_in_lbs": 2120,
         "Year": "1980-01-01"
        },
        {
         "Acceleration": 16.5,
         "Cylinders": 4,
         "Displacement": 151,
         "Horsepower": 90,
         "Miles_per_Gallon": 28,
         "Name": "chevrolet citation",
         "Origin": "USA",
         "Weight_in_lbs": 2678,
         "Year": "1980-01-01"
        },
        {
         "Acceleration": 18.1,
         "Cylinders": 4,
         "Displacement": 140,
         "Horsepower": 88,
         "Miles_per_Gallon": 26.4,
         "Name": "ford fairmont",
         "Origin": "USA",
         "Weight_in_lbs": 2870,
         "Year": "1980-01-01"
        },
        {
         "Acceleration": 20.1,
         "Cylinders": 4,
         "Displacement": 151,
         "Horsepower": 90,
         "Miles_per_Gallon": 24.3,
         "Name": "amc concord",
         "Origin": "USA",
         "Weight_in_lbs": 3003,
         "Year": "1980-01-01"
        },
        {
         "Acceleration": 18.7,
         "Cylinders": 6,
         "Displacement": 225,
         "Horsepower": 90,
         "Miles_per_Gallon": 19.1,
         "Name": "dodge aspen",
         "Origin": "USA",
         "Weight_in_lbs": 3381,
         "Year": "1980-01-01"
        },
        {
         "Acceleration": 14.4,
         "Cylinders": 4,
         "Displacement": 156,
         "Horsepower": 105,
         "Miles_per_Gallon": 27.9,
         "Name": "dodge colt",
         "Origin": "USA",
         "Weight_in_lbs": 2800,
         "Year": "1980-01-01"
        },
        {
         "Acceleration": 14.3,
         "Cylinders": 4,
         "Displacement": 140,
         "Horsepower": null,
         "Miles_per_Gallon": 23.6,
         "Name": "ford mustang cobra",
         "Origin": "USA",
         "Weight_in_lbs": 2905,
         "Year": "1980-01-01"
        },
        {
         "Acceleration": 15.7,
         "Cylinders": 4,
         "Displacement": 135,
         "Horsepower": 84,
         "Miles_per_Gallon": 27.2,
         "Name": "plymouth reliant",
         "Origin": "USA",
         "Weight_in_lbs": 2490,
         "Year": "1982-01-01"
        },
        {
         "Acceleration": 16.4,
         "Cylinders": 4,
         "Displacement": 151,
         "Horsepower": 84,
         "Miles_per_Gallon": 26.6,
         "Name": "buick skylark",
         "Origin": "USA",
         "Weight_in_lbs": 2635,
         "Year": "1982-01-01"
        },
        {
         "Acceleration": 14.4,
         "Cylinders": 4,
         "Displacement": 156,
         "Horsepower": 92,
         "Miles_per_Gallon": 25.8,
         "Name": "dodge aries wagon (sw)",
         "Origin": "USA",
         "Weight_in_lbs": 2620,
         "Year": "1982-01-01"
        },
        {
         "Acceleration": 12.6,
         "Cylinders": 6,
         "Displacement": 173,
         "Horsepower": 110,
         "Miles_per_Gallon": 23.5,
         "Name": "chevrolet citation",
         "Origin": "USA",
         "Weight_in_lbs": 2725,
         "Year": "1982-01-01"
        },
        {
         "Acceleration": 12.9,
         "Cylinders": 4,
         "Displacement": 135,
         "Horsepower": 84,
         "Miles_per_Gallon": 30,
         "Name": "plymouth reliant",
         "Origin": "USA",
         "Weight_in_lbs": 2385,
         "Year": "1982-01-01"
        },
        {
         "Acceleration": 16.4,
         "Cylinders": 4,
         "Displacement": 86,
         "Horsepower": 64,
         "Miles_per_Gallon": 39,
         "Name": "plymouth champ",
         "Origin": "USA",
         "Weight_in_lbs": 1875,
         "Year": "1982-01-01"
        },
        {
         "Acceleration": 14.9,
         "Cylinders": 4,
         "Displacement": 105,
         "Horsepower": 63,
         "Miles_per_Gallon": 34.7,
         "Name": "plymouth horizon 4",
         "Origin": "USA",
         "Weight_in_lbs": 2215,
         "Year": "1982-01-01"
        },
        {
         "Acceleration": 16.2,
         "Cylinders": 4,
         "Displacement": 98,
         "Horsepower": 65,
         "Miles_per_Gallon": 34.4,
         "Name": "ford escort 4w",
         "Origin": "USA",
         "Weight_in_lbs": 2045,
         "Year": "1982-01-01"
        },
        {
         "Acceleration": 20.7,
         "Cylinders": 4,
         "Displacement": 98,
         "Horsepower": 65,
         "Miles_per_Gallon": 29.9,
         "Name": "ford escort 2h",
         "Origin": "USA",
         "Weight_in_lbs": 2380,
         "Year": "1982-01-01"
        },
        {
         "Acceleration": 15.8,
         "Cylinders": 6,
         "Displacement": 231,
         "Horsepower": 110,
         "Miles_per_Gallon": 22.4,
         "Name": "buick century",
         "Origin": "USA",
         "Weight_in_lbs": 3415,
         "Year": "1982-01-01"
        },
        {
         "Acceleration": 19,
         "Cylinders": 8,
         "Displacement": 350,
         "Horsepower": 105,
         "Miles_per_Gallon": 26.6,
         "Name": "oldsmobile cutlass ls",
         "Origin": "USA",
         "Weight_in_lbs": 3725,
         "Year": "1982-01-01"
        },
        {
         "Acceleration": 17.1,
         "Cylinders": 6,
         "Displacement": 200,
         "Horsepower": 88,
         "Miles_per_Gallon": 20.2,
         "Name": "ford granada gl",
         "Origin": "USA",
         "Weight_in_lbs": 3060,
         "Year": "1982-01-01"
        },
        {
         "Acceleration": 16.6,
         "Cylinders": 6,
         "Displacement": 225,
         "Horsepower": 85,
         "Miles_per_Gallon": 17.6,
         "Name": "chrysler lebaron salon",
         "Origin": "USA",
         "Weight_in_lbs": 3465,
         "Year": "1982-01-01"
        },
        {
         "Acceleration": 19.6,
         "Cylinders": 4,
         "Displacement": 112,
         "Horsepower": 88,
         "Miles_per_Gallon": 28,
         "Name": "chevrolet cavalier",
         "Origin": "USA",
         "Weight_in_lbs": 2605,
         "Year": "1982-01-01"
        },
        {
         "Acceleration": 18.6,
         "Cylinders": 4,
         "Displacement": 112,
         "Horsepower": 88,
         "Miles_per_Gallon": 27,
         "Name": "chevrolet cavalier wagon",
         "Origin": "USA",
         "Weight_in_lbs": 2640,
         "Year": "1982-01-01"
        },
        {
         "Acceleration": 18,
         "Cylinders": 4,
         "Displacement": 112,
         "Horsepower": 88,
         "Miles_per_Gallon": 34,
         "Name": "chevrolet cavalier 2-door",
         "Origin": "USA",
         "Weight_in_lbs": 2395,
         "Year": "1982-01-01"
        },
        {
         "Acceleration": 16.2,
         "Cylinders": 4,
         "Displacement": 112,
         "Horsepower": 85,
         "Miles_per_Gallon": 31,
         "Name": "pontiac j2000 se hatchback",
         "Origin": "USA",
         "Weight_in_lbs": 2575,
         "Year": "1982-01-01"
        },
        {
         "Acceleration": 16,
         "Cylinders": 4,
         "Displacement": 135,
         "Horsepower": 84,
         "Miles_per_Gallon": 29,
         "Name": "dodge aries se",
         "Origin": "USA",
         "Weight_in_lbs": 2525,
         "Year": "1982-01-01"
        },
        {
         "Acceleration": 18,
         "Cylinders": 4,
         "Displacement": 151,
         "Horsepower": 90,
         "Miles_per_Gallon": 27,
         "Name": "pontiac phoenix",
         "Origin": "USA",
         "Weight_in_lbs": 2735,
         "Year": "1982-01-01"
        },
        {
         "Acceleration": 16.4,
         "Cylinders": 4,
         "Displacement": 140,
         "Horsepower": 92,
         "Miles_per_Gallon": 24,
         "Name": "ford fairmont futura",
         "Origin": "USA",
         "Weight_in_lbs": 2865,
         "Year": "1982-01-01"
        },
        {
         "Acceleration": 20.5,
         "Cylinders": 4,
         "Displacement": 151,
         "Horsepower": null,
         "Miles_per_Gallon": 23,
         "Name": "amc concord dl",
         "Origin": "USA",
         "Weight_in_lbs": 3035,
         "Year": "1982-01-01"
        },
        {
         "Acceleration": 14.7,
         "Cylinders": 4,
         "Displacement": 105,
         "Horsepower": 63,
         "Miles_per_Gallon": 38,
         "Name": "plymouth horizon miser",
         "Origin": "USA",
         "Weight_in_lbs": 2125,
         "Year": "1982-01-01"
        },
        {
         "Acceleration": 17.3,
         "Cylinders": 4,
         "Displacement": 98,
         "Horsepower": 70,
         "Miles_per_Gallon": 36,
         "Name": "mercury lynx l",
         "Origin": "USA",
         "Weight_in_lbs": 2125,
         "Year": "1982-01-01"
        },
        {
         "Acceleration": 16.4,
         "Cylinders": 6,
         "Displacement": 181,
         "Horsepower": 110,
         "Miles_per_Gallon": 25,
         "Name": "buick century limited",
         "Origin": "USA",
         "Weight_in_lbs": 2945,
         "Year": "1982-01-01"
        },
        {
         "Acceleration": 17,
         "Cylinders": 6,
         "Displacement": 262,
         "Horsepower": 85,
         "Miles_per_Gallon": 38,
         "Name": "oldsmobile cutlass ciera (diesel)",
         "Origin": "USA",
         "Weight_in_lbs": 3015,
         "Year": "1982-01-01"
        },
        {
         "Acceleration": 14.5,
         "Cylinders": 4,
         "Displacement": 156,
         "Horsepower": 92,
         "Miles_per_Gallon": 26,
         "Name": "chrysler lebaron medallion",
         "Origin": "USA",
         "Weight_in_lbs": 2585,
         "Year": "1982-01-01"
        },
        {
         "Acceleration": 14.7,
         "Cylinders": 6,
         "Displacement": 232,
         "Horsepower": 112,
         "Miles_per_Gallon": 22,
         "Name": "ford granada l",
         "Origin": "USA",
         "Weight_in_lbs": 2835,
         "Year": "1982-01-01"
        },
        {
         "Acceleration": 13,
         "Cylinders": 4,
         "Displacement": 135,
         "Horsepower": 84,
         "Miles_per_Gallon": 36,
         "Name": "dodge charger 2.2",
         "Origin": "USA",
         "Weight_in_lbs": 2370,
         "Year": "1982-01-01"
        },
        {
         "Acceleration": 17.3,
         "Cylinders": 4,
         "Displacement": 151,
         "Horsepower": 90,
         "Miles_per_Gallon": 27,
         "Name": "chevrolet camaro",
         "Origin": "USA",
         "Weight_in_lbs": 2950,
         "Year": "1982-01-01"
        },
        {
         "Acceleration": 15.6,
         "Cylinders": 4,
         "Displacement": 140,
         "Horsepower": 86,
         "Miles_per_Gallon": 27,
         "Name": "ford mustang gl",
         "Origin": "USA",
         "Weight_in_lbs": 2790,
         "Year": "1982-01-01"
        },
        {
         "Acceleration": 11.6,
         "Cylinders": 4,
         "Displacement": 135,
         "Horsepower": 84,
         "Miles_per_Gallon": 32,
         "Name": "dodge rampage",
         "Origin": "USA",
         "Weight_in_lbs": 2295,
         "Year": "1982-01-01"
        },
        {
         "Acceleration": 18.6,
         "Cylinders": 4,
         "Displacement": 120,
         "Horsepower": 79,
         "Miles_per_Gallon": 28,
         "Name": "ford ranger",
         "Origin": "USA",
         "Weight_in_lbs": 2625,
         "Year": "1982-01-01"
        },
        {
         "Acceleration": 19.4,
         "Cylinders": 4,
         "Displacement": 119,
         "Horsepower": 82,
         "Miles_per_Gallon": 31,
         "Name": "chevy s-10",
         "Origin": "USA",
         "Weight_in_lbs": 2720,
         "Year": "1982-01-01"
        }
       ],
       "schema": {
        "fields": [
         {
          "name": "Name",
          "type": "string"
         },
         {
          "name": "Miles_per_Gallon",
          "type": "number"
         },
         {
          "name": "Cylinders",
          "type": "integer"
         },
         {
          "name": "Displacement",
          "type": "number"
         },
         {
          "name": "Horsepower",
          "type": "integer"
         },
         {
          "name": "Weight_in_lbs",
          "type": "integer"
         },
         {
          "name": "Acceleration",
          "type": "number"
         },
         {
          "name": "Year",
          "type": "string"
         },
         {
          "name": "Origin",
          "type": "string"
         }
        ]
       }
      },
      "text/html": [
       "<table><thead><tr><th>Name</th><th>Miles_per_Gallon</th><th>Cylinders</th><th>Displacement</th><th>Horsepower</th><th>Weight_in_lbs</th><th>Acceleration</th><th>Year</th><th>Origin</th></tr></thead><tbody><tr><td>&quot;chevrolet chevelle malibu&quot;</td><td>18.0</td><td>8</td><td>307.0</td><td>130</td><td>3504</td><td>12.0</td><td>&quot;1970-01-01&quot;</td><td>&quot;USA&quot;</td></tr><tr><td>&quot;buick skylark 320&quot;</td><td>15.0</td><td>8</td><td>350.0</td><td>165</td><td>3693</td><td>11.5</td><td>&quot;1970-01-01&quot;</td><td>&quot;USA&quot;</td></tr><tr><td>&quot;plymouth satellite&quot;</td><td>18.0</td><td>8</td><td>318.0</td><td>150</td><td>3436</td><td>11.0</td><td>&quot;1970-01-01&quot;</td><td>&quot;USA&quot;</td></tr><tr><td>&quot;amc rebel sst&quot;</td><td>16.0</td><td>8</td><td>304.0</td><td>150</td><td>3433</td><td>12.0</td><td>&quot;1970-01-01&quot;</td><td>&quot;USA&quot;</td></tr><tr><td>&quot;ford torino&quot;</td><td>17.0</td><td>8</td><td>302.0</td><td>140</td><td>3449</td><td>10.5</td><td>&quot;1970-01-01&quot;</td><td>&quot;USA&quot;</td></tr><tr><td>&quot;ford galaxie 500&quot;</td><td>15.0</td><td>8</td><td>429.0</td><td>198</td><td>4341</td><td>10.0</td><td>&quot;1970-01-01&quot;</td><td>&quot;USA&quot;</td></tr><tr><td>&quot;chevrolet impala&quot;</td><td>14.0</td><td>8</td><td>454.0</td><td>220</td><td>4354</td><td>9.0</td><td>&quot;1970-01-01&quot;</td><td>&quot;USA&quot;</td></tr><tr><td>&quot;plymouth fury iii&quot;</td><td>14.0</td><td>8</td><td>440.0</td><td>215</td><td>4312</td><td>8.5</td><td>&quot;1970-01-01&quot;</td><td>&quot;USA&quot;</td></tr><tr><td>&quot;pontiac catalina&quot;</td><td>14.0</td><td>8</td><td>455.0</td><td>225</td><td>4425</td><td>10.0</td><td>&quot;1970-01-01&quot;</td><td>&quot;USA&quot;</td></tr><tr><td>&quot;amc ambassador dpl&quot;</td><td>15.0</td><td>8</td><td>390.0</td><td>190</td><td>3850</td><td>8.5</td><td>&quot;1970-01-01&quot;</td><td>&quot;USA&quot;</td></tr><tr><td>&vellip;</td><td>&vellip;</td><td>&vellip;</td><td>&vellip;</td><td>&vellip;</td><td>&vellip;</td><td>&vellip;</td><td>&vellip;</td><td>&vellip;</td></tr></tbody></table><p>... with more rows.</p>"
      ],
      "text/plain": [
       "?x9 query result\n",
       "Name                      │ Miles_per_Gallon │ Cylinders │ Displacement\n",
       "──────────────────────────┼──────────────────┼───────────┼─────────────\n",
       "chevrolet chevelle malibu │ 18.0             │ 8         │ 307.0       \n",
       "buick skylark 320         │ 15.0             │ 8         │ 350.0       \n",
       "plymouth satellite        │ 18.0             │ 8         │ 318.0       \n",
       "amc rebel sst             │ 16.0             │ 8         │ 304.0       \n",
       "ford torino               │ 17.0             │ 8         │ 302.0       \n",
       "ford galaxie 500          │ 15.0             │ 8         │ 429.0       \n",
       "chevrolet impala          │ 14.0             │ 8         │ 454.0       \n",
       "plymouth fury iii         │ 14.0             │ 8         │ 440.0       \n",
       "pontiac catalina          │ 14.0             │ 8         │ 455.0       \n",
       "amc ambassador dpl        │ 15.0             │ 8         │ 390.0       \n",
       "... with more rows, and 5 more columns: Horsepower, Weight_in_lbs, Acceleration, Year, Origin"
      ]
     },
     "execution_count": 26,
     "metadata": {},
     "output_type": "execute_result"
    }
   ],
   "source": [
    "cars |> @filter (_.Origin==\"USA\")"
   ]
  },
  {
   "cell_type": "code",
   "execution_count": 24,
   "metadata": {},
   "outputs": [
    {
     "data": {
      "text/plain": [
       "mean (generic function with 1 method)"
      ]
     },
     "execution_count": 24,
     "metadata": {},
     "output_type": "execute_result"
    }
   ],
   "source": [
    "function mean(x)\n",
    "    c =0\n",
    "    n=length(x)\n",
    "    for i in 1:n\n",
    "        c=c+i\n",
    "    end\n",
    "    c/n\n",
    "end"
   ]
  },
  {
   "cell_type": "code",
   "execution_count": 26,
   "metadata": {},
   "outputs": [],
   "source": [
    "load(\"out/us_cars.csv\") |> @select(:Origin,:Year) |> save(\"out/us_origin_year_cars.csv\")\n",
    "load(\"out/cars.csv\") |> \n",
    "    @select(:Origin, :Cylinders, :Acceleration) |> \n",
    "    @mutate(Origin = lowercase(_.Origin)) |> \n",
    "    @groupby({_.Origin, _.Cylinders}) |> \n",
    "    @map({key(_)..., Cylinders = mean(_.Cylinders)}) |>\n",
    "    save(\"out/us_origins_cylinders_cars.csv\")\n",
    "# _.key è un itr"
   ]
  },
  {
   "cell_type": "code",
   "execution_count": 28,
   "metadata": {},
   "outputs": [
    {
     "data": {
      "application/vnd.dataresource+json": {
       "data": [
        {
         "Cylinders": 54.5,
         "Origin": "usa"
        },
        {
         "Cylinders": 33.5,
         "Origin": "europe"
        },
        {
         "Cylinders": 35,
         "Origin": "japan"
        },
        {
         "Cylinders": 37.5,
         "Origin": "usa"
        },
        {
         "Cylinders": 36.5,
         "Origin": "usa"
        },
        {
         "Cylinders": 2.5,
         "Origin": "japan"
        },
        {
         "Cylinders": 3.5,
         "Origin": "japan"
        },
        {
         "Cylinders": 2.5,
         "Origin": "europe"
        },
        {
         "Cylinders": 2,
         "Origin": "europe"
        }
       ],
       "schema": {
        "fields": [
         {
          "name": "Origin",
          "type": "string"
         },
         {
          "name": "Cylinders",
          "type": "number"
         }
        ]
       }
      },
      "text/html": [
       "<table><thead><tr><th>Origin</th><th>Cylinders</th></tr></thead><tbody><tr><td>&quot;usa&quot;</td><td>54.5</td></tr><tr><td>&quot;europe&quot;</td><td>33.5</td></tr><tr><td>&quot;japan&quot;</td><td>35.0</td></tr><tr><td>&quot;usa&quot;</td><td>37.5</td></tr><tr><td>&quot;usa&quot;</td><td>36.5</td></tr><tr><td>&quot;japan&quot;</td><td>2.5</td></tr><tr><td>&quot;japan&quot;</td><td>3.5</td></tr><tr><td>&quot;europe&quot;</td><td>2.5</td></tr><tr><td>&quot;europe&quot;</td><td>2.0</td></tr></tbody></table>"
      ],
      "text/plain": [
       "9x2 CSV file\n",
       "Origin │ Cylinders\n",
       "───────┼──────────\n",
       "usa    │ 54.5     \n",
       "europe │ 33.5     \n",
       "japan  │ 35.0     \n",
       "usa    │ 37.5     \n",
       "usa    │ 36.5     \n",
       "japan  │ 2.5      \n",
       "japan  │ 3.5      \n",
       "europe │ 2.5      \n",
       "europe │ 2.0      "
      ]
     },
     "execution_count": 28,
     "metadata": {},
     "output_type": "execute_result"
    }
   ],
   "source": [
    "load(\"out/us_origins_cylinders_cars.csv\")"
   ]
  },
  {
   "cell_type": "code",
   "execution_count": 3,
   "metadata": {},
   "outputs": [],
   "source": [
    "#vegalite / voyager"
   ]
  },
  {
   "cell_type": "code",
   "execution_count": null,
   "metadata": {},
   "outputs": [],
   "source": []
  }
 ],
 "metadata": {
  "kernelspec": {
   "display_name": "Julia 1.5.1",
   "language": "julia",
   "name": "julia-1.5"
  },
  "language_info": {
   "file_extension": ".jl",
   "mimetype": "application/julia",
   "name": "julia",
   "version": "1.5.1"
  }
 },
 "nbformat": 4,
 "nbformat_minor": 4
}
