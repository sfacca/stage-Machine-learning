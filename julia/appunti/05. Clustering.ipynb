{
 "cells": [
  {
   "cell_type": "markdown",
   "metadata": {},
   "source": [
    "## Clustering\n",
    "Put simply, the task of clustering is to place observations that seem similar within the same cluster. Clustering is commonly used in two dimensional data where the goal is to create clusters based on coordinates. Here, we will use something similar. We will cluster houses based on their latitude-longitude locations using several different clustering methods."
   ]
  },
  {
   "cell_type": "code",
   "execution_count": null,
   "metadata": {},
   "outputs": [],
   "source": [
    "# Packages we will use throughout this notebook\n",
    "using Clustering\n",
    "using VegaLite\n",
    "using VegaDatasets\n",
    "using DataFrames\n",
    "using Statistics\n",
    "using JSON\n",
    "using CSV\n",
    "using Distances"
   ]
  },
  {
   "cell_type": "markdown",
   "metadata": {},
   "source": [
    "We will start off by getting some data. We will use data of 20,000+ California houses dataset. We will then learn whether housing prices directly correlate with map location."
   ]
  },
  {
   "cell_type": "code",
   "execution_count": null,
   "metadata": {},
   "outputs": [],
   "source": [
    "download(\"https://raw.githubusercontent.com/ageron/handson-ml/master/datasets/housing/housing.csv\",\"newhouses.csv\")\n",
    "houses = CSV.read(\"newhouses.csv\")"
   ]
  },
  {
   "cell_type": "code",
   "execution_count": null,
   "metadata": {},
   "outputs": [],
   "source": [
    "names(houses)"
   ]
  },
  {
   "cell_type": "markdown",
   "metadata": {},
   "source": [
    "We will use the `VegaLite` package here for plotting. This package makes it very easy to plot information on a map. All you need is a JSON file of the map you intend to draw. Here, we will use the California counties JSON file and plot each house on the map and color code it via a heatmap of the price. This is done by this line `color=\"median_house_value:q\"`"
   ]
  },
  {
   "cell_type": "code",
   "execution_count": null,
   "metadata": {},
   "outputs": [],
   "source": [
    "\n",
    "\n",
    "cali_shape = JSON.parsefile(\"downloads/california-counties.json\")\n",
    "VV = VegaDatasets.VegaJSONDataset(cali_shape,\"downloads/california-counties.json\")\n",
    "\n",
    "@vlplot(width=500, height=300) +\n",
    "@vlplot(\n",
    "    mark={\n",
    "        :geoshape,\n",
    "        fill=:black,\n",
    "        stroke=:white\n",
    "    },\n",
    "    data={\n",
    "        values=VV,\n",
    "        format={\n",
    "            type=:topojson,\n",
    "            feature=:cb_2015_california_county_20m\n",
    "        }\n",
    "    },\n",
    "    projection={type=:albersUsa},\n",
    ")+\n",
    "@vlplot(\n",
    "    :circle,\n",
    "    data=houses,\n",
    "    projection={type=:albersUsa},\n",
    "    longitude=\"longitude:q\",\n",
    "    latitude=\"latitude:q\",\n",
    "    size={value=12},\n",
    "    color=\"median_house_value:q\"\n",
    "                    \n",
    ")"
   ]
  },
  {
   "cell_type": "markdown",
   "metadata": {},
   "source": [
    "One thing we will try and explore in this notebook is if clustering the houses has any direct relationship with their prices, so we will bucket the houses into intervals of $50000 and re perform the color codes based on each bucket."
   ]
  },
  {
   "cell_type": "code",
   "execution_count": null,
   "metadata": {},
   "outputs": [],
   "source": [
    "bucketprice = Int.(div.(houses[!,:median_house_value],50000))\n",
    "insertcols!(houses,3,:cprice=bucketprice)\n",
    "\n",
    "@vlplot(width=500, height=300) +\n",
    "@vlplot(\n",
    "    mark={\n",
    "        :geoshape,\n",
    "        fill=:black,\n",
    "        stroke=:white\n",
    "    },\n",
    "    data={\n",
    "        values=VV,\n",
    "        format={\n",
    "            type=:topojson,\n",
    "            feature=:cb_2015_california_county_20m\n",
    "        }\n",
    "    },\n",
    "    projection={type=:albersUsa},\n",
    ")+\n",
    "@vlplot(\n",
    "    :circle,\n",
    "    data=houses,\n",
    "    projection={type=:albersUsa},\n",
    "    longitude=\"longitude:q\",\n",
    "    latitude=\"latitude:q\",\n",
    "    size={value=12},\n",
    "    color=\"cprice:n\"\n",
    "                    \n",
    ")"
   ]
  },
  {
   "cell_type": "markdown",
   "metadata": {},
   "source": [
    "### 🟤K-means clustering"
   ]
  },
  {
   "cell_type": "code",
   "execution_count": null,
   "metadata": {},
   "outputs": [],
   "source": [
    "X = houses[!, [:latitude,:longitude]]\n",
    "C = kmeans(Matrix(X)', 10) \n",
    "insertcols!(houses,3,:cluster10=>C.assignments)"
   ]
  },
  {
   "cell_type": "code",
   "execution_count": null,
   "metadata": {},
   "outputs": [],
   "source": [
    "@vlplot(width=500, height=300) +\n",
    "@vlplot(\n",
    "    mark={\n",
    "        :geoshape,\n",
    "        fill=:black,\n",
    "        stroke=:white\n",
    "    },\n",
    "    data={\n",
    "        values=VV,\n",
    "        format={\n",
    "            type=:topojson,\n",
    "            feature=:cb_2015_california_county_20m\n",
    "        }\n",
    "    },\n",
    "    projection={type=:albersUsa},\n",
    ")+\n",
    "@vlplot(\n",
    "    :circle,\n",
    "    data=houses,\n",
    "    projection={type=:albersUsa},\n",
    "    longitude=\"longitude:q\",\n",
    "    latitude=\"latitude:q\",\n",
    "    size={value=12},\n",
    "    color=\"cluster10:n\"\n",
    "                    \n",
    ")"
   ]
  },
  {
   "cell_type": "markdown",
   "metadata": {},
   "source": [
    "Yes, location affects price of the house but this means location as in proximity to water, prosimity to downtown, promisity to a bus stop and so on\n",
    "\n",
    "lets' see if this remains true for the rest."
   ]
  },
  {
   "cell_type": "markdown",
   "metadata": {},
   "source": [
    "### 🟤K-medoids clustering\n",
    "For this type of clustering, we need to build a distance matrix. We will use the `Distances` package for this purpose and compute the pairwise Euclidean distances."
   ]
  },
  {
   "cell_type": "code",
   "execution_count": null,
   "metadata": {},
   "outputs": [],
   "source": [
    "xmatrix = Matrix(X)'\n",
    "D = pairwise(Euclidean(), xmatrix, xmatrix,dims=2) \n",
    "\n",
    "K = kmedoids(D,10)\n",
    "insertcols!(houses,3,:medoids_clusters=>K.assignments)"
   ]
  },
  {
   "cell_type": "code",
   "execution_count": null,
   "metadata": {},
   "outputs": [],
   "source": [
    "@vlplot(width=500, height=300) +\n",
    "@vlplot(\n",
    "    mark={\n",
    "        :geoshape,\n",
    "        fill=:black,\n",
    "        stroke=:white\n",
    "    },\n",
    "    data={\n",
    "        values=VV,\n",
    "        format={\n",
    "            type=:topojson,\n",
    "            feature=:cb_2015_california_county_20m\n",
    "        }\n",
    "    },\n",
    "    projection={type=:albersUsa},\n",
    ")+\n",
    "@vlplot(\n",
    "    :circle,\n",
    "    data=houses,\n",
    "    projection={type=:albersUsa},\n",
    "    longitude=\"longitude:q\",\n",
    "    latitude=\"latitude:q\",\n",
    "    size={value=12},\n",
    "    color=\"medoids_clusters:n\"\n",
    "                    \n",
    ")"
   ]
  },
  {
   "cell_type": "markdown",
   "metadata": {},
   "source": [
    "### 🟤Hierarchial Clustering"
   ]
  },
  {
   "cell_type": "code",
   "execution_count": null,
   "metadata": {},
   "outputs": [],
   "source": [
    "K = hclust(D)\n",
    "L = cutree(K;k=10)\n",
    "insertcols!(houses,3,:hclust_clusters=>L)"
   ]
  },
  {
   "cell_type": "code",
   "execution_count": null,
   "metadata": {},
   "outputs": [],
   "source": [
    "@vlplot(width=500, height=300) +\n",
    "@vlplot(\n",
    "    mark={\n",
    "        :geoshape,\n",
    "        fill=:black,\n",
    "        stroke=:white\n",
    "    },\n",
    "    data={\n",
    "        values=VV,\n",
    "        format={\n",
    "            type=:topojson,\n",
    "            feature=:cb_2015_california_county_20m\n",
    "        }\n",
    "    },\n",
    "    projection={type=:albersUsa},\n",
    ")+\n",
    "@vlplot(\n",
    "    :circle,\n",
    "    data=houses,\n",
    "    projection={type=:albersUsa},\n",
    "    longitude=\"longitude:q\",\n",
    "    latitude=\"latitude:q\",\n",
    "    size={value=12},\n",
    "    color=\"hclust_clusters:n\"\n",
    "                    \n",
    ")"
   ]
  },
  {
   "cell_type": "markdown",
   "metadata": {},
   "source": [
    "### 🟤DBscan"
   ]
  },
  {
   "cell_type": "code",
   "execution_count": null,
   "metadata": {},
   "outputs": [],
   "source": [
    "?dbscan"
   ]
  },
  {
   "cell_type": "code",
   "execution_count": null,
   "metadata": {},
   "outputs": [],
   "source": [
    "using Distances\n",
    "dclara = pairwise(SqEuclidean(), Matrix(X)',dims=2)\n",
    "L = dbscan(dclara, 0.05, 10)\n",
    "@show length(unique(L.assignments))"
   ]
  },
  {
   "cell_type": "code",
   "execution_count": null,
   "metadata": {},
   "outputs": [],
   "source": [
    "insertcols!(houses,3,:dbscanclusters3=>L.assignments)"
   ]
  },
  {
   "cell_type": "code",
   "execution_count": null,
   "metadata": {},
   "outputs": [],
   "source": [
    "@vlplot(width=500, height=300) +\n",
    "@vlplot(\n",
    "    mark={\n",
    "        :geoshape,\n",
    "    \n",
    "        fill=:black,\n",
    "        stroke=:white\n",
    "    },\n",
    "    data={\n",
    "        values=VV,\n",
    "        format={\n",
    "            type=:topojson,\n",
    "            feature=:cb_2015_california_county_20m\n",
    "        }\n",
    "    },\n",
    "    projection={type=:albersUsa},\n",
    ")+\n",
    "@vlplot(\n",
    "    :circle,\n",
    "    data=houses,\n",
    "    projection={type=:albersUsa},\n",
    "    longitude=\"longitude:q\",\n",
    "    latitude=\"latitude:q\",\n",
    "    size={value=12},\n",
    "    color=\"dbscanclusters3:n\"\n",
    "                    \n",
    ")"
   ]
  },
  {
   "cell_type": "markdown",
   "metadata": {},
   "source": [
    "# Finally...\n",
    "After finishing this notebook, you should be able to:\n",
    "- [ ] run kmeans clustering on your data\n",
    "- [ ] run kmedoids clustering on your data\n",
    "- [ ] run hierarchial clustering on your data\n",
    "- [ ] run DBscan clustering on your data\n",
    "- [ ] modify a dataframe and add a new named column\n",
    "- [ ] generate good looking plots of maps using the VegaLite package"
   ]
  },
  {
   "cell_type": "markdown",
   "metadata": {},
   "source": [
    "# 🥳 One cool finding\n",
    "\n",
    "Prices in California do not seem to have an exact mapping with geographical locations. In specifc, performing a clustering algorithm on the houses dataset we had did not reveal a mapping with the price ranges. This indicate that prices relationship to geographical location is not necessairly based on neighborhood but probably other factors like closeness to the water or closeness to a downtown. Here is a figure with a heat map of prices \n",
    "<img src=\"data/0501.png\" width=\"400\">\n",
    "And here is a and k-means clustering of the same houses based on their location\n",
    "<img src=\"data/0502.png\" width=\"400\">\n"
   ]
  },
  {
   "cell_type": "code",
   "execution_count": null,
   "metadata": {},
   "outputs": [],
   "source": []
  }
 ],
 "metadata": {
  "kernelspec": {
   "display_name": "Julia 1.5.1",
   "language": "julia",
   "name": "julia-1.5"
  },
  "language_info": {
   "file_extension": ".jl",
   "mimetype": "application/julia",
   "name": "julia",
   "version": "1.5.1"
  }
 },
 "nbformat": 4,
 "nbformat_minor": 2
}
