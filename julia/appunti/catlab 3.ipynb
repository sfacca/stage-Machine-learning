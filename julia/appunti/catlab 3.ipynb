{
 "cells": [
  {
   "cell_type": "code",
   "execution_count": 1,
   "metadata": {},
   "outputs": [
    {
     "name": "stderr",
     "output_type": "stream",
     "text": [
      "\u001b[32m\u001b[1m Activating\u001b[22m\u001b[39m environment at `C:\\Users\\i am\\Documents\\GitHub\\stage-Machine-learning\\notebook\\appunti\\Project.toml`\n",
      "\u001b[32m\u001b[1m   Updating\u001b[22m\u001b[39m registry at `C:\\Users\\i am\\.julia\\registries\\General`\n",
      "\u001b[32m\u001b[1m  Resolving\u001b[22m\u001b[39m package versions...\n",
      "\u001b[32m\u001b[1mUpdating\u001b[22m\u001b[39m `C:\\Users\\i am\\Documents\\GitHub\\stage-Machine-learning\\notebook\\appunti\\Project.toml`\n",
      " \u001b[90m [134e5e36] \u001b[39m\u001b[92m+ Catlab v0.7.4\u001b[39m\n",
      "\u001b[32m\u001b[1mNo Changes\u001b[22m\u001b[39m to `C:\\Users\\i am\\Documents\\GitHub\\stage-Machine-learning\\notebook\\appunti\\Manifest.toml`\n"
     ]
    }
   ],
   "source": [
    "using Pkg\n",
    "Pkg.activate(\".\")\n",
    "#Pkg.add(\"Catlab\")"
   ]
  },
  {
   "cell_type": "code",
   "execution_count": 2,
   "metadata": {},
   "outputs": [
    {
     "name": "stderr",
     "output_type": "stream",
     "text": [
      "┌ Info: Precompiling Catlab [134e5e36-593f-5add-ad60-77f754baafbe]\n",
      "└ @ Base loading.jl:1278\n"
     ]
    }
   ],
   "source": [
    "using Catlab"
   ]
  },
  {
   "cell_type": "code",
   "execution_count": 12,
   "metadata": {},
   "outputs": [
    {
     "name": "stderr",
     "output_type": "stream",
     "text": [
      "WARNING: could not import Catlab.Category into Main\n"
     ]
    }
   ],
   "source": [
    "import Catlab.Category"
   ]
  },
  {
   "cell_type": "markdown",
   "metadata": {},
   "source": [
    "## algebraic structure\n",
    "oggetto matematico i cui assiomi prendono forma di equazioni che non han eccezioni\n",
    "\n",
    "il nucelo di catlab è la definizione di strutt algebriche tramite 3 elementi\n",
    "\n",
    "## teorie (teorie algebriche generiche)\n",
    "\n",
    "natural logical system in which to define categories and related algebraic structures\n",
    "\n",
    "esempio: teoria di \"categoria\""
   ]
  },
  {
   "cell_type": "code",
   "execution_count": 10,
   "metadata": {},
   "outputs": [
    {
     "data": {
      "text/plain": [
       "Category"
      ]
     },
     "execution_count": 10,
     "metadata": {},
     "output_type": "execute_result"
    }
   ],
   "source": [
    "@theory Category(Ob,Hom) begin\n",
    "  # Unicode aliases.\n",
    "  @op begin# definisce metodi usabili nel resto della definizione\n",
    "    (→) := Hom\n",
    "    (⋅) := compose\n",
    "  end\n",
    "\n",
    "  \"\"\" Object in a category \"\"\"\n",
    "  Ob::TYPE\n",
    "\n",
    "  \"\"\" Morphism in a category \"\"\"\n",
    "  Hom(dom::Ob,codom::Ob)::TYPE\n",
    "\n",
    "  id(A::Ob)::(A → A)\n",
    "  compose(f::(A → B), g::(B → C))::(A → C) ⊣ (A::Ob, B::Ob, C::Ob)\n",
    "\n",
    "  # Category axioms.\n",
    "  ((f ⋅ g) ⋅ h == f ⋅ (g ⋅ h)\n",
    "    ⊣ (A::Ob, B::Ob, C::Ob, D::Ob, f::(A → B), g::(B → C), h::(C → D)))\n",
    "  f ⋅ id(B) == f ⊣ (A::Ob, B::Ob, f::(A → B))\n",
    "  id(A) ⋅ f == f ⊣ (A::Ob, B::Ob, f::(A → B))\n",
    "end"
   ]
  },
  {
   "cell_type": "code",
   "execution_count": 9,
   "metadata": {},
   "outputs": [
    {
     "ename": "LoadError",
     "evalue": "LoadError: Base.Meta.ParseError(\"Ill-formed theory binding asdas{}\")\nin expression starting at In[9]:1",
     "output_type": "error",
     "traceback": [
      "LoadError: Base.Meta.ParseError(\"Ill-formed theory binding asdas{}\")\nin expression starting at In[9]:1",
      "",
      "Stacktrace:",
      " [1] parse_theory_binding(::Expr) at C:\\Users\\i am\\.julia\\packages\\Catlab\\jP9lv\\src\\core\\GAT.jl:202"
     ]
    }
   ],
   "source": [
    "@theory asdas{} begin\n",
    "end"
   ]
  },
  {
   "cell_type": "code",
   "execution_count": 11,
   "metadata": {},
   "outputs": [
    {
     "data": {
      "text/plain": [
       "Catlab.GAT.Theory(Catlab.GAT.TypeConstructor[Catlab.GAT.TypeConstructor(:Ob, Symbol[], OrderedCollections.OrderedDict{Symbol,Union{Expr, Symbol}}(), \" Object in a category \"), Catlab.GAT.TypeConstructor(:Hom, [:dom, :codom], OrderedCollections.OrderedDict{Symbol,Union{Expr, Symbol}}(:dom => :Ob,:codom => :Ob), \" Morphism in a category \")], Catlab.GAT.TermConstructor[Catlab.GAT.TermConstructor(:id, [:A], :(Hom(A, A)), OrderedCollections.OrderedDict{Symbol,Union{Expr, Symbol}}(:A => :Ob), nothing), Catlab.GAT.TermConstructor(:compose, [:f, :g], :(Hom(A, C)), OrderedCollections.OrderedDict{Symbol,Union{Expr, Symbol}}(:A => :Ob,:B => :Ob,:C => :Ob,:f => :(Hom(A, B)),:g => :(Hom(B, C))), nothing)], Catlab.GAT.AxiomConstructor[Catlab.GAT.AxiomConstructor(:(==), :(compose(compose(f, g), h)), :(compose(f, compose(g, h))), OrderedCollections.OrderedDict{Symbol,Union{Expr, Symbol}}(:A => :Ob,:B => :Ob,:C => :Ob,:D => :Ob,:f => :(Hom(A, B)),:g => :(Hom(B, C)),:h => :(Hom(C, D))), nothing), Catlab.GAT.AxiomConstructor(:(==), :(compose(f, id(B))), :f, OrderedCollections.OrderedDict{Symbol,Union{Expr, Symbol}}(:A => :Ob,:B => :Ob,:f => :(Hom(A, B))), nothing), Catlab.GAT.AxiomConstructor(:(==), :(compose(id(A), f)), :f, OrderedCollections.OrderedDict{Symbol,Union{Expr, Symbol}}(:A => :Ob,:B => :Ob,:f => :(Hom(A, B))), nothing)], Dict(:⋅ => :compose,:→ => :Hom))"
      ]
     },
     "execution_count": 11,
     "metadata": {},
     "output_type": "execute_result"
    }
   ],
   "source": [
    "theory(Category)"
   ]
  },
  {
   "cell_type": "code",
   "execution_count": 16,
   "metadata": {},
   "outputs": [
    {
     "data": {
      "text/plain": [
       "true"
      ]
     },
     "execution_count": 16,
     "metadata": {},
     "output_type": "execute_result"
    }
   ],
   "source": [
    "theory(Catlab.Theories.Category) == theory(Category)"
   ]
  },
  {
   "cell_type": "markdown",
   "metadata": {},
   "source": [
    "## instances\n",
    "implementaz concrete di teorie\n",
    "\n",
    "stessa teoria può avere + instances\n",
    "\n",
    "nell'istanza di una teoria ogni tipo della teoria è mnappato a un tipo julia, ogni termine a un metodo julia omonimo\n",
    "\n",
    "eg: mappiamo categoria \"matrici\" alla teoria sopra"
   ]
  },
  {
   "cell_type": "code",
   "execution_count": 18,
   "metadata": {},
   "outputs": [],
   "source": [
    "using LinearAlgebra: I\n",
    "\n",
    "struct MatrixDomain\n",
    "  eltype::Type\n",
    "  dim::Int\n",
    "end\n",
    "\n",
    "@instance Category(MatrixDomain, Matrix) begin\n",
    "  dom(M::Matrix) = MatrixDomain(eltype(M), size(M,1))\n",
    "  codom(M::Matrix) = MatrixDomain(eltype(M), size(M,2))\n",
    "\n",
    "  id(m::MatrixDomain) = Matrix{m.eltype}(I, m.dim, m.dim)\n",
    "  compose(M::Matrix, N::Matrix) = M*N\n",
    "end"
   ]
  },
  {
   "cell_type": "code",
   "execution_count": 19,
   "metadata": {},
   "outputs": [
    {
     "data": {
      "text/plain": [
       "2×2 Array{Float64,2}:\n",
       " 1.0  0.0\n",
       " 0.0  1.0"
      ]
     },
     "execution_count": 19,
     "metadata": {},
     "output_type": "execute_result"
    }
   ],
   "source": [
    "A = Matrix{Float64}([0 1; 1 0])\n",
    "id(dom(A))"
   ]
  },
  {
   "cell_type": "markdown",
   "metadata": {},
   "source": [
    "## syntax systems\n",
    "\n",
    "teorie posson anche essere  istanziate come sistemi di espressioni simboliche( alberi di esporessioni) \n",
    "\n",
    "simili a Expr di julia ma tipate GATExpr (tipo di Catlab)"
   ]
  },
  {
   "cell_type": "code",
   "execution_count": 24,
   "metadata": {},
   "outputs": [
    {
     "data": {
      "text/plain": [
       "Catlab.Theories.HomExpr"
      ]
     },
     "execution_count": 24,
     "metadata": {},
     "output_type": "execute_result"
    }
   ],
   "source": [
    "ObExpr = Catlab.Theories.ObExpr\n",
    "HomExpr = Catlab.Theories.HomExpr"
   ]
  },
  {
   "cell_type": "code",
   "execution_count": 26,
   "metadata": {},
   "outputs": [
    {
     "data": {
      "text/plain": [
       "compose(compose(f,g),h)"
      ]
     },
     "execution_count": 26,
     "metadata": {},
     "output_type": "execute_result"
    }
   ],
   "source": [
    "@syntax CategoryExprs(ObExpr, HomExpr) Category begin\n",
    "end\n",
    "\n",
    "A, B, C, D = [ Ob(CategoryExprs.Ob, X) for X in [:A, :B, :C, :D] ]\n",
    "f, g, h = Hom(:f, A, B), Hom(:g, B, C), Hom(:h, C, D)\n",
    "\n",
    "compose(compose(f,g),h)"
   ]
  },
  {
   "cell_type": "code",
   "execution_count": 22,
   "metadata": {},
   "outputs": [
    {
     "ename": "LoadError",
     "evalue": "UndefVarError: ObExpr not defined",
     "output_type": "error",
     "traceback": [
      "UndefVarError: ObExpr not defined",
      "",
      "Stacktrace:",
      " [1] getproperty(::Module, ::Symbol) at .\\Base.jl:26",
      " [2] top-level scope at In[22]:1",
      " [3] include_string(::Function, ::Module, ::String, ::String) at .\\loading.jl:1091"
     ]
    }
   ],
   "source": [
    "Catlab.ObExpr"
   ]
  },
  {
   "cell_type": "markdown",
   "metadata": {},
   "source": [
    "Thus, unlike instances of a theory, syntactic expressions are not expected to obey all the axioms of the theory.\n",
    "\n",
    "However, the user may supply logic in the body of the @syntax macro to enforce the axioms or perform other kinds of simplification."
   ]
  },
  {
   "cell_type": "code",
   "execution_count": null,
   "metadata": {},
   "outputs": [],
   "source": []
  }
 ],
 "metadata": {
  "kernelspec": {
   "display_name": "Julia 1.5.3",
   "language": "julia",
   "name": "julia-1.5"
  },
  "language_info": {
   "file_extension": ".jl",
   "mimetype": "application/julia",
   "name": "julia",
   "version": "1.5.3"
  }
 },
 "nbformat": 4,
 "nbformat_minor": 4
}
