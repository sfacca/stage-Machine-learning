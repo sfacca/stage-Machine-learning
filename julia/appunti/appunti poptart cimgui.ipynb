{
 "cells": [
  {
   "cell_type": "code",
   "execution_count": 16,
   "metadata": {},
   "outputs": [
    {
     "ename": "LoadError",
     "evalue": "The following package names could not be resolved:\n * Poptarts (not found in project, manifest or registry)\n",
     "output_type": "error",
     "traceback": [
      "The following package names could not be resolved:\n * Poptarts (not found in project, manifest or registry)\n",
      "",
      "Stacktrace:",
      " [1] pkgerror(::String) at D:\\buildbot\\worker\\package_win64\\build\\usr\\share\\julia\\stdlib\\v1.5\\Pkg\\src\\Types.jl:52",
      " [2] ensure_resolved(::Pkg.Types.Context, ::Array{Pkg.Types.PackageSpec,1}; registry::Bool) at D:\\buildbot\\worker\\package_win64\\build\\usr\\share\\julia\\stdlib\\v1.5\\Pkg\\src\\Types.jl:837",
      " [3] add(::Pkg.Types.Context, ::Array{Pkg.Types.PackageSpec,1}; preserve::Pkg.Types.PreserveLevel, platform::Pkg.BinaryPlatforms.Windows, kwargs::Base.Iterators.Pairs{Union{},Union{},Tuple{},NamedTuple{(),Tuple{}}}) at D:\\buildbot\\worker\\package_win64\\build\\usr\\share\\julia\\stdlib\\v1.5\\Pkg\\src\\API.jl:178",
      " [4] add(::Pkg.Types.Context, ::Array{Pkg.Types.PackageSpec,1}) at D:\\buildbot\\worker\\package_win64\\build\\usr\\share\\julia\\stdlib\\v1.5\\Pkg\\src\\API.jl:140",
      " [5] #add#21 at D:\\buildbot\\worker\\package_win64\\build\\usr\\share\\julia\\stdlib\\v1.5\\Pkg\\src\\API.jl:67 [inlined]",
      " [6] add at D:\\buildbot\\worker\\package_win64\\build\\usr\\share\\julia\\stdlib\\v1.5\\Pkg\\src\\API.jl:67 [inlined]",
      " [7] #add#20 at D:\\buildbot\\worker\\package_win64\\build\\usr\\share\\julia\\stdlib\\v1.5\\Pkg\\src\\API.jl:66 [inlined]",
      " [8] add at D:\\buildbot\\worker\\package_win64\\build\\usr\\share\\julia\\stdlib\\v1.5\\Pkg\\src\\API.jl:66 [inlined]",
      " [9] add(::String; kwargs::Base.Iterators.Pairs{Union{},Union{},Tuple{},NamedTuple{(),Tuple{}}}) at D:\\buildbot\\worker\\package_win64\\build\\usr\\share\\julia\\stdlib\\v1.5\\Pkg\\src\\API.jl:65",
      " [10] add(::String) at D:\\buildbot\\worker\\package_win64\\build\\usr\\share\\julia\\stdlib\\v1.5\\Pkg\\src\\API.jl:65",
      " [11] top-level scope at In[16]:2",
      " [12] include_string(::Function, ::Module, ::String, ::String) at .\\loading.jl:1091"
     ]
    }
   ],
   "source": [
    "using Pkg"
   ]
  },
  {
   "cell_type": "code",
   "execution_count": 8,
   "metadata": {},
   "outputs": [],
   "source": [
    "using CImGui\n",
    "using GLFW"
   ]
  },
  {
   "cell_type": "code",
   "execution_count": 3,
   "metadata": {},
   "outputs": [
    {
     "data": {
      "text/latex": [
       "\\begin{verbatim}\n",
       "Begin(name, p_open=C_NULL, flags=0) -> Bool\n",
       "\\end{verbatim}\n",
       "Push window to the stack and start appending to it.\n",
       "\n",
       "\\subsubsection{Usage}\n",
       "\\begin{itemize}\n",
       "\\item you may \\textbf{append multiple times to the same window} during \\textbf{the same frame}.\n",
       "\n",
       "\n",
       "\\item passing \\texttt{p\\_open != C\\_NULL} shows a window-closing widget in the upper-right corner of the window,   which clicking will set the boolean to false when clicked.\n",
       "\n",
       "\n",
       "\\item \\href{@ref}{\\texttt{Begin}} return false to indicate the window is collapsed or fully clipped, so you   may early out and omit submitting anything to the window.\n",
       "\n",
       "\\end{itemize}\n",
       "\\begin{quote}\n",
       "\\textbf{note}\n",
       "\n",
       "Note\n",
       "\n",
       "Always call a matching \\href{@ref}{\\texttt{End}} for each \\href{@ref}{\\texttt{Begin}} call, regardless of its return value. This is due to legacy reason and is inconsistent with most other functions (such as \\href{@ref}{\\texttt{BeginMenu}}/\\href{@ref}{\\texttt{EndMenu}}, \\href{@ref}{\\texttt{BeginPopup}}/\\href{@ref}{\\texttt{EndPopup}}, etc.) where the \\texttt{EndXXX} call should only be called if the corresponding \\texttt{BeginXXX} function returned true.\n",
       "\n",
       "\\end{quote}\n",
       "\\rule{\\textwidth}{1pt}\n",
       "\\begin{verbatim}\n",
       "Begin(handle::Ptr{ImGuiTextBuffer}) -> Cstring\n",
       "\\end{verbatim}\n",
       "\\rule{\\textwidth}{1pt}\n",
       "\\begin{verbatim}\n",
       "Begin(handle::Ptr{ImGuiListClipper}, items_count, items_height=-1.0)\n",
       "\\end{verbatim}\n",
       "Automatically called by constructor if you passed \\texttt{items\\_count} or by \\href{@ref}{\\texttt{Step}} in Step 1.\n",
       "\n"
      ],
      "text/markdown": [
       "```\n",
       "Begin(name, p_open=C_NULL, flags=0) -> Bool\n",
       "```\n",
       "\n",
       "Push window to the stack and start appending to it.\n",
       "\n",
       "### Usage\n",
       "\n",
       "  * you may **append multiple times to the same window** during **the same frame**.\n",
       "  * passing `p_open != C_NULL` shows a window-closing widget in the upper-right corner of the window,   which clicking will set the boolean to false when clicked.\n",
       "  * [`Begin`](@ref) return false to indicate the window is collapsed or fully clipped, so you   may early out and omit submitting anything to the window.\n",
       "\n",
       "!!! note\n",
       "    Always call a matching [`End`](@ref) for each [`Begin`](@ref) call, regardless of its return value. This is due to legacy reason and is inconsistent with most other functions (such as [`BeginMenu`](@ref)/[`EndMenu`](@ref), [`BeginPopup`](@ref)/[`EndPopup`](@ref), etc.) where the `EndXXX` call should only be called if the corresponding `BeginXXX` function returned true.\n",
       "\n",
       "\n",
       "---\n",
       "\n",
       "```\n",
       "Begin(handle::Ptr{ImGuiTextBuffer}) -> Cstring\n",
       "```\n",
       "\n",
       "---\n",
       "\n",
       "```\n",
       "Begin(handle::Ptr{ImGuiListClipper}, items_count, items_height=-1.0)\n",
       "```\n",
       "\n",
       "Automatically called by constructor if you passed `items_count` or by [`Step`](@ref) in Step 1.\n"
      ],
      "text/plain": [
       "\u001b[36m  Begin(name, p_open=C_NULL, flags=0) -> Bool\u001b[39m\n",
       "\n",
       "  Push window to the stack and start appending to it.\n",
       "\n",
       "\u001b[1m  Usage\u001b[22m\n",
       "\u001b[1m  –––––––\u001b[22m\n",
       "\n",
       "    •    you may \u001b[1mappend multiple times to the same window\u001b[22m during \u001b[1mthe same\n",
       "        frame\u001b[22m.\n",
       "\n",
       "    •    passing \u001b[36mp_open != C_NULL\u001b[39m shows a window-closing widget in the\n",
       "        upper-right corner of the window, which clicking will set the\n",
       "        boolean to false when clicked.\n",
       "\n",
       "    •    \u001b[36mBegin\u001b[39m return false to indicate the window is collapsed or fully\n",
       "        clipped, so you may early out and omit submitting anything to the\n",
       "        window.\n",
       "\n",
       "\u001b[36m\u001b[1m  │ \u001b[22m\u001b[39m\u001b[36m\u001b[1mNote\u001b[22m\u001b[39m\n",
       "\u001b[36m\u001b[1m  │\u001b[22m\u001b[39m\n",
       "\u001b[36m\u001b[1m  │\u001b[22m\u001b[39m  Always call a matching \u001b[36mEnd\u001b[39m for each \u001b[36mBegin\u001b[39m call, regardless of its\n",
       "\u001b[36m\u001b[1m  │\u001b[22m\u001b[39m  return value. This is due to legacy reason and is inconsistent\n",
       "\u001b[36m\u001b[1m  │\u001b[22m\u001b[39m  with most other functions (such as \u001b[36mBeginMenu\u001b[39m/\u001b[36mEndMenu\u001b[39m,\n",
       "\u001b[36m\u001b[1m  │\u001b[22m\u001b[39m  \u001b[36mBeginPopup\u001b[39m/\u001b[36mEndPopup\u001b[39m, etc.) where the \u001b[36mEndXXX\u001b[39m call should only be\n",
       "\u001b[36m\u001b[1m  │\u001b[22m\u001b[39m  called if the corresponding \u001b[36mBeginXXX\u001b[39m function returned true.\n",
       "\n",
       "  ────────────────────────────────────────────────────────────────────────────\n",
       "\n",
       "\u001b[36m  Begin(handle::Ptr{ImGuiTextBuffer}) -> Cstring\u001b[39m\n",
       "\n",
       "  ────────────────────────────────────────────────────────────────────────────\n",
       "\n",
       "\u001b[36m  Begin(handle::Ptr{ImGuiListClipper}, items_count, items_height=-1.0)\u001b[39m\n",
       "\n",
       "  Automatically called by constructor if you passed \u001b[36mitems_count\u001b[39m or by \u001b[36mStep\u001b[39m in\n",
       "  Step 1."
      ]
     },
     "execution_count": 3,
     "metadata": {},
     "output_type": "execute_result"
    }
   ],
   "source": [
    "? CImGui.Begin"
   ]
  },
  {
   "cell_type": "code",
   "execution_count": 14,
   "metadata": {},
   "outputs": [
    {
     "data": {
      "text/latex": [
       "No documentation found.\n",
       "\n",
       "Binding \\texttt{glfwWindowShouldClose} does not exist.\n",
       "\n"
      ],
      "text/markdown": [
       "No documentation found.\n",
       "\n",
       "Binding `glfwWindowShouldClose` does not exist.\n"
      ],
      "text/plain": [
       "  No documentation found.\n",
       "\n",
       "  Binding \u001b[36mglfwWindowShouldClose\u001b[39m does not exist."
      ]
     },
     "execution_count": 14,
     "metadata": {},
     "output_type": "execute_result"
    }
   ],
   "source": [
    "? glfwWindowShouldClose()"
   ]
  },
  {
   "cell_type": "code",
   "execution_count": 12,
   "metadata": {},
   "outputs": [
    {
     "name": "stdout",
     "output_type": "stream",
     "text": [
      "search: \u001b[0m\u001b[1mG\u001b[22m\u001b[0m\u001b[1mL\u001b[22m\u001b[0m\u001b[1mF\u001b[22m\u001b[0m\u001b[1mW\u001b[22m \u001b[0m\u001b[1mG\u001b[22m\u001b[0m\u001b[1ml\u001b[22mobalRe\u001b[0m\u001b[1mf\u001b[22m\n",
      "\n"
     ]
    },
    {
     "data": {
      "text/latex": [
       "No documentation found.\n",
       "\n",
       "No docstring found for module \\texttt{GLFW}.\n",
       "\n"
      ],
      "text/markdown": [
       "No documentation found.\n",
       "\n",
       "No docstring found for module `GLFW`.\n"
      ],
      "text/plain": [
       "  No documentation found.\n",
       "\n",
       "  No docstring found for module \u001b[36mGLFW\u001b[39m."
      ]
     },
     "execution_count": 12,
     "metadata": {},
     "output_type": "execute_result"
    }
   ],
   "source": [
    "?GLFW"
   ]
  },
  {
   "cell_type": "code",
   "execution_count": 13,
   "metadata": {},
   "outputs": [
    {
     "name": "stdout",
     "output_type": "stream",
     "text": [
      "search:\n",
      "\n",
      "Couldn't find \u001b[36mglfwPollEvents\u001b[39m\n",
      "Perhaps you meant collect\n"
     ]
    },
    {
     "data": {
      "text/latex": [
       "No documentation found.\n",
       "\n",
       "Binding \\texttt{glfwPollEvents} does not exist.\n",
       "\n"
      ],
      "text/markdown": [
       "No documentation found.\n",
       "\n",
       "Binding `glfwPollEvents` does not exist.\n"
      ],
      "text/plain": [
       "  No documentation found.\n",
       "\n",
       "  Binding \u001b[36mglfwPollEvents\u001b[39m does not exist."
      ]
     },
     "execution_count": 13,
     "metadata": {},
     "output_type": "execute_result"
    }
   ],
   "source": [
    "?glfwPollEvents"
   ]
  },
  {
   "cell_type": "code",
   "execution_count": 20,
   "metadata": {},
   "outputs": [],
   "source": [
    "using Poptart\n",
    "using Poptart.Desktop"
   ]
  },
  {
   "cell_type": "code",
   "execution_count": 22,
   "metadata": {},
   "outputs": [
    {
     "data": {
      "text/latex": [
       "\\begin{verbatim}\n",
       "didClick(f::Union{Nothing,Function}, widget::UIControl)\n",
       "\\end{verbatim}\n"
      ],
      "text/markdown": [
       "```\n",
       "didClick(f::Union{Nothing,Function}, widget::UIControl)\n",
       "```\n"
      ],
      "text/plain": [
       "\u001b[36m  didClick(f::Union{Nothing,Function}, widget::UIControl)\u001b[39m"
      ]
     },
     "execution_count": 22,
     "metadata": {},
     "output_type": "execute_result"
    }
   ],
   "source": [
    "?Desktop.didClick"
   ]
  },
  {
   "cell_type": "code",
   "execution_count": null,
   "metadata": {},
   "outputs": [],
   "source": []
  }
 ],
 "metadata": {
  "kernelspec": {
   "display_name": "Julia 1.5.1",
   "language": "julia",
   "name": "julia-1.5"
  },
  "language_info": {
   "file_extension": ".jl",
   "mimetype": "application/julia",
   "name": "julia",
   "version": "1.5.1"
  }
 },
 "nbformat": 4,
 "nbformat_minor": 4
}
