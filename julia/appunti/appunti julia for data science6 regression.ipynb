{
 "cells": [
  {
   "cell_type": "markdown",
   "metadata": {},
   "source": [
    "+ https://github.com/JuliaAcademy/DataScience/blob/master/07.%20Regression.ipynb"
   ]
  },
  {
   "cell_type": "code",
   "execution_count": null,
   "metadata": {},
   "outputs": [],
   "source": [
    "using Pkg\n",
    "Pkg.activate(\".\")\n",
    "Pkg.instantiate()\n",
    "\n",
    "Pkg.add(\"DataStructures\")\n",
    "Pkg.resolve()\n",
    "\n",
    "mkpath(\"downloads\")\n",
    "mkpath(\"out\")"
   ]
  },
  {
   "cell_type": "code",
   "execution_count": null,
   "metadata": {},
   "outputs": [],
   "source": [
    "using Pkg\n",
    "Pkg.activate(\".\")\n",
    "Pkg.instantiate()\n",
    "using Plots\n",
    "using Statistics\n",
    "using StatsBase\n",
    "using PyCall\n",
    "using DataFrames\n",
    "using GLM\n",
    "using Tables\n",
    "using XLSX\n",
    "using MLBase\n",
    "using RDatasets\n",
    "using LsqFit\n",
    "using DataStructures\n",
    "using Makie"
   ]
  },
  {
   "cell_type": "code",
   "execution_count": null,
   "metadata": {},
   "outputs": [],
   "source": [
    "?std\n"
   ]
  },
  {
   "cell_type": "code",
   "execution_count": null,
   "metadata": {},
   "outputs": [],
   "source": [
    "# 3 modi per fare lo stesso lm\n",
    "## esempio di mod lineare\n",
    "xvals = repeat(1:0.5:10, inner=2)\n",
    "yvals = 3 .+ xvals .+ 2 .* rand(length(xvals)) .-1\n",
    "scatter(xvals, yvals, color=:black, leg=false)\n",
    "#polotto dati"
   ]
  },
  {
   "cell_type": "code",
   "execution_count": null,
   "metadata": {},
   "outputs": [],
   "source": [
    "function find_best_fit(xvals,yvals)\n",
    "    meanx = mean(xvals)\n",
    "    meany = mean(yvals)\n",
    "    stdx = std(xvals)\n",
    "    stdy = std(yvals)\n",
    "    r = cor(xvals,yvals)\n",
    "    b1_hat = r*stdy/stdx\n",
    "    b0_hat = meany - b1_hat*meanx\n",
    "    return b1_hat,b0_hat\n",
    "end\n",
    "# fun che trova modello lineare semplice"
   ]
  },
  {
   "cell_type": "code",
   "execution_count": null,
   "metadata": {},
   "outputs": [],
   "source": [
    "b1_hat,b0_hat = find_best_fit(xvals,yvals) #\n",
    "ynew = b1_hat .* xvals .+ b0_hat# creiamo array di valori predetti"
   ]
  },
  {
   "cell_type": "code",
   "execution_count": null,
   "metadata": {},
   "outputs": [],
   "source": [
    "resid = ynew-yvals"
   ]
  },
  {
   "cell_type": "code",
   "execution_count": null,
   "metadata": {},
   "outputs": [],
   "source": [
    "scatter(xvals, resid.^2, color=:black, leg=false)# no pattern visible"
   ]
  },
  {
   "cell_type": "code",
   "execution_count": null,
   "metadata": {},
   "outputs": [],
   "source": [
    "scatter(xvals, yvals, color=:black, leg=false)\n",
    "@show MSE = mean(resid.^2)\n",
    "Plots.abline!(b1_hat, b0_hat, line=:dash)\n",
    "# linear model fits data well"
   ]
  },
  {
   "cell_type": "code",
   "execution_count": null,
   "metadata": {},
   "outputs": [],
   "source": [
    "np = pyimport(\"numpy\");"
   ]
  },
  {
   "cell_type": "code",
   "execution_count": null,
   "metadata": {},
   "outputs": [],
   "source": [
    "\n",
    "xdata = xvals\n",
    "ydata = yvals\n",
    "@time myfit = np.polyfit(xdata, ydata, 1);\n",
    "ynew2 = collect(xdata) .* myfit[1] .+ myfit[2];\n",
    "scatter(xvals,yvals)\n",
    "plot!(xvals,ynew)\n",
    "plot!(xvals,ynew2)"
   ]
  },
  {
   "cell_type": "code",
   "execution_count": null,
   "metadata": {},
   "outputs": [],
   "source": [
    "data = DataFrame(X=xdata, Y=ydata)\n",
    "ols = lm(@formula(Y ~ X), data)\n",
    "plot!(xdata,predict(ols))"
   ]
  },
  {
   "cell_type": "code",
   "execution_count": null,
   "metadata": {},
   "outputs": [],
   "source": [
    "## ora con dati un pò più complessi...\n",
    "file = download(\"https://github.com/JuliaAcademy/DataScience/blob/master/data/zillow_data_download_april2020.xlsx?raw=true\",\n",
    "    \"downloads/zillow_data_download_april2020.xlsx\")"
   ]
  },
  {
   "cell_type": "code",
   "execution_count": null,
   "metadata": {},
   "outputs": [],
   "source": [
    "R = XLSX.readxlsx(\"downloads/zillow_data_download_april2020.xlsx\")\n",
    "sale_counts = R[\"Sale_counts_city\"][:]\n",
    "df_sale_counts = DataFrame(sale_counts[2:end,:],Symbol.(sale_counts[1,:]))\n",
    "\n",
    "monthly_listings = R[\"MonthlyListings_City\"][:]\n",
    "df_monthly_listings = DataFrame(monthly_listings[2:end,:],Symbol.(monthly_listings[1,:]))\n",
    "\n",
    "monthly_listings_2020_02 = df_monthly_listings[!,[1,2,3,4,5,end]]\n",
    "rename!(monthly_listings_2020_02, Symbol(\"2020-02\") .=> Symbol(\"listings\"))\n",
    "\n",
    "sale_counts_2020_02 = df_sale_counts[!,[1,end]]\n",
    "rename!(sale_counts_2020_02, Symbol(\"2020-02\") .=> Symbol(\"sales\"))"
   ]
  },
  {
   "cell_type": "code",
   "execution_count": null,
   "metadata": {},
   "outputs": [],
   "source": [
    "Feb2020data = innerjoin(monthly_listings_2020_02,sale_counts_2020_02,on=:RegionID) #, type=\"outer\")\n",
    "dropmissing!(Feb2020data)\n",
    "sales = Feb2020data[!,:sales]\n",
    "# prices = Feb2020data[!,:price]\n",
    "counts = Feb2020data[!,:listings]\n",
    "states = Feb2020data[!,:StateName]\n",
    "C = counter(states)\n",
    "@show C.map\n",
    "countvals = values(C.map)\n",
    "topstates = sortperm(collect(countvals),rev=true)[1:10]\n",
    "states_of_interest = collect(keys(C.map))[topstates]\n",
    "all_plots = Array{Plots.Plot}(undef,10)\n",
    "for (i,si) in enumerate(states_of_interest)\n",
    "    curids = findall(Feb2020data[!,:StateName].==si)\n",
    "    data = DataFrame(X=float.(counts[curids]), Y=float.(sales[curids]))\n",
    "    ols = GLM.lm(@formula(Y ~ 0 + X), data) # NB: pone intercetta a 0   \n",
    "    all_plots[i] = scatter(counts[curids],sales[curids],markersize=2,\n",
    "        xlim=(0,500),ylim=(0,500),color=i,aspect_ratio=:equal,\n",
    "        legend=false,title=si)\n",
    "    @show si,coef(ols)# parametri del modello (solo b1 poichè intercetta a 0)\n",
    "    plot!(counts[curids],predict(ols),color=:black)\n",
    "end\n",
    "plot(all_plots...,layout=(2,5),size=(900,300))### [a,b,c]... = a,b,c\n"
   ]
  },
  {
   "cell_type": "code",
   "execution_count": null,
   "metadata": {},
   "outputs": [],
   "source": [
    "all_plots = Array{Plots.Plot}(undef,10)\n",
    "for (i,si) in enumerate(states_of_interest)\n",
    "    curids = findall(Feb2020data[!,:StateName].==si)\n",
    "    data = DataFrame(X=float.(counts[curids]), Y=float.(sales[curids]))\n",
    "    ols = GLM.lm(@formula(Y ~ X), data)    \n",
    "    all_plots[i] = scatter(counts[curids],sales[curids],markersize=2,\n",
    "        xlim=(0,500),ylim=(0,500),color=i,aspect_ratio=:equal,\n",
    "        legend=false,title=si)\n",
    "    @show si,coef(ols)# parametri del modello\n",
    "    plot!(counts[curids],predict(ols),color=:black)\n",
    "end\n",
    "plot(all_plots...,layout=(2,5),size=(900,300))"
   ]
  },
  {
   "cell_type": "code",
   "execution_count": null,
   "metadata": {},
   "outputs": [],
   "source": [
    "plot()\n",
    "for (i,si) in enumerate(states_of_interest)\n",
    "    curids = findall(Feb2020data[!,:StateName].==si)\n",
    "    data = DataFrame(X=float.(counts[curids]), Y=float.(sales[curids]))\n",
    "    ols = GLM.lm(@formula(Y ~ 0 + X), data)    \n",
    "    scatter!(counts[curids],sales[curids],markersize=2,\n",
    "        xlim=(0,500),ylim=(0,500),color=i,aspect_ratio=:equal,\n",
    "        legend=false,marker=(3,3,stroke(0)),alpha=0.2)\n",
    "        if si == \"NC\" || si == \"CA\" || si == \"FL\"\n",
    "            annotate!([(500-20,10+coef(ols)[1]*500,text(si,10))])\n",
    "        end\n",
    "    @show si,coef(ols)\n",
    "    plot!(counts[curids],predict(ols),color=i,linewidth=2)\n",
    "end\n",
    "# plot(all_plots...,layout=(2,5),size=(900,300))\n",
    "xlabel!(\"listings\")\n",
    "ylabel!(\"sales\")\n",
    "#plotta tutti i dati e tutti i modelli nello stesso plot"
   ]
  },
  {
   "cell_type": "code",
   "execution_count": null,
   "metadata": {},
   "outputs": [],
   "source": [
    "#logistic\n",
    "\n",
    "data = DataFrame(X=[1,2,3,4,5,6,7], Y=[1,0,1,1,1,1,1])\n",
    "linear_reg = lm(@formula(Y ~ X), data)\n",
    "scatter(data[!,:X],data[!,:Y],legend=false,size=(300,200))\n",
    "plot!(1:7,predict(linear_reg))\n",
    "# vogliamo predirre una binomiale\n",
    "# lm normale non va bene!"
   ]
  },
  {
   "cell_type": "code",
   "execution_count": null,
   "metadata": {},
   "outputs": [],
   "source": [
    "#usiamo glm\n",
    "#prendiamo dati\n",
    "cats = dataset(\"MASS\", \"cats\")#da rdatasets"
   ]
  },
  {
   "cell_type": "code",
   "execution_count": null,
   "metadata": {},
   "outputs": [],
   "source": [
    "# plottiamo bwt/hwt rappresentando sesso come colore\n",
    "lmap = labelmap(cats[!,:Sex])\n",
    "ci = labelencode(lmap, cats[!,:Sex])\n",
    "scatter(cats[!,:BWt],cats[!,:HWt],color=ci,legend=false)"
   ]
  },
  {
   "cell_type": "code",
   "execution_count": null,
   "metadata": {},
   "outputs": [],
   "source": [
    "# gatti maschi sembran più presenti in alto a destra (alti bwt,hwt)\n",
    "\n",
    "#vediamo un modello logistic che predica sesso in bnase a hwt\n",
    "data = DataFrame(X=cats[!,:HWt], Y=ci.-1)\n",
    "probit = glm(@formula(Y ~ X), data, Binomial(), LogitLink())\n",
    "scatter(data[!,:X],data[!,:Y],label=\"ground truth gender\",color=6)\n",
    "scatter!(data[!,:X],predict(probit),label=\"predicted gender\",color=7)"
   ]
  },
  {
   "cell_type": "code",
   "execution_count": null,
   "metadata": {},
   "outputs": [],
   "source": [
    "#i valori rimangono compresi tra 0 e 1\n"
   ]
  },
  {
   "cell_type": "code",
   "execution_count": null,
   "metadata": {},
   "outputs": [],
   "source": [
    "# regressione non lineare\n",
    "# si usa model\n",
    "\n",
    "#creiamo dataset\n",
    "xvals = 0:0.05:10\n",
    "yvals = 1*exp.(-xvals*2) + 2*sin.(0.8*pi*xvals) + 0.15 * randn(length(xvals));\n",
    "scatter(xvals,yvals,legend=false)\n",
    "\n",
    "#facciamo modello\n",
    "@. model(x, p) = p[1]*exp(-x*p[2]) + p[3]*sin(0.8*pi*x)\n",
    "p0 = [0.5, 0.5, 0.5]\n",
    "myfit = curve_fit(model, xvals, yvals, p0)\n",
    "\n",
    "#plottiamo \n",
    "p = myfit.param\n",
    "findyvals = p[1]*exp.(-xvals*p[2]) + p[3]*sin.(0.8*pi*xvals)\n",
    "scatter(xvals,yvals,legend=false)\n",
    "plot!(xvals,findyvals)"
   ]
  },
  {
   "cell_type": "code",
   "execution_count": null,
   "metadata": {},
   "outputs": [],
   "source": []
  },
  {
   "cell_type": "code",
   "execution_count": null,
   "metadata": {},
   "outputs": [],
   "source": []
  }
 ],
 "metadata": {
  "kernelspec": {
   "display_name": "Julia 1.5.1",
   "language": "julia",
   "name": "julia-1.5"
  },
  "language_info": {
   "file_extension": ".jl",
   "mimetype": "application/julia",
   "name": "julia",
   "version": "1.5.1"
  }
 },
 "nbformat": 4,
 "nbformat_minor": 4
}
