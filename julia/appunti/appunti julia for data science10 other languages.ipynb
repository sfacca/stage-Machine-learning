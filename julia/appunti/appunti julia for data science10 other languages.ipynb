{
 "cells": [
  {
   "cell_type": "markdown",
   "metadata": {},
   "source": [
    "+ https://github.com/JuliaAcademy/DataScience/blob/master/11.%20from%20other%20languages.ipynb"
   ]
  },
  {
   "cell_type": "code",
   "execution_count": 3,
   "metadata": {},
   "outputs": [
    {
     "name": "stderr",
     "output_type": "stream",
     "text": [
      "\u001b[32m\u001b[1m Activating\u001b[22m\u001b[39m environment at `C:\\Users\\i am\\Documents\\GitHub\\stage-Machine-learning\\notebook\\appunti\\Project.toml`\n"
     ]
    },
    {
     "data": {
      "text/plain": [
       "\"out\""
      ]
     },
     "execution_count": 3,
     "metadata": {},
     "output_type": "execute_result"
    }
   ],
   "source": [
    "using Pkg\n",
    "Pkg.activate(\".\")\n",
    "Pkg.instantiate()\n",
    "\n",
    "mkpath(\"downloads\")\n",
    "mkpath(\"out\")"
   ]
  },
  {
   "cell_type": "code",
   "execution_count": 6,
   "metadata": {},
   "outputs": [],
   "source": [
    "using RCall"
   ]
  },
  {
   "cell_type": "code",
   "execution_count": 2,
   "metadata": {},
   "outputs": [],
   "source": [
    "#abbiam già visto python/pycall"
   ]
  },
  {
   "cell_type": "code",
   "execution_count": 7,
   "metadata": {},
   "outputs": [
    {
     "data": {
      "text/plain": [
       "RObject{IntSxp}\n",
       "[1] 2\n"
      ]
     },
     "execution_count": 7,
     "metadata": {},
     "output_type": "execute_result"
    }
   ],
   "source": [
    "#R\n",
    "# dalla repl dopo aver installato caricato RCall possiamo passare da repl julia a repl R con $\n",
    "# possiamo usare rcall per chiamare funzioni R\n",
    "r = rcall(:sum, Float64[1.0, 4.0, 6.0])\n",
    "#possiamo inserire variabili da julia a ambiente R con macro rput\n",
    "z = 1\n",
    "@rput z\n",
    "#per esaeguire operazioni nell ambiente R:\n",
    "r = R\"z+z\""
   ]
  },
  {
   "cell_type": "code",
   "execution_count": 9,
   "metadata": {},
   "outputs": [
    {
     "data": {
      "text/plain": [
       "10-element Array{Float64,1}:\n",
       " -1.4060633884827627\n",
       "  0.2964404588257887\n",
       "  0.682022233097509\n",
       " -0.9504152114921139\n",
       " -1.9656351467015847\n",
       "  1.2016329862949036\n",
       " -0.7321736242910525\n",
       "  0.08179778082335326\n",
       "  1.6844448666022904\n",
       " -0.7120729519017507"
      ]
     },
     "execution_count": 9,
     "metadata": {},
     "output_type": "execute_result"
    }
   ],
   "source": [
    "#fun di julia\n",
    "x = randn(10)"
   ]
  },
  {
   "cell_type": "code",
   "execution_count": 10,
   "metadata": {},
   "outputs": [
    {
     "data": {
      "text/plain": [
       "RObject{IntSxp}\n",
       "[1] 6\n"
      ]
     },
     "execution_count": 10,
     "metadata": {},
     "output_type": "execute_result"
    }
   ],
   "source": [
    "#possisammo importare funzioni da R oer usarle in julia\n",
    "@rimport base as rbase\n",
    "rbase.sum([1, 2, 3])"
   ]
  },
  {
   "cell_type": "code",
   "execution_count": 11,
   "metadata": {},
   "outputs": [
    {
     "data": {
      "text/latex": [
       "Load all exported functions/objects of an R package to the current module. Almost equivalent to\n",
       "\n",
       "\\begin{verbatim}\n",
       "__temp__ = rimport(\"ggplot2\")\n",
       "using .__temp__\n",
       "\\end{verbatim}\n"
      ],
      "text/markdown": [
       "Load all exported functions/objects of an R package to the current module. Almost equivalent to\n",
       "\n",
       "```\n",
       "__temp__ = rimport(\"ggplot2\")\n",
       "using .__temp__\n",
       "```\n"
      ],
      "text/plain": [
       "  Load all exported functions/objects of an R package to the current module.\n",
       "  Almost equivalent to\n",
       "\n",
       "\u001b[36m  __temp__ = rimport(\"ggplot2\")\u001b[39m\n",
       "\u001b[36m  using .__temp__\u001b[39m"
      ]
     },
     "execution_count": 11,
     "metadata": {},
     "output_type": "execute_result"
    }
   ],
   "source": [
    "?@rlibrary"
   ]
  },
  {
   "cell_type": "code",
   "execution_count": 12,
   "metadata": {},
   "outputs": [],
   "source": [
    "#possiamo importare pacchetti R\n",
    "@rlibrary boot"
   ]
  },
  {
   "cell_type": "code",
   "execution_count": 13,
   "metadata": {},
   "outputs": [
    {
     "data": {
      "text/plain": [
       "RObject{VecSxp}\n",
       "\n",
       "\tOne Sample t-test\n",
       "\n",
       "data:  `#JL`$x\n",
       "t = -0.49238, df = 9, p-value = 0.6342\n",
       "alternative hypothesis: true mean is not equal to 0\n",
       "95 percent confidence interval:\n",
       " -1.018181  0.654177\n",
       "sample estimates:\n",
       " mean of x \n",
       "-0.1820022 \n",
       "\n"
      ]
     },
     "execution_count": 13,
     "metadata": {},
     "output_type": "execute_result"
    }
   ],
   "source": [
    "R\"t.test($x)\""
   ]
  },
  {
   "cell_type": "code",
   "execution_count": 14,
   "metadata": {},
   "outputs": [
    {
     "data": {
      "text/plain": [
       "4513426"
      ]
     },
     "execution_count": 14,
     "metadata": {},
     "output_type": "execute_result"
    }
   ],
   "source": [
    "# C\n",
    "#librerie standard facili da usare\n",
    "t = ccall(:clock, Int32, ())"
   ]
  },
  {
   "cell_type": "code",
   "execution_count": null,
   "metadata": {},
   "outputs": [],
   "source": []
  }
 ],
 "metadata": {
  "kernelspec": {
   "display_name": "Julia 1.5.1",
   "language": "julia",
   "name": "julia-1.5"
  },
  "language_info": {
   "file_extension": ".jl",
   "mimetype": "application/julia",
   "name": "julia",
   "version": "1.5.1"
  }
 },
 "nbformat": 4,
 "nbformat_minor": 4
}
