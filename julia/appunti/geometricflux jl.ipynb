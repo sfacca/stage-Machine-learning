{
 "cells": [
  {
   "cell_type": "code",
   "execution_count": 1,
   "metadata": {},
   "outputs": [
    {
     "name": "stderr",
     "output_type": "stream",
     "text": [
      "\u001b[32m\u001b[1m Activating\u001b[22m\u001b[39m environment at `C:\\Users\\i am\\Documents\\GitHub\\stage-Machine-learning\\notebook\\appunti\\Project.toml`\n"
     ]
    }
   ],
   "source": [
    "\n",
    "using Pkg\n",
    "Pkg.activate(\".\")"
   ]
  },
  {
   "cell_type": "code",
   "execution_count": 2,
   "metadata": {},
   "outputs": [
    {
     "name": "stderr",
     "output_type": "stream",
     "text": [
      "\u001b[32m\u001b[1m   Updating\u001b[22m\u001b[39m registry at `C:\\Users\\i am\\.julia\\registries\\General`\n",
      "\u001b[32m\u001b[1m  Resolving\u001b[22m\u001b[39m package versions...\n",
      "\u001b[32m\u001b[1m  Installed\u001b[22m\u001b[39m SimpleWeightedGraphs ─ v1.1.1\n",
      "\u001b[32m\u001b[1m  Installed\u001b[22m\u001b[39m GraphLaplacians ────── v0.1.0\n",
      "\u001b[32m\u001b[1m  Installed\u001b[22m\u001b[39m JLD2 ───────────────── v0.2.4\n",
      "\u001b[32m\u001b[1m  Installed\u001b[22m\u001b[39m GraphMLDatasets ────── v0.1.1\n",
      "\u001b[32m\u001b[1m  Installed\u001b[22m\u001b[39m DataDeps ───────────── v0.7.2\n",
      "\u001b[32m\u001b[1m  Installed\u001b[22m\u001b[39m ScatterNNlib ───────── v0.1.3\n",
      "\u001b[32m\u001b[1m  Installed\u001b[22m\u001b[39m GeometricFlux ──────── v0.7.2\n",
      "\u001b[32m\u001b[1m  Installed\u001b[22m\u001b[39m GraphSignals ───────── v0.1.1\n",
      "\u001b[32m\u001b[1m  Installed\u001b[22m\u001b[39m MetaGraphs ─────────── v0.6.6\n",
      "\u001b[32m\u001b[1mUpdating\u001b[22m\u001b[39m `C:\\Users\\i am\\Documents\\GitHub\\stage-Machine-learning\\notebook\\appunti\\Project.toml`\n",
      " \u001b[90m [7e08b658] \u001b[39m\u001b[92m+ GeometricFlux v0.7.2\u001b[39m\n",
      "\u001b[32m\u001b[1mUpdating\u001b[22m\u001b[39m `C:\\Users\\i am\\Documents\\GitHub\\stage-Machine-learning\\notebook\\appunti\\Manifest.toml`\n",
      " \u001b[90m [124859b0] \u001b[39m\u001b[92m+ DataDeps v0.7.2\u001b[39m\n",
      " \u001b[90m [7e08b658] \u001b[39m\u001b[92m+ GeometricFlux v0.7.2\u001b[39m\n",
      " \u001b[90m [a1251efa] \u001b[39m\u001b[92m+ GraphLaplacians v0.1.0\u001b[39m\n",
      " \u001b[90m [21828b05] \u001b[39m\u001b[92m+ GraphMLDatasets v0.1.1\u001b[39m\n",
      " \u001b[90m [3ebe565e] \u001b[39m\u001b[92m+ GraphSignals v0.1.1\u001b[39m\n",
      " \u001b[90m [033835bb] \u001b[39m\u001b[92m+ JLD2 v0.2.4\u001b[39m\n",
      " \u001b[90m [626554b9] \u001b[39m\u001b[92m+ MetaGraphs v0.6.6\u001b[39m\n",
      " \u001b[90m [b1168b60] \u001b[39m\u001b[92m+ ScatterNNlib v0.1.3\u001b[39m\n",
      " \u001b[90m [47aef6b3] \u001b[39m\u001b[92m+ SimpleWeightedGraphs v1.1.1\u001b[39m\n"
     ]
    }
   ],
   "source": [
    "Pkg.add(\"GeometricFlux\")"
   ]
  },
  {
   "cell_type": "code",
   "execution_count": 3,
   "metadata": {},
   "outputs": [
    {
     "name": "stderr",
     "output_type": "stream",
     "text": [
      "┌ Info: Precompiling GeometricFlux [7e08b658-56d3-11e9-2997-919d5b31e4ea]\n",
      "└ @ Base loading.jl:1278\n"
     ]
    }
   ],
   "source": [
    "using GeometricFlux"
   ]
  },
  {
   "cell_type": "markdown",
   "metadata": {},
   "source": [
    "# geometricflux\n",
    "libreria per flux\n",
    "\n",
    "+ https://www.youtube.com/watch?v=GczF2zmJKlk&feature=emb_title"
   ]
  },
  {
   "cell_type": "markdown",
   "metadata": {},
   "source": [
    "## geometric deep leraning\n",
    "branchia del deep leraning che si occupa di creare reti neurali per dati non euclidiani\n",
    "### datatype non euclid\n",
    "* grafi\n",
    "* manifold"
   ]
  },
  {
   "cell_type": "markdown",
   "metadata": {},
   "source": [
    "### strati di convoltuion di grafi\n",
    "* https://www.youtube.com/watch?v=pH1Zz6c1Q7A  \n",
    "gcn: reti neurali non tradiz che sfruttano caratteristiche struttura grafi\n",
    "\n",
    "per ogni layer: per ogni nodo:  \n",
    "1. aggrega (valori) nodi vicini\n",
    "2. passa aggregato a rete neurale\n",
    "3. output è rappresentazione nodo\n"
   ]
  },
  {
   "cell_type": "markdown",
   "metadata": {},
   "source": [
    "### graph nw\n",
    "3 framework per 3 tipi di graph nw:  \n",
    "* update di arco  \n",
    "* update di nodo  \n",
    "* update globale  \n",
    "\n",
    "è possibile definire nuovi fw di graph nw"
   ]
  },
  {
   "cell_type": "code",
   "execution_count": null,
   "metadata": {},
   "outputs": [],
   "source": []
  }
 ],
 "metadata": {
  "kernelspec": {
   "display_name": "Julia 1.5.1",
   "language": "julia",
   "name": "julia-1.5"
  },
  "language_info": {
   "file_extension": ".jl",
   "mimetype": "application/julia",
   "name": "julia",
   "version": "1.5.1"
  }
 },
 "nbformat": 4,
 "nbformat_minor": 4
}
