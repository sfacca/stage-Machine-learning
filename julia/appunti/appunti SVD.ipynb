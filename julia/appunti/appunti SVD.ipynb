{
 "cells": [
  {
   "cell_type": "code",
   "execution_count": 1,
   "metadata": {},
   "outputs": [
    {
     "name": "stderr",
     "output_type": "stream",
     "text": [
      "\u001b[32m\u001b[1m Activating\u001b[22m\u001b[39m environment at `C:\\Users\\i am\\Documents\\GitHub\\stage-Machine-learning\\notebook\\appunti\\Project.toml`\n",
      "\u001b[32m\u001b[1mNo Changes\u001b[22m\u001b[39m to `C:\\Users\\i am\\Documents\\GitHub\\stage-Machine-learning\\notebook\\appunti\\Project.toml`\n",
      "\u001b[32m\u001b[1mUpdating\u001b[22m\u001b[39m `C:\\Users\\i am\\Documents\\GitHub\\stage-Machine-learning\\notebook\\appunti\\Manifest.toml`\n",
      " \u001b[90m [0234f1f7] \u001b[39m\u001b[93m↑ HDF5_jll v1.10.5+5 ⇒ v1.10.5+6\u001b[39m\n"
     ]
    },
    {
     "data": {
      "text/plain": [
       "\"out\""
      ]
     },
     "execution_count": 1,
     "metadata": {},
     "output_type": "execute_result"
    }
   ],
   "source": [
    "using Pkg\n",
    "Pkg.activate(\".\")\n",
    "Pkg.instantiate()\n",
    "\n",
    "mkpath(\"downloads\")\n",
    "mkpath(\"out\")"
   ]
  },
  {
   "cell_type": "markdown",
   "metadata": {},
   "source": [
    "+ https://mas-dse.github.io/DSE230/pdf-slides/svdh.pdf"
   ]
  },
  {
   "cell_type": "markdown",
   "metadata": {},
   "source": [
    "+ https://www.youtube.com/watch?v=P5mlg91as1c  \n",
    "# Singular Value Decomposition\n",
    "\n",
    "## cosa?\n",
    "\n",
    "SVD = scomposizione di una matrice A(m x n) in:  \n",
    "1. U(left singular vectors, m x t): matrice invertibile ortogonale di autovettori ortonormali presi da $AA^T$   \n",
    "2. V(right singular vectors, n x r): matrice invertibile ortogonale di autovettori ortonormali presi da $A^TA$     \n",
    "3. S(valori singoli, in ordine decrescente, matrice r x r): è matrice diagonale a r elementi uguali alle radici dei autovalori positivi di $A^TA$ o $AA^T$ (valori singoli)  \n",
    "\n",
    "tali che $ A = USV^T $ , con r rango di A\n"
   ]
  },
  {
   "cell_type": "markdown",
   "metadata": {},
   "source": [
    "## come?\n",
    "\n",
    "\n",
    "+ https://docs.julialang.org/en/v1/stdlib/LinearAlgebra/#LinearAlgebra.svd  \n",
    "+ http://courses.csail.mit.edu/18.337/2013/projects/Turner-Presentation_SVD-Julia.pdf <-approx"
   ]
  },
  {
   "cell_type": "code",
   "execution_count": 12,
   "metadata": {},
   "outputs": [
    {
     "data": {
      "text/plain": [
       "SVD{Float64,Float64,Array{Float64,2}}"
      ]
     },
     "execution_count": 12,
     "metadata": {},
     "output_type": "execute_result"
    }
   ],
   "source": [
    "# LinearAlgebra.svd\n",
    "using LinearAlgebra\n",
    "A = rand([-4:12...], 5, 5)\n",
    "svdA = svd(A)\n",
    "typeof(svdA)"
   ]
  },
  {
   "cell_type": "code",
   "execution_count": 13,
   "metadata": {},
   "outputs": [
    {
     "data": {
      "text/plain": [
       "5-element Array{Float64,1}:\n",
       " 27.960275279450293\n",
       " 16.709885366470015\n",
       " 11.176930014922839\n",
       "  4.723894918632619\n",
       "  3.280821478841283"
      ]
     },
     "execution_count": 13,
     "metadata": {},
     "output_type": "execute_result"
    }
   ],
   "source": [
    "svdA.S"
   ]
  },
  {
   "cell_type": "code",
   "execution_count": 14,
   "metadata": {},
   "outputs": [
    {
     "data": {
      "text/plain": [
       "5×5 Array{Float64,2}:\n",
       " -0.0182991   0.631539   -0.413893   0.613658   0.230088\n",
       "  0.675388    0.0734957  -0.278794  -0.437968   0.518563\n",
       "  0.249062    0.701889    0.525491  -0.233537  -0.338585\n",
       "  0.372998   -0.244804    0.616499   0.549669   0.344582\n",
       "  0.585113   -0.207796   -0.307825   0.273738  -0.666915"
      ]
     },
     "execution_count": 14,
     "metadata": {},
     "output_type": "execute_result"
    }
   ],
   "source": [
    "svdA.U"
   ]
  },
  {
   "cell_type": "code",
   "execution_count": 16,
   "metadata": {},
   "outputs": [
    {
     "data": {
      "text/plain": [
       "5×5 Adjoint{Float64,Array{Float64,2}}:\n",
       "  0.590035   -0.163868    0.114747   -0.308924  -0.718613\n",
       "  0.436231    0.213573   -0.768108   -0.281611   0.307888\n",
       "  0.124789    0.47904     0.551234   -0.583732   0.332184\n",
       " -0.0457448   0.835057   -0.0877756   0.365495  -0.399119\n",
       "  0.666255   -0.0271041   0.292027    0.592395   0.345193"
      ]
     },
     "execution_count": 16,
     "metadata": {},
     "output_type": "execute_result"
    }
   ],
   "source": [
    "svdA.V"
   ]
  },
  {
   "cell_type": "markdown",
   "metadata": {},
   "source": [
    "## perchè?\n",
    "+ compressione dati: permette rappresentazione compatta matrici  \n",
    "+ assimilazione dati: permette di individuare perturbazioni di incremento più veloce\n",
    "\n",
    "\n",
    "  \n",
    "\n",
    "+ https://towardsdatascience.com/svd-8c2f72e264f\n",
    "+ youtube.com/watch?v=-Z9RhcerO6Y"
   ]
  },
  {
   "cell_type": "markdown",
   "metadata": {},
   "source": [
    "#### principal component analysis\n",
    "+ https://medium.com/maheshkkumar/principal-component-analysis-2d11043ff324#:~:text=In%20order%20to%20find%20the,like%20the%20diagram%20show%20below.&text=Thus%2C%20we%20can%20say%20that,for%20the%20above%20data%20set.\n",
    "* riduci numero di parametri riducendo di poco la varianza\n",
    "\n",
    "#### altro\n",
    "+ https://en.wikipedia.org/wiki/Singular_value_decomposition#Total_least_squares_minimization"
   ]
  },
  {
   "cell_type": "code",
   "execution_count": null,
   "metadata": {},
   "outputs": [],
   "source": []
  }
 ],
 "metadata": {
  "kernelspec": {
   "display_name": "Julia 1.5.1",
   "language": "julia",
   "name": "julia-1.5"
  },
  "language_info": {
   "file_extension": ".jl",
   "mimetype": "application/julia",
   "name": "julia",
   "version": "1.5.1"
  }
 },
 "nbformat": 4,
 "nbformat_minor": 4
}
