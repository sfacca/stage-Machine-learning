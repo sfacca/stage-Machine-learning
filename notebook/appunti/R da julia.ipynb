{
 "cells": [
  {
   "cell_type": "code",
   "execution_count": 1,
   "metadata": {},
   "outputs": [
    {
     "name": "stderr",
     "output_type": "stream",
     "text": [
      "\u001b[32m\u001b[1m Activating\u001b[22m\u001b[39m environment at `C:\\Users\\i am\\Documents\\GitHub\\stage-Machine-learning\\notebook\\appunti\\Project.toml`\n"
     ]
    }
   ],
   "source": [
    "using Pkg\n",
    "Pkg.activate(\".\")\n",
    "Pkg.instantiate()\n",
    "\n",
    "mkpath(\"downloads\")\n",
    "mkpath(\"out\")\n",
    "\n",
    "using RCall"
   ]
  },
  {
   "cell_type": "markdown",
   "metadata": {},
   "source": [
    "(copia di un Rmd in jupyter notebook)"
   ]
  },
  {
   "cell_type": "markdown",
   "metadata": {},
   "source": [
    "saheart: dati su maschi di una regione ad alto rischio di malattie al cuore del sud africa"
   ]
  },
  {
   "cell_type": "code",
   "execution_count": 7,
   "metadata": {},
   "outputs": [],
   "source": [
    "download(\"http://www-stat.stanford.edu/~tibs/ElemStatLearn/datasets/SAheart.data\",\"downloads/SAheart.data\")\n",
    "R\"\"\"SAheart <- read.csv(\"downloads/SAheart.data\")\n",
    "\"\"\";"
   ]
  },
  {
   "cell_type": "markdown",
   "metadata": {},
   "source": [
    "come prima cosa, modelliamo probabilità malattia coronaria cuore (chd=1) usando  \n",
    "colesterolo a densita bassa di liboproteine (ldl)\n",
    "\n",
    "\n"
   ]
  },
  {
   "cell_type": "code",
   "execution_count": 9,
   "metadata": {},
   "outputs": [
    {
     "data": {
      "image/png": "[encoded data removed]"
     },
     "metadata": {},
     "output_type": "display_data"
    }
   ],
   "source": [
    "R\"\"\"chd_mod_ldl <- glm(chd ~ ldl, data = SAheart, family = binomial)\n",
    "plot(jitter(chd, factor = 0.1) ~ ldl, data = SAheart, pch = 20,\n",
    "ylab = \"Probability of CHD\", xlab = \"Low Density Lipoprotein Cholesterol\")\n",
    "grid()\n",
    "curve(predict(chd_mod_ldl, data.frame(ldl = x), type = \"response\"),\n",
    "add = TRUE, col = \"dodgerblue\", lty = 2)\n",
    "\"\"\";"
   ]
  },
  {
   "cell_type": "code",
   "execution_count": null,
   "metadata": {},
   "outputs": [],
   "source": []
  },
  {
   "cell_type": "markdown",
   "metadata": {},
   "source": [
    "come ci aspettavamo, il grafico indica che un alto tasso di colesterolo porta a un alta prob di chd  \n",
    "facciamo ora un z test tramite fun summary\n"
   ]
  },
  {
   "cell_type": "code",
   "execution_count": 11,
   "metadata": {},
   "outputs": [
    {
     "data": {
      "text/plain": [
       "RObject{RealSxp}\n",
       "              Estimate Std. Error   z value     Pr(>|z|)\n",
       "(Intercept) -1.9686681 0.27307908 -7.209150 5.630207e-13\n",
       "ldl          0.2746613 0.05163983  5.318787 1.044615e-07\n"
      ]
     },
     "execution_count": 11,
     "metadata": {},
     "output_type": "execute_result"
    }
   ],
   "source": [
    "R\"\"\"\n",
    "coef(summary(chd_mod_ldl))\n",
    "\"\"\""
   ]
  },
  {
   "cell_type": "markdown",
   "metadata": {},
   "source": [
    "valore p basso->rigettiamo ipotesi nulla, ldl è un predittore significativo  \n",
    "vediamo a conf int 95%"
   ]
  },
  {
   "cell_type": "code",
   "execution_count": 12,
   "metadata": {},
   "outputs": [
    {
     "data": {
      "text/plain": [
       "RObject{RealSxp}\n",
       "                 2.5 %     97.5 %\n",
       "(Intercept) -2.5038933 -1.4334430\n",
       "ldl          0.1734491  0.3758735\n"
      ]
     },
     "execution_count": 12,
     "metadata": {},
     "output_type": "execute_result"
    }
   ],
   "source": [
    "R\"\"\"confint.default(chd_mod_ldl,level=0.95)\n",
    "\"\"\""
   ]
  },
  {
   "cell_type": "markdown",
   "metadata": {},
   "source": [
    "proviamo a fittare un modello contenente tutti i dati"
   ]
  },
  {
   "cell_type": "code",
   "execution_count": 13,
   "metadata": {},
   "outputs": [
    {
     "data": {
      "text/plain": [
       "RObject{VecSxp}\n",
       "\n",
       "Call:  glm(formula = chd ~ sbp + tobacco + ldl + adiposity + famhist + \n",
       "    typea + obesity + alcohol + age, family = binomial, data = SAheart)\n",
       "\n",
       "Coefficients:\n",
       "   (Intercept)             sbp         tobacco             ldl       adiposity  \n",
       "    -6.1507209       0.0065040       0.0793764       0.1739239       0.0185866  \n",
       "famhistPresent           typea         obesity         alcohol             age  \n",
       "     0.9253704       0.0395950      -0.0629099       0.0001217       0.0452253  \n",
       "\n",
       "Degrees of Freedom: 461 Total (i.e. Null);  452 Residual\n",
       "Null Deviance:\t    596.1 \n",
       "Residual Deviance: 472.1 \tAIC: 492.1\n"
      ]
     },
     "execution_count": 13,
     "metadata": {},
     "output_type": "execute_result"
    }
   ],
   "source": [
    "R\"chd_mod_additive <- glm(chd ~ sbp + tobacco + ldl + adiposity + famhist + \n",
    "    typea + obesity + alcohol + age, data = SAheart, family = binomial)\n",
    "\""
   ]
  },
  {
   "cell_type": "markdown",
   "metadata": {},
   "source": [
    "compariamo i due modelli usando Likeliohood Ratio Test"
   ]
  },
  {
   "cell_type": "code",
   "execution_count": 14,
   "metadata": {},
   "outputs": [
    {
     "data": {
      "text/plain": [
       "RObject{VecSxp}\n",
       "Analysis of Deviance Table\n",
       "\n",
       "Model 1: chd ~ ldl\n",
       "Model 2: chd ~ sbp + tobacco + ldl + adiposity + famhist + typea + obesity + \n",
       "    alcohol + age\n",
       "  Resid. Df Resid. Dev Df Deviance  Pr(>Chi)    \n",
       "1       460     564.28                          \n",
       "2       452     472.14  8   92.139 < 2.2e-16 ***\n",
       "---\n",
       "Signif. codes:  0 '***' 0.001 '**' 0.01 '*' 0.05 '.' 0.1 ' ' 1\n"
      ]
     },
     "execution_count": 14,
     "metadata": {},
     "output_type": "execute_result"
    }
   ],
   "source": [
    "R\"\"\"anova(chd_mod_ldl, chd_mod_additive, test = \"LRT\")\"\"\""
   ]
  },
  {
   "cell_type": "markdown",
   "metadata": {},
   "source": [
    "deviance è il risultato del test  \n",
    "p è basso quiondi preferiamo il modello più grande  \n",
    "per trovare un modello intermedio migliore possiamoi fare stepwise aic o bic, che   \n",
    "eran definiti in termini di verosimiglianza  \n",
    "\n",
    "esempio con AIC"
   ]
  },
  {
   "cell_type": "code",
   "execution_count": 17,
   "metadata": {},
   "outputs": [
    {
     "name": "stdout",
     "output_type": "stream",
     "text": [
      "Start:  AIC=492.14\n",
      "chd ~ sbp + tobacco + ldl + adiposity + famhist + typea + obesity + \n",
      "    alcohol + age\n",
      "\n",
      "            Df Deviance    AIC\n",
      "- alcohol    1   472.14 490.14\n",
      "- adiposity  1   472.55 490.55\n",
      "- sbp        1   473.44 491.44\n",
      "<none>           472.14 492.14\n",
      "- obesity    1   474.23 492.23\n",
      "- ldl        1   481.07 499.07\n",
      "- tobacco    1   481.67 499.67\n",
      "- typea      1   483.05 501.05\n",
      "- age        1   486.53 504.53\n",
      "- famhist    1   488.89 506.89\n",
      "\n",
      "Step:  AIC=490.14\n",
      "chd ~ sbp + tobacco + ldl + adiposity + famhist + typea + obesity + \n",
      "    age\n",
      "\n",
      "            Df Deviance    AIC\n",
      "- adiposity  1   472.55 488.55\n",
      "- sbp        1   473.47 489.47\n",
      "<none>           472.14 490.14\n",
      "- obesity    1   474.24 490.24\n",
      "- ldl        1   481.15 497.15\n",
      "- tobacco    1   482.06 498.06\n",
      "- typea      1   483.06 499.06\n",
      "- age        1   486.64 502.64\n",
      "- famhist    1   488.99 504.99\n",
      "\n",
      "Step:  AIC=488.55\n",
      "chd ~ sbp + tobacco + ldl + famhist + typea + obesity + age\n",
      "\n",
      "          Df Deviance    AIC\n",
      "- sbp      1   473.98 487.98\n",
      "<none>         472.55 488.55\n",
      "- obesity  1   474.65 488.65\n",
      "- tobacco  1   482.54 496.54\n",
      "- ldl      1   482.95 496.95\n",
      "- typea    1   483.19 497.19\n",
      "- famhist  1   489.38 503.38\n",
      "- age      1   495.48 509.48\n",
      "\n",
      "Step:  AIC=487.98\n",
      "chd ~ tobacco + ldl + famhist + typea + obesity + age\n",
      "\n",
      "          Df Deviance    AIC\n",
      "- obesity  1   475.69 487.69\n",
      "<none>         473.98 487.98\n",
      "- tobacco  1   484.18 496.18\n",
      "- typea    1   484.30 496.30\n",
      "- ldl      1   484.53 496.53\n",
      "- famhist  1   490.58 502.58\n",
      "- age      1   502.11 514.11\n",
      "\n",
      "Step:  AIC=487.69\n",
      "chd ~ tobacco + ldl + famhist + typea + age\n",
      "\n",
      "          Df Deviance    AIC\n",
      "<none>         475.69 487.69\n",
      "- ldl      1   484.71 494.71\n",
      "- typea    1   485.44 495.44\n",
      "- tobacco  1   486.03 496.03\n",
      "- famhist  1   492.09 502.09\n",
      "- age      1   502.38 512.38\n"
     ]
    }
   ],
   "source": [
    "R\"chd_mod_selected <- step(chd_mod_additive, trace = 1, k = 2)\";"
   ]
  },
  {
   "cell_type": "markdown",
   "metadata": {},
   "source": [
    "ritestiamo il modello ottenuto con i precedenti\n",
    "\n"
   ]
  },
  {
   "cell_type": "code",
   "execution_count": 25,
   "metadata": {},
   "outputs": [
    {
     "name": "stdout",
     "output_type": "stream",
     "text": [
      "R\"anova(chd_mod_additive, chd_mod_selected, test = \\\"LRT\\\")\" = RObject{VecSxp}\n",
      "Analysis of Deviance Table\n",
      "\n",
      "Model 1: chd ~ sbp + tobacco + ldl + adiposity + famhist + typea + obesity + \n",
      "    alcohol + age\n",
      "Model 2: chd ~ tobacco + ldl + famhist + typea + age\n",
      "  Resid. Df Resid. Dev Df Deviance Pr(>Chi)\n",
      "1       452     472.14                     \n",
      "2       456     475.69 -4  -3.5455    0.471\n",
      "\n"
     ]
    },
    {
     "data": {
      "text/plain": [
       "RObject{VecSxp}\n",
       "Analysis of Deviance Table\n",
       "\n",
       "Model 1: chd ~ ldl\n",
       "Model 2: chd ~ tobacco + ldl + famhist + typea + age\n",
       "  Resid. Df Resid. Dev Df Deviance  Pr(>Chi)    \n",
       "1       460     564.28                          \n",
       "2       456     475.69  4   88.593 < 2.2e-16 ***\n",
       "---\n",
       "Signif. codes:  0 '***' 0.001 '**' 0.01 '*' 0.05 '.' 0.1 ' ' 1\n"
      ]
     },
     "execution_count": 25,
     "metadata": {},
     "output_type": "execute_result"
    }
   ],
   "source": [
    "@show R\"\"\"anova(chd_mod_additive, chd_mod_selected, test = \"LRT\")\"\"\"\n",
    "R\"\"\"anova(chd_mod_ldl, chd_mod_selected, test = \"LRT\")\"\"\""
   ]
  },
  {
   "cell_type": "markdown",
   "metadata": {},
   "source": [
    "il modello selezionato sembrerebbe essere migliore"
   ]
  },
  {
   "cell_type": "code",
   "execution_count": null,
   "metadata": {},
   "outputs": [],
   "source": []
  }
 ],
 "metadata": {
  "kernelspec": {
   "display_name": "Julia 1.5.1",
   "language": "julia",
   "name": "julia-1.5"
  },
  "language_info": {
   "file_extension": ".jl",
   "mimetype": "application/julia",
   "name": "julia",
   "version": "1.5.1"
  }
 },
 "nbformat": 4,
 "nbformat_minor": 4
}
