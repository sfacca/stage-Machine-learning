{
 "cells": [
  {
   "cell_type": "code",
   "execution_count": 12,
   "metadata": {},
   "outputs": [
    {
     "name": "stdout",
     "output_type": "stream",
     "text": [
      "asdasd\n"
     ]
    }
   ],
   "source": [
    "println(\"asdasd\")"
   ]
  },
  {
   "cell_type": "code",
   "execution_count": 3,
   "metadata": {},
   "outputs": [
    {
     "data": {
      "text/plain": [
       "100"
      ]
     },
     "execution_count": 3,
     "metadata": {},
     "output_type": "execute_result"
    }
   ],
   "source": [
    "variab = 10^2"
   ]
  },
  {
   "cell_type": "code",
   "execution_count": 11,
   "metadata": {
    "scrolled": false
   },
   "outputs": [
    {
     "name": "stdout",
     "output_type": "stream",
     "text": [
      " abcasdgf \"asd\"  numero 100^2  abcasdgf \"asd\" \n",
      " abcasdgf \"asd\"  numero 10000  abcasdgf \"asd\" \n",
      " asd 2 \n"
     ]
    }
   ],
   "source": [
    "mystr = \"\"\" abcasdgf \"asd\" \"\"\"\n",
    "mynustr = mystr * \" numero $variab^2 \" * mystr\n",
    "println(mynustr)\n",
    "mynustr = mystr * \" numero $(variab^2) \" * mystr\n",
    "println(mynustr)\n",
    "mynustr = \" asd $(1+1) \"\n",
    "println(mynustr)"
   ]
  },
  {
   "cell_type": "markdown",
   "metadata": {},
   "source": [
    "nb differenza: $ risolve 1 parola:"
   ]
  },
  {
   "cell_type": "code",
   "execution_count": 39,
   "metadata": {},
   "outputs": [
    {
     "name": "stdout",
     "output_type": "stream",
     "text": [
      " asd 100+variab \n"
     ]
    }
   ],
   "source": [
    "mynustr = \" asd $variab+variab \"\n",
    "println(mynustr)"
   ]
  },
  {
   "cell_type": "markdown",
   "metadata": {},
   "source": []
  },
  {
   "cell_type": "code",
   "execution_count": null,
   "metadata": {},
   "outputs": [],
   "source": []
  },
  {
   "cell_type": "code",
   "execution_count": 25,
   "metadata": {},
   "outputs": [],
   "source": [
    "hi = repeat(\"hi\",1000 ) ;"
   ]
  },
  {
   "cell_type": "code",
   "execution_count": 34,
   "metadata": {},
   "outputs": [],
   "source": [
    "hi = \"hi\"^1000 ;"
   ]
  },
  {
   "cell_type": "code",
   "execution_count": 32,
   "metadata": {},
   "outputs": [],
   "source": [
    "@assert hi == \"hi\""
   ]
  },
  {
   "cell_type": "code",
   "execution_count": 35,
   "metadata": {},
   "outputs": [],
   "source": [
    "@assert hi == \"hihihihihihihihihihihihihihihihihihihihihihihihihihihihihihihihihihihihihihihihihihihihihihihihihihihihihihihihihihihihihihihihihihihihihihihihihihihihihihihihihihihihihihihihihihihihihihihihihihihihihihihihihihihihihihihihihihihihihihihihihihihihihihihihihihihihihihihihihihihihihihihihihihihihihihihihihihihihihihihihihihihihihihihihihihihihihihihihihihihihihihihihihihihihihihihihihihihihihihihihihihihihihihihihihihihihihihihihihihihihihihihihihihihihihihihihihihihihihihihihihihihihihihihihihihihihihihihihihihihihihihihihihihihihihihihihihihihihihihihihihihihihihihihihihihihihihihihihihihihihihihihihihihihihihihihihihihihihihihihihihihihihihihihihihihihihihihihihihihihihihihihihihihihihihihihihihihihihihihihihihihihihihihihihihihihihihihihihihihihihihihihihihihihihihihihihihihihihihihihihihihihihihihihihihihihihihihihihihihihihihihihihihihihihihihihihihihihihihihihihihihihihihihihihihihihihihihihihihihihihihihihihihihihihihihihihihihihihihihihihihihihihihihihihihihihihihihihihihihihihihihihihihihihihihihihihihihihihihihihihihihihihihihihihihihihihihihihihihihihihihihihihihihihihihihihihihihihihihihihihihihihihihihihihihihihihihihihihihihihihihihihihihihihihihihihihihihihihihihihihihihihihihihihihihihihihihihihihihihihihihihihihihihihihihihihihihihihihihihihihihihihihihihihihihihihihihihihihihihihihihihihihihihihihihihihihihihihihihihihihihihihihihihihihihihihihihihihihihihihihihihihihihihihihihihihihihihihihihihihihihihihihihihihihihihihihihihihihihihihihihihihihihihihihihihihihihihihihihihihihihihihihihihihihihihihihihihihihihihihihihihihihihihihihihihihihihihihihihihihihihihihihihihihihihihihihihihihihihihihihihihihihihihihihihihihihihihihihihihihihihihihihihihihihihihihihihihihihihihihihihihihihihihihihihihihihihihihihihihihihihihihihihihihihihihihihihihihihihihihihihihihihihihihihihihihihihihihihihihihihihihihihihihihihihihihihihihihihihihihihihihihihihihihihihihihihihihihihihihihihihihihihihihihihihihihihihihihihihihihihihihihihihihihihihihihihihihihihihihihihi\""
   ]
  },
  {
   "cell_type": "code",
   "execution_count": 38,
   "metadata": {},
   "outputs": [],
   "source": [
    "a = 3\n",
    "b = 4\n",
    "c = \"$a+$b\"\n",
    "d = \"$(a+b)\"\n",
    "@assert c == \"3+4\"\n",
    "@assert d == \"7\""
   ]
  },
  {
   "cell_type": "code",
   "execution_count": 40,
   "metadata": {},
   "outputs": [
    {
     "data": {
      "text/plain": [
       "Dict{String,String} with 3 entries:\n",
       "  \"mordenkeinen\" => \"fr\"\n",
       "  \"iggwilv\"      => \"gh\"\n",
       "  \"elminst\"      => \"gh\""
      ]
     },
     "execution_count": 40,
     "metadata": {},
     "output_type": "execute_result"
    }
   ],
   "source": [
    "mydic = Dict(\"mordenkeinen\" => \"fr\", \"elminst\" => \"gh\")\n",
    "mydic[\"iggwilv\"] = \"gh\"\n",
    "mydic"
   ]
  },
  {
   "cell_type": "code",
   "execution_count": 41,
   "metadata": {},
   "outputs": [
    {
     "data": {
      "text/plain": [
       "3-element Array{Int64,1}:\n",
       " 1\n",
       " 2\n",
       " 3"
      ]
     },
     "execution_count": 41,
     "metadata": {},
     "output_type": "execute_result"
    }
   ],
   "source": [
    "myarr = [1,2,3]\n",
    "myarr"
   ]
  },
  {
   "cell_type": "code",
   "execution_count": 42,
   "metadata": {},
   "outputs": [
    {
     "ename": "LoadError",
     "evalue": "MethodError: Cannot `convert` an object of type String to an object of type Int64\nClosest candidates are:\n  convert(::Type{T}, !Matched::T) where T<:Number at number.jl:6\n  convert(::Type{T}, !Matched::Number) where T<:Number at number.jl:7\n  convert(::Type{T}, !Matched::Ptr) where T<:Integer at pointer.jl:23\n  ...",
     "output_type": "error",
     "traceback": [
      "MethodError: Cannot `convert` an object of type String to an object of type Int64\nClosest candidates are:\n  convert(::Type{T}, !Matched::T) where T<:Number at number.jl:6\n  convert(::Type{T}, !Matched::Number) where T<:Number at number.jl:7\n  convert(::Type{T}, !Matched::Ptr) where T<:Integer at pointer.jl:23\n  ...",
      "",
      "Stacktrace:",
      " [1] setindex!(::Array{Int64,1}, ::String, ::Int64) at .\\array.jl:847",
      " [2] top-level scope at In[42]:1",
      " [3] include_string(::Function, ::Module, ::String, ::String) at .\\loading.jl:1091"
     ]
    }
   ],
   "source": [
    "myarr[1]=\"stringa!\""
   ]
  },
  {
   "cell_type": "code",
   "execution_count": 43,
   "metadata": {},
   "outputs": [
    {
     "data": {
      "text/plain": [
       "3-element Array{Any,1}:\n",
       "    \"str\"\n",
       "    'c': ASCII/Unicode U+0063 (category Ll: Letter, lowercase)\n",
       " 123"
      ]
     },
     "execution_count": 43,
     "metadata": {},
     "output_type": "execute_result"
    }
   ],
   "source": [
    "mixarr = [\"str\",'c',123]\n",
    "mixarr"
   ]
  },
  {
   "cell_type": "code",
   "execution_count": 46,
   "metadata": {},
   "outputs": [
    {
     "data": {
      "text/plain": [
       "3-element Array{Int64,1}:\n",
       " 2\n",
       " 4\n",
       " 6"
      ]
     },
     "execution_count": 46,
     "metadata": {},
     "output_type": "execute_result"
    }
   ],
   "source": [
    "arri = [1,2,3]\n",
    "for i in 1:length(arri)\n",
    "    arri[i]=arri[i]+arri[i]\n",
    "end\n",
    "arri"
   ]
  },
  {
   "cell_type": "code",
   "execution_count": 47,
   "metadata": {},
   "outputs": [
    {
     "ename": "LoadError",
     "evalue": "BoundsError: attempt to access 3-element Array{Int64,1} at index [0]",
     "output_type": "error",
     "traceback": [
      "BoundsError: attempt to access 3-element Array{Int64,1} at index [0]",
      "",
      "Stacktrace:",
      " [1] getindex(::Array{Int64,1}, ::Int64) at .\\array.jl:809",
      " [2] top-level scope at In[47]:1",
      " [3] include_string(::Function, ::Module, ::String, ::String) at .\\loading.jl:1091"
     ]
    }
   ],
   "source": [
    "arri[0]"
   ]
  },
  {
   "cell_type": "code",
   "execution_count": 48,
   "metadata": {},
   "outputs": [
    {
     "name": "stdout",
     "output_type": "stream",
     "text": [
      "2\n",
      "4\n",
      "6\n"
     ]
    }
   ],
   "source": [
    "for i in arri\n",
    "    println(i)\n",
    "end"
   ]
  },
  {
   "cell_type": "code",
   "execution_count": 78,
   "metadata": {},
   "outputs": [
    {
     "data": {
      "text/plain": [
       "3×3 Array{Float64,2}:\n",
       " 0.0  0.0  0.0\n",
       " 0.0  0.0  0.0\n",
       " 0.0  0.0  0.0"
      ]
     },
     "execution_count": 78,
     "metadata": {},
     "output_type": "execute_result"
    }
   ],
   "source": [
    "h = 3\n",
    "l = 3\n",
    "A = zeros(h , l)"
   ]
  },
  {
   "cell_type": "code",
   "execution_count": 79,
   "metadata": {},
   "outputs": [
    {
     "data": {
      "text/plain": [
       "3×3 Array{Float64,2}:\n",
       " 2.0  3.0  4.0\n",
       " 3.0  4.0  5.0\n",
       " 4.0  5.0  6.0"
      ]
     },
     "execution_count": 79,
     "metadata": {},
     "output_type": "execute_result"
    }
   ],
   "source": [
    "for i in 1:h, j in 1:l\n",
    "    A[i,j]=i+j\n",
    "end\n",
    "A"
   ]
  },
  {
   "cell_type": "code",
   "execution_count": 63,
   "metadata": {},
   "outputs": [
    {
     "data": {
      "text/plain": [
       "3×12 Array{Int64,2}:\n",
       " 2  3  4  5  6  7   8   9  10  11  12  13\n",
       " 3  4  5  6  7  8   9  10  11  12  13  14\n",
       " 4  5  6  7  8  9  10  11  12  13  14  15"
      ]
     },
     "execution_count": 63,
     "metadata": {},
     "output_type": "execute_result"
    }
   ],
   "source": [
    "C = [i + j for i in 1:h, j in 1:l]"
   ]
  },
  {
   "cell_type": "code",
   "execution_count": 64,
   "metadata": {},
   "outputs": [
    {
     "data": {
      "text/plain": [
       "1×1 Array{Int64,2}:\n",
       " 2"
      ]
     },
     "metadata": {},
     "output_type": "display_data"
    },
    {
     "data": {
      "text/plain": [
       "2×2 Array{Int64,2}:\n",
       " 2  3\n",
       " 3  4"
      ]
     },
     "metadata": {},
     "output_type": "display_data"
    },
    {
     "data": {
      "text/plain": [
       "3×3 Array{Int64,2}:\n",
       " 2  3  4\n",
       " 3  4  5\n",
       " 4  5  6"
      ]
     },
     "metadata": {},
     "output_type": "display_data"
    },
    {
     "data": {
      "text/plain": [
       "4×4 Array{Int64,2}:\n",
       " 2  3  4  5\n",
       " 3  4  5  6\n",
       " 4  5  6  7\n",
       " 5  6  7  8"
      ]
     },
     "metadata": {},
     "output_type": "display_data"
    },
    {
     "data": {
      "text/plain": [
       "5×5 Array{Int64,2}:\n",
       " 2  3  4  5   6\n",
       " 3  4  5  6   7\n",
       " 4  5  6  7   8\n",
       " 5  6  7  8   9\n",
       " 6  7  8  9  10"
      ]
     },
     "metadata": {},
     "output_type": "display_data"
    },
    {
     "data": {
      "text/plain": [
       "6×6 Array{Int64,2}:\n",
       " 2  3  4   5   6   7\n",
       " 3  4  5   6   7   8\n",
       " 4  5  6   7   8   9\n",
       " 5  6  7   8   9  10\n",
       " 6  7  8   9  10  11\n",
       " 7  8  9  10  11  12"
      ]
     },
     "metadata": {},
     "output_type": "display_data"
    },
    {
     "data": {
      "text/plain": [
       "7×7 Array{Int64,2}:\n",
       " 2  3   4   5   6   7   8\n",
       " 3  4   5   6   7   8   9\n",
       " 4  5   6   7   8   9  10\n",
       " 5  6   7   8   9  10  11\n",
       " 6  7   8   9  10  11  12\n",
       " 7  8   9  10  11  12  13\n",
       " 8  9  10  11  12  13  14"
      ]
     },
     "metadata": {},
     "output_type": "display_data"
    },
    {
     "data": {
      "text/plain": [
       "8×8 Array{Int64,2}:\n",
       " 2   3   4   5   6   7   8   9\n",
       " 3   4   5   6   7   8   9  10\n",
       " 4   5   6   7   8   9  10  11\n",
       " 5   6   7   8   9  10  11  12\n",
       " 6   7   8   9  10  11  12  13\n",
       " 7   8   9  10  11  12  13  14\n",
       " 8   9  10  11  12  13  14  15\n",
       " 9  10  11  12  13  14  15  16"
      ]
     },
     "metadata": {},
     "output_type": "display_data"
    },
    {
     "data": {
      "text/plain": [
       "9×9 Array{Int64,2}:\n",
       "  2   3   4   5   6   7   8   9  10\n",
       "  3   4   5   6   7   8   9  10  11\n",
       "  4   5   6   7   8   9  10  11  12\n",
       "  5   6   7   8   9  10  11  12  13\n",
       "  6   7   8   9  10  11  12  13  14\n",
       "  7   8   9  10  11  12  13  14  15\n",
       "  8   9  10  11  12  13  14  15  16\n",
       "  9  10  11  12  13  14  15  16  17\n",
       " 10  11  12  13  14  15  16  17  18"
      ]
     },
     "metadata": {},
     "output_type": "display_data"
    },
    {
     "data": {
      "text/plain": [
       "10×10 Array{Int64,2}:\n",
       "  2   3   4   5   6   7   8   9  10  11\n",
       "  3   4   5   6   7   8   9  10  11  12\n",
       "  4   5   6   7   8   9  10  11  12  13\n",
       "  5   6   7   8   9  10  11  12  13  14\n",
       "  6   7   8   9  10  11  12  13  14  15\n",
       "  7   8   9  10  11  12  13  14  15  16\n",
       "  8   9  10  11  12  13  14  15  16  17\n",
       "  9  10  11  12  13  14  15  16  17  18\n",
       " 10  11  12  13  14  15  16  17  18  19\n",
       " 11  12  13  14  15  16  17  18  19  20"
      ]
     },
     "metadata": {},
     "output_type": "display_data"
    }
   ],
   "source": [
    "for n in 1:10\n",
    "    D = [i + j for i in 1:n, j in 1:n]\n",
    "    display(D)\n",
    "end"
   ]
  },
  {
   "cell_type": "code",
   "execution_count": 68,
   "metadata": {},
   "outputs": [
    {
     "data": {
      "text/plain": [
       "0.5"
      ]
     },
     "execution_count": 68,
     "metadata": {},
     "output_type": "execute_result"
    }
   ],
   "source": [
    "fun(x) = x/(x+x)\n",
    "fun(3)"
   ]
  },
  {
   "cell_type": "code",
   "execution_count": 80,
   "metadata": {},
   "outputs": [
    {
     "name": "stdout",
     "output_type": "stream",
     "text": [
      "[29.0 38.0 47.0; 38.0 50.0 62.0; 47.0 62.0 77.0]\n",
      "[4.0 9.0 16.0; 9.0 16.0 25.0; 16.0 25.0 36.0]\n"
     ]
    }
   ],
   "source": [
    "fun(x) = x^2\n",
    "\n",
    "\n",
    "println(fun(A))\n",
    "println(fun.(A))"
   ]
  },
  {
   "cell_type": "markdown",
   "metadata": {},
   "source": [
    "## USO PLOT.JL"
   ]
  },
  {
   "cell_type": "code",
   "execution_count": 19,
   "metadata": {},
   "outputs": [
    {
     "name": "stderr",
     "output_type": "stream",
     "text": [
      "\u001b[32m\u001b[1m  Resolving\u001b[22m\u001b[39m package versions...\n",
      "\u001b[32m\u001b[1mNo Changes\u001b[22m\u001b[39m to `C:\\Users\\i am\\.julia\\environments\\v1.5\\Project.toml`\n",
      "\u001b[32m\u001b[1mNo Changes\u001b[22m\u001b[39m to `C:\\Users\\i am\\.julia\\environments\\v1.5\\Manifest.toml`\n",
      "\u001b[32m\u001b[1m  Resolving\u001b[22m\u001b[39m package versions...\n",
      "\u001b[32m\u001b[1mNo Changes\u001b[22m\u001b[39m to `C:\\Users\\i am\\.julia\\environments\\v1.5\\Project.toml`\n",
      "\u001b[32m\u001b[1mNo Changes\u001b[22m\u001b[39m to `C:\\Users\\i am\\.julia\\environments\\v1.5\\Manifest.toml`\n",
      "\u001b[32m\u001b[1m  Resolving\u001b[22m\u001b[39m package versions...\n",
      "\u001b[32m\u001b[1m  Installed\u001b[22m\u001b[39m ORCA ─ v0.5.0\n",
      "\u001b[32m\u001b[1mUpdating\u001b[22m\u001b[39m `C:\\Users\\i am\\.julia\\environments\\v1.5\\Project.toml`\n",
      " \u001b[90m [47be7bcc] \u001b[39m\u001b[92m+ ORCA v0.5.0\u001b[39m\n",
      "\u001b[32m\u001b[1mUpdating\u001b[22m\u001b[39m `C:\\Users\\i am\\.julia\\environments\\v1.5\\Manifest.toml`\n",
      " \u001b[90m [47be7bcc] \u001b[39m\u001b[92m+ ORCA v0.5.0\u001b[39m\n"
     ]
    }
   ],
   "source": [
    "using Pkg\n",
    "Pkg.add(\"Plots\")\n",
    "Pkg.add(\"PlotlyJS\")\n",
    "Pkg.add(\"ORCA\")\n",
    "using Plots"
   ]
  },
  {
   "cell_type": "code",
   "execution_count": 12,
   "metadata": {},
   "outputs": [
    {
     "data": {
      "text/plain": [
       "61-element Array{Float64,1}:\n",
       " 9.0\n",
       " 8.41\n",
       " 7.839999999999999\n",
       " 7.290000000000001\n",
       " 6.760000000000001\n",
       " 6.25\n",
       " 5.76\n",
       " 5.289999999999999\n",
       " 4.840000000000001\n",
       " 4.41\n",
       " 4.0\n",
       " 3.61\n",
       " 3.24\n",
       " ⋮\n",
       " 3.61\n",
       " 4.0\n",
       " 4.41\n",
       " 4.840000000000001\n",
       " 5.289999999999999\n",
       " 5.76\n",
       " 6.25\n",
       " 6.760000000000001\n",
       " 7.290000000000001\n",
       " 7.839999999999999\n",
       " 8.41\n",
       " 9.0"
      ]
     },
     "execution_count": 12,
     "metadata": {},
     "output_type": "execute_result"
    }
   ],
   "source": [
    "x = -3:0.1:3\n",
    "f(x) = x^2\n",
    "y = f.(x)"
   ]
  },
  {
   "cell_type": "markdown",
   "metadata": {},
   "source": [
    "carichiamo backend  gr"
   ]
  },
  {
   "cell_type": "code",
   "execution_count": 11,
   "metadata": {},
   "outputs": [
    {
     "data": {
      "text/plain": [
       "Plots.GRBackend()"
      ]
     },
     "execution_count": 11,
     "metadata": {},
     "output_type": "execute_result"
    }
   ],
   "source": [
    "gr()"
   ]
  },
  {
   "cell_type": "code",
   "execution_count": 14,
   "metadata": {},
   "outputs": [
    {
     "data": {
      "image/svg+xml": [
       "<?xml version=\"1.0\" encoding=\"utf-8\"?>\n",
       "<svg xmlns=\"http://www.w3.org/2000/svg\" xmlns:xlink=\"http://www.w3.org/1999/xlink\" width=\"600\" height=\"400\" viewBox=\"0 0 2400 1600\">\n",
       "<defs>\n",
       "  <clipPath id=\"clip000\">\n",
       "    <rect x=\"0\" y=\"0\" width=\"2400\" height=\"1600\"/>\n",
       "  </clipPath>\n",
       "</defs>\n",
       "<path clip-path=\"url(#clip000)\" d=\"\n",
       "M0 1600 L2400 1600 L2400 0 L0 0  Z\n",
       "  \" fill=\"#ffffff\" fill-rule=\"evenodd\" fill-opacity=\"1\"/>\n",
       "<defs>\n",
       "  <clipPath id=\"clip001\">\n",
       "    <rect x=\"480\" y=\"0\" width=\"1681\" height=\"1600\"/>\n",
       "  </clipPath>\n",
       "</defs>\n",
       "<path clip-path=\"url(#clip000)\" d=\"\n",
       "M112.177 1486.45 L2352.76 1486.45 L2352.76 47.2441 L112.177 47.2441  Z\n",
       "  \" fill=\"#ffffff\" fill-rule=\"evenodd\" fill-opacity=\"1\"/>\n",
       "<defs>\n",
       "  <clipPath id=\"clip002\">\n",
       "    <rect x=\"112\" y=\"47\" width=\"2242\" height=\"1440\"/>\n",
       "  </clipPath>\n",
       "</defs>\n",
       "<polyline clip-path=\"url(#clip002)\" style=\"stroke:#000000; stroke-width:2; stroke-opacity:0.1; fill:none\" points=\"\n",
       "  175.59,1486.45 175.59,47.2441 \n",
       "  \"/>\n",
       "<polyline clip-path=\"url(#clip002)\" style=\"stroke:#000000; stroke-width:2; stroke-opacity:0.1; fill:none\" points=\"\n",
       "  527.882,1486.45 527.882,47.2441 \n",
       "  \"/>\n",
       "<polyline clip-path=\"url(#clip002)\" style=\"stroke:#000000; stroke-width:2; stroke-opacity:0.1; fill:none\" points=\"\n",
       "  880.174,1486.45 880.174,47.2441 \n",
       "  \"/>\n",
       "<polyline clip-path=\"url(#clip002)\" style=\"stroke:#000000; stroke-width:2; stroke-opacity:0.1; fill:none\" points=\"\n",
       "  1232.47,1486.45 1232.47,47.2441 \n",
       "  \"/>\n",
       "<polyline clip-path=\"url(#clip002)\" style=\"stroke:#000000; stroke-width:2; stroke-opacity:0.1; fill:none\" points=\"\n",
       "  1584.76,1486.45 1584.76,47.2441 \n",
       "  \"/>\n",
       "<polyline clip-path=\"url(#clip002)\" style=\"stroke:#000000; stroke-width:2; stroke-opacity:0.1; fill:none\" points=\"\n",
       "  1937.05,1486.45 1937.05,47.2441 \n",
       "  \"/>\n",
       "<polyline clip-path=\"url(#clip002)\" style=\"stroke:#000000; stroke-width:2; stroke-opacity:0.1; fill:none\" points=\"\n",
       "  2289.34,1486.45 2289.34,47.2441 \n",
       "  \"/>\n",
       "<polyline clip-path=\"url(#clip002)\" style=\"stroke:#000000; stroke-width:2; stroke-opacity:0.1; fill:none\" points=\"\n",
       "  112.177,1445.72 2352.76,1445.72 \n",
       "  \"/>\n",
       "<polyline clip-path=\"url(#clip002)\" style=\"stroke:#000000; stroke-width:2; stroke-opacity:0.1; fill:none\" points=\"\n",
       "  112.177,1144 2352.76,1144 \n",
       "  \"/>\n",
       "<polyline clip-path=\"url(#clip002)\" style=\"stroke:#000000; stroke-width:2; stroke-opacity:0.1; fill:none\" points=\"\n",
       "  112.177,842.276 2352.76,842.276 \n",
       "  \"/>\n",
       "<polyline clip-path=\"url(#clip002)\" style=\"stroke:#000000; stroke-width:2; stroke-opacity:0.1; fill:none\" points=\"\n",
       "  112.177,540.556 2352.76,540.556 \n",
       "  \"/>\n",
       "<polyline clip-path=\"url(#clip002)\" style=\"stroke:#000000; stroke-width:2; stroke-opacity:0.1; fill:none\" points=\"\n",
       "  112.177,238.836 2352.76,238.836 \n",
       "  \"/>\n",
       "<polyline clip-path=\"url(#clip000)\" style=\"stroke:#000000; stroke-width:4; stroke-opacity:1; fill:none\" points=\"\n",
       "  112.177,1486.45 2352.76,1486.45 \n",
       "  \"/>\n",
       "<polyline clip-path=\"url(#clip000)\" style=\"stroke:#000000; stroke-width:4; stroke-opacity:1; fill:none\" points=\"\n",
       "  112.177,1486.45 112.177,47.2441 \n",
       "  \"/>\n",
       "<polyline clip-path=\"url(#clip000)\" style=\"stroke:#000000; stroke-width:4; stroke-opacity:1; fill:none\" points=\"\n",
       "  175.59,1486.45 175.59,1469.18 \n",
       "  \"/>\n",
       "<polyline clip-path=\"url(#clip000)\" style=\"stroke:#000000; stroke-width:4; stroke-opacity:1; fill:none\" points=\"\n",
       "  527.882,1486.45 527.882,1469.18 \n",
       "  \"/>\n",
       "<polyline clip-path=\"url(#clip000)\" style=\"stroke:#000000; stroke-width:4; stroke-opacity:1; fill:none\" points=\"\n",
       "  880.174,1486.45 880.174,1469.18 \n",
       "  \"/>\n",
       "<polyline clip-path=\"url(#clip000)\" style=\"stroke:#000000; stroke-width:4; stroke-opacity:1; fill:none\" points=\"\n",
       "  1232.47,1486.45 1232.47,1469.18 \n",
       "  \"/>\n",
       "<polyline clip-path=\"url(#clip000)\" style=\"stroke:#000000; stroke-width:4; stroke-opacity:1; fill:none\" points=\"\n",
       "  1584.76,1486.45 1584.76,1469.18 \n",
       "  \"/>\n",
       "<polyline clip-path=\"url(#clip000)\" style=\"stroke:#000000; stroke-width:4; stroke-opacity:1; fill:none\" points=\"\n",
       "  1937.05,1486.45 1937.05,1469.18 \n",
       "  \"/>\n",
       "<polyline clip-path=\"url(#clip000)\" style=\"stroke:#000000; stroke-width:4; stroke-opacity:1; fill:none\" points=\"\n",
       "  2289.34,1486.45 2289.34,1469.18 \n",
       "  \"/>\n",
       "<polyline clip-path=\"url(#clip000)\" style=\"stroke:#000000; stroke-width:4; stroke-opacity:1; fill:none\" points=\"\n",
       "  112.177,1445.72 139.064,1445.72 \n",
       "  \"/>\n",
       "<polyline clip-path=\"url(#clip000)\" style=\"stroke:#000000; stroke-width:4; stroke-opacity:1; fill:none\" points=\"\n",
       "  112.177,1144 139.064,1144 \n",
       "  \"/>\n",
       "<polyline clip-path=\"url(#clip000)\" style=\"stroke:#000000; stroke-width:4; stroke-opacity:1; fill:none\" points=\"\n",
       "  112.177,842.276 139.064,842.276 \n",
       "  \"/>\n",
       "<polyline clip-path=\"url(#clip000)\" style=\"stroke:#000000; stroke-width:4; stroke-opacity:1; fill:none\" points=\"\n",
       "  112.177,540.556 139.064,540.556 \n",
       "  \"/>\n",
       "<polyline clip-path=\"url(#clip000)\" style=\"stroke:#000000; stroke-width:4; stroke-opacity:1; fill:none\" points=\"\n",
       "  112.177,238.836 139.064,238.836 \n",
       "  \"/>\n",
       "<path clip-path=\"url(#clip000)\" d=\"M 0 0 M147.569 1523.09 L177.245 1523.09 L177.245 1527.03 L147.569 1527.03 L147.569 1523.09 Z\" fill=\"#000000\" fill-rule=\"evenodd\" fill-opacity=\"1\" /><path clip-path=\"url(#clip000)\" d=\"M 0 0 M196.481 1521.29 Q199.837 1522 201.712 1524.27 Q203.61 1526.54 203.61 1529.87 Q203.61 1534.99 200.092 1537.79 Q196.573 1540.59 190.092 1540.59 Q187.916 1540.59 185.601 1540.15 Q183.31 1539.73 180.856 1538.88 L180.856 1534.36 Q182.8 1535.5 185.115 1536.08 Q187.43 1536.66 189.953 1536.66 Q194.351 1536.66 196.643 1534.92 Q198.958 1533.18 198.958 1529.87 Q198.958 1526.82 196.805 1525.11 Q194.675 1523.37 190.856 1523.37 L186.828 1523.37 L186.828 1519.53 L191.041 1519.53 Q194.49 1519.53 196.319 1518.16 Q198.148 1516.77 198.148 1514.18 Q198.148 1511.52 196.249 1510.11 Q194.374 1508.67 190.856 1508.67 Q188.935 1508.67 186.736 1509.09 Q184.536 1509.5 181.898 1510.38 L181.898 1506.22 Q184.56 1505.48 186.874 1505.11 Q189.212 1504.73 191.273 1504.73 Q196.597 1504.73 199.698 1507.17 Q202.8 1509.57 202.8 1513.69 Q202.8 1516.56 201.157 1518.55 Q199.513 1520.52 196.481 1521.29 Z\" fill=\"#000000\" fill-rule=\"evenodd\" fill-opacity=\"1\" /><path clip-path=\"url(#clip000)\" d=\"M 0 0 M500.336 1523.09 L530.012 1523.09 L530.012 1527.03 L500.336 1527.03 L500.336 1523.09 Z\" fill=\"#000000\" fill-rule=\"evenodd\" fill-opacity=\"1\" /><path clip-path=\"url(#clip000)\" d=\"M 0 0 M539.109 1535.98 L555.428 1535.98 L555.428 1539.92 L533.484 1539.92 L533.484 1535.98 Q536.146 1533.23 540.729 1528.6 Q545.336 1523.95 546.516 1522.61 Q548.762 1520.08 549.641 1518.35 Q550.544 1516.59 550.544 1514.9 Q550.544 1512.14 548.6 1510.41 Q546.678 1508.67 543.576 1508.67 Q541.377 1508.67 538.924 1509.43 Q536.493 1510.2 533.715 1511.75 L533.715 1507.03 Q536.539 1505.89 538.993 1505.31 Q541.447 1504.73 543.484 1504.73 Q548.854 1504.73 552.049 1507.42 Q555.243 1510.11 555.243 1514.6 Q555.243 1516.73 554.433 1518.65 Q553.646 1520.54 551.539 1523.14 Q550.961 1523.81 547.859 1527.03 Q544.757 1530.22 539.109 1535.98 Z\" fill=\"#000000\" fill-rule=\"evenodd\" fill-opacity=\"1\" /><path clip-path=\"url(#clip000)\" d=\"M 0 0 M852.443 1523.09 L882.119 1523.09 L882.119 1527.03 L852.443 1527.03 L852.443 1523.09 Z\" fill=\"#000000\" fill-rule=\"evenodd\" fill-opacity=\"1\" /><path clip-path=\"url(#clip000)\" d=\"M 0 0 M887.998 1535.98 L895.637 1535.98 L895.637 1509.62 L887.327 1511.29 L887.327 1507.03 L895.591 1505.36 L900.267 1505.36 L900.267 1535.98 L907.906 1535.98 L907.906 1539.92 L887.998 1539.92 L887.998 1535.98 Z\" fill=\"#000000\" fill-rule=\"evenodd\" fill-opacity=\"1\" /><path clip-path=\"url(#clip000)\" d=\"M 0 0 M1232.47 1508.44 Q1228.86 1508.44 1227.03 1512 Q1225.22 1515.55 1225.22 1522.67 Q1225.22 1529.78 1227.03 1533.35 Q1228.86 1536.89 1232.47 1536.89 Q1236.1 1536.89 1237.91 1533.35 Q1239.74 1529.78 1239.74 1522.67 Q1239.74 1515.55 1237.91 1512 Q1236.1 1508.44 1232.47 1508.44 M1232.47 1504.73 Q1238.28 1504.73 1241.33 1509.34 Q1244.41 1513.92 1244.41 1522.67 Q1244.41 1531.4 1241.33 1536.01 Q1238.28 1540.59 1232.47 1540.59 Q1226.66 1540.59 1223.58 1536.01 Q1220.52 1531.4 1220.52 1522.67 Q1220.52 1513.92 1223.58 1509.34 Q1226.66 1504.73 1232.47 1504.73 Z\" fill=\"#000000\" fill-rule=\"evenodd\" fill-opacity=\"1\" /><path clip-path=\"url(#clip000)\" d=\"M 0 0 M1575.14 1535.98 L1582.78 1535.98 L1582.78 1509.62 L1574.47 1511.29 L1574.47 1507.03 L1582.73 1505.36 L1587.41 1505.36 L1587.41 1535.98 L1595.05 1535.98 L1595.05 1539.92 L1575.14 1539.92 L1575.14 1535.98 Z\" fill=\"#000000\" fill-rule=\"evenodd\" fill-opacity=\"1\" /><path clip-path=\"url(#clip000)\" d=\"M 0 0 M1931.7 1535.98 L1948.02 1535.98 L1948.02 1539.92 L1926.08 1539.92 L1926.08 1535.98 Q1928.74 1533.23 1933.32 1528.6 Q1937.93 1523.95 1939.11 1522.61 Q1941.36 1520.08 1942.24 1518.35 Q1943.14 1516.59 1943.14 1514.9 Q1943.14 1512.14 1941.19 1510.41 Q1939.27 1508.67 1936.17 1508.67 Q1933.97 1508.67 1931.52 1509.43 Q1929.09 1510.2 1926.31 1511.75 L1926.31 1507.03 Q1929.13 1505.89 1931.59 1505.31 Q1934.04 1504.73 1936.08 1504.73 Q1941.45 1504.73 1944.64 1507.42 Q1947.84 1510.11 1947.84 1514.6 Q1947.84 1516.73 1947.03 1518.65 Q1946.24 1520.54 1944.13 1523.14 Q1943.56 1523.81 1940.45 1527.03 Q1937.35 1530.22 1931.7 1535.98 Z\" fill=\"#000000\" fill-rule=\"evenodd\" fill-opacity=\"1\" /><path clip-path=\"url(#clip000)\" d=\"M 0 0 M2293.59 1521.29 Q2296.95 1522 2298.82 1524.27 Q2300.72 1526.54 2300.72 1529.87 Q2300.72 1534.99 2297.2 1537.79 Q2293.68 1540.59 2287.2 1540.59 Q2285.03 1540.59 2282.71 1540.15 Q2280.42 1539.73 2277.97 1538.88 L2277.97 1534.36 Q2279.91 1535.5 2282.23 1536.08 Q2284.54 1536.66 2287.06 1536.66 Q2291.46 1536.66 2293.75 1534.92 Q2296.07 1533.18 2296.07 1529.87 Q2296.07 1526.82 2293.92 1525.11 Q2291.79 1523.37 2287.97 1523.37 L2283.94 1523.37 L2283.94 1519.53 L2288.15 1519.53 Q2291.6 1519.53 2293.43 1518.16 Q2295.26 1516.77 2295.26 1514.18 Q2295.26 1511.52 2293.36 1510.11 Q2291.48 1508.67 2287.97 1508.67 Q2286.04 1508.67 2283.85 1509.09 Q2281.65 1509.5 2279.01 1510.38 L2279.01 1506.22 Q2281.67 1505.48 2283.98 1505.11 Q2286.32 1504.73 2288.38 1504.73 Q2293.71 1504.73 2296.81 1507.17 Q2299.91 1509.57 2299.91 1513.69 Q2299.91 1516.56 2298.27 1518.55 Q2296.62 1520.52 2293.59 1521.29 Z\" fill=\"#000000\" fill-rule=\"evenodd\" fill-opacity=\"1\" /><path clip-path=\"url(#clip000)\" d=\"M 0 0 M76.2328 1431.51 Q72.6217 1431.51 70.793 1435.08 Q68.9875 1438.62 68.9875 1445.75 Q68.9875 1452.86 70.793 1456.42 Q72.6217 1459.96 76.2328 1459.96 Q79.867 1459.96 81.6726 1456.42 Q83.5013 1452.86 83.5013 1445.75 Q83.5013 1438.62 81.6726 1435.08 Q79.867 1431.51 76.2328 1431.51 M76.2328 1427.81 Q82.0429 1427.81 85.0985 1432.42 Q88.1772 1437 88.1772 1445.75 Q88.1772 1454.48 85.0985 1459.08 Q82.0429 1463.67 76.2328 1463.67 Q70.4226 1463.67 67.344 1459.08 Q64.2884 1454.48 64.2884 1445.75 Q64.2884 1437 67.344 1432.42 Q70.4226 1427.81 76.2328 1427.81 Z\" fill=\"#000000\" fill-rule=\"evenodd\" fill-opacity=\"1\" /><path clip-path=\"url(#clip000)\" d=\"M 0 0 M71.8578 1157.34 L88.1772 1157.34 L88.1772 1161.28 L66.2328 1161.28 L66.2328 1157.34 Q68.8949 1154.59 73.4782 1149.96 Q78.0846 1145.3 79.2652 1143.96 Q81.5105 1141.44 82.3902 1139.7 Q83.2929 1137.94 83.2929 1136.25 Q83.2929 1133.5 81.3485 1131.76 Q79.4272 1130.03 76.3254 1130.03 Q74.1263 1130.03 71.6726 1130.79 Q69.2421 1131.55 66.4643 1133.1 L66.4643 1128.38 Q69.2884 1127.25 71.7421 1126.67 Q74.1958 1126.09 76.2328 1126.09 Q81.6031 1126.09 84.7976 1128.78 Q87.992 1131.46 87.992 1135.95 Q87.992 1138.08 87.1818 1140 Q86.3948 1141.9 84.2883 1144.49 Q83.7096 1145.16 80.6078 1148.38 Q77.5059 1151.58 71.8578 1157.34 Z\" fill=\"#000000\" fill-rule=\"evenodd\" fill-opacity=\"1\" /><path clip-path=\"url(#clip000)\" d=\"M 0 0 M78.5939 829.07 L66.7884 847.519 L78.5939 847.519 L78.5939 829.07 M77.367 824.996 L83.2466 824.996 L83.2466 847.519 L88.1772 847.519 L88.1772 851.408 L83.2466 851.408 L83.2466 859.556 L78.5939 859.556 L78.5939 851.408 L62.9921 851.408 L62.9921 846.894 L77.367 824.996 Z\" fill=\"#000000\" fill-rule=\"evenodd\" fill-opacity=\"1\" /><path clip-path=\"url(#clip000)\" d=\"M 0 0 M76.6495 538.693 Q73.5013 538.693 71.6495 540.845 Q69.8208 542.998 69.8208 546.748 Q69.8208 550.475 71.6495 552.651 Q73.5013 554.804 76.6495 554.804 Q79.7976 554.804 81.6263 552.651 Q83.4781 550.475 83.4781 546.748 Q83.4781 542.998 81.6263 540.845 Q79.7976 538.693 76.6495 538.693 M85.9318 524.04 L85.9318 528.299 Q84.1726 527.466 82.367 527.026 Q80.5846 526.586 78.8254 526.586 Q74.1958 526.586 71.7421 529.711 Q69.3115 532.836 68.9643 539.156 Q70.33 537.142 72.3902 536.077 Q74.4504 534.989 76.9272 534.989 Q82.1355 534.989 85.1448 538.16 Q88.1772 541.308 88.1772 546.748 Q88.1772 552.072 85.029 555.29 Q81.8809 558.507 76.6495 558.507 Q70.6541 558.507 67.4828 553.924 Q64.3116 549.318 64.3116 540.591 Q64.3116 532.396 68.2004 527.535 Q72.0893 522.651 78.6402 522.651 Q80.3994 522.651 82.1818 522.998 Q83.9874 523.346 85.9318 524.04 Z\" fill=\"#000000\" fill-rule=\"evenodd\" fill-opacity=\"1\" /><path clip-path=\"url(#clip000)\" d=\"M 0 0 M76.3254 239.704 Q72.9921 239.704 71.0708 241.487 Q69.1726 243.269 69.1726 246.394 Q69.1726 249.519 71.0708 251.301 Q72.9921 253.084 76.3254 253.084 Q79.6587 253.084 81.58 251.301 Q83.5013 249.496 83.5013 246.394 Q83.5013 243.269 81.58 241.487 Q79.6819 239.704 76.3254 239.704 M71.6495 237.714 Q68.6402 236.973 66.9504 234.913 Q65.2838 232.852 65.2838 229.89 Q65.2838 225.746 68.2236 223.339 Q71.1865 220.931 76.3254 220.931 Q81.4874 220.931 84.4272 223.339 Q87.367 225.746 87.367 229.89 Q87.367 232.852 85.6772 234.913 Q84.0105 236.973 81.0244 237.714 Q84.404 238.501 86.279 240.792 Q88.1772 243.084 88.1772 246.394 Q88.1772 251.417 85.0985 254.102 Q82.0429 256.788 76.3254 256.788 Q70.6078 256.788 67.5291 254.102 Q64.4736 251.417 64.4736 246.394 Q64.4736 243.084 66.3717 240.792 Q68.2699 238.501 71.6495 237.714 M69.9365 230.329 Q69.9365 233.014 71.6032 234.519 Q73.293 236.024 76.3254 236.024 Q79.3346 236.024 81.0244 234.519 Q82.7374 233.014 82.7374 230.329 Q82.7374 227.644 81.0244 226.14 Q79.3346 224.635 76.3254 224.635 Q73.293 224.635 71.6032 226.14 Q69.9365 227.644 69.9365 230.329 Z\" fill=\"#000000\" fill-rule=\"evenodd\" fill-opacity=\"1\" /><polyline clip-path=\"url(#clip002)\" style=\"stroke:#009af9; stroke-width:4; stroke-opacity:1; fill:none\" points=\"\n",
       "  175.59,87.9763 210.819,176.984 246.048,262.974 281.277,345.947 316.507,425.903 351.736,502.841 386.965,576.762 422.194,647.667 457.424,715.554 492.653,780.423 \n",
       "  527.882,842.276 563.111,901.111 598.34,956.93 633.57,1009.73 668.799,1059.51 704.028,1106.28 739.257,1150.03 774.487,1190.76 809.716,1228.48 844.945,1263.18 \n",
       "  880.174,1294.86 915.404,1323.52 950.633,1349.17 985.862,1371.79 1021.09,1391.41 1056.32,1408 1091.55,1421.58 1126.78,1432.14 1162.01,1439.68 1197.24,1444.21 \n",
       "  1232.47,1445.72 1267.7,1444.21 1302.92,1439.68 1338.15,1432.14 1373.38,1421.58 1408.61,1408 1443.84,1391.41 1479.07,1371.79 1514.3,1349.17 1549.53,1323.52 \n",
       "  1584.76,1294.86 1619.99,1263.18 1655.22,1228.48 1690.45,1190.76 1725.68,1150.03 1760.9,1106.28 1796.13,1059.51 1831.36,1009.73 1866.59,956.93 1901.82,901.111 \n",
       "  1937.05,842.276 1972.28,780.423 2007.51,715.554 2042.74,647.667 2077.97,576.762 2113.2,502.841 2148.43,425.903 2183.66,345.947 2218.88,262.974 2254.11,176.984 \n",
       "  2289.34,87.9763 \n",
       "  \"/>\n",
       "<circle clip-path=\"url(#clip002)\" cx=\"175.59\" cy=\"87.9763\" r=\"14\" fill=\"#e26f46\" fill-rule=\"evenodd\" fill-opacity=\"1\" stroke=\"#000000\" stroke-opacity=\"1\" stroke-width=\"3.2\"/>\n",
       "<circle clip-path=\"url(#clip002)\" cx=\"210.819\" cy=\"176.984\" r=\"14\" fill=\"#e26f46\" fill-rule=\"evenodd\" fill-opacity=\"1\" stroke=\"#000000\" stroke-opacity=\"1\" stroke-width=\"3.2\"/>\n",
       "<circle clip-path=\"url(#clip002)\" cx=\"246.048\" cy=\"262.974\" r=\"14\" fill=\"#e26f46\" fill-rule=\"evenodd\" fill-opacity=\"1\" stroke=\"#000000\" stroke-opacity=\"1\" stroke-width=\"3.2\"/>\n",
       "<circle clip-path=\"url(#clip002)\" cx=\"281.277\" cy=\"345.947\" r=\"14\" fill=\"#e26f46\" fill-rule=\"evenodd\" fill-opacity=\"1\" stroke=\"#000000\" stroke-opacity=\"1\" stroke-width=\"3.2\"/>\n",
       "<circle clip-path=\"url(#clip002)\" cx=\"316.507\" cy=\"425.903\" r=\"14\" fill=\"#e26f46\" fill-rule=\"evenodd\" fill-opacity=\"1\" stroke=\"#000000\" stroke-opacity=\"1\" stroke-width=\"3.2\"/>\n",
       "<circle clip-path=\"url(#clip002)\" cx=\"351.736\" cy=\"502.841\" r=\"14\" fill=\"#e26f46\" fill-rule=\"evenodd\" fill-opacity=\"1\" stroke=\"#000000\" stroke-opacity=\"1\" stroke-width=\"3.2\"/>\n",
       "<circle clip-path=\"url(#clip002)\" cx=\"386.965\" cy=\"576.762\" r=\"14\" fill=\"#e26f46\" fill-rule=\"evenodd\" fill-opacity=\"1\" stroke=\"#000000\" stroke-opacity=\"1\" stroke-width=\"3.2\"/>\n",
       "<circle clip-path=\"url(#clip002)\" cx=\"422.194\" cy=\"647.667\" r=\"14\" fill=\"#e26f46\" fill-rule=\"evenodd\" fill-opacity=\"1\" stroke=\"#000000\" stroke-opacity=\"1\" stroke-width=\"3.2\"/>\n",
       "<circle clip-path=\"url(#clip002)\" cx=\"457.424\" cy=\"715.554\" r=\"14\" fill=\"#e26f46\" fill-rule=\"evenodd\" fill-opacity=\"1\" stroke=\"#000000\" stroke-opacity=\"1\" stroke-width=\"3.2\"/>\n",
       "<circle clip-path=\"url(#clip002)\" cx=\"492.653\" cy=\"780.423\" r=\"14\" fill=\"#e26f46\" fill-rule=\"evenodd\" fill-opacity=\"1\" stroke=\"#000000\" stroke-opacity=\"1\" stroke-width=\"3.2\"/>\n",
       "<circle clip-path=\"url(#clip002)\" cx=\"527.882\" cy=\"842.276\" r=\"14\" fill=\"#e26f46\" fill-rule=\"evenodd\" fill-opacity=\"1\" stroke=\"#000000\" stroke-opacity=\"1\" stroke-width=\"3.2\"/>\n",
       "<circle clip-path=\"url(#clip002)\" cx=\"563.111\" cy=\"901.111\" r=\"14\" fill=\"#e26f46\" fill-rule=\"evenodd\" fill-opacity=\"1\" stroke=\"#000000\" stroke-opacity=\"1\" stroke-width=\"3.2\"/>\n",
       "<circle clip-path=\"url(#clip002)\" cx=\"598.34\" cy=\"956.93\" r=\"14\" fill=\"#e26f46\" fill-rule=\"evenodd\" fill-opacity=\"1\" stroke=\"#000000\" stroke-opacity=\"1\" stroke-width=\"3.2\"/>\n",
       "<circle clip-path=\"url(#clip002)\" cx=\"633.57\" cy=\"1009.73\" r=\"14\" fill=\"#e26f46\" fill-rule=\"evenodd\" fill-opacity=\"1\" stroke=\"#000000\" stroke-opacity=\"1\" stroke-width=\"3.2\"/>\n",
       "<circle clip-path=\"url(#clip002)\" cx=\"668.799\" cy=\"1059.51\" r=\"14\" fill=\"#e26f46\" fill-rule=\"evenodd\" fill-opacity=\"1\" stroke=\"#000000\" stroke-opacity=\"1\" stroke-width=\"3.2\"/>\n",
       "<circle clip-path=\"url(#clip002)\" cx=\"704.028\" cy=\"1106.28\" r=\"14\" fill=\"#e26f46\" fill-rule=\"evenodd\" fill-opacity=\"1\" stroke=\"#000000\" stroke-opacity=\"1\" stroke-width=\"3.2\"/>\n",
       "<circle clip-path=\"url(#clip002)\" cx=\"739.257\" cy=\"1150.03\" r=\"14\" fill=\"#e26f46\" fill-rule=\"evenodd\" fill-opacity=\"1\" stroke=\"#000000\" stroke-opacity=\"1\" stroke-width=\"3.2\"/>\n",
       "<circle clip-path=\"url(#clip002)\" cx=\"774.487\" cy=\"1190.76\" r=\"14\" fill=\"#e26f46\" fill-rule=\"evenodd\" fill-opacity=\"1\" stroke=\"#000000\" stroke-opacity=\"1\" stroke-width=\"3.2\"/>\n",
       "<circle clip-path=\"url(#clip002)\" cx=\"809.716\" cy=\"1228.48\" r=\"14\" fill=\"#e26f46\" fill-rule=\"evenodd\" fill-opacity=\"1\" stroke=\"#000000\" stroke-opacity=\"1\" stroke-width=\"3.2\"/>\n",
       "<circle clip-path=\"url(#clip002)\" cx=\"844.945\" cy=\"1263.18\" r=\"14\" fill=\"#e26f46\" fill-rule=\"evenodd\" fill-opacity=\"1\" stroke=\"#000000\" stroke-opacity=\"1\" stroke-width=\"3.2\"/>\n",
       "<circle clip-path=\"url(#clip002)\" cx=\"880.174\" cy=\"1294.86\" r=\"14\" fill=\"#e26f46\" fill-rule=\"evenodd\" fill-opacity=\"1\" stroke=\"#000000\" stroke-opacity=\"1\" stroke-width=\"3.2\"/>\n",
       "<circle clip-path=\"url(#clip002)\" cx=\"915.404\" cy=\"1323.52\" r=\"14\" fill=\"#e26f46\" fill-rule=\"evenodd\" fill-opacity=\"1\" stroke=\"#000000\" stroke-opacity=\"1\" stroke-width=\"3.2\"/>\n",
       "<circle clip-path=\"url(#clip002)\" cx=\"950.633\" cy=\"1349.17\" r=\"14\" fill=\"#e26f46\" fill-rule=\"evenodd\" fill-opacity=\"1\" stroke=\"#000000\" stroke-opacity=\"1\" stroke-width=\"3.2\"/>\n",
       "<circle clip-path=\"url(#clip002)\" cx=\"985.862\" cy=\"1371.79\" r=\"14\" fill=\"#e26f46\" fill-rule=\"evenodd\" fill-opacity=\"1\" stroke=\"#000000\" stroke-opacity=\"1\" stroke-width=\"3.2\"/>\n",
       "<circle clip-path=\"url(#clip002)\" cx=\"1021.09\" cy=\"1391.41\" r=\"14\" fill=\"#e26f46\" fill-rule=\"evenodd\" fill-opacity=\"1\" stroke=\"#000000\" stroke-opacity=\"1\" stroke-width=\"3.2\"/>\n",
       "<circle clip-path=\"url(#clip002)\" cx=\"1056.32\" cy=\"1408\" r=\"14\" fill=\"#e26f46\" fill-rule=\"evenodd\" fill-opacity=\"1\" stroke=\"#000000\" stroke-opacity=\"1\" stroke-width=\"3.2\"/>\n",
       "<circle clip-path=\"url(#clip002)\" cx=\"1091.55\" cy=\"1421.58\" r=\"14\" fill=\"#e26f46\" fill-rule=\"evenodd\" fill-opacity=\"1\" stroke=\"#000000\" stroke-opacity=\"1\" stroke-width=\"3.2\"/>\n",
       "<circle clip-path=\"url(#clip002)\" cx=\"1126.78\" cy=\"1432.14\" r=\"14\" fill=\"#e26f46\" fill-rule=\"evenodd\" fill-opacity=\"1\" stroke=\"#000000\" stroke-opacity=\"1\" stroke-width=\"3.2\"/>\n",
       "<circle clip-path=\"url(#clip002)\" cx=\"1162.01\" cy=\"1439.68\" r=\"14\" fill=\"#e26f46\" fill-rule=\"evenodd\" fill-opacity=\"1\" stroke=\"#000000\" stroke-opacity=\"1\" stroke-width=\"3.2\"/>\n",
       "<circle clip-path=\"url(#clip002)\" cx=\"1197.24\" cy=\"1444.21\" r=\"14\" fill=\"#e26f46\" fill-rule=\"evenodd\" fill-opacity=\"1\" stroke=\"#000000\" stroke-opacity=\"1\" stroke-width=\"3.2\"/>\n",
       "<circle clip-path=\"url(#clip002)\" cx=\"1232.47\" cy=\"1445.72\" r=\"14\" fill=\"#e26f46\" fill-rule=\"evenodd\" fill-opacity=\"1\" stroke=\"#000000\" stroke-opacity=\"1\" stroke-width=\"3.2\"/>\n",
       "<circle clip-path=\"url(#clip002)\" cx=\"1267.7\" cy=\"1444.21\" r=\"14\" fill=\"#e26f46\" fill-rule=\"evenodd\" fill-opacity=\"1\" stroke=\"#000000\" stroke-opacity=\"1\" stroke-width=\"3.2\"/>\n",
       "<circle clip-path=\"url(#clip002)\" cx=\"1302.92\" cy=\"1439.68\" r=\"14\" fill=\"#e26f46\" fill-rule=\"evenodd\" fill-opacity=\"1\" stroke=\"#000000\" stroke-opacity=\"1\" stroke-width=\"3.2\"/>\n",
       "<circle clip-path=\"url(#clip002)\" cx=\"1338.15\" cy=\"1432.14\" r=\"14\" fill=\"#e26f46\" fill-rule=\"evenodd\" fill-opacity=\"1\" stroke=\"#000000\" stroke-opacity=\"1\" stroke-width=\"3.2\"/>\n",
       "<circle clip-path=\"url(#clip002)\" cx=\"1373.38\" cy=\"1421.58\" r=\"14\" fill=\"#e26f46\" fill-rule=\"evenodd\" fill-opacity=\"1\" stroke=\"#000000\" stroke-opacity=\"1\" stroke-width=\"3.2\"/>\n",
       "<circle clip-path=\"url(#clip002)\" cx=\"1408.61\" cy=\"1408\" r=\"14\" fill=\"#e26f46\" fill-rule=\"evenodd\" fill-opacity=\"1\" stroke=\"#000000\" stroke-opacity=\"1\" stroke-width=\"3.2\"/>\n",
       "<circle clip-path=\"url(#clip002)\" cx=\"1443.84\" cy=\"1391.41\" r=\"14\" fill=\"#e26f46\" fill-rule=\"evenodd\" fill-opacity=\"1\" stroke=\"#000000\" stroke-opacity=\"1\" stroke-width=\"3.2\"/>\n",
       "<circle clip-path=\"url(#clip002)\" cx=\"1479.07\" cy=\"1371.79\" r=\"14\" fill=\"#e26f46\" fill-rule=\"evenodd\" fill-opacity=\"1\" stroke=\"#000000\" stroke-opacity=\"1\" stroke-width=\"3.2\"/>\n",
       "<circle clip-path=\"url(#clip002)\" cx=\"1514.3\" cy=\"1349.17\" r=\"14\" fill=\"#e26f46\" fill-rule=\"evenodd\" fill-opacity=\"1\" stroke=\"#000000\" stroke-opacity=\"1\" stroke-width=\"3.2\"/>\n",
       "<circle clip-path=\"url(#clip002)\" cx=\"1549.53\" cy=\"1323.52\" r=\"14\" fill=\"#e26f46\" fill-rule=\"evenodd\" fill-opacity=\"1\" stroke=\"#000000\" stroke-opacity=\"1\" stroke-width=\"3.2\"/>\n",
       "<circle clip-path=\"url(#clip002)\" cx=\"1584.76\" cy=\"1294.86\" r=\"14\" fill=\"#e26f46\" fill-rule=\"evenodd\" fill-opacity=\"1\" stroke=\"#000000\" stroke-opacity=\"1\" stroke-width=\"3.2\"/>\n",
       "<circle clip-path=\"url(#clip002)\" cx=\"1619.99\" cy=\"1263.18\" r=\"14\" fill=\"#e26f46\" fill-rule=\"evenodd\" fill-opacity=\"1\" stroke=\"#000000\" stroke-opacity=\"1\" stroke-width=\"3.2\"/>\n",
       "<circle clip-path=\"url(#clip002)\" cx=\"1655.22\" cy=\"1228.48\" r=\"14\" fill=\"#e26f46\" fill-rule=\"evenodd\" fill-opacity=\"1\" stroke=\"#000000\" stroke-opacity=\"1\" stroke-width=\"3.2\"/>\n",
       "<circle clip-path=\"url(#clip002)\" cx=\"1690.45\" cy=\"1190.76\" r=\"14\" fill=\"#e26f46\" fill-rule=\"evenodd\" fill-opacity=\"1\" stroke=\"#000000\" stroke-opacity=\"1\" stroke-width=\"3.2\"/>\n",
       "<circle clip-path=\"url(#clip002)\" cx=\"1725.68\" cy=\"1150.03\" r=\"14\" fill=\"#e26f46\" fill-rule=\"evenodd\" fill-opacity=\"1\" stroke=\"#000000\" stroke-opacity=\"1\" stroke-width=\"3.2\"/>\n",
       "<circle clip-path=\"url(#clip002)\" cx=\"1760.9\" cy=\"1106.28\" r=\"14\" fill=\"#e26f46\" fill-rule=\"evenodd\" fill-opacity=\"1\" stroke=\"#000000\" stroke-opacity=\"1\" stroke-width=\"3.2\"/>\n",
       "<circle clip-path=\"url(#clip002)\" cx=\"1796.13\" cy=\"1059.51\" r=\"14\" fill=\"#e26f46\" fill-rule=\"evenodd\" fill-opacity=\"1\" stroke=\"#000000\" stroke-opacity=\"1\" stroke-width=\"3.2\"/>\n",
       "<circle clip-path=\"url(#clip002)\" cx=\"1831.36\" cy=\"1009.73\" r=\"14\" fill=\"#e26f46\" fill-rule=\"evenodd\" fill-opacity=\"1\" stroke=\"#000000\" stroke-opacity=\"1\" stroke-width=\"3.2\"/>\n",
       "<circle clip-path=\"url(#clip002)\" cx=\"1866.59\" cy=\"956.93\" r=\"14\" fill=\"#e26f46\" fill-rule=\"evenodd\" fill-opacity=\"1\" stroke=\"#000000\" stroke-opacity=\"1\" stroke-width=\"3.2\"/>\n",
       "<circle clip-path=\"url(#clip002)\" cx=\"1901.82\" cy=\"901.111\" r=\"14\" fill=\"#e26f46\" fill-rule=\"evenodd\" fill-opacity=\"1\" stroke=\"#000000\" stroke-opacity=\"1\" stroke-width=\"3.2\"/>\n",
       "<circle clip-path=\"url(#clip002)\" cx=\"1937.05\" cy=\"842.276\" r=\"14\" fill=\"#e26f46\" fill-rule=\"evenodd\" fill-opacity=\"1\" stroke=\"#000000\" stroke-opacity=\"1\" stroke-width=\"3.2\"/>\n",
       "<circle clip-path=\"url(#clip002)\" cx=\"1972.28\" cy=\"780.423\" r=\"14\" fill=\"#e26f46\" fill-rule=\"evenodd\" fill-opacity=\"1\" stroke=\"#000000\" stroke-opacity=\"1\" stroke-width=\"3.2\"/>\n",
       "<circle clip-path=\"url(#clip002)\" cx=\"2007.51\" cy=\"715.554\" r=\"14\" fill=\"#e26f46\" fill-rule=\"evenodd\" fill-opacity=\"1\" stroke=\"#000000\" stroke-opacity=\"1\" stroke-width=\"3.2\"/>\n",
       "<circle clip-path=\"url(#clip002)\" cx=\"2042.74\" cy=\"647.667\" r=\"14\" fill=\"#e26f46\" fill-rule=\"evenodd\" fill-opacity=\"1\" stroke=\"#000000\" stroke-opacity=\"1\" stroke-width=\"3.2\"/>\n",
       "<circle clip-path=\"url(#clip002)\" cx=\"2077.97\" cy=\"576.762\" r=\"14\" fill=\"#e26f46\" fill-rule=\"evenodd\" fill-opacity=\"1\" stroke=\"#000000\" stroke-opacity=\"1\" stroke-width=\"3.2\"/>\n",
       "<circle clip-path=\"url(#clip002)\" cx=\"2113.2\" cy=\"502.841\" r=\"14\" fill=\"#e26f46\" fill-rule=\"evenodd\" fill-opacity=\"1\" stroke=\"#000000\" stroke-opacity=\"1\" stroke-width=\"3.2\"/>\n",
       "<circle clip-path=\"url(#clip002)\" cx=\"2148.43\" cy=\"425.903\" r=\"14\" fill=\"#e26f46\" fill-rule=\"evenodd\" fill-opacity=\"1\" stroke=\"#000000\" stroke-opacity=\"1\" stroke-width=\"3.2\"/>\n",
       "<circle clip-path=\"url(#clip002)\" cx=\"2183.66\" cy=\"345.947\" r=\"14\" fill=\"#e26f46\" fill-rule=\"evenodd\" fill-opacity=\"1\" stroke=\"#000000\" stroke-opacity=\"1\" stroke-width=\"3.2\"/>\n",
       "<circle clip-path=\"url(#clip002)\" cx=\"2218.88\" cy=\"262.974\" r=\"14\" fill=\"#e26f46\" fill-rule=\"evenodd\" fill-opacity=\"1\" stroke=\"#000000\" stroke-opacity=\"1\" stroke-width=\"3.2\"/>\n",
       "<circle clip-path=\"url(#clip002)\" cx=\"2254.11\" cy=\"176.984\" r=\"14\" fill=\"#e26f46\" fill-rule=\"evenodd\" fill-opacity=\"1\" stroke=\"#000000\" stroke-opacity=\"1\" stroke-width=\"3.2\"/>\n",
       "<circle clip-path=\"url(#clip002)\" cx=\"2289.34\" cy=\"87.9763\" r=\"14\" fill=\"#e26f46\" fill-rule=\"evenodd\" fill-opacity=\"1\" stroke=\"#000000\" stroke-opacity=\"1\" stroke-width=\"3.2\"/>\n",
       "<path clip-path=\"url(#clip000)\" d=\"\n",
       "M1978.1 276.658 L2278.07 276.658 L2278.07 95.2176 L1978.1 95.2176  Z\n",
       "  \" fill=\"#ffffff\" fill-rule=\"evenodd\" fill-opacity=\"1\"/>\n",
       "<polyline clip-path=\"url(#clip000)\" style=\"stroke:#000000; stroke-width:4; stroke-opacity:1; fill:none\" points=\"\n",
       "  1978.1,276.658 2278.07,276.658 2278.07,95.2176 1978.1,95.2176 1978.1,276.658 \n",
       "  \"/>\n",
       "<polyline clip-path=\"url(#clip000)\" style=\"stroke:#009af9; stroke-width:4; stroke-opacity:1; fill:none\" points=\"\n",
       "  2002.99,155.698 2152.37,155.698 \n",
       "  \"/>\n",
       "<path clip-path=\"url(#clip000)\" d=\"M 0 0 M2191.1 175.385 Q2189.3 180.015 2187.59 181.427 Q2185.87 182.839 2183 182.839 L2179.6 182.839 L2179.6 179.274 L2182.1 179.274 Q2183.86 179.274 2184.83 178.44 Q2185.8 177.607 2186.98 174.505 L2187.75 172.561 L2177.26 147.052 L2181.77 147.052 L2189.88 167.329 L2197.98 147.052 L2202.49 147.052 L2191.1 175.385 Z\" fill=\"#000000\" fill-rule=\"evenodd\" fill-opacity=\"1\" /><path clip-path=\"url(#clip000)\" d=\"M 0 0 M2208.37 169.042 L2216.01 169.042 L2216.01 142.677 L2207.7 144.343 L2207.7 140.084 L2215.96 138.418 L2220.64 138.418 L2220.64 169.042 L2228.28 169.042 L2228.28 172.978 L2208.37 172.978 L2208.37 169.042 Z\" fill=\"#000000\" fill-rule=\"evenodd\" fill-opacity=\"1\" /><circle clip-path=\"url(#clip000)\" cx=\"2077.68\" cy=\"216.178\" r=\"23\" fill=\"#e26f46\" fill-rule=\"evenodd\" fill-opacity=\"1\" stroke=\"#000000\" stroke-opacity=\"1\" stroke-width=\"5.12\"/>\n",
       "<path clip-path=\"url(#clip000)\" d=\"M 0 0 M2191.1 235.865 Q2189.3 240.495 2187.59 241.907 Q2185.87 243.319 2183 243.319 L2179.6 243.319 L2179.6 239.754 L2182.1 239.754 Q2183.86 239.754 2184.83 238.92 Q2185.8 238.087 2186.98 234.985 L2187.75 233.041 L2177.26 207.532 L2181.77 207.532 L2189.88 227.809 L2197.98 207.532 L2202.49 207.532 L2191.1 235.865 Z\" fill=\"#000000\" fill-rule=\"evenodd\" fill-opacity=\"1\" /><path clip-path=\"url(#clip000)\" d=\"M 0 0 M2211.59 229.522 L2227.91 229.522 L2227.91 233.458 L2205.96 233.458 L2205.96 229.522 Q2208.63 226.768 2213.21 222.138 Q2217.82 217.485 2219 216.143 Q2221.24 213.62 2222.12 211.884 Q2223.02 210.124 2223.02 208.435 Q2223.02 205.68 2221.08 203.944 Q2219.16 202.208 2216.06 202.208 Q2213.86 202.208 2211.4 202.972 Q2208.97 203.735 2206.2 205.286 L2206.2 200.564 Q2209.02 199.43 2211.47 198.851 Q2213.93 198.273 2215.96 198.273 Q2221.33 198.273 2224.53 200.958 Q2227.72 203.643 2227.72 208.134 Q2227.72 210.263 2226.91 212.185 Q2226.13 214.083 2224.02 216.675 Q2223.44 217.347 2220.34 220.564 Q2217.24 223.759 2211.59 229.522 Z\" fill=\"#000000\" fill-rule=\"evenodd\" fill-opacity=\"1\" /></svg>\n"
      ]
     },
     "execution_count": 14,
     "metadata": {},
     "output_type": "execute_result"
    }
   ],
   "source": [
    "plot(x,y)\n",
    "scatter!(x,y)"
   ]
  },
  {
   "cell_type": "code",
   "execution_count": 15,
   "metadata": {},
   "outputs": [
    {
     "data": {
      "image/svg+xml": [
       "<?xml version=\"1.0\" encoding=\"utf-8\"?>\n",
       "<svg xmlns=\"http://www.w3.org/2000/svg\" xmlns:xlink=\"http://www.w3.org/1999/xlink\" width=\"600\" height=\"400\" viewBox=\"0 0 2400 1600\">\n",
       "<defs>\n",
       "  <clipPath id=\"clip040\">\n",
       "    <rect x=\"0\" y=\"0\" width=\"2400\" height=\"1600\"/>\n",
       "  </clipPath>\n",
       "</defs>\n",
       "<path clip-path=\"url(#clip040)\" d=\"\n",
       "M0 1600 L2400 1600 L2400 0 L0 0  Z\n",
       "  \" fill=\"#ffffff\" fill-rule=\"evenodd\" fill-opacity=\"1\"/>\n",
       "<defs>\n",
       "  <clipPath id=\"clip041\">\n",
       "    <rect x=\"480\" y=\"0\" width=\"1681\" height=\"1600\"/>\n",
       "  </clipPath>\n",
       "</defs>\n",
       "<path clip-path=\"url(#clip040)\" d=\"\n",
       "M112.177 1486.45 L2352.76 1486.45 L2352.76 47.2441 L112.177 47.2441  Z\n",
       "  \" fill=\"#ffffff\" fill-rule=\"evenodd\" fill-opacity=\"1\"/>\n",
       "<defs>\n",
       "  <clipPath id=\"clip042\">\n",
       "    <rect x=\"112\" y=\"47\" width=\"2242\" height=\"1440\"/>\n",
       "  </clipPath>\n",
       "</defs>\n",
       "<polyline clip-path=\"url(#clip042)\" style=\"stroke:#000000; stroke-width:2; stroke-opacity:0.1; fill:none\" points=\"\n",
       "  175.59,1486.45 175.59,47.2441 \n",
       "  \"/>\n",
       "<polyline clip-path=\"url(#clip042)\" style=\"stroke:#000000; stroke-width:2; stroke-opacity:0.1; fill:none\" points=\"\n",
       "  527.882,1486.45 527.882,47.2441 \n",
       "  \"/>\n",
       "<polyline clip-path=\"url(#clip042)\" style=\"stroke:#000000; stroke-width:2; stroke-opacity:0.1; fill:none\" points=\"\n",
       "  880.174,1486.45 880.174,47.2441 \n",
       "  \"/>\n",
       "<polyline clip-path=\"url(#clip042)\" style=\"stroke:#000000; stroke-width:2; stroke-opacity:0.1; fill:none\" points=\"\n",
       "  1232.47,1486.45 1232.47,47.2441 \n",
       "  \"/>\n",
       "<polyline clip-path=\"url(#clip042)\" style=\"stroke:#000000; stroke-width:2; stroke-opacity:0.1; fill:none\" points=\"\n",
       "  1584.76,1486.45 1584.76,47.2441 \n",
       "  \"/>\n",
       "<polyline clip-path=\"url(#clip042)\" style=\"stroke:#000000; stroke-width:2; stroke-opacity:0.1; fill:none\" points=\"\n",
       "  1937.05,1486.45 1937.05,47.2441 \n",
       "  \"/>\n",
       "<polyline clip-path=\"url(#clip042)\" style=\"stroke:#000000; stroke-width:2; stroke-opacity:0.1; fill:none\" points=\"\n",
       "  2289.34,1486.45 2289.34,47.2441 \n",
       "  \"/>\n",
       "<polyline clip-path=\"url(#clip042)\" style=\"stroke:#000000; stroke-width:2; stroke-opacity:0.1; fill:none\" points=\"\n",
       "  112.177,1445.72 2352.76,1445.72 \n",
       "  \"/>\n",
       "<polyline clip-path=\"url(#clip042)\" style=\"stroke:#000000; stroke-width:2; stroke-opacity:0.1; fill:none\" points=\"\n",
       "  112.177,1144 2352.76,1144 \n",
       "  \"/>\n",
       "<polyline clip-path=\"url(#clip042)\" style=\"stroke:#000000; stroke-width:2; stroke-opacity:0.1; fill:none\" points=\"\n",
       "  112.177,842.276 2352.76,842.276 \n",
       "  \"/>\n",
       "<polyline clip-path=\"url(#clip042)\" style=\"stroke:#000000; stroke-width:2; stroke-opacity:0.1; fill:none\" points=\"\n",
       "  112.177,540.556 2352.76,540.556 \n",
       "  \"/>\n",
       "<polyline clip-path=\"url(#clip042)\" style=\"stroke:#000000; stroke-width:2; stroke-opacity:0.1; fill:none\" points=\"\n",
       "  112.177,238.836 2352.76,238.836 \n",
       "  \"/>\n",
       "<polyline clip-path=\"url(#clip040)\" style=\"stroke:#000000; stroke-width:4; stroke-opacity:1; fill:none\" points=\"\n",
       "  112.177,1486.45 2352.76,1486.45 \n",
       "  \"/>\n",
       "<polyline clip-path=\"url(#clip040)\" style=\"stroke:#000000; stroke-width:4; stroke-opacity:1; fill:none\" points=\"\n",
       "  112.177,1486.45 112.177,47.2441 \n",
       "  \"/>\n",
       "<polyline clip-path=\"url(#clip040)\" style=\"stroke:#000000; stroke-width:4; stroke-opacity:1; fill:none\" points=\"\n",
       "  175.59,1486.45 175.59,1469.18 \n",
       "  \"/>\n",
       "<polyline clip-path=\"url(#clip040)\" style=\"stroke:#000000; stroke-width:4; stroke-opacity:1; fill:none\" points=\"\n",
       "  527.882,1486.45 527.882,1469.18 \n",
       "  \"/>\n",
       "<polyline clip-path=\"url(#clip040)\" style=\"stroke:#000000; stroke-width:4; stroke-opacity:1; fill:none\" points=\"\n",
       "  880.174,1486.45 880.174,1469.18 \n",
       "  \"/>\n",
       "<polyline clip-path=\"url(#clip040)\" style=\"stroke:#000000; stroke-width:4; stroke-opacity:1; fill:none\" points=\"\n",
       "  1232.47,1486.45 1232.47,1469.18 \n",
       "  \"/>\n",
       "<polyline clip-path=\"url(#clip040)\" style=\"stroke:#000000; stroke-width:4; stroke-opacity:1; fill:none\" points=\"\n",
       "  1584.76,1486.45 1584.76,1469.18 \n",
       "  \"/>\n",
       "<polyline clip-path=\"url(#clip040)\" style=\"stroke:#000000; stroke-width:4; stroke-opacity:1; fill:none\" points=\"\n",
       "  1937.05,1486.45 1937.05,1469.18 \n",
       "  \"/>\n",
       "<polyline clip-path=\"url(#clip040)\" style=\"stroke:#000000; stroke-width:4; stroke-opacity:1; fill:none\" points=\"\n",
       "  2289.34,1486.45 2289.34,1469.18 \n",
       "  \"/>\n",
       "<polyline clip-path=\"url(#clip040)\" style=\"stroke:#000000; stroke-width:4; stroke-opacity:1; fill:none\" points=\"\n",
       "  112.177,1445.72 139.064,1445.72 \n",
       "  \"/>\n",
       "<polyline clip-path=\"url(#clip040)\" style=\"stroke:#000000; stroke-width:4; stroke-opacity:1; fill:none\" points=\"\n",
       "  112.177,1144 139.064,1144 \n",
       "  \"/>\n",
       "<polyline clip-path=\"url(#clip040)\" style=\"stroke:#000000; stroke-width:4; stroke-opacity:1; fill:none\" points=\"\n",
       "  112.177,842.276 139.064,842.276 \n",
       "  \"/>\n",
       "<polyline clip-path=\"url(#clip040)\" style=\"stroke:#000000; stroke-width:4; stroke-opacity:1; fill:none\" points=\"\n",
       "  112.177,540.556 139.064,540.556 \n",
       "  \"/>\n",
       "<polyline clip-path=\"url(#clip040)\" style=\"stroke:#000000; stroke-width:4; stroke-opacity:1; fill:none\" points=\"\n",
       "  112.177,238.836 139.064,238.836 \n",
       "  \"/>\n",
       "<path clip-path=\"url(#clip040)\" d=\"M 0 0 M147.569 1523.09 L177.245 1523.09 L177.245 1527.03 L147.569 1527.03 L147.569 1523.09 Z\" fill=\"#000000\" fill-rule=\"evenodd\" fill-opacity=\"1\" /><path clip-path=\"url(#clip040)\" d=\"M 0 0 M196.481 1521.29 Q199.837 1522 201.712 1524.27 Q203.61 1526.54 203.61 1529.87 Q203.61 1534.99 200.092 1537.79 Q196.573 1540.59 190.092 1540.59 Q187.916 1540.59 185.601 1540.15 Q183.31 1539.73 180.856 1538.88 L180.856 1534.36 Q182.8 1535.5 185.115 1536.08 Q187.43 1536.66 189.953 1536.66 Q194.351 1536.66 196.643 1534.92 Q198.958 1533.18 198.958 1529.87 Q198.958 1526.82 196.805 1525.11 Q194.675 1523.37 190.856 1523.37 L186.828 1523.37 L186.828 1519.53 L191.041 1519.53 Q194.49 1519.53 196.319 1518.16 Q198.148 1516.77 198.148 1514.18 Q198.148 1511.52 196.249 1510.11 Q194.374 1508.67 190.856 1508.67 Q188.935 1508.67 186.736 1509.09 Q184.536 1509.5 181.898 1510.38 L181.898 1506.22 Q184.56 1505.48 186.874 1505.11 Q189.212 1504.73 191.273 1504.73 Q196.597 1504.73 199.698 1507.17 Q202.8 1509.57 202.8 1513.69 Q202.8 1516.56 201.157 1518.55 Q199.513 1520.52 196.481 1521.29 Z\" fill=\"#000000\" fill-rule=\"evenodd\" fill-opacity=\"1\" /><path clip-path=\"url(#clip040)\" d=\"M 0 0 M500.336 1523.09 L530.012 1523.09 L530.012 1527.03 L500.336 1527.03 L500.336 1523.09 Z\" fill=\"#000000\" fill-rule=\"evenodd\" fill-opacity=\"1\" /><path clip-path=\"url(#clip040)\" d=\"M 0 0 M539.109 1535.98 L555.428 1535.98 L555.428 1539.92 L533.484 1539.92 L533.484 1535.98 Q536.146 1533.23 540.729 1528.6 Q545.336 1523.95 546.516 1522.61 Q548.762 1520.08 549.641 1518.35 Q550.544 1516.59 550.544 1514.9 Q550.544 1512.14 548.6 1510.41 Q546.678 1508.67 543.576 1508.67 Q541.377 1508.67 538.924 1509.43 Q536.493 1510.2 533.715 1511.75 L533.715 1507.03 Q536.539 1505.89 538.993 1505.31 Q541.447 1504.73 543.484 1504.73 Q548.854 1504.73 552.049 1507.42 Q555.243 1510.11 555.243 1514.6 Q555.243 1516.73 554.433 1518.65 Q553.646 1520.54 551.539 1523.14 Q550.961 1523.81 547.859 1527.03 Q544.757 1530.22 539.109 1535.98 Z\" fill=\"#000000\" fill-rule=\"evenodd\" fill-opacity=\"1\" /><path clip-path=\"url(#clip040)\" d=\"M 0 0 M852.443 1523.09 L882.119 1523.09 L882.119 1527.03 L852.443 1527.03 L852.443 1523.09 Z\" fill=\"#000000\" fill-rule=\"evenodd\" fill-opacity=\"1\" /><path clip-path=\"url(#clip040)\" d=\"M 0 0 M887.998 1535.98 L895.637 1535.98 L895.637 1509.62 L887.327 1511.29 L887.327 1507.03 L895.591 1505.36 L900.267 1505.36 L900.267 1535.98 L907.906 1535.98 L907.906 1539.92 L887.998 1539.92 L887.998 1535.98 Z\" fill=\"#000000\" fill-rule=\"evenodd\" fill-opacity=\"1\" /><path clip-path=\"url(#clip040)\" d=\"M 0 0 M1232.47 1508.44 Q1228.86 1508.44 1227.03 1512 Q1225.22 1515.55 1225.22 1522.67 Q1225.22 1529.78 1227.03 1533.35 Q1228.86 1536.89 1232.47 1536.89 Q1236.1 1536.89 1237.91 1533.35 Q1239.74 1529.78 1239.74 1522.67 Q1239.74 1515.55 1237.91 1512 Q1236.1 1508.44 1232.47 1508.44 M1232.47 1504.73 Q1238.28 1504.73 1241.33 1509.34 Q1244.41 1513.92 1244.41 1522.67 Q1244.41 1531.4 1241.33 1536.01 Q1238.28 1540.59 1232.47 1540.59 Q1226.66 1540.59 1223.58 1536.01 Q1220.52 1531.4 1220.52 1522.67 Q1220.52 1513.92 1223.58 1509.34 Q1226.66 1504.73 1232.47 1504.73 Z\" fill=\"#000000\" fill-rule=\"evenodd\" fill-opacity=\"1\" /><path clip-path=\"url(#clip040)\" d=\"M 0 0 M1575.14 1535.98 L1582.78 1535.98 L1582.78 1509.62 L1574.47 1511.29 L1574.47 1507.03 L1582.73 1505.36 L1587.41 1505.36 L1587.41 1535.98 L1595.05 1535.98 L1595.05 1539.92 L1575.14 1539.92 L1575.14 1535.98 Z\" fill=\"#000000\" fill-rule=\"evenodd\" fill-opacity=\"1\" /><path clip-path=\"url(#clip040)\" d=\"M 0 0 M1931.7 1535.98 L1948.02 1535.98 L1948.02 1539.92 L1926.08 1539.92 L1926.08 1535.98 Q1928.74 1533.23 1933.32 1528.6 Q1937.93 1523.95 1939.11 1522.61 Q1941.36 1520.08 1942.24 1518.35 Q1943.14 1516.59 1943.14 1514.9 Q1943.14 1512.14 1941.19 1510.41 Q1939.27 1508.67 1936.17 1508.67 Q1933.97 1508.67 1931.52 1509.43 Q1929.09 1510.2 1926.31 1511.75 L1926.31 1507.03 Q1929.13 1505.89 1931.59 1505.31 Q1934.04 1504.73 1936.08 1504.73 Q1941.45 1504.73 1944.64 1507.42 Q1947.84 1510.11 1947.84 1514.6 Q1947.84 1516.73 1947.03 1518.65 Q1946.24 1520.54 1944.13 1523.14 Q1943.56 1523.81 1940.45 1527.03 Q1937.35 1530.22 1931.7 1535.98 Z\" fill=\"#000000\" fill-rule=\"evenodd\" fill-opacity=\"1\" /><path clip-path=\"url(#clip040)\" d=\"M 0 0 M2293.59 1521.29 Q2296.95 1522 2298.82 1524.27 Q2300.72 1526.54 2300.72 1529.87 Q2300.72 1534.99 2297.2 1537.79 Q2293.68 1540.59 2287.2 1540.59 Q2285.03 1540.59 2282.71 1540.15 Q2280.42 1539.73 2277.97 1538.88 L2277.97 1534.36 Q2279.91 1535.5 2282.23 1536.08 Q2284.54 1536.66 2287.06 1536.66 Q2291.46 1536.66 2293.75 1534.92 Q2296.07 1533.18 2296.07 1529.87 Q2296.07 1526.82 2293.92 1525.11 Q2291.79 1523.37 2287.97 1523.37 L2283.94 1523.37 L2283.94 1519.53 L2288.15 1519.53 Q2291.6 1519.53 2293.43 1518.16 Q2295.26 1516.77 2295.26 1514.18 Q2295.26 1511.52 2293.36 1510.11 Q2291.48 1508.67 2287.97 1508.67 Q2286.04 1508.67 2283.85 1509.09 Q2281.65 1509.5 2279.01 1510.38 L2279.01 1506.22 Q2281.67 1505.48 2283.98 1505.11 Q2286.32 1504.73 2288.38 1504.73 Q2293.71 1504.73 2296.81 1507.17 Q2299.91 1509.57 2299.91 1513.69 Q2299.91 1516.56 2298.27 1518.55 Q2296.62 1520.52 2293.59 1521.29 Z\" fill=\"#000000\" fill-rule=\"evenodd\" fill-opacity=\"1\" /><path clip-path=\"url(#clip040)\" d=\"M 0 0 M76.2328 1431.51 Q72.6217 1431.51 70.793 1435.08 Q68.9875 1438.62 68.9875 1445.75 Q68.9875 1452.86 70.793 1456.42 Q72.6217 1459.96 76.2328 1459.96 Q79.867 1459.96 81.6726 1456.42 Q83.5013 1452.86 83.5013 1445.75 Q83.5013 1438.62 81.6726 1435.08 Q79.867 1431.51 76.2328 1431.51 M76.2328 1427.81 Q82.0429 1427.81 85.0985 1432.42 Q88.1772 1437 88.1772 1445.75 Q88.1772 1454.48 85.0985 1459.08 Q82.0429 1463.67 76.2328 1463.67 Q70.4226 1463.67 67.344 1459.08 Q64.2884 1454.48 64.2884 1445.75 Q64.2884 1437 67.344 1432.42 Q70.4226 1427.81 76.2328 1427.81 Z\" fill=\"#000000\" fill-rule=\"evenodd\" fill-opacity=\"1\" /><path clip-path=\"url(#clip040)\" d=\"M 0 0 M71.8578 1157.34 L88.1772 1157.34 L88.1772 1161.28 L66.2328 1161.28 L66.2328 1157.34 Q68.8949 1154.59 73.4782 1149.96 Q78.0846 1145.3 79.2652 1143.96 Q81.5105 1141.44 82.3902 1139.7 Q83.2929 1137.94 83.2929 1136.25 Q83.2929 1133.5 81.3485 1131.76 Q79.4272 1130.03 76.3254 1130.03 Q74.1263 1130.03 71.6726 1130.79 Q69.2421 1131.55 66.4643 1133.1 L66.4643 1128.38 Q69.2884 1127.25 71.7421 1126.67 Q74.1958 1126.09 76.2328 1126.09 Q81.6031 1126.09 84.7976 1128.78 Q87.992 1131.46 87.992 1135.95 Q87.992 1138.08 87.1818 1140 Q86.3948 1141.9 84.2883 1144.49 Q83.7096 1145.16 80.6078 1148.38 Q77.5059 1151.58 71.8578 1157.34 Z\" fill=\"#000000\" fill-rule=\"evenodd\" fill-opacity=\"1\" /><path clip-path=\"url(#clip040)\" d=\"M 0 0 M78.5939 829.07 L66.7884 847.519 L78.5939 847.519 L78.5939 829.07 M77.367 824.996 L83.2466 824.996 L83.2466 847.519 L88.1772 847.519 L88.1772 851.408 L83.2466 851.408 L83.2466 859.556 L78.5939 859.556 L78.5939 851.408 L62.9921 851.408 L62.9921 846.894 L77.367 824.996 Z\" fill=\"#000000\" fill-rule=\"evenodd\" fill-opacity=\"1\" /><path clip-path=\"url(#clip040)\" d=\"M 0 0 M76.6495 538.693 Q73.5013 538.693 71.6495 540.845 Q69.8208 542.998 69.8208 546.748 Q69.8208 550.475 71.6495 552.651 Q73.5013 554.804 76.6495 554.804 Q79.7976 554.804 81.6263 552.651 Q83.4781 550.475 83.4781 546.748 Q83.4781 542.998 81.6263 540.845 Q79.7976 538.693 76.6495 538.693 M85.9318 524.04 L85.9318 528.299 Q84.1726 527.466 82.367 527.026 Q80.5846 526.586 78.8254 526.586 Q74.1958 526.586 71.7421 529.711 Q69.3115 532.836 68.9643 539.156 Q70.33 537.142 72.3902 536.077 Q74.4504 534.989 76.9272 534.989 Q82.1355 534.989 85.1448 538.16 Q88.1772 541.308 88.1772 546.748 Q88.1772 552.072 85.029 555.29 Q81.8809 558.507 76.6495 558.507 Q70.6541 558.507 67.4828 553.924 Q64.3116 549.318 64.3116 540.591 Q64.3116 532.396 68.2004 527.535 Q72.0893 522.651 78.6402 522.651 Q80.3994 522.651 82.1818 522.998 Q83.9874 523.346 85.9318 524.04 Z\" fill=\"#000000\" fill-rule=\"evenodd\" fill-opacity=\"1\" /><path clip-path=\"url(#clip040)\" d=\"M 0 0 M76.3254 239.704 Q72.9921 239.704 71.0708 241.487 Q69.1726 243.269 69.1726 246.394 Q69.1726 249.519 71.0708 251.301 Q72.9921 253.084 76.3254 253.084 Q79.6587 253.084 81.58 251.301 Q83.5013 249.496 83.5013 246.394 Q83.5013 243.269 81.58 241.487 Q79.6819 239.704 76.3254 239.704 M71.6495 237.714 Q68.6402 236.973 66.9504 234.913 Q65.2838 232.852 65.2838 229.89 Q65.2838 225.746 68.2236 223.339 Q71.1865 220.931 76.3254 220.931 Q81.4874 220.931 84.4272 223.339 Q87.367 225.746 87.367 229.89 Q87.367 232.852 85.6772 234.913 Q84.0105 236.973 81.0244 237.714 Q84.404 238.501 86.279 240.792 Q88.1772 243.084 88.1772 246.394 Q88.1772 251.417 85.0985 254.102 Q82.0429 256.788 76.3254 256.788 Q70.6078 256.788 67.5291 254.102 Q64.4736 251.417 64.4736 246.394 Q64.4736 243.084 66.3717 240.792 Q68.2699 238.501 71.6495 237.714 M69.9365 230.329 Q69.9365 233.014 71.6032 234.519 Q73.293 236.024 76.3254 236.024 Q79.3346 236.024 81.0244 234.519 Q82.7374 233.014 82.7374 230.329 Q82.7374 227.644 81.0244 226.14 Q79.3346 224.635 76.3254 224.635 Q73.293 224.635 71.6032 226.14 Q69.9365 227.644 69.9365 230.329 Z\" fill=\"#000000\" fill-rule=\"evenodd\" fill-opacity=\"1\" /><circle clip-path=\"url(#clip042)\" cx=\"175.59\" cy=\"87.9763\" r=\"14\" fill=\"#009af9\" fill-rule=\"evenodd\" fill-opacity=\"1\" stroke=\"#000000\" stroke-opacity=\"1\" stroke-width=\"3.2\"/>\n",
       "<circle clip-path=\"url(#clip042)\" cx=\"210.819\" cy=\"176.984\" r=\"14\" fill=\"#009af9\" fill-rule=\"evenodd\" fill-opacity=\"1\" stroke=\"#000000\" stroke-opacity=\"1\" stroke-width=\"3.2\"/>\n",
       "<circle clip-path=\"url(#clip042)\" cx=\"246.048\" cy=\"262.974\" r=\"14\" fill=\"#009af9\" fill-rule=\"evenodd\" fill-opacity=\"1\" stroke=\"#000000\" stroke-opacity=\"1\" stroke-width=\"3.2\"/>\n",
       "<circle clip-path=\"url(#clip042)\" cx=\"281.277\" cy=\"345.947\" r=\"14\" fill=\"#009af9\" fill-rule=\"evenodd\" fill-opacity=\"1\" stroke=\"#000000\" stroke-opacity=\"1\" stroke-width=\"3.2\"/>\n",
       "<circle clip-path=\"url(#clip042)\" cx=\"316.507\" cy=\"425.903\" r=\"14\" fill=\"#009af9\" fill-rule=\"evenodd\" fill-opacity=\"1\" stroke=\"#000000\" stroke-opacity=\"1\" stroke-width=\"3.2\"/>\n",
       "<circle clip-path=\"url(#clip042)\" cx=\"351.736\" cy=\"502.841\" r=\"14\" fill=\"#009af9\" fill-rule=\"evenodd\" fill-opacity=\"1\" stroke=\"#000000\" stroke-opacity=\"1\" stroke-width=\"3.2\"/>\n",
       "<circle clip-path=\"url(#clip042)\" cx=\"386.965\" cy=\"576.762\" r=\"14\" fill=\"#009af9\" fill-rule=\"evenodd\" fill-opacity=\"1\" stroke=\"#000000\" stroke-opacity=\"1\" stroke-width=\"3.2\"/>\n",
       "<circle clip-path=\"url(#clip042)\" cx=\"422.194\" cy=\"647.667\" r=\"14\" fill=\"#009af9\" fill-rule=\"evenodd\" fill-opacity=\"1\" stroke=\"#000000\" stroke-opacity=\"1\" stroke-width=\"3.2\"/>\n",
       "<circle clip-path=\"url(#clip042)\" cx=\"457.424\" cy=\"715.554\" r=\"14\" fill=\"#009af9\" fill-rule=\"evenodd\" fill-opacity=\"1\" stroke=\"#000000\" stroke-opacity=\"1\" stroke-width=\"3.2\"/>\n",
       "<circle clip-path=\"url(#clip042)\" cx=\"492.653\" cy=\"780.423\" r=\"14\" fill=\"#009af9\" fill-rule=\"evenodd\" fill-opacity=\"1\" stroke=\"#000000\" stroke-opacity=\"1\" stroke-width=\"3.2\"/>\n",
       "<circle clip-path=\"url(#clip042)\" cx=\"527.882\" cy=\"842.276\" r=\"14\" fill=\"#009af9\" fill-rule=\"evenodd\" fill-opacity=\"1\" stroke=\"#000000\" stroke-opacity=\"1\" stroke-width=\"3.2\"/>\n",
       "<circle clip-path=\"url(#clip042)\" cx=\"563.111\" cy=\"901.111\" r=\"14\" fill=\"#009af9\" fill-rule=\"evenodd\" fill-opacity=\"1\" stroke=\"#000000\" stroke-opacity=\"1\" stroke-width=\"3.2\"/>\n",
       "<circle clip-path=\"url(#clip042)\" cx=\"598.34\" cy=\"956.93\" r=\"14\" fill=\"#009af9\" fill-rule=\"evenodd\" fill-opacity=\"1\" stroke=\"#000000\" stroke-opacity=\"1\" stroke-width=\"3.2\"/>\n",
       "<circle clip-path=\"url(#clip042)\" cx=\"633.57\" cy=\"1009.73\" r=\"14\" fill=\"#009af9\" fill-rule=\"evenodd\" fill-opacity=\"1\" stroke=\"#000000\" stroke-opacity=\"1\" stroke-width=\"3.2\"/>\n",
       "<circle clip-path=\"url(#clip042)\" cx=\"668.799\" cy=\"1059.51\" r=\"14\" fill=\"#009af9\" fill-rule=\"evenodd\" fill-opacity=\"1\" stroke=\"#000000\" stroke-opacity=\"1\" stroke-width=\"3.2\"/>\n",
       "<circle clip-path=\"url(#clip042)\" cx=\"704.028\" cy=\"1106.28\" r=\"14\" fill=\"#009af9\" fill-rule=\"evenodd\" fill-opacity=\"1\" stroke=\"#000000\" stroke-opacity=\"1\" stroke-width=\"3.2\"/>\n",
       "<circle clip-path=\"url(#clip042)\" cx=\"739.257\" cy=\"1150.03\" r=\"14\" fill=\"#009af9\" fill-rule=\"evenodd\" fill-opacity=\"1\" stroke=\"#000000\" stroke-opacity=\"1\" stroke-width=\"3.2\"/>\n",
       "<circle clip-path=\"url(#clip042)\" cx=\"774.487\" cy=\"1190.76\" r=\"14\" fill=\"#009af9\" fill-rule=\"evenodd\" fill-opacity=\"1\" stroke=\"#000000\" stroke-opacity=\"1\" stroke-width=\"3.2\"/>\n",
       "<circle clip-path=\"url(#clip042)\" cx=\"809.716\" cy=\"1228.48\" r=\"14\" fill=\"#009af9\" fill-rule=\"evenodd\" fill-opacity=\"1\" stroke=\"#000000\" stroke-opacity=\"1\" stroke-width=\"3.2\"/>\n",
       "<circle clip-path=\"url(#clip042)\" cx=\"844.945\" cy=\"1263.18\" r=\"14\" fill=\"#009af9\" fill-rule=\"evenodd\" fill-opacity=\"1\" stroke=\"#000000\" stroke-opacity=\"1\" stroke-width=\"3.2\"/>\n",
       "<circle clip-path=\"url(#clip042)\" cx=\"880.174\" cy=\"1294.86\" r=\"14\" fill=\"#009af9\" fill-rule=\"evenodd\" fill-opacity=\"1\" stroke=\"#000000\" stroke-opacity=\"1\" stroke-width=\"3.2\"/>\n",
       "<circle clip-path=\"url(#clip042)\" cx=\"915.404\" cy=\"1323.52\" r=\"14\" fill=\"#009af9\" fill-rule=\"evenodd\" fill-opacity=\"1\" stroke=\"#000000\" stroke-opacity=\"1\" stroke-width=\"3.2\"/>\n",
       "<circle clip-path=\"url(#clip042)\" cx=\"950.633\" cy=\"1349.17\" r=\"14\" fill=\"#009af9\" fill-rule=\"evenodd\" fill-opacity=\"1\" stroke=\"#000000\" stroke-opacity=\"1\" stroke-width=\"3.2\"/>\n",
       "<circle clip-path=\"url(#clip042)\" cx=\"985.862\" cy=\"1371.79\" r=\"14\" fill=\"#009af9\" fill-rule=\"evenodd\" fill-opacity=\"1\" stroke=\"#000000\" stroke-opacity=\"1\" stroke-width=\"3.2\"/>\n",
       "<circle clip-path=\"url(#clip042)\" cx=\"1021.09\" cy=\"1391.41\" r=\"14\" fill=\"#009af9\" fill-rule=\"evenodd\" fill-opacity=\"1\" stroke=\"#000000\" stroke-opacity=\"1\" stroke-width=\"3.2\"/>\n",
       "<circle clip-path=\"url(#clip042)\" cx=\"1056.32\" cy=\"1408\" r=\"14\" fill=\"#009af9\" fill-rule=\"evenodd\" fill-opacity=\"1\" stroke=\"#000000\" stroke-opacity=\"1\" stroke-width=\"3.2\"/>\n",
       "<circle clip-path=\"url(#clip042)\" cx=\"1091.55\" cy=\"1421.58\" r=\"14\" fill=\"#009af9\" fill-rule=\"evenodd\" fill-opacity=\"1\" stroke=\"#000000\" stroke-opacity=\"1\" stroke-width=\"3.2\"/>\n",
       "<circle clip-path=\"url(#clip042)\" cx=\"1126.78\" cy=\"1432.14\" r=\"14\" fill=\"#009af9\" fill-rule=\"evenodd\" fill-opacity=\"1\" stroke=\"#000000\" stroke-opacity=\"1\" stroke-width=\"3.2\"/>\n",
       "<circle clip-path=\"url(#clip042)\" cx=\"1162.01\" cy=\"1439.68\" r=\"14\" fill=\"#009af9\" fill-rule=\"evenodd\" fill-opacity=\"1\" stroke=\"#000000\" stroke-opacity=\"1\" stroke-width=\"3.2\"/>\n",
       "<circle clip-path=\"url(#clip042)\" cx=\"1197.24\" cy=\"1444.21\" r=\"14\" fill=\"#009af9\" fill-rule=\"evenodd\" fill-opacity=\"1\" stroke=\"#000000\" stroke-opacity=\"1\" stroke-width=\"3.2\"/>\n",
       "<circle clip-path=\"url(#clip042)\" cx=\"1232.47\" cy=\"1445.72\" r=\"14\" fill=\"#009af9\" fill-rule=\"evenodd\" fill-opacity=\"1\" stroke=\"#000000\" stroke-opacity=\"1\" stroke-width=\"3.2\"/>\n",
       "<circle clip-path=\"url(#clip042)\" cx=\"1267.7\" cy=\"1444.21\" r=\"14\" fill=\"#009af9\" fill-rule=\"evenodd\" fill-opacity=\"1\" stroke=\"#000000\" stroke-opacity=\"1\" stroke-width=\"3.2\"/>\n",
       "<circle clip-path=\"url(#clip042)\" cx=\"1302.92\" cy=\"1439.68\" r=\"14\" fill=\"#009af9\" fill-rule=\"evenodd\" fill-opacity=\"1\" stroke=\"#000000\" stroke-opacity=\"1\" stroke-width=\"3.2\"/>\n",
       "<circle clip-path=\"url(#clip042)\" cx=\"1338.15\" cy=\"1432.14\" r=\"14\" fill=\"#009af9\" fill-rule=\"evenodd\" fill-opacity=\"1\" stroke=\"#000000\" stroke-opacity=\"1\" stroke-width=\"3.2\"/>\n",
       "<circle clip-path=\"url(#clip042)\" cx=\"1373.38\" cy=\"1421.58\" r=\"14\" fill=\"#009af9\" fill-rule=\"evenodd\" fill-opacity=\"1\" stroke=\"#000000\" stroke-opacity=\"1\" stroke-width=\"3.2\"/>\n",
       "<circle clip-path=\"url(#clip042)\" cx=\"1408.61\" cy=\"1408\" r=\"14\" fill=\"#009af9\" fill-rule=\"evenodd\" fill-opacity=\"1\" stroke=\"#000000\" stroke-opacity=\"1\" stroke-width=\"3.2\"/>\n",
       "<circle clip-path=\"url(#clip042)\" cx=\"1443.84\" cy=\"1391.41\" r=\"14\" fill=\"#009af9\" fill-rule=\"evenodd\" fill-opacity=\"1\" stroke=\"#000000\" stroke-opacity=\"1\" stroke-width=\"3.2\"/>\n",
       "<circle clip-path=\"url(#clip042)\" cx=\"1479.07\" cy=\"1371.79\" r=\"14\" fill=\"#009af9\" fill-rule=\"evenodd\" fill-opacity=\"1\" stroke=\"#000000\" stroke-opacity=\"1\" stroke-width=\"3.2\"/>\n",
       "<circle clip-path=\"url(#clip042)\" cx=\"1514.3\" cy=\"1349.17\" r=\"14\" fill=\"#009af9\" fill-rule=\"evenodd\" fill-opacity=\"1\" stroke=\"#000000\" stroke-opacity=\"1\" stroke-width=\"3.2\"/>\n",
       "<circle clip-path=\"url(#clip042)\" cx=\"1549.53\" cy=\"1323.52\" r=\"14\" fill=\"#009af9\" fill-rule=\"evenodd\" fill-opacity=\"1\" stroke=\"#000000\" stroke-opacity=\"1\" stroke-width=\"3.2\"/>\n",
       "<circle clip-path=\"url(#clip042)\" cx=\"1584.76\" cy=\"1294.86\" r=\"14\" fill=\"#009af9\" fill-rule=\"evenodd\" fill-opacity=\"1\" stroke=\"#000000\" stroke-opacity=\"1\" stroke-width=\"3.2\"/>\n",
       "<circle clip-path=\"url(#clip042)\" cx=\"1619.99\" cy=\"1263.18\" r=\"14\" fill=\"#009af9\" fill-rule=\"evenodd\" fill-opacity=\"1\" stroke=\"#000000\" stroke-opacity=\"1\" stroke-width=\"3.2\"/>\n",
       "<circle clip-path=\"url(#clip042)\" cx=\"1655.22\" cy=\"1228.48\" r=\"14\" fill=\"#009af9\" fill-rule=\"evenodd\" fill-opacity=\"1\" stroke=\"#000000\" stroke-opacity=\"1\" stroke-width=\"3.2\"/>\n",
       "<circle clip-path=\"url(#clip042)\" cx=\"1690.45\" cy=\"1190.76\" r=\"14\" fill=\"#009af9\" fill-rule=\"evenodd\" fill-opacity=\"1\" stroke=\"#000000\" stroke-opacity=\"1\" stroke-width=\"3.2\"/>\n",
       "<circle clip-path=\"url(#clip042)\" cx=\"1725.68\" cy=\"1150.03\" r=\"14\" fill=\"#009af9\" fill-rule=\"evenodd\" fill-opacity=\"1\" stroke=\"#000000\" stroke-opacity=\"1\" stroke-width=\"3.2\"/>\n",
       "<circle clip-path=\"url(#clip042)\" cx=\"1760.9\" cy=\"1106.28\" r=\"14\" fill=\"#009af9\" fill-rule=\"evenodd\" fill-opacity=\"1\" stroke=\"#000000\" stroke-opacity=\"1\" stroke-width=\"3.2\"/>\n",
       "<circle clip-path=\"url(#clip042)\" cx=\"1796.13\" cy=\"1059.51\" r=\"14\" fill=\"#009af9\" fill-rule=\"evenodd\" fill-opacity=\"1\" stroke=\"#000000\" stroke-opacity=\"1\" stroke-width=\"3.2\"/>\n",
       "<circle clip-path=\"url(#clip042)\" cx=\"1831.36\" cy=\"1009.73\" r=\"14\" fill=\"#009af9\" fill-rule=\"evenodd\" fill-opacity=\"1\" stroke=\"#000000\" stroke-opacity=\"1\" stroke-width=\"3.2\"/>\n",
       "<circle clip-path=\"url(#clip042)\" cx=\"1866.59\" cy=\"956.93\" r=\"14\" fill=\"#009af9\" fill-rule=\"evenodd\" fill-opacity=\"1\" stroke=\"#000000\" stroke-opacity=\"1\" stroke-width=\"3.2\"/>\n",
       "<circle clip-path=\"url(#clip042)\" cx=\"1901.82\" cy=\"901.111\" r=\"14\" fill=\"#009af9\" fill-rule=\"evenodd\" fill-opacity=\"1\" stroke=\"#000000\" stroke-opacity=\"1\" stroke-width=\"3.2\"/>\n",
       "<circle clip-path=\"url(#clip042)\" cx=\"1937.05\" cy=\"842.276\" r=\"14\" fill=\"#009af9\" fill-rule=\"evenodd\" fill-opacity=\"1\" stroke=\"#000000\" stroke-opacity=\"1\" stroke-width=\"3.2\"/>\n",
       "<circle clip-path=\"url(#clip042)\" cx=\"1972.28\" cy=\"780.423\" r=\"14\" fill=\"#009af9\" fill-rule=\"evenodd\" fill-opacity=\"1\" stroke=\"#000000\" stroke-opacity=\"1\" stroke-width=\"3.2\"/>\n",
       "<circle clip-path=\"url(#clip042)\" cx=\"2007.51\" cy=\"715.554\" r=\"14\" fill=\"#009af9\" fill-rule=\"evenodd\" fill-opacity=\"1\" stroke=\"#000000\" stroke-opacity=\"1\" stroke-width=\"3.2\"/>\n",
       "<circle clip-path=\"url(#clip042)\" cx=\"2042.74\" cy=\"647.667\" r=\"14\" fill=\"#009af9\" fill-rule=\"evenodd\" fill-opacity=\"1\" stroke=\"#000000\" stroke-opacity=\"1\" stroke-width=\"3.2\"/>\n",
       "<circle clip-path=\"url(#clip042)\" cx=\"2077.97\" cy=\"576.762\" r=\"14\" fill=\"#009af9\" fill-rule=\"evenodd\" fill-opacity=\"1\" stroke=\"#000000\" stroke-opacity=\"1\" stroke-width=\"3.2\"/>\n",
       "<circle clip-path=\"url(#clip042)\" cx=\"2113.2\" cy=\"502.841\" r=\"14\" fill=\"#009af9\" fill-rule=\"evenodd\" fill-opacity=\"1\" stroke=\"#000000\" stroke-opacity=\"1\" stroke-width=\"3.2\"/>\n",
       "<circle clip-path=\"url(#clip042)\" cx=\"2148.43\" cy=\"425.903\" r=\"14\" fill=\"#009af9\" fill-rule=\"evenodd\" fill-opacity=\"1\" stroke=\"#000000\" stroke-opacity=\"1\" stroke-width=\"3.2\"/>\n",
       "<circle clip-path=\"url(#clip042)\" cx=\"2183.66\" cy=\"345.947\" r=\"14\" fill=\"#009af9\" fill-rule=\"evenodd\" fill-opacity=\"1\" stroke=\"#000000\" stroke-opacity=\"1\" stroke-width=\"3.2\"/>\n",
       "<circle clip-path=\"url(#clip042)\" cx=\"2218.88\" cy=\"262.974\" r=\"14\" fill=\"#009af9\" fill-rule=\"evenodd\" fill-opacity=\"1\" stroke=\"#000000\" stroke-opacity=\"1\" stroke-width=\"3.2\"/>\n",
       "<circle clip-path=\"url(#clip042)\" cx=\"2254.11\" cy=\"176.984\" r=\"14\" fill=\"#009af9\" fill-rule=\"evenodd\" fill-opacity=\"1\" stroke=\"#000000\" stroke-opacity=\"1\" stroke-width=\"3.2\"/>\n",
       "<circle clip-path=\"url(#clip042)\" cx=\"2289.34\" cy=\"87.9763\" r=\"14\" fill=\"#009af9\" fill-rule=\"evenodd\" fill-opacity=\"1\" stroke=\"#000000\" stroke-opacity=\"1\" stroke-width=\"3.2\"/>\n",
       "<path clip-path=\"url(#clip040)\" d=\"\n",
       "M1978.1 216.178 L2278.07 216.178 L2278.07 95.2176 L1978.1 95.2176  Z\n",
       "  \" fill=\"#ffffff\" fill-rule=\"evenodd\" fill-opacity=\"1\"/>\n",
       "<polyline clip-path=\"url(#clip040)\" style=\"stroke:#000000; stroke-width:4; stroke-opacity:1; fill:none\" points=\"\n",
       "  1978.1,216.178 2278.07,216.178 2278.07,95.2176 1978.1,95.2176 1978.1,216.178 \n",
       "  \"/>\n",
       "<circle clip-path=\"url(#clip040)\" cx=\"2077.68\" cy=\"155.698\" r=\"23\" fill=\"#009af9\" fill-rule=\"evenodd\" fill-opacity=\"1\" stroke=\"#000000\" stroke-opacity=\"1\" stroke-width=\"5.12\"/>\n",
       "<path clip-path=\"url(#clip040)\" d=\"M 0 0 M2191.1 175.385 Q2189.3 180.015 2187.59 181.427 Q2185.87 182.839 2183 182.839 L2179.6 182.839 L2179.6 179.274 L2182.1 179.274 Q2183.86 179.274 2184.83 178.44 Q2185.8 177.607 2186.98 174.505 L2187.75 172.561 L2177.26 147.052 L2181.77 147.052 L2189.88 167.329 L2197.98 147.052 L2202.49 147.052 L2191.1 175.385 Z\" fill=\"#000000\" fill-rule=\"evenodd\" fill-opacity=\"1\" /><path clip-path=\"url(#clip040)\" d=\"M 0 0 M2208.37 169.042 L2216.01 169.042 L2216.01 142.677 L2207.7 144.343 L2207.7 140.084 L2215.96 138.418 L2220.64 138.418 L2220.64 169.042 L2228.28 169.042 L2228.28 172.978 L2208.37 172.978 L2208.37 169.042 Z\" fill=\"#000000\" fill-rule=\"evenodd\" fill-opacity=\"1\" /></svg>\n"
      ]
     },
     "execution_count": 15,
     "metadata": {},
     "output_type": "execute_result"
    }
   ],
   "source": [
    "plot(x,y)\n",
    "scatter(x,y)"
   ]
  },
  {
   "cell_type": "code",
   "execution_count": 126,
   "metadata": {},
   "outputs": [
    {
     "ename": "BoundsError",
     "evalue": "BoundsError: attempt to access 3-element Array{Float64,1} at index [1:61]",
     "output_type": "error",
     "traceback": [
      "BoundsError: attempt to access 3-element Array{Float64,1} at index [1:61]",
      "",
      "Stacktrace:",
      " [1] throw_boundserror(::Array{Float64,1}, ::Tuple{UnitRange{Int64}}) at .\\abstractarray.jl:541",
      " [2] checkbounds at .\\abstractarray.jl:506 [inlined]",
      " [3] getindex(::Array{Float64,1}, ::UnitRange{Int64}) at .\\array.jl:815",
      " [4] plotly_series_segments(::Plots.Series, ::Dict{Symbol,Any}, ::Array{Float64,1}, ::Array{Float64,1}, ::Nothing, ::Tuple{Float64,Float64}) at C:\\Users\\i am\\.julia\\packages\\Plots\\M1wcx\\src\\backends\\plotly.jl:724",
      " [5] plotly_series(::Plots.Plot{Plots.PlotlyJSBackend}, ::Plots.Series) at C:\\Users\\i am\\.julia\\packages\\Plots\\M1wcx\\src\\backends\\plotly.jl:545",
      " [6] plotly_series(::Plots.Plot{Plots.PlotlyJSBackend}) at C:\\Users\\i am\\.julia\\packages\\Plots\\M1wcx\\src\\backends\\plotly.jl:863",
      " [7] plotly_series_json at C:\\Users\\i am\\.julia\\packages\\Plots\\M1wcx\\src\\backends\\plotly.jl:869 [inlined]",
      " [8] plotly_html_body(::Plots.Plot{Plots.PlotlyJSBackend}, ::Nothing) at C:\\Users\\i am\\.julia\\packages\\Plots\\M1wcx\\src\\backends\\plotly.jl:909",
      " [9] plotly_html_body at C:\\Users\\i am\\.julia\\packages\\Plots\\M1wcx\\src\\backends\\plotly.jl:904 [inlined]",
      " [10] html_body at C:\\Users\\i am\\.julia\\packages\\Plots\\M1wcx\\src\\backends\\plotlyjs.jl:35 [inlined]",
      " [11] standalone_html(::Plots.Plot{Plots.PlotlyJSBackend}; title::String) at C:\\Users\\i am\\.julia\\packages\\Plots\\M1wcx\\src\\backends\\web.jl:7",
      " [12] standalone_html(::Plots.Plot{Plots.PlotlyJSBackend}) at C:\\Users\\i am\\.julia\\packages\\Plots\\M1wcx\\src\\backends\\web.jl:7",
      " [13] _show at C:\\Users\\i am\\.julia\\packages\\Plots\\M1wcx\\src\\backends\\plotlyjs.jl:37 [inlined]",
      " [14] show(::Base.GenericIOBuffer{Array{UInt8,1}}, ::MIME{Symbol(\"text/html\")}, ::Plots.Plot{Plots.PlotlyJSBackend}) at C:\\Users\\i am\\.julia\\packages\\Plots\\M1wcx\\src\\output.jl:215",
      " [15] sprint(::Function, ::MIME{Symbol(\"text/html\")}, ::Vararg{Any,N} where N; context::Nothing, sizehint::Int64) at .\\strings\\io.jl:105",
      " [16] sprint at .\\strings\\io.jl:101 [inlined]",
      " [17] _ijulia_display_dict(::Plots.Plot{Plots.PlotlyJSBackend}) at C:\\Users\\i am\\.julia\\packages\\Plots\\M1wcx\\src\\ijulia.jl:56",
      " [18] display_dict(::Plots.Plot{Plots.PlotlyJSBackend}) at C:\\Users\\i am\\.julia\\packages\\Plots\\M1wcx\\src\\init.jl:73",
      " [19] #invokelatest#1 at .\\essentials.jl:710 [inlined]",
      " [20] invokelatest at .\\essentials.jl:709 [inlined]",
      " [21] execute_request(::ZMQ.Socket, ::IJulia.Msg) at C:\\Users\\i am\\.julia\\packages\\IJulia\\tOM8L\\src\\execute_request.jl:112",
      " [22] #invokelatest#1 at .\\essentials.jl:710 [inlined]",
      " [23] invokelatest at .\\essentials.jl:709 [inlined]",
      " [24] eventloop(::ZMQ.Socket) at C:\\Users\\i am\\.julia\\packages\\IJulia\\tOM8L\\src\\eventloop.jl:8",
      " [25] (::IJulia.var\"#15#18\")() at .\\task.jl:356"
     ]
    }
   ],
   "source": [
    "plotlyjs()\n",
    "plot(x,y)\n",
    "scatter!(x,y)"
   ]
  },
  {
   "cell_type": "code",
   "execution_count": 27,
   "metadata": {},
   "outputs": [
    {
     "data": {
      "application/vnd.plotly.v1+json": {
       "data": [
        {
         "colorbar": {
          "title": ""
         },
         "legendgroup": "line",
         "line": {
          "color": "rgba(0, 154, 250, 1.000)",
          "dash": "solid",
          "shape": "linear",
          "width": 1
         },
         "mode": "lines",
         "name": "line",
         "showlegend": true,
         "type": "scatter",
         "x": [
          45000,
          20000,
          15000,
          5000,
          400,
          17
         ],
         "xaxis": "x1",
         "y": [
          14.4,
          14.5,
          14.8,
          15.2,
          15.5,
          15.8
         ],
         "yaxis": "y1",
         "zmax": null,
         "zmin": null
        },
        {
         "colorbar": {
          "title": ""
         },
         "legendgroup": "points",
         "marker": {
          "color": "rgba(227, 111, 71, 1.000)",
          "line": {
           "color": "rgba(0, 0, 0, 1.000)",
           "width": 1
          },
          "size": 8,
          "symbol": "circle"
         },
         "mode": "markers",
         "name": "points",
         "showlegend": true,
         "type": "scatter",
         "x": [
          45000,
          20000,
          15000,
          5000,
          400,
          17
         ],
         "xaxis": "x1",
         "y": [
          14.4,
          14.5,
          14.8,
          15.2,
          15.5,
          15.8
         ],
         "yaxis": "y1",
         "zmax": null,
         "zmin": null
        }
       ],
       "layout": {
        "annotations": [
         {
          "font": {
           "color": "rgba(0, 0, 0, 1.000)",
           "family": "sans-serif",
           "size": 20
          },
          "rotation": 0,
          "showarrow": false,
          "text": "Influence of pirate population on global warming",
          "x": 0.5497685185185185,
          "xanchor": "center",
          "xref": "paper",
          "y": 1,
          "yanchor": "top",
          "yref": "paper"
         }
        ],
        "height": 400,
        "legend": {
         "bgcolor": "rgba(255, 255, 255, 1.000)",
         "bordercolor": "rgba(0, 0, 0, 1.000)",
         "borderwidth": 1,
         "font": {
          "color": "rgba(0, 0, 0, 1.000)",
          "family": "sans-serif",
          "size": 11
         },
         "tracegroupgap": 0,
         "traceorder": "normal",
         "x": 1,
         "xanchor": "auto",
         "y": 1,
         "yanchor": "auto"
        },
        "margin": {
         "b": 20,
         "l": 0,
         "r": 0,
         "t": 20
        },
        "paper_bgcolor": "rgba(255, 255, 255, 1.000)",
        "plot_bgcolor": "rgba(255, 255, 255, 1.000)",
        "showlegend": true,
        "width": 600,
        "xaxis": {
         "anchor": "y1",
         "domain": [
          0.10609871682706327,
          0.9934383202099737
         ],
         "gridcolor": "rgba(0, 0, 0, 0.100)",
         "gridwidth": 0.5,
         "linecolor": "rgba(0, 0, 0, 1.000)",
         "mirror": false,
         "range": [
          46349.49,
          -1332.49
         ],
         "showgrid": true,
         "showline": true,
         "showticklabels": true,
         "tickangle": 0,
         "tickcolor": "rgb(0, 0, 0)",
         "tickfont": {
          "color": "rgba(0, 0, 0, 1.000)",
          "family": "sans-serif",
          "size": 11
         },
         "tickmode": "array",
         "ticks": "inside",
         "ticktext": [
          "0",
          "1×10⁴",
          "2×10⁴",
          "3×10⁴",
          "4×10⁴"
         ],
         "tickvals": [
          0,
          10000,
          20000,
          30000,
          40000
         ],
         "title": "Number of Pirates [Approximate]",
         "titlefont": {
          "color": "rgba(0, 0, 0, 1.000)",
          "family": "sans-serif",
          "size": 15
         },
         "type": "-",
         "visible": true,
         "zeroline": false,
         "zerolinecolor": "rgba(0, 0, 0, 1.000)"
        },
        "yaxis": {
         "anchor": "x1",
         "domain": [
          0.07581474190726165,
          0.9415463692038496
         ],
         "gridcolor": "rgba(0, 0, 0, 0.100)",
         "gridwidth": 0.5,
         "linecolor": "rgba(0, 0, 0, 1.000)",
         "mirror": false,
         "range": [
          14.358,
          15.842
         ],
         "showgrid": true,
         "showline": true,
         "showticklabels": true,
         "tickangle": 0,
         "tickcolor": "rgb(0, 0, 0)",
         "tickfont": {
          "color": "rgba(0, 0, 0, 1.000)",
          "family": "sans-serif",
          "size": 11
         },
         "tickmode": "array",
         "ticks": "inside",
         "ticktext": [
          "14.50",
          "14.75",
          "15.00",
          "15.25",
          "15.50",
          "15.75"
         ],
         "tickvals": [
          14.5,
          14.75,
          15,
          15.25,
          15.5,
          15.75
         ],
         "title": "Global Temperature (C)",
         "titlefont": {
          "color": "rgba(0, 0, 0, 1.000)",
          "family": "sans-serif",
          "size": 15
         },
         "type": "-",
         "visible": true,
         "zeroline": false,
         "zerolinecolor": "rgba(0, 0, 0, 1.000)"
        }
       }
      },
      "text/html": [
       "<!DOCTYPE html>\n",
       "<html>\n",
       "    <head>\n",
       "        <title>Plots.jl</title>\n",
       "        <meta http-equiv=\"content-type\" content=\"text/html; charset=UTF-8\">\n",
       "        <script src=\"https://cdn.plot.ly/plotly-1.54.2.min.js\"></script>\n",
       "    </head>\n",
       "    <body>\n",
       "            <div id=\"209d7e3a-e236-43a5-bfc1-3f4e183f76f4\" style=\"width:600px;height:400px;\"></div>\n",
       "    <script>\n",
       "    PLOT = document.getElementById('209d7e3a-e236-43a5-bfc1-3f4e183f76f4');\n",
       "    Plotly.plot(PLOT, [\n",
       "    {\n",
       "        \"xaxis\": \"x1\",\n",
       "        \"colorbar\": {\n",
       "            \"title\": \"\"\n",
       "        },\n",
       "        \"yaxis\": \"y1\",\n",
       "        \"x\": [\n",
       "            45000.0,\n",
       "            20000.0,\n",
       "            15000.0,\n",
       "            5000.0,\n",
       "            400.0,\n",
       "            17.0\n",
       "        ],\n",
       "        \"showlegend\": true,\n",
       "        \"mode\": \"lines\",\n",
       "        \"name\": \"line\",\n",
       "        \"zmin\": null,\n",
       "        \"legendgroup\": \"line\",\n",
       "        \"zmax\": null,\n",
       "        \"line\": {\n",
       "            \"color\": \"rgba(0, 154, 250, 1.000)\",\n",
       "            \"shape\": \"linear\",\n",
       "            \"dash\": \"solid\",\n",
       "            \"width\": 1\n",
       "        },\n",
       "        \"y\": [\n",
       "            14.4,\n",
       "            14.5,\n",
       "            14.8,\n",
       "            15.2,\n",
       "            15.5,\n",
       "            15.8\n",
       "        ],\n",
       "        \"type\": \"scatter\"\n",
       "    },\n",
       "    {\n",
       "        \"xaxis\": \"x1\",\n",
       "        \"colorbar\": {\n",
       "            \"title\": \"\"\n",
       "        },\n",
       "        \"yaxis\": \"y1\",\n",
       "        \"x\": [\n",
       "            45000.0,\n",
       "            20000.0,\n",
       "            15000.0,\n",
       "            5000.0,\n",
       "            400.0,\n",
       "            17.0\n",
       "        ],\n",
       "        \"showlegend\": true,\n",
       "        \"mode\": \"markers\",\n",
       "        \"name\": \"points\",\n",
       "        \"zmin\": null,\n",
       "        \"legendgroup\": \"points\",\n",
       "        \"marker\": {\n",
       "            \"symbol\": \"circle\",\n",
       "            \"color\": \"rgba(227, 111, 71, 1.000)\",\n",
       "            \"line\": {\n",
       "                \"color\": \"rgba(0, 0, 0, 1.000)\",\n",
       "                \"width\": 1\n",
       "            },\n",
       "            \"size\": 8\n",
       "        },\n",
       "        \"zmax\": null,\n",
       "        \"y\": [\n",
       "            14.4,\n",
       "            14.5,\n",
       "            14.8,\n",
       "            15.2,\n",
       "            15.5,\n",
       "            15.8\n",
       "        ],\n",
       "        \"type\": \"scatter\"\n",
       "    }\n",
       "]\n",
       ", {\n",
       "    \"showlegend\": true,\n",
       "    \"xaxis\": {\n",
       "        \"showticklabels\": true,\n",
       "        \"gridwidth\": 0.5,\n",
       "        \"tickvals\": [\n",
       "            0.0,\n",
       "            10000.0,\n",
       "            20000.0,\n",
       "            30000.0,\n",
       "            40000.0\n",
       "        ],\n",
       "        \"visible\": true,\n",
       "        \"ticks\": \"inside\",\n",
       "        \"range\": [\n",
       "            46349.49,\n",
       "            -1332.49\n",
       "        ],\n",
       "        \"domain\": [\n",
       "            0.10609871682706327,\n",
       "            0.9934383202099737\n",
       "        ],\n",
       "        \"tickmode\": \"array\",\n",
       "        \"linecolor\": \"rgba(0, 0, 0, 1.000)\",\n",
       "        \"showgrid\": true,\n",
       "        \"title\": \"Number of Pirates [Approximate]\",\n",
       "        \"mirror\": false,\n",
       "        \"tickangle\": 0,\n",
       "        \"showline\": true,\n",
       "        \"gridcolor\": \"rgba(0, 0, 0, 0.100)\",\n",
       "        \"titlefont\": {\n",
       "            \"color\": \"rgba(0, 0, 0, 1.000)\",\n",
       "            \"family\": \"sans-serif\",\n",
       "            \"size\": 15\n",
       "        },\n",
       "        \"tickcolor\": \"rgb(0, 0, 0)\",\n",
       "        \"ticktext\": [\n",
       "            \"0\",\n",
       "            \"1×10⁴\",\n",
       "            \"2×10⁴\",\n",
       "            \"3×10⁴\",\n",
       "            \"4×10⁴\"\n",
       "        ],\n",
       "        \"zeroline\": false,\n",
       "        \"type\": \"-\",\n",
       "        \"tickfont\": {\n",
       "            \"color\": \"rgba(0, 0, 0, 1.000)\",\n",
       "            \"family\": \"sans-serif\",\n",
       "            \"size\": 11\n",
       "        },\n",
       "        \"zerolinecolor\": \"rgba(0, 0, 0, 1.000)\",\n",
       "        \"anchor\": \"y1\"\n",
       "    },\n",
       "    \"paper_bgcolor\": \"rgba(255, 255, 255, 1.000)\",\n",
       "    \"annotations\": [\n",
       "        {\n",
       "            \"yanchor\": \"top\",\n",
       "            \"xanchor\": \"center\",\n",
       "            \"rotation\": -0.0,\n",
       "            \"y\": 1.0,\n",
       "            \"font\": {\n",
       "                \"color\": \"rgba(0, 0, 0, 1.000)\",\n",
       "                \"family\": \"sans-serif\",\n",
       "                \"size\": 20\n",
       "            },\n",
       "            \"yref\": \"paper\",\n",
       "            \"showarrow\": false,\n",
       "            \"text\": \"Influence of pirate population on global warming\",\n",
       "            \"xref\": \"paper\",\n",
       "            \"x\": 0.5497685185185185\n",
       "        }\n",
       "    ],\n",
       "    \"height\": 400,\n",
       "    \"margin\": {\n",
       "        \"l\": 0,\n",
       "        \"b\": 20,\n",
       "        \"r\": 0,\n",
       "        \"t\": 20\n",
       "    },\n",
       "    \"plot_bgcolor\": \"rgba(255, 255, 255, 1.000)\",\n",
       "    \"yaxis\": {\n",
       "        \"showticklabels\": true,\n",
       "        \"gridwidth\": 0.5,\n",
       "        \"tickvals\": [\n",
       "            14.5,\n",
       "            14.75,\n",
       "            15.0,\n",
       "            15.25,\n",
       "            15.5,\n",
       "            15.75\n",
       "        ],\n",
       "        \"visible\": true,\n",
       "        \"ticks\": \"inside\",\n",
       "        \"range\": [\n",
       "            14.358,\n",
       "            15.842\n",
       "        ],\n",
       "        \"domain\": [\n",
       "            0.07581474190726165,\n",
       "            0.9415463692038496\n",
       "        ],\n",
       "        \"tickmode\": \"array\",\n",
       "        \"linecolor\": \"rgba(0, 0, 0, 1.000)\",\n",
       "        \"showgrid\": true,\n",
       "        \"title\": \"Global Temperature (C)\",\n",
       "        \"mirror\": false,\n",
       "        \"tickangle\": 0,\n",
       "        \"showline\": true,\n",
       "        \"gridcolor\": \"rgba(0, 0, 0, 0.100)\",\n",
       "        \"titlefont\": {\n",
       "            \"color\": \"rgba(0, 0, 0, 1.000)\",\n",
       "            \"family\": \"sans-serif\",\n",
       "            \"size\": 15\n",
       "        },\n",
       "        \"tickcolor\": \"rgb(0, 0, 0)\",\n",
       "        \"ticktext\": [\n",
       "            \"14.50\",\n",
       "            \"14.75\",\n",
       "            \"15.00\",\n",
       "            \"15.25\",\n",
       "            \"15.50\",\n",
       "            \"15.75\"\n",
       "        ],\n",
       "        \"zeroline\": false,\n",
       "        \"type\": \"-\",\n",
       "        \"tickfont\": {\n",
       "            \"color\": \"rgba(0, 0, 0, 1.000)\",\n",
       "            \"family\": \"sans-serif\",\n",
       "            \"size\": 11\n",
       "        },\n",
       "        \"zerolinecolor\": \"rgba(0, 0, 0, 1.000)\",\n",
       "        \"anchor\": \"x1\"\n",
       "    },\n",
       "    \"legend\": {\n",
       "        \"yanchor\": \"auto\",\n",
       "        \"xanchor\": \"auto\",\n",
       "        \"bordercolor\": \"rgba(0, 0, 0, 1.000)\",\n",
       "        \"bgcolor\": \"rgba(255, 255, 255, 1.000)\",\n",
       "        \"font\": {\n",
       "            \"color\": \"rgba(0, 0, 0, 1.000)\",\n",
       "            \"family\": \"sans-serif\",\n",
       "            \"size\": 11\n",
       "        },\n",
       "        \"tracegroupgap\": 0,\n",
       "        \"y\": 1.0,\n",
       "        \"borderwidth\": 1,\n",
       "        \"traceorder\": \"normal\",\n",
       "        \"x\": 1.0\n",
       "    },\n",
       "    \"width\": 600\n",
       "}\n",
       ");\n",
       "    </script>\n",
       "\n",
       "    </body>\n",
       "</html>\n"
      ]
     },
     "execution_count": 27,
     "metadata": {},
     "output_type": "execute_result"
    }
   ],
   "source": [
    "globaltemperatures = [14.4, 14.5, 14.8, 15.2, 15.5, 15.8]\n",
    "numpirates = [45000, 20000, 15000, 5000, 400, 17];\n",
    "plot(numpirates, globaltemperatures,  label=\"line\")\n",
    "scatter!(numpirates, globaltemperatures, label=\"points\")\n",
    "xflip!()\n",
    "xlabel!(\"Number of Pirates [Approximate]\")\n",
    "ylabel!(\"Global Temperature (C)\")\n",
    "title!(\"Influence of pirate population on global warming\")"
   ]
  },
  {
   "cell_type": "code",
   "execution_count": 34,
   "metadata": {},
   "outputs": [
    {
     "data": {
      "application/vnd.plotly.v1+json": {
       "data": [
        {
         "colorbar": {
          "title": ""
         },
         "legendgroup": "y1",
         "line": {
          "color": "rgba(0, 154, 250, 1.000)",
          "dash": "solid",
          "shape": "linear",
          "width": 1
         },
         "mode": "lines",
         "name": "y1",
         "showlegend": true,
         "type": "scatter",
         "x": [
          -3,
          -2.9,
          -2.8,
          -2.7,
          -2.6,
          -2.5,
          -2.4,
          -2.3,
          -2.2,
          -2.1,
          -2,
          -1.9,
          -1.8,
          -1.7,
          -1.6,
          -1.5,
          -1.4,
          -1.3,
          -1.2,
          -1.1,
          -1,
          -0.9,
          -0.8,
          -0.7,
          -0.6,
          -0.5,
          -0.4,
          -0.3,
          -0.2,
          -0.1,
          0,
          0.1,
          0.2,
          0.3,
          0.4,
          0.5,
          0.6,
          0.7,
          0.8,
          0.9,
          1,
          1.1,
          1.2,
          1.3,
          1.4,
          1.5,
          1.6,
          1.7,
          1.8,
          1.9,
          2,
          2.1,
          2.2,
          2.3,
          2.4,
          2.5,
          2.6,
          2.7,
          2.8,
          2.9,
          3
         ],
         "xaxis": "x1",
         "y": [
          -3,
          -2.9,
          -2.8,
          -2.7,
          -2.6,
          -2.5,
          -2.4,
          -2.3,
          -2.2,
          -2.1,
          -2,
          -1.9,
          -1.8,
          -1.7,
          -1.6,
          -1.5,
          -1.4,
          -1.3,
          -1.2,
          -1.1,
          -1,
          -0.9,
          -0.8,
          -0.7,
          -0.6,
          -0.5,
          -0.4,
          -0.3,
          -0.2,
          -0.1,
          0,
          0.1,
          0.2,
          0.3,
          0.4,
          0.5,
          0.6,
          0.7,
          0.8,
          0.9,
          1,
          1.1,
          1.2,
          1.3,
          1.4,
          1.5,
          1.6,
          1.7,
          1.8,
          1.9,
          2,
          2.1,
          2.2,
          2.3,
          2.4,
          2.5,
          2.6,
          2.7,
          2.8,
          2.9,
          3
         ],
         "yaxis": "y1",
         "zmax": null,
         "zmin": null
        },
        {
         "colorbar": {
          "title": ""
         },
         "legendgroup": "y1",
         "line": {
          "color": "rgba(0, 154, 250, 1.000)",
          "dash": "solid",
          "shape": "linear",
          "width": 1
         },
         "mode": "lines",
         "name": "y1",
         "showlegend": true,
         "type": "scatter",
         "x": [
          -3,
          -2.9,
          -2.8,
          -2.7,
          -2.6,
          -2.5,
          -2.4,
          -2.3,
          -2.2,
          -2.1,
          -2,
          -1.9,
          -1.8,
          -1.7,
          -1.6,
          -1.5,
          -1.4,
          -1.3,
          -1.2,
          -1.1,
          -1,
          -0.9,
          -0.8,
          -0.7,
          -0.6,
          -0.5,
          -0.4,
          -0.3,
          -0.2,
          -0.1,
          0,
          0.1,
          0.2,
          0.3,
          0.4,
          0.5,
          0.6,
          0.7,
          0.8,
          0.9,
          1,
          1.1,
          1.2,
          1.3,
          1.4,
          1.5,
          1.6,
          1.7,
          1.8,
          1.9,
          2,
          2.1,
          2.2,
          2.3,
          2.4,
          2.5,
          2.6,
          2.7,
          2.8,
          2.9,
          3
         ],
         "xaxis": "x2",
         "y": [
          -6,
          -5.800000000000001,
          -5.6000000000000005,
          -5.4,
          -5.2,
          -5,
          -4.800000000000001,
          -4.6000000000000005,
          -4.4,
          -4.2,
          -4,
          -3.8000000000000003,
          -3.6,
          -3.4000000000000004,
          -3.2,
          -3,
          -2.8000000000000003,
          -2.6,
          -2.4000000000000004,
          -2.2,
          -2,
          -1.8,
          -1.6,
          -1.4000000000000001,
          -1.2000000000000002,
          -1,
          -0.8,
          -0.6000000000000001,
          -0.4,
          -0.2,
          0,
          0.2,
          0.4,
          0.6000000000000001,
          0.8,
          1,
          1.2000000000000002,
          1.4000000000000001,
          1.6,
          1.8,
          2,
          2.2,
          2.4000000000000004,
          2.6,
          2.8000000000000003,
          3,
          3.2,
          3.4000000000000004,
          3.6,
          3.8000000000000003,
          4,
          4.2,
          4.4,
          4.6000000000000005,
          4.800000000000001,
          5,
          5.2,
          5.4,
          5.6000000000000005,
          5.800000000000001,
          6
         ],
         "yaxis": "y2",
         "zmax": null,
         "zmin": null
        },
        {
         "colorbar": {
          "title": ""
         },
         "legendgroup": "y1",
         "line": {
          "color": "rgba(0, 154, 250, 1.000)",
          "dash": "solid",
          "shape": "linear",
          "width": 1
         },
         "mode": "lines",
         "name": "y1",
         "showlegend": true,
         "type": "scatter",
         "x": [
          -3,
          -2.9,
          -2.8,
          -2.7,
          -2.6,
          -2.5,
          -2.4,
          -2.3,
          -2.2,
          -2.1,
          -2,
          -1.9,
          -1.8,
          -1.7,
          -1.6,
          -1.5,
          -1.4,
          -1.3,
          -1.2,
          -1.1,
          -1,
          -0.9,
          -0.8,
          -0.7,
          -0.6,
          -0.5,
          -0.4,
          -0.3,
          -0.2,
          -0.1,
          0,
          0.1,
          0.2,
          0.3,
          0.4,
          0.5,
          0.6,
          0.7,
          0.8,
          0.9,
          1,
          1.1,
          1.2,
          1.3,
          1.4,
          1.5,
          1.6,
          1.7,
          1.8,
          1.9,
          2,
          2.1,
          2.2,
          2.3,
          2.4,
          2.5,
          2.6,
          2.7,
          2.8,
          2.9,
          3
         ],
         "xaxis": "x3",
         "y": [
          9,
          8.41,
          7.839999999999999,
          7.290000000000001,
          6.760000000000001,
          6.25,
          5.76,
          5.289999999999999,
          4.840000000000001,
          4.41,
          4,
          3.61,
          3.24,
          2.8899999999999997,
          2.5600000000000005,
          2.25,
          1.9599999999999997,
          1.6900000000000002,
          1.44,
          1.2100000000000002,
          1,
          0.81,
          0.6400000000000001,
          0.48999999999999994,
          0.36,
          0.25,
          0.16000000000000003,
          0.09,
          0.04000000000000001,
          0.010000000000000002,
          0,
          0.010000000000000002,
          0.04000000000000001,
          0.09,
          0.16000000000000003,
          0.25,
          0.36,
          0.48999999999999994,
          0.6400000000000001,
          0.81,
          1,
          1.2100000000000002,
          1.44,
          1.6900000000000002,
          1.9599999999999997,
          2.25,
          2.5600000000000005,
          2.8899999999999997,
          3.24,
          3.61,
          4,
          4.41,
          4.840000000000001,
          5.289999999999999,
          5.76,
          6.25,
          6.760000000000001,
          7.290000000000001,
          7.839999999999999,
          8.41,
          9
         ],
         "yaxis": "y3",
         "zmax": null,
         "zmin": null
        },
        {
         "colorbar": {
          "title": ""
         },
         "legendgroup": "y1",
         "line": {
          "color": "rgba(0, 154, 250, 1.000)",
          "dash": "solid",
          "shape": "linear",
          "width": 1
         },
         "mode": "lines",
         "name": "y1",
         "showlegend": true,
         "type": "scatter",
         "x": [
          -3,
          -2.9,
          -2.8,
          -2.7,
          -2.6,
          -2.5,
          -2.4,
          -2.3,
          -2.2,
          -2.1,
          -2,
          -1.9,
          -1.8,
          -1.7,
          -1.6,
          -1.5,
          -1.4,
          -1.3,
          -1.2,
          -1.1,
          -1,
          -0.9,
          -0.8,
          -0.7,
          -0.6,
          -0.5,
          -0.4,
          -0.3,
          -0.2,
          -0.1,
          0,
          0.1,
          0.2,
          0.3,
          0.4,
          0.5,
          0.6,
          0.7,
          0.8,
          0.9,
          1,
          1.1,
          1.2,
          1.3,
          1.4,
          1.5,
          1.6,
          1.7,
          1.8,
          1.9,
          2,
          2.1,
          2.2,
          2.3,
          2.4,
          2.5,
          2.6,
          2.7,
          2.8,
          2.9,
          3
         ],
         "xaxis": "x4",
         "y": [
          -27,
          -24.389,
          -21.951999999999995,
          -19.683000000000003,
          -17.576000000000004,
          -15.625,
          -13.824,
          -12.166999999999996,
          -10.648000000000003,
          -9.261000000000001,
          -8,
          -6.858999999999999,
          -5.832000000000001,
          -4.912999999999999,
          -4.096000000000001,
          -3.375,
          -2.7439999999999993,
          -2.1970000000000005,
          -1.728,
          -1.3310000000000004,
          -1,
          -0.7290000000000001,
          -0.5120000000000001,
          -0.3429999999999999,
          -0.216,
          -0.125,
          -0.06400000000000002,
          -0.027,
          -0.008000000000000002,
          -0.0010000000000000002,
          0,
          0.0010000000000000002,
          0.008000000000000002,
          0.027,
          0.06400000000000002,
          0.125,
          0.216,
          0.3429999999999999,
          0.5120000000000001,
          0.7290000000000001,
          1,
          1.3310000000000004,
          1.728,
          2.1970000000000005,
          2.7439999999999993,
          3.375,
          4.096000000000001,
          4.912999999999999,
          5.832000000000001,
          6.858999999999999,
          8,
          9.261000000000001,
          10.648000000000003,
          12.166999999999996,
          13.824,
          15.625,
          17.576000000000004,
          19.683000000000003,
          21.951999999999995,
          24.389,
          27
         ],
         "yaxis": "y4",
         "zmax": null,
         "zmin": null
        }
       ],
       "layout": {
        "annotations": [],
        "height": 400,
        "margin": {
         "b": 20,
         "l": 0,
         "r": 0,
         "t": 20
        },
        "paper_bgcolor": "rgba(255, 255, 255, 1.000)",
        "plot_bgcolor": "rgba(255, 255, 255, 1.000)",
        "showlegend": false,
        "width": 600,
        "xaxis1": {
         "anchor": "y1",
         "domain": [
          0.03619130941965587,
          0.47862350539515897
         ],
         "gridcolor": "rgba(0, 0, 0, 0.100)",
         "gridwidth": 0.5,
         "linecolor": "rgba(0, 0, 0, 1.000)",
         "mirror": false,
         "range": [
          -3.18,
          3.18
         ],
         "showgrid": true,
         "showline": true,
         "showticklabels": true,
         "tickangle": 0,
         "tickcolor": "rgb(0, 0, 0)",
         "tickfont": {
          "color": "rgba(0, 0, 0, 1.000)",
          "family": "sans-serif",
          "size": 11
         },
         "tickmode": "array",
         "ticks": "inside",
         "ticktext": [
          "-3",
          "-2",
          "-1",
          "0",
          "1",
          "2",
          "3"
         ],
         "tickvals": [
          -3,
          -2,
          -1,
          0,
          1,
          2,
          3
         ],
         "title": "",
         "titlefont": {
          "color": "rgba(0, 0, 0, 1.000)",
          "family": "sans-serif",
          "size": 15
         },
         "type": "-",
         "visible": true,
         "zeroline": false,
         "zerolinecolor": "rgba(0, 0, 0, 1.000)"
        },
        "xaxis2": {
         "anchor": "y2",
         "domain": [
          0.5510061242344707,
          0.9934383202099738
         ],
         "gridcolor": "rgba(0, 0, 0, 0.100)",
         "gridwidth": 0.5,
         "linecolor": "rgba(0, 0, 0, 1.000)",
         "mirror": false,
         "range": [
          -3.18,
          3.18
         ],
         "showgrid": true,
         "showline": true,
         "showticklabels": true,
         "tickangle": 0,
         "tickcolor": "rgb(0, 0, 0)",
         "tickfont": {
          "color": "rgba(0, 0, 0, 1.000)",
          "family": "sans-serif",
          "size": 11
         },
         "tickmode": "array",
         "ticks": "inside",
         "ticktext": [
          "-3",
          "-2",
          "-1",
          "0",
          "1",
          "2",
          "3"
         ],
         "tickvals": [
          -3,
          -2,
          -1,
          0,
          1,
          2,
          3
         ],
         "title": "",
         "titlefont": {
          "color": "rgba(0, 0, 0, 1.000)",
          "family": "sans-serif",
          "size": 15
         },
         "type": "-",
         "visible": true,
         "zeroline": false,
         "zerolinecolor": "rgba(0, 0, 0, 1.000)"
        },
        "xaxis3": {
         "anchor": "y3",
         "domain": [
          0.03619130941965587,
          0.47862350539515897
         ],
         "gridcolor": "rgba(0, 0, 0, 0.100)",
         "gridwidth": 0.5,
         "linecolor": "rgba(0, 0, 0, 1.000)",
         "mirror": false,
         "range": [
          -3.18,
          3.18
         ],
         "showgrid": true,
         "showline": true,
         "showticklabels": true,
         "tickangle": 0,
         "tickcolor": "rgb(0, 0, 0)",
         "tickfont": {
          "color": "rgba(0, 0, 0, 1.000)",
          "family": "sans-serif",
          "size": 11
         },
         "tickmode": "array",
         "ticks": "inside",
         "ticktext": [
          "-3",
          "-2",
          "-1",
          "0",
          "1",
          "2",
          "3"
         ],
         "tickvals": [
          -3,
          -2,
          -1,
          0,
          1,
          2,
          3
         ],
         "title": "",
         "titlefont": {
          "color": "rgba(0, 0, 0, 1.000)",
          "family": "sans-serif",
          "size": 15
         },
         "type": "-",
         "visible": true,
         "zeroline": false,
         "zerolinecolor": "rgba(0, 0, 0, 1.000)"
        },
        "xaxis4": {
         "anchor": "y4",
         "domain": [
          0.5510061242344707,
          0.9934383202099738
         ],
         "gridcolor": "rgba(0, 0, 0, 0.100)",
         "gridwidth": 0.5,
         "linecolor": "rgba(0, 0, 0, 1.000)",
         "mirror": false,
         "range": [
          -3.18,
          3.18
         ],
         "showgrid": true,
         "showline": true,
         "showticklabels": true,
         "tickangle": 0,
         "tickcolor": "rgb(0, 0, 0)",
         "tickfont": {
          "color": "rgba(0, 0, 0, 1.000)",
          "family": "sans-serif",
          "size": 11
         },
         "tickmode": "array",
         "ticks": "inside",
         "ticktext": [
          "-3",
          "-2",
          "-1",
          "0",
          "1",
          "2",
          "3"
         ],
         "tickvals": [
          -3,
          -2,
          -1,
          0,
          1,
          2,
          3
         ],
         "title": "",
         "titlefont": {
          "color": "rgba(0, 0, 0, 1.000)",
          "family": "sans-serif",
          "size": 15
         },
         "type": "-",
         "visible": true,
         "zeroline": false,
         "zerolinecolor": "rgba(0, 0, 0, 1.000)"
        },
        "yaxis1": {
         "anchor": "x1",
         "domain": [
          0.5376202974628171,
          0.9901574803149606
         ],
         "gridcolor": "rgba(0, 0, 0, 0.100)",
         "gridwidth": 0.5,
         "linecolor": "rgba(0, 0, 0, 1.000)",
         "mirror": false,
         "range": [
          -3.18,
          3.18
         ],
         "showgrid": true,
         "showline": true,
         "showticklabels": true,
         "tickangle": 0,
         "tickcolor": "rgb(0, 0, 0)",
         "tickfont": {
          "color": "rgba(0, 0, 0, 1.000)",
          "family": "sans-serif",
          "size": 11
         },
         "tickmode": "array",
         "ticks": "inside",
         "ticktext": [
          "-3",
          "-2",
          "-1",
          "0",
          "1",
          "2",
          "3"
         ],
         "tickvals": [
          -3,
          -2,
          -1,
          0,
          1,
          2,
          3
         ],
         "title": "",
         "titlefont": {
          "color": "rgba(0, 0, 0, 1.000)",
          "family": "sans-serif",
          "size": 15
         },
         "type": "-",
         "visible": true,
         "zeroline": false,
         "zerolinecolor": "rgba(0, 0, 0, 1.000)"
        },
        "yaxis2": {
         "anchor": "x2",
         "domain": [
          0.5376202974628171,
          0.9901574803149606
         ],
         "gridcolor": "rgba(0, 0, 0, 0.100)",
         "gridwidth": 0.5,
         "linecolor": "rgba(0, 0, 0, 1.000)",
         "mirror": false,
         "range": [
          -6.36,
          6.36
         ],
         "showgrid": true,
         "showline": true,
         "showticklabels": true,
         "tickangle": 0,
         "tickcolor": "rgb(0, 0, 0)",
         "tickfont": {
          "color": "rgba(0, 0, 0, 1.000)",
          "family": "sans-serif",
          "size": 11
         },
         "tickmode": "array",
         "ticks": "inside",
         "ticktext": [
          "-5.0",
          "-2.5",
          "0.0",
          "2.5",
          "5.0"
         ],
         "tickvals": [
          -5,
          -2.5,
          0,
          2.5,
          5
         ],
         "title": "",
         "titlefont": {
          "color": "rgba(0, 0, 0, 1.000)",
          "family": "sans-serif",
          "size": 15
         },
         "type": "-",
         "visible": true,
         "zeroline": false,
         "zerolinecolor": "rgba(0, 0, 0, 1.000)"
        },
        "yaxis3": {
         "anchor": "x3",
         "domain": [
          0.03762029746281716,
          0.4901574803149606
         ],
         "gridcolor": "rgba(0, 0, 0, 0.100)",
         "gridwidth": 0.5,
         "linecolor": "rgba(0, 0, 0, 1.000)",
         "mirror": false,
         "range": [
          -0.27,
          9.27
         ],
         "showgrid": true,
         "showline": true,
         "showticklabels": true,
         "tickangle": 0,
         "tickcolor": "rgb(0, 0, 0)",
         "tickfont": {
          "color": "rgba(0, 0, 0, 1.000)",
          "family": "sans-serif",
          "size": 11
         },
         "tickmode": "array",
         "ticks": "inside",
         "ticktext": [
          "0",
          "2",
          "4",
          "6",
          "8"
         ],
         "tickvals": [
          0,
          2,
          4,
          6,
          8
         ],
         "title": "",
         "titlefont": {
          "color": "rgba(0, 0, 0, 1.000)",
          "family": "sans-serif",
          "size": 15
         },
         "type": "-",
         "visible": true,
         "zeroline": false,
         "zerolinecolor": "rgba(0, 0, 0, 1.000)"
        },
        "yaxis4": {
         "anchor": "x4",
         "domain": [
          0.03762029746281716,
          0.4901574803149606
         ],
         "gridcolor": "rgba(0, 0, 0, 0.100)",
         "gridwidth": 0.5,
         "linecolor": "rgba(0, 0, 0, 1.000)",
         "mirror": false,
         "range": [
          -28.62,
          28.62
         ],
         "showgrid": true,
         "showline": true,
         "showticklabels": true,
         "tickangle": 0,
         "tickcolor": "rgb(0, 0, 0)",
         "tickfont": {
          "color": "rgba(0, 0, 0, 1.000)",
          "family": "sans-serif",
          "size": 11
         },
         "tickmode": "array",
         "ticks": "inside",
         "ticktext": [
          "-20",
          "-10",
          "0",
          "10",
          "20"
         ],
         "tickvals": [
          -20,
          -10,
          0,
          10,
          20
         ],
         "title": "",
         "titlefont": {
          "color": "rgba(0, 0, 0, 1.000)",
          "family": "sans-serif",
          "size": 15
         },
         "type": "-",
         "visible": true,
         "zeroline": false,
         "zerolinecolor": "rgba(0, 0, 0, 1.000)"
        }
       }
      },
      "text/html": [
       "<!DOCTYPE html>\n",
       "<html>\n",
       "    <head>\n",
       "        <title>Plots.jl</title>\n",
       "        <meta http-equiv=\"content-type\" content=\"text/html; charset=UTF-8\">\n",
       "        <script src=\"https://cdn.plot.ly/plotly-1.54.2.min.js\"></script>\n",
       "    </head>\n",
       "    <body>\n",
       "            <div id=\"f73f857e-f96d-4977-9c7e-8bd109c3fd4d\" style=\"width:600px;height:400px;\"></div>\n",
       "    <script>\n",
       "    PLOT = document.getElementById('f73f857e-f96d-4977-9c7e-8bd109c3fd4d');\n",
       "    Plotly.plot(PLOT, [\n",
       "    {\n",
       "        \"xaxis\": \"x1\",\n",
       "        \"colorbar\": {\n",
       "            \"title\": \"\"\n",
       "        },\n",
       "        \"yaxis\": \"y1\",\n",
       "        \"x\": [\n",
       "            -3.0,\n",
       "            -2.9,\n",
       "            -2.8,\n",
       "            -2.7,\n",
       "            -2.6,\n",
       "            -2.5,\n",
       "            -2.4,\n",
       "            -2.3,\n",
       "            -2.2,\n",
       "            -2.1,\n",
       "            -2.0,\n",
       "            -1.9,\n",
       "            -1.8,\n",
       "            -1.7,\n",
       "            -1.6,\n",
       "            -1.5,\n",
       "            -1.4,\n",
       "            -1.3,\n",
       "            -1.2,\n",
       "            -1.1,\n",
       "            -1.0,\n",
       "            -0.9,\n",
       "            -0.8,\n",
       "            -0.7,\n",
       "            -0.6,\n",
       "            -0.5,\n",
       "            -0.4,\n",
       "            -0.3,\n",
       "            -0.2,\n",
       "            -0.1,\n",
       "            0.0,\n",
       "            0.1,\n",
       "            0.2,\n",
       "            0.3,\n",
       "            0.4,\n",
       "            0.5,\n",
       "            0.6,\n",
       "            0.7,\n",
       "            0.8,\n",
       "            0.9,\n",
       "            1.0,\n",
       "            1.1,\n",
       "            1.2,\n",
       "            1.3,\n",
       "            1.4,\n",
       "            1.5,\n",
       "            1.6,\n",
       "            1.7,\n",
       "            1.8,\n",
       "            1.9,\n",
       "            2.0,\n",
       "            2.1,\n",
       "            2.2,\n",
       "            2.3,\n",
       "            2.4,\n",
       "            2.5,\n",
       "            2.6,\n",
       "            2.7,\n",
       "            2.8,\n",
       "            2.9,\n",
       "            3.0\n",
       "        ],\n",
       "        \"showlegend\": true,\n",
       "        \"mode\": \"lines\",\n",
       "        \"name\": \"y1\",\n",
       "        \"zmin\": null,\n",
       "        \"legendgroup\": \"y1\",\n",
       "        \"zmax\": null,\n",
       "        \"line\": {\n",
       "            \"color\": \"rgba(0, 154, 250, 1.000)\",\n",
       "            \"shape\": \"linear\",\n",
       "            \"dash\": \"solid\",\n",
       "            \"width\": 1\n",
       "        },\n",
       "        \"y\": [\n",
       "            -3.0,\n",
       "            -2.9,\n",
       "            -2.8,\n",
       "            -2.7,\n",
       "            -2.6,\n",
       "            -2.5,\n",
       "            -2.4,\n",
       "            -2.3,\n",
       "            -2.2,\n",
       "            -2.1,\n",
       "            -2.0,\n",
       "            -1.9,\n",
       "            -1.8,\n",
       "            -1.7,\n",
       "            -1.6,\n",
       "            -1.5,\n",
       "            -1.4,\n",
       "            -1.3,\n",
       "            -1.2,\n",
       "            -1.1,\n",
       "            -1.0,\n",
       "            -0.9,\n",
       "            -0.8,\n",
       "            -0.7,\n",
       "            -0.6,\n",
       "            -0.5,\n",
       "            -0.4,\n",
       "            -0.3,\n",
       "            -0.2,\n",
       "            -0.1,\n",
       "            0.0,\n",
       "            0.1,\n",
       "            0.2,\n",
       "            0.3,\n",
       "            0.4,\n",
       "            0.5,\n",
       "            0.6,\n",
       "            0.7,\n",
       "            0.8,\n",
       "            0.9,\n",
       "            1.0,\n",
       "            1.1,\n",
       "            1.2,\n",
       "            1.3,\n",
       "            1.4,\n",
       "            1.5,\n",
       "            1.6,\n",
       "            1.7,\n",
       "            1.8,\n",
       "            1.9,\n",
       "            2.0,\n",
       "            2.1,\n",
       "            2.2,\n",
       "            2.3,\n",
       "            2.4,\n",
       "            2.5,\n",
       "            2.6,\n",
       "            2.7,\n",
       "            2.8,\n",
       "            2.9,\n",
       "            3.0\n",
       "        ],\n",
       "        \"type\": \"scatter\"\n",
       "    },\n",
       "    {\n",
       "        \"xaxis\": \"x2\",\n",
       "        \"colorbar\": {\n",
       "            \"title\": \"\"\n",
       "        },\n",
       "        \"yaxis\": \"y2\",\n",
       "        \"x\": [\n",
       "            -3.0,\n",
       "            -2.9,\n",
       "            -2.8,\n",
       "            -2.7,\n",
       "            -2.6,\n",
       "            -2.5,\n",
       "            -2.4,\n",
       "            -2.3,\n",
       "            -2.2,\n",
       "            -2.1,\n",
       "            -2.0,\n",
       "            -1.9,\n",
       "            -1.8,\n",
       "            -1.7,\n",
       "            -1.6,\n",
       "            -1.5,\n",
       "            -1.4,\n",
       "            -1.3,\n",
       "            -1.2,\n",
       "            -1.1,\n",
       "            -1.0,\n",
       "            -0.9,\n",
       "            -0.8,\n",
       "            -0.7,\n",
       "            -0.6,\n",
       "            -0.5,\n",
       "            -0.4,\n",
       "            -0.3,\n",
       "            -0.2,\n",
       "            -0.1,\n",
       "            0.0,\n",
       "            0.1,\n",
       "            0.2,\n",
       "            0.3,\n",
       "            0.4,\n",
       "            0.5,\n",
       "            0.6,\n",
       "            0.7,\n",
       "            0.8,\n",
       "            0.9,\n",
       "            1.0,\n",
       "            1.1,\n",
       "            1.2,\n",
       "            1.3,\n",
       "            1.4,\n",
       "            1.5,\n",
       "            1.6,\n",
       "            1.7,\n",
       "            1.8,\n",
       "            1.9,\n",
       "            2.0,\n",
       "            2.1,\n",
       "            2.2,\n",
       "            2.3,\n",
       "            2.4,\n",
       "            2.5,\n",
       "            2.6,\n",
       "            2.7,\n",
       "            2.8,\n",
       "            2.9,\n",
       "            3.0\n",
       "        ],\n",
       "        \"showlegend\": true,\n",
       "        \"mode\": \"lines\",\n",
       "        \"name\": \"y1\",\n",
       "        \"zmin\": null,\n",
       "        \"legendgroup\": \"y1\",\n",
       "        \"zmax\": null,\n",
       "        \"line\": {\n",
       "            \"color\": \"rgba(0, 154, 250, 1.000)\",\n",
       "            \"shape\": \"linear\",\n",
       "            \"dash\": \"solid\",\n",
       "            \"width\": 1\n",
       "        },\n",
       "        \"y\": [\n",
       "            -6.0,\n",
       "            -5.800000000000001,\n",
       "            -5.6000000000000005,\n",
       "            -5.4,\n",
       "            -5.2,\n",
       "            -5.0,\n",
       "            -4.800000000000001,\n",
       "            -4.6000000000000005,\n",
       "            -4.4,\n",
       "            -4.2,\n",
       "            -4.0,\n",
       "            -3.8000000000000003,\n",
       "            -3.6,\n",
       "            -3.4000000000000004,\n",
       "            -3.2,\n",
       "            -3.0,\n",
       "            -2.8000000000000003,\n",
       "            -2.6,\n",
       "            -2.4000000000000004,\n",
       "            -2.2,\n",
       "            -2.0,\n",
       "            -1.8,\n",
       "            -1.6,\n",
       "            -1.4000000000000001,\n",
       "            -1.2000000000000002,\n",
       "            -1.0,\n",
       "            -0.8,\n",
       "            -0.6000000000000001,\n",
       "            -0.4,\n",
       "            -0.2,\n",
       "            0.0,\n",
       "            0.2,\n",
       "            0.4,\n",
       "            0.6000000000000001,\n",
       "            0.8,\n",
       "            1.0,\n",
       "            1.2000000000000002,\n",
       "            1.4000000000000001,\n",
       "            1.6,\n",
       "            1.8,\n",
       "            2.0,\n",
       "            2.2,\n",
       "            2.4000000000000004,\n",
       "            2.6,\n",
       "            2.8000000000000003,\n",
       "            3.0,\n",
       "            3.2,\n",
       "            3.4000000000000004,\n",
       "            3.6,\n",
       "            3.8000000000000003,\n",
       "            4.0,\n",
       "            4.2,\n",
       "            4.4,\n",
       "            4.6000000000000005,\n",
       "            4.800000000000001,\n",
       "            5.0,\n",
       "            5.2,\n",
       "            5.4,\n",
       "            5.6000000000000005,\n",
       "            5.800000000000001,\n",
       "            6.0\n",
       "        ],\n",
       "        \"type\": \"scatter\"\n",
       "    },\n",
       "    {\n",
       "        \"xaxis\": \"x3\",\n",
       "        \"colorbar\": {\n",
       "            \"title\": \"\"\n",
       "        },\n",
       "        \"yaxis\": \"y3\",\n",
       "        \"x\": [\n",
       "            -3.0,\n",
       "            -2.9,\n",
       "            -2.8,\n",
       "            -2.7,\n",
       "            -2.6,\n",
       "            -2.5,\n",
       "            -2.4,\n",
       "            -2.3,\n",
       "            -2.2,\n",
       "            -2.1,\n",
       "            -2.0,\n",
       "            -1.9,\n",
       "            -1.8,\n",
       "            -1.7,\n",
       "            -1.6,\n",
       "            -1.5,\n",
       "            -1.4,\n",
       "            -1.3,\n",
       "            -1.2,\n",
       "            -1.1,\n",
       "            -1.0,\n",
       "            -0.9,\n",
       "            -0.8,\n",
       "            -0.7,\n",
       "            -0.6,\n",
       "            -0.5,\n",
       "            -0.4,\n",
       "            -0.3,\n",
       "            -0.2,\n",
       "            -0.1,\n",
       "            0.0,\n",
       "            0.1,\n",
       "            0.2,\n",
       "            0.3,\n",
       "            0.4,\n",
       "            0.5,\n",
       "            0.6,\n",
       "            0.7,\n",
       "            0.8,\n",
       "            0.9,\n",
       "            1.0,\n",
       "            1.1,\n",
       "            1.2,\n",
       "            1.3,\n",
       "            1.4,\n",
       "            1.5,\n",
       "            1.6,\n",
       "            1.7,\n",
       "            1.8,\n",
       "            1.9,\n",
       "            2.0,\n",
       "            2.1,\n",
       "            2.2,\n",
       "            2.3,\n",
       "            2.4,\n",
       "            2.5,\n",
       "            2.6,\n",
       "            2.7,\n",
       "            2.8,\n",
       "            2.9,\n",
       "            3.0\n",
       "        ],\n",
       "        \"showlegend\": true,\n",
       "        \"mode\": \"lines\",\n",
       "        \"name\": \"y1\",\n",
       "        \"zmin\": null,\n",
       "        \"legendgroup\": \"y1\",\n",
       "        \"zmax\": null,\n",
       "        \"line\": {\n",
       "            \"color\": \"rgba(0, 154, 250, 1.000)\",\n",
       "            \"shape\": \"linear\",\n",
       "            \"dash\": \"solid\",\n",
       "            \"width\": 1\n",
       "        },\n",
       "        \"y\": [\n",
       "            9.0,\n",
       "            8.41,\n",
       "            7.839999999999999,\n",
       "            7.290000000000001,\n",
       "            6.760000000000001,\n",
       "            6.25,\n",
       "            5.76,\n",
       "            5.289999999999999,\n",
       "            4.840000000000001,\n",
       "            4.41,\n",
       "            4.0,\n",
       "            3.61,\n",
       "            3.24,\n",
       "            2.8899999999999997,\n",
       "            2.5600000000000005,\n",
       "            2.25,\n",
       "            1.9599999999999997,\n",
       "            1.6900000000000002,\n",
       "            1.44,\n",
       "            1.2100000000000002,\n",
       "            1.0,\n",
       "            0.81,\n",
       "            0.6400000000000001,\n",
       "            0.48999999999999994,\n",
       "            0.36,\n",
       "            0.25,\n",
       "            0.16000000000000003,\n",
       "            0.09,\n",
       "            0.04000000000000001,\n",
       "            0.010000000000000002,\n",
       "            0.0,\n",
       "            0.010000000000000002,\n",
       "            0.04000000000000001,\n",
       "            0.09,\n",
       "            0.16000000000000003,\n",
       "            0.25,\n",
       "            0.36,\n",
       "            0.48999999999999994,\n",
       "            0.6400000000000001,\n",
       "            0.81,\n",
       "            1.0,\n",
       "            1.2100000000000002,\n",
       "            1.44,\n",
       "            1.6900000000000002,\n",
       "            1.9599999999999997,\n",
       "            2.25,\n",
       "            2.5600000000000005,\n",
       "            2.8899999999999997,\n",
       "            3.24,\n",
       "            3.61,\n",
       "            4.0,\n",
       "            4.41,\n",
       "            4.840000000000001,\n",
       "            5.289999999999999,\n",
       "            5.76,\n",
       "            6.25,\n",
       "            6.760000000000001,\n",
       "            7.290000000000001,\n",
       "            7.839999999999999,\n",
       "            8.41,\n",
       "            9.0\n",
       "        ],\n",
       "        \"type\": \"scatter\"\n",
       "    },\n",
       "    {\n",
       "        \"xaxis\": \"x4\",\n",
       "        \"colorbar\": {\n",
       "            \"title\": \"\"\n",
       "        },\n",
       "        \"yaxis\": \"y4\",\n",
       "        \"x\": [\n",
       "            -3.0,\n",
       "            -2.9,\n",
       "            -2.8,\n",
       "            -2.7,\n",
       "            -2.6,\n",
       "            -2.5,\n",
       "            -2.4,\n",
       "            -2.3,\n",
       "            -2.2,\n",
       "            -2.1,\n",
       "            -2.0,\n",
       "            -1.9,\n",
       "            -1.8,\n",
       "            -1.7,\n",
       "            -1.6,\n",
       "            -1.5,\n",
       "            -1.4,\n",
       "            -1.3,\n",
       "            -1.2,\n",
       "            -1.1,\n",
       "            -1.0,\n",
       "            -0.9,\n",
       "            -0.8,\n",
       "            -0.7,\n",
       "            -0.6,\n",
       "            -0.5,\n",
       "            -0.4,\n",
       "            -0.3,\n",
       "            -0.2,\n",
       "            -0.1,\n",
       "            0.0,\n",
       "            0.1,\n",
       "            0.2,\n",
       "            0.3,\n",
       "            0.4,\n",
       "            0.5,\n",
       "            0.6,\n",
       "            0.7,\n",
       "            0.8,\n",
       "            0.9,\n",
       "            1.0,\n",
       "            1.1,\n",
       "            1.2,\n",
       "            1.3,\n",
       "            1.4,\n",
       "            1.5,\n",
       "            1.6,\n",
       "            1.7,\n",
       "            1.8,\n",
       "            1.9,\n",
       "            2.0,\n",
       "            2.1,\n",
       "            2.2,\n",
       "            2.3,\n",
       "            2.4,\n",
       "            2.5,\n",
       "            2.6,\n",
       "            2.7,\n",
       "            2.8,\n",
       "            2.9,\n",
       "            3.0\n",
       "        ],\n",
       "        \"showlegend\": true,\n",
       "        \"mode\": \"lines\",\n",
       "        \"name\": \"y1\",\n",
       "        \"zmin\": null,\n",
       "        \"legendgroup\": \"y1\",\n",
       "        \"zmax\": null,\n",
       "        \"line\": {\n",
       "            \"color\": \"rgba(0, 154, 250, 1.000)\",\n",
       "            \"shape\": \"linear\",\n",
       "            \"dash\": \"solid\",\n",
       "            \"width\": 1\n",
       "        },\n",
       "        \"y\": [\n",
       "            -27.0,\n",
       "            -24.389,\n",
       "            -21.951999999999995,\n",
       "            -19.683000000000003,\n",
       "            -17.576000000000004,\n",
       "            -15.625,\n",
       "            -13.824,\n",
       "            -12.166999999999996,\n",
       "            -10.648000000000003,\n",
       "            -9.261000000000001,\n",
       "            -8.0,\n",
       "            -6.858999999999999,\n",
       "            -5.832000000000001,\n",
       "            -4.912999999999999,\n",
       "            -4.096000000000001,\n",
       "            -3.375,\n",
       "            -2.7439999999999993,\n",
       "            -2.1970000000000005,\n",
       "            -1.728,\n",
       "            -1.3310000000000004,\n",
       "            -1.0,\n",
       "            -0.7290000000000001,\n",
       "            -0.5120000000000001,\n",
       "            -0.3429999999999999,\n",
       "            -0.216,\n",
       "            -0.125,\n",
       "            -0.06400000000000002,\n",
       "            -0.027,\n",
       "            -0.008000000000000002,\n",
       "            -0.0010000000000000002,\n",
       "            0.0,\n",
       "            0.0010000000000000002,\n",
       "            0.008000000000000002,\n",
       "            0.027,\n",
       "            0.06400000000000002,\n",
       "            0.125,\n",
       "            0.216,\n",
       "            0.3429999999999999,\n",
       "            0.5120000000000001,\n",
       "            0.7290000000000001,\n",
       "            1.0,\n",
       "            1.3310000000000004,\n",
       "            1.728,\n",
       "            2.1970000000000005,\n",
       "            2.7439999999999993,\n",
       "            3.375,\n",
       "            4.096000000000001,\n",
       "            4.912999999999999,\n",
       "            5.832000000000001,\n",
       "            6.858999999999999,\n",
       "            8.0,\n",
       "            9.261000000000001,\n",
       "            10.648000000000003,\n",
       "            12.166999999999996,\n",
       "            13.824,\n",
       "            15.625,\n",
       "            17.576000000000004,\n",
       "            19.683000000000003,\n",
       "            21.951999999999995,\n",
       "            24.389,\n",
       "            27.0\n",
       "        ],\n",
       "        \"type\": \"scatter\"\n",
       "    }\n",
       "]\n",
       ", {\n",
       "    \"paper_bgcolor\": \"rgba(255, 255, 255, 1.000)\",\n",
       "    \"height\": 400,\n",
       "    \"yaxis4\": {\n",
       "        \"showticklabels\": true,\n",
       "        \"gridwidth\": 0.5,\n",
       "        \"tickvals\": [\n",
       "            -20.0,\n",
       "            -10.0,\n",
       "            0.0,\n",
       "            10.0,\n",
       "            20.0\n",
       "        ],\n",
       "        \"visible\": true,\n",
       "        \"ticks\": \"inside\",\n",
       "        \"range\": [\n",
       "            -28.62,\n",
       "            28.62\n",
       "        ],\n",
       "        \"domain\": [\n",
       "            0.03762029746281716,\n",
       "            0.4901574803149606\n",
       "        ],\n",
       "        \"tickmode\": \"array\",\n",
       "        \"linecolor\": \"rgba(0, 0, 0, 1.000)\",\n",
       "        \"showgrid\": true,\n",
       "        \"title\": \"\",\n",
       "        \"mirror\": false,\n",
       "        \"tickangle\": 0,\n",
       "        \"showline\": true,\n",
       "        \"gridcolor\": \"rgba(0, 0, 0, 0.100)\",\n",
       "        \"titlefont\": {\n",
       "            \"color\": \"rgba(0, 0, 0, 1.000)\",\n",
       "            \"family\": \"sans-serif\",\n",
       "            \"size\": 15\n",
       "        },\n",
       "        \"tickcolor\": \"rgb(0, 0, 0)\",\n",
       "        \"ticktext\": [\n",
       "            \"-20\",\n",
       "            \"-10\",\n",
       "            \"0\",\n",
       "            \"10\",\n",
       "            \"20\"\n",
       "        ],\n",
       "        \"zeroline\": false,\n",
       "        \"type\": \"-\",\n",
       "        \"tickfont\": {\n",
       "            \"color\": \"rgba(0, 0, 0, 1.000)\",\n",
       "            \"family\": \"sans-serif\",\n",
       "            \"size\": 11\n",
       "        },\n",
       "        \"zerolinecolor\": \"rgba(0, 0, 0, 1.000)\",\n",
       "        \"anchor\": \"x4\"\n",
       "    },\n",
       "    \"yaxis2\": {\n",
       "        \"showticklabels\": true,\n",
       "        \"gridwidth\": 0.5,\n",
       "        \"tickvals\": [\n",
       "            -5.0,\n",
       "            -2.5,\n",
       "            0.0,\n",
       "            2.5,\n",
       "            5.0\n",
       "        ],\n",
       "        \"visible\": true,\n",
       "        \"ticks\": \"inside\",\n",
       "        \"range\": [\n",
       "            -6.36,\n",
       "            6.36\n",
       "        ],\n",
       "        \"domain\": [\n",
       "            0.5376202974628171,\n",
       "            0.9901574803149606\n",
       "        ],\n",
       "        \"tickmode\": \"array\",\n",
       "        \"linecolor\": \"rgba(0, 0, 0, 1.000)\",\n",
       "        \"showgrid\": true,\n",
       "        \"title\": \"\",\n",
       "        \"mirror\": false,\n",
       "        \"tickangle\": 0,\n",
       "        \"showline\": true,\n",
       "        \"gridcolor\": \"rgba(0, 0, 0, 0.100)\",\n",
       "        \"titlefont\": {\n",
       "            \"color\": \"rgba(0, 0, 0, 1.000)\",\n",
       "            \"family\": \"sans-serif\",\n",
       "            \"size\": 15\n",
       "        },\n",
       "        \"tickcolor\": \"rgb(0, 0, 0)\",\n",
       "        \"ticktext\": [\n",
       "            \"-5.0\",\n",
       "            \"-2.5\",\n",
       "            \"0.0\",\n",
       "            \"2.5\",\n",
       "            \"5.0\"\n",
       "        ],\n",
       "        \"zeroline\": false,\n",
       "        \"type\": \"-\",\n",
       "        \"tickfont\": {\n",
       "            \"color\": \"rgba(0, 0, 0, 1.000)\",\n",
       "            \"family\": \"sans-serif\",\n",
       "            \"size\": 11\n",
       "        },\n",
       "        \"zerolinecolor\": \"rgba(0, 0, 0, 1.000)\",\n",
       "        \"anchor\": \"x2\"\n",
       "    },\n",
       "    \"xaxis3\": {\n",
       "        \"showticklabels\": true,\n",
       "        \"gridwidth\": 0.5,\n",
       "        \"tickvals\": [\n",
       "            -3.0,\n",
       "            -2.0,\n",
       "            -1.0,\n",
       "            0.0,\n",
       "            1.0,\n",
       "            2.0,\n",
       "            3.0\n",
       "        ],\n",
       "        \"visible\": true,\n",
       "        \"ticks\": \"inside\",\n",
       "        \"range\": [\n",
       "            -3.18,\n",
       "            3.18\n",
       "        ],\n",
       "        \"domain\": [\n",
       "            0.03619130941965587,\n",
       "            0.47862350539515897\n",
       "        ],\n",
       "        \"tickmode\": \"array\",\n",
       "        \"linecolor\": \"rgba(0, 0, 0, 1.000)\",\n",
       "        \"showgrid\": true,\n",
       "        \"title\": \"\",\n",
       "        \"mirror\": false,\n",
       "        \"tickangle\": 0,\n",
       "        \"showline\": true,\n",
       "        \"gridcolor\": \"rgba(0, 0, 0, 0.100)\",\n",
       "        \"titlefont\": {\n",
       "            \"color\": \"rgba(0, 0, 0, 1.000)\",\n",
       "            \"family\": \"sans-serif\",\n",
       "            \"size\": 15\n",
       "        },\n",
       "        \"tickcolor\": \"rgb(0, 0, 0)\",\n",
       "        \"ticktext\": [\n",
       "            \"-3\",\n",
       "            \"-2\",\n",
       "            \"-1\",\n",
       "            \"0\",\n",
       "            \"1\",\n",
       "            \"2\",\n",
       "            \"3\"\n",
       "        ],\n",
       "        \"zeroline\": false,\n",
       "        \"type\": \"-\",\n",
       "        \"tickfont\": {\n",
       "            \"color\": \"rgba(0, 0, 0, 1.000)\",\n",
       "            \"family\": \"sans-serif\",\n",
       "            \"size\": 11\n",
       "        },\n",
       "        \"zerolinecolor\": \"rgba(0, 0, 0, 1.000)\",\n",
       "        \"anchor\": \"y3\"\n",
       "    },\n",
       "    \"xaxis4\": {\n",
       "        \"showticklabels\": true,\n",
       "        \"gridwidth\": 0.5,\n",
       "        \"tickvals\": [\n",
       "            -3.0,\n",
       "            -2.0,\n",
       "            -1.0,\n",
       "            0.0,\n",
       "            1.0,\n",
       "            2.0,\n",
       "            3.0\n",
       "        ],\n",
       "        \"visible\": true,\n",
       "        \"ticks\": \"inside\",\n",
       "        \"range\": [\n",
       "            -3.18,\n",
       "            3.18\n",
       "        ],\n",
       "        \"domain\": [\n",
       "            0.5510061242344707,\n",
       "            0.9934383202099738\n",
       "        ],\n",
       "        \"tickmode\": \"array\",\n",
       "        \"linecolor\": \"rgba(0, 0, 0, 1.000)\",\n",
       "        \"showgrid\": true,\n",
       "        \"title\": \"\",\n",
       "        \"mirror\": false,\n",
       "        \"tickangle\": 0,\n",
       "        \"showline\": true,\n",
       "        \"gridcolor\": \"rgba(0, 0, 0, 0.100)\",\n",
       "        \"titlefont\": {\n",
       "            \"color\": \"rgba(0, 0, 0, 1.000)\",\n",
       "            \"family\": \"sans-serif\",\n",
       "            \"size\": 15\n",
       "        },\n",
       "        \"tickcolor\": \"rgb(0, 0, 0)\",\n",
       "        \"ticktext\": [\n",
       "            \"-3\",\n",
       "            \"-2\",\n",
       "            \"-1\",\n",
       "            \"0\",\n",
       "            \"1\",\n",
       "            \"2\",\n",
       "            \"3\"\n",
       "        ],\n",
       "        \"zeroline\": false,\n",
       "        \"type\": \"-\",\n",
       "        \"tickfont\": {\n",
       "            \"color\": \"rgba(0, 0, 0, 1.000)\",\n",
       "            \"family\": \"sans-serif\",\n",
       "            \"size\": 11\n",
       "        },\n",
       "        \"zerolinecolor\": \"rgba(0, 0, 0, 1.000)\",\n",
       "        \"anchor\": \"y4\"\n",
       "    },\n",
       "    \"yaxis1\": {\n",
       "        \"showticklabels\": true,\n",
       "        \"gridwidth\": 0.5,\n",
       "        \"tickvals\": [\n",
       "            -3.0,\n",
       "            -2.0,\n",
       "            -1.0,\n",
       "            0.0,\n",
       "            1.0,\n",
       "            2.0,\n",
       "            3.0\n",
       "        ],\n",
       "        \"visible\": true,\n",
       "        \"ticks\": \"inside\",\n",
       "        \"range\": [\n",
       "            -3.18,\n",
       "            3.18\n",
       "        ],\n",
       "        \"domain\": [\n",
       "            0.5376202974628171,\n",
       "            0.9901574803149606\n",
       "        ],\n",
       "        \"tickmode\": \"array\",\n",
       "        \"linecolor\": \"rgba(0, 0, 0, 1.000)\",\n",
       "        \"showgrid\": true,\n",
       "        \"title\": \"\",\n",
       "        \"mirror\": false,\n",
       "        \"tickangle\": 0,\n",
       "        \"showline\": true,\n",
       "        \"gridcolor\": \"rgba(0, 0, 0, 0.100)\",\n",
       "        \"titlefont\": {\n",
       "            \"color\": \"rgba(0, 0, 0, 1.000)\",\n",
       "            \"family\": \"sans-serif\",\n",
       "            \"size\": 15\n",
       "        },\n",
       "        \"tickcolor\": \"rgb(0, 0, 0)\",\n",
       "        \"ticktext\": [\n",
       "            \"-3\",\n",
       "            \"-2\",\n",
       "            \"-1\",\n",
       "            \"0\",\n",
       "            \"1\",\n",
       "            \"2\",\n",
       "            \"3\"\n",
       "        ],\n",
       "        \"zeroline\": false,\n",
       "        \"type\": \"-\",\n",
       "        \"tickfont\": {\n",
       "            \"color\": \"rgba(0, 0, 0, 1.000)\",\n",
       "            \"family\": \"sans-serif\",\n",
       "            \"size\": 11\n",
       "        },\n",
       "        \"zerolinecolor\": \"rgba(0, 0, 0, 1.000)\",\n",
       "        \"anchor\": \"x1\"\n",
       "    },\n",
       "    \"annotations\": [],\n",
       "    \"plot_bgcolor\": \"rgba(255, 255, 255, 1.000)\",\n",
       "    \"showlegend\": false,\n",
       "    \"xaxis1\": {\n",
       "        \"showticklabels\": true,\n",
       "        \"gridwidth\": 0.5,\n",
       "        \"tickvals\": [\n",
       "            -3.0,\n",
       "            -2.0,\n",
       "            -1.0,\n",
       "            0.0,\n",
       "            1.0,\n",
       "            2.0,\n",
       "            3.0\n",
       "        ],\n",
       "        \"visible\": true,\n",
       "        \"ticks\": \"inside\",\n",
       "        \"range\": [\n",
       "            -3.18,\n",
       "            3.18\n",
       "        ],\n",
       "        \"domain\": [\n",
       "            0.03619130941965587,\n",
       "            0.47862350539515897\n",
       "        ],\n",
       "        \"tickmode\": \"array\",\n",
       "        \"linecolor\": \"rgba(0, 0, 0, 1.000)\",\n",
       "        \"showgrid\": true,\n",
       "        \"title\": \"\",\n",
       "        \"mirror\": false,\n",
       "        \"tickangle\": 0,\n",
       "        \"showline\": true,\n",
       "        \"gridcolor\": \"rgba(0, 0, 0, 0.100)\",\n",
       "        \"titlefont\": {\n",
       "            \"color\": \"rgba(0, 0, 0, 1.000)\",\n",
       "            \"family\": \"sans-serif\",\n",
       "            \"size\": 15\n",
       "        },\n",
       "        \"tickcolor\": \"rgb(0, 0, 0)\",\n",
       "        \"ticktext\": [\n",
       "            \"-3\",\n",
       "            \"-2\",\n",
       "            \"-1\",\n",
       "            \"0\",\n",
       "            \"1\",\n",
       "            \"2\",\n",
       "            \"3\"\n",
       "        ],\n",
       "        \"zeroline\": false,\n",
       "        \"type\": \"-\",\n",
       "        \"tickfont\": {\n",
       "            \"color\": \"rgba(0, 0, 0, 1.000)\",\n",
       "            \"family\": \"sans-serif\",\n",
       "            \"size\": 11\n",
       "        },\n",
       "        \"zerolinecolor\": \"rgba(0, 0, 0, 1.000)\",\n",
       "        \"anchor\": \"y1\"\n",
       "    },\n",
       "    \"yaxis3\": {\n",
       "        \"showticklabels\": true,\n",
       "        \"gridwidth\": 0.5,\n",
       "        \"tickvals\": [\n",
       "            0.0,\n",
       "            2.0,\n",
       "            4.0,\n",
       "            6.0,\n",
       "            8.0\n",
       "        ],\n",
       "        \"visible\": true,\n",
       "        \"ticks\": \"inside\",\n",
       "        \"range\": [\n",
       "            -0.27,\n",
       "            9.27\n",
       "        ],\n",
       "        \"domain\": [\n",
       "            0.03762029746281716,\n",
       "            0.4901574803149606\n",
       "        ],\n",
       "        \"tickmode\": \"array\",\n",
       "        \"linecolor\": \"rgba(0, 0, 0, 1.000)\",\n",
       "        \"showgrid\": true,\n",
       "        \"title\": \"\",\n",
       "        \"mirror\": false,\n",
       "        \"tickangle\": 0,\n",
       "        \"showline\": true,\n",
       "        \"gridcolor\": \"rgba(0, 0, 0, 0.100)\",\n",
       "        \"titlefont\": {\n",
       "            \"color\": \"rgba(0, 0, 0, 1.000)\",\n",
       "            \"family\": \"sans-serif\",\n",
       "            \"size\": 15\n",
       "        },\n",
       "        \"tickcolor\": \"rgb(0, 0, 0)\",\n",
       "        \"ticktext\": [\n",
       "            \"0\",\n",
       "            \"2\",\n",
       "            \"4\",\n",
       "            \"6\",\n",
       "            \"8\"\n",
       "        ],\n",
       "        \"zeroline\": false,\n",
       "        \"type\": \"-\",\n",
       "        \"tickfont\": {\n",
       "            \"color\": \"rgba(0, 0, 0, 1.000)\",\n",
       "            \"family\": \"sans-serif\",\n",
       "            \"size\": 11\n",
       "        },\n",
       "        \"zerolinecolor\": \"rgba(0, 0, 0, 1.000)\",\n",
       "        \"anchor\": \"x3\"\n",
       "    },\n",
       "    \"xaxis2\": {\n",
       "        \"showticklabels\": true,\n",
       "        \"gridwidth\": 0.5,\n",
       "        \"tickvals\": [\n",
       "            -3.0,\n",
       "            -2.0,\n",
       "            -1.0,\n",
       "            0.0,\n",
       "            1.0,\n",
       "            2.0,\n",
       "            3.0\n",
       "        ],\n",
       "        \"visible\": true,\n",
       "        \"ticks\": \"inside\",\n",
       "        \"range\": [\n",
       "            -3.18,\n",
       "            3.18\n",
       "        ],\n",
       "        \"domain\": [\n",
       "            0.5510061242344707,\n",
       "            0.9934383202099738\n",
       "        ],\n",
       "        \"tickmode\": \"array\",\n",
       "        \"linecolor\": \"rgba(0, 0, 0, 1.000)\",\n",
       "        \"showgrid\": true,\n",
       "        \"title\": \"\",\n",
       "        \"mirror\": false,\n",
       "        \"tickangle\": 0,\n",
       "        \"showline\": true,\n",
       "        \"gridcolor\": \"rgba(0, 0, 0, 0.100)\",\n",
       "        \"titlefont\": {\n",
       "            \"color\": \"rgba(0, 0, 0, 1.000)\",\n",
       "            \"family\": \"sans-serif\",\n",
       "            \"size\": 15\n",
       "        },\n",
       "        \"tickcolor\": \"rgb(0, 0, 0)\",\n",
       "        \"ticktext\": [\n",
       "            \"-3\",\n",
       "            \"-2\",\n",
       "            \"-1\",\n",
       "            \"0\",\n",
       "            \"1\",\n",
       "            \"2\",\n",
       "            \"3\"\n",
       "        ],\n",
       "        \"zeroline\": false,\n",
       "        \"type\": \"-\",\n",
       "        \"tickfont\": {\n",
       "            \"color\": \"rgba(0, 0, 0, 1.000)\",\n",
       "            \"family\": \"sans-serif\",\n",
       "            \"size\": 11\n",
       "        },\n",
       "        \"zerolinecolor\": \"rgba(0, 0, 0, 1.000)\",\n",
       "        \"anchor\": \"y2\"\n",
       "    },\n",
       "    \"margin\": {\n",
       "        \"l\": 0,\n",
       "        \"b\": 20,\n",
       "        \"r\": 0,\n",
       "        \"t\": 20\n",
       "    },\n",
       "    \"width\": 600\n",
       "}\n",
       ");\n",
       "    </script>\n",
       "\n",
       "    </body>\n",
       "</html>\n"
      ]
     },
     "execution_count": 34,
     "metadata": {},
     "output_type": "execute_result"
    }
   ],
   "source": [
    "p1 = plot(x,x)\n",
    "p2 = plot(x,x.*2)\n",
    "p3 = plot(x,x.^2)\n",
    "p4= plot(x,x.^3)\n",
    "plot(p1,p2,p3,p4,layout=(2,2),legend=false)"
   ]
  },
  {
   "cell_type": "code",
   "execution_count": 37,
   "metadata": {},
   "outputs": [
    {
     "data": {
      "text/html": [
       "# 207 methods for generic function <b>+</b>:<ul><li> +(a::<b>BigFloat</b>, b::<b>BigFloat</b>, c::<b>BigFloat</b>, d::<b>BigFloat</b>, e::<b>BigFloat</b>) in Base.MPFR at <a href=\"https://github.com/JuliaLang/julia/tree/697e782ab86bfcdd7fd15550241fe162c51d9f98/base/mpfr.jl#L548\" target=\"_blank\">mpfr.jl:548</a></li> <li> +(a::<b>BigFloat</b>, b::<b>BigFloat</b>, c::<b>BigFloat</b>, d::<b>BigFloat</b>) in Base.MPFR at <a href=\"https://github.com/JuliaLang/julia/tree/697e782ab86bfcdd7fd15550241fe162c51d9f98/base/mpfr.jl#L541\" target=\"_blank\">mpfr.jl:541</a></li> <li> +(a::<b>BigFloat</b>, b::<b>BigFloat</b>, c::<b>BigFloat</b>) in Base.MPFR at <a href=\"https://github.com/JuliaLang/julia/tree/697e782ab86bfcdd7fd15550241fe162c51d9f98/base/mpfr.jl#L535\" target=\"_blank\">mpfr.jl:535</a></li> <li> +(x::<b>BigFloat</b>, c::<b>BigInt</b>) in Base.MPFR at <a href=\"https://github.com/JuliaLang/julia/tree/697e782ab86bfcdd7fd15550241fe162c51d9f98/base/mpfr.jl#L394\" target=\"_blank\">mpfr.jl:394</a></li> <li> +(x::<b>BigFloat</b>, y::<b>BigFloat</b>) in Base.MPFR at <a href=\"https://github.com/JuliaLang/julia/tree/697e782ab86bfcdd7fd15550241fe162c51d9f98/base/mpfr.jl#L363\" target=\"_blank\">mpfr.jl:363</a></li> <li> +(x::<b>BigFloat</b>, c::<b>Union{UInt16, UInt32, UInt8}</b>) in Base.MPFR at <a href=\"https://github.com/JuliaLang/julia/tree/697e782ab86bfcdd7fd15550241fe162c51d9f98/base/mpfr.jl#L370\" target=\"_blank\">mpfr.jl:370</a></li> <li> +(x::<b>BigFloat</b>, c::<b>Union{Int16, Int32, Int8}</b>) in Base.MPFR at <a href=\"https://github.com/JuliaLang/julia/tree/697e782ab86bfcdd7fd15550241fe162c51d9f98/base/mpfr.jl#L378\" target=\"_blank\">mpfr.jl:378</a></li> <li> +(x::<b>BigFloat</b>, c::<b>Union{Float16, Float32, Float64}</b>) in Base.MPFR at <a href=\"https://github.com/JuliaLang/julia/tree/697e782ab86bfcdd7fd15550241fe162c51d9f98/base/mpfr.jl#L386\" target=\"_blank\">mpfr.jl:386</a></li> <li> +(a::<b>Pkg.Resolve.VersionWeight</b>, b::<b>Pkg.Resolve.VersionWeight</b>) in Pkg.Resolve at <a href=\"file://D:/buildbot/worker/package_win64/build/usr/share/julia/stdlib/v1.5/Pkg/src/Resolve/versionweights.jl\" target=\"_blank\">C:\\Program Files (x86)\\Julia 1.5.1\\share\\julia\\stdlib\\v1.5\\Pkg\\src\\Resolve\\versionweights.jl:22</a></li> <li> +(a::<b>Pkg.Resolve.FieldValue</b>, b::<b>Pkg.Resolve.FieldValue</b>) in Pkg.Resolve at <a href=\"file://D:/buildbot/worker/package_win64/build/usr/share/julia/stdlib/v1.5/Pkg/src/Resolve/fieldvalues.jl\" target=\"_blank\">C:\\Program Files (x86)\\Julia 1.5.1\\share\\julia\\stdlib\\v1.5\\Pkg\\src\\Resolve\\fieldvalues.jl:43</a></li> <li> +(x::<b>Float32</b>, y::<b>Float32</b>) in Base at <a href=\"https://github.com/JuliaLang/julia/tree/697e782ab86bfcdd7fd15550241fe162c51d9f98/base/float.jl#L400\" target=\"_blank\">float.jl:400</a></li> <li> +(x::<b>Float64</b>, y::<b>Float64</b>) in Base at <a href=\"https://github.com/JuliaLang/julia/tree/697e782ab86bfcdd7fd15550241fe162c51d9f98/base/float.jl#L401\" target=\"_blank\">float.jl:401</a></li> <li> +(c::<b>BigInt</b>, x::<b>BigFloat</b>) in Base.MPFR at <a href=\"https://github.com/JuliaLang/julia/tree/697e782ab86bfcdd7fd15550241fe162c51d9f98/base/mpfr.jl#L399\" target=\"_blank\">mpfr.jl:399</a></li> <li> +(a::<b>BigInt</b>, b::<b>BigInt</b>, c::<b>BigInt</b>, d::<b>BigInt</b>, e::<b>BigInt</b>) in Base.GMP at <a href=\"https://github.com/JuliaLang/julia/tree/697e782ab86bfcdd7fd15550241fe162c51d9f98/base/gmp.jl#L518\" target=\"_blank\">gmp.jl:518</a></li> <li> +(a::<b>BigInt</b>, b::<b>BigInt</b>, c::<b>BigInt</b>, d::<b>BigInt</b>) in Base.GMP at <a href=\"https://github.com/JuliaLang/julia/tree/697e782ab86bfcdd7fd15550241fe162c51d9f98/base/gmp.jl#L517\" target=\"_blank\">gmp.jl:517</a></li> <li> +(a::<b>BigInt</b>, b::<b>BigInt</b>, c::<b>BigInt</b>) in Base.GMP at <a href=\"https://github.com/JuliaLang/julia/tree/697e782ab86bfcdd7fd15550241fe162c51d9f98/base/gmp.jl#L516\" target=\"_blank\">gmp.jl:516</a></li> <li> +(x::<b>BigInt</b>, y::<b>BigInt</b>) in Base.GMP at <a href=\"https://github.com/JuliaLang/julia/tree/697e782ab86bfcdd7fd15550241fe162c51d9f98/base/gmp.jl#L476\" target=\"_blank\">gmp.jl:476</a></li> <li> +(x::<b>BigInt</b>, c::<b>Union{UInt16, UInt32, UInt8}</b>) in Base.GMP at <a href=\"https://github.com/JuliaLang/julia/tree/697e782ab86bfcdd7fd15550241fe162c51d9f98/base/gmp.jl#L524\" target=\"_blank\">gmp.jl:524</a></li> <li> +(x::<b>BigInt</b>, c::<b>Union{Int16, Int32, Int8}</b>) in Base.GMP at <a href=\"https://github.com/JuliaLang/julia/tree/697e782ab86bfcdd7fd15550241fe162c51d9f98/base/gmp.jl#L530\" target=\"_blank\">gmp.jl:530</a></li> <li> +(x::<b>Dates.CompoundPeriod</b>, y::<b>Dates.CompoundPeriod</b>) in Dates at <a href=\"file://D:/buildbot/worker/package_win64/build/usr/share/julia/stdlib/v1.5/Dates/src/periods.jl\" target=\"_blank\">C:\\Program Files (x86)\\Julia 1.5.1\\share\\julia\\stdlib\\v1.5\\Dates\\src\\periods.jl:347</a></li> <li> +(x::<b>Dates.CompoundPeriod</b>, y::<b>Dates.Period</b>) in Dates at <a href=\"file://D:/buildbot/worker/package_win64/build/usr/share/julia/stdlib/v1.5/Dates/src/periods.jl\" target=\"_blank\">C:\\Program Files (x86)\\Julia 1.5.1\\share\\julia\\stdlib\\v1.5\\Dates\\src\\periods.jl:345</a></li> <li> +(x::<b>Dates.CompoundPeriod</b>, y::<b>Dates.TimeType</b>) in Dates at <a href=\"file://D:/buildbot/worker/package_win64/build/usr/share/julia/stdlib/v1.5/Dates/src/periods.jl\" target=\"_blank\">C:\\Program Files (x86)\\Julia 1.5.1\\share\\julia\\stdlib\\v1.5\\Dates\\src\\periods.jl:375</a></li> <li> +(x::<b>Bool</b>, z::<b>Complex{Bool}</b>) in Base at <a href=\"https://github.com/JuliaLang/julia/tree/697e782ab86bfcdd7fd15550241fe162c51d9f98/base/complex.jl#L286\" target=\"_blank\">complex.jl:286</a></li> <li> +(x::<b>Bool</b>, y::<b>Bool</b>) in Base at <a href=\"https://github.com/JuliaLang/julia/tree/697e782ab86bfcdd7fd15550241fe162c51d9f98/base/bool.jl#L96\" target=\"_blank\">bool.jl:96</a></li> <li> +(x::<b>Bool</b>) in Base at <a href=\"https://github.com/JuliaLang/julia/tree/697e782ab86bfcdd7fd15550241fe162c51d9f98/base/bool.jl#L93\" target=\"_blank\">bool.jl:93</a></li> <li> +(x::<b>Bool</b>, y::<b>T</b>)<i> where T<:AbstractFloat</i> in Base at <a href=\"https://github.com/JuliaLang/julia/tree/697e782ab86bfcdd7fd15550241fe162c51d9f98/base/bool.jl#L103\" target=\"_blank\">bool.jl:103</a></li> <li> +(x::<b>Bool</b>, z::<b>Complex</b>) in Base at <a href=\"https://github.com/JuliaLang/julia/tree/697e782ab86bfcdd7fd15550241fe162c51d9f98/base/complex.jl#L293\" target=\"_blank\">complex.jl:293</a></li> <li> +(::<b>Missing</b>, ::<b>Missing</b>) in Base at <a href=\"https://github.com/JuliaLang/julia/tree/697e782ab86bfcdd7fd15550241fe162c51d9f98/base/missing.jl#L114\" target=\"_blank\">missing.jl:114</a></li> <li> +(::<b>Missing</b>) in Base at <a href=\"https://github.com/JuliaLang/julia/tree/697e782ab86bfcdd7fd15550241fe162c51d9f98/base/missing.jl#L100\" target=\"_blank\">missing.jl:100</a></li> <li> +(::<b>Missing</b>, ::<b>Number</b>) in Base at <a href=\"https://github.com/JuliaLang/julia/tree/697e782ab86bfcdd7fd15550241fe162c51d9f98/base/missing.jl#L115\" target=\"_blank\">missing.jl:115</a></li> <li> +(level::<b>Base.CoreLogging.LogLevel</b>, inc::<b>Integer</b>) in Base.CoreLogging at <a href=\"https://github.com/JuliaLang/julia/tree/697e782ab86bfcdd7fd15550241fe162c51d9f98/base/logging.jl#L116\" target=\"_blank\">logging.jl:116</a></li> <li> +(z::<b>Complex{Bool}</b>, x::<b>Bool</b>) in Base at <a href=\"https://github.com/JuliaLang/julia/tree/697e782ab86bfcdd7fd15550241fe162c51d9f98/base/complex.jl#L287\" target=\"_blank\">complex.jl:287</a></li> <li> +(z::<b>Complex{Bool}</b>, x::<b>Real</b>) in Base at <a href=\"https://github.com/JuliaLang/julia/tree/697e782ab86bfcdd7fd15550241fe162c51d9f98/base/complex.jl#L301\" target=\"_blank\">complex.jl:301</a></li> <li> +(x::<b>Dates.Date</b>, y::<b>Dates.Day</b>) in Dates at <a href=\"file://D:/buildbot/worker/package_win64/build/usr/share/julia/stdlib/v1.5/Dates/src/arithmetic.jl\" target=\"_blank\">C:\\Program Files (x86)\\Julia 1.5.1\\share\\julia\\stdlib\\v1.5\\Dates\\src\\arithmetic.jl:74</a></li> <li> +(x::<b>Dates.Date</b>, y::<b>Dates.Week</b>) in Dates at <a href=\"file://D:/buildbot/worker/package_win64/build/usr/share/julia/stdlib/v1.5/Dates/src/arithmetic.jl\" target=\"_blank\">C:\\Program Files (x86)\\Julia 1.5.1\\share\\julia\\stdlib\\v1.5\\Dates\\src\\arithmetic.jl:72</a></li> <li> +(dt::<b>Dates.Date</b>, z::<b>Dates.Month</b>) in Dates at <a href=\"file://D:/buildbot/worker/package_win64/build/usr/share/julia/stdlib/v1.5/Dates/src/arithmetic.jl\" target=\"_blank\">C:\\Program Files (x86)\\Julia 1.5.1\\share\\julia\\stdlib\\v1.5\\Dates\\src\\arithmetic.jl:54</a></li> <li> +(dt::<b>Dates.Date</b>, y::<b>Dates.Year</b>) in Dates at <a href=\"file://D:/buildbot/worker/package_win64/build/usr/share/julia/stdlib/v1.5/Dates/src/arithmetic.jl\" target=\"_blank\">C:\\Program Files (x86)\\Julia 1.5.1\\share\\julia\\stdlib\\v1.5\\Dates\\src\\arithmetic.jl:27</a></li> <li> +(dt::<b>Dates.Date</b>, t::<b>Dates.Time</b>) in Dates at <a href=\"file://D:/buildbot/worker/package_win64/build/usr/share/julia/stdlib/v1.5/Dates/src/arithmetic.jl\" target=\"_blank\">C:\\Program Files (x86)\\Julia 1.5.1\\share\\julia\\stdlib\\v1.5\\Dates\\src\\arithmetic.jl:19</a></li> <li> +(t::<b>Dates.Time</b>, dt::<b>Dates.Date</b>) in Dates at <a href=\"file://D:/buildbot/worker/package_win64/build/usr/share/julia/stdlib/v1.5/Dates/src/arithmetic.jl\" target=\"_blank\">C:\\Program Files (x86)\\Julia 1.5.1\\share\\julia\\stdlib\\v1.5\\Dates\\src\\arithmetic.jl:20</a></li> <li> +(x::<b>Dates.Time</b>, y::<b>Dates.TimePeriod</b>) in Dates at <a href=\"file://D:/buildbot/worker/package_win64/build/usr/share/julia/stdlib/v1.5/Dates/src/arithmetic.jl\" target=\"_blank\">C:\\Program Files (x86)\\Julia 1.5.1\\share\\julia\\stdlib\\v1.5\\Dates\\src\\arithmetic.jl:78</a></li> <li> +(dt::<b>Dates.DateTime</b>, z::<b>Dates.Month</b>) in Dates at <a href=\"file://D:/buildbot/worker/package_win64/build/usr/share/julia/stdlib/v1.5/Dates/src/arithmetic.jl\" target=\"_blank\">C:\\Program Files (x86)\\Julia 1.5.1\\share\\julia\\stdlib\\v1.5\\Dates\\src\\arithmetic.jl:47</a></li> <li> +(dt::<b>Dates.DateTime</b>, y::<b>Dates.Year</b>) in Dates at <a href=\"file://D:/buildbot/worker/package_win64/build/usr/share/julia/stdlib/v1.5/Dates/src/arithmetic.jl\" target=\"_blank\">C:\\Program Files (x86)\\Julia 1.5.1\\share\\julia\\stdlib\\v1.5\\Dates\\src\\arithmetic.jl:23</a></li> <li> +(x::<b>Dates.DateTime</b>, y::<b>Dates.Period</b>) in Dates at <a href=\"file://D:/buildbot/worker/package_win64/build/usr/share/julia/stdlib/v1.5/Dates/src/arithmetic.jl\" target=\"_blank\">C:\\Program Files (x86)\\Julia 1.5.1\\share\\julia\\stdlib\\v1.5\\Dates\\src\\arithmetic.jl:76</a></li> <li> +(a::<b>Float16</b>, b::<b>Float16</b>) in Base at <a href=\"https://github.com/JuliaLang/julia/tree/697e782ab86bfcdd7fd15550241fe162c51d9f98/base/float.jl#L398\" target=\"_blank\">float.jl:398</a></li> <li> +(B::<b>BitArray{2}</b>, J::<b>LinearAlgebra.UniformScaling</b>) in LinearAlgebra at <a href=\"file://D:/buildbot/worker/package_win64/build/usr/share/julia/stdlib/v1.5/LinearAlgebra/src/uniformscaling.jl\" target=\"_blank\">C:\\Program Files (x86)\\Julia 1.5.1\\share\\julia\\stdlib\\v1.5\\LinearAlgebra\\src\\uniformscaling.jl:117</a></li> <li> +(y::<b>AbstractFloat</b>, x::<b>Bool</b>) in Base at <a href=\"https://github.com/JuliaLang/julia/tree/697e782ab86bfcdd7fd15550241fe162c51d9f98/base/bool.jl#L106\" target=\"_blank\">bool.jl:106</a></li> <li> +(x::<b>T</b>, y::<b>T</b>)<i> where T<:Union{Int128, Int16, Int32, Int64, Int8, UInt128, UInt16, UInt32, UInt64, UInt8}</i> in Base at <a href=\"https://github.com/JuliaLang/julia/tree/697e782ab86bfcdd7fd15550241fe162c51d9f98/base/int.jl#L86\" target=\"_blank\">int.jl:86</a></li> <li> +(c::<b>Union{UInt16, UInt32, UInt8}</b>, x::<b>BigInt</b>) in Base.GMP at <a href=\"https://github.com/JuliaLang/julia/tree/697e782ab86bfcdd7fd15550241fe162c51d9f98/base/gmp.jl#L525\" target=\"_blank\">gmp.jl:525</a></li> <li> +(c::<b>Union{Int16, Int32, Int8}</b>, x::<b>BigInt</b>) in Base.GMP at <a href=\"https://github.com/JuliaLang/julia/tree/697e782ab86bfcdd7fd15550241fe162c51d9f98/base/gmp.jl#L531\" target=\"_blank\">gmp.jl:531</a></li> <li> +(x::<b>GeometryTypes.OffsetInteger{O,T} where T<:Integer</b>, y::<b>GeometryTypes.OffsetInteger{O,T} where T<:Integer</b>)<i> where O</i> in GeometryTypes at <a href=\"file://C:/Users/i am/.julia/packages/GeometryTypes/gpBFp/src/faces.jl\" target=\"_blank\">C:\\Users\\i am\\.julia\\packages\\GeometryTypes\\gpBFp\\src\\faces.jl:31</a></li> <li> +(x::<b>GeometryBasics.OffsetInteger{O,T} where T<:Integer</b>, y::<b>GeometryBasics.OffsetInteger{O,T} where T<:Integer</b>)<i> where O</i> in GeometryBasics at <a href=\"file://C:/Users/i am/.julia/packages/GeometryBasics/CMxB4/src/offsetintegers.jl\" target=\"_blank\">C:\\Users\\i am\\.julia\\packages\\GeometryBasics\\CMxB4\\src\\offsetintegers.jl:54</a></li> <li> +(a::<b>Integer</b>, b::<b>Integer</b>) in Base at <a href=\"https://github.com/JuliaLang/julia/tree/697e782ab86bfcdd7fd15550241fe162c51d9f98/base/int.jl#L918\" target=\"_blank\">int.jl:918</a></li> <li> +(x::<b>Integer</b>, y::<b>Ptr</b>) in Base at <a href=\"https://github.com/JuliaLang/julia/tree/697e782ab86bfcdd7fd15550241fe162c51d9f98/base/pointer.jl#L161\" target=\"_blank\">pointer.jl:161</a></li> <li> +(z::<b>Complex</b>) in Base at <a href=\"https://github.com/JuliaLang/julia/tree/697e782ab86bfcdd7fd15550241fe162c51d9f98/base/complex.jl#L273\" target=\"_blank\">complex.jl:273</a></li> <li> +(z::<b>Complex</b>, w::<b>Complex</b>) in Base at <a href=\"https://github.com/JuliaLang/julia/tree/697e782ab86bfcdd7fd15550241fe162c51d9f98/base/complex.jl#L275\" target=\"_blank\">complex.jl:275</a></li> <li> +(z::<b>Complex</b>, x::<b>Bool</b>) in Base at <a href=\"https://github.com/JuliaLang/julia/tree/697e782ab86bfcdd7fd15550241fe162c51d9f98/base/complex.jl#L294\" target=\"_blank\">complex.jl:294</a></li> <li> +(x::<b>Rational</b>) in Base at <a href=\"https://github.com/JuliaLang/julia/tree/697e782ab86bfcdd7fd15550241fe162c51d9f98/base/rational.jl#L266\" target=\"_blank\">rational.jl:266</a></li> <li> +(x::<b>Real</b>, z::<b>Complex{Bool}</b>) in Base at <a href=\"https://github.com/JuliaLang/julia/tree/697e782ab86bfcdd7fd15550241fe162c51d9f98/base/complex.jl#L300\" target=\"_blank\">complex.jl:300</a></li> <li> +(x::<b>Real</b>, z::<b>Complex</b>) in Base at <a href=\"https://github.com/JuliaLang/julia/tree/697e782ab86bfcdd7fd15550241fe162c51d9f98/base/complex.jl#L312\" target=\"_blank\">complex.jl:312</a></li> <li> +(z::<b>Complex</b>, x::<b>Real</b>) in Base at <a href=\"https://github.com/JuliaLang/julia/tree/697e782ab86bfcdd7fd15550241fe162c51d9f98/base/complex.jl#L313\" target=\"_blank\">complex.jl:313</a></li> <li> +(x::<b>Rational</b>, y::<b>Rational</b>) in Base at <a href=\"https://github.com/JuliaLang/julia/tree/697e782ab86bfcdd7fd15550241fe162c51d9f98/base/rational.jl#L282\" target=\"_blank\">rational.jl:282</a></li> <li> +(x::<b>Rational</b>, y::<b>Integer</b>) in Base at <a href=\"https://github.com/JuliaLang/julia/tree/697e782ab86bfcdd7fd15550241fe162c51d9f98/base/rational.jl#L287\" target=\"_blank\">rational.jl:287</a></li> <li> +(y::<b>Integer</b>, x::<b>Rational</b>) in Base at <a href=\"https://github.com/JuliaLang/julia/tree/697e782ab86bfcdd7fd15550241fe162c51d9f98/base/rational.jl#L294\" target=\"_blank\">rational.jl:294</a></li> <li> +(x::<b>Integer</b>, y::<b>AbstractChar</b>) in Base at <a href=\"https://github.com/JuliaLang/julia/tree/697e782ab86bfcdd7fd15550241fe162c51d9f98/base/char.jl#L224\" target=\"_blank\">char.jl:224</a></li> <li> +(c::<b>Union{UInt16, UInt32, UInt8}</b>, x::<b>BigFloat</b>) in Base.MPFR at <a href=\"https://github.com/JuliaLang/julia/tree/697e782ab86bfcdd7fd15550241fe162c51d9f98/base/mpfr.jl#L375\" target=\"_blank\">mpfr.jl:375</a></li> <li> +(c::<b>Union{Int16, Int32, Int8}</b>, x::<b>BigFloat</b>) in Base.MPFR at <a href=\"https://github.com/JuliaLang/julia/tree/697e782ab86bfcdd7fd15550241fe162c51d9f98/base/mpfr.jl#L383\" target=\"_blank\">mpfr.jl:383</a></li> <li> +(c::<b>Union{Float16, Float32, Float64}</b>, x::<b>BigFloat</b>) in Base.MPFR at <a href=\"https://github.com/JuliaLang/julia/tree/697e782ab86bfcdd7fd15550241fe162c51d9f98/base/mpfr.jl#L391\" target=\"_blank\">mpfr.jl:391</a></li> <li> +(x::<b>AbstractIrrational</b>, y::<b>AbstractIrrational</b>) in Base at <a href=\"https://github.com/JuliaLang/julia/tree/697e782ab86bfcdd7fd15550241fe162c51d9f98/base/irrationals.jl#L156\" target=\"_blank\">irrationals.jl:156</a></li> <li> +(x::<b>X</b>, y::<b>X</b>)<i> where X<:FixedPointNumbers.FixedPoint</i> in FixedPointNumbers at <a href=\"file://C:/Users/i am/.julia/packages/FixedPointNumbers/HAGk2/src/FixedPointNumbers.jl\" target=\"_blank\">C:\\Users\\i am\\.julia\\packages\\FixedPointNumbers\\HAGk2\\src\\FixedPointNumbers.jl:237</a></li> <li> +(x::<b>Number</b>) in Base at <a href=\"https://github.com/JuliaLang/julia/tree/697e782ab86bfcdd7fd15550241fe162c51d9f98/base/operators.jl#L513\" target=\"_blank\">operators.jl:513</a></li> <li> +(x::<b>T</b>, y::<b>T</b>)<i> where T<:Number</i> in Base at <a href=\"https://github.com/JuliaLang/julia/tree/697e782ab86bfcdd7fd15550241fe162c51d9f98/base/promotion.jl#L384\" target=\"_blank\">promotion.jl:384</a></li> <li> +(x::<b>Number</b>, y::<b>Number</b>) in Base at <a href=\"https://github.com/JuliaLang/julia/tree/697e782ab86bfcdd7fd15550241fe162c51d9f98/base/promotion.jl#L311\" target=\"_blank\">promotion.jl:311</a></li> <li> +(r1::<b>OrdinalRange</b>, r2::<b>OrdinalRange</b>) in Base at <a href=\"https://github.com/JuliaLang/julia/tree/697e782ab86bfcdd7fd15550241fe162c51d9f98/base/range.jl#L1055\" target=\"_blank\">range.jl:1055</a></li> <li> +(r1::<b>LinRange{T}</b>, r2::<b>LinRange{T}</b>)<i> where T</i> in Base at <a href=\"https://github.com/JuliaLang/julia/tree/697e782ab86bfcdd7fd15550241fe162c51d9f98/base/range.jl#L1062\" target=\"_blank\">range.jl:1062</a></li> <li> +(r1::<b>StepRangeLen{T,R,S} where S</b>, r2::<b>StepRangeLen{T,R,S} where S</b>)<i> where {R<:Base.TwicePrecision, T}</i> in Base at <a href=\"https://github.com/JuliaLang/julia/tree/697e782ab86bfcdd7fd15550241fe162c51d9f98/base/twiceprecision.jl#L577\" target=\"_blank\">twiceprecision.jl:577</a></li> <li> +(r1::<b>StepRangeLen{T,S,S1} where S1</b>, r2::<b>StepRangeLen{T,S,S1} where S1</b>)<i> where {T, S}</i> in Base at <a href=\"https://github.com/JuliaLang/julia/tree/697e782ab86bfcdd7fd15550241fe162c51d9f98/base/range.jl#L1078\" target=\"_blank\">range.jl:1078</a></li> <li> +(r1::<b>Union{LinRange, OrdinalRange, StepRangeLen}</b>, r2::<b>Union{LinRange, OrdinalRange, StepRangeLen}</b>) in Base at <a href=\"https://github.com/JuliaLang/julia/tree/697e782ab86bfcdd7fd15550241fe162c51d9f98/base/range.jl#L1071\" target=\"_blank\">range.jl:1071</a></li> <li> +(x::<b>Ptr</b>, y::<b>Integer</b>) in Base at <a href=\"https://github.com/JuliaLang/julia/tree/697e782ab86bfcdd7fd15550241fe162c51d9f98/base/pointer.jl#L159\" target=\"_blank\">pointer.jl:159</a></li> <li> +(x::<b>Base.TwicePrecision</b>, y::<b>Number</b>) in Base at <a href=\"https://github.com/JuliaLang/julia/tree/697e782ab86bfcdd7fd15550241fe162c51d9f98/base/twiceprecision.jl#L267\" target=\"_blank\">twiceprecision.jl:267</a></li> <li> +(x::<b>Number</b>, y::<b>Base.TwicePrecision</b>) in Base at <a href=\"https://github.com/JuliaLang/julia/tree/697e782ab86bfcdd7fd15550241fe162c51d9f98/base/twiceprecision.jl#L271\" target=\"_blank\">twiceprecision.jl:271</a></li> <li> +(x::<b>Base.TwicePrecision{T}</b>, y::<b>Base.TwicePrecision{T}</b>)<i> where T</i> in Base at <a href=\"https://github.com/JuliaLang/julia/tree/697e782ab86bfcdd7fd15550241fe162c51d9f98/base/twiceprecision.jl#L273\" target=\"_blank\">twiceprecision.jl:273</a></li> <li> +(x::<b>Base.TwicePrecision</b>, y::<b>Base.TwicePrecision</b>) in Base at <a href=\"https://github.com/JuliaLang/julia/tree/697e782ab86bfcdd7fd15550241fe162c51d9f98/base/twiceprecision.jl#L278\" target=\"_blank\">twiceprecision.jl:278</a></li> <li> +(A::<b>Array</b>, Bs::<b>Array...</b>) in Base at <a href=\"https://github.com/JuliaLang/julia/tree/697e782ab86bfcdd7fd15550241fe162c51d9f98/base/arraymath.jl#L43\" target=\"_blank\">arraymath.jl:43</a></li> <li> +(A::<b>BitArray</b>, B::<b>BitArray</b>) in Base at <a href=\"https://github.com/JuliaLang/julia/tree/697e782ab86bfcdd7fd15550241fe162c51d9f98/base/bitarray.jl#L1110\" target=\"_blank\">bitarray.jl:1110</a></li> <li> +(r::<b>AbstractRange{var\"#s826\"} where var\"#s826\"<:Dates.TimeType</b>, x::<b>Dates.Period</b>) in Dates at <a href=\"file://D:/buildbot/worker/package_win64/build/usr/share/julia/stdlib/v1.5/Dates/src/ranges.jl\" target=\"_blank\">C:\\Program Files (x86)\\Julia 1.5.1\\share\\julia\\stdlib\\v1.5\\Dates\\src\\ranges.jl:59</a></li> <li> +(A::<b>Array</b>, B::<b>SparseArrays.AbstractSparseMatrixCSC</b>) in SparseArrays at <a href=\"file://D:/buildbot/worker/package_win64/build/usr/share/julia/stdlib/v1.5/SparseArrays/src/sparsematrix.jl\" target=\"_blank\">C:\\Program Files (x86)\\Julia 1.5.1\\share\\julia\\stdlib\\v1.5\\SparseArrays\\src\\sparsematrix.jl:1683</a></li> <li> +(x::<b>StridedArray{var\"#s826\", N} where N where var\"#s826\"<:Union{Dates.CompoundPeriod, Dates.Period}</b>) in Dates at <a href=\"file://D:/buildbot/worker/package_win64/build/usr/share/julia/stdlib/v1.5/Dates/src/deprecated.jl\" target=\"_blank\">C:\\Program Files (x86)\\Julia 1.5.1\\share\\julia\\stdlib\\v1.5\\Dates\\src\\deprecated.jl:55</a></li> <li> +(x::<b>StridedArray{var\"#s826\", N} where N where var\"#s826\"<:Union{Dates.CompoundPeriod, Dates.Period}</b>, y::<b>Dates.TimeType</b>) in Dates at <a href=\"file://D:/buildbot/worker/package_win64/build/usr/share/julia/stdlib/v1.5/Dates/src/deprecated.jl\" target=\"_blank\">C:\\Program Files (x86)\\Julia 1.5.1\\share\\julia\\stdlib\\v1.5\\Dates\\src\\deprecated.jl:10</a></li> <li> +(X::<b>StridedArray{var\"#s826\", N} where N where var\"#s826\"<:Union{Dates.CompoundPeriod, Dates.Period}</b>, Y::<b>StridedArray{var\"#s825\", N} where N where var\"#s825\"<:Union{Dates.CompoundPeriod, Dates.Period}</b>) in Dates at <a href=\"file://D:/buildbot/worker/package_win64/build/usr/share/julia/stdlib/v1.5/Dates/src/deprecated.jl\" target=\"_blank\">C:\\Program Files (x86)\\Julia 1.5.1\\share\\julia\\stdlib\\v1.5\\Dates\\src\\deprecated.jl:62</a></li> <li> +(A::<b>LinearAlgebra.SymTridiagonal</b>, B::<b>LinearAlgebra.SymTridiagonal</b>) in LinearAlgebra at <a href=\"file://D:/buildbot/worker/package_win64/build/usr/share/julia/stdlib/v1.5/LinearAlgebra/src/tridiag.jl\" target=\"_blank\">C:\\Program Files (x86)\\Julia 1.5.1\\share\\julia\\stdlib\\v1.5\\LinearAlgebra\\src\\tridiag.jl:205</a></li> <li> +(A::<b>LinearAlgebra.Tridiagonal</b>, B::<b>LinearAlgebra.Tridiagonal</b>) in LinearAlgebra at <a href=\"file://D:/buildbot/worker/package_win64/build/usr/share/julia/stdlib/v1.5/LinearAlgebra/src/tridiag.jl\" target=\"_blank\">C:\\Program Files (x86)\\Julia 1.5.1\\share\\julia\\stdlib\\v1.5\\LinearAlgebra\\src\\tridiag.jl:732</a></li> <li> +(A::<b>LinearAlgebra.UpperTriangular</b>, B::<b>LinearAlgebra.UpperTriangular</b>) in LinearAlgebra at <a href=\"file://D:/buildbot/worker/package_win64/build/usr/share/julia/stdlib/v1.5/LinearAlgebra/src/triangular.jl\" target=\"_blank\">C:\\Program Files (x86)\\Julia 1.5.1\\share\\julia\\stdlib\\v1.5\\LinearAlgebra\\src\\triangular.jl:659</a></li> <li> +(A::<b>LinearAlgebra.LowerTriangular</b>, B::<b>LinearAlgebra.LowerTriangular</b>) in LinearAlgebra at <a href=\"file://D:/buildbot/worker/package_win64/build/usr/share/julia/stdlib/v1.5/LinearAlgebra/src/triangular.jl\" target=\"_blank\">C:\\Program Files (x86)\\Julia 1.5.1\\share\\julia\\stdlib\\v1.5\\LinearAlgebra\\src\\triangular.jl:660</a></li> <li> +(A::<b>LinearAlgebra.UpperTriangular</b>, B::<b>LinearAlgebra.UnitUpperTriangular</b>) in LinearAlgebra at <a href=\"file://D:/buildbot/worker/package_win64/build/usr/share/julia/stdlib/v1.5/LinearAlgebra/src/triangular.jl\" target=\"_blank\">C:\\Program Files (x86)\\Julia 1.5.1\\share\\julia\\stdlib\\v1.5\\LinearAlgebra\\src\\triangular.jl:661</a></li> <li> +(A::<b>LinearAlgebra.LowerTriangular</b>, B::<b>LinearAlgebra.UnitLowerTriangular</b>) in LinearAlgebra at <a href=\"file://D:/buildbot/worker/package_win64/build/usr/share/julia/stdlib/v1.5/LinearAlgebra/src/triangular.jl\" target=\"_blank\">C:\\Program Files (x86)\\Julia 1.5.1\\share\\julia\\stdlib\\v1.5\\LinearAlgebra\\src\\triangular.jl:662</a></li> <li> +(A::<b>LinearAlgebra.UnitUpperTriangular</b>, B::<b>LinearAlgebra.UpperTriangular</b>) in LinearAlgebra at <a href=\"file://D:/buildbot/worker/package_win64/build/usr/share/julia/stdlib/v1.5/LinearAlgebra/src/triangular.jl\" target=\"_blank\">C:\\Program Files (x86)\\Julia 1.5.1\\share\\julia\\stdlib\\v1.5\\LinearAlgebra\\src\\triangular.jl:663</a></li> <li> +(A::<b>LinearAlgebra.UnitLowerTriangular</b>, B::<b>LinearAlgebra.LowerTriangular</b>) in LinearAlgebra at <a href=\"file://D:/buildbot/worker/package_win64/build/usr/share/julia/stdlib/v1.5/LinearAlgebra/src/triangular.jl\" target=\"_blank\">C:\\Program Files (x86)\\Julia 1.5.1\\share\\julia\\stdlib\\v1.5\\LinearAlgebra\\src\\triangular.jl:664</a></li> <li> +(A::<b>LinearAlgebra.UnitUpperTriangular</b>, B::<b>LinearAlgebra.UnitUpperTriangular</b>) in LinearAlgebra at <a href=\"file://D:/buildbot/worker/package_win64/build/usr/share/julia/stdlib/v1.5/LinearAlgebra/src/triangular.jl\" target=\"_blank\">C:\\Program Files (x86)\\Julia 1.5.1\\share\\julia\\stdlib\\v1.5\\LinearAlgebra\\src\\triangular.jl:665</a></li> <li> +(A::<b>LinearAlgebra.UnitLowerTriangular</b>, B::<b>LinearAlgebra.UnitLowerTriangular</b>) in LinearAlgebra at <a href=\"file://D:/buildbot/worker/package_win64/build/usr/share/julia/stdlib/v1.5/LinearAlgebra/src/triangular.jl\" target=\"_blank\">C:\\Program Files (x86)\\Julia 1.5.1\\share\\julia\\stdlib\\v1.5\\LinearAlgebra\\src\\triangular.jl:666</a></li> <li> +(A::<b>LinearAlgebra.AbstractTriangular</b>, B::<b>LinearAlgebra.AbstractTriangular</b>) in LinearAlgebra at <a href=\"file://D:/buildbot/worker/package_win64/build/usr/share/julia/stdlib/v1.5/LinearAlgebra/src/triangular.jl\" target=\"_blank\">C:\\Program Files (x86)\\Julia 1.5.1\\share\\julia\\stdlib\\v1.5\\LinearAlgebra\\src\\triangular.jl:667</a></li> <li> +(A::<b>LinearAlgebra.Hermitian</b>, B::<b>LinearAlgebra.Hermitian</b>) in LinearAlgebra at <a href=\"file://D:/buildbot/worker/package_win64/build/usr/share/julia/stdlib/v1.5/LinearAlgebra/src/symmetric.jl\" target=\"_blank\">C:\\Program Files (x86)\\Julia 1.5.1\\share\\julia\\stdlib\\v1.5\\LinearAlgebra\\src\\symmetric.jl:466</a></li> <li> +(A::<b>LinearAlgebra.Symmetric</b>, B::<b>LinearAlgebra.Symmetric</b>) in LinearAlgebra at <a href=\"file://D:/buildbot/worker/package_win64/build/usr/share/julia/stdlib/v1.5/LinearAlgebra/src/symmetric.jl\" target=\"_blank\">C:\\Program Files (x86)\\Julia 1.5.1\\share\\julia\\stdlib\\v1.5\\LinearAlgebra\\src\\symmetric.jl:466</a></li> <li> +(A::<b>LinearAlgebra.Hermitian{var\"#s814\",var\"#s813\"} where var\"#s813\"<:(SparseArrays.AbstractSparseArray{Tv,Ti,2} where Ti where Tv) where var\"#s814\"</b>, B::<b>LinearAlgebra.Symmetric{var\"#s812\",var\"#s811\"} where var\"#s811\"<:(SparseArrays.AbstractSparseArray{Tv,Ti,2} where Ti where Tv) where var\"#s812\"<:Real</b>) in SparseArrays at <a href=\"file://D:/buildbot/worker/package_win64/build/usr/share/julia/stdlib/v1.5/SparseArrays/src/linalg.jl\" target=\"_blank\">C:\\Program Files (x86)\\Julia 1.5.1\\share\\julia\\stdlib\\v1.5\\SparseArrays\\src\\linalg.jl:24</a></li> <li> +(A::<b>LinearAlgebra.Hermitian</b>, B::<b>LinearAlgebra.Symmetric{var\"#s826\",S} where S<:(AbstractArray{var\"#s8261\",2} where var\"#s8261\"<:var\"#s826\") where var\"#s826\"<:Real</b>) in LinearAlgebra at <a href=\"file://D:/buildbot/worker/package_win64/build/usr/share/julia/stdlib/v1.5/LinearAlgebra/src/symmetric.jl\" target=\"_blank\">C:\\Program Files (x86)\\Julia 1.5.1\\share\\julia\\stdlib\\v1.5\\LinearAlgebra\\src\\symmetric.jl:480</a></li> <li> +(A::<b>LinearAlgebra.Symmetric{var\"#s818\",var\"#s817\"} where var\"#s817\"<:(SparseArrays.AbstractSparseArray{Tv,Ti,2} where Ti where Tv) where var\"#s818\"<:Real</b>, B::<b>LinearAlgebra.Hermitian{var\"#s816\",var\"#s815\"} where var\"#s815\"<:(SparseArrays.AbstractSparseArray{Tv,Ti,2} where Ti where Tv) where var\"#s816\"</b>) in SparseArrays at <a href=\"file://D:/buildbot/worker/package_win64/build/usr/share/julia/stdlib/v1.5/SparseArrays/src/linalg.jl\" target=\"_blank\">C:\\Program Files (x86)\\Julia 1.5.1\\share\\julia\\stdlib\\v1.5\\SparseArrays\\src\\linalg.jl:23</a></li> <li> +(A::<b>LinearAlgebra.Symmetric{var\"#s825\",S} where S<:(AbstractArray{var\"#s826\",2} where var\"#s826\"<:var\"#s825\") where var\"#s825\"<:Real</b>, B::<b>LinearAlgebra.Hermitian</b>) in LinearAlgebra at <a href=\"file://D:/buildbot/worker/package_win64/build/usr/share/julia/stdlib/v1.5/LinearAlgebra/src/symmetric.jl\" target=\"_blank\">C:\\Program Files (x86)\\Julia 1.5.1\\share\\julia\\stdlib\\v1.5\\LinearAlgebra\\src\\symmetric.jl:481</a></li> <li> +(Da::<b>LinearAlgebra.Diagonal</b>, Db::<b>LinearAlgebra.Diagonal</b>) in LinearAlgebra at <a href=\"file://D:/buildbot/worker/package_win64/build/usr/share/julia/stdlib/v1.5/LinearAlgebra/src/diagonal.jl\" target=\"_blank\">C:\\Program Files (x86)\\Julia 1.5.1\\share\\julia\\stdlib\\v1.5\\LinearAlgebra\\src\\diagonal.jl:156</a></li> <li> +(D::<b>LinearAlgebra.Diagonal</b>, S::<b>LinearAlgebra.Symmetric</b>) in LinearAlgebra at <a href=\"file://D:/buildbot/worker/package_win64/build/usr/share/julia/stdlib/v1.5/LinearAlgebra/src/diagonal.jl\" target=\"_blank\">C:\\Program Files (x86)\\Julia 1.5.1\\share\\julia\\stdlib\\v1.5\\LinearAlgebra\\src\\diagonal.jl:160</a></li> <li> +(S::<b>LinearAlgebra.Symmetric</b>, D::<b>LinearAlgebra.Diagonal</b>) in LinearAlgebra at <a href=\"file://D:/buildbot/worker/package_win64/build/usr/share/julia/stdlib/v1.5/LinearAlgebra/src/diagonal.jl\" target=\"_blank\">C:\\Program Files (x86)\\Julia 1.5.1\\share\\julia\\stdlib\\v1.5\\LinearAlgebra\\src\\diagonal.jl:163</a></li> <li> +(D::<b>LinearAlgebra.Diagonal{var\"#s826\",V} where V<:AbstractArray{var\"#s826\",1} where var\"#s826\"<:Real</b>, H::<b>LinearAlgebra.Hermitian</b>) in LinearAlgebra at <a href=\"file://D:/buildbot/worker/package_win64/build/usr/share/julia/stdlib/v1.5/LinearAlgebra/src/diagonal.jl\" target=\"_blank\">C:\\Program Files (x86)\\Julia 1.5.1\\share\\julia\\stdlib\\v1.5\\LinearAlgebra\\src\\diagonal.jl:166</a></li> <li> +(H::<b>LinearAlgebra.Hermitian</b>, D::<b>LinearAlgebra.Diagonal{var\"#s826\",V} where V<:AbstractArray{var\"#s826\",1} where var\"#s826\"<:Real</b>) in LinearAlgebra at <a href=\"file://D:/buildbot/worker/package_win64/build/usr/share/julia/stdlib/v1.5/LinearAlgebra/src/diagonal.jl\" target=\"_blank\">C:\\Program Files (x86)\\Julia 1.5.1\\share\\julia\\stdlib\\v1.5\\LinearAlgebra\\src\\diagonal.jl:169</a></li> <li> +(A::<b>LinearAlgebra.Bidiagonal</b>, B::<b>LinearAlgebra.Bidiagonal</b>) in LinearAlgebra at <a href=\"file://D:/buildbot/worker/package_win64/build/usr/share/julia/stdlib/v1.5/LinearAlgebra/src/bidiag.jl\" target=\"_blank\">C:\\Program Files (x86)\\Julia 1.5.1\\share\\julia\\stdlib\\v1.5\\LinearAlgebra\\src\\bidiag.jl:347</a></li> <li> +(UL::<b>LinearAlgebra.UnitUpperTriangular</b>, J::<b>LinearAlgebra.UniformScaling</b>) in LinearAlgebra at <a href=\"file://D:/buildbot/worker/package_win64/build/usr/share/julia/stdlib/v1.5/LinearAlgebra/src/uniformscaling.jl\" target=\"_blank\">C:\\Program Files (x86)\\Julia 1.5.1\\share\\julia\\stdlib\\v1.5\\LinearAlgebra\\src\\uniformscaling.jl:147</a></li> <li> +(UL::<b>LinearAlgebra.UnitLowerTriangular</b>, J::<b>LinearAlgebra.UniformScaling</b>) in LinearAlgebra at <a href=\"file://D:/buildbot/worker/package_win64/build/usr/share/julia/stdlib/v1.5/LinearAlgebra/src/uniformscaling.jl\" target=\"_blank\">C:\\Program Files (x86)\\Julia 1.5.1\\share\\julia\\stdlib\\v1.5\\LinearAlgebra\\src\\uniformscaling.jl:147</a></li> <li> +(A::<b>LinearAlgebra.Hermitian</b>, J::<b>LinearAlgebra.UniformScaling{var\"#s826\"} where var\"#s826\"<:Complex</b>) in LinearAlgebra at <a href=\"file://D:/buildbot/worker/package_win64/build/usr/share/julia/stdlib/v1.5/LinearAlgebra/src/uniformscaling.jl\" target=\"_blank\">C:\\Program Files (x86)\\Julia 1.5.1\\share\\julia\\stdlib\\v1.5\\LinearAlgebra\\src\\uniformscaling.jl:161</a></li> <li> +(H::<b>LinearAlgebra.UpperHessenberg</b>, J::<b>LinearAlgebra.UniformScaling</b>) in LinearAlgebra at <a href=\"file://D:/buildbot/worker/package_win64/build/usr/share/julia/stdlib/v1.5/LinearAlgebra/src/hessenberg.jl\" target=\"_blank\">C:\\Program Files (x86)\\Julia 1.5.1\\share\\julia\\stdlib\\v1.5\\LinearAlgebra\\src\\hessenberg.jl:106</a></li> <li> +(A::<b>LinearAlgebra.Tridiagonal{var\"#s826\",V} where V<:AbstractArray{var\"#s826\",1} where var\"#s826\"<:Number</b>, B::<b>LinearAlgebra.UniformScaling</b>) in LinearAlgebra at <a href=\"file://D:/buildbot/worker/package_win64/build/usr/share/julia/stdlib/v1.5/LinearAlgebra/src/special.jl\" target=\"_blank\">C:\\Program Files (x86)\\Julia 1.5.1\\share\\julia\\stdlib\\v1.5\\LinearAlgebra\\src\\special.jl:226</a></li> <li> +(A::<b>LinearAlgebra.SymTridiagonal{var\"#s826\",V} where V<:AbstractArray{var\"#s826\",1} where var\"#s826\"<:Number</b>, B::<b>LinearAlgebra.UniformScaling</b>) in LinearAlgebra at <a href=\"file://D:/buildbot/worker/package_win64/build/usr/share/julia/stdlib/v1.5/LinearAlgebra/src/special.jl\" target=\"_blank\">C:\\Program Files (x86)\\Julia 1.5.1\\share\\julia\\stdlib\\v1.5\\LinearAlgebra\\src\\special.jl:231</a></li> <li> +(A::<b>LinearAlgebra.Bidiagonal{var\"#s826\",V} where V<:AbstractArray{var\"#s826\",1} where var\"#s826\"<:Number</b>, B::<b>LinearAlgebra.UniformScaling</b>) in LinearAlgebra at <a href=\"file://D:/buildbot/worker/package_win64/build/usr/share/julia/stdlib/v1.5/LinearAlgebra/src/special.jl\" target=\"_blank\">C:\\Program Files (x86)\\Julia 1.5.1\\share\\julia\\stdlib\\v1.5\\LinearAlgebra\\src\\special.jl:236</a></li> <li> +(A::<b>LinearAlgebra.Diagonal{var\"#s826\",V} where V<:AbstractArray{var\"#s826\",1} where var\"#s826\"<:Number</b>, B::<b>LinearAlgebra.UniformScaling</b>) in LinearAlgebra at <a href=\"file://D:/buildbot/worker/package_win64/build/usr/share/julia/stdlib/v1.5/LinearAlgebra/src/special.jl\" target=\"_blank\">C:\\Program Files (x86)\\Julia 1.5.1\\share\\julia\\stdlib\\v1.5\\LinearAlgebra\\src\\special.jl:241</a></li> <li> +(A::<b>SparseArrays.AbstractSparseMatrixCSC</b>, J::<b>LinearAlgebra.UniformScaling</b>) in SparseArrays at <a href=\"file://D:/buildbot/worker/package_win64/build/usr/share/julia/stdlib/v1.5/SparseArrays/src/sparsematrix.jl\" target=\"_blank\">C:\\Program Files (x86)\\Julia 1.5.1\\share\\julia\\stdlib\\v1.5\\SparseArrays\\src\\sparsematrix.jl:3641</a></li> <li> +(a::<b>StaticArrays.StaticArray{Tuple{N,M},T,2} where T where M where N</b>, b::<b>LinearAlgebra.UniformScaling</b>) in StaticArrays at <a href=\"file://C:/Users/i am/.julia/packages/StaticArrays/l7lu2/src/linalg.jl\" target=\"_blank\">C:\\Users\\i am\\.julia\\packages\\StaticArrays\\l7lu2\\src\\linalg.jl:28</a></li> <li> +(A::<b>AbstractArray{T,2} where T</b>, J::<b>LinearAlgebra.UniformScaling</b>) in LinearAlgebra at <a href=\"file://D:/buildbot/worker/package_win64/build/usr/share/julia/stdlib/v1.5/LinearAlgebra/src/uniformscaling.jl\" target=\"_blank\">C:\\Program Files (x86)\\Julia 1.5.1\\share\\julia\\stdlib\\v1.5\\LinearAlgebra\\src\\uniformscaling.jl:180</a></li> <li> +(A::<b>LinearAlgebra.UpperHessenberg</b>, B::<b>LinearAlgebra.UpperHessenberg</b>) in LinearAlgebra at <a href=\"file://D:/buildbot/worker/package_win64/build/usr/share/julia/stdlib/v1.5/LinearAlgebra/src/hessenberg.jl\" target=\"_blank\">C:\\Program Files (x86)\\Julia 1.5.1\\share\\julia\\stdlib\\v1.5\\LinearAlgebra\\src\\hessenberg.jl:101</a></li> <li> +(A::<b>LinearAlgebra.UpperTriangular</b>, B::<b>LinearAlgebra.Bidiagonal</b>) in LinearAlgebra at <a href=\"file://D:/buildbot/worker/package_win64/build/usr/share/julia/stdlib/v1.5/LinearAlgebra/src/special.jl\" target=\"_blank\">C:\\Program Files (x86)\\Julia 1.5.1\\share\\julia\\stdlib\\v1.5\\LinearAlgebra\\src\\special.jl:86</a></li> <li> +(A::<b>LinearAlgebra.Bidiagonal</b>, B::<b>LinearAlgebra.UpperTriangular</b>) in LinearAlgebra at <a href=\"file://D:/buildbot/worker/package_win64/build/usr/share/julia/stdlib/v1.5/LinearAlgebra/src/special.jl\" target=\"_blank\">C:\\Program Files (x86)\\Julia 1.5.1\\share\\julia\\stdlib\\v1.5\\LinearAlgebra\\src\\special.jl:94</a></li> <li> +(A::<b>LinearAlgebra.UnitUpperTriangular</b>, B::<b>LinearAlgebra.Bidiagonal</b>) in LinearAlgebra at <a href=\"file://D:/buildbot/worker/package_win64/build/usr/share/julia/stdlib/v1.5/LinearAlgebra/src/special.jl\" target=\"_blank\">C:\\Program Files (x86)\\Julia 1.5.1\\share\\julia\\stdlib\\v1.5\\LinearAlgebra\\src\\special.jl:86</a></li> <li> +(A::<b>LinearAlgebra.Bidiagonal</b>, B::<b>LinearAlgebra.UnitUpperTriangular</b>) in LinearAlgebra at <a href=\"file://D:/buildbot/worker/package_win64/build/usr/share/julia/stdlib/v1.5/LinearAlgebra/src/special.jl\" target=\"_blank\">C:\\Program Files (x86)\\Julia 1.5.1\\share\\julia\\stdlib\\v1.5\\LinearAlgebra\\src\\special.jl:94</a></li> <li> +(A::<b>LinearAlgebra.LowerTriangular</b>, B::<b>LinearAlgebra.Bidiagonal</b>) in LinearAlgebra at <a href=\"file://D:/buildbot/worker/package_win64/build/usr/share/julia/stdlib/v1.5/LinearAlgebra/src/special.jl\" target=\"_blank\">C:\\Program Files (x86)\\Julia 1.5.1\\share\\julia\\stdlib\\v1.5\\LinearAlgebra\\src\\special.jl:86</a></li> <li> +(A::<b>LinearAlgebra.Bidiagonal</b>, B::<b>LinearAlgebra.LowerTriangular</b>) in LinearAlgebra at <a href=\"file://D:/buildbot/worker/package_win64/build/usr/share/julia/stdlib/v1.5/LinearAlgebra/src/special.jl\" target=\"_blank\">C:\\Program Files (x86)\\Julia 1.5.1\\share\\julia\\stdlib\\v1.5\\LinearAlgebra\\src\\special.jl:94</a></li> <li> +(A::<b>LinearAlgebra.UnitLowerTriangular</b>, B::<b>LinearAlgebra.Bidiagonal</b>) in LinearAlgebra at <a href=\"file://D:/buildbot/worker/package_win64/build/usr/share/julia/stdlib/v1.5/LinearAlgebra/src/special.jl\" target=\"_blank\">C:\\Program Files (x86)\\Julia 1.5.1\\share\\julia\\stdlib\\v1.5\\LinearAlgebra\\src\\special.jl:86</a></li> <li> +(A::<b>LinearAlgebra.Bidiagonal</b>, B::<b>LinearAlgebra.UnitLowerTriangular</b>) in LinearAlgebra at <a href=\"file://D:/buildbot/worker/package_win64/build/usr/share/julia/stdlib/v1.5/LinearAlgebra/src/special.jl\" target=\"_blank\">C:\\Program Files (x86)\\Julia 1.5.1\\share\\julia\\stdlib\\v1.5\\LinearAlgebra\\src\\special.jl:94</a></li> <li> +(A::<b>LinearAlgebra.Bidiagonal</b>, B::<b>LinearAlgebra.Diagonal</b>) in LinearAlgebra at <a href=\"file://D:/buildbot/worker/package_win64/build/usr/share/julia/stdlib/v1.5/LinearAlgebra/src/special.jl\" target=\"_blank\">C:\\Program Files (x86)\\Julia 1.5.1\\share\\julia\\stdlib\\v1.5\\LinearAlgebra\\src\\special.jl:115</a></li> <li> +(A::<b>LinearAlgebra.Diagonal</b>, B::<b>LinearAlgebra.Bidiagonal</b>) in LinearAlgebra at <a href=\"file://D:/buildbot/worker/package_win64/build/usr/share/julia/stdlib/v1.5/LinearAlgebra/src/special.jl\" target=\"_blank\">C:\\Program Files (x86)\\Julia 1.5.1\\share\\julia\\stdlib\\v1.5\\LinearAlgebra\\src\\special.jl:125</a></li> <li> +(A::<b>LinearAlgebra.Diagonal</b>, B::<b>LinearAlgebra.SymTridiagonal</b>) in LinearAlgebra at <a href=\"file://D:/buildbot/worker/package_win64/build/usr/share/julia/stdlib/v1.5/LinearAlgebra/src/special.jl\" target=\"_blank\">C:\\Program Files (x86)\\Julia 1.5.1\\share\\julia\\stdlib\\v1.5\\LinearAlgebra\\src\\special.jl:135</a></li> <li> +(A::<b>LinearAlgebra.SymTridiagonal</b>, B::<b>LinearAlgebra.Diagonal</b>) in LinearAlgebra at <a href=\"file://D:/buildbot/worker/package_win64/build/usr/share/julia/stdlib/v1.5/LinearAlgebra/src/special.jl\" target=\"_blank\">C:\\Program Files (x86)\\Julia 1.5.1\\share\\julia\\stdlib\\v1.5\\LinearAlgebra\\src\\special.jl:145</a></li> <li> +(A::<b>LinearAlgebra.Tridiagonal</b>, B::<b>LinearAlgebra.SymTridiagonal</b>) in LinearAlgebra at <a href=\"file://D:/buildbot/worker/package_win64/build/usr/share/julia/stdlib/v1.5/LinearAlgebra/src/special.jl\" target=\"_blank\">C:\\Program Files (x86)\\Julia 1.5.1\\share\\julia\\stdlib\\v1.5\\LinearAlgebra\\src\\special.jl:157</a></li> <li> +(A::<b>LinearAlgebra.SymTridiagonal</b>, B::<b>LinearAlgebra.Tridiagonal</b>) in LinearAlgebra at <a href=\"file://D:/buildbot/worker/package_win64/build/usr/share/julia/stdlib/v1.5/LinearAlgebra/src/special.jl\" target=\"_blank\">C:\\Program Files (x86)\\Julia 1.5.1\\share\\julia\\stdlib\\v1.5\\LinearAlgebra\\src\\special.jl:159</a></li> <li> +(A::<b>LinearAlgebra.Diagonal</b>, B::<b>LinearAlgebra.Tridiagonal</b>) in LinearAlgebra at <a href=\"file://D:/buildbot/worker/package_win64/build/usr/share/julia/stdlib/v1.5/LinearAlgebra/src/special.jl\" target=\"_blank\">C:\\Program Files (x86)\\Julia 1.5.1\\share\\julia\\stdlib\\v1.5\\LinearAlgebra\\src\\special.jl:163</a></li> <li> +(A::<b>LinearAlgebra.Tridiagonal</b>, B::<b>LinearAlgebra.Diagonal</b>) in LinearAlgebra at <a href=\"file://D:/buildbot/worker/package_win64/build/usr/share/julia/stdlib/v1.5/LinearAlgebra/src/special.jl\" target=\"_blank\">C:\\Program Files (x86)\\Julia 1.5.1\\share\\julia\\stdlib\\v1.5\\LinearAlgebra\\src\\special.jl:173</a></li> <li> +(A::<b>LinearAlgebra.Bidiagonal</b>, B::<b>LinearAlgebra.Tridiagonal</b>) in LinearAlgebra at <a href=\"file://D:/buildbot/worker/package_win64/build/usr/share/julia/stdlib/v1.5/LinearAlgebra/src/special.jl\" target=\"_blank\">C:\\Program Files (x86)\\Julia 1.5.1\\share\\julia\\stdlib\\v1.5\\LinearAlgebra\\src\\special.jl:183</a></li> <li> +(A::<b>LinearAlgebra.Tridiagonal</b>, B::<b>LinearAlgebra.Bidiagonal</b>) in LinearAlgebra at <a href=\"file://D:/buildbot/worker/package_win64/build/usr/share/julia/stdlib/v1.5/LinearAlgebra/src/special.jl\" target=\"_blank\">C:\\Program Files (x86)\\Julia 1.5.1\\share\\julia\\stdlib\\v1.5\\LinearAlgebra\\src\\special.jl:193</a></li> <li> +(A::<b>LinearAlgebra.Bidiagonal</b>, B::<b>LinearAlgebra.SymTridiagonal</b>) in LinearAlgebra at <a href=\"file://D:/buildbot/worker/package_win64/build/usr/share/julia/stdlib/v1.5/LinearAlgebra/src/special.jl\" target=\"_blank\">C:\\Program Files (x86)\\Julia 1.5.1\\share\\julia\\stdlib\\v1.5\\LinearAlgebra\\src\\special.jl:203</a></li> <li> +(A::<b>LinearAlgebra.SymTridiagonal</b>, B::<b>LinearAlgebra.Bidiagonal</b>) in LinearAlgebra at <a href=\"file://D:/buildbot/worker/package_win64/build/usr/share/julia/stdlib/v1.5/LinearAlgebra/src/special.jl\" target=\"_blank\">C:\\Program Files (x86)\\Julia 1.5.1\\share\\julia\\stdlib\\v1.5\\LinearAlgebra\\src\\special.jl:213</a></li> <li> +(A::<b>SparseArrays.AbstractSparseMatrixCSC</b>, B::<b>SparseArrays.AbstractSparseMatrixCSC</b>) in SparseArrays at <a href=\"file://D:/buildbot/worker/package_win64/build/usr/share/julia/stdlib/v1.5/SparseArrays/src/sparsematrix.jl\" target=\"_blank\">C:\\Program Files (x86)\\Julia 1.5.1\\share\\julia\\stdlib\\v1.5\\SparseArrays\\src\\sparsematrix.jl:1679</a></li> <li> +(A::<b>SparseArrays.AbstractSparseMatrixCSC</b>, B::<b>Array</b>) in SparseArrays at <a href=\"file://D:/buildbot/worker/package_win64/build/usr/share/julia/stdlib/v1.5/SparseArrays/src/sparsematrix.jl\" target=\"_blank\">C:\\Program Files (x86)\\Julia 1.5.1\\share\\julia\\stdlib\\v1.5\\SparseArrays\\src\\sparsematrix.jl:1682</a></li> <li> +(x::<b>SparseArrays.AbstractSparseArray{Tv,Ti,1} where Ti where Tv</b>, y::<b>SparseArrays.AbstractSparseArray{Tv,Ti,1} where Ti where Tv</b>) in SparseArrays at <a href=\"file://D:/buildbot/worker/package_win64/build/usr/share/julia/stdlib/v1.5/SparseArrays/src/sparsevector.jl\" target=\"_blank\">C:\\Program Files (x86)\\Julia 1.5.1\\share\\julia\\stdlib\\v1.5\\SparseArrays\\src\\sparsevector.jl:1302</a></li> <li> +(A::<b>SparseArrays.AbstractSparseArray{Tv,Ti,2} where Ti where Tv</b>, B::<b>LinearAlgebra.Hermitian{var\"#s826\",var\"#s825\"} where var\"#s825\"<:(SparseArrays.AbstractSparseArray{Tv,Ti,2} where Ti where Tv) where var\"#s826\"</b>) in SparseArrays at <a href=\"file://D:/buildbot/worker/package_win64/build/usr/share/julia/stdlib/v1.5/SparseArrays/src/linalg.jl\" target=\"_blank\">C:\\Program Files (x86)\\Julia 1.5.1\\share\\julia\\stdlib\\v1.5\\SparseArrays\\src\\linalg.jl:12</a></li> <li> +(A::<b>LinearAlgebra.Hermitian{var\"#s824\",var\"#s823\"} where var\"#s823\"<:(SparseArrays.AbstractSparseArray{Tv,Ti,2} where Ti where Tv) where var\"#s824\"</b>, B::<b>SparseArrays.AbstractSparseArray{Tv,Ti,2} where Ti where Tv</b>) in SparseArrays at <a href=\"file://D:/buildbot/worker/package_win64/build/usr/share/julia/stdlib/v1.5/SparseArrays/src/linalg.jl\" target=\"_blank\">C:\\Program Files (x86)\\Julia 1.5.1\\share\\julia\\stdlib\\v1.5\\SparseArrays\\src\\linalg.jl:13</a></li> <li> +(A::<b>SparseArrays.AbstractSparseArray{Tv,Ti,2} where Ti where Tv</b>, B::<b>LinearAlgebra.Hermitian</b>) in SparseArrays at <a href=\"file://D:/buildbot/worker/package_win64/build/usr/share/julia/stdlib/v1.5/SparseArrays/src/linalg.jl\" target=\"_blank\">C:\\Program Files (x86)\\Julia 1.5.1\\share\\julia\\stdlib\\v1.5\\SparseArrays\\src\\linalg.jl:15</a></li> <li> +(A::<b>LinearAlgebra.Hermitian</b>, B::<b>SparseArrays.AbstractSparseArray{Tv,Ti,2} where Ti where Tv</b>) in SparseArrays at <a href=\"file://D:/buildbot/worker/package_win64/build/usr/share/julia/stdlib/v1.5/SparseArrays/src/linalg.jl\" target=\"_blank\">C:\\Program Files (x86)\\Julia 1.5.1\\share\\julia\\stdlib\\v1.5\\SparseArrays\\src\\linalg.jl:16</a></li> <li> +(A::<b>SparseArrays.AbstractSparseArray{Tv,Ti,2} where Ti where Tv</b>, B::<b>LinearAlgebra.Symmetric{var\"#s826\",var\"#s825\"} where var\"#s825\"<:(SparseArrays.AbstractSparseArray{Tv,Ti,2} where Ti where Tv) where var\"#s826\"</b>) in SparseArrays at <a href=\"file://D:/buildbot/worker/package_win64/build/usr/share/julia/stdlib/v1.5/SparseArrays/src/linalg.jl\" target=\"_blank\">C:\\Program Files (x86)\\Julia 1.5.1\\share\\julia\\stdlib\\v1.5\\SparseArrays\\src\\linalg.jl:12</a></li> <li> +(A::<b>LinearAlgebra.Symmetric{var\"#s824\",var\"#s823\"} where var\"#s823\"<:(SparseArrays.AbstractSparseArray{Tv,Ti,2} where Ti where Tv) where var\"#s824\"</b>, B::<b>SparseArrays.AbstractSparseArray{Tv,Ti,2} where Ti where Tv</b>) in SparseArrays at <a href=\"file://D:/buildbot/worker/package_win64/build/usr/share/julia/stdlib/v1.5/SparseArrays/src/linalg.jl\" target=\"_blank\">C:\\Program Files (x86)\\Julia 1.5.1\\share\\julia\\stdlib\\v1.5\\SparseArrays\\src\\linalg.jl:13</a></li> <li> +(A::<b>SparseArrays.AbstractSparseArray{Tv,Ti,2} where Ti where Tv</b>, B::<b>LinearAlgebra.Symmetric</b>) in SparseArrays at <a href=\"file://D:/buildbot/worker/package_win64/build/usr/share/julia/stdlib/v1.5/SparseArrays/src/linalg.jl\" target=\"_blank\">C:\\Program Files (x86)\\Julia 1.5.1\\share\\julia\\stdlib\\v1.5\\SparseArrays\\src\\linalg.jl:15</a></li> <li> +(A::<b>LinearAlgebra.Symmetric</b>, B::<b>SparseArrays.AbstractSparseArray{Tv,Ti,2} where Ti where Tv</b>) in SparseArrays at <a href=\"file://D:/buildbot/worker/package_win64/build/usr/share/julia/stdlib/v1.5/SparseArrays/src/linalg.jl\" target=\"_blank\">C:\\Program Files (x86)\\Julia 1.5.1\\share\\julia\\stdlib\\v1.5\\SparseArrays\\src\\linalg.jl:16</a></li> <li> +(A::<b>LinearAlgebra.Symmetric{var\"#s826\",var\"#s825\"} where var\"#s825\"<:(SparseArrays.AbstractSparseArray{Tv,Ti,2} where Ti where Tv) where var\"#s826\"</b>, B::<b>LinearAlgebra.Hermitian{var\"#s824\",var\"#s823\"} where var\"#s823\"<:(SparseArrays.AbstractSparseArray{Tv,Ti,2} where Ti where Tv) where var\"#s824\"</b>) in SparseArrays at <a href=\"file://D:/buildbot/worker/package_win64/build/usr/share/julia/stdlib/v1.5/SparseArrays/src/linalg.jl\" target=\"_blank\">C:\\Program Files (x86)\\Julia 1.5.1\\share\\julia\\stdlib\\v1.5\\SparseArrays\\src\\linalg.jl:21</a></li> <li> +(A::<b>LinearAlgebra.Hermitian{var\"#s822\",var\"#s821\"} where var\"#s821\"<:(SparseArrays.AbstractSparseArray{Tv,Ti,2} where Ti where Tv) where var\"#s822\"</b>, B::<b>LinearAlgebra.Symmetric{var\"#s820\",var\"#s819\"} where var\"#s819\"<:(SparseArrays.AbstractSparseArray{Tv,Ti,2} where Ti where Tv) where var\"#s820\"</b>) in SparseArrays at <a href=\"file://D:/buildbot/worker/package_win64/build/usr/share/julia/stdlib/v1.5/SparseArrays/src/linalg.jl\" target=\"_blank\">C:\\Program Files (x86)\\Julia 1.5.1\\share\\julia\\stdlib\\v1.5\\SparseArrays\\src\\linalg.jl:22</a></li> <li> +(a::<b>StaticArrays.StaticArray</b>, b::<b>StaticArrays.StaticArray</b>) in StaticArrays at <a href=\"file://C:/Users/i am/.julia/packages/StaticArrays/l7lu2/src/linalg.jl\" target=\"_blank\">C:\\Users\\i am\\.julia\\packages\\StaticArrays\\l7lu2\\src\\linalg.jl:11</a></li> <li> +(a::<b>StaticArrays.StaticArray</b>, b::<b>AbstractArray</b>) in StaticArrays at <a href=\"file://C:/Users/i am/.julia/packages/StaticArrays/l7lu2/src/linalg.jl\" target=\"_blank\">C:\\Users\\i am\\.julia\\packages\\StaticArrays\\l7lu2\\src\\linalg.jl:13</a></li> <li> +(a::<b>StaticArrays.SHermitianCompact</b>, b::<b>Number</b>) in StaticArrays at <a href=\"file://C:\\Program Files (x86)\\Julia 1.5.1\\bin\\..\\share\\julia\\base\\deprecated.jl\" target=\"_blank\">deprecated.jl:70</a></li> <li> +(a::<b>StaticArrays.StaticArray</b>, b::<b>Number</b>) in StaticArrays at <a href=\"file://C:\\Program Files (x86)\\Julia 1.5.1\\bin\\..\\share\\julia\\base\\deprecated.jl\" target=\"_blank\">deprecated.jl:70</a></li> <li> +(x::<b>AbstractArray{var\"#s91\",N} where N where var\"#s91\"<:Number</b>) in Base at <a href=\"https://github.com/JuliaLang/julia/tree/697e782ab86bfcdd7fd15550241fe162c51d9f98/base/abstractarraymath.jl#L97\" target=\"_blank\">abstractarraymath.jl:97</a></li> <li> +(a::<b>AbstractArray</b>, b::<b>StaticArrays.StaticArray</b>) in StaticArrays at <a href=\"file://C:/Users/i am/.julia/packages/StaticArrays/l7lu2/src/linalg.jl\" target=\"_blank\">C:\\Users\\i am\\.julia\\packages\\StaticArrays\\l7lu2\\src\\linalg.jl:12</a></li> <li> +(A::<b>AbstractArray</b>, B::<b>AbstractArray</b>) in Base at <a href=\"https://github.com/JuliaLang/julia/tree/697e782ab86bfcdd7fd15550241fe162c51d9f98/base/arraymath.jl#L37\" target=\"_blank\">arraymath.jl:37</a></li> <li> +(x::<b>T</b>, y::<b>Integer</b>)<i> where T<:AbstractChar</i> in Base at <a href=\"https://github.com/JuliaLang/julia/tree/697e782ab86bfcdd7fd15550241fe162c51d9f98/base/char.jl#L223\" target=\"_blank\">char.jl:223</a></li> <li> +(index1::<b>CartesianIndex{N}</b>, index2::<b>CartesianIndex{N}</b>)<i> where N</i> in Base.IteratorsMD at <a href=\"https://github.com/JuliaLang/julia/tree/697e782ab86bfcdd7fd15550241fe162c51d9f98/base/multidimensional.jl#L113\" target=\"_blank\">multidimensional.jl:113</a></li> <li> +(::<b>Number</b>, ::<b>Missing</b>) in Base at <a href=\"https://github.com/JuliaLang/julia/tree/697e782ab86bfcdd7fd15550241fe162c51d9f98/base/missing.jl#L116\" target=\"_blank\">missing.jl:116</a></li> <li> +(x::<b>P</b>, y::<b>P</b>)<i> where P<:Dates.Period</i> in Dates at <a href=\"file://D:/buildbot/worker/package_win64/build/usr/share/julia/stdlib/v1.5/Dates/src/periods.jl\" target=\"_blank\">C:\\Program Files (x86)\\Julia 1.5.1\\share\\julia\\stdlib\\v1.5\\Dates\\src\\periods.jl:78</a></li> <li> +(x::<b>Dates.Period</b>, y::<b>Dates.Period</b>) in Dates at <a href=\"file://D:/buildbot/worker/package_win64/build/usr/share/julia/stdlib/v1.5/Dates/src/periods.jl\" target=\"_blank\">C:\\Program Files (x86)\\Julia 1.5.1\\share\\julia\\stdlib\\v1.5\\Dates\\src\\periods.jl:344</a></li> <li> +(y::<b>Dates.Period</b>, x::<b>Dates.CompoundPeriod</b>) in Dates at <a href=\"file://D:/buildbot/worker/package_win64/build/usr/share/julia/stdlib/v1.5/Dates/src/periods.jl\" target=\"_blank\">C:\\Program Files (x86)\\Julia 1.5.1\\share\\julia\\stdlib\\v1.5\\Dates\\src\\periods.jl:346</a></li> <li> +(x::<b>Union{Dates.CompoundPeriod, Dates.Period}</b>) in Dates at <a href=\"file://D:/buildbot/worker/package_win64/build/usr/share/julia/stdlib/v1.5/Dates/src/periods.jl\" target=\"_blank\">C:\\Program Files (x86)\\Julia 1.5.1\\share\\julia\\stdlib\\v1.5\\Dates\\src\\periods.jl:355</a></li> <li> +(x::<b>Dates.TimeType</b>) in Dates at <a href=\"file://D:/buildbot/worker/package_win64/build/usr/share/julia/stdlib/v1.5/Dates/src/arithmetic.jl\" target=\"_blank\">C:\\Program Files (x86)\\Julia 1.5.1\\share\\julia\\stdlib\\v1.5\\Dates\\src\\arithmetic.jl:8</a></li> <li> +(a::<b>Dates.TimeType</b>, b::<b>Dates.Period</b>, c::<b>Dates.Period</b>) in Dates at <a href=\"file://D:/buildbot/worker/package_win64/build/usr/share/julia/stdlib/v1.5/Dates/src/periods.jl\" target=\"_blank\">C:\\Program Files (x86)\\Julia 1.5.1\\share\\julia\\stdlib\\v1.5\\Dates\\src\\periods.jl:366</a></li> <li> +(a::<b>Dates.TimeType</b>, b::<b>Dates.Period</b>, c::<b>Dates.Period</b>, d::<b>Dates.Period...</b>) in Dates at <a href=\"file://D:/buildbot/worker/package_win64/build/usr/share/julia/stdlib/v1.5/Dates/src/periods.jl\" target=\"_blank\">C:\\Program Files (x86)\\Julia 1.5.1\\share\\julia\\stdlib\\v1.5\\Dates\\src\\periods.jl:367</a></li> <li> +(x::<b>Dates.TimeType</b>, y::<b>Dates.CompoundPeriod</b>) in Dates at <a href=\"file://D:/buildbot/worker/package_win64/build/usr/share/julia/stdlib/v1.5/Dates/src/periods.jl\" target=\"_blank\">C:\\Program Files (x86)\\Julia 1.5.1\\share\\julia\\stdlib\\v1.5\\Dates\\src\\periods.jl:369</a></li> <li> +(x::<b>Dates.Instant</b>) in Dates at <a href=\"file://D:/buildbot/worker/package_win64/build/usr/share/julia/stdlib/v1.5/Dates/src/arithmetic.jl\" target=\"_blank\">C:\\Program Files (x86)\\Julia 1.5.1\\share\\julia\\stdlib\\v1.5\\Dates\\src\\arithmetic.jl:4</a></li> <li> +(y::<b>Dates.Period</b>, x::<b>Dates.TimeType</b>) in Dates at <a href=\"file://D:/buildbot/worker/package_win64/build/usr/share/julia/stdlib/v1.5/Dates/src/arithmetic.jl\" target=\"_blank\">C:\\Program Files (x86)\\Julia 1.5.1\\share\\julia\\stdlib\\v1.5\\Dates\\src\\arithmetic.jl:80</a></li> <li> +(x::<b>Dates.Period</b>, r::<b>AbstractRange{var\"#s826\"} where var\"#s826\"<:Dates.TimeType</b>) in Dates at <a href=\"file://D:/buildbot/worker/package_win64/build/usr/share/julia/stdlib/v1.5/Dates/src/ranges.jl\" target=\"_blank\">C:\\Program Files (x86)\\Julia 1.5.1\\share\\julia\\stdlib\\v1.5\\Dates\\src\\ranges.jl:58</a></li> <li> +(x::<b>AbstractArray{var\"#s826\",N} where N where var\"#s826\"<:Dates.TimeType</b>, y::<b>Union{Dates.CompoundPeriod, Dates.Period}</b>) in Dates at <a href=\"file://D:/buildbot/worker/package_win64/build/usr/share/julia/stdlib/v1.5/Dates/src/deprecated.jl\" target=\"_blank\">C:\\Program Files (x86)\\Julia 1.5.1\\share\\julia\\stdlib\\v1.5\\Dates\\src\\deprecated.jl:6</a></li> <li> +(y::<b>Union{Dates.CompoundPeriod, Dates.Period}</b>, x::<b>AbstractArray{var\"#s826\",N} where N where var\"#s826\"<:Dates.TimeType</b>) in Dates at <a href=\"file://D:/buildbot/worker/package_win64/build/usr/share/julia/stdlib/v1.5/Dates/src/deprecated.jl\" target=\"_blank\">C:\\Program Files (x86)\\Julia 1.5.1\\share\\julia\\stdlib\\v1.5\\Dates\\src\\deprecated.jl:14</a></li> <li> +(y::<b>Dates.TimeType</b>, x::<b>StridedArray{var\"#s826\", N} where N where var\"#s826\"<:Union{Dates.CompoundPeriod, Dates.Period}</b>) in Dates at <a href=\"file://D:/buildbot/worker/package_win64/build/usr/share/julia/stdlib/v1.5/Dates/src/deprecated.jl\" target=\"_blank\">C:\\Program Files (x86)\\Julia 1.5.1\\share\\julia\\stdlib\\v1.5\\Dates\\src\\deprecated.jl:18</a></li> <li> +(J::<b>LinearAlgebra.UniformScaling</b>, x::<b>Number</b>) in LinearAlgebra at <a href=\"file://D:/buildbot/worker/package_win64/build/usr/share/julia/stdlib/v1.5/LinearAlgebra/src/uniformscaling.jl\" target=\"_blank\">C:\\Program Files (x86)\\Julia 1.5.1\\share\\julia\\stdlib\\v1.5\\LinearAlgebra\\src\\uniformscaling.jl:111</a></li> <li> +(x::<b>Number</b>, J::<b>LinearAlgebra.UniformScaling</b>) in LinearAlgebra at <a href=\"file://D:/buildbot/worker/package_win64/build/usr/share/julia/stdlib/v1.5/LinearAlgebra/src/uniformscaling.jl\" target=\"_blank\">C:\\Program Files (x86)\\Julia 1.5.1\\share\\julia\\stdlib\\v1.5\\LinearAlgebra\\src\\uniformscaling.jl:112</a></li> <li> +(J1::<b>LinearAlgebra.UniformScaling</b>, J2::<b>LinearAlgebra.UniformScaling</b>) in LinearAlgebra at <a href=\"file://D:/buildbot/worker/package_win64/build/usr/share/julia/stdlib/v1.5/LinearAlgebra/src/uniformscaling.jl\" target=\"_blank\">C:\\Program Files (x86)\\Julia 1.5.1\\share\\julia\\stdlib\\v1.5\\LinearAlgebra\\src\\uniformscaling.jl:116</a></li> <li> +(J::<b>LinearAlgebra.UniformScaling</b>, B::<b>BitArray{2}</b>) in LinearAlgebra at <a href=\"file://D:/buildbot/worker/package_win64/build/usr/share/julia/stdlib/v1.5/LinearAlgebra/src/uniformscaling.jl\" target=\"_blank\">C:\\Program Files (x86)\\Julia 1.5.1\\share\\julia\\stdlib\\v1.5\\LinearAlgebra\\src\\uniformscaling.jl:118</a></li> <li> +(A::<b>LinearAlgebra.UniformScaling</b>, B::<b>LinearAlgebra.Tridiagonal{var\"#s826\",V} where V<:AbstractArray{var\"#s826\",1} where var\"#s826\"<:Number</b>) in LinearAlgebra at <a href=\"file://D:/buildbot/worker/package_win64/build/usr/share/julia/stdlib/v1.5/LinearAlgebra/src/special.jl\" target=\"_blank\">C:\\Program Files (x86)\\Julia 1.5.1\\share\\julia\\stdlib\\v1.5\\LinearAlgebra\\src\\special.jl:245</a></li> <li> +(A::<b>LinearAlgebra.UniformScaling</b>, B::<b>LinearAlgebra.SymTridiagonal{var\"#s826\",V} where V<:AbstractArray{var\"#s826\",1} where var\"#s826\"<:Number</b>) in LinearAlgebra at <a href=\"file://D:/buildbot/worker/package_win64/build/usr/share/julia/stdlib/v1.5/LinearAlgebra/src/special.jl\" target=\"_blank\">C:\\Program Files (x86)\\Julia 1.5.1\\share\\julia\\stdlib\\v1.5\\LinearAlgebra\\src\\special.jl:250</a></li> <li> +(A::<b>LinearAlgebra.UniformScaling</b>, B::<b>LinearAlgebra.Bidiagonal{var\"#s826\",V} where V<:AbstractArray{var\"#s826\",1} where var\"#s826\"<:Number</b>) in LinearAlgebra at <a href=\"file://D:/buildbot/worker/package_win64/build/usr/share/julia/stdlib/v1.5/LinearAlgebra/src/special.jl\" target=\"_blank\">C:\\Program Files (x86)\\Julia 1.5.1\\share\\julia\\stdlib\\v1.5\\LinearAlgebra\\src\\special.jl:255</a></li> <li> +(A::<b>LinearAlgebra.UniformScaling</b>, B::<b>LinearAlgebra.Diagonal{var\"#s826\",V} where V<:AbstractArray{var\"#s826\",1} where var\"#s826\"<:Number</b>) in LinearAlgebra at <a href=\"file://D:/buildbot/worker/package_win64/build/usr/share/julia/stdlib/v1.5/LinearAlgebra/src/special.jl\" target=\"_blank\">C:\\Program Files (x86)\\Julia 1.5.1\\share\\julia\\stdlib\\v1.5\\LinearAlgebra\\src\\special.jl:260</a></li> <li> +(a::<b>LinearAlgebra.UniformScaling</b>, b::<b>StaticArrays.StaticArray{Tuple{N,M},T,2} where T where M where N</b>) in StaticArrays at <a href=\"file://C:/Users/i am/.julia/packages/StaticArrays/l7lu2/src/linalg.jl\" target=\"_blank\">C:\\Users\\i am\\.julia\\packages\\StaticArrays\\l7lu2\\src\\linalg.jl:29</a></li> <li> +(J::<b>LinearAlgebra.UniformScaling</b>, A::<b>AbstractArray{T,2} where T</b>) in LinearAlgebra at <a href=\"file://D:/buildbot/worker/package_win64/build/usr/share/julia/stdlib/v1.5/LinearAlgebra/src/uniformscaling.jl\" target=\"_blank\">C:\\Program Files (x86)\\Julia 1.5.1\\share\\julia\\stdlib\\v1.5\\LinearAlgebra\\src\\uniformscaling.jl:119</a></li> <li> +(F::<b>LinearAlgebra.Hessenberg</b>, J::<b>LinearAlgebra.UniformScaling</b>) in LinearAlgebra at <a href=\"file://D:/buildbot/worker/package_win64/build/usr/share/julia/stdlib/v1.5/LinearAlgebra/src/hessenberg.jl\" target=\"_blank\">C:\\Program Files (x86)\\Julia 1.5.1\\share\\julia\\stdlib\\v1.5\\LinearAlgebra\\src\\hessenberg.jl:559</a></li> <li> +(J::<b>LinearAlgebra.UniformScaling</b>, F::<b>LinearAlgebra.Hessenberg</b>) in LinearAlgebra at <a href=\"file://D:/buildbot/worker/package_win64/build/usr/share/julia/stdlib/v1.5/LinearAlgebra/src/hessenberg.jl\" target=\"_blank\">C:\\Program Files (x86)\\Julia 1.5.1\\share\\julia\\stdlib\\v1.5\\LinearAlgebra\\src\\hessenberg.jl:560</a></li> <li> +(a::<b>Number</b>, b::<b>StaticArrays.SHermitianCompact</b>) in StaticArrays at <a href=\"file://C:\\Program Files (x86)\\Julia 1.5.1\\bin\\..\\share\\julia\\base\\deprecated.jl\" target=\"_blank\">deprecated.jl:70</a></li> <li> +(a::<b>Number</b>, b::<b>StaticArrays.StaticArray</b>) in StaticArrays at <a href=\"file://C:\\Program Files (x86)\\Julia 1.5.1\\bin\\..\\share\\julia\\base\\deprecated.jl\" target=\"_blank\">deprecated.jl:70</a></li> <li> +(a::<b>C</b>, b::<b>C</b>)<i> where C<:Union{LMS, XYZ}</i> in Colors at <a href=\"file://C:/Users/i am/.julia/packages/Colors/kc2v8/src/algorithms.jl\" target=\"_blank\">C:\\Users\\i am\\.julia\\packages\\Colors\\kc2v8\\src\\algorithms.jl:4</a></li> <li> +(a::<b>Measures.Length{U,T} where T</b>, b::<b>Measures.Length{U,T} where T</b>)<i> where U</i> in Measures at <a href=\"file://C:/Users/i am/.julia/packages/Measures/0Zkai/src/length.jl\" target=\"_blank\">C:\\Users\\i am\\.julia\\packages\\Measures\\0Zkai\\src\\length.jl:28</a></li> <li> +(a::<b>Measures.Measure</b>, b::<b>Measures.Measure</b>) in Measures at <a href=\"file://C:/Users/i am/.julia/packages/Measures/0Zkai/src/operations.jl\" target=\"_blank\">C:\\Users\\i am\\.julia\\packages\\Measures\\0Zkai\\src\\operations.jl:41</a></li> <li> +(a::<b>Tuple{Vararg{Measures.Measure,N}}</b>, b::<b>Tuple{Vararg{Measures.Measure,N}}</b>)<i> where N</i> in Measures at <a href=\"file://C:/Users/i am/.julia/packages/Measures/0Zkai/src/point.jl\" target=\"_blank\">C:\\Users\\i am\\.julia\\packages\\Measures\\0Zkai\\src\\point.jl:21</a></li> <li> +(a::<b>Tuple{Vararg{Measures.Measure,N}} where N</b>, b::<b>Tuple{Vararg{Measures.Measure,N}} where N</b>) in Measures at <a href=\"file://C:/Users/i am/.julia/packages/Measures/0Zkai/src/point.jl\" target=\"_blank\">C:\\Users\\i am\\.julia\\packages\\Measures\\0Zkai\\src\\point.jl:15</a></li> <li> +(h::<b>GeometryTypes.HyperRectangle{N,T}</b>, move::<b>GeometryTypes.Vec{N,T} where T</b>)<i> where {N, T}</i> in GeometryTypes at <a href=\"file://C:/Users/i am/.julia/packages/GeometryTypes/gpBFp/src/hyperrectangles.jl\" target=\"_blank\">C:\\Users\\i am\\.julia\\packages\\GeometryTypes\\gpBFp\\src\\hyperrectangles.jl:201</a></li> <li> +(h::<b>GeometryTypes.SimpleRectangle{T}</b>, move::<b>GeometryTypes.Vec{2,T} where T</b>)<i> where T</i> in GeometryTypes at <a href=\"file://C:/Users/i am/.julia/packages/GeometryTypes/gpBFp/src/hyperrectangles.jl\" target=\"_blank\">C:\\Users\\i am\\.julia\\packages\\GeometryTypes\\gpBFp\\src\\hyperrectangles.jl:208</a></li> <li> +(h::<b>GeometryBasics.HyperRectangle{N,T}</b>, move::<b>Number</b>)<i> where {N, T}</i> in GeometryBasics at <a href=\"file://C:/Users/i am/.julia/packages/GeometryBasics/CMxB4/src/rectangles.jl\" target=\"_blank\">C:\\Users\\i am\\.julia\\packages\\GeometryBasics\\CMxB4\\src\\rectangles.jl:272</a></li> <li> +(h::<b>GeometryBasics.HyperRectangle{N,T}</b>, move::<b>StaticArrays.StaticArray{Tuple{N},T,1} where T</b>)<i> where {N, T}</i> in GeometryBasics at <a href=\"file://C:/Users/i am/.julia/packages/GeometryBasics/CMxB4/src/rectangles.jl\" target=\"_blank\">C:\\Users\\i am\\.julia\\packages\\GeometryBasics\\CMxB4\\src\\rectangles.jl:279</a></li> <li> +(bb1::<b>Measures.BoundingBox</b>, bb2::<b>Measures.BoundingBox</b>) in Plots at <a href=\"file://C:/Users/i am/.julia/packages/Plots/M1wcx/src/layouts.jl\" target=\"_blank\">C:\\Users\\i am\\.julia\\packages\\Plots\\M1wcx\\src\\layouts.jl:47</a></li> <li> +(l1::<b>Lazy.List</b>, ls::<b>Lazy.List...</b>) in Lazy at <a href=\"file://C:/Users/i am/.julia/packages/Lazy/9Xnd3/src/Lazy.jl\" target=\"_blank\">C:\\Users\\i am\\.julia\\packages\\Lazy\\9Xnd3\\src\\Lazy.jl:20</a></li> <li> +(a, b, c, xs...) in Base at <a href=\"https://github.com/JuliaLang/julia/tree/697e782ab86bfcdd7fd15550241fe162c51d9f98/base/operators.jl#L538\" target=\"_blank\">operators.jl:538</a></li> </ul>"
      ],
      "text/plain": [
       "# 207 methods for generic function \"+\":\n",
       "[1] +(a::BigFloat, b::BigFloat, c::BigFloat, d::BigFloat, e::BigFloat) in Base.MPFR at mpfr.jl:548\n",
       "[2] +(a::BigFloat, b::BigFloat, c::BigFloat, d::BigFloat) in Base.MPFR at mpfr.jl:541\n",
       "[3] +(a::BigFloat, b::BigFloat, c::BigFloat) in Base.MPFR at mpfr.jl:535\n",
       "[4] +(x::BigFloat, c::BigInt) in Base.MPFR at mpfr.jl:394\n",
       "[5] +(x::BigFloat, y::BigFloat) in Base.MPFR at mpfr.jl:363\n",
       "[6] +(x::BigFloat, c::Union{UInt16, UInt32, UInt8}) in Base.MPFR at mpfr.jl:370\n",
       "[7] +(x::BigFloat, c::Union{Int16, Int32, Int8}) in Base.MPFR at mpfr.jl:378\n",
       "[8] +(x::BigFloat, c::Union{Float16, Float32, Float64}) in Base.MPFR at mpfr.jl:386\n",
       "[9] +(a::Pkg.Resolve.VersionWeight, b::Pkg.Resolve.VersionWeight) in Pkg.Resolve at C:\\Program Files (x86)\\Julia 1.5.1\\share\\julia\\stdlib\\v1.5\\Pkg\\src\\Resolve\\versionweights.jl:22\n",
       "[10] +(a::Pkg.Resolve.FieldValue, b::Pkg.Resolve.FieldValue) in Pkg.Resolve at C:\\Program Files (x86)\\Julia 1.5.1\\share\\julia\\stdlib\\v1.5\\Pkg\\src\\Resolve\\fieldvalues.jl:43\n",
       "[11] +(x::Float32, y::Float32) in Base at float.jl:400\n",
       "[12] +(x::Float64, y::Float64) in Base at float.jl:401\n",
       "[13] +(c::BigInt, x::BigFloat) in Base.MPFR at mpfr.jl:399\n",
       "[14] +(a::BigInt, b::BigInt, c::BigInt, d::BigInt, e::BigInt) in Base.GMP at gmp.jl:518\n",
       "[15] +(a::BigInt, b::BigInt, c::BigInt, d::BigInt) in Base.GMP at gmp.jl:517\n",
       "[16] +(a::BigInt, b::BigInt, c::BigInt) in Base.GMP at gmp.jl:516\n",
       "[17] +(x::BigInt, y::BigInt) in Base.GMP at gmp.jl:476\n",
       "[18] +(x::BigInt, c::Union{UInt16, UInt32, UInt8}) in Base.GMP at gmp.jl:524\n",
       "[19] +(x::BigInt, c::Union{Int16, Int32, Int8}) in Base.GMP at gmp.jl:530\n",
       "[20] +(x::Dates.CompoundPeriod, y::Dates.CompoundPeriod) in Dates at C:\\Program Files (x86)\\Julia 1.5.1\\share\\julia\\stdlib\\v1.5\\Dates\\src\\periods.jl:347\n",
       "[21] +(x::Dates.CompoundPeriod, y::Dates.Period) in Dates at C:\\Program Files (x86)\\Julia 1.5.1\\share\\julia\\stdlib\\v1.5\\Dates\\src\\periods.jl:345\n",
       "[22] +(x::Dates.CompoundPeriod, y::Dates.TimeType) in Dates at C:\\Program Files (x86)\\Julia 1.5.1\\share\\julia\\stdlib\\v1.5\\Dates\\src\\periods.jl:375\n",
       "[23] +(x::Bool, z::Complex{Bool}) in Base at complex.jl:286\n",
       "[24] +(x::Bool, y::Bool) in Base at bool.jl:96\n",
       "[25] +(x::Bool) in Base at bool.jl:93\n",
       "[26] +(x::Bool, y::T) where T<:AbstractFloat in Base at bool.jl:103\n",
       "[27] +(x::Bool, z::Complex) in Base at complex.jl:293\n",
       "[28] +(::Missing, ::Missing) in Base at missing.jl:114\n",
       "[29] +(::Missing) in Base at missing.jl:100\n",
       "[30] +(::Missing, ::Number) in Base at missing.jl:115\n",
       "[31] +(level::Base.CoreLogging.LogLevel, inc::Integer) in Base.CoreLogging at logging.jl:116\n",
       "[32] +(z::Complex{Bool}, x::Bool) in Base at complex.jl:287\n",
       "[33] +(z::Complex{Bool}, x::Real) in Base at complex.jl:301\n",
       "[34] +(x::Dates.Date, y::Dates.Day) in Dates at C:\\Program Files (x86)\\Julia 1.5.1\\share\\julia\\stdlib\\v1.5\\Dates\\src\\arithmetic.jl:74\n",
       "[35] +(x::Dates.Date, y::Dates.Week) in Dates at C:\\Program Files (x86)\\Julia 1.5.1\\share\\julia\\stdlib\\v1.5\\Dates\\src\\arithmetic.jl:72\n",
       "[36] +(dt::Dates.Date, z::Dates.Month) in Dates at C:\\Program Files (x86)\\Julia 1.5.1\\share\\julia\\stdlib\\v1.5\\Dates\\src\\arithmetic.jl:54\n",
       "[37] +(dt::Dates.Date, y::Dates.Year) in Dates at C:\\Program Files (x86)\\Julia 1.5.1\\share\\julia\\stdlib\\v1.5\\Dates\\src\\arithmetic.jl:27\n",
       "[38] +(dt::Dates.Date, t::Dates.Time) in Dates at C:\\Program Files (x86)\\Julia 1.5.1\\share\\julia\\stdlib\\v1.5\\Dates\\src\\arithmetic.jl:19\n",
       "[39] +(t::Dates.Time, dt::Dates.Date) in Dates at C:\\Program Files (x86)\\Julia 1.5.1\\share\\julia\\stdlib\\v1.5\\Dates\\src\\arithmetic.jl:20\n",
       "[40] +(x::Dates.Time, y::Dates.TimePeriod) in Dates at C:\\Program Files (x86)\\Julia 1.5.1\\share\\julia\\stdlib\\v1.5\\Dates\\src\\arithmetic.jl:78\n",
       "[41] +(dt::Dates.DateTime, z::Dates.Month) in Dates at C:\\Program Files (x86)\\Julia 1.5.1\\share\\julia\\stdlib\\v1.5\\Dates\\src\\arithmetic.jl:47\n",
       "[42] +(dt::Dates.DateTime, y::Dates.Year) in Dates at C:\\Program Files (x86)\\Julia 1.5.1\\share\\julia\\stdlib\\v1.5\\Dates\\src\\arithmetic.jl:23\n",
       "[43] +(x::Dates.DateTime, y::Dates.Period) in Dates at C:\\Program Files (x86)\\Julia 1.5.1\\share\\julia\\stdlib\\v1.5\\Dates\\src\\arithmetic.jl:76\n",
       "[44] +(a::Float16, b::Float16) in Base at float.jl:398\n",
       "[45] +(B::BitArray{2}, J::LinearAlgebra.UniformScaling) in LinearAlgebra at C:\\Program Files (x86)\\Julia 1.5.1\\share\\julia\\stdlib\\v1.5\\LinearAlgebra\\src\\uniformscaling.jl:117\n",
       "[46] +(y::AbstractFloat, x::Bool) in Base at bool.jl:106\n",
       "[47] +(x::T, y::T) where T<:Union{Int128, Int16, Int32, Int64, Int8, UInt128, UInt16, UInt32, UInt64, UInt8} in Base at int.jl:86\n",
       "[48] +(c::Union{UInt16, UInt32, UInt8}, x::BigInt) in Base.GMP at gmp.jl:525\n",
       "[49] +(c::Union{Int16, Int32, Int8}, x::BigInt) in Base.GMP at gmp.jl:531\n",
       "[50] +(x::GeometryTypes.OffsetInteger{O,T} where T<:Integer, y::GeometryTypes.OffsetInteger{O,T} where T<:Integer) where O in GeometryTypes at C:\\Users\\i am\\.julia\\packages\\GeometryTypes\\gpBFp\\src\\faces.jl:31\n",
       "[51] +(x::GeometryBasics.OffsetInteger{O,T} where T<:Integer, y::GeometryBasics.OffsetInteger{O,T} where T<:Integer) where O in GeometryBasics at C:\\Users\\i am\\.julia\\packages\\GeometryBasics\\CMxB4\\src\\offsetintegers.jl:54\n",
       "[52] +(a::Integer, b::Integer) in Base at int.jl:918\n",
       "[53] +(x::Integer, y::Ptr) in Base at pointer.jl:161\n",
       "[54] +(z::Complex) in Base at complex.jl:273\n",
       "[55] +(z::Complex, w::Complex) in Base at complex.jl:275\n",
       "[56] +(z::Complex, x::Bool) in Base at complex.jl:294\n",
       "[57] +(x::Rational) in Base at rational.jl:266\n",
       "[58] +(x::Real, z::Complex{Bool}) in Base at complex.jl:300\n",
       "[59] +(x::Real, z::Complex) in Base at complex.jl:312\n",
       "[60] +(z::Complex, x::Real) in Base at complex.jl:313\n",
       "[61] +(x::Rational, y::Rational) in Base at rational.jl:282\n",
       "[62] +(x::Rational, y::Integer) in Base at rational.jl:287\n",
       "[63] +(y::Integer, x::Rational) in Base at rational.jl:294\n",
       "[64] +(x::Integer, y::AbstractChar) in Base at char.jl:224\n",
       "[65] +(c::Union{UInt16, UInt32, UInt8}, x::BigFloat) in Base.MPFR at mpfr.jl:375\n",
       "[66] +(c::Union{Int16, Int32, Int8}, x::BigFloat) in Base.MPFR at mpfr.jl:383\n",
       "[67] +(c::Union{Float16, Float32, Float64}, x::BigFloat) in Base.MPFR at mpfr.jl:391\n",
       "[68] +(x::AbstractIrrational, y::AbstractIrrational) in Base at irrationals.jl:156\n",
       "[69] +(x::X, y::X) where X<:FixedPointNumbers.FixedPoint in FixedPointNumbers at C:\\Users\\i am\\.julia\\packages\\FixedPointNumbers\\HAGk2\\src\\FixedPointNumbers.jl:237\n",
       "[70] +(x::Number) in Base at operators.jl:513\n",
       "[71] +(x::T, y::T) where T<:Number in Base at promotion.jl:384\n",
       "[72] +(x::Number, y::Number) in Base at promotion.jl:311\n",
       "[73] +(r1::OrdinalRange, r2::OrdinalRange) in Base at range.jl:1055\n",
       "[74] +(r1::LinRange{T}, r2::LinRange{T}) where T in Base at range.jl:1062\n",
       "[75] +(r1::StepRangeLen{T,R,S} where S, r2::StepRangeLen{T,R,S} where S) where {R<:Base.TwicePrecision, T} in Base at twiceprecision.jl:577\n",
       "[76] +(r1::StepRangeLen{T,S,S1} where S1, r2::StepRangeLen{T,S,S1} where S1) where {T, S} in Base at range.jl:1078\n",
       "[77] +(r1::Union{LinRange, OrdinalRange, StepRangeLen}, r2::Union{LinRange, OrdinalRange, StepRangeLen}) in Base at range.jl:1071\n",
       "[78] +(x::Ptr, y::Integer) in Base at pointer.jl:159\n",
       "[79] +(x::Base.TwicePrecision, y::Number) in Base at twiceprecision.jl:267\n",
       "[80] +(x::Number, y::Base.TwicePrecision) in Base at twiceprecision.jl:271\n",
       "[81] +(x::Base.TwicePrecision{T}, y::Base.TwicePrecision{T}) where T in Base at twiceprecision.jl:273\n",
       "[82] +(x::Base.TwicePrecision, y::Base.TwicePrecision) in Base at twiceprecision.jl:278\n",
       "[83] +(A::Array, Bs::Array...) in Base at arraymath.jl:43\n",
       "[84] +(A::BitArray, B::BitArray) in Base at bitarray.jl:1110\n",
       "[85] +(r::AbstractRange{var\"#s826\"} where var\"#s826\"<:Dates.TimeType, x::Dates.Period) in Dates at C:\\Program Files (x86)\\Julia 1.5.1\\share\\julia\\stdlib\\v1.5\\Dates\\src\\ranges.jl:59\n",
       "[86] +(A::Array, B::SparseArrays.AbstractSparseMatrixCSC) in SparseArrays at C:\\Program Files (x86)\\Julia 1.5.1\\share\\julia\\stdlib\\v1.5\\SparseArrays\\src\\sparsematrix.jl:1683\n",
       "[87] +(x::StridedArray{var\"#s826\", N} where N where var\"#s826\"<:Union{Dates.CompoundPeriod, Dates.Period}) in Dates at C:\\Program Files (x86)\\Julia 1.5.1\\share\\julia\\stdlib\\v1.5\\Dates\\src\\deprecated.jl:55\n",
       "[88] +(x::StridedArray{var\"#s826\", N} where N where var\"#s826\"<:Union{Dates.CompoundPeriod, Dates.Period}, y::Dates.TimeType) in Dates at C:\\Program Files (x86)\\Julia 1.5.1\\share\\julia\\stdlib\\v1.5\\Dates\\src\\deprecated.jl:10\n",
       "[89] +(X::StridedArray{var\"#s826\", N} where N where var\"#s826\"<:Union{Dates.CompoundPeriod, Dates.Period}, Y::StridedArray{var\"#s825\", N} where N where var\"#s825\"<:Union{Dates.CompoundPeriod, Dates.Period}) in Dates at C:\\Program Files (x86)\\Julia 1.5.1\\share\\julia\\stdlib\\v1.5\\Dates\\src\\deprecated.jl:62\n",
       "[90] +(A::LinearAlgebra.SymTridiagonal, B::LinearAlgebra.SymTridiagonal) in LinearAlgebra at C:\\Program Files (x86)\\Julia 1.5.1\\share\\julia\\stdlib\\v1.5\\LinearAlgebra\\src\\tridiag.jl:205\n",
       "[91] +(A::LinearAlgebra.Tridiagonal, B::LinearAlgebra.Tridiagonal) in LinearAlgebra at C:\\Program Files (x86)\\Julia 1.5.1\\share\\julia\\stdlib\\v1.5\\LinearAlgebra\\src\\tridiag.jl:732\n",
       "[92] +(A::LinearAlgebra.UpperTriangular, B::LinearAlgebra.UpperTriangular) in LinearAlgebra at C:\\Program Files (x86)\\Julia 1.5.1\\share\\julia\\stdlib\\v1.5\\LinearAlgebra\\src\\triangular.jl:659\n",
       "[93] +(A::LinearAlgebra.LowerTriangular, B::LinearAlgebra.LowerTriangular) in LinearAlgebra at C:\\Program Files (x86)\\Julia 1.5.1\\share\\julia\\stdlib\\v1.5\\LinearAlgebra\\src\\triangular.jl:660\n",
       "[94] +(A::LinearAlgebra.UpperTriangular, B::LinearAlgebra.UnitUpperTriangular) in LinearAlgebra at C:\\Program Files (x86)\\Julia 1.5.1\\share\\julia\\stdlib\\v1.5\\LinearAlgebra\\src\\triangular.jl:661\n",
       "[95] +(A::LinearAlgebra.LowerTriangular, B::LinearAlgebra.UnitLowerTriangular) in LinearAlgebra at C:\\Program Files (x86)\\Julia 1.5.1\\share\\julia\\stdlib\\v1.5\\LinearAlgebra\\src\\triangular.jl:662\n",
       "[96] +(A::LinearAlgebra.UnitUpperTriangular, B::LinearAlgebra.UpperTriangular) in LinearAlgebra at C:\\Program Files (x86)\\Julia 1.5.1\\share\\julia\\stdlib\\v1.5\\LinearAlgebra\\src\\triangular.jl:663\n",
       "[97] +(A::LinearAlgebra.UnitLowerTriangular, B::LinearAlgebra.LowerTriangular) in LinearAlgebra at C:\\Program Files (x86)\\Julia 1.5.1\\share\\julia\\stdlib\\v1.5\\LinearAlgebra\\src\\triangular.jl:664\n",
       "[98] +(A::LinearAlgebra.UnitUpperTriangular, B::LinearAlgebra.UnitUpperTriangular) in LinearAlgebra at C:\\Program Files (x86)\\Julia 1.5.1\\share\\julia\\stdlib\\v1.5\\LinearAlgebra\\src\\triangular.jl:665\n",
       "[99] +(A::LinearAlgebra.UnitLowerTriangular, B::LinearAlgebra.UnitLowerTriangular) in LinearAlgebra at C:\\Program Files (x86)\\Julia 1.5.1\\share\\julia\\stdlib\\v1.5\\LinearAlgebra\\src\\triangular.jl:666\n",
       "[100] +(A::LinearAlgebra.AbstractTriangular, B::LinearAlgebra.AbstractTriangular) in LinearAlgebra at C:\\Program Files (x86)\\Julia 1.5.1\\share\\julia\\stdlib\\v1.5\\LinearAlgebra\\src\\triangular.jl:667\n",
       "[101] +(A::LinearAlgebra.Hermitian, B::LinearAlgebra.Hermitian) in LinearAlgebra at C:\\Program Files (x86)\\Julia 1.5.1\\share\\julia\\stdlib\\v1.5\\LinearAlgebra\\src\\symmetric.jl:466\n",
       "[102] +(A::LinearAlgebra.Symmetric, B::LinearAlgebra.Symmetric) in LinearAlgebra at C:\\Program Files (x86)\\Julia 1.5.1\\share\\julia\\stdlib\\v1.5\\LinearAlgebra\\src\\symmetric.jl:466\n",
       "[103] +(A::LinearAlgebra.Hermitian{var\"#s814\",var\"#s813\"} where var\"#s813\"<:(SparseArrays.AbstractSparseArray{Tv,Ti,2} where Ti where Tv) where var\"#s814\", B::LinearAlgebra.Symmetric{var\"#s812\",var\"#s811\"} where var\"#s811\"<:(SparseArrays.AbstractSparseArray{Tv,Ti,2} where Ti where Tv) where var\"#s812\"<:Real) in SparseArrays at C:\\Program Files (x86)\\Julia 1.5.1\\share\\julia\\stdlib\\v1.5\\SparseArrays\\src\\linalg.jl:24\n",
       "[104] +(A::LinearAlgebra.Hermitian, B::LinearAlgebra.Symmetric{var\"#s826\",S} where S<:(AbstractArray{var\"#s8261\",2} where var\"#s8261\"<:var\"#s826\") where var\"#s826\"<:Real) in LinearAlgebra at C:\\Program Files (x86)\\Julia 1.5.1\\share\\julia\\stdlib\\v1.5\\LinearAlgebra\\src\\symmetric.jl:480\n",
       "[105] +(A::LinearAlgebra.Symmetric{var\"#s818\",var\"#s817\"} where var\"#s817\"<:(SparseArrays.AbstractSparseArray{Tv,Ti,2} where Ti where Tv) where var\"#s818\"<:Real, B::LinearAlgebra.Hermitian{var\"#s816\",var\"#s815\"} where var\"#s815\"<:(SparseArrays.AbstractSparseArray{Tv,Ti,2} where Ti where Tv) where var\"#s816\") in SparseArrays at C:\\Program Files (x86)\\Julia 1.5.1\\share\\julia\\stdlib\\v1.5\\SparseArrays\\src\\linalg.jl:23\n",
       "[106] +(A::LinearAlgebra.Symmetric{var\"#s825\",S} where S<:(AbstractArray{var\"#s826\",2} where var\"#s826\"<:var\"#s825\") where var\"#s825\"<:Real, B::LinearAlgebra.Hermitian) in LinearAlgebra at C:\\Program Files (x86)\\Julia 1.5.1\\share\\julia\\stdlib\\v1.5\\LinearAlgebra\\src\\symmetric.jl:481\n",
       "[107] +(Da::LinearAlgebra.Diagonal, Db::LinearAlgebra.Diagonal) in LinearAlgebra at C:\\Program Files (x86)\\Julia 1.5.1\\share\\julia\\stdlib\\v1.5\\LinearAlgebra\\src\\diagonal.jl:156\n",
       "[108] +(D::LinearAlgebra.Diagonal, S::LinearAlgebra.Symmetric) in LinearAlgebra at C:\\Program Files (x86)\\Julia 1.5.1\\share\\julia\\stdlib\\v1.5\\LinearAlgebra\\src\\diagonal.jl:160\n",
       "[109] +(S::LinearAlgebra.Symmetric, D::LinearAlgebra.Diagonal) in LinearAlgebra at C:\\Program Files (x86)\\Julia 1.5.1\\share\\julia\\stdlib\\v1.5\\LinearAlgebra\\src\\diagonal.jl:163\n",
       "[110] +(D::LinearAlgebra.Diagonal{var\"#s826\",V} where V<:AbstractArray{var\"#s826\",1} where var\"#s826\"<:Real, H::LinearAlgebra.Hermitian) in LinearAlgebra at C:\\Program Files (x86)\\Julia 1.5.1\\share\\julia\\stdlib\\v1.5\\LinearAlgebra\\src\\diagonal.jl:166\n",
       "[111] +(H::LinearAlgebra.Hermitian, D::LinearAlgebra.Diagonal{var\"#s826\",V} where V<:AbstractArray{var\"#s826\",1} where var\"#s826\"<:Real) in LinearAlgebra at C:\\Program Files (x86)\\Julia 1.5.1\\share\\julia\\stdlib\\v1.5\\LinearAlgebra\\src\\diagonal.jl:169\n",
       "[112] +(A::LinearAlgebra.Bidiagonal, B::LinearAlgebra.Bidiagonal) in LinearAlgebra at C:\\Program Files (x86)\\Julia 1.5.1\\share\\julia\\stdlib\\v1.5\\LinearAlgebra\\src\\bidiag.jl:347\n",
       "[113] +(UL::LinearAlgebra.UnitUpperTriangular, J::LinearAlgebra.UniformScaling) in LinearAlgebra at C:\\Program Files (x86)\\Julia 1.5.1\\share\\julia\\stdlib\\v1.5\\LinearAlgebra\\src\\uniformscaling.jl:147\n",
       "[114] +(UL::LinearAlgebra.UnitLowerTriangular, J::LinearAlgebra.UniformScaling) in LinearAlgebra at C:\\Program Files (x86)\\Julia 1.5.1\\share\\julia\\stdlib\\v1.5\\LinearAlgebra\\src\\uniformscaling.jl:147\n",
       "[115] +(A::LinearAlgebra.Hermitian, J::LinearAlgebra.UniformScaling{var\"#s826\"} where var\"#s826\"<:Complex) in LinearAlgebra at C:\\Program Files (x86)\\Julia 1.5.1\\share\\julia\\stdlib\\v1.5\\LinearAlgebra\\src\\uniformscaling.jl:161\n",
       "[116] +(H::LinearAlgebra.UpperHessenberg, J::LinearAlgebra.UniformScaling) in LinearAlgebra at C:\\Program Files (x86)\\Julia 1.5.1\\share\\julia\\stdlib\\v1.5\\LinearAlgebra\\src\\hessenberg.jl:106\n",
       "[117] +(A::LinearAlgebra.Tridiagonal{var\"#s826\",V} where V<:AbstractArray{var\"#s826\",1} where var\"#s826\"<:Number, B::LinearAlgebra.UniformScaling) in LinearAlgebra at C:\\Program Files (x86)\\Julia 1.5.1\\share\\julia\\stdlib\\v1.5\\LinearAlgebra\\src\\special.jl:226\n",
       "[118] +(A::LinearAlgebra.SymTridiagonal{var\"#s826\",V} where V<:AbstractArray{var\"#s826\",1} where var\"#s826\"<:Number, B::LinearAlgebra.UniformScaling) in LinearAlgebra at C:\\Program Files (x86)\\Julia 1.5.1\\share\\julia\\stdlib\\v1.5\\LinearAlgebra\\src\\special.jl:231\n",
       "[119] +(A::LinearAlgebra.Bidiagonal{var\"#s826\",V} where V<:AbstractArray{var\"#s826\",1} where var\"#s826\"<:Number, B::LinearAlgebra.UniformScaling) in LinearAlgebra at C:\\Program Files (x86)\\Julia 1.5.1\\share\\julia\\stdlib\\v1.5\\LinearAlgebra\\src\\special.jl:236\n",
       "[120] +(A::LinearAlgebra.Diagonal{var\"#s826\",V} where V<:AbstractArray{var\"#s826\",1} where var\"#s826\"<:Number, B::LinearAlgebra.UniformScaling) in LinearAlgebra at C:\\Program Files (x86)\\Julia 1.5.1\\share\\julia\\stdlib\\v1.5\\LinearAlgebra\\src\\special.jl:241\n",
       "[121] +(A::SparseArrays.AbstractSparseMatrixCSC, J::LinearAlgebra.UniformScaling) in SparseArrays at C:\\Program Files (x86)\\Julia 1.5.1\\share\\julia\\stdlib\\v1.5\\SparseArrays\\src\\sparsematrix.jl:3641\n",
       "[122] +(a::StaticArrays.StaticArray{Tuple{N,M},T,2} where T where M where N, b::LinearAlgebra.UniformScaling) in StaticArrays at C:\\Users\\i am\\.julia\\packages\\StaticArrays\\l7lu2\\src\\linalg.jl:28\n",
       "[123] +(A::AbstractArray{T,2} where T, J::LinearAlgebra.UniformScaling) in LinearAlgebra at C:\\Program Files (x86)\\Julia 1.5.1\\share\\julia\\stdlib\\v1.5\\LinearAlgebra\\src\\uniformscaling.jl:180\n",
       "[124] +(A::LinearAlgebra.UpperHessenberg, B::LinearAlgebra.UpperHessenberg) in LinearAlgebra at C:\\Program Files (x86)\\Julia 1.5.1\\share\\julia\\stdlib\\v1.5\\LinearAlgebra\\src\\hessenberg.jl:101\n",
       "[125] +(A::LinearAlgebra.UpperTriangular, B::LinearAlgebra.Bidiagonal) in LinearAlgebra at C:\\Program Files (x86)\\Julia 1.5.1\\share\\julia\\stdlib\\v1.5\\LinearAlgebra\\src\\special.jl:86\n",
       "[126] +(A::LinearAlgebra.Bidiagonal, B::LinearAlgebra.UpperTriangular) in LinearAlgebra at C:\\Program Files (x86)\\Julia 1.5.1\\share\\julia\\stdlib\\v1.5\\LinearAlgebra\\src\\special.jl:94\n",
       "[127] +(A::LinearAlgebra.UnitUpperTriangular, B::LinearAlgebra.Bidiagonal) in LinearAlgebra at C:\\Program Files (x86)\\Julia 1.5.1\\share\\julia\\stdlib\\v1.5\\LinearAlgebra\\src\\special.jl:86\n",
       "[128] +(A::LinearAlgebra.Bidiagonal, B::LinearAlgebra.UnitUpperTriangular) in LinearAlgebra at C:\\Program Files (x86)\\Julia 1.5.1\\share\\julia\\stdlib\\v1.5\\LinearAlgebra\\src\\special.jl:94\n",
       "[129] +(A::LinearAlgebra.LowerTriangular, B::LinearAlgebra.Bidiagonal) in LinearAlgebra at C:\\Program Files (x86)\\Julia 1.5.1\\share\\julia\\stdlib\\v1.5\\LinearAlgebra\\src\\special.jl:86\n",
       "[130] +(A::LinearAlgebra.Bidiagonal, B::LinearAlgebra.LowerTriangular) in LinearAlgebra at C:\\Program Files (x86)\\Julia 1.5.1\\share\\julia\\stdlib\\v1.5\\LinearAlgebra\\src\\special.jl:94\n",
       "[131] +(A::LinearAlgebra.UnitLowerTriangular, B::LinearAlgebra.Bidiagonal) in LinearAlgebra at C:\\Program Files (x86)\\Julia 1.5.1\\share\\julia\\stdlib\\v1.5\\LinearAlgebra\\src\\special.jl:86\n",
       "[132] +(A::LinearAlgebra.Bidiagonal, B::LinearAlgebra.UnitLowerTriangular) in LinearAlgebra at C:\\Program Files (x86)\\Julia 1.5.1\\share\\julia\\stdlib\\v1.5\\LinearAlgebra\\src\\special.jl:94\n",
       "[133] +(A::LinearAlgebra.Bidiagonal, B::LinearAlgebra.Diagonal) in LinearAlgebra at C:\\Program Files (x86)\\Julia 1.5.1\\share\\julia\\stdlib\\v1.5\\LinearAlgebra\\src\\special.jl:115\n",
       "[134] +(A::LinearAlgebra.Diagonal, B::LinearAlgebra.Bidiagonal) in LinearAlgebra at C:\\Program Files (x86)\\Julia 1.5.1\\share\\julia\\stdlib\\v1.5\\LinearAlgebra\\src\\special.jl:125\n",
       "[135] +(A::LinearAlgebra.Diagonal, B::LinearAlgebra.SymTridiagonal) in LinearAlgebra at C:\\Program Files (x86)\\Julia 1.5.1\\share\\julia\\stdlib\\v1.5\\LinearAlgebra\\src\\special.jl:135\n",
       "[136] +(A::LinearAlgebra.SymTridiagonal, B::LinearAlgebra.Diagonal) in LinearAlgebra at C:\\Program Files (x86)\\Julia 1.5.1\\share\\julia\\stdlib\\v1.5\\LinearAlgebra\\src\\special.jl:145\n",
       "[137] +(A::LinearAlgebra.Tridiagonal, B::LinearAlgebra.SymTridiagonal) in LinearAlgebra at C:\\Program Files (x86)\\Julia 1.5.1\\share\\julia\\stdlib\\v1.5\\LinearAlgebra\\src\\special.jl:157\n",
       "[138] +(A::LinearAlgebra.SymTridiagonal, B::LinearAlgebra.Tridiagonal) in LinearAlgebra at C:\\Program Files (x86)\\Julia 1.5.1\\share\\julia\\stdlib\\v1.5\\LinearAlgebra\\src\\special.jl:159\n",
       "[139] +(A::LinearAlgebra.Diagonal, B::LinearAlgebra.Tridiagonal) in LinearAlgebra at C:\\Program Files (x86)\\Julia 1.5.1\\share\\julia\\stdlib\\v1.5\\LinearAlgebra\\src\\special.jl:163\n",
       "[140] +(A::LinearAlgebra.Tridiagonal, B::LinearAlgebra.Diagonal) in LinearAlgebra at C:\\Program Files (x86)\\Julia 1.5.1\\share\\julia\\stdlib\\v1.5\\LinearAlgebra\\src\\special.jl:173\n",
       "[141] +(A::LinearAlgebra.Bidiagonal, B::LinearAlgebra.Tridiagonal) in LinearAlgebra at C:\\Program Files (x86)\\Julia 1.5.1\\share\\julia\\stdlib\\v1.5\\LinearAlgebra\\src\\special.jl:183\n",
       "[142] +(A::LinearAlgebra.Tridiagonal, B::LinearAlgebra.Bidiagonal) in LinearAlgebra at C:\\Program Files (x86)\\Julia 1.5.1\\share\\julia\\stdlib\\v1.5\\LinearAlgebra\\src\\special.jl:193\n",
       "[143] +(A::LinearAlgebra.Bidiagonal, B::LinearAlgebra.SymTridiagonal) in LinearAlgebra at C:\\Program Files (x86)\\Julia 1.5.1\\share\\julia\\stdlib\\v1.5\\LinearAlgebra\\src\\special.jl:203\n",
       "[144] +(A::LinearAlgebra.SymTridiagonal, B::LinearAlgebra.Bidiagonal) in LinearAlgebra at C:\\Program Files (x86)\\Julia 1.5.1\\share\\julia\\stdlib\\v1.5\\LinearAlgebra\\src\\special.jl:213\n",
       "[145] +(A::SparseArrays.AbstractSparseMatrixCSC, B::SparseArrays.AbstractSparseMatrixCSC) in SparseArrays at C:\\Program Files (x86)\\Julia 1.5.1\\share\\julia\\stdlib\\v1.5\\SparseArrays\\src\\sparsematrix.jl:1679\n",
       "[146] +(A::SparseArrays.AbstractSparseMatrixCSC, B::Array) in SparseArrays at C:\\Program Files (x86)\\Julia 1.5.1\\share\\julia\\stdlib\\v1.5\\SparseArrays\\src\\sparsematrix.jl:1682\n",
       "[147] +(x::SparseArrays.AbstractSparseArray{Tv,Ti,1} where Ti where Tv, y::SparseArrays.AbstractSparseArray{Tv,Ti,1} where Ti where Tv) in SparseArrays at C:\\Program Files (x86)\\Julia 1.5.1\\share\\julia\\stdlib\\v1.5\\SparseArrays\\src\\sparsevector.jl:1302\n",
       "[148] +(A::SparseArrays.AbstractSparseArray{Tv,Ti,2} where Ti where Tv, B::LinearAlgebra.Hermitian{var\"#s826\",var\"#s825\"} where var\"#s825\"<:(SparseArrays.AbstractSparseArray{Tv,Ti,2} where Ti where Tv) where var\"#s826\") in SparseArrays at C:\\Program Files (x86)\\Julia 1.5.1\\share\\julia\\stdlib\\v1.5\\SparseArrays\\src\\linalg.jl:12\n",
       "[149] +(A::LinearAlgebra.Hermitian{var\"#s824\",var\"#s823\"} where var\"#s823\"<:(SparseArrays.AbstractSparseArray{Tv,Ti,2} where Ti where Tv) where var\"#s824\", B::SparseArrays.AbstractSparseArray{Tv,Ti,2} where Ti where Tv) in SparseArrays at C:\\Program Files (x86)\\Julia 1.5.1\\share\\julia\\stdlib\\v1.5\\SparseArrays\\src\\linalg.jl:13\n",
       "[150] +(A::SparseArrays.AbstractSparseArray{Tv,Ti,2} where Ti where Tv, B::LinearAlgebra.Hermitian) in SparseArrays at C:\\Program Files (x86)\\Julia 1.5.1\\share\\julia\\stdlib\\v1.5\\SparseArrays\\src\\linalg.jl:15\n",
       "[151] +(A::LinearAlgebra.Hermitian, B::SparseArrays.AbstractSparseArray{Tv,Ti,2} where Ti where Tv) in SparseArrays at C:\\Program Files (x86)\\Julia 1.5.1\\share\\julia\\stdlib\\v1.5\\SparseArrays\\src\\linalg.jl:16\n",
       "[152] +(A::SparseArrays.AbstractSparseArray{Tv,Ti,2} where Ti where Tv, B::LinearAlgebra.Symmetric{var\"#s826\",var\"#s825\"} where var\"#s825\"<:(SparseArrays.AbstractSparseArray{Tv,Ti,2} where Ti where Tv) where var\"#s826\") in SparseArrays at C:\\Program Files (x86)\\Julia 1.5.1\\share\\julia\\stdlib\\v1.5\\SparseArrays\\src\\linalg.jl:12\n",
       "[153] +(A::LinearAlgebra.Symmetric{var\"#s824\",var\"#s823\"} where var\"#s823\"<:(SparseArrays.AbstractSparseArray{Tv,Ti,2} where Ti where Tv) where var\"#s824\", B::SparseArrays.AbstractSparseArray{Tv,Ti,2} where Ti where Tv) in SparseArrays at C:\\Program Files (x86)\\Julia 1.5.1\\share\\julia\\stdlib\\v1.5\\SparseArrays\\src\\linalg.jl:13\n",
       "[154] +(A::SparseArrays.AbstractSparseArray{Tv,Ti,2} where Ti where Tv, B::LinearAlgebra.Symmetric) in SparseArrays at C:\\Program Files (x86)\\Julia 1.5.1\\share\\julia\\stdlib\\v1.5\\SparseArrays\\src\\linalg.jl:15\n",
       "[155] +(A::LinearAlgebra.Symmetric, B::SparseArrays.AbstractSparseArray{Tv,Ti,2} where Ti where Tv) in SparseArrays at C:\\Program Files (x86)\\Julia 1.5.1\\share\\julia\\stdlib\\v1.5\\SparseArrays\\src\\linalg.jl:16\n",
       "[156] +(A::LinearAlgebra.Symmetric{var\"#s826\",var\"#s825\"} where var\"#s825\"<:(SparseArrays.AbstractSparseArray{Tv,Ti,2} where Ti where Tv) where var\"#s826\", B::LinearAlgebra.Hermitian{var\"#s824\",var\"#s823\"} where var\"#s823\"<:(SparseArrays.AbstractSparseArray{Tv,Ti,2} where Ti where Tv) where var\"#s824\") in SparseArrays at C:\\Program Files (x86)\\Julia 1.5.1\\share\\julia\\stdlib\\v1.5\\SparseArrays\\src\\linalg.jl:21\n",
       "[157] +(A::LinearAlgebra.Hermitian{var\"#s822\",var\"#s821\"} where var\"#s821\"<:(SparseArrays.AbstractSparseArray{Tv,Ti,2} where Ti where Tv) where var\"#s822\", B::LinearAlgebra.Symmetric{var\"#s820\",var\"#s819\"} where var\"#s819\"<:(SparseArrays.AbstractSparseArray{Tv,Ti,2} where Ti where Tv) where var\"#s820\") in SparseArrays at C:\\Program Files (x86)\\Julia 1.5.1\\share\\julia\\stdlib\\v1.5\\SparseArrays\\src\\linalg.jl:22\n",
       "[158] +(a::StaticArrays.StaticArray, b::StaticArrays.StaticArray) in StaticArrays at C:\\Users\\i am\\.julia\\packages\\StaticArrays\\l7lu2\\src\\linalg.jl:11\n",
       "[159] +(a::StaticArrays.StaticArray, b::AbstractArray) in StaticArrays at C:\\Users\\i am\\.julia\\packages\\StaticArrays\\l7lu2\\src\\linalg.jl:13\n",
       "[160] +(a::StaticArrays.SHermitianCompact, b::Number) in StaticArrays at deprecated.jl:70\n",
       "[161] +(a::StaticArrays.StaticArray, b::Number) in StaticArrays at deprecated.jl:70\n",
       "[162] +(x::AbstractArray{var\"#s91\",N} where N where var\"#s91\"<:Number) in Base at abstractarraymath.jl:97\n",
       "[163] +(a::AbstractArray, b::StaticArrays.StaticArray) in StaticArrays at C:\\Users\\i am\\.julia\\packages\\StaticArrays\\l7lu2\\src\\linalg.jl:12\n",
       "[164] +(A::AbstractArray, B::AbstractArray) in Base at arraymath.jl:37\n",
       "[165] +(x::T, y::Integer) where T<:AbstractChar in Base at char.jl:223\n",
       "[166] +(index1::CartesianIndex{N}, index2::CartesianIndex{N}) where N in Base.IteratorsMD at multidimensional.jl:113\n",
       "[167] +(::Number, ::Missing) in Base at missing.jl:116\n",
       "[168] +(x::P, y::P) where P<:Dates.Period in Dates at C:\\Program Files (x86)\\Julia 1.5.1\\share\\julia\\stdlib\\v1.5\\Dates\\src\\periods.jl:78\n",
       "[169] +(x::Dates.Period, y::Dates.Period) in Dates at C:\\Program Files (x86)\\Julia 1.5.1\\share\\julia\\stdlib\\v1.5\\Dates\\src\\periods.jl:344\n",
       "[170] +(y::Dates.Period, x::Dates.CompoundPeriod) in Dates at C:\\Program Files (x86)\\Julia 1.5.1\\share\\julia\\stdlib\\v1.5\\Dates\\src\\periods.jl:346\n",
       "[171] +(x::Union{Dates.CompoundPeriod, Dates.Period}) in Dates at C:\\Program Files (x86)\\Julia 1.5.1\\share\\julia\\stdlib\\v1.5\\Dates\\src\\periods.jl:355\n",
       "[172] +(x::Dates.TimeType) in Dates at C:\\Program Files (x86)\\Julia 1.5.1\\share\\julia\\stdlib\\v1.5\\Dates\\src\\arithmetic.jl:8\n",
       "[173] +(a::Dates.TimeType, b::Dates.Period, c::Dates.Period) in Dates at C:\\Program Files (x86)\\Julia 1.5.1\\share\\julia\\stdlib\\v1.5\\Dates\\src\\periods.jl:366\n",
       "[174] +(a::Dates.TimeType, b::Dates.Period, c::Dates.Period, d::Dates.Period...) in Dates at C:\\Program Files (x86)\\Julia 1.5.1\\share\\julia\\stdlib\\v1.5\\Dates\\src\\periods.jl:367\n",
       "[175] +(x::Dates.TimeType, y::Dates.CompoundPeriod) in Dates at C:\\Program Files (x86)\\Julia 1.5.1\\share\\julia\\stdlib\\v1.5\\Dates\\src\\periods.jl:369\n",
       "[176] +(x::Dates.Instant) in Dates at C:\\Program Files (x86)\\Julia 1.5.1\\share\\julia\\stdlib\\v1.5\\Dates\\src\\arithmetic.jl:4\n",
       "[177] +(y::Dates.Period, x::Dates.TimeType) in Dates at C:\\Program Files (x86)\\Julia 1.5.1\\share\\julia\\stdlib\\v1.5\\Dates\\src\\arithmetic.jl:80\n",
       "[178] +(x::Dates.Period, r::AbstractRange{var\"#s826\"} where var\"#s826\"<:Dates.TimeType) in Dates at C:\\Program Files (x86)\\Julia 1.5.1\\share\\julia\\stdlib\\v1.5\\Dates\\src\\ranges.jl:58\n",
       "[179] +(x::AbstractArray{var\"#s826\",N} where N where var\"#s826\"<:Dates.TimeType, y::Union{Dates.CompoundPeriod, Dates.Period}) in Dates at C:\\Program Files (x86)\\Julia 1.5.1\\share\\julia\\stdlib\\v1.5\\Dates\\src\\deprecated.jl:6\n",
       "[180] +(y::Union{Dates.CompoundPeriod, Dates.Period}, x::AbstractArray{var\"#s826\",N} where N where var\"#s826\"<:Dates.TimeType) in Dates at C:\\Program Files (x86)\\Julia 1.5.1\\share\\julia\\stdlib\\v1.5\\Dates\\src\\deprecated.jl:14\n",
       "[181] +(y::Dates.TimeType, x::StridedArray{var\"#s826\", N} where N where var\"#s826\"<:Union{Dates.CompoundPeriod, Dates.Period}) in Dates at C:\\Program Files (x86)\\Julia 1.5.1\\share\\julia\\stdlib\\v1.5\\Dates\\src\\deprecated.jl:18\n",
       "[182] +(J::LinearAlgebra.UniformScaling, x::Number) in LinearAlgebra at C:\\Program Files (x86)\\Julia 1.5.1\\share\\julia\\stdlib\\v1.5\\LinearAlgebra\\src\\uniformscaling.jl:111\n",
       "[183] +(x::Number, J::LinearAlgebra.UniformScaling) in LinearAlgebra at C:\\Program Files (x86)\\Julia 1.5.1\\share\\julia\\stdlib\\v1.5\\LinearAlgebra\\src\\uniformscaling.jl:112\n",
       "[184] +(J1::LinearAlgebra.UniformScaling, J2::LinearAlgebra.UniformScaling) in LinearAlgebra at C:\\Program Files (x86)\\Julia 1.5.1\\share\\julia\\stdlib\\v1.5\\LinearAlgebra\\src\\uniformscaling.jl:116\n",
       "[185] +(J::LinearAlgebra.UniformScaling, B::BitArray{2}) in LinearAlgebra at C:\\Program Files (x86)\\Julia 1.5.1\\share\\julia\\stdlib\\v1.5\\LinearAlgebra\\src\\uniformscaling.jl:118\n",
       "[186] +(A::LinearAlgebra.UniformScaling, B::LinearAlgebra.Tridiagonal{var\"#s826\",V} where V<:AbstractArray{var\"#s826\",1} where var\"#s826\"<:Number) in LinearAlgebra at C:\\Program Files (x86)\\Julia 1.5.1\\share\\julia\\stdlib\\v1.5\\LinearAlgebra\\src\\special.jl:245\n",
       "[187] +(A::LinearAlgebra.UniformScaling, B::LinearAlgebra.SymTridiagonal{var\"#s826\",V} where V<:AbstractArray{var\"#s826\",1} where var\"#s826\"<:Number) in LinearAlgebra at C:\\Program Files (x86)\\Julia 1.5.1\\share\\julia\\stdlib\\v1.5\\LinearAlgebra\\src\\special.jl:250\n",
       "[188] +(A::LinearAlgebra.UniformScaling, B::LinearAlgebra.Bidiagonal{var\"#s826\",V} where V<:AbstractArray{var\"#s826\",1} where var\"#s826\"<:Number) in LinearAlgebra at C:\\Program Files (x86)\\Julia 1.5.1\\share\\julia\\stdlib\\v1.5\\LinearAlgebra\\src\\special.jl:255\n",
       "[189] +(A::LinearAlgebra.UniformScaling, B::LinearAlgebra.Diagonal{var\"#s826\",V} where V<:AbstractArray{var\"#s826\",1} where var\"#s826\"<:Number) in LinearAlgebra at C:\\Program Files (x86)\\Julia 1.5.1\\share\\julia\\stdlib\\v1.5\\LinearAlgebra\\src\\special.jl:260\n",
       "[190] +(a::LinearAlgebra.UniformScaling, b::StaticArrays.StaticArray{Tuple{N,M},T,2} where T where M where N) in StaticArrays at C:\\Users\\i am\\.julia\\packages\\StaticArrays\\l7lu2\\src\\linalg.jl:29\n",
       "[191] +(J::LinearAlgebra.UniformScaling, A::AbstractArray{T,2} where T) in LinearAlgebra at C:\\Program Files (x86)\\Julia 1.5.1\\share\\julia\\stdlib\\v1.5\\LinearAlgebra\\src\\uniformscaling.jl:119\n",
       "[192] +(F::LinearAlgebra.Hessenberg, J::LinearAlgebra.UniformScaling) in LinearAlgebra at C:\\Program Files (x86)\\Julia 1.5.1\\share\\julia\\stdlib\\v1.5\\LinearAlgebra\\src\\hessenberg.jl:559\n",
       "[193] +(J::LinearAlgebra.UniformScaling, F::LinearAlgebra.Hessenberg) in LinearAlgebra at C:\\Program Files (x86)\\Julia 1.5.1\\share\\julia\\stdlib\\v1.5\\LinearAlgebra\\src\\hessenberg.jl:560\n",
       "[194] +(a::Number, b::StaticArrays.SHermitianCompact) in StaticArrays at deprecated.jl:70\n",
       "[195] +(a::Number, b::StaticArrays.StaticArray) in StaticArrays at deprecated.jl:70\n",
       "[196] +(a::C, b::C) where C<:Union{LMS, XYZ} in Colors at C:\\Users\\i am\\.julia\\packages\\Colors\\kc2v8\\src\\algorithms.jl:4\n",
       "[197] +(a::Measures.Length{U,T} where T, b::Measures.Length{U,T} where T) where U in Measures at C:\\Users\\i am\\.julia\\packages\\Measures\\0Zkai\\src\\length.jl:28\n",
       "[198] +(a::Measures.Measure, b::Measures.Measure) in Measures at C:\\Users\\i am\\.julia\\packages\\Measures\\0Zkai\\src\\operations.jl:41\n",
       "[199] +(a::Tuple{Vararg{Measures.Measure,N}}, b::Tuple{Vararg{Measures.Measure,N}}) where N in Measures at C:\\Users\\i am\\.julia\\packages\\Measures\\0Zkai\\src\\point.jl:21\n",
       "[200] +(a::Tuple{Vararg{Measures.Measure,N}} where N, b::Tuple{Vararg{Measures.Measure,N}} where N) in Measures at C:\\Users\\i am\\.julia\\packages\\Measures\\0Zkai\\src\\point.jl:15\n",
       "[201] +(h::GeometryTypes.HyperRectangle{N,T}, move::GeometryTypes.Vec{N,T} where T) where {N, T} in GeometryTypes at C:\\Users\\i am\\.julia\\packages\\GeometryTypes\\gpBFp\\src\\hyperrectangles.jl:201\n",
       "[202] +(h::GeometryTypes.SimpleRectangle{T}, move::GeometryTypes.Vec{2,T} where T) where T in GeometryTypes at C:\\Users\\i am\\.julia\\packages\\GeometryTypes\\gpBFp\\src\\hyperrectangles.jl:208\n",
       "[203] +(h::GeometryBasics.HyperRectangle{N,T}, move::Number) where {N, T} in GeometryBasics at C:\\Users\\i am\\.julia\\packages\\GeometryBasics\\CMxB4\\src\\rectangles.jl:272\n",
       "[204] +(h::GeometryBasics.HyperRectangle{N,T}, move::StaticArrays.StaticArray{Tuple{N},T,1} where T) where {N, T} in GeometryBasics at C:\\Users\\i am\\.julia\\packages\\GeometryBasics\\CMxB4\\src\\rectangles.jl:279\n",
       "[205] +(bb1::Measures.BoundingBox, bb2::Measures.BoundingBox) in Plots at C:\\Users\\i am\\.julia\\packages\\Plots\\M1wcx\\src\\layouts.jl:47\n",
       "[206] +(l1::Lazy.List, ls::Lazy.List...) in Lazy at C:\\Users\\i am\\.julia\\packages\\Lazy\\9Xnd3\\src\\Lazy.jl:20\n",
       "[207] +(a, b, c, xs...) in Base at operators.jl:538"
      ]
     },
     "execution_count": 37,
     "metadata": {},
     "output_type": "execute_result"
    }
   ],
   "source": [
    "methods(+)\n"
   ]
  },
  {
   "cell_type": "code",
   "execution_count": 38,
   "metadata": {},
   "outputs": [
    {
     "data": {
      "text/html": [
       "+(x::<b>T</b>, y::<b>T</b>)<i> where T<:Union{Int128, Int16, Int32, Int64, Int8, UInt128, UInt16, UInt32, UInt64, UInt8}</i> in Base at <a href=\"https://github.com/JuliaLang/julia/tree/697e782ab86bfcdd7fd15550241fe162c51d9f98/base/int.jl#L86\" target=\"_blank\">int.jl:86</a>"
      ],
      "text/plain": [
       "+(x::T, y::T) where T<:Union{Int128, Int16, Int32, Int64, Int8, UInt128, UInt16, UInt32, UInt64, UInt8} in Base at int.jl:86"
      ]
     },
     "execution_count": 38,
     "metadata": {},
     "output_type": "execute_result"
    }
   ],
   "source": [
    "@which 3+3\n"
   ]
  },
  {
   "cell_type": "code",
   "execution_count": 39,
   "metadata": {},
   "outputs": [
    {
     "data": {
      "text/html": [
       "+(x::<b>Float64</b>, y::<b>Float64</b>) in Base at <a href=\"https://github.com/JuliaLang/julia/tree/697e782ab86bfcdd7fd15550241fe162c51d9f98/base/float.jl#L401\" target=\"_blank\">float.jl:401</a>"
      ],
      "text/plain": [
       "+(x::Float64, y::Float64) in Base at float.jl:401"
      ]
     },
     "execution_count": 39,
     "metadata": {},
     "output_type": "execute_result"
    }
   ],
   "source": [
    "@which 3.0+3.0\n"
   ]
  },
  {
   "cell_type": "code",
   "execution_count": 40,
   "metadata": {},
   "outputs": [
    {
     "data": {
      "text/html": [
       "+(x::<b>Number</b>, y::<b>Number</b>) in Base at <a href=\"https://github.com/JuliaLang/julia/tree/697e782ab86bfcdd7fd15550241fe162c51d9f98/base/promotion.jl#L311\" target=\"_blank\">promotion.jl:311</a>"
      ],
      "text/plain": [
       "+(x::Number, y::Number) in Base at promotion.jl:311"
      ]
     },
     "execution_count": 40,
     "metadata": {},
     "output_type": "execute_result"
    }
   ],
   "source": [
    "@which 3+3.0"
   ]
  },
  {
   "cell_type": "markdown",
   "metadata": {},
   "source": [
    "## proc overload:"
   ]
  },
  {
   "cell_type": "markdown",
   "metadata": {},
   "source": [
    "(per overloadare + bisogna importarlo da base, per overloadare funzione definita locale non serve importare nulla)"
   ]
  },
  {
   "cell_type": "code",
   "execution_count": 41,
   "metadata": {},
   "outputs": [],
   "source": [
    "import Base: +"
   ]
  },
  {
   "cell_type": "code",
   "execution_count": 46,
   "metadata": {},
   "outputs": [
    {
     "data": {
      "text/plain": [
       "+ (generic function with 208 methods)"
      ]
     },
     "execution_count": 46,
     "metadata": {},
     "output_type": "execute_result"
    }
   ],
   "source": [
    "+(sss::String,ddd::String) = string(sss,ddd)"
   ]
  },
  {
   "cell_type": "code",
   "execution_count": 48,
   "metadata": {},
   "outputs": [
    {
     "name": "stdout",
     "output_type": "stream",
     "text": [
      "stringstring\n"
     ]
    },
    {
     "data": {
      "text/html": [
       "+(sss::<b>String</b>, ddd::<b>String</b>) in Main at In[46]:1"
      ],
      "text/plain": [
       "+(sss::String, ddd::String) in Main at In[46]:1"
      ]
     },
     "execution_count": 48,
     "metadata": {},
     "output_type": "execute_result"
    }
   ],
   "source": [
    "println(\"string\"+\"string\")\n",
    "@which \"string\"+\"string\""
   ]
  },
  {
   "cell_type": "markdown",
   "metadata": {},
   "source": [
    "## benchmark of sum\n"
   ]
  },
  {
   "cell_type": "code",
   "execution_count": 83,
   "metadata": {},
   "outputs": [
    {
     "name": "stderr",
     "output_type": "stream",
     "text": [
      "\u001b[32m\u001b[1m  Resolving\u001b[22m\u001b[39m package versions...\n",
      "\u001b[32m\u001b[1mNo Changes\u001b[22m\u001b[39m to `C:\\Users\\i am\\.julia\\environments\\v1.5\\Project.toml`\n",
      "\u001b[32m\u001b[1mNo Changes\u001b[22m\u001b[39m to `C:\\Users\\i am\\.julia\\environments\\v1.5\\Manifest.toml`\n"
     ]
    }
   ],
   "source": [
    "Pkg.add(\"BenchmarkTools\")\n",
    "using BenchmarkTools"
   ]
  },
  {
   "cell_type": "code",
   "execution_count": 84,
   "metadata": {},
   "outputs": [
    {
     "name": "stderr",
     "output_type": "stream",
     "text": [
      "WARNING: redefinition of constant Clib. This may fail, cause incorrect answers, or produce other errors.\n"
     ]
    },
    {
     "data": {
      "text/plain": [
       "\"C:\\\\jtemp\\\\jl_6PxJqttHfx\""
      ]
     },
     "execution_count": 84,
     "metadata": {},
     "output_type": "execute_result"
    }
   ],
   "source": [
    "using BenchmarkTools\n",
    "\n",
    "a = rand(10^7) # a è array di 10^7 ~N(0,1)\n",
    "d = Dict()"
   ]
  },
  {
   "cell_type": "code",
   "execution_count": 93,
   "metadata": {},
   "outputs": [
    {
     "name": "stdout",
     "output_type": "stream",
     "text": [
      "non riesco a lanciare gcc con open()\n"
     ]
    }
   ],
   "source": [
    "#=using Libdl\n",
    "C_code = \"\"\"\n",
    "#include <stddef.h>\n",
    "double c_sum(size_t n, double *X) {\n",
    "    double s = 0.0;\n",
    "    for (size_t i = 0; i < n; ++i) {\n",
    "        s += X[i];\n",
    "    }\n",
    "    return s;\n",
    "}\n",
    "\"\"\"\n",
    "open(`gcc -fPIC -O3 -msse3 -xc -shared -o $(Clib) -`, \"w\") do f\n",
    "    print(f, C_code) \n",
    "end #richiede gcc installato\n",
    "c_sum(X::Array{Float64}) = ccall((\"c_sum\", Clib), Float64, (Csize_t, Ptr{Float64}), length(X), X)\n",
    "#c sum chiama implementaz di sum in C su due float64\n",
    "c_bench = @benchmark c_sum($a)\n",
    "d[\"C\"] = minimum(c_bench.times) / 1e6  # in milliseconds\n",
    "gr()\n",
    "\n",
    "using Statistics # bring in statistical support for standard deviations\n",
    "t = c_bench.times / 1e6 # times in milliseconds\n",
    "m, σ = minimum(t), std(t)\n",
    "\n",
    "histogram(t, bins=500,\n",
    "    xlim=(m - 0.01, m + σ),\n",
    "    xlabel=\"milliseconds\", ylabel=\"count\", label=\"\")=#\n",
    "println(\"non riesco a lanciare gcc con open()\")"
   ]
  },
  {
   "cell_type": "markdown",
   "metadata": {},
   "source": [
    "## benchmark sum di python\n"
   ]
  },
  {
   "cell_type": "code",
   "execution_count": 94,
   "metadata": {},
   "outputs": [
    {
     "name": "stderr",
     "output_type": "stream",
     "text": [
      "\u001b[32m\u001b[1m  Resolving\u001b[22m\u001b[39m package versions...\n",
      "\u001b[32m\u001b[1m  Installed\u001b[22m\u001b[39m PyCall ─ v1.91.4\n",
      "\u001b[32m\u001b[1mUpdating\u001b[22m\u001b[39m `C:\\Users\\i am\\.julia\\environments\\v1.5\\Project.toml`\n",
      " \u001b[90m [438e738f] \u001b[39m\u001b[92m+ PyCall v1.91.4\u001b[39m\n",
      "\u001b[32m\u001b[1mUpdating\u001b[22m\u001b[39m `C:\\Users\\i am\\.julia\\environments\\v1.5\\Manifest.toml`\n",
      " \u001b[90m [438e738f] \u001b[39m\u001b[92m+ PyCall v1.91.4\u001b[39m\n",
      "\u001b[32m\u001b[1m   Building\u001b[22m\u001b[39m PyCall → `C:\\Users\\i am\\.julia\\packages\\PyCall\\zqDXB\\deps\\build.log`\n"
     ]
    }
   ],
   "source": [
    "\n",
    "Pkg.add(\"PyCall\")"
   ]
  },
  {
   "cell_type": "code",
   "execution_count": 101,
   "metadata": {},
   "outputs": [
    {
     "data": {
      "text/plain": [
       "BenchmarkTools.Trial: \n",
       "  memory estimate:  336 bytes\n",
       "  allocs estimate:  6\n",
       "  --------------\n",
       "  minimum time:     1.622 s (0.00% GC)\n",
       "  median time:      1.642 s (0.00% GC)\n",
       "  mean time:        1.645 s (0.00% GC)\n",
       "  maximum time:     1.672 s (0.00% GC)\n",
       "  --------------\n",
       "  samples:          4\n",
       "  evals/sample:     1"
      ]
     },
     "execution_count": 101,
     "metadata": {},
     "output_type": "execute_result"
    }
   ],
   "source": [
    "using PyCall\n",
    "pysum = pybuiltin(\"sum\")\n",
    "pysum(a)\n",
    "py_list_bench = @benchmark $pysum($a)"
   ]
  },
  {
   "cell_type": "code",
   "execution_count": 198,
   "metadata": {},
   "outputs": [
    {
     "data": {
      "text/plain": [
       "1622.1058"
      ]
     },
     "execution_count": 198,
     "metadata": {},
     "output_type": "execute_result"
    }
   ],
   "source": [
    "d[\"Python built-in\"] = minimum(py_list_bench.times) / 1e6\n",
    "\n"
   ]
  },
  {
   "cell_type": "markdown",
   "metadata": {},
   "source": [
    "definizione code python (richiede using pycall)"
   ]
  },
  {
   "cell_type": "code",
   "execution_count": null,
   "metadata": {},
   "outputs": [],
   "source": [
    "py\"\"\"\n",
    "def py_sum(A):\n",
    "    s = 0.0\n",
    "    for a in A:\n",
    "        s += a\n",
    "    return s\n",
    "\"\"\"\n",
    "\n",
    "sum_py = py\"py_sum\""
   ]
  },
  {
   "cell_type": "code",
   "execution_count": null,
   "metadata": {},
   "outputs": [],
   "source": [
    "x = ones(3)\n",
    "A = rand(1:4,3,3)\n",
    "b = A*x"
   ]
  },
  {
   "cell_type": "code",
   "execution_count": 104,
   "metadata": {},
   "outputs": [
    {
     "data": {
      "text/plain": [
       "3-element Array{Float64,1}:\n",
       " 1.0000000000000007\n",
       " 1.0000000000000002\n",
       " 0.9999999999999993"
      ]
     },
     "execution_count": 104,
     "metadata": {},
     "output_type": "execute_result"
    }
   ],
   "source": []
  },
  {
   "cell_type": "code",
   "execution_count": 105,
   "metadata": {},
   "outputs": [
    {
     "data": {
      "text/plain": [
       "3×3 LinearAlgebra.Adjoint{Int64,Array{Int64,2}}:\n",
       " 3  1  4\n",
       " 4  4  4\n",
       " 3  2  4"
      ]
     },
     "execution_count": 105,
     "metadata": {},
     "output_type": "execute_result"
    }
   ],
   "source": [
    "#mat\n",
    "A"
   ]
  },
  {
   "cell_type": "code",
   "execution_count": 106,
   "metadata": {},
   "outputs": [
    {
     "data": {
      "text/plain": [
       "3×3 Array{Int64,2}:\n",
       " 3  4  3\n",
       " 1  4  2\n",
       " 4  4  4"
      ]
     },
     "execution_count": 106,
     "metadata": {},
     "output_type": "execute_result"
    }
   ],
   "source": [
    "#conj transp\n",
    "A'"
   ]
  },
  {
   "cell_type": "code",
   "execution_count": 109,
   "metadata": {},
   "outputs": [
    {
     "data": {
      "text/plain": [
       "3×3 LinearAlgebra.Transpose{Int64,Array{Int64,2}}:\n",
       " 3  1  4\n",
       " 4  4  4\n",
       " 3  2  4"
      ]
     },
     "execution_count": 109,
     "metadata": {},
     "output_type": "execute_result"
    }
   ],
   "source": [
    "#transp\n",
    "transpose(A)"
   ]
  },
  {
   "cell_type": "code",
   "execution_count": 110,
   "metadata": {},
   "outputs": [
    {
     "data": {
      "text/plain": [
       "3×3 Array{Int64,2}:\n",
       " 26  32  27\n",
       " 32  48  36\n",
       " 27  36  29"
      ]
     },
     "execution_count": 110,
     "metadata": {},
     "output_type": "execute_result"
    }
   ],
   "source": [
    "#mult transp\n",
    "A'A"
   ]
  },
  {
   "cell_type": "code",
   "execution_count": 111,
   "metadata": {},
   "outputs": [
    {
     "data": {
      "text/plain": [
       "3-element Array{Float64,1}:\n",
       " 1.0000000000000007\n",
       " 1.0000000000000002\n",
       " 0.9999999999999993"
      ]
     },
     "execution_count": 111,
     "metadata": {},
     "output_type": "execute_result"
    }
   ],
   "source": [
    "#risolve Ax=b\n",
    "A\\b"
   ]
  },
  {
   "cell_type": "code",
   "execution_count": 112,
   "metadata": {},
   "outputs": [
    {
     "data": {
      "text/plain": [
       "2-element Array{Float64,1}:\n",
       " 17.48904185015606\n",
       " -4.952917686256358"
      ]
     },
     "execution_count": 112,
     "metadata": {},
     "output_type": "execute_result"
    }
   ],
   "source": [
    "#se A ha più rughe che colonne, usa soluzione quadrati minimi\n",
    "Atall = rand(3, 2)\n",
    "Atall\\b"
   ]
  },
  {
   "cell_type": "code",
   "execution_count": 114,
   "metadata": {},
   "outputs": [
    {
     "data": {
      "text/plain": [
       "2-element Array{Float64,1}:\n",
       " 5.751400106443086\n",
       " 5.751400106443087"
      ]
     },
     "execution_count": 114,
     "metadata": {},
     "output_type": "execute_result"
    }
   ],
   "source": [
    "#se matrice deficie di rango, op \\ usa soluz norma minima quadrati minimi\n",
    "v = rand(3)\n",
    "rankdef = hcat(v, v)\n",
    "rankdef\\b"
   ]
  },
  {
   "cell_type": "code",
   "execution_count": 115,
   "metadata": {},
   "outputs": [
    {
     "data": {
      "text/plain": [
       "3-element Array{Float64,1}:\n",
       "  0.28910412468958496\n",
       " -0.7814174125297599\n",
       "  0.9438621269814067"
      ]
     },
     "execution_count": 115,
     "metadata": {},
     "output_type": "execute_result"
    }
   ],
   "source": [
    "#ritorna norma minima anche quando A ha più colonne che righe\n",
    "bshort = rand(2)\n",
    "Ashort = rand(2, 3)\n",
    "Ashort\\bshort"
   ]
  },
  {
   "cell_type": "code",
   "execution_count": 116,
   "metadata": {},
   "outputs": [
    {
     "data": {
      "text/plain": [
       "3-element Array{Float64,1}:\n",
       " 1.7797024598405236\n",
       " 1.1149915694798718\n",
       " 0.9463020931443293"
      ]
     },
     "execution_count": 116,
     "metadata": {},
     "output_type": "execute_result"
    }
   ],
   "source": [
    "using LinearAlgebra\n",
    "A = rand(3, 3)\n",
    "x = fill(1, (3,))\n",
    "b = A * x"
   ]
  },
  {
   "cell_type": "code",
   "execution_count": 117,
   "metadata": {},
   "outputs": [],
   "source": [
    "?5eps"
   ]
  },
  {
   "cell_type": "markdown",
   "metadata": {},
   "source": [
    "## factorization\n",
    "importante dare a julia infop su matrici, eg:"
   ]
  },
  {
   "cell_type": "code",
   "execution_count": 120,
   "metadata": {},
   "outputs": [
    {
     "data": {
      "text/plain": [
       "true"
      ]
     },
     "execution_count": 120,
     "metadata": {},
     "output_type": "execute_result"
    }
   ],
   "source": [
    "n = 1000\n",
    "A = randn(n,n)\n",
    "Asym = A + A'\n",
    "issymmetric(Asym)"
   ]
  },
  {
   "cell_type": "code",
   "execution_count": 121,
   "metadata": {},
   "outputs": [
    {
     "data": {
      "text/plain": [
       "false"
      ]
     },
     "execution_count": 121,
     "metadata": {},
     "output_type": "execute_result"
    }
   ],
   "source": [
    "Asym_noisy = copy(Asym)\n",
    "Asym_noisy[1,2] += 5eps() #simulazione di avere degli errori nei dati\n",
    "issymmetric(Asym_noisy)"
   ]
  },
  {
   "cell_type": "markdown",
   "metadata": {},
   "source": [
    "possiamo dichiarare esplicitamente struttura di una matrice \n",
    "\n",
    "eg: `Diagonal`, `Triangular`, `Symmetric`, `Hermitian`, `Tridiagonal` and `SymTridiagonal`."
   ]
  },
  {
   "cell_type": "code",
   "execution_count": 122,
   "metadata": {},
   "outputs": [],
   "source": [
    "Asym_explicit = Symmetric(Asym_noisy);"
   ]
  },
  {
   "cell_type": "markdown",
   "metadata": {},
   "source": [
    "confrontiamo tempo richiesto per calcolare valori eigen per le varie versioni \n",
    "\n",
    "NB sono (quasi!) la stessa matrice"
   ]
  },
  {
   "cell_type": "code",
   "execution_count": 178,
   "metadata": {},
   "outputs": [
    {
     "name": "stdout",
     "output_type": "stream",
     "text": [
      "  0.152400 seconds (11 allocations: 7.989 MiB)\n"
     ]
    }
   ],
   "source": [
    "timesym = @time eigvals(Asym);"
   ]
  },
  {
   "cell_type": "code",
   "execution_count": 171,
   "metadata": {},
   "outputs": [
    {
     "name": "stdout",
     "output_type": "stream",
     "text": [
      "  0.588469 seconds (13 allocations: 7.920 MiB)\n"
     ]
    }
   ],
   "source": [
    "timesym = @time eigvals(Asym);\n",
    "timenoisy = @time eigvals(Asym_noisy);"
   ]
  },
  {
   "cell_type": "code",
   "execution_count": 172,
   "metadata": {},
   "outputs": [
    {
     "name": "stdout",
     "output_type": "stream",
     "text": [
      "  0.147384 seconds (11 allocations: 7.989 MiB)\n"
     ]
    }
   ],
   "source": [
    "timesym = @time eigvals(Asym);\n",
    "timenoisy = @time eigvals(Asym_noisy);\n",
    "timeexplicit = @time eigvals(Asym_explicit);"
   ]
  },
  {
   "cell_type": "markdown",
   "metadata": {},
   "source": [
    "semplicemente dire a julia che la matrice era simmetrica ha comportato una riduzione del tempo di circa 1/5\n",
    "\n",
    "*** IMPORTANTE ESPLICITARE STRUTTURA MATRICE ***"
   ]
  },
  {
   "cell_type": "code",
   "execution_count": 188,
   "metadata": {},
   "outputs": [
    {
     "data": {
      "text/plain": [
       "BenchmarkTools.Trial: \n",
       "  memory estimate:  7.99 MiB\n",
       "  allocs estimate:  11\n",
       "  --------------\n",
       "  minimum time:     145.769 ms (0.00% GC)\n",
       "  median time:      152.505 ms (0.00% GC)\n",
       "  mean time:        153.072 ms (0.34% GC)\n",
       "  maximum time:     169.799 ms (10.06% GC)\n",
       "  --------------\n",
       "  samples:          33\n",
       "  evals/sample:     1"
      ]
     },
     "execution_count": 188,
     "metadata": {},
     "output_type": "execute_result"
    }
   ],
   "source": [
    "using BenchmarkTools\n",
    "benchsym = @benchmark eigvals(Asym)\n",
    "benchnoisy = @benchmark eigvals(Asym_noisy)\n",
    "benchexplicit = @benchmark eigvals(Asym_explicit);"
   ]
  },
  {
   "cell_type": "code",
   "execution_count": 202,
   "metadata": {},
   "outputs": [
    {
     "data": {
      "image/svg+xml": [
       "<?xml version=\"1.0\" encoding=\"utf-8\"?>\n",
       "<svg xmlns=\"http://www.w3.org/2000/svg\" xmlns:xlink=\"http://www.w3.org/1999/xlink\" width=\"600\" height=\"400\" viewBox=\"0 0 2400 1600\">\n",
       "<defs>\n",
       "  <clipPath id=\"clip360\">\n",
       "    <rect x=\"0\" y=\"0\" width=\"2400\" height=\"1600\"/>\n",
       "  </clipPath>\n",
       "</defs>\n",
       "<path clip-path=\"url(#clip360)\" d=\"\n",
       "M0 1600 L2400 1600 L2400 0 L0 0  Z\n",
       "  \" fill=\"#ffffff\" fill-rule=\"evenodd\" fill-opacity=\"1\"/>\n",
       "<defs>\n",
       "  <clipPath id=\"clip361\">\n",
       "    <rect x=\"480\" y=\"0\" width=\"1681\" height=\"1600\"/>\n",
       "  </clipPath>\n",
       "</defs>\n",
       "<path clip-path=\"url(#clip360)\" d=\"\n",
       "M166.205 1486.45 L2352.76 1486.45 L2352.76 123.472 L166.205 123.472  Z\n",
       "  \" fill=\"#ffffff\" fill-rule=\"evenodd\" fill-opacity=\"1\"/>\n",
       "<defs>\n",
       "  <clipPath id=\"clip362\">\n",
       "    <rect x=\"166\" y=\"123\" width=\"2188\" height=\"1364\"/>\n",
       "  </clipPath>\n",
       "</defs>\n",
       "<polyline clip-path=\"url(#clip362)\" style=\"stroke:#000000; stroke-width:2; stroke-opacity:0.1; fill:none\" points=\"\n",
       "  564.472,1486.45 564.472,123.472 \n",
       "  \"/>\n",
       "<polyline clip-path=\"url(#clip362)\" style=\"stroke:#000000; stroke-width:2; stroke-opacity:0.1; fill:none\" points=\"\n",
       "  1259.48,1486.45 1259.48,123.472 \n",
       "  \"/>\n",
       "<polyline clip-path=\"url(#clip362)\" style=\"stroke:#000000; stroke-width:2; stroke-opacity:0.1; fill:none\" points=\"\n",
       "  1954.49,1486.45 1954.49,123.472 \n",
       "  \"/>\n",
       "<polyline clip-path=\"url(#clip362)\" style=\"stroke:#000000; stroke-width:2; stroke-opacity:0.1; fill:none\" points=\"\n",
       "  166.205,1447.87 2352.76,1447.87 \n",
       "  \"/>\n",
       "<polyline clip-path=\"url(#clip362)\" style=\"stroke:#000000; stroke-width:2; stroke-opacity:0.1; fill:none\" points=\"\n",
       "  166.205,1229.5 2352.76,1229.5 \n",
       "  \"/>\n",
       "<polyline clip-path=\"url(#clip362)\" style=\"stroke:#000000; stroke-width:2; stroke-opacity:0.1; fill:none\" points=\"\n",
       "  166.205,1011.13 2352.76,1011.13 \n",
       "  \"/>\n",
       "<polyline clip-path=\"url(#clip362)\" style=\"stroke:#000000; stroke-width:2; stroke-opacity:0.1; fill:none\" points=\"\n",
       "  166.205,792.76 2352.76,792.76 \n",
       "  \"/>\n",
       "<polyline clip-path=\"url(#clip362)\" style=\"stroke:#000000; stroke-width:2; stroke-opacity:0.1; fill:none\" points=\"\n",
       "  166.205,574.389 2352.76,574.389 \n",
       "  \"/>\n",
       "<polyline clip-path=\"url(#clip362)\" style=\"stroke:#000000; stroke-width:2; stroke-opacity:0.1; fill:none\" points=\"\n",
       "  166.205,356.018 2352.76,356.018 \n",
       "  \"/>\n",
       "<polyline clip-path=\"url(#clip362)\" style=\"stroke:#000000; stroke-width:2; stroke-opacity:0.1; fill:none\" points=\"\n",
       "  166.205,137.647 2352.76,137.647 \n",
       "  \"/>\n",
       "<polyline clip-path=\"url(#clip360)\" style=\"stroke:#000000; stroke-width:4; stroke-opacity:1; fill:none\" points=\"\n",
       "  166.205,1486.45 2352.76,1486.45 \n",
       "  \"/>\n",
       "<polyline clip-path=\"url(#clip360)\" style=\"stroke:#000000; stroke-width:4; stroke-opacity:1; fill:none\" points=\"\n",
       "  166.205,1486.45 166.205,123.472 \n",
       "  \"/>\n",
       "<polyline clip-path=\"url(#clip360)\" style=\"stroke:#000000; stroke-width:4; stroke-opacity:1; fill:none\" points=\"\n",
       "  564.472,1486.45 564.472,1470.09 \n",
       "  \"/>\n",
       "<polyline clip-path=\"url(#clip360)\" style=\"stroke:#000000; stroke-width:4; stroke-opacity:1; fill:none\" points=\"\n",
       "  1259.48,1486.45 1259.48,1470.09 \n",
       "  \"/>\n",
       "<polyline clip-path=\"url(#clip360)\" style=\"stroke:#000000; stroke-width:4; stroke-opacity:1; fill:none\" points=\"\n",
       "  1954.49,1486.45 1954.49,1470.09 \n",
       "  \"/>\n",
       "<polyline clip-path=\"url(#clip360)\" style=\"stroke:#000000; stroke-width:4; stroke-opacity:1; fill:none\" points=\"\n",
       "  166.205,1447.87 192.443,1447.87 \n",
       "  \"/>\n",
       "<polyline clip-path=\"url(#clip360)\" style=\"stroke:#000000; stroke-width:4; stroke-opacity:1; fill:none\" points=\"\n",
       "  166.205,1229.5 192.443,1229.5 \n",
       "  \"/>\n",
       "<polyline clip-path=\"url(#clip360)\" style=\"stroke:#000000; stroke-width:4; stroke-opacity:1; fill:none\" points=\"\n",
       "  166.205,1011.13 192.443,1011.13 \n",
       "  \"/>\n",
       "<polyline clip-path=\"url(#clip360)\" style=\"stroke:#000000; stroke-width:4; stroke-opacity:1; fill:none\" points=\"\n",
       "  166.205,792.76 192.443,792.76 \n",
       "  \"/>\n",
       "<polyline clip-path=\"url(#clip360)\" style=\"stroke:#000000; stroke-width:4; stroke-opacity:1; fill:none\" points=\"\n",
       "  166.205,574.389 192.443,574.389 \n",
       "  \"/>\n",
       "<polyline clip-path=\"url(#clip360)\" style=\"stroke:#000000; stroke-width:4; stroke-opacity:1; fill:none\" points=\"\n",
       "  166.205,356.018 192.443,356.018 \n",
       "  \"/>\n",
       "<polyline clip-path=\"url(#clip360)\" style=\"stroke:#000000; stroke-width:4; stroke-opacity:1; fill:none\" points=\"\n",
       "  166.205,137.647 192.443,137.647 \n",
       "  \"/>\n",
       "<path clip-path=\"url(#clip360)\" d=\"M 0 0 M380.468 1518.97 Q382.066 1516.1 384.288 1514.73 Q386.51 1513.37 389.519 1513.37 Q393.57 1513.37 395.769 1516.22 Q397.968 1519.04 397.968 1524.27 L397.968 1539.92 L393.686 1539.92 L393.686 1524.41 Q393.686 1520.68 392.367 1518.88 Q391.047 1517.07 388.339 1517.07 Q385.029 1517.07 383.107 1519.27 Q381.186 1521.47 381.186 1525.27 L381.186 1539.92 L376.904 1539.92 L376.904 1524.41 Q376.904 1520.66 375.584 1518.88 Q374.265 1517.07 371.51 1517.07 Q368.246 1517.07 366.325 1519.29 Q364.404 1521.49 364.404 1525.27 L364.404 1539.92 L360.121 1539.92 L360.121 1513.99 L364.404 1513.99 L364.404 1518.02 Q365.862 1515.64 367.899 1514.5 Q369.936 1513.37 372.737 1513.37 Q375.561 1513.37 377.529 1514.8 Q379.519 1516.24 380.468 1518.97 Z\" fill=\"#000000\" fill-rule=\"evenodd\" fill-opacity=\"1\" /><path clip-path=\"url(#clip360)\" d=\"M 0 0 M414.218 1526.89 Q409.056 1526.89 407.066 1528.07 Q405.075 1529.25 405.075 1532.1 Q405.075 1534.36 406.556 1535.71 Q408.061 1537.03 410.63 1537.03 Q414.172 1537.03 416.302 1534.53 Q418.454 1532 418.454 1527.84 L418.454 1526.89 L414.218 1526.89 M422.714 1525.13 L422.714 1539.92 L418.454 1539.92 L418.454 1535.98 Q416.996 1538.35 414.82 1539.48 Q412.644 1540.59 409.496 1540.59 Q405.515 1540.59 403.154 1538.37 Q400.816 1536.12 400.816 1532.37 Q400.816 1528 403.732 1525.78 Q406.672 1523.55 412.482 1523.55 L418.454 1523.55 L418.454 1523.14 Q418.454 1520.2 416.51 1518.6 Q414.589 1516.98 411.093 1516.98 Q408.871 1516.98 406.765 1517.51 Q404.658 1518.04 402.714 1519.11 L402.714 1515.17 Q405.052 1514.27 407.251 1513.83 Q409.45 1513.37 411.533 1513.37 Q417.158 1513.37 419.936 1516.29 Q422.714 1519.2 422.714 1525.13 Z\" fill=\"#000000\" fill-rule=\"evenodd\" fill-opacity=\"1\" /><path clip-path=\"url(#clip360)\" d=\"M 0 0 M431.394 1506.63 L431.394 1513.99 L440.167 1513.99 L440.167 1517.3 L431.394 1517.3 L431.394 1531.38 Q431.394 1534.55 432.251 1535.45 Q433.13 1536.36 435.792 1536.36 L440.167 1536.36 L440.167 1539.92 L435.792 1539.92 Q430.862 1539.92 428.987 1538.09 Q427.112 1536.24 427.112 1531.38 L427.112 1517.3 L423.987 1517.3 L423.987 1513.99 L427.112 1513.99 L427.112 1506.63 L431.394 1506.63 Z\" fill=\"#000000\" fill-rule=\"evenodd\" fill-opacity=\"1\" /><path clip-path=\"url(#clip360)\" d=\"M 0 0 M459.658 1517.98 Q458.94 1517.56 458.084 1517.37 Q457.25 1517.17 456.232 1517.17 Q452.621 1517.17 450.676 1519.53 Q448.755 1521.86 448.755 1526.26 L448.755 1539.92 L444.473 1539.92 L444.473 1513.99 L448.755 1513.99 L448.755 1518.02 Q450.098 1515.66 452.251 1514.53 Q454.403 1513.37 457.482 1513.37 Q457.922 1513.37 458.454 1513.44 Q458.987 1513.48 459.635 1513.6 L459.658 1517.98 Z\" fill=\"#000000\" fill-rule=\"evenodd\" fill-opacity=\"1\" /><path clip-path=\"url(#clip360)\" d=\"M 0 0 M464.125 1513.99 L468.385 1513.99 L468.385 1539.92 L464.125 1539.92 L464.125 1513.99 M464.125 1503.9 L468.385 1503.9 L468.385 1509.3 L464.125 1509.3 L464.125 1503.9 Z\" fill=\"#000000\" fill-rule=\"evenodd\" fill-opacity=\"1\" /><path clip-path=\"url(#clip360)\" d=\"M 0 0 M491.51 1514.99 L491.51 1518.97 Q489.704 1517.98 487.875 1517.49 Q486.07 1516.98 484.218 1516.98 Q480.074 1516.98 477.783 1519.62 Q475.491 1522.23 475.491 1526.98 Q475.491 1531.73 477.783 1534.36 Q480.074 1536.98 484.218 1536.98 Q486.07 1536.98 487.875 1536.49 Q489.704 1535.98 491.51 1534.99 L491.51 1538.92 Q489.727 1539.76 487.806 1540.17 Q485.908 1540.59 483.755 1540.59 Q477.899 1540.59 474.449 1536.91 Q471 1533.23 471 1526.98 Q471 1520.64 474.473 1517 Q477.968 1513.37 484.033 1513.37 Q486 1513.37 487.875 1513.79 Q489.75 1514.18 491.51 1514.99 Z\" fill=\"#000000\" fill-rule=\"evenodd\" fill-opacity=\"1\" /><path clip-path=\"url(#clip360)\" d=\"M 0 0 M518.153 1525.89 L518.153 1527.98 L498.57 1527.98 Q498.847 1532.37 501.209 1534.69 Q503.593 1536.98 507.829 1536.98 Q510.283 1536.98 512.574 1536.38 Q514.889 1535.78 517.158 1534.57 L517.158 1538.6 Q514.866 1539.57 512.459 1540.08 Q510.051 1540.59 507.574 1540.59 Q501.371 1540.59 497.736 1536.98 Q494.125 1533.37 494.125 1527.21 Q494.125 1520.85 497.551 1517.12 Q501 1513.37 506.834 1513.37 Q512.065 1513.37 515.097 1516.75 Q518.153 1520.11 518.153 1525.89 M513.894 1524.64 Q513.847 1521.15 511.926 1519.06 Q510.028 1516.98 506.88 1516.98 Q503.315 1516.98 501.162 1518.99 Q499.033 1521.01 498.709 1524.67 L513.894 1524.64 Z\" fill=\"#000000\" fill-rule=\"evenodd\" fill-opacity=\"1\" /><path clip-path=\"url(#clip360)\" d=\"M 0 0 M554.218 1514.76 L554.218 1518.79 Q552.412 1517.86 550.468 1517.4 Q548.523 1516.93 546.44 1516.93 Q543.269 1516.93 541.671 1517.91 Q540.097 1518.88 540.097 1520.82 Q540.097 1522.3 541.232 1523.16 Q542.366 1523.99 545.792 1524.76 L547.25 1525.08 Q551.787 1526.05 553.685 1527.84 Q555.606 1529.6 555.606 1532.77 Q555.606 1536.38 552.736 1538.48 Q549.889 1540.59 544.889 1540.59 Q542.806 1540.59 540.537 1540.17 Q538.292 1539.78 535.792 1538.97 L535.792 1534.57 Q538.153 1535.8 540.444 1536.42 Q542.736 1537.03 544.981 1537.03 Q547.991 1537.03 549.611 1536.01 Q551.231 1534.97 551.231 1533.09 Q551.231 1531.36 550.051 1530.43 Q548.894 1529.5 544.935 1528.65 L543.454 1528.3 Q539.495 1527.47 537.736 1525.75 Q535.977 1524.02 535.977 1521.01 Q535.977 1517.35 538.569 1515.36 Q541.162 1513.37 545.931 1513.37 Q548.292 1513.37 550.375 1513.72 Q552.458 1514.06 554.218 1514.76 Z\" fill=\"#000000\" fill-rule=\"evenodd\" fill-opacity=\"1\" /><path clip-path=\"url(#clip360)\" d=\"M 0 0 M560.074 1513.99 L564.333 1513.99 L564.333 1539.92 L560.074 1539.92 L560.074 1513.99 M560.074 1503.9 L564.333 1503.9 L564.333 1509.3 L560.074 1509.3 L560.074 1503.9 Z\" fill=\"#000000\" fill-rule=\"evenodd\" fill-opacity=\"1\" /><path clip-path=\"url(#clip360)\" d=\"M 0 0 M588.986 1518.97 Q590.583 1516.1 592.805 1514.73 Q595.028 1513.37 598.037 1513.37 Q602.088 1513.37 604.287 1516.22 Q606.486 1519.04 606.486 1524.27 L606.486 1539.92 L602.203 1539.92 L602.203 1524.41 Q602.203 1520.68 600.884 1518.88 Q599.565 1517.07 596.856 1517.07 Q593.546 1517.07 591.625 1519.27 Q589.703 1521.47 589.703 1525.27 L589.703 1539.92 L585.421 1539.92 L585.421 1524.41 Q585.421 1520.66 584.102 1518.88 Q582.782 1517.07 580.028 1517.07 Q576.764 1517.07 574.842 1519.29 Q572.921 1521.49 572.921 1525.27 L572.921 1539.92 L568.639 1539.92 L568.639 1513.99 L572.921 1513.99 L572.921 1518.02 Q574.379 1515.64 576.417 1514.5 Q578.454 1513.37 581.254 1513.37 Q584.079 1513.37 586.046 1514.8 Q588.037 1516.24 588.986 1518.97 Z\" fill=\"#000000\" fill-rule=\"evenodd\" fill-opacity=\"1\" /><path clip-path=\"url(#clip360)\" d=\"M 0 0 M631.138 1518.97 Q632.736 1516.1 634.958 1514.73 Q637.18 1513.37 640.189 1513.37 Q644.24 1513.37 646.439 1516.22 Q648.638 1519.04 648.638 1524.27 L648.638 1539.92 L644.356 1539.92 L644.356 1524.41 Q644.356 1520.68 643.037 1518.88 Q641.717 1517.07 639.009 1517.07 Q635.699 1517.07 633.777 1519.27 Q631.856 1521.47 631.856 1525.27 L631.856 1539.92 L627.574 1539.92 L627.574 1524.41 Q627.574 1520.66 626.254 1518.88 Q624.935 1517.07 622.18 1517.07 Q618.916 1517.07 616.995 1519.29 Q615.074 1521.49 615.074 1525.27 L615.074 1539.92 L610.791 1539.92 L610.791 1513.99 L615.074 1513.99 L615.074 1518.02 Q616.532 1515.64 618.569 1514.5 Q620.606 1513.37 623.407 1513.37 Q626.231 1513.37 628.199 1514.8 Q630.189 1516.24 631.138 1518.97 Z\" fill=\"#000000\" fill-rule=\"evenodd\" fill-opacity=\"1\" /><path clip-path=\"url(#clip360)\" d=\"M 0 0 M675.282 1525.89 L675.282 1527.98 L655.698 1527.98 Q655.976 1532.37 658.337 1534.69 Q660.722 1536.98 664.958 1536.98 Q667.411 1536.98 669.703 1536.38 Q672.018 1535.78 674.286 1534.57 L674.286 1538.6 Q671.995 1539.57 669.587 1540.08 Q667.18 1540.59 664.703 1540.59 Q658.499 1540.59 654.865 1536.98 Q651.254 1533.37 651.254 1527.21 Q651.254 1520.85 654.68 1517.12 Q658.129 1513.37 663.962 1513.37 Q669.194 1513.37 672.226 1516.75 Q675.282 1520.11 675.282 1525.89 M671.022 1524.64 Q670.976 1521.15 669.055 1519.06 Q667.157 1516.98 664.009 1516.98 Q660.444 1516.98 658.291 1518.99 Q656.161 1521.01 655.837 1524.67 L671.022 1524.64 Z\" fill=\"#000000\" fill-rule=\"evenodd\" fill-opacity=\"1\" /><path clip-path=\"url(#clip360)\" d=\"M 0 0 M683.962 1506.63 L683.962 1513.99 L692.735 1513.99 L692.735 1517.3 L683.962 1517.3 L683.962 1531.38 Q683.962 1534.55 684.819 1535.45 Q685.698 1536.36 688.36 1536.36 L692.735 1536.36 L692.735 1539.92 L688.36 1539.92 Q683.43 1539.92 681.555 1538.09 Q679.68 1536.24 679.68 1531.38 L679.68 1517.3 L676.555 1517.3 L676.555 1513.99 L679.68 1513.99 L679.68 1506.63 L683.962 1506.63 Z\" fill=\"#000000\" fill-rule=\"evenodd\" fill-opacity=\"1\" /><path clip-path=\"url(#clip360)\" d=\"M 0 0 M712.226 1517.98 Q711.508 1517.56 710.652 1517.37 Q709.819 1517.17 708.8 1517.17 Q705.189 1517.17 703.245 1519.53 Q701.323 1521.86 701.323 1526.26 L701.323 1539.92 L697.041 1539.92 L697.041 1513.99 L701.323 1513.99 L701.323 1518.02 Q702.666 1515.66 704.819 1514.53 Q706.971 1513.37 710.05 1513.37 Q710.49 1513.37 711.022 1513.44 Q711.555 1513.48 712.203 1513.6 L712.226 1517.98 Z\" fill=\"#000000\" fill-rule=\"evenodd\" fill-opacity=\"1\" /><path clip-path=\"url(#clip360)\" d=\"M 0 0 M716.694 1513.99 L720.953 1513.99 L720.953 1539.92 L716.694 1539.92 L716.694 1513.99 M716.694 1503.9 L720.953 1503.9 L720.953 1509.3 L716.694 1509.3 L716.694 1503.9 Z\" fill=\"#000000\" fill-rule=\"evenodd\" fill-opacity=\"1\" /><path clip-path=\"url(#clip360)\" d=\"M 0 0 M744.078 1514.99 L744.078 1518.97 Q742.272 1517.98 740.443 1517.49 Q738.638 1516.98 736.786 1516.98 Q732.643 1516.98 730.351 1519.62 Q728.059 1522.23 728.059 1526.98 Q728.059 1531.73 730.351 1534.36 Q732.643 1536.98 736.786 1536.98 Q738.638 1536.98 740.443 1536.49 Q742.272 1535.98 744.078 1534.99 L744.078 1538.92 Q742.295 1539.76 740.374 1540.17 Q738.476 1540.59 736.323 1540.59 Q730.467 1540.59 727.018 1536.91 Q723.569 1533.23 723.569 1526.98 Q723.569 1520.64 727.041 1517 Q730.536 1513.37 736.601 1513.37 Q738.568 1513.37 740.443 1513.79 Q742.318 1514.18 744.078 1514.99 Z\" fill=\"#000000\" fill-rule=\"evenodd\" fill-opacity=\"1\" /><path clip-path=\"url(#clip360)\" d=\"M 0 0 M760.328 1526.89 Q755.166 1526.89 753.175 1528.07 Q751.184 1529.25 751.184 1532.1 Q751.184 1534.36 752.666 1535.71 Q754.17 1537.03 756.74 1537.03 Q760.281 1537.03 762.411 1534.53 Q764.564 1532 764.564 1527.84 L764.564 1526.89 L760.328 1526.89 M768.823 1525.13 L768.823 1539.92 L764.564 1539.92 L764.564 1535.98 Q763.105 1538.35 760.929 1539.48 Q758.754 1540.59 755.605 1540.59 Q751.624 1540.59 749.263 1538.37 Q746.925 1536.12 746.925 1532.37 Q746.925 1528 749.842 1525.78 Q752.781 1523.55 758.591 1523.55 L764.564 1523.55 L764.564 1523.14 Q764.564 1520.2 762.619 1518.6 Q760.698 1516.98 757.203 1516.98 Q754.98 1516.98 752.874 1517.51 Q750.767 1518.04 748.823 1519.11 L748.823 1515.17 Q751.161 1514.27 753.36 1513.83 Q755.559 1513.37 757.642 1513.37 Q763.267 1513.37 766.045 1516.29 Q768.823 1519.2 768.823 1525.13 Z\" fill=\"#000000\" fill-rule=\"evenodd\" fill-opacity=\"1\" /><path clip-path=\"url(#clip360)\" d=\"M 0 0 M1067.51 1518.97 Q1069.11 1516.1 1071.33 1514.73 Q1073.56 1513.37 1076.56 1513.37 Q1080.62 1513.37 1082.81 1516.22 Q1085.01 1519.04 1085.01 1524.27 L1085.01 1539.92 L1080.73 1539.92 L1080.73 1524.41 Q1080.73 1520.68 1079.41 1518.88 Q1078.09 1517.07 1075.38 1517.07 Q1072.07 1517.07 1070.15 1519.27 Q1068.23 1521.47 1068.23 1525.27 L1068.23 1539.92 L1063.95 1539.92 L1063.95 1524.41 Q1063.95 1520.66 1062.63 1518.88 Q1061.31 1517.07 1058.56 1517.07 Q1055.29 1517.07 1053.37 1519.29 Q1051.45 1521.49 1051.45 1525.27 L1051.45 1539.92 L1047.17 1539.92 L1047.17 1513.99 L1051.45 1513.99 L1051.45 1518.02 Q1052.91 1515.64 1054.94 1514.5 Q1056.98 1513.37 1059.78 1513.37 Q1062.61 1513.37 1064.57 1514.8 Q1066.56 1516.24 1067.51 1518.97 Z\" fill=\"#000000\" fill-rule=\"evenodd\" fill-opacity=\"1\" /><path clip-path=\"url(#clip360)\" d=\"M 0 0 M1101.26 1526.89 Q1096.1 1526.89 1094.11 1528.07 Q1092.12 1529.25 1092.12 1532.1 Q1092.12 1534.36 1093.6 1535.71 Q1095.11 1537.03 1097.68 1537.03 Q1101.22 1537.03 1103.35 1534.53 Q1105.5 1532 1105.5 1527.84 L1105.5 1526.89 L1101.26 1526.89 M1109.76 1525.13 L1109.76 1539.92 L1105.5 1539.92 L1105.5 1535.98 Q1104.04 1538.35 1101.87 1539.48 Q1099.69 1540.59 1096.54 1540.59 Q1092.56 1540.59 1090.2 1538.37 Q1087.86 1536.12 1087.86 1532.37 Q1087.86 1528 1090.78 1525.78 Q1093.72 1523.55 1099.53 1523.55 L1105.5 1523.55 L1105.5 1523.14 Q1105.5 1520.2 1103.56 1518.6 Q1101.63 1516.98 1098.14 1516.98 Q1095.92 1516.98 1093.81 1517.51 Q1091.7 1518.04 1089.76 1519.11 L1089.76 1515.17 Q1092.1 1514.27 1094.3 1513.83 Q1096.5 1513.37 1098.58 1513.37 Q1104.2 1513.37 1106.98 1516.29 Q1109.76 1519.2 1109.76 1525.13 Z\" fill=\"#000000\" fill-rule=\"evenodd\" fill-opacity=\"1\" /><path clip-path=\"url(#clip360)\" d=\"M 0 0 M1118.44 1506.63 L1118.44 1513.99 L1127.21 1513.99 L1127.21 1517.3 L1118.44 1517.3 L1118.44 1531.38 Q1118.44 1534.55 1119.3 1535.45 Q1120.18 1536.36 1122.84 1536.36 L1127.21 1536.36 L1127.21 1539.92 L1122.84 1539.92 Q1117.91 1539.92 1116.03 1538.09 Q1114.16 1536.24 1114.16 1531.38 L1114.16 1517.3 L1111.03 1517.3 L1111.03 1513.99 L1114.16 1513.99 L1114.16 1506.63 L1118.44 1506.63 Z\" fill=\"#000000\" fill-rule=\"evenodd\" fill-opacity=\"1\" /><path clip-path=\"url(#clip360)\" d=\"M 0 0 M1146.7 1517.98 Q1145.99 1517.56 1145.13 1517.37 Q1144.3 1517.17 1143.28 1517.17 Q1139.67 1517.17 1137.72 1519.53 Q1135.8 1521.86 1135.8 1526.26 L1135.8 1539.92 L1131.52 1539.92 L1131.52 1513.99 L1135.8 1513.99 L1135.8 1518.02 Q1137.14 1515.66 1139.3 1514.53 Q1141.45 1513.37 1144.53 1513.37 Q1144.97 1513.37 1145.5 1513.44 Q1146.03 1513.48 1146.68 1513.6 L1146.7 1517.98 Z\" fill=\"#000000\" fill-rule=\"evenodd\" fill-opacity=\"1\" /><path clip-path=\"url(#clip360)\" d=\"M 0 0 M1151.17 1513.99 L1155.43 1513.99 L1155.43 1539.92 L1151.17 1539.92 L1151.17 1513.99 M1151.17 1503.9 L1155.43 1503.9 L1155.43 1509.3 L1151.17 1509.3 L1151.17 1503.9 Z\" fill=\"#000000\" fill-rule=\"evenodd\" fill-opacity=\"1\" /><path clip-path=\"url(#clip360)\" d=\"M 0 0 M1178.55 1514.99 L1178.55 1518.97 Q1176.75 1517.98 1174.92 1517.49 Q1173.12 1516.98 1171.26 1516.98 Q1167.12 1516.98 1164.83 1519.62 Q1162.54 1522.23 1162.54 1526.98 Q1162.54 1531.73 1164.83 1534.36 Q1167.12 1536.98 1171.26 1536.98 Q1173.12 1536.98 1174.92 1536.49 Q1176.75 1535.98 1178.55 1534.99 L1178.55 1538.92 Q1176.77 1539.76 1174.85 1540.17 Q1172.95 1540.59 1170.8 1540.59 Q1164.94 1540.59 1161.49 1536.91 Q1158.05 1533.23 1158.05 1526.98 Q1158.05 1520.64 1161.52 1517 Q1165.01 1513.37 1171.08 1513.37 Q1173.05 1513.37 1174.92 1513.79 Q1176.8 1514.18 1178.55 1514.99 Z\" fill=\"#000000\" fill-rule=\"evenodd\" fill-opacity=\"1\" /><path clip-path=\"url(#clip360)\" d=\"M 0 0 M1205.2 1525.89 L1205.2 1527.98 L1185.61 1527.98 Q1185.89 1532.37 1188.25 1534.69 Q1190.64 1536.98 1194.87 1536.98 Q1197.33 1536.98 1199.62 1536.38 Q1201.93 1535.78 1204.2 1534.57 L1204.2 1538.6 Q1201.91 1539.57 1199.5 1540.08 Q1197.1 1540.59 1194.62 1540.59 Q1188.42 1540.59 1184.78 1536.98 Q1181.17 1533.37 1181.17 1527.21 Q1181.17 1520.85 1184.6 1517.12 Q1188.05 1513.37 1193.88 1513.37 Q1199.11 1513.37 1202.14 1516.75 Q1205.2 1520.11 1205.2 1525.89 M1200.94 1524.64 Q1200.89 1521.15 1198.97 1519.06 Q1197.07 1516.98 1193.93 1516.98 Q1190.36 1516.98 1188.21 1518.99 Q1186.08 1521.01 1185.75 1524.67 L1200.94 1524.64 Z\" fill=\"#000000\" fill-rule=\"evenodd\" fill-opacity=\"1\" /><path clip-path=\"url(#clip360)\" d=\"M 0 0 M1243.39 1514.99 L1243.39 1518.97 Q1241.59 1517.98 1239.76 1517.49 Q1237.95 1516.98 1236.1 1516.98 Q1231.96 1516.98 1229.67 1519.62 Q1227.37 1522.23 1227.37 1526.98 Q1227.37 1531.73 1229.67 1534.36 Q1231.96 1536.98 1236.1 1536.98 Q1237.95 1536.98 1239.76 1536.49 Q1241.59 1535.98 1243.39 1534.99 L1243.39 1538.92 Q1241.61 1539.76 1239.69 1540.17 Q1237.79 1540.59 1235.64 1540.59 Q1229.78 1540.59 1226.33 1536.91 Q1222.88 1533.23 1222.88 1526.98 Q1222.88 1520.64 1226.36 1517 Q1229.85 1513.37 1235.92 1513.37 Q1237.88 1513.37 1239.76 1513.79 Q1241.63 1514.18 1243.39 1514.99 Z\" fill=\"#000000\" fill-rule=\"evenodd\" fill-opacity=\"1\" /><path clip-path=\"url(#clip360)\" d=\"M 0 0 M1257.91 1516.98 Q1254.48 1516.98 1252.49 1519.67 Q1250.5 1522.33 1250.5 1526.98 Q1250.5 1531.63 1252.47 1534.32 Q1254.46 1536.98 1257.91 1536.98 Q1261.31 1536.98 1263.3 1534.29 Q1265.29 1531.61 1265.29 1526.98 Q1265.29 1522.37 1263.3 1519.69 Q1261.31 1516.98 1257.91 1516.98 M1257.91 1513.37 Q1263.46 1513.37 1266.63 1516.98 Q1269.8 1520.59 1269.8 1526.98 Q1269.8 1533.35 1266.63 1536.98 Q1263.46 1540.59 1257.91 1540.59 Q1252.33 1540.59 1249.16 1536.98 Q1246.01 1533.35 1246.01 1526.98 Q1246.01 1520.59 1249.16 1516.98 Q1252.33 1513.37 1257.91 1513.37 Z\" fill=\"#000000\" fill-rule=\"evenodd\" fill-opacity=\"1\" /><path clip-path=\"url(#clip360)\" d=\"M 0 0 M1295.82 1524.27 L1295.82 1539.92 L1291.56 1539.92 L1291.56 1524.41 Q1291.56 1520.73 1290.13 1518.9 Q1288.69 1517.07 1285.82 1517.07 Q1282.37 1517.07 1280.38 1519.27 Q1278.39 1521.47 1278.39 1525.27 L1278.39 1539.92 L1274.11 1539.92 L1274.11 1513.99 L1278.39 1513.99 L1278.39 1518.02 Q1279.92 1515.68 1281.98 1514.53 Q1284.06 1513.37 1286.77 1513.37 Q1291.24 1513.37 1293.53 1516.15 Q1295.82 1518.9 1295.82 1524.27 Z\" fill=\"#000000\" fill-rule=\"evenodd\" fill-opacity=\"1\" /><path clip-path=\"url(#clip360)\" d=\"M 0 0 M1313.25 1548.3 L1313.25 1506.49 L1336.96 1506.49 L1336.96 1548.3 L1313.25 1548.3 M1315.92 1545.66 L1334.32 1545.66 L1334.32 1509.16 L1315.92 1509.16 L1315.92 1545.66 Z\" fill=\"#000000\" fill-rule=\"evenodd\" fill-opacity=\"1\" /><path clip-path=\"url(#clip360)\" d=\"M 0 0 M1345.54 1536.03 L1345.54 1549.78 L1341.26 1549.78 L1341.26 1513.99 L1345.54 1513.99 L1345.54 1517.93 Q1346.89 1515.61 1348.92 1514.5 Q1350.98 1513.37 1353.83 1513.37 Q1358.55 1513.37 1361.49 1517.12 Q1364.46 1520.87 1364.46 1526.98 Q1364.46 1533.09 1361.49 1536.84 Q1358.55 1540.59 1353.83 1540.59 Q1350.98 1540.59 1348.92 1539.48 Q1346.89 1538.35 1345.54 1536.03 M1360.04 1526.98 Q1360.04 1522.28 1358.09 1519.62 Q1356.17 1516.93 1352.79 1516.93 Q1349.41 1516.93 1347.47 1519.62 Q1345.54 1522.28 1345.54 1526.98 Q1345.54 1531.68 1347.47 1534.36 Q1349.41 1537.03 1352.79 1537.03 Q1356.17 1537.03 1358.09 1534.36 Q1360.04 1531.68 1360.04 1526.98 Z\" fill=\"#000000\" fill-rule=\"evenodd\" fill-opacity=\"1\" /><path clip-path=\"url(#clip360)\" d=\"M 0 0 M1385.45 1514.76 L1385.45 1518.79 Q1383.65 1517.86 1381.7 1517.4 Q1379.76 1516.93 1377.67 1516.93 Q1374.5 1516.93 1372.91 1517.91 Q1371.33 1518.88 1371.33 1520.82 Q1371.33 1522.3 1372.47 1523.16 Q1373.6 1523.99 1377.03 1524.76 L1378.48 1525.08 Q1383.02 1526.05 1384.92 1527.84 Q1386.84 1529.6 1386.84 1532.77 Q1386.84 1536.38 1383.97 1538.48 Q1381.12 1540.59 1376.12 1540.59 Q1374.04 1540.59 1371.77 1540.17 Q1369.53 1539.78 1367.03 1538.97 L1367.03 1534.57 Q1369.39 1535.8 1371.68 1536.42 Q1373.97 1537.03 1376.22 1537.03 Q1379.23 1537.03 1380.85 1536.01 Q1382.47 1534.97 1382.47 1533.09 Q1382.47 1531.36 1381.29 1530.43 Q1380.13 1529.5 1376.17 1528.65 L1374.69 1528.3 Q1370.73 1527.47 1368.97 1525.75 Q1367.21 1524.02 1367.21 1521.01 Q1367.21 1517.35 1369.8 1515.36 Q1372.4 1513.37 1377.16 1513.37 Q1379.53 1513.37 1381.61 1513.72 Q1383.69 1514.06 1385.45 1514.76 Z\" fill=\"#000000\" fill-rule=\"evenodd\" fill-opacity=\"1\" /><path clip-path=\"url(#clip360)\" d=\"M 0 0 M1391.31 1513.99 L1395.57 1513.99 L1395.57 1539.92 L1391.31 1539.92 L1391.31 1513.99 M1391.31 1503.9 L1395.57 1503.9 L1395.57 1509.3 L1391.31 1509.3 L1391.31 1503.9 Z\" fill=\"#000000\" fill-rule=\"evenodd\" fill-opacity=\"1\" /><path clip-path=\"url(#clip360)\" d=\"M 0 0 M1400.04 1503.9 L1404.29 1503.9 L1404.29 1539.92 L1400.04 1539.92 L1400.04 1503.9 Z\" fill=\"#000000\" fill-rule=\"evenodd\" fill-opacity=\"1\" /><path clip-path=\"url(#clip360)\" d=\"M 0 0 M1418.81 1516.98 Q1415.38 1516.98 1413.39 1519.67 Q1411.4 1522.33 1411.4 1526.98 Q1411.4 1531.63 1413.37 1534.32 Q1415.36 1536.98 1418.81 1536.98 Q1422.21 1536.98 1424.2 1534.29 Q1426.19 1531.61 1426.19 1526.98 Q1426.19 1522.37 1424.2 1519.69 Q1422.21 1516.98 1418.81 1516.98 M1418.81 1513.37 Q1424.36 1513.37 1427.53 1516.98 Q1430.71 1520.59 1430.71 1526.98 Q1430.71 1533.35 1427.53 1536.98 Q1424.36 1540.59 1418.81 1540.59 Q1413.23 1540.59 1410.06 1536.98 Q1406.91 1533.35 1406.91 1526.98 Q1406.91 1520.59 1410.06 1516.98 Q1413.23 1513.37 1418.81 1513.37 Z\" fill=\"#000000\" fill-rule=\"evenodd\" fill-opacity=\"1\" /><path clip-path=\"url(#clip360)\" d=\"M 0 0 M1456.72 1524.27 L1456.72 1539.92 L1452.47 1539.92 L1452.47 1524.41 Q1452.47 1520.73 1451.03 1518.9 Q1449.6 1517.07 1446.72 1517.07 Q1443.28 1517.07 1441.28 1519.27 Q1439.29 1521.47 1439.29 1525.27 L1439.29 1539.92 L1435.01 1539.92 L1435.01 1513.99 L1439.29 1513.99 L1439.29 1518.02 Q1440.82 1515.68 1442.88 1514.53 Q1444.97 1513.37 1447.67 1513.37 Q1452.14 1513.37 1454.43 1516.15 Q1456.72 1518.9 1456.72 1524.27 Z\" fill=\"#000000\" fill-rule=\"evenodd\" fill-opacity=\"1\" /><path clip-path=\"url(#clip360)\" d=\"M 0 0 M1657.83 1518.97 Q1659.43 1516.1 1661.65 1514.73 Q1663.88 1513.37 1666.89 1513.37 Q1670.94 1513.37 1673.14 1516.22 Q1675.33 1519.04 1675.33 1524.27 L1675.33 1539.92 L1671.05 1539.92 L1671.05 1524.41 Q1671.05 1520.68 1669.73 1518.88 Q1668.41 1517.07 1665.71 1517.07 Q1662.4 1517.07 1660.47 1519.27 Q1658.55 1521.47 1658.55 1525.27 L1658.55 1539.92 L1654.27 1539.92 L1654.27 1524.41 Q1654.27 1520.66 1652.95 1518.88 Q1651.63 1517.07 1648.88 1517.07 Q1645.61 1517.07 1643.69 1519.29 Q1641.77 1521.49 1641.77 1525.27 L1641.77 1539.92 L1637.49 1539.92 L1637.49 1513.99 L1641.77 1513.99 L1641.77 1518.02 Q1643.23 1515.64 1645.27 1514.5 Q1647.3 1513.37 1650.1 1513.37 Q1652.93 1513.37 1654.9 1514.8 Q1656.89 1516.24 1657.83 1518.97 Z\" fill=\"#000000\" fill-rule=\"evenodd\" fill-opacity=\"1\" /><path clip-path=\"url(#clip360)\" d=\"M 0 0 M1691.58 1526.89 Q1686.42 1526.89 1684.43 1528.07 Q1682.44 1529.25 1682.44 1532.1 Q1682.44 1534.36 1683.92 1535.71 Q1685.43 1537.03 1688 1537.03 Q1691.54 1537.03 1693.67 1534.53 Q1695.82 1532 1695.82 1527.84 L1695.82 1526.89 L1691.58 1526.89 M1700.08 1525.13 L1700.08 1539.92 L1695.82 1539.92 L1695.82 1535.98 Q1694.36 1538.35 1692.19 1539.48 Q1690.01 1540.59 1686.86 1540.59 Q1682.88 1540.59 1680.52 1538.37 Q1678.18 1536.12 1678.18 1532.37 Q1678.18 1528 1681.1 1525.78 Q1684.04 1523.55 1689.85 1523.55 L1695.82 1523.55 L1695.82 1523.14 Q1695.82 1520.2 1693.88 1518.6 Q1691.96 1516.98 1688.46 1516.98 Q1686.24 1516.98 1684.13 1517.51 Q1682.02 1518.04 1680.08 1519.11 L1680.08 1515.17 Q1682.42 1514.27 1684.62 1513.83 Q1686.82 1513.37 1688.9 1513.37 Q1694.52 1513.37 1697.3 1516.29 Q1700.08 1519.2 1700.08 1525.13 Z\" fill=\"#000000\" fill-rule=\"evenodd\" fill-opacity=\"1\" /><path clip-path=\"url(#clip360)\" d=\"M 0 0 M1708.76 1506.63 L1708.76 1513.99 L1717.53 1513.99 L1717.53 1517.3 L1708.76 1517.3 L1708.76 1531.38 Q1708.76 1534.55 1709.62 1535.45 Q1710.5 1536.36 1713.16 1536.36 L1717.53 1536.36 L1717.53 1539.92 L1713.16 1539.92 Q1708.23 1539.92 1706.35 1538.09 Q1704.48 1536.24 1704.48 1531.38 L1704.48 1517.3 L1701.35 1517.3 L1701.35 1513.99 L1704.48 1513.99 L1704.48 1506.63 L1708.76 1506.63 Z\" fill=\"#000000\" fill-rule=\"evenodd\" fill-opacity=\"1\" /><path clip-path=\"url(#clip360)\" d=\"M 0 0 M1737.02 1517.98 Q1736.31 1517.56 1735.45 1517.37 Q1734.62 1517.17 1733.6 1517.17 Q1729.99 1517.17 1728.04 1519.53 Q1726.12 1521.86 1726.12 1526.26 L1726.12 1539.92 L1721.84 1539.92 L1721.84 1513.99 L1726.12 1513.99 L1726.12 1518.02 Q1727.46 1515.66 1729.62 1514.53 Q1731.77 1513.37 1734.85 1513.37 Q1735.29 1513.37 1735.82 1513.44 Q1736.35 1513.48 1737 1513.6 L1737.02 1517.98 Z\" fill=\"#000000\" fill-rule=\"evenodd\" fill-opacity=\"1\" /><path clip-path=\"url(#clip360)\" d=\"M 0 0 M1741.49 1513.99 L1745.75 1513.99 L1745.75 1539.92 L1741.49 1539.92 L1741.49 1513.99 M1741.49 1503.9 L1745.75 1503.9 L1745.75 1509.3 L1741.49 1509.3 L1741.49 1503.9 Z\" fill=\"#000000\" fill-rule=\"evenodd\" fill-opacity=\"1\" /><path clip-path=\"url(#clip360)\" d=\"M 0 0 M1768.88 1514.99 L1768.88 1518.97 Q1767.07 1517.98 1765.24 1517.49 Q1763.44 1516.98 1761.58 1516.98 Q1757.44 1516.98 1755.15 1519.62 Q1752.86 1522.23 1752.86 1526.98 Q1752.86 1531.73 1755.15 1534.36 Q1757.44 1536.98 1761.58 1536.98 Q1763.44 1536.98 1765.24 1536.49 Q1767.07 1535.98 1768.88 1534.99 L1768.88 1538.92 Q1767.09 1539.76 1765.17 1540.17 Q1763.27 1540.59 1761.12 1540.59 Q1755.26 1540.59 1751.82 1536.91 Q1748.37 1533.23 1748.37 1526.98 Q1748.37 1520.64 1751.84 1517 Q1755.33 1513.37 1761.4 1513.37 Q1763.37 1513.37 1765.24 1513.79 Q1767.12 1514.18 1768.88 1514.99 Z\" fill=\"#000000\" fill-rule=\"evenodd\" fill-opacity=\"1\" /><path clip-path=\"url(#clip360)\" d=\"M 0 0 M1795.52 1525.89 L1795.52 1527.98 L1775.94 1527.98 Q1776.21 1532.37 1778.58 1534.69 Q1780.96 1536.98 1785.2 1536.98 Q1787.65 1536.98 1789.94 1536.38 Q1792.26 1535.78 1794.52 1534.57 L1794.52 1538.6 Q1792.23 1539.57 1789.82 1540.08 Q1787.42 1540.59 1784.94 1540.59 Q1778.74 1540.59 1775.1 1536.98 Q1771.49 1533.37 1771.49 1527.21 Q1771.49 1520.85 1774.92 1517.12 Q1778.37 1513.37 1784.2 1513.37 Q1789.43 1513.37 1792.46 1516.75 Q1795.52 1520.11 1795.52 1525.89 M1791.26 1524.64 Q1791.21 1521.15 1789.29 1519.06 Q1787.39 1516.98 1784.25 1516.98 Q1780.68 1516.98 1778.53 1518.99 Q1776.4 1521.01 1776.08 1524.67 L1791.26 1524.64 Z\" fill=\"#000000\" fill-rule=\"evenodd\" fill-opacity=\"1\" /><path clip-path=\"url(#clip360)\" d=\"M 0 0 M1837.23 1525.89 L1837.23 1527.98 L1817.65 1527.98 Q1817.93 1532.37 1820.29 1534.69 Q1822.67 1536.98 1826.91 1536.98 Q1829.36 1536.98 1831.65 1536.38 Q1833.97 1535.78 1836.24 1534.57 L1836.24 1538.6 Q1833.95 1539.57 1831.54 1540.08 Q1829.13 1540.59 1826.65 1540.59 Q1820.45 1540.59 1816.82 1536.98 Q1813.2 1533.37 1813.2 1527.21 Q1813.2 1520.85 1816.63 1517.12 Q1820.08 1513.37 1825.91 1513.37 Q1831.14 1513.37 1834.18 1516.75 Q1837.23 1520.11 1837.23 1525.89 M1832.97 1524.64 Q1832.93 1521.15 1831.01 1519.06 Q1829.11 1516.98 1825.96 1516.98 Q1822.39 1516.98 1820.24 1518.99 Q1818.11 1521.01 1817.79 1524.67 L1832.97 1524.64 Z\" fill=\"#000000\" fill-rule=\"evenodd\" fill-opacity=\"1\" /><path clip-path=\"url(#clip360)\" d=\"M 0 0 M1858.23 1514.76 L1858.23 1518.79 Q1856.42 1517.86 1854.48 1517.4 Q1852.53 1516.93 1850.45 1516.93 Q1847.28 1516.93 1845.68 1517.91 Q1844.11 1518.88 1844.11 1520.82 Q1844.11 1522.3 1845.24 1523.16 Q1846.38 1523.99 1849.8 1524.76 L1851.26 1525.08 Q1855.8 1526.05 1857.69 1527.84 Q1859.62 1529.6 1859.62 1532.77 Q1859.62 1536.38 1856.75 1538.48 Q1853.9 1540.59 1848.9 1540.59 Q1846.82 1540.59 1844.55 1540.17 Q1842.3 1539.78 1839.8 1538.97 L1839.8 1534.57 Q1842.16 1535.8 1844.45 1536.42 Q1846.75 1537.03 1848.99 1537.03 Q1852 1537.03 1853.62 1536.01 Q1855.24 1534.97 1855.24 1533.09 Q1855.24 1531.36 1854.06 1530.43 Q1852.9 1529.5 1848.95 1528.65 L1847.46 1528.3 Q1843.51 1527.47 1841.75 1525.75 Q1839.99 1524.02 1839.99 1521.01 Q1839.99 1517.35 1842.58 1515.36 Q1845.17 1513.37 1849.94 1513.37 Q1852.3 1513.37 1854.38 1513.72 Q1856.47 1514.06 1858.23 1514.76 Z\" fill=\"#000000\" fill-rule=\"evenodd\" fill-opacity=\"1\" /><path clip-path=\"url(#clip360)\" d=\"M 0 0 M1868.2 1536.03 L1868.2 1549.78 L1863.92 1549.78 L1863.92 1513.99 L1868.2 1513.99 L1868.2 1517.93 Q1869.55 1515.61 1871.58 1514.5 Q1873.64 1513.37 1876.49 1513.37 Q1881.21 1513.37 1884.15 1517.12 Q1887.12 1520.87 1887.12 1526.98 Q1887.12 1533.09 1884.15 1536.84 Q1881.21 1540.59 1876.49 1540.59 Q1873.64 1540.59 1871.58 1539.48 Q1869.55 1538.35 1868.2 1536.03 M1882.69 1526.98 Q1882.69 1522.28 1880.75 1519.62 Q1878.83 1516.93 1875.45 1516.93 Q1872.07 1516.93 1870.13 1519.62 Q1868.2 1522.28 1868.2 1526.98 Q1868.2 1531.68 1870.13 1534.36 Q1872.07 1537.03 1875.45 1537.03 Q1878.83 1537.03 1880.75 1534.36 Q1882.69 1531.68 1882.69 1526.98 Z\" fill=\"#000000\" fill-rule=\"evenodd\" fill-opacity=\"1\" /><path clip-path=\"url(#clip360)\" d=\"M 0 0 M1891.58 1503.9 L1895.84 1503.9 L1895.84 1539.92 L1891.58 1539.92 L1891.58 1503.9 Z\" fill=\"#000000\" fill-rule=\"evenodd\" fill-opacity=\"1\" /><path clip-path=\"url(#clip360)\" d=\"M 0 0 M1900.31 1513.99 L1904.57 1513.99 L1904.57 1539.92 L1900.31 1539.92 L1900.31 1513.99 M1900.31 1503.9 L1904.57 1503.9 L1904.57 1509.3 L1900.31 1509.3 L1900.31 1503.9 Z\" fill=\"#000000\" fill-rule=\"evenodd\" fill-opacity=\"1\" /><path clip-path=\"url(#clip360)\" d=\"M 0 0 M1927.69 1514.99 L1927.69 1518.97 Q1925.89 1517.98 1924.06 1517.49 Q1922.25 1516.98 1920.4 1516.98 Q1916.26 1516.98 1913.97 1519.62 Q1911.68 1522.23 1911.68 1526.98 Q1911.68 1531.73 1913.97 1534.36 Q1916.26 1536.98 1920.4 1536.98 Q1922.25 1536.98 1924.06 1536.49 Q1925.89 1535.98 1927.69 1534.99 L1927.69 1538.92 Q1925.91 1539.76 1923.99 1540.17 Q1922.09 1540.59 1919.94 1540.59 Q1914.08 1540.59 1910.63 1536.91 Q1907.19 1533.23 1907.19 1526.98 Q1907.19 1520.64 1910.66 1517 Q1914.15 1513.37 1920.22 1513.37 Q1922.19 1513.37 1924.06 1513.79 Q1925.94 1514.18 1927.69 1514.99 Z\" fill=\"#000000\" fill-rule=\"evenodd\" fill-opacity=\"1\" /><path clip-path=\"url(#clip360)\" d=\"M 0 0 M1932.16 1513.99 L1936.42 1513.99 L1936.42 1539.92 L1932.16 1539.92 L1932.16 1513.99 M1932.16 1503.9 L1936.42 1503.9 L1936.42 1509.3 L1932.16 1509.3 L1932.16 1503.9 Z\" fill=\"#000000\" fill-rule=\"evenodd\" fill-opacity=\"1\" /><path clip-path=\"url(#clip360)\" d=\"M 0 0 M1945.1 1506.63 L1945.1 1513.99 L1953.88 1513.99 L1953.88 1517.3 L1945.1 1517.3 L1945.1 1531.38 Q1945.1 1534.55 1945.96 1535.45 Q1946.84 1536.36 1949.5 1536.36 L1953.88 1536.36 L1953.88 1539.92 L1949.5 1539.92 Q1944.57 1539.92 1942.69 1538.09 Q1940.82 1536.24 1940.82 1531.38 L1940.82 1517.3 L1937.69 1517.3 L1937.69 1513.99 L1940.82 1513.99 L1940.82 1506.63 L1945.1 1506.63 Z\" fill=\"#000000\" fill-rule=\"evenodd\" fill-opacity=\"1\" /><path clip-path=\"url(#clip360)\" d=\"M 0 0 M1970.12 1526.89 Q1964.96 1526.89 1962.97 1528.07 Q1960.98 1529.25 1960.98 1532.1 Q1960.98 1534.36 1962.46 1535.71 Q1963.97 1537.03 1966.54 1537.03 Q1970.08 1537.03 1972.21 1534.53 Q1974.36 1532 1974.36 1527.84 L1974.36 1526.89 L1970.12 1526.89 M1978.62 1525.13 L1978.62 1539.92 L1974.36 1539.92 L1974.36 1535.98 Q1972.9 1538.35 1970.73 1539.48 Q1968.55 1540.59 1965.4 1540.59 Q1961.42 1540.59 1959.06 1538.37 Q1956.72 1536.12 1956.72 1532.37 Q1956.72 1528 1959.64 1525.78 Q1962.58 1523.55 1968.39 1523.55 L1974.36 1523.55 L1974.36 1523.14 Q1974.36 1520.2 1972.42 1518.6 Q1970.5 1516.98 1967 1516.98 Q1964.78 1516.98 1962.67 1517.51 Q1960.56 1518.04 1958.62 1519.11 L1958.62 1515.17 Q1960.96 1514.27 1963.16 1513.83 Q1965.36 1513.37 1967.44 1513.37 Q1973.06 1513.37 1975.84 1516.29 Q1978.62 1519.2 1978.62 1525.13 Z\" fill=\"#000000\" fill-rule=\"evenodd\" fill-opacity=\"1\" /><path clip-path=\"url(#clip360)\" d=\"M 0 0 M1987.3 1506.63 L1987.3 1513.99 L1996.07 1513.99 L1996.07 1517.3 L1987.3 1517.3 L1987.3 1531.38 Q1987.3 1534.55 1988.16 1535.45 Q1989.04 1536.36 1991.7 1536.36 L1996.07 1536.36 L1996.07 1539.92 L1991.7 1539.92 Q1986.77 1539.92 1984.89 1538.09 Q1983.02 1536.24 1983.02 1531.38 L1983.02 1517.3 L1979.89 1517.3 L1979.89 1513.99 L1983.02 1513.99 L1983.02 1506.63 L1987.3 1506.63 Z\" fill=\"#000000\" fill-rule=\"evenodd\" fill-opacity=\"1\" /><path clip-path=\"url(#clip360)\" d=\"M 0 0 M2012.32 1526.89 Q2007.16 1526.89 2005.17 1528.07 Q2003.18 1529.25 2003.18 1532.1 Q2003.18 1534.36 2004.66 1535.71 Q2006.17 1537.03 2008.74 1537.03 Q2012.28 1537.03 2014.41 1534.53 Q2016.56 1532 2016.56 1527.84 L2016.56 1526.89 L2012.32 1526.89 M2020.82 1525.13 L2020.82 1539.92 L2016.56 1539.92 L2016.56 1535.98 Q2015.1 1538.35 2012.93 1539.48 Q2010.75 1540.59 2007.6 1540.59 Q2003.62 1540.59 2001.26 1538.37 Q1998.92 1536.12 1998.92 1532.37 Q1998.92 1528 2001.84 1525.78 Q2004.78 1523.55 2010.59 1523.55 L2016.56 1523.55 L2016.56 1523.14 Q2016.56 1520.2 2014.62 1518.6 Q2012.69 1516.98 2009.2 1516.98 Q2006.98 1516.98 2004.87 1517.51 Q2002.76 1518.04 2000.82 1519.11 L2000.82 1515.17 Q2003.16 1514.27 2005.36 1513.83 Q2007.56 1513.37 2009.64 1513.37 Q2015.26 1513.37 2018.04 1516.29 Q2020.82 1519.2 2020.82 1525.13 Z\" fill=\"#000000\" fill-rule=\"evenodd\" fill-opacity=\"1\" /><path clip-path=\"url(#clip360)\" d=\"M 0 0 M2056.88 1514.76 L2056.88 1518.79 Q2055.08 1517.86 2053.13 1517.4 Q2051.19 1516.93 2049.11 1516.93 Q2045.93 1516.93 2044.34 1517.91 Q2042.76 1518.88 2042.76 1520.82 Q2042.76 1522.3 2043.9 1523.16 Q2045.03 1523.99 2048.46 1524.76 L2049.92 1525.08 Q2054.45 1526.05 2056.35 1527.84 Q2058.27 1529.6 2058.27 1532.77 Q2058.27 1536.38 2055.4 1538.48 Q2052.56 1540.59 2047.56 1540.59 Q2045.47 1540.59 2043.2 1540.17 Q2040.96 1539.78 2038.46 1538.97 L2038.46 1534.57 Q2040.82 1535.8 2043.11 1536.42 Q2045.4 1537.03 2047.65 1537.03 Q2050.66 1537.03 2052.28 1536.01 Q2053.9 1534.97 2053.9 1533.09 Q2053.9 1531.36 2052.72 1530.43 Q2051.56 1529.5 2047.6 1528.65 L2046.12 1528.3 Q2042.16 1527.47 2040.4 1525.75 Q2038.64 1524.02 2038.64 1521.01 Q2038.64 1517.35 2041.24 1515.36 Q2043.83 1513.37 2048.6 1513.37 Q2050.96 1513.37 2053.04 1513.72 Q2055.12 1514.06 2056.88 1514.76 Z\" fill=\"#000000\" fill-rule=\"evenodd\" fill-opacity=\"1\" /><path clip-path=\"url(#clip360)\" d=\"M 0 0 M2062.74 1513.99 L2067 1513.99 L2067 1539.92 L2062.74 1539.92 L2062.74 1513.99 M2062.74 1503.9 L2067 1503.9 L2067 1509.3 L2062.74 1509.3 L2062.74 1503.9 Z\" fill=\"#000000\" fill-rule=\"evenodd\" fill-opacity=\"1\" /><path clip-path=\"url(#clip360)\" d=\"M 0 0 M2091.65 1518.97 Q2093.25 1516.1 2095.47 1514.73 Q2097.69 1513.37 2100.7 1513.37 Q2104.75 1513.37 2106.95 1516.22 Q2109.15 1519.04 2109.15 1524.27 L2109.15 1539.92 L2104.87 1539.92 L2104.87 1524.41 Q2104.87 1520.68 2103.55 1518.88 Q2102.23 1517.07 2099.52 1517.07 Q2096.21 1517.07 2094.29 1519.27 Q2092.37 1521.47 2092.37 1525.27 L2092.37 1539.92 L2088.09 1539.92 L2088.09 1524.41 Q2088.09 1520.66 2086.77 1518.88 Q2085.45 1517.07 2082.69 1517.07 Q2079.43 1517.07 2077.51 1519.29 Q2075.59 1521.49 2075.59 1525.27 L2075.59 1539.92 L2071.3 1539.92 L2071.3 1513.99 L2075.59 1513.99 L2075.59 1518.02 Q2077.05 1515.64 2079.08 1514.5 Q2081.12 1513.37 2083.92 1513.37 Q2086.74 1513.37 2088.71 1514.8 Q2090.7 1516.24 2091.65 1518.97 Z\" fill=\"#000000\" fill-rule=\"evenodd\" fill-opacity=\"1\" /><path clip-path=\"url(#clip360)\" d=\"M 0 0 M2133.8 1518.97 Q2135.4 1516.1 2137.62 1514.73 Q2139.85 1513.37 2142.86 1513.37 Q2146.91 1513.37 2149.11 1516.22 Q2151.3 1519.04 2151.3 1524.27 L2151.3 1539.92 L2147.02 1539.92 L2147.02 1524.41 Q2147.02 1520.68 2145.7 1518.88 Q2144.38 1517.07 2141.67 1517.07 Q2138.36 1517.07 2136.44 1519.27 Q2134.52 1521.47 2134.52 1525.27 L2134.52 1539.92 L2130.24 1539.92 L2130.24 1524.41 Q2130.24 1520.66 2128.92 1518.88 Q2127.6 1517.07 2124.85 1517.07 Q2121.58 1517.07 2119.66 1519.29 Q2117.74 1521.49 2117.74 1525.27 L2117.74 1539.92 L2113.46 1539.92 L2113.46 1513.99 L2117.74 1513.99 L2117.74 1518.02 Q2119.2 1515.64 2121.24 1514.5 Q2123.27 1513.37 2126.07 1513.37 Q2128.9 1513.37 2130.86 1514.8 Q2132.86 1516.24 2133.8 1518.97 Z\" fill=\"#000000\" fill-rule=\"evenodd\" fill-opacity=\"1\" /><path clip-path=\"url(#clip360)\" d=\"M 0 0 M2177.95 1525.89 L2177.95 1527.98 L2158.36 1527.98 Q2158.64 1532.37 2161 1534.69 Q2163.39 1536.98 2167.62 1536.98 Q2170.08 1536.98 2172.37 1536.38 Q2174.68 1535.78 2176.95 1534.57 L2176.95 1538.6 Q2174.66 1539.57 2172.25 1540.08 Q2169.85 1540.59 2167.37 1540.59 Q2161.17 1540.59 2157.53 1536.98 Q2153.92 1533.37 2153.92 1527.21 Q2153.92 1520.85 2157.35 1517.12 Q2160.8 1513.37 2166.63 1513.37 Q2171.86 1513.37 2174.89 1516.75 Q2177.95 1520.11 2177.95 1525.89 M2173.69 1524.64 Q2173.64 1521.15 2171.72 1519.06 Q2169.82 1516.98 2166.67 1516.98 Q2163.11 1516.98 2160.96 1518.99 Q2158.83 1521.01 2158.5 1524.67 L2173.69 1524.64 Z\" fill=\"#000000\" fill-rule=\"evenodd\" fill-opacity=\"1\" /><path clip-path=\"url(#clip360)\" d=\"M 0 0 M2186.63 1506.63 L2186.63 1513.99 L2195.4 1513.99 L2195.4 1517.3 L2186.63 1517.3 L2186.63 1531.38 Q2186.63 1534.55 2187.48 1535.45 Q2188.36 1536.36 2191.03 1536.36 L2195.4 1536.36 L2195.4 1539.92 L2191.03 1539.92 Q2186.1 1539.92 2184.22 1538.09 Q2182.35 1536.24 2182.35 1531.38 L2182.35 1517.3 L2179.22 1517.3 L2179.22 1513.99 L2182.35 1513.99 L2182.35 1506.63 L2186.63 1506.63 Z\" fill=\"#000000\" fill-rule=\"evenodd\" fill-opacity=\"1\" /><path clip-path=\"url(#clip360)\" d=\"M 0 0 M2214.89 1517.98 Q2214.17 1517.56 2213.32 1517.37 Q2212.48 1517.17 2211.47 1517.17 Q2207.86 1517.17 2205.91 1519.53 Q2203.99 1521.86 2203.99 1526.26 L2203.99 1539.92 L2199.71 1539.92 L2199.71 1513.99 L2203.99 1513.99 L2203.99 1518.02 Q2205.33 1515.66 2207.48 1514.53 Q2209.64 1513.37 2212.72 1513.37 Q2213.16 1513.37 2213.69 1513.44 Q2214.22 1513.48 2214.87 1513.6 L2214.89 1517.98 Z\" fill=\"#000000\" fill-rule=\"evenodd\" fill-opacity=\"1\" /><path clip-path=\"url(#clip360)\" d=\"M 0 0 M2219.36 1513.99 L2223.62 1513.99 L2223.62 1539.92 L2219.36 1539.92 L2219.36 1513.99 M2219.36 1503.9 L2223.62 1503.9 L2223.62 1509.3 L2219.36 1509.3 L2219.36 1503.9 Z\" fill=\"#000000\" fill-rule=\"evenodd\" fill-opacity=\"1\" /><path clip-path=\"url(#clip360)\" d=\"M 0 0 M2246.74 1514.99 L2246.74 1518.97 Q2244.94 1517.98 2243.11 1517.49 Q2241.3 1516.98 2239.45 1516.98 Q2235.31 1516.98 2233.02 1519.62 Q2230.73 1522.23 2230.73 1526.98 Q2230.73 1531.73 2233.02 1534.36 Q2235.31 1536.98 2239.45 1536.98 Q2241.3 1536.98 2243.11 1536.49 Q2244.94 1535.98 2246.74 1534.99 L2246.74 1538.92 Q2244.96 1539.76 2243.04 1540.17 Q2241.14 1540.59 2238.99 1540.59 Q2233.13 1540.59 2229.68 1536.91 Q2226.23 1533.23 2226.23 1526.98 Q2226.23 1520.64 2229.71 1517 Q2233.2 1513.37 2239.27 1513.37 Q2241.23 1513.37 2243.11 1513.79 Q2244.98 1514.18 2246.74 1514.99 Z\" fill=\"#000000\" fill-rule=\"evenodd\" fill-opacity=\"1\" /><path clip-path=\"url(#clip360)\" d=\"M 0 0 M2262.99 1526.89 Q2257.83 1526.89 2255.84 1528.07 Q2253.85 1529.25 2253.85 1532.1 Q2253.85 1534.36 2255.33 1535.71 Q2256.84 1537.03 2259.41 1537.03 Q2262.95 1537.03 2265.08 1534.53 Q2267.23 1532 2267.23 1527.84 L2267.23 1526.89 L2262.99 1526.89 M2271.49 1525.13 L2271.49 1539.92 L2267.23 1539.92 L2267.23 1535.98 Q2265.77 1538.35 2263.6 1539.48 Q2261.42 1540.59 2258.27 1540.59 Q2254.29 1540.59 2251.93 1538.37 Q2249.59 1536.12 2249.59 1532.37 Q2249.59 1528 2252.51 1525.78 Q2255.45 1523.55 2261.26 1523.55 L2267.23 1523.55 L2267.23 1523.14 Q2267.23 1520.2 2265.29 1518.6 Q2263.36 1516.98 2259.87 1516.98 Q2257.65 1516.98 2255.54 1517.51 Q2253.43 1518.04 2251.49 1519.11 L2251.49 1515.17 Q2253.83 1514.27 2256.03 1513.83 Q2258.23 1513.37 2260.31 1513.37 Q2265.93 1513.37 2268.71 1516.29 Q2271.49 1519.2 2271.49 1525.13 Z\" fill=\"#000000\" fill-rule=\"evenodd\" fill-opacity=\"1\" /><path clip-path=\"url(#clip360)\" d=\"M 0 0 M130.26 1433.67 Q126.649 1433.67 124.82 1437.24 Q123.015 1440.78 123.015 1447.91 Q123.015 1455.01 124.82 1458.58 Q126.649 1462.12 130.26 1462.12 Q133.895 1462.12 135.7 1458.58 Q137.529 1455.01 137.529 1447.91 Q137.529 1440.78 135.7 1437.24 Q133.895 1433.67 130.26 1433.67 M130.26 1429.97 Q136.07 1429.97 139.126 1434.57 Q142.205 1439.16 142.205 1447.91 Q142.205 1456.63 139.126 1461.24 Q136.07 1465.82 130.26 1465.82 Q124.45 1465.82 121.371 1461.24 Q118.316 1456.63 118.316 1447.91 Q118.316 1439.16 121.371 1434.57 Q124.45 1429.97 130.26 1429.97 Z\" fill=\"#000000\" fill-rule=\"evenodd\" fill-opacity=\"1\" /><path clip-path=\"url(#clip360)\" d=\"M 0 0 M68.2699 1242.85 L75.9087 1242.85 L75.9087 1216.48 L67.5986 1218.15 L67.5986 1213.89 L75.8624 1212.22 L80.5383 1212.22 L80.5383 1242.85 L88.1772 1242.85 L88.1772 1246.78 L68.2699 1246.78 L68.2699 1242.85 Z\" fill=\"#000000\" fill-rule=\"evenodd\" fill-opacity=\"1\" /><path clip-path=\"url(#clip360)\" d=\"M 0 0 M103.247 1215.3 Q99.6354 1215.3 97.8068 1218.87 Q96.0012 1222.41 96.0012 1229.54 Q96.0012 1236.64 97.8068 1240.21 Q99.6354 1243.75 103.247 1243.75 Q106.881 1243.75 108.686 1240.21 Q110.515 1236.64 110.515 1229.54 Q110.515 1222.41 108.686 1218.87 Q106.881 1215.3 103.247 1215.3 M103.247 1211.6 Q109.057 1211.6 112.112 1216.2 Q115.191 1220.79 115.191 1229.54 Q115.191 1238.26 112.112 1242.87 Q109.057 1247.45 103.247 1247.45 Q97.4364 1247.45 94.3577 1242.87 Q91.3022 1238.26 91.3022 1229.54 Q91.3022 1220.79 94.3577 1216.2 Q97.4364 1211.6 103.247 1211.6 Z\" fill=\"#000000\" fill-rule=\"evenodd\" fill-opacity=\"1\" /><path clip-path=\"url(#clip360)\" d=\"M 0 0 M130.26 1215.3 Q126.649 1215.3 124.82 1218.87 Q123.015 1222.41 123.015 1229.54 Q123.015 1236.64 124.82 1240.21 Q126.649 1243.75 130.26 1243.75 Q133.895 1243.75 135.7 1240.21 Q137.529 1236.64 137.529 1229.54 Q137.529 1222.41 135.7 1218.87 Q133.895 1215.3 130.26 1215.3 M130.26 1211.6 Q136.07 1211.6 139.126 1216.2 Q142.205 1220.79 142.205 1229.54 Q142.205 1238.26 139.126 1242.87 Q136.07 1247.45 130.26 1247.45 Q124.45 1247.45 121.371 1242.87 Q118.316 1238.26 118.316 1229.54 Q118.316 1220.79 121.371 1216.2 Q124.45 1211.6 130.26 1211.6 Z\" fill=\"#000000\" fill-rule=\"evenodd\" fill-opacity=\"1\" /><path clip-path=\"url(#clip360)\" d=\"M 0 0 M71.8578 1024.48 L88.1772 1024.48 L88.1772 1028.41 L66.2328 1028.41 L66.2328 1024.48 Q68.8949 1021.72 73.4782 1017.09 Q78.0846 1012.44 79.2652 1011.1 Q81.5105 1008.57 82.3902 1006.84 Q83.2929 1005.08 83.2929 1003.39 Q83.2929 1000.63 81.3485 998.897 Q79.4272 997.161 76.3254 997.161 Q74.1263 997.161 71.6726 997.925 Q69.2421 998.689 66.4643 1000.24 L66.4643 995.518 Q69.2884 994.383 71.7421 993.805 Q74.1958 993.226 76.2328 993.226 Q81.6031 993.226 84.7976 995.911 Q87.992 998.596 87.992 1003.09 Q87.992 1005.22 87.1818 1007.14 Q86.3948 1009.04 84.2883 1011.63 Q83.7096 1012.3 80.6078 1015.52 Q77.5059 1018.71 71.8578 1024.48 Z\" fill=\"#000000\" fill-rule=\"evenodd\" fill-opacity=\"1\" /><path clip-path=\"url(#clip360)\" d=\"M 0 0 M103.247 996.93 Q99.6354 996.93 97.8068 1000.49 Q96.0012 1004.04 96.0012 1011.17 Q96.0012 1018.27 97.8068 1021.84 Q99.6354 1025.38 103.247 1025.38 Q106.881 1025.38 108.686 1021.84 Q110.515 1018.27 110.515 1011.17 Q110.515 1004.04 108.686 1000.49 Q106.881 996.93 103.247 996.93 M103.247 993.226 Q109.057 993.226 112.112 997.833 Q115.191 1002.42 115.191 1011.17 Q115.191 1019.89 112.112 1024.5 Q109.057 1029.08 103.247 1029.08 Q97.4364 1029.08 94.3577 1024.5 Q91.3022 1019.89 91.3022 1011.17 Q91.3022 1002.42 94.3577 997.833 Q97.4364 993.226 103.247 993.226 Z\" fill=\"#000000\" fill-rule=\"evenodd\" fill-opacity=\"1\" /><path clip-path=\"url(#clip360)\" d=\"M 0 0 M130.26 996.93 Q126.649 996.93 124.82 1000.49 Q123.015 1004.04 123.015 1011.17 Q123.015 1018.27 124.82 1021.84 Q126.649 1025.38 130.26 1025.38 Q133.895 1025.38 135.7 1021.84 Q137.529 1018.27 137.529 1011.17 Q137.529 1004.04 135.7 1000.49 Q133.895 996.93 130.26 996.93 M130.26 993.226 Q136.07 993.226 139.126 997.833 Q142.205 1002.42 142.205 1011.17 Q142.205 1019.89 139.126 1024.5 Q136.07 1029.08 130.26 1029.08 Q124.45 1029.08 121.371 1024.5 Q118.316 1019.89 118.316 1011.17 Q118.316 1002.42 121.371 997.833 Q124.45 993.226 130.26 993.226 Z\" fill=\"#000000\" fill-rule=\"evenodd\" fill-opacity=\"1\" /><path clip-path=\"url(#clip360)\" d=\"M 0 0 M81.0476 791.406 Q84.404 792.123 86.279 794.392 Q88.1772 796.66 88.1772 799.994 Q88.1772 805.11 84.6587 807.91 Q81.1402 810.711 74.6587 810.711 Q72.4828 810.711 70.168 810.272 Q67.8764 809.855 65.4227 808.998 L65.4227 804.485 Q67.3671 805.619 69.6819 806.197 Q71.9967 806.776 74.5198 806.776 Q78.918 806.776 81.2096 805.04 Q83.5244 803.304 83.5244 799.994 Q83.5244 796.938 81.3717 795.225 Q79.242 793.489 75.4226 793.489 L71.3949 793.489 L71.3949 789.647 L75.6078 789.647 Q79.0569 789.647 80.8855 788.281 Q82.7142 786.892 82.7142 784.299 Q82.7142 781.637 80.8161 780.225 Q78.9411 778.79 75.4226 778.79 Q73.5013 778.79 71.3023 779.207 Q69.1032 779.624 66.4643 780.503 L66.4643 776.337 Q69.1264 775.596 71.4412 775.225 Q73.7791 774.855 75.8393 774.855 Q81.1633 774.855 84.2652 777.286 Q87.367 779.693 87.367 783.813 Q87.367 786.684 85.7235 788.674 Q84.08 790.642 81.0476 791.406 Z\" fill=\"#000000\" fill-rule=\"evenodd\" fill-opacity=\"1\" /><path clip-path=\"url(#clip360)\" d=\"M 0 0 M103.247 778.559 Q99.6354 778.559 97.8068 782.124 Q96.0012 785.665 96.0012 792.795 Q96.0012 799.901 97.8068 803.466 Q99.6354 807.008 103.247 807.008 Q106.881 807.008 108.686 803.466 Q110.515 799.901 110.515 792.795 Q110.515 785.665 108.686 782.124 Q106.881 778.559 103.247 778.559 M103.247 774.855 Q109.057 774.855 112.112 779.462 Q115.191 784.045 115.191 792.795 Q115.191 801.522 112.112 806.128 Q109.057 810.711 103.247 810.711 Q97.4364 810.711 94.3577 806.128 Q91.3022 801.522 91.3022 792.795 Q91.3022 784.045 94.3577 779.462 Q97.4364 774.855 103.247 774.855 Z\" fill=\"#000000\" fill-rule=\"evenodd\" fill-opacity=\"1\" /><path clip-path=\"url(#clip360)\" d=\"M 0 0 M130.26 778.559 Q126.649 778.559 124.82 782.124 Q123.015 785.665 123.015 792.795 Q123.015 799.901 124.82 803.466 Q126.649 807.008 130.26 807.008 Q133.895 807.008 135.7 803.466 Q137.529 799.901 137.529 792.795 Q137.529 785.665 135.7 782.124 Q133.895 778.559 130.26 778.559 M130.26 774.855 Q136.07 774.855 139.126 779.462 Q142.205 784.045 142.205 792.795 Q142.205 801.522 139.126 806.128 Q136.07 810.711 130.26 810.711 Q124.45 810.711 121.371 806.128 Q118.316 801.522 118.316 792.795 Q118.316 784.045 121.371 779.462 Q124.45 774.855 130.26 774.855 Z\" fill=\"#000000\" fill-rule=\"evenodd\" fill-opacity=\"1\" /><path clip-path=\"url(#clip360)\" d=\"M 0 0 M78.5939 561.183 L66.7884 579.632 L78.5939 579.632 L78.5939 561.183 M77.367 557.109 L83.2466 557.109 L83.2466 579.632 L88.1772 579.632 L88.1772 583.521 L83.2466 583.521 L83.2466 591.669 L78.5939 591.669 L78.5939 583.521 L62.9921 583.521 L62.9921 579.007 L77.367 557.109 Z\" fill=\"#000000\" fill-rule=\"evenodd\" fill-opacity=\"1\" /><path clip-path=\"url(#clip360)\" d=\"M 0 0 M103.247 560.188 Q99.6354 560.188 97.8068 563.753 Q96.0012 567.294 96.0012 574.424 Q96.0012 581.53 97.8068 585.095 Q99.6354 588.637 103.247 588.637 Q106.881 588.637 108.686 585.095 Q110.515 581.53 110.515 574.424 Q110.515 567.294 108.686 563.753 Q106.881 560.188 103.247 560.188 M103.247 556.484 Q109.057 556.484 112.112 561.09 Q115.191 565.674 115.191 574.424 Q115.191 583.151 112.112 587.757 Q109.057 592.34 103.247 592.34 Q97.4364 592.34 94.3577 587.757 Q91.3022 583.151 91.3022 574.424 Q91.3022 565.674 94.3577 561.09 Q97.4364 556.484 103.247 556.484 Z\" fill=\"#000000\" fill-rule=\"evenodd\" fill-opacity=\"1\" /><path clip-path=\"url(#clip360)\" d=\"M 0 0 M130.26 560.188 Q126.649 560.188 124.82 563.753 Q123.015 567.294 123.015 574.424 Q123.015 581.53 124.82 585.095 Q126.649 588.637 130.26 588.637 Q133.895 588.637 135.7 585.095 Q137.529 581.53 137.529 574.424 Q137.529 567.294 135.7 563.753 Q133.895 560.188 130.26 560.188 M130.26 556.484 Q136.07 556.484 139.126 561.09 Q142.205 565.674 142.205 574.424 Q142.205 583.151 139.126 587.757 Q136.07 592.34 130.26 592.34 Q124.45 592.34 121.371 587.757 Q118.316 583.151 118.316 574.424 Q118.316 565.674 121.371 561.09 Q124.45 556.484 130.26 556.484 Z\" fill=\"#000000\" fill-rule=\"evenodd\" fill-opacity=\"1\" /><path clip-path=\"url(#clip360)\" d=\"M 0 0 M67.2745 338.738 L85.6309 338.738 L85.6309 342.673 L71.5569 342.673 L71.5569 351.145 Q72.5754 350.798 73.5939 350.636 Q74.6124 350.451 75.6309 350.451 Q81.418 350.451 84.7976 353.622 Q88.1772 356.793 88.1772 362.21 Q88.1772 367.789 84.705 370.891 Q81.2328 373.969 74.9134 373.969 Q72.7374 373.969 70.4689 373.599 Q68.2236 373.229 65.8162 372.488 L65.8162 367.789 Q67.8995 368.923 70.1217 369.479 Q72.3439 370.034 74.8208 370.034 Q78.8254 370.034 81.1633 367.928 Q83.5013 365.821 83.5013 362.21 Q83.5013 358.599 81.1633 356.493 Q78.8254 354.386 74.8208 354.386 Q72.9458 354.386 71.0708 354.803 Q69.2189 355.219 67.2745 356.099 L67.2745 338.738 Z\" fill=\"#000000\" fill-rule=\"evenodd\" fill-opacity=\"1\" /><path clip-path=\"url(#clip360)\" d=\"M 0 0 M103.247 341.817 Q99.6354 341.817 97.8068 345.382 Q96.0012 348.923 96.0012 356.053 Q96.0012 363.159 97.8068 366.724 Q99.6354 370.266 103.247 370.266 Q106.881 370.266 108.686 366.724 Q110.515 363.159 110.515 356.053 Q110.515 348.923 108.686 345.382 Q106.881 341.817 103.247 341.817 M103.247 338.113 Q109.057 338.113 112.112 342.719 Q115.191 347.303 115.191 356.053 Q115.191 364.78 112.112 369.386 Q109.057 373.969 103.247 373.969 Q97.4364 373.969 94.3577 369.386 Q91.3022 364.78 91.3022 356.053 Q91.3022 347.303 94.3577 342.719 Q97.4364 338.113 103.247 338.113 Z\" fill=\"#000000\" fill-rule=\"evenodd\" fill-opacity=\"1\" /><path clip-path=\"url(#clip360)\" d=\"M 0 0 M130.26 341.817 Q126.649 341.817 124.82 345.382 Q123.015 348.923 123.015 356.053 Q123.015 363.159 124.82 366.724 Q126.649 370.266 130.26 370.266 Q133.895 370.266 135.7 366.724 Q137.529 363.159 137.529 356.053 Q137.529 348.923 135.7 345.382 Q133.895 341.817 130.26 341.817 M130.26 338.113 Q136.07 338.113 139.126 342.719 Q142.205 347.303 142.205 356.053 Q142.205 364.78 139.126 369.386 Q136.07 373.969 130.26 373.969 Q124.45 373.969 121.371 369.386 Q118.316 364.78 118.316 356.053 Q118.316 347.303 121.371 342.719 Q124.45 338.113 130.26 338.113 Z\" fill=\"#000000\" fill-rule=\"evenodd\" fill-opacity=\"1\" /><path clip-path=\"url(#clip360)\" d=\"M 0 0 M76.6495 135.784 Q73.5013 135.784 71.6495 137.936 Q69.8208 140.089 69.8208 143.839 Q69.8208 147.566 71.6495 149.742 Q73.5013 151.895 76.6495 151.895 Q79.7976 151.895 81.6263 149.742 Q83.4781 147.566 83.4781 143.839 Q83.4781 140.089 81.6263 137.936 Q79.7976 135.784 76.6495 135.784 M85.9318 121.131 L85.9318 125.39 Q84.1726 124.557 82.367 124.117 Q80.5846 123.677 78.8254 123.677 Q74.1958 123.677 71.7421 126.802 Q69.3115 129.927 68.9643 136.247 Q70.33 134.233 72.3902 133.168 Q74.4504 132.08 76.9272 132.08 Q82.1355 132.08 85.1448 135.251 Q88.1772 138.399 88.1772 143.839 Q88.1772 149.163 85.029 152.381 Q81.8809 155.598 76.6495 155.598 Q70.6541 155.598 67.4828 151.015 Q64.3116 146.409 64.3116 137.682 Q64.3116 129.487 68.2004 124.626 Q72.0893 119.742 78.6402 119.742 Q80.3994 119.742 82.1818 120.089 Q83.9874 120.436 85.9318 121.131 Z\" fill=\"#000000\" fill-rule=\"evenodd\" fill-opacity=\"1\" /><path clip-path=\"url(#clip360)\" d=\"M 0 0 M103.247 123.446 Q99.6354 123.446 97.8068 127.01 Q96.0012 130.552 96.0012 137.682 Q96.0012 144.788 97.8068 148.353 Q99.6354 151.895 103.247 151.895 Q106.881 151.895 108.686 148.353 Q110.515 144.788 110.515 137.682 Q110.515 130.552 108.686 127.01 Q106.881 123.446 103.247 123.446 M103.247 119.742 Q109.057 119.742 112.112 124.348 Q115.191 128.932 115.191 137.682 Q115.191 146.409 112.112 151.015 Q109.057 155.598 103.247 155.598 Q97.4364 155.598 94.3577 151.015 Q91.3022 146.409 91.3022 137.682 Q91.3022 128.932 94.3577 124.348 Q97.4364 119.742 103.247 119.742 Z\" fill=\"#000000\" fill-rule=\"evenodd\" fill-opacity=\"1\" /><path clip-path=\"url(#clip360)\" d=\"M 0 0 M130.26 123.446 Q126.649 123.446 124.82 127.01 Q123.015 130.552 123.015 137.682 Q123.015 144.788 124.82 148.353 Q126.649 151.895 130.26 151.895 Q133.895 151.895 135.7 148.353 Q137.529 144.788 137.529 137.682 Q137.529 130.552 135.7 127.01 Q133.895 123.446 130.26 123.446 M130.26 119.742 Q136.07 119.742 139.126 124.348 Q142.205 128.932 142.205 137.682 Q142.205 146.409 139.126 151.015 Q136.07 155.598 130.26 155.598 Q124.45 155.598 121.371 151.015 Q118.316 146.409 118.316 137.682 Q118.316 128.932 121.371 124.348 Q124.45 119.742 130.26 119.742 Z\" fill=\"#000000\" fill-rule=\"evenodd\" fill-opacity=\"1\" /><path clip-path=\"url(#clip360)\" d=\"M 0 0 M614.07 35.9153 Q616.865 30.8922 620.754 28.5022 Q624.643 26.1121 629.909 26.1121 Q636.998 26.1121 640.846 31.0947 Q644.695 36.0368 644.695 45.1919 L644.695 72.576 L637.201 72.576 L637.201 45.4349 Q637.201 38.913 634.892 35.7533 Q632.583 32.5936 627.843 32.5936 Q622.05 32.5936 618.688 36.4419 Q615.326 40.2903 615.326 46.9338 L615.326 72.576 L607.832 72.576 L607.832 45.4349 Q607.832 38.8725 605.523 35.7533 Q603.214 32.5936 598.393 32.5936 Q592.681 32.5936 589.319 36.4824 Q585.957 40.3308 585.957 46.9338 L585.957 72.576 L578.463 72.576 L578.463 27.2059 L585.957 27.2059 L585.957 34.2544 Q588.509 30.082 592.074 28.0971 Q595.638 26.1121 600.54 26.1121 Q605.482 26.1121 608.925 28.6237 Q612.409 31.1352 614.07 35.9153 Z\" fill=\"#000000\" fill-rule=\"evenodd\" fill-opacity=\"1\" /><path clip-path=\"url(#clip360)\" d=\"M 0 0 M691.321 48.0275 L691.321 51.6733 L657.05 51.6733 Q657.536 59.3701 661.668 63.421 Q665.841 67.4314 673.254 67.4314 Q677.548 67.4314 681.558 66.3781 Q685.609 65.3249 689.579 63.2184 L689.579 70.267 Q685.568 71.9684 681.355 72.8596 Q677.143 73.7508 672.808 73.7508 Q661.952 73.7508 655.592 67.4314 Q649.272 61.1119 649.272 50.3365 Q649.272 39.1965 655.268 32.6746 Q661.304 26.1121 671.512 26.1121 Q680.667 26.1121 685.974 32.0264 Q691.321 37.9003 691.321 48.0275 M683.867 45.84 Q683.786 39.7232 680.424 36.0774 Q677.102 32.4315 671.593 32.4315 Q665.354 32.4315 661.587 35.9558 Q657.86 39.4801 657.293 45.8805 L683.867 45.84 Z\" fill=\"#000000\" fill-rule=\"evenodd\" fill-opacity=\"1\" /><path clip-path=\"url(#clip360)\" d=\"M 0 0 M728.994 34.0924 L728.994 9.54393 L736.448 9.54393 L736.448 72.576 L728.994 72.576 L728.994 65.7705 Q726.645 69.8214 723.039 71.8063 Q719.474 73.7508 714.451 73.7508 Q706.228 73.7508 701.043 67.1883 Q695.898 60.6258 695.898 49.9314 Q695.898 39.2371 701.043 32.6746 Q706.228 26.1121 714.451 26.1121 Q719.474 26.1121 723.039 28.0971 Q726.645 30.0415 728.994 34.0924 M703.595 49.9314 Q703.595 58.1548 706.957 62.8538 Q710.36 67.5124 716.274 67.5124 Q722.189 67.5124 725.591 62.8538 Q728.994 58.1548 728.994 49.9314 Q728.994 41.7081 725.591 37.0496 Q722.189 32.3505 716.274 32.3505 Q710.36 32.3505 706.957 37.0496 Q703.595 41.7081 703.595 49.9314 Z\" fill=\"#000000\" fill-rule=\"evenodd\" fill-opacity=\"1\" /><path clip-path=\"url(#clip360)\" d=\"M 0 0 M744.266 27.2059 L751.72 27.2059 L751.72 72.576 L744.266 72.576 L744.266 27.2059 M744.266 9.54393 L751.72 9.54393 L751.72 18.9825 L744.266 18.9825 L744.266 9.54393 Z\" fill=\"#000000\" fill-rule=\"evenodd\" fill-opacity=\"1\" /><path clip-path=\"url(#clip360)\" d=\"M 0 0 M780.157 49.7694 Q771.124 49.7694 767.64 51.8354 Q764.156 53.9013 764.156 58.8839 Q764.156 62.8538 766.749 65.2034 Q769.382 67.5124 773.878 67.5124 Q780.076 67.5124 783.803 63.1374 Q787.57 58.7219 787.57 51.4303 L787.57 49.7694 L780.157 49.7694 M795.024 46.6907 L795.024 72.576 L787.57 72.576 L787.57 65.6895 Q785.018 69.8214 781.21 71.8063 Q777.402 73.7508 771.893 73.7508 Q764.926 73.7508 760.794 69.8619 Q756.702 65.9325 756.702 59.3701 Q756.702 51.7138 761.806 47.825 Q766.951 43.9361 777.119 43.9361 L787.57 43.9361 L787.57 43.2069 Q787.57 38.0623 784.167 35.2672 Q780.805 32.4315 774.688 32.4315 Q770.799 32.4315 767.113 33.3632 Q763.427 34.295 760.024 36.1584 L760.024 29.2718 Q764.115 27.692 767.964 26.9223 Q771.812 26.1121 775.458 26.1121 Q785.302 26.1121 790.163 31.2163 Q795.024 36.3204 795.024 46.6907 Z\" fill=\"#000000\" fill-rule=\"evenodd\" fill-opacity=\"1\" /><path clip-path=\"url(#clip360)\" d=\"M 0 0 M840.556 45.1919 L840.556 72.576 L833.102 72.576 L833.102 45.4349 Q833.102 38.994 830.591 35.7938 Q828.079 32.5936 823.056 32.5936 Q817.02 32.5936 813.536 36.4419 Q810.053 40.2903 810.053 46.9338 L810.053 72.576 L802.559 72.576 L802.559 27.2059 L810.053 27.2059 L810.053 34.2544 Q812.726 30.163 816.332 28.1376 Q819.977 26.1121 824.717 26.1121 Q832.535 26.1121 836.546 30.9732 Q840.556 35.7938 840.556 45.1919 Z\" fill=\"#000000\" fill-rule=\"evenodd\" fill-opacity=\"1\" /><path clip-path=\"url(#clip360)\" d=\"M 0 0 M887.182 48.0275 L887.182 51.6733 L852.911 51.6733 Q853.397 59.3701 857.529 63.421 Q861.702 67.4314 869.115 67.4314 Q873.409 67.4314 877.419 66.3781 Q881.47 65.3249 885.44 63.2184 L885.44 70.267 Q881.43 71.9684 877.217 72.8596 Q873.004 73.7508 868.669 73.7508 Q857.813 73.7508 851.453 67.4314 Q845.134 61.1119 845.134 50.3365 Q845.134 39.1965 851.129 32.6746 Q857.165 26.1121 867.373 26.1121 Q876.528 26.1121 881.835 32.0264 Q887.182 37.9003 887.182 48.0275 M879.728 45.84 Q879.647 39.7232 876.285 36.0774 Q872.963 32.4315 867.454 32.4315 Q861.216 32.4315 857.448 35.9558 Q853.721 39.4801 853.154 45.8805 L879.728 45.84 Z\" fill=\"#000000\" fill-rule=\"evenodd\" fill-opacity=\"1\" /><path clip-path=\"url(#clip360)\" d=\"M 0 0 M928.744 14.324 L928.744 27.2059 L944.097 27.2059 L944.097 32.9987 L928.744 32.9987 L928.744 57.6282 Q928.744 63.1779 930.243 64.7578 Q931.782 66.3376 936.441 66.3376 L944.097 66.3376 L944.097 72.576 L936.441 72.576 Q927.813 72.576 924.531 69.3758 Q921.25 66.1351 921.25 57.6282 L921.25 32.9987 L915.781 32.9987 L915.781 27.2059 L921.25 27.2059 L921.25 14.324 L928.744 14.324 Z\" fill=\"#000000\" fill-rule=\"evenodd\" fill-opacity=\"1\" /><path clip-path=\"url(#clip360)\" d=\"M 0 0 M990.723 48.0275 L990.723 51.6733 L956.452 51.6733 Q956.939 59.3701 961.07 63.421 Q965.243 67.4314 972.656 67.4314 Q976.95 67.4314 980.96 66.3781 Q985.011 65.3249 988.981 63.2184 L988.981 70.267 Q984.971 71.9684 980.758 72.8596 Q976.545 73.7508 972.21 73.7508 Q961.354 73.7508 954.994 67.4314 Q948.675 61.1119 948.675 50.3365 Q948.675 39.1965 954.67 32.6746 Q960.706 26.1121 970.914 26.1121 Q980.069 26.1121 985.376 32.0264 Q990.723 37.9003 990.723 48.0275 M983.269 45.84 Q983.188 39.7232 979.826 36.0774 Q976.504 32.4315 970.995 32.4315 Q964.757 32.4315 960.989 35.9558 Q957.263 39.4801 956.695 45.8805 L983.269 45.84 Z\" fill=\"#000000\" fill-rule=\"evenodd\" fill-opacity=\"1\" /><path clip-path=\"url(#clip360)\" d=\"M 0 0 M1033.87 35.9153 Q1036.66 30.8922 1040.55 28.5022 Q1044.44 26.1121 1049.7 26.1121 Q1056.79 26.1121 1060.64 31.0947 Q1064.49 36.0368 1064.49 45.1919 L1064.49 72.576 L1057 72.576 L1057 45.4349 Q1057 38.913 1054.69 35.7533 Q1052.38 32.5936 1047.64 32.5936 Q1041.85 32.5936 1038.48 36.4419 Q1035.12 40.2903 1035.12 46.9338 L1035.12 72.576 L1027.63 72.576 L1027.63 45.4349 Q1027.63 38.8725 1025.32 35.7533 Q1023.01 32.5936 1018.19 32.5936 Q1012.48 32.5936 1009.11 36.4824 Q1005.75 40.3308 1005.75 46.9338 L1005.75 72.576 L998.258 72.576 L998.258 27.2059 L1005.75 27.2059 L1005.75 34.2544 Q1008.3 30.082 1011.87 28.0971 Q1015.43 26.1121 1020.34 26.1121 Q1025.28 26.1121 1028.72 28.6237 Q1032.2 31.1352 1033.87 35.9153 Z\" fill=\"#000000\" fill-rule=\"evenodd\" fill-opacity=\"1\" /><path clip-path=\"url(#clip360)\" d=\"M 0 0 M1079.52 65.7705 L1079.52 89.8329 L1072.02 89.8329 L1072.02 27.2059 L1079.52 27.2059 L1079.52 34.0924 Q1081.87 30.0415 1085.43 28.0971 Q1089.04 26.1121 1094.02 26.1121 Q1102.28 26.1121 1107.43 32.6746 Q1112.61 39.2371 1112.61 49.9314 Q1112.61 60.6258 1107.43 67.1883 Q1102.28 73.7508 1094.02 73.7508 Q1089.04 73.7508 1085.43 71.8063 Q1081.87 69.8214 1079.52 65.7705 M1104.88 49.9314 Q1104.88 41.7081 1101.47 37.0496 Q1098.11 32.3505 1092.2 32.3505 Q1086.28 32.3505 1082.88 37.0496 Q1079.52 41.7081 1079.52 49.9314 Q1079.52 58.1548 1082.88 62.8538 Q1086.28 67.5124 1092.2 67.5124 Q1098.11 67.5124 1101.47 62.8538 Q1104.88 58.1548 1104.88 49.9314 Z\" fill=\"#000000\" fill-rule=\"evenodd\" fill-opacity=\"1\" /><path clip-path=\"url(#clip360)\" d=\"M 0 0 M1120.43 27.2059 L1127.89 27.2059 L1127.89 72.576 L1120.43 72.576 L1120.43 27.2059 M1120.43 9.54393 L1127.89 9.54393 L1127.89 18.9825 L1120.43 18.9825 L1120.43 9.54393 Z\" fill=\"#000000\" fill-rule=\"evenodd\" fill-opacity=\"1\" /><path clip-path=\"url(#clip360)\" d=\"M 0 0 M1200.88 48.0275 L1200.88 51.6733 L1166.61 51.6733 Q1167.1 59.3701 1171.23 63.421 Q1175.4 67.4314 1182.82 67.4314 Q1187.11 67.4314 1191.12 66.3781 Q1195.17 65.3249 1199.14 63.2184 L1199.14 70.267 Q1195.13 71.9684 1190.92 72.8596 Q1186.71 73.7508 1182.37 73.7508 Q1171.51 73.7508 1165.15 67.4314 Q1158.84 61.1119 1158.84 50.3365 Q1158.84 39.1965 1164.83 32.6746 Q1170.87 26.1121 1181.08 26.1121 Q1190.23 26.1121 1195.54 32.0264 Q1200.88 37.9003 1200.88 48.0275 M1193.43 45.84 Q1193.35 39.7232 1189.99 36.0774 Q1186.67 32.4315 1181.16 32.4315 Q1174.92 32.4315 1171.15 35.9558 Q1167.42 39.4801 1166.86 45.8805 L1193.43 45.84 Z\" fill=\"#000000\" fill-rule=\"evenodd\" fill-opacity=\"1\" /><path clip-path=\"url(#clip360)\" d=\"M 0 0 M1237.63 28.5427 L1237.63 35.5912 Q1234.47 33.9709 1231.06 33.1607 Q1227.66 32.3505 1224.01 32.3505 Q1218.46 32.3505 1215.67 34.0519 Q1212.92 35.7533 1212.92 39.156 Q1212.92 41.7486 1214.9 43.2475 Q1216.89 44.7058 1222.88 46.0426 L1225.43 46.6097 Q1233.37 48.3111 1236.69 51.4303 Q1240.06 54.509 1240.06 60.0587 Q1240.06 66.3781 1235.03 70.0644 Q1230.05 73.7508 1221.3 73.7508 Q1217.65 73.7508 1213.68 73.0216 Q1209.76 72.3329 1205.38 70.9151 L1205.38 63.2184 Q1209.51 65.3654 1213.52 66.4591 Q1217.53 67.5124 1221.46 67.5124 Q1226.73 67.5124 1229.56 65.73 Q1232.4 63.9071 1232.4 60.6258 Q1232.4 57.5877 1230.33 55.9673 Q1228.31 54.3469 1221.38 52.8481 L1218.79 52.2405 Q1211.86 50.7821 1208.78 47.7845 Q1205.7 44.7463 1205.7 39.4801 Q1205.7 33.0797 1210.24 29.5959 Q1214.78 26.1121 1223.12 26.1121 Q1227.26 26.1121 1230.9 26.7198 Q1234.55 27.3274 1237.63 28.5427 Z\" fill=\"#000000\" fill-rule=\"evenodd\" fill-opacity=\"1\" /><path clip-path=\"url(#clip360)\" d=\"M 0 0 M1286.68 48.0275 L1286.68 51.6733 L1252.41 51.6733 Q1252.9 59.3701 1257.03 63.421 Q1261.2 67.4314 1268.62 67.4314 Q1272.91 67.4314 1276.92 66.3781 Q1280.97 65.3249 1284.94 63.2184 L1284.94 70.267 Q1280.93 71.9684 1276.72 72.8596 Q1272.5 73.7508 1268.17 73.7508 Q1257.31 73.7508 1250.95 67.4314 Q1244.63 61.1119 1244.63 50.3365 Q1244.63 39.1965 1250.63 32.6746 Q1256.66 26.1121 1266.87 26.1121 Q1276.03 26.1121 1281.33 32.0264 Q1286.68 37.9003 1286.68 48.0275 M1279.23 45.84 Q1279.15 39.7232 1275.79 36.0774 Q1272.46 32.4315 1266.95 32.4315 Q1260.72 32.4315 1256.95 35.9558 Q1253.22 39.4801 1252.65 45.8805 L1279.23 45.84 Z\" fill=\"#000000\" fill-rule=\"evenodd\" fill-opacity=\"1\" /><path clip-path=\"url(#clip360)\" d=\"M 0 0 M1327.15 28.9478 L1327.15 35.9153 Q1323.99 34.1734 1320.79 33.3227 Q1317.63 32.4315 1314.39 32.4315 Q1307.14 32.4315 1303.13 37.0496 Q1299.12 41.6271 1299.12 49.9314 Q1299.12 58.2358 1303.13 62.8538 Q1307.14 67.4314 1314.39 67.4314 Q1317.63 67.4314 1320.79 66.5807 Q1323.99 65.6895 1327.15 63.9476 L1327.15 70.8341 Q1324.03 72.2924 1320.67 73.0216 Q1317.35 73.7508 1313.58 73.7508 Q1303.33 73.7508 1297.3 67.3098 Q1291.26 60.8689 1291.26 49.9314 Q1291.26 38.832 1297.34 32.472 Q1303.45 26.1121 1314.07 26.1121 Q1317.51 26.1121 1320.79 26.8413 Q1324.07 27.5299 1327.15 28.9478 Z\" fill=\"#000000\" fill-rule=\"evenodd\" fill-opacity=\"1\" /><path clip-path=\"url(#clip360)\" d=\"M 0 0 M1334.2 54.671 L1334.2 27.2059 L1341.65 27.2059 L1341.65 54.3874 Q1341.65 60.8284 1344.16 64.0691 Q1346.68 67.2693 1351.7 67.2693 Q1357.73 67.2693 1361.22 63.421 Q1364.74 59.5726 1364.74 52.9291 L1364.74 27.2059 L1372.2 27.2059 L1372.2 72.576 L1364.74 72.576 L1364.74 65.6084 Q1362.03 69.7404 1358.42 71.7658 Q1354.86 73.7508 1350.12 73.7508 Q1342.3 73.7508 1338.25 68.8897 Q1334.2 64.0286 1334.2 54.671 M1352.95 26.1121 L1352.95 26.1121 Z\" fill=\"#000000\" fill-rule=\"evenodd\" fill-opacity=\"1\" /><path clip-path=\"url(#clip360)\" d=\"M 0 0 M1376.77 27.2059 L1412.18 27.2059 L1412.18 34.0114 L1384.15 66.6212 L1412.18 66.6212 L1412.18 72.576 L1375.76 72.576 L1375.76 65.7705 L1403.79 33.1607 L1376.77 33.1607 L1376.77 27.2059 Z\" fill=\"#000000\" fill-rule=\"evenodd\" fill-opacity=\"1\" /><path clip-path=\"url(#clip360)\" d=\"M 0 0 M1420 27.2059 L1427.45 27.2059 L1427.45 72.576 L1420 72.576 L1420 27.2059 M1420 9.54393 L1427.45 9.54393 L1427.45 18.9825 L1420 18.9825 L1420 9.54393 Z\" fill=\"#000000\" fill-rule=\"evenodd\" fill-opacity=\"1\" /><path clip-path=\"url(#clip360)\" d=\"M 0 0 M1452.85 32.4315 Q1446.85 32.4315 1443.37 37.1306 Q1439.89 41.7891 1439.89 49.9314 Q1439.89 58.0738 1443.33 62.7728 Q1446.81 67.4314 1452.85 67.4314 Q1458.81 67.4314 1462.29 62.7323 Q1465.77 58.0333 1465.77 49.9314 Q1465.77 41.8701 1462.29 37.1711 Q1458.81 32.4315 1452.85 32.4315 M1452.85 26.1121 Q1462.57 26.1121 1468.12 32.4315 Q1473.67 38.7509 1473.67 49.9314 Q1473.67 61.0714 1468.12 67.4314 Q1462.57 73.7508 1452.85 73.7508 Q1443.09 73.7508 1437.54 67.4314 Q1432.03 61.0714 1432.03 49.9314 Q1432.03 38.7509 1437.54 32.4315 Q1443.09 26.1121 1452.85 26.1121 Z\" fill=\"#000000\" fill-rule=\"evenodd\" fill-opacity=\"1\" /><path clip-path=\"url(#clip360)\" d=\"M 0 0 M1519.2 45.1919 L1519.2 72.576 L1511.75 72.576 L1511.75 45.4349 Q1511.75 38.994 1509.24 35.7938 Q1506.73 32.5936 1501.7 32.5936 Q1495.67 32.5936 1492.18 36.4419 Q1488.7 40.2903 1488.7 46.9338 L1488.7 72.576 L1481.21 72.576 L1481.21 27.2059 L1488.7 27.2059 L1488.7 34.2544 Q1491.37 30.163 1494.98 28.1376 Q1498.63 26.1121 1503.36 26.1121 Q1511.18 26.1121 1515.19 30.9732 Q1519.2 35.7938 1519.2 45.1919 Z\" fill=\"#000000\" fill-rule=\"evenodd\" fill-opacity=\"1\" /><path clip-path=\"url(#clip360)\" d=\"M 0 0 M1565.83 48.0275 L1565.83 51.6733 L1531.56 51.6733 Q1532.05 59.3701 1536.18 63.421 Q1540.35 67.4314 1547.76 67.4314 Q1552.06 67.4314 1556.07 66.3781 Q1560.12 65.3249 1564.09 63.2184 L1564.09 70.267 Q1560.08 71.9684 1555.86 72.8596 Q1551.65 73.7508 1547.32 73.7508 Q1536.46 73.7508 1530.1 67.4314 Q1523.78 61.1119 1523.78 50.3365 Q1523.78 39.1965 1529.78 32.6746 Q1535.81 26.1121 1546.02 26.1121 Q1555.18 26.1121 1560.48 32.0264 Q1565.83 37.9003 1565.83 48.0275 M1558.38 45.84 Q1558.3 39.7232 1554.93 36.0774 Q1551.61 32.4315 1546.1 32.4315 Q1539.86 32.4315 1536.1 35.9558 Q1532.37 39.4801 1531.8 45.8805 L1558.38 45.84 Z\" fill=\"#000000\" fill-rule=\"evenodd\" fill-opacity=\"1\" /><path clip-path=\"url(#clip360)\" d=\"M 0 0 M1600.02 27.2059 L1607.47 27.2059 L1607.47 72.576 L1600.02 72.576 L1600.02 27.2059 M1600.02 9.54393 L1607.47 9.54393 L1607.47 18.9825 L1600.02 18.9825 L1600.02 9.54393 Z\" fill=\"#000000\" fill-rule=\"evenodd\" fill-opacity=\"1\" /><path clip-path=\"url(#clip360)\" d=\"M 0 0 M1653.01 45.1919 L1653.01 72.576 L1645.55 72.576 L1645.55 45.4349 Q1645.55 38.994 1643.04 35.7938 Q1640.53 32.5936 1635.51 32.5936 Q1629.47 32.5936 1625.99 36.4419 Q1622.5 40.2903 1622.5 46.9338 L1622.5 72.576 L1615.01 72.576 L1615.01 27.2059 L1622.5 27.2059 L1622.5 34.2544 Q1625.18 30.163 1628.78 28.1376 Q1632.43 26.1121 1637.17 26.1121 Q1644.98 26.1121 1648.99 30.9732 Q1653.01 35.7938 1653.01 45.1919 Z\" fill=\"#000000\" fill-rule=\"evenodd\" fill-opacity=\"1\" /><path clip-path=\"url(#clip360)\" d=\"M 0 0 M1722.52 35.9153 Q1725.31 30.8922 1729.2 28.5022 Q1733.09 26.1121 1738.36 26.1121 Q1745.45 26.1121 1749.3 31.0947 Q1753.14 36.0368 1753.14 45.1919 L1753.14 72.576 L1745.65 72.576 L1745.65 45.4349 Q1745.65 38.913 1743.34 35.7533 Q1741.03 32.5936 1736.29 32.5936 Q1730.5 32.5936 1727.14 36.4419 Q1723.77 40.2903 1723.77 46.9338 L1723.77 72.576 L1716.28 72.576 L1716.28 45.4349 Q1716.28 38.8725 1713.97 35.7533 Q1711.66 32.5936 1706.84 32.5936 Q1701.13 32.5936 1697.77 36.4824 Q1694.41 40.3308 1694.41 46.9338 L1694.41 72.576 L1686.91 72.576 L1686.91 27.2059 L1694.41 27.2059 L1694.41 34.2544 Q1696.96 30.082 1700.52 28.0971 Q1704.09 26.1121 1708.99 26.1121 Q1713.93 26.1121 1717.37 28.6237 Q1720.86 31.1352 1722.52 35.9153 Z\" fill=\"#000000\" fill-rule=\"evenodd\" fill-opacity=\"1\" /><path clip-path=\"url(#clip360)\" d=\"M 0 0 M1760.96 27.2059 L1768.42 27.2059 L1768.42 72.576 L1760.96 72.576 L1760.96 27.2059 M1760.96 9.54393 L1768.42 9.54393 L1768.42 18.9825 L1760.96 18.9825 L1760.96 9.54393 Z\" fill=\"#000000\" fill-rule=\"evenodd\" fill-opacity=\"1\" /><path clip-path=\"url(#clip360)\" d=\"M 0 0 M1776.23 9.54393 L1783.69 9.54393 L1783.69 72.576 L1776.23 72.576 L1776.23 9.54393 Z\" fill=\"#000000\" fill-rule=\"evenodd\" fill-opacity=\"1\" /><path clip-path=\"url(#clip360)\" d=\"M 0 0 M1791.51 9.54393 L1798.96 9.54393 L1798.96 72.576 L1791.51 72.576 L1791.51 9.54393 Z\" fill=\"#000000\" fill-rule=\"evenodd\" fill-opacity=\"1\" /><path clip-path=\"url(#clip360)\" d=\"M 0 0 M1806.78 27.2059 L1814.23 27.2059 L1814.23 72.576 L1806.78 72.576 L1806.78 27.2059 M1806.78 9.54393 L1814.23 9.54393 L1814.23 18.9825 L1806.78 18.9825 L1806.78 9.54393 Z\" fill=\"#000000\" fill-rule=\"evenodd\" fill-opacity=\"1\" /><path clip-path=\"url(#clip360)\" d=\"M 0 0 M1850.97 28.5427 L1850.97 35.5912 Q1847.81 33.9709 1844.41 33.1607 Q1841.01 32.3505 1837.36 32.3505 Q1831.81 32.3505 1829.02 34.0519 Q1826.26 35.7533 1826.26 39.156 Q1826.26 41.7486 1828.25 43.2475 Q1830.23 44.7058 1836.23 46.0426 L1838.78 46.6097 Q1846.72 48.3111 1850.04 51.4303 Q1853.4 54.509 1853.4 60.0587 Q1853.4 66.3781 1848.38 70.0644 Q1843.4 73.7508 1834.65 73.7508 Q1831 73.7508 1827.03 73.0216 Q1823.1 72.3329 1818.73 70.9151 L1818.73 63.2184 Q1822.86 65.3654 1826.87 66.4591 Q1830.88 67.5124 1834.81 67.5124 Q1840.08 67.5124 1842.91 65.73 Q1845.75 63.9071 1845.75 60.6258 Q1845.75 57.5877 1843.68 55.9673 Q1841.66 54.3469 1834.73 52.8481 L1832.14 52.2405 Q1825.21 50.7821 1822.13 47.7845 Q1819.05 44.7463 1819.05 39.4801 Q1819.05 33.0797 1823.59 29.5959 Q1828.13 26.1121 1836.47 26.1121 Q1840.6 26.1121 1844.25 26.7198 Q1847.89 27.3274 1850.97 28.5427 Z\" fill=\"#000000\" fill-rule=\"evenodd\" fill-opacity=\"1\" /><path clip-path=\"url(#clip360)\" d=\"M 0 0 M1900.03 48.0275 L1900.03 51.6733 L1865.76 51.6733 Q1866.24 59.3701 1870.38 63.421 Q1874.55 67.4314 1881.96 67.4314 Q1886.26 67.4314 1890.27 66.3781 Q1894.32 65.3249 1898.29 63.2184 L1898.29 70.267 Q1894.28 71.9684 1890.06 72.8596 Q1885.85 73.7508 1881.52 73.7508 Q1870.66 73.7508 1864.3 67.4314 Q1857.98 61.1119 1857.98 50.3365 Q1857.98 39.1965 1863.98 32.6746 Q1870.01 26.1121 1880.22 26.1121 Q1889.38 26.1121 1894.68 32.0264 Q1900.03 37.9003 1900.03 48.0275 M1892.58 45.84 Q1892.49 39.7232 1889.13 36.0774 Q1885.81 32.4315 1880.3 32.4315 Q1874.06 32.4315 1870.3 35.9558 Q1866.57 39.4801 1866 45.8805 L1892.58 45.84 Z\" fill=\"#000000\" fill-rule=\"evenodd\" fill-opacity=\"1\" /><path clip-path=\"url(#clip360)\" d=\"M 0 0 M1940.5 28.9478 L1940.5 35.9153 Q1937.34 34.1734 1934.14 33.3227 Q1930.98 32.4315 1927.74 32.4315 Q1920.49 32.4315 1916.48 37.0496 Q1912.47 41.6271 1912.47 49.9314 Q1912.47 58.2358 1916.48 62.8538 Q1920.49 67.4314 1927.74 67.4314 Q1930.98 67.4314 1934.14 66.5807 Q1937.34 65.6895 1940.5 63.9476 L1940.5 70.8341 Q1937.38 72.2924 1934.02 73.0216 Q1930.69 73.7508 1926.93 73.7508 Q1916.68 73.7508 1910.64 67.3098 Q1904.61 60.8689 1904.61 49.9314 Q1904.61 38.832 1910.68 32.472 Q1916.8 26.1121 1927.41 26.1121 Q1930.86 26.1121 1934.14 26.8413 Q1937.42 27.5299 1940.5 28.9478 Z\" fill=\"#000000\" fill-rule=\"evenodd\" fill-opacity=\"1\" /><path clip-path=\"url(#clip362)\" d=\"\n",
       "M286.469 1118.88 L286.469 1447.87 L842.475 1447.87 L842.475 1118.88 L286.469 1118.88 L286.469 1118.88  Z\n",
       "  \" fill=\"#009af9\" fill-rule=\"evenodd\" fill-opacity=\"1\"/>\n",
       "<polyline clip-path=\"url(#clip362)\" style=\"stroke:#000000; stroke-width:4; stroke-opacity:1; fill:none\" points=\"\n",
       "  286.469,1118.88 286.469,1447.87 842.475,1447.87 842.475,1118.88 286.469,1118.88 \n",
       "  \"/>\n",
       "<path clip-path=\"url(#clip362)\" d=\"\n",
       "M981.477 162.047 L981.477 1447.87 L1537.48 1447.87 L1537.48 162.047 L981.477 162.047 L981.477 162.047  Z\n",
       "  \" fill=\"#009af9\" fill-rule=\"evenodd\" fill-opacity=\"1\"/>\n",
       "<polyline clip-path=\"url(#clip362)\" style=\"stroke:#000000; stroke-width:4; stroke-opacity:1; fill:none\" points=\"\n",
       "  981.477,162.047 981.477,1447.87 1537.48,1447.87 1537.48,162.047 981.477,162.047 \n",
       "  \"/>\n",
       "<path clip-path=\"url(#clip362)\" d=\"\n",
       "M1676.49 1114.85 L1676.49 1447.87 L2232.49 1447.87 L2232.49 1114.85 L1676.49 1114.85 L1676.49 1114.85  Z\n",
       "  \" fill=\"#009af9\" fill-rule=\"evenodd\" fill-opacity=\"1\"/>\n",
       "<polyline clip-path=\"url(#clip362)\" style=\"stroke:#000000; stroke-width:4; stroke-opacity:1; fill:none\" points=\"\n",
       "  1676.49,1114.85 1676.49,1447.87 2232.49,1447.87 2232.49,1114.85 1676.49,1114.85 \n",
       "  \"/>\n",
       "</svg>\n"
      ]
     },
     "execution_count": 202,
     "metadata": {},
     "output_type": "execute_result"
    }
   ],
   "source": [
    "using Plots\n",
    "\n",
    "names = [\"matrice simmetrica\", \"matrice con \\epsilon \", \"matrice esplicitata simmetrica\"]\n",
    "values = [median(benchsym.times/ 1e6), median(benchnoisy.times/ 1e6), median(benchexplicit.times/ 1e6)]\n",
    "Plots.bar(names,values, legend=false, title=\"mediane tempi esecuzione in millisec\")\n",
    "#meglio boxplot\n"
   ]
  },
  {
   "cell_type": "code",
   "execution_count": 194,
   "metadata": {},
   "outputs": [
    {
     "data": {
      "text/latex": [
       "\\begin{verbatim}\n",
       "bar(x,y)\n",
       "bar!(x,y)\n",
       "\\end{verbatim}\n",
       "Make a bar plot of y vs x.\n",
       "\n",
       "\\section{Arguments}\n",
       "\\begin{itemize}\n",
       "\\item \\texttt{bar\\_position}: Symbol.  Choose from \\texttt{:overlay} (default),                  \\texttt{:stack}.  (warning: May not be implemented fully)\n",
       "\n",
       "\n",
       "\\item \\texttt{bar\\_width}: nothing or Number. Width of bars in data               coordinates. When nothing, chooses based on x (or y when               \\texttt{orientation = :h}).\n",
       "\n",
       "\n",
       "\\item \\texttt{bar\\_edges}: Bool.  Align bars to edges (true), or centers               (the default)?\n",
       "\n",
       "\n",
       "\\item \\texttt{orientation}: Symbol.  Horizontal or vertical orientation                 for bar types.  Values \\texttt{:h}, \\texttt{:hor},                 \\texttt{:horizontal} correspond to horizontal (sideways,                 anchored to y-axis), and \\texttt{:v}, \\texttt{:vert}, and                 \\texttt{:vertical} correspond to vertical (the default).\n",
       "\n",
       "\\end{itemize}\n",
       "\\section{Examples}\n",
       "\\begin{verbatim}\n",
       "julia> bar([1,2,3],[4,5,6],fillcolor=[:red,:green,:blue],fillalpha=[0.2,0.4,0.6])\n",
       "julia> bar([(1,4),(2,5),(3,6)])\n",
       "\\end{verbatim}\n"
      ],
      "text/markdown": [
       "```\n",
       "bar(x,y)\n",
       "bar!(x,y)\n",
       "```\n",
       "\n",
       "Make a bar plot of y vs x.\n",
       "\n",
       "# Arguments\n",
       "\n",
       "  * `bar_position`: Symbol.  Choose from `:overlay` (default),                  `:stack`.  (warning: May not be implemented fully)\n",
       "  * `bar_width`: nothing or Number. Width of bars in data               coordinates. When nothing, chooses based on x (or y when               `orientation = :h`).\n",
       "  * `bar_edges`: Bool.  Align bars to edges (true), or centers               (the default)?\n",
       "  * `orientation`: Symbol.  Horizontal or vertical orientation                 for bar types.  Values `:h`, `:hor`,                 `:horizontal` correspond to horizontal (sideways,                 anchored to y-axis), and `:v`, `:vert`, and                 `:vertical` correspond to vertical (the default).\n",
       "\n",
       "# Examples\n",
       "\n",
       "```julia-repl\n",
       "julia> bar([1,2,3],[4,5,6],fillcolor=[:red,:green,:blue],fillalpha=[0.2,0.4,0.6])\n",
       "julia> bar([(1,4),(2,5),(3,6)])\n",
       "```\n"
      ],
      "text/plain": [
       "\u001b[36m  bar(x,y)\u001b[39m\n",
       "\u001b[36m  bar!(x,y)\u001b[39m\n",
       "\n",
       "  Make a bar plot of y vs x.\n",
       "\n",
       "\u001b[1m  Arguments\u001b[22m\n",
       "\u001b[1m  ≡≡≡≡≡≡≡≡≡≡≡\u001b[22m\n",
       "\n",
       "    •    \u001b[36mbar_position\u001b[39m: Symbol. Choose from \u001b[36m:overlay\u001b[39m (default), \u001b[36m:stack\u001b[39m.\n",
       "        (warning: May not be implemented fully)\n",
       "\n",
       "    •    \u001b[36mbar_width\u001b[39m: nothing or Number. Width of bars in data coordinates.\n",
       "        When nothing, chooses based on x (or y when \u001b[36morientation = :h\u001b[39m).\n",
       "\n",
       "    •    \u001b[36mbar_edges\u001b[39m: Bool. Align bars to edges (true), or centers (the\n",
       "        default)?\n",
       "\n",
       "    •    \u001b[36morientation\u001b[39m: Symbol. Horizontal or vertical orientation for bar\n",
       "        types. Values \u001b[36m:h\u001b[39m, \u001b[36m:hor\u001b[39m, \u001b[36m:horizontal\u001b[39m correspond to horizontal\n",
       "        (sideways, anchored to y-axis), and \u001b[36m:v\u001b[39m, \u001b[36m:vert\u001b[39m, and \u001b[36m:vertical\u001b[39m\n",
       "        correspond to vertical (the default).\n",
       "\n",
       "\u001b[1m  Examples\u001b[22m\n",
       "\u001b[1m  ≡≡≡≡≡≡≡≡≡≡\u001b[22m\n",
       "\n",
       "\u001b[36m  julia> bar([1,2,3],[4,5,6],fillcolor=[:red,:green,:blue],fillalpha=[0.2,0.4,0.6])\u001b[39m\n",
       "\u001b[36m  julia> bar([(1,4),(2,5),(3,6)])\u001b[39m"
      ]
     },
     "execution_count": 194,
     "metadata": {},
     "output_type": "execute_result"
    }
   ],
   "source": [
    "?Plots.bar\n"
   ]
  },
  {
   "cell_type": "code",
   "execution_count": 201,
   "metadata": {},
   "outputs": [
    {
     "data": {
      "text/latex": [
       "No documentation found.\n",
       "\n",
       "Binding \\texttt{Plots.multipleboxplots} does not exist.\n",
       "\n"
      ],
      "text/markdown": [
       "No documentation found.\n",
       "\n",
       "Binding `Plots.multipleboxplots` does not exist.\n"
      ],
      "text/plain": [
       "  No documentation found.\n",
       "\n",
       "  Binding \u001b[36mPlots.multipleboxplots\u001b[39m does not exist."
      ]
     },
     "execution_count": 201,
     "metadata": {},
     "output_type": "execute_result"
    }
   ],
   "source": [
    "?Plots.multipleboxplots"
   ]
  },
  {
   "cell_type": "code",
   "execution_count": null,
   "metadata": {},
   "outputs": [],
   "source": []
  }
 ],
 "metadata": {
  "kernelspec": {
   "display_name": "Julia 1.5.1",
   "language": "julia",
   "name": "julia-1.5"
  },
  "language_info": {
   "file_extension": ".jl",
   "mimetype": "application/julia",
   "name": "julia",
   "version": "1.5.1"
  }
 },
 "nbformat": 4,
 "nbformat_minor": 4
}
