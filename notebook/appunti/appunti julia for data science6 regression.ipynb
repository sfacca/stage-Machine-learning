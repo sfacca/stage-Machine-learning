{
 "cells": [
  {
   "cell_type": "markdown",
   "metadata": {},
   "source": [
    "+ https://github.com/JuliaAcademy/DataScience/blob/master/07.%20Regression.ipynb"
   ]
  },
  {
   "cell_type": "code",
   "execution_count": 5,
   "metadata": {},
   "outputs": [
    {
     "name": "stderr",
     "output_type": "stream",
     "text": [
      "\u001b[32m\u001b[1m Activating\u001b[22m\u001b[39m environment at `C:\\Users\\i am\\Documents\\GitHub\\stage-Machine-learning\\notebook\\appunti\\Project.toml`\n",
      "\u001b[32m\u001b[1m  Resolving\u001b[22m\u001b[39m package versions...\n",
      "\u001b[32m\u001b[1mUpdating\u001b[22m\u001b[39m `C:\\Users\\i am\\Documents\\GitHub\\stage-Machine-learning\\notebook\\appunti\\Project.toml`\n",
      " \u001b[90m [bd369af6] \u001b[39m\u001b[92m+ Tables v1.0.5\u001b[39m\n",
      "\u001b[32m\u001b[1mNo Changes\u001b[22m\u001b[39m to `C:\\Users\\i am\\Documents\\GitHub\\stage-Machine-learning\\notebook\\appunti\\Manifest.toml`\n"
     ]
    }
   ],
   "source": [
    "using Pkg\n",
    "Pkg.activate(\".\")\n",
    "Pkg.instantiate()\n",
    "\n",
    "Pkg.add(\"Tables\")\n",
    "Pkg.resolve()"
   ]
  },
  {
   "cell_type": "code",
   "execution_count": 6,
   "metadata": {},
   "outputs": [
    {
     "name": "stderr",
     "output_type": "stream",
     "text": [
      "┌ Info: Precompiling RDatasets [ce6b1742-4840-55fa-b093-852dadbb1d8b]\n",
      "└ @ Base loading.jl:1278\n"
     ]
    },
    {
     "ename": "LoadError",
     "evalue": "ArgumentError: Package LsqFit not found in current path:\n- Run `import Pkg; Pkg.add(\"LsqFit\")` to install the LsqFit package.\n",
     "output_type": "error",
     "traceback": [
      "ArgumentError: Package LsqFit not found in current path:\n- Run `import Pkg; Pkg.add(\"LsqFit\")` to install the LsqFit package.\n",
      "",
      "Stacktrace:",
      " [1] require(::Module, ::Symbol) at .\\loading.jl:893",
      " [2] include_string(::Function, ::Module, ::String, ::String) at .\\loading.jl:1091"
     ]
    }
   ],
   "source": [
    "using Plots\n",
    "using Statistics\n",
    "using StatsBase\n",
    "using PyCall\n",
    "using DataFrames\n",
    "using GLM\n",
    "using Tables\n",
    "using XLSX\n",
    "using MLBase\n",
    "using RDatasets\n",
    "using LsqFit"
   ]
  },
  {
   "cell_type": "code",
   "execution_count": null,
   "metadata": {},
   "outputs": [],
   "source": []
  }
 ],
 "metadata": {
  "kernelspec": {
   "display_name": "Julia 1.5.1",
   "language": "julia",
   "name": "julia-1.5"
  },
  "language_info": {
   "file_extension": ".jl",
   "mimetype": "application/julia",
   "name": "julia",
   "version": "1.5.1"
  }
 },
 "nbformat": 4,
 "nbformat_minor": 4
}
