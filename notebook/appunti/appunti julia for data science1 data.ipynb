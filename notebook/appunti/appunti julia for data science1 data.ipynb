{
 "cells": [
  {
   "cell_type": "markdown",
   "metadata": {},
   "source": [
    "+ summary corso https://github.com/JuliaAcademy/DataScience/blob/master/README.md\n",
    "\n",
    "+ git corso https://github.com/JuliaAcademy/DataScience"
   ]
  },
  {
   "cell_type": "code",
   "execution_count": null,
   "metadata": {},
   "outputs": [],
   "source": []
  },
  {
   "cell_type": "markdown",
   "metadata": {},
   "source": [
    "# data"
   ]
  },
  {
   "cell_type": "code",
   "execution_count": null,
   "metadata": {},
   "outputs": [],
   "source": [
    "using Pkg\n",
    "Pkg.activate(\".\")"
   ]
  },
  {
   "cell_type": "code",
   "execution_count": 3,
   "metadata": {},
   "outputs": [
    {
     "name": "stderr",
     "output_type": "stream",
     "text": [
      "\u001b[32m\u001b[1m   Updating\u001b[22m\u001b[39m registry at `C:\\Users\\i am\\.julia\\registries\\General`\n",
      "\u001b[32m\u001b[1m  Resolving\u001b[22m\u001b[39m package versions...\n",
      "\u001b[32m\u001b[1m  Installed\u001b[22m\u001b[39m PositiveFactorizations ─ v0.2.3\n",
      "\u001b[32m\u001b[1m  Installed\u001b[22m\u001b[39m TableOperations ──────── v0.2.1\n",
      "\u001b[32m\u001b[1m  Installed\u001b[22m\u001b[39m StatsPlots ───────────── v0.14.13\n",
      "\u001b[32m\u001b[1m  Installed\u001b[22m\u001b[39m Mux ──────────────────── v0.7.2\n",
      "\u001b[32m\u001b[1m  Installed\u001b[22m\u001b[39m LineSearches ─────────── v7.1.0\n",
      "\u001b[32m\u001b[1m  Installed\u001b[22m\u001b[39m CategoricalArrays ────── v0.8.2\n",
      "\u001b[32m\u001b[1m  Installed\u001b[22m\u001b[39m DataFrames ───────────── v0.21.7\n",
      "\u001b[32m\u001b[1m  Installed\u001b[22m\u001b[39m UnicodePlots ─────────── v1.2.0\n",
      "\u001b[32m\u001b[1m  Installed\u001b[22m\u001b[39m StructTypes ──────────── v1.1.0\n",
      "\u001b[32m\u001b[1m  Installed\u001b[22m\u001b[39m RecipesPipeline ──────── v0.1.13\n",
      "\u001b[32m\u001b[1m  Installed\u001b[22m\u001b[39m JSON ─────────────────── v0.21.1\n",
      "\u001b[32m\u001b[1m  Installed\u001b[22m\u001b[39m DataStructures ───────── v0.17.20\n",
      "\u001b[32m\u001b[1m  Installed\u001b[22m\u001b[39m FiniteDiff ───────────── v2.6.0\n",
      "\u001b[32m\u001b[1m  Installed\u001b[22m\u001b[39m Optim ────────────────── v0.22.0\n",
      "\u001b[32m\u001b[1m  Installed\u001b[22m\u001b[39m NearestNeighbors ─────── v0.4.6\n",
      "\u001b[32m\u001b[1m  Installed\u001b[22m\u001b[39m NLSolversBase ────────── v7.7.0\n",
      "\u001b[32m\u001b[1m  Installed\u001b[22m\u001b[39m StatsBase ────────────── v0.32.2\n",
      "\u001b[32m\u001b[1m  Installed\u001b[22m\u001b[39m CommonSubexpressions ─── v0.3.0\n",
      "\u001b[32m\u001b[1m  Installed\u001b[22m\u001b[39m Arpack ───────────────── v0.4.0\n",
      "\u001b[32m\u001b[1m  Installed\u001b[22m\u001b[39m OpenBLAS_jll ─────────── v0.3.10+0\n",
      "\u001b[32m\u001b[1m  Installed\u001b[22m\u001b[39m ArrayInterface ───────── v2.12.0\n",
      "\u001b[32m\u001b[1m  Installed\u001b[22m\u001b[39m Parameters ───────────── v0.12.1\n",
      "\u001b[32m\u001b[1m  Installed\u001b[22m\u001b[39m Arpack_jll ───────────── v3.5.0+3\n",
      "\u001b[32m\u001b[1m  Installed\u001b[22m\u001b[39m ForwardDiff ──────────── v0.10.12\n",
      "\u001b[32m\u001b[1m  Installed\u001b[22m\u001b[39m UnPack ───────────────── v1.0.2\n",
      "\u001b[32m\u001b[1m  Installed\u001b[22m\u001b[39m InvertedIndices ──────── v1.0.0\n",
      "\u001b[32m\u001b[1m  Installed\u001b[22m\u001b[39m Crayons ──────────────── v4.0.4\n",
      "\u001b[32m\u001b[1m  Installed\u001b[22m\u001b[39m Lazy ─────────────────── v0.14.0\n",
      "\u001b[32m\u001b[1m  Installed\u001b[22m\u001b[39m KernelDensity ────────── v0.5.1\n",
      "\u001b[32m\u001b[1m  Installed\u001b[22m\u001b[39m DiffRules ────────────── v1.0.1\n",
      "\u001b[32m\u001b[1m  Installed\u001b[22m\u001b[39m PooledArrays ─────────── v0.5.3\n",
      "\u001b[32m\u001b[1m  Installed\u001b[22m\u001b[39m Distances ────────────── v0.9.0\n",
      "\u001b[32m\u001b[1m  Installed\u001b[22m\u001b[39m DiffResults ──────────── v1.0.2\n",
      "\u001b[32m\u001b[1m  Installed\u001b[22m\u001b[39m MultivariateStats ────── v0.7.0\n",
      "\u001b[32m\u001b[1mUpdating\u001b[22m\u001b[39m `C:\\Users\\i am\\.julia\\environments\\v1.5\\Project.toml`\n",
      " \u001b[90m [a93c6f00] \u001b[39m\u001b[92m+ DataFrames v0.21.7\u001b[39m\n",
      " \u001b[90m [f3b207a7] \u001b[39m\u001b[93m↑ StatsPlots v0.12.0 ⇒ v0.14.13\u001b[39m\n",
      " \u001b[90m [b8865327] \u001b[39m\u001b[93m↑ UnicodePlots v1.1.0 ⇒ v1.2.0\u001b[39m\n",
      "\u001b[32m\u001b[1mUpdating\u001b[22m\u001b[39m `C:\\Users\\i am\\.julia\\environments\\v1.5\\Manifest.toml`\n",
      " \u001b[90m [7d9fca2a] \u001b[39m\u001b[92m+ Arpack v0.4.0\u001b[39m\n",
      " \u001b[90m [68821587] \u001b[39m\u001b[92m+ Arpack_jll v3.5.0+3\u001b[39m\n",
      " \u001b[90m [4fba245c] \u001b[39m\u001b[92m+ ArrayInterface v2.12.0\u001b[39m\n",
      " \u001b[90m [324d7699] \u001b[39m\u001b[92m+ CategoricalArrays v0.8.2\u001b[39m\n",
      " \u001b[90m [bbf7d656] \u001b[39m\u001b[92m+ CommonSubexpressions v0.3.0\u001b[39m\n",
      " \u001b[90m [a8cc5b0e] \u001b[39m\u001b[92m+ Crayons v4.0.4\u001b[39m\n",
      " \u001b[90m [a93c6f00] \u001b[39m\u001b[92m+ DataFrames v0.21.7\u001b[39m\n",
      " \u001b[90m [864edb3b] \u001b[39m\u001b[95m↓ DataStructures v0.18.3 ⇒ v0.17.20\u001b[39m\n",
      " \u001b[90m [163ba53b] \u001b[39m\u001b[92m+ DiffResults v1.0.2\u001b[39m\n",
      " \u001b[90m [b552c78f] \u001b[39m\u001b[92m+ DiffRules v1.0.1\u001b[39m\n",
      " \u001b[90m [b4f34e82] \u001b[39m\u001b[93m↑ Distances v0.8.2 ⇒ v0.9.0\u001b[39m\n",
      " \u001b[90m [6a86dc24] \u001b[39m\u001b[92m+ FiniteDiff v2.6.0\u001b[39m\n",
      " \u001b[90m [f6369f11] \u001b[39m\u001b[92m+ ForwardDiff v0.10.12\u001b[39m\n",
      " \u001b[90m [41ab1584] \u001b[39m\u001b[92m+ InvertedIndices v1.0.0\u001b[39m\n",
      " \u001b[90m [682c06a0] \u001b[39m\u001b[93m↑ JSON v0.21.0 ⇒ v0.21.1\u001b[39m\n",
      " \u001b[90m [5ab0869b] \u001b[39m\u001b[95m↓ KernelDensity v0.6.0 ⇒ v0.5.1\u001b[39m\n",
      " \u001b[90m [50d2b5c4] \u001b[39m\u001b[95m↓ Lazy v0.15.1 ⇒ v0.14.0\u001b[39m\n",
      " \u001b[90m [d3d80556] \u001b[39m\u001b[92m+ LineSearches v7.1.0\u001b[39m\n",
      " \u001b[90m [6f286f6a] \u001b[39m\u001b[92m+ MultivariateStats v0.7.0\u001b[39m\n",
      " \u001b[90m [a975b10e] \u001b[39m\u001b[93m↑ Mux v0.7.0 ⇒ v0.7.2\u001b[39m\n",
      " \u001b[90m [d41bc354] \u001b[39m\u001b[92m+ NLSolversBase v7.7.0\u001b[39m\n",
      " \u001b[90m [b8a86587] \u001b[39m\u001b[93m↑ NearestNeighbors v0.4.4 ⇒ v0.4.6\u001b[39m\n",
      " \u001b[90m [4536629a] \u001b[39m\u001b[92m+ OpenBLAS_jll v0.3.10+0\u001b[39m\n",
      " \u001b[90m [429524aa] \u001b[39m\u001b[92m+ Optim v0.22.0\u001b[39m\n",
      " \u001b[90m [d96e819e] \u001b[39m\u001b[92m+ Parameters v0.12.1\u001b[39m\n",
      " \u001b[90m [2dfb63ee] \u001b[39m\u001b[92m+ PooledArrays v0.5.3\u001b[39m\n",
      " \u001b[90m [85a6dd25] \u001b[39m\u001b[92m+ PositiveFactorizations v0.2.3\u001b[39m\n",
      " \u001b[90m [01d81517] \u001b[39m\u001b[92m+ RecipesPipeline v0.1.13\u001b[39m\n",
      " \u001b[90m [2913bbd2] \u001b[39m\u001b[95m↓ StatsBase v0.33.1 ⇒ v0.32.2\u001b[39m\n",
      " \u001b[90m [f3b207a7] \u001b[39m\u001b[93m↑ StatsPlots v0.12.0 ⇒ v0.14.13\u001b[39m\n",
      " \u001b[90m [856f2bd8] \u001b[39m\u001b[92m+ StructTypes v1.1.0\u001b[39m\n",
      " \u001b[90m [ab02a1b2] \u001b[39m\u001b[92m+ TableOperations v0.2.1\u001b[39m\n",
      " \u001b[90m [3a884ed6] \u001b[39m\u001b[92m+ UnPack v1.0.2\u001b[39m\n",
      " \u001b[90m [b8865327] \u001b[39m\u001b[93m↑ UnicodePlots v1.1.0 ⇒ v1.2.0\u001b[39m\n",
      " \u001b[90m [9fa8497b] \u001b[39m\u001b[92m+ Future\u001b[39m\n",
      "\u001b[32m\u001b[1m  Resolving\u001b[22m\u001b[39m package versions...\n",
      "\u001b[32m\u001b[1mUpdating\u001b[22m\u001b[39m `C:\\Users\\i am\\.julia\\environments\\v1.5\\Project.toml`\n",
      " \u001b[90m [8bb1440f] \u001b[39m\u001b[92m+ DelimitedFiles\u001b[39m\n",
      "\u001b[32m\u001b[1mNo Changes\u001b[22m\u001b[39m to `C:\\Users\\i am\\.julia\\environments\\v1.5\\Manifest.toml`\n",
      "\u001b[32m\u001b[1m  Resolving\u001b[22m\u001b[39m package versions...\n",
      "\u001b[32m\u001b[1m  Installed\u001b[22m\u001b[39m SentinelArrays ─ v1.2.15\n",
      "\u001b[32m\u001b[1m  Installed\u001b[22m\u001b[39m CSV ──────────── v0.7.7\n",
      "\u001b[32m\u001b[1mUpdating\u001b[22m\u001b[39m `C:\\Users\\i am\\.julia\\environments\\v1.5\\Project.toml`\n",
      " \u001b[90m [336ed68f] \u001b[39m\u001b[92m+ CSV v0.7.7\u001b[39m\n",
      "\u001b[32m\u001b[1mUpdating\u001b[22m\u001b[39m `C:\\Users\\i am\\.julia\\environments\\v1.5\\Manifest.toml`\n",
      " \u001b[90m [336ed68f] \u001b[39m\u001b[92m+ CSV v0.7.7\u001b[39m\n",
      " \u001b[90m [91c51154] \u001b[39m\u001b[92m+ SentinelArrays v1.2.15\u001b[39m\n",
      "\u001b[32m\u001b[1m  Resolving\u001b[22m\u001b[39m package versions...\n",
      "\u001b[32m\u001b[1m  Installed\u001b[22m\u001b[39m XML2_jll ───── v2.9.10+2\n",
      "\u001b[32m\u001b[1m  Installed\u001b[22m\u001b[39m ZipFile ────── v0.9.2\n",
      "\u001b[32m\u001b[1m  Installed\u001b[22m\u001b[39m Libiconv_jll ─ v1.16.0+6\n",
      "\u001b[32m\u001b[1m  Installed\u001b[22m\u001b[39m EzXML ──────── v1.1.0\n",
      "\u001b[32m\u001b[1m  Installed\u001b[22m\u001b[39m XLSX ───────── v0.7.3\n",
      "\u001b[32m\u001b[1mUpdating\u001b[22m\u001b[39m `C:\\Users\\i am\\.julia\\environments\\v1.5\\Project.toml`\n",
      " \u001b[90m [fdbf4ff8] \u001b[39m\u001b[92m+ XLSX v0.7.3\u001b[39m\n",
      "\u001b[32m\u001b[1mUpdating\u001b[22m\u001b[39m `C:\\Users\\i am\\.julia\\environments\\v1.5\\Manifest.toml`\n",
      " \u001b[90m [8f5d6c58] \u001b[39m\u001b[92m+ EzXML v1.1.0\u001b[39m\n",
      " \u001b[90m [94ce4f54] \u001b[39m\u001b[92m+ Libiconv_jll v1.16.0+6\u001b[39m\n",
      " \u001b[90m [fdbf4ff8] \u001b[39m\u001b[92m+ XLSX v0.7.3\u001b[39m\n",
      " \u001b[90m [02c8fc9c] \u001b[39m\u001b[92m+ XML2_jll v2.9.10+2\u001b[39m\n",
      " \u001b[90m [a5390f91] \u001b[39m\u001b[92m+ ZipFile v0.9.2\u001b[39m\n"
     ]
    }
   ],
   "source": [
    "using Pkg\n",
    "Pkg.add(\"DataFrames\")\n",
    "Pkg.add(\"DelimitedFiles\")\n",
    "Pkg.add(\"CSV\")\n",
    "Pkg.add(\"XLSX\")"
   ]
  },
  {
   "cell_type": "code",
   "execution_count": 2,
   "metadata": {
    "scrolled": true
   },
   "outputs": [
    {
     "name": "stderr",
     "output_type": "stream",
     "text": [
      "┌ Info: Precompiling BenchmarkTools [6e4b80f9-dd63-53aa-95a3-0cdb28fa8baf]\n",
      "└ @ Base loading.jl:1278\n"
     ]
    }
   ],
   "source": [
    "using BenchmarkTools\n",
    "using DataFrames\n",
    "using DelimitedFiles\n",
    "using CSV\n",
    "using XLSX"
   ]
  },
  {
   "cell_type": "code",
   "execution_count": 14,
   "metadata": {},
   "outputs": [
    {
     "data": {
      "text/plain": [
       "\"programming_languages.csv\""
      ]
     },
     "execution_count": 14,
     "metadata": {},
     "output_type": "execute_result"
    }
   ],
   "source": [
    "# si posson scaricare dati direttamente da julia con download( source , nome file output )\n",
    "P = download(\"https://raw.githubusercontent.com/nassarhuda/easy_data/master/programming_languages.csv\",\n",
    "    \"programming_languages.csv\")\n",
    "#sono dati anno creaz/nome linguaggia di programmaz"
   ]
  },
  {
   "cell_type": "code",
   "execution_count": 3,
   "metadata": {},
   "outputs": [
    {
     "data": {
      "text/plain": [
       "(Any[1951 \"Regional Assembly Language\"; 1952 \"Autocode\"; … ; 2012 \"Julia\"; 2014 \"Swift\"], AbstractString[\"year\" \"language\"])"
      ]
     },
     "execution_count": 3,
     "metadata": {},
     "output_type": "execute_result"
    }
   ],
   "source": [
    "#lettura dati con delimited files\n",
    "P,H = readdlm(\"programminglanguages.csv\",',';header=true)\n",
    "# legge file usando , come separator\n",
    "\n",
    "# nb: delimitedfiles usarlo solo con dataframe testo complessi, csv molto più veloce per file csv"
   ]
  },
  {
   "cell_type": "code",
   "execution_count": 10,
   "metadata": {},
   "outputs": [
    {
     "data": {
      "text/plain": [
       "73×2 Array{Any,2}:\n",
       " 1951  \"Regional Assembly Language\"\n",
       " 1952  \"Autocode\"\n",
       " 1954  \"IPL\"\n",
       " 1955  \"FLOW-MATIC\"\n",
       " 1957  \"FORTRAN\"\n",
       " 1957  \"COMTRAN\"\n",
       " 1958  \"LISP\"\n",
       " 1958  \"ALGOL 58\"\n",
       " 1959  \"FACT\"\n",
       " 1959  \"COBOL\"\n",
       " 1959  \"RPG\"\n",
       " 1962  \"APL\"\n",
       " 1962  \"Simula\"\n",
       "    ⋮  \n",
       " 2003  \"Scala\"\n",
       " 2005  \"F#\"\n",
       " 2006  \"PowerShell\"\n",
       " 2007  \"Clojure\"\n",
       " 2009  \"Go\"\n",
       " 2010  \"Rust\"\n",
       " 2011  \"Dart\"\n",
       " 2011  \"Kotlin\"\n",
       " 2011  \"Red\"\n",
       " 2011  \"Elixir\"\n",
       " 2012  \"Julia\"\n",
       " 2014  \"Swift\""
      ]
     },
     "execution_count": 10,
     "metadata": {},
     "output_type": "execute_result"
    }
   ],
   "source": [
    "P"
   ]
  },
  {
   "cell_type": "code",
   "execution_count": 11,
   "metadata": {},
   "outputs": [],
   "source": [
    "# scrittura dati\n",
    "writedlm(\"programminglanguages_dlm.txt\", P, '-')\n",
    "# nota definizione separator -"
   ]
  },
  {
   "cell_type": "code",
   "execution_count": 21,
   "metadata": {},
   "outputs": [
    {
     "name": "stdout",
     "output_type": "stream",
     "text": [
      "typeof(C) = DataFrame\n"
     ]
    },
    {
     "data": {
      "text/html": [
       "<table class=\"data-frame\"><thead><tr><th></th><th>year</th><th>language</th></tr><tr><th></th><th>Int64</th><th>String</th></tr></thead><tbody><p>10 rows × 2 columns</p><tr><th>1</th><td>1951</td><td>Regional Assembly Language</td></tr><tr><th>2</th><td>1952</td><td>Autocode</td></tr><tr><th>3</th><td>1954</td><td>IPL</td></tr><tr><th>4</th><td>1955</td><td>FLOW-MATIC</td></tr><tr><th>5</th><td>1957</td><td>FORTRAN</td></tr><tr><th>6</th><td>1957</td><td>COMTRAN</td></tr><tr><th>7</th><td>1958</td><td>LISP</td></tr><tr><th>8</th><td>1958</td><td>ALGOL 58</td></tr><tr><th>9</th><td>1959</td><td>FACT</td></tr><tr><th>10</th><td>1959</td><td>COBOL</td></tr></tbody></table>"
      ],
      "text/latex": [
       "\\begin{tabular}{r|cc}\n",
       "\t& year & language\\\\\n",
       "\t\\hline\n",
       "\t& Int64 & String\\\\\n",
       "\t\\hline\n",
       "\t1 & 1951 & Regional Assembly Language \\\\\n",
       "\t2 & 1952 & Autocode \\\\\n",
       "\t3 & 1954 & IPL \\\\\n",
       "\t4 & 1955 & FLOW-MATIC \\\\\n",
       "\t5 & 1957 & FORTRAN \\\\\n",
       "\t6 & 1957 & COMTRAN \\\\\n",
       "\t7 & 1958 & LISP \\\\\n",
       "\t8 & 1958 & ALGOL 58 \\\\\n",
       "\t9 & 1959 & FACT \\\\\n",
       "\t10 & 1959 & COBOL \\\\\n",
       "\\end{tabular}\n"
      ],
      "text/plain": [
       "10×2 DataFrame\n",
       "│ Row │ year  │ language                   │\n",
       "│     │ \u001b[90mInt64\u001b[39m │ \u001b[90mString\u001b[39m                     │\n",
       "├─────┼───────┼────────────────────────────┤\n",
       "│ 1   │ 1951  │ Regional Assembly Language │\n",
       "│ 2   │ 1952  │ Autocode                   │\n",
       "│ 3   │ 1954  │ IPL                        │\n",
       "│ 4   │ 1955  │ FLOW-MATIC                 │\n",
       "│ 5   │ 1957  │ FORTRAN                    │\n",
       "│ 6   │ 1957  │ COMTRAN                    │\n",
       "│ 7   │ 1958  │ LISP                       │\n",
       "│ 8   │ 1958  │ ALGOL 58                   │\n",
       "│ 9   │ 1959  │ FACT                       │\n",
       "│ 10  │ 1959  │ COBOL                      │"
      ]
     },
     "execution_count": 21,
     "metadata": {},
     "output_type": "execute_result"
    }
   ],
   "source": [
    "#lettura dati csv\n",
    "C = CSV.read(\"programminglanguages.csv\");\n",
    "@show typeof(C)\n",
    "C[1:10,:]\n",
    "# nota, il : come colonna significa che non restringo per colonna"
   ]
  },
  {
   "cell_type": "code",
   "execution_count": 23,
   "metadata": {},
   "outputs": [
    {
     "data": {
      "text/plain": [
       "4-element Array{Int64,1}:\n",
       " 1951\n",
       " 1952\n",
       " 1954\n",
       " 1955"
      ]
     },
     "execution_count": 23,
     "metadata": {},
     "output_type": "execute_result"
    }
   ],
   "source": [
    "# essendo dataframe possiamo individuare colonne dal loro nome\n",
    "C[1:4,:year]"
   ]
  },
  {
   "cell_type": "code",
   "execution_count": 25,
   "metadata": {},
   "outputs": [
    {
     "data": {
      "text/plain": [
       "2-element Array{String,1}:\n",
       " \"year\"\n",
       " \"language\""
      ]
     },
     "execution_count": 25,
     "metadata": {},
     "output_type": "execute_result"
    }
   ],
   "source": [
    "#essendo tipo dataframe, possiamo prender nome colonne con names(df):\n",
    "names(C)"
   ]
  },
  {
   "cell_type": "code",
   "execution_count": 27,
   "metadata": {},
   "outputs": [
    {
     "data": {
      "text/html": [
       "<table class=\"data-frame\"><thead><tr><th></th><th>variable</th><th>mean</th><th>min</th><th>median</th><th>max</th><th>nunique</th><th>nmissing</th><th>eltype</th></tr><tr><th></th><th>Symbol</th><th>Union…</th><th>Any</th><th>Union…</th><th>Any</th><th>Union…</th><th>Nothing</th><th>DataType</th></tr></thead><tbody><p>2 rows × 8 columns</p><tr><th>1</th><td>year</td><td>1982.99</td><td>1951</td><td>1986.0</td><td>2014</td><td></td><td></td><td>Int64</td></tr><tr><th>2</th><td>language</td><td></td><td>ALGOL 58</td><td></td><td>dBase III</td><td>73</td><td></td><td>String</td></tr></tbody></table>"
      ],
      "text/latex": [
       "\\begin{tabular}{r|cccccccc}\n",
       "\t& variable & mean & min & median & max & nunique & nmissing & eltype\\\\\n",
       "\t\\hline\n",
       "\t& Symbol & Union… & Any & Union… & Any & Union… & Nothing & DataType\\\\\n",
       "\t\\hline\n",
       "\t1 & year & 1982.99 & 1951 & 1986.0 & 2014 &  &  & Int64 \\\\\n",
       "\t2 & language &  & ALGOL 58 &  & dBase III & 73 &  & String \\\\\n",
       "\\end{tabular}\n"
      ],
      "text/plain": [
       "2×8 DataFrame. Omitted printing of 2 columns\n",
       "│ Row │ variable │ mean    │ min      │ median │ max       │ nunique │\n",
       "│     │ \u001b[90mSymbol\u001b[39m   │ \u001b[90mUnion…\u001b[39m  │ \u001b[90mAny\u001b[39m      │ \u001b[90mUnion…\u001b[39m │ \u001b[90mAny\u001b[39m       │ \u001b[90mUnion…\u001b[39m  │\n",
       "├─────┼──────────┼─────────┼──────────┼────────┼───────────┼─────────┤\n",
       "│ 1   │ year     │ 1982.99 │ 1951     │ 1986.0 │ 2014      │         │\n",
       "│ 2   │ language │         │ ALGOL 58 │        │ dBase III │ 73      │"
      ]
     },
     "execution_count": 27,
     "metadata": {},
     "output_type": "execute_result"
    }
   ],
   "source": [
    "# possiamo anche usare describe per ottenere info generiche sul df\n",
    "describe(C)"
   ]
  },
  {
   "cell_type": "code",
   "execution_count": 36,
   "metadata": {},
   "outputs": [
    {
     "name": "stdout",
     "output_type": "stream",
     "text": [
      "  111.600 μs (322 allocations: 51.22 KiB)\n",
      "  124.200 μs (234 allocations: 22.36 KiB)\n"
     ]
    }
   ],
   "source": [
    "# vediamo diff prestaz csv/dlmfiles\n",
    "@btime P,H = readdlm(\"programming_languages.csv\",',';header=true);\n",
    "@btime C = CSV.read(\"programming_languages.csv\");"
   ]
  },
  {
   "cell_type": "code",
   "execution_count": 34,
   "metadata": {},
   "outputs": [
    {
     "data": {
      "text/plain": [
       "\"programminglanguages_CSV.csv\""
      ]
     },
     "execution_count": 34,
     "metadata": {},
     "output_type": "execute_result"
    }
   ],
   "source": [
    "# scrittura file con csv\n",
    "P,H = readdlm(\"programming_languages.csv\",',';header=true);\n",
    "CSV.write(\"programminglanguages_CSV.csv\",DataFrame(P)) #dataframe() converte iterable(in qsto caso matrice) in un dataframe\n",
    "# scrive file csv"
   ]
  },
  {
   "cell_type": "code",
   "execution_count": 37,
   "metadata": {},
   "outputs": [
    {
     "data": {
      "text/plain": [
       "Array{Any,2}"
      ]
     },
     "execution_count": 37,
     "metadata": {},
     "output_type": "execute_result"
    }
   ],
   "source": [
    "typeof(P)"
   ]
  },
  {
   "cell_type": "code",
   "execution_count": 45,
   "metadata": {},
   "outputs": [
    {
     "data": {
      "text/plain": [
       "\"zillow_data_download_april2020.xlsx\""
      ]
     },
     "execution_count": 45,
     "metadata": {},
     "output_type": "execute_result"
    }
   ],
   "source": [
    "## file excel xlsx\n",
    "file = download(\"https://github.com/JuliaAcademy/DataScience/blob/master/data/zillow_data_download_april2020.xlsx?raw=true\",\n",
    "    \"zillow_data_download_april2020.xlsx\")\n",
    "# nota raw=true: se il file è troppo grande git in genere non lo da tutto"
   ]
  },
  {
   "cell_type": "code",
   "execution_count": 47,
   "metadata": {},
   "outputs": [
    {
     "data": {
      "text/plain": [
       "9×6 Array{Any,2}:\n",
       "      \"RegionID\"  \"RegionName\"    …      \"2008-03\"      \"2008-04\"\n",
       "  6181            \"New York\"             missing        missing\n",
       " 12447            \"Los Angeles\"      1446           1705\n",
       " 39051            \"Houston\"          2926           3121\n",
       " 17426            \"Chicago\"          2910           3022\n",
       "  6915            \"San Antonio\"   …  1479           1529\n",
       " 13271            \"Philadelphia\"     1609           1795\n",
       " 40326            \"Phoenix\"          1310           1519\n",
       " 18959            \"Las Vegas\"        1618           1856"
      ]
     },
     "execution_count": 47,
     "metadata": {},
     "output_type": "execute_result"
    }
   ],
   "source": [
    "T = XLSX.readdata(\"zillow_data_download_april2020.xlsx\", #file name\n",
    "    \"Sale_counts_city\", #sheet name\n",
    "    \"A1:F9\" #cell range\n",
    "    )#dati su n° unità vendite real estate(case) per regione americana \n",
    "#NB: importante dare cell range o xlsx continua a cercare dati dispersi nel file excel"
   ]
  },
  {
   "cell_type": "code",
   "execution_count": 48,
   "metadata": {},
   "outputs": [
    {
     "data": {
      "text/plain": [
       "(Any[Any[6181, 12447, 39051, 17426, 6915, 13271, 40326, 18959, 54296, 38128  …  396952, 397236, 398030, 398104, 398357, 398712, 398716, 399081, 737789, 760882], Any[\"New York\", \"Los Angeles\", \"Houston\", \"Chicago\", \"San Antonio\", \"Philadelphia\", \"Phoenix\", \"Las Vegas\", \"San Diego\", \"Dallas\"  …  \"Barnard Plantation\", \"Windsor Place\", \"Stockbridge\", \"Mattamiscontis\", \"Chase Stream\", \"Bowdoin College Grant West\", \"Summerset\", \"Long Pond\", \"Hideout\", \"Ebeemee\"], Any[\"New York\", \"California\", \"Texas\", \"Illinois\", \"Texas\", \"Pennsylvania\", \"Arizona\", \"Nevada\", \"California\", \"Texas\"  …  \"Maine\", \"Missouri\", \"Wisconsin\", \"Maine\", \"Maine\", \"Maine\", \"South Dakota\", \"Maine\", \"Utah\", \"Maine\"], Any[1, 2, 3, 4, 5, 6, 7, 8, 9, 10  …  28750, 28751, 28752, 28753, 28754, 28755, 28756, 28757, 28758, 28759], Any[missing, 1446, 2926, 2910, 1479, 1609, 1310, 1618, 772, 1158  …  0, 0, 0, 0, 0, 0, 0, 0, 1, 0], Any[missing, 1705, 3121, 3022, 1529, 1795, 1519, 1856, 1057, 1232  …  0, 0, 0, 0, 0, 0, 0, 0, 0, 0], Any[missing, 1795, 3220, 2937, 1582, 1709, 1654, 1961, 1195, 1240  …  0, 0, 0, 0, 0, 0, 2, 0, 0, 0], Any[missing, 1890, 3405, 3224, 1761, 1914, 1743, 2022, 1115, 1236  …  0, 0, 0, 0, 0, 0, 0, 0, 0, 0], Any[missing, 2072, 3352, 3464, 1678, 1984, 1975, 2219, 1272, 1392  …  0, 0, 0, 0, 0, 1, 1, 0, 0, 0], Any[missing, 1876, 2962, 3371, 1468, 1739, 1809, 2248, 1171, 1138  …  0, 0, 0, 0, 0, 0, 0, 0, 0, 0]  …  Any[3473, 2651, 3894, 3702, 2384, 2682, 3898, 3284, 1542, 1407  …  0, 0, 0, 0, 0, 2, 3, 0, 0, 0], Any[3900, 2504, 3511, 3549, 2242, 2270, 3570, 3058, 1433, 1235  …  0, 0, 2, 0, 0, 2, 6, 0, 1, 0], Any[4493, 2675, 3687, 3622, 2300, 2479, 3616, 3235, 1529, 1423  …  0, 0, 0, 0, 0, 3, 10, 0, 1, 0], Any[4266, 2759, 3414, 3619, 2233, 2503, 3581, 3254, 1479, 1266  …  0, missing, 0, 0, 0, 3, 5, 0, 2, 0], Any[4183, 2334, 2803, 2938, 1788, 2184, 3199, 2821, 1307, 1143  …  0, missing, 0, 0, 1, 1, 4, 0, 1, 0], Any[4232, 2594, 2969, 2930, 1917, 2337, 3189, 3097, 1356, 1239  …  0, missing, 0, 0, 0, missing, 8, 0, 2, 0], Any[3869, 2272, 2699, 2176, 1520, 1931, 2867, 2702, 1179, 1117  …  0, missing, 0, 0, 0, missing, 8, 0, missing, 0], Any[3938, 2394, 3338, 2866, 1876, 2192, 2934, 2810, 1276, 1315  …  0, missing, 0, 0, 0, missing, 5, 0, missing, 0], Any[4306, 2006, 2407, 2240, 1460, 2381, 2226, 2512, 1020, 1056  …  0, missing, 0, 0, 0, missing, 1, 0, missing, 1], Any[4054, 1522, 2682, 2100, 1626, 1620, 2325, 2547, missing, 1292  …  missing, missing, missing, missing, missing, missing, 2, 0, missing, 0]], [:RegionID, :RegionName, :StateName, :SizeRank, Symbol(\"2008-03\"), Symbol(\"2008-04\"), Symbol(\"2008-05\"), Symbol(\"2008-06\"), Symbol(\"2008-07\"), Symbol(\"2008-08\")  …  Symbol(\"2019-05\"), Symbol(\"2019-06\"), Symbol(\"2019-07\"), Symbol(\"2019-08\"), Symbol(\"2019-09\"), Symbol(\"2019-10\"), Symbol(\"2019-11\"), Symbol(\"2019-12\"), Symbol(\"2020-01\"), Symbol(\"2020-02\")])"
      ]
     },
     "execution_count": 48,
     "metadata": {},
     "output_type": "execute_result"
    }
   ],
   "source": [
    "#altrimenti\n",
    "G = XLSX.readtable(\"zillow_data_download_april2020.xlsx\", #file name\n",
    "    \"Sale_counts_city\");\n",
    "#ritorna una orribile tupla2 contenente vettore di vettori \n",
    "#ognuno corrispondente a una colonna del file excel e un header coi nomi delle colonne\n",
    "#è anche lento\n",
    "typeof(G)"
   ]
  },
  {
   "cell_type": "code",
   "execution_count": 49,
   "metadata": {},
   "outputs": [
    {
     "data": {
      "text/plain": [
       "148-element Array{Any,1}:\n",
       " Any[6181, 12447, 39051, 17426, 6915, 13271, 40326, 18959, 54296, 38128  …  396952, 397236, 398030, 398104, 398357, 398712, 398716, 399081, 737789, 760882]\n",
       " Any[\"New York\", \"Los Angeles\", \"Houston\", \"Chicago\", \"San Antonio\", \"Philadelphia\", \"Phoenix\", \"Las Vegas\", \"San Diego\", \"Dallas\"  …  \"Barnard Plantation\", \"Windsor Place\", \"Stockbridge\", \"Mattamiscontis\", \"Chase Stream\", \"Bowdoin College Grant West\", \"Summerset\", \"Long Pond\", \"Hideout\", \"Ebeemee\"]\n",
       " Any[\"New York\", \"California\", \"Texas\", \"Illinois\", \"Texas\", \"Pennsylvania\", \"Arizona\", \"Nevada\", \"California\", \"Texas\"  …  \"Maine\", \"Missouri\", \"Wisconsin\", \"Maine\", \"Maine\", \"Maine\", \"South Dakota\", \"Maine\", \"Utah\", \"Maine\"]\n",
       " Any[1, 2, 3, 4, 5, 6, 7, 8, 9, 10  …  28750, 28751, 28752, 28753, 28754, 28755, 28756, 28757, 28758, 28759]\n",
       " Any[missing, 1446, 2926, 2910, 1479, 1609, 1310, 1618, 772, 1158  …  0, 0, 0, 0, 0, 0, 0, 0, 1, 0]\n",
       " Any[missing, 1705, 3121, 3022, 1529, 1795, 1519, 1856, 1057, 1232  …  0, 0, 0, 0, 0, 0, 0, 0, 0, 0]\n",
       " Any[missing, 1795, 3220, 2937, 1582, 1709, 1654, 1961, 1195, 1240  …  0, 0, 0, 0, 0, 0, 2, 0, 0, 0]\n",
       " Any[missing, 1890, 3405, 3224, 1761, 1914, 1743, 2022, 1115, 1236  …  0, 0, 0, 0, 0, 0, 0, 0, 0, 0]\n",
       " Any[missing, 2072, 3352, 3464, 1678, 1984, 1975, 2219, 1272, 1392  …  0, 0, 0, 0, 0, 1, 1, 0, 0, 0]\n",
       " Any[missing, 1876, 2962, 3371, 1468, 1739, 1809, 2248, 1171, 1138  …  0, 0, 0, 0, 0, 0, 0, 0, 0, 0]\n",
       " Any[missing, 1981, 2017, 2979, 1480, 1635, 1965, 2207, 1193, 1042  …  0, 0, 0, 0, 0, 0, 0, 0, 0, 0]\n",
       " Any[missing, 2195, 2595, 2869, 1475, 1598, 2074, 2372, 1319, 1089  …  0, 1, 0, 0, 0, 0, 0, 0, 0, 0]\n",
       " Any[missing, 1579, 1865, 1915, 949, 1169, 1435, 1880, 873, 772  …  0, 0, 0, 0, 1, 0, 0, 0, 0, 0]\n",
       " ⋮\n",
       " Any[3456, 2150, 3283, 2735, 1989, 1958, 3378, 2748, 1207, 1058  …  0, 1, 0, 1, 4, 0, 6, 0, 0, 0]\n",
       " Any[3652, 2537, 3620, 3197, 2137, 2177, 3728, 2959, 1384, 1221  …  0, 0, 0, 0, 0, 0, 4, 0, 0, 0]\n",
       " Any[3473, 2651, 3894, 3702, 2384, 2682, 3898, 3284, 1542, 1407  …  0, 0, 0, 0, 0, 2, 3, 0, 0, 0]\n",
       " Any[3900, 2504, 3511, 3549, 2242, 2270, 3570, 3058, 1433, 1235  …  0, 0, 2, 0, 0, 2, 6, 0, 1, 0]\n",
       " Any[4493, 2675, 3687, 3622, 2300, 2479, 3616, 3235, 1529, 1423  …  0, 0, 0, 0, 0, 3, 10, 0, 1, 0]\n",
       " Any[4266, 2759, 3414, 3619, 2233, 2503, 3581, 3254, 1479, 1266  …  0, missing, 0, 0, 0, 3, 5, 0, 2, 0]\n",
       " Any[4183, 2334, 2803, 2938, 1788, 2184, 3199, 2821, 1307, 1143  …  0, missing, 0, 0, 1, 1, 4, 0, 1, 0]\n",
       " Any[4232, 2594, 2969, 2930, 1917, 2337, 3189, 3097, 1356, 1239  …  0, missing, 0, 0, 0, missing, 8, 0, 2, 0]\n",
       " Any[3869, 2272, 2699, 2176, 1520, 1931, 2867, 2702, 1179, 1117  …  0, missing, 0, 0, 0, missing, 8, 0, missing, 0]\n",
       " Any[3938, 2394, 3338, 2866, 1876, 2192, 2934, 2810, 1276, 1315  …  0, missing, 0, 0, 0, missing, 5, 0, missing, 0]\n",
       " Any[4306, 2006, 2407, 2240, 1460, 2381, 2226, 2512, 1020, 1056  …  0, missing, 0, 0, 0, missing, 1, 0, missing, 1]\n",
       " Any[4054, 1522, 2682, 2100, 1626, 1620, 2325, 2547, missing, 1292  …  missing, missing, missing, missing, missing, missing, 2, 0, missing, 0]"
      ]
     },
     "execution_count": 49,
     "metadata": {},
     "output_type": "execute_result"
    }
   ],
   "source": [
    "G[1]#"
   ]
  },
  {
   "cell_type": "code",
   "execution_count": 50,
   "metadata": {},
   "outputs": [
    {
     "data": {
      "text/plain": [
       "148-element Array{Symbol,1}:\n",
       " :RegionID\n",
       " :RegionName\n",
       " :StateName\n",
       " :SizeRank\n",
       " Symbol(\"2008-03\")\n",
       " Symbol(\"2008-04\")\n",
       " Symbol(\"2008-05\")\n",
       " Symbol(\"2008-06\")\n",
       " Symbol(\"2008-07\")\n",
       " Symbol(\"2008-08\")\n",
       " Symbol(\"2008-09\")\n",
       " Symbol(\"2008-10\")\n",
       " Symbol(\"2008-11\")\n",
       " ⋮\n",
       " Symbol(\"2019-03\")\n",
       " Symbol(\"2019-04\")\n",
       " Symbol(\"2019-05\")\n",
       " Symbol(\"2019-06\")\n",
       " Symbol(\"2019-07\")\n",
       " Symbol(\"2019-08\")\n",
       " Symbol(\"2019-09\")\n",
       " Symbol(\"2019-10\")\n",
       " Symbol(\"2019-11\")\n",
       " Symbol(\"2019-12\")\n",
       " Symbol(\"2020-01\")\n",
       " Symbol(\"2020-02\")"
      ]
     },
     "execution_count": 50,
     "metadata": {},
     "output_type": "execute_result"
    }
   ],
   "source": [
    "G[2]"
   ]
  },
  {
   "cell_type": "code",
   "execution_count": 53,
   "metadata": {},
   "outputs": [
    {
     "name": "stdout",
     "output_type": "stream",
     "text": [
      "colonna RegionName\n"
     ]
    },
    {
     "data": {
      "text/plain": [
       "10-element Array{Any,1}:\n",
       " \"New York\"\n",
       " \"Los Angeles\"\n",
       " \"Houston\"\n",
       " \"Chicago\"\n",
       " \"San Antonio\"\n",
       " \"Philadelphia\"\n",
       " \"Phoenix\"\n",
       " \"Las Vegas\"\n",
       " \"San Diego\"\n",
       " \"Dallas\""
      ]
     },
     "execution_count": 53,
     "metadata": {},
     "output_type": "execute_result"
    }
   ],
   "source": [
    "# per accedere a un pezzo di colonna\n",
    "println(\"colonna $(G[2][2])\")\n",
    "G[1][2][1:10]\n",
    "#G[1] indica che andiamo sui dati, il secondo [1] indica la colonna, [1:10] è per ritornare solo parte di essa"
   ]
  },
  {
   "cell_type": "code",
   "execution_count": 58,
   "metadata": {},
   "outputs": [
    {
     "data": {
      "text/html": [
       "<table class=\"data-frame\"><thead><tr><th></th><th>RegionID</th><th>RegionName</th><th>StateName</th><th>SizeRank</th><th>2008-03</th><th>2008-04</th><th>2008-05</th><th>2008-06</th></tr><tr><th></th><th>Any</th><th>Any</th><th>Any</th><th>Any</th><th>Any</th><th>Any</th><th>Any</th><th>Any</th></tr></thead><tbody><p>10 rows × 148 columns (omitted printing of 140 columns)</p><tr><th>1</th><td>6181</td><td>New York</td><td>New York</td><td>1</td><td><em>missing</em></td><td><em>missing</em></td><td><em>missing</em></td><td><em>missing</em></td></tr><tr><th>2</th><td>12447</td><td>Los Angeles</td><td>California</td><td>2</td><td>1446</td><td>1705</td><td>1795</td><td>1890</td></tr><tr><th>3</th><td>39051</td><td>Houston</td><td>Texas</td><td>3</td><td>2926</td><td>3121</td><td>3220</td><td>3405</td></tr><tr><th>4</th><td>17426</td><td>Chicago</td><td>Illinois</td><td>4</td><td>2910</td><td>3022</td><td>2937</td><td>3224</td></tr><tr><th>5</th><td>6915</td><td>San Antonio</td><td>Texas</td><td>5</td><td>1479</td><td>1529</td><td>1582</td><td>1761</td></tr><tr><th>6</th><td>13271</td><td>Philadelphia</td><td>Pennsylvania</td><td>6</td><td>1609</td><td>1795</td><td>1709</td><td>1914</td></tr><tr><th>7</th><td>40326</td><td>Phoenix</td><td>Arizona</td><td>7</td><td>1310</td><td>1519</td><td>1654</td><td>1743</td></tr><tr><th>8</th><td>18959</td><td>Las Vegas</td><td>Nevada</td><td>8</td><td>1618</td><td>1856</td><td>1961</td><td>2022</td></tr><tr><th>9</th><td>54296</td><td>San Diego</td><td>California</td><td>9</td><td>772</td><td>1057</td><td>1195</td><td>1115</td></tr><tr><th>10</th><td>38128</td><td>Dallas</td><td>Texas</td><td>10</td><td>1158</td><td>1232</td><td>1240</td><td>1236</td></tr></tbody></table>"
      ],
      "text/latex": [
       "\\begin{tabular}{r|ccccccccc}\n",
       "\t& RegionID & RegionName & StateName & SizeRank & 2008-03 & 2008-04 & 2008-05 & 2008-06 & \\\\\n",
       "\t\\hline\n",
       "\t& Any & Any & Any & Any & Any & Any & Any & Any & \\\\\n",
       "\t\\hline\n",
       "\t1 & 6181 & New York & New York & 1 & \\emph{missing} & \\emph{missing} & \\emph{missing} & \\emph{missing} & $\\dots$ \\\\\n",
       "\t2 & 12447 & Los Angeles & California & 2 & 1446 & 1705 & 1795 & 1890 & $\\dots$ \\\\\n",
       "\t3 & 39051 & Houston & Texas & 3 & 2926 & 3121 & 3220 & 3405 & $\\dots$ \\\\\n",
       "\t4 & 17426 & Chicago & Illinois & 4 & 2910 & 3022 & 2937 & 3224 & $\\dots$ \\\\\n",
       "\t5 & 6915 & San Antonio & Texas & 5 & 1479 & 1529 & 1582 & 1761 & $\\dots$ \\\\\n",
       "\t6 & 13271 & Philadelphia & Pennsylvania & 6 & 1609 & 1795 & 1709 & 1914 & $\\dots$ \\\\\n",
       "\t7 & 40326 & Phoenix & Arizona & 7 & 1310 & 1519 & 1654 & 1743 & $\\dots$ \\\\\n",
       "\t8 & 18959 & Las Vegas & Nevada & 8 & 1618 & 1856 & 1961 & 2022 & $\\dots$ \\\\\n",
       "\t9 & 54296 & San Diego & California & 9 & 772 & 1057 & 1195 & 1115 & $\\dots$ \\\\\n",
       "\t10 & 38128 & Dallas & Texas & 10 & 1158 & 1232 & 1240 & 1236 & $\\dots$ \\\\\n",
       "\\end{tabular}\n"
      ],
      "text/plain": [
       "10×148 DataFrame. Omitted printing of 142 columns\n",
       "│ Row │ RegionID │ RegionName   │ StateName    │ SizeRank │ 2008-03 │ 2008-04 │\n",
       "│     │ \u001b[90mAny\u001b[39m      │ \u001b[90mAny\u001b[39m          │ \u001b[90mAny\u001b[39m          │ \u001b[90mAny\u001b[39m      │ \u001b[90mAny\u001b[39m     │ \u001b[90mAny\u001b[39m     │\n",
       "├─────┼──────────┼──────────────┼──────────────┼──────────┼─────────┼─────────┤\n",
       "│ 1   │ 6181     │ New York     │ New York     │ 1        │ \u001b[90mmissing\u001b[39m │ \u001b[90mmissing\u001b[39m │\n",
       "│ 2   │ 12447    │ Los Angeles  │ California   │ 2        │ 1446    │ 1705    │\n",
       "│ 3   │ 39051    │ Houston      │ Texas        │ 3        │ 2926    │ 3121    │\n",
       "│ 4   │ 17426    │ Chicago      │ Illinois     │ 4        │ 2910    │ 3022    │\n",
       "│ 5   │ 6915     │ San Antonio  │ Texas        │ 5        │ 1479    │ 1529    │\n",
       "│ 6   │ 13271    │ Philadelphia │ Pennsylvania │ 6        │ 1609    │ 1795    │\n",
       "│ 7   │ 40326    │ Phoenix      │ Arizona      │ 7        │ 1310    │ 1519    │\n",
       "│ 8   │ 18959    │ Las Vegas    │ Nevada       │ 8        │ 1618    │ 1856    │\n",
       "│ 9   │ 54296    │ San Diego    │ California   │ 9        │ 772     │ 1057    │\n",
       "│ 10  │ 38128    │ Dallas       │ Texas        │ 10       │ 1158    │ 1232    │"
      ]
     },
     "execution_count": 58,
     "metadata": {},
     "output_type": "execute_result"
    }
   ],
   "source": [
    "#trasform in datafram \n",
    "Df = DataFrame(G[1],G[2]);\n",
    "#passiamo (dati,nomi colonne)\n",
    "Df[1:10,:]\n",
    "# possiamo usare ... per unwrappare G[1] e G[2] dalla tupla, G... ritorna G[1], G[2] \n"
   ]
  },
  {
   "cell_type": "code",
   "execution_count": 59,
   "metadata": {},
   "outputs": [
    {
     "data": {
      "text/html": [
       "<table class=\"data-frame\"><thead><tr><th></th><th>item</th><th>price</th></tr><tr><th></th><th>String</th><th>Float64</th></tr></thead><tbody><p>4 rows × 2 columns</p><tr><th>1</th><td>apple</td><td>0.85</td></tr><tr><th>2</th><td>cucumber</td><td>1.6</td></tr><tr><th>3</th><td>tomato</td><td>0.8</td></tr><tr><th>4</th><td>banana</td><td>0.6</td></tr></tbody></table>"
      ],
      "text/latex": [
       "\\begin{tabular}{r|cc}\n",
       "\t& item & price\\\\\n",
       "\t\\hline\n",
       "\t& String & Float64\\\\\n",
       "\t\\hline\n",
       "\t1 & apple & 0.85 \\\\\n",
       "\t2 & cucumber & 1.6 \\\\\n",
       "\t3 & tomato & 0.8 \\\\\n",
       "\t4 & banana & 0.6 \\\\\n",
       "\\end{tabular}\n"
      ],
      "text/plain": [
       "4×2 DataFrame\n",
       "│ Row │ item     │ price   │\n",
       "│     │ \u001b[90mString\u001b[39m   │ \u001b[90mFloat64\u001b[39m │\n",
       "├─────┼──────────┼─────────┤\n",
       "│ 1   │ apple    │ 0.85    │\n",
       "│ 2   │ cucumber │ 1.6     │\n",
       "│ 3   │ tomato   │ 0.8     │\n",
       "│ 4   │ banana   │ 0.6     │"
      ]
     },
     "execution_count": 59,
     "metadata": {},
     "output_type": "execute_result"
    }
   ],
   "source": [
    "#vediamo creare df da 0\n",
    "foods = [\"apple\", \"cucumber\", \"tomato\", \"banana\"]\n",
    "calories = [105,47,22,105]\n",
    "prices = [0.85,1.6,0.8,0.6,]\n",
    "dataframe_calories = DataFrame(item=foods,calories=calories)\n",
    "dataframe_prices = DataFrame(item=foods,price=prices)"
   ]
  },
  {
   "cell_type": "code",
   "execution_count": null,
   "metadata": {},
   "outputs": [],
   "source": [
    "# 3 tipi di struct per storare dati: dataframe, matrici, dict"
   ]
  },
  {
   "cell_type": "code",
   "execution_count": 60,
   "metadata": {},
   "outputs": [
    {
     "data": {
      "text/plain": [
       "73×2 Array{Any,2}:\n",
       " 1951  \"Regional Assembly Language\"\n",
       " 1952  \"Autocode\"\n",
       " 1954  \"IPL\"\n",
       " 1955  \"FLOW-MATIC\"\n",
       " 1957  \"FORTRAN\"\n",
       " 1957  \"COMTRAN\"\n",
       " 1958  \"LISP\"\n",
       " 1958  \"ALGOL 58\"\n",
       " 1959  \"FACT\"\n",
       " 1959  \"COBOL\"\n",
       " 1959  \"RPG\"\n",
       " 1962  \"APL\"\n",
       " 1962  \"Simula\"\n",
       "    ⋮  \n",
       " 2003  \"Scala\"\n",
       " 2005  \"F#\"\n",
       " 2006  \"PowerShell\"\n",
       " 2007  \"Clojure\"\n",
       " 2009  \"Go\"\n",
       " 2010  \"Rust\"\n",
       " 2011  \"Dart\"\n",
       " 2011  \"Kotlin\"\n",
       " 2011  \"Red\"\n",
       " 2011  \"Elixir\"\n",
       " 2012  \"Julia\"\n",
       " 2014  \"Swift\""
      ]
     },
     "execution_count": 60,
     "metadata": {},
     "output_type": "execute_result"
    }
   ],
   "source": []
  },
  {
   "cell_type": "code",
   "execution_count": 64,
   "metadata": {},
   "outputs": [
    {
     "data": {
      "text/plain": [
       "2012"
      ]
     },
     "execution_count": 64,
     "metadata": {},
     "output_type": "execute_result"
    }
   ],
   "source": [
    "# Q1: Which year was was a given language invented?\n",
    "function year_created(P,language::String)\n",
    "    loc = findfirst(P[:,2] .== language)\n",
    "    res = 0\n",
    "    try \n",
    "        res =  P[loc,1]\n",
    "        catch e\n",
    "        println(\"errore: $e\")\n",
    "    end\n",
    "    return res\n",
    "end\n",
    "year_created(P,\"Julia\")"
   ]
  },
  {
   "cell_type": "code",
   "execution_count": 65,
   "metadata": {},
   "outputs": [
    {
     "name": "stdout",
     "output_type": "stream",
     "text": [
      "errore: ArgumentError(\"invalid index: nothing of type Nothing\")\n"
     ]
    },
    {
     "data": {
      "text/plain": [
       "0"
      ]
     },
     "execution_count": 65,
     "metadata": {},
     "output_type": "execute_result"
    }
   ],
   "source": [
    "year_created(P,\"W\")"
   ]
  },
  {
   "cell_type": "code",
   "execution_count": 66,
   "metadata": {},
   "outputs": [
    {
     "data": {
      "text/plain": [
       "4"
      ]
     },
     "execution_count": 66,
     "metadata": {},
     "output_type": "execute_result"
    }
   ],
   "source": [
    "#findall riucerca per condizione, ritorna struct di lunghezza== numero di risultati\n",
    "function how_many_per_year(P,year::Int64)\n",
    "    year_count = length(findall(P[:,1].==year))\n",
    "    return year_count\n",
    "end\n",
    "how_many_per_year(P,2011)"
   ]
  },
  {
   "cell_type": "code",
   "execution_count": 69,
   "metadata": {},
   "outputs": [
    {
     "data": {
      "text/plain": [
       "0"
      ]
     },
     "execution_count": 69,
     "metadata": {},
     "output_type": "execute_result"
    }
   ],
   "source": [
    "how_many_per_year(P,1460)"
   ]
  },
  {
   "cell_type": "code",
   "execution_count": 74,
   "metadata": {},
   "outputs": [
    {
     "data": {
      "text/plain": [
       "Dict{Integer,Array{String,1}}()"
      ]
     },
     "execution_count": 74,
     "metadata": {},
     "output_type": "execute_result"
    }
   ],
   "source": [
    "P_df = C\n",
    "P_dictionary = Dict{Integer,Vector{String}}()"
   ]
  },
  {
   "cell_type": "code",
   "execution_count": 75,
   "metadata": {},
   "outputs": [],
   "source": [
    "# Though a smarter way to do this is:\n",
    "curyear = P_df.year[1]\n",
    "P_dictionary[curyear] = [P_df.language[1]]\n",
    "for (i,nextyear) in enumerate(P_df.year[2:end])\n",
    "    # non possiamo creare coppia key,value un ciclo e creare coppia key,altravalue l'altro giro, dobbiamo sapere quindi\n",
    "    # quando stiamo trattando una data non ancora trattata(eg non ha ancora alcuna coppiua key,val)\n",
    "    #poichè sappiamo che anni(key) in input sono ordinati, invece di ricercare key su cui stiamo ciclando tra tutte le key, ci\n",
    "    # basta controllare la scorsa chiave\n",
    "    if nextyear == curyear\n",
    "        #same key\n",
    "        P_dictionary[curyear] = push!(P_dictionary[curyear],P_df.language[i+1])\n",
    "        # note that push! is not our favorite thing do in Julia, \n",
    "        # but we're focusing on correctness rather than speed here\n",
    "    else\n",
    "        curyear = nextyear\n",
    "        P_dictionary[curyear] = [P_df.language[i+1]]\n",
    "    end\n",
    "end"
   ]
  },
  {
   "cell_type": "code",
   "execution_count": 79,
   "metadata": {},
   "outputs": [
    {
     "data": {
      "text/plain": [
       "Base.KeySet for a Dict{Integer,Array{String,1}} with 45 entries. Keys:\n",
       "  1991\n",
       "  1993\n",
       "  2005\n",
       "  2010\n",
       "  1983\n",
       "  1957\n",
       "  1987\n",
       "  2007\n",
       "  1989\n",
       "  1969\n",
       "  1952\n",
       "  1963\n",
       "  2003\n",
       "  1958\n",
       "  2014\n",
       "  1951\n",
       "  1997\n",
       "  2000\n",
       "  1967\n",
       "  1985\n",
       "  1968\n",
       "  1955\n",
       "  1984\n",
       "  2009\n",
       "  1966\n",
       "  ⋮"
      ]
     },
     "execution_count": 79,
     "metadata": {},
     "output_type": "execute_result"
    }
   ],
   "source": [
    "keys(P_dictionary)"
   ]
  },
  {
   "cell_type": "code",
   "execution_count": null,
   "metadata": {},
   "outputs": [],
   "source": [
    "# NB su dataframe organizzati verso l'uso:\n",
    "# nel primo df cercare data realizzaz di un linguaggio era op singola di scorrimento sulle 73 coppie del'array\n",
    "# in questo df la ricerca consiste nello scorrere le 45 liste di linguaggi (una per ogni anno unico)\n",
    "# in compenso, cercare il numero di linguaggi creati in un anno nel primo df richiede scorrere tutto il df, mentre nel\n",
    "# secondo basta un op singola del tipo length(P_dictionary[anno])"
   ]
  }
 ],
 "metadata": {
  "kernelspec": {
   "display_name": "Julia 1.5.1",
   "language": "julia",
   "name": "julia-1.5"
  },
  "language_info": {
   "file_extension": ".jl",
   "mimetype": "application/julia",
   "name": "julia",
   "version": "1.5.1"
  }
 },
 "nbformat": 4,
 "nbformat_minor": 4
}
