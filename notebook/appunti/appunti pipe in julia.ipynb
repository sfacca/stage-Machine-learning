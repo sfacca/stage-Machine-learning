{
 "cells": [
  {
   "cell_type": "markdown",
   "metadata": {},
   "source": [
    "+ https://docs.julialang.org/en/v1/base/base/#Base.:|%3E"
   ]
  },
  {
   "cell_type": "code",
   "execution_count": 12,
   "metadata": {},
   "outputs": [
    {
     "data": {
      "text/plain": [
       "CtoA (generic function with 1 method)"
      ]
     },
     "execution_count": 12,
     "metadata": {},
     "output_type": "execute_result"
    }
   ],
   "source": [
    "# |> serve ad applicare il risultato di una funzione ad un altra funzione\n",
    "# proviamolo su 3 funzioni:\n",
    "mutable struct A\n",
    "    a::Int64\n",
    "end\n",
    "mutable struct B\n",
    "    b::Int64\n",
    "end\n",
    "mutable struct C\n",
    "    c::Int64\n",
    "end\n",
    "\n",
    "function AtoB(a::A)\n",
    "    b = B(a.a)\n",
    "end\n",
    "\n",
    "function BtoC(b::B)\n",
    "    c = C(b.b)\n",
    "end\n",
    "\n",
    "function CtoA(c::C)\n",
    "    a = A(c.c)\n",
    "end\n"
   ]
  },
  {
   "cell_type": "code",
   "execution_count": 13,
   "metadata": {},
   "outputs": [
    {
     "data": {
      "text/plain": [
       "describeC (generic function with 1 method)"
      ]
     },
     "execution_count": 13,
     "metadata": {},
     "output_type": "execute_result"
    }
   ],
   "source": [
    "function describeC(c::C)\n",
    "    println(c.c)\n",
    "end"
   ]
  },
  {
   "cell_type": "code",
   "execution_count": 14,
   "metadata": {},
   "outputs": [
    {
     "data": {
      "text/plain": [
       "A"
      ]
     },
     "execution_count": 14,
     "metadata": {},
     "output_type": "execute_result"
    }
   ],
   "source": [
    "myA = A(12)\n",
    "typeof(myA)"
   ]
  },
  {
   "cell_type": "code",
   "execution_count": 20,
   "metadata": {},
   "outputs": [
    {
     "ename": "LoadError",
     "evalue": "MethodError: no method matching describeC(::A)\nClosest candidates are:\n  describeC(!Matched::C) at In[13]:1",
     "output_type": "error",
     "traceback": [
      "MethodError: no method matching describeC(::A)\nClosest candidates are:\n  describeC(!Matched::C) at In[13]:1",
      "",
      "Stacktrace:",
      " [1] top-level scope at In[20]:2",
      " [2] include_string(::Function, ::Module, ::String, ::String) at .\\loading.jl:1091"
     ]
    }
   ],
   "source": [
    "#vogliamo prendere A e descriverlo con describeC ma describeC prende solo C!\n",
    "describeC(myA)"
   ]
  },
  {
   "cell_type": "code",
   "execution_count": 21,
   "metadata": {},
   "outputs": [
    {
     "name": "stdout",
     "output_type": "stream",
     "text": [
      "12\n"
     ]
    }
   ],
   "source": [
    "#con pipe, eseguiamo tutte le conversioni e diamolo a describeC in una linea:\n",
    "myA |> AtoB |> BtoC |> describeC"
   ]
  },
  {
   "cell_type": "code",
   "execution_count": null,
   "metadata": {},
   "outputs": [],
   "source": [
    "#funziona"
   ]
  }
 ],
 "metadata": {
  "kernelspec": {
   "display_name": "Julia 1.5.1",
   "language": "julia",
   "name": "julia-1.5"
  },
  "language_info": {
   "file_extension": ".jl",
   "mimetype": "application/julia",
   "name": "julia",
   "version": "1.5.1"
  }
 },
 "nbformat": 4,
 "nbformat_minor": 4
}
