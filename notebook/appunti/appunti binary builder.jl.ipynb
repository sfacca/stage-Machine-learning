{
 "cells": [
  {
   "cell_type": "markdown",
   "metadata": {},
   "source": [
    "+ https://juliapackaging.github.io/BinaryBuilder.jl/dev/"
   ]
  },
  {
   "cell_type": "markdown",
   "metadata": {},
   "source": [
    "## flow usuale:\n",
    "1. compila codice C creando libreria  \n",
    "2. apri libreria con Libdl.dlopen()\n",
    "3. usa ccall() per chiamare la libreria aperta\n",
    "\n",
    "binary buyilder aiuta nel creare un wrapper julia che aiuta in installazione/controllo versione  \n",
    "binary buillder aiuta a costruire versioni compilate delle dipendenze"
   ]
  },
  {
   "cell_type": "markdown",
   "metadata": {},
   "source": [
    "### flow binary builder\n",
    "1. crea ricetta, in genere chiamata build_tarballs.jl, contenente:\n",
    " * info su nome, versioni, source delle versioni per una build particolare\n",
    " * bash script descrivente step e prodotti che la build dovrebbe generare\n",
    "2. build dovrebbe generare pacchetto jll\n",
    "\n",
    "per generare ricetta si può o scaricare tarball da yggdrasil o usare il qizard di binarybuilder"
   ]
  },
  {
   "cell_type": "code",
   "execution_count": null,
   "metadata": {},
   "outputs": [],
   "source": []
  }
 ],
 "metadata": {
  "kernelspec": {
   "display_name": "Python 3",
   "language": "python",
   "name": "python3"
  },
  "language_info": {
   "codemirror_mode": {
    "name": "ipython",
    "version": 3
   },
   "file_extension": ".py",
   "mimetype": "text/x-python",
   "name": "python",
   "nbconvert_exporter": "python",
   "pygments_lexer": "ipython3",
   "version": "3.8.3"
  }
 },
 "nbformat": 4,
 "nbformat_minor": 4
}
