{
 "cells": [
  {
   "cell_type": "code",
   "execution_count": 7,
   "metadata": {},
   "outputs": [],
   "source": [
    "### definizione struct lista\n",
    "### una lista è una struttura ordinata composta da coppie value/next \n",
    "### dove next è puntatore all' elemento prossimo nell ordine e \n",
    "### value è il dato che effettivamente vogliamo salvare\n",
    "\n",
    "\n",
    "\n",
    "\n",
    "mutable struct lnode\n",
    "    value::Any\n",
    "    next::Union{lnode,Nothing}\n",
    "    lnode(v) = (x = new(); x.next = x; x.value = v; x)\n",
    "    lnode(v::Any,next::lnode) = (x = new(); x.next = next; x.value = v; x)\n",
    "end\n",
    "# per lista dopiam collegata basta aggiungere un campo parent::lnode \n",
    "\n",
    "mutable struct List\n",
    "    first::lnode\n",
    "    last::lnode\n",
    "    List(nodo::lnode) = List(nodo,nodo)\n",
    "    List(first::lnode, last::lnode) = (x = new(); x.first = first; x.last=last; x)\n",
    "end\n",
    "# a seconda dell uso può esser utile aggiungere campi come length e puntatore a ultimo elemento\n",
    "# il vantaggio è che è una struttura ordinata nella quale ogni allocazione di nuovi dati impiega tempo costante \n",
    "# (mentre, ad esempio, se devi aggiungere un elemento a un array pieno devi reallocarti tutto l'array allocandogli più spazio)\n"
   ]
  },
  {
   "cell_type": "code",
   "execution_count": 10,
   "metadata": {},
   "outputs": [
    {
     "data": {
      "text/plain": [
       "dumpvalues (generic function with 1 method)"
      ]
     },
     "execution_count": 10,
     "metadata": {},
     "output_type": "execute_result"
    }
   ],
   "source": [
    "\n",
    "function lpush!(list::List, value::Any)\n",
    "    newnode = lnode(value, list.first) # crea nodo nuovo\n",
    "    list.last.next = newnode # convenzione: ultimo elemento punta a primo elemento\n",
    "    list.first = newnode # lo aggiounge in testa alla lista\n",
    "end\n",
    "\n",
    "function lappend!(list::List, value::Any)\n",
    "    newnode = lnode(value, list.first)# convenzione: ultimo elemento punta a primo elemento)\n",
    "    list.last.next= newnode# aggiorna puntatore next dell ultimo elemento, effettivamente aggiungendo nuovo elemento alla lista\n",
    "    list.last = newnode #segnala a lista che il nostro nuovo nono è ultimo elemento\n",
    "end\n",
    "\n",
    "function lget(list::List, index::Int64)\n",
    "        #mancano check su index, list tipo index =0 o list = null etc\n",
    "    res = list.first\n",
    "    i=0\n",
    "    \n",
    "    while i<index&&res.next!=list.first\n",
    "        res = res.next\n",
    "        global i = i + 1\n",
    "    end\n",
    "    if i!=index\n",
    "        error(\"indice invalido\")\n",
    "    end\n",
    "    res\n",
    "end\n",
    "\n",
    "function lget(list::List, value::Any)\n",
    "    temp = list.first # parte dal primo\n",
    "    continua = true\n",
    "    found = false\n",
    "    while continua==true #stati di fine ciclo: abbiamo trovato il valore, abbiamo finito la lista\n",
    "        if temp.value==value\n",
    "                global continua = false\n",
    "                global found = true #  unico modo per avere esito positivo: \n",
    "        elseif temp.next == list.first\n",
    "                global continua = false\n",
    "        else\n",
    "                global temp = temp.next\n",
    "        end\n",
    "    end\n",
    "    #=if !trovato\n",
    "            error(\"valore non trovato\")\n",
    "        end=#\n",
    "    temp\n",
    "end  \n",
    "\n",
    "function dumpvalues(list::List)\n",
    "    tempnode = list.first\n",
    "    while (tempnode.next != list.first)\n",
    "        println(tempnode.value)\n",
    "        tempnode = tempnode.next\n",
    "    end\n",
    "    println(tempnode.value)\n",
    "end\n",
    "        \n",
    "# NB: se la lista è lista di int lget(lista,numero) usa lget sull indice invece il lget su valore\n",
    "\n",
    "\n",
    "# non so come o se è possibile mettere un null al posto di qualcos altro di tipo definito in julia, quindi per convenzione\n",
    "# ultimo elemento lista punta a primo elemento lista (lista circolare)"
   ]
  },
  {
   "cell_type": "code",
   "execution_count": 12,
   "metadata": {},
   "outputs": [
    {
     "name": "stdout",
     "output_type": "stream",
     "text": [
      "myl = List(lnode(\"secondo!\", lnode(#= circular reference @-1 =#)), lnode(\"secondo!\", lnode(#= circular reference @-1 =#)))\n",
      "myl = List(lnode(\"secondo!\", lnode(\"terzo!\", lnode(#= circular reference @-2 =#))), lnode(\"terzo!\", lnode(\"secondo!\", lnode(#= circular reference @-2 =#))))\n",
      "myl = List(lnode(\"primo!\", lnode(\"secondo!\", lnode(\"terzo!\", lnode(#= circular reference @-3 =#)))), lnode(\"terzo!\", lnode(\"primo!\", lnode(\"secondo!\", lnode(#= circular reference @-3 =#)))))\n",
      "primo!\n",
      "secondo!\n",
      "terzo!\n"
     ]
    }
   ],
   "source": [
    "\n",
    "\n",
    "function tryme()\n",
    "    mynode::lnode=lnode(\"secondo!\")\n",
    "    myl::List = List(mynode)\n",
    "    @show myl\n",
    "    # aggiungiamo un nodo con valore terzo! alla fine della lista\n",
    "    lappend!(myl, \"terzo!\")\n",
    "    @show myl\n",
    "    #aggiungiamo nodo primo! all inizio della lista\n",
    "    lpush!(myl, \"primo!\")\n",
    "    @show myl\n",
    "    mynode = myl.first\n",
    "    dumpvalues(myl)\n",
    "        \n",
    "end\n",
    "tryme()\n"
   ]
  },
  {
   "cell_type": "code",
   "execution_count": null,
   "metadata": {},
   "outputs": [],
   "source": [
    "mynode = lnode(\"ciao\")\n",
    "mynode"
   ]
  },
  {
   "cell_type": "code",
   "execution_count": null,
   "metadata": {},
   "outputs": [],
   "source": []
  }
 ],
 "metadata": {
  "kernelspec": {
   "display_name": "Julia 1.5.1",
   "language": "julia",
   "name": "julia-1.5"
  },
  "language_info": {
   "file_extension": ".jl",
   "mimetype": "application/julia",
   "name": "julia",
   "version": "1.5.1"
  }
 },
 "nbformat": 4,
 "nbformat_minor": 4
}
