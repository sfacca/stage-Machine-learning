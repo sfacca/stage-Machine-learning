{
 "cells": [
  {
   "cell_type": "markdown",
   "metadata": {},
   "source": [
    "+ https://juliapackaging.github.io/BinaryBuilder.jl/dev/  \n",
    "+ https://www.youtube.com/watch?v=3IyXsBwqll8"
   ]
  },
  {
   "cell_type": "markdown",
   "metadata": {},
   "source": [
    "## flow usuale:\n",
    "1. compila codice C creando libreria  \n",
    "2. apri libreria con Libdl.dlopen()\n",
    "3. usa ccall() per chiamare la libreria aperta\n",
    "\n",
    "binary buyilder aiuta nel creare un wrapper julia che aiuta in installazione/controllo versione  \n",
    "binary buillder aiuta a costruire versioni compilate delle dipendenze\n",
    "\n",
    "### flow binary builder\n",
    "1. crea ricetta, in genere chiamata build_tarballs.jl, contenente:\n",
    " * info su nome, versioni, source delle versioni per una build particolare\n",
    " * bash script descrivente step e prodotti che la build dovrebbe generare\n",
    "2. build dovrebbe generare pacchetto jll\n",
    "\n",
    "per generare ricetta si può o scaricare tarball da yggdrasil o usare il qizard di binarybuilder\n",
    "\n"
   ]
  },
  {
   "cell_type": "markdown",
   "metadata": {},
   "source": [
    "bb gira su un linux modificato con cross compilers  \n",
    "genera un output per ogni combinazione di OS/architettura/lib runtime per incompatibilità  \n",
    "\n"
   ]
  },
  {
   "cell_type": "code",
   "execution_count": 1,
   "metadata": {},
   "outputs": [],
   "source": [
    "using BinaryBuilder"
   ]
  },
  {
   "cell_type": "code",
   "execution_count": 2,
   "metadata": {},
   "outputs": [
    {
     "name": "stderr",
     "output_type": "stream",
     "text": [
      "ERROR: could not open file C:\\Users\\i am\\Documents\\GitHub\\stage-Machine-learning\\notebook\\appunti\\build_tarballs.jl\n",
      "Stacktrace:\n",
      " [1] include(::Function, ::Module, ::String) at .\\Base.jl:380\n",
      " [2] include(::Module, ::String) at .\\Base.jl:368\n",
      " [3] exec_options(::Base.JLOptions) at .\\client.jl:296\n",
      " [4] _start() at .\\client.jl:506\n"
     ]
    }
   ],
   "source": [
    ";julia build_tarballs.jl --help"
   ]
  },
  {
   "cell_type": "code",
   "execution_count": 3,
   "metadata": {},
   "outputs": [
    {
     "name": "stdout",
     "output_type": "stream",
     "text": [
      "search: \u001b[0m\u001b[1mb\u001b[22m\u001b[0m\u001b[1mu\u001b[22m\u001b[0m\u001b[1mi\u001b[22m\u001b[0m\u001b[1ml\u001b[22m\u001b[0m\u001b[1md\u001b[22m\u001b[0m\u001b[1m_\u001b[22m\u001b[0m\u001b[1mt\u001b[22m\u001b[0m\u001b[1ma\u001b[22m\u001b[0m\u001b[1mr\u001b[22m\u001b[0m\u001b[1mb\u001b[22m\u001b[0m\u001b[1ma\u001b[22m\u001b[0m\u001b[1ml\u001b[22m\u001b[0m\u001b[1ml\u001b[22m\u001b[0m\u001b[1ms\u001b[22m\n",
      "\n"
     ]
    },
    {
     "data": {
      "text/latex": [
       "\\begin{verbatim}\n",
       "build_tarballs(ARGS, src_name, src_version, sources, script, platforms,\n",
       "               products, dependencies; kwargs...)\n",
       "\\end{verbatim}\n",
       "This should be the top-level function called from a \\texttt{build\\_tarballs.jl} file. It takes in the information baked into a \\texttt{build\\_tarballs.jl} file such as the \\texttt{sources} to download, the \\texttt{products} to build, etc... and will automatically download, build and package the tarballs, generating a \\texttt{build.jl} file when appropriate.\n",
       "\n",
       "Generally, \\texttt{ARGS} should be the top-level Julia \\texttt{ARGS} command-line arguments object.  \\texttt{build\\_tarballs} does some rudimentary parsing of the arguments. To see what it can do, you can call it with \\texttt{--help} in the \\texttt{ARGS} or see the \\href{@ref}{Command Line} section in the manual.\n",
       "\n",
       "The \\texttt{kwargs} are passed on to \\href{@ref}{\\texttt{autobuild}}, see there for a list of supported ones. A few additional keyword arguments are accept:\n",
       "\n",
       "\\begin{itemize}\n",
       "\\item \\texttt{julia\\_compat} can be set to a version string which is used to set the supported Julia version in the \\texttt{[compat]} section of the \\texttt{Project.toml} of the generated JLL package. The default value is \\texttt{\"1.0\"}.\n",
       "\n",
       "\n",
       "\\item \\texttt{lazy\\_artifacts} sets whether the artifacts should be lazy.\n",
       "\n",
       "\n",
       "\\item \\texttt{init\\_block} may be set to a string containing Julia code; if present, this code will be inserted into the initialization path of the generated JLL package. This can for example be used to invoke an initialization API of a shared library.\n",
       "\n",
       "\\end{itemize}\n",
       "\\begin{quote}\n",
       "\\textbf{note}\n",
       "\n",
       "Note\n",
       "\n",
       "The \\texttt{init\\_block} keyword argument is experimental and may be removed in a future version of this package. Please use it sparingly.\n",
       "\n",
       "\\end{quote}\n"
      ],
      "text/markdown": [
       "```\n",
       "build_tarballs(ARGS, src_name, src_version, sources, script, platforms,\n",
       "               products, dependencies; kwargs...)\n",
       "```\n",
       "\n",
       "This should be the top-level function called from a `build_tarballs.jl` file. It takes in the information baked into a `build_tarballs.jl` file such as the `sources` to download, the `products` to build, etc... and will automatically download, build and package the tarballs, generating a `build.jl` file when appropriate.\n",
       "\n",
       "Generally, `ARGS` should be the top-level Julia `ARGS` command-line arguments object.  `build_tarballs` does some rudimentary parsing of the arguments. To see what it can do, you can call it with `--help` in the `ARGS` or see the [Command Line](@ref) section in the manual.\n",
       "\n",
       "The `kwargs` are passed on to [`autobuild`](@ref), see there for a list of supported ones. A few additional keyword arguments are accept:\n",
       "\n",
       "  * `julia_compat` can be set to a version string which is used to set the supported Julia version in the `[compat]` section of the `Project.toml` of the generated JLL package. The default value is `\"1.0\"`.\n",
       "  * `lazy_artifacts` sets whether the artifacts should be lazy.\n",
       "  * `init_block` may be set to a string containing Julia code; if present, this code will be inserted into the initialization path of the generated JLL package. This can for example be used to invoke an initialization API of a shared library.\n",
       "\n",
       "!!! note\n",
       "    The `init_block` keyword argument is experimental and may be removed in a future version of this package. Please use it sparingly.\n",
       "\n"
      ],
      "text/plain": [
       "\u001b[36m  build_tarballs(ARGS, src_name, src_version, sources, script, platforms,\u001b[39m\n",
       "\u001b[36m                 products, dependencies; kwargs...)\u001b[39m\n",
       "\n",
       "  This should be the top-level function called from a \u001b[36mbuild_tarballs.jl\u001b[39m file.\n",
       "  It takes in the information baked into a \u001b[36mbuild_tarballs.jl\u001b[39m file such as the\n",
       "  \u001b[36msources\u001b[39m to download, the \u001b[36mproducts\u001b[39m to build, etc... and will automatically\n",
       "  download, build and package the tarballs, generating a \u001b[36mbuild.jl\u001b[39m file when\n",
       "  appropriate.\n",
       "\n",
       "  Generally, \u001b[36mARGS\u001b[39m should be the top-level Julia \u001b[36mARGS\u001b[39m command-line arguments\n",
       "  object. \u001b[36mbuild_tarballs\u001b[39m does some rudimentary parsing of the arguments. To\n",
       "  see what it can do, you can call it with \u001b[36m--help\u001b[39m in the \u001b[36mARGS\u001b[39m or see the\n",
       "  Command Line section in the manual.\n",
       "\n",
       "  The \u001b[36mkwargs\u001b[39m are passed on to \u001b[36mautobuild\u001b[39m, see there for a list of supported\n",
       "  ones. A few additional keyword arguments are accept:\n",
       "\n",
       "    •    \u001b[36mjulia_compat\u001b[39m can be set to a version string which is used to set\n",
       "        the supported Julia version in the \u001b[36m[compat]\u001b[39m section of the\n",
       "        \u001b[36mProject.toml\u001b[39m of the generated JLL package. The default value is\n",
       "        \u001b[36m\"1.0\"\u001b[39m.\n",
       "\n",
       "    •    \u001b[36mlazy_artifacts\u001b[39m sets whether the artifacts should be lazy.\n",
       "\n",
       "    •    \u001b[36minit_block\u001b[39m may be set to a string containing Julia code; if\n",
       "        present, this code will be inserted into the initialization path\n",
       "        of the generated JLL package. This can for example be used to\n",
       "        invoke an initialization API of a shared library.\n",
       "\n",
       "\u001b[36m\u001b[1m  │ \u001b[22m\u001b[39m\u001b[36m\u001b[1mNote\u001b[22m\u001b[39m\n",
       "\u001b[36m\u001b[1m  │\u001b[22m\u001b[39m\n",
       "\u001b[36m\u001b[1m  │\u001b[22m\u001b[39m  The \u001b[36minit_block\u001b[39m keyword argument is experimental and may be removed\n",
       "\u001b[36m\u001b[1m  │\u001b[22m\u001b[39m  in a future version of this package. Please use it sparingly."
      ]
     },
     "execution_count": 3,
     "metadata": {},
     "output_type": "execute_result"
    }
   ],
   "source": [
    "?build_tarballs"
   ]
  },
  {
   "cell_type": "markdown",
   "metadata": {},
   "source": [
    "+ https://git.earthdata.nasa.gov/projects/DAS/repos/hdfeos5/browse"
   ]
  },
  {
   "cell_type": "code",
   "execution_count": null,
   "metadata": {},
   "outputs": [],
   "source": []
  }
 ],
 "metadata": {
  "kernelspec": {
   "display_name": "Julia 1.5.1",
   "language": "julia",
   "name": "julia-1.5"
  },
  "language_info": {
   "file_extension": ".jl",
   "mimetype": "application/julia",
   "name": "julia",
   "version": "1.5.1"
  }
 },
 "nbformat": 4,
 "nbformat_minor": 4
}
