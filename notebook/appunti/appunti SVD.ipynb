{
 "cells": [
  {
   "cell_type": "code",
   "execution_count": 1,
   "metadata": {},
   "outputs": [
    {
     "name": "stderr",
     "output_type": "stream",
     "text": [
      "\u001b[32m\u001b[1m Activating\u001b[22m\u001b[39m environment at `C:\\Users\\i am\\Documents\\GitHub\\stage-Machine-learning\\notebook\\appunti\\Project.toml`\n",
      "\u001b[32m\u001b[1mNo Changes\u001b[22m\u001b[39m to `C:\\Users\\i am\\Documents\\GitHub\\stage-Machine-learning\\notebook\\appunti\\Project.toml`\n",
      "\u001b[32m\u001b[1mUpdating\u001b[22m\u001b[39m `C:\\Users\\i am\\Documents\\GitHub\\stage-Machine-learning\\notebook\\appunti\\Manifest.toml`\n",
      " \u001b[90m [0234f1f7] \u001b[39m\u001b[93m↑ HDF5_jll v1.10.5+5 ⇒ v1.10.5+6\u001b[39m\n"
     ]
    },
    {
     "data": {
      "text/plain": [
       "\"out\""
      ]
     },
     "execution_count": 1,
     "metadata": {},
     "output_type": "execute_result"
    }
   ],
   "source": [
    "using Pkg\n",
    "Pkg.activate(\".\")\n",
    "Pkg.instantiate()\n",
    "\n",
    "mkpath(\"downloads\")\n",
    "mkpath(\"out\")"
   ]
  },
  {
   "cell_type": "markdown",
   "metadata": {},
   "source": [
    "# Singular Value Decomposition\n",
    "\n",
    "## cosa?\n",
    "\n",
    "SVD = scomposizione di una matrice A in:  \n",
    "1. U: matrice invertibile ortogonale di autovettori ortonormali presi da $AA^T$   \n",
    "2. V: matrice invertibile ortogonale di autovettori ortonormali presi da $A^TA$     \n",
    "3. S: è matrice diagonale a r elementi uguali alle radici dei autovalori positivi di $A^TA$ o $AA^T$ (valori singoli)  \n",
    "\n",
    "tali che $ A = USV^T $\n"
   ]
  },
  {
   "cell_type": "markdown",
   "metadata": {},
   "source": [
    "## come?\n",
    "\n",
    "\n",
    "+ https://docs.julialang.org/en/v1/stdlib/LinearAlgebra/#LinearAlgebra.svd  \n",
    "+ http://courses.csail.mit.edu/18.337/2013/projects/Turner-Presentation_SVD-Julia.pdf <-approx"
   ]
  },
  {
   "cell_type": "markdown",
   "metadata": {},
   "source": [
    "## perchè?\n",
    "+ copmressione dati: permette rappresentazione compatta matrici  \n",
    "+ assimilazione dati: permette di individuare perturbazioni di incremento più veloce\n",
    "\n",
    "\n",
    "  \n",
    "\n",
    "+ https://towardsdatascience.com/svd-8c2f72e264f\n",
    "+ youtube.com/watch?v=-Z9RhcerO6Y"
   ]
  },
  {
   "cell_type": "code",
   "execution_count": 7,
   "metadata": {},
   "outputs": [],
   "source": [
    "using LinearAlgebra"
   ]
  },
  {
   "cell_type": "code",
   "execution_count": 8,
   "metadata": {},
   "outputs": [
    {
     "data": {
      "text/plain": [
       "SVD{Float64,Float64,Array{Float64,2}}\n",
       "U factor:\n",
       "5×5 Array{Float64,2}:\n",
       " 0.230853    0.178662    0.867743   -0.349355   0.199397\n",
       " 0.589062    0.380521   -0.47675    -0.405558   0.341235\n",
       " 0.0417297  -0.84948    -0.0754674  -0.481666   0.197344\n",
       " 0.617477   -0.306721    0.115451    0.674094   0.238565\n",
       " 0.465503   -0.0871168   0.0265844  -0.164528  -0.864836\n",
       "singular values:\n",
       "5-element Array{Float64,1}:\n",
       " 22.73837212529927\n",
       " 12.49542252424956\n",
       "  8.377455899136377\n",
       "  7.6433280060425455\n",
       "  3.4969441919997744\n",
       "Vt factor:\n",
       "5×5 Array{Float64,2}:\n",
       "  0.527152    0.0486711  -0.0434734   0.0538076   0.845551\n",
       "  0.0503562  -0.856395   -0.445991   -0.254989    0.0111973\n",
       " -0.677189    0.215465   -0.179804   -0.523843    0.433876\n",
       "  0.430236    0.0860504   0.339353   -0.806567   -0.204406\n",
       "  0.275476    0.458683   -0.807287   -0.084404   -0.234281"
      ]
     },
     "execution_count": 8,
     "metadata": {},
     "output_type": "execute_result"
    }
   ],
   "source": [
    "A = rand([-4:12...], 5, 5)\n",
    "svd(A)"
   ]
  },
  {
   "cell_type": "code",
   "execution_count": null,
   "metadata": {},
   "outputs": [],
   "source": []
  }
 ],
 "metadata": {
  "kernelspec": {
   "display_name": "Julia 1.5.1",
   "language": "julia",
   "name": "julia-1.5"
  },
  "language_info": {
   "file_extension": ".jl",
   "mimetype": "application/julia",
   "name": "julia",
   "version": "1.5.1"
  }
 },
 "nbformat": 4,
 "nbformat_minor": 4
}
