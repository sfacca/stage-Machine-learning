{
 "cells": [
  {
   "cell_type": "markdown",
   "metadata": {},
   "source": [
    "+ https://github.com/JuliaAcademy/DataScience/blob/master/04.%20Dimensionality%20Reduction.ipynb"
   ]
  },
  {
   "cell_type": "code",
   "execution_count": 20,
   "metadata": {},
   "outputs": [
    {
     "name": "stderr",
     "output_type": "stream",
     "text": [
      "\u001b[32m\u001b[1m Activating\u001b[22m\u001b[39m environment at `C:\\Users\\i am\\Documents\\GitHub\\stage-Machine-learning\\notebook\\appunti\\Project.toml`\n"
     ]
    }
   ],
   "source": [
    "using Pkg\n",
    "Pkg.activate(\".\")"
   ]
  },
  {
   "cell_type": "code",
   "execution_count": 19,
   "metadata": {},
   "outputs": [],
   "source": [
    "# 3 tipi di dim red t-SNE, PCA, umap\n",
    "using UMAP\n",
    "using Makie\n",
    "using XLSX\n",
    "using VegaDatasets\n",
    "using DataFrames\n",
    "using MultivariateStats\n",
    "using RDatasets\n",
    "using StatsBase\n",
    "using Statistics\n",
    "using LinearAlgebra\n",
    "using Plots\n",
    "using ScikitLearn\n",
    "using MLBase\n",
    "using Distances"
   ]
  },
  {
   "cell_type": "code",
   "execution_count": 29,
   "metadata": {},
   "outputs": [
    {
     "data": {
      "text/html": [
       "<table class=\"data-frame\"><thead><tr><th></th><th>Name</th><th>Miles_per_Gallon</th><th>Cylinders</th><th>Displacement</th><th>Horsepower</th></tr><tr><th></th><th>String</th><th>Float64?</th><th>Int64</th><th>Float64</th><th>Int64?</th></tr></thead><tbody><p>10 rows × 9 columns (omitted printing of 4 columns)</p><tr><th>1</th><td>chevrolet chevelle malibu</td><td>18.0</td><td>8</td><td>307.0</td><td>130</td></tr><tr><th>2</th><td>buick skylark 320</td><td>15.0</td><td>8</td><td>350.0</td><td>165</td></tr><tr><th>3</th><td>plymouth satellite</td><td>18.0</td><td>8</td><td>318.0</td><td>150</td></tr><tr><th>4</th><td>amc rebel sst</td><td>16.0</td><td>8</td><td>304.0</td><td>150</td></tr><tr><th>5</th><td>ford torino</td><td>17.0</td><td>8</td><td>302.0</td><td>140</td></tr><tr><th>6</th><td>ford galaxie 500</td><td>15.0</td><td>8</td><td>429.0</td><td>198</td></tr><tr><th>7</th><td>chevrolet impala</td><td>14.0</td><td>8</td><td>454.0</td><td>220</td></tr><tr><th>8</th><td>plymouth fury iii</td><td>14.0</td><td>8</td><td>440.0</td><td>215</td></tr><tr><th>9</th><td>pontiac catalina</td><td>14.0</td><td>8</td><td>455.0</td><td>225</td></tr><tr><th>10</th><td>amc ambassador dpl</td><td>15.0</td><td>8</td><td>390.0</td><td>190</td></tr></tbody></table>"
      ],
      "text/latex": [
       "\\begin{tabular}{r|cccccc}\n",
       "\t& Name & Miles\\_per\\_Gallon & Cylinders & Displacement & Horsepower & \\\\\n",
       "\t\\hline\n",
       "\t& String & Float64? & Int64 & Float64 & Int64? & \\\\\n",
       "\t\\hline\n",
       "\t1 & chevrolet chevelle malibu & 18.0 & 8 & 307.0 & 130 & $\\dots$ \\\\\n",
       "\t2 & buick skylark 320 & 15.0 & 8 & 350.0 & 165 & $\\dots$ \\\\\n",
       "\t3 & plymouth satellite & 18.0 & 8 & 318.0 & 150 & $\\dots$ \\\\\n",
       "\t4 & amc rebel sst & 16.0 & 8 & 304.0 & 150 & $\\dots$ \\\\\n",
       "\t5 & ford torino & 17.0 & 8 & 302.0 & 140 & $\\dots$ \\\\\n",
       "\t6 & ford galaxie 500 & 15.0 & 8 & 429.0 & 198 & $\\dots$ \\\\\n",
       "\t7 & chevrolet impala & 14.0 & 8 & 454.0 & 220 & $\\dots$ \\\\\n",
       "\t8 & plymouth fury iii & 14.0 & 8 & 440.0 & 215 & $\\dots$ \\\\\n",
       "\t9 & pontiac catalina & 14.0 & 8 & 455.0 & 225 & $\\dots$ \\\\\n",
       "\t10 & amc ambassador dpl & 15.0 & 8 & 390.0 & 190 & $\\dots$ \\\\\n",
       "\\end{tabular}\n"
      ],
      "text/plain": [
       "10×9 DataFrame. Omitted printing of 6 columns\n",
       "│ Row │ Name                      │ Miles_per_Gallon │ Cylinders │\n",
       "│     │ \u001b[90mString\u001b[39m                    │ \u001b[90mFloat64?\u001b[39m         │ \u001b[90mInt64\u001b[39m     │\n",
       "├─────┼───────────────────────────┼──────────────────┼───────────┤\n",
       "│ 1   │ chevrolet chevelle malibu │ 18.0             │ 8         │\n",
       "│ 2   │ buick skylark 320         │ 15.0             │ 8         │\n",
       "│ 3   │ plymouth satellite        │ 18.0             │ 8         │\n",
       "│ 4   │ amc rebel sst             │ 16.0             │ 8         │\n",
       "│ 5   │ ford torino               │ 17.0             │ 8         │\n",
       "│ 6   │ ford galaxie 500          │ 15.0             │ 8         │\n",
       "│ 7   │ chevrolet impala          │ 14.0             │ 8         │\n",
       "│ 8   │ plymouth fury iii         │ 14.0             │ 8         │\n",
       "│ 9   │ pontiac catalina          │ 14.0             │ 8         │\n",
       "│ 10  │ amc ambassador dpl        │ 15.0             │ 8         │"
      ]
     },
     "execution_count": 29,
     "metadata": {},
     "output_type": "execute_result"
    }
   ],
   "source": [
    "\n",
    "C = DataFrame(VegaDatasets.dataset(\"cars\"))\n",
    "\n",
    "C[1:10,1:9]"
   ]
  },
  {
   "cell_type": "code",
   "execution_count": 34,
   "metadata": {},
   "outputs": [
    {
     "data": {
      "text/plain": [
       "9-element Array{String,1}:\n",
       " \"Name\"\n",
       " \"Miles_per_Gallon\"\n",
       " \"Cylinders\"\n",
       " \"Displacement\"\n",
       " \"Horsepower\"\n",
       " \"Weight_in_lbs\"\n",
       " \"Acceleration\"\n",
       " \"Year\"\n",
       " \"Origin\""
      ]
     },
     "execution_count": 34,
     "metadata": {},
     "output_type": "execute_result"
    }
   ],
   "source": [
    "dropmissing!(C)#non vogliamo gestire valori missing -> li togliamo\n",
    "M = Matrix(C[:,2:7]) #funzioni riduzione dimensionalita operano su matrici quindi prendiamoci matrice\n",
    "# prendiamo solo colonne per valori \"Miles_per_Gallon\" \"Cylinders\" \"Displacement\" \"Horsepower\" \"Weight_in_lbs\" \"Acceleration\"\n",
    "names(C) # vediamo cosa contiene"
   ]
  },
  {
   "cell_type": "code",
   "execution_count": 35,
   "metadata": {},
   "outputs": [
    {
     "data": {
      "text/plain": [
       "392-element Array{Int64,1}:\n",
       " 1\n",
       " 1\n",
       " 1\n",
       " 1\n",
       " 1\n",
       " 1\n",
       " 1\n",
       " 1\n",
       " 1\n",
       " 1\n",
       " 1\n",
       " 1\n",
       " 1\n",
       " ⋮\n",
       " 1\n",
       " 1\n",
       " 1\n",
       " 1\n",
       " 2\n",
       " 1\n",
       " 1\n",
       " 1\n",
       " 3\n",
       " 1\n",
       " 1\n",
       " 1"
      ]
     },
     "execution_count": 35,
     "metadata": {},
     "output_type": "execute_result"
    }
   ],
   "source": [
    "car_origin = C[:,:Origin]# prendiamo vettori origini\n",
    "carmap = labelmap(car_origin) #from MLBase, mappa i valori stringa in numeri unicamente rappresentanti al valore\n",
    "uniqueids = labelencode(carmap,car_origin) # prende stringa valori e li cambia con la mappatura in numero"
   ]
  },
  {
   "cell_type": "markdown",
   "metadata": {},
   "source": [
    "## PCA\n",
    "prima centriamo i dati"
   ]
  },
  {
   "cell_type": "code",
   "execution_count": 37,
   "metadata": {},
   "outputs": [
    {
     "data": {
      "text/plain": [
       "392×6 Array{Float64,2}:\n",
       " 18.0  8.0  307.0  130.0  3504.0  12.0\n",
       " 15.0  8.0  350.0  165.0  3693.0  11.5\n",
       " 18.0  8.0  318.0  150.0  3436.0  11.0\n",
       " 16.0  8.0  304.0  150.0  3433.0  12.0\n",
       " 17.0  8.0  302.0  140.0  3449.0  10.5\n",
       " 15.0  8.0  429.0  198.0  4341.0  10.0\n",
       " 14.0  8.0  454.0  220.0  4354.0   9.0\n",
       " 14.0  8.0  440.0  215.0  4312.0   8.5\n",
       " 14.0  8.0  455.0  225.0  4425.0  10.0\n",
       " 15.0  8.0  390.0  190.0  3850.0   8.5\n",
       " 15.0  8.0  383.0  170.0  3563.0  10.0\n",
       " 14.0  8.0  340.0  160.0  3609.0   8.0\n",
       " 15.0  8.0  400.0  150.0  3761.0   9.5\n",
       "  ⋮                                ⋮\n",
       " 25.0  6.0  181.0  110.0  2945.0  16.4\n",
       " 38.0  6.0  262.0   85.0  3015.0  17.0\n",
       " 26.0  4.0  156.0   92.0  2585.0  14.5\n",
       " 22.0  6.0  232.0  112.0  2835.0  14.7\n",
       " 32.0  4.0  144.0   96.0  2665.0  13.9\n",
       " 36.0  4.0  135.0   84.0  2370.0  13.0\n",
       " 27.0  4.0  151.0   90.0  2950.0  17.3\n",
       " 27.0  4.0  140.0   86.0  2790.0  15.6\n",
       " 44.0  4.0   97.0   52.0  2130.0  24.6\n",
       " 32.0  4.0  135.0   84.0  2295.0  11.6\n",
       " 28.0  4.0  120.0   79.0  2625.0  18.6\n",
       " 31.0  4.0  119.0   82.0  2720.0  19.4"
      ]
     },
     "execution_count": 37,
     "metadata": {},
     "output_type": "execute_result"
    }
   ],
   "source": [
    "M"
   ]
  },
  {
   "cell_type": "code",
   "execution_count": 38,
   "metadata": {},
   "outputs": [
    {
     "data": {
      "text/plain": [
       "392×6 Array{Float64,2}:\n",
       " -0.697747   1.48205    1.07591    0.663285   0.619748   -1.28362\n",
       " -1.08212    1.48205    1.48683    1.57258    0.842258   -1.46485\n",
       " -0.697747   1.48205    1.18103    1.18288    0.539692   -1.64609\n",
       " -0.953992   1.48205    1.04725    1.18288    0.53616    -1.28362\n",
       " -0.82587    1.48205    1.02813    0.923085   0.554997   -1.82732\n",
       " -1.08212    1.48205    2.24177    2.42992    1.60515    -2.00855\n",
       " -1.21024    1.48205    2.48068    3.00148    1.62045    -2.37102\n",
       " -1.21024    1.48205    2.34689    2.87158    1.57101    -2.55226\n",
       " -1.21024    1.48205    2.49023    3.13138    1.70404    -2.00855\n",
       " -1.08212    1.48205    1.86908    2.22208    1.02709    -2.55226\n",
       " -1.08212    1.48205    1.80219    1.70248    0.689209   -2.00855\n",
       " -1.21024    1.48205    1.39127    1.44268    0.743365   -2.73349\n",
       " -1.08212    1.48205    1.96464    1.18288    0.922314   -2.18979\n",
       "  ⋮                                                       ⋮\n",
       "  0.199113   0.309571  -0.128168   0.143685  -0.0383613   0.311242\n",
       "  1.86471    0.309571   0.645885  -0.505815   0.0440496   0.528722\n",
       "  0.327236  -0.862911  -0.367073  -0.323955  -0.462189   -0.377448\n",
       " -0.185255   0.309571   0.359199   0.195645  -0.167864   -0.304954\n",
       "  1.09597   -0.862911  -0.481748  -0.220035  -0.368005   -0.594928\n",
       "  1.60847   -0.862911  -0.567753  -0.531795  -0.715308   -0.92115\n",
       "  0.455359  -0.862911  -0.414854  -0.375915  -0.0324748   0.637463\n",
       "  0.455359  -0.862911  -0.519972  -0.479835  -0.220842    0.0212673\n",
       "  2.63345   -0.862911  -0.930889  -1.36315   -0.997859    3.28348\n",
       "  1.09597   -0.862911  -0.567753  -0.531795  -0.803605   -1.4286\n",
       "  0.583482  -0.862911  -0.711097  -0.661694  -0.415097    1.10867\n",
       "  0.967851  -0.862911  -0.720653  -0.583754  -0.303253    1.39865"
      ]
     },
     "execution_count": 38,
     "metadata": {},
     "output_type": "execute_result"
    }
   ],
   "source": [
    "# normaslizziamo i dati sottraendone la loro media e dividendo per la loro deviazione standard\n",
    "data = M\n",
    "data = (data .- mean(data,dims = 1))./ std(data,dims=1)"
   ]
  },
  {
   "cell_type": "code",
   "execution_count": 39,
   "metadata": {},
   "outputs": [
    {
     "data": {
      "text/plain": [
       "PCA(indim = 6, outdim = 2, principalratio = 0.9194828785333573)"
      ]
     },
     "execution_count": 39,
     "metadata": {},
     "output_type": "execute_result"
    }
   ],
   "source": [
    "# per la funzione PCA un osservazione è rappresentata come una colonna,\n",
    "#dobbiamo quindi passargli trasposizione righe/colonne poichè per noi una colonna è una variabile\n",
    "p = fit(PCA,data',maxoutdim=2) #prima fittiamo il modello tramite PCA\n",
    "# maxoputdim è 2 perchè vogliamo layout a 2 dimensioni"
   ]
  },
  {
   "cell_type": "code",
   "execution_count": null,
   "metadata": {},
   "outputs": [],
   "source": [
    "# otteniamo matrice proiez con comando projection\n",
    "P = projection(p)"
   ]
  }
 ],
 "metadata": {
  "kernelspec": {
   "display_name": "Julia 1.5.1",
   "language": "julia",
   "name": "julia-1.5"
  },
  "language_info": {
   "file_extension": ".jl",
   "mimetype": "application/julia",
   "name": "julia",
   "version": "1.5.1"
  }
 },
 "nbformat": 4,
 "nbformat_minor": 4
}
