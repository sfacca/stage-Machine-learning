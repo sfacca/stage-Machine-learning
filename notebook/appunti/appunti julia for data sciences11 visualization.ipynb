{
 "cells": [
  {
   "cell_type": "code",
   "execution_count": null,
   "metadata": {},
   "outputs": [],
   "source": [
    "using Pkg\n",
    "Pkg.activate(\".\")\n",
    "Pkg.instantiate()\n",
    "Pkg.resolve()\n",
    "\n",
    "mkpath(\"downloads\")\n",
    "mkpath(\"out\")"
   ]
  },
  {
   "cell_type": "markdown",
   "metadata": {},
   "source": [
    "+ https://github.com/JuliaAcademy/DataScience/blob/master/12.%20Visualization.ipynb"
   ]
  },
  {
   "cell_type": "code",
   "execution_count": null,
   "metadata": {},
   "outputs": [],
   "source": [
    "using Plots\n",
    "using StatsPlots # this package provides stats specific plotting functions\n",
    "gr()\n",
    "using Statistics\n",
    "using StatsBase\n",
    "using MLBase"
   ]
  },
  {
   "cell_type": "code",
   "execution_count": null,
   "metadata": {},
   "outputs": [],
   "source": [
    "using XLSX\n",
    "using DataFrames\n",
    "using ColorSchemes"
   ]
  },
  {
   "cell_type": "code",
   "execution_count": null,
   "metadata": {},
   "outputs": [],
   "source": [
    "#ENV[\"GKS_ENCODING\"] = \"utf-8\"\n",
    "stateabbreviations = Dict(\"Alabama\" => \"AL\",\n",
    "    \"Alaska\" => \"AK\",\n",
    "    \"Arizona\" => \"AZ\",\n",
    "    \"Arkansas\" => \"AR\",\n",
    "    \"California\" => \"CA\",\n",
    "    \"Colorado\" => \"CO\",\n",
    "    \"Connecticut\" => \"CT\",\n",
    "    \"Delaware\" => \"DE\",\n",
    "    \"Florida\" => \"FL\",\n",
    "    \"Georgia\" => \"GA\",\n",
    "    \"Hawaii\" => \"HI\",\n",
    "    \"Idaho\" => \"ID\",\n",
    "    \"Illinois\" => \"IL\",\n",
    "    \"Indiana\" => \"IN\",\n",
    "    \"Iowa\" => \"IA\",\n",
    "    \"Kansas\" => \"KS\",\n",
    "    \"Kentucky\" => \"KY\",\n",
    "    \"Louisiana\" => \"LA\",\n",
    "    \"Maine\" => \"ME\",\n",
    "    \"Maryland\" => \"MD\",\n",
    "    \"Massachusetts\" => \"MA\",\n",
    "    \"Michigan\" => \"MI\",\n",
    "    \"Minnesota\" => \"MN\",\n",
    "    \"Mississippi\" => \"MS\",\n",
    "    \"Missouri\" => \"MO\",\n",
    "    \"Montana\" => \"MT\",\n",
    "    \"Nebraska\" => \"NE\",\n",
    "    \"Nevada\" => \"NV\",\n",
    "    \"New Hampshire\" => \"NH\",\n",
    "    \"New Jersey\" => \"NJ\",\n",
    "    \"New Mexico\" => \"NM\",\n",
    "    \"New York\" => \"NY\",\n",
    "    \"North Carolina\" => \"NC\",\n",
    "    \"North Dakota\" => \"ND\",\n",
    "    \"Ohio\" => \"OH\",\n",
    "    \"Oklahoma\" => \"OK\",\n",
    "    \"Oregon\" => \"OR\",\n",
    "    \"Pennsylvania\" => \"PA\",\n",
    "    \"Rhode Island\" => \"RI\",\n",
    "    \"South Carolina\" => \"SC\",\n",
    "    \"South Dakota\" => \"SD\",\n",
    "    \"Tennessee\" => \"TN\",\n",
    "    \"Texas\" => \"TX\",\n",
    "    \"Utah\" => \"UT\",\n",
    "    \"Vermont\" => \"VT\",\n",
    "    \"Virginia\" => \"VA\",\n",
    "    \"Washington\" => \"WA\",\n",
    "    \"West Virginia\" => \"WV\",\n",
    "    \"Wisconsin\" => \"WI\",\n",
    "    \"Wyoming\" => \"WY\", \n",
    "    \"District of Columbia\"=>\"DC\");"
   ]
  },
  {
   "cell_type": "code",
   "execution_count": null,
   "metadata": {},
   "outputs": [],
   "source": [
    "file = download(\"https://github.com/JuliaAcademy/DataScience/blob/master/data/zillow_data_download_april2020.xlsx?raw=true\",\n",
    "    \"downloads/zillow_data_download_april2020.xlsx\")\n",
    "D = DataFrame(XLSX.readtable(\"downloads/zillow_data_download_april2020.xlsx\", \"Sales_median_price_city\")...);\n",
    "dropmissing!(D)\n",
    "states = D[:,:StateName];"
   ]
  },
  {
   "cell_type": "code",
   "execution_count": null,
   "metadata": {},
   "outputs": [],
   "source": [
    "#useremo dati su regioni deli stati: ny, calif e florida\n",
    "#creiamo un df per ogni stato\n",
    "NYids = findall(states.==\"New York\")\n",
    "NYframe = dropmissing(D[NYids,:])\n",
    "CAids = findall(states.==\"California\")\n",
    "CAframe = dropmissing(D[CAids,:])\n",
    "FLids = findall(states.==\"Florida\")\n",
    "FLframe = dropmissing(D[FLids,:])"
   ]
  },
  {
   "cell_type": "code",
   "execution_count": null,
   "metadata": {},
   "outputs": [],
   "source": [
    "#violin plot\n",
    "# pick a year: 2020-02\n",
    "ca = CAframe[!,Symbol(\"2020-02\")]\n",
    "ny = NYframe[!,Symbol(\"2020-02\")]\n",
    "fl = FLframe[!,Symbol(\"2020-02\")]\n",
    "\n",
    "violin([\"New York\"], ny,legend=false,alpha=0.8)\n",
    "violin!([\"California\"], ca,alpha=0.8)\n",
    "violin!([\"Florida\"],fl,alpha=0.8)"
   ]
  },
  {
   "cell_type": "code",
   "execution_count": null,
   "metadata": {},
   "outputs": [],
   "source": [
    "# plot simmetrici -> stiam sprecando spaz -> dividiamo i violini con dati di 10 anni prima\n",
    "# 2020 data\n",
    "ca = CAframe[!,Symbol(\"2020-02\")]\n",
    "ny = NYframe[!,Symbol(\"2020-02\")]\n",
    "fl = FLframe[!,Symbol(\"2020-02\")]\n",
    "violin([\"New York\"], ny,legend=false,alpha=0.8,side=:right)\n",
    "violin!([\"California\"], ca,alpha=0.8,side=:right)\n",
    "violin!([\"Florida\"],fl,alpha=0.8,side=:right)\n",
    "\n",
    "### get the February 2010 data\n",
    "ca10 = CAframe[!,Symbol(\"2010-02\")]\n",
    "ny10 = NYframe[!,Symbol(\"2010-02\")]\n",
    "fl10 = FLframe[!,Symbol(\"2010-02\")]\n",
    "\n",
    "violin!([\"New York\"], ny10,legend=false,alpha=0.8,side=:left)\n",
    "violin!([\"California\"], ca10,alpha=0.8,side=:left)\n",
    "violin!([\"Florida\"],fl10,alpha=0.8,side=:left)"
   ]
  },
  {
   "cell_type": "code",
   "execution_count": null,
   "metadata": {},
   "outputs": [],
   "source": [
    "# plot bruttino -> usiamo colori per anni\n",
    "\n",
    "# pick a year: 2019-02\n",
    "ca = CAframe[!,Symbol(\"2010-02\")]\n",
    "ny = NYframe[!,Symbol(\"2010-02\")]\n",
    "fl = FLframe[!,Symbol(\"2010-02\")]\n",
    "violin([\"New York\"], ny,alpha=0.8,side=:left,color=6,label=\"2010-02\")\n",
    "violin!([\"California\"], ca,alpha=0.8,side=:left,color=6,label=\"\")\n",
    "violin!([\"Florida\"],fl,alpha=0.8,side=:left,color=6,label=\"\")\n",
    "\n",
    "# pick a year: 2020-02\n",
    "ca = CAframe[!,Symbol(\"2020-02\")]\n",
    "ny = NYframe[!,Symbol(\"2020-02\")]\n",
    "fl = FLframe[!,Symbol(\"2020-02\")]\n",
    "violin!([\"New York\"], ny,alpha=0.8,side=:right,color=7,label=\"2020-02\")\n",
    "violin!([\"California\"], ca,alpha=0.8,side=:right,color=7,label=\"\")\n",
    "violin!([\"Florida\"],fl,alpha=0.8,side=:right,color=7,label=\"\")"
   ]
  },
  {
   "cell_type": "code",
   "execution_count": null,
   "metadata": {},
   "outputs": [],
   "source": [
    "# aggiungiamo annotazioni delle mediane\n",
    "# pick a year: 2019-02\n",
    "ca = CAframe[!,Symbol(\"2010-02\")]\n",
    "ny = NYframe[!,Symbol(\"2010-02\")]\n",
    "fl = FLframe[!,Symbol(\"2010-02\")]\n",
    "violin([\"New York\"], ny,alpha=0.8,side=:left,color=6,label=\"2010-02\")\n",
    "violin!([\"California\"], ca,alpha=0.8,side=:left,color=6,label=\"\")\n",
    "violin!([\"Florida\"],fl,alpha=0.8,side=:left,color=6,label=\"\")\n",
    "\n",
    "# pick a year: 2020-02\n",
    "ca = CAframe[!,Symbol(\"2020-02\")]\n",
    "ny = NYframe[!,Symbol(\"2020-02\")]\n",
    "fl = FLframe[!,Symbol(\"2020-02\")]\n",
    "violin!([\"New York\"], ny,alpha=0.8,side=:right,color=7,label=\"2020-02\")\n",
    "violin!([\"California\"], ca,alpha=0.8,side=:right,color=7,label=\"\")\n",
    "violin!([\"Florida\"],fl,alpha=0.8,side=:right,color=7,label=\"\")\n",
    "\n",
    "\n",
    "m = median(ny)\n",
    "ep = 0.1\n",
    "annotate!([(0.5+ep,m+0.05,text(m/1000,10,:left))])#<-------------annotazione\n",
    "\n",
    "m = median(ca)\n",
    "ep = 0.1\n",
    "annotate!([(1.5+ep,m+0.05,text(m/1000,10,:left))])\n",
    "\n",
    "m = median(fl)\n",
    "ep = 0.1\n",
    "annotate!([(2.5+ep,m+0.05,text(m/1000,10,:left))])\n",
    "\n",
    "plot!(xtickfont=font(10),size=(500,300))"
   ]
  },
  {
   "cell_type": "code",
   "execution_count": null,
   "metadata": {},
   "outputs": [],
   "source": [
    "#mettiam tutto assieme\n",
    "\n",
    "ep = 0.05 # will later be used in padding for annotations\n",
    "\n",
    "# set up the plot\n",
    "plot(xtickfont=font(10))\n",
    "\n",
    "states_of_interest = [\"New York\", \"California\", \"Florida\", \"Ohio\",\"Idaho\"]\n",
    "years_of_interst = [Symbol(\"2010-02\"),Symbol(\"2020-02\")]\n",
    "\n",
    "# year 1\n",
    "xstart = 0.5\n",
    "yi = years_of_interst[1]\n",
    "for si in states_of_interest\n",
    "    curids = findall(states.==si)\n",
    "    curFrame = D[curids,:]\n",
    "    curprices = curFrame[!,yi]\n",
    "    m = median(curprices)\n",
    "    annotate!([(xstart-ep,m+0.05,text(m/1000,8,:right))])\n",
    "    xstart += 1\n",
    "    violin!([si], curprices,alpha=0.8,side=:left,color=6,label=\"\")\n",
    "end\n",
    "plot!(Shape([],[]),color=6,label=yi)\n",
    "\n",
    "# year 2\n",
    "xstart = 0.5\n",
    "yi = years_of_interst[2]\n",
    "for si in states_of_interest\n",
    "    curids = findall(states.==si)\n",
    "    curFrame = D[curids,:]\n",
    "    curprices = curFrame[!,yi]\n",
    "    m = median(curprices)\n",
    "    annotate!([(xstart+ep,m+0.05,text(m/1000,8,:left))])\n",
    "    xstart += 1\n",
    "    violin!([si], curprices,alpha=0.8,side=:right,color=7,label=\"\")\n",
    "end\n",
    "plot!(Shape([],[]),color=7,label=yi)\n",
    "ylabel!(\"housing prices\")"
   ]
  },
  {
   "cell_type": "code",
   "execution_count": null,
   "metadata": {},
   "outputs": [],
   "source": [
    "## plot a barre, istogrammi, insets\n",
    "# usiamo plot barre per vedere quali stati han più regioni\n",
    "mapstates = labelmap(states)\n",
    "stateids = labelencode(mapstates, states)\n",
    "histogram(stateids,nbins=length(mapstates))"
   ]
  },
  {
   "cell_type": "code",
   "execution_count": null,
   "metadata": {},
   "outputs": [],
   "source": [
    "# barre non ordinate -> confusionali da leggere -> oordiniamole\n",
    "h = fit(Histogram, stateids,nbins=length(mapstates))\n",
    "sortedids = sortperm(h.weights,rev=true)\n",
    "bar(h.weights[sortedids],legend=false)"
   ]
  },
  {
   "cell_type": "code",
   "execution_count": null,
   "metadata": {},
   "outputs": [],
   "source": [
    "# orientiamo orizzontalmente le barre e aggiungiamo annotazioni degli stati con più regioni\n",
    "bar(h.weights[sortedids],legend=false,orientation = :horizontal,yflip=true,size=(400,500))\n",
    "stateannotations = mapstates.vs[sortedids]\n",
    "for i = 1:3\n",
    "    annotate!([(h.weights[sortedids][i]-5,i,text(stateannotations[i],10,:left))])\n",
    "end\n",
    "plot!()"
   ]
  },
  {
   "cell_type": "code",
   "execution_count": null,
   "metadata": {},
   "outputs": [],
   "source": [
    "# ripuliamo le linee attorno alle barre e mettiamo annotazioni sigla abbreviata a ogni stato\n",
    "bar(h.weights[sortedids],legend=false,orientation = :horizontal,yflip=true,linewidth=0,width=0,size=(400,500))\n",
    "\n",
    "stateannotations = mapstates.vs[sortedids]\n",
    "for i = 1:length(stateannotations)\n",
    "    annotate!([(h.weights[sortedids][i]-5,i,text(stateabbreviations[stateannotations[i]],5,:left))])\n",
    "end\n",
    "plot!()"
   ]
  },
  {
   "cell_type": "code",
   "execution_count": null,
   "metadata": {},
   "outputs": [],
   "source": [
    "# stiamo usando un solo colore quindi è meglio usarne uno neutro (grigio) inoltre per la comprensione\n",
    "# veloce di informaziono quantitative sui dati dividiamo le barre in unità di 20\n",
    "bar(h.weights[sortedids],legend=false,orientation = :horizontal,\n",
    "        yflip=true,linewidth=0,width=0,color=:gray,alpha=0.8)\n",
    "stateannotations = mapstates.vs[sortedids]\n",
    "for i = 20:20:200\n",
    "    plot!([i,i],[50,0],color=:white)\n",
    "end\n",
    "for i = 1:length(stateannotations)\n",
    "    annotate!([(h.weights[sortedids][i]-5,i,text(stateabbreviations[stateannotations[i]],6,:left))])\n",
    "end\n",
    "plot!(grid=false,yaxis=false,xlim=(0,maximum(h.weights)),xticks = 0:20:200)\n",
    "xlabel!(\"number of listings\")"
   ]
  },
  {
   "cell_type": "code",
   "execution_count": null,
   "metadata": {},
   "outputs": [],
   "source": [
    "# infine rimpiccioleremo dimensioni eccessive e metteremo \n",
    "# un inset per far vedere  meglio la coda del grafico dove ci son valori difficili da vedere\n",
    "bar(h.weights[sortedids],legend=false,orientation = :horizontal,\n",
    "        yflip=true,linewidth=0,color=:gray,alpha=0.8,size=(300,500))\n",
    "stateannotations = mapstates.vs[sortedids]\n",
    "ht = length(h.weights)\n",
    "for i = 20:20:200\n",
    "    plot!([i,i],[ht,0],color=:white)\n",
    "end\n",
    "for i = 1:length(stateannotations)\n",
    "    annotate!([(h.weights[sortedids][i]+2,i,text(stateabbreviations[stateannotations[i]],6,:left))])\n",
    "end\n",
    "plot!(grid=false,yaxis=false,xlim=(0,maximum(h.weights)+5),xticks = 0:20:200)\n",
    "xlabel!(\"number of listings\")\n",
    "\n",
    "f = Plots.plot!(inset = bbox(0.7,0.15,0.25,0.6,:top,:left))\n",
    "bar!(f[2],h.weights[sortedids][21:end],legend=false,orientation = :horizontal,\n",
    "        yflip=true,linewidth=0,width=0,color=:gray,alpha=0.8)\n",
    "for i = 21:length(stateannotations)\n",
    "    annotate!(f[2],[(h.weights[sortedids][i]+1,i-20,text(stateabbreviations[stateannotations[i]],6,:left))])\n",
    "end\n",
    "plot!(f[2],[10,10],[20,0],color=:white,xticks=0:10:20,yaxis=false,grid=false,xlim=(0,20))\n",
    "plot!()"
   ]
  },
  {
   "cell_type": "code",
   "execution_count": null,
   "metadata": {},
   "outputs": [],
   "source": [
    "#le etichette son lunghe e verrebbero tagliate\n",
    "function pad_empty_plot(p)\n",
    "    ep = plot(grid=false,legend=false,axis=false,framestyle = :box)#empty plot\n",
    "    newplot = plot(p,ep,layout=@layout([a{0.99h};b{0.001h}]))\n",
    "    return newplot\n",
    "end"
   ]
  },
  {
   "cell_type": "code",
   "execution_count": null,
   "metadata": {},
   "outputs": [],
   "source": [
    "## plot con error bars\n",
    "M = Matrix(NYframe[:,5:end])\n",
    "xtickslabels = string.(names(NYframe[!,5:end]));\n",
    "\n",
    "\n",
    "# vediamo i cambiamenti di prezzo di ogni regione nel tempo\n",
    "plot()\n",
    "for i = 1:size(M,1)\n",
    "    plot!(M[i,:],legend=false)\n",
    "end\n",
    "plot!()\n",
    "p = plot!(xticks = (1:4:length(xtickslabels),xtickslabels[1:4:end]),xrotation=90,xtickfont=font(8),grid=false)\n",
    "pad_empty_plot(p)\n"
   ]
  },
  {
   "cell_type": "code",
   "execution_count": null,
   "metadata": {},
   "outputs": [],
   "source": [
    "# cerchiamo adesso di vedere l andamento dei prezzi di ny\n",
    "#calcoliamo mediane, perecentili lvl 20 e 80 e plottiamo\n",
    "function find_percentile(M, pct)#fun per trovare percentili\n",
    "    r = zeros(size(M,2))\n",
    "    for i = 1:size(M,2)\n",
    "        v = M[:,i]\n",
    "        len = length(v)\n",
    "        ind = floor(Int64,pct*len)\n",
    "        newarr = sort(v);\n",
    "        r[i] = newarr[ind];\n",
    "    end\n",
    "    return r\n",
    "end\n",
    "\n",
    "md = find_percentile(M,0.5)#mediana è percentile 50%\n",
    "mx = find_percentile(M,0.8)\n",
    "mn = find_percentile(M,0.2)\n",
    "plot(md,ribbon =(md.-mn,mx.-md),color = :blue,label=\"NY\",grid=false)\n",
    "p = plot!(xticks = (1:4:length(xtickslabels),xtickslabels[1:4:end]),xrotation=90,xtickfont=font(8))\n",
    "pad_empty_plot(p)"
   ]
  },
  {
   "cell_type": "code",
   "execution_count": null,
   "metadata": {},
   "outputs": [],
   "source": [
    "# mettiam tutto in una funzione\n",
    "function plot_individual_state!(plotid,statevalue,colorid)\n",
    "    curids = findall(states.==statevalue)\n",
    "    curFrame = D[curids,:]\n",
    "    M = Matrix(curFrame[:,5:end])\n",
    "    md = find_percentile(M,0.5)\n",
    "    mx = find_percentile(M,0.8)\n",
    "    mn = find_percentile(M,0.2)\n",
    "    plot!(plotid,md,ribbon =(md.-mn,mx.-md),color = colorid,label=stateabbreviations[statevalue],grid=false)\n",
    "    plot!(plotid,xticks = (1:4:length(xtickslabels),xtickslabels[1:4:end]),xrotation=90,xtickfont=font(8))\n",
    "end"
   ]
  },
  {
   "cell_type": "code",
   "execution_count": null,
   "metadata": {},
   "outputs": [],
   "source": [
    "plotid = plot()#plot vuoto\n",
    "plot_individual_state!(plotid,\"Indiana\",1)\n",
    "plot_individual_state!(plotid,\"Ohio\",2)\n",
    "plot_individual_state!(plotid,\"Idaho\",3)\n",
    "# plot_individual_state!(plotid,\"California\",4)\n",
    "ylabel!(\"prices\")\n",
    "pad_empty_plot(plotid)"
   ]
  },
  {
   "cell_type": "code",
   "execution_count": null,
   "metadata": {},
   "outputs": [],
   "source": [
    "# plot con assi doppi\n",
    "vector1 = rand(10)\n",
    "vector2 = rand(10)*100\n",
    "plot(vector1,label = \"b\",size=(300,200))\n",
    "plot!(twinx(), vector2,color=2,axis=false)\n",
    "xtickslabels = NYframe[!,:RegionName]\n",
    "sz = NYframe[!,:SizeRank]\n",
    "pc = NYframe[!,end]\n",
    "M = Matrix(NYframe[:,5:end])\n",
    "M = copy(M')\n",
    "md = find_percentile(M,0.9)\n",
    "\n",
    "md = find_percentile(M,0.5)\n",
    "mx = find_percentile(M,0.9)\n",
    "mn = find_percentile(M,0.1)\n",
    "vector1 = sz\n",
    "\n",
    "plot()\n",
    "plot!(md,ribbon =(md.-mn,mx.-md),color = 1,grid=false,label=\"\")\n",
    "\n",
    "plot!(xticks = (1:length(xtickslabels),xtickslabels),xrotation=90,xtickfont=font(10))\n",
    "plot!(twinx(), vector1,color=2,label=\"\",ylabel=\"rank\",grid=false,xticks=[],linewidth=2)\n",
    "plot!(Shape([],[]),color=1,label=\"Prices (left)\")\n",
    "p = plot!(Shape([],[]),color=2,label=\"Rank (right)\")\n",
    "\n",
    "ep = plot(grid=false,legend=false,axis=false,framestyle = :box)#empty plot\n",
    "plot(p,ep,layout=@layout([a{0.85h};b{0.001h}]))"
   ]
  },
  {
   "cell_type": "code",
   "execution_count": null,
   "metadata": {},
   "outputs": [],
   "source": [
    "# plot a >2d in 2d\n",
    "\n",
    "#plot 2d normale\n",
    "CA202002 = CAframe[!,Symbol(\"2020-02\")]\n",
    "CA201002 = CAframe[!,Symbol(\"2010-02\")]\n",
    "scatter(CA201002,CA202002)\n"
   ]
  },
  {
   "cell_type": "code",
   "execution_count": null,
   "metadata": {},
   "outputs": [],
   "source": [
    "#esprimiamo dimensione rango con colore\n",
    "\n",
    "CA202002 = CAframe[!,Symbol(\"2020-02\")]\n",
    "CA201002 = CAframe[!,Symbol(\"2010-02\")]\n",
    "CAranks = CAframe[!,:SizeRank]\n",
    "scatter(CA201002,CA202002,legend=false,markerstrokewidth=0,markersize=3,alpha=0.6,grid=false)"
   ]
  },
  {
   "cell_type": "code",
   "execution_count": null,
   "metadata": {},
   "outputs": [],
   "source": [
    "# normalize the ranks to be between 0 and 1\n",
    "continuousranks = CAranks./maximum(CAranks)\n",
    "\n",
    "# create a placeholder vector that will store the color of each value\n",
    "colorsvec = Vector{RGB{Float64}}(undef,length(continuousranks))\n",
    "\n",
    "# and finally map the colors according to ColorSchemes.autumn1, there are many other schemes you can choose from\n",
    "map(i->colorsvec[i]=get(ColorSchemes.autumn1,continuousranks[i]),1:length(colorsvec))\n",
    "\n",
    "continuousdates = CAranks./maximum(CAranks)\n",
    "colorsvec = Vector{RGB{Float64}}(undef,length(continuousdates))\n",
    "map(i->colorsvec[i]=get(ColorSchemes.autumn1,continuousdates[i]),1:length(colorsvec))\n",
    "scatter(CA201002,CA202002,color=colorsvec,\n",
    "    legend=false,markerstrokewidth=0,markersize=3,grid=false)\n",
    "xlabel!(\"2010-02 prices\",xguidefontsize=10)\n",
    "ylabel!(\"2020-02 prices\",yguidefontsize=10)\n",
    "p1 = plot!()"
   ]
  },
  {
   "cell_type": "code",
   "execution_count": null,
   "metadata": {
    "scrolled": true
   },
   "outputs": [],
   "source": [
    "#possiamo fare heatmap per vedere che colorature corrispondono a ranghi alti/bassi\n",
    "#set up the plot canvas\n",
    "xvals = 0:100\n",
    "s = Shape([0,1,1,0],[0,0,1,1])\n",
    "plot(s,color=ColorSchemes.autumn1[1],grid=false,axis=false,\n",
    "    legend=false,linewidth=0,linecolor=nothing)\n",
    "\n",
    "for i = 2:101\n",
    "    s = Shape([xvals[i],xvals[i]+1,xvals[i]+1,xvals[i]],[0,0,1,1])\n",
    "    plot!(s,color=ColorSchemes.autumn1[i],grid=false,axis=false,\n",
    "    legend=false,linewidth=0,linecolor=nothing)\n",
    "end\n",
    "\n",
    "mynormalizer = maximum(CAranks)\n",
    "xtickslabels = 0:div(mynormalizer,10):mynormalizer\n",
    "continuousdates = xtickslabels./mynormalizer\n",
    "xticksloc = round.(Int,continuousdates.*101)\n",
    "\n",
    "# annotate using the ranks\n",
    "rotatedfont = font(10, \"Helvetica\",rotation=90)\n",
    "for i = 1:length(xtickslabels)\n",
    "    annotate!(xticksloc[i],0.5,text(xtickslabels[i], rotatedfont))\n",
    "end\n",
    "p2 = plot!()"
   ]
  },
  {
   "cell_type": "code",
   "execution_count": null,
   "metadata": {
    "scrolled": true
   },
   "outputs": [],
   "source": [
    "#aggiungiamo heatmap in basso al plot per comdoità\n",
    "mylayout = @layout([a{0.89h};b{0.1h}])\n",
    "plot(p1,p2,layout=mylayout)"
   ]
  },
  {
   "cell_type": "code",
   "execution_count": null,
   "metadata": {},
   "outputs": [],
   "source": []
  }
 ],
 "metadata": {
  "kernelspec": {
   "display_name": "Julia 1.5.1",
   "language": "julia",
   "name": "julia-1.5"
  },
  "language_info": {
   "file_extension": ".jl",
   "mimetype": "application/julia",
   "name": "julia",
   "version": "1.5.1"
  }
 },
 "nbformat": 4,
 "nbformat_minor": 4
}
