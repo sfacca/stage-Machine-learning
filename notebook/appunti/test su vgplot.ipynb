{
 "cells": [
  {
   "cell_type": "markdown",
   "metadata": {},
   "source": [
    "# Test su vgplot"
   ]
  },
  {
   "cell_type": "code",
   "execution_count": 5,
   "metadata": {},
   "outputs": [
    {
     "name": "stderr",
     "output_type": "stream",
     "text": [
      "\u001b[32m\u001b[1m Activating\u001b[22m\u001b[39m new environment at `C:\\Users\\i am\\Documents\\GitHub\\stage-Machine-learning\\prisma\\hdf5\\Project.toml`\n",
      "\u001b[32m\u001b[1m   Updating\u001b[22m\u001b[39m registry at `C:\\Users\\i am\\.julia\\registries\\General`\n",
      "\u001b[32m\u001b[1mNo Changes\u001b[22m\u001b[39m to `C:\\Users\\i am\\Documents\\GitHub\\stage-Machine-learning\\prisma\\hdf5\\Project.toml`\n",
      "\u001b[32m\u001b[1mNo Changes\u001b[22m\u001b[39m to `C:\\Users\\i am\\Documents\\GitHub\\stage-Machine-learning\\prisma\\hdf5\\Manifest.toml`\n"
     ]
    }
   ],
   "source": [
    "using Pkg\n",
    "Pkg.activate(\".\")\n",
    "Pkg.instantiate()"
   ]
  },
  {
   "cell_type": "code",
   "execution_count": 12,
   "metadata": {},
   "outputs": [
    {
     "name": "stderr",
     "output_type": "stream",
     "text": [
      "\u001b[32m\u001b[1m  Resolving\u001b[22m\u001b[39m package versions...\n",
      "\u001b[32m\u001b[1mNo Changes\u001b[22m\u001b[39m to `C:\\Users\\i am\\.julia\\environments\\v1.5\\Project.toml`\n",
      "\u001b[32m\u001b[1mNo Changes\u001b[22m\u001b[39m to `C:\\Users\\i am\\.julia\\environments\\v1.5\\Manifest.toml`\n",
      "\u001b[32m\u001b[1m  Resolving\u001b[22m\u001b[39m package versions...\n",
      "\u001b[32m\u001b[1mNo Changes\u001b[22m\u001b[39m to `C:\\Users\\i am\\.julia\\environments\\v1.5\\Project.toml`\n",
      "\u001b[32m\u001b[1mNo Changes\u001b[22m\u001b[39m to `C:\\Users\\i am\\.julia\\environments\\v1.5\\Manifest.toml`\n"
     ]
    }
   ],
   "source": [
    "using VegaLite\n",
    "using DataFrames"
   ]
  },
  {
   "cell_type": "markdown",
   "metadata": {},
   "source": [
    "La matrice @vgplot del pacchetto vegalite prende in ingresso un dato sotto forma simile a un JSON che serve a definire forma struttura e dati del grafo da generare.  \n",
    "\n",
    "+ height::int = altezza grafico ottenuto  \n",
    "+ marks::array di {encode,from,type} = attributi grafici del grafico\n",
    "  un blocco {encode, from, type} rappresenta un elemento del grafico  \n",
    " + type = path rappresenta le linee che collegano i vari nodi  \n",
    " + type = symbol da una rappresentazione grafica al nodo stesso  \n",
    " + type = text è il testo scritto sul nodo\n",
    "+ data::array di insiemi di coppie nome valore = ogni elemento di data rappresenta una caratteristica da rappresentare\n",
    "   ogni elemento presenta un nome (usato dai marks per prendere dati con il loro campo from), dei dati (anche referenziati), e può avere una trasformazione da applicare ad essi\n",
    "+ singals = è un insieme di definizioni di caratteristicher che possoon essere delle enumerazioni, per poi poter scambiare i valori a runtime\n",
    "    \n"
   ]
  },
  {
   "cell_type": "code",
   "execution_count": 17,
   "metadata": {},
   "outputs": [
    {
     "data": {
      "application/vnd.vega.v5+json": {
       "data": [
        {
         "name": "tree",
         "transform": [
          {
           "key": "id",
           "parentKey": "parent",
           "type": "stratify"
          },
          {
           "as": [
            "y",
            "x",
            "depth",
            "children"
           ],
           "method": {
            "signal": "layout"
           },
           "separation": {
            "signal": "separation"
           },
           "size": [
            {
             "signal": "height"
            },
            {
             "signal": "width - 100"
            }
           ],
           "type": "tree"
          }
         ],
         "values": [
          {
           "id": 1,
           "name": "GROUP",
           "parent": null
          },
          {
           "id": 2,
           "name": "HEADER",
           "parent": 1
          },
          {
           "id": 3,
           "name": "ATTRIBUTES",
           "parent": 1
          },
          {
           "id": 4,
           "name": "DATASET",
           "parent": 1
          },
          {
           "id": 5,
           "name": "NAME",
           "parent": 3
          },
          {
           "id": 6,
           "name": "DATATYTPE",
           "parent": 3
          },
          {
           "id": 7,
           "name": "DATASPACE",
           "parent": 3
          },
          {
           "id": 8,
           "name": "DATA",
           "parent": 3
          },
          {
           "id": 9,
           "name": "HEADER",
           "parent": 4
          },
          {
           "id": 10,
           "name": "DATA ARRAY",
           "parent": 4
          },
          {
           "id": 11,
           "name": "ATTRIBUTES",
           "parent": 4
          },
          {
           "id": 12,
           "name": "NAME",
           "parent": 9
          },
          {
           "id": 13,
           "name": "DATATYPE",
           "parent": 9
          },
          {
           "id": 14,
           "name": "DATASPACE",
           "parent": 9
          },
          {
           "id": 15,
           "name": "STORAGE LAYOUT",
           "parent": 9
          },
          {
           "id": 16,
           "name": "NAME",
           "parent": 11
          },
          {
           "id": 17,
           "name": "DATATYTPE",
           "parent": 11
          },
          {
           "id": 18,
           "name": "DATASPACE",
           "parent": 11
          },
          {
           "id": 19,
           "name": "DATA",
           "parent": 11
          }
         ]
        },
        {
         "name": "links",
         "source": "tree",
         "transform": [
          {
           "type": "treelinks"
          },
          {
           "orient": "horizontal",
           "shape": {
            "signal": "links"
           },
           "type": "linkpath"
          }
         ]
        }
       ],
       "height": 800,
       "marks": [
        {
         "encode": {
          "update": {
           "path": {
            "field": "path"
           },
           "stroke": {
            "value": "#ccc"
           }
          }
         },
         "from": {
          "data": "links"
         },
         "type": "path"
        },
        {
         "encode": {
          "enter": {
           "size": {
            "value": 100
           },
           "stroke": {
            "value": "#fff"
           }
          },
          "update": {
           "fill": {
            "field": "depth",
            "scale": "color"
           },
           "x": {
            "field": "x"
           },
           "y": {
            "field": "y"
           }
          }
         },
         "from": {
          "data": "tree"
         },
         "type": "symbol"
        },
        {
         "encode": {
          "enter": {
           "baseline": {
            "value": "middle"
           },
           "fontSize": {
            "value": 9
           },
           "text": {
            "field": "name"
           }
          },
          "update": {
           "align": {
            "signal": "'right'"
           },
           "dx": {
            "signal": "datum.children ? -7 : 7"
           },
           "opacity": 1,
           "x": {
            "field": "x"
           },
           "y": {
            "field": "y"
           }
          }
         },
         "from": {
          "data": "tree"
         },
         "type": "text"
        }
       ],
       "scales": [
        {
         "domain": {
          "data": "tree",
          "field": "depth"
         },
         "name": "color",
         "range": {
          "scheme": "magma"
         },
         "type": "linear",
         "zero": true
        }
       ],
       "signals": [
        {
         "bind": {
          "input": "checkbox"
         },
         "name": "labels",
         "value": true
        },
        {
         "bind": {
          "input": "radio",
          "options": [
           "tidy",
           "cluster"
          ]
         },
         "name": "layout",
         "value": "tidy"
        },
        {
         "bind": {
          "input": "select",
          "options": [
           "line",
           "curve",
           "diagonal",
           "orthogonal"
          ]
         },
         "name": "links",
         "value": "orthogonal"
        },
        {
         "bind": {
          "input": "checkbox"
         },
         "name": "separation",
         "value": true
        }
       ],
       "width": 600
      },
      "image/png": "[encoded data removed]",
      "image/svg+xml": [
       "<?xml version=\"1.0\" encoding=\"utf-8\"?>\n",
       "<!DOCTYPE svg PUBLIC \"-//W3C//DTD SVG 1.1//EN\" \"http://www.w3.org/Graphics/SVG/1.1/DTD/svg11.dtd\">\n",
       "<svg class=\"marks\" width=\"641\" height=\"800\" viewBox=\"0 0 641 800\" version=\"1.1\" xmlns=\"http://www.w3.org/2000/svg\" xmlns:xlink=\"http://www.w3.org/1999/xlink\"><g fill=\"none\" stroke-miterlimit=\"10\" transform=\"translate(41,0)\"><g class=\"mark-group role-frame root\" role=\"graphics-object\" aria-roledescription=\"group mark container\"><g transform=\"translate(0,0)\"><path class=\"background\" aria-hidden=\"true\" d=\"M0,0h600v800h-600Z\"></path><g><g class=\"mark-path role-mark\" role=\"graphics-symbol\" aria-roledescription=\"path mark container\"><path transform=\"translate(0,0)\" d=\"M0,296.2962962962963V88.88888888888889H166.66666666666666\" stroke=\"#ccc\"></path><path transform=\"translate(0,0)\" d=\"M0,296.2962962962963V148.14814814814815H166.66666666666666\" stroke=\"#ccc\"></path><path transform=\"translate(0,0)\" d=\"M0,296.2962962962963V503.7037037037037H166.66666666666666\" stroke=\"#ccc\"></path><path transform=\"translate(0,0)\" d=\"M166.66666666666666,148.14814814814815V59.25925925925926H333.3333333333333\" stroke=\"#ccc\"></path><path transform=\"translate(0,0)\" d=\"M166.66666666666666,148.14814814814815V118.51851851851852H333.3333333333333\" stroke=\"#ccc\"></path><path transform=\"translate(0,0)\" d=\"M166.66666666666666,148.14814814814815V177.77777777777777H333.3333333333333\" stroke=\"#ccc\"></path><path transform=\"translate(0,0)\" d=\"M166.66666666666666,148.14814814814815V237.03703703703704H333.3333333333333\" stroke=\"#ccc\"></path><path transform=\"translate(0,0)\" d=\"M166.66666666666666,503.7037037037037V355.55555555555554H333.3333333333333\" stroke=\"#ccc\"></path><path transform=\"translate(0,0)\" d=\"M166.66666666666666,503.7037037037037V503.7037037037037H333.3333333333333\" stroke=\"#ccc\"></path><path transform=\"translate(0,0)\" d=\"M166.66666666666666,503.7037037037037V651.8518518518518H333.3333333333333\" stroke=\"#ccc\"></path><path transform=\"translate(0,0)\" d=\"M333.3333333333333,355.55555555555554V266.6666666666667H500\" stroke=\"#ccc\"></path><path transform=\"translate(0,0)\" d=\"M333.3333333333333,355.55555555555554V325.9259259259259H500\" stroke=\"#ccc\"></path><path transform=\"translate(0,0)\" d=\"M333.3333333333333,355.55555555555554V385.18518518518516H500\" stroke=\"#ccc\"></path><path transform=\"translate(0,0)\" d=\"M333.3333333333333,355.55555555555554V444.44444444444446H500\" stroke=\"#ccc\"></path><path transform=\"translate(0,0)\" d=\"M333.3333333333333,651.8518518518518V562.9629629629629H500\" stroke=\"#ccc\"></path><path transform=\"translate(0,0)\" d=\"M333.3333333333333,651.8518518518518V622.2222222222222H500\" stroke=\"#ccc\"></path><path transform=\"translate(0,0)\" d=\"M333.3333333333333,651.8518518518518V681.4814814814815H500\" stroke=\"#ccc\"></path><path transform=\"translate(0,0)\" d=\"M333.3333333333333,651.8518518518518V740.7407407407408H500\" stroke=\"#ccc\"></path></g><g class=\"mark-symbol role-mark\" role=\"graphics-symbol\" aria-roledescription=\"symbol mark container\"><path transform=\"translate(0,296.2962962962963)\" d=\"M5,0A5,5,0,1,1,-5,0A5,5,0,1,1,5,0\" fill=\"rgb(0, 0, 4)\" stroke=\"#fff\"></path><path transform=\"translate(166.66666666666666,88.88888888888889)\" d=\"M5,0A5,5,0,1,1,-5,0A5,5,0,1,1,5,0\" fill=\"rgb(114, 31, 129)\" stroke=\"#fff\"></path><path transform=\"translate(166.66666666666666,148.14814814814815)\" d=\"M5,0A5,5,0,1,1,-5,0A5,5,0,1,1,5,0\" fill=\"rgb(114, 31, 129)\" stroke=\"#fff\"></path><path transform=\"translate(166.66666666666666,503.7037037037037)\" d=\"M5,0A5,5,0,1,1,-5,0A5,5,0,1,1,5,0\" fill=\"rgb(114, 31, 129)\" stroke=\"#fff\"></path><path transform=\"translate(333.3333333333333,59.25925925925926)\" d=\"M5,0A5,5,0,1,1,-5,0A5,5,0,1,1,5,0\" fill=\"rgb(241, 96, 93)\" stroke=\"#fff\"></path><path transform=\"translate(333.3333333333333,118.51851851851852)\" d=\"M5,0A5,5,0,1,1,-5,0A5,5,0,1,1,5,0\" fill=\"rgb(241, 96, 93)\" stroke=\"#fff\"></path><path transform=\"translate(333.3333333333333,177.77777777777777)\" d=\"M5,0A5,5,0,1,1,-5,0A5,5,0,1,1,5,0\" fill=\"rgb(241, 96, 93)\" stroke=\"#fff\"></path><path transform=\"translate(333.3333333333333,237.03703703703704)\" d=\"M5,0A5,5,0,1,1,-5,0A5,5,0,1,1,5,0\" fill=\"rgb(241, 96, 93)\" stroke=\"#fff\"></path><path transform=\"translate(333.3333333333333,355.55555555555554)\" d=\"M5,0A5,5,0,1,1,-5,0A5,5,0,1,1,5,0\" fill=\"rgb(241, 96, 93)\" stroke=\"#fff\"></path><path transform=\"translate(333.3333333333333,503.7037037037037)\" d=\"M5,0A5,5,0,1,1,-5,0A5,5,0,1,1,5,0\" fill=\"rgb(241, 96, 93)\" stroke=\"#fff\"></path><path transform=\"translate(333.3333333333333,651.8518518518518)\" d=\"M5,0A5,5,0,1,1,-5,0A5,5,0,1,1,5,0\" fill=\"rgb(241, 96, 93)\" stroke=\"#fff\"></path><path transform=\"translate(500,266.6666666666667)\" d=\"M5,0A5,5,0,1,1,-5,0A5,5,0,1,1,5,0\" fill=\"rgb(252, 253, 191)\" stroke=\"#fff\"></path><path transform=\"translate(500,325.9259259259259)\" d=\"M5,0A5,5,0,1,1,-5,0A5,5,0,1,1,5,0\" fill=\"rgb(252, 253, 191)\" stroke=\"#fff\"></path><path transform=\"translate(500,385.18518518518516)\" d=\"M5,0A5,5,0,1,1,-5,0A5,5,0,1,1,5,0\" fill=\"rgb(252, 253, 191)\" stroke=\"#fff\"></path><path transform=\"translate(500,444.44444444444446)\" d=\"M5,0A5,5,0,1,1,-5,0A5,5,0,1,1,5,0\" fill=\"rgb(252, 253, 191)\" stroke=\"#fff\"></path><path transform=\"translate(500,562.9629629629629)\" d=\"M5,0A5,5,0,1,1,-5,0A5,5,0,1,1,5,0\" fill=\"rgb(252, 253, 191)\" stroke=\"#fff\"></path><path transform=\"translate(500,622.2222222222222)\" d=\"M5,0A5,5,0,1,1,-5,0A5,5,0,1,1,5,0\" fill=\"rgb(252, 253, 191)\" stroke=\"#fff\"></path><path transform=\"translate(500,681.4814814814815)\" d=\"M5,0A5,5,0,1,1,-5,0A5,5,0,1,1,5,0\" fill=\"rgb(252, 253, 191)\" stroke=\"#fff\"></path><path transform=\"translate(500,740.7407407407408)\" d=\"M5,0A5,5,0,1,1,-5,0A5,5,0,1,1,5,0\" fill=\"rgb(252, 253, 191)\" stroke=\"#fff\"></path></g><g class=\"mark-text role-mark\" role=\"graphics-object\" aria-roledescription=\"text mark container\"><text text-anchor=\"end\" transform=\"translate(-7,299.2962962962963)\" font-family=\"sans-serif\" font-size=\"9px\" fill=\"#000\">GROUP</text><text text-anchor=\"end\" transform=\"translate(173.66666666666666,91.88888888888889)\" font-family=\"sans-serif\" font-size=\"9px\" fill=\"#000\">HEADER</text><text text-anchor=\"end\" transform=\"translate(159.66666666666666,151.14814814814815)\" font-family=\"sans-serif\" font-size=\"9px\" fill=\"#000\">ATTRIBUTES</text><text text-anchor=\"end\" transform=\"translate(159.66666666666666,506.7037037037037)\" font-family=\"sans-serif\" font-size=\"9px\" fill=\"#000\">DATASET</text><text text-anchor=\"end\" transform=\"translate(340.3333333333333,62.25925925925926)\" font-family=\"sans-serif\" font-size=\"9px\" fill=\"#000\">NAME</text><text text-anchor=\"end\" transform=\"translate(340.3333333333333,121.51851851851852)\" font-family=\"sans-serif\" font-size=\"9px\" fill=\"#000\">DATATYTPE</text><text text-anchor=\"end\" transform=\"translate(340.3333333333333,180.77777777777777)\" font-family=\"sans-serif\" font-size=\"9px\" fill=\"#000\">DATASPACE</text><text text-anchor=\"end\" transform=\"translate(340.3333333333333,240.03703703703704)\" font-family=\"sans-serif\" font-size=\"9px\" fill=\"#000\">DATA</text><text text-anchor=\"end\" transform=\"translate(326.3333333333333,358.55555555555554)\" font-family=\"sans-serif\" font-size=\"9px\" fill=\"#000\">HEADER</text><text text-anchor=\"end\" transform=\"translate(340.3333333333333,506.7037037037037)\" font-family=\"sans-serif\" font-size=\"9px\" fill=\"#000\">DATA ARRAY</text><text text-anchor=\"end\" transform=\"translate(326.3333333333333,654.8518518518518)\" font-family=\"sans-serif\" font-size=\"9px\" fill=\"#000\">ATTRIBUTES</text><text text-anchor=\"end\" transform=\"translate(507,269.6666666666667)\" font-family=\"sans-serif\" font-size=\"9px\" fill=\"#000\">NAME</text><text text-anchor=\"end\" transform=\"translate(507,328.9259259259259)\" font-family=\"sans-serif\" font-size=\"9px\" fill=\"#000\">DATATYPE</text><text text-anchor=\"end\" transform=\"translate(507,388.18518518518516)\" font-family=\"sans-serif\" font-size=\"9px\" fill=\"#000\">DATASPACE</text><text text-anchor=\"end\" transform=\"translate(507,447.44444444444446)\" font-family=\"sans-serif\" font-size=\"9px\" fill=\"#000\">STORAGE LAYOUT</text><text text-anchor=\"end\" transform=\"translate(507,565.9629629629629)\" font-family=\"sans-serif\" font-size=\"9px\" fill=\"#000\">NAME</text><text text-anchor=\"end\" transform=\"translate(507,625.2222222222222)\" font-family=\"sans-serif\" font-size=\"9px\" fill=\"#000\">DATATYTPE</text><text text-anchor=\"end\" transform=\"translate(507,684.4814814814815)\" font-family=\"sans-serif\" font-size=\"9px\" fill=\"#000\">DATASPACE</text><text text-anchor=\"end\" transform=\"translate(507,743.7407407407408)\" font-family=\"sans-serif\" font-size=\"9px\" fill=\"#000\">DATA</text></g></g><path class=\"foreground\" aria-hidden=\"true\" d=\"\" display=\"none\"></path></g></g></g></svg>\n"
      ],
      "text/plain": [
       "@vgplot(\n",
       "    height=800,\n",
       "    marks=[\n",
       "        {\n",
       "            encode={\n",
       "                update={\n",
       "                    stroke={\n",
       "                        value=\"#ccc\"\n",
       "                    },\n",
       "                    path={\n",
       "                        field=\"path\"\n",
       "                    }\n",
       "                }\n",
       "            },\n",
       "            from={\n",
       "                data=\"links\"\n",
       "            },\n",
       "            type=\"path\"\n",
       "        },\n",
       "        {\n",
       "            encode={\n",
       "                update={\n",
       "                    x={\n",
       "                        field=\"x\"\n",
       "                    },\n",
       "                    fill={\n",
       "                        field=\"depth\",\n",
       "                        scale=\"color\"\n",
       "                    },\n",
       "                    y={\n",
       "                        field=\"y\"\n",
       "                    }\n",
       "                },\n",
       "                enter={\n",
       "                    stroke={\n",
       "                        value=\"#fff\"\n",
       "                    },\n",
       "                    size={\n",
       "                        value=100\n",
       "                    }\n",
       "                }\n",
       "            },\n",
       "            from={\n",
       "                data=\"tree\"\n",
       "            },\n",
       "            type=\"symbol\"\n",
       "        },\n",
       "        {\n",
       "            encode={\n",
       "                update={\n",
       "                    align={\n",
       "                        signal=\"'right'\"\n",
       "                    },\n",
       "                    x={\n",
       "                        field=\"x\"\n",
       "                    },\n",
       "                    dx={\n",
       "                        signal=\"datum.children ? -7 : 7\"\n",
       "                    },\n",
       "                    opacity=1,\n",
       "                    y={\n",
       "                        field=\"y\"\n",
       "                    }\n",
       "                },\n",
       "                enter={\n",
       "                    fontSize={\n",
       "                        value=9\n",
       "                    },\n",
       "                    text={\n",
       "                        field=\"name\"\n",
       "                    },\n",
       "                    baseline={\n",
       "                        value=\"middle\"\n",
       "                    }\n",
       "                }\n",
       "            },\n",
       "            from={\n",
       "                data=\"tree\"\n",
       "            },\n",
       "            type=\"text\"\n",
       "        }\n",
       "    ],\n",
       "    data=[\n",
       "        {\n",
       "            name=\"tree\",\n",
       "            values=...,\n",
       "            transform=[\n",
       "                {\n",
       "                    key=\"id\",\n",
       "                    parentKey=\"parent\",\n",
       "                    type=\"stratify\"\n",
       "                },\n",
       "                {\n",
       "                    method={\n",
       "                        signal=\"layout\"\n",
       "                    },\n",
       "                    separation={\n",
       "                        signal=\"separation\"\n",
       "                    },\n",
       "                    as=[\n",
       "                        \"y\",\n",
       "                        \"x\",\n",
       "                        \"depth\",\n",
       "                        \"children\"\n",
       "                    ],\n",
       "                    size=[\n",
       "                        {\n",
       "                            signal=\"height\"\n",
       "                        },\n",
       "                        {\n",
       "                            signal=\"width - 100\"\n",
       "                        }\n",
       "                    ],\n",
       "                    type=\"tree\"\n",
       "                }\n",
       "            ]\n",
       "        },\n",
       "        {\n",
       "            name=\"links\",\n",
       "            source=\"tree\",\n",
       "            transform=[\n",
       "                {\n",
       "                    type=\"treelinks\"\n",
       "                },\n",
       "                {\n",
       "                    shape={\n",
       "                        signal=\"links\"\n",
       "                    },\n",
       "                    type=\"linkpath\",\n",
       "                    orient=\"horizontal\"\n",
       "                }\n",
       "            ]\n",
       "        }\n",
       "    ],\n",
       "    scales=[\n",
       "        {\n",
       "            name=\"color\",\n",
       "            zero=true,\n",
       "            range={\n",
       "                scheme=\"magma\"\n",
       "            },\n",
       "            domain={\n",
       "                data=\"tree\",\n",
       "                field=\"depth\"\n",
       "            },\n",
       "            type=\"linear\"\n",
       "        }\n",
       "    ],\n",
       "    width=600,\n",
       "    signals=[\n",
       "        {\n",
       "            name=\"labels\",\n",
       "            bind={\n",
       "                input=\"checkbox\"\n",
       "            },\n",
       "            value=true\n",
       "        },\n",
       "        {\n",
       "            name=\"layout\",\n",
       "            bind={\n",
       "                options=[\n",
       "                    \"tidy\",\n",
       "                    \"cluster\"\n",
       "                ],\n",
       "                input=\"radio\"\n",
       "            },\n",
       "            value=\"tidy\"\n",
       "        },\n",
       "        {\n",
       "            name=\"links\",\n",
       "            bind={\n",
       "                options=[\n",
       "                    \"line\",\n",
       "                    \"curve\",\n",
       "                    \"diagonal\",\n",
       "                    \"orthogonal\"\n",
       "                ],\n",
       "                input=\"select\"\n",
       "            },\n",
       "            value=\"orthogonal\"\n",
       "        },\n",
       "        {\n",
       "            name=\"separation\",\n",
       "            bind={\n",
       "                input=\"checkbox\"\n",
       "            },\n",
       "            value=true\n",
       "        }\n",
       "    ]\n",
       ")"
      ]
     },
     "execution_count": 17,
     "metadata": {},
     "output_type": "execute_result"
    }
   ],
   "source": [
    "using CSV\n",
    "mylab = CSV.read(\"LABELS.txt\")\n",
    "using VegaLite\n",
    "@vgplot(\n",
    "    height=800,\n",
    "    marks=[\n",
    "        {\n",
    "            encode={\n",
    "                update={\n",
    "                    stroke={\n",
    "                        value=\"#ccc\"\n",
    "                    },\n",
    "                    path={\n",
    "                        field=\"path\"\n",
    "                    }\n",
    "                }\n",
    "            },\n",
    "            from={\n",
    "                data=\"links\"\n",
    "            },\n",
    "            type=\"path\"\n",
    "        },\n",
    "        {\n",
    "            encode={\n",
    "                update={\n",
    "                    x={\n",
    "                        field=\"x\"\n",
    "                    },\n",
    "                    fill={\n",
    "                        field=\"depth\",\n",
    "                        scale=\"color\"\n",
    "                    },\n",
    "                    y={\n",
    "                        field=\"y\"\n",
    "                    }\n",
    "                },\n",
    "                enter={\n",
    "                    stroke={\n",
    "                        value=\"#fff\"\n",
    "                    },\n",
    "                    size={\n",
    "                        value=100\n",
    "                    }\n",
    "                }\n",
    "            },\n",
    "            from={\n",
    "                data=\"tree\"\n",
    "            },\n",
    "            type=\"symbol\"\n",
    "        },\n",
    "        {\n",
    "            encode={\n",
    "                update={\n",
    "                    align={\n",
    "                        signal=\"'right'\"\n",
    "                    },\n",
    "                    x={\n",
    "                        field=\"x\"\n",
    "                    },\n",
    "                    dx={\n",
    "                        signal=\"datum.children ? -7 : 7\"\n",
    "                    },\n",
    "                    opacity=1\n",
    "                ,\n",
    "                    y={\n",
    "                        field=\"y\"\n",
    "                    }\n",
    "                },\n",
    "                enter={\n",
    "                    fontSize={\n",
    "                        value=9\n",
    "                    },\n",
    "                    text={\n",
    "                        field=\"name\"\n",
    "                    },\n",
    "                    baseline={\n",
    "                        value=\"middle\"\n",
    "                    }\n",
    "                }\n",
    "            },\n",
    "            from={\n",
    "                data=\"tree\"\n",
    "            },\n",
    "            type=\"text\"\n",
    "        }\n",
    "    ],\n",
    "    data=[\n",
    "        {\n",
    "            name=\"tree\",\n",
    "            values=mylab,\n",
    "            transform=[\n",
    "                {\n",
    "                    key=\"id\",\n",
    "                    parentKey=\"parent\",\n",
    "                    type=\"stratify\"\n",
    "                },\n",
    "                {\n",
    "                    method={\n",
    "                        signal=\"layout\"\n",
    "                    },\n",
    "                    separation={\n",
    "                        signal=\"separation\"\n",
    "                    },\n",
    "                    as=[\n",
    "                        \"y\",\n",
    "                        \"x\",\n",
    "                        \"depth\",\n",
    "                        \"children\"\n",
    "                    ],\n",
    "                    size=[\n",
    "                        {\n",
    "                            signal=\"height\"\n",
    "                        },\n",
    "                        {\n",
    "                            signal=\"width - 100\"\n",
    "                        }\n",
    "                    ],\n",
    "                    type=\"tree\"\n",
    "                }\n",
    "            ]\n",
    "        },\n",
    "        {\n",
    "            name=\"links\",\n",
    "            source=\"tree\",\n",
    "            transform=[\n",
    "                {\n",
    "                    type=\"treelinks\"\n",
    "                },\n",
    "                {\n",
    "                    shape={\n",
    "                        signal=\"links\"\n",
    "                    },\n",
    "                    type=\"linkpath\",\n",
    "                    orient=\"horizontal\"\n",
    "                }\n",
    "            ]\n",
    "        }\n",
    "    ],\n",
    "    scales=[\n",
    "        {\n",
    "            name=\"color\",\n",
    "            zero=true,\n",
    "            range={\n",
    "                scheme=\"magma\"\n",
    "            },\n",
    "            domain={\n",
    "                data=\"tree\",\n",
    "                field=\"depth\"\n",
    "            },\n",
    "            type=\"linear\"\n",
    "        }\n",
    "    ],\n",
    "    width=600,\n",
    "    signals=[\n",
    "        {\n",
    "            name=\"labels\",\n",
    "            bind={\n",
    "                input=\"checkbox\"\n",
    "            },\n",
    "            value=true\n",
    "        },\n",
    "        {\n",
    "            name=\"layout\",\n",
    "            bind={\n",
    "                options=[\n",
    "                    \"tidy\",\n",
    "                    \"cluster\"\n",
    "                ],\n",
    "                input=\"radio\"\n",
    "            },\n",
    "            value=\"tidy\"\n",
    "        },\n",
    "        {\n",
    "            name=\"links\",\n",
    "            bind={\n",
    "                options=[\n",
    "                    \"line\",\n",
    "                    \"curve\",\n",
    "                    \"diagonal\",\n",
    "                    \"orthogonal\"\n",
    "                ],\n",
    "                input=\"select\"\n",
    "            },\n",
    "            value=\"orthogonal\"\n",
    "        },\n",
    "        {\n",
    "            name=\"separation\",\n",
    "            bind={\n",
    "                input=\"checkbox\"\n",
    "            },\n",
    "            value=true\n",
    "        }\n",
    "    ]\n",
    ")"
   ]
  },
  {
   "cell_type": "code",
   "execution_count": null,
   "metadata": {},
   "outputs": [],
   "source": [
    "touch(\"downloads\")\n",
    "download(\"https://raw.githubusercontent.com/ageron/handson-ml/master/datasets/housing/housing.csv\",\"downloads/newhouses.csv\")\n",
    "houses = CSV.read(\"downloads/newhouses.csv\")\n",
    "download(\"https://github.com/JuliaAcademy/DataScience/raw/master/data/california-counties.json\",\"downloads/california-counties.json\")\n",
    "cali_shape = JSON.parsefile(\"downloads/california-counties.json\")\n",
    "VV = VegaDatasets.VegaJSONDataset(cali_shape,\"downloads/california-counties.json\")\n",
    "\n",
    "@vlplot(width=500, height=300) +   ###########################bakcground\n",
    "@vlplot(\n",
    "    mark={\n",
    "        :geoshape,\n",
    "        fill=:black,\n",
    "        stroke=:white\n",
    "    },\n",
    "    data={\n",
    "        values=VV,\n",
    "        format={\n",
    "            type=:topojson,\n",
    "            feature=:cb_2015_california_county_20m\n",
    "        }\n",
    "    },\n",
    "    projection={type=:albersUsa},\n",
    ")+###################################################################\n",
    "@vlplot(#####################scatterplot delle medie del df houses espresse per colore\n",
    "    :circle,\n",
    "    data=houses,\n",
    "    projection={type=:albersUsa},\n",
    "    longitude=\"longitude:q\",\n",
    "    latitude=\"latitude:q\",\n",
    "    size={value=12},\n",
    "    color=\"median_house_value:q\"\n",
    "                    \n",
    ")######################################"
   ]
  },
  {
   "cell_type": "code",
   "execution_count": null,
   "metadata": {},
   "outputs": [],
   "source": [
    "bucketprice = Int.(div.(houses[!,:median_house_value],50000))\n",
    "insertcols!(houses,3,:cprice=bucketprice)\n",
    "\n",
    "@vlplot(width=500, height=300) +\n",
    "@vlplot(\n",
    "    mark={\n",
    "        :geoshape,\n",
    "        fill=:black,\n",
    "        stroke=:white\n",
    "    },\n",
    "    data={\n",
    "        values=VV,\n",
    "        format={\n",
    "            type=:topojson,\n",
    "            feature=:cb_2015_california_county_20m\n",
    "        }\n",
    "    },\n",
    "    projection={type=:albersUsa},\n",
    ")+\n",
    "@vlplot(\n",
    "    :circle,\n",
    "    data=houses,\n",
    "    projection={type=:albersUsa},\n",
    "    longitude=\"longitude:q\",\n",
    "    latitude=\"latitude:q\",\n",
    "    size={value=12},\n",
    "    color=\"cprice:n\"\n",
    "                    \n",
    ")"
   ]
  },
  {
   "cell_type": "code",
   "execution_count": null,
   "metadata": {},
   "outputs": [],
   "source": [
    "X = houses[!, [:latitude,:longitude]]\n",
    "C = kmeans(Matrix(X)', 10) \n",
    "insertcols!(houses,3,:cluster10=>C.assignments)\n",
    "@vlplot(width=500, height=300) +\n",
    "@vlplot(\n",
    "    mark={\n",
    "        :geoshape,\n",
    "        fill=:black,\n",
    "        stroke=:white\n",
    "    },\n",
    "    data={\n",
    "        values=VV,\n",
    "        format={\n",
    "            type=:topojson,\n",
    "            feature=:cb_2015_california_county_20m\n",
    "        }\n",
    "    },\n",
    "    projection={type=:albersUsa},\n",
    ")+\n",
    "@vlplot(\n",
    "    :circle,\n",
    "    data=houses,\n",
    "    projection={type=:albersUsa},\n",
    "    longitude=\"longitude:q\",\n",
    "    latitude=\"latitude:q\",\n",
    "    size={value=12},\n",
    "    color=\"cluster10:n\"\n",
    "                    \n",
    ")"
   ]
  },
  {
   "cell_type": "code",
   "execution_count": null,
   "metadata": {},
   "outputs": [],
   "source": []
  }
 ],
 "metadata": {
  "kernelspec": {
   "display_name": "Julia 1.5.1",
   "language": "julia",
   "name": "julia-1.5"
  },
  "language_info": {
   "file_extension": ".jl",
   "mimetype": "application/julia",
   "name": "julia",
   "version": "1.5.1"
  }
 },
 "nbformat": 4,
 "nbformat_minor": 4
}
