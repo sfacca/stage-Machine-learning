{
 "cells": [
  {
   "cell_type": "markdown",
   "metadata": {},
   "source": [
    "+ https://www.queryverse.org/  \n",
    "+ https://www.youtube.com/watch?v=OFPNph-WxLM"
   ]
  },
  {
   "cell_type": "code",
   "execution_count": 1,
   "metadata": {},
   "outputs": [
    {
     "name": "stderr",
     "output_type": "stream",
     "text": [
      "\u001b[32m\u001b[1m Activating\u001b[22m\u001b[39m environment at `C:\\Users\\i am\\Documents\\GitHub\\stage-Machine-learning\\notebook\\appunti\\Project.toml`\n",
      "\u001b[32m\u001b[1m   Updating\u001b[22m\u001b[39m registry at `C:\\Users\\i am\\.julia\\registries\\General`\n",
      "\u001b[32m\u001b[1m  Resolving\u001b[22m\u001b[39m package versions...\n",
      "\u001b[32m\u001b[1m  Installed\u001b[22m\u001b[39m ParquetFiles ─── v0.2.0\n",
      "\u001b[32m\u001b[1m  Installed\u001b[22m\u001b[39m FeatherFiles ─── v0.8.1\n",
      "\u001b[32m\u001b[1m  Installed\u001b[22m\u001b[39m ReadOnlyArrays ─ v0.1.1\n",
      "\u001b[32m\u001b[1m  Installed\u001b[22m\u001b[39m MemPool ──────── v0.2.0\n",
      "\u001b[32m\u001b[1m  Installed\u001b[22m\u001b[39m ExcelReaders ─── v0.11.0\n",
      "\u001b[32m\u001b[1m  Installed\u001b[22m\u001b[39m Queryverse ───── v0.6.2\n",
      "\u001b[32m\u001b[1m  Installed\u001b[22m\u001b[39m Thrift ───────── v0.6.2\n",
      "\u001b[32m\u001b[1m  Installed\u001b[22m\u001b[39m IJulia ───────── v1.21.3\n",
      "\u001b[32m\u001b[1m  Installed\u001b[22m\u001b[39m ReadStat_jll ─── v1.1.1+0\n",
      "\u001b[32m\u001b[1m  Installed\u001b[22m\u001b[39m CodecZlib ────── v0.6.0\n",
      "\u001b[32m\u001b[1m  Installed\u001b[22m\u001b[39m CSVFiles ─────── v1.0.0\n",
      "\u001b[32m\u001b[1m  Installed\u001b[22m\u001b[39m QueryOperators ─ v0.9.2\n",
      "\u001b[32m\u001b[1m  Installed\u001b[22m\u001b[39m NNlib ────────── v0.7.5\n",
      "\u001b[32m\u001b[1m  Installed\u001b[22m\u001b[39m ChainRules ───── v0.7.23\n",
      "\u001b[32m\u001b[1m  Installed\u001b[22m\u001b[39m DataVoyager ──── v1.0.0\n",
      "\u001b[32m\u001b[1m  Installed\u001b[22m\u001b[39m DataTables ───── v0.1.0\n",
      "\u001b[32m\u001b[1m  Installed\u001b[22m\u001b[39m Snappy ───────── v0.3.0\n",
      "\u001b[32m\u001b[1m  Installed\u001b[22m\u001b[39m GPUArrays ────── v5.2.1\n",
      "\u001b[32m\u001b[1m  Installed\u001b[22m\u001b[39m Electron ─────── v2.0.1\n",
      "\u001b[32m\u001b[1m  Installed\u001b[22m\u001b[39m Query ────────── v1.0.0\n",
      "\u001b[32m\u001b[1m  Installed\u001b[22m\u001b[39m ProtoBuf ─────── v0.8.0\n",
      "\u001b[32m\u001b[1m  Installed\u001b[22m\u001b[39m ChainRulesCore ─ v0.9.15\n",
      "\u001b[32m\u001b[1m  Installed\u001b[22m\u001b[39m Zygote ───────── v0.5.8\n",
      "\u001b[32m\u001b[1m  Installed\u001b[22m\u001b[39m StatFiles ────── v0.8.0\n",
      "\u001b[32m\u001b[1m  Installed\u001b[22m\u001b[39m ReadStat ─────── v1.0.2\n",
      "\u001b[32m\u001b[1m  Installed\u001b[22m\u001b[39m Arrow ────────── v0.2.4\n",
      "\u001b[32m\u001b[1m  Installed\u001b[22m\u001b[39m FlatBuffers ──── v0.5.4\n",
      "\u001b[32m\u001b[1m  Installed\u001b[22m\u001b[39m ExcelFiles ───── v1.0.0\n",
      "\u001b[32m\u001b[1m  Installed\u001b[22m\u001b[39m Parquet ──────── v0.4.0\n",
      "\u001b[32m\u001b[1m  Installed\u001b[22m\u001b[39m FeatherLib ───── v0.2.0\n",
      "\u001b[32m\u001b[1m  Installed\u001b[22m\u001b[39m Juno ─────────── v0.8.4\n",
      "\u001b[32m\u001b[1m  Installed\u001b[22m\u001b[39m CodecZstd ────── v0.7.0\n",
      "\u001b[32m\u001b[1mUpdating\u001b[22m\u001b[39m `C:\\Users\\i am\\Documents\\GitHub\\stage-Machine-learning\\notebook\\appunti\\Project.toml`\n",
      " \u001b[90m [612083be] \u001b[39m\u001b[92m+ Queryverse v0.6.2\u001b[39m\n",
      "\u001b[32m\u001b[1mUpdating\u001b[22m\u001b[39m `C:\\Users\\i am\\Documents\\GitHub\\stage-Machine-learning\\notebook\\appunti\\Manifest.toml`\n",
      " \u001b[90m [79e6a3ab] \u001b[39m\u001b[93m↑ Adapt v2.0.2 ⇒ v2.3.0\u001b[39m\n",
      " \u001b[90m [4fba245c] \u001b[39m\u001b[93m↑ ArrayInterface v2.12.0 ⇒ v2.13.5\u001b[39m\n",
      " \u001b[90m [69666777] \u001b[39m\u001b[92m+ Arrow v0.2.4\u001b[39m\n",
      " \u001b[90m [56f22d72] \u001b[39m\u001b[92m+ Artifacts v1.3.0\u001b[39m\n",
      " \u001b[90m [6e34b625] \u001b[39m\u001b[93m↑ Bzip2_jll v1.0.6+4 ⇒ v1.0.6+5\u001b[39m\n",
      " \u001b[90m [5d742f6a] \u001b[39m\u001b[92m+ CSVFiles v1.0.0\u001b[39m\n",
      " \u001b[90m [324d7699] \u001b[39m\u001b[93m↑ CategoricalArrays v0.8.2 ⇒ v0.8.3\u001b[39m\n",
      " \u001b[90m [082447d4] \u001b[39m\u001b[93m↑ ChainRules v0.7.19 ⇒ v0.7.23\u001b[39m\n",
      " \u001b[90m [d360d2e6] \u001b[39m\u001b[93m↑ ChainRulesCore v0.9.10 ⇒ v0.9.15\u001b[39m\n",
      " \u001b[90m [944b1d66] \u001b[39m\u001b[95m↓ CodecZlib v0.7.0 ⇒ v0.6.0\u001b[39m\n",
      " \u001b[90m [6b39b394] \u001b[39m\u001b[92m+ CodecZstd v0.7.0\u001b[39m\n",
      " \u001b[90m [34da2185] \u001b[39m\u001b[93m↑ Compat v3.16.0 ⇒ v3.20.0\u001b[39m\n",
      " \u001b[90m [743a1d0a] \u001b[39m\u001b[92m+ DataTables v0.1.0\u001b[39m\n",
      " \u001b[90m [5721bf48] \u001b[39m\u001b[92m+ DataVoyager v1.0.0\u001b[39m\n",
      " \u001b[90m [a1bb12fb] \u001b[39m\u001b[92m+ Electron v2.0.1\u001b[39m\n",
      " \u001b[90m [89b67f3b] \u001b[39m\u001b[92m+ ExcelFiles v1.0.0\u001b[39m\n",
      " \u001b[90m [c04bee98] \u001b[39m\u001b[92m+ ExcelReaders v0.11.0\u001b[39m\n",
      " \u001b[90m [b22a6f82] \u001b[39m\u001b[93m↑ FFMPEG_jll v4.3.1+2 ⇒ v4.3.1+4\u001b[39m\n",
      " \u001b[90m [b675d258] \u001b[39m\u001b[92m+ FeatherFiles v0.8.1\u001b[39m\n",
      " \u001b[90m [409f5150] \u001b[39m\u001b[92m+ FeatherLib v0.2.0\u001b[39m\n",
      " \u001b[90m [53afe959] \u001b[39m\u001b[92m+ FlatBuffers v0.5.4\u001b[39m\n",
      " \u001b[90m [d7e528f0] \u001b[39m\u001b[93m↑ FreeType2_jll v2.10.1+4 ⇒ v2.10.1+5\u001b[39m\n",
      " \u001b[90m [559328eb] \u001b[39m\u001b[93m↑ FriBidi_jll v1.0.5+5 ⇒ v1.0.5+6\u001b[39m\n",
      " \u001b[90m [0656b61e] \u001b[39m\u001b[93m↑ GLFW_jll v3.3.2+0 ⇒ v3.3.2+1\u001b[39m\n",
      " \u001b[90m [0c68f7d7] \u001b[39m\u001b[93m↑ GPUArrays v5.2.0 ⇒ v5.2.1\u001b[39m\n",
      " \u001b[90m [42e2da0e] \u001b[39m\u001b[92m+ Grisu v1.0.0\u001b[39m\n",
      " \u001b[90m [cd3eb016] \u001b[39m\u001b[93m↑ HTTP v0.8.17 ⇒ v0.8.19\u001b[39m\n",
      " \u001b[90m [2803e5a7] \u001b[39m\u001b[93m↑ ImageAxes v0.6.5 ⇒ v0.6.7\u001b[39m\n",
      " \u001b[90m [a09fc81d] \u001b[39m\u001b[93m↑ ImageCore v0.8.16 ⇒ v0.8.18\u001b[39m\n",
      " \u001b[90m [51556ac3] \u001b[39m\u001b[93m↑ ImageDistances v0.2.7 ⇒ v0.2.8\u001b[39m\n",
      " \u001b[90m [6a3955dd] \u001b[39m\u001b[93m↑ ImageFiltering v0.6.15 ⇒ v0.6.16\u001b[39m\n",
      " \u001b[90m [bc367c6b] \u001b[39m\u001b[93m↑ ImageMetadata v0.9.2 ⇒ v0.9.4\u001b[39m\n",
      " \u001b[90m [787d08f9] \u001b[39m\u001b[93m↑ ImageMorphology v0.2.8 ⇒ v0.2.9\u001b[39m\n",
      " \u001b[90m [692b3bcd] \u001b[39m\u001b[92m+ JLLWrappers v1.1.2\u001b[39m\n",
      " \u001b[90m [e5e0dc1b] \u001b[39m\u001b[93m↑ Juno v0.8.3 ⇒ v0.8.4\u001b[39m\n",
      " \u001b[90m [c1c5ebd0] \u001b[39m\u001b[93m↑ LAME_jll v3.100.0+2 ⇒ v3.100.0+3\u001b[39m\n",
      " \u001b[90m [b964fa9f] \u001b[39m\u001b[93m↑ LaTeXStrings v1.1.0 ⇒ v1.2.0\u001b[39m\n",
      " \u001b[90m [50d2b5c4] \u001b[39m\u001b[93m↑ Lazy v0.14.0 ⇒ v0.15.1\u001b[39m\n",
      " \u001b[90m [dd192d2f] \u001b[39m\u001b[93m↑ LibVPX_jll v1.9.0+0 ⇒ v1.9.0+1\u001b[39m\n",
      " \u001b[90m [7e76a0d4] \u001b[39m\u001b[93m↑ Libglvnd_jll v1.3.0+1 ⇒ v1.3.0+2\u001b[39m\n",
      " \u001b[90m [f9f48841] \u001b[39m\u001b[92m+ MemPool v0.2.0\u001b[39m\n",
      " \u001b[90m [ffc61752] \u001b[39m\u001b[93m↑ Mustache v1.0.5 ⇒ v1.0.6\u001b[39m\n",
      " \u001b[90m [a975b10e] \u001b[39m\u001b[93m↑ Mux v0.7.2 ⇒ v0.7.3\u001b[39m\n",
      " \u001b[90m [872c559c] \u001b[39m\u001b[93m↑ NNlib v0.7.4 ⇒ v0.7.5\u001b[39m\n",
      " \u001b[90m [510215fc] \u001b[39m\u001b[93m↑ Observables v0.3.1 ⇒ v0.3.2\u001b[39m\n",
      " \u001b[90m [6fe1bfb0] \u001b[39m\u001b[93m↑ OffsetArrays v1.2.0 ⇒ v1.3.1\u001b[39m\n",
      " \u001b[90m [e7412a2a] \u001b[39m\u001b[93m↑ Ogg_jll v1.3.4+1 ⇒ v1.3.4+2\u001b[39m\n",
      " \u001b[90m [458c3c95] \u001b[39m\u001b[93m↑ OpenSSL_jll v1.1.1+5 ⇒ v1.1.1+6\u001b[39m\n",
      " \u001b[90m [91d4177d] \u001b[39m\u001b[93m↑ Opus_jll v1.3.1+2 ⇒ v1.3.1+3\u001b[39m\n",
      " \u001b[90m [bac558e1] \u001b[39m\u001b[93m↑ OrderedCollections v1.3.0 ⇒ v1.3.1\u001b[39m\n",
      " \u001b[90m [90014a1f] \u001b[39m\u001b[93m↑ PDMats v0.10.0 ⇒ v0.10.1\u001b[39m\n",
      " \u001b[90m [5432bcbf] \u001b[39m\u001b[93m↑ PaddedViews v0.5.5 ⇒ v0.5.6\u001b[39m\n",
      " \u001b[90m [626c502c] \u001b[39m\u001b[92m+ Parquet v0.4.0\u001b[39m\n",
      " \u001b[90m [46a55296] \u001b[39m\u001b[92m+ ParquetFiles v0.2.0\u001b[39m\n",
      " \u001b[90m [69de0a69] \u001b[39m\u001b[93m↑ Parsers v1.0.10 ⇒ v1.0.11\u001b[39m\n",
      " \u001b[90m [f27b6e38] \u001b[39m\u001b[93m↑ Polynomials v1.1.7 ⇒ v1.1.9\u001b[39m\n",
      " \u001b[90m [3349acd9] \u001b[39m\u001b[92m+ ProtoBuf v0.8.0\u001b[39m\n",
      " \u001b[90m [1a8c2f83] \u001b[39m\u001b[92m+ Query v1.0.0\u001b[39m\n",
      " \u001b[90m [2aef5ad7] \u001b[39m\u001b[92m+ QueryOperators v0.9.2\u001b[39m\n",
      " \u001b[90m [612083be] \u001b[39m\u001b[92m+ Queryverse v0.6.2\u001b[39m\n",
      " \u001b[90m [988b38a3] \u001b[39m\u001b[92m+ ReadOnlyArrays v0.1.1\u001b[39m\n",
      " \u001b[90m [d71aba96] \u001b[39m\u001b[92m+ ReadStat v1.0.2\u001b[39m\n",
      " \u001b[90m [a4dc8951] \u001b[39m\u001b[92m+ ReadStat_jll v1.1.1+0\u001b[39m\n",
      " \u001b[90m [ae029012] \u001b[39m\u001b[93m↑ Requires v1.0.2 ⇒ v1.1.0\u001b[39m\n",
      " \u001b[90m [91c51154] \u001b[39m\u001b[93m↑ SentinelArrays v1.2.15 ⇒ v1.2.16\u001b[39m\n",
      " \u001b[90m [992d4aef] \u001b[39m\u001b[93m↑ Showoff v0.3.1 ⇒ v0.3.2\u001b[39m\n",
      " \u001b[90m [59d4ed8c] \u001b[39m\u001b[92m+ Snappy v0.3.0\u001b[39m\n",
      " \u001b[90m [1463e38c] \u001b[39m\u001b[92m+ StatFiles v0.8.0\u001b[39m\n",
      " \u001b[90m [3eaba693] \u001b[39m\u001b[93m↑ StatsModels v0.6.14 ⇒ v0.6.15\u001b[39m\n",
      " \u001b[90m [8d9c9c80] \u001b[39m\u001b[92m+ Thrift v0.6.2\u001b[39m\n",
      " \u001b[90m [06e1c1a7] \u001b[39m\u001b[93m↑ TiledIteration v0.2.4 ⇒ v0.2.5\u001b[39m\n",
      " \u001b[90m [f269a46b] \u001b[39m\u001b[93m↑ TimeZones v1.3.2 ⇒ v1.4.0\u001b[39m\n",
      " \u001b[90m [0f1e0344] \u001b[39m\u001b[93m↑ WebIO v0.8.14 ⇒ v0.8.15\u001b[39m\n",
      " \u001b[90m [a5390f91] \u001b[39m\u001b[93m↑ ZipFile v0.9.2 ⇒ v0.9.3\u001b[39m\n",
      " \u001b[90m [83775a58] \u001b[39m\u001b[93m↑ Zlib_jll v1.2.11+16 ⇒ v1.2.11+17\u001b[39m\n",
      " \u001b[90m [e88e6eb3] \u001b[39m\u001b[93m↑ Zygote v0.5.7 ⇒ v0.5.8\u001b[39m\n",
      " \u001b[90m [0ac62f75] \u001b[39m\u001b[93m↑ libass_jll v0.14.0+3 ⇒ v0.14.0+4\u001b[39m\n",
      " \u001b[90m [f638f0a6] \u001b[39m\u001b[93m↑ libfdk_aac_jll v0.1.6+3 ⇒ v0.1.6+4\u001b[39m\n",
      " \u001b[90m [f27f6e37] \u001b[39m\u001b[93m↑ libvorbis_jll v1.3.6+5 ⇒ v1.3.6+6\u001b[39m\n",
      " \u001b[90m [1270edf5] \u001b[39m\u001b[93m↑ x264_jll v2020.7.14+1 ⇒ v2020.7.14+2\u001b[39m\n",
      " \u001b[90m [dfaa095f] \u001b[39m\u001b[93m↑ x265_jll v3.0.0+2 ⇒ v3.0.0+3\u001b[39m\n",
      "\u001b[32m\u001b[1m   Building\u001b[22m\u001b[39m IJulia ───→ `C:\\Users\\i am\\.julia\\packages\\IJulia\\tOM8L\\deps\\build.log`\n",
      "\u001b[32m\u001b[1m   Building\u001b[22m\u001b[39m Thrift ───→ `C:\\Users\\i am\\.julia\\packages\\Thrift\\Xjowa\\deps\\build.log`\n",
      "\u001b[32m\u001b[1m   Building\u001b[22m\u001b[39m CodecZlib → `C:\\Users\\i am\\.julia\\packages\\CodecZlib\\5t9zO\\deps\\build.log`\n",
      "\u001b[32m\u001b[1m   Building\u001b[22m\u001b[39m Snappy ───→ `C:\\Users\\i am\\.julia\\packages\\Snappy\\O2CHr\\deps\\build.log`\n"
     ]
    }
   ],
   "source": [
    "using Pkg\n",
    "Pkg.activate(\".\")\n",
    "\n",
    "Pkg.add(\"Queryverse\")\n",
    "\n",
    "Pkg.instantiate()"
   ]
  },
  {
   "cell_type": "code",
   "execution_count": 5,
   "metadata": {},
   "outputs": [
    {
     "name": "stderr",
     "output_type": "stream",
     "text": [
      "\u001b[32m\u001b[1m  Resolving\u001b[22m\u001b[39m package versions...\n",
      "\u001b[32m\u001b[1m  Installed\u001b[22m\u001b[39m OnlineStatsBase ─ v1.4.4\n",
      "\u001b[32m\u001b[1m  Installed\u001b[22m\u001b[39m IndexedTables ─── v0.13.0\n",
      "\u001b[32m\u001b[1mUpdating\u001b[22m\u001b[39m `C:\\Users\\i am\\Documents\\GitHub\\stage-Machine-learning\\notebook\\appunti\\Project.toml`\n",
      " \u001b[90m [6deec6e2] \u001b[39m\u001b[92m+ IndexedTables v0.13.0\u001b[39m\n",
      "\u001b[32m\u001b[1mUpdating\u001b[22m\u001b[39m `C:\\Users\\i am\\Documents\\GitHub\\stage-Machine-learning\\notebook\\appunti\\Manifest.toml`\n",
      " \u001b[90m [6deec6e2] \u001b[39m\u001b[92m+ IndexedTables v0.13.0\u001b[39m\n",
      " \u001b[90m [925886fa] \u001b[39m\u001b[92m+ OnlineStatsBase v1.4.4\u001b[39m\n"
     ]
    }
   ],
   "source": [
    "Pkg.add(\"IndexedTables\")"
   ]
  },
  {
   "cell_type": "code",
   "execution_count": 6,
   "metadata": {},
   "outputs": [
    {
     "name": "stderr",
     "output_type": "stream",
     "text": [
      "┌ Info: Precompiling IndexedTables [6deec6e2-d858-57c5-ab9b-e6ca5bd20e43]\n",
      "└ @ Base loading.jl:1278\n"
     ]
    }
   ],
   "source": [
    "using Queryverse\n",
    "using VegaDatasets\n",
    "using IndexedTables\n",
    "#using GLM"
   ]
  },
  {
   "cell_type": "markdown",
   "metadata": {},
   "source": [
    "# queryvrse\n",
    "stack di pacchetti julia dedicati a data science\n"
   ]
  },
  {
   "cell_type": "markdown",
   "metadata": {},
   "source": [
    "# voyajer\n",
    "summaryu grafico di dataset, scieglie automaticamente rappresentazione grafica opportuna per ogni elemento del dataset"
   ]
  },
  {
   "cell_type": "markdown",
   "metadata": {},
   "source": [
    "# file io\n",
    "salvataggio dati"
   ]
  },
  {
   "cell_type": "markdown",
   "metadata": {},
   "source": [
    "# query\n",
    "manipolazione dati"
   ]
  },
  {
   "cell_type": "code",
   "execution_count": 3,
   "metadata": {},
   "outputs": [],
   "source": [
    "#vegalite / voyajer"
   ]
  },
  {
   "cell_type": "code",
   "execution_count": null,
   "metadata": {},
   "outputs": [],
   "source": []
  }
 ],
 "metadata": {
  "kernelspec": {
   "display_name": "Julia 1.5.1",
   "language": "julia",
   "name": "julia-1.5"
  },
  "language_info": {
   "file_extension": ".jl",
   "mimetype": "application/julia",
   "name": "julia",
   "version": "1.5.1"
  }
 },
 "nbformat": 4,
 "nbformat_minor": 4
}
