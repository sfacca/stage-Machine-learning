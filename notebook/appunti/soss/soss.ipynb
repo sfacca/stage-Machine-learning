{
 "cells": [
  {
   "cell_type": "code",
   "execution_count": 1,
   "metadata": {},
   "outputs": [
    {
     "name": "stderr",
     "output_type": "stream",
     "text": [
      "\u001b[32m\u001b[1m Activating\u001b[22m\u001b[39m environment at `C:\\Users\\i am\\Documents\\GitHub\\stage-Machine-learning\\notebook\\appunti\\soss\\Project.toml`\n",
      "\u001b[32m\u001b[1m   Updating\u001b[22m\u001b[39m registry at `C:\\Users\\i am\\.julia\\registries\\General`\n",
      "\u001b[32m\u001b[1m  Resolving\u001b[22m\u001b[39m package versions...\n",
      "\u001b[32m\u001b[1mNo Changes\u001b[22m\u001b[39m to `C:\\Users\\i am\\Documents\\GitHub\\stage-Machine-learning\\notebook\\appunti\\soss\\Project.toml`\n",
      "\u001b[32m\u001b[1mNo Changes\u001b[22m\u001b[39m to `C:\\Users\\i am\\Documents\\GitHub\\stage-Machine-learning\\notebook\\appunti\\soss\\Manifest.toml`\n",
      "\u001b[32m\u001b[1m  Resolving\u001b[22m\u001b[39m package versions...\n",
      "\u001b[32m\u001b[1mUpdating\u001b[22m\u001b[39m `C:\\Users\\i am\\Documents\\GitHub\\stage-Machine-learning\\notebook\\appunti\\soss\\Project.toml`\n",
      " \u001b[90m [a734d2a7] \u001b[39m\u001b[92m+ NestedTuples v0.1.1\u001b[39m\n",
      "\u001b[32m\u001b[1mUpdating\u001b[22m\u001b[39m `C:\\Users\\i am\\Documents\\GitHub\\stage-Machine-learning\\notebook\\appunti\\soss\\Manifest.toml`\n",
      " \u001b[90m [7d9f7c33] \u001b[39m\u001b[92m+ Accessors v0.1.1\u001b[39m\n",
      " \u001b[90m [198e06fe] \u001b[39m\u001b[92m+ BangBang v0.3.29\u001b[39m\n",
      " \u001b[90m [a33af91c] \u001b[39m\u001b[92m+ CompositionsBase v0.1.0\u001b[39m\n",
      " \u001b[90m [e2d170a0] \u001b[39m\u001b[92m+ DataValueInterfaces v1.0.0\u001b[39m\n",
      " \u001b[90m [22cec73e] \u001b[39m\u001b[92m+ InitialValues v0.2.10\u001b[39m\n",
      " \u001b[90m [82899510] \u001b[39m\u001b[92m+ IteratorInterfaceExtensions v1.0.0\u001b[39m\n",
      " \u001b[90m [a734d2a7] \u001b[39m\u001b[92m+ NestedTuples v0.1.1\u001b[39m\n",
      " \u001b[90m [3783bdb8] \u001b[39m\u001b[92m+ TableTraits v1.0.0\u001b[39m\n",
      " \u001b[90m [bd369af6] \u001b[39m\u001b[92m+ Tables v1.2.2\u001b[39m\n",
      "\u001b[32m\u001b[1m  Resolving\u001b[22m\u001b[39m package versions...\n",
      "\u001b[32m\u001b[1mUpdating\u001b[22m\u001b[39m `C:\\Users\\i am\\Documents\\GitHub\\stage-Machine-learning\\notebook\\appunti\\soss\\Project.toml`\n",
      " \u001b[90m [fc9b0551] \u001b[39m\u001b[92m+ SymbolicCodegen v0.1.1\u001b[39m\n",
      "\u001b[32m\u001b[1mUpdating\u001b[22m\u001b[39m `C:\\Users\\i am\\Documents\\GitHub\\stage-Machine-learning\\notebook\\appunti\\soss\\Manifest.toml`\n",
      " \u001b[90m [c3fe647b] \u001b[39m\u001b[92m+ AbstractAlgebra v0.12.0\u001b[39m\n",
      " \u001b[90m [fb686558] \u001b[39m\u001b[92m+ RandomExtensions v0.4.3\u001b[39m\n",
      " \u001b[90m [7e49a35a] \u001b[39m\u001b[92m+ RuntimeGeneratedFunctions v0.5.0\u001b[39m\n",
      " \u001b[90m [fc9b0551] \u001b[39m\u001b[92m+ SymbolicCodegen v0.1.1\u001b[39m\n",
      " \u001b[90m [d1185830] \u001b[39m\u001b[92m+ SymbolicUtils v0.7.4\u001b[39m\n",
      " \u001b[90m [a759f4b9] \u001b[39m\u001b[92m+ TimerOutputs v0.5.7\u001b[39m\n"
     ]
    }
   ],
   "source": [
    "using Pkg\n",
    "Pkg.activate(\".\")\n",
    "Pkg.add(\"Soss\")\n",
    "#Pkg.add(url=\"https://github.com/cscherrer/MeasureTheory.jl\")\n",
    "Pkg.add(\"NestedTuples\")\n",
    "Pkg.add(\"SymbolicCodegen\")"
   ]
  },
  {
   "cell_type": "code",
   "execution_count": 2,
   "metadata": {},
   "outputs": [
    {
     "name": "stderr",
     "output_type": "stream",
     "text": [
      "┌ Info: Precompiling Soss [8ce77f84-9b61-11e8-39ff-d17a774bf41c]\n",
      "└ @ Base loading.jl:1278\n",
      "┌ Info: Precompiling BenchmarkTools [6e4b80f9-dd63-53aa-95a3-0cdb28fa8baf]\n",
      "└ @ Base loading.jl:1278\n",
      "┌ Info: Precompiling NestedTuples [a734d2a7-8d68-409b-9419-626914d4061d]\n",
      "└ @ Base loading.jl:1278\n",
      "┌ Info: Precompiling SymbolicCodegen [fc9b0551-4f1b-42e1-8440-e8a535f5a551]\n",
      "└ @ Base loading.jl:1278\n"
     ]
    }
   ],
   "source": [
    "using Soss, NestedTuples, SymbolicCodegen"
   ]
  },
  {
   "cell_type": "code",
   "execution_count": 3,
   "metadata": {},
   "outputs": [],
   "source": [
    "m = @model σ begin\n",
    "           μ ~ StudentT(3.0)\n",
    "           x ~ Normal(μ, σ) |> iid(1000)\n",
    "           return x\n",
    "       end;\n",
    "x = rand(m(σ=2.0));"
   ]
  },
  {
   "cell_type": "code",
   "execution_count": 6,
   "metadata": {},
   "outputs": [
    {
     "ename": "LoadError",
     "evalue": "MethodError: no method matching |(::Soss.JointDistribution{NamedTuple{(:σ,),Tuple{Float64}},NamedTuple{(:σ,),T} where T<:Tuple,TypeEncoding(begin\n    μ ~ StudentT(3.0)\n    x ~ Normal(μ, σ) |> iid(1000)\n    return x\nend),TypeEncoding(Main)}, ::NamedTuple{(:x,),Tuple{Array{Float64,1}}})\nClosest candidates are:\n  |(::Any, ::Any, !Matched::Any, !Matched::Any...) at operators.jl:538\n  |(!Matched::Union{InitialValues.NonspecificInitialValue, InitialValues.SpecificInitialValue{typeof(|)}}, ::Any) at C:\\Users\\i am\\.julia\\packages\\InitialValues\\EPz1F\\src\\InitialValues.jl:153\n  |(::Any, !Matched::Union{InitialValues.NonspecificInitialValue, InitialValues.SpecificInitialValue{typeof(|)}}) at C:\\Users\\i am\\.julia\\packages\\InitialValues\\EPz1F\\src\\InitialValues.jl:160",
     "output_type": "error",
     "traceback": [
      "MethodError: no method matching |(::Soss.JointDistribution{NamedTuple{(:σ,),Tuple{Float64}},NamedTuple{(:σ,),T} where T<:Tuple,TypeEncoding(begin\n    μ ~ StudentT(3.0)\n    x ~ Normal(μ, σ) |> iid(1000)\n    return x\nend),TypeEncoding(Main)}, ::NamedTuple{(:x,),Tuple{Array{Float64,1}}})\nClosest candidates are:\n  |(::Any, ::Any, !Matched::Any, !Matched::Any...) at operators.jl:538\n  |(!Matched::Union{InitialValues.NonspecificInitialValue, InitialValues.SpecificInitialValue{typeof(|)}}, ::Any) at C:\\Users\\i am\\.julia\\packages\\InitialValues\\EPz1F\\src\\InitialValues.jl:153\n  |(::Any, !Matched::Union{InitialValues.NonspecificInitialValue, InitialValues.SpecificInitialValue{typeof(|)}}) at C:\\Users\\i am\\.julia\\packages\\InitialValues\\EPz1F\\src\\InitialValues.jl:160",
      "",
      "Stacktrace:",
      " [1] top-level scope at In[6]:1",
      " [2] include_string(::Function, ::Module, ::String, ::String) at .\\loading.jl:1091"
     ]
    }
   ],
   "source": [
    "post = m(σ=2.0) | (;x)"
   ]
  },
  {
   "cell_type": "code",
   "execution_count": 7,
   "metadata": {},
   "outputs": [
    {
     "ename": "LoadError",
     "evalue": "UndefVarError: symlogdensity not defined",
     "output_type": "error",
     "traceback": [
      "UndefVarError: symlogdensity not defined",
      "",
      "Stacktrace:",
      " [1] top-level scope at In[7]:1",
      " [2] include_string(::Function, ::Module, ::String, ::String) at .\\loading.jl:1091"
     ]
    }
   ],
   "source": [
    "symlogdensity(m)"
   ]
  },
  {
   "cell_type": "code",
   "execution_count": null,
   "metadata": {},
   "outputs": [],
   "source": [
    "symlogdensity(post) |> SymbolicCodegen.cse"
   ]
  },
  {
   "cell_type": "code",
   "execution_count": null,
   "metadata": {},
   "outputs": [],
   "source": [
    "sourceCodegen(post)"
   ]
  },
  {
   "cell_type": "code",
   "execution_count": null,
   "metadata": {},
   "outputs": [],
   "source": [
    "codegen(post).f"
   ]
  },
  {
   "cell_type": "code",
   "execution_count": null,
   "metadata": {},
   "outputs": [],
   "source": [
    "ℓ = codegen(post)\n"
   ]
  },
  {
   "cell_type": "code",
   "execution_count": null,
   "metadata": {},
   "outputs": [],
   "source": [
    "ℓ(post, (μ=0.2,))"
   ]
  },
  {
   "cell_type": "code",
   "execution_count": null,
   "metadata": {},
   "outputs": [],
   "source": []
  }
 ],
 "metadata": {
  "kernelspec": {
   "display_name": "Julia 1.5.3",
   "language": "julia",
   "name": "julia-1.5"
  },
  "language_info": {
   "file_extension": ".jl",
   "mimetype": "application/julia",
   "name": "julia",
   "version": "1.5.3"
  }
 },
 "nbformat": 4,
 "nbformat_minor": 4
}
