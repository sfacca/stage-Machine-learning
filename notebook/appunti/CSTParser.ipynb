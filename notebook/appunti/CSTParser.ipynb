{
 "cells": [
  {
   "cell_type": "code",
   "execution_count": 11,
   "metadata": {},
   "outputs": [
    {
     "data": {
      "text/plain": [
       "\"x=2\\ny=3\\nz=x+y\\nif z > 3\\n    x = 2\\nend\""
      ]
     },
     "execution_count": 11,
     "metadata": {},
     "output_type": "execute_result"
    }
   ],
   "source": [
    "using CSTParser\n",
    "\n",
    "str = \"x=2\n",
    "y=3\n",
    "z=x+y\n",
    "if z > 3\n",
    "    x = 2\n",
    "end\""
   ]
  },
  {
   "cell_type": "code",
   "execution_count": 12,
   "metadata": {},
   "outputs": [
    {
     "data": {
      "text/plain": [
       "  1:36  \u001b[0mFileH\n",
       "  1:4   \u001b[0m BinaryOpCall\n",
       "  1:1   \u001b[33m  x\u001b[39m\n",
       "  2:2   \u001b[0m  OP: EQ\n",
       "  3:4   \u001b[0m  INTEGER: 2\n",
       "  5:8   \u001b[0m BinaryOpCall\n",
       "  5:5   \u001b[33m  y\u001b[39m\n",
       "  6:6   \u001b[0m  OP: EQ\n",
       "  7:8   \u001b[0m  INTEGER: 3\n",
       "  9:14  \u001b[0m BinaryOpCall\n",
       "  9:9   \u001b[33m  z\u001b[39m\n",
       " 10:10  \u001b[0m  OP: EQ\n",
       " 11:14  \u001b[0m  BinaryOpCall\n",
       " 11:11  \u001b[33m   x\u001b[39m\n",
       " 12:12  \u001b[0m   OP: PLUS\n",
       " 13:14  \u001b[33m   y\u001b[39m\n",
       " 15:36  \u001b[0m If\n",
       " 15:17  \u001b[35m  IF\u001b[39m\n",
       " 18:27  \u001b[0m  BinaryOpCall\n",
       " 18:19  \u001b[33m   z\u001b[39m\n",
       " 20:21  \u001b[0m   OP: GREATER\n",
       " 22:27  \u001b[0m   INTEGER: 3\n",
       " 28:33  \u001b[0m  Block\n",
       " 28:33  \u001b[0m   BinaryOpCall\n",
       " 28:29  \u001b[33m    x\u001b[39m\n",
       " 30:31  \u001b[0m    OP: EQ\n",
       " 32:33  \u001b[0m    INTEGER: 2\n",
       " 34:36  \u001b[35m  END\u001b[39m\n"
      ]
     },
     "execution_count": 12,
     "metadata": {},
     "output_type": "execute_result"
    }
   ],
   "source": [
    "res = CSTParser.parse(str, true)"
   ]
  },
  {
   "cell_type": "code",
   "execution_count": 30,
   "metadata": {},
   "outputs": [
    {
     "data": {
      "text/plain": [
       "  1:4   \u001b[0mBinaryOpCall\n",
       "  1:1   \u001b[33m x\u001b[39m\n",
       "  2:2   \u001b[0m OP: EQ\n",
       "  3:4   \u001b[0m INTEGER: 2\n"
      ]
     },
     "execution_count": 30,
     "metadata": {},
     "output_type": "execute_result"
    }
   ],
   "source": [
    "res[1]"
   ]
  },
  {
   "cell_type": "code",
   "execution_count": 40,
   "metadata": {},
   "outputs": [
    {
     "data": {
      "text/plain": [
       "OPERATOR::Head = 3"
      ]
     },
     "execution_count": 40,
     "metadata": {},
     "output_type": "execute_result"
    }
   ],
   "source": [
    "res[1][2].typ"
   ]
  },
  {
   "cell_type": "code",
   "execution_count": 33,
   "metadata": {},
   "outputs": [
    {
     "name": "stdout",
     "output_type": "stream",
     "text": [
      "CSTParser.EXPR\n",
      "  typ: CSTParser.Head CSTParser.BinaryOpCall\n",
      "  args: Array{CSTParser.EXPR}((3,))\n",
      "    1: CSTParser.EXPR\n",
      "      typ: CSTParser.Head CSTParser.IDENTIFIER\n",
      "      args: Nothing nothing\n",
      "      fullspan: Int64 1\n",
      "      span: Int64 1\n",
      "      val: String \"x\"\n",
      "      kind: Tokenize.Tokens.Kind Tokenize.Tokens.begin_keywords\n",
      "      dot: Bool false\n",
      "      parent: CSTParser.EXPR#= circular reference @-3 =#\n",
      "      meta: Nothing nothing\n",
      "    2: CSTParser.EXPR\n",
      "      typ: CSTParser.Head CSTParser.OPERATOR\n",
      "      args: Nothing nothing\n",
      "      fullspan: Int64 1\n",
      "      span: Int64 1\n",
      "      val: Nothing nothing\n",
      "      kind: Tokenize.Tokens.Kind Tokenize.Tokens.EQ\n",
      "      dot: Bool false\n",
      "      parent: CSTParser.EXPR#= circular reference @-3 =#\n",
      "      meta: Nothing nothing\n",
      "    3: CSTParser.EXPR\n",
      "      typ: CSTParser.Head CSTParser.LITERAL\n",
      "      args: Nothing nothing\n",
      "      fullspan: Int64 2\n",
      "      span: Int64 1\n",
      "      val: String \"2\"\n",
      "      kind: Tokenize.Tokens.Kind Tokenize.Tokens.INTEGER\n",
      "      dot: Bool false\n",
      "      parent: CSTParser.EXPR#= circular reference @-3 =#\n",
      "      meta: Nothing nothing\n",
      "  fullspan: Int64 4\n",
      "  span: Int64 3\n",
      "  val: Nothing nothing\n",
      "  kind: Tokenize.Tokens.Kind Tokenize.Tokens.begin_keywords\n",
      "  dot: Bool false\n",
      "  parent: CSTParser.EXPR\n",
      "    typ: CSTParser.Head CSTParser.FileH\n",
      "    args: Array{CSTParser.EXPR}((4,))\n",
      "      1: CSTParser.EXPR#= circular reference @-3 =#\n",
      "      2: CSTParser.EXPR\n",
      "        typ: CSTParser.Head CSTParser.BinaryOpCall\n",
      "        args: Array{CSTParser.EXPR}((3,))\n",
      "          1: CSTParser.EXPR\n",
      "            typ: CSTParser.Head CSTParser.IDENTIFIER\n",
      "            args: Nothing nothing\n",
      "            fullspan: Int64 1\n",
      "            span: Int64 1\n",
      "            val: String \"y\"\n",
      "            kind: Tokenize.Tokens.Kind Tokenize.Tokens.begin_keywords\n",
      "            dot: Bool false\n",
      "            parent: CSTParser.EXPR#= circular reference @-3 =#\n",
      "            meta: Nothing nothing\n",
      "          2: CSTParser.EXPR\n",
      "            typ: CSTParser.Head CSTParser.OPERATOR\n",
      "            args: Nothing nothing\n",
      "            fullspan: Int64 1\n",
      "            span: Int64 1\n",
      "            val: Nothing nothing\n",
      "            kind: Tokenize.Tokens.Kind Tokenize.Tokens.EQ\n",
      "            dot: Bool false\n",
      "            parent: CSTParser.EXPR#= circular reference @-3 =#\n",
      "            meta: Nothing nothing\n",
      "          3: CSTParser.EXPR\n",
      "            typ: CSTParser.Head CSTParser.LITERAL\n",
      "            args: Nothing nothing\n",
      "            fullspan: Int64 2\n",
      "            span: Int64 1\n",
      "            val: String \"3\"\n",
      "            kind: Tokenize.Tokens.Kind Tokenize.Tokens.INTEGER\n",
      "            dot: Bool false\n",
      "            parent: CSTParser.EXPR#= circular reference @-3 =#\n",
      "            meta: Nothing nothing\n",
      "        fullspan: Int64 4\n",
      "        span: Int64 3\n",
      "        val: Nothing nothing\n",
      "        kind: Tokenize.Tokens.Kind Tokenize.Tokens.begin_keywords\n",
      "        dot: Bool false\n",
      "        parent: CSTParser.EXPR#= circular reference @-3 =#\n",
      "        meta: Nothing nothing\n",
      "      3: CSTParser.EXPR\n",
      "        typ: CSTParser.Head CSTParser.BinaryOpCall\n",
      "        args: Array{CSTParser.EXPR}((3,))\n",
      "          1: CSTParser.EXPR\n",
      "            typ: CSTParser.Head CSTParser.IDENTIFIER\n",
      "            args: Nothing nothing\n",
      "            fullspan: Int64 1\n",
      "            span: Int64 1\n",
      "            val: String \"z\"\n",
      "            kind: Tokenize.Tokens.Kind Tokenize.Tokens.begin_keywords\n",
      "            dot: Bool false\n",
      "            parent: CSTParser.EXPR#= circular reference @-3 =#\n",
      "            meta: Nothing nothing\n",
      "          2: CSTParser.EXPR\n",
      "            typ: CSTParser.Head CSTParser.OPERATOR\n",
      "            args: Nothing nothing\n",
      "            fullspan: Int64 1\n",
      "            span: Int64 1\n",
      "            val: Nothing nothing\n",
      "            kind: Tokenize.Tokens.Kind Tokenize.Tokens.EQ\n",
      "            dot: Bool false\n",
      "            parent: CSTParser.EXPR#= circular reference @-3 =#\n",
      "            meta: Nothing nothing\n",
      "          3: CSTParser.EXPR\n",
      "            typ: CSTParser.Head CSTParser.BinaryOpCall\n",
      "            args: Array{CSTParser.EXPR}((3,))\n",
      "              1: CSTParser.EXPR\n",
      "                typ: CSTParser.Head CSTParser.IDENTIFIER\n",
      "                args: Nothing nothing\n",
      "                fullspan: Int64 1\n",
      "                span: Int64 1\n",
      "                val: String \"x\"\n",
      "                kind: Tokenize.Tokens.Kind Tokenize.Tokens.begin_keywords\n",
      "                dot: Bool false\n",
      "                parent: CSTParser.EXPR\n",
      "                meta: Nothing nothing\n",
      "              2: CSTParser.EXPR\n",
      "                typ: CSTParser.Head CSTParser.OPERATOR\n",
      "                args: Nothing nothing\n",
      "                fullspan: Int64 1\n",
      "                span: Int64 1\n",
      "                val: Nothing nothing\n",
      "                kind: Tokenize.Tokens.Kind Tokenize.Tokens.PLUS\n",
      "                dot: Bool false\n",
      "                parent: CSTParser.EXPR\n",
      "                meta: Nothing nothing\n",
      "              3: CSTParser.EXPR\n",
      "                typ: CSTParser.Head CSTParser.IDENTIFIER\n",
      "                args: Nothing nothing\n",
      "                fullspan: Int64 2\n",
      "                span: Int64 1\n",
      "                val: String \"y\"\n",
      "                kind: Tokenize.Tokens.Kind Tokenize.Tokens.begin_keywords\n",
      "                dot: Bool false\n",
      "                parent: CSTParser.EXPR\n",
      "                meta: Nothing nothing\n",
      "            fullspan: Int64 4\n",
      "            span: Int64 3\n",
      "            val: Nothing nothing\n",
      "            kind: Tokenize.Tokens.Kind Tokenize.Tokens.begin_keywords\n",
      "            dot: Bool false\n",
      "            parent: CSTParser.EXPR#= circular reference @-3 =#\n",
      "            meta: Nothing nothing\n",
      "        fullspan: Int64 6\n",
      "        span: Int64 5\n",
      "        val: Nothing nothing\n",
      "        kind: Tokenize.Tokens.Kind Tokenize.Tokens.begin_keywords\n",
      "        dot: Bool false\n",
      "        parent: CSTParser.EXPR#= circular reference @-3 =#\n",
      "        meta: Nothing nothing\n",
      "      4: CSTParser.EXPR\n",
      "        typ: CSTParser.Head CSTParser.If\n",
      "        args: Array{CSTParser.EXPR}((4,))\n",
      "          1: CSTParser.EXPR\n",
      "            typ: CSTParser.Head CSTParser.KEYWORD\n",
      "            args: Nothing nothing\n",
      "            fullspan: Int64 3\n",
      "            span: Int64 2\n",
      "            val: Nothing nothing\n",
      "            kind: Tokenize.Tokens.Kind Tokenize.Tokens.IF\n",
      "            dot: Bool false\n",
      "            parent: CSTParser.EXPR#= circular reference @-3 =#\n",
      "            meta: Nothing nothing\n",
      "          2: CSTParser.EXPR\n",
      "            typ: CSTParser.Head CSTParser.BinaryOpCall\n",
      "            args: Array{CSTParser.EXPR}((3,))\n",
      "              1: CSTParser.EXPR\n",
      "                typ: CSTParser.Head CSTParser.IDENTIFIER\n",
      "                args: Nothing nothing\n",
      "                fullspan: Int64 2\n",
      "                span: Int64 1\n",
      "                val: String \"z\"\n",
      "                kind: Tokenize.Tokens.Kind Tokenize.Tokens.begin_keywords\n",
      "                dot: Bool false\n",
      "                parent: CSTParser.EXPR\n",
      "                meta: Nothing nothing\n",
      "              2: CSTParser.EXPR\n",
      "                typ: CSTParser.Head CSTParser.OPERATOR\n",
      "                args: Nothing nothing\n",
      "                fullspan: Int64 2\n",
      "                span: Int64 1\n",
      "                val: Nothing nothing\n",
      "                kind: Tokenize.Tokens.Kind Tokenize.Tokens.GREATER\n",
      "                dot: Bool false\n",
      "                parent: CSTParser.EXPR\n",
      "                meta: Nothing nothing\n",
      "              3: CSTParser.EXPR\n",
      "                typ: CSTParser.Head CSTParser.LITERAL\n",
      "                args: Nothing nothing\n",
      "                fullspan: Int64 6\n",
      "                span: Int64 1\n",
      "                val: String \"3\"\n",
      "                kind: Tokenize.Tokens.Kind Tokenize.Tokens.INTEGER\n",
      "                dot: Bool false\n",
      "                parent: CSTParser.EXPR\n",
      "                meta: Nothing nothing\n",
      "            fullspan: Int64 10\n",
      "            span: Int64 5\n",
      "            val: Nothing nothing\n",
      "            kind: Tokenize.Tokens.Kind Tokenize.Tokens.begin_keywords\n",
      "            dot: Bool false\n",
      "            parent: CSTParser.EXPR#= circular reference @-3 =#\n",
      "            meta: Nothing nothing\n",
      "          3: CSTParser.EXPR\n",
      "            typ: CSTParser.Head CSTParser.Block\n",
      "            args: Array{CSTParser.EXPR}((1,))\n",
      "              1: CSTParser.EXPR\n",
      "                typ: CSTParser.Head CSTParser.BinaryOpCall\n",
      "                args: Array{CSTParser.EXPR}((3,))\n",
      "                fullspan: Int64 6\n",
      "                span: Int64 5\n",
      "                val: Nothing nothing\n",
      "                kind: Tokenize.Tokens.Kind Tokenize.Tokens.begin_keywords\n",
      "                dot: Bool false\n",
      "                parent: CSTParser.EXPR\n",
      "                meta: Nothing nothing\n",
      "            fullspan: Int64 6\n",
      "            span: Int64 5\n",
      "            val: Nothing nothing\n",
      "            kind: Tokenize.Tokens.Kind Tokenize.Tokens.begin_keywords\n",
      "            dot: Bool false\n",
      "            parent: CSTParser.EXPR#= circular reference @-3 =#\n",
      "            meta: Nothing nothing\n",
      "          4: CSTParser.EXPR\n",
      "            typ: CSTParser.Head CSTParser.KEYWORD\n",
      "            args: Nothing nothing\n",
      "            fullspan: Int64 3\n",
      "            span: Int64 3\n",
      "            val: Nothing nothing\n",
      "            kind: Tokenize.Tokens.Kind Tokenize.Tokens.END\n",
      "            dot: Bool false\n",
      "            parent: CSTParser.EXPR#= circular reference @-3 =#\n",
      "            meta: Nothing nothing\n",
      "        fullspan: Int64 22\n",
      "        span: Int64 22\n",
      "        val: Nothing nothing\n",
      "        kind: Tokenize.Tokens.Kind Tokenize.Tokens.begin_keywords\n",
      "        dot: Bool false\n",
      "        parent: CSTParser.EXPR#= circular reference @-3 =#\n",
      "        meta: Nothing nothing\n",
      "    fullspan: Int64 36\n",
      "    span: Int64 36\n",
      "    val: Nothing nothing\n",
      "    kind: Tokenize.Tokens.Kind Tokenize.Tokens.begin_keywords\n",
      "    dot: Bool false\n",
      "    parent: Nothing nothing\n",
      "    meta: Nothing nothing\n",
      "  meta: Nothing nothing\n"
     ]
    }
   ],
   "source": [
    "dump(res[1])"
   ]
  },
  {
   "cell_type": "code",
   "execution_count": 41,
   "metadata": {},
   "outputs": [
    {
     "data": {
      "text/plain": [
       "3-element Array{CSTParser.EXPR,1}:\n",
       "   1:1   \u001b[33mx\u001b[39m\n",
       "\n",
       "   1:1   \u001b[0mOP: EQ\n",
       "\n",
       "   1:2   \u001b[0mINTEGER: 2\n"
      ]
     },
     "execution_count": 41,
     "metadata": {},
     "output_type": "execute_result"
    }
   ],
   "source": [
    "res[1].args"
   ]
  },
  {
   "cell_type": "code",
   "execution_count": 15,
   "metadata": {},
   "outputs": [
    {
     "data": {
      "text/plain": [
       "  1:6   \u001b[0mBinaryOpCall\n",
       "  1:1   \u001b[33m z\u001b[39m\n",
       "  2:2   \u001b[0m OP: EQ\n",
       "  3:6   \u001b[0m BinaryOpCall\n",
       "  3:3   \u001b[33m  x\u001b[39m\n",
       "  4:4   \u001b[0m  OP: PLUS\n",
       "  5:6   \u001b[33m  y\u001b[39m\n"
      ]
     },
     "execution_count": 15,
     "metadata": {},
     "output_type": "execute_result"
    }
   ],
   "source": [
    "res[3]"
   ]
  },
  {
   "cell_type": "code",
   "execution_count": 20,
   "metadata": {},
   "outputs": [
    {
     "data": {
      "text/plain": [
       "  1:3   \u001b[35mEND\u001b[39m\n"
      ]
     },
     "execution_count": 20,
     "metadata": {},
     "output_type": "execute_result"
    }
   ],
   "source": [
    "res[4][4]"
   ]
  },
  {
   "cell_type": "code",
   "execution_count": 21,
   "metadata": {},
   "outputs": [
    {
     "data": {
      "text/plain": [
       "  1:6   \u001b[0mBlock\n",
       "  1:6   \u001b[0m BinaryOpCall\n",
       "  1:2   \u001b[33m  x\u001b[39m\n",
       "  3:4   \u001b[0m  OP: EQ\n",
       "  5:6   \u001b[0m  INTEGER: 2\n"
      ]
     },
     "execution_count": 21,
     "metadata": {},
     "output_type": "execute_result"
    }
   ],
   "source": [
    "res[4][3]"
   ]
  },
  {
   "cell_type": "code",
   "execution_count": 22,
   "metadata": {},
   "outputs": [
    {
     "data": {
      "text/plain": [
       "  1:10  \u001b[0mBinaryOpCall\n",
       "  1:2   \u001b[33m z\u001b[39m\n",
       "  3:4   \u001b[0m OP: GREATER\n",
       "  5:10  \u001b[0m INTEGER: 3\n"
      ]
     },
     "execution_count": 22,
     "metadata": {},
     "output_type": "execute_result"
    }
   ],
   "source": [
    "res[4][2]"
   ]
  },
  {
   "cell_type": "code",
   "execution_count": 23,
   "metadata": {},
   "outputs": [],
   "source": [
    "using CSV"
   ]
  },
  {
   "cell_type": "code",
   "execution_count": null,
   "metadata": {},
   "outputs": [],
   "source": [
    "function view(df, parent, pindex)\n",
    "    #add children to dataframe\n",
    "end"
   ]
  },
  {
   "cell_type": "markdown",
   "metadata": {},
   "source": [
    "id,name,parent"
   ]
  },
  {
   "cell_type": "code",
   "execution_count": null,
   "metadata": {},
   "outputs": [],
   "source": []
  }
 ],
 "metadata": {
  "kernelspec": {
   "display_name": "Julia 1.5.3",
   "language": "julia",
   "name": "julia-1.5"
  },
  "language_info": {
   "file_extension": ".jl",
   "mimetype": "application/julia",
   "name": "julia",
   "version": "1.5.3"
  }
 },
 "nbformat": 4,
 "nbformat_minor": 4
}
