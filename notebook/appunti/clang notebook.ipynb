{
 "cells": [
  {
   "cell_type": "code",
   "execution_count": 12,
   "metadata": {},
   "outputs": [],
   "source": [
    "using CEnum"
   ]
  },
  {
   "cell_type": "code",
   "execution_count": 13,
   "metadata": {},
   "outputs": [],
   "source": [
    "using Clang"
   ]
  },
  {
   "cell_type": "code",
   "execution_count": 6,
   "metadata": {},
   "outputs": [
    {
     "ename": "LoadError",
     "evalue": "LoadError: UndefVarError: H5G_SAME_LOC not defined\nin expression starting at C:\\Users\\i am\\Documents\\GitHub\\stage-Machine-learning\\notebook\\appunti\\out\\libHDF5_common.jl:592",
     "output_type": "error",
     "traceback": [
      "LoadError: UndefVarError: H5G_SAME_LOC not defined\nin expression starting at C:\\Users\\i am\\Documents\\GitHub\\stage-Machine-learning\\notebook\\appunti\\out\\libHDF5_common.jl:592",
      "",
      "Stacktrace:",
      " [1] top-level scope at C:\\Users\\i am\\Documents\\GitHub\\stage-Machine-learning\\notebook\\appunti\\out\\libHDF5_common.jl:592",
      " [2] include(::String) at .\\client.jl:457",
      " [3] top-level scope at In[6]:1",
      " [4] include_string(::Function, ::Module, ::String, ::String) at .\\loading.jl:1091",
      " [5] execute_code(::String, ::String) at C:\\Users\\i am\\.julia\\packages\\IJulia\\a1SNk\\src\\execute_request.jl:27",
      " [6] execute_request(::ZMQ.Socket, ::IJulia.Msg) at C:\\Users\\i am\\.julia\\packages\\IJulia\\a1SNk\\src\\execute_request.jl:86",
      " [7] #invokelatest#1 at .\\essentials.jl:710 [inlined]",
      " [8] invokelatest at .\\essentials.jl:709 [inlined]",
      " [9] eventloop(::ZMQ.Socket) at C:\\Users\\i am\\.julia\\packages\\IJulia\\a1SNk\\src\\eventloop.jl:8",
      " [10] (::IJulia.var\"#15#18\")() at .\\task.jl:356"
     ]
    }
   ],
   "source": [
    "include(\"./out/libHDF5_common.jl\")"
   ]
  },
  {
   "cell_type": "code",
   "execution_count": 8,
   "metadata": {},
   "outputs": [
    {
     "name": "stderr",
     "output_type": "stream",
     "text": [
      "┌ Info: Precompiling LLVM_jll [86de99a1-58d6-5da7-8064-bd56ce2e322c]\n",
      "└ @ Base loading.jl:1278\n"
     ]
    }
   ],
   "source": [
    "using LLVM_jll"
   ]
  },
  {
   "cell_type": "code",
   "execution_count": 14,
   "metadata": {},
   "outputs": [
    {
     "ename": "LoadError",
     "evalue": "LoadError: UndefVarError: libclang_path not defined\nin expression starting at C:\\Users\\i am\\Documents\\GitHub\\stage-Machine-learning\\notebook\\appunti\\clang example.jl:5",
     "output_type": "error",
     "traceback": [
      "LoadError: UndefVarError: libclang_path not defined\nin expression starting at C:\\Users\\i am\\Documents\\GitHub\\stage-Machine-learning\\notebook\\appunti\\clang example.jl:5",
      "",
      "Stacktrace:",
      " [1] getproperty(::Module, ::Symbol) at .\\Base.jl:26",
      " [2] top-level scope at C:\\Users\\i am\\Documents\\GitHub\\stage-Machine-learning\\notebook\\appunti\\clang example.jl:5",
      " [3] include(::String) at .\\client.jl:457",
      " [4] top-level scope at In[14]:1",
      " [5] include_string(::Function, ::Module, ::String, ::String) at .\\loading.jl:1091",
      " [6] execute_code(::String, ::String) at C:\\Users\\i am\\.julia\\packages\\IJulia\\a1SNk\\src\\execute_request.jl:27",
      " [7] execute_request(::ZMQ.Socket, ::IJulia.Msg) at C:\\Users\\i am\\.julia\\packages\\IJulia\\a1SNk\\src\\execute_request.jl:86",
      " [8] #invokelatest#1 at .\\essentials.jl:710 [inlined]",
      " [9] invokelatest at .\\essentials.jl:709 [inlined]",
      " [10] eventloop(::ZMQ.Socket) at C:\\Users\\i am\\.julia\\packages\\IJulia\\a1SNk\\src\\eventloop.jl:8",
      " [11] (::IJulia.var\"#15#18\")() at .\\task.jl:356"
     ]
    }
   ],
   "source": [
    "include(\"./clang example.jl\")"
   ]
  },
  {
   "cell_type": "code",
   "execution_count": null,
   "metadata": {},
   "outputs": [],
   "source": []
  }
 ],
 "metadata": {
  "kernelspec": {
   "display_name": "Julia 1.5.2",
   "language": "julia",
   "name": "julia-1.5"
  },
  "language_info": {
   "file_extension": ".jl",
   "mimetype": "application/julia",
   "name": "julia",
   "version": "1.5.2"
  }
 },
 "nbformat": 4,
 "nbformat_minor": 4
}
