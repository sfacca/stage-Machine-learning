{
 "cells": [
  {
   "cell_type": "markdown",
   "metadata": {},
   "source": [
    "+ https://github.com/JuliaAcademy/DataScience/blob/master/09.%20Numerical%20Optimization.ipynb"
   ]
  },
  {
   "cell_type": "code",
   "execution_count": 54,
   "metadata": {},
   "outputs": [
    {
     "name": "stderr",
     "output_type": "stream",
     "text": [
      "\u001b[32m\u001b[1m Activating\u001b[22m\u001b[39m environment at `C:\\Users\\i am\\Documents\\GitHub\\stage-Machine-learning\\notebook\\appunti\\Project.toml`\n",
      "\u001b[32m\u001b[1m  Resolving\u001b[22m\u001b[39m package versions...\n",
      "\u001b[32m\u001b[1m  Installed\u001b[22m\u001b[39m GLPK_jll ─ v4.64.0+0\n",
      "\u001b[32m\u001b[1m  Installed\u001b[22m\u001b[39m GMP_jll ── v6.1.2+5\n",
      "\u001b[32m\u001b[1m  Installed\u001b[22m\u001b[39m GLPK ───── v0.13.0\n",
      "\u001b[32m\u001b[1mUpdating\u001b[22m\u001b[39m `C:\\Users\\i am\\Documents\\GitHub\\stage-Machine-learning\\notebook\\appunti\\Project.toml`\n",
      " \u001b[90m [60bf3e95] \u001b[39m\u001b[92m+ GLPK v0.13.0\u001b[39m\n",
      "\u001b[32m\u001b[1mUpdating\u001b[22m\u001b[39m `C:\\Users\\i am\\Documents\\GitHub\\stage-Machine-learning\\notebook\\appunti\\Manifest.toml`\n",
      " \u001b[90m [60bf3e95] \u001b[39m\u001b[92m+ GLPK v0.13.0\u001b[39m\n",
      " \u001b[90m [e8aa6df9] \u001b[39m\u001b[92m+ GLPK_jll v4.64.0+0\u001b[39m\n",
      " \u001b[90m [781609d7] \u001b[39m\u001b[92m+ GMP_jll v6.1.2+5\u001b[39m\n",
      "\u001b[32m\u001b[1m   Building\u001b[22m\u001b[39m GLPK → `C:\\Users\\i am\\.julia\\packages\\GLPK\\oTTtu\\deps\\build.log`\n",
      "\u001b[32m\u001b[1mNo Changes\u001b[22m\u001b[39m to `C:\\Users\\i am\\Documents\\GitHub\\stage-Machine-learning\\notebook\\appunti\\Project.toml`\n",
      "\u001b[32m\u001b[1mNo Changes\u001b[22m\u001b[39m to `C:\\Users\\i am\\Documents\\GitHub\\stage-Machine-learning\\notebook\\appunti\\Manifest.toml`\n"
     ]
    },
    {
     "data": {
      "text/plain": [
       "\"out\""
      ]
     },
     "execution_count": 54,
     "metadata": {},
     "output_type": "execute_result"
    }
   ],
   "source": [
    "using Pkg\n",
    "Pkg.activate(\".\")\n",
    "Pkg.instantiate()\n",
    "Pkg.add(\"GLPK\")\n",
    "Pkg.resolve()\n",
    "\n",
    "mkpath(\"downloads\")\n",
    "mkpath(\"out\")"
   ]
  },
  {
   "cell_type": "code",
   "execution_count": 55,
   "metadata": {},
   "outputs": [
    {
     "name": "stderr",
     "output_type": "stream",
     "text": [
      "┌ Info: Precompiling GLPK [60bf3e95-4087-53dc-ae20-288a0d20c6a6]\n",
      "└ @ Base loading.jl:1278\n"
     ]
    }
   ],
   "source": [
    "using Pkg\n",
    "using Convex\n",
    "using SCS\n",
    "using XLSX\n",
    "using DataFrames\n",
    "using Plots\n",
    "using CSV\n",
    "using Statistics\n",
    "using Images\n",
    "using DelimitedFiles\n",
    "using JuMP\n",
    "using GLPK"
   ]
  },
  {
   "cell_type": "code",
   "execution_count": 6,
   "metadata": {},
   "outputs": [],
   "source": [
    "# portfolio investment (è tipo knapsack non binario)\n",
    "# https://www.kdnuggets.com/2019/06/optimization-python-money-risk.html\n"
   ]
  },
  {
   "cell_type": "code",
   "execution_count": 8,
   "metadata": {},
   "outputs": [
    {
     "data": {
      "text/plain": [
       "\"downloads/stock_prices.xlsx\""
      ]
     },
     "execution_count": 8,
     "metadata": {},
     "output_type": "execute_result"
    }
   ],
   "source": [
    "download(\"https://github.com/JuliaAcademy/DataScience/blob/master/data/stock_prices.xlsx?raw=true\", \"downloads/stock_prices.xlsx\")"
   ]
  },
  {
   "cell_type": "code",
   "execution_count": 11,
   "metadata": {},
   "outputs": [
    {
     "data": {
      "image/svg+xml": [
       "<?xml version=\"1.0\" encoding=\"utf-8\"?>\n",
       "<svg xmlns=\"http://www.w3.org/2000/svg\" xmlns:xlink=\"http://www.w3.org/1999/xlink\" width=\"600\" height=\"400\" viewBox=\"0 0 2400 1600\">\n",
       "<defs>\n",
       "  <clipPath id=\"clip0200\">\n",
       "    <rect x=\"0\" y=\"0\" width=\"2400\" height=\"1600\"/>\n",
       "  </clipPath>\n",
       "</defs>\n",
       "<path clip-path=\"url(#clip0200)\" d=\"\n",
       "M0 1600 L2400 1600 L2400 0 L0 0  Z\n",
       "  \" fill=\"#ffffff\" fill-rule=\"evenodd\" fill-opacity=\"1\"/>\n",
       "<defs>\n",
       "  <clipPath id=\"clip0201\">\n",
       "    <rect x=\"480\" y=\"0\" width=\"1681\" height=\"1600\"/>\n",
       "  </clipPath>\n",
       "</defs>\n",
       "<path clip-path=\"url(#clip0200)\" d=\"\n",
       "M167.279 1487.47 L2352.76 1487.47 L2352.76 47.2441 L167.279 47.2441  Z\n",
       "  \" fill=\"#ffffff\" fill-rule=\"evenodd\" fill-opacity=\"1\"/>\n",
       "<defs>\n",
       "  <clipPath id=\"clip0202\">\n",
       "    <rect x=\"167\" y=\"47\" width=\"2186\" height=\"1441\"/>\n",
       "  </clipPath>\n",
       "</defs>\n",
       "<polyline clip-path=\"url(#clip0202)\" style=\"stroke:#000000; stroke-width:2; stroke-opacity:0.1; fill:none\" points=\"\n",
       "  486.854,1487.47 486.854,47.2441 \n",
       "  \"/>\n",
       "<polyline clip-path=\"url(#clip0202)\" style=\"stroke:#000000; stroke-width:2; stroke-opacity:0.1; fill:none\" points=\"\n",
       "  916.389,1487.47 916.389,47.2441 \n",
       "  \"/>\n",
       "<polyline clip-path=\"url(#clip0202)\" style=\"stroke:#000000; stroke-width:2; stroke-opacity:0.1; fill:none\" points=\"\n",
       "  1345.92,1487.47 1345.92,47.2441 \n",
       "  \"/>\n",
       "<polyline clip-path=\"url(#clip0202)\" style=\"stroke:#000000; stroke-width:2; stroke-opacity:0.1; fill:none\" points=\"\n",
       "  1775.46,1487.47 1775.46,47.2441 \n",
       "  \"/>\n",
       "<polyline clip-path=\"url(#clip0202)\" style=\"stroke:#000000; stroke-width:2; stroke-opacity:0.1; fill:none\" points=\"\n",
       "  2205,1487.47 2205,47.2441 \n",
       "  \"/>\n",
       "<polyline clip-path=\"url(#clip0202)\" style=\"stroke:#000000; stroke-width:2; stroke-opacity:0.1; fill:none\" points=\"\n",
       "  167.279,1476.14 2352.76,1476.14 \n",
       "  \"/>\n",
       "<polyline clip-path=\"url(#clip0202)\" style=\"stroke:#000000; stroke-width:2; stroke-opacity:0.1; fill:none\" points=\"\n",
       "  167.279,1171.22 2352.76,1171.22 \n",
       "  \"/>\n",
       "<polyline clip-path=\"url(#clip0202)\" style=\"stroke:#000000; stroke-width:2; stroke-opacity:0.1; fill:none\" points=\"\n",
       "  167.279,866.305 2352.76,866.305 \n",
       "  \"/>\n",
       "<polyline clip-path=\"url(#clip0202)\" style=\"stroke:#000000; stroke-width:2; stroke-opacity:0.1; fill:none\" points=\"\n",
       "  167.279,561.388 2352.76,561.388 \n",
       "  \"/>\n",
       "<polyline clip-path=\"url(#clip0202)\" style=\"stroke:#000000; stroke-width:2; stroke-opacity:0.1; fill:none\" points=\"\n",
       "  167.279,256.472 2352.76,256.472 \n",
       "  \"/>\n",
       "<polyline clip-path=\"url(#clip0200)\" style=\"stroke:#000000; stroke-width:4; stroke-opacity:1; fill:none\" points=\"\n",
       "  167.279,1487.47 2352.76,1487.47 \n",
       "  \"/>\n",
       "<polyline clip-path=\"url(#clip0200)\" style=\"stroke:#000000; stroke-width:4; stroke-opacity:1; fill:none\" points=\"\n",
       "  167.279,1487.47 167.279,47.2441 \n",
       "  \"/>\n",
       "<polyline clip-path=\"url(#clip0200)\" style=\"stroke:#000000; stroke-width:4; stroke-opacity:1; fill:none\" points=\"\n",
       "  486.854,1487.47 486.854,1470.19 \n",
       "  \"/>\n",
       "<polyline clip-path=\"url(#clip0200)\" style=\"stroke:#000000; stroke-width:4; stroke-opacity:1; fill:none\" points=\"\n",
       "  916.389,1487.47 916.389,1470.19 \n",
       "  \"/>\n",
       "<polyline clip-path=\"url(#clip0200)\" style=\"stroke:#000000; stroke-width:4; stroke-opacity:1; fill:none\" points=\"\n",
       "  1345.92,1487.47 1345.92,1470.19 \n",
       "  \"/>\n",
       "<polyline clip-path=\"url(#clip0200)\" style=\"stroke:#000000; stroke-width:4; stroke-opacity:1; fill:none\" points=\"\n",
       "  1775.46,1487.47 1775.46,1470.19 \n",
       "  \"/>\n",
       "<polyline clip-path=\"url(#clip0200)\" style=\"stroke:#000000; stroke-width:4; stroke-opacity:1; fill:none\" points=\"\n",
       "  2205,1487.47 2205,1470.19 \n",
       "  \"/>\n",
       "<polyline clip-path=\"url(#clip0200)\" style=\"stroke:#000000; stroke-width:4; stroke-opacity:1; fill:none\" points=\"\n",
       "  167.279,1476.14 193.505,1476.14 \n",
       "  \"/>\n",
       "<polyline clip-path=\"url(#clip0200)\" style=\"stroke:#000000; stroke-width:4; stroke-opacity:1; fill:none\" points=\"\n",
       "  167.279,1171.22 193.505,1171.22 \n",
       "  \"/>\n",
       "<polyline clip-path=\"url(#clip0200)\" style=\"stroke:#000000; stroke-width:4; stroke-opacity:1; fill:none\" points=\"\n",
       "  167.279,866.305 193.505,866.305 \n",
       "  \"/>\n",
       "<polyline clip-path=\"url(#clip0200)\" style=\"stroke:#000000; stroke-width:4; stroke-opacity:1; fill:none\" points=\"\n",
       "  167.279,561.388 193.505,561.388 \n",
       "  \"/>\n",
       "<polyline clip-path=\"url(#clip0200)\" style=\"stroke:#000000; stroke-width:4; stroke-opacity:1; fill:none\" points=\"\n",
       "  167.279,256.472 193.505,256.472 \n",
       "  \"/>\n",
       "<g clip-path=\"url(#clip0200)\">\n",
       "<text style=\"fill:#000000; fill-opacity:1; font-family:Arial,Helvetica Neue,Helvetica,sans-serif; font-size:48px; text-anchor:middle;\" transform=\"rotate(0, 486.854, 1541.47)\" x=\"486.854\" y=\"1541.47\">2.5</text>\n",
       "</g>\n",
       "<g clip-path=\"url(#clip0200)\">\n",
       "<text style=\"fill:#000000; fill-opacity:1; font-family:Arial,Helvetica Neue,Helvetica,sans-serif; font-size:48px; text-anchor:middle;\" transform=\"rotate(0, 916.389, 1541.47)\" x=\"916.389\" y=\"1541.47\">5.0</text>\n",
       "</g>\n",
       "<g clip-path=\"url(#clip0200)\">\n",
       "<text style=\"fill:#000000; fill-opacity:1; font-family:Arial,Helvetica Neue,Helvetica,sans-serif; font-size:48px; text-anchor:middle;\" transform=\"rotate(0, 1345.92, 1541.47)\" x=\"1345.92\" y=\"1541.47\">7.5</text>\n",
       "</g>\n",
       "<g clip-path=\"url(#clip0200)\">\n",
       "<text style=\"fill:#000000; fill-opacity:1; font-family:Arial,Helvetica Neue,Helvetica,sans-serif; font-size:48px; text-anchor:middle;\" transform=\"rotate(0, 1775.46, 1541.47)\" x=\"1775.46\" y=\"1541.47\">10.0</text>\n",
       "</g>\n",
       "<g clip-path=\"url(#clip0200)\">\n",
       "<text style=\"fill:#000000; fill-opacity:1; font-family:Arial,Helvetica Neue,Helvetica,sans-serif; font-size:48px; text-anchor:middle;\" transform=\"rotate(0, 2205, 1541.47)\" x=\"2205\" y=\"1541.47\">12.5</text>\n",
       "</g>\n",
       "<g clip-path=\"url(#clip0200)\">\n",
       "<text style=\"fill:#000000; fill-opacity:1; font-family:Arial,Helvetica Neue,Helvetica,sans-serif; font-size:48px; text-anchor:end;\" transform=\"rotate(0, 143.279, 1493.64)\" x=\"143.279\" y=\"1493.64\">100</text>\n",
       "</g>\n",
       "<g clip-path=\"url(#clip0200)\">\n",
       "<text style=\"fill:#000000; fill-opacity:1; font-family:Arial,Helvetica Neue,Helvetica,sans-serif; font-size:48px; text-anchor:end;\" transform=\"rotate(0, 143.279, 1188.72)\" x=\"143.279\" y=\"1188.72\">120</text>\n",
       "</g>\n",
       "<g clip-path=\"url(#clip0200)\">\n",
       "<text style=\"fill:#000000; fill-opacity:1; font-family:Arial,Helvetica Neue,Helvetica,sans-serif; font-size:48px; text-anchor:end;\" transform=\"rotate(0, 143.279, 883.805)\" x=\"143.279\" y=\"883.805\">140</text>\n",
       "</g>\n",
       "<g clip-path=\"url(#clip0200)\">\n",
       "<text style=\"fill:#000000; fill-opacity:1; font-family:Arial,Helvetica Neue,Helvetica,sans-serif; font-size:48px; text-anchor:end;\" transform=\"rotate(0, 143.279, 578.888)\" x=\"143.279\" y=\"578.888\">160</text>\n",
       "</g>\n",
       "<g clip-path=\"url(#clip0200)\">\n",
       "<text style=\"fill:#000000; fill-opacity:1; font-family:Arial,Helvetica Neue,Helvetica,sans-serif; font-size:48px; text-anchor:end;\" transform=\"rotate(0, 143.279, 273.972)\" x=\"143.279\" y=\"273.972\">180</text>\n",
       "</g>\n",
       "<polyline clip-path=\"url(#clip0202)\" style=\"stroke:#009af9; stroke-width:4; stroke-opacity:1; fill:none\" points=\"\n",
       "  229.132,1446.71 400.946,1433.45 572.761,1358.59 744.575,1366.83 916.389,1433.75 1088.2,1389.69 1260.02,1350.82 1431.83,1308.89 1603.65,1285.11 1775.46,1315.9 \n",
       "  1947.27,1233.58 2119.09,1216.2 2290.9,1202.63 \n",
       "  \"/>\n",
       "<polyline clip-path=\"url(#clip0202)\" style=\"stroke:#e26f46; stroke-width:4; stroke-opacity:1; fill:none\" points=\"\n",
       "  229.132,740.374 400.946,678.934 572.761,609.87 744.575,595.539 916.389,461.985 1088.2,402.679 1260.02,402.527 1431.83,363.65 1603.65,333.158 1775.46,364.565 \n",
       "  1947.27,163.167 2119.09,88.0053 2290.9,104.776 \n",
       "  \"/>\n",
       "<polyline clip-path=\"url(#clip0202)\" style=\"stroke:#3da44d; stroke-width:4; stroke-opacity:1; fill:none\" points=\"\n",
       "  229.132,897.559 400.946,808.371 572.761,713.237 744.575,728.94 916.389,474.335 1088.2,449.636 1260.02,523.274 1431.83,532.574 1603.65,526.628 1775.46,415.028 \n",
       "  1947.27,470.218 2119.09,495.221 2290.9,459.394 \n",
       "  \"/>\n",
       "<path clip-path=\"url(#clip0200)\" d=\"\n",
       "M1845.53 372.684 L2280.76 372.684 L2280.76 130.764 L1845.53 130.764  Z\n",
       "  \" fill=\"#ffffff\" fill-rule=\"evenodd\" fill-opacity=\"1\"/>\n",
       "<polyline clip-path=\"url(#clip0200)\" style=\"stroke:#000000; stroke-width:4; stroke-opacity:1; fill:none\" points=\"\n",
       "  1845.53,372.684 2280.76,372.684 2280.76,130.764 1845.53,130.764 1845.53,372.684 \n",
       "  \"/>\n",
       "<polyline clip-path=\"url(#clip0200)\" style=\"stroke:#009af9; stroke-width:4; stroke-opacity:1; fill:none\" points=\"\n",
       "  1869.53,191.244 2013.53,191.244 \n",
       "  \"/>\n",
       "<g clip-path=\"url(#clip0200)\">\n",
       "<text style=\"fill:#000000; fill-opacity:1; font-family:Arial,Helvetica Neue,Helvetica,sans-serif; font-size:48px; text-anchor:start;\" transform=\"rotate(0, 2037.53, 208.744)\" x=\"2037.53\" y=\"208.744\">Microsoft</text>\n",
       "</g>\n",
       "<polyline clip-path=\"url(#clip0200)\" style=\"stroke:#e26f46; stroke-width:4; stroke-opacity:1; fill:none\" points=\"\n",
       "  1869.53,251.724 2013.53,251.724 \n",
       "  \"/>\n",
       "<g clip-path=\"url(#clip0200)\">\n",
       "<text style=\"fill:#000000; fill-opacity:1; font-family:Arial,Helvetica Neue,Helvetica,sans-serif; font-size:48px; text-anchor:start;\" transform=\"rotate(0, 2037.53, 269.224)\" x=\"2037.53\" y=\"269.224\">Apple</text>\n",
       "</g>\n",
       "<polyline clip-path=\"url(#clip0200)\" style=\"stroke:#3da44d; stroke-width:4; stroke-opacity:1; fill:none\" points=\"\n",
       "  1869.53,312.204 2013.53,312.204 \n",
       "  \"/>\n",
       "<g clip-path=\"url(#clip0200)\">\n",
       "<text style=\"fill:#000000; fill-opacity:1; font-family:Arial,Helvetica Neue,Helvetica,sans-serif; font-size:48px; text-anchor:start;\" transform=\"rotate(0, 2037.53, 329.704)\" x=\"2037.53\" y=\"329.704\">FB</text>\n",
       "</g>\n",
       "</svg>\n"
      ]
     },
     "execution_count": 11,
     "metadata": {},
     "output_type": "execute_result"
    }
   ],
   "source": [
    "T = DataFrame(XLSX.readtable(\"downloads/stock_prices.xlsx\",\"Sheet2\")...)\n",
    "# T è df con andamento prezzo azioni microsoft,apple,facebook\n",
    "# plottiamo\n",
    "plot(T[!,:MSFT],label=\"Microsoft\")\n",
    "plot!(T[!,:AAPL],label=\"Apple\")\n",
    "plot!(T[!,:FB],label=\"FB\")\n"
   ]
  },
  {
   "cell_type": "code",
   "execution_count": 12,
   "metadata": {},
   "outputs": [
    {
     "data": {
      "text/plain": [
       "13×3 Array{Any,2}:\n",
       " 101.93  137.95  148.26\n",
       " 102.8   143.8   152.29\n",
       " 107.71  150.04  156.82\n",
       " 107.17  149.01  157.76\n",
       " 102.78  165.71  166.52\n",
       " 105.67  167.33  170.41\n",
       " 108.22  162.5   170.42\n",
       " 110.97  161.89  172.97\n",
       " 112.53  162.28  174.97\n",
       " 110.51  169.6   172.91\n",
       " 115.91  165.98  186.12\n",
       " 117.05  164.34  191.05\n",
       " 117.94  166.69  189.95"
      ]
     },
     "execution_count": 12,
     "metadata": {},
     "output_type": "execute_result"
    }
   ],
   "source": [
    "# per risolvere il problema di ottimizzazione dobbiamo convertirein matrice\n",
    "prices_matrix = Matrix(T)"
   ]
  },
  {
   "cell_type": "code",
   "execution_count": 13,
   "metadata": {},
   "outputs": [
    {
     "data": {
      "text/plain": [
       "12×3 Array{Float64,2}:\n",
       "  0.00853527   0.0424067    0.027182\n",
       "  0.0477626    0.0433936    0.0297459\n",
       " -0.00501346  -0.00686484   0.00599413\n",
       " -0.040963     0.112073     0.0555274\n",
       "  0.0281183    0.00977611   0.0233606\n",
       "  0.0241317   -0.0288651    5.8682e-5\n",
       "  0.0254112   -0.00375385   0.014963\n",
       "  0.0140579    0.00240904   0.0115627\n",
       " -0.0179508    0.0451072   -0.0117734\n",
       "  0.0488644   -0.0213443    0.0763981\n",
       "  0.00983522  -0.00988071   0.0264883\n",
       "  0.00760359   0.0142996   -0.00575766"
      ]
     },
     "execution_count": 13,
     "metadata": {},
     "output_type": "execute_result"
    }
   ],
   "source": [
    "#calcoliamo il ritorno di investiento settimanale\n",
    "M1 = prices_matrix[1:end-1,:]\n",
    "M2 = prices_matrix[2:end,:]\n",
    "R = (M2.-M1)./M1"
   ]
  },
  {
   "cell_type": "code",
   "execution_count": 14,
   "metadata": {},
   "outputs": [
    {
     "data": {
      "text/plain": [
       "true"
      ]
     },
     "execution_count": 14,
     "metadata": {},
     "output_type": "execute_result"
    }
   ],
   "source": [
    "#definiamo il ns problema:\n",
    "#vogliamo massimizzare il ritorno definito come funzione di investimenti sulle e ritorni delle varie azioni\n",
    "# max dot(r,x) x=[x1,x2,x3] x1=investimento msft, x2= investimento aapl, x3 = investimento fb\n",
    "# r=[r1,r2,r3], r1= ritorno msft, r2=ritorno aapl, r3=ritorno fb\n",
    "# con vincoli x_1,2,3 >= 0, sum(x)=1 , x sono le percentuali di investimento\n",
    "\n",
    "# r è var aleat che modelleremo secondo valore atteso. E[dot(r,x)] = E[dot(mean(R,dims=2),x)\n",
    "#dot(r,x)=0.1 significa ritorno sull investimento del 10%\n",
    "\n",
    "# ci serve matrice rischio che sarà matrice covarianza\n",
    "risk_matrix = cov(R)\n",
    "# note that the risk matrix is positive definite\n",
    "isposdef(risk_matrix)"
   ]
  },
  {
   "cell_type": "code",
   "execution_count": 15,
   "metadata": {},
   "outputs": [
    {
     "data": {
      "text/plain": [
       "3-element Array{Float64,1}:\n",
       " 0.012532748705136572\n",
       " 0.016563036855293173\n",
       " 0.02114580465503291"
      ]
     },
     "execution_count": 15,
     "metadata": {},
     "output_type": "execute_result"
    }
   ],
   "source": [
    "r = mean(R,dims=1)[:]\n",
    "# come gia detto andiamo con il valore atteso"
   ]
  },
  {
   "cell_type": "code",
   "execution_count": 16,
   "metadata": {},
   "outputs": [
    {
     "data": {
      "text/plain": [
       "minimize\n",
       "└─ * (Convex.NotDcp; real)\n",
       "   ├─ * (affine; real)\n",
       "   │  ├─ adjoint (affine; real)\n",
       "   │  │  └─ …\n",
       "   │  └─ 3×3 Array{Float64,2}\n",
       "   └─ 3-element real variable (id: 141…092)\n",
       "subject to\n",
       "├─ == constraint (affine)\n",
       "│  ├─ sum (affine; real)\n",
       "│  │  └─ 3-element real variable (id: 141…092)\n",
       "│  └─ 1\n",
       "├─ >= constraint (affine)\n",
       "│  ├─ * (affine; real)\n",
       "│  │  ├─ [0.0125327 0.016563 0.0211458]\n",
       "│  │  └─ 3-element real variable (id: 141…092)\n",
       "│  └─ 0.02\n",
       "├─ >= constraint (affine)\n",
       "│  ├─ index (affine; real)\n",
       "│  │  └─ 3-element real variable (id: 141…092)\n",
       "│  └─ 0\n",
       "├─ >= constraint (affine)\n",
       "│  ├─ index (affine; real)\n",
       "│  │  └─ 3-element real variable (id: 141…092)\n",
       "│  └─ 0\n",
       "└─ >= constraint (affine)\n",
       "   ├─ index (affine; real)\n",
       "   │  └─ 3-element real variable (id: 141…092)\n",
       "   └─ 0\n",
       "\n",
       "status: `solve!` not called yet"
      ]
     },
     "execution_count": 16,
     "metadata": {},
     "output_type": "execute_result"
    },
    {
     "name": "stderr",
     "output_type": "stream",
     "text": [
      "┌ Warning: Expression not DCP compliant. Trying to solve non-DCP compliant problems can lead to unexpected behavior.\n",
      "└ @ Convex C:\\Users\\i am\\.julia\\packages\\Convex\\aYxJA\\src\\dcp.jl:25\n"
     ]
    }
   ],
   "source": [
    "#risolviamo il problema minimizzando il rischio x'*risk_matrix*x\n",
    "#essendo problema convesso risolvibile con pkg convex.jl\n",
    "x = Variable(length(r))\n",
    "problem = minimize(x'*risk_matrix*x,[sum(x)==1;r'*x>=0.02;x.>=0])"
   ]
  },
  {
   "cell_type": "code",
   "execution_count": 17,
   "metadata": {},
   "outputs": [
    {
     "data": {
      "text/plain": [
       "minimize\n",
       "└─ * (convex; positive)\n",
       "   ├─ 1\n",
       "   └─ qol_elem (convex; positive)\n",
       "      ├─ norm2 (convex; positive)\n",
       "      │  └─ …\n",
       "      └─ [1.0]\n",
       "subject to\n",
       "├─ == constraint (affine)\n",
       "│  ├─ sum (affine; real)\n",
       "│  │  └─ 3-element real variable (id: 141…092)\n",
       "│  └─ 1\n",
       "├─ >= constraint (affine)\n",
       "│  ├─ * (affine; real)\n",
       "│  │  ├─ [0.0125327 0.016563 0.0211458]\n",
       "│  │  └─ 3-element real variable (id: 141…092)\n",
       "│  └─ 0.02\n",
       "├─ >= constraint (affine)\n",
       "│  ├─ index (affine; real)\n",
       "│  │  └─ 3-element real variable (id: 141…092)\n",
       "│  └─ 0\n",
       "├─ >= constraint (affine)\n",
       "│  ├─ index (affine; real)\n",
       "│  │  └─ 3-element real variable (id: 141…092)\n",
       "│  └─ 0\n",
       "└─ >= constraint (affine)\n",
       "   ├─ index (affine; real)\n",
       "   │  └─ 3-element real variable (id: 141…092)\n",
       "   └─ 0\n",
       "\n",
       "status: `solve!` not called yet"
      ]
     },
     "execution_count": 17,
     "metadata": {},
     "output_type": "execute_result"
    }
   ],
   "source": [
    "#convex.jl rischiede che input sia problema definito dcp (seguire http://cvxr.com/cvx/doc/dcp.html )\n",
    "# riscriviamolo tale\n",
    "problem = minimize(Convex.quadform(x,risk_matrix),[sum(x)==1;r'*x>=0.02;x.>=0])"
   ]
  },
  {
   "cell_type": "code",
   "execution_count": 18,
   "metadata": {},
   "outputs": [
    {
     "name": "stdout",
     "output_type": "stream",
     "text": [
      "----------------------------------------------------------------------------\n",
      "\tSCS v2.1.2 - Splitting Conic Solver\n",
      "\t(c) Brendan O'Donoghue, Stanford University, 2012\n",
      "----------------------------------------------------------------------------\n",
      "Lin-sys: sparse-indirect, nnz in A = 24, CG tol ~ 1/iter^(2.00)\n",
      "eps = 1.00e-005, alpha = 1.50, max_iters = 5000, normalize = 1, scale = 1.00\n",
      "acceleration_lookback = 10, rho_x = 1.00e-003\n",
      "Variables n = 6, constraints m = 14\n",
      "Cones:\tprimal zero / dual free vars: 2\n",
      "\tlinear vars: 5\n",
      "\tsoc vars: 7, soc blks: 2\n",
      "Setup time: 4.98e-005s\n",
      "----------------------------------------------------------------------------\n",
      " Iter | pri res | dua res | rel gap | pri obj | dua obj | kap/tau | time (s)\n",
      "----------------------------------------------------------------------------\n",
      "     0|1.71e+019 2.86e+019 1.00e+000 -3.40e+019 5.17e+018 5.49e+019 2.10e-005 \n",
      "    97|4.78e-011 1.28e-010 1.08e-010 4.85e-004 4.85e-004 3.76e-017 2.48e-003 \n",
      "----------------------------------------------------------------------------\n",
      "Status: Solved\n",
      "Timing: Solve time: 2.49e-003s\n",
      "\tLin-sys: avg # CG iterations: 3.43, avg solve time: 5.23e-007s\n",
      "\tCones: avg projection time: 6.02e-008s\n",
      "\tAcceleration: avg step time: 2.42e-005s\n",
      "----------------------------------------------------------------------------\n",
      "Error metrics:\n",
      "dist(s, K) = 6.5489e-018, dist(y, K*) = 0.0000e+000, s'y/|s||y| = 1.6666e-017\n",
      "primal res: |Ax + s - b|_2 / (1 + |b|_2) = 4.7779e-011\n",
      "dual res:   |A'y + c|_2 / (1 + |c|_2) = 1.2839e-010\n",
      "rel gap:    |c'x + b'y| / (1 + |c'x| + |b'y|) = 1.0795e-010\n",
      "----------------------------------------------------------------------------\n",
      "c'x = 0.0005, -b'y = 0.0005\n",
      "============================================================================\n"
     ]
    }
   ],
   "source": [
    "#possiamo ora risolverlo\n",
    "solve!(problem, SCS.Optimizer)"
   ]
  },
  {
   "cell_type": "code",
   "execution_count": 19,
   "metadata": {},
   "outputs": [
    {
     "data": {
      "text/plain": [
       "Variable\n",
       "size: (3, 1)\n",
       "sign: real\n",
       "vexity: affine\n",
       "id: 141…092\n",
       "value: [0.06795414742252917, 0.12230857118794068, 0.8097372814405625]"
      ]
     },
     "execution_count": 19,
     "metadata": {},
     "output_type": "execute_result"
    }
   ],
   "source": [
    "#vediamo i risultati\n",
    "x"
   ]
  },
  {
   "cell_type": "code",
   "execution_count": 20,
   "metadata": {},
   "outputs": [
    {
     "data": {
      "text/plain": [
       "1.0000000000510323"
      ]
     },
     "execution_count": 20,
     "metadata": {},
     "output_type": "execute_result"
    }
   ],
   "source": [
    "sum(x.value)"
   ]
  },
  {
   "cell_type": "code",
   "execution_count": 23,
   "metadata": {},
   "outputs": [
    {
     "name": "stdout",
     "output_type": "stream",
     "text": [
      "ritorno massimo previsto del 2.0000000000662013 %, investendo 67.95414742252918 $ in MSFT, investendo 122.30857118794069 $ in AAPL E investendo 809.7372814405625 $ in FB, \n"
     ]
    }
   ],
   "source": [
    "# return \n",
    "returnperc = ((r'*x.value)*100)[1]\n",
    "\n",
    "investments = x.value .* 1000\n",
    "println(\"ritorno massimo previsto del $returnperc %, investendo $(investments[1]) \\$ in MSFT, investendo $(investments[2]) \\$ in AAPL E investendo $(investments[3]) \\$ in FB, \")"
   ]
  },
  {
   "cell_type": "code",
   "execution_count": 45,
   "metadata": {},
   "outputs": [
    {
     "data": {
      "image/png": "[encoded data removed]",
      "text/plain": [
       "283×283 Array{Gray{N0f8},2} with eltype Gray{Normed{UInt8,8}}:\n",
       " Gray{N0f8}(0.102)  Gray{N0f8}(0.063)  …  Gray{N0f8}(0.667)\n",
       " Gray{N0f8}(0.067)  Gray{N0f8}(0.098)     Gray{N0f8}(0.0)\n",
       " Gray{N0f8}(0.078)  Gray{N0f8}(0.086)     Gray{N0f8}(0.612)\n",
       " Gray{N0f8}(0.086)  Gray{N0f8}(0.067)     Gray{N0f8}(0.145)\n",
       " Gray{N0f8}(0.078)  Gray{N0f8}(0.102)     Gray{N0f8}(0.231)\n",
       " Gray{N0f8}(0.0)    Gray{N0f8}(0.075)  …  Gray{N0f8}(0.169)\n",
       " Gray{N0f8}(0.125)  Gray{N0f8}(0.098)     Gray{N0f8}(0.192)\n",
       " Gray{N0f8}(0.439)  Gray{N0f8}(0.447)     Gray{N0f8}(0.137)\n",
       " Gray{N0f8}(0.459)  Gray{N0f8}(0.455)     Gray{N0f8}(0.118)\n",
       " Gray{N0f8}(0.451)  Gray{N0f8}(0.467)     Gray{N0f8}(0.0)\n",
       " Gray{N0f8}(0.459)  Gray{N0f8}(0.459)  …  Gray{N0f8}(0.125)\n",
       " Gray{N0f8}(0.467)  Gray{N0f8}(0.451)     Gray{N0f8}(0.118)\n",
       " Gray{N0f8}(0.451)  Gray{N0f8}(0.451)     Gray{N0f8}(0.0)\n",
       " ⋮                                     ⋱  \n",
       " Gray{N0f8}(0.494)  Gray{N0f8}(0.475)     Gray{N0f8}(0.443)\n",
       " Gray{N0f8}(0.475)  Gray{N0f8}(0.482)     Gray{N0f8}(0.431)\n",
       " Gray{N0f8}(0.494)  Gray{N0f8}(0.502)     Gray{N0f8}(0.451)\n",
       " Gray{N0f8}(0.471)  Gray{N0f8}(0.494)     Gray{N0f8}(0.42)\n",
       " Gray{N0f8}(0.459)  Gray{N0f8}(0.482)  …  Gray{N0f8}(0.424)\n",
       " Gray{N0f8}(0.443)  Gray{N0f8}(0.459)     Gray{N0f8}(0.349)\n",
       " Gray{N0f8}(0.475)  Gray{N0f8}(0.478)     Gray{N0f8}(0.361)\n",
       " Gray{N0f8}(0.0)    Gray{N0f8}(0.478)     Gray{N0f8}(0.322)\n",
       " Gray{N0f8}(0.553)  Gray{N0f8}(0.553)     Gray{N0f8}(0.373)\n",
       " Gray{N0f8}(0.553)  Gray{N0f8}(0.545)  …  Gray{N0f8}(0.408)\n",
       " Gray{N0f8}(0.565)  Gray{N0f8}(0.553)     Gray{N0f8}(0.42)\n",
       " Gray{N0f8}(0.569)  Gray{N0f8}(0.553)     Gray{N0f8}(0.427)"
      ]
     },
     "execution_count": 45,
     "metadata": {},
     "output_type": "execute_result"
    }
   ],
   "source": [
    "#### PROB 2 IMAGE RECOVERY\n",
    "# carichiamo un imm\n",
    "download(\"https://github.com/JuliaAcademy/DataScience/blob/master/data/khiam-small.jpg?raw=true\", \"downloads/khiam-small.jpg\")\n",
    "Kref = load(\"downloads/khiam-small.jpg\")\n",
    "K = copy(Kref)\n",
    "Gray.(K)\n",
    "\n",
    "#creiamo dei pixel mancanti\n",
    "\n",
    "p = prod(size(K))\n",
    "missingids = rand(1:p,4000)\n",
    "K[missingids] .= RGBX{N0f8}(0.0,0.0,0.0)\n",
    "gK =Gray.(K)"
   ]
  },
  {
   "cell_type": "code",
   "execution_count": 46,
   "metadata": {},
   "outputs": [],
   "source": [
    "#portiamo tutto in una mat come al solito\n",
    "Y = Float64.(gK);"
   ]
  },
  {
   "cell_type": "code",
   "execution_count": 47,
   "metadata": {},
   "outputs": [
    {
     "data": {
      "text/plain": [
       "1-element Array{Constraint,1}:\n",
       " == constraint (affine)\n",
       "├─ index (affine; real)\n",
       "│  └─ 283×283 real variable (id: 897…053)\n",
       "└─ 76188-element Array{Float64,1}"
      ]
     },
     "execution_count": 47,
     "metadata": {},
     "output_type": "execute_result"
    }
   ],
   "source": [
    "# il problema ora è nel ricostruire la matrice\n",
    "#l algoritmo che useremo fa ciò creando mat X con norma nucleare minima e mantenendo i valori conosciuti di Y ugualiin X\n",
    "#solviamo ancora con convex.jl\n",
    "correctids = findall(Y[:].!=0)\n",
    "X = Convex.Variable(size(Y))\n",
    "problem = minimize(nuclearnorm(X))\n",
    "problem.constraints += X[correctids]==Y[correctids]"
   ]
  },
  {
   "cell_type": "code",
   "execution_count": 48,
   "metadata": {},
   "outputs": [
    {
     "name": "stdout",
     "output_type": "stream",
     "text": [
      "----------------------------------------------------------------------------\n",
      "\tSCS v2.1.2 - Splitting Conic Solver\n",
      "\t(c) Brendan O'Donoghue, Stanford University, 2012\n",
      "----------------------------------------------------------------------------\n",
      "Lin-sys: sparse-indirect, nnz in A = 396828, CG tol ~ 1/iter^(2.00)\n",
      "eps = 1.00e-003, alpha = 1.50, max_iters = 5000, normalize = 1, scale = 1.00\n",
      "acceleration_lookback = 10, rho_x = 1.00e-003\n",
      "Variables n = 240268, constraints m = 396545\n",
      "Cones:\tprimal zero / dual free vars: 236084\n",
      "\tsd vars: 160461, sd blks: 1\n",
      "Setup time: 6.21e-002s\n",
      "----------------------------------------------------------------------------\n",
      " Iter | pri res | dua res | rel gap | pri obj | dua obj | kap/tau | time (s)\n",
      "----------------------------------------------------------------------------\n",
      "     0|1.04e+021 5.63e+019 1.00e+000 -1.51e+024 1.40e+022 1.13e+024 2.56e-001 \n",
      "   100|2.95e-002 1.50e-002 9.31e-006 4.35e+002 4.35e+002 3.91e-015 2.37e+001 \n",
      "   200|1.03e-002 5.65e-003 7.87e-005 4.39e+002 4.39e+002 5.49e-015 4.49e+001 \n",
      "   300|3.34e-003 2.22e-003 5.36e-006 4.40e+002 4.40e+002 6.75e-015 6.54e+001 \n",
      "   400|3.56e-003 1.75e-003 8.63e-006 4.40e+002 4.40e+002 6.59e-015 8.55e+001 \n",
      "   500|1.80e-003 9.71e-004 1.68e-006 4.40e+002 4.40e+002 9.18e-015 1.05e+002 \n",
      "   520|9.04e-004 4.83e-004 5.93e-006 4.40e+002 4.40e+002 1.32e-014 1.09e+002 \n",
      "----------------------------------------------------------------------------\n",
      "Status: Solved\n",
      "Timing: Solve time: 1.09e+002s\n",
      "\tLin-sys: avg # CG iterations: 6.39, avg solve time: 2.24e-002s\n",
      "\tCones: avg projection time: 1.30e-001s\n",
      "\tAcceleration: avg step time: 4.78e-002s\n",
      "----------------------------------------------------------------------------\n",
      "Error metrics:\n",
      "dist(s, K) = 5.8103e-010, dist(y, K*) = 7.2574e-010, s'y/|s||y| = 6.3143e-013\n",
      "primal res: |Ax + s - b|_2 / (1 + |b|_2) = 9.0423e-004\n",
      "dual res:   |A'y + c|_2 / (1 + |c|_2) = 4.8317e-004\n",
      "rel gap:    |c'x + b'y| / (1 + |c'x| + |b'y|) = 5.9281e-006\n",
      "----------------------------------------------------------------------------\n",
      "c'x = 439.6917, -b'y = 439.6864\n",
      "============================================================================\n"
     ]
    }
   ],
   "source": [
    "solve!(problem, SCS.Optimizer(eps=1e-3, alpha=1.5))"
   ]
  },
  {
   "cell_type": "code",
   "execution_count": 49,
   "metadata": {},
   "outputs": [
    {
     "name": "stdout",
     "output_type": "stream",
     "text": [
      "norm(float.(Gray.(Kref)) - X.value) = 3.79080287028465\n",
      "norm(-(X.value)) = 124.21420761207698\n"
     ]
    },
    {
     "data": {
      "image/png": "[encoded data removed]",
      "text/plain": [
       "283×283 reinterpret(Gray{Float64}, ::Array{Float64,2}):\n",
       " Gray{Float64}(0.102027)   …  Gray{Float64}(0.666725)\n",
       " Gray{Float64}(0.0667141)     Gray{Float64}(0.550485)\n",
       " Gray{Float64}(0.0783413)     Gray{Float64}(0.611512)\n",
       " Gray{Float64}(0.0863102)     Gray{Float64}(0.144968)\n",
       " Gray{Float64}(0.0784778)     Gray{Float64}(0.231496)\n",
       " Gray{Float64}(0.183287)   …  Gray{Float64}(0.16856)\n",
       " Gray{Float64}(0.125344)      Gray{Float64}(0.192275)\n",
       " Gray{Float64}(0.439105)      Gray{Float64}(0.137132)\n",
       " Gray{Float64}(0.458796)      Gray{Float64}(0.117584)\n",
       " Gray{Float64}(0.450847)      Gray{Float64}(0.227591)\n",
       " Gray{Float64}(0.458987)   …  Gray{Float64}(0.125576)\n",
       " Gray{Float64}(0.466416)      Gray{Float64}(0.117721)\n",
       " Gray{Float64}(0.451262)      Gray{Float64}(0.213852)\n",
       " ⋮                         ⋱  \n",
       " Gray{Float64}(0.493686)      Gray{Float64}(0.443048)\n",
       " Gray{Float64}(0.474636)      Gray{Float64}(0.431423)\n",
       " Gray{Float64}(0.493976)      Gray{Float64}(0.451121)\n",
       " Gray{Float64}(0.470511)      Gray{Float64}(0.419706)\n",
       " Gray{Float64}(0.458901)   …  Gray{Float64}(0.423426)\n",
       " Gray{Float64}(0.443051)      Gray{Float64}(0.348999)\n",
       " Gray{Float64}(0.474451)      Gray{Float64}(0.360941)\n",
       " Gray{Float64}(0.46579)       Gray{Float64}(0.321616)\n",
       " Gray{Float64}(0.552915)      Gray{Float64}(0.372525)\n",
       " Gray{Float64}(0.552475)   …  Gray{Float64}(0.407675)\n",
       " Gray{Float64}(0.564679)      Gray{Float64}(0.419473)\n",
       " Gray{Float64}(0.568625)      Gray{Float64}(0.427603)"
      ]
     },
     "execution_count": 49,
     "metadata": {},
     "output_type": "execute_result"
    }
   ],
   "source": [
    "\n",
    "@show norm(float.(Gray.(Kref))-X.value)\n",
    "@show norm(-X.value)\n",
    "colorview(Gray, X.value)"
   ]
  },
  {
   "cell_type": "code",
   "execution_count": 56,
   "metadata": {},
   "outputs": [
    {
     "data": {
      "text/plain": [
       "2-dimensional DenseAxisArray{Float64,2,...} with index sets:\n",
       "    Dimension 1, [\"calories\", \"protein\", \"fat\", \"sodium\"]\n",
       "    Dimension 2, [\"min\", \"max\"]\n",
       "And data, a 4×2 Array{Float64,2}:\n",
       " 1800.0  2200.0\n",
       "   91.0    Inf\n",
       "    0.0    65.0\n",
       "    0.0  1779.0"
      ]
     },
     "execution_count": 56,
     "metadata": {},
     "output_type": "execute_result"
    }
   ],
   "source": [
    "# ottimizzazione dieta\n",
    "# esemnpio da jump.jl https://github.com/jump-dev/JuMP.jl/blob/master/examples/diet.jl\n",
    "category_data = JuMP.Containers.DenseAxisArray(\n",
    "    [1800 2200;\n",
    "     91   Inf;\n",
    "     0    65;\n",
    "     0    1779], \n",
    "    [\"calories\", \"protein\", \"fat\", \"sodium\"], \n",
    "    [\"min\", \"max\"])"
   ]
  },
  {
   "cell_type": "markdown",
   "metadata": {},
   "source": [
    "| | min | max|\n",
    "|---|---|---|\n",
    "|calories|1800|2200|\n",
    "|protein| 91|inf|\n",
    "|fat|0|65|\n",
    "|sodium|0|1779|\n",
    "\n",
    "è matrice 1800,91,0,0,2200,inf,65,1779 dove min,max sono indici colonne e calories,prot,etc sono indici righe"
   ]
  },
  {
   "cell_type": "code",
   "execution_count": 57,
   "metadata": {},
   "outputs": [
    {
     "name": "stdout",
     "output_type": "stream",
     "text": [
      "category_data[\"calories\", \"max\"] = 2200.0\n",
      "category_data[\"fat\", \"min\"] = 0.0\n"
     ]
    }
   ],
   "source": [
    "@show category_data[\"calories\",\"max\"] \n",
    "@show category_data[\"fat\",\"min\"]\n",
    ";"
   ]
  },
  {
   "cell_type": "code",
   "execution_count": 58,
   "metadata": {},
   "outputs": [
    {
     "data": {
      "text/plain": [
       "1-dimensional DenseAxisArray{Float64,1,...} with index sets:\n",
       "    Dimension 1, [\"hamburger\", \"chicken\", \"hot dog\", \"fries\", \"macaroni\", \"pizza\", \"salad\", \"milk\", \"ice cream\"]\n",
       "And data, a 9-element Array{Float64,1}:\n",
       " 2.49\n",
       " 2.89\n",
       " 1.5\n",
       " 1.89\n",
       " 2.09\n",
       " 1.99\n",
       " 2.49\n",
       " 0.89\n",
       " 1.59"
      ]
     },
     "execution_count": 58,
     "metadata": {},
     "output_type": "execute_result"
    }
   ],
   "source": [
    "# ora facciamo dataset per prezzi alimenti\n",
    "foods = [\"hamburger\", \"chicken\", \"hot dog\", \"fries\", \"macaroni\", \"pizza\",\"salad\", \"milk\", \"ice cream\"]\n",
    "cost = JuMP.Containers.DenseAxisArray(\n",
    "    [2.49, 2.89, 1.50, 1.89, 2.09, 1.99, 2.49, 0.89, 1.59],\n",
    "    foods)"
   ]
  },
  {
   "cell_type": "code",
   "execution_count": 59,
   "metadata": {},
   "outputs": [
    {
     "name": "stdout",
     "output_type": "stream",
     "text": [
      "food_data[\"chicken\", \"fat\"] = 10.0\n",
      "food_data[\"milk\", \"sodium\"] = 125.0\n"
     ]
    }
   ],
   "source": [
    "#ora facciamo dataset caratt nutriz stessi alimenti\n",
    "food_data = JuMP.Containers.DenseAxisArray(\n",
    "    [410 24 26 730;#una riga è una riga contenente valori per \"calories\", \"protein\", \"fat\", \"sodium\" dell alimento\n",
    "     420 32 10 1190;\n",
    "     560 20 32 1800;\n",
    "     380  4 19 270;\n",
    "     320 12 10 930;\n",
    "     320 15 12 820;\n",
    "     320 31 12 1230;\n",
    "     100  8 2.5 125;\n",
    "     330  8 10 180], \n",
    "    foods, \n",
    "    [\"calories\", \"protein\", \"fat\", \"sodium\"])\n",
    "\n",
    "@show food_data[\"chicken\", \"fat\"]\n",
    "@show food_data[\"milk\", \"sodium\"]\n",
    ";"
   ]
  },
  {
   "cell_type": "code",
   "execution_count": null,
   "metadata": {},
   "outputs": [],
   "source": [
    "#creiamo il modello ora"
   ]
  }
 ],
 "metadata": {
  "kernelspec": {
   "display_name": "Julia 1.5.1",
   "language": "julia",
   "name": "julia-1.5"
  },
  "language_info": {
   "file_extension": ".jl",
   "mimetype": "application/julia",
   "name": "julia",
   "version": "1.5.1"
  }
 },
 "nbformat": 4,
 "nbformat_minor": 4
}
