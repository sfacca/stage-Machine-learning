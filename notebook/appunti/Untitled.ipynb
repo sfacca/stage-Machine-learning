{
 "cells": [
  {
   "cell_type": "markdown",
   "metadata": {},
   "source": [
    "+ https://github.com/JuliaStats/StatsKit.jl"
   ]
  },
  {
   "cell_type": "code",
   "execution_count": 1,
   "metadata": {},
   "outputs": [
    {
     "name": "stderr",
     "output_type": "stream",
     "text": [
      "\u001b[32m\u001b[1m Activating\u001b[22m\u001b[39m environment at `C:\\Users\\i am\\Documents\\GitHub\\stage-Machine-learning\\notebook\\appunti\\Project.toml`\n",
      "\u001b[32m\u001b[1m   Updating\u001b[22m\u001b[39m registry at `C:\\Users\\i am\\.julia\\registries\\General`\n",
      "\u001b[32m\u001b[1m  Resolving\u001b[22m\u001b[39m package versions...\n",
      "\u001b[32m\u001b[1m  Installed\u001b[22m\u001b[39m StatsKit ─── v0.3.0\n",
      "\u001b[32m\u001b[1m  Installed\u001b[22m\u001b[39m TimeSeries ─ v0.19.1\n",
      "┌ Info: Replacing symlinks in tarball by their source files ...\n",
      "│ \"docs\\\\src\\\\LICENSE.md\" => \"docs\\\\src\\\\../../LICENSE.md\"\n",
      "│ \"docs\\\\src\\\\NEWS.md\" => \"docs\\\\src\\\\../../NEWS.md\"\n",
      "└ @ Pkg.PlatformEngines D:\\buildbot\\worker\\package_win64\\build\\usr\\share\\julia\\stdlib\\v1.5\\Pkg\\src\\PlatformEngines.jl:996\n",
      "\u001b[32m\u001b[1m  Installed\u001b[22m\u001b[39m Bootstrap ── v2.2.0\n",
      "\u001b[32m\u001b[1mUpdating\u001b[22m\u001b[39m `C:\\Users\\i am\\Documents\\GitHub\\stage-Machine-learning\\notebook\\appunti\\Project.toml`\n",
      " \u001b[90m [2cb19f9e] \u001b[39m\u001b[92m+ StatsKit v0.3.0\u001b[39m\n",
      "\u001b[32m\u001b[1mUpdating\u001b[22m\u001b[39m `C:\\Users\\i am\\Documents\\GitHub\\stage-Machine-learning\\notebook\\appunti\\Manifest.toml`\n",
      " \u001b[90m [e28b5b4c] \u001b[39m\u001b[92m+ Bootstrap v2.2.0\u001b[39m\n",
      " \u001b[90m [2cb19f9e] \u001b[39m\u001b[92m+ StatsKit v0.3.0\u001b[39m\n",
      " \u001b[90m [9e3dc215] \u001b[39m\u001b[92m+ TimeSeries v0.19.1\u001b[39m\n"
     ]
    }
   ],
   "source": [
    "using Pkg\n",
    "Pkg.activate(\".\")\n",
    "Pkg.instantiate()\n",
    "\n",
    "Pkg.add(\"StatsKit\")"
   ]
  },
  {
   "cell_type": "markdown",
   "metadata": {},
   "source": [
    "# statsikit\n",
    "stack contenente pacchetti basi per statistica\n",
    "\n",
    "1. bootstrap.jl <- pacchetto per bootstrapping statistico (https://en.wikipedia.org/wiki/Bootstrapping_(statistics))\n",
    "2. categoricalarrays <- pacchetto per variabili categoriali\n",
    "3. clustering <- pkg per operazioni riguardoi a clustering di dati\n",
    "4. CSV <- i/o di file di dataframes\n",
    "5. dataframe <- pacchetto su struttura dati a tabella\n",
    "6. distances <- pacchetto operativo su distanze tra vettori \n",
    "7. distributions <- pacchetto per operazioni con distribuzioni statistiche\n",
    "8. GLM <- pacchetto su modelli lineari generalizzati\n",
    "9. hypothesistest <- pacchetto per test statistici\n",
    "10. kerneldensity <- pacchetto su stima densità kernel\n",
    "111. loess <- paccetto per regressione loess\n",
    "12. multivariatestats <- pacchetto per analisi e modelli di statistica multivariati\n",
    "13. statsbase <- pacchetto per operazioni statistiche base\n",
    "14. timeseries <- pacchetto leggeroi per lavorare con serie tempo in julia"
   ]
  },
  {
   "cell_type": "code",
   "execution_count": null,
   "metadata": {},
   "outputs": [],
   "source": []
  }
 ],
 "metadata": {
  "kernelspec": {
   "display_name": "Julia 1.5.1",
   "language": "julia",
   "name": "julia-1.5"
  },
  "language_info": {
   "file_extension": ".jl",
   "mimetype": "application/julia",
   "name": "julia",
   "version": "1.5.1"
  }
 },
 "nbformat": 4,
 "nbformat_minor": 4
}
