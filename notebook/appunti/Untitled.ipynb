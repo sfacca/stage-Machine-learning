{
 "cells": [
  {
   "cell_type": "markdown",
   "metadata": {},
   "source": [
    "## tipi parametrici in Julia\n",
    "+ https://docs.julialang.org/en/v1/manual/types/#Parametric-Types  \n",
    "\n",
    "possiamo dichiarare struct contenente tipi dichiarati  \n",
    "invece di dichiarare struct diverse poer ogni tipo contenente, possiamo dichiarare la struct una volta solo su di un tipo parametrico.\n",
    "quando vorremo usare la struct ci basterà dichiarare quale tipo effettivo dovrà sostituire quello parametrico\n",
    "\n",
    "esempio: dichiariamo una struct \"coppia\" contenente due interi"
   ]
  },
  {
   "cell_type": "code",
   "execution_count": 1,
   "metadata": {},
   "outputs": [],
   "source": [
    "struct CoppiaINT\n",
    "           x::Int64\n",
    "           y::Int64\n",
    "       end"
   ]
  },
  {
   "cell_type": "markdown",
   "metadata": {},
   "source": [
    "possiamo adesso scrivere algoritmi che usino quella struttura per op su di essa"
   ]
  },
  {
   "cell_type": "code",
   "execution_count": 2,
   "metadata": {},
   "outputs": [
    {
     "data": {
      "text/plain": [
       "printCoppia (generic function with 1 method)"
      ]
     },
     "execution_count": 2,
     "metadata": {},
     "output_type": "execute_result"
    }
   ],
   "source": [
    "function printCoppia(x::CoppiaINT)\n",
    "    myx::Int64 = x.x \n",
    "    println(\" $(x.x)  $(x.y)\")\n",
    "end"
   ]
  },
  {
   "cell_type": "markdown",
   "metadata": {},
   "source": [
    "se adesso vogliamo riusare lo stesso codice per una struttura di float, dobbiamo ridichiarare tutto daccapo.\n",
    "\n",
    "usando tipi parametrici possiamo invece dichiarare struct e funzione su tipi parametrici:"
   ]
  },
  {
   "cell_type": "code",
   "execution_count": 8,
   "metadata": {},
   "outputs": [
    {
     "data": {
      "text/plain": [
       "printCopp (generic function with 1 method)"
      ]
     },
     "execution_count": 8,
     "metadata": {},
     "output_type": "execute_result"
    }
   ],
   "source": [
    "struct CoppiaP{T}\n",
    "    x::T\n",
    "    y::T\n",
    "end\n",
    "\n",
    "function printCopp(x::CoppiaP)\n",
    "    myx = x.x\n",
    "    println(\" $(x.x)  $(x.y)\")\n",
    "    @show typeof(myx)\n",
    "end"
   ]
  },
  {
   "cell_type": "code",
   "execution_count": 10,
   "metadata": {},
   "outputs": [
    {
     "data": {
      "text/plain": [
       "CoppiaP{Int64}(1, 2)"
      ]
     },
     "execution_count": 10,
     "metadata": {},
     "output_type": "execute_result"
    }
   ],
   "source": [
    "mycopp = CoppiaP{Int64}(1,2)"
   ]
  },
  {
   "cell_type": "code",
   "execution_count": 11,
   "metadata": {},
   "outputs": [
    {
     "name": "stdout",
     "output_type": "stream",
     "text": [
      " 1  2\n",
      "typeof(myx) = Int64\n"
     ]
    },
    {
     "data": {
      "text/plain": [
       "Int64"
      ]
     },
     "execution_count": 11,
     "metadata": {},
     "output_type": "execute_result"
    }
   ],
   "source": [
    "printCopp(mycopp)"
   ]
  },
  {
   "cell_type": "code",
   "execution_count": 12,
   "metadata": {},
   "outputs": [
    {
     "data": {
      "text/plain": [
       "CoppiaP{String}(\"stringa\", \"stringa\")"
      ]
     },
     "execution_count": 12,
     "metadata": {},
     "output_type": "execute_result"
    }
   ],
   "source": [
    "mycopp2 = CoppiaP(\"stringa\",\"stringa\")"
   ]
  },
  {
   "cell_type": "code",
   "execution_count": 13,
   "metadata": {},
   "outputs": [
    {
     "name": "stdout",
     "output_type": "stream",
     "text": [
      " stringa  stringa\n",
      "typeof(myx) = String\n"
     ]
    },
    {
     "data": {
      "text/plain": [
       "String"
      ]
     },
     "execution_count": 13,
     "metadata": {},
     "output_type": "execute_result"
    }
   ],
   "source": [
    "printCopp(mycopp2)"
   ]
  },
  {
   "cell_type": "markdown",
   "metadata": {},
   "source": [
    "possiamo in maniera simile creare metodi per tipi parametrici in julia:"
   ]
  },
  {
   "cell_type": "code",
   "execution_count": 24,
   "metadata": {},
   "outputs": [
    {
     "data": {
      "text/plain": [
       "creaCopp (generic function with 2 methods)"
      ]
     },
     "execution_count": 24,
     "metadata": {},
     "output_type": "execute_result"
    }
   ],
   "source": [
    "function creaCopp(x::T, y::T) where {T}\n",
    "    res = CoppiaP{T}(x,y)\n",
    "    res\n",
    "end    \n",
    "function creaCopp(x,y)#overload generico\n",
    "    println(\"tipi diversi\")\n",
    "end"
   ]
  },
  {
   "cell_type": "code",
   "execution_count": 22,
   "metadata": {},
   "outputs": [
    {
     "data": {
      "text/plain": [
       "CoppiaP{Int64}(1, 2)"
      ]
     },
     "execution_count": 22,
     "metadata": {},
     "output_type": "execute_result"
    }
   ],
   "source": [
    "creaCopp(1,2)"
   ]
  },
  {
   "cell_type": "code",
   "execution_count": 23,
   "metadata": {},
   "outputs": [
    {
     "name": "stdout",
     "output_type": "stream",
     "text": [
      " 2  3\n",
      "typeof(myx) = Int64\n"
     ]
    },
    {
     "data": {
      "text/plain": [
       "Int64"
      ]
     },
     "execution_count": 23,
     "metadata": {},
     "output_type": "execute_result"
    }
   ],
   "source": [
    "printCopp(creaCopp(2,3))"
   ]
  },
  {
   "cell_type": "code",
   "execution_count": 25,
   "metadata": {},
   "outputs": [
    {
     "name": "stdout",
     "output_type": "stream",
     "text": [
      "tipi diversi\n"
     ]
    }
   ],
   "source": [
    "creaCopp(\"ciao\",12)"
   ]
  },
  {
   "cell_type": "code",
   "execution_count": null,
   "metadata": {},
   "outputs": [],
   "source": []
  }
 ],
 "metadata": {
  "kernelspec": {
   "display_name": "Julia 1.5.1",
   "language": "julia",
   "name": "julia-1.5"
  },
  "language_info": {
   "file_extension": ".jl",
   "mimetype": "application/julia",
   "name": "julia",
   "version": "1.5.1"
  }
 },
 "nbformat": 4,
 "nbformat_minor": 4
}
