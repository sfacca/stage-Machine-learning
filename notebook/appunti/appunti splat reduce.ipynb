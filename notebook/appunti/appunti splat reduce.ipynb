{
 "cells": [
  {
   "cell_type": "code",
   "execution_count": 5,
   "metadata": {},
   "outputs": [
    {
     "data": {
      "text/plain": [
       "myfun (generic function with 1 method)"
      ]
     },
     "execution_count": 5,
     "metadata": {},
     "output_type": "execute_result"
    }
   ],
   "source": [
    "#l'operatore ..., anche detto splat, serve per definire funzioni che prendono un numero arbitrario di args:\n",
    "myfun(a,b,c,x...)= (a,b,c,x)"
   ]
  },
  {
   "cell_type": "code",
   "execution_count": 8,
   "metadata": {},
   "outputs": [
    {
     "data": {
      "text/plain": [
       "splitarr (generic function with 1 method)"
      ]
     },
     "execution_count": 8,
     "metadata": {},
     "output_type": "execute_result"
    }
   ],
   "source": [
    "#ad esempio possiamo dividere head e tail di un array\n",
    "splitarr(head,tail...) = (head, tail)"
   ]
  },
  {
   "cell_type": "code",
   "execution_count": 10,
   "metadata": {},
   "outputs": [
    {
     "data": {
      "text/plain": [
       "(1, (2, 3, 4, 5, 6))"
      ]
     },
     "execution_count": 10,
     "metadata": {},
     "output_type": "execute_result"
    }
   ],
   "source": [
    "x=[1,2,3,4,5,6]\n",
    "splitarr(x...)"
   ]
  },
  {
   "cell_type": "code",
   "execution_count": 11,
   "metadata": {},
   "outputs": [],
   "source": [
    "#come appena visto, per scomporre al volo una struttura iterabile possiamo usare splat come operatore"
   ]
  },
  {
   "cell_type": "code",
   "execution_count": 12,
   "metadata": {},
   "outputs": [
    {
     "data": {
      "text/plain": [
       "120"
      ]
     },
     "execution_count": 12,
     "metadata": {},
     "output_type": "execute_result"
    }
   ],
   "source": [
    "reduce(*, [1,2,3,4,5]) "
   ]
  },
  {
   "cell_type": "code",
   "execution_count": 13,
   "metadata": {},
   "outputs": [
    {
     "name": "stdout",
     "output_type": "stream",
     "text": [
      "search: \u001b[0m\u001b[1mr\u001b[22m\u001b[0m\u001b[1me\u001b[22m\u001b[0m\u001b[1md\u001b[22m\u001b[0m\u001b[1mu\u001b[22m\u001b[0m\u001b[1mc\u001b[22m\u001b[0m\u001b[1me\u001b[22m map\u001b[0m\u001b[1mr\u001b[22m\u001b[0m\u001b[1me\u001b[22m\u001b[0m\u001b[1md\u001b[22m\u001b[0m\u001b[1mu\u001b[22m\u001b[0m\u001b[1mc\u001b[22m\u001b[0m\u001b[1me\u001b[22m\n",
      "\n"
     ]
    },
    {
     "data": {
      "text/latex": [
       "\\begin{verbatim}\n",
       "reduce(op, itr; [init])\n",
       "\\end{verbatim}\n",
       "Reduce the given collection \\texttt{itr} with the given binary operator \\texttt{op}. If provided, the initial value \\texttt{init} must be a neutral element for \\texttt{op} that will be returned for empty collections. It is unspecified whether \\texttt{init} is used for non-empty collections.\n",
       "\n",
       "For empty collections, providing \\texttt{init} will be necessary, except for some special cases (e.g. when \\texttt{op} is one of \\texttt{+}, \\texttt{*}, \\texttt{max}, \\texttt{min}, \\texttt{\\&}, \\texttt{|}) when Julia can determine the neutral element of \\texttt{op}.\n",
       "\n",
       "Reductions for certain commonly-used operators may have special implementations, and should be used instead: \\texttt{maximum(itr)}, \\texttt{minimum(itr)}, \\texttt{sum(itr)}, \\texttt{prod(itr)},  \\texttt{any(itr)}, \\texttt{all(itr)}.\n",
       "\n",
       "The associativity of the reduction is implementation dependent. This means that you can't use non-associative operations like \\texttt{-} because it is undefined whether \\texttt{reduce(-,[1,2,3])} should be evaluated as \\texttt{(1-2)-3} or \\texttt{1-(2-3)}. Use \\href{@ref}{\\texttt{foldl}} or \\href{@ref}{\\texttt{foldr}} instead for guaranteed left or right associativity.\n",
       "\n",
       "Some operations accumulate error. Parallelism will be easier if the reduction can be executed in groups. Future versions of Julia might change the algorithm. Note that the elements are not reordered if you use an ordered collection.\n",
       "\n",
       "\\section{Examples}\n",
       "\\begin{verbatim}\n",
       "julia> reduce(*, [2; 3; 4])\n",
       "24\n",
       "\n",
       "julia> reduce(*, [2; 3; 4]; init=-1)\n",
       "-24\n",
       "\\end{verbatim}\n",
       "\\rule{\\textwidth}{1pt}\n",
       "\\begin{verbatim}\n",
       "reduce(f, A; dims=:, [init])\n",
       "\\end{verbatim}\n",
       "Reduce 2-argument function \\texttt{f} along dimensions of \\texttt{A}. \\texttt{dims} is a vector specifying the dimensions to reduce, and the keyword argument \\texttt{init} is the initial value to use in the reductions. For \\texttt{+}, \\texttt{*}, \\texttt{max} and \\texttt{min} the \\texttt{init} argument is optional.\n",
       "\n",
       "The associativity of the reduction is implementation-dependent; if you need a particular associativity, e.g. left-to-right, you should write your own loop or consider using \\href{@ref}{\\texttt{foldl}} or \\href{@ref}{\\texttt{foldr}}. See documentation for \\href{@ref}{\\texttt{reduce}}.\n",
       "\n",
       "\\section{Examples}\n",
       "\\begin{verbatim}\n",
       "julia> a = reshape(Vector(1:16), (4,4))\n",
       "4×4 Array{Int64,2}:\n",
       " 1  5   9  13\n",
       " 2  6  10  14\n",
       " 3  7  11  15\n",
       " 4  8  12  16\n",
       "\n",
       "julia> reduce(max, a, dims=2)\n",
       "4×1 Array{Int64,2}:\n",
       " 13\n",
       " 14\n",
       " 15\n",
       " 16\n",
       "\n",
       "julia> reduce(max, a, dims=1)\n",
       "1×4 Array{Int64,2}:\n",
       " 4  8  12  16\n",
       "\\end{verbatim}\n"
      ],
      "text/markdown": [
       "```\n",
       "reduce(op, itr; [init])\n",
       "```\n",
       "\n",
       "Reduce the given collection `itr` with the given binary operator `op`. If provided, the initial value `init` must be a neutral element for `op` that will be returned for empty collections. It is unspecified whether `init` is used for non-empty collections.\n",
       "\n",
       "For empty collections, providing `init` will be necessary, except for some special cases (e.g. when `op` is one of `+`, `*`, `max`, `min`, `&`, `|`) when Julia can determine the neutral element of `op`.\n",
       "\n",
       "Reductions for certain commonly-used operators may have special implementations, and should be used instead: `maximum(itr)`, `minimum(itr)`, `sum(itr)`, `prod(itr)`,  `any(itr)`, `all(itr)`.\n",
       "\n",
       "The associativity of the reduction is implementation dependent. This means that you can't use non-associative operations like `-` because it is undefined whether `reduce(-,[1,2,3])` should be evaluated as `(1-2)-3` or `1-(2-3)`. Use [`foldl`](@ref) or [`foldr`](@ref) instead for guaranteed left or right associativity.\n",
       "\n",
       "Some operations accumulate error. Parallelism will be easier if the reduction can be executed in groups. Future versions of Julia might change the algorithm. Note that the elements are not reordered if you use an ordered collection.\n",
       "\n",
       "# Examples\n",
       "\n",
       "```jldoctest\n",
       "julia> reduce(*, [2; 3; 4])\n",
       "24\n",
       "\n",
       "julia> reduce(*, [2; 3; 4]; init=-1)\n",
       "-24\n",
       "```\n",
       "\n",
       "---\n",
       "\n",
       "```\n",
       "reduce(f, A; dims=:, [init])\n",
       "```\n",
       "\n",
       "Reduce 2-argument function `f` along dimensions of `A`. `dims` is a vector specifying the dimensions to reduce, and the keyword argument `init` is the initial value to use in the reductions. For `+`, `*`, `max` and `min` the `init` argument is optional.\n",
       "\n",
       "The associativity of the reduction is implementation-dependent; if you need a particular associativity, e.g. left-to-right, you should write your own loop or consider using [`foldl`](@ref) or [`foldr`](@ref). See documentation for [`reduce`](@ref).\n",
       "\n",
       "# Examples\n",
       "\n",
       "```jldoctest\n",
       "julia> a = reshape(Vector(1:16), (4,4))\n",
       "4×4 Array{Int64,2}:\n",
       " 1  5   9  13\n",
       " 2  6  10  14\n",
       " 3  7  11  15\n",
       " 4  8  12  16\n",
       "\n",
       "julia> reduce(max, a, dims=2)\n",
       "4×1 Array{Int64,2}:\n",
       " 13\n",
       " 14\n",
       " 15\n",
       " 16\n",
       "\n",
       "julia> reduce(max, a, dims=1)\n",
       "1×4 Array{Int64,2}:\n",
       " 4  8  12  16\n",
       "```\n"
      ],
      "text/plain": [
       "\u001b[36m  reduce(op, itr; [init])\u001b[39m\n",
       "\n",
       "  Reduce the given collection \u001b[36mitr\u001b[39m with the given binary operator \u001b[36mop\u001b[39m. If\n",
       "  provided, the initial value \u001b[36minit\u001b[39m must be a neutral element for \u001b[36mop\u001b[39m that will\n",
       "  be returned for empty collections. It is unspecified whether \u001b[36minit\u001b[39m is used\n",
       "  for non-empty collections.\n",
       "\n",
       "  For empty collections, providing \u001b[36minit\u001b[39m will be necessary, except for some\n",
       "  special cases (e.g. when \u001b[36mop\u001b[39m is one of \u001b[36m+\u001b[39m, \u001b[36m*\u001b[39m, \u001b[36mmax\u001b[39m, \u001b[36mmin\u001b[39m, \u001b[36m&\u001b[39m, \u001b[36m|\u001b[39m) when Julia can\n",
       "  determine the neutral element of \u001b[36mop\u001b[39m.\n",
       "\n",
       "  Reductions for certain commonly-used operators may have special\n",
       "  implementations, and should be used instead: \u001b[36mmaximum(itr)\u001b[39m, \u001b[36mminimum(itr)\u001b[39m,\n",
       "  \u001b[36msum(itr)\u001b[39m, \u001b[36mprod(itr)\u001b[39m, \u001b[36many(itr)\u001b[39m, \u001b[36mall(itr)\u001b[39m.\n",
       "\n",
       "  The associativity of the reduction is implementation dependent. This means\n",
       "  that you can't use non-associative operations like \u001b[36m-\u001b[39m because it is undefined\n",
       "  whether \u001b[36mreduce(-,[1,2,3])\u001b[39m should be evaluated as \u001b[36m(1-2)-3\u001b[39m or \u001b[36m1-(2-3)\u001b[39m. Use\n",
       "  \u001b[36mfoldl\u001b[39m or \u001b[36mfoldr\u001b[39m instead for guaranteed left or right associativity.\n",
       "\n",
       "  Some operations accumulate error. Parallelism will be easier if the\n",
       "  reduction can be executed in groups. Future versions of Julia might change\n",
       "  the algorithm. Note that the elements are not reordered if you use an\n",
       "  ordered collection.\n",
       "\n",
       "\u001b[1m  Examples\u001b[22m\n",
       "\u001b[1m  ≡≡≡≡≡≡≡≡≡≡\u001b[22m\n",
       "\n",
       "\u001b[36m  julia> reduce(*, [2; 3; 4])\u001b[39m\n",
       "\u001b[36m  24\u001b[39m\n",
       "\u001b[36m  \u001b[39m\n",
       "\u001b[36m  julia> reduce(*, [2; 3; 4]; init=-1)\u001b[39m\n",
       "\u001b[36m  -24\u001b[39m\n",
       "\n",
       "  ────────────────────────────────────────────────────────────────────────────\n",
       "\n",
       "\u001b[36m  reduce(f, A; dims=:, [init])\u001b[39m\n",
       "\n",
       "  Reduce 2-argument function \u001b[36mf\u001b[39m along dimensions of \u001b[36mA\u001b[39m. \u001b[36mdims\u001b[39m is a vector\n",
       "  specifying the dimensions to reduce, and the keyword argument \u001b[36minit\u001b[39m is the\n",
       "  initial value to use in the reductions. For \u001b[36m+\u001b[39m, \u001b[36m*\u001b[39m, \u001b[36mmax\u001b[39m and \u001b[36mmin\u001b[39m the \u001b[36minit\u001b[39m\n",
       "  argument is optional.\n",
       "\n",
       "  The associativity of the reduction is implementation-dependent; if you need\n",
       "  a particular associativity, e.g. left-to-right, you should write your own\n",
       "  loop or consider using \u001b[36mfoldl\u001b[39m or \u001b[36mfoldr\u001b[39m. See documentation for \u001b[36mreduce\u001b[39m.\n",
       "\n",
       "\u001b[1m  Examples\u001b[22m\n",
       "\u001b[1m  ≡≡≡≡≡≡≡≡≡≡\u001b[22m\n",
       "\n",
       "\u001b[36m  julia> a = reshape(Vector(1:16), (4,4))\u001b[39m\n",
       "\u001b[36m  4×4 Array{Int64,2}:\u001b[39m\n",
       "\u001b[36m   1  5   9  13\u001b[39m\n",
       "\u001b[36m   2  6  10  14\u001b[39m\n",
       "\u001b[36m   3  7  11  15\u001b[39m\n",
       "\u001b[36m   4  8  12  16\u001b[39m\n",
       "\u001b[36m  \u001b[39m\n",
       "\u001b[36m  julia> reduce(max, a, dims=2)\u001b[39m\n",
       "\u001b[36m  4×1 Array{Int64,2}:\u001b[39m\n",
       "\u001b[36m   13\u001b[39m\n",
       "\u001b[36m   14\u001b[39m\n",
       "\u001b[36m   15\u001b[39m\n",
       "\u001b[36m   16\u001b[39m\n",
       "\u001b[36m  \u001b[39m\n",
       "\u001b[36m  julia> reduce(max, a, dims=1)\u001b[39m\n",
       "\u001b[36m  1×4 Array{Int64,2}:\u001b[39m\n",
       "\u001b[36m   4  8  12  16\u001b[39m"
      ]
     },
     "execution_count": 13,
     "metadata": {},
     "output_type": "execute_result"
    }
   ],
   "source": [
    "#reduce prende iterabile e op binaria, scompone iterabile e esegue op binaria sui membri"
   ]
  },
  {
   "cell_type": "code",
   "execution_count": null,
   "metadata": {},
   "outputs": [],
   "source": []
  }
 ],
 "metadata": {
  "kernelspec": {
   "display_name": "Julia 1.5.1",
   "language": "julia",
   "name": "julia-1.5"
  },
  "language_info": {
   "file_extension": ".jl",
   "mimetype": "application/julia",
   "name": "julia",
   "version": "1.5.1"
  }
 },
 "nbformat": 4,
 "nbformat_minor": 4
}
