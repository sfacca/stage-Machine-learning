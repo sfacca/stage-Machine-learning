{
 "cells": [
  {
   "cell_type": "code",
   "execution_count": 1,
   "metadata": {},
   "outputs": [
    {
     "name": "stderr",
     "output_type": "stream",
     "text": [
      "┌ Info: Precompiling PkgUtils [6f897bc9-7a02-494e-b4ae-05ae7ec60539]\n",
      "└ @ Base loading.jl:1278\n"
     ]
    }
   ],
   "source": [
    "using PkgUtils"
   ]
  },
  {
   "cell_type": "markdown",
   "metadata": {},
   "source": [
    "possiamo integrare manifest direttamente in notebook copincollando il contenuto nel notebnook:"
   ]
  },
  {
   "cell_type": "code",
   "execution_count": 2,
   "metadata": {},
   "outputs": [
    {
     "name": "stderr",
     "output_type": "stream",
     "text": [
      "\u001b[32m\u001b[1m Activating\u001b[22m\u001b[39m environment at `C:\\Users\\IAM~1\\AppData\\Local\\Temp\\jl_ph7aWy\\Project.toml`\n"
     ]
    }
   ],
   "source": [
    "manifest!\"\"\"\n",
    "# This file is machine-generated - editing it directly is not advised\n",
    "\n",
    "[[Base64]]\n",
    "uuid = \"2a0f44e3-6c83-55bd-87e4-b1978d98bd5f\"\n",
    "\n",
    "[[Lazy]]\n",
    "deps = [\"MacroTools\"]\n",
    "git-tree-sha1 = \"1370f8202dac30758f3c345f9909b97f53d87d3f\"\n",
    "uuid = \"50d2b5c4-7a5e-59d5-8109-a42b560f39c0\"\n",
    "version = \"0.15.1\"\n",
    "\n",
    "[[MacroTools]]\n",
    "deps = [\"Markdown\", \"Random\"]\n",
    "git-tree-sha1 = \"f7d2e3f654af75f01ec49be82c231c382214223a\"\n",
    "uuid = \"1914dd2f-81c6-5fcd-8719-6d5c9610ff09\"\n",
    "version = \"0.5.5\"\n",
    "\n",
    "[[Markdown]]\n",
    "deps = [\"Base64\"]\n",
    "uuid = \"d6f4376e-aef5-505a-96c1-9c027394607a\"\n",
    "\n",
    "[[Random]]\n",
    "deps = [\"Serialization\"]\n",
    "uuid = \"9a3f8284-a2c9-5f02-9a11-845980a1fd5c\"\n",
    "\n",
    "[[Serialization]]\n",
    "uuid = \"9e88b42a-f829-5b0c-bbe9-9e923198166b\"\n",
    "\"\"\""
   ]
  },
  {
   "cell_type": "markdown",
   "metadata": {},
   "source": [
    "il notebook quindi creerà e userà un ambiente temporaneo con il manifest scielto\n",
    "\n",
    "incollare il manifest completo all inizio di ogni notebook è scomodo e manca di version control, possiamo ovviare a ciò usando il pkg InstantiateFromURL:"
   ]
  },
  {
   "cell_type": "code",
   "execution_count": 5,
   "metadata": {},
   "outputs": [
    {
     "name": "stderr",
     "output_type": "stream",
     "text": [
      "┌ Info: Precompiling InstantiateFromURL [43edad99-fa64-5e4f-9937-1c09a410b73f]\n",
      "└ @ Base loading.jl:1278\n"
     ]
    }
   ],
   "source": [
    "using InstantiateFromURL"
   ]
  },
  {
   "cell_type": "code",
   "execution_count": 29,
   "metadata": {},
   "outputs": [
    {
     "name": "stderr",
     "output_type": "stream",
     "text": [
      "┌ Warning: Can't download Project. Make sure the URL is accurate.\n",
      "└ @ InstantiateFromURL C:\\Users\\i am\\.julia\\packages\\InstantiateFromURL\\7E73Z\\src\\github_project.jl:102\n"
     ]
    },
    {
     "ename": "LoadError",
     "evalue": "failed process: Process(`'C:\\Windows\\System32\\curl.exe' -s -S -g -L -f -o 'C:\\Users\\i am\\Documents\\GitHub\\stage-Machine-learning\\notebook\\appunti\\Project.toml' https://raw.githubusercontent.com/sfacca/stage-Machine-learning/v1.0/tree/master/notebook/test/Project.toml`, ProcessExited(22)) [22]\n",
     "output_type": "error",
     "traceback": [
      "failed process: Process(`'C:\\Windows\\System32\\curl.exe' -s -S -g -L -f -o 'C:\\Users\\i am\\Documents\\GitHub\\stage-Machine-learning\\notebook\\appunti\\Project.toml' https://raw.githubusercontent.com/sfacca/stage-Machine-learning/v1.0/tree/master/notebook/test/Project.toml`, ProcessExited(22)) [22]\n",
      "",
      "Stacktrace:",
      " [1] github_project(::String; path::String, version::String, force::Bool, instantiate::Bool, precompile::Bool) at C:\\Users\\i am\\.julia\\packages\\InstantiateFromURL\\7E73Z\\src\\github_project.jl:103",
      " [2] top-level scope at In[29]:1",
      " [3] include_string(::Function, ::Module, ::String, ::String) at .\\loading.jl:1091"
     ]
    }
   ],
   "source": [
    "github_project(\"sfacca/stage-Machine-learning\"; path = \"tree/master/notebook/test\", version=\"1.0\", force=true)#manifest vuoto"
   ]
  },
  {
   "cell_type": "code",
   "execution_count": 19,
   "metadata": {},
   "outputs": [
    {
     "ename": "LoadError",
     "evalue": "ArgumentError: Package CVS not found in current path:\n- Run `import Pkg; Pkg.add(\"CVS\")` to install the CVS package.\n",
     "output_type": "error",
     "traceback": [
      "ArgumentError: Package CVS not found in current path:\n- Run `import Pkg; Pkg.add(\"CVS\")` to install the CVS package.\n",
      "",
      "Stacktrace:",
      " [1] require(::Module, ::Symbol) at .\\loading.jl:893",
      " [2] include_string(::Function, ::Module, ::String, ::String) at .\\loading.jl:1091"
     ]
    }
   ],
   "source": [
    "using CVS"
   ]
  },
  {
   "cell_type": "code",
   "execution_count": 20,
   "metadata": {},
   "outputs": [
    {
     "name": "stdout",
     "output_type": "stream",
     "text": [
      "\u001b[32m\u001b[1mActivated\u001b[0m C:\\Users\\i am\\Documents\\GitHub\\stage-Machine-learning\\notebook\\appunti\\Project.toml\u001b[39m\n",
      "\u001b[36m\u001b[1mInfo\u001b[0m Project name sml-appunti activated, stage-Machine-learning requested.\u001b[39m\n"
     ]
    }
   ],
   "source": [
    "github_project(\"sfacca/stage-Machine-learning\"; path = \"notebook/appunti\" )"
   ]
  },
  {
   "cell_type": "code",
   "execution_count": 21,
   "metadata": {},
   "outputs": [
    {
     "ename": "LoadError",
     "evalue": "ArgumentError: Package CVS not found in current path:\n- Run `import Pkg; Pkg.add(\"CVS\")` to install the CVS package.\n",
     "output_type": "error",
     "traceback": [
      "ArgumentError: Package CVS not found in current path:\n- Run `import Pkg; Pkg.add(\"CVS\")` to install the CVS package.\n",
      "",
      "Stacktrace:",
      " [1] require(::Module, ::Symbol) at .\\loading.jl:893",
      " [2] include_string(::Function, ::Module, ::String, ::String) at .\\loading.jl:1091"
     ]
    }
   ],
   "source": [
    "using CVS"
   ]
  },
  {
   "cell_type": "code",
   "execution_count": 17,
   "metadata": {},
   "outputs": [
    {
     "name": "stdout",
     "output_type": "stream",
     "text": [
      "search: \u001b[0m\u001b[1mg\u001b[22m\u001b[0m\u001b[1mi\u001b[22m\u001b[0m\u001b[1mt\u001b[22m\u001b[0m\u001b[1mh\u001b[22m\u001b[0m\u001b[1mu\u001b[22m\u001b[0m\u001b[1mb\u001b[22m\u001b[0m\u001b[1m_\u001b[22m\u001b[0m\u001b[1mp\u001b[22m\u001b[0m\u001b[1mr\u001b[22m\u001b[0m\u001b[1mo\u001b[22m\u001b[0m\u001b[1mj\u001b[22m\u001b[0m\u001b[1me\u001b[22m\u001b[0m\u001b[1mc\u001b[22m\u001b[0m\u001b[1mt\u001b[22m\n",
      "\n"
     ]
    },
    {
     "data": {
      "text/latex": [
       "No documentation found.\n",
       "\n",
       "\\texttt{InstantiateFromURL.github\\_project} is a \\texttt{Function}.\n",
       "\n",
       "\\begin{verbatim}\n",
       "# 1 method for generic function \"github_project\":\n",
       "[1] github_project(reponame; path, version, force, instantiate, precompile) in InstantiateFromURL at C:\\Users\\i am\\.julia\\packages\\InstantiateFromURL\\7E73Z\\src\\github_project.jl:20\n",
       "\\end{verbatim}\n"
      ],
      "text/markdown": [
       "No documentation found.\n",
       "\n",
       "`InstantiateFromURL.github_project` is a `Function`.\n",
       "\n",
       "```\n",
       "# 1 method for generic function \"github_project\":\n",
       "[1] github_project(reponame; path, version, force, instantiate, precompile) in InstantiateFromURL at C:\\Users\\i am\\.julia\\packages\\InstantiateFromURL\\7E73Z\\src\\github_project.jl:20\n",
       "```\n"
      ],
      "text/plain": [
       "  No documentation found.\n",
       "\n",
       "  \u001b[36mInstantiateFromURL.github_project\u001b[39m is a \u001b[36mFunction\u001b[39m.\n",
       "\n",
       "\u001b[36m  # 1 method for generic function \"github_project\":\u001b[39m\n",
       "\u001b[36m  [1] github_project(reponame; path, version, force, instantiate, precompile) in InstantiateFromURL at C:\\Users\\i am\\.julia\\packages\\InstantiateFromURL\\7E73Z\\src\\github_project.jl:20\u001b[39m"
      ]
     },
     "execution_count": 17,
     "metadata": {},
     "output_type": "execute_result"
    }
   ],
   "source": [
    "?github_project"
   ]
  },
  {
   "cell_type": "code",
   "execution_count": 22,
   "metadata": {},
   "outputs": [
    {
     "ename": "LoadError",
     "evalue": "UndefVarError: CImGui not defined",
     "output_type": "error",
     "traceback": [
      "UndefVarError: CImGui not defined",
      "",
      "Stacktrace:",
      " [1] top-level scope at In[22]:1",
      " [2] include_string(::Function, ::Module, ::String, ::String) at .\\loading.jl:1091"
     ]
    }
   ],
   "source": [
    "apropos(CImGui.ImGuiWindowFlags_NoMove)"
   ]
  },
  {
   "cell_type": "code",
   "execution_count": 23,
   "metadata": {},
   "outputs": [
    {
     "name": "stdout",
     "output_type": "stream",
     "text": [
      "search: \u001b[0m\u001b[1ma\u001b[22m\u001b[0m\u001b[1mp\u001b[22m\u001b[0m\u001b[1mr\u001b[22m\u001b[0m\u001b[1mo\u001b[22m\u001b[0m\u001b[1mp\u001b[22m\u001b[0m\u001b[1mo\u001b[22m\u001b[0m\u001b[1ms\u001b[22m h\u001b[0m\u001b[1ma\u001b[22ms\u001b[0m\u001b[1mp\u001b[22m\u001b[0m\u001b[1mr\u001b[22m\u001b[0m\u001b[1mo\u001b[22m\u001b[0m\u001b[1mp\u001b[22merty\n",
      "\n"
     ]
    },
    {
     "data": {
      "text/latex": [
       "\\begin{verbatim}\n",
       "apropos(string)\n",
       "\\end{verbatim}\n",
       "Search through all documentation for a string, ignoring case.\n",
       "\n"
      ],
      "text/markdown": [
       "```\n",
       "apropos(string)\n",
       "```\n",
       "\n",
       "Search through all documentation for a string, ignoring case.\n"
      ],
      "text/plain": [
       "\u001b[36m  apropos(string)\u001b[39m\n",
       "\n",
       "  Search through all documentation for a string, ignoring case."
      ]
     },
     "execution_count": 23,
     "metadata": {},
     "output_type": "execute_result"
    }
   ],
   "source": [
    "?apropos"
   ]
  },
  {
   "cell_type": "code",
   "execution_count": null,
   "metadata": {},
   "outputs": [],
   "source": []
  }
 ],
 "metadata": {
  "kernelspec": {
   "display_name": "Julia 1.5.1",
   "language": "julia",
   "name": "julia-1.5"
  },
  "language_info": {
   "file_extension": ".jl",
   "mimetype": "application/julia",
   "name": "julia",
   "version": "1.5.1"
  }
 },
 "nbformat": 4,
 "nbformat_minor": 4
}
