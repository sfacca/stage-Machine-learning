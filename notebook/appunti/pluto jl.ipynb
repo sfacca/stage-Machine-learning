{
 "cells": [
  {
   "cell_type": "markdown",
   "metadata": {},
   "source": [
    "+ https://www.youtube.com/watch?v=IAF8DjrQSSk"
   ]
  },
  {
   "cell_type": "code",
   "execution_count": 1,
   "metadata": {},
   "outputs": [
    {
     "name": "stderr",
     "output_type": "stream",
     "text": [
      "\u001b[32m\u001b[1m Activating\u001b[22m\u001b[39m environment at `C:\\Users\\i am\\Documents\\GitHub\\stage-Machine-learning\\notebook\\appunti\\Project.toml`\n",
      "\u001b[32m\u001b[1m   Updating\u001b[22m\u001b[39m registry at `C:\\Users\\i am\\.julia\\registries\\General`\n",
      "\u001b[32m\u001b[1m  Resolving\u001b[22m\u001b[39m package versions...\n",
      "\u001b[32m\u001b[1mNo Changes\u001b[22m\u001b[39m to `C:\\Users\\i am\\Documents\\GitHub\\stage-Machine-learning\\notebook\\appunti\\Project.toml`\n",
      "\u001b[32m\u001b[1mNo Changes\u001b[22m\u001b[39m to `C:\\Users\\i am\\Documents\\GitHub\\stage-Machine-learning\\notebook\\appunti\\Manifest.toml`\n"
     ]
    }
   ],
   "source": [
    "using Pkg\n",
    "Pkg.activate(\".\")\n",
    "Pkg.instantiate()\n",
    "\n",
    "Pkg.add(\"Pluto\")"
   ]
  },
  {
   "cell_type": "code",
   "execution_count": null,
   "metadata": {},
   "outputs": [
    {
     "name": "stdout",
     "output_type": "stream",
     "text": [
      "\n",
      "Opening http://localhost:1234/?secret=dcOcgBlQ in your default browser... ~ have fun!\n",
      "\n",
      "Press Ctrl+C in this terminal to stop Pluto\n",
      "\n"
     ]
    },
    {
     "name": "stderr",
     "output_type": "stream",
     "text": [
      "┌ Error: (Base.IOError(\"read: connection reset by peer (ECONNRESET)\", -4077), Base.StackTraces.StackFrame[wait_readnb(::Sockets.TCPSocket, ::Int64) at stream.jl:350, eof at stream.jl:48 [inlined], read_to_buffer(::HTTP.ConnectionPool.Transaction{Sockets.TCPSocket}, ::Int64) at ConnectionPool.jl:251, readuntil(::HTTP.ConnectionPool.Transaction{Sockets.TCPSocket}, ::Function, ::Int64) at ConnectionPool.jl:271, readuntil at ConnectionPool.jl:269 [inlined], readheaders at Messages.jl:471 [inlined], startread(::HTTP.Streams.Stream{HTTP.Messages.Request,HTTP.ConnectionPool.Transaction{Sockets.TCPSocket}}) at Streams.jl:155, handle_transaction(::HTTP.Handlers.var\"#4#5\"{HTTP.Handlers.StreamHandlerFunction{Pluto.var\"#207#214\"{Pluto.ServerSession,HTTP.Handlers.Router{Symbol(\"##253\")},Base.RefValue{Function}}}}, ::HTTP.ConnectionPool.Transaction{Sockets.TCPSocket}, ::HTTP.Servers.Server{Nothing,Sockets.TCPServer}; final_transaction::Bool) at Servers.jl:343, (::HTTP.Servers.var\"#handle_transaction##kw\")(::NamedTuple{(:final_transaction,),Tuple{Bool}}, ::typeof(HTTP.Servers.handle_transaction), ::Function, ::HTTP.ConnectionPool.Transaction{Sockets.TCPSocket}, ::HTTP.Servers.Server{Nothing,Sockets.TCPServer}) at Servers.jl:338, handle_connection(::Function, ::HTTP.ConnectionPool.Connection{Sockets.TCPSocket}, ::HTTP.Servers.Server{Nothing,Sockets.TCPServer}, ::Int64, ::Int64) at Servers.jl:299, (::HTTP.Servers.var\"#8#9\"{HTTP.Handlers.var\"#4#5\"{HTTP.Handlers.StreamHandlerFunction{Pluto.var\"#207#214\"{Pluto.ServerSession,HTTP.Handlers.Router{Symbol(\"##253\")},Base.RefValue{Function}}}},HTTP.Servers.Server{Nothing,Sockets.TCPServer},Base.RefValue{Int64},Int64,Int64,Bool,HTTP.ConnectionPool.Connection{Sockets.TCPSocket}})() at task.jl:356])\n",
      "└ @ HTTP.Servers C:\\Users\\i am\\.julia\\packages\\HTTP\\IAI92\\src\\Servers.jl:264\n",
      "TaskFailedException:\n",
      "\u001b[91mcannot assign a value to variable IJulia.ans from module Main\u001b[39m\n",
      "Stacktrace:\n",
      " [1] top-level scope at \u001b[1mC:\\Users\\i am\\.julia\\packages\\Pluto\\2pyPe\\src\\analysis\\Parse.jl:153\u001b[22m\n",
      " [2] \u001b[1meval\u001b[22m at \u001b[1m.\\boot.jl:331\u001b[22m [inlined]\n",
      " [3] \u001b[1m(::Distributed.var\"#155#156\"{Module,Expr})\u001b[22m\u001b[1m(\u001b[22m\u001b[1m)\u001b[22m at \u001b[1m.\\task.jl:356\u001b[22m"
     ]
    }
   ],
   "source": [
    "using Pluto\n",
    "Pluto.run()\n",
    "# non sembra funzionare da notebook -> lancia da repl julia "
   ]
  },
  {
   "cell_type": "code",
   "execution_count": null,
   "metadata": {},
   "outputs": [],
   "source": []
  }
 ],
 "metadata": {
  "kernelspec": {
   "display_name": "Julia 1.5.1",
   "language": "julia",
   "name": "julia-1.5"
  },
  "language_info": {
   "file_extension": ".jl",
   "mimetype": "application/julia",
   "name": "julia",
   "version": "1.5.1"
  }
 },
 "nbformat": 4,
 "nbformat_minor": 4
}
