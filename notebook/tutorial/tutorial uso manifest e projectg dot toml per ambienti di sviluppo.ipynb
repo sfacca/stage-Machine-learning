{
 "cells": [
  {
   "cell_type": "code",
   "execution_count": 1,
   "metadata": {},
   "outputs": [],
   "source": [
    "using Pkg"
   ]
  },
  {
   "cell_type": "markdown",
   "metadata": {},
   "source": [
    "Il gestore di pacchetti Pkg, in automatico, salva informazioni sulle versioni dei pacchetti che vengono installati in un file project.toml.  \n",
    "Di default Julia salva e legge un file di progetto comune salvato in una cartella definita nella environment variable JULIA_PROJECT.    \n",
    "E' possibile far si che, invece, carichi e scriva su un file di progetto più specifico.  \n",
    "\n",
    "Per far ciò, prima si dice al gestore dove trovare/creare questo pacchetto:"
   ]
  },
  {
   "cell_type": "code",
   "execution_count": 2,
   "metadata": {},
   "outputs": [
    {
     "name": "stderr",
     "output_type": "stream",
     "text": [
      "\u001b[32m\u001b[1m Activating\u001b[22m\u001b[39m new environment at `C:\\Users\\i am\\Documents\\GitHub\\stage-Machine-learning\\notebook\\tutorial\\Project.toml`\n"
     ]
    }
   ],
   "source": [
    "Pkg.activate(\".\");"
   ]
  },
  {
   "cell_type": "code",
   "execution_count": 3,
   "metadata": {},
   "outputs": [
    {
     "data": {
      "text/latex": [
       "\\begin{verbatim}\n",
       "Pkg.activate([s::String]; shared::Bool=false)\n",
       "\\end{verbatim}\n",
       "Activate the environment at \\texttt{s}. The active environment is the environment that is modified by executing package commands. The logic for what path is activated is as follows:\n",
       "\n",
       "\\begin{itemize}\n",
       "\\item If \\texttt{shared} is \\texttt{true}, the first existing environment named \\texttt{s} from the depots in the depot stack will be activated. If no such environment exists, create and activate that environment in the first depot.\n",
       "\n",
       "\n",
       "\\item If \\texttt{s} is an existing path, then activate the environment at that path.\n",
       "\n",
       "\n",
       "\\item If \\texttt{s} is a package in the current project and \\texttt{s} is tracking a path, then activate the environment at the tracked path.\n",
       "\n",
       "\n",
       "\\item Otherwise, \\texttt{s} is interpreted as a non-existing path, which is then activated.\n",
       "\n",
       "\\end{itemize}\n",
       "If no argument is given to \\texttt{activate}, then activate the home project. The home project is specified by either the \\texttt{--project} command line option to the julia executable, or the \\texttt{JULIA\\_PROJECT} environment variable.\n",
       "\n",
       "\\section{Examples}\n",
       "\\begin{verbatim}\n",
       "Pkg.activate()\n",
       "Pkg.activate(\"local/path\")\n",
       "Pkg.activate(\"MyDependency\")\n",
       "\\end{verbatim}\n"
      ],
      "text/markdown": [
       "```\n",
       "Pkg.activate([s::String]; shared::Bool=false)\n",
       "```\n",
       "\n",
       "Activate the environment at `s`. The active environment is the environment that is modified by executing package commands. The logic for what path is activated is as follows:\n",
       "\n",
       "  * If `shared` is `true`, the first existing environment named `s` from the depots in the depot stack will be activated. If no such environment exists, create and activate that environment in the first depot.\n",
       "  * If `s` is an existing path, then activate the environment at that path.\n",
       "  * If `s` is a package in the current project and `s` is tracking a path, then activate the environment at the tracked path.\n",
       "  * Otherwise, `s` is interpreted as a non-existing path, which is then activated.\n",
       "\n",
       "If no argument is given to `activate`, then activate the home project. The home project is specified by either the `--project` command line option to the julia executable, or the `JULIA_PROJECT` environment variable.\n",
       "\n",
       "# Examples\n",
       "\n",
       "```\n",
       "Pkg.activate()\n",
       "Pkg.activate(\"local/path\")\n",
       "Pkg.activate(\"MyDependency\")\n",
       "```\n"
      ],
      "text/plain": [
       "\u001b[36m  Pkg.activate([s::String]; shared::Bool=false)\u001b[39m\n",
       "\n",
       "  Activate the environment at \u001b[36ms\u001b[39m. The active environment is the environment\n",
       "  that is modified by executing package commands. The logic for what path is\n",
       "  activated is as follows:\n",
       "\n",
       "    •    If \u001b[36mshared\u001b[39m is \u001b[36mtrue\u001b[39m, the first existing environment named \u001b[36ms\u001b[39m from the\n",
       "        depots in the depot stack will be activated. If no such\n",
       "        environment exists, create and activate that environment in the\n",
       "        first depot.\n",
       "\n",
       "    •    If \u001b[36ms\u001b[39m is an existing path, then activate the environment at that\n",
       "        path.\n",
       "\n",
       "    •    If \u001b[36ms\u001b[39m is a package in the current project and \u001b[36ms\u001b[39m is tracking a path,\n",
       "        then activate the environment at the tracked path.\n",
       "\n",
       "    •    Otherwise, \u001b[36ms\u001b[39m is interpreted as a non-existing path, which is then\n",
       "        activated.\n",
       "\n",
       "  If no argument is given to \u001b[36mactivate\u001b[39m, then activate the home project. The\n",
       "  home project is specified by either the \u001b[36m--project\u001b[39m command line option to the\n",
       "  julia executable, or the \u001b[36mJULIA_PROJECT\u001b[39m environment variable.\n",
       "\n",
       "\u001b[1m  Examples\u001b[22m\n",
       "\u001b[1m  ≡≡≡≡≡≡≡≡≡≡\u001b[22m\n",
       "\n",
       "\u001b[36m  Pkg.activate()\u001b[39m\n",
       "\u001b[36m  Pkg.activate(\"local/path\")\u001b[39m\n",
       "\u001b[36m  Pkg.activate(\"MyDependency\")\u001b[39m"
      ]
     },
     "execution_count": 3,
     "metadata": {},
     "output_type": "execute_result"
    }
   ],
   "source": [
    "?Pkg.activate"
   ]
  },
  {
   "cell_type": "markdown",
   "metadata": {},
   "source": [
    "D'ora in poi, un Pkg.add(\"\") scriverà infromazioni sui pacchetti in un file project.toml posto nella stessa cartella di questo notebook.  \n",
    "E'possibile poi caricare e installare automaticamente tutti i pacchetti alle versioni descritte nei toml così:  "
   ]
  },
  {
   "cell_type": "code",
   "execution_count": 4,
   "metadata": {},
   "outputs": [
    {
     "name": "stderr",
     "output_type": "stream",
     "text": [
      "\u001b[32m\u001b[1m   Updating\u001b[22m\u001b[39m registry at `C:\\Users\\i am\\.julia\\registries\\General`\n",
      "\u001b[32m\u001b[1mNo Changes\u001b[22m\u001b[39m to `C:\\Users\\i am\\Documents\\GitHub\\stage-Machine-learning\\notebook\\tutorial\\Project.toml`\n",
      "\u001b[32m\u001b[1mNo Changes\u001b[22m\u001b[39m to `C:\\Users\\i am\\Documents\\GitHub\\stage-Machine-learning\\notebook\\tutorial\\Manifest.toml`\n"
     ]
    }
   ],
   "source": [
    "Pkg.instantiate();"
   ]
  },
  {
   "cell_type": "code",
   "execution_count": 5,
   "metadata": {},
   "outputs": [
    {
     "data": {
      "text/latex": [
       "\\begin{verbatim}\n",
       "Pkg.instantiate(; verbose = false)\n",
       "\\end{verbatim}\n",
       "If a \\texttt{Manifest.toml} file exists in the active project, download all the packages declared in that manifest. Otherwise, resolve a set of feasible packages from the \\texttt{Project.toml} files and install them. \\texttt{verbose = true} prints the build output to \\texttt{stdout}/\\texttt{stderr} instead of redirecting to the \\texttt{build.log} file. If no \\texttt{Project.toml} exist in the current active project, create one with all the dependencies in the manifest and instantiate the resulting project.\n",
       "\n"
      ],
      "text/markdown": [
       "```\n",
       "Pkg.instantiate(; verbose = false)\n",
       "```\n",
       "\n",
       "If a `Manifest.toml` file exists in the active project, download all the packages declared in that manifest. Otherwise, resolve a set of feasible packages from the `Project.toml` files and install them. `verbose = true` prints the build output to `stdout`/`stderr` instead of redirecting to the `build.log` file. If no `Project.toml` exist in the current active project, create one with all the dependencies in the manifest and instantiate the resulting project.\n"
      ],
      "text/plain": [
       "\u001b[36m  Pkg.instantiate(; verbose = false)\u001b[39m\n",
       "\n",
       "  If a \u001b[36mManifest.toml\u001b[39m file exists in the active project, download all the\n",
       "  packages declared in that manifest. Otherwise, resolve a set of feasible\n",
       "  packages from the \u001b[36mProject.toml\u001b[39m files and install them. \u001b[36mverbose = true\u001b[39m prints\n",
       "  the build output to \u001b[36mstdout\u001b[39m/\u001b[36mstderr\u001b[39m instead of redirecting to the \u001b[36mbuild.log\u001b[39m\n",
       "  file. If no \u001b[36mProject.toml\u001b[39m exist in the current active project, create one\n",
       "  with all the dependencies in the manifest and instantiate the resulting\n",
       "  project."
      ]
     },
     "execution_count": 5,
     "metadata": {},
     "output_type": "execute_result"
    }
   ],
   "source": [
    "?Pkg.instantiate()"
   ]
  },
  {
   "cell_type": "code",
   "execution_count": null,
   "metadata": {},
   "outputs": [],
   "source": []
  }
 ],
 "metadata": {
  "kernelspec": {
   "display_name": "Julia 1.5.1",
   "language": "julia",
   "name": "julia-1.5"
  },
  "language_info": {
   "file_extension": ".jl",
   "mimetype": "application/julia",
   "name": "julia",
   "version": "1.5.1"
  }
 },
 "nbformat": 4,
 "nbformat_minor": 4
}
