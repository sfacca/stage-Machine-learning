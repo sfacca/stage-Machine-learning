{
 "cells": [
  {
   "cell_type": "markdown",
   "metadata": {},
   "source": [
    "# Creazione tutorial con Jupyter Notebook e Julia\n"
   ]
  },
  {
   "cell_type": "code",
   "execution_count": null,
   "metadata": {},
   "outputs": [],
   "source": []
  },
  {
   "cell_type": "markdown",
   "metadata": {},
   "source": [
    "1. crea nuovo documento notebook cliccando File / New Notebook / Julia\n",
    "2. clicca su uno dei rettangoli grigi nel foglio di lavoro\n",
    "\n",
    "    a. nel riquadro dropdown a scelta multipla, seleziona markdown, *ripeti questa operazione per ogni riquadro*\n",
    "    \n",
    "    b. per ingrandire il testo a titolo, digita un # seguito da uno spazio prima del testo\n",
    "    \n",
    "    c. separa varie fasi del tutorial creando successivi blocchi tramite il pulsante $ + $\n",
    "    \n",
    "    d. per vedere il risultato finale pigia il pulsante Run\n",
    " \n",
    " 3. quando hai finito, salva con File / Save as"
   ]
  },
  {
   "cell_type": "code",
   "execution_count": null,
   "metadata": {},
   "outputs": [],
   "source": []
  }
 ],
 "metadata": {
  "kernelspec": {
   "display_name": "Julia 1.5.1",
   "language": "julia",
   "name": "julia-1.5"
  },
  "language_info": {
   "file_extension": ".jl",
   "mimetype": "application/julia",
   "name": "julia",
   "version": "1.5.1"
  }
 },
 "nbformat": 4,
 "nbformat_minor": 4
}
