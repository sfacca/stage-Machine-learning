{
 "cells": [
  {
   "cell_type": "markdown",
   "metadata": {},
   "source": [
    "piccolo set di funzioni per disegnare grafico strutturale di file hdf5"
   ]
  },
  {
   "cell_type": "code",
   "execution_count": 12,
   "metadata": {},
   "outputs": [
    {
     "name": "stderr",
     "output_type": "stream",
     "text": [
      "WARNING: replacing module HDF5Tree.\n",
      "WARNING: replacing module HDF5fd.\n",
      "WARNING: replacing module printHDF.\n",
      "WARNING: replacing module drawTree.\n"
     ]
    }
   ],
   "source": [
    "include(\"../../codice/julia/hdf5 tree.jl\")\n",
    "include(\"../../codice/julia/HDF5filesDict.jl\")#todo: filesdict generico, gli passi anche la fun open alla creaz\n",
    "include(\"../../codice/julia/printHDF.jl\")\n",
    "include(\"../../codice/julia/drawTree.jl\")\n",
    "using HDF5\n",
    "using DataFrames"
   ]
  },
  {
   "cell_type": "markdown",
   "metadata": {},
   "source": [
    "1. creiamo strutt per tener lista file aperti"
   ]
  },
  {
   "cell_type": "code",
   "execution_count": 4,
   "metadata": {},
   "outputs": [
    {
     "data": {
      "text/plain": [
       "Main.HDF5fd.filesDict(Dict{Any,Any}(), 0)"
      ]
     },
     "execution_count": 4,
     "metadata": {},
     "output_type": "execute_result"
    }
   ],
   "source": [
    "openfiles = HDF5fd.filesDict()"
   ]
  },
  {
   "cell_type": "markdown",
   "metadata": {},
   "source": [
    "2. apriamo file hdf5"
   ]
  },
  {
   "cell_type": "code",
   "execution_count": 14,
   "metadata": {},
   "outputs": [
    {
     "data": {
      "text/plain": [
       "HDF5 data file: ../../prisma/hdf5/data/PRS_L2D_STD_20200627102334_20200627102339_0001.he5"
      ]
     },
     "execution_count": 14,
     "metadata": {},
     "output_type": "execute_result"
    }
   ],
   "source": [
    "testfile=\"../../prisma/hdf5/data/PRS_L2D_STD_20200627102334_20200627102339_0001.he5\"\n",
    "file = HDF5fd.open(openfiles,testfile,\"r\")"
   ]
  },
  {
   "cell_type": "markdown",
   "metadata": {},
   "source": [
    "3. leggiamo gerarchia hdf5 object del file e lo convertiamo in una struttura ad albero"
   ]
  },
  {
   "cell_type": "code",
   "execution_count": 15,
   "metadata": {},
   "outputs": [
    {
     "name": "stdout",
     "output_type": "stream",
     "text": [
      "init addchild Acquisition_Purpose\n",
      "init addchild Acquisition_Size\n",
      "init addchild Acquisition_Station\n",
      "init addchild Acquisition_Type\n",
      "init addchild Atm_LutGeomInfo_RelativeAzimuth\n",
      "init addchild Atm_LutGeomInfo_SunZenith\n",
      "init addchild Atm_LutGeomInfo_ViewZenith\n",
      "init addchild Atm_Lut_version\n",
      "init addchild Atmo_RTM_info\n",
      "init addchild Atmo_profile_info\n",
      "init addchild Aux_SunEarthDistance\n",
      "init addchild Aux_SunIrradiance\n",
      "init addchild CNM_L2_BINNING\n",
      "init addchild CNM_L2_BIN_ON\n",
      "init addchild CNM_L2_BSEL_ON\n",
      "init addchild CNM_L2_HGRP\n",
      "init addchild CNM_PAN_ACQ\n",
      "init addchild CNM_SWIR_ACQ\n",
      "init addchild CNM_SWIR_SELECT\n",
      "init addchild CNM_VNIR_ACQ\n",
      "init addchild CNM_VNIR_SELECT\n",
      "init addchild Cloudy_pixels_percentage\n",
      "init addchild DEM_info\n",
      "init addchild Epsg_Code\n",
      "init addchild Exit_Code\n",
      "init addchild Frame_Type\n",
      "init addchild GCP_info\n",
      "init addchild ISF_ID_Start\n",
      "init addchild Image_ID\n",
      "init addchild Integration_Time\n",
      "init addchild L1_Processor_Version\n",
      "init addchild L1_Quality_CCPerc\n",
      "init addchild L2ScalePanMax\n",
      "init addchild L2ScalePanMin\n",
      "init addchild L2ScaleSwirMax\n",
      "init addchild L2ScaleSwirMin\n",
      "init addchild L2ScaleVnirMax\n",
      "init addchild L2ScaleVnirMin\n",
      "init addchild L2d_Quality_flags\n",
      "init addchild List_Cw_Swir\n",
      "init addchild List_Cw_Swir_Flags\n",
      "init addchild List_Cw_Vnir\n",
      "init addchild List_Cw_Vnir_Flags\n",
      "init addchild List_Fwhm_Swir\n",
      "init addchild List_Fwhm_Vnir\n",
      "init addchild Main_Electornic_Unit\n",
      "init addchild Map_AOT_accuracy\n",
      "init addchild Map_WV_accuracy\n",
      "init addchild Num_Frames\n",
      "init addchild Number_of_ISF\n",
      "init addchild PANCorruptedFrameList\n",
      "init addchild PAN_ACQ\n",
      "init addchild PAN_Corrupted_Frame_Percentage\n",
      "init addchild PAN_HGRP\n",
      "init addchild PAN_HYP_ACT_RESIDUAL_m\n",
      "init addchild PAN_HYP_ALT_RESIDUAL_m\n",
      "init addchild PAN_HYP_START_SYNC_FRAME\n",
      "init addchild PAN_HYP_START_SYNC_SUBFRAME\n",
      "init addchild PAN_HYP_STOP_SYNC_FRAME\n",
      "init addchild PAN_HYP_STOP_SYNC_SUBFRAME\n",
      "init addchild PAN_Int_Time\n",
      "init addchild PE_Gain_SWIR\n",
      "init addchild PE_Gain_VNIR\n",
      "init addchild Pan_N_Int\n",
      "init addchild Pan_Num_Frames\n",
      "init addchild Prev_Cdp_File_Name\n",
      "init addchild Prev_FKdp_File_Name\n",
      "init addchild Prev_Gkdp_File_Name\n",
      "init addchild Processing_Level\n",
      "init addchild Processing_Station\n",
      "init addchild Processing_Time\n",
      "init addchild Processor_Name\n",
      "init addchild Processor_Version\n",
      "init addchild Product_ID\n",
      "init addchild Product_LLcorner_easting\n",
      "init addchild Product_LLcorner_lat\n",
      "init addchild Product_LLcorner_long\n",
      "init addchild Product_LLcorner_northing\n",
      "init addchild Product_LRcorner_easting\n",
      "init addchild Product_LRcorner_lat\n",
      "init addchild Product_LRcorner_long\n",
      "init addchild Product_LRcorner_northing\n",
      "init addchild Product_Name\n",
      "init addchild Product_StartTime\n",
      "init addchild Product_StopTime\n",
      "init addchild Product_ULcorner_easting\n",
      "init addchild Product_ULcorner_lat\n",
      "init addchild Product_ULcorner_long\n",
      "init addchild Product_ULcorner_northing\n",
      "init addchild Product_URcorner_easting\n",
      "init addchild Product_URcorner_lat\n",
      "init addchild Product_URcorner_long\n",
      "init addchild Product_URcorner_northing\n",
      "init addchild Product_center_easting\n",
      "init addchild Product_center_lat\n",
      "init addchild Product_center_long\n",
      "init addchild Product_center_northing\n",
      "init addchild Projection_Id\n",
      "init addchild Projection_Name\n",
      "init addchild Reference_Ellipsoid\n",
      "init addchild SWIRCorruptedFrameList\n",
      "init addchild SWIR_BNSTART\n",
      "init addchild SWIR_BNSTOP\n",
      "init addchild SWIR_Corrupted_Frame_Percentage\n",
      "init addchild SWIR_HGRP\n",
      "init addchild SWIR_X\n",
      "init addchild Sea_pixels_percentage\n",
      "init addchild Soi_L0a_EO-EOS\n",
      "init addchild Soi_Post_Dark_Calibration_L0aFile\n",
      "init addchild Soi_Prev_Dark_Calibration_L0aFile\n",
      "init addchild Sun_azimuth_angle\n",
      "init addchild Sun_zenith_angle\n",
      "init addchild Synch_Time\n",
      "init addchild VNIRCorruptedFrameList\n",
      "init addchild VNIR_BNSTART\n",
      "init addchild VNIR_BNSTOP\n",
      "init addchild VNIR_Corrupted_Frame_Percentage\n",
      "init addchild VNIR_HGRP\n",
      "init addchild VNIR_X\n",
      "init addchild HDFEOS\n",
      "init addchild SWATHS\n",
      "init addchild Geocoding attributes\n",
      "init addchild Ancillary\n",
      "init addchild DEM_Horizontal_Accuracy\n",
      "init addchild DEM_Resolution\n",
      "init addchild DEM_Type\n",
      "init addchild DEM_Vertical_Accuracy\n",
      "init addchild GCP_Available\n",
      "init addchild GCP_Correlation_score\n",
      "init addchild GCP_Min_Correlation_threshold\n",
      "init addchild GCP_Overall_Correlation_score\n",
      "init addchild GCP_Use_Flag\n",
      "init addchild GCP_Used\n",
      "init addchild Geocoding_RMS_Error\n",
      "init addchild PRS_L2D_HCO\n",
      "init addchild Data Fields\n",
      "init addchild SWIR_Cube\n",
      "init addchild SWIR_PIXEL_L2_ERR_MATRIX\n",
      "init addchild VNIR_Cube\n",
      "init addchild VNIR_PIXEL_L2_ERR_MATRIX\n",
      "init addchild Geocoding Model\n",
      "init addchild ERR_BIAS\n",
      "init addchild ERR_RAND\n",
      "init addchild HEIGHT_OFF\n",
      "init addchild HEIGHT_SCALE\n",
      "init addchild LAT_OFF\n",
      "init addchild LAT_SCALE\n",
      "init addchild LINE_DEN_COEFF\n",
      "init addchild LINE_NUM_COEFF\n",
      "init addchild LINE_OFF\n",
      "init addchild LINE_SCALE\n",
      "init addchild LONG_OFF\n",
      "init addchild LONG_SCALE\n",
      "init addchild Model_ID\n",
      "init addchild SAMP_DEN_COEFF\n",
      "init addchild SAMP_NUM_COEFF\n",
      "init addchild SAMP_OFF\n",
      "init addchild SAMP_SCALE\n",
      "init addchild SUCCESS\n",
      "init addchild Geolocation Fields\n",
      "init addchild Latitude\n",
      "init addchild Longitude\n",
      "init addchild Time\n",
      "init addchild Geometric Fields\n",
      "init addchild Observing_Angle\n",
      "init addchild Rel_Azimuth_Angle\n",
      "init addchild Solar_Zenith_Angle\n",
      "init addchild PRS_L2D_PCO\n",
      "init addchild Data Fields\n",
      "init addchild Cube\n",
      "init addchild PIXEL_L2_ERR_MATRIX\n",
      "init addchild Geocoding Model\n",
      "init addchild ERR_BIAS\n",
      "init addchild ERR_RAND\n",
      "init addchild HEIGHT_OFF\n",
      "init addchild HEIGHT_SCALE\n",
      "init addchild LAT_OFF\n",
      "init addchild LAT_SCALE\n",
      "init addchild LINE_DEN_COEFF\n",
      "init addchild LINE_NUM_COEFF\n",
      "init addchild LINE_OFF\n",
      "init addchild LINE_SCALE\n",
      "init addchild LONG_OFF\n",
      "init addchild LONG_SCALE\n",
      "init addchild Model_ID\n",
      "init addchild SAMP_DEN_COEFF\n",
      "init addchild SAMP_NUM_COEFF\n",
      "init addchild SAMP_OFF\n",
      "init addchild SAMP_SCALE\n",
      "init addchild SUCCESS\n",
      "init addchild Geolocation Fields\n",
      "init addchild Latitude\n",
      "init addchild Longitude\n",
      "init addchild Time\n",
      "init addchild HDFEOS INFORMATION\n",
      "init addchild HDFEOSVersion\n",
      "init addchild Info\n",
      "init addchild Ancillary\n",
      "init addchild GyroData\n",
      "init addchild Gyro_1_data_angle\n",
      "init addchild Gyro_1_data_byte\n",
      "init addchild Gyro_2_data_angle\n",
      "init addchild Gyro_2_data_byte\n",
      "init addchild Gyro_3_data_angle\n",
      "init addchild Gyro_3_data_byte\n",
      "init addchild Gyro_4_data_angle\n",
      "init addchild Gyro_4_data_byte\n",
      "init addchild Gyro_5_data_angle\n",
      "init addchild Gyro_5_data_byte\n",
      "init addchild Gyro_6_data_angle\n",
      "init addchild Gyro_6_data_byte\n",
      "init addchild Star_sensors__Gyros_Data_validity\n",
      "init addchild PVSdata\n",
      "init addchild AOCS_Stat\n",
      "init addchild Clock_Bias\n",
      "init addchild Clock_Bias_Rate\n",
      "init addchild GPS_Time_of_Last_Position\n",
      "init addchild Gdop\n",
      "init addchild Number_of_Satellites\n",
      "init addchild Week_Number\n",
      "init addchild Wgs84_pos_x\n",
      "init addchild Wgs84_pos_y\n",
      "init addchild Wgs84_pos_z\n",
      "init addchild Wgs84_vel_x\n",
      "init addchild Wgs84_vel_y\n",
      "init addchild Wgs_84_vel_z\n",
      "init addchild StarTracker1\n",
      "init addchild NAV_APROP_EKF_values\n",
      "init addchild Navigation_time\n",
      "init addchild q_ECI_2_Body_1\n",
      "init addchild q_ECI_2_Body_2\n",
      "init addchild q_ECI_2_Body_3\n",
      "init addchild q_ECI_2_Body_4\n",
      "init addchild w_body_1\n",
      "init addchild w_body_2\n",
      "init addchild w_body_3\n",
      "init addchild StarTracker2\n",
      "init addchild Attitude_status_ss\n",
      "init addchild Data_valid_ss\n",
      "init addchild Omega_x_ss\n",
      "init addchild Omega_y_ss\n",
      "init addchild Omega_z_ss\n",
      "init addchild Quaternion_1_ss\n",
      "init addchild Quaternion_2_ss\n",
      "init addchild Quaternion_3_ss\n",
      "init addchild Quaternion_4_ss\n",
      "init addchild Time_day_ss\n",
      "init addchild Time_msec_ss\n",
      "init addchild Header\n",
      "init addchild FrameNumber\n",
      "init addchild Frame_Corrupted\n",
      "init addchild Frame_Missing\n",
      "init addchild KDP_AUX\n",
      "init addchild Cw_Swir_Matrix\n",
      "init addchild Cw_Vnir_Matrix\n",
      "init addchild Fwhm_Swir_Matrix\n",
      "init addchild Fwhm_Vnir_Matrix\n",
      "init addchild LOS_Pan\n",
      "init addchild LOS_Swir\n",
      "init addchild LOS_Vnir\n"
     ]
    }
   ],
   "source": [
    "mytree = HDF5Tree.viewfileTree(file);"
   ]
  },
  {
   "cell_type": "markdown",
   "metadata": {},
   "source": [
    "4. possiamo chiudere il file"
   ]
  },
  {
   "cell_type": "code",
   "execution_count": 16,
   "metadata": {},
   "outputs": [
    {
     "name": "stdout",
     "output_type": "stream",
     "text": [
      "chiuso 1 file\n"
     ]
    }
   ],
   "source": [
    "HDF5fd.closeall(openfiles)"
   ]
  },
  {
   "cell_type": "markdown",
   "metadata": {},
   "source": [
    "5. convertiamo l'albero in un df"
   ]
  },
  {
   "cell_type": "code",
   "execution_count": 17,
   "metadata": {},
   "outputs": [],
   "source": [
    "mydf, counter = HDF5Tree.treeToDf(mytree);"
   ]
  },
  {
   "cell_type": "markdown",
   "metadata": {},
   "source": [
    "6. disegniamo il df"
   ]
  },
  {
   "cell_type": "code",
   "execution_count": 18,
   "metadata": {},
   "outputs": [
    {
     "data": {
      "application/vnd.vega.v5+json": {
       "data": [
        {
         "name": "tree",
         "transform": [
          {
           "key": "id",
           "parentKey": "parent",
           "type": "stratify"
          },
          {
           "as": [
            "y",
            "x",
            "depth",
            "children"
           ],
           "method": {
            "signal": "layout"
           },
           "separation": {
            "signal": "separation"
           },
           "size": [
            {
             "signal": "height"
            },
            {
             "signal": "width - 100"
            }
           ],
           "type": "tree"
          }
         ],
         "values": [
          {
           "id": 0,
           "name": "root",
           "parent": null
          },
          {
           "id": 1,
           "name": "HDF5 FILE",
           "parent": 0
          },
          {
           "id": 2,
           "name": "Acquisition_Purpose",
           "parent": 1
          },
          {
           "id": 3,
           "name": "Acquisition_Size",
           "parent": 1
          },
          {
           "id": 4,
           "name": "Acquisition_Station",
           "parent": 1
          },
          {
           "id": 5,
           "name": "Acquisition_Type",
           "parent": 1
          },
          {
           "id": 6,
           "name": "Atm_LutGeomInfo_RelativeAzimuth",
           "parent": 1
          },
          {
           "id": 7,
           "name": "Atm_LutGeomInfo_SunZenith",
           "parent": 1
          },
          {
           "id": 8,
           "name": "Atm_LutGeomInfo_ViewZenith",
           "parent": 1
          },
          {
           "id": 9,
           "name": "Atm_Lut_version",
           "parent": 1
          },
          {
           "id": 10,
           "name": "Atmo_RTM_info",
           "parent": 1
          },
          {
           "id": 11,
           "name": "Atmo_profile_info",
           "parent": 1
          },
          {
           "id": 12,
           "name": "Aux_SunEarthDistance",
           "parent": 1
          },
          {
           "id": 13,
           "name": "Aux_SunIrradiance",
           "parent": 1
          },
          {
           "id": 14,
           "name": "CNM_L2_BINNING",
           "parent": 1
          },
          {
           "id": 15,
           "name": "CNM_L2_BIN_ON",
           "parent": 1
          },
          {
           "id": 16,
           "name": "CNM_L2_BSEL_ON",
           "parent": 1
          },
          {
           "id": 17,
           "name": "CNM_L2_HGRP",
           "parent": 1
          },
          {
           "id": 18,
           "name": "CNM_PAN_ACQ",
           "parent": 1
          },
          {
           "id": 19,
           "name": "CNM_SWIR_ACQ",
           "parent": 1
          },
          {
           "id": 20,
           "name": "CNM_SWIR_SELECT",
           "parent": 1
          },
          {
           "id": 21,
           "name": "CNM_VNIR_ACQ",
           "parent": 1
          },
          {
           "id": 22,
           "name": "CNM_VNIR_SELECT",
           "parent": 1
          },
          {
           "id": 23,
           "name": "Cloudy_pixels_percentage",
           "parent": 1
          },
          {
           "id": 24,
           "name": "DEM_info",
           "parent": 1
          },
          {
           "id": 25,
           "name": "Epsg_Code",
           "parent": 1
          },
          {
           "id": 26,
           "name": "Exit_Code",
           "parent": 1
          },
          {
           "id": 27,
           "name": "Frame_Type",
           "parent": 1
          },
          {
           "id": 28,
           "name": "GCP_info",
           "parent": 1
          },
          {
           "id": 29,
           "name": "ISF_ID_Start",
           "parent": 1
          },
          {
           "id": 30,
           "name": "Image_ID",
           "parent": 1
          },
          {
           "id": 31,
           "name": "Integration_Time",
           "parent": 1
          },
          {
           "id": 32,
           "name": "L1_Processor_Version",
           "parent": 1
          },
          {
           "id": 33,
           "name": "L1_Quality_CCPerc",
           "parent": 1
          },
          {
           "id": 34,
           "name": "L2ScalePanMax",
           "parent": 1
          },
          {
           "id": 35,
           "name": "L2ScalePanMin",
           "parent": 1
          },
          {
           "id": 36,
           "name": "L2ScaleSwirMax",
           "parent": 1
          },
          {
           "id": 37,
           "name": "L2ScaleSwirMin",
           "parent": 1
          },
          {
           "id": 38,
           "name": "L2ScaleVnirMax",
           "parent": 1
          },
          {
           "id": 39,
           "name": "L2ScaleVnirMin",
           "parent": 1
          },
          {
           "id": 40,
           "name": "L2d_Quality_flags",
           "parent": 1
          },
          {
           "id": 41,
           "name": "List_Cw_Swir",
           "parent": 1
          },
          {
           "id": 42,
           "name": "List_Cw_Swir_Flags",
           "parent": 1
          },
          {
           "id": 43,
           "name": "List_Cw_Vnir",
           "parent": 1
          },
          {
           "id": 44,
           "name": "List_Cw_Vnir_Flags",
           "parent": 1
          },
          {
           "id": 45,
           "name": "List_Fwhm_Swir",
           "parent": 1
          },
          {
           "id": 46,
           "name": "List_Fwhm_Vnir",
           "parent": 1
          },
          {
           "id": 47,
           "name": "Main_Electornic_Unit",
           "parent": 1
          },
          {
           "id": 48,
           "name": "Map_AOT_accuracy",
           "parent": 1
          },
          {
           "id": 49,
           "name": "Map_WV_accuracy",
           "parent": 1
          },
          {
           "id": 50,
           "name": "Num_Frames",
           "parent": 1
          },
          {
           "id": 51,
           "name": "Number_of_ISF",
           "parent": 1
          },
          {
           "id": 52,
           "name": "PANCorruptedFrameList",
           "parent": 1
          },
          {
           "id": 53,
           "name": "PAN_ACQ",
           "parent": 1
          },
          {
           "id": 54,
           "name": "PAN_Corrupted_Frame_Percentage",
           "parent": 1
          },
          {
           "id": 55,
           "name": "PAN_HGRP",
           "parent": 1
          },
          {
           "id": 56,
           "name": "PAN_HYP_ACT_RESIDUAL_m",
           "parent": 1
          },
          {
           "id": 57,
           "name": "PAN_HYP_ALT_RESIDUAL_m",
           "parent": 1
          },
          {
           "id": 58,
           "name": "PAN_HYP_START_SYNC_FRAME",
           "parent": 1
          },
          {
           "id": 59,
           "name": "PAN_HYP_START_SYNC_SUBFRAME",
           "parent": 1
          },
          {
           "id": 60,
           "name": "PAN_HYP_STOP_SYNC_FRAME",
           "parent": 1
          },
          {
           "id": 61,
           "name": "PAN_HYP_STOP_SYNC_SUBFRAME",
           "parent": 1
          },
          {
           "id": 62,
           "name": "PAN_Int_Time",
           "parent": 1
          },
          {
           "id": 63,
           "name": "PE_Gain_SWIR",
           "parent": 1
          },
          {
           "id": 64,
           "name": "PE_Gain_VNIR",
           "parent": 1
          },
          {
           "id": 65,
           "name": "Pan_N_Int",
           "parent": 1
          },
          {
           "id": 66,
           "name": "Pan_Num_Frames",
           "parent": 1
          },
          {
           "id": 67,
           "name": "Prev_Cdp_File_Name",
           "parent": 1
          },
          {
           "id": 68,
           "name": "Prev_FKdp_File_Name",
           "parent": 1
          },
          {
           "id": 69,
           "name": "Prev_Gkdp_File_Name",
           "parent": 1
          },
          {
           "id": 70,
           "name": "Processing_Level",
           "parent": 1
          },
          {
           "id": 71,
           "name": "Processing_Station",
           "parent": 1
          },
          {
           "id": 72,
           "name": "Processing_Time",
           "parent": 1
          },
          {
           "id": 73,
           "name": "Processor_Name",
           "parent": 1
          },
          {
           "id": 74,
           "name": "Processor_Version",
           "parent": 1
          },
          {
           "id": 75,
           "name": "Product_ID",
           "parent": 1
          },
          {
           "id": 76,
           "name": "Product_LLcorner_easting",
           "parent": 1
          },
          {
           "id": 77,
           "name": "Product_LLcorner_lat",
           "parent": 1
          },
          {
           "id": 78,
           "name": "Product_LLcorner_long",
           "parent": 1
          },
          {
           "id": 79,
           "name": "Product_LLcorner_northing",
           "parent": 1
          },
          {
           "id": 80,
           "name": "Product_LRcorner_easting",
           "parent": 1
          },
          {
           "id": 81,
           "name": "Product_LRcorner_lat",
           "parent": 1
          },
          {
           "id": 82,
           "name": "Product_LRcorner_long",
           "parent": 1
          },
          {
           "id": 83,
           "name": "Product_LRcorner_northing",
           "parent": 1
          },
          {
           "id": 84,
           "name": "Product_Name",
           "parent": 1
          },
          {
           "id": 85,
           "name": "Product_StartTime",
           "parent": 1
          },
          {
           "id": 86,
           "name": "Product_StopTime",
           "parent": 1
          },
          {
           "id": 87,
           "name": "Product_ULcorner_easting",
           "parent": 1
          },
          {
           "id": 88,
           "name": "Product_ULcorner_lat",
           "parent": 1
          },
          {
           "id": 89,
           "name": "Product_ULcorner_long",
           "parent": 1
          },
          {
           "id": 90,
           "name": "Product_ULcorner_northing",
           "parent": 1
          },
          {
           "id": 91,
           "name": "Product_URcorner_easting",
           "parent": 1
          },
          {
           "id": 92,
           "name": "Product_URcorner_lat",
           "parent": 1
          },
          {
           "id": 93,
           "name": "Product_URcorner_long",
           "parent": 1
          },
          {
           "id": 94,
           "name": "Product_URcorner_northing",
           "parent": 1
          },
          {
           "id": 95,
           "name": "Product_center_easting",
           "parent": 1
          },
          {
           "id": 96,
           "name": "Product_center_lat",
           "parent": 1
          },
          {
           "id": 97,
           "name": "Product_center_long",
           "parent": 1
          },
          {
           "id": 98,
           "name": "Product_center_northing",
           "parent": 1
          },
          {
           "id": 99,
           "name": "Projection_Id",
           "parent": 1
          },
          {
           "id": 100,
           "name": "Projection_Name",
           "parent": 1
          },
          {
           "id": 101,
           "name": "Reference_Ellipsoid",
           "parent": 1
          },
          {
           "id": 102,
           "name": "SWIRCorruptedFrameList",
           "parent": 1
          },
          {
           "id": 103,
           "name": "SWIR_BNSTART",
           "parent": 1
          },
          {
           "id": 104,
           "name": "SWIR_BNSTOP",
           "parent": 1
          },
          {
           "id": 105,
           "name": "SWIR_Corrupted_Frame_Percentage",
           "parent": 1
          },
          {
           "id": 106,
           "name": "SWIR_HGRP",
           "parent": 1
          },
          {
           "id": 107,
           "name": "SWIR_X",
           "parent": 1
          },
          {
           "id": 108,
           "name": "Sea_pixels_percentage",
           "parent": 1
          },
          {
           "id": 109,
           "name": "Soi_L0a_EO-EOS",
           "parent": 1
          },
          {
           "id": 110,
           "name": "Soi_Post_Dark_Calibration_L0aFile",
           "parent": 1
          },
          {
           "id": 111,
           "name": "Soi_Prev_Dark_Calibration_L0aFile",
           "parent": 1
          },
          {
           "id": 112,
           "name": "Sun_azimuth_angle",
           "parent": 1
          },
          {
           "id": 113,
           "name": "Sun_zenith_angle",
           "parent": 1
          },
          {
           "id": 114,
           "name": "Synch_Time",
           "parent": 1
          },
          {
           "id": 115,
           "name": "VNIRCorruptedFrameList",
           "parent": 1
          },
          {
           "id": 116,
           "name": "VNIR_BNSTART",
           "parent": 1
          },
          {
           "id": 117,
           "name": "VNIR_BNSTOP",
           "parent": 1
          },
          {
           "id": 118,
           "name": "VNIR_Corrupted_Frame_Percentage",
           "parent": 1
          },
          {
           "id": 119,
           "name": "VNIR_HGRP",
           "parent": 1
          },
          {
           "id": 120,
           "name": "VNIR_X",
           "parent": 1
          },
          {
           "id": 121,
           "name": "HDFEOS",
           "parent": 1
          },
          {
           "id": 122,
           "name": "SWATHS",
           "parent": 121
          },
          {
           "id": 123,
           "name": "Geocoding attributes",
           "parent": 122
          },
          {
           "id": 124,
           "name": "Ancillary",
           "parent": 123
          },
          {
           "id": 125,
           "name": "DEM_Horizontal_Accuracy",
           "parent": 124
          },
          {
           "id": 126,
           "name": "DEM_Resolution",
           "parent": 124
          },
          {
           "id": 127,
           "name": "DEM_Type",
           "parent": 124
          },
          {
           "id": 128,
           "name": "DEM_Vertical_Accuracy",
           "parent": 124
          },
          {
           "id": 129,
           "name": "GCP_Available",
           "parent": 124
          },
          {
           "id": 130,
           "name": "GCP_Correlation_score",
           "parent": 124
          },
          {
           "id": 131,
           "name": "GCP_Min_Correlation_threshold",
           "parent": 124
          },
          {
           "id": 132,
           "name": "GCP_Overall_Correlation_score",
           "parent": 124
          },
          {
           "id": 133,
           "name": "GCP_Use_Flag",
           "parent": 124
          },
          {
           "id": 134,
           "name": "GCP_Used",
           "parent": 124
          },
          {
           "id": 135,
           "name": "Geocoding_RMS_Error",
           "parent": 124
          },
          {
           "id": 136,
           "name": "PRS_L2D_HCO",
           "parent": 122
          },
          {
           "id": 137,
           "name": "Data Fields",
           "parent": 136
          },
          {
           "id": 138,
           "name": "SWIR_Cube",
           "parent": 137
          },
          {
           "id": 139,
           "name": "SWIR_PIXEL_L2_ERR_MATRIX",
           "parent": 137
          },
          {
           "id": 140,
           "name": "VNIR_Cube",
           "parent": 137
          },
          {
           "id": 141,
           "name": "VNIR_PIXEL_L2_ERR_MATRIX",
           "parent": 137
          },
          {
           "id": 142,
           "name": "Geocoding Model",
           "parent": 136
          },
          {
           "id": 143,
           "name": "ERR_BIAS",
           "parent": 142
          },
          {
           "id": 144,
           "name": "ERR_RAND",
           "parent": 142
          },
          {
           "id": 145,
           "name": "HEIGHT_OFF",
           "parent": 142
          },
          {
           "id": 146,
           "name": "HEIGHT_SCALE",
           "parent": 142
          },
          {
           "id": 147,
           "name": "LAT_OFF",
           "parent": 142
          },
          {
           "id": 148,
           "name": "LAT_SCALE",
           "parent": 142
          },
          {
           "id": 149,
           "name": "LINE_DEN_COEFF",
           "parent": 142
          },
          {
           "id": 150,
           "name": "LINE_NUM_COEFF",
           "parent": 142
          },
          {
           "id": 151,
           "name": "LINE_OFF",
           "parent": 142
          },
          {
           "id": 152,
           "name": "LINE_SCALE",
           "parent": 142
          },
          {
           "id": 153,
           "name": "LONG_OFF",
           "parent": 142
          },
          {
           "id": 154,
           "name": "LONG_SCALE",
           "parent": 142
          },
          {
           "id": 155,
           "name": "Model_ID",
           "parent": 142
          },
          {
           "id": 156,
           "name": "SAMP_DEN_COEFF",
           "parent": 142
          },
          {
           "id": 157,
           "name": "SAMP_NUM_COEFF",
           "parent": 142
          },
          {
           "id": 158,
           "name": "SAMP_OFF",
           "parent": 142
          },
          {
           "id": 159,
           "name": "SAMP_SCALE",
           "parent": 142
          },
          {
           "id": 160,
           "name": "SUCCESS",
           "parent": 142
          },
          {
           "id": 161,
           "name": "Geolocation Fields",
           "parent": 136
          },
          {
           "id": 162,
           "name": "Latitude",
           "parent": 161
          },
          {
           "id": 163,
           "name": "Longitude",
           "parent": 161
          },
          {
           "id": 164,
           "name": "Time",
           "parent": 161
          },
          {
           "id": 165,
           "name": "Geometric Fields",
           "parent": 136
          },
          {
           "id": 166,
           "name": "Observing_Angle",
           "parent": 165
          },
          {
           "id": 167,
           "name": "Rel_Azimuth_Angle",
           "parent": 165
          },
          {
           "id": 168,
           "name": "Solar_Zenith_Angle",
           "parent": 165
          },
          {
           "id": 169,
           "name": "PRS_L2D_PCO",
           "parent": 122
          },
          {
           "id": 170,
           "name": "Data Fields",
           "parent": 169
          },
          {
           "id": 171,
           "name": "Cube",
           "parent": 170
          },
          {
           "id": 172,
           "name": "PIXEL_L2_ERR_MATRIX",
           "parent": 170
          },
          {
           "id": 173,
           "name": "Geocoding Model",
           "parent": 169
          },
          {
           "id": 174,
           "name": "ERR_BIAS",
           "parent": 173
          },
          {
           "id": 175,
           "name": "ERR_RAND",
           "parent": 173
          },
          {
           "id": 176,
           "name": "HEIGHT_OFF",
           "parent": 173
          },
          {
           "id": 177,
           "name": "HEIGHT_SCALE",
           "parent": 173
          },
          {
           "id": 178,
           "name": "LAT_OFF",
           "parent": 173
          },
          {
           "id": 179,
           "name": "LAT_SCALE",
           "parent": 173
          },
          {
           "id": 180,
           "name": "LINE_DEN_COEFF",
           "parent": 173
          },
          {
           "id": 181,
           "name": "LINE_NUM_COEFF",
           "parent": 173
          },
          {
           "id": 182,
           "name": "LINE_OFF",
           "parent": 173
          },
          {
           "id": 183,
           "name": "LINE_SCALE",
           "parent": 173
          },
          {
           "id": 184,
           "name": "LONG_OFF",
           "parent": 173
          },
          {
           "id": 185,
           "name": "LONG_SCALE",
           "parent": 173
          },
          {
           "id": 186,
           "name": "Model_ID",
           "parent": 173
          },
          {
           "id": 187,
           "name": "SAMP_DEN_COEFF",
           "parent": 173
          },
          {
           "id": 188,
           "name": "SAMP_NUM_COEFF",
           "parent": 173
          },
          {
           "id": 189,
           "name": "SAMP_OFF",
           "parent": 173
          },
          {
           "id": 190,
           "name": "SAMP_SCALE",
           "parent": 173
          },
          {
           "id": 191,
           "name": "SUCCESS",
           "parent": 173
          },
          {
           "id": 192,
           "name": "Geolocation Fields",
           "parent": 169
          },
          {
           "id": 193,
           "name": "Latitude",
           "parent": 192
          },
          {
           "id": 194,
           "name": "Longitude",
           "parent": 192
          },
          {
           "id": 195,
           "name": "Time",
           "parent": 192
          },
          {
           "id": 196,
           "name": "HDFEOS INFORMATION",
           "parent": 1
          },
          {
           "id": 197,
           "name": "HDFEOSVersion",
           "parent": 196
          },
          {
           "id": 198,
           "name": "Info",
           "parent": 1
          },
          {
           "id": 199,
           "name": "Ancillary",
           "parent": 198
          },
          {
           "id": 200,
           "name": "GyroData",
           "parent": 199
          },
          {
           "id": 201,
           "name": "Gyro_1_data_angle",
           "parent": 200
          },
          {
           "id": 202,
           "name": "Gyro_1_data_byte",
           "parent": 200
          },
          {
           "id": 203,
           "name": "Gyro_2_data_angle",
           "parent": 200
          },
          {
           "id": 204,
           "name": "Gyro_2_data_byte",
           "parent": 200
          },
          {
           "id": 205,
           "name": "Gyro_3_data_angle",
           "parent": 200
          },
          {
           "id": 206,
           "name": "Gyro_3_data_byte",
           "parent": 200
          },
          {
           "id": 207,
           "name": "Gyro_4_data_angle",
           "parent": 200
          },
          {
           "id": 208,
           "name": "Gyro_4_data_byte",
           "parent": 200
          },
          {
           "id": 209,
           "name": "Gyro_5_data_angle",
           "parent": 200
          },
          {
           "id": 210,
           "name": "Gyro_5_data_byte",
           "parent": 200
          },
          {
           "id": 211,
           "name": "Gyro_6_data_angle",
           "parent": 200
          },
          {
           "id": 212,
           "name": "Gyro_6_data_byte",
           "parent": 200
          },
          {
           "id": 213,
           "name": "Star_sensors__Gyros_Data_validity",
           "parent": 200
          },
          {
           "id": 214,
           "name": "PVSdata",
           "parent": 199
          },
          {
           "id": 215,
           "name": "AOCS_Stat",
           "parent": 214
          },
          {
           "id": 216,
           "name": "Clock_Bias",
           "parent": 214
          },
          {
           "id": 217,
           "name": "Clock_Bias_Rate",
           "parent": 214
          },
          {
           "id": 218,
           "name": "GPS_Time_of_Last_Position",
           "parent": 214
          },
          {
           "id": 219,
           "name": "Gdop",
           "parent": 214
          },
          {
           "id": 220,
           "name": "Number_of_Satellites",
           "parent": 214
          },
          {
           "id": 221,
           "name": "Week_Number",
           "parent": 214
          },
          {
           "id": 222,
           "name": "Wgs84_pos_x",
           "parent": 214
          },
          {
           "id": 223,
           "name": "Wgs84_pos_y",
           "parent": 214
          },
          {
           "id": 224,
           "name": "Wgs84_pos_z",
           "parent": 214
          },
          {
           "id": 225,
           "name": "Wgs84_vel_x",
           "parent": 214
          },
          {
           "id": 226,
           "name": "Wgs84_vel_y",
           "parent": 214
          },
          {
           "id": 227,
           "name": "Wgs_84_vel_z",
           "parent": 214
          },
          {
           "id": 228,
           "name": "StarTracker1",
           "parent": 199
          },
          {
           "id": 229,
           "name": "NAV_APROP_EKF_values",
           "parent": 228
          },
          {
           "id": 230,
           "name": "Navigation_time",
           "parent": 228
          },
          {
           "id": 231,
           "name": "q_ECI_2_Body_1",
           "parent": 228
          },
          {
           "id": 232,
           "name": "q_ECI_2_Body_2",
           "parent": 228
          },
          {
           "id": 233,
           "name": "q_ECI_2_Body_3",
           "parent": 228
          },
          {
           "id": 234,
           "name": "q_ECI_2_Body_4",
           "parent": 228
          },
          {
           "id": 235,
           "name": "w_body_1",
           "parent": 228
          },
          {
           "id": 236,
           "name": "w_body_2",
           "parent": 228
          },
          {
           "id": 237,
           "name": "w_body_3",
           "parent": 228
          },
          {
           "id": 238,
           "name": "StarTracker2",
           "parent": 199
          },
          {
           "id": 239,
           "name": "Attitude_status_ss",
           "parent": 238
          },
          {
           "id": 240,
           "name": "Data_valid_ss",
           "parent": 238
          },
          {
           "id": 241,
           "name": "Omega_x_ss",
           "parent": 238
          },
          {
           "id": 242,
           "name": "Omega_y_ss",
           "parent": 238
          },
          {
           "id": 243,
           "name": "Omega_z_ss",
           "parent": 238
          },
          {
           "id": 244,
           "name": "Quaternion_1_ss",
           "parent": 238
          },
          {
           "id": 245,
           "name": "Quaternion_2_ss",
           "parent": 238
          },
          {
           "id": 246,
           "name": "Quaternion_3_ss",
           "parent": 238
          },
          {
           "id": 247,
           "name": "Quaternion_4_ss",
           "parent": 238
          },
          {
           "id": 248,
           "name": "Time_day_ss",
           "parent": 238
          },
          {
           "id": 249,
           "name": "Time_msec_ss",
           "parent": 238
          },
          {
           "id": 250,
           "name": "Header",
           "parent": 198
          },
          {
           "id": 251,
           "name": "FrameNumber",
           "parent": 250
          },
          {
           "id": 252,
           "name": "Frame_Corrupted",
           "parent": 250
          },
          {
           "id": 253,
           "name": "Frame_Missing",
           "parent": 250
          },
          {
           "id": 254,
           "name": "KDP_AUX",
           "parent": 1
          },
          {
           "id": 255,
           "name": "Cw_Swir_Matrix",
           "parent": 254
          },
          {
           "id": 256,
           "name": "Cw_Vnir_Matrix",
           "parent": 254
          },
          {
           "id": 257,
           "name": "Fwhm_Swir_Matrix",
           "parent": 254
          },
          {
           "id": 258,
           "name": "Fwhm_Vnir_Matrix",
           "parent": 254
          },
          {
           "id": 259,
           "name": "LOS_Pan",
           "parent": 254
          },
          {
           "id": 260,
           "name": "LOS_Swir",
           "parent": 254
          },
          {
           "id": 261,
           "name": "LOS_Vnir",
           "parent": 254
          }
         ]
        },
        {
         "name": "links",
         "source": "tree",
         "transform": [
          {
           "type": "treelinks"
          },
          {
           "orient": "horizontal",
           "shape": {
            "signal": "links"
           },
           "type": "linkpath"
          }
         ]
        }
       ],
       "height": 800,
       "marks": [
        {
         "encode": {
          "update": {
           "path": {
            "field": "path"
           },
           "stroke": {
            "value": "#ccc"
           }
          }
         },
         "from": {
          "data": "links"
         },
         "type": "path"
        },
        {
         "encode": {
          "enter": {
           "size": {
            "value": 100
           },
           "stroke": {
            "value": "#fff"
           }
          },
          "update": {
           "fill": {
            "field": "depth",
            "scale": "color"
           },
           "x": {
            "field": "x"
           },
           "y": {
            "field": "y"
           }
          }
         },
         "from": {
          "data": "tree"
         },
         "type": "symbol"
        },
        {
         "encode": {
          "enter": {
           "baseline": {
            "value": "middle"
           },
           "fontSize": {
            "value": 9
           },
           "text": {
            "field": "name"
           }
          },
          "update": {
           "align": {
            "signal": "datum.children ? 'right' : 'left'"
           },
           "dx": {
            "signal": "datum.children ? -7 : 7"
           },
           "opacity": {
            "signal": "labels ? 1 : 0"
           },
           "x": {
            "field": "x"
           },
           "y": {
            "field": "y"
           }
          }
         },
         "from": {
          "data": "tree"
         },
         "type": "text"
        }
       ],
       "padding": 1,
       "scales": [
        {
         "domain": {
          "data": "tree",
          "field": "depth"
         },
         "name": "color",
         "range": {
          "scheme": "magma"
         },
         "type": "linear",
         "zero": true
        }
       ],
       "signals": [
        {
         "bind": {
          "input": "checkbox"
         },
         "name": "labels",
         "value": true
        },
        {
         "bind": {
          "input": "radio",
          "options": [
           "tidy",
           "cluster"
          ]
         },
         "name": "layout",
         "value": "tidy"
        },
        {
         "bind": {
          "input": "select",
          "options": [
           "line",
           "curve",
           "diagonal",
           "orthogonal"
          ]
         },
         "name": "links",
         "value": "orthogonal"
        },
        {
         "bind": {
          "input": "checkbox"
         },
         "name": "separation",
         "value": true
        }
       ],
       "width": 600
      },
      "image/png": "[encoded data removed]",
      "image/svg+xml": [
       "<?xml version=\"1.0\" encoding=\"utf-8\"?>\n",
       "<!DOCTYPE svg PUBLIC \"-//W3C//DTD SVG 1.1//EN\" \"http://www.w3.org/Graphics/SVG/1.1/DTD/svg11.dtd\">\n",
       "<svg class=\"marks\" width=\"664\" height=\"808\" viewBox=\"0 0 664 808\" version=\"1.1\" xmlns=\"http://www.w3.org/2000/svg\" xmlns:xlink=\"http://www.w3.org/1999/xlink\"><g fill=\"none\" stroke-miterlimit=\"10\" transform=\"translate(24,4)\"><g class=\"mark-group role-frame root\" role=\"graphics-object\" aria-roledescription=\"group mark container\"><g transform=\"translate(0,0)\"><path class=\"background\" aria-hidden=\"true\" d=\"M0,0h600v800h-600Z\"></path><g><g class=\"mark-path role-mark\" role=\"graphics-symbol\" aria-roledescription=\"path mark container\"><path transform=\"translate(0,0)\" d=\"M0,394.3826799297835V394.3826799297835H83.33333333333333\" stroke=\"#ccc\"></path><path transform=\"translate(0,0)\" d=\"M83.33333333333333,394.3826799297835V3.7448800468110006H166.66666666666666\" stroke=\"#ccc\"></path><path transform=\"translate(0,0)\" d=\"M83.33333333333333,394.3826799297835V7.489760093622001H166.66666666666666\" stroke=\"#ccc\"></path><path transform=\"translate(0,0)\" d=\"M83.33333333333333,394.3826799297835V11.234640140433001H166.66666666666666\" stroke=\"#ccc\"></path><path transform=\"translate(0,0)\" d=\"M83.33333333333333,394.3826799297835V14.979520187244002H166.66666666666666\" stroke=\"#ccc\"></path><path transform=\"translate(0,0)\" d=\"M83.33333333333333,394.3826799297835V18.724400234055004H166.66666666666666\" stroke=\"#ccc\"></path><path transform=\"translate(0,0)\" d=\"M83.33333333333333,394.3826799297835V22.469280280866002H166.66666666666666\" stroke=\"#ccc\"></path><path transform=\"translate(0,0)\" d=\"M83.33333333333333,394.3826799297835V26.214160327677003H166.66666666666666\" stroke=\"#ccc\"></path><path transform=\"translate(0,0)\" d=\"M83.33333333333333,394.3826799297835V29.959040374488005H166.66666666666666\" stroke=\"#ccc\"></path><path transform=\"translate(0,0)\" d=\"M83.33333333333333,394.3826799297835V33.703920421299H166.66666666666666\" stroke=\"#ccc\"></path><path transform=\"translate(0,0)\" d=\"M83.33333333333333,394.3826799297835V37.44880046811001H166.66666666666666\" stroke=\"#ccc\"></path><path transform=\"translate(0,0)\" d=\"M83.33333333333333,394.3826799297835V41.193680514921006H166.66666666666666\" stroke=\"#ccc\"></path><path transform=\"translate(0,0)\" d=\"M83.33333333333333,394.3826799297835V44.938560561732004H166.66666666666666\" stroke=\"#ccc\"></path><path transform=\"translate(0,0)\" d=\"M83.33333333333333,394.3826799297835V48.68344060854301H166.66666666666666\" stroke=\"#ccc\"></path><path transform=\"translate(0,0)\" d=\"M83.33333333333333,394.3826799297835V52.42832065535401H166.66666666666666\" stroke=\"#ccc\"></path><path transform=\"translate(0,0)\" d=\"M83.33333333333333,394.3826799297835V56.17320070216501H166.66666666666666\" stroke=\"#ccc\"></path><path transform=\"translate(0,0)\" d=\"M83.33333333333333,394.3826799297835V59.91808074897601H166.66666666666666\" stroke=\"#ccc\"></path><path transform=\"translate(0,0)\" d=\"M83.33333333333333,394.3826799297835V63.66296079578701H166.66666666666666\" stroke=\"#ccc\"></path><path transform=\"translate(0,0)\" d=\"M83.33333333333333,394.3826799297835V67.407840842598H166.66666666666666\" stroke=\"#ccc\"></path><path transform=\"translate(0,0)\" d=\"M83.33333333333333,394.3826799297835V71.15272088940901H166.66666666666666\" stroke=\"#ccc\"></path><path transform=\"translate(0,0)\" d=\"M83.33333333333333,394.3826799297835V74.89760093622002H166.66666666666666\" stroke=\"#ccc\"></path><path transform=\"translate(0,0)\" d=\"M83.33333333333333,394.3826799297835V78.642480983031H166.66666666666666\" stroke=\"#ccc\"></path><path transform=\"translate(0,0)\" d=\"M83.33333333333333,394.3826799297835V82.38736102984201H166.66666666666666\" stroke=\"#ccc\"></path><path transform=\"translate(0,0)\" d=\"M83.33333333333333,394.3826799297835V86.13224107665302H166.66666666666666\" stroke=\"#ccc\"></path><path transform=\"translate(0,0)\" d=\"M83.33333333333333,394.3826799297835V89.87712112346401H166.66666666666666\" stroke=\"#ccc\"></path><path transform=\"translate(0,0)\" d=\"M83.33333333333333,394.3826799297835V93.62200117027501H166.66666666666666\" stroke=\"#ccc\"></path><path transform=\"translate(0,0)\" d=\"M83.33333333333333,394.3826799297835V97.36688121708602H166.66666666666666\" stroke=\"#ccc\"></path><path transform=\"translate(0,0)\" d=\"M83.33333333333333,394.3826799297835V101.11176126389702H166.66666666666666\" stroke=\"#ccc\"></path><path transform=\"translate(0,0)\" d=\"M83.33333333333333,394.3826799297835V104.85664131070801H166.66666666666666\" stroke=\"#ccc\"></path><path transform=\"translate(0,0)\" d=\"M83.33333333333333,394.3826799297835V108.60152135751902H166.66666666666666\" stroke=\"#ccc\"></path><path transform=\"translate(0,0)\" d=\"M83.33333333333333,394.3826799297835V112.34640140433002H166.66666666666666\" stroke=\"#ccc\"></path><path transform=\"translate(0,0)\" d=\"M83.33333333333333,394.3826799297835V116.09128145114101H166.66666666666666\" stroke=\"#ccc\"></path><path transform=\"translate(0,0)\" d=\"M83.33333333333333,394.3826799297835V119.83616149795202H166.66666666666666\" stroke=\"#ccc\"></path><path transform=\"translate(0,0)\" d=\"M83.33333333333333,394.3826799297835V123.58104154476302H166.66666666666666\" stroke=\"#ccc\"></path><path transform=\"translate(0,0)\" d=\"M83.33333333333333,394.3826799297835V127.32592159157402H166.66666666666666\" stroke=\"#ccc\"></path><path transform=\"translate(0,0)\" d=\"M83.33333333333333,394.3826799297835V131.07080163838503H166.66666666666666\" stroke=\"#ccc\"></path><path transform=\"translate(0,0)\" d=\"M83.33333333333333,394.3826799297835V134.815681685196H166.66666666666666\" stroke=\"#ccc\"></path><path transform=\"translate(0,0)\" d=\"M83.33333333333333,394.3826799297835V138.56056173200702H166.66666666666666\" stroke=\"#ccc\"></path><path transform=\"translate(0,0)\" d=\"M83.33333333333333,394.3826799297835V142.30544177881802H166.66666666666666\" stroke=\"#ccc\"></path><path transform=\"translate(0,0)\" d=\"M83.33333333333333,394.3826799297835V146.05032182562903H166.66666666666666\" stroke=\"#ccc\"></path><path transform=\"translate(0,0)\" d=\"M83.33333333333333,394.3826799297835V149.79520187244003H166.66666666666666\" stroke=\"#ccc\"></path><path transform=\"translate(0,0)\" d=\"M83.33333333333333,394.3826799297835V153.54008191925104H166.66666666666666\" stroke=\"#ccc\"></path><path transform=\"translate(0,0)\" d=\"M83.33333333333333,394.3826799297835V157.284961966062H166.66666666666666\" stroke=\"#ccc\"></path><path transform=\"translate(0,0)\" d=\"M83.33333333333333,394.3826799297835V161.02984201287302H166.66666666666666\" stroke=\"#ccc\"></path><path transform=\"translate(0,0)\" d=\"M83.33333333333333,394.3826799297835V164.77472205968402H166.66666666666666\" stroke=\"#ccc\"></path><path transform=\"translate(0,0)\" d=\"M83.33333333333333,394.3826799297835V168.51960210649503H166.66666666666666\" stroke=\"#ccc\"></path><path transform=\"translate(0,0)\" d=\"M83.33333333333333,394.3826799297835V172.26448215330603H166.66666666666666\" stroke=\"#ccc\"></path><path transform=\"translate(0,0)\" d=\"M83.33333333333333,394.3826799297835V176.00936220011704H166.66666666666666\" stroke=\"#ccc\"></path><path transform=\"translate(0,0)\" d=\"M83.33333333333333,394.3826799297835V179.75424224692802H166.66666666666666\" stroke=\"#ccc\"></path><path transform=\"translate(0,0)\" d=\"M83.33333333333333,394.3826799297835V183.49912229373902H166.66666666666666\" stroke=\"#ccc\"></path><path transform=\"translate(0,0)\" d=\"M83.33333333333333,394.3826799297835V187.24400234055003H166.66666666666666\" stroke=\"#ccc\"></path><path transform=\"translate(0,0)\" d=\"M83.33333333333333,394.3826799297835V190.98888238736103H166.66666666666666\" stroke=\"#ccc\"></path><path transform=\"translate(0,0)\" d=\"M83.33333333333333,394.3826799297835V194.73376243417204H166.66666666666666\" stroke=\"#ccc\"></path><path transform=\"translate(0,0)\" d=\"M83.33333333333333,394.3826799297835V198.47864248098304H166.66666666666666\" stroke=\"#ccc\"></path><path transform=\"translate(0,0)\" d=\"M83.33333333333333,394.3826799297835V202.22352252779405H166.66666666666666\" stroke=\"#ccc\"></path><path transform=\"translate(0,0)\" d=\"M83.33333333333333,394.3826799297835V205.96840257460502H166.66666666666666\" stroke=\"#ccc\"></path><path transform=\"translate(0,0)\" d=\"M83.33333333333333,394.3826799297835V209.71328262141603H166.66666666666666\" stroke=\"#ccc\"></path><path transform=\"translate(0,0)\" d=\"M83.33333333333333,394.3826799297835V213.45816266822703H166.66666666666666\" stroke=\"#ccc\"></path><path transform=\"translate(0,0)\" d=\"M83.33333333333333,394.3826799297835V217.20304271503804H166.66666666666666\" stroke=\"#ccc\"></path><path transform=\"translate(0,0)\" d=\"M83.33333333333333,394.3826799297835V220.94792276184904H166.66666666666666\" stroke=\"#ccc\"></path><path transform=\"translate(0,0)\" d=\"M83.33333333333333,394.3826799297835V224.69280280866005H166.66666666666666\" stroke=\"#ccc\"></path><path transform=\"translate(0,0)\" d=\"M83.33333333333333,394.3826799297835V228.43768285547102H166.66666666666666\" stroke=\"#ccc\"></path><path transform=\"translate(0,0)\" d=\"M83.33333333333333,394.3826799297835V232.18256290228203H166.66666666666666\" stroke=\"#ccc\"></path><path transform=\"translate(0,0)\" d=\"M83.33333333333333,394.3826799297835V235.92744294909303H166.66666666666666\" stroke=\"#ccc\"></path><path transform=\"translate(0,0)\" d=\"M83.33333333333333,394.3826799297835V239.67232299590404H166.66666666666666\" stroke=\"#ccc\"></path><path transform=\"translate(0,0)\" d=\"M83.33333333333333,394.3826799297835V243.41720304271504H166.66666666666666\" stroke=\"#ccc\"></path><path transform=\"translate(0,0)\" d=\"M83.33333333333333,394.3826799297835V247.16208308952605H166.66666666666666\" stroke=\"#ccc\"></path><path transform=\"translate(0,0)\" d=\"M83.33333333333333,394.3826799297835V250.90696313633705H166.66666666666666\" stroke=\"#ccc\"></path><path transform=\"translate(0,0)\" d=\"M83.33333333333333,394.3826799297835V254.65184318314803H166.66666666666666\" stroke=\"#ccc\"></path><path transform=\"translate(0,0)\" d=\"M83.33333333333333,394.3826799297835V258.39672322995904H166.66666666666666\" stroke=\"#ccc\"></path><path transform=\"translate(0,0)\" d=\"M83.33333333333333,394.3826799297835V262.14160327677007H166.66666666666666\" stroke=\"#ccc\"></path><path transform=\"translate(0,0)\" d=\"M83.33333333333333,394.3826799297835V265.88648332358105H166.66666666666666\" stroke=\"#ccc\"></path><path transform=\"translate(0,0)\" d=\"M83.33333333333333,394.3826799297835V269.631363370392H166.66666666666666\" stroke=\"#ccc\"></path><path transform=\"translate(0,0)\" d=\"M83.33333333333333,394.3826799297835V273.37624341720306H166.66666666666666\" stroke=\"#ccc\"></path><path transform=\"translate(0,0)\" d=\"M83.33333333333333,394.3826799297835V277.12112346401403H166.66666666666666\" stroke=\"#ccc\"></path><path transform=\"translate(0,0)\" d=\"M83.33333333333333,394.3826799297835V280.86600351082507H166.66666666666666\" stroke=\"#ccc\"></path><path transform=\"translate(0,0)\" d=\"M83.33333333333333,394.3826799297835V284.61088355763604H166.66666666666666\" stroke=\"#ccc\"></path><path transform=\"translate(0,0)\" d=\"M83.33333333333333,394.3826799297835V288.355763604447H166.66666666666666\" stroke=\"#ccc\"></path><path transform=\"translate(0,0)\" d=\"M83.33333333333333,394.3826799297835V292.10064365125805H166.66666666666666\" stroke=\"#ccc\"></path><path transform=\"translate(0,0)\" d=\"M83.33333333333333,394.3826799297835V295.84552369806903H166.66666666666666\" stroke=\"#ccc\"></path><path transform=\"translate(0,0)\" d=\"M83.33333333333333,394.3826799297835V299.59040374488006H166.66666666666666\" stroke=\"#ccc\"></path><path transform=\"translate(0,0)\" d=\"M83.33333333333333,394.3826799297835V303.33528379169104H166.66666666666666\" stroke=\"#ccc\"></path><path transform=\"translate(0,0)\" d=\"M83.33333333333333,394.3826799297835V307.0801638385021H166.66666666666666\" stroke=\"#ccc\"></path><path transform=\"translate(0,0)\" d=\"M83.33333333333333,394.3826799297835V310.82504388531305H166.66666666666666\" stroke=\"#ccc\"></path><path transform=\"translate(0,0)\" d=\"M83.33333333333333,394.3826799297835V314.569923932124H166.66666666666666\" stroke=\"#ccc\"></path><path transform=\"translate(0,0)\" d=\"M83.33333333333333,394.3826799297835V318.31480397893506H166.66666666666666\" stroke=\"#ccc\"></path><path transform=\"translate(0,0)\" d=\"M83.33333333333333,394.3826799297835V322.05968402574604H166.66666666666666\" stroke=\"#ccc\"></path><path transform=\"translate(0,0)\" d=\"M83.33333333333333,394.3826799297835V325.80456407255707H166.66666666666666\" stroke=\"#ccc\"></path><path transform=\"translate(0,0)\" d=\"M83.33333333333333,394.3826799297835V329.54944411936805H166.66666666666666\" stroke=\"#ccc\"></path><path transform=\"translate(0,0)\" d=\"M83.33333333333333,394.3826799297835V333.2943241661791H166.66666666666666\" stroke=\"#ccc\"></path><path transform=\"translate(0,0)\" d=\"M83.33333333333333,394.3826799297835V337.03920421299006H166.66666666666666\" stroke=\"#ccc\"></path><path transform=\"translate(0,0)\" d=\"M83.33333333333333,394.3826799297835V340.78408425980103H166.66666666666666\" stroke=\"#ccc\"></path><path transform=\"translate(0,0)\" d=\"M83.33333333333333,394.3826799297835V344.52896430661207H166.66666666666666\" stroke=\"#ccc\"></path><path transform=\"translate(0,0)\" d=\"M83.33333333333333,394.3826799297835V348.27384435342304H166.66666666666666\" stroke=\"#ccc\"></path><path transform=\"translate(0,0)\" d=\"M83.33333333333333,394.3826799297835V352.0187244002341H166.66666666666666\" stroke=\"#ccc\"></path><path transform=\"translate(0,0)\" d=\"M83.33333333333333,394.3826799297835V355.76360444704505H166.66666666666666\" stroke=\"#ccc\"></path><path transform=\"translate(0,0)\" d=\"M83.33333333333333,394.3826799297835V359.50848449385603H166.66666666666666\" stroke=\"#ccc\"></path><path transform=\"translate(0,0)\" d=\"M83.33333333333333,394.3826799297835V363.25336454066706H166.66666666666666\" stroke=\"#ccc\"></path><path transform=\"translate(0,0)\" d=\"M83.33333333333333,394.3826799297835V366.99824458747804H166.66666666666666\" stroke=\"#ccc\"></path><path transform=\"translate(0,0)\" d=\"M83.33333333333333,394.3826799297835V370.7431246342891H166.66666666666666\" stroke=\"#ccc\"></path><path transform=\"translate(0,0)\" d=\"M83.33333333333333,394.3826799297835V374.48800468110005H166.66666666666666\" stroke=\"#ccc\"></path><path transform=\"translate(0,0)\" d=\"M83.33333333333333,394.3826799297835V378.2328847279111H166.66666666666666\" stroke=\"#ccc\"></path><path transform=\"translate(0,0)\" d=\"M83.33333333333333,394.3826799297835V381.97776477472206H166.66666666666666\" stroke=\"#ccc\"></path><path transform=\"translate(0,0)\" d=\"M83.33333333333333,394.3826799297835V385.72264482153304H166.66666666666666\" stroke=\"#ccc\"></path><path transform=\"translate(0,0)\" d=\"M83.33333333333333,394.3826799297835V389.46752486834407H166.66666666666666\" stroke=\"#ccc\"></path><path transform=\"translate(0,0)\" d=\"M83.33333333333333,394.3826799297835V393.21240491515505H166.66666666666666\" stroke=\"#ccc\"></path><path transform=\"translate(0,0)\" d=\"M83.33333333333333,394.3826799297835V396.9572849619661H166.66666666666666\" stroke=\"#ccc\"></path><path transform=\"translate(0,0)\" d=\"M83.33333333333333,394.3826799297835V400.70216500877706H166.66666666666666\" stroke=\"#ccc\"></path><path transform=\"translate(0,0)\" d=\"M83.33333333333333,394.3826799297835V404.4470450555881H166.66666666666666\" stroke=\"#ccc\"></path><path transform=\"translate(0,0)\" d=\"M83.33333333333333,394.3826799297835V408.19192510239907H166.66666666666666\" stroke=\"#ccc\"></path><path transform=\"translate(0,0)\" d=\"M83.33333333333333,394.3826799297835V411.93680514921004H166.66666666666666\" stroke=\"#ccc\"></path><path transform=\"translate(0,0)\" d=\"M83.33333333333333,394.3826799297835V415.6816851960211H166.66666666666666\" stroke=\"#ccc\"></path><path transform=\"translate(0,0)\" d=\"M83.33333333333333,394.3826799297835V419.42656524283205H166.66666666666666\" stroke=\"#ccc\"></path><path transform=\"translate(0,0)\" d=\"M83.33333333333333,394.3826799297835V423.1714452896431H166.66666666666666\" stroke=\"#ccc\"></path><path transform=\"translate(0,0)\" d=\"M83.33333333333333,394.3826799297835V426.91632533645407H166.66666666666666\" stroke=\"#ccc\"></path><path transform=\"translate(0,0)\" d=\"M83.33333333333333,394.3826799297835V430.6612053832651H166.66666666666666\" stroke=\"#ccc\"></path><path transform=\"translate(0,0)\" d=\"M83.33333333333333,394.3826799297835V434.4060854300761H166.66666666666666\" stroke=\"#ccc\"></path><path transform=\"translate(0,0)\" d=\"M83.33333333333333,394.3826799297835V438.15096547688705H166.66666666666666\" stroke=\"#ccc\"></path><path transform=\"translate(0,0)\" d=\"M83.33333333333333,394.3826799297835V441.8958455236981H166.66666666666666\" stroke=\"#ccc\"></path><path transform=\"translate(0,0)\" d=\"M83.33333333333333,394.3826799297835V445.64072557050906H166.66666666666666\" stroke=\"#ccc\"></path><path transform=\"translate(0,0)\" d=\"M83.33333333333333,394.3826799297835V449.3856056173201H166.66666666666666\" stroke=\"#ccc\"></path><path transform=\"translate(0,0)\" d=\"M83.33333333333333,394.3826799297835V567.5833820947922H166.66666666666666\" stroke=\"#ccc\"></path><path transform=\"translate(0,0)\" d=\"M83.33333333333333,394.3826799297835V726.0386190754828H166.66666666666666\" stroke=\"#ccc\"></path><path transform=\"translate(0,0)\" d=\"M83.33333333333333,394.3826799297835V785.020479812756H166.66666666666666\" stroke=\"#ccc\"></path><path transform=\"translate(0,0)\" d=\"M166.66666666666666,449.3856056173201V449.3856056173201H250\" stroke=\"#ccc\"></path><path transform=\"translate(0,0)\" d=\"M166.66666666666666,567.5833820947922V567.5833820947922H250\" stroke=\"#ccc\"></path><path transform=\"translate(0,0)\" d=\"M166.66666666666666,726.0386190754828V685.7811585722645H250\" stroke=\"#ccc\"></path><path transform=\"translate(0,0)\" d=\"M166.66666666666666,726.0386190754828V766.296079578701H250\" stroke=\"#ccc\"></path><path transform=\"translate(0,0)\" d=\"M166.66666666666666,785.020479812756V773.785839672323H250\" stroke=\"#ccc\"></path><path transform=\"translate(0,0)\" d=\"M166.66666666666666,785.020479812756V777.530719719134H250\" stroke=\"#ccc\"></path><path transform=\"translate(0,0)\" d=\"M166.66666666666666,785.020479812756V781.275599765945H250\" stroke=\"#ccc\"></path><path transform=\"translate(0,0)\" d=\"M166.66666666666666,785.020479812756V785.020479812756H250\" stroke=\"#ccc\"></path><path transform=\"translate(0,0)\" d=\"M166.66666666666666,785.020479812756V788.765359859567H250\" stroke=\"#ccc\"></path><path transform=\"translate(0,0)\" d=\"M166.66666666666666,785.020479812756V792.510239906378H250\" stroke=\"#ccc\"></path><path transform=\"translate(0,0)\" d=\"M166.66666666666666,785.020479812756V796.255119953189H250\" stroke=\"#ccc\"></path><path transform=\"translate(0,0)\" d=\"M250,449.3856056173201V354.35927442949094H333.3333333333333\" stroke=\"#ccc\"></path><path transform=\"translate(0,0)\" d=\"M250,449.3856056173201V437.6828554710357H333.3333333333333\" stroke=\"#ccc\"></path><path transform=\"translate(0,0)\" d=\"M250,449.3856056173201V544.4119368051493H333.3333333333333\" stroke=\"#ccc\"></path><path transform=\"translate(0,0)\" d=\"M250,685.7811585722645V616.500877706261H333.3333333333333\" stroke=\"#ccc\"></path><path transform=\"translate(0,0)\" d=\"M250,685.7811585722645V668.929198361615H333.3333333333333\" stroke=\"#ccc\"></path><path transform=\"translate(0,0)\" d=\"M250,685.7811585722645V713.867758923347H333.3333333333333\" stroke=\"#ccc\"></path><path transform=\"translate(0,0)\" d=\"M250,685.7811585722645V755.061439438268H333.3333333333333\" stroke=\"#ccc\"></path><path transform=\"translate(0,0)\" d=\"M250,766.296079578701V762.55119953189H333.3333333333333\" stroke=\"#ccc\"></path><path transform=\"translate(0,0)\" d=\"M250,766.296079578701V766.296079578701H333.3333333333333\" stroke=\"#ccc\"></path><path transform=\"translate(0,0)\" d=\"M250,766.296079578701V770.040959625512H333.3333333333333\" stroke=\"#ccc\"></path><path transform=\"translate(0,0)\" d=\"M333.3333333333333,354.35927442949094V354.35927442949094H416.66666666666663\" stroke=\"#ccc\"></path><path transform=\"translate(0,0)\" d=\"M333.3333333333333,437.6828554710357V386.19075482738447H416.66666666666663\" stroke=\"#ccc\"></path><path transform=\"translate(0,0)\" d=\"M333.3333333333333,437.6828554710357V431.12931538911647H416.66666666666663\" stroke=\"#ccc\"></path><path transform=\"translate(0,0)\" d=\"M333.3333333333333,437.6828554710357V474.19543592744293H416.66666666666663\" stroke=\"#ccc\"></path><path transform=\"translate(0,0)\" d=\"M333.3333333333333,437.6828554710357V489.17495611468695H416.66666666666663\" stroke=\"#ccc\"></path><path transform=\"translate(0,0)\" d=\"M333.3333333333333,544.4119368051493V502.2820362785255H416.66666666666663\" stroke=\"#ccc\"></path><path transform=\"translate(0,0)\" d=\"M333.3333333333333,544.4119368051493V543.4757167934465H416.66666666666663\" stroke=\"#ccc\"></path><path transform=\"translate(0,0)\" d=\"M333.3333333333333,544.4119368051493V586.541837331773H416.66666666666663\" stroke=\"#ccc\"></path><path transform=\"translate(0,0)\" d=\"M333.3333333333333,616.500877706261V594.0315974253949H416.66666666666663\" stroke=\"#ccc\"></path><path transform=\"translate(0,0)\" d=\"M333.3333333333333,616.500877706261V597.776477472206H416.66666666666663\" stroke=\"#ccc\"></path><path transform=\"translate(0,0)\" d=\"M333.3333333333333,616.500877706261V601.521357519017H416.66666666666663\" stroke=\"#ccc\"></path><path transform=\"translate(0,0)\" d=\"M333.3333333333333,616.500877706261V605.266237565828H416.66666666666663\" stroke=\"#ccc\"></path><path transform=\"translate(0,0)\" d=\"M333.3333333333333,616.500877706261V609.0111176126389H416.66666666666663\" stroke=\"#ccc\"></path><path transform=\"translate(0,0)\" d=\"M333.3333333333333,616.500877706261V612.75599765945H416.66666666666663\" stroke=\"#ccc\"></path><path transform=\"translate(0,0)\" d=\"M333.3333333333333,616.500877706261V616.500877706261H416.66666666666663\" stroke=\"#ccc\"></path><path transform=\"translate(0,0)\" d=\"M333.3333333333333,616.500877706261V620.245757753072H416.66666666666663\" stroke=\"#ccc\"></path><path transform=\"translate(0,0)\" d=\"M333.3333333333333,616.500877706261V623.990637799883H416.66666666666663\" stroke=\"#ccc\"></path><path transform=\"translate(0,0)\" d=\"M333.3333333333333,616.500877706261V627.7355178466939H416.66666666666663\" stroke=\"#ccc\"></path><path transform=\"translate(0,0)\" d=\"M333.3333333333333,616.500877706261V631.480397893505H416.66666666666663\" stroke=\"#ccc\"></path><path transform=\"translate(0,0)\" d=\"M333.3333333333333,616.500877706261V635.225277940316H416.66666666666663\" stroke=\"#ccc\"></path><path transform=\"translate(0,0)\" d=\"M333.3333333333333,616.500877706261V638.970157987127H416.66666666666663\" stroke=\"#ccc\"></path><path transform=\"translate(0,0)\" d=\"M333.3333333333333,668.929198361615V646.4599180807489H416.66666666666663\" stroke=\"#ccc\"></path><path transform=\"translate(0,0)\" d=\"M333.3333333333333,668.929198361615V650.20479812756H416.66666666666663\" stroke=\"#ccc\"></path><path transform=\"translate(0,0)\" d=\"M333.3333333333333,668.929198361615V653.949678174371H416.66666666666663\" stroke=\"#ccc\"></path><path transform=\"translate(0,0)\" d=\"M333.3333333333333,668.929198361615V657.694558221182H416.66666666666663\" stroke=\"#ccc\"></path><path transform=\"translate(0,0)\" d=\"M333.3333333333333,668.929198361615V661.439438267993H416.66666666666663\" stroke=\"#ccc\"></path><path transform=\"translate(0,0)\" d=\"M333.3333333333333,668.929198361615V665.1843183148039H416.66666666666663\" stroke=\"#ccc\"></path><path transform=\"translate(0,0)\" d=\"M333.3333333333333,668.929198361615V668.929198361615H416.66666666666663\" stroke=\"#ccc\"></path><path transform=\"translate(0,0)\" d=\"M333.3333333333333,668.929198361615V672.674078408426H416.66666666666663\" stroke=\"#ccc\"></path><path transform=\"translate(0,0)\" d=\"M333.3333333333333,668.929198361615V676.418958455237H416.66666666666663\" stroke=\"#ccc\"></path><path transform=\"translate(0,0)\" d=\"M333.3333333333333,668.929198361615V680.163838502048H416.66666666666663\" stroke=\"#ccc\"></path><path transform=\"translate(0,0)\" d=\"M333.3333333333333,668.929198361615V683.908718548859H416.66666666666663\" stroke=\"#ccc\"></path><path transform=\"translate(0,0)\" d=\"M333.3333333333333,668.929198361615V687.65359859567H416.66666666666663\" stroke=\"#ccc\"></path><path transform=\"translate(0,0)\" d=\"M333.3333333333333,668.929198361615V691.398478642481H416.66666666666663\" stroke=\"#ccc\"></path><path transform=\"translate(0,0)\" d=\"M333.3333333333333,713.867758923347V698.888238736103H416.66666666666663\" stroke=\"#ccc\"></path><path transform=\"translate(0,0)\" d=\"M333.3333333333333,713.867758923347V702.633118782914H416.66666666666663\" stroke=\"#ccc\"></path><path transform=\"translate(0,0)\" d=\"M333.3333333333333,713.867758923347V706.377998829725H416.66666666666663\" stroke=\"#ccc\"></path><path transform=\"translate(0,0)\" d=\"M333.3333333333333,713.867758923347V710.122878876536H416.66666666666663\" stroke=\"#ccc\"></path><path transform=\"translate(0,0)\" d=\"M333.3333333333333,713.867758923347V713.867758923347H416.66666666666663\" stroke=\"#ccc\"></path><path transform=\"translate(0,0)\" d=\"M333.3333333333333,713.867758923347V717.612638970158H416.66666666666663\" stroke=\"#ccc\"></path><path transform=\"translate(0,0)\" d=\"M333.3333333333333,713.867758923347V721.357519016969H416.66666666666663\" stroke=\"#ccc\"></path><path transform=\"translate(0,0)\" d=\"M333.3333333333333,713.867758923347V725.10239906378H416.66666666666663\" stroke=\"#ccc\"></path><path transform=\"translate(0,0)\" d=\"M333.3333333333333,713.867758923347V728.847279110591H416.66666666666663\" stroke=\"#ccc\"></path><path transform=\"translate(0,0)\" d=\"M333.3333333333333,755.061439438268V736.3370392042129H416.66666666666663\" stroke=\"#ccc\"></path><path transform=\"translate(0,0)\" d=\"M333.3333333333333,755.061439438268V740.081919251024H416.66666666666663\" stroke=\"#ccc\"></path><path transform=\"translate(0,0)\" d=\"M333.3333333333333,755.061439438268V743.826799297835H416.66666666666663\" stroke=\"#ccc\"></path><path transform=\"translate(0,0)\" d=\"M333.3333333333333,755.061439438268V747.571679344646H416.66666666666663\" stroke=\"#ccc\"></path><path transform=\"translate(0,0)\" d=\"M333.3333333333333,755.061439438268V751.316559391457H416.66666666666663\" stroke=\"#ccc\"></path><path transform=\"translate(0,0)\" d=\"M333.3333333333333,755.061439438268V755.061439438268H416.66666666666663\" stroke=\"#ccc\"></path><path transform=\"translate(0,0)\" d=\"M333.3333333333333,755.061439438268V758.806319485079H416.66666666666663\" stroke=\"#ccc\"></path><path transform=\"translate(0,0)\" d=\"M333.3333333333333,755.061439438268V762.55119953189H416.66666666666663\" stroke=\"#ccc\"></path><path transform=\"translate(0,0)\" d=\"M333.3333333333333,755.061439438268V766.296079578701H416.66666666666663\" stroke=\"#ccc\"></path><path transform=\"translate(0,0)\" d=\"M333.3333333333333,755.061439438268V770.040959625512H416.66666666666663\" stroke=\"#ccc\"></path><path transform=\"translate(0,0)\" d=\"M333.3333333333333,755.061439438268V773.785839672323H416.66666666666663\" stroke=\"#ccc\"></path><path transform=\"translate(0,0)\" d=\"M416.66666666666663,354.35927442949094V335.63487419543594H500\" stroke=\"#ccc\"></path><path transform=\"translate(0,0)\" d=\"M416.66666666666663,354.35927442949094V339.3797542422469H500\" stroke=\"#ccc\"></path><path transform=\"translate(0,0)\" d=\"M416.66666666666663,354.35927442949094V343.12463428905795H500\" stroke=\"#ccc\"></path><path transform=\"translate(0,0)\" d=\"M416.66666666666663,354.35927442949094V346.8695143358689H500\" stroke=\"#ccc\"></path><path transform=\"translate(0,0)\" d=\"M416.66666666666663,354.35927442949094V350.6143943826799H500\" stroke=\"#ccc\"></path><path transform=\"translate(0,0)\" d=\"M416.66666666666663,354.35927442949094V354.35927442949094H500\" stroke=\"#ccc\"></path><path transform=\"translate(0,0)\" d=\"M416.66666666666663,354.35927442949094V358.1041544763019H500\" stroke=\"#ccc\"></path><path transform=\"translate(0,0)\" d=\"M416.66666666666663,354.35927442949094V361.84903452311295H500\" stroke=\"#ccc\"></path><path transform=\"translate(0,0)\" d=\"M416.66666666666663,354.35927442949094V365.5939145699239H500\" stroke=\"#ccc\"></path><path transform=\"translate(0,0)\" d=\"M416.66666666666663,354.35927442949094V369.33879461673496H500\" stroke=\"#ccc\"></path><path transform=\"translate(0,0)\" d=\"M416.66666666666663,354.35927442949094V373.08367466354593H500\" stroke=\"#ccc\"></path><path transform=\"translate(0,0)\" d=\"M416.66666666666663,386.19075482738447V380.57343475716795H500\" stroke=\"#ccc\"></path><path transform=\"translate(0,0)\" d=\"M416.66666666666663,386.19075482738447V384.3183148039789H500\" stroke=\"#ccc\"></path><path transform=\"translate(0,0)\" d=\"M416.66666666666663,386.19075482738447V388.06319485078996H500\" stroke=\"#ccc\"></path><path transform=\"translate(0,0)\" d=\"M416.66666666666663,386.19075482738447V391.80807489760093H500\" stroke=\"#ccc\"></path><path transform=\"translate(0,0)\" d=\"M416.66666666666663,431.12931538911647V399.29783499122294H500\" stroke=\"#ccc\"></path><path transform=\"translate(0,0)\" d=\"M416.66666666666663,431.12931538911647V403.0427150380339H500\" stroke=\"#ccc\"></path><path transform=\"translate(0,0)\" d=\"M416.66666666666663,431.12931538911647V406.78759508484495H500\" stroke=\"#ccc\"></path><path transform=\"translate(0,0)\" d=\"M416.66666666666663,431.12931538911647V410.53247513165593H500\" stroke=\"#ccc\"></path><path transform=\"translate(0,0)\" d=\"M416.66666666666663,431.12931538911647V414.27735517846696H500\" stroke=\"#ccc\"></path><path transform=\"translate(0,0)\" d=\"M416.66666666666663,431.12931538911647V418.02223522527794H500\" stroke=\"#ccc\"></path><path transform=\"translate(0,0)\" d=\"M416.66666666666663,431.12931538911647V421.767115272089H500\" stroke=\"#ccc\"></path><path transform=\"translate(0,0)\" d=\"M416.66666666666663,431.12931538911647V425.51199531889995H500\" stroke=\"#ccc\"></path><path transform=\"translate(0,0)\" d=\"M416.66666666666663,431.12931538911647V429.2568753657109H500\" stroke=\"#ccc\"></path><path transform=\"translate(0,0)\" d=\"M416.66666666666663,431.12931538911647V433.00175541252196H500\" stroke=\"#ccc\"></path><path transform=\"translate(0,0)\" d=\"M416.66666666666663,431.12931538911647V436.74663545933294H500\" stroke=\"#ccc\"></path><path transform=\"translate(0,0)\" d=\"M416.66666666666663,431.12931538911647V440.49151550614397H500\" stroke=\"#ccc\"></path><path transform=\"translate(0,0)\" d=\"M416.66666666666663,431.12931538911647V444.23639555295495H500\" stroke=\"#ccc\"></path><path transform=\"translate(0,0)\" d=\"M416.66666666666663,431.12931538911647V447.9812755997659H500\" stroke=\"#ccc\"></path><path transform=\"translate(0,0)\" d=\"M416.66666666666663,431.12931538911647V451.72615564657696H500\" stroke=\"#ccc\"></path><path transform=\"translate(0,0)\" d=\"M416.66666666666663,431.12931538911647V455.47103569338793H500\" stroke=\"#ccc\"></path><path transform=\"translate(0,0)\" d=\"M416.66666666666663,431.12931538911647V459.21591574019897H500\" stroke=\"#ccc\"></path><path transform=\"translate(0,0)\" d=\"M416.66666666666663,431.12931538911647V462.96079578700994H500\" stroke=\"#ccc\"></path><path transform=\"translate(0,0)\" d=\"M416.66666666666663,474.19543592744293V470.45055588063195H500\" stroke=\"#ccc\"></path><path transform=\"translate(0,0)\" d=\"M416.66666666666663,474.19543592744293V474.19543592744293H500\" stroke=\"#ccc\"></path><path transform=\"translate(0,0)\" d=\"M416.66666666666663,474.19543592744293V477.94031597425396H500\" stroke=\"#ccc\"></path><path transform=\"translate(0,0)\" d=\"M416.66666666666663,489.17495611468695V485.430076067876H500\" stroke=\"#ccc\"></path><path transform=\"translate(0,0)\" d=\"M416.66666666666663,489.17495611468695V489.17495611468695H500\" stroke=\"#ccc\"></path><path transform=\"translate(0,0)\" d=\"M416.66666666666663,489.17495611468695V492.919836161498H500\" stroke=\"#ccc\"></path><path transform=\"translate(0,0)\" d=\"M416.66666666666663,502.2820362785255V500.40959625511994H500\" stroke=\"#ccc\"></path><path transform=\"translate(0,0)\" d=\"M416.66666666666663,502.2820362785255V504.15447630193097H500\" stroke=\"#ccc\"></path><path transform=\"translate(0,0)\" d=\"M416.66666666666663,543.4757167934465V511.644236395553H500\" stroke=\"#ccc\"></path><path transform=\"translate(0,0)\" d=\"M416.66666666666663,543.4757167934465V515.389116442364H500\" stroke=\"#ccc\"></path><path transform=\"translate(0,0)\" d=\"M416.66666666666663,543.4757167934465V519.1339964891749H500\" stroke=\"#ccc\"></path><path transform=\"translate(0,0)\" d=\"M416.66666666666663,543.4757167934465V522.8788765359859H500\" stroke=\"#ccc\"></path><path transform=\"translate(0,0)\" d=\"M416.66666666666663,543.4757167934465V526.623756582797H500\" stroke=\"#ccc\"></path><path transform=\"translate(0,0)\" d=\"M416.66666666666663,543.4757167934465V530.368636629608H500\" stroke=\"#ccc\"></path><path transform=\"translate(0,0)\" d=\"M416.66666666666663,543.4757167934465V534.113516676419H500\" stroke=\"#ccc\"></path><path transform=\"translate(0,0)\" d=\"M416.66666666666663,543.4757167934465V537.8583967232299H500\" stroke=\"#ccc\"></path><path transform=\"translate(0,0)\" d=\"M416.66666666666663,543.4757167934465V541.603276770041H500\" stroke=\"#ccc\"></path><path transform=\"translate(0,0)\" d=\"M416.66666666666663,543.4757167934465V545.348156816852H500\" stroke=\"#ccc\"></path><path transform=\"translate(0,0)\" d=\"M416.66666666666663,543.4757167934465V549.093036863663H500\" stroke=\"#ccc\"></path><path transform=\"translate(0,0)\" d=\"M416.66666666666663,543.4757167934465V552.837916910474H500\" stroke=\"#ccc\"></path><path transform=\"translate(0,0)\" d=\"M416.66666666666663,543.4757167934465V556.5827969572849H500\" stroke=\"#ccc\"></path><path transform=\"translate(0,0)\" d=\"M416.66666666666663,543.4757167934465V560.327677004096H500\" stroke=\"#ccc\"></path><path transform=\"translate(0,0)\" d=\"M416.66666666666663,543.4757167934465V564.072557050907H500\" stroke=\"#ccc\"></path><path transform=\"translate(0,0)\" d=\"M416.66666666666663,543.4757167934465V567.817437097718H500\" stroke=\"#ccc\"></path><path transform=\"translate(0,0)\" d=\"M416.66666666666663,543.4757167934465V571.562317144529H500\" stroke=\"#ccc\"></path><path transform=\"translate(0,0)\" d=\"M416.66666666666663,543.4757167934465V575.3071971913399H500\" stroke=\"#ccc\"></path><path transform=\"translate(0,0)\" d=\"M416.66666666666663,586.541837331773V582.796957284962H500\" stroke=\"#ccc\"></path><path transform=\"translate(0,0)\" d=\"M416.66666666666663,586.541837331773V586.541837331773H500\" stroke=\"#ccc\"></path><path transform=\"translate(0,0)\" d=\"M416.66666666666663,586.541837331773V590.286717378584H500\" stroke=\"#ccc\"></path></g><g class=\"mark-symbol role-mark\" role=\"graphics-symbol\" aria-roledescription=\"symbol mark container\"><path transform=\"translate(0,394.3826799297835)\" d=\"M5,0A5,5,0,1,1,-5,0A5,5,0,1,1,5,0\" fill=\"rgb(0, 0, 4)\" stroke=\"#fff\"></path><path transform=\"translate(83.33333333333333,394.3826799297835)\" d=\"M5,0A5,5,0,1,1,-5,0A5,5,0,1,1,5,0\" fill=\"rgb(44, 17, 96)\" stroke=\"#fff\"></path><path transform=\"translate(166.66666666666666,3.7448800468110006)\" d=\"M5,0A5,5,0,1,1,-5,0A5,5,0,1,1,5,0\" fill=\"rgb(114, 31, 129)\" stroke=\"#fff\"></path><path transform=\"translate(166.66666666666666,7.489760093622001)\" d=\"M5,0A5,5,0,1,1,-5,0A5,5,0,1,1,5,0\" fill=\"rgb(114, 31, 129)\" stroke=\"#fff\"></path><path transform=\"translate(166.66666666666666,11.234640140433001)\" d=\"M5,0A5,5,0,1,1,-5,0A5,5,0,1,1,5,0\" fill=\"rgb(114, 31, 129)\" stroke=\"#fff\"></path><path transform=\"translate(166.66666666666666,14.979520187244002)\" d=\"M5,0A5,5,0,1,1,-5,0A5,5,0,1,1,5,0\" fill=\"rgb(114, 31, 129)\" stroke=\"#fff\"></path><path transform=\"translate(166.66666666666666,18.724400234055004)\" d=\"M5,0A5,5,0,1,1,-5,0A5,5,0,1,1,5,0\" fill=\"rgb(114, 31, 129)\" stroke=\"#fff\"></path><path transform=\"translate(166.66666666666666,22.469280280866002)\" d=\"M5,0A5,5,0,1,1,-5,0A5,5,0,1,1,5,0\" fill=\"rgb(114, 31, 129)\" stroke=\"#fff\"></path><path transform=\"translate(166.66666666666666,26.214160327677003)\" d=\"M5,0A5,5,0,1,1,-5,0A5,5,0,1,1,5,0\" fill=\"rgb(114, 31, 129)\" stroke=\"#fff\"></path><path transform=\"translate(166.66666666666666,29.959040374488005)\" d=\"M5,0A5,5,0,1,1,-5,0A5,5,0,1,1,5,0\" fill=\"rgb(114, 31, 129)\" stroke=\"#fff\"></path><path transform=\"translate(166.66666666666666,33.703920421299)\" d=\"M5,0A5,5,0,1,1,-5,0A5,5,0,1,1,5,0\" fill=\"rgb(114, 31, 129)\" stroke=\"#fff\"></path><path transform=\"translate(166.66666666666666,37.44880046811001)\" d=\"M5,0A5,5,0,1,1,-5,0A5,5,0,1,1,5,0\" fill=\"rgb(114, 31, 129)\" stroke=\"#fff\"></path><path transform=\"translate(166.66666666666666,41.193680514921006)\" d=\"M5,0A5,5,0,1,1,-5,0A5,5,0,1,1,5,0\" fill=\"rgb(114, 31, 129)\" stroke=\"#fff\"></path><path transform=\"translate(166.66666666666666,44.938560561732004)\" d=\"M5,0A5,5,0,1,1,-5,0A5,5,0,1,1,5,0\" fill=\"rgb(114, 31, 129)\" stroke=\"#fff\"></path><path transform=\"translate(166.66666666666666,48.68344060854301)\" d=\"M5,0A5,5,0,1,1,-5,0A5,5,0,1,1,5,0\" fill=\"rgb(114, 31, 129)\" stroke=\"#fff\"></path><path transform=\"translate(166.66666666666666,52.42832065535401)\" d=\"M5,0A5,5,0,1,1,-5,0A5,5,0,1,1,5,0\" fill=\"rgb(114, 31, 129)\" stroke=\"#fff\"></path><path transform=\"translate(166.66666666666666,56.17320070216501)\" d=\"M5,0A5,5,0,1,1,-5,0A5,5,0,1,1,5,0\" fill=\"rgb(114, 31, 129)\" stroke=\"#fff\"></path><path transform=\"translate(166.66666666666666,59.91808074897601)\" d=\"M5,0A5,5,0,1,1,-5,0A5,5,0,1,1,5,0\" fill=\"rgb(114, 31, 129)\" stroke=\"#fff\"></path><path transform=\"translate(166.66666666666666,63.66296079578701)\" d=\"M5,0A5,5,0,1,1,-5,0A5,5,0,1,1,5,0\" fill=\"rgb(114, 31, 129)\" stroke=\"#fff\"></path><path transform=\"translate(166.66666666666666,67.407840842598)\" d=\"M5,0A5,5,0,1,1,-5,0A5,5,0,1,1,5,0\" fill=\"rgb(114, 31, 129)\" stroke=\"#fff\"></path><path transform=\"translate(166.66666666666666,71.15272088940901)\" d=\"M5,0A5,5,0,1,1,-5,0A5,5,0,1,1,5,0\" fill=\"rgb(114, 31, 129)\" stroke=\"#fff\"></path><path transform=\"translate(166.66666666666666,74.89760093622002)\" d=\"M5,0A5,5,0,1,1,-5,0A5,5,0,1,1,5,0\" fill=\"rgb(114, 31, 129)\" stroke=\"#fff\"></path><path transform=\"translate(166.66666666666666,78.642480983031)\" d=\"M5,0A5,5,0,1,1,-5,0A5,5,0,1,1,5,0\" fill=\"rgb(114, 31, 129)\" stroke=\"#fff\"></path><path transform=\"translate(166.66666666666666,82.38736102984201)\" d=\"M5,0A5,5,0,1,1,-5,0A5,5,0,1,1,5,0\" fill=\"rgb(114, 31, 129)\" stroke=\"#fff\"></path><path transform=\"translate(166.66666666666666,86.13224107665302)\" d=\"M5,0A5,5,0,1,1,-5,0A5,5,0,1,1,5,0\" fill=\"rgb(114, 31, 129)\" stroke=\"#fff\"></path><path transform=\"translate(166.66666666666666,89.87712112346401)\" d=\"M5,0A5,5,0,1,1,-5,0A5,5,0,1,1,5,0\" fill=\"rgb(114, 31, 129)\" stroke=\"#fff\"></path><path transform=\"translate(166.66666666666666,93.62200117027501)\" d=\"M5,0A5,5,0,1,1,-5,0A5,5,0,1,1,5,0\" fill=\"rgb(114, 31, 129)\" stroke=\"#fff\"></path><path transform=\"translate(166.66666666666666,97.36688121708602)\" d=\"M5,0A5,5,0,1,1,-5,0A5,5,0,1,1,5,0\" fill=\"rgb(114, 31, 129)\" stroke=\"#fff\"></path><path transform=\"translate(166.66666666666666,101.11176126389702)\" d=\"M5,0A5,5,0,1,1,-5,0A5,5,0,1,1,5,0\" fill=\"rgb(114, 31, 129)\" stroke=\"#fff\"></path><path transform=\"translate(166.66666666666666,104.85664131070801)\" d=\"M5,0A5,5,0,1,1,-5,0A5,5,0,1,1,5,0\" fill=\"rgb(114, 31, 129)\" stroke=\"#fff\"></path><path transform=\"translate(166.66666666666666,108.60152135751902)\" d=\"M5,0A5,5,0,1,1,-5,0A5,5,0,1,1,5,0\" fill=\"rgb(114, 31, 129)\" stroke=\"#fff\"></path><path transform=\"translate(166.66666666666666,112.34640140433002)\" d=\"M5,0A5,5,0,1,1,-5,0A5,5,0,1,1,5,0\" fill=\"rgb(114, 31, 129)\" stroke=\"#fff\"></path><path transform=\"translate(166.66666666666666,116.09128145114101)\" d=\"M5,0A5,5,0,1,1,-5,0A5,5,0,1,1,5,0\" fill=\"rgb(114, 31, 129)\" stroke=\"#fff\"></path><path transform=\"translate(166.66666666666666,119.83616149795202)\" d=\"M5,0A5,5,0,1,1,-5,0A5,5,0,1,1,5,0\" fill=\"rgb(114, 31, 129)\" stroke=\"#fff\"></path><path transform=\"translate(166.66666666666666,123.58104154476302)\" d=\"M5,0A5,5,0,1,1,-5,0A5,5,0,1,1,5,0\" fill=\"rgb(114, 31, 129)\" stroke=\"#fff\"></path><path transform=\"translate(166.66666666666666,127.32592159157402)\" d=\"M5,0A5,5,0,1,1,-5,0A5,5,0,1,1,5,0\" fill=\"rgb(114, 31, 129)\" stroke=\"#fff\"></path><path transform=\"translate(166.66666666666666,131.07080163838503)\" d=\"M5,0A5,5,0,1,1,-5,0A5,5,0,1,1,5,0\" fill=\"rgb(114, 31, 129)\" stroke=\"#fff\"></path><path transform=\"translate(166.66666666666666,134.815681685196)\" d=\"M5,0A5,5,0,1,1,-5,0A5,5,0,1,1,5,0\" fill=\"rgb(114, 31, 129)\" stroke=\"#fff\"></path><path transform=\"translate(166.66666666666666,138.56056173200702)\" d=\"M5,0A5,5,0,1,1,-5,0A5,5,0,1,1,5,0\" fill=\"rgb(114, 31, 129)\" stroke=\"#fff\"></path><path transform=\"translate(166.66666666666666,142.30544177881802)\" d=\"M5,0A5,5,0,1,1,-5,0A5,5,0,1,1,5,0\" fill=\"rgb(114, 31, 129)\" stroke=\"#fff\"></path><path transform=\"translate(166.66666666666666,146.05032182562903)\" d=\"M5,0A5,5,0,1,1,-5,0A5,5,0,1,1,5,0\" fill=\"rgb(114, 31, 129)\" stroke=\"#fff\"></path><path transform=\"translate(166.66666666666666,149.79520187244003)\" d=\"M5,0A5,5,0,1,1,-5,0A5,5,0,1,1,5,0\" fill=\"rgb(114, 31, 129)\" stroke=\"#fff\"></path><path transform=\"translate(166.66666666666666,153.54008191925104)\" d=\"M5,0A5,5,0,1,1,-5,0A5,5,0,1,1,5,0\" fill=\"rgb(114, 31, 129)\" stroke=\"#fff\"></path><path transform=\"translate(166.66666666666666,157.284961966062)\" d=\"M5,0A5,5,0,1,1,-5,0A5,5,0,1,1,5,0\" fill=\"rgb(114, 31, 129)\" stroke=\"#fff\"></path><path transform=\"translate(166.66666666666666,161.02984201287302)\" d=\"M5,0A5,5,0,1,1,-5,0A5,5,0,1,1,5,0\" fill=\"rgb(114, 31, 129)\" stroke=\"#fff\"></path><path transform=\"translate(166.66666666666666,164.77472205968402)\" d=\"M5,0A5,5,0,1,1,-5,0A5,5,0,1,1,5,0\" fill=\"rgb(114, 31, 129)\" stroke=\"#fff\"></path><path transform=\"translate(166.66666666666666,168.51960210649503)\" d=\"M5,0A5,5,0,1,1,-5,0A5,5,0,1,1,5,0\" fill=\"rgb(114, 31, 129)\" stroke=\"#fff\"></path><path transform=\"translate(166.66666666666666,172.26448215330603)\" d=\"M5,0A5,5,0,1,1,-5,0A5,5,0,1,1,5,0\" fill=\"rgb(114, 31, 129)\" stroke=\"#fff\"></path><path transform=\"translate(166.66666666666666,176.00936220011704)\" d=\"M5,0A5,5,0,1,1,-5,0A5,5,0,1,1,5,0\" fill=\"rgb(114, 31, 129)\" stroke=\"#fff\"></path><path transform=\"translate(166.66666666666666,179.75424224692802)\" d=\"M5,0A5,5,0,1,1,-5,0A5,5,0,1,1,5,0\" fill=\"rgb(114, 31, 129)\" stroke=\"#fff\"></path><path transform=\"translate(166.66666666666666,183.49912229373902)\" d=\"M5,0A5,5,0,1,1,-5,0A5,5,0,1,1,5,0\" fill=\"rgb(114, 31, 129)\" stroke=\"#fff\"></path><path transform=\"translate(166.66666666666666,187.24400234055003)\" d=\"M5,0A5,5,0,1,1,-5,0A5,5,0,1,1,5,0\" fill=\"rgb(114, 31, 129)\" stroke=\"#fff\"></path><path transform=\"translate(166.66666666666666,190.98888238736103)\" d=\"M5,0A5,5,0,1,1,-5,0A5,5,0,1,1,5,0\" fill=\"rgb(114, 31, 129)\" stroke=\"#fff\"></path><path transform=\"translate(166.66666666666666,194.73376243417204)\" d=\"M5,0A5,5,0,1,1,-5,0A5,5,0,1,1,5,0\" fill=\"rgb(114, 31, 129)\" stroke=\"#fff\"></path><path transform=\"translate(166.66666666666666,198.47864248098304)\" d=\"M5,0A5,5,0,1,1,-5,0A5,5,0,1,1,5,0\" fill=\"rgb(114, 31, 129)\" stroke=\"#fff\"></path><path transform=\"translate(166.66666666666666,202.22352252779405)\" d=\"M5,0A5,5,0,1,1,-5,0A5,5,0,1,1,5,0\" fill=\"rgb(114, 31, 129)\" stroke=\"#fff\"></path><path transform=\"translate(166.66666666666666,205.96840257460502)\" d=\"M5,0A5,5,0,1,1,-5,0A5,5,0,1,1,5,0\" fill=\"rgb(114, 31, 129)\" stroke=\"#fff\"></path><path transform=\"translate(166.66666666666666,209.71328262141603)\" d=\"M5,0A5,5,0,1,1,-5,0A5,5,0,1,1,5,0\" fill=\"rgb(114, 31, 129)\" stroke=\"#fff\"></path><path transform=\"translate(166.66666666666666,213.45816266822703)\" d=\"M5,0A5,5,0,1,1,-5,0A5,5,0,1,1,5,0\" fill=\"rgb(114, 31, 129)\" stroke=\"#fff\"></path><path transform=\"translate(166.66666666666666,217.20304271503804)\" d=\"M5,0A5,5,0,1,1,-5,0A5,5,0,1,1,5,0\" fill=\"rgb(114, 31, 129)\" stroke=\"#fff\"></path><path transform=\"translate(166.66666666666666,220.94792276184904)\" d=\"M5,0A5,5,0,1,1,-5,0A5,5,0,1,1,5,0\" fill=\"rgb(114, 31, 129)\" stroke=\"#fff\"></path><path transform=\"translate(166.66666666666666,224.69280280866005)\" d=\"M5,0A5,5,0,1,1,-5,0A5,5,0,1,1,5,0\" fill=\"rgb(114, 31, 129)\" stroke=\"#fff\"></path><path transform=\"translate(166.66666666666666,228.43768285547102)\" d=\"M5,0A5,5,0,1,1,-5,0A5,5,0,1,1,5,0\" fill=\"rgb(114, 31, 129)\" stroke=\"#fff\"></path><path transform=\"translate(166.66666666666666,232.18256290228203)\" d=\"M5,0A5,5,0,1,1,-5,0A5,5,0,1,1,5,0\" fill=\"rgb(114, 31, 129)\" stroke=\"#fff\"></path><path transform=\"translate(166.66666666666666,235.92744294909303)\" d=\"M5,0A5,5,0,1,1,-5,0A5,5,0,1,1,5,0\" fill=\"rgb(114, 31, 129)\" stroke=\"#fff\"></path><path transform=\"translate(166.66666666666666,239.67232299590404)\" d=\"M5,0A5,5,0,1,1,-5,0A5,5,0,1,1,5,0\" fill=\"rgb(114, 31, 129)\" stroke=\"#fff\"></path><path transform=\"translate(166.66666666666666,243.41720304271504)\" d=\"M5,0A5,5,0,1,1,-5,0A5,5,0,1,1,5,0\" fill=\"rgb(114, 31, 129)\" stroke=\"#fff\"></path><path transform=\"translate(166.66666666666666,247.16208308952605)\" d=\"M5,0A5,5,0,1,1,-5,0A5,5,0,1,1,5,0\" fill=\"rgb(114, 31, 129)\" stroke=\"#fff\"></path><path transform=\"translate(166.66666666666666,250.90696313633705)\" d=\"M5,0A5,5,0,1,1,-5,0A5,5,0,1,1,5,0\" fill=\"rgb(114, 31, 129)\" stroke=\"#fff\"></path><path transform=\"translate(166.66666666666666,254.65184318314803)\" d=\"M5,0A5,5,0,1,1,-5,0A5,5,0,1,1,5,0\" fill=\"rgb(114, 31, 129)\" stroke=\"#fff\"></path><path transform=\"translate(166.66666666666666,258.39672322995904)\" d=\"M5,0A5,5,0,1,1,-5,0A5,5,0,1,1,5,0\" fill=\"rgb(114, 31, 129)\" stroke=\"#fff\"></path><path transform=\"translate(166.66666666666666,262.14160327677007)\" d=\"M5,0A5,5,0,1,1,-5,0A5,5,0,1,1,5,0\" fill=\"rgb(114, 31, 129)\" stroke=\"#fff\"></path><path transform=\"translate(166.66666666666666,265.88648332358105)\" d=\"M5,0A5,5,0,1,1,-5,0A5,5,0,1,1,5,0\" fill=\"rgb(114, 31, 129)\" stroke=\"#fff\"></path><path transform=\"translate(166.66666666666666,269.631363370392)\" d=\"M5,0A5,5,0,1,1,-5,0A5,5,0,1,1,5,0\" fill=\"rgb(114, 31, 129)\" stroke=\"#fff\"></path><path transform=\"translate(166.66666666666666,273.37624341720306)\" d=\"M5,0A5,5,0,1,1,-5,0A5,5,0,1,1,5,0\" fill=\"rgb(114, 31, 129)\" stroke=\"#fff\"></path><path transform=\"translate(166.66666666666666,277.12112346401403)\" d=\"M5,0A5,5,0,1,1,-5,0A5,5,0,1,1,5,0\" fill=\"rgb(114, 31, 129)\" stroke=\"#fff\"></path><path transform=\"translate(166.66666666666666,280.86600351082507)\" d=\"M5,0A5,5,0,1,1,-5,0A5,5,0,1,1,5,0\" fill=\"rgb(114, 31, 129)\" stroke=\"#fff\"></path><path transform=\"translate(166.66666666666666,284.61088355763604)\" d=\"M5,0A5,5,0,1,1,-5,0A5,5,0,1,1,5,0\" fill=\"rgb(114, 31, 129)\" stroke=\"#fff\"></path><path transform=\"translate(166.66666666666666,288.355763604447)\" d=\"M5,0A5,5,0,1,1,-5,0A5,5,0,1,1,5,0\" fill=\"rgb(114, 31, 129)\" stroke=\"#fff\"></path><path transform=\"translate(166.66666666666666,292.10064365125805)\" d=\"M5,0A5,5,0,1,1,-5,0A5,5,0,1,1,5,0\" fill=\"rgb(114, 31, 129)\" stroke=\"#fff\"></path><path transform=\"translate(166.66666666666666,295.84552369806903)\" d=\"M5,0A5,5,0,1,1,-5,0A5,5,0,1,1,5,0\" fill=\"rgb(114, 31, 129)\" stroke=\"#fff\"></path><path transform=\"translate(166.66666666666666,299.59040374488006)\" d=\"M5,0A5,5,0,1,1,-5,0A5,5,0,1,1,5,0\" fill=\"rgb(114, 31, 129)\" stroke=\"#fff\"></path><path transform=\"translate(166.66666666666666,303.33528379169104)\" d=\"M5,0A5,5,0,1,1,-5,0A5,5,0,1,1,5,0\" fill=\"rgb(114, 31, 129)\" stroke=\"#fff\"></path><path transform=\"translate(166.66666666666666,307.0801638385021)\" d=\"M5,0A5,5,0,1,1,-5,0A5,5,0,1,1,5,0\" fill=\"rgb(114, 31, 129)\" stroke=\"#fff\"></path><path transform=\"translate(166.66666666666666,310.82504388531305)\" d=\"M5,0A5,5,0,1,1,-5,0A5,5,0,1,1,5,0\" fill=\"rgb(114, 31, 129)\" stroke=\"#fff\"></path><path transform=\"translate(166.66666666666666,314.569923932124)\" d=\"M5,0A5,5,0,1,1,-5,0A5,5,0,1,1,5,0\" fill=\"rgb(114, 31, 129)\" stroke=\"#fff\"></path><path transform=\"translate(166.66666666666666,318.31480397893506)\" d=\"M5,0A5,5,0,1,1,-5,0A5,5,0,1,1,5,0\" fill=\"rgb(114, 31, 129)\" stroke=\"#fff\"></path><path transform=\"translate(166.66666666666666,322.05968402574604)\" d=\"M5,0A5,5,0,1,1,-5,0A5,5,0,1,1,5,0\" fill=\"rgb(114, 31, 129)\" stroke=\"#fff\"></path><path transform=\"translate(166.66666666666666,325.80456407255707)\" d=\"M5,0A5,5,0,1,1,-5,0A5,5,0,1,1,5,0\" fill=\"rgb(114, 31, 129)\" stroke=\"#fff\"></path><path transform=\"translate(166.66666666666666,329.54944411936805)\" d=\"M5,0A5,5,0,1,1,-5,0A5,5,0,1,1,5,0\" fill=\"rgb(114, 31, 129)\" stroke=\"#fff\"></path><path transform=\"translate(166.66666666666666,333.2943241661791)\" d=\"M5,0A5,5,0,1,1,-5,0A5,5,0,1,1,5,0\" fill=\"rgb(114, 31, 129)\" stroke=\"#fff\"></path><path transform=\"translate(166.66666666666666,337.03920421299006)\" d=\"M5,0A5,5,0,1,1,-5,0A5,5,0,1,1,5,0\" fill=\"rgb(114, 31, 129)\" stroke=\"#fff\"></path><path transform=\"translate(166.66666666666666,340.78408425980103)\" d=\"M5,0A5,5,0,1,1,-5,0A5,5,0,1,1,5,0\" fill=\"rgb(114, 31, 129)\" stroke=\"#fff\"></path><path transform=\"translate(166.66666666666666,344.52896430661207)\" d=\"M5,0A5,5,0,1,1,-5,0A5,5,0,1,1,5,0\" fill=\"rgb(114, 31, 129)\" stroke=\"#fff\"></path><path transform=\"translate(166.66666666666666,348.27384435342304)\" d=\"M5,0A5,5,0,1,1,-5,0A5,5,0,1,1,5,0\" fill=\"rgb(114, 31, 129)\" stroke=\"#fff\"></path><path transform=\"translate(166.66666666666666,352.0187244002341)\" d=\"M5,0A5,5,0,1,1,-5,0A5,5,0,1,1,5,0\" fill=\"rgb(114, 31, 129)\" stroke=\"#fff\"></path><path transform=\"translate(166.66666666666666,355.76360444704505)\" d=\"M5,0A5,5,0,1,1,-5,0A5,5,0,1,1,5,0\" fill=\"rgb(114, 31, 129)\" stroke=\"#fff\"></path><path transform=\"translate(166.66666666666666,359.50848449385603)\" d=\"M5,0A5,5,0,1,1,-5,0A5,5,0,1,1,5,0\" fill=\"rgb(114, 31, 129)\" stroke=\"#fff\"></path><path transform=\"translate(166.66666666666666,363.25336454066706)\" d=\"M5,0A5,5,0,1,1,-5,0A5,5,0,1,1,5,0\" fill=\"rgb(114, 31, 129)\" stroke=\"#fff\"></path><path transform=\"translate(166.66666666666666,366.99824458747804)\" d=\"M5,0A5,5,0,1,1,-5,0A5,5,0,1,1,5,0\" fill=\"rgb(114, 31, 129)\" stroke=\"#fff\"></path><path transform=\"translate(166.66666666666666,370.7431246342891)\" d=\"M5,0A5,5,0,1,1,-5,0A5,5,0,1,1,5,0\" fill=\"rgb(114, 31, 129)\" stroke=\"#fff\"></path><path transform=\"translate(166.66666666666666,374.48800468110005)\" d=\"M5,0A5,5,0,1,1,-5,0A5,5,0,1,1,5,0\" fill=\"rgb(114, 31, 129)\" stroke=\"#fff\"></path><path transform=\"translate(166.66666666666666,378.2328847279111)\" d=\"M5,0A5,5,0,1,1,-5,0A5,5,0,1,1,5,0\" fill=\"rgb(114, 31, 129)\" stroke=\"#fff\"></path><path transform=\"translate(166.66666666666666,381.97776477472206)\" d=\"M5,0A5,5,0,1,1,-5,0A5,5,0,1,1,5,0\" fill=\"rgb(114, 31, 129)\" stroke=\"#fff\"></path><path transform=\"translate(166.66666666666666,385.72264482153304)\" d=\"M5,0A5,5,0,1,1,-5,0A5,5,0,1,1,5,0\" fill=\"rgb(114, 31, 129)\" stroke=\"#fff\"></path><path transform=\"translate(166.66666666666666,389.46752486834407)\" d=\"M5,0A5,5,0,1,1,-5,0A5,5,0,1,1,5,0\" fill=\"rgb(114, 31, 129)\" stroke=\"#fff\"></path><path transform=\"translate(166.66666666666666,393.21240491515505)\" d=\"M5,0A5,5,0,1,1,-5,0A5,5,0,1,1,5,0\" fill=\"rgb(114, 31, 129)\" stroke=\"#fff\"></path><path transform=\"translate(166.66666666666666,396.9572849619661)\" d=\"M5,0A5,5,0,1,1,-5,0A5,5,0,1,1,5,0\" fill=\"rgb(114, 31, 129)\" stroke=\"#fff\"></path><path transform=\"translate(166.66666666666666,400.70216500877706)\" d=\"M5,0A5,5,0,1,1,-5,0A5,5,0,1,1,5,0\" fill=\"rgb(114, 31, 129)\" stroke=\"#fff\"></path><path transform=\"translate(166.66666666666666,404.4470450555881)\" d=\"M5,0A5,5,0,1,1,-5,0A5,5,0,1,1,5,0\" fill=\"rgb(114, 31, 129)\" stroke=\"#fff\"></path><path transform=\"translate(166.66666666666666,408.19192510239907)\" d=\"M5,0A5,5,0,1,1,-5,0A5,5,0,1,1,5,0\" fill=\"rgb(114, 31, 129)\" stroke=\"#fff\"></path><path transform=\"translate(166.66666666666666,411.93680514921004)\" d=\"M5,0A5,5,0,1,1,-5,0A5,5,0,1,1,5,0\" fill=\"rgb(114, 31, 129)\" stroke=\"#fff\"></path><path transform=\"translate(166.66666666666666,415.6816851960211)\" d=\"M5,0A5,5,0,1,1,-5,0A5,5,0,1,1,5,0\" fill=\"rgb(114, 31, 129)\" stroke=\"#fff\"></path><path transform=\"translate(166.66666666666666,419.42656524283205)\" d=\"M5,0A5,5,0,1,1,-5,0A5,5,0,1,1,5,0\" fill=\"rgb(114, 31, 129)\" stroke=\"#fff\"></path><path transform=\"translate(166.66666666666666,423.1714452896431)\" d=\"M5,0A5,5,0,1,1,-5,0A5,5,0,1,1,5,0\" fill=\"rgb(114, 31, 129)\" stroke=\"#fff\"></path><path transform=\"translate(166.66666666666666,426.91632533645407)\" d=\"M5,0A5,5,0,1,1,-5,0A5,5,0,1,1,5,0\" fill=\"rgb(114, 31, 129)\" stroke=\"#fff\"></path><path transform=\"translate(166.66666666666666,430.6612053832651)\" d=\"M5,0A5,5,0,1,1,-5,0A5,5,0,1,1,5,0\" fill=\"rgb(114, 31, 129)\" stroke=\"#fff\"></path><path transform=\"translate(166.66666666666666,434.4060854300761)\" d=\"M5,0A5,5,0,1,1,-5,0A5,5,0,1,1,5,0\" fill=\"rgb(114, 31, 129)\" stroke=\"#fff\"></path><path transform=\"translate(166.66666666666666,438.15096547688705)\" d=\"M5,0A5,5,0,1,1,-5,0A5,5,0,1,1,5,0\" fill=\"rgb(114, 31, 129)\" stroke=\"#fff\"></path><path transform=\"translate(166.66666666666666,441.8958455236981)\" d=\"M5,0A5,5,0,1,1,-5,0A5,5,0,1,1,5,0\" fill=\"rgb(114, 31, 129)\" stroke=\"#fff\"></path><path transform=\"translate(166.66666666666666,445.64072557050906)\" d=\"M5,0A5,5,0,1,1,-5,0A5,5,0,1,1,5,0\" fill=\"rgb(114, 31, 129)\" stroke=\"#fff\"></path><path transform=\"translate(166.66666666666666,449.3856056173201)\" d=\"M5,0A5,5,0,1,1,-5,0A5,5,0,1,1,5,0\" fill=\"rgb(114, 31, 129)\" stroke=\"#fff\"></path><path transform=\"translate(250,449.3856056173201)\" d=\"M5,0A5,5,0,1,1,-5,0A5,5,0,1,1,5,0\" fill=\"rgb(182, 55, 122)\" stroke=\"#fff\"></path><path transform=\"translate(333.3333333333333,354.35927442949094)\" d=\"M5,0A5,5,0,1,1,-5,0A5,5,0,1,1,5,0\" fill=\"rgb(241, 96, 93)\" stroke=\"#fff\"></path><path transform=\"translate(416.66666666666663,354.35927442949094)\" d=\"M5,0A5,5,0,1,1,-5,0A5,5,0,1,1,5,0\" fill=\"rgb(254, 175, 120)\" stroke=\"#fff\"></path><path transform=\"translate(500,335.63487419543594)\" d=\"M5,0A5,5,0,1,1,-5,0A5,5,0,1,1,5,0\" fill=\"rgb(252, 253, 191)\" stroke=\"#fff\"></path><path transform=\"translate(500,339.3797542422469)\" d=\"M5,0A5,5,0,1,1,-5,0A5,5,0,1,1,5,0\" fill=\"rgb(252, 253, 191)\" stroke=\"#fff\"></path><path transform=\"translate(500,343.12463428905795)\" d=\"M5,0A5,5,0,1,1,-5,0A5,5,0,1,1,5,0\" fill=\"rgb(252, 253, 191)\" stroke=\"#fff\"></path><path transform=\"translate(500,346.8695143358689)\" d=\"M5,0A5,5,0,1,1,-5,0A5,5,0,1,1,5,0\" fill=\"rgb(252, 253, 191)\" stroke=\"#fff\"></path><path transform=\"translate(500,350.6143943826799)\" d=\"M5,0A5,5,0,1,1,-5,0A5,5,0,1,1,5,0\" fill=\"rgb(252, 253, 191)\" stroke=\"#fff\"></path><path transform=\"translate(500,354.35927442949094)\" d=\"M5,0A5,5,0,1,1,-5,0A5,5,0,1,1,5,0\" fill=\"rgb(252, 253, 191)\" stroke=\"#fff\"></path><path transform=\"translate(500,358.1041544763019)\" d=\"M5,0A5,5,0,1,1,-5,0A5,5,0,1,1,5,0\" fill=\"rgb(252, 253, 191)\" stroke=\"#fff\"></path><path transform=\"translate(500,361.84903452311295)\" d=\"M5,0A5,5,0,1,1,-5,0A5,5,0,1,1,5,0\" fill=\"rgb(252, 253, 191)\" stroke=\"#fff\"></path><path transform=\"translate(500,365.5939145699239)\" d=\"M5,0A5,5,0,1,1,-5,0A5,5,0,1,1,5,0\" fill=\"rgb(252, 253, 191)\" stroke=\"#fff\"></path><path transform=\"translate(500,369.33879461673496)\" d=\"M5,0A5,5,0,1,1,-5,0A5,5,0,1,1,5,0\" fill=\"rgb(252, 253, 191)\" stroke=\"#fff\"></path><path transform=\"translate(500,373.08367466354593)\" d=\"M5,0A5,5,0,1,1,-5,0A5,5,0,1,1,5,0\" fill=\"rgb(252, 253, 191)\" stroke=\"#fff\"></path><path transform=\"translate(333.3333333333333,437.6828554710357)\" d=\"M5,0A5,5,0,1,1,-5,0A5,5,0,1,1,5,0\" fill=\"rgb(241, 96, 93)\" stroke=\"#fff\"></path><path transform=\"translate(416.66666666666663,386.19075482738447)\" d=\"M5,0A5,5,0,1,1,-5,0A5,5,0,1,1,5,0\" fill=\"rgb(254, 175, 120)\" stroke=\"#fff\"></path><path transform=\"translate(500,380.57343475716795)\" d=\"M5,0A5,5,0,1,1,-5,0A5,5,0,1,1,5,0\" fill=\"rgb(252, 253, 191)\" stroke=\"#fff\"></path><path transform=\"translate(500,384.3183148039789)\" d=\"M5,0A5,5,0,1,1,-5,0A5,5,0,1,1,5,0\" fill=\"rgb(252, 253, 191)\" stroke=\"#fff\"></path><path transform=\"translate(500,388.06319485078996)\" d=\"M5,0A5,5,0,1,1,-5,0A5,5,0,1,1,5,0\" fill=\"rgb(252, 253, 191)\" stroke=\"#fff\"></path><path transform=\"translate(500,391.80807489760093)\" d=\"M5,0A5,5,0,1,1,-5,0A5,5,0,1,1,5,0\" fill=\"rgb(252, 253, 191)\" stroke=\"#fff\"></path><path transform=\"translate(416.66666666666663,431.12931538911647)\" d=\"M5,0A5,5,0,1,1,-5,0A5,5,0,1,1,5,0\" fill=\"rgb(254, 175, 120)\" stroke=\"#fff\"></path><path transform=\"translate(500,399.29783499122294)\" d=\"M5,0A5,5,0,1,1,-5,0A5,5,0,1,1,5,0\" fill=\"rgb(252, 253, 191)\" stroke=\"#fff\"></path><path transform=\"translate(500,403.0427150380339)\" d=\"M5,0A5,5,0,1,1,-5,0A5,5,0,1,1,5,0\" fill=\"rgb(252, 253, 191)\" stroke=\"#fff\"></path><path transform=\"translate(500,406.78759508484495)\" d=\"M5,0A5,5,0,1,1,-5,0A5,5,0,1,1,5,0\" fill=\"rgb(252, 253, 191)\" stroke=\"#fff\"></path><path transform=\"translate(500,410.53247513165593)\" d=\"M5,0A5,5,0,1,1,-5,0A5,5,0,1,1,5,0\" fill=\"rgb(252, 253, 191)\" stroke=\"#fff\"></path><path transform=\"translate(500,414.27735517846696)\" d=\"M5,0A5,5,0,1,1,-5,0A5,5,0,1,1,5,0\" fill=\"rgb(252, 253, 191)\" stroke=\"#fff\"></path><path transform=\"translate(500,418.02223522527794)\" d=\"M5,0A5,5,0,1,1,-5,0A5,5,0,1,1,5,0\" fill=\"rgb(252, 253, 191)\" stroke=\"#fff\"></path><path transform=\"translate(500,421.767115272089)\" d=\"M5,0A5,5,0,1,1,-5,0A5,5,0,1,1,5,0\" fill=\"rgb(252, 253, 191)\" stroke=\"#fff\"></path><path transform=\"translate(500,425.51199531889995)\" d=\"M5,0A5,5,0,1,1,-5,0A5,5,0,1,1,5,0\" fill=\"rgb(252, 253, 191)\" stroke=\"#fff\"></path><path transform=\"translate(500,429.2568753657109)\" d=\"M5,0A5,5,0,1,1,-5,0A5,5,0,1,1,5,0\" fill=\"rgb(252, 253, 191)\" stroke=\"#fff\"></path><path transform=\"translate(500,433.00175541252196)\" d=\"M5,0A5,5,0,1,1,-5,0A5,5,0,1,1,5,0\" fill=\"rgb(252, 253, 191)\" stroke=\"#fff\"></path><path transform=\"translate(500,436.74663545933294)\" d=\"M5,0A5,5,0,1,1,-5,0A5,5,0,1,1,5,0\" fill=\"rgb(252, 253, 191)\" stroke=\"#fff\"></path><path transform=\"translate(500,440.49151550614397)\" d=\"M5,0A5,5,0,1,1,-5,0A5,5,0,1,1,5,0\" fill=\"rgb(252, 253, 191)\" stroke=\"#fff\"></path><path transform=\"translate(500,444.23639555295495)\" d=\"M5,0A5,5,0,1,1,-5,0A5,5,0,1,1,5,0\" fill=\"rgb(252, 253, 191)\" stroke=\"#fff\"></path><path transform=\"translate(500,447.9812755997659)\" d=\"M5,0A5,5,0,1,1,-5,0A5,5,0,1,1,5,0\" fill=\"rgb(252, 253, 191)\" stroke=\"#fff\"></path><path transform=\"translate(500,451.72615564657696)\" d=\"M5,0A5,5,0,1,1,-5,0A5,5,0,1,1,5,0\" fill=\"rgb(252, 253, 191)\" stroke=\"#fff\"></path><path transform=\"translate(500,455.47103569338793)\" d=\"M5,0A5,5,0,1,1,-5,0A5,5,0,1,1,5,0\" fill=\"rgb(252, 253, 191)\" stroke=\"#fff\"></path><path transform=\"translate(500,459.21591574019897)\" d=\"M5,0A5,5,0,1,1,-5,0A5,5,0,1,1,5,0\" fill=\"rgb(252, 253, 191)\" stroke=\"#fff\"></path><path transform=\"translate(500,462.96079578700994)\" d=\"M5,0A5,5,0,1,1,-5,0A5,5,0,1,1,5,0\" fill=\"rgb(252, 253, 191)\" stroke=\"#fff\"></path><path transform=\"translate(416.66666666666663,474.19543592744293)\" d=\"M5,0A5,5,0,1,1,-5,0A5,5,0,1,1,5,0\" fill=\"rgb(254, 175, 120)\" stroke=\"#fff\"></path><path transform=\"translate(500,470.45055588063195)\" d=\"M5,0A5,5,0,1,1,-5,0A5,5,0,1,1,5,0\" fill=\"rgb(252, 253, 191)\" stroke=\"#fff\"></path><path transform=\"translate(500,474.19543592744293)\" d=\"M5,0A5,5,0,1,1,-5,0A5,5,0,1,1,5,0\" fill=\"rgb(252, 253, 191)\" stroke=\"#fff\"></path><path transform=\"translate(500,477.94031597425396)\" d=\"M5,0A5,5,0,1,1,-5,0A5,5,0,1,1,5,0\" fill=\"rgb(252, 253, 191)\" stroke=\"#fff\"></path><path transform=\"translate(416.66666666666663,489.17495611468695)\" d=\"M5,0A5,5,0,1,1,-5,0A5,5,0,1,1,5,0\" fill=\"rgb(254, 175, 120)\" stroke=\"#fff\"></path><path transform=\"translate(500,485.430076067876)\" d=\"M5,0A5,5,0,1,1,-5,0A5,5,0,1,1,5,0\" fill=\"rgb(252, 253, 191)\" stroke=\"#fff\"></path><path transform=\"translate(500,489.17495611468695)\" d=\"M5,0A5,5,0,1,1,-5,0A5,5,0,1,1,5,0\" fill=\"rgb(252, 253, 191)\" stroke=\"#fff\"></path><path transform=\"translate(500,492.919836161498)\" d=\"M5,0A5,5,0,1,1,-5,0A5,5,0,1,1,5,0\" fill=\"rgb(252, 253, 191)\" stroke=\"#fff\"></path><path transform=\"translate(333.3333333333333,544.4119368051493)\" d=\"M5,0A5,5,0,1,1,-5,0A5,5,0,1,1,5,0\" fill=\"rgb(241, 96, 93)\" stroke=\"#fff\"></path><path transform=\"translate(416.66666666666663,502.2820362785255)\" d=\"M5,0A5,5,0,1,1,-5,0A5,5,0,1,1,5,0\" fill=\"rgb(254, 175, 120)\" stroke=\"#fff\"></path><path transform=\"translate(500,500.40959625511994)\" d=\"M5,0A5,5,0,1,1,-5,0A5,5,0,1,1,5,0\" fill=\"rgb(252, 253, 191)\" stroke=\"#fff\"></path><path transform=\"translate(500,504.15447630193097)\" d=\"M5,0A5,5,0,1,1,-5,0A5,5,0,1,1,5,0\" fill=\"rgb(252, 253, 191)\" stroke=\"#fff\"></path><path transform=\"translate(416.66666666666663,543.4757167934465)\" d=\"M5,0A5,5,0,1,1,-5,0A5,5,0,1,1,5,0\" fill=\"rgb(254, 175, 120)\" stroke=\"#fff\"></path><path transform=\"translate(500,511.644236395553)\" d=\"M5,0A5,5,0,1,1,-5,0A5,5,0,1,1,5,0\" fill=\"rgb(252, 253, 191)\" stroke=\"#fff\"></path><path transform=\"translate(500,515.389116442364)\" d=\"M5,0A5,5,0,1,1,-5,0A5,5,0,1,1,5,0\" fill=\"rgb(252, 253, 191)\" stroke=\"#fff\"></path><path transform=\"translate(500,519.1339964891749)\" d=\"M5,0A5,5,0,1,1,-5,0A5,5,0,1,1,5,0\" fill=\"rgb(252, 253, 191)\" stroke=\"#fff\"></path><path transform=\"translate(500,522.8788765359859)\" d=\"M5,0A5,5,0,1,1,-5,0A5,5,0,1,1,5,0\" fill=\"rgb(252, 253, 191)\" stroke=\"#fff\"></path><path transform=\"translate(500,526.623756582797)\" d=\"M5,0A5,5,0,1,1,-5,0A5,5,0,1,1,5,0\" fill=\"rgb(252, 253, 191)\" stroke=\"#fff\"></path><path transform=\"translate(500,530.368636629608)\" d=\"M5,0A5,5,0,1,1,-5,0A5,5,0,1,1,5,0\" fill=\"rgb(252, 253, 191)\" stroke=\"#fff\"></path><path transform=\"translate(500,534.113516676419)\" d=\"M5,0A5,5,0,1,1,-5,0A5,5,0,1,1,5,0\" fill=\"rgb(252, 253, 191)\" stroke=\"#fff\"></path><path transform=\"translate(500,537.8583967232299)\" d=\"M5,0A5,5,0,1,1,-5,0A5,5,0,1,1,5,0\" fill=\"rgb(252, 253, 191)\" stroke=\"#fff\"></path><path transform=\"translate(500,541.603276770041)\" d=\"M5,0A5,5,0,1,1,-5,0A5,5,0,1,1,5,0\" fill=\"rgb(252, 253, 191)\" stroke=\"#fff\"></path><path transform=\"translate(500,545.348156816852)\" d=\"M5,0A5,5,0,1,1,-5,0A5,5,0,1,1,5,0\" fill=\"rgb(252, 253, 191)\" stroke=\"#fff\"></path><path transform=\"translate(500,549.093036863663)\" d=\"M5,0A5,5,0,1,1,-5,0A5,5,0,1,1,5,0\" fill=\"rgb(252, 253, 191)\" stroke=\"#fff\"></path><path transform=\"translate(500,552.837916910474)\" d=\"M5,0A5,5,0,1,1,-5,0A5,5,0,1,1,5,0\" fill=\"rgb(252, 253, 191)\" stroke=\"#fff\"></path><path transform=\"translate(500,556.5827969572849)\" d=\"M5,0A5,5,0,1,1,-5,0A5,5,0,1,1,5,0\" fill=\"rgb(252, 253, 191)\" stroke=\"#fff\"></path><path transform=\"translate(500,560.327677004096)\" d=\"M5,0A5,5,0,1,1,-5,0A5,5,0,1,1,5,0\" fill=\"rgb(252, 253, 191)\" stroke=\"#fff\"></path><path transform=\"translate(500,564.072557050907)\" d=\"M5,0A5,5,0,1,1,-5,0A5,5,0,1,1,5,0\" fill=\"rgb(252, 253, 191)\" stroke=\"#fff\"></path><path transform=\"translate(500,567.817437097718)\" d=\"M5,0A5,5,0,1,1,-5,0A5,5,0,1,1,5,0\" fill=\"rgb(252, 253, 191)\" stroke=\"#fff\"></path><path transform=\"translate(500,571.562317144529)\" d=\"M5,0A5,5,0,1,1,-5,0A5,5,0,1,1,5,0\" fill=\"rgb(252, 253, 191)\" stroke=\"#fff\"></path><path transform=\"translate(500,575.3071971913399)\" d=\"M5,0A5,5,0,1,1,-5,0A5,5,0,1,1,5,0\" fill=\"rgb(252, 253, 191)\" stroke=\"#fff\"></path><path transform=\"translate(416.66666666666663,586.541837331773)\" d=\"M5,0A5,5,0,1,1,-5,0A5,5,0,1,1,5,0\" fill=\"rgb(254, 175, 120)\" stroke=\"#fff\"></path><path transform=\"translate(500,582.796957284962)\" d=\"M5,0A5,5,0,1,1,-5,0A5,5,0,1,1,5,0\" fill=\"rgb(252, 253, 191)\" stroke=\"#fff\"></path><path transform=\"translate(500,586.541837331773)\" d=\"M5,0A5,5,0,1,1,-5,0A5,5,0,1,1,5,0\" fill=\"rgb(252, 253, 191)\" stroke=\"#fff\"></path><path transform=\"translate(500,590.286717378584)\" d=\"M5,0A5,5,0,1,1,-5,0A5,5,0,1,1,5,0\" fill=\"rgb(252, 253, 191)\" stroke=\"#fff\"></path><path transform=\"translate(166.66666666666666,567.5833820947922)\" d=\"M5,0A5,5,0,1,1,-5,0A5,5,0,1,1,5,0\" fill=\"rgb(114, 31, 129)\" stroke=\"#fff\"></path><path transform=\"translate(250,567.5833820947922)\" d=\"M5,0A5,5,0,1,1,-5,0A5,5,0,1,1,5,0\" fill=\"rgb(182, 55, 122)\" stroke=\"#fff\"></path><path transform=\"translate(166.66666666666666,726.0386190754828)\" d=\"M5,0A5,5,0,1,1,-5,0A5,5,0,1,1,5,0\" fill=\"rgb(114, 31, 129)\" stroke=\"#fff\"></path><path transform=\"translate(250,685.7811585722645)\" d=\"M5,0A5,5,0,1,1,-5,0A5,5,0,1,1,5,0\" fill=\"rgb(182, 55, 122)\" stroke=\"#fff\"></path><path transform=\"translate(333.3333333333333,616.500877706261)\" d=\"M5,0A5,5,0,1,1,-5,0A5,5,0,1,1,5,0\" fill=\"rgb(241, 96, 93)\" stroke=\"#fff\"></path><path transform=\"translate(416.66666666666663,594.0315974253949)\" d=\"M5,0A5,5,0,1,1,-5,0A5,5,0,1,1,5,0\" fill=\"rgb(254, 175, 120)\" stroke=\"#fff\"></path><path transform=\"translate(416.66666666666663,597.776477472206)\" d=\"M5,0A5,5,0,1,1,-5,0A5,5,0,1,1,5,0\" fill=\"rgb(254, 175, 120)\" stroke=\"#fff\"></path><path transform=\"translate(416.66666666666663,601.521357519017)\" d=\"M5,0A5,5,0,1,1,-5,0A5,5,0,1,1,5,0\" fill=\"rgb(254, 175, 120)\" stroke=\"#fff\"></path><path transform=\"translate(416.66666666666663,605.266237565828)\" d=\"M5,0A5,5,0,1,1,-5,0A5,5,0,1,1,5,0\" fill=\"rgb(254, 175, 120)\" stroke=\"#fff\"></path><path transform=\"translate(416.66666666666663,609.0111176126389)\" d=\"M5,0A5,5,0,1,1,-5,0A5,5,0,1,1,5,0\" fill=\"rgb(254, 175, 120)\" stroke=\"#fff\"></path><path transform=\"translate(416.66666666666663,612.75599765945)\" d=\"M5,0A5,5,0,1,1,-5,0A5,5,0,1,1,5,0\" fill=\"rgb(254, 175, 120)\" stroke=\"#fff\"></path><path transform=\"translate(416.66666666666663,616.500877706261)\" d=\"M5,0A5,5,0,1,1,-5,0A5,5,0,1,1,5,0\" fill=\"rgb(254, 175, 120)\" stroke=\"#fff\"></path><path transform=\"translate(416.66666666666663,620.245757753072)\" d=\"M5,0A5,5,0,1,1,-5,0A5,5,0,1,1,5,0\" fill=\"rgb(254, 175, 120)\" stroke=\"#fff\"></path><path transform=\"translate(416.66666666666663,623.990637799883)\" d=\"M5,0A5,5,0,1,1,-5,0A5,5,0,1,1,5,0\" fill=\"rgb(254, 175, 120)\" stroke=\"#fff\"></path><path transform=\"translate(416.66666666666663,627.7355178466939)\" d=\"M5,0A5,5,0,1,1,-5,0A5,5,0,1,1,5,0\" fill=\"rgb(254, 175, 120)\" stroke=\"#fff\"></path><path transform=\"translate(416.66666666666663,631.480397893505)\" d=\"M5,0A5,5,0,1,1,-5,0A5,5,0,1,1,5,0\" fill=\"rgb(254, 175, 120)\" stroke=\"#fff\"></path><path transform=\"translate(416.66666666666663,635.225277940316)\" d=\"M5,0A5,5,0,1,1,-5,0A5,5,0,1,1,5,0\" fill=\"rgb(254, 175, 120)\" stroke=\"#fff\"></path><path transform=\"translate(416.66666666666663,638.970157987127)\" d=\"M5,0A5,5,0,1,1,-5,0A5,5,0,1,1,5,0\" fill=\"rgb(254, 175, 120)\" stroke=\"#fff\"></path><path transform=\"translate(333.3333333333333,668.929198361615)\" d=\"M5,0A5,5,0,1,1,-5,0A5,5,0,1,1,5,0\" fill=\"rgb(241, 96, 93)\" stroke=\"#fff\"></path><path transform=\"translate(416.66666666666663,646.4599180807489)\" d=\"M5,0A5,5,0,1,1,-5,0A5,5,0,1,1,5,0\" fill=\"rgb(254, 175, 120)\" stroke=\"#fff\"></path><path transform=\"translate(416.66666666666663,650.20479812756)\" d=\"M5,0A5,5,0,1,1,-5,0A5,5,0,1,1,5,0\" fill=\"rgb(254, 175, 120)\" stroke=\"#fff\"></path><path transform=\"translate(416.66666666666663,653.949678174371)\" d=\"M5,0A5,5,0,1,1,-5,0A5,5,0,1,1,5,0\" fill=\"rgb(254, 175, 120)\" stroke=\"#fff\"></path><path transform=\"translate(416.66666666666663,657.694558221182)\" d=\"M5,0A5,5,0,1,1,-5,0A5,5,0,1,1,5,0\" fill=\"rgb(254, 175, 120)\" stroke=\"#fff\"></path><path transform=\"translate(416.66666666666663,661.439438267993)\" d=\"M5,0A5,5,0,1,1,-5,0A5,5,0,1,1,5,0\" fill=\"rgb(254, 175, 120)\" stroke=\"#fff\"></path><path transform=\"translate(416.66666666666663,665.1843183148039)\" d=\"M5,0A5,5,0,1,1,-5,0A5,5,0,1,1,5,0\" fill=\"rgb(254, 175, 120)\" stroke=\"#fff\"></path><path transform=\"translate(416.66666666666663,668.929198361615)\" d=\"M5,0A5,5,0,1,1,-5,0A5,5,0,1,1,5,0\" fill=\"rgb(254, 175, 120)\" stroke=\"#fff\"></path><path transform=\"translate(416.66666666666663,672.674078408426)\" d=\"M5,0A5,5,0,1,1,-5,0A5,5,0,1,1,5,0\" fill=\"rgb(254, 175, 120)\" stroke=\"#fff\"></path><path transform=\"translate(416.66666666666663,676.418958455237)\" d=\"M5,0A5,5,0,1,1,-5,0A5,5,0,1,1,5,0\" fill=\"rgb(254, 175, 120)\" stroke=\"#fff\"></path><path transform=\"translate(416.66666666666663,680.163838502048)\" d=\"M5,0A5,5,0,1,1,-5,0A5,5,0,1,1,5,0\" fill=\"rgb(254, 175, 120)\" stroke=\"#fff\"></path><path transform=\"translate(416.66666666666663,683.908718548859)\" d=\"M5,0A5,5,0,1,1,-5,0A5,5,0,1,1,5,0\" fill=\"rgb(254, 175, 120)\" stroke=\"#fff\"></path><path transform=\"translate(416.66666666666663,687.65359859567)\" d=\"M5,0A5,5,0,1,1,-5,0A5,5,0,1,1,5,0\" fill=\"rgb(254, 175, 120)\" stroke=\"#fff\"></path><path transform=\"translate(416.66666666666663,691.398478642481)\" d=\"M5,0A5,5,0,1,1,-5,0A5,5,0,1,1,5,0\" fill=\"rgb(254, 175, 120)\" stroke=\"#fff\"></path><path transform=\"translate(333.3333333333333,713.867758923347)\" d=\"M5,0A5,5,0,1,1,-5,0A5,5,0,1,1,5,0\" fill=\"rgb(241, 96, 93)\" stroke=\"#fff\"></path><path transform=\"translate(416.66666666666663,698.888238736103)\" d=\"M5,0A5,5,0,1,1,-5,0A5,5,0,1,1,5,0\" fill=\"rgb(254, 175, 120)\" stroke=\"#fff\"></path><path transform=\"translate(416.66666666666663,702.633118782914)\" d=\"M5,0A5,5,0,1,1,-5,0A5,5,0,1,1,5,0\" fill=\"rgb(254, 175, 120)\" stroke=\"#fff\"></path><path transform=\"translate(416.66666666666663,706.377998829725)\" d=\"M5,0A5,5,0,1,1,-5,0A5,5,0,1,1,5,0\" fill=\"rgb(254, 175, 120)\" stroke=\"#fff\"></path><path transform=\"translate(416.66666666666663,710.122878876536)\" d=\"M5,0A5,5,0,1,1,-5,0A5,5,0,1,1,5,0\" fill=\"rgb(254, 175, 120)\" stroke=\"#fff\"></path><path transform=\"translate(416.66666666666663,713.867758923347)\" d=\"M5,0A5,5,0,1,1,-5,0A5,5,0,1,1,5,0\" fill=\"rgb(254, 175, 120)\" stroke=\"#fff\"></path><path transform=\"translate(416.66666666666663,717.612638970158)\" d=\"M5,0A5,5,0,1,1,-5,0A5,5,0,1,1,5,0\" fill=\"rgb(254, 175, 120)\" stroke=\"#fff\"></path><path transform=\"translate(416.66666666666663,721.357519016969)\" d=\"M5,0A5,5,0,1,1,-5,0A5,5,0,1,1,5,0\" fill=\"rgb(254, 175, 120)\" stroke=\"#fff\"></path><path transform=\"translate(416.66666666666663,725.10239906378)\" d=\"M5,0A5,5,0,1,1,-5,0A5,5,0,1,1,5,0\" fill=\"rgb(254, 175, 120)\" stroke=\"#fff\"></path><path transform=\"translate(416.66666666666663,728.847279110591)\" d=\"M5,0A5,5,0,1,1,-5,0A5,5,0,1,1,5,0\" fill=\"rgb(254, 175, 120)\" stroke=\"#fff\"></path><path transform=\"translate(333.3333333333333,755.061439438268)\" d=\"M5,0A5,5,0,1,1,-5,0A5,5,0,1,1,5,0\" fill=\"rgb(241, 96, 93)\" stroke=\"#fff\"></path><path transform=\"translate(416.66666666666663,736.3370392042129)\" d=\"M5,0A5,5,0,1,1,-5,0A5,5,0,1,1,5,0\" fill=\"rgb(254, 175, 120)\" stroke=\"#fff\"></path><path transform=\"translate(416.66666666666663,740.081919251024)\" d=\"M5,0A5,5,0,1,1,-5,0A5,5,0,1,1,5,0\" fill=\"rgb(254, 175, 120)\" stroke=\"#fff\"></path><path transform=\"translate(416.66666666666663,743.826799297835)\" d=\"M5,0A5,5,0,1,1,-5,0A5,5,0,1,1,5,0\" fill=\"rgb(254, 175, 120)\" stroke=\"#fff\"></path><path transform=\"translate(416.66666666666663,747.571679344646)\" d=\"M5,0A5,5,0,1,1,-5,0A5,5,0,1,1,5,0\" fill=\"rgb(254, 175, 120)\" stroke=\"#fff\"></path><path transform=\"translate(416.66666666666663,751.316559391457)\" d=\"M5,0A5,5,0,1,1,-5,0A5,5,0,1,1,5,0\" fill=\"rgb(254, 175, 120)\" stroke=\"#fff\"></path><path transform=\"translate(416.66666666666663,755.061439438268)\" d=\"M5,0A5,5,0,1,1,-5,0A5,5,0,1,1,5,0\" fill=\"rgb(254, 175, 120)\" stroke=\"#fff\"></path><path transform=\"translate(416.66666666666663,758.806319485079)\" d=\"M5,0A5,5,0,1,1,-5,0A5,5,0,1,1,5,0\" fill=\"rgb(254, 175, 120)\" stroke=\"#fff\"></path><path transform=\"translate(416.66666666666663,762.55119953189)\" d=\"M5,0A5,5,0,1,1,-5,0A5,5,0,1,1,5,0\" fill=\"rgb(254, 175, 120)\" stroke=\"#fff\"></path><path transform=\"translate(416.66666666666663,766.296079578701)\" d=\"M5,0A5,5,0,1,1,-5,0A5,5,0,1,1,5,0\" fill=\"rgb(254, 175, 120)\" stroke=\"#fff\"></path><path transform=\"translate(416.66666666666663,770.040959625512)\" d=\"M5,0A5,5,0,1,1,-5,0A5,5,0,1,1,5,0\" fill=\"rgb(254, 175, 120)\" stroke=\"#fff\"></path><path transform=\"translate(416.66666666666663,773.785839672323)\" d=\"M5,0A5,5,0,1,1,-5,0A5,5,0,1,1,5,0\" fill=\"rgb(254, 175, 120)\" stroke=\"#fff\"></path><path transform=\"translate(250,766.296079578701)\" d=\"M5,0A5,5,0,1,1,-5,0A5,5,0,1,1,5,0\" fill=\"rgb(182, 55, 122)\" stroke=\"#fff\"></path><path transform=\"translate(333.3333333333333,762.55119953189)\" d=\"M5,0A5,5,0,1,1,-5,0A5,5,0,1,1,5,0\" fill=\"rgb(241, 96, 93)\" stroke=\"#fff\"></path><path transform=\"translate(333.3333333333333,766.296079578701)\" d=\"M5,0A5,5,0,1,1,-5,0A5,5,0,1,1,5,0\" fill=\"rgb(241, 96, 93)\" stroke=\"#fff\"></path><path transform=\"translate(333.3333333333333,770.040959625512)\" d=\"M5,0A5,5,0,1,1,-5,0A5,5,0,1,1,5,0\" fill=\"rgb(241, 96, 93)\" stroke=\"#fff\"></path><path transform=\"translate(166.66666666666666,785.020479812756)\" d=\"M5,0A5,5,0,1,1,-5,0A5,5,0,1,1,5,0\" fill=\"rgb(114, 31, 129)\" stroke=\"#fff\"></path><path transform=\"translate(250,773.785839672323)\" d=\"M5,0A5,5,0,1,1,-5,0A5,5,0,1,1,5,0\" fill=\"rgb(182, 55, 122)\" stroke=\"#fff\"></path><path transform=\"translate(250,777.530719719134)\" d=\"M5,0A5,5,0,1,1,-5,0A5,5,0,1,1,5,0\" fill=\"rgb(182, 55, 122)\" stroke=\"#fff\"></path><path transform=\"translate(250,781.275599765945)\" d=\"M5,0A5,5,0,1,1,-5,0A5,5,0,1,1,5,0\" fill=\"rgb(182, 55, 122)\" stroke=\"#fff\"></path><path transform=\"translate(250,785.020479812756)\" d=\"M5,0A5,5,0,1,1,-5,0A5,5,0,1,1,5,0\" fill=\"rgb(182, 55, 122)\" stroke=\"#fff\"></path><path transform=\"translate(250,788.765359859567)\" d=\"M5,0A5,5,0,1,1,-5,0A5,5,0,1,1,5,0\" fill=\"rgb(182, 55, 122)\" stroke=\"#fff\"></path><path transform=\"translate(250,792.510239906378)\" d=\"M5,0A5,5,0,1,1,-5,0A5,5,0,1,1,5,0\" fill=\"rgb(182, 55, 122)\" stroke=\"#fff\"></path><path transform=\"translate(250,796.255119953189)\" d=\"M5,0A5,5,0,1,1,-5,0A5,5,0,1,1,5,0\" fill=\"rgb(182, 55, 122)\" stroke=\"#fff\"></path></g><g class=\"mark-text role-mark\" role=\"graphics-object\" aria-roledescription=\"text mark container\"><text text-anchor=\"end\" transform=\"translate(-7,397.3826799297835)\" font-family=\"sans-serif\" font-size=\"9px\" fill=\"#000\" opacity=\"1\">root</text><text text-anchor=\"end\" transform=\"translate(76.33333333333333,397.3826799297835)\" font-family=\"sans-serif\" font-size=\"9px\" fill=\"#000\" opacity=\"1\">HDF5 FILE</text><text text-anchor=\"start\" transform=\"translate(173.66666666666666,6.744880046811001)\" font-family=\"sans-serif\" font-size=\"9px\" fill=\"#000\" opacity=\"1\">Acquisition_Purpose</text><text text-anchor=\"start\" transform=\"translate(173.66666666666666,10.489760093622001)\" font-family=\"sans-serif\" font-size=\"9px\" fill=\"#000\" opacity=\"1\">Acquisition_Size</text><text text-anchor=\"start\" transform=\"translate(173.66666666666666,14.234640140433001)\" font-family=\"sans-serif\" font-size=\"9px\" fill=\"#000\" opacity=\"1\">Acquisition_Station</text><text text-anchor=\"start\" transform=\"translate(173.66666666666666,17.979520187244002)\" font-family=\"sans-serif\" font-size=\"9px\" fill=\"#000\" opacity=\"1\">Acquisition_Type</text><text text-anchor=\"start\" transform=\"translate(173.66666666666666,21.724400234055004)\" font-family=\"sans-serif\" font-size=\"9px\" fill=\"#000\" opacity=\"1\">Atm_LutGeomInfo_RelativeAzimuth</text><text text-anchor=\"start\" transform=\"translate(173.66666666666666,25.469280280866002)\" font-family=\"sans-serif\" font-size=\"9px\" fill=\"#000\" opacity=\"1\">Atm_LutGeomInfo_SunZenith</text><text text-anchor=\"start\" transform=\"translate(173.66666666666666,29.214160327677003)\" font-family=\"sans-serif\" font-size=\"9px\" fill=\"#000\" opacity=\"1\">Atm_LutGeomInfo_ViewZenith</text><text text-anchor=\"start\" transform=\"translate(173.66666666666666,32.959040374488005)\" font-family=\"sans-serif\" font-size=\"9px\" fill=\"#000\" opacity=\"1\">Atm_Lut_version</text><text text-anchor=\"start\" transform=\"translate(173.66666666666666,36.703920421299)\" font-family=\"sans-serif\" font-size=\"9px\" fill=\"#000\" opacity=\"1\">Atmo_RTM_info</text><text text-anchor=\"start\" transform=\"translate(173.66666666666666,40.44880046811001)\" font-family=\"sans-serif\" font-size=\"9px\" fill=\"#000\" opacity=\"1\">Atmo_profile_info</text><text text-anchor=\"start\" transform=\"translate(173.66666666666666,44.193680514921006)\" font-family=\"sans-serif\" font-size=\"9px\" fill=\"#000\" opacity=\"1\">Aux_SunEarthDistance</text><text text-anchor=\"start\" transform=\"translate(173.66666666666666,47.938560561732004)\" font-family=\"sans-serif\" font-size=\"9px\" fill=\"#000\" opacity=\"1\">Aux_SunIrradiance</text><text text-anchor=\"start\" transform=\"translate(173.66666666666666,51.68344060854301)\" font-family=\"sans-serif\" font-size=\"9px\" fill=\"#000\" opacity=\"1\">CNM_L2_BINNING</text><text text-anchor=\"start\" transform=\"translate(173.66666666666666,55.42832065535401)\" font-family=\"sans-serif\" font-size=\"9px\" fill=\"#000\" opacity=\"1\">CNM_L2_BIN_ON</text><text text-anchor=\"start\" transform=\"translate(173.66666666666666,59.17320070216501)\" font-family=\"sans-serif\" font-size=\"9px\" fill=\"#000\" opacity=\"1\">CNM_L2_BSEL_ON</text><text text-anchor=\"start\" transform=\"translate(173.66666666666666,62.91808074897601)\" font-family=\"sans-serif\" font-size=\"9px\" fill=\"#000\" opacity=\"1\">CNM_L2_HGRP</text><text text-anchor=\"start\" transform=\"translate(173.66666666666666,66.662960795787)\" font-family=\"sans-serif\" font-size=\"9px\" fill=\"#000\" opacity=\"1\">CNM_PAN_ACQ</text><text text-anchor=\"start\" transform=\"translate(173.66666666666666,70.407840842598)\" font-family=\"sans-serif\" font-size=\"9px\" fill=\"#000\" opacity=\"1\">CNM_SWIR_ACQ</text><text text-anchor=\"start\" transform=\"translate(173.66666666666666,74.15272088940901)\" font-family=\"sans-serif\" font-size=\"9px\" fill=\"#000\" opacity=\"1\">CNM_SWIR_SELECT</text><text text-anchor=\"start\" transform=\"translate(173.66666666666666,77.89760093622002)\" font-family=\"sans-serif\" font-size=\"9px\" fill=\"#000\" opacity=\"1\">CNM_VNIR_ACQ</text><text text-anchor=\"start\" transform=\"translate(173.66666666666666,81.642480983031)\" font-family=\"sans-serif\" font-size=\"9px\" fill=\"#000\" opacity=\"1\">CNM_VNIR_SELECT</text><text text-anchor=\"start\" transform=\"translate(173.66666666666666,85.38736102984201)\" font-family=\"sans-serif\" font-size=\"9px\" fill=\"#000\" opacity=\"1\">Cloudy_pixels_percentage</text><text text-anchor=\"start\" transform=\"translate(173.66666666666666,89.13224107665302)\" font-family=\"sans-serif\" font-size=\"9px\" fill=\"#000\" opacity=\"1\">DEM_info</text><text text-anchor=\"start\" transform=\"translate(173.66666666666666,92.87712112346401)\" font-family=\"sans-serif\" font-size=\"9px\" fill=\"#000\" opacity=\"1\">Epsg_Code</text><text text-anchor=\"start\" transform=\"translate(173.66666666666666,96.62200117027501)\" font-family=\"sans-serif\" font-size=\"9px\" fill=\"#000\" opacity=\"1\">Exit_Code</text><text text-anchor=\"start\" transform=\"translate(173.66666666666666,100.36688121708602)\" font-family=\"sans-serif\" font-size=\"9px\" fill=\"#000\" opacity=\"1\">Frame_Type</text><text text-anchor=\"start\" transform=\"translate(173.66666666666666,104.11176126389702)\" font-family=\"sans-serif\" font-size=\"9px\" fill=\"#000\" opacity=\"1\">GCP_info</text><text text-anchor=\"start\" transform=\"translate(173.66666666666666,107.85664131070801)\" font-family=\"sans-serif\" font-size=\"9px\" fill=\"#000\" opacity=\"1\">ISF_ID_Start</text><text text-anchor=\"start\" transform=\"translate(173.66666666666666,111.60152135751902)\" font-family=\"sans-serif\" font-size=\"9px\" fill=\"#000\" opacity=\"1\">Image_ID</text><text text-anchor=\"start\" transform=\"translate(173.66666666666666,115.34640140433002)\" font-family=\"sans-serif\" font-size=\"9px\" fill=\"#000\" opacity=\"1\">Integration_Time</text><text text-anchor=\"start\" transform=\"translate(173.66666666666666,119.09128145114101)\" font-family=\"sans-serif\" font-size=\"9px\" fill=\"#000\" opacity=\"1\">L1_Processor_Version</text><text text-anchor=\"start\" transform=\"translate(173.66666666666666,122.83616149795202)\" font-family=\"sans-serif\" font-size=\"9px\" fill=\"#000\" opacity=\"1\">L1_Quality_CCPerc</text><text text-anchor=\"start\" transform=\"translate(173.66666666666666,126.58104154476302)\" font-family=\"sans-serif\" font-size=\"9px\" fill=\"#000\" opacity=\"1\">L2ScalePanMax</text><text text-anchor=\"start\" transform=\"translate(173.66666666666666,130.325921591574)\" font-family=\"sans-serif\" font-size=\"9px\" fill=\"#000\" opacity=\"1\">L2ScalePanMin</text><text text-anchor=\"start\" transform=\"translate(173.66666666666666,134.07080163838503)\" font-family=\"sans-serif\" font-size=\"9px\" fill=\"#000\" opacity=\"1\">L2ScaleSwirMax</text><text text-anchor=\"start\" transform=\"translate(173.66666666666666,137.815681685196)\" font-family=\"sans-serif\" font-size=\"9px\" fill=\"#000\" opacity=\"1\">L2ScaleSwirMin</text><text text-anchor=\"start\" transform=\"translate(173.66666666666666,141.56056173200702)\" font-family=\"sans-serif\" font-size=\"9px\" fill=\"#000\" opacity=\"1\">L2ScaleVnirMax</text><text text-anchor=\"start\" transform=\"translate(173.66666666666666,145.30544177881802)\" font-family=\"sans-serif\" font-size=\"9px\" fill=\"#000\" opacity=\"1\">L2ScaleVnirMin</text><text text-anchor=\"start\" transform=\"translate(173.66666666666666,149.05032182562903)\" font-family=\"sans-serif\" font-size=\"9px\" fill=\"#000\" opacity=\"1\">L2d_Quality_flags</text><text text-anchor=\"start\" transform=\"translate(173.66666666666666,152.79520187244003)\" font-family=\"sans-serif\" font-size=\"9px\" fill=\"#000\" opacity=\"1\">List_Cw_Swir</text><text text-anchor=\"start\" transform=\"translate(173.66666666666666,156.54008191925104)\" font-family=\"sans-serif\" font-size=\"9px\" fill=\"#000\" opacity=\"1\">List_Cw_Swir_Flags</text><text text-anchor=\"start\" transform=\"translate(173.66666666666666,160.284961966062)\" font-family=\"sans-serif\" font-size=\"9px\" fill=\"#000\" opacity=\"1\">List_Cw_Vnir</text><text text-anchor=\"start\" transform=\"translate(173.66666666666666,164.02984201287302)\" font-family=\"sans-serif\" font-size=\"9px\" fill=\"#000\" opacity=\"1\">List_Cw_Vnir_Flags</text><text text-anchor=\"start\" transform=\"translate(173.66666666666666,167.77472205968402)\" font-family=\"sans-serif\" font-size=\"9px\" fill=\"#000\" opacity=\"1\">List_Fwhm_Swir</text><text text-anchor=\"start\" transform=\"translate(173.66666666666666,171.51960210649503)\" font-family=\"sans-serif\" font-size=\"9px\" fill=\"#000\" opacity=\"1\">List_Fwhm_Vnir</text><text text-anchor=\"start\" transform=\"translate(173.66666666666666,175.26448215330603)\" font-family=\"sans-serif\" font-size=\"9px\" fill=\"#000\" opacity=\"1\">Main_Electornic_Unit</text><text text-anchor=\"start\" transform=\"translate(173.66666666666666,179.00936220011704)\" font-family=\"sans-serif\" font-size=\"9px\" fill=\"#000\" opacity=\"1\">Map_AOT_accuracy</text><text text-anchor=\"start\" transform=\"translate(173.66666666666666,182.75424224692802)\" font-family=\"sans-serif\" font-size=\"9px\" fill=\"#000\" opacity=\"1\">Map_WV_accuracy</text><text text-anchor=\"start\" transform=\"translate(173.66666666666666,186.49912229373902)\" font-family=\"sans-serif\" font-size=\"9px\" fill=\"#000\" opacity=\"1\">Num_Frames</text><text text-anchor=\"start\" transform=\"translate(173.66666666666666,190.24400234055003)\" font-family=\"sans-serif\" font-size=\"9px\" fill=\"#000\" opacity=\"1\">Number_of_ISF</text><text text-anchor=\"start\" transform=\"translate(173.66666666666666,193.98888238736103)\" font-family=\"sans-serif\" font-size=\"9px\" fill=\"#000\" opacity=\"1\">PANCorruptedFrameList</text><text text-anchor=\"start\" transform=\"translate(173.66666666666666,197.73376243417204)\" font-family=\"sans-serif\" font-size=\"9px\" fill=\"#000\" opacity=\"1\">PAN_ACQ</text><text text-anchor=\"start\" transform=\"translate(173.66666666666666,201.47864248098304)\" font-family=\"sans-serif\" font-size=\"9px\" fill=\"#000\" opacity=\"1\">PAN_Corrupted_Frame_Percentage</text><text text-anchor=\"start\" transform=\"translate(173.66666666666666,205.22352252779405)\" font-family=\"sans-serif\" font-size=\"9px\" fill=\"#000\" opacity=\"1\">PAN_HGRP</text><text text-anchor=\"start\" transform=\"translate(173.66666666666666,208.96840257460502)\" font-family=\"sans-serif\" font-size=\"9px\" fill=\"#000\" opacity=\"1\">PAN_HYP_ACT_RESIDUAL_m</text><text text-anchor=\"start\" transform=\"translate(173.66666666666666,212.71328262141603)\" font-family=\"sans-serif\" font-size=\"9px\" fill=\"#000\" opacity=\"1\">PAN_HYP_ALT_RESIDUAL_m</text><text text-anchor=\"start\" transform=\"translate(173.66666666666666,216.45816266822703)\" font-family=\"sans-serif\" font-size=\"9px\" fill=\"#000\" opacity=\"1\">PAN_HYP_START_SYNC_FRAME</text><text text-anchor=\"start\" transform=\"translate(173.66666666666666,220.20304271503804)\" font-family=\"sans-serif\" font-size=\"9px\" fill=\"#000\" opacity=\"1\">PAN_HYP_START_SYNC_SUBFRAME</text><text text-anchor=\"start\" transform=\"translate(173.66666666666666,223.94792276184904)\" font-family=\"sans-serif\" font-size=\"9px\" fill=\"#000\" opacity=\"1\">PAN_HYP_STOP_SYNC_FRAME</text><text text-anchor=\"start\" transform=\"translate(173.66666666666666,227.69280280866005)\" font-family=\"sans-serif\" font-size=\"9px\" fill=\"#000\" opacity=\"1\">PAN_HYP_STOP_SYNC_SUBFRAME</text><text text-anchor=\"start\" transform=\"translate(173.66666666666666,231.43768285547102)\" font-family=\"sans-serif\" font-size=\"9px\" fill=\"#000\" opacity=\"1\">PAN_Int_Time</text><text text-anchor=\"start\" transform=\"translate(173.66666666666666,235.18256290228203)\" font-family=\"sans-serif\" font-size=\"9px\" fill=\"#000\" opacity=\"1\">PE_Gain_SWIR</text><text text-anchor=\"start\" transform=\"translate(173.66666666666666,238.92744294909303)\" font-family=\"sans-serif\" font-size=\"9px\" fill=\"#000\" opacity=\"1\">PE_Gain_VNIR</text><text text-anchor=\"start\" transform=\"translate(173.66666666666666,242.67232299590404)\" font-family=\"sans-serif\" font-size=\"9px\" fill=\"#000\" opacity=\"1\">Pan_N_Int</text><text text-anchor=\"start\" transform=\"translate(173.66666666666666,246.41720304271504)\" font-family=\"sans-serif\" font-size=\"9px\" fill=\"#000\" opacity=\"1\">Pan_Num_Frames</text><text text-anchor=\"start\" transform=\"translate(173.66666666666666,250.16208308952605)\" font-family=\"sans-serif\" font-size=\"9px\" fill=\"#000\" opacity=\"1\">Prev_Cdp_File_Name</text><text text-anchor=\"start\" transform=\"translate(173.66666666666666,253.90696313633705)\" font-family=\"sans-serif\" font-size=\"9px\" fill=\"#000\" opacity=\"1\">Prev_FKdp_File_Name</text><text text-anchor=\"start\" transform=\"translate(173.66666666666666,257.651843183148)\" font-family=\"sans-serif\" font-size=\"9px\" fill=\"#000\" opacity=\"1\">Prev_Gkdp_File_Name</text><text text-anchor=\"start\" transform=\"translate(173.66666666666666,261.39672322995904)\" font-family=\"sans-serif\" font-size=\"9px\" fill=\"#000\" opacity=\"1\">Processing_Level</text><text text-anchor=\"start\" transform=\"translate(173.66666666666666,265.14160327677007)\" font-family=\"sans-serif\" font-size=\"9px\" fill=\"#000\" opacity=\"1\">Processing_Station</text><text text-anchor=\"start\" transform=\"translate(173.66666666666666,268.88648332358105)\" font-family=\"sans-serif\" font-size=\"9px\" fill=\"#000\" opacity=\"1\">Processing_Time</text><text text-anchor=\"start\" transform=\"translate(173.66666666666666,272.631363370392)\" font-family=\"sans-serif\" font-size=\"9px\" fill=\"#000\" opacity=\"1\">Processor_Name</text><text text-anchor=\"start\" transform=\"translate(173.66666666666666,276.37624341720306)\" font-family=\"sans-serif\" font-size=\"9px\" fill=\"#000\" opacity=\"1\">Processor_Version</text><text text-anchor=\"start\" transform=\"translate(173.66666666666666,280.12112346401403)\" font-family=\"sans-serif\" font-size=\"9px\" fill=\"#000\" opacity=\"1\">Product_ID</text><text text-anchor=\"start\" transform=\"translate(173.66666666666666,283.86600351082507)\" font-family=\"sans-serif\" font-size=\"9px\" fill=\"#000\" opacity=\"1\">Product_LLcorner_easting</text><text text-anchor=\"start\" transform=\"translate(173.66666666666666,287.61088355763604)\" font-family=\"sans-serif\" font-size=\"9px\" fill=\"#000\" opacity=\"1\">Product_LLcorner_lat</text><text text-anchor=\"start\" transform=\"translate(173.66666666666666,291.355763604447)\" font-family=\"sans-serif\" font-size=\"9px\" fill=\"#000\" opacity=\"1\">Product_LLcorner_long</text><text text-anchor=\"start\" transform=\"translate(173.66666666666666,295.10064365125805)\" font-family=\"sans-serif\" font-size=\"9px\" fill=\"#000\" opacity=\"1\">Product_LLcorner_northing</text><text text-anchor=\"start\" transform=\"translate(173.66666666666666,298.84552369806903)\" font-family=\"sans-serif\" font-size=\"9px\" fill=\"#000\" opacity=\"1\">Product_LRcorner_easting</text><text text-anchor=\"start\" transform=\"translate(173.66666666666666,302.59040374488006)\" font-family=\"sans-serif\" font-size=\"9px\" fill=\"#000\" opacity=\"1\">Product_LRcorner_lat</text><text text-anchor=\"start\" transform=\"translate(173.66666666666666,306.33528379169104)\" font-family=\"sans-serif\" font-size=\"9px\" fill=\"#000\" opacity=\"1\">Product_LRcorner_long</text><text text-anchor=\"start\" transform=\"translate(173.66666666666666,310.0801638385021)\" font-family=\"sans-serif\" font-size=\"9px\" fill=\"#000\" opacity=\"1\">Product_LRcorner_northing</text><text text-anchor=\"start\" transform=\"translate(173.66666666666666,313.82504388531305)\" font-family=\"sans-serif\" font-size=\"9px\" fill=\"#000\" opacity=\"1\">Product_Name</text><text text-anchor=\"start\" transform=\"translate(173.66666666666666,317.569923932124)\" font-family=\"sans-serif\" font-size=\"9px\" fill=\"#000\" opacity=\"1\">Product_StartTime</text><text text-anchor=\"start\" transform=\"translate(173.66666666666666,321.31480397893506)\" font-family=\"sans-serif\" font-size=\"9px\" fill=\"#000\" opacity=\"1\">Product_StopTime</text><text text-anchor=\"start\" transform=\"translate(173.66666666666666,325.05968402574604)\" font-family=\"sans-serif\" font-size=\"9px\" fill=\"#000\" opacity=\"1\">Product_ULcorner_easting</text><text text-anchor=\"start\" transform=\"translate(173.66666666666666,328.80456407255707)\" font-family=\"sans-serif\" font-size=\"9px\" fill=\"#000\" opacity=\"1\">Product_ULcorner_lat</text><text text-anchor=\"start\" transform=\"translate(173.66666666666666,332.54944411936805)\" font-family=\"sans-serif\" font-size=\"9px\" fill=\"#000\" opacity=\"1\">Product_ULcorner_long</text><text text-anchor=\"start\" transform=\"translate(173.66666666666666,336.2943241661791)\" font-family=\"sans-serif\" font-size=\"9px\" fill=\"#000\" opacity=\"1\">Product_ULcorner_northing</text><text text-anchor=\"start\" transform=\"translate(173.66666666666666,340.03920421299006)\" font-family=\"sans-serif\" font-size=\"9px\" fill=\"#000\" opacity=\"1\">Product_URcorner_easting</text><text text-anchor=\"start\" transform=\"translate(173.66666666666666,343.78408425980103)\" font-family=\"sans-serif\" font-size=\"9px\" fill=\"#000\" opacity=\"1\">Product_URcorner_lat</text><text text-anchor=\"start\" transform=\"translate(173.66666666666666,347.52896430661207)\" font-family=\"sans-serif\" font-size=\"9px\" fill=\"#000\" opacity=\"1\">Product_URcorner_long</text><text text-anchor=\"start\" transform=\"translate(173.66666666666666,351.27384435342304)\" font-family=\"sans-serif\" font-size=\"9px\" fill=\"#000\" opacity=\"1\">Product_URcorner_northing</text><text text-anchor=\"start\" transform=\"translate(173.66666666666666,355.0187244002341)\" font-family=\"sans-serif\" font-size=\"9px\" fill=\"#000\" opacity=\"1\">Product_center_easting</text><text text-anchor=\"start\" transform=\"translate(173.66666666666666,358.76360444704505)\" font-family=\"sans-serif\" font-size=\"9px\" fill=\"#000\" opacity=\"1\">Product_center_lat</text><text text-anchor=\"start\" transform=\"translate(173.66666666666666,362.50848449385603)\" font-family=\"sans-serif\" font-size=\"9px\" fill=\"#000\" opacity=\"1\">Product_center_long</text><text text-anchor=\"start\" transform=\"translate(173.66666666666666,366.25336454066706)\" font-family=\"sans-serif\" font-size=\"9px\" fill=\"#000\" opacity=\"1\">Product_center_northing</text><text text-anchor=\"start\" transform=\"translate(173.66666666666666,369.99824458747804)\" font-family=\"sans-serif\" font-size=\"9px\" fill=\"#000\" opacity=\"1\">Projection_Id</text><text text-anchor=\"start\" transform=\"translate(173.66666666666666,373.7431246342891)\" font-family=\"sans-serif\" font-size=\"9px\" fill=\"#000\" opacity=\"1\">Projection_Name</text><text text-anchor=\"start\" transform=\"translate(173.66666666666666,377.48800468110005)\" font-family=\"sans-serif\" font-size=\"9px\" fill=\"#000\" opacity=\"1\">Reference_Ellipsoid</text><text text-anchor=\"start\" transform=\"translate(173.66666666666666,381.2328847279111)\" font-family=\"sans-serif\" font-size=\"9px\" fill=\"#000\" opacity=\"1\">SWIRCorruptedFrameList</text><text text-anchor=\"start\" transform=\"translate(173.66666666666666,384.97776477472206)\" font-family=\"sans-serif\" font-size=\"9px\" fill=\"#000\" opacity=\"1\">SWIR_BNSTART</text><text text-anchor=\"start\" transform=\"translate(173.66666666666666,388.72264482153304)\" font-family=\"sans-serif\" font-size=\"9px\" fill=\"#000\" opacity=\"1\">SWIR_BNSTOP</text><text text-anchor=\"start\" transform=\"translate(173.66666666666666,392.46752486834407)\" font-family=\"sans-serif\" font-size=\"9px\" fill=\"#000\" opacity=\"1\">SWIR_Corrupted_Frame_Percentage</text><text text-anchor=\"start\" transform=\"translate(173.66666666666666,396.21240491515505)\" font-family=\"sans-serif\" font-size=\"9px\" fill=\"#000\" opacity=\"1\">SWIR_HGRP</text><text text-anchor=\"start\" transform=\"translate(173.66666666666666,399.9572849619661)\" font-family=\"sans-serif\" font-size=\"9px\" fill=\"#000\" opacity=\"1\">SWIR_X</text><text text-anchor=\"start\" transform=\"translate(173.66666666666666,403.70216500877706)\" font-family=\"sans-serif\" font-size=\"9px\" fill=\"#000\" opacity=\"1\">Sea_pixels_percentage</text><text text-anchor=\"start\" transform=\"translate(173.66666666666666,407.4470450555881)\" font-family=\"sans-serif\" font-size=\"9px\" fill=\"#000\" opacity=\"1\">Soi_L0a_EO-EOS</text><text text-anchor=\"start\" transform=\"translate(173.66666666666666,411.19192510239907)\" font-family=\"sans-serif\" font-size=\"9px\" fill=\"#000\" opacity=\"1\">Soi_Post_Dark_Calibration_L0aFile</text><text text-anchor=\"start\" transform=\"translate(173.66666666666666,414.93680514921004)\" font-family=\"sans-serif\" font-size=\"9px\" fill=\"#000\" opacity=\"1\">Soi_Prev_Dark_Calibration_L0aFile</text><text text-anchor=\"start\" transform=\"translate(173.66666666666666,418.6816851960211)\" font-family=\"sans-serif\" font-size=\"9px\" fill=\"#000\" opacity=\"1\">Sun_azimuth_angle</text><text text-anchor=\"start\" transform=\"translate(173.66666666666666,422.42656524283205)\" font-family=\"sans-serif\" font-size=\"9px\" fill=\"#000\" opacity=\"1\">Sun_zenith_angle</text><text text-anchor=\"start\" transform=\"translate(173.66666666666666,426.1714452896431)\" font-family=\"sans-serif\" font-size=\"9px\" fill=\"#000\" opacity=\"1\">Synch_Time</text><text text-anchor=\"start\" transform=\"translate(173.66666666666666,429.91632533645407)\" font-family=\"sans-serif\" font-size=\"9px\" fill=\"#000\" opacity=\"1\">VNIRCorruptedFrameList</text><text text-anchor=\"start\" transform=\"translate(173.66666666666666,433.6612053832651)\" font-family=\"sans-serif\" font-size=\"9px\" fill=\"#000\" opacity=\"1\">VNIR_BNSTART</text><text text-anchor=\"start\" transform=\"translate(173.66666666666666,437.4060854300761)\" font-family=\"sans-serif\" font-size=\"9px\" fill=\"#000\" opacity=\"1\">VNIR_BNSTOP</text><text text-anchor=\"start\" transform=\"translate(173.66666666666666,441.15096547688705)\" font-family=\"sans-serif\" font-size=\"9px\" fill=\"#000\" opacity=\"1\">VNIR_Corrupted_Frame_Percentage</text><text text-anchor=\"start\" transform=\"translate(173.66666666666666,444.8958455236981)\" font-family=\"sans-serif\" font-size=\"9px\" fill=\"#000\" opacity=\"1\">VNIR_HGRP</text><text text-anchor=\"start\" transform=\"translate(173.66666666666666,448.64072557050906)\" font-family=\"sans-serif\" font-size=\"9px\" fill=\"#000\" opacity=\"1\">VNIR_X</text><text text-anchor=\"end\" transform=\"translate(159.66666666666666,452.3856056173201)\" font-family=\"sans-serif\" font-size=\"9px\" fill=\"#000\" opacity=\"1\">HDFEOS</text><text text-anchor=\"end\" transform=\"translate(243,452.3856056173201)\" font-family=\"sans-serif\" font-size=\"9px\" fill=\"#000\" opacity=\"1\">SWATHS</text><text text-anchor=\"end\" transform=\"translate(326.3333333333333,357.35927442949094)\" font-family=\"sans-serif\" font-size=\"9px\" fill=\"#000\" opacity=\"1\">Geocoding attributes</text><text text-anchor=\"end\" transform=\"translate(409.66666666666663,357.35927442949094)\" font-family=\"sans-serif\" font-size=\"9px\" fill=\"#000\" opacity=\"1\">Ancillary</text><text text-anchor=\"start\" transform=\"translate(507,338.63487419543594)\" font-family=\"sans-serif\" font-size=\"9px\" fill=\"#000\" opacity=\"1\">DEM_Horizontal_Accuracy</text><text text-anchor=\"start\" transform=\"translate(507,342.3797542422469)\" font-family=\"sans-serif\" font-size=\"9px\" fill=\"#000\" opacity=\"1\">DEM_Resolution</text><text text-anchor=\"start\" transform=\"translate(507,346.12463428905795)\" font-family=\"sans-serif\" font-size=\"9px\" fill=\"#000\" opacity=\"1\">DEM_Type</text><text text-anchor=\"start\" transform=\"translate(507,349.8695143358689)\" font-family=\"sans-serif\" font-size=\"9px\" fill=\"#000\" opacity=\"1\">DEM_Vertical_Accuracy</text><text text-anchor=\"start\" transform=\"translate(507,353.6143943826799)\" font-family=\"sans-serif\" font-size=\"9px\" fill=\"#000\" opacity=\"1\">GCP_Available</text><text text-anchor=\"start\" transform=\"translate(507,357.35927442949094)\" font-family=\"sans-serif\" font-size=\"9px\" fill=\"#000\" opacity=\"1\">GCP_Correlation_score</text><text text-anchor=\"start\" transform=\"translate(507,361.1041544763019)\" font-family=\"sans-serif\" font-size=\"9px\" fill=\"#000\" opacity=\"1\">GCP_Min_Correlation_threshold</text><text text-anchor=\"start\" transform=\"translate(507,364.84903452311295)\" font-family=\"sans-serif\" font-size=\"9px\" fill=\"#000\" opacity=\"1\">GCP_Overall_Correlation_score</text><text text-anchor=\"start\" transform=\"translate(507,368.5939145699239)\" font-family=\"sans-serif\" font-size=\"9px\" fill=\"#000\" opacity=\"1\">GCP_Use_Flag</text><text text-anchor=\"start\" transform=\"translate(507,372.33879461673496)\" font-family=\"sans-serif\" font-size=\"9px\" fill=\"#000\" opacity=\"1\">GCP_Used</text><text text-anchor=\"start\" transform=\"translate(507,376.08367466354593)\" font-family=\"sans-serif\" font-size=\"9px\" fill=\"#000\" opacity=\"1\">Geocoding_RMS_Error</text><text text-anchor=\"end\" transform=\"translate(326.3333333333333,440.6828554710357)\" font-family=\"sans-serif\" font-size=\"9px\" fill=\"#000\" opacity=\"1\">PRS_L2D_HCO</text><text text-anchor=\"end\" transform=\"translate(409.66666666666663,389.19075482738447)\" font-family=\"sans-serif\" font-size=\"9px\" fill=\"#000\" opacity=\"1\">Data Fields</text><text text-anchor=\"start\" transform=\"translate(507,383.57343475716795)\" font-family=\"sans-serif\" font-size=\"9px\" fill=\"#000\" opacity=\"1\">SWIR_Cube</text><text text-anchor=\"start\" transform=\"translate(507,387.3183148039789)\" font-family=\"sans-serif\" font-size=\"9px\" fill=\"#000\" opacity=\"1\">SWIR_PIXEL_L2_ERR_MATRIX</text><text text-anchor=\"start\" transform=\"translate(507,391.06319485078996)\" font-family=\"sans-serif\" font-size=\"9px\" fill=\"#000\" opacity=\"1\">VNIR_Cube</text><text text-anchor=\"start\" transform=\"translate(507,394.80807489760093)\" font-family=\"sans-serif\" font-size=\"9px\" fill=\"#000\" opacity=\"1\">VNIR_PIXEL_L2_ERR_MATRIX</text><text text-anchor=\"end\" transform=\"translate(409.66666666666663,434.12931538911647)\" font-family=\"sans-serif\" font-size=\"9px\" fill=\"#000\" opacity=\"1\">Geocoding Model</text><text text-anchor=\"start\" transform=\"translate(507,402.29783499122294)\" font-family=\"sans-serif\" font-size=\"9px\" fill=\"#000\" opacity=\"1\">ERR_BIAS</text><text text-anchor=\"start\" transform=\"translate(507,406.0427150380339)\" font-family=\"sans-serif\" font-size=\"9px\" fill=\"#000\" opacity=\"1\">ERR_RAND</text><text text-anchor=\"start\" transform=\"translate(507,409.78759508484495)\" font-family=\"sans-serif\" font-size=\"9px\" fill=\"#000\" opacity=\"1\">HEIGHT_OFF</text><text text-anchor=\"start\" transform=\"translate(507,413.53247513165593)\" font-family=\"sans-serif\" font-size=\"9px\" fill=\"#000\" opacity=\"1\">HEIGHT_SCALE</text><text text-anchor=\"start\" transform=\"translate(507,417.27735517846696)\" font-family=\"sans-serif\" font-size=\"9px\" fill=\"#000\" opacity=\"1\">LAT_OFF</text><text text-anchor=\"start\" transform=\"translate(507,421.02223522527794)\" font-family=\"sans-serif\" font-size=\"9px\" fill=\"#000\" opacity=\"1\">LAT_SCALE</text><text text-anchor=\"start\" transform=\"translate(507,424.767115272089)\" font-family=\"sans-serif\" font-size=\"9px\" fill=\"#000\" opacity=\"1\">LINE_DEN_COEFF</text><text text-anchor=\"start\" transform=\"translate(507,428.51199531889995)\" font-family=\"sans-serif\" font-size=\"9px\" fill=\"#000\" opacity=\"1\">LINE_NUM_COEFF</text><text text-anchor=\"start\" transform=\"translate(507,432.2568753657109)\" font-family=\"sans-serif\" font-size=\"9px\" fill=\"#000\" opacity=\"1\">LINE_OFF</text><text text-anchor=\"start\" transform=\"translate(507,436.00175541252196)\" font-family=\"sans-serif\" font-size=\"9px\" fill=\"#000\" opacity=\"1\">LINE_SCALE</text><text text-anchor=\"start\" transform=\"translate(507,439.74663545933294)\" font-family=\"sans-serif\" font-size=\"9px\" fill=\"#000\" opacity=\"1\">LONG_OFF</text><text text-anchor=\"start\" transform=\"translate(507,443.49151550614397)\" font-family=\"sans-serif\" font-size=\"9px\" fill=\"#000\" opacity=\"1\">LONG_SCALE</text><text text-anchor=\"start\" transform=\"translate(507,447.23639555295495)\" font-family=\"sans-serif\" font-size=\"9px\" fill=\"#000\" opacity=\"1\">Model_ID</text><text text-anchor=\"start\" transform=\"translate(507,450.9812755997659)\" font-family=\"sans-serif\" font-size=\"9px\" fill=\"#000\" opacity=\"1\">SAMP_DEN_COEFF</text><text text-anchor=\"start\" transform=\"translate(507,454.72615564657696)\" font-family=\"sans-serif\" font-size=\"9px\" fill=\"#000\" opacity=\"1\">SAMP_NUM_COEFF</text><text text-anchor=\"start\" transform=\"translate(507,458.47103569338793)\" font-family=\"sans-serif\" font-size=\"9px\" fill=\"#000\" opacity=\"1\">SAMP_OFF</text><text text-anchor=\"start\" transform=\"translate(507,462.21591574019897)\" font-family=\"sans-serif\" font-size=\"9px\" fill=\"#000\" opacity=\"1\">SAMP_SCALE</text><text text-anchor=\"start\" transform=\"translate(507,465.96079578700994)\" font-family=\"sans-serif\" font-size=\"9px\" fill=\"#000\" opacity=\"1\">SUCCESS</text><text text-anchor=\"end\" transform=\"translate(409.66666666666663,477.19543592744293)\" font-family=\"sans-serif\" font-size=\"9px\" fill=\"#000\" opacity=\"1\">Geolocation Fields</text><text text-anchor=\"start\" transform=\"translate(507,473.45055588063195)\" font-family=\"sans-serif\" font-size=\"9px\" fill=\"#000\" opacity=\"1\">Latitude</text><text text-anchor=\"start\" transform=\"translate(507,477.19543592744293)\" font-family=\"sans-serif\" font-size=\"9px\" fill=\"#000\" opacity=\"1\">Longitude</text><text text-anchor=\"start\" transform=\"translate(507,480.94031597425396)\" font-family=\"sans-serif\" font-size=\"9px\" fill=\"#000\" opacity=\"1\">Time</text><text text-anchor=\"end\" transform=\"translate(409.66666666666663,492.17495611468695)\" font-family=\"sans-serif\" font-size=\"9px\" fill=\"#000\" opacity=\"1\">Geometric Fields</text><text text-anchor=\"start\" transform=\"translate(507,488.430076067876)\" font-family=\"sans-serif\" font-size=\"9px\" fill=\"#000\" opacity=\"1\">Observing_Angle</text><text text-anchor=\"start\" transform=\"translate(507,492.17495611468695)\" font-family=\"sans-serif\" font-size=\"9px\" fill=\"#000\" opacity=\"1\">Rel_Azimuth_Angle</text><text text-anchor=\"start\" transform=\"translate(507,495.919836161498)\" font-family=\"sans-serif\" font-size=\"9px\" fill=\"#000\" opacity=\"1\">Solar_Zenith_Angle</text><text text-anchor=\"end\" transform=\"translate(326.3333333333333,547.4119368051493)\" font-family=\"sans-serif\" font-size=\"9px\" fill=\"#000\" opacity=\"1\">PRS_L2D_PCO</text><text text-anchor=\"end\" transform=\"translate(409.66666666666663,505.2820362785255)\" font-family=\"sans-serif\" font-size=\"9px\" fill=\"#000\" opacity=\"1\">Data Fields</text><text text-anchor=\"start\" transform=\"translate(507,503.40959625511994)\" font-family=\"sans-serif\" font-size=\"9px\" fill=\"#000\" opacity=\"1\">Cube</text><text text-anchor=\"start\" transform=\"translate(507,507.15447630193097)\" font-family=\"sans-serif\" font-size=\"9px\" fill=\"#000\" opacity=\"1\">PIXEL_L2_ERR_MATRIX</text><text text-anchor=\"end\" transform=\"translate(409.66666666666663,546.4757167934465)\" font-family=\"sans-serif\" font-size=\"9px\" fill=\"#000\" opacity=\"1\">Geocoding Model</text><text text-anchor=\"start\" transform=\"translate(507,514.644236395553)\" font-family=\"sans-serif\" font-size=\"9px\" fill=\"#000\" opacity=\"1\">ERR_BIAS</text><text text-anchor=\"start\" transform=\"translate(507,518.389116442364)\" font-family=\"sans-serif\" font-size=\"9px\" fill=\"#000\" opacity=\"1\">ERR_RAND</text><text text-anchor=\"start\" transform=\"translate(507,522.1339964891749)\" font-family=\"sans-serif\" font-size=\"9px\" fill=\"#000\" opacity=\"1\">HEIGHT_OFF</text><text text-anchor=\"start\" transform=\"translate(507,525.8788765359859)\" font-family=\"sans-serif\" font-size=\"9px\" fill=\"#000\" opacity=\"1\">HEIGHT_SCALE</text><text text-anchor=\"start\" transform=\"translate(507,529.623756582797)\" font-family=\"sans-serif\" font-size=\"9px\" fill=\"#000\" opacity=\"1\">LAT_OFF</text><text text-anchor=\"start\" transform=\"translate(507,533.368636629608)\" font-family=\"sans-serif\" font-size=\"9px\" fill=\"#000\" opacity=\"1\">LAT_SCALE</text><text text-anchor=\"start\" transform=\"translate(507,537.113516676419)\" font-family=\"sans-serif\" font-size=\"9px\" fill=\"#000\" opacity=\"1\">LINE_DEN_COEFF</text><text text-anchor=\"start\" transform=\"translate(507,540.8583967232299)\" font-family=\"sans-serif\" font-size=\"9px\" fill=\"#000\" opacity=\"1\">LINE_NUM_COEFF</text><text text-anchor=\"start\" transform=\"translate(507,544.603276770041)\" font-family=\"sans-serif\" font-size=\"9px\" fill=\"#000\" opacity=\"1\">LINE_OFF</text><text text-anchor=\"start\" transform=\"translate(507,548.348156816852)\" font-family=\"sans-serif\" font-size=\"9px\" fill=\"#000\" opacity=\"1\">LINE_SCALE</text><text text-anchor=\"start\" transform=\"translate(507,552.093036863663)\" font-family=\"sans-serif\" font-size=\"9px\" fill=\"#000\" opacity=\"1\">LONG_OFF</text><text text-anchor=\"start\" transform=\"translate(507,555.837916910474)\" font-family=\"sans-serif\" font-size=\"9px\" fill=\"#000\" opacity=\"1\">LONG_SCALE</text><text text-anchor=\"start\" transform=\"translate(507,559.5827969572849)\" font-family=\"sans-serif\" font-size=\"9px\" fill=\"#000\" opacity=\"1\">Model_ID</text><text text-anchor=\"start\" transform=\"translate(507,563.327677004096)\" font-family=\"sans-serif\" font-size=\"9px\" fill=\"#000\" opacity=\"1\">SAMP_DEN_COEFF</text><text text-anchor=\"start\" transform=\"translate(507,567.072557050907)\" font-family=\"sans-serif\" font-size=\"9px\" fill=\"#000\" opacity=\"1\">SAMP_NUM_COEFF</text><text text-anchor=\"start\" transform=\"translate(507,570.817437097718)\" font-family=\"sans-serif\" font-size=\"9px\" fill=\"#000\" opacity=\"1\">SAMP_OFF</text><text text-anchor=\"start\" transform=\"translate(507,574.562317144529)\" font-family=\"sans-serif\" font-size=\"9px\" fill=\"#000\" opacity=\"1\">SAMP_SCALE</text><text text-anchor=\"start\" transform=\"translate(507,578.3071971913399)\" font-family=\"sans-serif\" font-size=\"9px\" fill=\"#000\" opacity=\"1\">SUCCESS</text><text text-anchor=\"end\" transform=\"translate(409.66666666666663,589.541837331773)\" font-family=\"sans-serif\" font-size=\"9px\" fill=\"#000\" opacity=\"1\">Geolocation Fields</text><text text-anchor=\"start\" transform=\"translate(507,585.796957284962)\" font-family=\"sans-serif\" font-size=\"9px\" fill=\"#000\" opacity=\"1\">Latitude</text><text text-anchor=\"start\" transform=\"translate(507,589.541837331773)\" font-family=\"sans-serif\" font-size=\"9px\" fill=\"#000\" opacity=\"1\">Longitude</text><text text-anchor=\"start\" transform=\"translate(507,593.286717378584)\" font-family=\"sans-serif\" font-size=\"9px\" fill=\"#000\" opacity=\"1\">Time</text><text text-anchor=\"end\" transform=\"translate(159.66666666666666,570.5833820947922)\" font-family=\"sans-serif\" font-size=\"9px\" fill=\"#000\" opacity=\"1\">HDFEOS INFORMATION</text><text text-anchor=\"start\" transform=\"translate(257,570.5833820947922)\" font-family=\"sans-serif\" font-size=\"9px\" fill=\"#000\" opacity=\"1\">HDFEOSVersion</text><text text-anchor=\"end\" transform=\"translate(159.66666666666666,729.0386190754828)\" font-family=\"sans-serif\" font-size=\"9px\" fill=\"#000\" opacity=\"1\">Info</text><text text-anchor=\"end\" transform=\"translate(243,688.7811585722645)\" font-family=\"sans-serif\" font-size=\"9px\" fill=\"#000\" opacity=\"1\">Ancillary</text><text text-anchor=\"end\" transform=\"translate(326.3333333333333,619.500877706261)\" font-family=\"sans-serif\" font-size=\"9px\" fill=\"#000\" opacity=\"1\">GyroData</text><text text-anchor=\"start\" transform=\"translate(423.66666666666663,597.0315974253949)\" font-family=\"sans-serif\" font-size=\"9px\" fill=\"#000\" opacity=\"1\">Gyro_1_data_angle</text><text text-anchor=\"start\" transform=\"translate(423.66666666666663,600.776477472206)\" font-family=\"sans-serif\" font-size=\"9px\" fill=\"#000\" opacity=\"1\">Gyro_1_data_byte</text><text text-anchor=\"start\" transform=\"translate(423.66666666666663,604.521357519017)\" font-family=\"sans-serif\" font-size=\"9px\" fill=\"#000\" opacity=\"1\">Gyro_2_data_angle</text><text text-anchor=\"start\" transform=\"translate(423.66666666666663,608.266237565828)\" font-family=\"sans-serif\" font-size=\"9px\" fill=\"#000\" opacity=\"1\">Gyro_2_data_byte</text><text text-anchor=\"start\" transform=\"translate(423.66666666666663,612.0111176126389)\" font-family=\"sans-serif\" font-size=\"9px\" fill=\"#000\" opacity=\"1\">Gyro_3_data_angle</text><text text-anchor=\"start\" transform=\"translate(423.66666666666663,615.75599765945)\" font-family=\"sans-serif\" font-size=\"9px\" fill=\"#000\" opacity=\"1\">Gyro_3_data_byte</text><text text-anchor=\"start\" transform=\"translate(423.66666666666663,619.500877706261)\" font-family=\"sans-serif\" font-size=\"9px\" fill=\"#000\" opacity=\"1\">Gyro_4_data_angle</text><text text-anchor=\"start\" transform=\"translate(423.66666666666663,623.245757753072)\" font-family=\"sans-serif\" font-size=\"9px\" fill=\"#000\" opacity=\"1\">Gyro_4_data_byte</text><text text-anchor=\"start\" transform=\"translate(423.66666666666663,626.990637799883)\" font-family=\"sans-serif\" font-size=\"9px\" fill=\"#000\" opacity=\"1\">Gyro_5_data_angle</text><text text-anchor=\"start\" transform=\"translate(423.66666666666663,630.7355178466939)\" font-family=\"sans-serif\" font-size=\"9px\" fill=\"#000\" opacity=\"1\">Gyro_5_data_byte</text><text text-anchor=\"start\" transform=\"translate(423.66666666666663,634.480397893505)\" font-family=\"sans-serif\" font-size=\"9px\" fill=\"#000\" opacity=\"1\">Gyro_6_data_angle</text><text text-anchor=\"start\" transform=\"translate(423.66666666666663,638.225277940316)\" font-family=\"sans-serif\" font-size=\"9px\" fill=\"#000\" opacity=\"1\">Gyro_6_data_byte</text><text text-anchor=\"start\" transform=\"translate(423.66666666666663,641.970157987127)\" font-family=\"sans-serif\" font-size=\"9px\" fill=\"#000\" opacity=\"1\">Star_sensors__Gyros_Data_validity</text><text text-anchor=\"end\" transform=\"translate(326.3333333333333,671.929198361615)\" font-family=\"sans-serif\" font-size=\"9px\" fill=\"#000\" opacity=\"1\">PVSdata</text><text text-anchor=\"start\" transform=\"translate(423.66666666666663,649.4599180807489)\" font-family=\"sans-serif\" font-size=\"9px\" fill=\"#000\" opacity=\"1\">AOCS_Stat</text><text text-anchor=\"start\" transform=\"translate(423.66666666666663,653.20479812756)\" font-family=\"sans-serif\" font-size=\"9px\" fill=\"#000\" opacity=\"1\">Clock_Bias</text><text text-anchor=\"start\" transform=\"translate(423.66666666666663,656.949678174371)\" font-family=\"sans-serif\" font-size=\"9px\" fill=\"#000\" opacity=\"1\">Clock_Bias_Rate</text><text text-anchor=\"start\" transform=\"translate(423.66666666666663,660.694558221182)\" font-family=\"sans-serif\" font-size=\"9px\" fill=\"#000\" opacity=\"1\">GPS_Time_of_Last_Position</text><text text-anchor=\"start\" transform=\"translate(423.66666666666663,664.439438267993)\" font-family=\"sans-serif\" font-size=\"9px\" fill=\"#000\" opacity=\"1\">Gdop</text><text text-anchor=\"start\" transform=\"translate(423.66666666666663,668.1843183148039)\" font-family=\"sans-serif\" font-size=\"9px\" fill=\"#000\" opacity=\"1\">Number_of_Satellites</text><text text-anchor=\"start\" transform=\"translate(423.66666666666663,671.929198361615)\" font-family=\"sans-serif\" font-size=\"9px\" fill=\"#000\" opacity=\"1\">Week_Number</text><text text-anchor=\"start\" transform=\"translate(423.66666666666663,675.674078408426)\" font-family=\"sans-serif\" font-size=\"9px\" fill=\"#000\" opacity=\"1\">Wgs84_pos_x</text><text text-anchor=\"start\" transform=\"translate(423.66666666666663,679.418958455237)\" font-family=\"sans-serif\" font-size=\"9px\" fill=\"#000\" opacity=\"1\">Wgs84_pos_y</text><text text-anchor=\"start\" transform=\"translate(423.66666666666663,683.163838502048)\" font-family=\"sans-serif\" font-size=\"9px\" fill=\"#000\" opacity=\"1\">Wgs84_pos_z</text><text text-anchor=\"start\" transform=\"translate(423.66666666666663,686.908718548859)\" font-family=\"sans-serif\" font-size=\"9px\" fill=\"#000\" opacity=\"1\">Wgs84_vel_x</text><text text-anchor=\"start\" transform=\"translate(423.66666666666663,690.65359859567)\" font-family=\"sans-serif\" font-size=\"9px\" fill=\"#000\" opacity=\"1\">Wgs84_vel_y</text><text text-anchor=\"start\" transform=\"translate(423.66666666666663,694.398478642481)\" font-family=\"sans-serif\" font-size=\"9px\" fill=\"#000\" opacity=\"1\">Wgs_84_vel_z</text><text text-anchor=\"end\" transform=\"translate(326.3333333333333,716.867758923347)\" font-family=\"sans-serif\" font-size=\"9px\" fill=\"#000\" opacity=\"1\">StarTracker1</text><text text-anchor=\"start\" transform=\"translate(423.66666666666663,701.888238736103)\" font-family=\"sans-serif\" font-size=\"9px\" fill=\"#000\" opacity=\"1\">NAV_APROP_EKF_values</text><text text-anchor=\"start\" transform=\"translate(423.66666666666663,705.633118782914)\" font-family=\"sans-serif\" font-size=\"9px\" fill=\"#000\" opacity=\"1\">Navigation_time</text><text text-anchor=\"start\" transform=\"translate(423.66666666666663,709.377998829725)\" font-family=\"sans-serif\" font-size=\"9px\" fill=\"#000\" opacity=\"1\">q_ECI_2_Body_1</text><text text-anchor=\"start\" transform=\"translate(423.66666666666663,713.122878876536)\" font-family=\"sans-serif\" font-size=\"9px\" fill=\"#000\" opacity=\"1\">q_ECI_2_Body_2</text><text text-anchor=\"start\" transform=\"translate(423.66666666666663,716.867758923347)\" font-family=\"sans-serif\" font-size=\"9px\" fill=\"#000\" opacity=\"1\">q_ECI_2_Body_3</text><text text-anchor=\"start\" transform=\"translate(423.66666666666663,720.612638970158)\" font-family=\"sans-serif\" font-size=\"9px\" fill=\"#000\" opacity=\"1\">q_ECI_2_Body_4</text><text text-anchor=\"start\" transform=\"translate(423.66666666666663,724.357519016969)\" font-family=\"sans-serif\" font-size=\"9px\" fill=\"#000\" opacity=\"1\">w_body_1</text><text text-anchor=\"start\" transform=\"translate(423.66666666666663,728.10239906378)\" font-family=\"sans-serif\" font-size=\"9px\" fill=\"#000\" opacity=\"1\">w_body_2</text><text text-anchor=\"start\" transform=\"translate(423.66666666666663,731.847279110591)\" font-family=\"sans-serif\" font-size=\"9px\" fill=\"#000\" opacity=\"1\">w_body_3</text><text text-anchor=\"end\" transform=\"translate(326.3333333333333,758.061439438268)\" font-family=\"sans-serif\" font-size=\"9px\" fill=\"#000\" opacity=\"1\">StarTracker2</text><text text-anchor=\"start\" transform=\"translate(423.66666666666663,739.3370392042129)\" font-family=\"sans-serif\" font-size=\"9px\" fill=\"#000\" opacity=\"1\">Attitude_status_ss</text><text text-anchor=\"start\" transform=\"translate(423.66666666666663,743.081919251024)\" font-family=\"sans-serif\" font-size=\"9px\" fill=\"#000\" opacity=\"1\">Data_valid_ss</text><text text-anchor=\"start\" transform=\"translate(423.66666666666663,746.826799297835)\" font-family=\"sans-serif\" font-size=\"9px\" fill=\"#000\" opacity=\"1\">Omega_x_ss</text><text text-anchor=\"start\" transform=\"translate(423.66666666666663,750.571679344646)\" font-family=\"sans-serif\" font-size=\"9px\" fill=\"#000\" opacity=\"1\">Omega_y_ss</text><text text-anchor=\"start\" transform=\"translate(423.66666666666663,754.316559391457)\" font-family=\"sans-serif\" font-size=\"9px\" fill=\"#000\" opacity=\"1\">Omega_z_ss</text><text text-anchor=\"start\" transform=\"translate(423.66666666666663,758.061439438268)\" font-family=\"sans-serif\" font-size=\"9px\" fill=\"#000\" opacity=\"1\">Quaternion_1_ss</text><text text-anchor=\"start\" transform=\"translate(423.66666666666663,761.806319485079)\" font-family=\"sans-serif\" font-size=\"9px\" fill=\"#000\" opacity=\"1\">Quaternion_2_ss</text><text text-anchor=\"start\" transform=\"translate(423.66666666666663,765.55119953189)\" font-family=\"sans-serif\" font-size=\"9px\" fill=\"#000\" opacity=\"1\">Quaternion_3_ss</text><text text-anchor=\"start\" transform=\"translate(423.66666666666663,769.296079578701)\" font-family=\"sans-serif\" font-size=\"9px\" fill=\"#000\" opacity=\"1\">Quaternion_4_ss</text><text text-anchor=\"start\" transform=\"translate(423.66666666666663,773.040959625512)\" font-family=\"sans-serif\" font-size=\"9px\" fill=\"#000\" opacity=\"1\">Time_day_ss</text><text text-anchor=\"start\" transform=\"translate(423.66666666666663,776.785839672323)\" font-family=\"sans-serif\" font-size=\"9px\" fill=\"#000\" opacity=\"1\">Time_msec_ss</text><text text-anchor=\"end\" transform=\"translate(243,769.296079578701)\" font-family=\"sans-serif\" font-size=\"9px\" fill=\"#000\" opacity=\"1\">Header</text><text text-anchor=\"start\" transform=\"translate(340.3333333333333,765.55119953189)\" font-family=\"sans-serif\" font-size=\"9px\" fill=\"#000\" opacity=\"1\">FrameNumber</text><text text-anchor=\"start\" transform=\"translate(340.3333333333333,769.296079578701)\" font-family=\"sans-serif\" font-size=\"9px\" fill=\"#000\" opacity=\"1\">Frame_Corrupted</text><text text-anchor=\"start\" transform=\"translate(340.3333333333333,773.040959625512)\" font-family=\"sans-serif\" font-size=\"9px\" fill=\"#000\" opacity=\"1\">Frame_Missing</text><text text-anchor=\"end\" transform=\"translate(159.66666666666666,788.020479812756)\" font-family=\"sans-serif\" font-size=\"9px\" fill=\"#000\" opacity=\"1\">KDP_AUX</text><text text-anchor=\"start\" transform=\"translate(257,776.785839672323)\" font-family=\"sans-serif\" font-size=\"9px\" fill=\"#000\" opacity=\"1\">Cw_Swir_Matrix</text><text text-anchor=\"start\" transform=\"translate(257,780.530719719134)\" font-family=\"sans-serif\" font-size=\"9px\" fill=\"#000\" opacity=\"1\">Cw_Vnir_Matrix</text><text text-anchor=\"start\" transform=\"translate(257,784.275599765945)\" font-family=\"sans-serif\" font-size=\"9px\" fill=\"#000\" opacity=\"1\">Fwhm_Swir_Matrix</text><text text-anchor=\"start\" transform=\"translate(257,788.020479812756)\" font-family=\"sans-serif\" font-size=\"9px\" fill=\"#000\" opacity=\"1\">Fwhm_Vnir_Matrix</text><text text-anchor=\"start\" transform=\"translate(257,791.765359859567)\" font-family=\"sans-serif\" font-size=\"9px\" fill=\"#000\" opacity=\"1\">LOS_Pan</text><text text-anchor=\"start\" transform=\"translate(257,795.510239906378)\" font-family=\"sans-serif\" font-size=\"9px\" fill=\"#000\" opacity=\"1\">LOS_Swir</text><text text-anchor=\"start\" transform=\"translate(257,799.255119953189)\" font-family=\"sans-serif\" font-size=\"9px\" fill=\"#000\" opacity=\"1\">LOS_Vnir</text></g></g><path class=\"foreground\" aria-hidden=\"true\" d=\"\" display=\"none\"></path></g></g></g></svg>\n"
      ],
      "text/plain": [
       "@vgplot(\n",
       "    height=800,\n",
       "    padding=1,\n",
       "    marks=[\n",
       "        {\n",
       "            encode={\n",
       "                update={\n",
       "                    stroke={\n",
       "                        value=\"#ccc\"\n",
       "                    },\n",
       "                    path={\n",
       "                        field=\"path\"\n",
       "                    }\n",
       "                }\n",
       "            },\n",
       "            from={\n",
       "                data=\"links\"\n",
       "            },\n",
       "            type=\"path\"\n",
       "        },\n",
       "        {\n",
       "            encode={\n",
       "                update={\n",
       "                    x={\n",
       "                        field=\"x\"\n",
       "                    },\n",
       "                    fill={\n",
       "                        field=\"depth\",\n",
       "                        scale=\"color\"\n",
       "                    },\n",
       "                    y={\n",
       "                        field=\"y\"\n",
       "                    }\n",
       "                },\n",
       "                enter={\n",
       "                    stroke={\n",
       "                        value=\"#fff\"\n",
       "                    },\n",
       "                    size={\n",
       "                        value=100\n",
       "                    }\n",
       "                }\n",
       "            },\n",
       "            from={\n",
       "                data=\"tree\"\n",
       "            },\n",
       "            type=\"symbol\"\n",
       "        },\n",
       "        {\n",
       "            encode={\n",
       "                update={\n",
       "                    align={\n",
       "                        signal=\"datum.children ? 'right' : 'left'\"\n",
       "                    },\n",
       "                    x={\n",
       "                        field=\"x\"\n",
       "                    },\n",
       "                    dx={\n",
       "                        signal=\"datum.children ? -7 : 7\"\n",
       "                    },\n",
       "                    opacity={\n",
       "                        signal=\"labels ? 1 : 0\"\n",
       "                    },\n",
       "                    y={\n",
       "                        field=\"y\"\n",
       "                    }\n",
       "                },\n",
       "                enter={\n",
       "                    fontSize={\n",
       "                        value=9\n",
       "                    },\n",
       "                    text={\n",
       "                        field=\"name\"\n",
       "                    },\n",
       "                    baseline={\n",
       "                        value=\"middle\"\n",
       "                    }\n",
       "                }\n",
       "            },\n",
       "            from={\n",
       "                data=\"tree\"\n",
       "            },\n",
       "            type=\"text\"\n",
       "        }\n",
       "    ],\n",
       "    data=[\n",
       "        {\n",
       "            name=\"tree\",\n",
       "            values=...,\n",
       "            transform=[\n",
       "                {\n",
       "                    key=\"id\",\n",
       "                    parentKey=\"parent\",\n",
       "                    type=\"stratify\"\n",
       "                },\n",
       "                {\n",
       "                    method={\n",
       "                        signal=\"layout\"\n",
       "                    },\n",
       "                    separation={\n",
       "                        signal=\"separation\"\n",
       "                    },\n",
       "                    as=[\n",
       "                        \"y\",\n",
       "                        \"x\",\n",
       "                        \"depth\",\n",
       "                        \"children\"\n",
       "                    ],\n",
       "                    size=[\n",
       "                        {\n",
       "                            signal=\"height\"\n",
       "                        },\n",
       "                        {\n",
       "                            signal=\"width - 100\"\n",
       "                        }\n",
       "                    ],\n",
       "                    type=\"tree\"\n",
       "                }\n",
       "            ]\n",
       "        },\n",
       "        {\n",
       "            name=\"links\",\n",
       "            source=\"tree\",\n",
       "            transform=[\n",
       "                {\n",
       "                    type=\"treelinks\"\n",
       "                },\n",
       "                {\n",
       "                    shape={\n",
       "                        signal=\"links\"\n",
       "                    },\n",
       "                    type=\"linkpath\",\n",
       "                    orient=\"horizontal\"\n",
       "                }\n",
       "            ]\n",
       "        }\n",
       "    ],\n",
       "    scales=[\n",
       "        {\n",
       "            name=\"color\",\n",
       "            zero=true,\n",
       "            range={\n",
       "                scheme=\"magma\"\n",
       "            },\n",
       "            domain={\n",
       "                data=\"tree\",\n",
       "                field=\"depth\"\n",
       "            },\n",
       "            type=\"linear\"\n",
       "        }\n",
       "    ],\n",
       "    width=600,\n",
       "    signals=[\n",
       "        {\n",
       "            name=\"labels\",\n",
       "            bind={\n",
       "                input=\"checkbox\"\n",
       "            },\n",
       "            value=true\n",
       "        },\n",
       "        {\n",
       "            name=\"layout\",\n",
       "            bind={\n",
       "                options=[\n",
       "                    \"tidy\",\n",
       "                    \"cluster\"\n",
       "                ],\n",
       "                input=\"radio\"\n",
       "            },\n",
       "            value=\"tidy\"\n",
       "        },\n",
       "        {\n",
       "            name=\"links\",\n",
       "            bind={\n",
       "                options=[\n",
       "                    \"line\",\n",
       "                    \"curve\",\n",
       "                    \"diagonal\",\n",
       "                    \"orthogonal\"\n",
       "                ],\n",
       "                input=\"select\"\n",
       "            },\n",
       "            value=\"orthogonal\"\n",
       "        },\n",
       "        {\n",
       "            name=\"separation\",\n",
       "            bind={\n",
       "                input=\"checkbox\"\n",
       "            },\n",
       "            value=true\n",
       "        }\n",
       "    ]\n",
       ")"
      ]
     },
     "execution_count": 18,
     "metadata": {},
     "output_type": "execute_result"
    }
   ],
   "source": [
    "drawTree.drawtree(mydf)\n",
    "#=todo: \n",
    "zoom?\n",
    "legenda colore<- tipo. \n",
    "    (eg: gruppi blu, attributi verde, dataset giallo, etc) \n",
    "    => aggiungi colonna al df, enum del tipo\n",
    "    => nella macro vgplot, mappa tipo a colore\n",
    "\n",
    "=#"
   ]
  },
  {
   "cell_type": "code",
   "execution_count": null,
   "metadata": {},
   "outputs": [],
   "source": []
  }
 ],
 "metadata": {
  "kernelspec": {
   "display_name": "Julia 1.5.1",
   "language": "julia",
   "name": "julia-1.5"
  },
  "language_info": {
   "file_extension": ".jl",
   "mimetype": "application/julia",
   "name": "julia",
   "version": "1.5.1"
  }
 },
 "nbformat": 4,
 "nbformat_minor": 4
}
