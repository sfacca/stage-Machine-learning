{
 "cells": [
  {
   "cell_type": "markdown",
   "metadata": {},
   "source": [
    "# Tutorial Github"
   ]
  },
  {
   "cell_type": "markdown",
   "metadata": {},
   "source": [
    "## setup windows"
   ]
  },
  {
   "cell_type": "markdown",
   "metadata": {},
   "source": [
    "1. crea account github a https://github.com/ tramite pulsante \"sign up\"\n",
    "2. scarica ed esegui installer da https://desktop.github.com/"
   ]
  },
  {
   "cell_type": "markdown",
   "metadata": {},
   "source": [
    "## gestione repo da zero"
   ]
  },
  {
   "cell_type": "markdown",
   "metadata": {},
   "source": [
    "1. dal client desktop, cliccare new\n",
    "\n",
    "       a. local path è dove la cartella (che avrà stesso nome del nome della repo) nella quale i file saranno salvati/aggiornati in locale verrà creata\n",
    "    \n",
    "       b. è usanza incluedere sempre un readme descrittivo sulla repo\n",
    "    \n",
    "       c. git ignore serve a specificare quali file/directory/tipi di file git dovrà ignorare e non controllare/caricare sulla repo (eg file temporanei generati a runtime) tramite regole blacklist, è possibile sciegliere un template a seconda del linguaggio utilizzato nella repo, è comunque poi possibile modificare le regole modificando il file .gitignore generato\n",
    "   \n",
    "2. una volta generata la repo in locale, il programma individuererà automaticamente cambiamenti della cartella locale\n",
    "\n",
    "3. si possono rendere disponibili versioni diverse della repo cliccando sul pulsante \"current branch\" e poi sciegliendo di creare un altra branch partendo dalla copia di un altra branch, cambiamenti in una branch possono poi essere scritti nella branch generatrice tramite pull\n",
    "\n",
    "4. i file cambiati in locale rispetto alla repo salvata su github sono mostrati a sinistra, per salvarli su cloud clicca su commit(a sinistra) e dopodichè su push(al centro), è possibile annotare la commit con descrizione e commenti descrivendo i cambiamenti apportati\n",
    "\n",
    "5. il tab history mostra tutti i vari commit della repo, con tutte le modifiche apportate ai file\n",
    "\n",
    "6. per verificare se i file in cloud sono più recenti di quelli in locale, pigiare su fetch origin, se fetch origin ha trovato cambiamenti lo stesso pulsante divberrà \"pull origin\" e mostrerà il numero di file da aggiornare, pigiandolo avviererà l'aggiornamento automatico dei file in locale\n",
    "\n",
    "7. si può accedere alla pagina web della repo tramite Repository \\ View on GitHub ( o ctrl + shift + G)\n",
    "\n",
    "8. per aggiungere contribuitori alla git, dalla pagina web della repo, Settings \\ Manage Access \\ Invite a collaborator  (serve nome account del collaboratore da aggiungere)\n"
   ]
  },
  {
   "cell_type": "code",
   "execution_count": null,
   "metadata": {},
   "outputs": [],
   "source": []
  },
  {
   "cell_type": "code",
   "execution_count": null,
   "metadata": {},
   "outputs": [],
   "source": []
  },
  {
   "cell_type": "code",
   "execution_count": null,
   "metadata": {},
   "outputs": [],
   "source": []
  }
 ],
 "metadata": {
  "kernelspec": {
   "display_name": "Julia 1.5.1",
   "language": "julia",
   "name": "julia-1.5"
  },
  "language_info": {
   "file_extension": ".jl",
   "mimetype": "application/julia",
   "name": "julia",
   "version": "1.5.1"
  }
 },
 "nbformat": 4,
 "nbformat_minor": 4
}
