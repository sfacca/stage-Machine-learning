{
 "cells": [
  {
   "cell_type": "markdown",
   "metadata": {},
   "source": [
    "# compiti futuri\n",
    "\n",
    "1. studiare input della macro @vgplot\n",
    "2. vedere metodi per lanciare pacchetti/lib compilate in C come funzioni di julia (per api hdf-eos5)\n",
    "3. vedere pipe |> in julia\n",
    "4. vedere presentazione \"dependency aware jupyter notebooks\" del giorno 2020/7/29 juliacon\n",
    "5. vedere binary builder.jl per usare C compilato da julia\n",
    "6. ricercare appstack tree\n",
    "7. vedere JuMP per julia\n",
    "8. vedere come creare ambiente virtuale per i notebook julia con manifest/artifact.toml e project.toml\n",
    "9. vedere \"learning latex in jupyter notebooks\" per imparare latex in jupyter\n",
    "10. convertire ogni funzione scritta in passato in un .jl a parte\n",
    "11. mettere apposto organizzazione repo rispetto a struttura dei pkg julia\n",
    "12. vedere package compiler.jl\n",
    "13. vedere AST di julia\n",
    "14. vedere linux alpine?\n",
    "15. tipi parametrici in julia"
   ]
  },
  {
   "cell_type": "code",
   "execution_count": null,
   "metadata": {},
   "outputs": [],
   "source": []
  }
 ],
 "metadata": {
  "kernelspec": {
   "display_name": "Julia 1.5.1",
   "language": "julia",
   "name": "julia-1.5"
  },
  "language_info": {
   "file_extension": ".jl",
   "mimetype": "application/julia",
   "name": "julia",
   "version": "1.5.1"
  }
 },
 "nbformat": 4,
 "nbformat_minor": 4
}
