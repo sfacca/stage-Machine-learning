{
 "cells": [
  {
   "cell_type": "markdown",
   "metadata": {},
   "source": [
    "# Compiti futuri\n",
    "\n",
    "1. continuare tutorial github\n",
    "14. vedere linux alpine? [anche no per ora GS]"
   ]
  },
  {
   "cell_type": "markdown",
   "metadata": {},
   "source": [
    "### Julia\n",
    "\n",
    "1. ricercare appstack tree\n",
    "1. vedere pipe |> in julia\n",
    "7. vedere JuMP per julia\n",
    "13. vedere AST di julia\n",
    "12. vedere package compiler.jl\n",
    "15. tipi parametrici in julia\n",
    "5. vedere binary builder.jl per usare C compilato da julia\n",
    "4. vedere presentazione \"dependency aware jupyter notebooks\" del giorno 2020/7/29 juliacon\n",
    "2. vedere metodi per lanciare pacchetti/lib compilate in C come funzioni di julia (per api hdf-eos5)"
   ]
  },
  {
   "cell_type": "markdown",
   "metadata": {},
   "source": [
    "### Organizzazione\n",
    "\n",
    "1. convertire ogni funzione scritta in passato in un .jl a parte\n",
    "11. mettere apposto organizzazione repo rispetto a struttura dei pkg julia\n",
    "16. fare readme.md della repo meglio, più esplicativo\n",
    "17. portare tutti gli using in un ambiente virtuale comune a tutti i notebook?"
   ]
  },
  {
   "cell_type": "code",
   "execution_count": null,
   "metadata": {},
   "outputs": [],
   "source": []
  }
 ],
 "metadata": {
  "kernelspec": {
   "display_name": "Julia 1.5.1",
   "language": "julia",
   "name": "julia-1.5"
  },
  "language_info": {
   "file_extension": ".jl",
   "mimetype": "application/julia",
   "name": "julia",
   "version": "1.5.1"
  }
 },
 "nbformat": 4,
 "nbformat_minor": 4
}
