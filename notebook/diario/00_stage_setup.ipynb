{
 "cells": [
  {
   "cell_type": "markdown",
   "metadata": {},
   "source": [
    "# Machine learning for satellite imagery, land cover and biodiversity spatio-temporal datasets"
   ]
  },
  {
   "cell_type": "markdown",
   "metadata": {},
   "source": [
    "2020-09-01\n",
    "\n",
    "Gianluca Salogni"
   ]
  },
  {
   "cell_type": "markdown",
   "metadata": {},
   "source": [
    "## Roadmap"
   ]
  },
  {
   "cell_type": "markdown",
   "metadata": {},
   "source": [
    "from $ \\emptyset $ to *progressive learning*..."
   ]
  },
  {
   "cell_type": "markdown",
   "metadata": {},
   "source": [
    "**Metodo**\n",
    "\n",
    "0. mailto (fatto salvo quando sei in ufficio) gianluca.salogni@regione.veneto.it: quando inizi, nelle pause pranzo (inizio-fine), quando termini;\n",
    "\n",
    "\n",
    "1. **ogni mattina**, il primo quarto d'ora, fai una lista di 6 compiti progressivi (vedi sotto) da portare a termine nella giornata e girala via mail a me;\n",
    "\n",
    "\n",
    "2. **ogni sera**, un'ora prima di terminare, segnala quali compiti hai portato a termine e di questi:\n",
    "    \n",
    "    a. i problemi che hai incontrato e come li hai risolti o come intendi risolverli\n",
    "    \n",
    "    b. i risultati che ritieni importanti\n",
    "    \n",
    "    c. le difficoltà-perplessità che ti rimangono\n",
    "    \n",
    "    d. le necessità future\n",
    "    \n",
    "    e. mail + jupyter[?], altro [Pluto.jl]\n",
    "    \n",
    "\n",
    "3. confronto fra noi e soluzioni che proporremo"
   ]
  },
  {
   "cell_type": "markdown",
   "metadata": {},
   "source": [
    "### First month [aggregated but explodable] tasks"
   ]
  },
  {
   "cell_type": "markdown",
   "metadata": {},
   "source": [
    "... *not by relevance-logical order*"
   ]
  },
  {
   "cell_type": "markdown",
   "metadata": {},
   "source": [
    "- Setup a basic development environment (julia, python, R, VS Code, Docker) + minimal reproducible tutorial\n",
    "\n",
    "\n",
    "- First steps in julia through julia academy (https://juliaacademy.com/ : a. _introduction to julia_; b. _julia for data science_; **c.** **not this month** [questi sono costituiti da più lezioni segnalare regolarmente dove sei arrivato])\n",
    "\n",
    "\n",
    "- stage github repository + minimal reproducible tutorial\n",
    "\n",
    "\n",
    "- [? python, R, C-C++, java from julia]\n",
    "\n",
    "\n",
    "- tex-latex setup and reporting + minimal reproducible tutorial (https://github.com/sisl/tufte_algorithms_book)\n",
    "\n",
    "\n",
    "- Prisma satellite specs: ongoing study and information exchange"
   ]
  },
  {
   "cell_type": "markdown",
   "metadata": {},
   "source": [
    "### II month [aggregated but explodable] tasks"
   ]
  },
  {
   "cell_type": "markdown",
   "metadata": {},
   "source": [
    "- First month unresolved tasks\n",
    "\n",
    "\n",
    "- DataFrame.jl + julia academy DataFrame\n",
    "\n",
    "\n",
    "- plots and graphs\n",
    "\n",
    "\n",
    "- [? StatsKit.jl]\n",
    "\n",
    "\n",
    "- Queryverse.jl + Electron\n",
    "\n",
    "\n",
    "- matrices, tensors and graphs\n",
    "\n",
    "\n",
    "- HDF5.jl\n",
    "\n",
    "\n",
    "- from R to julia :: Applied Hierarchical Modeling in Ecology: Analysis of distribution, abundance and species richness in R and BUGS"
   ]
  },
  {
   "cell_type": "markdown",
   "metadata": {},
   "source": [
    "### Some hints"
   ]
  },
  {
   "cell_type": "markdown",
   "metadata": {},
   "source": [
    "- segnalami sempre le tue necessità\n",
    "\n",
    "\n",
    "- fai tutte le domande che ti vengano in mente\n",
    "\n",
    "\n",
    "- se arriviamo a vedere come strutturare una rete per il progressive learning dipende anche da te: **è un obiettivo ambizioso**"
   ]
  },
  {
   "cell_type": "markdown",
   "metadata": {},
   "source": []
  },
  {
   "cell_type": "code",
   "execution_count": null,
   "metadata": {},
   "outputs": [],
   "source": []
  }
 ],
 "metadata": {
  "kernelspec": {
   "display_name": "Julia 1.4.1",
   "language": "julia",
   "name": "julia-1.4"
  },
  "language_info": {
   "file_extension": ".jl",
   "mimetype": "application/julia",
   "name": "julia",
   "version": "1.4.1"
  }
 },
 "nbformat": 4,
 "nbformat_minor": 4
}
