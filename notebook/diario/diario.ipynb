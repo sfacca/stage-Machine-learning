{
 "cells": [
  {
   "cell_type": "markdown",
   "metadata": {},
   "source": [
    "    Compiti FATTO sono terminati, compiti INIZIATO sono iniziati ma non terminati, compiti NON FATTO non sono neanche stati iniziati (quel giorno)"
   ]
  },
  {
   "cell_type": "markdown",
   "metadata": {},
   "source": [
    "### Giorno 10/9/2020\n",
    "Inizio: 14:47  \n",
    "Compiti:  \n",
    "\n",
    "1.  fare tutorial su lezione julia for data science/statistics\n",
    "2.  convertire mail in diario\n",
    "3.  aggiornare tutorial su fare tutorial\n",
    "4.  fare tutorial su come fare commit a repo git\n",
    "5.  fare struct list esplicativa\n",
    "6.  inizia lezione julia for data science/Dimensionality Reduction\n",
    "\n",
    "Fine  19:42  \n",
    "Stato compiti:  \n",
    "\n",
    "1.  fare tutorial su lezione julia for data science/statistics FATTO\n",
    "2.  convertire mail in diario FATTO\n",
    "3.  aggiornare tutorial su fare tutorial FATTO\n",
    "4.  fare tutorial su come fare commit a repo git FATTO\n",
    "5.  fare struct list esplicativa INIZIATO*\n",
    "6.  inizia lezione julia for data science/Dimensionality Reduction NON FATTO \n",
    "\n",
    "\\+ iniziato documento compiti futuri\n",
    "\n",
    "\\* Julia non ha i puntatori\n"
   ]
  },
  {
   "cell_type": "markdown",
   "metadata": {},
   "source": [
    "### Giorno 9 sett  \n",
    "Inizio 11:37  \n",
    "Compiti:  \n",
    "\n",
    "1. finire lezione linear algebra  \n",
    "2. fare tutorial/demo su lezione data  \n",
    "3. fare tutorial/demo su lezione linear algebra  \n",
    "4. rivedere fattorizzazioni/proprietà matrici  \n",
    "5. fare lezione statistics  \n",
    "6. fare tutorial/demo su lezione statistics  \n",
    "\n",
    "Pausa pranzo: 14:00 - 15:02  \n",
    "\n",
    "Fine 18:43  \n",
    "Stato compiti:  \n",
    "\n",
    "1. finire lezione linear algebra  FATTO\n",
    "2. fare tutorial/demo su lezione data  FATTO\n",
    "3. fare tutorial/demo su lezione linear algebra  FATTO\n",
    "4. rivedere fattorizzazioni/proprietà matrici  FATTO\n",
    "5. fare lezione statistics  FATTO\n",
    "6. fare tutorial/demo su lezione statistics  NON FATTO   \n",
    "\n",
    "\\+ aggiunto il diagramma ad albero al riassunto delle caratteristiche hdf5\n"
   ]
  },
  {
   "cell_type": "markdown",
   "metadata": {},
   "source": [
    "### Giorno 8 sett \n",
    "Inizio 11:07  \n",
    "Compiti:  \n",
    "\n",
    "1. continuare a vedere manipolazione hdf5 via julia\n",
    "2. scrivere un piccolo script che legga un hdf5 e ne descriva le parti\n",
    "3. iniziare corso julia for data science\n",
    "\n",
    "Pausa pranzo: 13:03 - 14:07\n",
    "\n",
    "Fine:  18:34   \n",
    "Stato compiti:  \n",
    "\n",
    "1. continuare a vedere manipolazione hdf5 via julia FATTO\n",
    "2. scrivere un piccolo script che legga un hdf5 e ne descriva le parti FATTO\n",
    "3. iniziare corso julia for data science INIZIATO"
   ]
  },
  {
   "cell_type": "markdown",
   "metadata": {},
   "source": [
    "### Giorno 7 sett     \n",
    "Inizio 10:04\n",
    "Compiti:\n",
    "\n",
    "1. studio struttura dati prisma/hdf5\n",
    "2. approfondimento sui tools per dati hdf\n",
    "3. capire come si fanno i grafi ad albero in latex/notebook\n",
    "\n",
    "Pausa pranzo: 12:45 - 13:45\n",
    "\n",
    "Fine: 17:49  \n",
    "Stato compiti: \n",
    "\n",
    "1. studio struttura dati prisma/hdf5 FATTO\n",
    "2. approfondimento sui tools per dati hdf FATTO\n",
    "3. capire come si fanno i grafi ad albero in latex/notebook INIZIATO  \n",
    "\n",
    "\\+ iniziato a vedere pkg hdf5.jl ( https://github.com/JuliaIO/HDF5.jl ) per file hdf5 in julia"
   ]
  },
  {
   "cell_type": "markdown",
   "metadata": {},
   "source": [
    "### Giorno  4  sett \n",
    "Inizio 10:08   \n",
    "Compiti:\n",
    "\n",
    "1. finire julia academy/ introduction to julia\n",
    "2. tutorial esplicativi concetti imparati\n",
    "3. studio struttura dati prisma/hdf5\n",
    "\n",
    "\n",
    "Pausa pranzo: 1254-1343\n",
    "\n",
    "Fine:  1922\n",
    "Stato compiti: \n",
    "\n",
    "1. finire julia academy/ introduction to julia FATTO\n",
    "2. tutorial esplicativi concetti imparati FATTO\n",
    "3. studio struttura dati prisma/hdf5 INIZIATO\n"
   ]
  },
  {
   "cell_type": "markdown",
   "metadata": {},
   "source": [
    "### Giorno 3 sett  \n",
    "Inizio 1420  \n",
    "Compiti:  \n",
    "\n",
    "1. imparare a fare tutorial in jupyter notebook\n",
    "2. creazione repo github per lo stage\n",
    "3. tutorial crezione git, commit su git da git desktop\n",
    "4. tutorial installazione julia, R, python, vs code, anaconda, docker\n",
    "5. inizio corso julia academy / introduction to julia    \n",
    "    \n",
    "Fine: 1932  \n",
    "Stato compiti:  \n",
    "\n",
    "1. imparare a fare tutorial in jupyter notebook FATTO\n",
    "2. creazione repo github per lo stage FATTO\n",
    "3. tutorial crezione git, commit su git da git desktop FATTO\n",
    "4. tutorial installazione julia, R, python, vs code, anaconda, docker FATTO\n",
    "5. inizio corso julia academy / introduction to julia INIZIATO"
   ]
  },
  {
   "cell_type": "code",
   "execution_count": null,
   "metadata": {},
   "outputs": [],
   "source": []
  }
 ],
 "metadata": {
  "kernelspec": {
   "display_name": "Python 3",
   "language": "python",
   "name": "python3"
  },
  "language_info": {
   "codemirror_mode": {
    "name": "ipython",
    "version": 3
   },
   "file_extension": ".py",
   "mimetype": "text/x-python",
   "name": "python",
   "nbconvert_exporter": "python",
   "pygments_lexer": "ipython3",
   "version": "3.8.3"
  }
 },
 "nbformat": 4,
 "nbformat_minor": 4
}
