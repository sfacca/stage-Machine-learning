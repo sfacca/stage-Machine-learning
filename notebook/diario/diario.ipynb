{
 "cells": [
  {
   "cell_type": "markdown",
   "metadata": {},
   "source": [
    "Giorno 10/9/2020\n",
    "Inizio: 14:47  \n",
    "Compiti:  \n",
    "1.  fare tutorial su lezione julia for data science/statistics\n",
    "2.  convertire mail in diario\n",
    "3.  aggiornare tutorial su fare tutorial\n",
    "4.  fare tutorial su come fare commit a repo git\n",
    "5.  fare struct list esplicativa\n",
    "6.  \n"
   ]
  },
  {
   "cell_type": "code",
   "execution_count": null,
   "metadata": {},
   "outputs": [],
   "source": []
  }
 ],
 "metadata": {
  "kernelspec": {
   "display_name": "Python 3",
   "language": "python",
   "name": "python3"
  },
  "language_info": {
   "codemirror_mode": {
    "name": "ipython",
    "version": 3
   },
   "file_extension": ".py",
   "mimetype": "text/x-python",
   "name": "python",
   "nbconvert_exporter": "python",
   "pygments_lexer": "ipython3",
   "version": "3.8.3"
  }
 },
 "nbformat": 4,
 "nbformat_minor": 4
}
