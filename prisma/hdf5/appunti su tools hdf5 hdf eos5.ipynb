{
 "cells": [
  {
   "cell_type": "markdown",
   "metadata": {},
   "source": [
    "scaricare hdf view richiede acco gratuito per i download\n",
    "\n",
    "+ link manuale prisma obsoleti? https://wiki.earthdata.nasa.gov/display/DAS/Toolkit+Downloads  \n",
    "\n",
    "+ **prisma usa librerie hdf-eos5 v1.13, hdf-eos5 è ora a versione 1.16**  \n",
    "\n",
    "+ esempio di mmap su hdf5(non hdf-eos5) con julia https://github.com/JuliaIO/HDF5.jl/blob/master/test/mmap.jl  \n",
    "\n",
    "+ immagine docker per hdf eos lib https://hub.docker.com/r/hdfeos/hdfeos  \n",
    "\n",
    "+ sdp toolkit: https://wiki.earthdata.nasa.gov/display/DAS/SDP+Toolkit+and+HDF-EOS+EOSDIS++Core+System+Project  \n",
    "\n",
    "+ tutorial (in c) https://portal.hdfgroup.org/display/HDF5/Learning+the+Basics\n",
    "\n",
    "+ hdfview: tool da https://support.hdfgroup.org/ftp/HDF5/releases/HDF-JAVA/hdf-java-2.10.1/bin/ (plugin non sembra funzionare con versione più recente)\n",
    "  plugin per hdf-eos da https://wiki.earthdata.nasa.gov/display/DAS/HDFView+HDF-EOS+Plug-in    \n",
    "  guida installazione: https://newsroom.gsfc.nasa.gov/sdptoolkit/HDFView/README_HDFView_plugin_v2.10.html    \n",
    "  \n",
    "+ documentazione pkg hdf5 https://juliaio.github.io/HDF5.jl/stable/  \n",
    "\n",
    "+ esempi manipulaz hdf5 in julia https://www.juliabloggers.com/hdf5-in-julia/  \n",
    "\n",
    "+ pkg R per importare dati prisma l1/l2 https://lbusett.github.io/prismaread/  \n",
    "+ https://portal.hdfgroup.org/display/support/HDF5%201.12.0"
   ]
  },
  {
   "cell_type": "code",
   "execution_count": 174,
   "metadata": {},
   "outputs": [],
   "source": [
    "#=include(\"../../code/julia/hdf5 tree.jl\")\n",
    "include(\"../../code/julia/HDF5filesDict.jl\")\n",
    "include(\"../../code/julia/printHDF.jl\")\n",
    "include(\"../../code/julia/drawTree.jl\")\n",
    "using HDF5\n",
    "using DataFrames\n",
    "# docu package hdf5 per julia https://juliaio.github.io/HDF5.jl/stable/\n",
    "# using Pkg\n",
    "# pkg.add(\"HDF5\")=#"
   ]
  },
  {
   "cell_type": "code",
   "execution_count": 175,
   "metadata": {},
   "outputs": [],
   "source": [
    "#errori posson lasciare aperti file-> file inseriti in struct dinamica per poi esser facilmente chiusi tutti\n",
    "#openfiles = HDF5fd.filesDict()\n",
    "# funzione che chiude tutti i file aperti"
   ]
  },
  {
   "cell_type": "code",
   "execution_count": 176,
   "metadata": {},
   "outputs": [],
   "source": [
    "#=testfile=\"data/PRS_L2D_STD_20200627102334_20200627102339_0001.he5\"\n",
    "file = HDF5fd.open(openfiles,testfile,\"r\")\n",
    "#printHDF.viewfile(file)\n",
    "mytree = HDF5Tree.viewfileTree(file)\n",
    "mydf, counter = HDF5Tree.treeToDf(mytree)\n",
    "HDF5fd.closeall(openfiles)=#"
   ]
  },
  {
   "cell_type": "code",
   "execution_count": 177,
   "metadata": {},
   "outputs": [],
   "source": [
    "#drawTree.drawtree(mydf)"
   ]
  },
  {
   "cell_type": "markdown",
   "metadata": {},
   "source": [
    "**vedi demo notebook/tutorial/demo hdf5tree**"
   ]
  },
  {
   "cell_type": "markdown",
   "metadata": {},
   "source": [
    "apertura file con h5open(filename::string, mode::string) -> file   \n",
    "mode:  \n",
    "\n",
    "| mode | Meaning |\n",
    "|---|---|\n",
    "|\"r\"|read-only|\n",
    "|\"r+\"|read-write, preserving any existing contents|\n",
    "|\"cw\"|read-write, create file if not existing, preserve existing contents|\n",
    "|\"w\"|read-write, destroying any existing contents (if any)|"
   ]
  },
  {
   "cell_type": "markdown",
   "metadata": {},
   "source": [
    "## R\n",
    "~~ https://shekeine.github.io/modis/2014/08/27/HDF_to_multi-band_geotiff ~~\n",
    "\n",
    "~~ https://hakimabdi.com/blog/working-with-hdf-eos-files-in-r-convert-project-and-mosaicù ~~\n",
    "\n",
    "~~ installa gdalUtils package~~  \n",
    "~~installa gdalUtilities package~~"
   ]
  },
  {
   "cell_type": "markdown",
   "metadata": {},
   "source": [
    "https://github.com/lbusett/prismaread  \n",
    "1. apri Rstudio\n",
    "2. installa pacchetto remotes\n",
    "3. remotes::install_github(\"lbusett/prismaread\", ref = \"v1.0.0\")\n",
    "4. (potrebbe dover installare rtools vari)\n",
    "5. Failed to install\n",
    " 1. pkgbuild::check_build_tools(debug = TRUE)\n",
    " 2. install.packages(\"exactextractr\")\n",
    " 3. riprova \n",
    "6. remotes::install_github(\"lbusett/prismaread\", ref = \"v1.0.0\")\n",
    "7. cannot remove prior installation of package ‘glue’\n",
    " 1. chiudi tutti i file aperti\n",
    " 2. clear objects from the workspace\n",
    " 3. riavvia Rstudio\n",
    " 4. riprova\n",
    "8. remotes::install_github(\"lbusett/prismaread\", ref = \"v1.0.0\")\n",
    "9. library(prismaread)"
   ]
  },
  {
   "cell_type": "markdown",
   "metadata": {},
   "source": [
    "istruzioni per importare prisma l2: https://lbusett.github.io/prismaread/articles/Importing-Level-2-Data.html  \n"
   ]
  },
  {
   "cell_type": "markdown",
   "metadata": {},
   "source": [
    "## pr_convert  \n",
    "script per convertire, tramite R, file del prisma in geotiff  \n",
    "https://github.com/lbusett/prismaread/blob/master/R/pr_convert.R  \n",
    "1. controlla input + apre file(tramite hdf5r::H5File)  \n",
    "1. prende attributi (direttamente con svz da hdf5r*, cosa fattibile anche da jl con hdf5.jl):   \n",
    "Processing_Level: può avere valori 2b, 1, 2c      \n",
    "List_Cw_Vnir: (in ordine) = List of 66 Central Wavelenghs (nm) for the VNIR channel (Copied from L1 input product)\n",
    "List_Cw_Swir: (in ordine) = List of 173 Central Wavelenghs (nm) for the\n",
    "SWIR channel (Copied from\n",
    "L1 input product)  \n",
    "List_Fwhm_Vnir: (nell'ordine delle wvl vnir) List of 66 band amplitude for the\n",
    "VNIR channel (Copied from L1\n",
    "input product)    \n",
    "List_Fwhm_Swir: (nell'ordine delle wvl swir) List of 173 band amplitude for the\n",
    "SWIR channel (Copied from L1\n",
    "input product)  \n",
    "Sun_zenith_angle: Sun Zenith angle of the central\n",
    "pixel of the image\n",
    "Copied from L1 input product   \n",
    "Sun_azimuth_angle: Sun azimuth angle of the central\n",
    "pixel of the image\n",
    "Copied from L1 input product  \n",
    "Product_StartTime: UTC time of the first valid frame stored\n",
    "in the product   \n",
    "(descriz attributi da manuale prisma pg ~190+)\n",
    "2. combina array wvl centrali (vnir)visible near infrared+(swir)short-wave infrared\n",
    "3. combina array ampiezze banda vnir+swir  \n",
    "4. se flag indexes/col indexes di input sono settate(param interni settati da chiamate iterative?):\n",
    " 1. warning se Processing_Level non è 1 o 2b  \n",
    " 2. prende numero indici e nome indici da file locale (presente in cartella extfile del pacchetto, origine=?) \n",
    " 3. prende indici(nomi) \n",
    "\n",
    "\n",
    "\n",
    "\\* https://cran.r-project.org/web/packages/hdf5r/index.html"
   ]
  },
  {
   "cell_type": "markdown",
   "metadata": {},
   "source": [
    "## hdf5r\n",
    "https://hhoeflin.github.io/hdf5r/"
   ]
  },
  {
   "cell_type": "markdown",
   "metadata": {},
   "source": [
    "### pr_create_vnir\n",
    "\n",
    "crea raster stack?"
   ]
  },
  {
   "cell_type": "markdown",
   "metadata": {},
   "source": [
    "### pr_make_atcor"
   ]
  },
  {
   "cell_type": "code",
   "execution_count": null,
   "metadata": {},
   "outputs": [],
   "source": []
  }
 ],
 "metadata": {
  "kernelspec": {
   "display_name": "Julia 1.5.1",
   "language": "julia",
   "name": "julia-1.5"
  },
  "language_info": {
   "file_extension": ".jl",
   "mimetype": "application/julia",
   "name": "julia",
   "version": "1.5.1"
  }
 },
 "nbformat": 4,
 "nbformat_minor": 4
}
