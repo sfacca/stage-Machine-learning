{
 "cells": [
  {
   "cell_type": "code",
   "execution_count": 30,
   "metadata": {},
   "outputs": [
    {
     "data": {
      "text/plain": [
       "closeall (generic function with 1 method)"
      ]
     },
     "execution_count": 30,
     "metadata": {},
     "output_type": "execute_result"
    }
   ],
   "source": [
    "#include(\"../../code/julia/hdfeos_convert.jl\")\n",
    "include(\"../../code/julia/hdf5 tree.jl\")\n",
    "include(\"../../code/julia/HDF5filesDict.jl\")\n",
    "include(\"../../code/julia/printHDF.jl\")\n",
    "include(\"../../code/julia/drawTree.jl\")\n",
    "closeall = HDF5fd.closeall"
   ]
  },
  {
   "cell_type": "code",
   "execution_count": 31,
   "metadata": {},
   "outputs": [
    {
     "data": {
      "text/plain": [
       "Main.hdfeos"
      ]
     },
     "execution_count": 31,
     "metadata": {},
     "output_type": "execute_result"
    }
   ],
   "source": [
    "include(\"../../code/julia/hdfeos.jl\")"
   ]
  },
  {
   "cell_type": "code",
   "execution_count": 40,
   "metadata": {},
   "outputs": [
    {
     "name": "stderr",
     "output_type": "stream",
     "text": [
      "WARNING: replacing module faux.\n"
     ]
    },
    {
     "data": {
      "text/plain": [
       "Main.faux"
      ]
     },
     "execution_count": 40,
     "metadata": {},
     "output_type": "execute_result"
    }
   ],
   "source": [
    "include(\"../../code/julia/faux.jl\")\n",
    "const getAttr = faux.getAttr"
   ]
  },
  {
   "cell_type": "code",
   "execution_count": 113,
   "metadata": {},
   "outputs": [
    {
     "name": "stderr",
     "output_type": "stream",
     "text": [
      "WARNING: replacing module eos_create.\n"
     ]
    },
    {
     "data": {
      "text/plain": [
       "Main.eos_create"
      ]
     },
     "execution_count": 113,
     "metadata": {},
     "output_type": "execute_result"
    }
   ],
   "source": [
    "include(\"../../code/julia/eos_create.jl\")"
   ]
  },
  {
   "cell_type": "code",
   "execution_count": 34,
   "metadata": {},
   "outputs": [
    {
     "data": {
      "text/plain": [
       "Main.HDF5fd.filesDict(Dict{Any,Any}(), 0)"
      ]
     },
     "execution_count": 34,
     "metadata": {},
     "output_type": "execute_result"
    }
   ],
   "source": [
    "openfiles = HDF5fd.filesDict()\n"
   ]
  },
  {
   "cell_type": "markdown",
   "metadata": {},
   "source": [
    "* https://github.com/lbusett/prismaread/blob/master/R/pr_convert.R"
   ]
  },
  {
   "cell_type": "code",
   "execution_count": 37,
   "metadata": {},
   "outputs": [
    {
     "data": {
      "text/plain": [
       "HDF5 data file: data/PRS_L2D_STD_20200627102334_20200627102339_0001.he5"
      ]
     },
     "execution_count": 37,
     "metadata": {},
     "output_type": "execute_result"
    }
   ],
   "source": [
    "\n",
    "f=\"data/PRS_L2D_STD_20200627102334_20200627102339_0001.he5\"\n",
    "in_file = HDF5fd.open(openfiles,f,\"r\")\n",
    "\n",
    "\n"
   ]
  },
  {
   "cell_type": "code",
   "execution_count": 45,
   "metadata": {},
   "outputs": [],
   "source": [
    "\n",
    "#setup\n",
    "proc_lev = getAttr(in_file, \"Processing_Level\")\n",
    "wl_vnir = getAttr(in_file, \"List_Cw_Vnir\")\n",
    "wl_swir = getAttr(in_file, \"List_Cw_Swir\")\n",
    "fwhm_vnir = getAttr(in_file, \"List_Fwhm_Vnir\")\n",
    "fwhm_swir = getAttr(in_file, \"List_Fwhm_Swir\")\n",
    "# get additional metadata\n",
    "sunzen  = getAttr(in_file, \"Sun_zenith_angle\")\n",
    "sunaz  = getAttr(in_file, \"Sun_azimuth_angle\")\n",
    "acqtime  = getAttr(in_file, \"Product_StartTime\")\n",
    "\n",
    "# riordinazioni\n",
    "order_vnir = sortperm(wl_vnir)# permut\n",
    "wl_vnir = wl_vnir[order_vnir]    \n",
    "order_swir = sortperm(wl_swir)\n",
    "wl_swir = wl_swir[order_swir]      \n",
    "fwhm_vnir = fwhm_vnir[order_vnir]    \n",
    "fwhm_swir = fwhm_swir[order_swir]\n",
    "# join\n",
    "fwhms = vcat(fwhm_vnir, fwhm_swir)\n",
    "wls = vcat(wl_vnir, wl_swir);"
   ]
  },
  {
   "cell_type": "code",
   "execution_count": 109,
   "metadata": {},
   "outputs": [
    {
     "name": "stdout",
     "output_type": "stream",
     "text": [
      "####### create_cube start #########\n",
      "eos_create_VNIR\n",
      "processing level: 2D\n",
      "prendo cubo da HDF5 data file: data/PRS_L2D_STD_20200627102334_20200627102339_0001.he5 HDFEOS/SWATHS/PRS_L2D_HCO/Data Fields/VNIR_Cube\n",
      "prendo vnir\n",
      "no selbands, prendo tutto\n",
      "Band: 1 not present\n",
      "Band: 2 not present\n",
      "Band: 3 not present\n",
      "Importing Band: 4 (402.30698) of: 1:66\n",
      "first band is cube\n",
      "Importing Band: 5 (411.18665) of: 1:66\n",
      "appending band to cube\n",
      "cube has (1235, 1209, 2) dims\n",
      "Importing Band: 6 (419.25522) of: 1:66\n",
      "appending band to cube\n",
      "cube has (1235, 1209, 3) dims\n",
      "Importing Band: 7 (426.85532) of: 1:66\n",
      "appending band to cube\n",
      "cube has (1235, 1209, 4) dims\n",
      "Importing Band: 8 (434.19843) of: 1:66\n",
      "appending band to cube\n",
      "cube has (1235, 1209, 5) dims\n",
      "Importing Band: 9 (441.5481) of: 1:66\n",
      "appending band to cube\n",
      "cube has (1235, 1209, 6) dims\n",
      "Importing Band: 10 (448.92273) of: 1:66\n",
      "appending band to cube\n",
      "cube has (1235, 1209, 7) dims\n",
      "Importing Band: 11 (456.2667) of: 1:66\n",
      "appending band to cube\n",
      "cube has (1235, 1209, 8) dims\n",
      "Importing Band: 12 (463.61877) of: 1:66\n",
      "appending band to cube\n",
      "cube has (1235, 1209, 9) dims\n",
      "Importing Band: 13 (470.8365) of: 1:66\n",
      "appending band to cube\n",
      "cube has (1235, 1209, 10) dims\n",
      "Importing Band: 14 (478.0636) of: 1:66\n",
      "appending band to cube\n",
      "cube has (1235, 1209, 11) dims\n",
      "Importing Band: 15 (485.2955) of: 1:66\n",
      "appending band to cube\n",
      "cube has (1235, 1209, 12) dims\n",
      "Importing Band: 16 (492.58875) of: 1:66\n",
      "appending band to cube\n",
      "cube has (1235, 1209, 13) dims\n",
      "Importing Band: 17 (500.0243) of: 1:66\n",
      "appending band to cube\n",
      "cube has (1235, 1209, 14) dims\n",
      "Importing Band: 18 (507.54922) of: 1:66\n",
      "appending band to cube\n",
      "cube has (1235, 1209, 15) dims\n",
      "Importing Band: 19 (515.06354) of: 1:66\n",
      "appending band to cube\n",
      "cube has (1235, 1209, 16) dims\n",
      "Importing Band: 20 (522.80164) of: 1:66\n",
      "appending band to cube\n",
      "cube has (1235, 1209, 17) dims\n",
      "Importing Band: 21 (530.55286) of: 1:66\n",
      "appending band to cube\n",
      "cube has (1235, 1209, 18) dims\n",
      "Importing Band: 22 (538.37146) of: 1:66\n",
      "appending band to cube\n",
      "cube has (1235, 1209, 19) dims\n",
      "Importing Band: 23 (546.3602) of: 1:66\n",
      "appending band to cube\n",
      "cube has (1235, 1209, 20) dims\n",
      "Importing Band: 24 (554.4424) of: 1:66\n",
      "appending band to cube\n",
      "cube has (1235, 1209, 21) dims\n",
      "Importing Band: 25 (562.61285) of: 1:66\n",
      "appending band to cube\n",
      "cube has (1235, 1209, 22) dims\n",
      "Importing Band: 26 (570.87744) of: 1:66\n",
      "appending band to cube\n",
      "cube has (1235, 1209, 23) dims\n",
      "Importing Band: 27 (579.22534) of: 1:66\n",
      "appending band to cube\n",
      "cube has (1235, 1209, 24) dims\n",
      "Importing Band: 28 (587.69464) of: 1:66\n",
      "appending band to cube\n",
      "cube has (1235, 1209, 25) dims\n",
      "Importing Band: 29 (596.34344) of: 1:66\n",
      "appending band to cube\n",
      "cube has (1235, 1209, 26) dims\n",
      "Importing Band: 30 (605.25635) of: 1:66\n",
      "appending band to cube\n",
      "cube has (1235, 1209, 27) dims\n",
      "Importing Band: 31 (614.0397) of: 1:66\n",
      "appending band to cube\n",
      "cube has (1235, 1209, 28) dims\n",
      "Importing Band: 32 (623.06067) of: 1:66\n",
      "appending band to cube\n",
      "cube has (1235, 1209, 29) dims\n",
      "Importing Band: 33 (631.9994) of: 1:66\n",
      "appending band to cube\n",
      "cube has (1235, 1209, 30) dims\n",
      "Importing Band: 34 (641.1912) of: 1:66\n",
      "appending band to cube\n",
      "cube has (1235, 1209, 31) dims\n",
      "Importing Band: 35 (650.6488) of: 1:66\n",
      "appending band to cube\n",
      "cube has (1235, 1209, 32) dims\n",
      "Importing Band: 36 (660.12164) of: 1:66\n",
      "appending band to cube\n",
      "cube has (1235, 1209, 33) dims\n",
      "Importing Band: 37 (669.6728) of: 1:66\n",
      "appending band to cube\n",
      "cube has (1235, 1209, 34) dims\n",
      "Importing Band: 38 (679.32697) of: 1:66\n",
      "appending band to cube\n",
      "cube has (1235, 1209, 35) dims\n",
      "Importing Band: 39 (689.27) of: 1:66\n",
      "appending band to cube\n",
      "cube has (1235, 1209, 36) dims\n",
      "Importing Band: 40 (698.95276) of: 1:66\n",
      "appending band to cube\n",
      "cube has (1235, 1209, 37) dims\n",
      "Importing Band: 41 (708.84326) of: 1:66\n",
      "appending band to cube\n",
      "cube has (1235, 1209, 38) dims\n",
      "Importing Band: 42 (719.0215) of: 1:66\n",
      "appending band to cube\n",
      "cube has (1235, 1209, 39) dims\n",
      "Importing Band: 43 (729.0935) of: 1:66\n",
      "appending band to cube\n",
      "cube has (1235, 1209, 40) dims\n",
      "Importing Band: 44 (739.2641) of: 1:66\n",
      "appending band to cube\n",
      "cube has (1235, 1209, 41) dims\n",
      "Importing Band: 45 (749.5765) of: 1:66\n",
      "appending band to cube\n",
      "cube has (1235, 1209, 42) dims\n",
      "Importing Band: 46 (759.94037) of: 1:66\n",
      "appending band to cube\n",
      "cube has (1235, 1209, 43) dims\n",
      "Importing Band: 47 (770.3736) of: 1:66\n",
      "appending band to cube\n",
      "cube has (1235, 1209, 44) dims\n",
      "Importing Band: 48 (780.75714) of: 1:66\n",
      "appending band to cube\n",
      "cube has (1235, 1209, 45) dims\n",
      "Importing Band: 49 (791.2043) of: 1:66\n",
      "appending band to cube\n",
      "cube has (1235, 1209, 46) dims\n",
      "Importing Band: 50 (801.77826) of: 1:66\n",
      "appending band to cube\n",
      "cube has (1235, 1209, 47) dims\n",
      "Importing Band: 51 (812.3819) of: 1:66\n",
      "appending band to cube\n",
      "cube has (1235, 1209, 48) dims\n",
      "Importing Band: 52 (822.98755) of: 1:66\n",
      "appending band to cube\n",
      "cube has (1235, 1209, 49) dims\n",
      "Importing Band: 53 (833.593) of: 1:66\n",
      "appending band to cube\n",
      "cube has (1235, 1209, 50) dims\n",
      "Importing Band: 54 (844.26776) of: 1:66\n",
      "appending band to cube\n",
      "cube has (1235, 1209, 51) dims\n",
      "Importing Band: 55 (855.02203) of: 1:66\n",
      "appending band to cube\n",
      "cube has (1235, 1209, 52) dims\n",
      "Importing Band: 56 (865.789) of: 1:66\n",
      "appending band to cube\n",
      "cube has (1235, 1209, 53) dims\n",
      "Importing Band: 57 (876.4779) of: 1:66\n",
      "appending band to cube\n",
      "cube has (1235, 1209, 54) dims\n",
      "Importing Band: 58 (887.10297) of: 1:66\n",
      "appending band to cube\n",
      "cube has (1235, 1209, 55) dims\n",
      "Importing Band: 59 (897.8235) of: 1:66\n",
      "appending band to cube\n",
      "cube has (1235, 1209, 56) dims\n",
      "Importing Band: 60 (908.48267) of: 1:66\n",
      "appending band to cube\n",
      "cube has (1235, 1209, 57) dims\n",
      "Importing Band: 61 (919.018) of: 1:66\n",
      "appending band to cube\n",
      "cube has (1235, 1209, 58) dims\n",
      "Importing Band: 62 (929.23267) of: 1:66\n",
      "appending band to cube\n",
      "cube has (1235, 1209, 59) dims\n",
      "Importing Band: 63 (939.7026) of: 1:66\n",
      "appending band to cube\n",
      "cube has (1235, 1209, 60) dims\n",
      "Importing Band: 64 (951.18774) of: 1:66\n",
      "appending band to cube\n",
      "cube has (1235, 1209, 61) dims\n",
      "Importing Band: 65 (962.1076) of: 1:66\n",
      "appending band to cube\n",
      "cube has (1235, 1209, 62) dims\n",
      "Importing Band: 66 (972.4814) of: 1:66\n",
      "appending band to cube\n",
      "cube has (1235, 1209, 63) dims\n",
      "- Writing raster -\n",
      "getting geoloc info\n",
      "building geotranform array\n",
      "geotransform array: [687262.5, 29.9757080078125, 0.0, 5.0376775e6, 0.0, -29.9757080078125]\n",
      "building coordinate reference system string\n",
      "crs: PROJCS[\"WGS 84 / UTM zone 32N\",GEOGCS[\"WGS 84\",DATUM[\"WGS_1984\",SPHEROID[\"WGS 84\",6378137,298.257223563,AUTHORITY[\"EPSG\",\"7030\"]],AUTHORITY[\"EPSG\",\"6326\"]],PRIMEM[\"Greenwich\",0,AUTHORITY[\"EPSG\",\"8901\"]],UNIT[\"degree\",0.0174532925199433,AUTHORITY[\"EPSG\",\"9122\"]],AUTHORITY[\"EPSG\",\"4326\"]],PROJECTION[\"Transverse_Mercator\"],PARAMETER[\"latitude_of_origin\",0],PARAMETER[\"central_meridian\",9],PARAMETER[\"scale_factor\",0.9996],PARAMETER[\"false_easting\",500000],PARAMETER[\"false_northing\",0],UNIT[\"metre\",1,AUTHORITY[\"EPSG\",\"9001\"]],AXIS[\"Easting\",EAST],AXIS[\"Northing\",NORTH],AUTHORITY[\"EPSG\",\"32632\"]]\n",
      "preparing to write tiff\n",
      "writing bands in  empty tiff\n",
      "finished writing bands\n",
      "setting geotransform\n",
      "setting crs string\n",
      "finished writing on out/prove_create_1.tif\n",
      "seqbands: [1, 2, 3, 4, 5, 6, 7, 8, 9, 10, 11, 12, 13, 14, 15, 16, 17, 18, 19, 20, 21, 22, 23, 24, 25, 26, 27, 28, 29, 30, 31, 32, 33, 34, 35, 36, 37, 38, 39, 40, 41, 42, 43, 44, 45, 46, 47, 48, 49, 50, 51, 52, 53, 54, 55, 56, 57, 58, 59, 60, 61, 62, 63, 64, 65, 66]\n",
      "creating and writing dataframe of selected bands with wavelengths and bandwidths\n",
      "####### create_cube end #########\n"
     ]
    }
   ],
   "source": [
    "eos_create.create_cube(in_file,proc_lev,\"HCO\",\"out/prove_create_2\",wl_vnir,order_vnir,fwhm_vnir)"
   ]
  },
  {
   "cell_type": "code",
   "execution_count": 115,
   "metadata": {},
   "outputs": [
    {
     "name": "stdout",
     "output_type": "stream",
     "text": [
      "####### create_cube start #########\n",
      "eos_create_SWIR\n",
      "processing level: 2D\n",
      "prendo cubo da HDF5 data file: data/PRS_L2D_STD_20200627102334_20200627102339_0001.he5 HDFEOS/SWATHS/PRS_L2D_HCO/Data Fields/SWIR_Cube\n",
      "prendo swir\n",
      "no selbands, prendo tutto\n",
      "Band: 1 not present\n",
      "Band: 2 not present\n",
      "Importing Band: 3 (942.9125) of: 1:173\n",
      "Importing Band: 4 (950.9671) of: 1:173\n",
      "Importing Band: 5 (959.4708) of: 1:173\n",
      "Importing Band: 6 (969.3384) of: 1:173\n",
      "Importing Band: 7 (978.68256) of: 1:173\n",
      "Importing Band: 8 (988.3542) of: 1:173\n",
      "Importing Band: 9 (998.3145) of: 1:173\n",
      "Importing Band: 10 (1008.11426) of: 1:173\n",
      "Importing Band: 11 (1017.92206) of: 1:173\n",
      "Importing Band: 12 (1028.7452) of: 1:173\n",
      "Importing Band: 13 (1037.7394) of: 1:173\n",
      "Importing Band: 14 (1047.4034) of: 1:173\n",
      "Importing Band: 15 (1057.3585) of: 1:173\n",
      "Importing Band: 16 (1067.589) of: 1:173\n",
      "Importing Band: 17 (1078.019) of: 1:173\n",
      "Importing Band: 18 (1088.5704) of: 1:173\n",
      "Importing Band: 19 (1099.0891) of: 1:173\n",
      "Importing Band: 20 (1109.724) of: 1:173\n",
      "Importing Band: 21 (1120.4741) of: 1:173\n",
      "Importing Band: 22 (1131.1246) of: 1:173\n",
      "Importing Band: 23 (1141.8513) of: 1:173\n",
      "Importing Band: 24 (1152.4513) of: 1:173\n",
      "Importing Band: 25 (1163.4624) of: 1:173\n",
      "Importing Band: 26 (1174.5045) of: 1:173\n",
      "Importing Band: 27 (1185.3763) of: 1:173\n",
      "Importing Band: 28 (1196.1561) of: 1:173\n",
      "Importing Band: 29 (1207.0968) of: 1:173\n",
      "Importing Band: 30 (1217.6769) of: 1:173\n",
      "Importing Band: 31 (1228.9778) of: 1:173\n",
      "Importing Band: 32 (1240.039) of: 1:173\n",
      "Importing Band: 33 (1250.7747) of: 1:173\n",
      "Importing Band: 34 (1262.3119) of: 1:173\n",
      "Importing Band: 35 (1273.2849) of: 1:173\n",
      "Importing Band: 36 (1284.256) of: 1:173\n",
      "Importing Band: 37 (1295.1713) of: 1:173\n",
      "Importing Band: 38 (1306.028) of: 1:173\n",
      "Importing Band: 39 (1316.9906) of: 1:173\n",
      "Importing Band: 40 (1328.0659) of: 1:173\n",
      "Importing Band: 41 (1338.9255) of: 1:173\n",
      "Importing Band: 42 (1349.5776) of: 1:173\n",
      "Importing Band: 43 (1360.8188) of: 1:173\n",
      "Importing Band: 44 (1372.6971) of: 1:173\n",
      "Importing Band: 45 (1382.9774) of: 1:173\n",
      "Importing Band: 46 (1394.4984) of: 1:173\n",
      "Importing Band: 47 (1405.3613) of: 1:173\n",
      "Importing Band: 48 (1416.2845) of: 1:173\n",
      "Importing Band: 49 (1427.0751) of: 1:173\n",
      "Importing Band: 50 (1438.1364) of: 1:173\n",
      "Importing Band: 51 (1448.8906) of: 1:173\n",
      "Importing Band: 52 (1459.0394) of: 1:173\n",
      "Importing Band: 53 (1469.6742) of: 1:173\n",
      "Importing Band: 54 (1480.595) of: 1:173\n",
      "Importing Band: 55 (1491.1715) of: 1:173\n",
      "Importing Band: 56 (1501.7516) of: 1:173\n",
      "Importing Band: 57 (1512.3888) of: 1:173\n",
      "Importing Band: 58 (1522.9829) of: 1:173\n",
      "Importing Band: 59 (1533.5404) of: 1:173\n",
      "Importing Band: 60 (1544.0078) of: 1:173\n",
      "Importing Band: 61 (1554.5532) of: 1:173\n",
      "Importing Band: 62 (1565.0934) of: 1:173\n",
      "Importing Band: 63 (1575.3665) of: 1:173\n",
      "Importing Band: 64 (1585.6056) of: 1:173\n",
      "Importing Band: 65 (1595.9495) of: 1:173\n",
      "Importing Band: 66 (1606.2151) of: 1:173\n",
      "Importing Band: 67 (1616.5557) of: 1:173\n",
      "Importing Band: 68 (1626.7543) of: 1:173\n",
      "Importing Band: 69 (1636.8278) of: 1:173\n",
      "Importing Band: 70 (1646.9432) of: 1:173\n",
      "Importing Band: 71 (1656.7543) of: 1:173\n",
      "Importing Band: 72 (1666.9418) of: 1:173\n",
      "Importing Band: 73 (1677.1025) of: 1:173\n",
      "Importing Band: 74 (1687.1427) of: 1:173\n",
      "Importing Band: 75 (1696.9769) of: 1:173\n",
      "Importing Band: 76 (1706.775) of: 1:173\n",
      "Importing Band: 77 (1716.5677) of: 1:173\n",
      "Importing Band: 78 (1726.4131) of: 1:173\n",
      "Importing Band: 79 (1736.2291) of: 1:173\n",
      "Importing Band: 80 (1745.8966) of: 1:173\n",
      "Importing Band: 81 (1755.5168) of: 1:173\n",
      "Importing Band: 82 (1765.2238) of: 1:173\n",
      "Importing Band: 83 (1774.8856) of: 1:173\n",
      "Importing Band: 84 (1784.4108) of: 1:173\n",
      "Importing Band: 85 (1793.659) of: 1:173\n",
      "Importing Band: 86 (1803.3405) of: 1:173\n",
      "Importing Band: 87 (1812.7944) of: 1:173\n",
      "Importing Band: 88 (1822.1156) of: 1:173\n",
      "Importing Band: 89 (1831.7087) of: 1:173\n",
      "Importing Band: 90 (1841.0182) of: 1:173\n",
      "Importing Band: 91 (1850.2476) of: 1:173\n",
      "Importing Band: 92 (1859.2682) of: 1:173\n",
      "Importing Band: 93 (1868.0004) of: 1:173\n",
      "Importing Band: 94 (1878.4316) of: 1:173\n",
      "Importing Band: 95 (1886.7803) of: 1:173\n",
      "Importing Band: 96 (1895.8186) of: 1:173\n",
      "Importing Band: 97 (1904.5936) of: 1:173\n",
      "Importing Band: 98 (1914.0193) of: 1:173\n",
      "Importing Band: 99 (1923.0553) of: 1:173\n",
      "Importing Band: 100 (1931.9612) of: 1:173\n",
      "Importing Band: 101 (1940.799) of: 1:173\n",
      "Importing Band: 102 (1949.6094) of: 1:173\n",
      "Importing Band: 103 (1958.3417) of: 1:173\n",
      "Importing Band: 104 (1967.0269) of: 1:173\n",
      "Importing Band: 105 (1975.7551) of: 1:173\n",
      "Importing Band: 106 (1984.5131) of: 1:173\n",
      "Importing Band: 107 (1993.2593) of: 1:173\n",
      "Importing Band: 108 (2001.8124) of: 1:173\n",
      "Importing Band: 109 (2010.3817) of: 1:173\n",
      "Importing Band: 110 (2019.0186) of: 1:173\n",
      "Importing Band: 111 (2027.4476) of: 1:173\n",
      "Importing Band: 112 (2035.9652) of: 1:173\n",
      "Importing Band: 113 (2044.393) of: 1:173\n",
      "Importing Band: 114 (2052.7288) of: 1:173\n",
      "Importing Band: 115 (2061.1108) of: 1:173\n",
      "Importing Band: 116 (2069.5098) of: 1:173\n",
      "Importing Band: 117 (2077.7244) of: 1:173\n",
      "Importing Band: 118 (2086.0688) of: 1:173\n",
      "Importing Band: 119 (2094.383) of: 1:173\n",
      "Importing Band: 120 (2102.517) of: 1:173\n",
      "Importing Band: 121 (2110.7913) of: 1:173\n",
      "Importing Band: 122 (2118.924) of: 1:173\n",
      "Importing Band: 123 (2127.0664) of: 1:173\n",
      "Importing Band: 124 (2135.204) of: 1:173\n",
      "Importing Band: 125 (2143.1985) of: 1:173\n",
      "Importing Band: 126 (2151.0962) of: 1:173\n",
      "Importing Band: 127 (2159.2566) of: 1:173\n",
      "Importing Band: 128 (2167.2263) of: 1:173\n",
      "Importing Band: 129 (2175.0403) of: 1:173\n",
      "Importing Band: 130 (2183.1565) of: 1:173\n",
      "Importing Band: 131 (2190.8054) of: 1:173\n",
      "Importing Band: 132 (2198.859) of: 1:173\n",
      "Importing Band: 133 (2206.5698) of: 1:173\n",
      "Importing Band: 134 (2214.3093) of: 1:173\n",
      "Importing Band: 135 (2222.1665) of: 1:173\n",
      "Importing Band: 136 (2229.7244) of: 1:173\n",
      "Importing Band: 137 (2237.6187) of: 1:173\n",
      "Importing Band: 138 (2245.187) of: 1:173\n",
      "Importing Band: 139 (2252.8188) of: 1:173\n",
      "Importing Band: 140 (2260.6008) of: 1:173\n",
      "Importing Band: 141 (2268.0142) of: 1:173\n",
      "Importing Band: 142 (2275.7373) of: 1:173\n",
      "Importing Band: 143 (2283.2505) of: 1:173\n",
      "Importing Band: 144 (2290.5444) of: 1:173\n",
      "Importing Band: 145 (2298.3037) of: 1:173\n",
      "Importing Band: 146 (2305.477) of: 1:173\n",
      "Importing Band: 147 (2312.8794) of: 1:173\n",
      "Importing Band: 148 (2320.6113) of: 1:173\n",
      "Importing Band: 149 (2327.5823) of: 1:173\n",
      "Importing Band: 150 (2335.2031) of: 1:173\n",
      "Importing Band: 151 (2342.5625) of: 1:173\n",
      "Importing Band: 152 (2349.5508) of: 1:173\n",
      "Importing Band: 153 (2356.9917) of: 1:173\n",
      "Importing Band: 154 (2364.3455) of: 1:173\n",
      "Importing Band: 155 (2371.312) of: 1:173\n",
      "Importing Band: 156 (2378.4797) of: 1:173\n",
      "Importing Band: 157 (2385.7798) of: 1:173\n",
      "Importing Band: 158 (2392.8196) of: 1:173\n",
      "Importing Band: 159 (2399.7744) of: 1:173\n",
      "Importing Band: 160 (2407.3086) of: 1:173\n",
      "Importing Band: 161 (2414.1338) of: 1:173\n",
      "Importing Band: 162 (2420.959) of: 1:173\n",
      "Importing Band: 163 (2428.3699) of: 1:173\n",
      "Importing Band: 164 (2435.3022) of: 1:173\n",
      "Importing Band: 165 (2442.1633) of: 1:173\n",
      "Importing Band: 166 (2448.8987) of: 1:173\n",
      "Importing Band: 167 (2456.3005) of: 1:173\n",
      "Importing Band: 168 (2462.7883) of: 1:173\n",
      "Importing Band: 169 (2469.3916) of: 1:173\n",
      "Importing Band: 170 (2476.7615) of: 1:173\n",
      "Importing Band: 171 (2483.5676) of: 1:173\n",
      "Importing Band: 172 (2490.0066) of: 1:173\n",
      "Importing Band: 173 (2496.8467) of: 1:173\n",
      "cube has (1235, 1209, 171) dims\n",
      "- Writing raster -\n",
      "getting geoloc info\n",
      "building geotranform array\n",
      "building coordinate reference system string\n",
      "crs: PROJCS[\"WGS 84 / UTM zone 32N\",GEOGCS[\"WGS 84\",DATUM[\"WGS_1984\",SPHEROID[\"WGS 84\",6378137,298.257223563,AUTHORITY[\"EPSG\",\"7030\"]],AUTHORITY[\"EPSG\",\"6326\"]],PRIMEM[\"Greenwich\",0,AUTHORITY[\"EPSG\",\"8901\"]],UNIT[\"degree\",0.0174532925199433,AUTHORITY[\"EPSG\",\"9122\"]],AUTHORITY[\"EPSG\",\"4326\"]],PROJECTION[\"Transverse_Mercator\"],PARAMETER[\"latitude_of_origin\",0],PARAMETER[\"central_meridian\",9],PARAMETER[\"scale_factor\",0.9996],PARAMETER[\"false_easting\",500000],PARAMETER[\"false_northing\",0],UNIT[\"metre\",1,AUTHORITY[\"EPSG\",\"9001\"]],AXIS[\"Easting\",EAST],AXIS[\"Northing\",NORTH],AUTHORITY[\"EPSG\",\"32632\"]]\n",
      "preparing to write tiff\n",
      "writing bands in  empty tiff\n",
      "finished writing bands\n",
      "setting geotransform\n",
      "setting crs string\n"
     ]
    },
    {
     "name": "stdout",
     "output_type": "stream",
     "text": [
      "finished writing on out/prove_create_2_SWIR.tif\n",
      "creating and writing dataframe of selected bands with wavelengths and bandwidths\n",
      "####### create_cube end #########\n"
     ]
    }
   ],
   "source": [
    "eos_create.create_cube(in_file,proc_lev,\"HCO\",\"out/prove_create_2\",wl_swir,order_swir,fwhm_swir,\"SWIR\")"
   ]
  },
  {
   "cell_type": "code",
   "execution_count": null,
   "metadata": {},
   "outputs": [],
   "source": [
    "#=\n",
    "(\n",
    "        f,\n",
    "        proc_lev,\n",
    "        source,#string [\"HC0\" | \"HRC\"], Considered Data Cub\n",
    "        out_file,\n",
    "        wl,#NB: ORDERED wl = raw_wvl[order]\n",
    "        order,\n",
    "        fwhm,#NB: riordinate con ordine order\n",
    "        ERR_MATRIX=nothing,\n",
    "        type=\"VNIR\",\n",
    "        apply_errmatrix=false,\n",
    "        selbands = NULL,\n",
    "        in_L2_file = NULL\n",
    "        )#string = [ VNIR , SWIR ]\n",
    "=#"
   ]
  },
  {
   "cell_type": "code",
   "execution_count": 112,
   "metadata": {},
   "outputs": [
    {
     "data": {
      "text/latex": [
       "No documentation found.\n",
       "\n",
       "\\texttt{Main.eos\\_create.create\\_cube} is a \\texttt{Function}.\n",
       "\n",
       "\\begin{verbatim}\n",
       "# 6 methods for generic function \"create_cube\":\n",
       "[1] create_cube(f, proc_lev, source, out_file, wl, order, fwhm) in Main.eos_create at C:\\Users\\i am\\Documents\\GitHub\\stage-Machine-learning\\code\\julia\\eos_create.jl:20\n",
       "[2] create_cube(f, proc_lev, source, out_file, wl, order, fwhm, ERR_MATRIX) in Main.eos_create at C:\\Users\\i am\\Documents\\GitHub\\stage-Machine-learning\\code\\julia\\eos_create.jl:20\n",
       "[3] create_cube(f, proc_lev, source, out_file, wl, order, fwhm, ERR_MATRIX, type) in Main.eos_create at C:\\Users\\i am\\Documents\\GitHub\\stage-Machine-learning\\code\\julia\\eos_create.jl:20\n",
       "[4] create_cube(f, proc_lev, source, out_file, wl, order, fwhm, ERR_MATRIX, type, apply_errmatrix) in Main.eos_create at C:\\Users\\i am\\Documents\\GitHub\\stage-Machine-learning\\code\\julia\\eos_create.jl:20\n",
       "[5] create_cube(f, proc_lev, source, out_file, wl, order, fwhm, ERR_MATRIX, type, apply_errmatrix, selbands) in Main.eos_create at C:\\Users\\i am\\Documents\\GitHub\\stage-Machine-learning\\code\\julia\\eos_create.jl:20\n",
       "[6] create_cube(f, proc_lev, source, out_file, wl, order, fwhm, ERR_MATRIX, type, apply_errmatrix, selbands, in_L2_file) in Main.eos_create at C:\\Users\\i am\\Documents\\GitHub\\stage-Machine-learning\\code\\julia\\eos_create.jl:20\n",
       "\\end{verbatim}\n"
      ],
      "text/markdown": [
       "No documentation found.\n",
       "\n",
       "`Main.eos_create.create_cube` is a `Function`.\n",
       "\n",
       "```\n",
       "# 6 methods for generic function \"create_cube\":\n",
       "[1] create_cube(f, proc_lev, source, out_file, wl, order, fwhm) in Main.eos_create at C:\\Users\\i am\\Documents\\GitHub\\stage-Machine-learning\\code\\julia\\eos_create.jl:20\n",
       "[2] create_cube(f, proc_lev, source, out_file, wl, order, fwhm, ERR_MATRIX) in Main.eos_create at C:\\Users\\i am\\Documents\\GitHub\\stage-Machine-learning\\code\\julia\\eos_create.jl:20\n",
       "[3] create_cube(f, proc_lev, source, out_file, wl, order, fwhm, ERR_MATRIX, type) in Main.eos_create at C:\\Users\\i am\\Documents\\GitHub\\stage-Machine-learning\\code\\julia\\eos_create.jl:20\n",
       "[4] create_cube(f, proc_lev, source, out_file, wl, order, fwhm, ERR_MATRIX, type, apply_errmatrix) in Main.eos_create at C:\\Users\\i am\\Documents\\GitHub\\stage-Machine-learning\\code\\julia\\eos_create.jl:20\n",
       "[5] create_cube(f, proc_lev, source, out_file, wl, order, fwhm, ERR_MATRIX, type, apply_errmatrix, selbands) in Main.eos_create at C:\\Users\\i am\\Documents\\GitHub\\stage-Machine-learning\\code\\julia\\eos_create.jl:20\n",
       "[6] create_cube(f, proc_lev, source, out_file, wl, order, fwhm, ERR_MATRIX, type, apply_errmatrix, selbands, in_L2_file) in Main.eos_create at C:\\Users\\i am\\Documents\\GitHub\\stage-Machine-learning\\code\\julia\\eos_create.jl:20\n",
       "```\n"
      ],
      "text/plain": [
       "  No documentation found.\n",
       "\n",
       "  \u001b[36mMain.eos_create.create_cube\u001b[39m is a \u001b[36mFunction\u001b[39m.\n",
       "\n",
       "\u001b[36m  # 6 methods for generic function \"create_cube\":\u001b[39m\n",
       "\u001b[36m  [1] create_cube(f, proc_lev, source, out_file, wl, order, fwhm) in Main.eos_create at C:\\Users\\i am\\Documents\\GitHub\\stage-Machine-learning\\code\\julia\\eos_create.jl:20\u001b[39m\n",
       "\u001b[36m  [2] create_cube(f, proc_lev, source, out_file, wl, order, fwhm, ERR_MATRIX) in Main.eos_create at C:\\Users\\i am\\Documents\\GitHub\\stage-Machine-learning\\code\\julia\\eos_create.jl:20\u001b[39m\n",
       "\u001b[36m  [3] create_cube(f, proc_lev, source, out_file, wl, order, fwhm, ERR_MATRIX, type) in Main.eos_create at C:\\Users\\i am\\Documents\\GitHub\\stage-Machine-learning\\code\\julia\\eos_create.jl:20\u001b[39m\n",
       "\u001b[36m  [4] create_cube(f, proc_lev, source, out_file, wl, order, fwhm, ERR_MATRIX, type, apply_errmatrix) in Main.eos_create at C:\\Users\\i am\\Documents\\GitHub\\stage-Machine-learning\\code\\julia\\eos_create.jl:20\u001b[39m\n",
       "\u001b[36m  [5] create_cube(f, proc_lev, source, out_file, wl, order, fwhm, ERR_MATRIX, type, apply_errmatrix, selbands) in Main.eos_create at C:\\Users\\i am\\Documents\\GitHub\\stage-Machine-learning\\code\\julia\\eos_create.jl:20\u001b[39m\n",
       "\u001b[36m  [6] create_cube(f, proc_lev, source, out_file, wl, order, fwhm, ERR_MATRIX, type, apply_errmatrix, selbands, in_L2_file) in Main.eos_create at C:\\Users\\i am\\Documents\\GitHub\\stage-Machine-learning\\code\\julia\\eos_create.jl:20\u001b[39m"
      ]
     },
     "execution_count": 112,
     "metadata": {},
     "output_type": "execute_result"
    }
   ],
   "source": [
    "?eos_create.create_cube"
   ]
  },
  {
   "cell_type": "code",
   "execution_count": 36,
   "metadata": {},
   "outputs": [
    {
     "name": "stdout",
     "output_type": "stream",
     "text": [
      "chiuso 1 file\n"
     ]
    }
   ],
   "source": [
    "closeall(openfiles)"
   ]
  },
  {
   "cell_type": "code",
   "execution_count": 101,
   "metadata": {},
   "outputs": [
    {
     "data": {
      "text/plain": [
       "Any[]"
      ]
     },
     "execution_count": 101,
     "metadata": {},
     "output_type": "execute_result"
    }
   ],
   "source": [
    "res = []"
   ]
  },
  {
   "cell_type": "code",
   "execution_count": null,
   "metadata": {},
   "outputs": [],
   "source": [
    "a=[1,2,3,4,5]\n",
    "b=[6,7,8,9]\n",
    "c=[a...,b...]"
   ]
  },
  {
   "cell_type": "code",
   "execution_count": null,
   "metadata": {},
   "outputs": [],
   "source": [
    "c=vcat(a,b)"
   ]
  },
  {
   "cell_type": "code",
   "execution_count": null,
   "metadata": {},
   "outputs": [],
   "source": [
    "function tryIf(x)\n",
    "    if x in [1,2,3,\"asd\",false]\n",
    "        println(\"$x ok\")\n",
    "        else \n",
    "        println(\"$x non ok\")\n",
    "    end\n",
    "    \n",
    "end"
   ]
  },
  {
   "cell_type": "code",
   "execution_count": null,
   "metadata": {},
   "outputs": [],
   "source": [
    "x = \"ciao\"\n",
    "tryIf(1)\n",
    "tryIf(\"asd\")\n",
    "tryIf(\"kmkgnmg\")"
   ]
  },
  {
   "cell_type": "code",
   "execution_count": null,
   "metadata": {
    "scrolled": false
   },
   "outputs": [],
   "source": [
    "using CSV\n",
    "using DataFrames\n",
    "mkpath(\"downloads/\")\n",
    "download(\"https://github.com/sfacca/stage-Machine-learning/raw/master/extdata/md_indexes_list.txt\",\"downloads/indexes_list.txt\")\n",
    "index_list = CSV.read(\"downloads/indexes_list.txt\")\n",
    "\n",
    "select!(index_list, Not(:id))\n",
    "names(index_list)"
   ]
  },
  {
   "cell_type": "code",
   "execution_count": null,
   "metadata": {},
   "outputs": [],
   "source": [
    "index_list[:Formula]"
   ]
  },
  {
   "cell_type": "code",
   "execution_count": null,
   "metadata": {},
   "outputs": [],
   "source": [
    "using CSV\n",
    "using DataFrames\n",
    "using LinearAlgebra\n",
    "using DataFramesMeta\n",
    "#=mkpath(\"downloads\")\n",
    "download(\"https://github.com/sfacca/stage-Machine-learning/raw/master/extdata/md_indexes_list.txt\",\"downloads/indexes_list.txt\")\n",
    "=#\n",
    "index_list = CSV.read(\"downloads/indexes_list.txt\")\n",
    "select!(index_list, Not(:id))\n",
    "\n",
    "av_indexes= select(index_list, [:Name,:Formula])\n",
    "indexes = [\"ARI\",\"BGI\",\"BRI\"]\n",
    "sel_indexes = filter(row -> row.Name ∈ indexes, av_indexes)\n",
    "av_indexes\n"
   ]
  },
  {
   "cell_type": "code",
   "execution_count": null,
   "metadata": {},
   "outputs": [],
   "source": [
    "# get additional metadata\n",
    "    sunzen  = hdfeos.getAttr(file, \"Sun_zenith_angle\")\n",
    "    sunaz  = hdfeos.getAttr(file, \"Sun_azimuth_angle\")\n",
    "    acqtime  = hdfeos.getAttr(file, \"Product_StartTime\")\n",
    "\n",
    "ang_df = DataFrame(date = acqtime),sunzen = sunzen,sunaz = sunaz)\n",
    "CSV.write(\"out/ang_df.ang\",ang_df,delim=' ',quotechar='\"',quotestrings=true)"
   ]
  },
  {
   "cell_type": "code",
   "execution_count": null,
   "metadata": {},
   "outputs": [],
   "source": [
    "string(\"asd\",\"fgh\",\"_asd\")"
   ]
  },
  {
   "cell_type": "code",
   "execution_count": null,
   "metadata": {},
   "outputs": [],
   "source": [
    "function extractWvl(str::String)#prende stringa, ritorna array di numeri\n",
    "  currnum = 0\n",
    "  res::Array{Int,1} = []\n",
    "  intc = ['1','2','3','4','5','6','7','8','9','0']\n",
    "  afterR = false\n",
    "  for char in str\n",
    "    if afterR\n",
    "      if char in intc\n",
    "        currnum = currnum*10\n",
    "        currnum = currnum + parse(Int,char)             \n",
    "                \n",
    "      else\n",
    "        push!(res,currnum)\n",
    "        currnum=0\n",
    "        afterR = false\n",
    "      end    \n",
    "    end\n",
    "    if char == 'R'\n",
    "      afterR = true\n",
    "    end\n",
    "  end\n",
    "  push!(res,currnum)  \n",
    "  res\n",
    "end"
   ]
  },
  {
   "cell_type": "code",
   "execution_count": null,
   "metadata": {},
   "outputs": [],
   "source": [
    "req_wls = sort(unique(vcat(extractWvl.(av_indexes[:Formula])...)))"
   ]
  },
  {
   "cell_type": "code",
   "execution_count": null,
   "metadata": {},
   "outputs": [],
   "source": [
    "wl_vnir = rand(Float64,66)\n",
    "#1 prendiamo elem req_wls >= maximum(wl_vnir)\n",
    "sel_vnir = filter(item -> item <= maximum(wl_vnir) && item != 0,req_wls)"
   ]
  },
  {
   "cell_type": "code",
   "execution_count": null,
   "metadata": {},
   "outputs": [],
   "source": [
    "myArr = [1,4,5,2,0]\n",
    "minimum(filter(item -> item !=0,myArr))"
   ]
  },
  {
   "cell_type": "code",
   "execution_count": null,
   "metadata": {},
   "outputs": [],
   "source": [
    "a = [6,6,9,12,4,2,6]\n",
    "b= [9,87,6,87,33]\n",
    "x = unique(sort(a))\n"
   ]
  },
  {
   "cell_type": "code",
   "execution_count": null,
   "metadata": {},
   "outputs": [],
   "source": [
    "y = unique(sort(b))"
   ]
  },
  {
   "cell_type": "code",
   "execution_count": null,
   "metadata": {},
   "outputs": [],
   "source": [
    "checkCommon(usa,usb)"
   ]
  },
  {
   "cell_type": "code",
   "execution_count": null,
   "metadata": {},
   "outputs": [],
   "source": [
    "using ArchGDAL"
   ]
  },
  {
   "cell_type": "code",
   "execution_count": null,
   "metadata": {},
   "outputs": [],
   "source": [
    "wl_vnir"
   ]
  },
  {
   "cell_type": "code",
   "execution_count": null,
   "metadata": {},
   "outputs": [],
   "source": [
    "x = [1,2,3]\n",
    "y= 2\n",
    "@show z = x.-y\n",
    "@show za = abs.(x.-y)\n"
   ]
  },
  {
   "cell_type": "code",
   "execution_count": null,
   "metadata": {},
   "outputs": [],
   "source": [
    "function closestWvl(wvl::Array{Int64,1},x::Int64)\n",
    "  y = abs.(wvl.-x)\n",
    "  #lapply(selbands_vnir, FUN = function(x) which.min(abs(wl_vnir - x))))\n",
    "  minimum(abs.(wvl.-x))\n",
    "end\n",
    "function closestWvlFun(wvl::Array{Int64,1})\n",
    "  (x)->(minimum(abs.(wvl.-x)))\n",
    "end"
   ]
  },
  {
   "cell_type": "code",
   "execution_count": null,
   "metadata": {},
   "outputs": [],
   "source": [
    "wvl = [4,3,6,1,-5,1,2,5,6,1]\n",
    "x = [5,-8,4,1,4,7,8]\n",
    "closestWvlFun(wvl).(x)"
   ]
  },
  {
   "cell_type": "code",
   "execution_count": null,
   "metadata": {},
   "outputs": [],
   "source": [
    "wl_vnir[5]=0\n",
    "wl_vnir[12]=0\n",
    "\n",
    "seqbands_vnir = [1:66...]\n",
    "  for i in 1:66\n",
    "    if wl_vnir[i]==0\n",
    "      seqbands_vnir[i]=0      \n",
    "    end\n",
    "  end\n",
    "seqbands_vnir = filter(x->x!=0,seqbands_vnir)"
   ]
  },
  {
   "cell_type": "code",
   "execution_count": null,
   "metadata": {},
   "outputs": [],
   "source": [
    "seqbands_vnir = [1:66]"
   ]
  },
  {
   "cell_type": "code",
   "execution_count": null,
   "metadata": {},
   "outputs": [],
   "source": [
    "wl_vnir = wl_vnir[seqbands_vnir]"
   ]
  },
  {
   "cell_type": "markdown",
   "metadata": {},
   "source": [
    "*http://www.johnmyleswhite.com/notebook/2012/04/09/comparing-julia-and-rs-vocabularies/"
   ]
  },
  {
   "cell_type": "code",
   "execution_count": null,
   "metadata": {},
   "outputs": [],
   "source": [
    "using DataFrames\n",
    "c = [1,2,3]\n",
    "b=[4,56,6]\n",
    "d=DataFrame(\"parola parola\"=c,\"ta ta\"= b)"
   ]
  },
  {
   "cell_type": "code",
   "execution_count": null,
   "metadata": {},
   "outputs": [],
   "source": [
    "?round"
   ]
  },
  {
   "cell_type": "code",
   "execution_count": null,
   "metadata": {},
   "outputs": [],
   "source": [
    "c = [0.1234567,1.123456789,2.1234567890]\n",
    "round.(c,digits=3)"
   ]
  },
  {
   "cell_type": "code",
   "execution_count": null,
   "metadata": {},
   "outputs": [],
   "source": [
    "c=[12345,123456]\n",
    "round.(c/1000000,digits=5)"
   ]
  },
  {
   "cell_type": "code",
   "execution_count": null,
   "metadata": {},
   "outputs": [],
   "source": [
    "df = DataFrame(asd=[1,2],bcd=[3,4])\n",
    "rename!(df,[\"as d\",\"dd a\"])"
   ]
  },
  {
   "cell_type": "code",
   "execution_count": null,
   "metadata": {},
   "outputs": [],
   "source": [
    "?names!"
   ]
  },
  {
   "cell_type": "code",
   "execution_count": null,
   "metadata": {},
   "outputs": [],
   "source": [
    "?CSV.write"
   ]
  },
  {
   "cell_type": "code",
   "execution_count": null,
   "metadata": {},
   "outputs": [],
   "source": [
    "using HDF5\n",
    "HDF5.exists(file,\"//KDP_AUX/Cw_Vnir_Matrix\")"
   ]
  },
  {
   "cell_type": "code",
   "execution_count": null,
   "metadata": {},
   "outputs": [],
   "source": [
    "getAttr(file, \"Start_index_EO_VNIR\")"
   ]
  },
  {
   "cell_type": "code",
   "execution_count": null,
   "metadata": {},
   "outputs": [],
   "source": [
    "function getAttr2(file, name::String)    \n",
    "    read(attrs(file), name)\n",
    "end"
   ]
  },
  {
   "cell_type": "code",
   "execution_count": null,
   "metadata": {},
   "outputs": [],
   "source": [
    "x = \"ciao\"\n",
    "if !isnothing(x)\n",
    "    println(\"ok\")\n",
    "end"
   ]
  },
  {
   "cell_type": "code",
   "execution_count": 19,
   "metadata": {},
   "outputs": [
    {
     "data": {
      "text/plain": [
       "10"
      ]
     },
     "execution_count": 19,
     "metadata": {},
     "output_type": "execute_result"
    }
   ],
   "source": [
    " A = rand([0, 1], 10,5)\n",
    "length(A[:,1])"
   ]
  },
  {
   "cell_type": "code",
   "execution_count": null,
   "metadata": {},
   "outputs": [],
   "source": [
    "B = A[4:10,:]"
   ]
  },
  {
   "cell_type": "code",
   "execution_count": null,
   "metadata": {},
   "outputs": [],
   "source": [
    "B[ordA,:]"
   ]
  },
  {
   "cell_type": "code",
   "execution_count": null,
   "metadata": {},
   "outputs": [],
   "source": [
    "x = 7^2\n",
    "a = [1:x...]"
   ]
  },
  {
   "cell_type": "code",
   "execution_count": null,
   "metadata": {},
   "outputs": [],
   "source": [
    "mA = reshape(a,7,7)\n"
   ]
  },
  {
   "cell_type": "code",
   "execution_count": null,
   "metadata": {},
   "outputs": [],
   "source": [
    "mA = mA[2:4,:]"
   ]
  },
  {
   "cell_type": "code",
   "execution_count": null,
   "metadata": {},
   "outputs": [],
   "source": [
    "tA = mA[:,mA[1,:].>15]"
   ]
  },
  {
   "cell_type": "code",
   "execution_count": null,
   "metadata": {},
   "outputs": [],
   "source": [
    "ordA =mA[:,ord]"
   ]
  },
  {
   "cell_type": "code",
   "execution_count": null,
   "metadata": {},
   "outputs": [],
   "source": [
    "ordA[2,2]=0\n",
    "ordA"
   ]
  },
  {
   "cell_type": "code",
   "execution_count": null,
   "metadata": {},
   "outputs": [],
   "source": [
    "ordA = ordA[:,(ordA[1,:] .!=0)]"
   ]
  },
  {
   "cell_type": "code",
   "execution_count": null,
   "metadata": {},
   "outputs": [],
   "source": [
    "vnir_start = 3\n",
    "vnir_stop = 45\n",
    "swir_start = 8\n",
    "swir_stop = 47\n",
    "\n",
    "vnir_wl_mat = faux.getData(file, \"//KDP_AUX/Cw_Vnir_Matrix\")#prendo matrice intera NB: molti 0, sparse?\n",
    "vnir_wl_mat = vnir_wl_mat[vnir_start:vnir_stop,:]# solo righe vnir\n",
    "#vnir_wl_mat = vnir_wl_mat[:,order_vnir]#ordino righe secondo order_vnir\n",
    "vnir_wl_mat = vnir_wl_mat[:,(vnir_wl_mat[1,:].!=0)]#tolgo colonne che inzian con 0\n",
    "#stessa cosa per vnir fwhm\n",
    "vnir_fwhm_mat = faux.getData(file, \"KDP_AUX/Fwhm_Vnir_Matrix\")#prendo matrice intera NB: molti 0, sparse?\n",
    "vnir_fwhm_mat = vnir_fwhm_mat[vnir_start:vnir_stop,:]# solo righe vnir\n",
    "#vnir_fwhm_mat = vnir_fwhm_mat[:,order_vnir]#ordino colonne secondo order_vnir\n",
    "vnir_fwhm_mat = vnir_fwhm_mat[:,(vnir_fwhm_mat[1,:].!=0)]#tolgo colonne con i dove [1,i]==0\n",
    "#stessa cosa per swir\n",
    "swir_wl_mat = faux.getData(file, \"//KDP_AUX/Cw_Swir_Matrix\")\n",
    "swir_wl_mat = swir_wl_mat[swir_start:swir_stop,:]\n",
    "#swir_wl_mat = swir_wl_mat[:,order_swir]\n",
    "swir_wl_mat = swir_wl_mat[:,(swir_wl_mat[1,:].!=0)]\n",
    "swir_fwhm_mat = faux.getData(file, \"//KDP_AUX/Fwhm_Swir_Matrix\")\n",
    "swir_fwhm_mat = swir_fwhm_mat[swir_start:swir_stop,:]\n",
    "#swir_fwhm_mat = swir_fwhm_mat[:,order_swir]\n",
    "swir_fwhm_mat = swir_fwhm_mat[:,(swir_fwhm_mat[1,:].!=0)]"
   ]
  },
  {
   "cell_type": "code",
   "execution_count": null,
   "metadata": {},
   "outputs": [],
   "source": [
    "swir_fwhm_mat"
   ]
  },
  {
   "cell_type": "code",
   "execution_count": null,
   "metadata": {},
   "outputs": [],
   "source": [
    "ordA"
   ]
  },
  {
   "cell_type": "code",
   "execution_count": null,
   "metadata": {},
   "outputs": [],
   "source": [
    "mA"
   ]
  },
  {
   "cell_type": "code",
   "execution_count": null,
   "metadata": {},
   "outputs": [],
   "source": [
    "[ordA mA]"
   ]
  },
  {
   "cell_type": "code",
   "execution_count": null,
   "metadata": {},
   "outputs": [],
   "source": [
    "length(mA)"
   ]
  },
  {
   "cell_type": "code",
   "execution_count": null,
   "metadata": {},
   "outputs": [],
   "source": [
    "typeof(mA)"
   ]
  },
  {
   "cell_type": "code",
   "execution_count": null,
   "metadata": {},
   "outputs": [],
   "source": [
    "length(mA[1,:])"
   ]
  },
  {
   "cell_type": "code",
   "execution_count": null,
   "metadata": {},
   "outputs": [],
   "source": [
    "\n",
    "vnir_cube = faux.getData(file,string(\"HDFEOS/SWATHS/PRS_L2D_\",\"HRC\",\"/Data Fields/VNIR_Cube\"))"
   ]
  },
  {
   "cell_type": "code",
   "execution_count": null,
   "metadata": {},
   "outputs": [],
   "source": [
    "C = sparse(faux.getData(file,\"/HDFEOS/SWATHS/PRS_L2D_HCO/Data Fields/VNIR_Cube\"))"
   ]
  },
  {
   "cell_type": "code",
   "execution_count": null,
   "metadata": {},
   "outputs": [],
   "source": [
    "using SparseArrays"
   ]
  },
  {
   "cell_type": "code",
   "execution_count": 1,
   "metadata": {},
   "outputs": [
    {
     "name": "stdout",
     "output_type": "stream",
     "text": [
      "else of a\n"
     ]
    }
   ],
   "source": [
    "a= false\n",
    "b=true\n",
    "c=true\n",
    "if a\n",
    "    if b\n",
    "        println()\n",
    "    end\n",
    "else\n",
    "    println(\"else of a\")\n",
    "end"
   ]
  },
  {
   "cell_type": "code",
   "execution_count": 2,
   "metadata": {},
   "outputs": [
    {
     "data": {
      "text/plain": [
       "7-element Array{Int64,1}:\n",
       " -3\n",
       " -2\n",
       " -1\n",
       "  0\n",
       "  1\n",
       "  2\n",
       "  3"
      ]
     },
     "execution_count": 2,
     "metadata": {},
     "output_type": "execute_result"
    }
   ],
   "source": [
    "sat = [-3:3...]"
   ]
  },
  {
   "cell_type": "code",
   "execution_count": 8,
   "metadata": {},
   "outputs": [
    {
     "data": {
      "text/plain": [
       "String"
      ]
     },
     "execution_count": 8,
     "metadata": {},
     "output_type": "execute_result"
    }
   ],
   "source": [
    "x = [1:10...]\n",
    "typeof(join(x,\"b\"))"
   ]
  },
  {
   "cell_type": "code",
   "execution_count": 9,
   "metadata": {},
   "outputs": [
    {
     "ename": "LoadError",
     "evalue": "MethodError: no method matching +(::Int64, ::String)\nClosest candidates are:\n  +(::Any, ::Any, !Matched::Any, !Matched::Any...) at operators.jl:538\n  +(::T, !Matched::T) where T<:Union{Int128, Int16, Int32, Int64, Int8, UInt128, UInt16, UInt32, UInt64, UInt8} at int.jl:86\n  +(::Integer, !Matched::Integer) at int.jl:918\n  ...",
     "output_type": "error",
     "traceback": [
      "MethodError: no method matching +(::Int64, ::String)\nClosest candidates are:\n  +(::Any, ::Any, !Matched::Any, !Matched::Any...) at operators.jl:538\n  +(::T, !Matched::T) where T<:Union{Int128, Int16, Int32, Int64, Int8, UInt128, UInt16, UInt32, UInt64, UInt8} at int.jl:86\n  +(::Integer, !Matched::Integer) at int.jl:918\n  ...",
      "",
      "Stacktrace:",
      " [1] _broadcast_getindex_evalf at .\\broadcast.jl:648 [inlined]",
      " [2] _broadcast_getindex at .\\broadcast.jl:621 [inlined]",
      " [3] getindex at .\\broadcast.jl:575 [inlined]",
      " [4] copy at .\\broadcast.jl:876 [inlined]",
      " [5] materialize(::Base.Broadcast.Broadcasted{Base.Broadcast.DefaultArrayStyle{1},Nothing,typeof(+),Tuple{Array{Int64,1},Base.RefValue{String}}}) at .\\broadcast.jl:837",
      " [6] top-level scope at In[9]:1",
      " [7] include_string(::Function, ::Module, ::String, ::String) at .\\loading.jl:1091"
     ]
    }
   ],
   "source": [
    "x.+\"b\""
   ]
  },
  {
   "cell_type": "code",
   "execution_count": 12,
   "metadata": {},
   "outputs": [
    {
     "data": {
      "text/plain": [
       "10-element Array{String,1}:\n",
       " \"1b\"\n",
       " \"2b\"\n",
       " \"3b\"\n",
       " \"4b\"\n",
       " \"5b\"\n",
       " \"6b\"\n",
       " \"7b\"\n",
       " \"8b\"\n",
       " \"9b\"\n",
       " \"10b\""
      ]
     },
     "execution_count": 12,
     "metadata": {},
     "output_type": "execute_result"
    }
   ],
   "source": [
    "s = string.(x).*\"b\""
   ]
  },
  {
   "cell_type": "code",
   "execution_count": 14,
   "metadata": {},
   "outputs": [
    {
     "ename": "LoadError",
     "evalue": "syntax: invalid identifier name \"?\"",
     "output_type": "error",
     "traceback": [
      "syntax: invalid identifier name \"?\"",
      "",
      "Stacktrace:",
      " [1] top-level scope at In[14]:2",
      " [2] include_string(::Function, ::Module, ::String, ::String) at .\\loading.jl:1091"
     ]
    }
   ],
   "source": [
    "using DataFrames\n",
    "?rename!"
   ]
  },
  {
   "cell_type": "code",
   "execution_count": 16,
   "metadata": {},
   "outputs": [
    {
     "name": "stdout",
     "output_type": "stream",
     "text": [
      "search: \u001b[0m\u001b[1mr\u001b[22m\u001b[0m\u001b[1me\u001b[22m\u001b[0m\u001b[1mp\u001b[22m\u001b[0m\u001b[1ml\u001b[22m\u001b[0m\u001b[1ma\u001b[22m\u001b[0m\u001b[1mc\u001b[22m\u001b[0m\u001b[1me\u001b[22m \u001b[0m\u001b[1mr\u001b[22m\u001b[0m\u001b[1me\u001b[22m\u001b[0m\u001b[1mp\u001b[22m\u001b[0m\u001b[1ml\u001b[22m\u001b[0m\u001b[1ma\u001b[22m\u001b[0m\u001b[1mc\u001b[22m\u001b[0m\u001b[1me\u001b[22m! \u001b[0m\u001b[1mr\u001b[22m\u001b[0m\u001b[1me\u001b[22mdis\u001b[0m\u001b[1mp\u001b[22m\u001b[0m\u001b[1ml\u001b[22m\u001b[0m\u001b[1ma\u001b[22my\n",
      "\n"
     ]
    },
    {
     "data": {
      "text/latex": [
       "\\begin{verbatim}\n",
       "replace(A, old_new::Pair...; [count::Integer])\n",
       "\\end{verbatim}\n",
       "Return a copy of collection \\texttt{A} where, for each pair \\texttt{old=>new} in \\texttt{old\\_new}, all occurrences of \\texttt{old} are replaced by \\texttt{new}. Equality is determined using \\href{@ref}{\\texttt{isequal}}. If \\texttt{count} is specified, then replace at most \\texttt{count} occurrences in total.\n",
       "\n",
       "The element type of the result is chosen using promotion (see \\href{@ref}{\\texttt{promote\\_type}}) based on the element type of \\texttt{A} and on the types of the \\texttt{new} values in pairs. If \\texttt{count} is omitted and the element type of \\texttt{A} is a \\texttt{Union}, the element type of the result will not include singleton types which are replaced with values of a different type: for example, \\texttt{Union\\{T,Missing\\}} will become \\texttt{T} if \\texttt{missing} is replaced.\n",
       "\n",
       "See also \\href{@ref}{\\texttt{replace!}}.\n",
       "\n",
       "\\section{Examples}\n",
       "\\begin{verbatim}\n",
       "julia> replace([1, 2, 1, 3], 1=>0, 2=>4, count=2)\n",
       "4-element Array{Int64,1}:\n",
       " 0\n",
       " 4\n",
       " 1\n",
       " 3\n",
       "\n",
       "julia> replace([1, missing], missing=>0)\n",
       "2-element Array{Int64,1}:\n",
       " 1\n",
       " 0\n",
       "\\end{verbatim}\n",
       "\\rule{\\textwidth}{1pt}\n",
       "\\begin{verbatim}\n",
       "replace(new::Function, A; [count::Integer])\n",
       "\\end{verbatim}\n",
       "Return a copy of \\texttt{A} where each value \\texttt{x} in \\texttt{A} is replaced by \\texttt{new(x)}. If \\texttt{count} is specified, then replace at most \\texttt{count} values in total (replacements being defined as \\texttt{new(x) !== x}).\n",
       "\n",
       "\\section{Examples}\n",
       "\\begin{verbatim}\n",
       "julia> replace(x -> isodd(x) ? 2x : x, [1, 2, 3, 4])\n",
       "4-element Array{Int64,1}:\n",
       " 2\n",
       " 2\n",
       " 6\n",
       " 4\n",
       "\n",
       "julia> replace(Dict(1=>2, 3=>4)) do kv\n",
       "           first(kv) < 3 ? first(kv)=>3 : kv\n",
       "       end\n",
       "Dict{Int64,Int64} with 2 entries:\n",
       "  3 => 4\n",
       "  1 => 3\n",
       "\\end{verbatim}\n",
       "\\rule{\\textwidth}{1pt}\n",
       "\\begin{verbatim}\n",
       "replace(s::AbstractString, pat=>r; [count::Integer])\n",
       "\\end{verbatim}\n",
       "Search for the given pattern \\texttt{pat} in \\texttt{s}, and replace each occurrence with \\texttt{r}. If \\texttt{count} is provided, replace at most \\texttt{count} occurrences. \\texttt{pat} may be a single character, a vector or a set of characters, a string, or a regular expression. If \\texttt{r} is a function, each occurrence is replaced with \\texttt{r(s)} where \\texttt{s} is the matched substring (when \\texttt{pat} is a \\texttt{Regex} or \\texttt{AbstractString}) or character (when \\texttt{pat} is an \\texttt{AbstractChar} or a collection of \\texttt{AbstractChar}). If \\texttt{pat} is a regular expression and \\texttt{r} is a \\href{@ref}{\\texttt{SubstitutionString}}, then capture group references in \\texttt{r} are replaced with the corresponding matched text. To remove instances of \\texttt{pat} from \\texttt{string}, set \\texttt{r} to the empty \\texttt{String} (\\texttt{\"\"}).\n",
       "\n",
       "\\section{Examples}\n",
       "\\begin{verbatim}\n",
       "julia> replace(\"Python is a programming language.\", \"Python\" => \"Julia\")\n",
       "\"Julia is a programming language.\"\n",
       "\n",
       "julia> replace(\"The quick foxes run quickly.\", \"quick\" => \"slow\", count=1)\n",
       "\"The slow foxes run quickly.\"\n",
       "\n",
       "julia> replace(\"The quick foxes run quickly.\", \"quick\" => \"\", count=1)\n",
       "\"The  foxes run quickly.\"\n",
       "\n",
       "julia> replace(\"The quick foxes run quickly.\", r\"fox(es)?\" => s\"bus\\1\")\n",
       "\"The quick buses run quickly.\"\n",
       "\\end{verbatim}\n"
      ],
      "text/markdown": [
       "```\n",
       "replace(A, old_new::Pair...; [count::Integer])\n",
       "```\n",
       "\n",
       "Return a copy of collection `A` where, for each pair `old=>new` in `old_new`, all occurrences of `old` are replaced by `new`. Equality is determined using [`isequal`](@ref). If `count` is specified, then replace at most `count` occurrences in total.\n",
       "\n",
       "The element type of the result is chosen using promotion (see [`promote_type`](@ref)) based on the element type of `A` and on the types of the `new` values in pairs. If `count` is omitted and the element type of `A` is a `Union`, the element type of the result will not include singleton types which are replaced with values of a different type: for example, `Union{T,Missing}` will become `T` if `missing` is replaced.\n",
       "\n",
       "See also [`replace!`](@ref).\n",
       "\n",
       "# Examples\n",
       "\n",
       "```jldoctest\n",
       "julia> replace([1, 2, 1, 3], 1=>0, 2=>4, count=2)\n",
       "4-element Array{Int64,1}:\n",
       " 0\n",
       " 4\n",
       " 1\n",
       " 3\n",
       "\n",
       "julia> replace([1, missing], missing=>0)\n",
       "2-element Array{Int64,1}:\n",
       " 1\n",
       " 0\n",
       "```\n",
       "\n",
       "---\n",
       "\n",
       "```\n",
       "replace(new::Function, A; [count::Integer])\n",
       "```\n",
       "\n",
       "Return a copy of `A` where each value `x` in `A` is replaced by `new(x)`. If `count` is specified, then replace at most `count` values in total (replacements being defined as `new(x) !== x`).\n",
       "\n",
       "# Examples\n",
       "\n",
       "```jldoctest\n",
       "julia> replace(x -> isodd(x) ? 2x : x, [1, 2, 3, 4])\n",
       "4-element Array{Int64,1}:\n",
       " 2\n",
       " 2\n",
       " 6\n",
       " 4\n",
       "\n",
       "julia> replace(Dict(1=>2, 3=>4)) do kv\n",
       "           first(kv) < 3 ? first(kv)=>3 : kv\n",
       "       end\n",
       "Dict{Int64,Int64} with 2 entries:\n",
       "  3 => 4\n",
       "  1 => 3\n",
       "```\n",
       "\n",
       "---\n",
       "\n",
       "```\n",
       "replace(s::AbstractString, pat=>r; [count::Integer])\n",
       "```\n",
       "\n",
       "Search for the given pattern `pat` in `s`, and replace each occurrence with `r`. If `count` is provided, replace at most `count` occurrences. `pat` may be a single character, a vector or a set of characters, a string, or a regular expression. If `r` is a function, each occurrence is replaced with `r(s)` where `s` is the matched substring (when `pat` is a `Regex` or `AbstractString`) or character (when `pat` is an `AbstractChar` or a collection of `AbstractChar`). If `pat` is a regular expression and `r` is a [`SubstitutionString`](@ref), then capture group references in `r` are replaced with the corresponding matched text. To remove instances of `pat` from `string`, set `r` to the empty `String` (`\"\"`).\n",
       "\n",
       "# Examples\n",
       "\n",
       "```jldoctest\n",
       "julia> replace(\"Python is a programming language.\", \"Python\" => \"Julia\")\n",
       "\"Julia is a programming language.\"\n",
       "\n",
       "julia> replace(\"The quick foxes run quickly.\", \"quick\" => \"slow\", count=1)\n",
       "\"The slow foxes run quickly.\"\n",
       "\n",
       "julia> replace(\"The quick foxes run quickly.\", \"quick\" => \"\", count=1)\n",
       "\"The  foxes run quickly.\"\n",
       "\n",
       "julia> replace(\"The quick foxes run quickly.\", r\"fox(es)?\" => s\"bus\\1\")\n",
       "\"The quick buses run quickly.\"\n",
       "```\n"
      ],
      "text/plain": [
       "\u001b[36m  replace(A, old_new::Pair...; [count::Integer])\u001b[39m\n",
       "\n",
       "  Return a copy of collection \u001b[36mA\u001b[39m where, for each pair \u001b[36mold=>new\u001b[39m in \u001b[36mold_new\u001b[39m, all\n",
       "  occurrences of \u001b[36mold\u001b[39m are replaced by \u001b[36mnew\u001b[39m. Equality is determined using\n",
       "  \u001b[36misequal\u001b[39m. If \u001b[36mcount\u001b[39m is specified, then replace at most \u001b[36mcount\u001b[39m occurrences in\n",
       "  total.\n",
       "\n",
       "  The element type of the result is chosen using promotion (see \u001b[36mpromote_type\u001b[39m)\n",
       "  based on the element type of \u001b[36mA\u001b[39m and on the types of the \u001b[36mnew\u001b[39m values in pairs.\n",
       "  If \u001b[36mcount\u001b[39m is omitted and the element type of \u001b[36mA\u001b[39m is a \u001b[36mUnion\u001b[39m, the element type\n",
       "  of the result will not include singleton types which are replaced with\n",
       "  values of a different type: for example, \u001b[36mUnion{T,Missing}\u001b[39m will become \u001b[36mT\u001b[39m if\n",
       "  \u001b[36mmissing\u001b[39m is replaced.\n",
       "\n",
       "  See also \u001b[36mreplace!\u001b[39m.\n",
       "\n",
       "\u001b[1m  Examples\u001b[22m\n",
       "\u001b[1m  ≡≡≡≡≡≡≡≡≡≡\u001b[22m\n",
       "\n",
       "\u001b[36m  julia> replace([1, 2, 1, 3], 1=>0, 2=>4, count=2)\u001b[39m\n",
       "\u001b[36m  4-element Array{Int64,1}:\u001b[39m\n",
       "\u001b[36m   0\u001b[39m\n",
       "\u001b[36m   4\u001b[39m\n",
       "\u001b[36m   1\u001b[39m\n",
       "\u001b[36m   3\u001b[39m\n",
       "\u001b[36m  \u001b[39m\n",
       "\u001b[36m  julia> replace([1, missing], missing=>0)\u001b[39m\n",
       "\u001b[36m  2-element Array{Int64,1}:\u001b[39m\n",
       "\u001b[36m   1\u001b[39m\n",
       "\u001b[36m   0\u001b[39m\n",
       "\n",
       "  ────────────────────────────────────────────────────────────────────────────\n",
       "\n",
       "\u001b[36m  replace(new::Function, A; [count::Integer])\u001b[39m\n",
       "\n",
       "  Return a copy of \u001b[36mA\u001b[39m where each value \u001b[36mx\u001b[39m in \u001b[36mA\u001b[39m is replaced by \u001b[36mnew(x)\u001b[39m. If \u001b[36mcount\u001b[39m\n",
       "  is specified, then replace at most \u001b[36mcount\u001b[39m values in total (replacements being\n",
       "  defined as \u001b[36mnew(x) !== x\u001b[39m).\n",
       "\n",
       "\u001b[1m  Examples\u001b[22m\n",
       "\u001b[1m  ≡≡≡≡≡≡≡≡≡≡\u001b[22m\n",
       "\n",
       "\u001b[36m  julia> replace(x -> isodd(x) ? 2x : x, [1, 2, 3, 4])\u001b[39m\n",
       "\u001b[36m  4-element Array{Int64,1}:\u001b[39m\n",
       "\u001b[36m   2\u001b[39m\n",
       "\u001b[36m   2\u001b[39m\n",
       "\u001b[36m   6\u001b[39m\n",
       "\u001b[36m   4\u001b[39m\n",
       "\u001b[36m  \u001b[39m\n",
       "\u001b[36m  julia> replace(Dict(1=>2, 3=>4)) do kv\u001b[39m\n",
       "\u001b[36m             first(kv) < 3 ? first(kv)=>3 : kv\u001b[39m\n",
       "\u001b[36m         end\u001b[39m\n",
       "\u001b[36m  Dict{Int64,Int64} with 2 entries:\u001b[39m\n",
       "\u001b[36m    3 => 4\u001b[39m\n",
       "\u001b[36m    1 => 3\u001b[39m\n",
       "\n",
       "  ────────────────────────────────────────────────────────────────────────────\n",
       "\n",
       "\u001b[36m  replace(s::AbstractString, pat=>r; [count::Integer])\u001b[39m\n",
       "\n",
       "  Search for the given pattern \u001b[36mpat\u001b[39m in \u001b[36ms\u001b[39m, and replace each occurrence with \u001b[36mr\u001b[39m.\n",
       "  If \u001b[36mcount\u001b[39m is provided, replace at most \u001b[36mcount\u001b[39m occurrences. \u001b[36mpat\u001b[39m may be a single\n",
       "  character, a vector or a set of characters, a string, or a regular\n",
       "  expression. If \u001b[36mr\u001b[39m is a function, each occurrence is replaced with \u001b[36mr(s)\u001b[39m where\n",
       "  \u001b[36ms\u001b[39m is the matched substring (when \u001b[36mpat\u001b[39m is a \u001b[36mRegex\u001b[39m or \u001b[36mAbstractString\u001b[39m) or\n",
       "  character (when \u001b[36mpat\u001b[39m is an \u001b[36mAbstractChar\u001b[39m or a collection of \u001b[36mAbstractChar\u001b[39m). If\n",
       "  \u001b[36mpat\u001b[39m is a regular expression and \u001b[36mr\u001b[39m is a \u001b[36mSubstitutionString\u001b[39m, then capture\n",
       "  group references in \u001b[36mr\u001b[39m are replaced with the corresponding matched text. To\n",
       "  remove instances of \u001b[36mpat\u001b[39m from \u001b[36mstring\u001b[39m, set \u001b[36mr\u001b[39m to the empty \u001b[36mString\u001b[39m (\u001b[36m\"\"\u001b[39m).\n",
       "\n",
       "\u001b[1m  Examples\u001b[22m\n",
       "\u001b[1m  ≡≡≡≡≡≡≡≡≡≡\u001b[22m\n",
       "\n",
       "\u001b[36m  julia> replace(\"Python is a programming language.\", \"Python\" => \"Julia\")\u001b[39m\n",
       "\u001b[36m  \"Julia is a programming language.\"\u001b[39m\n",
       "\u001b[36m  \u001b[39m\n",
       "\u001b[36m  julia> replace(\"The quick foxes run quickly.\", \"quick\" => \"slow\", count=1)\u001b[39m\n",
       "\u001b[36m  \"The slow foxes run quickly.\"\u001b[39m\n",
       "\u001b[36m  \u001b[39m\n",
       "\u001b[36m  julia> replace(\"The quick foxes run quickly.\", \"quick\" => \"\", count=1)\u001b[39m\n",
       "\u001b[36m  \"The  foxes run quickly.\"\u001b[39m\n",
       "\u001b[36m  \u001b[39m\n",
       "\u001b[36m  julia> replace(\"The quick foxes run quickly.\", r\"fox(es)?\" => s\"bus\\1\")\u001b[39m\n",
       "\u001b[36m  \"The quick buses run quickly.\"\u001b[39m"
      ]
     },
     "execution_count": 16,
     "metadata": {},
     "output_type": "execute_result"
    }
   ],
   "source": [
    "?replace"
   ]
  },
  {
   "cell_type": "code",
   "execution_count": 1,
   "metadata": {},
   "outputs": [
    {
     "name": "stdout",
     "output_type": "stream",
     "text": [
      "search: \u001b[0m\u001b[1mr\u001b[22m\u001b[0m\u001b[1me\u001b[22m\u001b[0m\u001b[1mp\u001b[22m\u001b[0m\u001b[1ml\u001b[22m\u001b[0m\u001b[1ma\u001b[22m\u001b[0m\u001b[1mc\u001b[22m\u001b[0m\u001b[1me\u001b[22m \u001b[0m\u001b[1mr\u001b[22m\u001b[0m\u001b[1me\u001b[22m\u001b[0m\u001b[1mp\u001b[22m\u001b[0m\u001b[1ml\u001b[22m\u001b[0m\u001b[1ma\u001b[22m\u001b[0m\u001b[1mc\u001b[22m\u001b[0m\u001b[1me\u001b[22m! \u001b[0m\u001b[1mr\u001b[22m\u001b[0m\u001b[1me\u001b[22mdis\u001b[0m\u001b[1mp\u001b[22m\u001b[0m\u001b[1ml\u001b[22m\u001b[0m\u001b[1ma\u001b[22my\n",
      "\n"
     ]
    },
    {
     "data": {
      "text/latex": [
       "\\begin{verbatim}\n",
       "replace(A, old_new::Pair...; [count::Integer])\n",
       "\\end{verbatim}\n",
       "Return a copy of collection \\texttt{A} where, for each pair \\texttt{old=>new} in \\texttt{old\\_new}, all occurrences of \\texttt{old} are replaced by \\texttt{new}. Equality is determined using \\href{@ref}{\\texttt{isequal}}. If \\texttt{count} is specified, then replace at most \\texttt{count} occurrences in total.\n",
       "\n",
       "The element type of the result is chosen using promotion (see \\href{@ref}{\\texttt{promote\\_type}}) based on the element type of \\texttt{A} and on the types of the \\texttt{new} values in pairs. If \\texttt{count} is omitted and the element type of \\texttt{A} is a \\texttt{Union}, the element type of the result will not include singleton types which are replaced with values of a different type: for example, \\texttt{Union\\{T,Missing\\}} will become \\texttt{T} if \\texttt{missing} is replaced.\n",
       "\n",
       "See also \\href{@ref}{\\texttt{replace!}}.\n",
       "\n",
       "\\section{Examples}\n",
       "\\begin{verbatim}\n",
       "julia> replace([1, 2, 1, 3], 1=>0, 2=>4, count=2)\n",
       "4-element Array{Int64,1}:\n",
       " 0\n",
       " 4\n",
       " 1\n",
       " 3\n",
       "\n",
       "julia> replace([1, missing], missing=>0)\n",
       "2-element Array{Int64,1}:\n",
       " 1\n",
       " 0\n",
       "\\end{verbatim}\n",
       "\\rule{\\textwidth}{1pt}\n",
       "\\begin{verbatim}\n",
       "replace(new::Function, A; [count::Integer])\n",
       "\\end{verbatim}\n",
       "Return a copy of \\texttt{A} where each value \\texttt{x} in \\texttt{A} is replaced by \\texttt{new(x)}. If \\texttt{count} is specified, then replace at most \\texttt{count} values in total (replacements being defined as \\texttt{new(x) !== x}).\n",
       "\n",
       "\\section{Examples}\n",
       "\\begin{verbatim}\n",
       "julia> replace(x -> isodd(x) ? 2x : x, [1, 2, 3, 4])\n",
       "4-element Array{Int64,1}:\n",
       " 2\n",
       " 2\n",
       " 6\n",
       " 4\n",
       "\n",
       "julia> replace(Dict(1=>2, 3=>4)) do kv\n",
       "           first(kv) < 3 ? first(kv)=>3 : kv\n",
       "       end\n",
       "Dict{Int64,Int64} with 2 entries:\n",
       "  3 => 4\n",
       "  1 => 3\n",
       "\\end{verbatim}\n",
       "\\rule{\\textwidth}{1pt}\n",
       "\\begin{verbatim}\n",
       "replace(s::AbstractString, pat=>r; [count::Integer])\n",
       "\\end{verbatim}\n",
       "Search for the given pattern \\texttt{pat} in \\texttt{s}, and replace each occurrence with \\texttt{r}. If \\texttt{count} is provided, replace at most \\texttt{count} occurrences. \\texttt{pat} may be a single character, a vector or a set of characters, a string, or a regular expression. If \\texttt{r} is a function, each occurrence is replaced with \\texttt{r(s)} where \\texttt{s} is the matched substring (when \\texttt{pat} is a \\texttt{Regex} or \\texttt{AbstractString}) or character (when \\texttt{pat} is an \\texttt{AbstractChar} or a collection of \\texttt{AbstractChar}). If \\texttt{pat} is a regular expression and \\texttt{r} is a \\href{@ref}{\\texttt{SubstitutionString}}, then capture group references in \\texttt{r} are replaced with the corresponding matched text. To remove instances of \\texttt{pat} from \\texttt{string}, set \\texttt{r} to the empty \\texttt{String} (\\texttt{\"\"}).\n",
       "\n",
       "\\section{Examples}\n",
       "\\begin{verbatim}\n",
       "julia> replace(\"Python is a programming language.\", \"Python\" => \"Julia\")\n",
       "\"Julia is a programming language.\"\n",
       "\n",
       "julia> replace(\"The quick foxes run quickly.\", \"quick\" => \"slow\", count=1)\n",
       "\"The slow foxes run quickly.\"\n",
       "\n",
       "julia> replace(\"The quick foxes run quickly.\", \"quick\" => \"\", count=1)\n",
       "\"The  foxes run quickly.\"\n",
       "\n",
       "julia> replace(\"The quick foxes run quickly.\", r\"fox(es)?\" => s\"bus\\1\")\n",
       "\"The quick buses run quickly.\"\n",
       "\\end{verbatim}\n"
      ],
      "text/markdown": [
       "```\n",
       "replace(A, old_new::Pair...; [count::Integer])\n",
       "```\n",
       "\n",
       "Return a copy of collection `A` where, for each pair `old=>new` in `old_new`, all occurrences of `old` are replaced by `new`. Equality is determined using [`isequal`](@ref). If `count` is specified, then replace at most `count` occurrences in total.\n",
       "\n",
       "The element type of the result is chosen using promotion (see [`promote_type`](@ref)) based on the element type of `A` and on the types of the `new` values in pairs. If `count` is omitted and the element type of `A` is a `Union`, the element type of the result will not include singleton types which are replaced with values of a different type: for example, `Union{T,Missing}` will become `T` if `missing` is replaced.\n",
       "\n",
       "See also [`replace!`](@ref).\n",
       "\n",
       "# Examples\n",
       "\n",
       "```jldoctest\n",
       "julia> replace([1, 2, 1, 3], 1=>0, 2=>4, count=2)\n",
       "4-element Array{Int64,1}:\n",
       " 0\n",
       " 4\n",
       " 1\n",
       " 3\n",
       "\n",
       "julia> replace([1, missing], missing=>0)\n",
       "2-element Array{Int64,1}:\n",
       " 1\n",
       " 0\n",
       "```\n",
       "\n",
       "---\n",
       "\n",
       "```\n",
       "replace(new::Function, A; [count::Integer])\n",
       "```\n",
       "\n",
       "Return a copy of `A` where each value `x` in `A` is replaced by `new(x)`. If `count` is specified, then replace at most `count` values in total (replacements being defined as `new(x) !== x`).\n",
       "\n",
       "# Examples\n",
       "\n",
       "```jldoctest\n",
       "julia> replace(x -> isodd(x) ? 2x : x, [1, 2, 3, 4])\n",
       "4-element Array{Int64,1}:\n",
       " 2\n",
       " 2\n",
       " 6\n",
       " 4\n",
       "\n",
       "julia> replace(Dict(1=>2, 3=>4)) do kv\n",
       "           first(kv) < 3 ? first(kv)=>3 : kv\n",
       "       end\n",
       "Dict{Int64,Int64} with 2 entries:\n",
       "  3 => 4\n",
       "  1 => 3\n",
       "```\n",
       "\n",
       "---\n",
       "\n",
       "```\n",
       "replace(s::AbstractString, pat=>r; [count::Integer])\n",
       "```\n",
       "\n",
       "Search for the given pattern `pat` in `s`, and replace each occurrence with `r`. If `count` is provided, replace at most `count` occurrences. `pat` may be a single character, a vector or a set of characters, a string, or a regular expression. If `r` is a function, each occurrence is replaced with `r(s)` where `s` is the matched substring (when `pat` is a `Regex` or `AbstractString`) or character (when `pat` is an `AbstractChar` or a collection of `AbstractChar`). If `pat` is a regular expression and `r` is a [`SubstitutionString`](@ref), then capture group references in `r` are replaced with the corresponding matched text. To remove instances of `pat` from `string`, set `r` to the empty `String` (`\"\"`).\n",
       "\n",
       "# Examples\n",
       "\n",
       "```jldoctest\n",
       "julia> replace(\"Python is a programming language.\", \"Python\" => \"Julia\")\n",
       "\"Julia is a programming language.\"\n",
       "\n",
       "julia> replace(\"The quick foxes run quickly.\", \"quick\" => \"slow\", count=1)\n",
       "\"The slow foxes run quickly.\"\n",
       "\n",
       "julia> replace(\"The quick foxes run quickly.\", \"quick\" => \"\", count=1)\n",
       "\"The  foxes run quickly.\"\n",
       "\n",
       "julia> replace(\"The quick foxes run quickly.\", r\"fox(es)?\" => s\"bus\\1\")\n",
       "\"The quick buses run quickly.\"\n",
       "```\n"
      ],
      "text/plain": [
       "\u001b[36m  replace(A, old_new::Pair...; [count::Integer])\u001b[39m\n",
       "\n",
       "  Return a copy of collection \u001b[36mA\u001b[39m where, for each pair \u001b[36mold=>new\u001b[39m in \u001b[36mold_new\u001b[39m, all\n",
       "  occurrences of \u001b[36mold\u001b[39m are replaced by \u001b[36mnew\u001b[39m. Equality is determined using\n",
       "  \u001b[36misequal\u001b[39m. If \u001b[36mcount\u001b[39m is specified, then replace at most \u001b[36mcount\u001b[39m occurrences in\n",
       "  total.\n",
       "\n",
       "  The element type of the result is chosen using promotion (see \u001b[36mpromote_type\u001b[39m)\n",
       "  based on the element type of \u001b[36mA\u001b[39m and on the types of the \u001b[36mnew\u001b[39m values in pairs.\n",
       "  If \u001b[36mcount\u001b[39m is omitted and the element type of \u001b[36mA\u001b[39m is a \u001b[36mUnion\u001b[39m, the element type\n",
       "  of the result will not include singleton types which are replaced with\n",
       "  values of a different type: for example, \u001b[36mUnion{T,Missing}\u001b[39m will become \u001b[36mT\u001b[39m if\n",
       "  \u001b[36mmissing\u001b[39m is replaced.\n",
       "\n",
       "  See also \u001b[36mreplace!\u001b[39m.\n",
       "\n",
       "\u001b[1m  Examples\u001b[22m\n",
       "\u001b[1m  ≡≡≡≡≡≡≡≡≡≡\u001b[22m\n",
       "\n",
       "\u001b[36m  julia> replace([1, 2, 1, 3], 1=>0, 2=>4, count=2)\u001b[39m\n",
       "\u001b[36m  4-element Array{Int64,1}:\u001b[39m\n",
       "\u001b[36m   0\u001b[39m\n",
       "\u001b[36m   4\u001b[39m\n",
       "\u001b[36m   1\u001b[39m\n",
       "\u001b[36m   3\u001b[39m\n",
       "\u001b[36m  \u001b[39m\n",
       "\u001b[36m  julia> replace([1, missing], missing=>0)\u001b[39m\n",
       "\u001b[36m  2-element Array{Int64,1}:\u001b[39m\n",
       "\u001b[36m   1\u001b[39m\n",
       "\u001b[36m   0\u001b[39m\n",
       "\n",
       "  ────────────────────────────────────────────────────────────────────────────\n",
       "\n",
       "\u001b[36m  replace(new::Function, A; [count::Integer])\u001b[39m\n",
       "\n",
       "  Return a copy of \u001b[36mA\u001b[39m where each value \u001b[36mx\u001b[39m in \u001b[36mA\u001b[39m is replaced by \u001b[36mnew(x)\u001b[39m. If \u001b[36mcount\u001b[39m\n",
       "  is specified, then replace at most \u001b[36mcount\u001b[39m values in total (replacements being\n",
       "  defined as \u001b[36mnew(x) !== x\u001b[39m).\n",
       "\n",
       "\u001b[1m  Examples\u001b[22m\n",
       "\u001b[1m  ≡≡≡≡≡≡≡≡≡≡\u001b[22m\n",
       "\n",
       "\u001b[36m  julia> replace(x -> isodd(x) ? 2x : x, [1, 2, 3, 4])\u001b[39m\n",
       "\u001b[36m  4-element Array{Int64,1}:\u001b[39m\n",
       "\u001b[36m   2\u001b[39m\n",
       "\u001b[36m   2\u001b[39m\n",
       "\u001b[36m   6\u001b[39m\n",
       "\u001b[36m   4\u001b[39m\n",
       "\u001b[36m  \u001b[39m\n",
       "\u001b[36m  julia> replace(Dict(1=>2, 3=>4)) do kv\u001b[39m\n",
       "\u001b[36m             first(kv) < 3 ? first(kv)=>3 : kv\u001b[39m\n",
       "\u001b[36m         end\u001b[39m\n",
       "\u001b[36m  Dict{Int64,Int64} with 2 entries:\u001b[39m\n",
       "\u001b[36m    3 => 4\u001b[39m\n",
       "\u001b[36m    1 => 3\u001b[39m\n",
       "\n",
       "  ────────────────────────────────────────────────────────────────────────────\n",
       "\n",
       "\u001b[36m  replace(s::AbstractString, pat=>r; [count::Integer])\u001b[39m\n",
       "\n",
       "  Search for the given pattern \u001b[36mpat\u001b[39m in \u001b[36ms\u001b[39m, and replace each occurrence with \u001b[36mr\u001b[39m.\n",
       "  If \u001b[36mcount\u001b[39m is provided, replace at most \u001b[36mcount\u001b[39m occurrences. \u001b[36mpat\u001b[39m may be a single\n",
       "  character, a vector or a set of characters, a string, or a regular\n",
       "  expression. If \u001b[36mr\u001b[39m is a function, each occurrence is replaced with \u001b[36mr(s)\u001b[39m where\n",
       "  \u001b[36ms\u001b[39m is the matched substring (when \u001b[36mpat\u001b[39m is a \u001b[36mRegex\u001b[39m or \u001b[36mAbstractString\u001b[39m) or\n",
       "  character (when \u001b[36mpat\u001b[39m is an \u001b[36mAbstractChar\u001b[39m or a collection of \u001b[36mAbstractChar\u001b[39m). If\n",
       "  \u001b[36mpat\u001b[39m is a regular expression and \u001b[36mr\u001b[39m is a \u001b[36mSubstitutionString\u001b[39m, then capture\n",
       "  group references in \u001b[36mr\u001b[39m are replaced with the corresponding matched text. To\n",
       "  remove instances of \u001b[36mpat\u001b[39m from \u001b[36mstring\u001b[39m, set \u001b[36mr\u001b[39m to the empty \u001b[36mString\u001b[39m (\u001b[36m\"\"\u001b[39m).\n",
       "\n",
       "\u001b[1m  Examples\u001b[22m\n",
       "\u001b[1m  ≡≡≡≡≡≡≡≡≡≡\u001b[22m\n",
       "\n",
       "\u001b[36m  julia> replace(\"Python is a programming language.\", \"Python\" => \"Julia\")\u001b[39m\n",
       "\u001b[36m  \"Julia is a programming language.\"\u001b[39m\n",
       "\u001b[36m  \u001b[39m\n",
       "\u001b[36m  julia> replace(\"The quick foxes run quickly.\", \"quick\" => \"slow\", count=1)\u001b[39m\n",
       "\u001b[36m  \"The slow foxes run quickly.\"\u001b[39m\n",
       "\u001b[36m  \u001b[39m\n",
       "\u001b[36m  julia> replace(\"The quick foxes run quickly.\", \"quick\" => \"\", count=1)\u001b[39m\n",
       "\u001b[36m  \"The  foxes run quickly.\"\u001b[39m\n",
       "\u001b[36m  \u001b[39m\n",
       "\u001b[36m  julia> replace(\"The quick foxes run quickly.\", r\"fox(es)?\" => s\"bus\\1\")\u001b[39m\n",
       "\u001b[36m  \"The quick buses run quickly.\"\u001b[39m"
      ]
     },
     "execution_count": 1,
     "metadata": {},
     "output_type": "execute_result"
    }
   ],
   "source": [
    "?replace"
   ]
  },
  {
   "cell_type": "code",
   "execution_count": 4,
   "metadata": {},
   "outputs": [
    {
     "name": "stdout",
     "output_type": "stream",
     "text": [
      "supertype(typeof(x)) = Signed\n"
     ]
    },
    {
     "data": {
      "text/plain": [
       "AbstractFloat"
      ]
     },
     "execution_count": 4,
     "metadata": {},
     "output_type": "execute_result"
    }
   ],
   "source": [
    "x = 12\n",
    "y = 1.1\n",
    "@show supertype(typeof(x))\n",
    "supertype(typeof(y))"
   ]
  },
  {
   "cell_type": "code",
   "execution_count": 5,
   "metadata": {},
   "outputs": [
    {
     "data": {
      "text/plain": [
       "true"
      ]
     },
     "execution_count": 5,
     "metadata": {},
     "output_type": "execute_result"
    }
   ],
   "source": [
    "isa(x, Number)"
   ]
  },
  {
   "cell_type": "code",
   "execution_count": 7,
   "metadata": {},
   "outputs": [],
   "source": [
    "using CSV\n"
   ]
  },
  {
   "cell_type": "code",
   "execution_count": 8,
   "metadata": {},
   "outputs": [
    {
     "data": {
      "text/latex": [
       "\\begin{verbatim}\n",
       "CSV.write(file, table; kwargs...) => file\n",
       "table |> CSV.write(file; kwargs...) => file\n",
       "\\end{verbatim}\n",
       "Write a \\href{https://github.com/JuliaData/Tables.jl}{Tables.jl interface input} to a csv file, given as an \\texttt{IO} argument or \\texttt{String}/FilePaths.jl type representing the file name to write to. Alternatively, \\texttt{CSV.RowWriter} creates a row iterator, producing a csv-formatted string for each row in an input table.\n",
       "\n",
       "Supported keyword arguments include:\n",
       "\n",
       "\\begin{itemize}\n",
       "\\item \\texttt{delim::Union\\{Char, String\\}=','}: a character or string to print out as the file's delimiter\n",
       "\n",
       "\n",
       "\\item \\texttt{quotechar::Char='\"'}: ascii character to use for quoting text fields that may contain delimiters or newlines\n",
       "\n",
       "\n",
       "\\item \\texttt{openquotechar::Char}: instead of \\texttt{quotechar}, use \\texttt{openquotechar} and \\texttt{closequotechar} to support different starting and ending quote characters\n",
       "\n",
       "\n",
       "\\item \\texttt{escapechar::Char='\"'}: ascii character used to escape quote characters in a text field\n",
       "\n",
       "\n",
       "\\item \\texttt{missingstring::String=\"\"}: string to print for \\texttt{missing} values\n",
       "\n",
       "\n",
       "\\item \\texttt{dateformat=Dates.default\\_format(T)}: the date format string to use for printing out \\texttt{Date} \\& \\texttt{DateTime} columns\n",
       "\n",
       "\n",
       "\\item \\texttt{append=false}: whether to append writing to an existing file/IO, if \\texttt{true}, it will not write column names by default\n",
       "\n",
       "\n",
       "\\item \\texttt{writeheader=!append}: whether to write an initial row of delimited column names, not written by default if appending\n",
       "\n",
       "\n",
       "\\item \\texttt{header}: pass a list of column names (Symbols or Strings) to use instead of the column names of the input table\n",
       "\n",
       "\n",
       "\\item \\texttt{newline='{\\textbackslash}n'}: character or string to use to separate rows (lines in the csv file)\n",
       "\n",
       "\n",
       "\\item \\texttt{quotestrings=false}: whether to force all strings to be quoted or not\n",
       "\n",
       "\n",
       "\\item \\texttt{decimal='.'}: character to use as the decimal point when writing floating point numbers\n",
       "\n",
       "\n",
       "\\item \\texttt{transform=(col,val)->val}: a function that is applied to every cell e.g. we can transform all \\texttt{nothing} values to \\texttt{missing} using \\texttt{(col, val) -> something(val, missing)}\n",
       "\n",
       "\n",
       "\\item \\texttt{bom=false}: whether to write a UTF-8 BOM header (0xEF 0xBB 0xBF) or not\n",
       "\n",
       "\\end{itemize}\n"
      ],
      "text/markdown": [
       "```\n",
       "CSV.write(file, table; kwargs...) => file\n",
       "table |> CSV.write(file; kwargs...) => file\n",
       "```\n",
       "\n",
       "Write a [Tables.jl interface input](https://github.com/JuliaData/Tables.jl) to a csv file, given as an `IO` argument or `String`/FilePaths.jl type representing the file name to write to. Alternatively, `CSV.RowWriter` creates a row iterator, producing a csv-formatted string for each row in an input table.\n",
       "\n",
       "Supported keyword arguments include:\n",
       "\n",
       "  * `delim::Union{Char, String}=','`: a character or string to print out as the file's delimiter\n",
       "  * `quotechar::Char='\"'`: ascii character to use for quoting text fields that may contain delimiters or newlines\n",
       "  * `openquotechar::Char`: instead of `quotechar`, use `openquotechar` and `closequotechar` to support different starting and ending quote characters\n",
       "  * `escapechar::Char='\"'`: ascii character used to escape quote characters in a text field\n",
       "  * `missingstring::String=\"\"`: string to print for `missing` values\n",
       "  * `dateformat=Dates.default_format(T)`: the date format string to use for printing out `Date` & `DateTime` columns\n",
       "  * `append=false`: whether to append writing to an existing file/IO, if `true`, it will not write column names by default\n",
       "  * `writeheader=!append`: whether to write an initial row of delimited column names, not written by default if appending\n",
       "  * `header`: pass a list of column names (Symbols or Strings) to use instead of the column names of the input table\n",
       "  * `newline='\\n'`: character or string to use to separate rows (lines in the csv file)\n",
       "  * `quotestrings=false`: whether to force all strings to be quoted or not\n",
       "  * `decimal='.'`: character to use as the decimal point when writing floating point numbers\n",
       "  * `transform=(col,val)->val`: a function that is applied to every cell e.g. we can transform all `nothing` values to `missing` using `(col, val) -> something(val, missing)`\n",
       "  * `bom=false`: whether to write a UTF-8 BOM header (0xEF 0xBB 0xBF) or not\n"
      ],
      "text/plain": [
       "\u001b[36m  CSV.write(file, table; kwargs...) => file\u001b[39m\n",
       "\u001b[36m  table |> CSV.write(file; kwargs...) => file\u001b[39m\n",
       "\n",
       "  Write a Tables.jl interface input (https://github.com/JuliaData/Tables.jl)\n",
       "  to a csv file, given as an \u001b[36mIO\u001b[39m argument or \u001b[36mString\u001b[39m/FilePaths.jl type\n",
       "  representing the file name to write to. Alternatively, \u001b[36mCSV.RowWriter\u001b[39m creates\n",
       "  a row iterator, producing a csv-formatted string for each row in an input\n",
       "  table.\n",
       "\n",
       "  Supported keyword arguments include:\n",
       "\n",
       "    •    \u001b[36mdelim::Union{Char, String}=','\u001b[39m: a character or string to print out\n",
       "        as the file's delimiter\n",
       "\n",
       "    •    \u001b[36mquotechar::Char='\"'\u001b[39m: ascii character to use for quoting text\n",
       "        fields that may contain delimiters or newlines\n",
       "\n",
       "    •    \u001b[36mopenquotechar::Char\u001b[39m: instead of \u001b[36mquotechar\u001b[39m, use \u001b[36mopenquotechar\u001b[39m and\n",
       "        \u001b[36mclosequotechar\u001b[39m to support different starting and ending quote\n",
       "        characters\n",
       "\n",
       "    •    \u001b[36mescapechar::Char='\"'\u001b[39m: ascii character used to escape quote\n",
       "        characters in a text field\n",
       "\n",
       "    •    \u001b[36mmissingstring::String=\"\"\u001b[39m: string to print for \u001b[36mmissing\u001b[39m values\n",
       "\n",
       "    •    \u001b[36mdateformat=Dates.default_format(T)\u001b[39m: the date format string to use\n",
       "        for printing out \u001b[36mDate\u001b[39m & \u001b[36mDateTime\u001b[39m columns\n",
       "\n",
       "    •    \u001b[36mappend=false\u001b[39m: whether to append writing to an existing file/IO, if\n",
       "        \u001b[36mtrue\u001b[39m, it will not write column names by default\n",
       "\n",
       "    •    \u001b[36mwriteheader=!append\u001b[39m: whether to write an initial row of delimited\n",
       "        column names, not written by default if appending\n",
       "\n",
       "    •    \u001b[36mheader\u001b[39m: pass a list of column names (Symbols or Strings) to use\n",
       "        instead of the column names of the input table\n",
       "\n",
       "    •    \u001b[36mnewline='\\n'\u001b[39m: character or string to use to separate rows (lines\n",
       "        in the csv file)\n",
       "\n",
       "    •    \u001b[36mquotestrings=false\u001b[39m: whether to force all strings to be quoted or\n",
       "        not\n",
       "\n",
       "    •    \u001b[36mdecimal='.'\u001b[39m: character to use as the decimal point when writing\n",
       "        floating point numbers\n",
       "\n",
       "    •    \u001b[36mtransform=(col,val)->val\u001b[39m: a function that is applied to every cell\n",
       "        e.g. we can transform all \u001b[36mnothing\u001b[39m values to \u001b[36mmissing\u001b[39m using \u001b[36m(col,\n",
       "        val) -> something(val, missing)\u001b[39m\n",
       "\n",
       "    •    \u001b[36mbom=false\u001b[39m: whether to write a UTF-8 BOM header (0xEF 0xBB 0xBF) or\n",
       "        not"
      ]
     },
     "execution_count": 8,
     "metadata": {},
     "output_type": "execute_result"
    }
   ],
   "source": [
    "?CSV.write"
   ]
  },
  {
   "cell_type": "code",
   "execution_count": 20,
   "metadata": {},
   "outputs": [
    {
     "data": {
      "text/plain": [
       "1.0"
      ]
     },
     "execution_count": 20,
     "metadata": {},
     "output_type": "execute_result"
    }
   ],
   "source": [
    "round(4/3,digits=0)"
   ]
  },
  {
   "cell_type": "code",
   "execution_count": 6,
   "metadata": {},
   "outputs": [
    {
     "ename": "LoadError",
     "evalue": "MethodError: no method matching Array(::UndefInitializer, ::Int64, ::Int64)\nClosest candidates are:\n  Array(!Matched::LinearAlgebra.UniformScaling, ::Integer, ::Integer) at D:\\buildbot\\worker\\package_win64\\build\\usr\\share\\julia\\stdlib\\v1.5\\LinearAlgebra\\src\\uniformscaling.jl:438",
     "output_type": "error",
     "traceback": [
      "MethodError: no method matching Array(::UndefInitializer, ::Int64, ::Int64)\nClosest candidates are:\n  Array(!Matched::LinearAlgebra.UniformScaling, ::Integer, ::Integer) at D:\\buildbot\\worker\\package_win64\\build\\usr\\share\\julia\\stdlib\\v1.5\\LinearAlgebra\\src\\uniformscaling.jl:438",
      "",
      "Stacktrace:",
      " [1] top-level scope at In[6]:1",
      " [2] include_string(::Function, ::Module, ::String, ::String) at .\\loading.jl:1091"
     ]
    }
   ],
   "source": [
    "x = Array{}(undef,3,3)"
   ]
  },
  {
   "cell_type": "code",
   "execution_count": 2,
   "metadata": {},
   "outputs": [
    {
     "name": "stdout",
     "output_type": "stream",
     "text": [
      "search: \u001b[0m\u001b[1mA\u001b[22m\u001b[0m\u001b[1mr\u001b[22m\u001b[0m\u001b[1mr\u001b[22m\u001b[0m\u001b[1ma\u001b[22m\u001b[0m\u001b[1my\u001b[22m Sub\u001b[0m\u001b[1mA\u001b[22m\u001b[0m\u001b[1mr\u001b[22m\u001b[0m\u001b[1mr\u001b[22m\u001b[0m\u001b[1ma\u001b[22m\u001b[0m\u001b[1my\u001b[22m Bit\u001b[0m\u001b[1mA\u001b[22m\u001b[0m\u001b[1mr\u001b[22m\u001b[0m\u001b[1mr\u001b[22m\u001b[0m\u001b[1ma\u001b[22m\u001b[0m\u001b[1my\u001b[22m Dense\u001b[0m\u001b[1mA\u001b[22m\u001b[0m\u001b[1mr\u001b[22m\u001b[0m\u001b[1mr\u001b[22m\u001b[0m\u001b[1ma\u001b[22m\u001b[0m\u001b[1my\u001b[22m Strided\u001b[0m\u001b[1mA\u001b[22m\u001b[0m\u001b[1mr\u001b[22m\u001b[0m\u001b[1mr\u001b[22m\u001b[0m\u001b[1ma\u001b[22m\u001b[0m\u001b[1my\u001b[22m PermutedDims\u001b[0m\u001b[1mA\u001b[22m\u001b[0m\u001b[1mr\u001b[22m\u001b[0m\u001b[1mr\u001b[22m\u001b[0m\u001b[1ma\u001b[22m\u001b[0m\u001b[1my\u001b[22m\n",
      "\n"
     ]
    },
    {
     "data": {
      "text/latex": [
       "\\begin{verbatim}\n",
       "Array{T,N} <: AbstractArray{T,N}\n",
       "\\end{verbatim}\n",
       "\\texttt{N}-dimensional dense array with elements of type \\texttt{T}.\n",
       "\n",
       "\\rule{\\textwidth}{1pt}\n",
       "\\begin{verbatim}\n",
       "Array{T}(undef, dims)\n",
       "Array{T,N}(undef, dims)\n",
       "\\end{verbatim}\n",
       "Construct an uninitialized \\texttt{N}-dimensional \\href{@ref}{\\texttt{Array}} containing elements of type \\texttt{T}. \\texttt{N} can either be supplied explicitly, as in \\texttt{Array\\{T,N\\}(undef, dims)}, or be determined by the length or number of \\texttt{dims}. \\texttt{dims} may be a tuple or a series of integer arguments corresponding to the lengths in each dimension. If the rank \\texttt{N} is supplied explicitly, then it must match the length or number of \\texttt{dims}. See \\href{@ref}{\\texttt{undef}}.\n",
       "\n",
       "\\section{Examples}\n",
       "\\begin{verbatim}\n",
       "julia> A = Array{Float64,2}(undef, 2, 3) # N given explicitly\n",
       "2×3 Array{Float64,2}:\n",
       " 6.90198e-310  6.90198e-310  6.90198e-310\n",
       " 6.90198e-310  6.90198e-310  0.0\n",
       "\n",
       "julia> B = Array{Float64}(undef, 2) # N determined by the input\n",
       "2-element Array{Float64,1}:\n",
       " 1.87103e-320\n",
       " 0.0\n",
       "\\end{verbatim}\n",
       "\\rule{\\textwidth}{1pt}\n",
       "\\begin{verbatim}\n",
       "Array{T}(nothing, dims)\n",
       "Array{T,N}(nothing, dims)\n",
       "\\end{verbatim}\n",
       "Construct an \\texttt{N}-dimensional \\href{@ref}{\\texttt{Array}} containing elements of type \\texttt{T}, initialized with \\href{@ref}{\\texttt{nothing}} entries. Element type \\texttt{T} must be able to hold these values, i.e. \\texttt{Nothing <: T}.\n",
       "\n",
       "\\section{Examples}\n",
       "\\begin{verbatim}\n",
       "julia> Array{Union{Nothing, String}}(nothing, 2)\n",
       "2-element Array{Union{Nothing, String},1}:\n",
       " nothing\n",
       " nothing\n",
       "\n",
       "julia> Array{Union{Nothing, Int}}(nothing, 2, 3)\n",
       "2×3 Array{Union{Nothing, Int64},2}:\n",
       " nothing  nothing  nothing\n",
       " nothing  nothing  nothing\n",
       "\\end{verbatim}\n",
       "\\rule{\\textwidth}{1pt}\n",
       "\\begin{verbatim}\n",
       "Array{T}(missing, dims)\n",
       "Array{T,N}(missing, dims)\n",
       "\\end{verbatim}\n",
       "Construct an \\texttt{N}-dimensional \\href{@ref}{\\texttt{Array}} containing elements of type \\texttt{T}, initialized with \\href{@ref}{\\texttt{missing}} entries. Element type \\texttt{T} must be able to hold these values, i.e. \\texttt{Missing <: T}.\n",
       "\n",
       "\\section{Examples}\n",
       "\\begin{verbatim}\n",
       "julia> Array{Union{Missing, String}}(missing, 2)\n",
       "2-element Array{Union{Missing, String},1}:\n",
       " missing\n",
       " missing\n",
       "\n",
       "julia> Array{Union{Missing, Int}}(missing, 2, 3)\n",
       "2×3 Array{Union{Missing, Int64},2}:\n",
       " missing  missing  missing\n",
       " missing  missing  missing\n",
       "\\end{verbatim}\n"
      ],
      "text/markdown": [
       "```\n",
       "Array{T,N} <: AbstractArray{T,N}\n",
       "```\n",
       "\n",
       "`N`-dimensional dense array with elements of type `T`.\n",
       "\n",
       "---\n",
       "\n",
       "```\n",
       "Array{T}(undef, dims)\n",
       "Array{T,N}(undef, dims)\n",
       "```\n",
       "\n",
       "Construct an uninitialized `N`-dimensional [`Array`](@ref) containing elements of type `T`. `N` can either be supplied explicitly, as in `Array{T,N}(undef, dims)`, or be determined by the length or number of `dims`. `dims` may be a tuple or a series of integer arguments corresponding to the lengths in each dimension. If the rank `N` is supplied explicitly, then it must match the length or number of `dims`. See [`undef`](@ref).\n",
       "\n",
       "# Examples\n",
       "\n",
       "```julia-repl\n",
       "julia> A = Array{Float64,2}(undef, 2, 3) # N given explicitly\n",
       "2×3 Array{Float64,2}:\n",
       " 6.90198e-310  6.90198e-310  6.90198e-310\n",
       " 6.90198e-310  6.90198e-310  0.0\n",
       "\n",
       "julia> B = Array{Float64}(undef, 2) # N determined by the input\n",
       "2-element Array{Float64,1}:\n",
       " 1.87103e-320\n",
       " 0.0\n",
       "```\n",
       "\n",
       "---\n",
       "\n",
       "```\n",
       "Array{T}(nothing, dims)\n",
       "Array{T,N}(nothing, dims)\n",
       "```\n",
       "\n",
       "Construct an `N`-dimensional [`Array`](@ref) containing elements of type `T`, initialized with [`nothing`](@ref) entries. Element type `T` must be able to hold these values, i.e. `Nothing <: T`.\n",
       "\n",
       "# Examples\n",
       "\n",
       "```jldoctest\n",
       "julia> Array{Union{Nothing, String}}(nothing, 2)\n",
       "2-element Array{Union{Nothing, String},1}:\n",
       " nothing\n",
       " nothing\n",
       "\n",
       "julia> Array{Union{Nothing, Int}}(nothing, 2, 3)\n",
       "2×3 Array{Union{Nothing, Int64},2}:\n",
       " nothing  nothing  nothing\n",
       " nothing  nothing  nothing\n",
       "```\n",
       "\n",
       "---\n",
       "\n",
       "```\n",
       "Array{T}(missing, dims)\n",
       "Array{T,N}(missing, dims)\n",
       "```\n",
       "\n",
       "Construct an `N`-dimensional [`Array`](@ref) containing elements of type `T`, initialized with [`missing`](@ref) entries. Element type `T` must be able to hold these values, i.e. `Missing <: T`.\n",
       "\n",
       "# Examples\n",
       "\n",
       "```jldoctest\n",
       "julia> Array{Union{Missing, String}}(missing, 2)\n",
       "2-element Array{Union{Missing, String},1}:\n",
       " missing\n",
       " missing\n",
       "\n",
       "julia> Array{Union{Missing, Int}}(missing, 2, 3)\n",
       "2×3 Array{Union{Missing, Int64},2}:\n",
       " missing  missing  missing\n",
       " missing  missing  missing\n",
       "```\n"
      ],
      "text/plain": [
       "\u001b[36m  Array{T,N} <: AbstractArray{T,N}\u001b[39m\n",
       "\n",
       "  \u001b[36mN\u001b[39m-dimensional dense array with elements of type \u001b[36mT\u001b[39m.\n",
       "\n",
       "  ────────────────────────────────────────────────────────────────────────────\n",
       "\n",
       "\u001b[36m  Array{T}(undef, dims)\u001b[39m\n",
       "\u001b[36m  Array{T,N}(undef, dims)\u001b[39m\n",
       "\n",
       "  Construct an uninitialized \u001b[36mN\u001b[39m-dimensional \u001b[36mArray\u001b[39m containing elements of type\n",
       "  \u001b[36mT\u001b[39m. \u001b[36mN\u001b[39m can either be supplied explicitly, as in \u001b[36mArray{T,N}(undef, dims)\u001b[39m, or be\n",
       "  determined by the length or number of \u001b[36mdims\u001b[39m. \u001b[36mdims\u001b[39m may be a tuple or a series\n",
       "  of integer arguments corresponding to the lengths in each dimension. If the\n",
       "  rank \u001b[36mN\u001b[39m is supplied explicitly, then it must match the length or number of\n",
       "  \u001b[36mdims\u001b[39m. See \u001b[36mundef\u001b[39m.\n",
       "\n",
       "\u001b[1m  Examples\u001b[22m\n",
       "\u001b[1m  ≡≡≡≡≡≡≡≡≡≡\u001b[22m\n",
       "\n",
       "\u001b[36m  julia> A = Array{Float64,2}(undef, 2, 3) # N given explicitly\u001b[39m\n",
       "\u001b[36m  2×3 Array{Float64,2}:\u001b[39m\n",
       "\u001b[36m   6.90198e-310  6.90198e-310  6.90198e-310\u001b[39m\n",
       "\u001b[36m   6.90198e-310  6.90198e-310  0.0\u001b[39m\n",
       "\u001b[36m  \u001b[39m\n",
       "\u001b[36m  julia> B = Array{Float64}(undef, 2) # N determined by the input\u001b[39m\n",
       "\u001b[36m  2-element Array{Float64,1}:\u001b[39m\n",
       "\u001b[36m   1.87103e-320\u001b[39m\n",
       "\u001b[36m   0.0\u001b[39m\n",
       "\n",
       "  ────────────────────────────────────────────────────────────────────────────\n",
       "\n",
       "\u001b[36m  Array{T}(nothing, dims)\u001b[39m\n",
       "\u001b[36m  Array{T,N}(nothing, dims)\u001b[39m\n",
       "\n",
       "  Construct an \u001b[36mN\u001b[39m-dimensional \u001b[36mArray\u001b[39m containing elements of type \u001b[36mT\u001b[39m, initialized\n",
       "  with \u001b[36mnothing\u001b[39m entries. Element type \u001b[36mT\u001b[39m must be able to hold these values, i.e.\n",
       "  \u001b[36mNothing <: T\u001b[39m.\n",
       "\n",
       "\u001b[1m  Examples\u001b[22m\n",
       "\u001b[1m  ≡≡≡≡≡≡≡≡≡≡\u001b[22m\n",
       "\n",
       "\u001b[36m  julia> Array{Union{Nothing, String}}(nothing, 2)\u001b[39m\n",
       "\u001b[36m  2-element Array{Union{Nothing, String},1}:\u001b[39m\n",
       "\u001b[36m   nothing\u001b[39m\n",
       "\u001b[36m   nothing\u001b[39m\n",
       "\u001b[36m  \u001b[39m\n",
       "\u001b[36m  julia> Array{Union{Nothing, Int}}(nothing, 2, 3)\u001b[39m\n",
       "\u001b[36m  2×3 Array{Union{Nothing, Int64},2}:\u001b[39m\n",
       "\u001b[36m   nothing  nothing  nothing\u001b[39m\n",
       "\u001b[36m   nothing  nothing  nothing\u001b[39m\n",
       "\n",
       "  ────────────────────────────────────────────────────────────────────────────\n",
       "\n",
       "\u001b[36m  Array{T}(missing, dims)\u001b[39m\n",
       "\u001b[36m  Array{T,N}(missing, dims)\u001b[39m\n",
       "\n",
       "  Construct an \u001b[36mN\u001b[39m-dimensional \u001b[36mArray\u001b[39m containing elements of type \u001b[36mT\u001b[39m, initialized\n",
       "  with \u001b[36mmissing\u001b[39m entries. Element type \u001b[36mT\u001b[39m must be able to hold these values, i.e.\n",
       "  \u001b[36mMissing <: T\u001b[39m.\n",
       "\n",
       "\u001b[1m  Examples\u001b[22m\n",
       "\u001b[1m  ≡≡≡≡≡≡≡≡≡≡\u001b[22m\n",
       "\n",
       "\u001b[36m  julia> Array{Union{Missing, String}}(missing, 2)\u001b[39m\n",
       "\u001b[36m  2-element Array{Union{Missing, String},1}:\u001b[39m\n",
       "\u001b[36m   missing\u001b[39m\n",
       "\u001b[36m   missing\u001b[39m\n",
       "\u001b[36m  \u001b[39m\n",
       "\u001b[36m  julia> Array{Union{Missing, Int}}(missing, 2, 3)\u001b[39m\n",
       "\u001b[36m  2×3 Array{Union{Missing, Int64},2}:\u001b[39m\n",
       "\u001b[36m   missing  missing  missing\u001b[39m\n",
       "\u001b[36m   missing  missing  missing\u001b[39m"
      ]
     },
     "execution_count": 2,
     "metadata": {},
     "output_type": "execute_result"
    }
   ],
   "source": [
    "?Array"
   ]
  },
  {
   "cell_type": "code",
   "execution_count": 7,
   "metadata": {},
   "outputs": [
    {
     "data": {
      "text/plain": [
       "3×3 Array{Float64,2}:\n",
       " 0.0  0.0  0.0\n",
       " 0.0  0.0  0.0\n",
       " 0.0  0.0  0.0"
      ]
     },
     "execution_count": 7,
     "metadata": {},
     "output_type": "execute_result"
    }
   ],
   "source": [
    "zeros(3,3)"
   ]
  },
  {
   "cell_type": "code",
   "execution_count": 8,
   "metadata": {},
   "outputs": [
    {
     "name": "stdout",
     "output_type": "stream",
     "text": [
      "search: \u001b[0m\u001b[1mz\u001b[22m\u001b[0m\u001b[1me\u001b[22m\u001b[0m\u001b[1mr\u001b[22m\u001b[0m\u001b[1mo\u001b[22m\u001b[0m\u001b[1ms\u001b[22m count_\u001b[0m\u001b[1mz\u001b[22m\u001b[0m\u001b[1me\u001b[22m\u001b[0m\u001b[1mr\u001b[22m\u001b[0m\u001b[1mo\u001b[22m\u001b[0m\u001b[1ms\u001b[22m set_\u001b[0m\u001b[1mz\u001b[22m\u001b[0m\u001b[1me\u001b[22m\u001b[0m\u001b[1mr\u001b[22m\u001b[0m\u001b[1mo\u001b[22m_\u001b[0m\u001b[1ms\u001b[22mubnormals get_\u001b[0m\u001b[1mz\u001b[22m\u001b[0m\u001b[1me\u001b[22m\u001b[0m\u001b[1mr\u001b[22m\u001b[0m\u001b[1mo\u001b[22m_\u001b[0m\u001b[1ms\u001b[22mubnormals leading_\u001b[0m\u001b[1mz\u001b[22m\u001b[0m\u001b[1me\u001b[22m\u001b[0m\u001b[1mr\u001b[22m\u001b[0m\u001b[1mo\u001b[22m\u001b[0m\u001b[1ms\u001b[22m\n",
      "\n"
     ]
    },
    {
     "data": {
      "text/latex": [
       "\\begin{verbatim}\n",
       "zeros([T=Float64,] dims::Tuple)\n",
       "zeros([T=Float64,] dims...)\n",
       "\\end{verbatim}\n",
       "Create an \\texttt{Array}, with element type \\texttt{T}, of all zeros with size specified by \\texttt{dims}. See also \\href{@ref}{\\texttt{fill}}, \\href{@ref}{\\texttt{ones}}.\n",
       "\n",
       "\\section{Examples}\n",
       "\\begin{verbatim}\n",
       "julia> zeros(1)\n",
       "1-element Array{Float64,1}:\n",
       " 0.0\n",
       "\n",
       "julia> zeros(Int8, 2, 3)\n",
       "2×3 Array{Int8,2}:\n",
       " 0  0  0\n",
       " 0  0  0\n",
       "\\end{verbatim}\n"
      ],
      "text/markdown": [
       "```\n",
       "zeros([T=Float64,] dims::Tuple)\n",
       "zeros([T=Float64,] dims...)\n",
       "```\n",
       "\n",
       "Create an `Array`, with element type `T`, of all zeros with size specified by `dims`. See also [`fill`](@ref), [`ones`](@ref).\n",
       "\n",
       "# Examples\n",
       "\n",
       "```jldoctest\n",
       "julia> zeros(1)\n",
       "1-element Array{Float64,1}:\n",
       " 0.0\n",
       "\n",
       "julia> zeros(Int8, 2, 3)\n",
       "2×3 Array{Int8,2}:\n",
       " 0  0  0\n",
       " 0  0  0\n",
       "```\n"
      ],
      "text/plain": [
       "\u001b[36m  zeros([T=Float64,] dims::Tuple)\u001b[39m\n",
       "\u001b[36m  zeros([T=Float64,] dims...)\u001b[39m\n",
       "\n",
       "  Create an \u001b[36mArray\u001b[39m, with element type \u001b[36mT\u001b[39m, of all zeros with size specified by\n",
       "  \u001b[36mdims\u001b[39m. See also \u001b[36mfill\u001b[39m, \u001b[36mones\u001b[39m.\n",
       "\n",
       "\u001b[1m  Examples\u001b[22m\n",
       "\u001b[1m  ≡≡≡≡≡≡≡≡≡≡\u001b[22m\n",
       "\n",
       "\u001b[36m  julia> zeros(1)\u001b[39m\n",
       "\u001b[36m  1-element Array{Float64,1}:\u001b[39m\n",
       "\u001b[36m   0.0\u001b[39m\n",
       "\u001b[36m  \u001b[39m\n",
       "\u001b[36m  julia> zeros(Int8, 2, 3)\u001b[39m\n",
       "\u001b[36m  2×3 Array{Int8,2}:\u001b[39m\n",
       "\u001b[36m   0  0  0\u001b[39m\n",
       "\u001b[36m   0  0  0\u001b[39m"
      ]
     },
     "execution_count": 8,
     "metadata": {},
     "output_type": "execute_result"
    }
   ],
   "source": [
    "?zeros"
   ]
  },
  {
   "cell_type": "code",
   "execution_count": 9,
   "metadata": {},
   "outputs": [
    {
     "name": "stdout",
     "output_type": "stream",
     "text": [
      "search: \u001b[0m\u001b[1mr\u001b[22m\u001b[0m\u001b[1me\u001b[22m\u001b[0m\u001b[1mp\u001b[22m\u001b[0m\u001b[1ml\u001b[22m\u001b[0m\u001b[1ma\u001b[22m\u001b[0m\u001b[1mc\u001b[22m\u001b[0m\u001b[1me\u001b[22m \u001b[0m\u001b[1mr\u001b[22m\u001b[0m\u001b[1me\u001b[22m\u001b[0m\u001b[1mp\u001b[22m\u001b[0m\u001b[1ml\u001b[22m\u001b[0m\u001b[1ma\u001b[22m\u001b[0m\u001b[1mc\u001b[22m\u001b[0m\u001b[1me\u001b[22m! \u001b[0m\u001b[1mr\u001b[22m\u001b[0m\u001b[1me\u001b[22mdis\u001b[0m\u001b[1mp\u001b[22m\u001b[0m\u001b[1ml\u001b[22m\u001b[0m\u001b[1ma\u001b[22my\n",
      "\n"
     ]
    },
    {
     "data": {
      "text/latex": [
       "\\begin{verbatim}\n",
       "replace(A, old_new::Pair...; [count::Integer])\n",
       "\\end{verbatim}\n",
       "Return a copy of collection \\texttt{A} where, for each pair \\texttt{old=>new} in \\texttt{old\\_new}, all occurrences of \\texttt{old} are replaced by \\texttt{new}. Equality is determined using \\href{@ref}{\\texttt{isequal}}. If \\texttt{count} is specified, then replace at most \\texttt{count} occurrences in total.\n",
       "\n",
       "The element type of the result is chosen using promotion (see \\href{@ref}{\\texttt{promote\\_type}}) based on the element type of \\texttt{A} and on the types of the \\texttt{new} values in pairs. If \\texttt{count} is omitted and the element type of \\texttt{A} is a \\texttt{Union}, the element type of the result will not include singleton types which are replaced with values of a different type: for example, \\texttt{Union\\{T,Missing\\}} will become \\texttt{T} if \\texttt{missing} is replaced.\n",
       "\n",
       "See also \\href{@ref}{\\texttt{replace!}}.\n",
       "\n",
       "\\section{Examples}\n",
       "\\begin{verbatim}\n",
       "julia> replace([1, 2, 1, 3], 1=>0, 2=>4, count=2)\n",
       "4-element Array{Int64,1}:\n",
       " 0\n",
       " 4\n",
       " 1\n",
       " 3\n",
       "\n",
       "julia> replace([1, missing], missing=>0)\n",
       "2-element Array{Int64,1}:\n",
       " 1\n",
       " 0\n",
       "\\end{verbatim}\n",
       "\\rule{\\textwidth}{1pt}\n",
       "\\begin{verbatim}\n",
       "replace(new::Function, A; [count::Integer])\n",
       "\\end{verbatim}\n",
       "Return a copy of \\texttt{A} where each value \\texttt{x} in \\texttt{A} is replaced by \\texttt{new(x)}. If \\texttt{count} is specified, then replace at most \\texttt{count} values in total (replacements being defined as \\texttt{new(x) !== x}).\n",
       "\n",
       "\\section{Examples}\n",
       "\\begin{verbatim}\n",
       "julia> replace(x -> isodd(x) ? 2x : x, [1, 2, 3, 4])\n",
       "4-element Array{Int64,1}:\n",
       " 2\n",
       " 2\n",
       " 6\n",
       " 4\n",
       "\n",
       "julia> replace(Dict(1=>2, 3=>4)) do kv\n",
       "           first(kv) < 3 ? first(kv)=>3 : kv\n",
       "       end\n",
       "Dict{Int64,Int64} with 2 entries:\n",
       "  3 => 4\n",
       "  1 => 3\n",
       "\\end{verbatim}\n",
       "\\rule{\\textwidth}{1pt}\n",
       "\\begin{verbatim}\n",
       "replace(s::AbstractString, pat=>r; [count::Integer])\n",
       "\\end{verbatim}\n",
       "Search for the given pattern \\texttt{pat} in \\texttt{s}, and replace each occurrence with \\texttt{r}. If \\texttt{count} is provided, replace at most \\texttt{count} occurrences. \\texttt{pat} may be a single character, a vector or a set of characters, a string, or a regular expression. If \\texttt{r} is a function, each occurrence is replaced with \\texttt{r(s)} where \\texttt{s} is the matched substring (when \\texttt{pat} is a \\texttt{Regex} or \\texttt{AbstractString}) or character (when \\texttt{pat} is an \\texttt{AbstractChar} or a collection of \\texttt{AbstractChar}). If \\texttt{pat} is a regular expression and \\texttt{r} is a \\href{@ref}{\\texttt{SubstitutionString}}, then capture group references in \\texttt{r} are replaced with the corresponding matched text. To remove instances of \\texttt{pat} from \\texttt{string}, set \\texttt{r} to the empty \\texttt{String} (\\texttt{\"\"}).\n",
       "\n",
       "\\section{Examples}\n",
       "\\begin{verbatim}\n",
       "julia> replace(\"Python is a programming language.\", \"Python\" => \"Julia\")\n",
       "\"Julia is a programming language.\"\n",
       "\n",
       "julia> replace(\"The quick foxes run quickly.\", \"quick\" => \"slow\", count=1)\n",
       "\"The slow foxes run quickly.\"\n",
       "\n",
       "julia> replace(\"The quick foxes run quickly.\", \"quick\" => \"\", count=1)\n",
       "\"The  foxes run quickly.\"\n",
       "\n",
       "julia> replace(\"The quick foxes run quickly.\", r\"fox(es)?\" => s\"bus\\1\")\n",
       "\"The quick buses run quickly.\"\n",
       "\\end{verbatim}\n"
      ],
      "text/markdown": [
       "```\n",
       "replace(A, old_new::Pair...; [count::Integer])\n",
       "```\n",
       "\n",
       "Return a copy of collection `A` where, for each pair `old=>new` in `old_new`, all occurrences of `old` are replaced by `new`. Equality is determined using [`isequal`](@ref). If `count` is specified, then replace at most `count` occurrences in total.\n",
       "\n",
       "The element type of the result is chosen using promotion (see [`promote_type`](@ref)) based on the element type of `A` and on the types of the `new` values in pairs. If `count` is omitted and the element type of `A` is a `Union`, the element type of the result will not include singleton types which are replaced with values of a different type: for example, `Union{T,Missing}` will become `T` if `missing` is replaced.\n",
       "\n",
       "See also [`replace!`](@ref).\n",
       "\n",
       "# Examples\n",
       "\n",
       "```jldoctest\n",
       "julia> replace([1, 2, 1, 3], 1=>0, 2=>4, count=2)\n",
       "4-element Array{Int64,1}:\n",
       " 0\n",
       " 4\n",
       " 1\n",
       " 3\n",
       "\n",
       "julia> replace([1, missing], missing=>0)\n",
       "2-element Array{Int64,1}:\n",
       " 1\n",
       " 0\n",
       "```\n",
       "\n",
       "---\n",
       "\n",
       "```\n",
       "replace(new::Function, A; [count::Integer])\n",
       "```\n",
       "\n",
       "Return a copy of `A` where each value `x` in `A` is replaced by `new(x)`. If `count` is specified, then replace at most `count` values in total (replacements being defined as `new(x) !== x`).\n",
       "\n",
       "# Examples\n",
       "\n",
       "```jldoctest\n",
       "julia> replace(x -> isodd(x) ? 2x : x, [1, 2, 3, 4])\n",
       "4-element Array{Int64,1}:\n",
       " 2\n",
       " 2\n",
       " 6\n",
       " 4\n",
       "\n",
       "julia> replace(Dict(1=>2, 3=>4)) do kv\n",
       "           first(kv) < 3 ? first(kv)=>3 : kv\n",
       "       end\n",
       "Dict{Int64,Int64} with 2 entries:\n",
       "  3 => 4\n",
       "  1 => 3\n",
       "```\n",
       "\n",
       "---\n",
       "\n",
       "```\n",
       "replace(s::AbstractString, pat=>r; [count::Integer])\n",
       "```\n",
       "\n",
       "Search for the given pattern `pat` in `s`, and replace each occurrence with `r`. If `count` is provided, replace at most `count` occurrences. `pat` may be a single character, a vector or a set of characters, a string, or a regular expression. If `r` is a function, each occurrence is replaced with `r(s)` where `s` is the matched substring (when `pat` is a `Regex` or `AbstractString`) or character (when `pat` is an `AbstractChar` or a collection of `AbstractChar`). If `pat` is a regular expression and `r` is a [`SubstitutionString`](@ref), then capture group references in `r` are replaced with the corresponding matched text. To remove instances of `pat` from `string`, set `r` to the empty `String` (`\"\"`).\n",
       "\n",
       "# Examples\n",
       "\n",
       "```jldoctest\n",
       "julia> replace(\"Python is a programming language.\", \"Python\" => \"Julia\")\n",
       "\"Julia is a programming language.\"\n",
       "\n",
       "julia> replace(\"The quick foxes run quickly.\", \"quick\" => \"slow\", count=1)\n",
       "\"The slow foxes run quickly.\"\n",
       "\n",
       "julia> replace(\"The quick foxes run quickly.\", \"quick\" => \"\", count=1)\n",
       "\"The  foxes run quickly.\"\n",
       "\n",
       "julia> replace(\"The quick foxes run quickly.\", r\"fox(es)?\" => s\"bus\\1\")\n",
       "\"The quick buses run quickly.\"\n",
       "```\n"
      ],
      "text/plain": [
       "\u001b[36m  replace(A, old_new::Pair...; [count::Integer])\u001b[39m\n",
       "\n",
       "  Return a copy of collection \u001b[36mA\u001b[39m where, for each pair \u001b[36mold=>new\u001b[39m in \u001b[36mold_new\u001b[39m, all\n",
       "  occurrences of \u001b[36mold\u001b[39m are replaced by \u001b[36mnew\u001b[39m. Equality is determined using\n",
       "  \u001b[36misequal\u001b[39m. If \u001b[36mcount\u001b[39m is specified, then replace at most \u001b[36mcount\u001b[39m occurrences in\n",
       "  total.\n",
       "\n",
       "  The element type of the result is chosen using promotion (see \u001b[36mpromote_type\u001b[39m)\n",
       "  based on the element type of \u001b[36mA\u001b[39m and on the types of the \u001b[36mnew\u001b[39m values in pairs.\n",
       "  If \u001b[36mcount\u001b[39m is omitted and the element type of \u001b[36mA\u001b[39m is a \u001b[36mUnion\u001b[39m, the element type\n",
       "  of the result will not include singleton types which are replaced with\n",
       "  values of a different type: for example, \u001b[36mUnion{T,Missing}\u001b[39m will become \u001b[36mT\u001b[39m if\n",
       "  \u001b[36mmissing\u001b[39m is replaced.\n",
       "\n",
       "  See also \u001b[36mreplace!\u001b[39m.\n",
       "\n",
       "\u001b[1m  Examples\u001b[22m\n",
       "\u001b[1m  ≡≡≡≡≡≡≡≡≡≡\u001b[22m\n",
       "\n",
       "\u001b[36m  julia> replace([1, 2, 1, 3], 1=>0, 2=>4, count=2)\u001b[39m\n",
       "\u001b[36m  4-element Array{Int64,1}:\u001b[39m\n",
       "\u001b[36m   0\u001b[39m\n",
       "\u001b[36m   4\u001b[39m\n",
       "\u001b[36m   1\u001b[39m\n",
       "\u001b[36m   3\u001b[39m\n",
       "\u001b[36m  \u001b[39m\n",
       "\u001b[36m  julia> replace([1, missing], missing=>0)\u001b[39m\n",
       "\u001b[36m  2-element Array{Int64,1}:\u001b[39m\n",
       "\u001b[36m   1\u001b[39m\n",
       "\u001b[36m   0\u001b[39m\n",
       "\n",
       "  ────────────────────────────────────────────────────────────────────────────\n",
       "\n",
       "\u001b[36m  replace(new::Function, A; [count::Integer])\u001b[39m\n",
       "\n",
       "  Return a copy of \u001b[36mA\u001b[39m where each value \u001b[36mx\u001b[39m in \u001b[36mA\u001b[39m is replaced by \u001b[36mnew(x)\u001b[39m. If \u001b[36mcount\u001b[39m\n",
       "  is specified, then replace at most \u001b[36mcount\u001b[39m values in total (replacements being\n",
       "  defined as \u001b[36mnew(x) !== x\u001b[39m).\n",
       "\n",
       "\u001b[1m  Examples\u001b[22m\n",
       "\u001b[1m  ≡≡≡≡≡≡≡≡≡≡\u001b[22m\n",
       "\n",
       "\u001b[36m  julia> replace(x -> isodd(x) ? 2x : x, [1, 2, 3, 4])\u001b[39m\n",
       "\u001b[36m  4-element Array{Int64,1}:\u001b[39m\n",
       "\u001b[36m   2\u001b[39m\n",
       "\u001b[36m   2\u001b[39m\n",
       "\u001b[36m   6\u001b[39m\n",
       "\u001b[36m   4\u001b[39m\n",
       "\u001b[36m  \u001b[39m\n",
       "\u001b[36m  julia> replace(Dict(1=>2, 3=>4)) do kv\u001b[39m\n",
       "\u001b[36m             first(kv) < 3 ? first(kv)=>3 : kv\u001b[39m\n",
       "\u001b[36m         end\u001b[39m\n",
       "\u001b[36m  Dict{Int64,Int64} with 2 entries:\u001b[39m\n",
       "\u001b[36m    3 => 4\u001b[39m\n",
       "\u001b[36m    1 => 3\u001b[39m\n",
       "\n",
       "  ────────────────────────────────────────────────────────────────────────────\n",
       "\n",
       "\u001b[36m  replace(s::AbstractString, pat=>r; [count::Integer])\u001b[39m\n",
       "\n",
       "  Search for the given pattern \u001b[36mpat\u001b[39m in \u001b[36ms\u001b[39m, and replace each occurrence with \u001b[36mr\u001b[39m.\n",
       "  If \u001b[36mcount\u001b[39m is provided, replace at most \u001b[36mcount\u001b[39m occurrences. \u001b[36mpat\u001b[39m may be a single\n",
       "  character, a vector or a set of characters, a string, or a regular\n",
       "  expression. If \u001b[36mr\u001b[39m is a function, each occurrence is replaced with \u001b[36mr(s)\u001b[39m where\n",
       "  \u001b[36ms\u001b[39m is the matched substring (when \u001b[36mpat\u001b[39m is a \u001b[36mRegex\u001b[39m or \u001b[36mAbstractString\u001b[39m) or\n",
       "  character (when \u001b[36mpat\u001b[39m is an \u001b[36mAbstractChar\u001b[39m or a collection of \u001b[36mAbstractChar\u001b[39m). If\n",
       "  \u001b[36mpat\u001b[39m is a regular expression and \u001b[36mr\u001b[39m is a \u001b[36mSubstitutionString\u001b[39m, then capture\n",
       "  group references in \u001b[36mr\u001b[39m are replaced with the corresponding matched text. To\n",
       "  remove instances of \u001b[36mpat\u001b[39m from \u001b[36mstring\u001b[39m, set \u001b[36mr\u001b[39m to the empty \u001b[36mString\u001b[39m (\u001b[36m\"\"\u001b[39m).\n",
       "\n",
       "\u001b[1m  Examples\u001b[22m\n",
       "\u001b[1m  ≡≡≡≡≡≡≡≡≡≡\u001b[22m\n",
       "\n",
       "\u001b[36m  julia> replace(\"Python is a programming language.\", \"Python\" => \"Julia\")\u001b[39m\n",
       "\u001b[36m  \"Julia is a programming language.\"\u001b[39m\n",
       "\u001b[36m  \u001b[39m\n",
       "\u001b[36m  julia> replace(\"The quick foxes run quickly.\", \"quick\" => \"slow\", count=1)\u001b[39m\n",
       "\u001b[36m  \"The slow foxes run quickly.\"\u001b[39m\n",
       "\u001b[36m  \u001b[39m\n",
       "\u001b[36m  julia> replace(\"The quick foxes run quickly.\", \"quick\" => \"\", count=1)\u001b[39m\n",
       "\u001b[36m  \"The  foxes run quickly.\"\u001b[39m\n",
       "\u001b[36m  \u001b[39m\n",
       "\u001b[36m  julia> replace(\"The quick foxes run quickly.\", r\"fox(es)?\" => s\"bus\\1\")\u001b[39m\n",
       "\u001b[36m  \"The quick buses run quickly.\"\u001b[39m"
      ]
     },
     "execution_count": 9,
     "metadata": {},
     "output_type": "execute_result"
    }
   ],
   "source": [
    "?replace"
   ]
  },
  {
   "cell_type": "code",
   "execution_count": 11,
   "metadata": {},
   "outputs": [
    {
     "data": {
      "text/plain": [
       "2×2 Array{Int64,2}:\n",
       " 1  3\n",
       " 2  4"
      ]
     },
     "execution_count": 11,
     "metadata": {},
     "output_type": "execute_result"
    }
   ],
   "source": [
    "a = [1,2,3,4]\n",
    "reshape(a,2,2)"
   ]
  },
  {
   "cell_type": "code",
   "execution_count": 4,
   "metadata": {},
   "outputs": [
    {
     "ename": "LoadError",
     "evalue": "syntax: the \".'\" operator is discontinued",
     "output_type": "error",
     "traceback": [
      "syntax: the \".'\" operator is discontinued",
      "",
      "Stacktrace:",
      " [1] top-level scope at In[4]:2",
      " [2] include_string(::Function, ::Module, ::String, ::String) at .\\loading.jl:1091"
     ]
    }
   ],
   "source": [
    "a = 1:6\n",
    "Array((1:5).')"
   ]
  },
  {
   "cell_type": "code",
   "execution_count": 13,
   "metadata": {},
   "outputs": [
    {
     "ename": "LoadError",
     "evalue": "UndefVarError: reshape! not defined",
     "output_type": "error",
     "traceback": [
      "UndefVarError: reshape! not defined",
      "",
      "Stacktrace:",
      " [1] top-level scope at In[13]:1",
      " [2] include_string(::Function, ::Module, ::String, ::String) at .\\loading.jl:1091"
     ]
    }
   ],
   "source": [
    "reshape!(a,2,2)"
   ]
  },
  {
   "cell_type": "code",
   "execution_count": 1,
   "metadata": {},
   "outputs": [],
   "source": [
    "using ArchGDAL"
   ]
  },
  {
   "cell_type": "code",
   "execution_count": 2,
   "metadata": {},
   "outputs": [
    {
     "data": {
      "text/latex": [
       "No documentation found.\n",
       "\n",
       "\\texttt{ArchGDAL.write!} is a \\texttt{Function}.\n",
       "\n",
       "\\begin{verbatim}\n",
       "# 9 methods for generic function \"write!\":\n",
       "[1] write!(rb::ArchGDAL.AbstractRasterBand, buffer::Array{var\"#s93\",2} where var\"#s93\"<:Real) in ArchGDAL at C:\\Users\\i am\\.julia\\packages\\ArchGDAL\\4s5Fq\\src\\raster\\rasterio.jl:174\n",
       "[2] write!(rb::ArchGDAL.AbstractRasterBand, buffer::Array{var\"#s93\",2} where var\"#s93\"<:Real, xoffset::Integer, yoffset::Integer, xsize::Integer, ysize::Integer) in ArchGDAL at C:\\Users\\i am\\.julia\\packages\\ArchGDAL\\4s5Fq\\src\\raster\\rasterio.jl:179\n",
       "[3] write!(rb::ArchGDAL.AbstractRasterBand, buffer::Array{var\"#s93\",2} where var\"#s93\"<:Real, rows::UnitRange{var\"#s92\"} where var\"#s92\"<:Integer, cols::UnitRange{var\"#s91\"} where var\"#s91\"<:Integer) in ArchGDAL at C:\\Users\\i am\\.julia\\packages\\ArchGDAL\\4s5Fq\\src\\raster\\rasterio.jl:191\n",
       "[4] write!(dataset::ArchGDAL.AbstractDataset, buffer::Array{var\"#s93\",2} where var\"#s93\"<:Real, i::Integer) in ArchGDAL at C:\\Users\\i am\\.julia\\packages\\ArchGDAL\\4s5Fq\\src\\raster\\rasterio.jl:337\n",
       "[5] write!(dataset::ArchGDAL.AbstractDataset, buffer::Array{var\"#s93\",3} where var\"#s93\"<:Real, indices) in ArchGDAL at C:\\Users\\i am\\.julia\\packages\\ArchGDAL\\4s5Fq\\src\\raster\\rasterio.jl:342\n",
       "[6] write!(dataset::ArchGDAL.AbstractDataset, buffer::Array{var\"#s93\",2} where var\"#s93\"<:Real, i::Integer, xoffset::Integer, yoffset::Integer, xsize::Integer, ysize::Integer) in ArchGDAL at C:\\Users\\i am\\.julia\\packages\\ArchGDAL\\4s5Fq\\src\\raster\\rasterio.jl:351\n",
       "[7] write!(dataset::ArchGDAL.AbstractDataset, buffer::Array{var\"#s93\",3} where var\"#s93\"<:Real, indices, xoffset::Integer, yoffset::Integer, xsize::Integer, ysize::Integer) in ArchGDAL at C:\\Users\\i am\\.julia\\packages\\ArchGDAL\\4s5Fq\\src\\raster\\rasterio.jl:364\n",
       "[8] write!(dataset::ArchGDAL.AbstractDataset, buffer::Array{var\"#s93\",2} where var\"#s93\"<:Real, i::Integer, rows::UnitRange{var\"#s92\"} where var\"#s92\"<:Integer, cols::UnitRange{var\"#s91\"} where var\"#s91\"<:Integer) in ArchGDAL at C:\\Users\\i am\\.julia\\packages\\ArchGDAL\\4s5Fq\\src\\raster\\rasterio.jl:378\n",
       "[9] write!(dataset::ArchGDAL.AbstractDataset, buffer::Array{var\"#s93\",3} where var\"#s93\"<:Real, indices, rows::UnitRange{var\"#s92\"} where var\"#s92\"<:Integer, cols::UnitRange{var\"#s91\"} where var\"#s91\"<:Integer) in ArchGDAL at C:\\Users\\i am\\.julia\\packages\\ArchGDAL\\4s5Fq\\src\\raster\\rasterio.jl:389\n",
       "\\end{verbatim}\n"
      ],
      "text/markdown": [
       "No documentation found.\n",
       "\n",
       "`ArchGDAL.write!` is a `Function`.\n",
       "\n",
       "```\n",
       "# 9 methods for generic function \"write!\":\n",
       "[1] write!(rb::ArchGDAL.AbstractRasterBand, buffer::Array{var\"#s93\",2} where var\"#s93\"<:Real) in ArchGDAL at C:\\Users\\i am\\.julia\\packages\\ArchGDAL\\4s5Fq\\src\\raster\\rasterio.jl:174\n",
       "[2] write!(rb::ArchGDAL.AbstractRasterBand, buffer::Array{var\"#s93\",2} where var\"#s93\"<:Real, xoffset::Integer, yoffset::Integer, xsize::Integer, ysize::Integer) in ArchGDAL at C:\\Users\\i am\\.julia\\packages\\ArchGDAL\\4s5Fq\\src\\raster\\rasterio.jl:179\n",
       "[3] write!(rb::ArchGDAL.AbstractRasterBand, buffer::Array{var\"#s93\",2} where var\"#s93\"<:Real, rows::UnitRange{var\"#s92\"} where var\"#s92\"<:Integer, cols::UnitRange{var\"#s91\"} where var\"#s91\"<:Integer) in ArchGDAL at C:\\Users\\i am\\.julia\\packages\\ArchGDAL\\4s5Fq\\src\\raster\\rasterio.jl:191\n",
       "[4] write!(dataset::ArchGDAL.AbstractDataset, buffer::Array{var\"#s93\",2} where var\"#s93\"<:Real, i::Integer) in ArchGDAL at C:\\Users\\i am\\.julia\\packages\\ArchGDAL\\4s5Fq\\src\\raster\\rasterio.jl:337\n",
       "[5] write!(dataset::ArchGDAL.AbstractDataset, buffer::Array{var\"#s93\",3} where var\"#s93\"<:Real, indices) in ArchGDAL at C:\\Users\\i am\\.julia\\packages\\ArchGDAL\\4s5Fq\\src\\raster\\rasterio.jl:342\n",
       "[6] write!(dataset::ArchGDAL.AbstractDataset, buffer::Array{var\"#s93\",2} where var\"#s93\"<:Real, i::Integer, xoffset::Integer, yoffset::Integer, xsize::Integer, ysize::Integer) in ArchGDAL at C:\\Users\\i am\\.julia\\packages\\ArchGDAL\\4s5Fq\\src\\raster\\rasterio.jl:351\n",
       "[7] write!(dataset::ArchGDAL.AbstractDataset, buffer::Array{var\"#s93\",3} where var\"#s93\"<:Real, indices, xoffset::Integer, yoffset::Integer, xsize::Integer, ysize::Integer) in ArchGDAL at C:\\Users\\i am\\.julia\\packages\\ArchGDAL\\4s5Fq\\src\\raster\\rasterio.jl:364\n",
       "[8] write!(dataset::ArchGDAL.AbstractDataset, buffer::Array{var\"#s93\",2} where var\"#s93\"<:Real, i::Integer, rows::UnitRange{var\"#s92\"} where var\"#s92\"<:Integer, cols::UnitRange{var\"#s91\"} where var\"#s91\"<:Integer) in ArchGDAL at C:\\Users\\i am\\.julia\\packages\\ArchGDAL\\4s5Fq\\src\\raster\\rasterio.jl:378\n",
       "[9] write!(dataset::ArchGDAL.AbstractDataset, buffer::Array{var\"#s93\",3} where var\"#s93\"<:Real, indices, rows::UnitRange{var\"#s92\"} where var\"#s92\"<:Integer, cols::UnitRange{var\"#s91\"} where var\"#s91\"<:Integer) in ArchGDAL at C:\\Users\\i am\\.julia\\packages\\ArchGDAL\\4s5Fq\\src\\raster\\rasterio.jl:389\n",
       "```\n"
      ],
      "text/plain": [
       "  No documentation found.\n",
       "\n",
       "  \u001b[36mArchGDAL.write!\u001b[39m is a \u001b[36mFunction\u001b[39m.\n",
       "\n",
       "\u001b[36m  # 9 methods for generic function \"write!\":\u001b[39m\n",
       "\u001b[36m  [1] write!(rb::ArchGDAL.AbstractRasterBand, buffer::Array{var\"#s93\",2} where var\"#s93\"<:Real) in ArchGDAL at C:\\Users\\i am\\.julia\\packages\\ArchGDAL\\4s5Fq\\src\\raster\\rasterio.jl:174\u001b[39m\n",
       "\u001b[36m  [2] write!(rb::ArchGDAL.AbstractRasterBand, buffer::Array{var\"#s93\",2} where var\"#s93\"<:Real, xoffset::Integer, yoffset::Integer, xsize::Integer, ysize::Integer) in ArchGDAL at C:\\Users\\i am\\.julia\\packages\\ArchGDAL\\4s5Fq\\src\\raster\\rasterio.jl:179\u001b[39m\n",
       "\u001b[36m  [3] write!(rb::ArchGDAL.AbstractRasterBand, buffer::Array{var\"#s93\",2} where var\"#s93\"<:Real, rows::UnitRange{var\"#s92\"} where var\"#s92\"<:Integer, cols::UnitRange{var\"#s91\"} where var\"#s91\"<:Integer) in ArchGDAL at C:\\Users\\i am\\.julia\\packages\\ArchGDAL\\4s5Fq\\src\\raster\\rasterio.jl:191\u001b[39m\n",
       "\u001b[36m  [4] write!(dataset::ArchGDAL.AbstractDataset, buffer::Array{var\"#s93\",2} where var\"#s93\"<:Real, i::Integer) in ArchGDAL at C:\\Users\\i am\\.julia\\packages\\ArchGDAL\\4s5Fq\\src\\raster\\rasterio.jl:337\u001b[39m\n",
       "\u001b[36m  [5] write!(dataset::ArchGDAL.AbstractDataset, buffer::Array{var\"#s93\",3} where var\"#s93\"<:Real, indices) in ArchGDAL at C:\\Users\\i am\\.julia\\packages\\ArchGDAL\\4s5Fq\\src\\raster\\rasterio.jl:342\u001b[39m\n",
       "\u001b[36m  [6] write!(dataset::ArchGDAL.AbstractDataset, buffer::Array{var\"#s93\",2} where var\"#s93\"<:Real, i::Integer, xoffset::Integer, yoffset::Integer, xsize::Integer, ysize::Integer) in ArchGDAL at C:\\Users\\i am\\.julia\\packages\\ArchGDAL\\4s5Fq\\src\\raster\\rasterio.jl:351\u001b[39m\n",
       "\u001b[36m  [7] write!(dataset::ArchGDAL.AbstractDataset, buffer::Array{var\"#s93\",3} where var\"#s93\"<:Real, indices, xoffset::Integer, yoffset::Integer, xsize::Integer, ysize::Integer) in ArchGDAL at C:\\Users\\i am\\.julia\\packages\\ArchGDAL\\4s5Fq\\src\\raster\\rasterio.jl:364\u001b[39m\n",
       "\u001b[36m  [8] write!(dataset::ArchGDAL.AbstractDataset, buffer::Array{var\"#s93\",2} where var\"#s93\"<:Real, i::Integer, rows::UnitRange{var\"#s92\"} where var\"#s92\"<:Integer, cols::UnitRange{var\"#s91\"} where var\"#s91\"<:Integer) in ArchGDAL at C:\\Users\\i am\\.julia\\packages\\ArchGDAL\\4s5Fq\\src\\raster\\rasterio.jl:378\u001b[39m\n",
       "\u001b[36m  [9] write!(dataset::ArchGDAL.AbstractDataset, buffer::Array{var\"#s93\",3} where var\"#s93\"<:Real, indices, rows::UnitRange{var\"#s92\"} where var\"#s92\"<:Integer, cols::UnitRange{var\"#s91\"} where var\"#s91\"<:Integer) in ArchGDAL at C:\\Users\\i am\\.julia\\packages\\ArchGDAL\\4s5Fq\\src\\raster\\rasterio.jl:389\u001b[39m"
      ]
     },
     "execution_count": 2,
     "metadata": {},
     "output_type": "execute_result"
    }
   ],
   "source": [
    "?ArchGDAL.write!"
   ]
  },
  {
   "cell_type": "code",
   "execution_count": 35,
   "metadata": {},
   "outputs": [
    {
     "data": {
      "text/plain": [
       "\"Asdf\""
      ]
     },
     "execution_count": 35,
     "metadata": {},
     "output_type": "execute_result"
    }
   ],
   "source": [
    "s = \"ASDF\"\n",
    "titlecase(s)"
   ]
  },
  {
   "cell_type": "code",
   "execution_count": 36,
   "metadata": {},
   "outputs": [
    {
     "data": {
      "text/plain": [
       "(1235, 173, 1209)"
      ]
     },
     "execution_count": 36,
     "metadata": {},
     "output_type": "execute_result"
    }
   ],
   "source": [
    "cube = faux.getData(f,\"HDFEOS/SWATHS/PRS_L2D_HCO/Data Fields/SWIR_Cube\")\n",
    "size(cube)"
   ]
  },
  {
   "cell_type": "code",
   "execution_count": 38,
   "metadata": {},
   "outputs": [
    {
     "data": {
      "text/plain": [
       "3"
      ]
     },
     "execution_count": 38,
     "metadata": {},
     "output_type": "execute_result"
    }
   ],
   "source": [
    "length(size(cube))"
   ]
  },
  {
   "cell_type": "code",
   "execution_count": 40,
   "metadata": {},
   "outputs": [
    {
     "data": {
      "text/plain": [
       "\"Aaaa\""
      ]
     },
     "execution_count": 40,
     "metadata": {},
     "output_type": "execute_result"
    }
   ],
   "source": [
    "type = \"AaAa\"\n",
    "titlecase(type)"
   ]
  },
  {
   "cell_type": "code",
   "execution_count": 42,
   "metadata": {},
   "outputs": [
    {
     "data": {
      "text/plain": [
       "\"AAAA\""
      ]
     },
     "execution_count": 42,
     "metadata": {},
     "output_type": "execute_result"
    }
   ],
   "source": [
    "uppercase(type)"
   ]
  },
  {
   "cell_type": "code",
   "execution_count": 6,
   "metadata": {},
   "outputs": [
    {
     "data": {
      "text/plain": [
       "3×3×3 Array{Int64,3}:\n",
       "[:, :, 1] =\n",
       " 0  0  0\n",
       " 0  0  0\n",
       " 0  0  0\n",
       "\n",
       "[:, :, 2] =\n",
       " 0  0  0\n",
       " 0  0  0\n",
       " 0  0  0\n",
       "\n",
       "[:, :, 3] =\n",
       " 0  0  0\n",
       " 0  0  0\n",
       " 0  0  0"
      ]
     },
     "execution_count": 6,
     "metadata": {},
     "output_type": "execute_result"
    }
   ],
   "source": [
    "c = zeros(Int, 3,3,3)"
   ]
  },
  {
   "cell_type": "code",
   "execution_count": 15,
   "metadata": {},
   "outputs": [
    {
     "data": {
      "text/plain": [
       "3×3 Array{Int64,2}:\n",
       " 1  1  1\n",
       " 1  1  1\n",
       " 1  1  1"
      ]
     },
     "execution_count": 15,
     "metadata": {},
     "output_type": "execute_result"
    }
   ],
   "source": [
    "b = ones(Int,3,3)"
   ]
  },
  {
   "cell_type": "code",
   "execution_count": 12,
   "metadata": {},
   "outputs": [
    {
     "data": {
      "text/plain": [
       "36-element Array{Int64,1}:\n",
       " 0\n",
       " 0\n",
       " 0\n",
       " 0\n",
       " 0\n",
       " 0\n",
       " 0\n",
       " 0\n",
       " 0\n",
       " 0\n",
       " 0\n",
       " 0\n",
       " 0\n",
       " ⋮\n",
       " 0\n",
       " 0\n",
       " 0\n",
       " 1\n",
       " 1\n",
       " 1\n",
       " 1\n",
       " 1\n",
       " 1\n",
       " 1\n",
       " 1\n",
       " 1"
      ]
     },
     "execution_count": 12,
     "metadata": {},
     "output_type": "execute_result"
    }
   ],
   "source": [
    "push!(c[:][:],b...)"
   ]
  },
  {
   "cell_type": "code",
   "execution_count": 16,
   "metadata": {
    "scrolled": true
   },
   "outputs": [
    {
     "ename": "LoadError",
     "evalue": "DimensionMismatch(\"mismatch in dimension 3 (expected 3 got 1)\")",
     "output_type": "error",
     "traceback": [
      "DimensionMismatch(\"mismatch in dimension 3 (expected 3 got 1)\")",
      "",
      "Stacktrace:",
      " [1] _cs at .\\abstractarray.jl:1501 [inlined]",
      " [2] _cshp at .\\abstractarray.jl:1487 [inlined]",
      " [3] _cshp at .\\abstractarray.jl:1492 [inlined]",
      " [4] _cshp at .\\abstractarray.jl:1498 [inlined]",
      " [5] cat_shape at .\\abstractarray.jl:1476 [inlined] (repeats 2 times)",
      " [6] _cat_t(::Val{1}, ::Type{T} where T, ::Array{Int64,3}, ::Vararg{Any,N} where N) at .\\abstractarray.jl:1521",
      " [7] cat_t(::Type{Int64}, ::Array{Int64,3}, ::Vararg{Any,N} where N; dims::Val{1}) at .\\abstractarray.jl:1518",
      " [8] _cat at .\\abstractarray.jl:1655 [inlined]",
      " [9] #cat#111 at .\\abstractarray.jl:1654 [inlined]",
      " [10] vcat(::Array{Int64,3}, ::Array{Int64,2}) at .\\abstractarray.jl:1660",
      " [11] top-level scope at In[16]:1",
      " [12] include_string(::Function, ::Module, ::String, ::String) at .\\loading.jl:1091"
     ]
    }
   ],
   "source": [
    "c = [c;b]"
   ]
  },
  {
   "cell_type": "code",
   "execution_count": 20,
   "metadata": {},
   "outputs": [
    {
     "data": {
      "text/plain": [
       "3×3×4 Array{Int64,3}:\n",
       "[:, :, 1] =\n",
       " 0  0  0\n",
       " 0  0  0\n",
       " 0  0  0\n",
       "\n",
       "[:, :, 2] =\n",
       " 0  0  0\n",
       " 0  0  0\n",
       " 0  0  0\n",
       "\n",
       "[:, :, 3] =\n",
       " 0  0  0\n",
       " 0  0  0\n",
       " 0  0  0\n",
       "\n",
       "[:, :, 4] =\n",
       " 1  1  1\n",
       " 1  1  1\n",
       " 1  1  1"
      ]
     },
     "execution_count": 20,
     "metadata": {},
     "output_type": "execute_result"
    }
   ],
   "source": [
    "c = cat(c,b,dims=3)"
   ]
  },
  {
   "cell_type": "code",
   "execution_count": 21,
   "metadata": {},
   "outputs": [
    {
     "ename": "LoadError",
     "evalue": "UndefVarError: rename! not defined",
     "output_type": "error",
     "traceback": [
      "UndefVarError: rename! not defined",
      "",
      "Stacktrace:",
      " [1] top-level scope at In[21]:1",
      " [2] include_string(::Function, ::Module, ::String, ::String) at .\\loading.jl:1091"
     ]
    }
   ],
   "source": [
    "rename!(c,[\"a\",\"b\",\"c\"])"
   ]
  },
  {
   "cell_type": "code",
   "execution_count": 23,
   "metadata": {},
   "outputs": [
    {
     "name": "stdout",
     "output_type": "stream",
     "text": [
      "search: p\u001b[0m\u001b[1mr\u001b[22mop\u001b[0m\u001b[1me\u001b[22mrty\u001b[0m\u001b[1mn\u001b[22m\u001b[0m\u001b[1ma\u001b[22m\u001b[0m\u001b[1mm\u001b[22m\u001b[0m\u001b[1me\u001b[22ms\n",
      "\n",
      "Couldn't find \u001b[36mrename!\u001b[39m\n",
      "Perhaps you meant read!, replace!, resize!, names or read\n"
     ]
    },
    {
     "data": {
      "text/latex": [
       "No documentation found.\n",
       "\n",
       "Binding \\texttt{rename!} does not exist.\n",
       "\n"
      ],
      "text/markdown": [
       "No documentation found.\n",
       "\n",
       "Binding `rename!` does not exist.\n"
      ],
      "text/plain": [
       "  No documentation found.\n",
       "\n",
       "  Binding \u001b[36mrename!\u001b[39m does not exist."
      ]
     },
     "execution_count": 23,
     "metadata": {},
     "output_type": "execute_result"
    }
   ],
   "source": [
    "?rename!"
   ]
  },
  {
   "cell_type": "code",
   "execution_count": 29,
   "metadata": {},
   "outputs": [
    {
     "name": "stderr",
     "output_type": "stream",
     "text": [
      "WARNING: replacing module eos_create.\n"
     ]
    },
    {
     "data": {
      "text/plain": [
       "Main.eos_create"
      ]
     },
     "execution_count": 29,
     "metadata": {},
     "output_type": "execute_result"
    }
   ],
   "source": [
    "# eos create testing\n",
    "include(\"../../code/julia/eos_create.jl\")"
   ]
  },
  {
   "cell_type": "code",
   "execution_count": 77,
   "metadata": {},
   "outputs": [
    {
     "data": {
      "text/plain": [
       "150×150 Array{Int64,2}:\n",
       " 0  0  0  0  0  0  0  0  0  0  0  0  0  …  0  0  0  0  0  0  0  0  0  0  0  0\n",
       " 0  0  0  0  0  0  0  0  0  0  0  0  0     0  0  0  0  0  0  0  0  0  0  0  0\n",
       " 0  0  0  0  0  0  0  0  0  0  0  0  0     0  0  0  0  0  0  0  0  0  0  0  0\n",
       " 0  0  0  0  0  0  0  0  0  0  0  0  0     0  0  0  0  0  0  0  0  0  0  0  0\n",
       " 0  0  0  0  0  0  0  0  0  0  0  0  0     0  0  0  0  0  0  0  0  0  0  0  0\n",
       " 0  0  0  0  0  0  0  0  0  0  0  0  0  …  0  0  0  0  0  0  0  0  0  0  0  0\n",
       " 0  0  0  0  0  0  0  0  0  0  0  0  0     0  0  0  0  0  0  0  0  0  0  0  0\n",
       " 0  0  0  0  0  0  0  0  0  0  0  0  0     0  0  0  0  0  0  0  0  0  0  0  0\n",
       " 0  0  0  0  0  0  0  0  0  0  0  0  0     0  0  0  0  0  0  0  0  0  0  0  0\n",
       " 0  0  0  0  0  0  0  0  0  0  0  0  0     0  0  0  0  0  0  0  0  0  0  0  0\n",
       " 0  0  0  0  0  0  0  0  0  0  0  0  0  …  0  0  0  0  0  0  0  0  0  0  0  0\n",
       " 0  0  0  0  0  0  0  0  0  0  0  0  0     0  0  0  0  0  0  0  0  0  0  0  0\n",
       " 0  0  0  0  0  0  0  0  0  0  0  0  0     0  0  0  0  0  0  0  0  0  0  0  0\n",
       " ⋮              ⋮              ⋮        ⋱        ⋮              ⋮           \n",
       " 0  0  0  0  0  0  0  0  0  0  0  0  0     0  0  0  0  0  0  0  0  0  0  0  0\n",
       " 0  0  0  0  0  0  0  0  0  0  0  0  0     0  0  0  0  0  0  0  0  0  0  0  0\n",
       " 0  0  0  0  0  0  0  0  0  0  0  0  0  …  0  0  0  0  0  0  0  0  0  0  0  0\n",
       " 0  0  0  0  0  0  0  0  0  0  0  0  0     0  0  0  0  0  0  0  0  0  0  0  0\n",
       " 0  0  0  0  0  0  0  0  0  0  0  0  0     0  0  0  0  0  0  0  0  0  0  0  0\n",
       " 0  0  0  0  0  0  0  0  0  0  0  0  0     0  0  0  0  0  0  0  0  0  0  0  0\n",
       " 0  0  0  0  0  0  0  0  0  0  0  0  0     0  0  0  0  0  0  0  0  0  0  0  0\n",
       " 0  0  0  0  0  0  0  0  0  0  0  0  0  …  0  0  0  0  0  0  0  0  0  0  0  0\n",
       " 0  0  0  0  0  0  0  0  0  0  0  0  0     0  0  0  0  0  0  0  0  0  0  0  0\n",
       " 0  0  0  0  0  0  0  0  0  0  0  0  0     0  0  0  0  0  0  0  0  0  0  0  0\n",
       " 0  0  0  0  0  0  0  0  0  0  0  0  0     0  0  0  0  0  0  0  0  0  0  0  0\n",
       " 0  0  0  0  0  0  0  0  0  0  0  0  0     0  0  0  0  0  0  0  0  0  0  0  0"
      ]
     },
     "execution_count": 77,
     "metadata": {},
     "output_type": "execute_result"
    }
   ],
   "source": [
    "c = zeros(Int,150,150)"
   ]
  },
  {
   "cell_type": "code",
   "execution_count": 78,
   "metadata": {},
   "outputs": [
    {
     "data": {
      "text/plain": [
       "150×150 Array{Int64,2}:\n",
       " 0  0  0  0  0  0  0  0  0  0  0  0  0  …  0  0  0  0  0  0  0  0  0  0  0  0\n",
       " 0  0  0  0  0  0  0  0  0  0  0  0  0     0  0  0  0  0  0  0  0  0  0  0  0\n",
       " 0  0  0  0  0  0  0  0  0  0  0  0  0     0  0  0  0  0  0  0  0  0  0  0  0\n",
       " 0  0  0  0  0  0  0  0  0  0  0  0  0     0  0  0  0  0  0  0  0  0  0  0  0\n",
       " 0  0  0  0  0  0  0  0  0  0  0  0  0     0  0  0  0  0  0  0  0  0  0  0  0\n",
       " 0  0  0  0  0  0  0  0  0  0  0  0  0  …  0  0  0  0  0  0  0  0  0  0  0  0\n",
       " 0  0  0  0  0  0  0  0  0  0  0  0  0     0  0  0  0  0  0  0  0  0  0  0  0\n",
       " 0  0  0  0  0  0  0  0  0  0  0  0  0     0  0  0  0  0  0  0  0  0  0  0  0\n",
       " 0  0  0  0  0  0  0  0  0  0  0  0  0     0  0  0  0  0  0  0  0  0  0  0  0\n",
       " 0  0  0  0  0  0  0  0  0  0  0  0  0     0  0  0  0  0  0  0  0  0  0  0  0\n",
       " 0  0  0  0  0  0  0  0  0  0  0  0  0  …  0  0  0  0  0  0  0  0  0  0  0  0\n",
       " 0  0  0  0  0  0  0  0  0  0  0  0  0     0  0  0  0  0  0  0  0  0  0  0  0\n",
       " 0  0  0  0  0  0  0  0  0  0  0  0  0     0  0  0  0  0  0  0  0  0  0  0  0\n",
       " ⋮              ⋮              ⋮        ⋱        ⋮              ⋮           \n",
       " 0  0  0  0  0  0  0  0  0  0  0  0  0     0  0  0  0  0  0  0  0  0  0  0  0\n",
       " 0  0  0  0  0  0  0  0  0  0  0  0  0     0  0  0  0  0  0  0  0  0  0  0  0\n",
       " 0  0  0  0  0  0  0  0  0  0  0  0  0  …  0  0  0  0  0  0  0  0  0  0  0  0\n",
       " 0  0  0  0  0  0  0  0  0  0  0  0  0     0  0  0  0  0  0  0  0  0  0  0  0\n",
       " 0  0  0  0  0  0  0  0  0  0  0  0  0     0  0  0  0  0  0  0  0  0  0  0  0\n",
       " 0  0  0  0  0  0  0  0  0  0  0  0  0     0  0  0  0  0  0  0  0  0  0  0  0\n",
       " 0  0  0  0  0  0  0  0  0  0  0  0  0     0  0  0  0  0  0  0  0  0  0  0  0\n",
       " 0  0  0  0  0  0  0  0  0  0  0  0  0  …  0  0  0  0  0  0  0  0  0  0  0  0\n",
       " 0  0  0  0  0  0  0  0  0  0  0  0  0     0  0  0  0  0  0  0  0  0  0  0  0\n",
       " 0  0  0  0  0  0  0  0  0  0  0  0  0     0  0  0  0  0  0  0  0  0  0  0  0\n",
       " 0  0  0  0  0  0  0  0  0  0  0  0  0     0  0  0  0  0  0  0  0  0  0  0  0\n",
       " 0  0  0  0  0  0  0  0  0  0  0  0  0     0  0  0  0  0  0  0  0  0  0  0  0"
      ]
     },
     "execution_count": 78,
     "metadata": {},
     "output_type": "execute_result"
    }
   ],
   "source": [
    "b = c"
   ]
  },
  {
   "cell_type": "code",
   "execution_count": 80,
   "metadata": {},
   "outputs": [
    {
     "data": {
      "text/plain": [
       "150×150×2 Array{Int64,3}:\n",
       "[:, :, 1] =\n",
       " 0  0  0  0  0  0  0  0  0  0  0  0  0  …  0  0  0  0  0  0  0  0  0  0  0  0\n",
       " 0  0  0  0  0  0  0  0  0  0  0  0  0     0  0  0  0  0  0  0  0  0  0  0  0\n",
       " 0  0  0  0  0  0  0  0  0  0  0  0  0     0  0  0  0  0  0  0  0  0  0  0  0\n",
       " 0  0  0  0  0  0  0  0  0  0  0  0  0     0  0  0  0  0  0  0  0  0  0  0  0\n",
       " 0  0  0  0  0  0  0  0  0  0  0  0  0     0  0  0  0  0  0  0  0  0  0  0  0\n",
       " 0  0  0  0  0  0  0  0  0  0  0  0  0  …  0  0  0  0  0  0  0  0  0  0  0  0\n",
       " 0  0  0  0  0  0  0  0  0  0  0  0  0     0  0  0  0  0  0  0  0  0  0  0  0\n",
       " 0  0  0  0  0  0  0  0  0  0  0  0  0     0  0  0  0  0  0  0  0  0  0  0  0\n",
       " 0  0  0  0  0  0  0  0  0  0  0  0  0     0  0  0  0  0  0  0  0  0  0  0  0\n",
       " 0  0  0  0  0  0  0  0  0  0  0  0  0     0  0  0  0  0  0  0  0  0  0  0  0\n",
       " 0  0  0  0  0  0  0  0  0  0  0  0  0  …  0  0  0  0  0  0  0  0  0  0  0  0\n",
       " 0  0  0  0  0  0  0  0  0  0  0  0  0     0  0  0  0  0  0  0  0  0  0  0  0\n",
       " 0  0  0  0  0  0  0  0  0  0  0  0  0     0  0  0  0  0  0  0  0  0  0  0  0\n",
       " ⋮              ⋮              ⋮        ⋱        ⋮              ⋮           \n",
       " 0  0  0  0  0  0  0  0  0  0  0  0  0     0  0  0  0  0  0  0  0  0  0  0  0\n",
       " 0  0  0  0  0  0  0  0  0  0  0  0  0     0  0  0  0  0  0  0  0  0  0  0  0\n",
       " 0  0  0  0  0  0  0  0  0  0  0  0  0  …  0  0  0  0  0  0  0  0  0  0  0  0\n",
       " 0  0  0  0  0  0  0  0  0  0  0  0  0     0  0  0  0  0  0  0  0  0  0  0  0\n",
       " 0  0  0  0  0  0  0  0  0  0  0  0  0     0  0  0  0  0  0  0  0  0  0  0  0\n",
       " 0  0  0  0  0  0  0  0  0  0  0  0  0     0  0  0  0  0  0  0  0  0  0  0  0\n",
       " 0  0  0  0  0  0  0  0  0  0  0  0  0     0  0  0  0  0  0  0  0  0  0  0  0\n",
       " 0  0  0  0  0  0  0  0  0  0  0  0  0  …  0  0  0  0  0  0  0  0  0  0  0  0\n",
       " 0  0  0  0  0  0  0  0  0  0  0  0  0     0  0  0  0  0  0  0  0  0  0  0  0\n",
       " 0  0  0  0  0  0  0  0  0  0  0  0  0     0  0  0  0  0  0  0  0  0  0  0  0\n",
       " 0  0  0  0  0  0  0  0  0  0  0  0  0     0  0  0  0  0  0  0  0  0  0  0  0\n",
       " 0  0  0  0  0  0  0  0  0  0  0  0  0     0  0  0  0  0  0  0  0  0  0  0  0\n",
       "\n",
       "[:, :, 2] =\n",
       " 0  0  0  0  0  0  0  0  0  0  0  0  0  …  0  0  0  0  0  0  0  0  0  0  0  0\n",
       " 0  0  0  0  0  0  0  0  0  0  0  0  0     0  0  0  0  0  0  0  0  0  0  0  0\n",
       " 0  0  0  0  0  0  0  0  0  0  0  0  0     0  0  0  0  0  0  0  0  0  0  0  0\n",
       " 0  0  0  0  0  0  0  0  0  0  0  0  0     0  0  0  0  0  0  0  0  0  0  0  0\n",
       " 0  0  0  0  0  0  0  0  0  0  0  0  0     0  0  0  0  0  0  0  0  0  0  0  0\n",
       " 0  0  0  0  0  0  0  0  0  0  0  0  0  …  0  0  0  0  0  0  0  0  0  0  0  0\n",
       " 0  0  0  0  0  0  0  0  0  0  0  0  0     0  0  0  0  0  0  0  0  0  0  0  0\n",
       " 0  0  0  0  0  0  0  0  0  0  0  0  0     0  0  0  0  0  0  0  0  0  0  0  0\n",
       " 0  0  0  0  0  0  0  0  0  0  0  0  0     0  0  0  0  0  0  0  0  0  0  0  0\n",
       " 0  0  0  0  0  0  0  0  0  0  0  0  0     0  0  0  0  0  0  0  0  0  0  0  0\n",
       " 0  0  0  0  0  0  0  0  0  0  0  0  0  …  0  0  0  0  0  0  0  0  0  0  0  0\n",
       " 0  0  0  0  0  0  0  0  0  0  0  0  0     0  0  0  0  0  0  0  0  0  0  0  0\n",
       " 0  0  0  0  0  0  0  0  0  0  0  0  0     0  0  0  0  0  0  0  0  0  0  0  0\n",
       " ⋮              ⋮              ⋮        ⋱        ⋮              ⋮           \n",
       " 0  0  0  0  0  0  0  0  0  0  0  0  0     0  0  0  0  0  0  0  0  0  0  0  0\n",
       " 0  0  0  0  0  0  0  0  0  0  0  0  0     0  0  0  0  0  0  0  0  0  0  0  0\n",
       " 0  0  0  0  0  0  0  0  0  0  0  0  0  …  0  0  0  0  0  0  0  0  0  0  0  0\n",
       " 0  0  0  0  0  0  0  0  0  0  0  0  0     0  0  0  0  0  0  0  0  0  0  0  0\n",
       " 0  0  0  0  0  0  0  0  0  0  0  0  0     0  0  0  0  0  0  0  0  0  0  0  0\n",
       " 0  0  0  0  0  0  0  0  0  0  0  0  0     0  0  0  0  0  0  0  0  0  0  0  0\n",
       " 0  0  0  0  0  0  0  0  0  0  0  0  0     0  0  0  0  0  0  0  0  0  0  0  0\n",
       " 0  0  0  0  0  0  0  0  0  0  0  0  0  …  0  0  0  0  0  0  0  0  0  0  0  0\n",
       " 0  0  0  0  0  0  0  0  0  0  0  0  0     0  0  0  0  0  0  0  0  0  0  0  0\n",
       " 0  0  0  0  0  0  0  0  0  0  0  0  0     0  0  0  0  0  0  0  0  0  0  0  0\n",
       " 0  0  0  0  0  0  0  0  0  0  0  0  0     0  0  0  0  0  0  0  0  0  0  0  0\n",
       " 0  0  0  0  0  0  0  0  0  0  0  0  0     0  0  0  0  0  0  0  0  0  0  0  0"
      ]
     },
     "execution_count": 80,
     "metadata": {},
     "output_type": "execute_result"
    }
   ],
   "source": [
    "b = cat(b,c,dims=3)"
   ]
  },
  {
   "cell_type": "code",
   "execution_count": null,
   "metadata": {},
   "outputs": [],
   "source": []
  }
 ],
 "metadata": {
  "kernelspec": {
   "display_name": "Julia 1.5.1",
   "language": "julia",
   "name": "julia-1.5"
  },
  "language_info": {
   "file_extension": ".jl",
   "mimetype": "application/julia",
   "name": "julia",
   "version": "1.5.1"
  }
 },
 "nbformat": 4,
 "nbformat_minor": 4
}
