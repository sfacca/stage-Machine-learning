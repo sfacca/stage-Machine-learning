{
 "cells": [
  {
   "cell_type": "code",
   "execution_count": 9,
   "metadata": {},
   "outputs": [
    {
     "name": "stderr",
     "output_type": "stream",
     "text": [
      "WARNING: replacing module HDF5Tree.\n",
      "WARNING: replacing module HDF5fd.\n",
      "WARNING: replacing module printHDF.\n",
      "WARNING: replacing module drawTree.\n"
     ]
    },
    {
     "data": {
      "text/plain": [
       "closeall (generic function with 1 method)"
      ]
     },
     "execution_count": 9,
     "metadata": {},
     "output_type": "execute_result"
    }
   ],
   "source": [
    "#include(\"../../code/julia/hdfeos_convert.jl\")\n",
    "include(\"../../code/julia/hdf5 tree.jl\")\n",
    "include(\"../../code/julia/HDF5filesDict.jl\")\n",
    "include(\"../../code/julia/printHDF.jl\")\n",
    "include(\"../../code/julia/drawTree.jl\")\n",
    "closeall = HDF5fd.closeall"
   ]
  },
  {
   "cell_type": "code",
   "execution_count": 17,
   "metadata": {},
   "outputs": [
    {
     "name": "stderr",
     "output_type": "stream",
     "text": [
      "WARNING: replacing module hdfeos.\n"
     ]
    },
    {
     "data": {
      "text/plain": [
       "Main.hdfeos"
      ]
     },
     "execution_count": 17,
     "metadata": {},
     "output_type": "execute_result"
    }
   ],
   "source": [
    "include(\"../../code/julia/hdfeos.jl\")"
   ]
  },
  {
   "cell_type": "code",
   "execution_count": 6,
   "metadata": {},
   "outputs": [
    {
     "data": {
      "text/plain": [
       "Main.faux"
      ]
     },
     "execution_count": 6,
     "metadata": {},
     "output_type": "execute_result"
    }
   ],
   "source": [
    "include(\"../../code/julia/faux.jl\")"
   ]
  },
  {
   "cell_type": "code",
   "execution_count": 10,
   "metadata": {},
   "outputs": [
    {
     "data": {
      "text/plain": [
       "Main.HDF5fd.filesDict(Dict{Any,Any}(), 0)"
      ]
     },
     "execution_count": 10,
     "metadata": {},
     "output_type": "execute_result"
    }
   ],
   "source": [
    "openfiles = HDF5fd.filesDict()\n"
   ]
  },
  {
   "cell_type": "markdown",
   "metadata": {},
   "source": [
    "* https://github.com/lbusett/prismaread/blob/master/R/pr_convert.R"
   ]
  },
  {
   "cell_type": "code",
   "execution_count": 18,
   "metadata": {},
   "outputs": [
    {
     "name": "stdout",
     "output_type": "stream",
     "text": [
      "count((x->begin\n",
      "            #= In[18]:6 =#\n",
      "            x == 0\n",
      "        end), vnir_mat) = 193000\n"
     ]
    },
    {
     "data": {
      "text/plain": [
       "256×1000 Array{Float32,2}:\n",
       " 0.0  0.0  0.0  0.0  0.0  0.0  0.0  0.0  …  0.0  0.0  0.0  0.0  0.0  0.0  0.0\n",
       " 0.0  0.0  0.0  0.0  0.0  0.0  0.0  0.0     0.0  0.0  0.0  0.0  0.0  0.0  0.0\n",
       " 0.0  0.0  0.0  0.0  0.0  0.0  0.0  0.0     0.0  0.0  0.0  0.0  0.0  0.0  0.0\n",
       " 0.0  0.0  0.0  0.0  0.0  0.0  0.0  0.0     0.0  0.0  0.0  0.0  0.0  0.0  0.0\n",
       " 0.0  0.0  0.0  0.0  0.0  0.0  0.0  0.0     0.0  0.0  0.0  0.0  0.0  0.0  0.0\n",
       " 0.0  0.0  0.0  0.0  0.0  0.0  0.0  0.0  …  0.0  0.0  0.0  0.0  0.0  0.0  0.0\n",
       " 0.0  0.0  0.0  0.0  0.0  0.0  0.0  0.0     0.0  0.0  0.0  0.0  0.0  0.0  0.0\n",
       " 0.0  0.0  0.0  0.0  0.0  0.0  0.0  0.0     0.0  0.0  0.0  0.0  0.0  0.0  0.0\n",
       " 0.0  0.0  0.0  0.0  0.0  0.0  0.0  0.0     0.0  0.0  0.0  0.0  0.0  0.0  0.0\n",
       " 0.0  0.0  0.0  0.0  0.0  0.0  0.0  0.0     0.0  0.0  0.0  0.0  0.0  0.0  0.0\n",
       " 0.0  0.0  0.0  0.0  0.0  0.0  0.0  0.0  …  0.0  0.0  0.0  0.0  0.0  0.0  0.0\n",
       " 0.0  0.0  0.0  0.0  0.0  0.0  0.0  0.0     0.0  0.0  0.0  0.0  0.0  0.0  0.0\n",
       " 0.0  0.0  0.0  0.0  0.0  0.0  0.0  0.0     0.0  0.0  0.0  0.0  0.0  0.0  0.0\n",
       " ⋮                        ⋮              ⋱            ⋮                   \n",
       " 0.0  0.0  0.0  0.0  0.0  0.0  0.0  0.0     0.0  0.0  0.0  0.0  0.0  0.0  0.0\n",
       " 0.0  0.0  0.0  0.0  0.0  0.0  0.0  0.0  …  0.0  0.0  0.0  0.0  0.0  0.0  0.0\n",
       " 0.0  0.0  0.0  0.0  0.0  0.0  0.0  0.0     0.0  0.0  0.0  0.0  0.0  0.0  0.0\n",
       " 0.0  0.0  0.0  0.0  0.0  0.0  0.0  0.0     0.0  0.0  0.0  0.0  0.0  0.0  0.0\n",
       " 0.0  0.0  0.0  0.0  0.0  0.0  0.0  0.0     0.0  0.0  0.0  0.0  0.0  0.0  0.0\n",
       " 0.0  0.0  0.0  0.0  0.0  0.0  0.0  0.0     0.0  0.0  0.0  0.0  0.0  0.0  0.0\n",
       " 0.0  0.0  0.0  0.0  0.0  0.0  0.0  0.0  …  0.0  0.0  0.0  0.0  0.0  0.0  0.0\n",
       " 0.0  0.0  0.0  0.0  0.0  0.0  0.0  0.0     0.0  0.0  0.0  0.0  0.0  0.0  0.0\n",
       " 0.0  0.0  0.0  0.0  0.0  0.0  0.0  0.0     0.0  0.0  0.0  0.0  0.0  0.0  0.0\n",
       " 0.0  0.0  0.0  0.0  0.0  0.0  0.0  0.0     0.0  0.0  0.0  0.0  0.0  0.0  0.0\n",
       " 0.0  0.0  0.0  0.0  0.0  0.0  0.0  0.0     0.0  0.0  0.0  0.0  0.0  0.0  0.0\n",
       " 0.0  0.0  0.0  0.0  0.0  0.0  0.0  0.0  …  0.0  0.0  0.0  0.0  0.0  0.0  0.0"
      ]
     },
     "execution_count": 18,
     "metadata": {},
     "output_type": "execute_result"
    }
   ],
   "source": [
    "using SparseArrays\n",
    "in_file=\"data/PRS_L2D_STD_20200627102334_20200627102339_0001.he5\"\n",
    "file = HDF5fd.open(openfiles,in_file,\"r\")\n",
    "\n",
    "vnir_mat = faux.getData(file, \"//KDP_AUX/Cw_Vnir_Matrix\")\n",
    "@show count(x->x==0, vnir_mat)\n",
    "#vnir_mat = sparse(vnir_mat)\n",
    "vnir_mat\n"
   ]
  },
  {
   "cell_type": "code",
   "execution_count": null,
   "metadata": {},
   "outputs": [],
   "source": []
  },
  {
   "cell_type": "code",
   "execution_count": 15,
   "metadata": {},
   "outputs": [
    {
     "name": "stdout",
     "output_type": "stream",
     "text": [
      "chiuso 3 file\n"
     ]
    }
   ],
   "source": [
    "closeall(openfiles)"
   ]
  },
  {
   "cell_type": "code",
   "execution_count": 13,
   "metadata": {},
   "outputs": [
    {
     "data": {
      "text/plain": [
       "9-element Array{Int64,1}:\n",
       " 1\n",
       " 2\n",
       " 3\n",
       " 4\n",
       " 5\n",
       " 6\n",
       " 7\n",
       " 8\n",
       " 9"
      ]
     },
     "execution_count": 13,
     "metadata": {},
     "output_type": "execute_result"
    }
   ],
   "source": [
    "a=[1,2,3,4,5]\n",
    "b=[6,7,8,9]\n",
    "c=[a...,b...]"
   ]
  },
  {
   "cell_type": "code",
   "execution_count": 16,
   "metadata": {},
   "outputs": [
    {
     "data": {
      "text/plain": [
       "9-element Array{Int64,1}:\n",
       " 1\n",
       " 2\n",
       " 3\n",
       " 4\n",
       " 5\n",
       " 6\n",
       " 7\n",
       " 8\n",
       " 9"
      ]
     },
     "execution_count": 16,
     "metadata": {},
     "output_type": "execute_result"
    }
   ],
   "source": [
    "c=vcat(a,b)"
   ]
  },
  {
   "cell_type": "code",
   "execution_count": 3,
   "metadata": {},
   "outputs": [
    {
     "data": {
      "text/plain": [
       "tryIf (generic function with 1 method)"
      ]
     },
     "execution_count": 3,
     "metadata": {},
     "output_type": "execute_result"
    }
   ],
   "source": [
    "function tryIf(x)\n",
    "    if x in [1,2,3,\"asd\",false]\n",
    "        println(\"$x ok\")\n",
    "        else \n",
    "        println(\"$x non ok\")\n",
    "    end\n",
    "    \n",
    "end"
   ]
  },
  {
   "cell_type": "code",
   "execution_count": 4,
   "metadata": {},
   "outputs": [
    {
     "name": "stdout",
     "output_type": "stream",
     "text": [
      "1 ok\n",
      "asd ok\n",
      "kmkgnmg non ok\n"
     ]
    }
   ],
   "source": [
    "x = \"ciao\"\n",
    "tryIf(1)\n",
    "tryIf(\"asd\")\n",
    "tryIf(\"kmkgnmg\")"
   ]
  },
  {
   "cell_type": "code",
   "execution_count": 27,
   "metadata": {
    "scrolled": false
   },
   "outputs": [
    {
     "data": {
      "text/plain": [
       "5-element Array{String,1}:\n",
       " \"Name\"\n",
       " \"Description\"\n",
       " \"Formula\"\n",
       " \"Sensitivity\"\n",
       " \"Reference\""
      ]
     },
     "execution_count": 27,
     "metadata": {},
     "output_type": "execute_result"
    }
   ],
   "source": [
    "using CSV\n",
    "using DataFrames\n",
    "mkpath(\"downloads/\")\n",
    "download(\"https://github.com/sfacca/stage-Machine-learning/raw/master/extdata/md_indexes_list.txt\",\"downloads/indexes_list.txt\")\n",
    "index_list = CSV.read(\"downloads/indexes_list.txt\")\n",
    "\n",
    "select!(index_list, Not(:id))\n",
    "names(index_list)"
   ]
  },
  {
   "cell_type": "code",
   "execution_count": 41,
   "metadata": {},
   "outputs": [
    {
     "data": {
      "text/plain": [
       "132-element Array{String,1}:\n",
       " \"1 / R550 - 1 / R700\"\n",
       " \"R450 / R550\"\n",
       " \"R450 / R690\"\n",
       " \"0.5*(R2015 + R2195) - R2106\"\n",
       " \"(R675 * R690) / R683 ^ 2\"\n",
       " \"R760 / R700 - 1\"\n",
       " \"1 / R510 - 1 / R550\"\n",
       " \"1/R515 - 1/R550\"\n",
       " \"1 / R510 - 1 / R700\"\n",
       " \"1/R515 - 1/R770\"\n",
       " \"(1/R515 - 1/R550) * R770\"\n",
       " \"(1/R515 - 1/R700) * R770\"\n",
       " \"R695 / R420\"\n",
       " ⋮\n",
       " \"3 * ((R750 - R705) - 0.2 * (R750 - R550)*(R750/R705))\"\n",
       " \"(3 * ((R750 - R705) - 0.2 * (R750 - R550)*(R750/R705))) / ((1 + 0.16) * (R750 - R705) / (R750 + R705 + 0.16))\"\n",
       " \"0\"\n",
       " \"0.5 * (120 * (R750 - R550) - 200 * (R670 - R550))\"\n",
       " \"R740/R720\"\n",
       " \"(R734 - R747)/(R715 + R726)\"\n",
       " \"(R734 - R747)/(R715 + R720)\"\n",
       " \"R750 / R710\"\n",
       " \"R600 / R700\"\n",
       " \"R600 / R700\"\n",
       " \"R600 / R700\"\n",
       " \"R600 / R700\""
      ]
     },
     "execution_count": 41,
     "metadata": {},
     "output_type": "execute_result"
    }
   ],
   "source": [
    "index_list[:Formula]"
   ]
  },
  {
   "cell_type": "code",
   "execution_count": 179,
   "metadata": {},
   "outputs": [
    {
     "data": {
      "text/html": [
       "<table class=\"data-frame\"><thead><tr><th></th><th>Name</th><th>Formula</th></tr><tr><th></th><th>String</th><th>String</th></tr></thead><tbody><p>132 rows × 2 columns</p><tr><th>1</th><td>ARI</td><td>1 / R550 - 1 / R700</td></tr><tr><th>2</th><td>BGI</td><td>R450 / R550</td></tr><tr><th>3</th><td>BRI</td><td>R450 / R690</td></tr><tr><th>4</th><td>CAI</td><td>0.5*(R2015 + R2195) - R2106</td></tr><tr><th>5</th><td>CI</td><td>(R675 * R690) / R683 ^ 2</td></tr><tr><th>6</th><td>CI2</td><td>R760 / R700 - 1</td></tr><tr><th>7</th><td>CRI</td><td>1 / R510 - 1 / R550</td></tr><tr><th>8</th><td>CRI1</td><td>1/R515 - 1/R550</td></tr><tr><th>9</th><td>CRI2</td><td>1 / R510 - 1 / R700</td></tr><tr><th>10</th><td>CRI2</td><td>1/R515 - 1/R770</td></tr><tr><th>11</th><td>CRI3</td><td>(1/R515 - 1/R550) * R770</td></tr><tr><th>12</th><td>CRI4</td><td>(1/R515 - 1/R700) * R770</td></tr><tr><th>13</th><td>CSI</td><td>R695 / R420</td></tr><tr><th>14</th><td>CSI2</td><td>R695 / R760</td></tr><tr><th>15</th><td>CSI3</td><td>R605 / R760</td></tr><tr><th>16</th><td>CSI4</td><td>R710 / R760</td></tr><tr><th>17</th><td>CSI5</td><td>R550</td></tr><tr><th>18</th><td>CUR</td><td>R675 * R550 / R2683</td></tr><tr><th>19</th><td>Datt</td><td>(R850 - R710)/(R850 - R680)</td></tr><tr><th>20</th><td>Datt2</td><td>R850 / R710</td></tr><tr><th>21</th><td>Datt4</td><td>R672/(R550 * R708)</td></tr><tr><th>22</th><td>Datt5</td><td>R672 / R550</td></tr><tr><th>23</th><td>Datt6</td><td>R860 / (R550 * R708)</td></tr><tr><th>24</th><td>Datt7</td><td>(R860 - R2218) / (R860 - R1928)</td></tr><tr><th>25</th><td>Datt8</td><td>(R860 - R1788) / (R860 - R1928)</td></tr><tr><th>26</th><td>DD</td><td>(R749 - R720) - (R701 - R672)</td></tr><tr><th>27</th><td>DDn</td><td>2 * (R710 - R660 - R760)</td></tr><tr><th>28</th><td>DSWI</td><td>(R802 - R547) / (R1657 + R682)</td></tr><tr><th>29</th><td>DWSI1</td><td>R800 / R1660</td></tr><tr><th>30</th><td>DWSI2</td><td>R1660 / R550</td></tr><tr><th>&vellip;</th><td>&vellip;</td><td>&vellip;</td></tr></tbody></table>"
      ],
      "text/latex": [
       "\\begin{tabular}{r|cc}\n",
       "\t& Name & Formula\\\\\n",
       "\t\\hline\n",
       "\t& String & String\\\\\n",
       "\t\\hline\n",
       "\t1 & ARI & 1 / R550 - 1 / R700 \\\\\n",
       "\t2 & BGI & R450 / R550 \\\\\n",
       "\t3 & BRI & R450 / R690 \\\\\n",
       "\t4 & CAI & 0.5*(R2015 + R2195) - R2106 \\\\\n",
       "\t5 & CI & (R675 * R690) / R683 \\^ 2 \\\\\n",
       "\t6 & CI2 & R760 / R700 - 1 \\\\\n",
       "\t7 & CRI & 1 / R510 - 1 / R550 \\\\\n",
       "\t8 & CRI1 & 1/R515 - 1/R550 \\\\\n",
       "\t9 & CRI2 & 1 / R510 - 1 / R700 \\\\\n",
       "\t10 & CRI2 & 1/R515 - 1/R770 \\\\\n",
       "\t11 & CRI3 & (1/R515 - 1/R550) * R770 \\\\\n",
       "\t12 & CRI4 & (1/R515 - 1/R700) * R770 \\\\\n",
       "\t13 & CSI & R695 / R420 \\\\\n",
       "\t14 & CSI2 & R695 / R760 \\\\\n",
       "\t15 & CSI3 & R605 / R760 \\\\\n",
       "\t16 & CSI4 & R710 / R760 \\\\\n",
       "\t17 & CSI5 & R550 \\\\\n",
       "\t18 & CUR & R675 * R550 / R2683 \\\\\n",
       "\t19 & Datt & (R850 - R710)/(R850 - R680) \\\\\n",
       "\t20 & Datt2 & R850 / R710 \\\\\n",
       "\t21 & Datt4 & R672/(R550 * R708) \\\\\n",
       "\t22 & Datt5 & R672 / R550 \\\\\n",
       "\t23 & Datt6 & R860 / (R550 * R708) \\\\\n",
       "\t24 & Datt7 & (R860 - R2218) / (R860 - R1928) \\\\\n",
       "\t25 & Datt8 & (R860 - R1788) / (R860 - R1928) \\\\\n",
       "\t26 & DD & (R749 - R720) - (R701 - R672) \\\\\n",
       "\t27 & DDn & 2 * (R710 - R660 - R760) \\\\\n",
       "\t28 & DSWI & (R802 - R547) / (R1657 + R682) \\\\\n",
       "\t29 & DWSI1 & R800 / R1660 \\\\\n",
       "\t30 & DWSI2 & R1660 / R550 \\\\\n",
       "\t$\\dots$ & $\\dots$ & $\\dots$ \\\\\n",
       "\\end{tabular}\n"
      ],
      "text/plain": [
       "132×2 DataFrame. Omitted printing of 1 columns\n",
       "│ Row │ Name          │\n",
       "│     │ \u001b[90mString\u001b[39m        │\n",
       "├─────┼───────────────┤\n",
       "│ 1   │ ARI           │\n",
       "│ 2   │ BGI           │\n",
       "│ 3   │ BRI           │\n",
       "│ 4   │ CAI           │\n",
       "│ 5   │ CI            │\n",
       "│ 6   │ CI2           │\n",
       "│ 7   │ CRI           │\n",
       "│ 8   │ CRI1          │\n",
       "│ 9   │ CRI2          │\n",
       "│ 10  │ CRI2          │\n",
       "⋮\n",
       "│ 122 │ TCARI2/OSAVI2 │\n",
       "│ 123 │ TGI           │\n",
       "│ 124 │ TVI           │\n",
       "│ 125 │ VOG1          │\n",
       "│ 126 │ VOG2          │\n",
       "│ 127 │ VOG3          │\n",
       "│ 128 │ ZTM           │\n",
       "│ 129 │ myindex       │\n",
       "│ 130 │ 009066L       │\n",
       "│ 131 │ 009449D       │\n",
       "│ 132 │ 008530N       │"
      ]
     },
     "execution_count": 179,
     "metadata": {},
     "output_type": "execute_result"
    }
   ],
   "source": [
    "using CSV\n",
    "using DataFrames\n",
    "using LinearAlgebra\n",
    "using DataFramesMeta\n",
    "#=mkpath(\"downloads\")\n",
    "download(\"https://github.com/sfacca/stage-Machine-learning/raw/master/extdata/md_indexes_list.txt\",\"downloads/indexes_list.txt\")\n",
    "=#\n",
    "index_list = CSV.read(\"downloads/indexes_list.txt\")\n",
    "select!(index_list, Not(:id))\n",
    "\n",
    "av_indexes= select(index_list, [:Name,:Formula])\n",
    "indexes = [\"ARI\",\"BGI\",\"BRI\"]\n",
    "sel_indexes = filter(row -> row.Name ∈ indexes, av_indexes)\n",
    "av_indexes\n"
   ]
  },
  {
   "cell_type": "code",
   "execution_count": 202,
   "metadata": {},
   "outputs": [
    {
     "ename": "LoadError",
     "evalue": "SystemError: opening file \"C:\\\\Users\\\\IAM~1\\\\AppData\\\\Local\\\\Tempout/ang_df.ang\": No such file or directory",
     "output_type": "error",
     "traceback": [
      "SystemError: opening file \"C:\\\\Users\\\\IAM~1\\\\AppData\\\\Local\\\\Tempout/ang_df.ang\": No such file or directory",
      "",
      "Stacktrace:",
      " [1] systemerror(::String, ::Int32; extrainfo::Nothing) at .\\error.jl:168",
      " [2] #systemerror#48 at .\\error.jl:167 [inlined]",
      " [3] systemerror at .\\error.jl:167 [inlined]",
      " [4] open(::String; lock::Bool, read::Nothing, write::Nothing, create::Nothing, truncate::Bool, append::Nothing) at .\\iostream.jl:284",
      " [5] open(::String, ::String; lock::Bool) at .\\iostream.jl:346",
      " [6] open(::String, ::String) at .\\iostream.jl:346",
      " [7] open(::CSV.var\"#73#74\"{CSV.var\"#66#67\"{Bool,Bool,Tables.Schema{(:date, :sunzen, :sunaz),Tuple{String,Float32,Float32}},DataFrames.DataFrameRows{DataFrame,DataFrames.Index},CSV.Options{UInt8,UInt8,Nothing,Tuple{},CSV.var\"#62#64\"},Tuple{Symbol,Symbol,Symbol},Int64,Int64,Array{UInt8,1}}}, ::String, ::Vararg{String,N} where N; kwargs::Base.Iterators.Pairs{Union{},Union{},Tuple{},NamedTuple{(),Tuple{}}}) at .\\io.jl:323",
      " [8] open at .\\io.jl:323 [inlined]",
      " [9] with at C:\\Users\\i am\\.julia\\packages\\CSV\\MKemC\\src\\write.jl:246 [inlined]",
      " [10] #write#65 at C:\\Users\\i am\\.julia\\packages\\CSV\\MKemC\\src\\write.jl:174 [inlined]",
      " [11] write(::String, ::DataFrame; delim::Char, quotechar::Char, openquotechar::Nothing, closequotechar::Nothing, escapechar::Char, newline::Char, decimal::Char, dateformat::Nothing, quotestrings::Bool, missingstring::String, transform::CSV.var\"#62#64\", bom::Bool, append::Bool, writeheader::Nothing, kwargs::Base.Iterators.Pairs{Union{},Union{},Tuple{},NamedTuple{(),Tuple{}}}) at C:\\Users\\i am\\.julia\\packages\\CSV\\MKemC\\src\\write.jl:162",
      " [12] top-level scope at In[202]:7",
      " [13] include_string(::Function, ::Module, ::String, ::String) at .\\loading.jl:1091"
     ]
    }
   ],
   "source": [
    "# get additional metadata\n",
    "    sunzen  = hdfeos.getAttr(file, \"Sun_zenith_angle\")\n",
    "    sunaz  = hdfeos.getAttr(file, \"Sun_azimuth_angle\")\n",
    "    acqtime  = hdfeos.getAttr(file, \"Product_StartTime\")\n",
    "\n",
    "ang_df = DataFrame(date = acqtime),sunzen = sunzen,sunaz = sunaz)\n",
    "CSV.write(\"out/ang_df.ang\",ang_df,delim=' ',quotechar='\"',quotestrings=true)"
   ]
  },
  {
   "cell_type": "code",
   "execution_count": 201,
   "metadata": {},
   "outputs": [
    {
     "data": {
      "text/plain": [
       "\"asdfgh_asd\""
      ]
     },
     "execution_count": 201,
     "metadata": {},
     "output_type": "execute_result"
    }
   ],
   "source": [
    "string(\"asd\",\"fgh\",\"_asd\")"
   ]
  },
  {
   "cell_type": "code",
   "execution_count": 141,
   "metadata": {},
   "outputs": [
    {
     "data": {
      "text/plain": [
       "extractWvl (generic function with 1 method)"
      ]
     },
     "execution_count": 141,
     "metadata": {},
     "output_type": "execute_result"
    }
   ],
   "source": [
    "function extractWvl(str::String)#prende stringa, ritorna array di numeri\n",
    "  currnum = 0\n",
    "  res::Array{Int,1} = []\n",
    "  intc = ['1','2','3','4','5','6','7','8','9','0']\n",
    "  afterR = false\n",
    "  for char in str\n",
    "    if afterR\n",
    "      if char in intc\n",
    "        currnum = currnum*10\n",
    "        currnum = currnum + parse(Int,char)             \n",
    "                \n",
    "      else\n",
    "        push!(res,currnum)\n",
    "        currnum=0\n",
    "        afterR = false\n",
    "      end    \n",
    "    end\n",
    "    if char == 'R'\n",
    "      afterR = true\n",
    "    end\n",
    "  end\n",
    "  push!(res,currnum)  \n",
    "  res\n",
    "end"
   ]
  },
  {
   "cell_type": "code",
   "execution_count": 142,
   "metadata": {},
   "outputs": [
    {
     "data": {
      "text/plain": [
       "92-element Array{Int64,1}:\n",
       "    0\n",
       "  415\n",
       "  420\n",
       "  430\n",
       "  435\n",
       "  440\n",
       "  445\n",
       "  450\n",
       "  470\n",
       "  475\n",
       "  500\n",
       "  510\n",
       "  513\n",
       "    ⋮\n",
       " 1928\n",
       " 2015\n",
       " 2090\n",
       " 2106\n",
       " 2133\n",
       " 2195\n",
       " 2209\n",
       " 2210\n",
       " 2218\n",
       " 2225\n",
       " 2280\n",
       " 2683"
      ]
     },
     "execution_count": 142,
     "metadata": {},
     "output_type": "execute_result"
    }
   ],
   "source": [
    "req_wls = sort(unique(vcat(extractWvl.(av_indexes[:Formula])...)))"
   ]
  },
  {
   "cell_type": "code",
   "execution_count": 234,
   "metadata": {},
   "outputs": [
    {
     "data": {
      "text/plain": [
       "Int64[]"
      ]
     },
     "execution_count": 234,
     "metadata": {},
     "output_type": "execute_result"
    }
   ],
   "source": [
    "wl_vnir = rand(Float64,66)\n",
    "#1 prendiamo elem req_wls >= maximum(wl_vnir)\n",
    "sel_vnir = filter(item -> item <= maximum(wl_vnir) && item != 0,req_wls)"
   ]
  },
  {
   "cell_type": "code",
   "execution_count": 152,
   "metadata": {},
   "outputs": [
    {
     "data": {
      "text/plain": [
       "1"
      ]
     },
     "execution_count": 152,
     "metadata": {},
     "output_type": "execute_result"
    }
   ],
   "source": [
    "myArr = [1,4,5,2,0]\n",
    "minimum(filter(item -> item !=0,myArr))"
   ]
  },
  {
   "cell_type": "code",
   "execution_count": 176,
   "metadata": {},
   "outputs": [
    {
     "data": {
      "text/plain": [
       "5-element Array{Int64,1}:\n",
       "  2\n",
       "  4\n",
       "  6\n",
       "  9\n",
       " 12"
      ]
     },
     "execution_count": 176,
     "metadata": {},
     "output_type": "execute_result"
    }
   ],
   "source": [
    "a = [6,6,9,12,4,2,6]\n",
    "b= [9,87,6,87,33]\n",
    "x = unique(sort(a))\n"
   ]
  },
  {
   "cell_type": "code",
   "execution_count": 177,
   "metadata": {},
   "outputs": [
    {
     "data": {
      "text/plain": [
       "4-element Array{Int64,1}:\n",
       "  6\n",
       "  9\n",
       " 33\n",
       " 87"
      ]
     },
     "execution_count": 177,
     "metadata": {},
     "output_type": "execute_result"
    }
   ],
   "source": [
    "y = unique(sort(b))"
   ]
  },
  {
   "cell_type": "code",
   "execution_count": 178,
   "metadata": {},
   "outputs": [
    {
     "data": {
      "text/plain": [
       "true"
      ]
     },
     "execution_count": 178,
     "metadata": {},
     "output_type": "execute_result"
    }
   ],
   "source": [
    "checkCommon(usa,usb)"
   ]
  },
  {
   "cell_type": "code",
   "execution_count": 203,
   "metadata": {},
   "outputs": [
    {
     "name": "stderr",
     "output_type": "stream",
     "text": [
      "┌ Info: Precompiling ArchGDAL [c9ce4bd3-c3d5-55b8-8973-c0e20141b8c3]\n",
      "└ @ Base loading.jl:1278\n"
     ]
    }
   ],
   "source": [
    "using ArchGDAL"
   ]
  },
  {
   "cell_type": "code",
   "execution_count": 204,
   "metadata": {},
   "outputs": [
    {
     "data": {
      "text/plain": [
       "4-element Array{Int64,1}:\n",
       "   22\n",
       "   15\n",
       "  996\n",
       " 1000"
      ]
     },
     "execution_count": 204,
     "metadata": {},
     "output_type": "execute_result"
    }
   ],
   "source": [
    "wl_vnir"
   ]
  },
  {
   "cell_type": "code",
   "execution_count": 211,
   "metadata": {},
   "outputs": [
    {
     "name": "stdout",
     "output_type": "stream",
     "text": [
      "z = x .- y = [-1, 0, 1]\n",
      "za = abs.(x .- y) = [1, 0, 1]\n"
     ]
    },
    {
     "data": {
      "text/plain": [
       "3-element Array{Int64,1}:\n",
       " 1\n",
       " 0\n",
       " 1"
      ]
     },
     "execution_count": 211,
     "metadata": {},
     "output_type": "execute_result"
    }
   ],
   "source": [
    "x = [1,2,3]\n",
    "y= 2\n",
    "@show z = x.-y\n",
    "@show za = abs.(x.-y)\n"
   ]
  },
  {
   "cell_type": "code",
   "execution_count": 229,
   "metadata": {},
   "outputs": [
    {
     "data": {
      "text/plain": [
       "closestWvlFun (generic function with 1 method)"
      ]
     },
     "execution_count": 229,
     "metadata": {},
     "output_type": "execute_result"
    }
   ],
   "source": [
    "function closestWvl(wvl::Array{Int64,1},x::Int64)\n",
    "  y = abs.(wvl.-x)\n",
    "  #lapply(selbands_vnir, FUN = function(x) which.min(abs(wl_vnir - x))))\n",
    "  minimum(abs.(wvl.-x))\n",
    "end\n",
    "function closestWvlFun(wvl::Array{Int64,1})\n",
    "  (x)->(minimum(abs.(wvl.-x)))\n",
    "end"
   ]
  },
  {
   "cell_type": "code",
   "execution_count": 230,
   "metadata": {},
   "outputs": [
    {
     "data": {
      "text/plain": [
       "7-element Array{Int64,1}:\n",
       " 0\n",
       " 3\n",
       " 0\n",
       " 0\n",
       " 0\n",
       " 1\n",
       " 2"
      ]
     },
     "execution_count": 230,
     "metadata": {},
     "output_type": "execute_result"
    }
   ],
   "source": [
    "wvl = [4,3,6,1,-5,1,2,5,6,1]\n",
    "x = [5,-8,4,1,4,7,8]\n",
    "closestWvlFun(wvl).(x)"
   ]
  },
  {
   "cell_type": "code",
   "execution_count": 238,
   "metadata": {},
   "outputs": [
    {
     "data": {
      "text/plain": [
       "64-element Array{Int64,1}:\n",
       "  1\n",
       "  2\n",
       "  3\n",
       "  4\n",
       "  6\n",
       "  7\n",
       "  8\n",
       "  9\n",
       " 10\n",
       " 11\n",
       " 13\n",
       " 14\n",
       " 15\n",
       "  ⋮\n",
       " 55\n",
       " 56\n",
       " 57\n",
       " 58\n",
       " 59\n",
       " 60\n",
       " 61\n",
       " 62\n",
       " 63\n",
       " 64\n",
       " 65\n",
       " 66"
      ]
     },
     "execution_count": 238,
     "metadata": {},
     "output_type": "execute_result"
    }
   ],
   "source": [
    "wl_vnir[5]=0\n",
    "wl_vnir[12]=0\n",
    "\n",
    "seqbands_vnir = [1:66...]\n",
    "  for i in 1:66\n",
    "    if wl_vnir[i]==0\n",
    "      seqbands_vnir[i]=0      \n",
    "    end\n",
    "  end\n",
    "seqbands_vnir = filter(x->x!=0,seqbands_vnir)"
   ]
  },
  {
   "cell_type": "code",
   "execution_count": 236,
   "metadata": {},
   "outputs": [
    {
     "data": {
      "text/plain": [
       "1-element Array{UnitRange{Int64},1}:\n",
       " 1:66"
      ]
     },
     "execution_count": 236,
     "metadata": {},
     "output_type": "execute_result"
    }
   ],
   "source": [
    "seqbands_vnir = [1:66]"
   ]
  },
  {
   "cell_type": "code",
   "execution_count": 239,
   "metadata": {},
   "outputs": [
    {
     "data": {
      "text/plain": [
       "64-element Array{Float64,1}:\n",
       " 0.31389783015988226\n",
       " 0.9780051176715132\n",
       " 0.7314546886905584\n",
       " 0.7737076983924149\n",
       " 0.5595092474008283\n",
       " 0.6168637817063221\n",
       " 0.4497328202445632\n",
       " 0.5049079094583413\n",
       " 0.24034062038311466\n",
       " 0.008912052209757881\n",
       " 0.5687309419046183\n",
       " 0.755433700549019\n",
       " 0.25222311499937056\n",
       " ⋮\n",
       " 0.07091653265743392\n",
       " 0.5991900796453336\n",
       " 0.3995412014357924\n",
       " 0.8524441395956297\n",
       " 0.5929465621765531\n",
       " 0.22614649147622456\n",
       " 0.43785731465921507\n",
       " 0.3880152749585053\n",
       " 0.45006544454605346\n",
       " 0.17590459833502692\n",
       " 0.560132104627866\n",
       " 0.979478647374749"
      ]
     },
     "execution_count": 239,
     "metadata": {},
     "output_type": "execute_result"
    }
   ],
   "source": [
    "wl_vnir = wl_vnir[seqbands_vnir]"
   ]
  },
  {
   "cell_type": "markdown",
   "metadata": {},
   "source": [
    "*http://www.johnmyleswhite.com/notebook/2012/04/09/comparing-julia-and-rs-vocabularies/"
   ]
  },
  {
   "cell_type": "code",
   "execution_count": 30,
   "metadata": {},
   "outputs": [
    {
     "ename": "LoadError",
     "evalue": "syntax: invalid keyword argument name \"\"parola parola\"\" around In[30]:4",
     "output_type": "error",
     "traceback": [
      "syntax: invalid keyword argument name \"\"parola parola\"\" around In[30]:4",
      "",
      "Stacktrace:",
      " [1] top-level scope at In[30]:4",
      " [2] include_string(::Function, ::Module, ::String, ::String) at .\\loading.jl:1091"
     ]
    }
   ],
   "source": [
    "using DataFrames\n",
    "c = [1,2,3]\n",
    "b=[4,56,6]\n",
    "d=DataFrame(\"parola parola\"=c,\"ta ta\"= b)"
   ]
  },
  {
   "cell_type": "code",
   "execution_count": 31,
   "metadata": {},
   "outputs": [
    {
     "name": "stdout",
     "output_type": "stream",
     "text": [
      "search: \u001b[0m\u001b[1mr\u001b[22m\u001b[0m\u001b[1mo\u001b[22m\u001b[0m\u001b[1mu\u001b[22m\u001b[0m\u001b[1mn\u001b[22m\u001b[0m\u001b[1md\u001b[22m \u001b[0m\u001b[1mr\u001b[22m\u001b[0m\u001b[1mo\u001b[22m\u001b[0m\u001b[1mu\u001b[22m\u001b[0m\u001b[1mn\u001b[22m\u001b[0m\u001b[1md\u001b[22ming \u001b[0m\u001b[1mR\u001b[22m\u001b[0m\u001b[1mo\u001b[22m\u001b[0m\u001b[1mu\u001b[22m\u001b[0m\u001b[1mn\u001b[22m\u001b[0m\u001b[1md\u001b[22mUp \u001b[0m\u001b[1mR\u001b[22m\u001b[0m\u001b[1mo\u001b[22m\u001b[0m\u001b[1mu\u001b[22m\u001b[0m\u001b[1mn\u001b[22m\u001b[0m\u001b[1md\u001b[22mDown \u001b[0m\u001b[1mR\u001b[22m\u001b[0m\u001b[1mo\u001b[22m\u001b[0m\u001b[1mu\u001b[22m\u001b[0m\u001b[1mn\u001b[22m\u001b[0m\u001b[1md\u001b[22mToZero \u001b[0m\u001b[1mR\u001b[22m\u001b[0m\u001b[1mo\u001b[22m\u001b[0m\u001b[1mu\u001b[22m\u001b[0m\u001b[1mn\u001b[22m\u001b[0m\u001b[1md\u001b[22mingMode \u001b[0m\u001b[1mR\u001b[22m\u001b[0m\u001b[1mo\u001b[22m\u001b[0m\u001b[1mu\u001b[22m\u001b[0m\u001b[1mn\u001b[22m\u001b[0m\u001b[1md\u001b[22mNearest\n",
      "\n"
     ]
    },
    {
     "data": {
      "text/latex": [
       "\\begin{verbatim}\n",
       "round(z::Complex[, RoundingModeReal, [RoundingModeImaginary]])\n",
       "round(z::Complex[, RoundingModeReal, [RoundingModeImaginary]]; digits=, base=10)\n",
       "round(z::Complex[, RoundingModeReal, [RoundingModeImaginary]]; sigdigits=, base=10)\n",
       "\\end{verbatim}\n",
       "Return the nearest integral value of the same type as the complex-valued \\texttt{z} to \\texttt{z}, breaking ties using the specified \\href{@ref}{\\texttt{RoundingMode}}s. The first \\href{@ref}{\\texttt{RoundingMode}} is used for rounding the real components while the second is used for rounding the imaginary components.\n",
       "\n",
       "\\section{Example}\n",
       "\\begin{verbatim}\n",
       "julia> round(3.14 + 4.5im)\n",
       "3.0 + 4.0im\n",
       "\\end{verbatim}\n",
       "\\rule{\\textwidth}{1pt}\n",
       "\\begin{verbatim}\n",
       "round([T,] x, [r::RoundingMode])\n",
       "round(x, [r::RoundingMode]; digits::Integer=0, base = 10)\n",
       "round(x, [r::RoundingMode]; sigdigits::Integer, base = 10)\n",
       "\\end{verbatim}\n",
       "Rounds the number \\texttt{x}.\n",
       "\n",
       "Without keyword arguments, \\texttt{x} is rounded to an integer value, returning a value of type \\texttt{T}, or of the same type of \\texttt{x} if no \\texttt{T} is provided. An \\href{@ref}{\\texttt{InexactError}} will be thrown if the value is not representable by \\texttt{T}, similar to \\href{@ref}{\\texttt{convert}}.\n",
       "\n",
       "If the \\texttt{digits} keyword argument is provided, it rounds to the specified number of digits after the decimal place (or before if negative), in base \\texttt{base}.\n",
       "\n",
       "If the \\texttt{sigdigits} keyword argument is provided, it rounds to the specified number of significant digits, in base \\texttt{base}.\n",
       "\n",
       "The \\href{@ref}{\\texttt{RoundingMode}} \\texttt{r} controls the direction of the rounding; the default is \\href{@ref}{\\texttt{RoundNearest}}, which rounds to the nearest integer, with ties (fractional values of 0.5) being rounded to the nearest even integer. Note that \\texttt{round} may give incorrect results if the global rounding mode is changed (see \\href{@ref}{\\texttt{rounding}}).\n",
       "\n",
       "\\section{Examples}\n",
       "\\begin{verbatim}\n",
       "julia> round(1.7)\n",
       "2.0\n",
       "\n",
       "julia> round(Int, 1.7)\n",
       "2\n",
       "\n",
       "julia> round(1.5)\n",
       "2.0\n",
       "\n",
       "julia> round(2.5)\n",
       "2.0\n",
       "\n",
       "julia> round(pi; digits=2)\n",
       "3.14\n",
       "\n",
       "julia> round(pi; digits=3, base=2)\n",
       "3.125\n",
       "\n",
       "julia> round(123.456; sigdigits=2)\n",
       "120.0\n",
       "\n",
       "julia> round(357.913; sigdigits=4, base=2)\n",
       "352.0\n",
       "\\end{verbatim}\n",
       "\\begin{quote}\n",
       "\\textbf{note}\n",
       "\n",
       "Note\n",
       "\n",
       "Rounding to specified digits in bases other than 2 can be inexact when operating on binary floating point numbers. For example, the \\href{@ref}{\\texttt{Float64}} value represented by \\texttt{1.15} is actually \\emph{less} than 1.15, yet will be rounded to 1.2.\n",
       "\n",
       "\\section{Examples}\n",
       "\\begin{verbatim}\n",
       "julia> x = 1.15\n",
       "1.15\n",
       "\n",
       "julia> @sprintf \"%.20f\" x\n",
       "\"1.14999999999999991118\"\n",
       "\n",
       "julia> x < 115//100\n",
       "true\n",
       "\n",
       "julia> round(x, digits=1)\n",
       "1.2\n",
       "\\end{verbatim}\n",
       "\\end{quote}\n",
       "\\section{Extensions}\n",
       "To extend \\texttt{round} to new numeric types, it is typically sufficient to define \\texttt{Base.round(x::NewType, r::RoundingMode)}.\n",
       "\n",
       "\\rule{\\textwidth}{1pt}\n",
       "\\begin{verbatim}\n",
       "round(dt::TimeType, p::Period, [r::RoundingMode]) -> TimeType\n",
       "\\end{verbatim}\n",
       "Return the \\texttt{Date} or \\texttt{DateTime} nearest to \\texttt{dt} at resolution \\texttt{p}. By default (\\texttt{RoundNearestTiesUp}), ties (e.g., rounding 9:30 to the nearest hour) will be rounded up.\n",
       "\n",
       "For convenience, \\texttt{p} may be a type instead of a value: \\texttt{round(dt, Dates.Hour)} is a shortcut for \\texttt{round(dt, Dates.Hour(1))}.\n",
       "\n",
       "\\begin{verbatim}\n",
       "julia> round(Date(1985, 8, 16), Dates.Month)\n",
       "1985-08-01\n",
       "\n",
       "julia> round(DateTime(2013, 2, 13, 0, 31, 20), Dates.Minute(15))\n",
       "2013-02-13T00:30:00\n",
       "\n",
       "julia> round(DateTime(2016, 8, 6, 12, 0, 0), Dates.Day)\n",
       "2016-08-07T00:00:00\n",
       "\\end{verbatim}\n",
       "Valid rounding modes for \\texttt{round(::TimeType, ::Period, ::RoundingMode)} are \\texttt{RoundNearestTiesUp} (default), \\texttt{RoundDown} (\\texttt{floor}), and \\texttt{RoundUp} (\\texttt{ceil}).\n",
       "\n",
       "\\rule{\\textwidth}{1pt}\n",
       "\\begin{verbatim}\n",
       "round(x::Period, precision::T, [r::RoundingMode]) where T <: Union{TimePeriod, Week, Day} -> T\n",
       "\\end{verbatim}\n",
       "Round \\texttt{x} to the nearest multiple of \\texttt{precision}. If \\texttt{x} and \\texttt{precision} are different subtypes of \\texttt{Period}, the return value will have the same type as \\texttt{precision}. By default (\\texttt{RoundNearestTiesUp}), ties (e.g., rounding 90 minutes to the nearest hour) will be rounded up.\n",
       "\n",
       "For convenience, \\texttt{precision} may be a type instead of a value: \\texttt{round(x, Dates.Hour)} is a shortcut for \\texttt{round(x, Dates.Hour(1))}.\n",
       "\n",
       "\\begin{verbatim}\n",
       "julia> round(Dates.Day(16), Dates.Week)\n",
       "2 weeks\n",
       "\n",
       "julia> round(Dates.Minute(44), Dates.Minute(15))\n",
       "45 minutes\n",
       "\n",
       "julia> round(Dates.Hour(36), Dates.Day)\n",
       "2 days\n",
       "\\end{verbatim}\n",
       "Valid rounding modes for \\texttt{round(::Period, ::T, ::RoundingMode)} are \\texttt{RoundNearestTiesUp} (default), \\texttt{RoundDown} (\\texttt{floor}), and \\texttt{RoundUp} (\\texttt{ceil}).\n",
       "\n",
       "Rounding to a \\texttt{precision} of \\texttt{Month}s or \\texttt{Year}s is not supported, as these \\texttt{Period}s are of inconsistent length.\n",
       "\n"
      ],
      "text/markdown": [
       "```\n",
       "round(z::Complex[, RoundingModeReal, [RoundingModeImaginary]])\n",
       "round(z::Complex[, RoundingModeReal, [RoundingModeImaginary]]; digits=, base=10)\n",
       "round(z::Complex[, RoundingModeReal, [RoundingModeImaginary]]; sigdigits=, base=10)\n",
       "```\n",
       "\n",
       "Return the nearest integral value of the same type as the complex-valued `z` to `z`, breaking ties using the specified [`RoundingMode`](@ref)s. The first [`RoundingMode`](@ref) is used for rounding the real components while the second is used for rounding the imaginary components.\n",
       "\n",
       "# Example\n",
       "\n",
       "```jldoctest\n",
       "julia> round(3.14 + 4.5im)\n",
       "3.0 + 4.0im\n",
       "```\n",
       "\n",
       "---\n",
       "\n",
       "```\n",
       "round([T,] x, [r::RoundingMode])\n",
       "round(x, [r::RoundingMode]; digits::Integer=0, base = 10)\n",
       "round(x, [r::RoundingMode]; sigdigits::Integer, base = 10)\n",
       "```\n",
       "\n",
       "Rounds the number `x`.\n",
       "\n",
       "Without keyword arguments, `x` is rounded to an integer value, returning a value of type `T`, or of the same type of `x` if no `T` is provided. An [`InexactError`](@ref) will be thrown if the value is not representable by `T`, similar to [`convert`](@ref).\n",
       "\n",
       "If the `digits` keyword argument is provided, it rounds to the specified number of digits after the decimal place (or before if negative), in base `base`.\n",
       "\n",
       "If the `sigdigits` keyword argument is provided, it rounds to the specified number of significant digits, in base `base`.\n",
       "\n",
       "The [`RoundingMode`](@ref) `r` controls the direction of the rounding; the default is [`RoundNearest`](@ref), which rounds to the nearest integer, with ties (fractional values of 0.5) being rounded to the nearest even integer. Note that `round` may give incorrect results if the global rounding mode is changed (see [`rounding`](@ref)).\n",
       "\n",
       "# Examples\n",
       "\n",
       "```jldoctest\n",
       "julia> round(1.7)\n",
       "2.0\n",
       "\n",
       "julia> round(Int, 1.7)\n",
       "2\n",
       "\n",
       "julia> round(1.5)\n",
       "2.0\n",
       "\n",
       "julia> round(2.5)\n",
       "2.0\n",
       "\n",
       "julia> round(pi; digits=2)\n",
       "3.14\n",
       "\n",
       "julia> round(pi; digits=3, base=2)\n",
       "3.125\n",
       "\n",
       "julia> round(123.456; sigdigits=2)\n",
       "120.0\n",
       "\n",
       "julia> round(357.913; sigdigits=4, base=2)\n",
       "352.0\n",
       "```\n",
       "\n",
       "!!! note\n",
       "    Rounding to specified digits in bases other than 2 can be inexact when operating on binary floating point numbers. For example, the [`Float64`](@ref) value represented by `1.15` is actually *less* than 1.15, yet will be rounded to 1.2.\n",
       "\n",
       "    # Examples\n",
       "\n",
       "    ```jldoctest; setup = :(using Printf)\n",
       "    julia> x = 1.15\n",
       "    1.15\n",
       "\n",
       "    julia> @sprintf \"%.20f\" x\n",
       "    \"1.14999999999999991118\"\n",
       "\n",
       "    julia> x < 115//100\n",
       "    true\n",
       "\n",
       "    julia> round(x, digits=1)\n",
       "    1.2\n",
       "    ```\n",
       "\n",
       "\n",
       "# Extensions\n",
       "\n",
       "To extend `round` to new numeric types, it is typically sufficient to define `Base.round(x::NewType, r::RoundingMode)`.\n",
       "\n",
       "---\n",
       "\n",
       "```\n",
       "round(dt::TimeType, p::Period, [r::RoundingMode]) -> TimeType\n",
       "```\n",
       "\n",
       "Return the `Date` or `DateTime` nearest to `dt` at resolution `p`. By default (`RoundNearestTiesUp`), ties (e.g., rounding 9:30 to the nearest hour) will be rounded up.\n",
       "\n",
       "For convenience, `p` may be a type instead of a value: `round(dt, Dates.Hour)` is a shortcut for `round(dt, Dates.Hour(1))`.\n",
       "\n",
       "```jldoctest\n",
       "julia> round(Date(1985, 8, 16), Dates.Month)\n",
       "1985-08-01\n",
       "\n",
       "julia> round(DateTime(2013, 2, 13, 0, 31, 20), Dates.Minute(15))\n",
       "2013-02-13T00:30:00\n",
       "\n",
       "julia> round(DateTime(2016, 8, 6, 12, 0, 0), Dates.Day)\n",
       "2016-08-07T00:00:00\n",
       "```\n",
       "\n",
       "Valid rounding modes for `round(::TimeType, ::Period, ::RoundingMode)` are `RoundNearestTiesUp` (default), `RoundDown` (`floor`), and `RoundUp` (`ceil`).\n",
       "\n",
       "---\n",
       "\n",
       "```\n",
       "round(x::Period, precision::T, [r::RoundingMode]) where T <: Union{TimePeriod, Week, Day} -> T\n",
       "```\n",
       "\n",
       "Round `x` to the nearest multiple of `precision`. If `x` and `precision` are different subtypes of `Period`, the return value will have the same type as `precision`. By default (`RoundNearestTiesUp`), ties (e.g., rounding 90 minutes to the nearest hour) will be rounded up.\n",
       "\n",
       "For convenience, `precision` may be a type instead of a value: `round(x, Dates.Hour)` is a shortcut for `round(x, Dates.Hour(1))`.\n",
       "\n",
       "```jldoctest\n",
       "julia> round(Dates.Day(16), Dates.Week)\n",
       "2 weeks\n",
       "\n",
       "julia> round(Dates.Minute(44), Dates.Minute(15))\n",
       "45 minutes\n",
       "\n",
       "julia> round(Dates.Hour(36), Dates.Day)\n",
       "2 days\n",
       "```\n",
       "\n",
       "Valid rounding modes for `round(::Period, ::T, ::RoundingMode)` are `RoundNearestTiesUp` (default), `RoundDown` (`floor`), and `RoundUp` (`ceil`).\n",
       "\n",
       "Rounding to a `precision` of `Month`s or `Year`s is not supported, as these `Period`s are of inconsistent length.\n"
      ],
      "text/plain": [
       "\u001b[36m  round(z::Complex[, RoundingModeReal, [RoundingModeImaginary]])\u001b[39m\n",
       "\u001b[36m  round(z::Complex[, RoundingModeReal, [RoundingModeImaginary]]; digits=, base=10)\u001b[39m\n",
       "\u001b[36m  round(z::Complex[, RoundingModeReal, [RoundingModeImaginary]]; sigdigits=, base=10)\u001b[39m\n",
       "\n",
       "  Return the nearest integral value of the same type as the complex-valued \u001b[36mz\u001b[39m\n",
       "  to \u001b[36mz\u001b[39m, breaking ties using the specified \u001b[36mRoundingMode\u001b[39ms. The first\n",
       "  \u001b[36mRoundingMode\u001b[39m is used for rounding the real components while the second is\n",
       "  used for rounding the imaginary components.\n",
       "\n",
       "\u001b[1m  Example\u001b[22m\n",
       "\u001b[1m  ≡≡≡≡≡≡≡≡≡\u001b[22m\n",
       "\n",
       "\u001b[36m  julia> round(3.14 + 4.5im)\u001b[39m\n",
       "\u001b[36m  3.0 + 4.0im\u001b[39m\n",
       "\n",
       "  ────────────────────────────────────────────────────────────────────────────\n",
       "\n",
       "\u001b[36m  round([T,] x, [r::RoundingMode])\u001b[39m\n",
       "\u001b[36m  round(x, [r::RoundingMode]; digits::Integer=0, base = 10)\u001b[39m\n",
       "\u001b[36m  round(x, [r::RoundingMode]; sigdigits::Integer, base = 10)\u001b[39m\n",
       "\n",
       "  Rounds the number \u001b[36mx\u001b[39m.\n",
       "\n",
       "  Without keyword arguments, \u001b[36mx\u001b[39m is rounded to an integer value, returning a\n",
       "  value of type \u001b[36mT\u001b[39m, or of the same type of \u001b[36mx\u001b[39m if no \u001b[36mT\u001b[39m is provided. An\n",
       "  \u001b[36mInexactError\u001b[39m will be thrown if the value is not representable by \u001b[36mT\u001b[39m, similar\n",
       "  to \u001b[36mconvert\u001b[39m.\n",
       "\n",
       "  If the \u001b[36mdigits\u001b[39m keyword argument is provided, it rounds to the specified\n",
       "  number of digits after the decimal place (or before if negative), in base\n",
       "  \u001b[36mbase\u001b[39m.\n",
       "\n",
       "  If the \u001b[36msigdigits\u001b[39m keyword argument is provided, it rounds to the specified\n",
       "  number of significant digits, in base \u001b[36mbase\u001b[39m.\n",
       "\n",
       "  The \u001b[36mRoundingMode\u001b[39m \u001b[36mr\u001b[39m controls the direction of the rounding; the default is\n",
       "  \u001b[36mRoundNearest\u001b[39m, which rounds to the nearest integer, with ties (fractional\n",
       "  values of 0.5) being rounded to the nearest even integer. Note that \u001b[36mround\u001b[39m\n",
       "  may give incorrect results if the global rounding mode is changed (see\n",
       "  \u001b[36mrounding\u001b[39m).\n",
       "\n",
       "\u001b[1m  Examples\u001b[22m\n",
       "\u001b[1m  ≡≡≡≡≡≡≡≡≡≡\u001b[22m\n",
       "\n",
       "\u001b[36m  julia> round(1.7)\u001b[39m\n",
       "\u001b[36m  2.0\u001b[39m\n",
       "\u001b[36m  \u001b[39m\n",
       "\u001b[36m  julia> round(Int, 1.7)\u001b[39m\n",
       "\u001b[36m  2\u001b[39m\n",
       "\u001b[36m  \u001b[39m\n",
       "\u001b[36m  julia> round(1.5)\u001b[39m\n",
       "\u001b[36m  2.0\u001b[39m\n",
       "\u001b[36m  \u001b[39m\n",
       "\u001b[36m  julia> round(2.5)\u001b[39m\n",
       "\u001b[36m  2.0\u001b[39m\n",
       "\u001b[36m  \u001b[39m\n",
       "\u001b[36m  julia> round(pi; digits=2)\u001b[39m\n",
       "\u001b[36m  3.14\u001b[39m\n",
       "\u001b[36m  \u001b[39m\n",
       "\u001b[36m  julia> round(pi; digits=3, base=2)\u001b[39m\n",
       "\u001b[36m  3.125\u001b[39m\n",
       "\u001b[36m  \u001b[39m\n",
       "\u001b[36m  julia> round(123.456; sigdigits=2)\u001b[39m\n",
       "\u001b[36m  120.0\u001b[39m\n",
       "\u001b[36m  \u001b[39m\n",
       "\u001b[36m  julia> round(357.913; sigdigits=4, base=2)\u001b[39m\n",
       "\u001b[36m  352.0\u001b[39m\n",
       "\n",
       "\u001b[36m\u001b[1m  │ \u001b[22m\u001b[39m\u001b[36m\u001b[1mNote\u001b[22m\u001b[39m\n",
       "\u001b[36m\u001b[1m  │\u001b[22m\u001b[39m\n",
       "\u001b[36m\u001b[1m  │\u001b[22m\u001b[39m  Rounding to specified digits in bases other than 2 can be inexact\n",
       "\u001b[36m\u001b[1m  │\u001b[22m\u001b[39m  when operating on binary floating point numbers. For example, the\n",
       "\u001b[36m\u001b[1m  │\u001b[22m\u001b[39m  \u001b[36mFloat64\u001b[39m value represented by \u001b[36m1.15\u001b[39m is actually \u001b[4mless\u001b[24m than 1.15, yet\n",
       "\u001b[36m\u001b[1m  │\u001b[22m\u001b[39m  will be rounded to 1.2.\n",
       "\u001b[36m\u001b[1m  │\u001b[22m\u001b[39m\n",
       "\u001b[36m\u001b[1m  │\u001b[22m\u001b[39m\u001b[1m  Examples\u001b[22m\n",
       "\u001b[36m\u001b[1m  │\u001b[22m\u001b[39m\u001b[1m  ≡≡≡≡≡≡≡≡≡≡\u001b[22m\n",
       "\u001b[36m\u001b[1m  │\u001b[22m\u001b[39m\n",
       "\u001b[36m\u001b[1m  │\u001b[22m\u001b[39m\u001b[36m  julia> x = 1.15\u001b[39m\n",
       "\u001b[36m\u001b[1m  │\u001b[22m\u001b[39m\u001b[36m  1.15\u001b[39m\n",
       "\u001b[36m\u001b[1m  │\u001b[22m\u001b[39m\u001b[36m  \u001b[39m\n",
       "\u001b[36m\u001b[1m  │\u001b[22m\u001b[39m\u001b[36m  julia> @sprintf \"%.20f\" x\u001b[39m\n",
       "\u001b[36m\u001b[1m  │\u001b[22m\u001b[39m\u001b[36m  \"1.14999999999999991118\"\u001b[39m\n",
       "\u001b[36m\u001b[1m  │\u001b[22m\u001b[39m\u001b[36m  \u001b[39m\n",
       "\u001b[36m\u001b[1m  │\u001b[22m\u001b[39m\u001b[36m  julia> x < 115//100\u001b[39m\n",
       "\u001b[36m\u001b[1m  │\u001b[22m\u001b[39m\u001b[36m  true\u001b[39m\n",
       "\u001b[36m\u001b[1m  │\u001b[22m\u001b[39m\u001b[36m  \u001b[39m\n",
       "\u001b[36m\u001b[1m  │\u001b[22m\u001b[39m\u001b[36m  julia> round(x, digits=1)\u001b[39m\n",
       "\u001b[36m\u001b[1m  │\u001b[22m\u001b[39m\u001b[36m  1.2\u001b[39m\n",
       "\n",
       "\u001b[1m  Extensions\u001b[22m\n",
       "\u001b[1m  ≡≡≡≡≡≡≡≡≡≡≡≡\u001b[22m\n",
       "\n",
       "  To extend \u001b[36mround\u001b[39m to new numeric types, it is typically sufficient to define\n",
       "  \u001b[36mBase.round(x::NewType, r::RoundingMode)\u001b[39m.\n",
       "\n",
       "  ────────────────────────────────────────────────────────────────────────────\n",
       "\n",
       "\u001b[36m  round(dt::TimeType, p::Period, [r::RoundingMode]) -> TimeType\u001b[39m\n",
       "\n",
       "  Return the \u001b[36mDate\u001b[39m or \u001b[36mDateTime\u001b[39m nearest to \u001b[36mdt\u001b[39m at resolution \u001b[36mp\u001b[39m. By default\n",
       "  (\u001b[36mRoundNearestTiesUp\u001b[39m), ties (e.g., rounding 9:30 to the nearest hour) will be\n",
       "  rounded up.\n",
       "\n",
       "  For convenience, \u001b[36mp\u001b[39m may be a type instead of a value: \u001b[36mround(dt, Dates.Hour)\u001b[39m\n",
       "  is a shortcut for \u001b[36mround(dt, Dates.Hour(1))\u001b[39m.\n",
       "\n",
       "\u001b[36m  julia> round(Date(1985, 8, 16), Dates.Month)\u001b[39m\n",
       "\u001b[36m  1985-08-01\u001b[39m\n",
       "\u001b[36m  \u001b[39m\n",
       "\u001b[36m  julia> round(DateTime(2013, 2, 13, 0, 31, 20), Dates.Minute(15))\u001b[39m\n",
       "\u001b[36m  2013-02-13T00:30:00\u001b[39m\n",
       "\u001b[36m  \u001b[39m\n",
       "\u001b[36m  julia> round(DateTime(2016, 8, 6, 12, 0, 0), Dates.Day)\u001b[39m\n",
       "\u001b[36m  2016-08-07T00:00:00\u001b[39m\n",
       "\n",
       "  Valid rounding modes for \u001b[36mround(::TimeType, ::Period, ::RoundingMode)\u001b[39m are\n",
       "  \u001b[36mRoundNearestTiesUp\u001b[39m (default), \u001b[36mRoundDown\u001b[39m (\u001b[36mfloor\u001b[39m), and \u001b[36mRoundUp\u001b[39m (\u001b[36mceil\u001b[39m).\n",
       "\n",
       "  ────────────────────────────────────────────────────────────────────────────\n",
       "\n",
       "\u001b[36m  round(x::Period, precision::T, [r::RoundingMode]) where T <: Union{TimePeriod, Week, Day} -> T\u001b[39m\n",
       "\n",
       "  Round \u001b[36mx\u001b[39m to the nearest multiple of \u001b[36mprecision\u001b[39m. If \u001b[36mx\u001b[39m and \u001b[36mprecision\u001b[39m are\n",
       "  different subtypes of \u001b[36mPeriod\u001b[39m, the return value will have the same type as\n",
       "  \u001b[36mprecision\u001b[39m. By default (\u001b[36mRoundNearestTiesUp\u001b[39m), ties (e.g., rounding 90 minutes\n",
       "  to the nearest hour) will be rounded up.\n",
       "\n",
       "  For convenience, \u001b[36mprecision\u001b[39m may be a type instead of a value: \u001b[36mround(x,\n",
       "  Dates.Hour)\u001b[39m is a shortcut for \u001b[36mround(x, Dates.Hour(1))\u001b[39m.\n",
       "\n",
       "\u001b[36m  julia> round(Dates.Day(16), Dates.Week)\u001b[39m\n",
       "\u001b[36m  2 weeks\u001b[39m\n",
       "\u001b[36m  \u001b[39m\n",
       "\u001b[36m  julia> round(Dates.Minute(44), Dates.Minute(15))\u001b[39m\n",
       "\u001b[36m  45 minutes\u001b[39m\n",
       "\u001b[36m  \u001b[39m\n",
       "\u001b[36m  julia> round(Dates.Hour(36), Dates.Day)\u001b[39m\n",
       "\u001b[36m  2 days\u001b[39m\n",
       "\n",
       "  Valid rounding modes for \u001b[36mround(::Period, ::T, ::RoundingMode)\u001b[39m are\n",
       "  \u001b[36mRoundNearestTiesUp\u001b[39m (default), \u001b[36mRoundDown\u001b[39m (\u001b[36mfloor\u001b[39m), and \u001b[36mRoundUp\u001b[39m (\u001b[36mceil\u001b[39m).\n",
       "\n",
       "  Rounding to a \u001b[36mprecision\u001b[39m of \u001b[36mMonth\u001b[39ms or \u001b[36mYear\u001b[39ms is not supported, as these\n",
       "  \u001b[36mPeriod\u001b[39ms are of inconsistent length."
      ]
     },
     "execution_count": 31,
     "metadata": {},
     "output_type": "execute_result"
    }
   ],
   "source": [
    "?round"
   ]
  },
  {
   "cell_type": "code",
   "execution_count": 37,
   "metadata": {},
   "outputs": [
    {
     "data": {
      "text/plain": [
       "3-element Array{Float64,1}:\n",
       " 0.123\n",
       " 1.123\n",
       " 2.123"
      ]
     },
     "execution_count": 37,
     "metadata": {},
     "output_type": "execute_result"
    }
   ],
   "source": [
    "c = [0.1234567,1.123456789,2.1234567890]\n",
    "round.(c,digits=3)"
   ]
  },
  {
   "cell_type": "code",
   "execution_count": 40,
   "metadata": {},
   "outputs": [
    {
     "data": {
      "text/plain": [
       "2-element Array{Float64,1}:\n",
       " 0.01234\n",
       " 0.12346"
      ]
     },
     "execution_count": 40,
     "metadata": {},
     "output_type": "execute_result"
    }
   ],
   "source": [
    "c=[12345,123456]\n",
    "round.(c/1000000,digits=5)"
   ]
  },
  {
   "cell_type": "code",
   "execution_count": 46,
   "metadata": {},
   "outputs": [
    {
     "data": {
      "text/html": [
       "<table class=\"data-frame\"><thead><tr><th></th><th>as d</th><th>dd a</th></tr><tr><th></th><th>Int64</th><th>Int64</th></tr></thead><tbody><p>2 rows × 2 columns</p><tr><th>1</th><td>1</td><td>3</td></tr><tr><th>2</th><td>2</td><td>4</td></tr></tbody></table>"
      ],
      "text/latex": [
       "\\begin{tabular}{r|cc}\n",
       "\t& as d & dd a\\\\\n",
       "\t\\hline\n",
       "\t& Int64 & Int64\\\\\n",
       "\t\\hline\n",
       "\t1 & 1 & 3 \\\\\n",
       "\t2 & 2 & 4 \\\\\n",
       "\\end{tabular}\n"
      ],
      "text/plain": [
       "2×2 DataFrame\n",
       "│ Row │ as d  │ dd a  │\n",
       "│     │ \u001b[90mInt64\u001b[39m │ \u001b[90mInt64\u001b[39m │\n",
       "├─────┼───────┼───────┤\n",
       "│ 1   │ 1     │ 3     │\n",
       "│ 2   │ 2     │ 4     │"
      ]
     },
     "execution_count": 46,
     "metadata": {},
     "output_type": "execute_result"
    }
   ],
   "source": [
    "df = DataFrame(asd=[1,2],bcd=[3,4])\n",
    "rename!(df,[\"as d\",\"dd a\"])"
   ]
  },
  {
   "cell_type": "code",
   "execution_count": 45,
   "metadata": {},
   "outputs": [
    {
     "name": "stdout",
     "output_type": "stream",
     "text": [
      "search: \u001b[0m\u001b[1mn\u001b[22m\u001b[0m\u001b[1ma\u001b[22m\u001b[0m\u001b[1mm\u001b[22m\u001b[0m\u001b[1me\u001b[22m\u001b[0m\u001b[1ms\u001b[22m\u001b[0m\u001b[1m!\u001b[22m \u001b[0m\u001b[1mn\u001b[22m\u001b[0m\u001b[1ma\u001b[22m\u001b[0m\u001b[1mm\u001b[22m\u001b[0m\u001b[1me\u001b[22m\u001b[0m\u001b[1ms\u001b[22m field\u001b[0m\u001b[1mn\u001b[22m\u001b[0m\u001b[1ma\u001b[22m\u001b[0m\u001b[1mm\u001b[22m\u001b[0m\u001b[1me\u001b[22m\u001b[0m\u001b[1ms\u001b[22m property\u001b[0m\u001b[1mn\u001b[22m\u001b[0m\u001b[1ma\u001b[22m\u001b[0m\u001b[1mm\u001b[22m\u001b[0m\u001b[1me\u001b[22m\u001b[0m\u001b[1ms\u001b[22m\n",
      "\n"
     ]
    },
    {
     "data": {
      "text/latex": [
       "No documentation found.\n",
       "\n",
       "\\texttt{DataFrames.names!} is a \\texttt{Function}.\n",
       "\n",
       "\\begin{verbatim}\n",
       "# 2 methods for generic function \"names!\":\n",
       "[1] names!(x::DataFrames.Index, nms::Array{Symbol,1}; makeunique) in DataFrames at deprecated.jl:70\n",
       "[2] names!(df::AbstractDataFrame, vals::Array{Symbol,1}; makeunique) in DataFrames at deprecated.jl:70\n",
       "\\end{verbatim}\n"
      ],
      "text/markdown": [
       "No documentation found.\n",
       "\n",
       "`DataFrames.names!` is a `Function`.\n",
       "\n",
       "```\n",
       "# 2 methods for generic function \"names!\":\n",
       "[1] names!(x::DataFrames.Index, nms::Array{Symbol,1}; makeunique) in DataFrames at deprecated.jl:70\n",
       "[2] names!(df::AbstractDataFrame, vals::Array{Symbol,1}; makeunique) in DataFrames at deprecated.jl:70\n",
       "```\n"
      ],
      "text/plain": [
       "  No documentation found.\n",
       "\n",
       "  \u001b[36mDataFrames.names!\u001b[39m is a \u001b[36mFunction\u001b[39m.\n",
       "\n",
       "\u001b[36m  # 2 methods for generic function \"names!\":\u001b[39m\n",
       "\u001b[36m  [1] names!(x::DataFrames.Index, nms::Array{Symbol,1}; makeunique) in DataFrames at deprecated.jl:70\u001b[39m\n",
       "\u001b[36m  [2] names!(df::AbstractDataFrame, vals::Array{Symbol,1}; makeunique) in DataFrames at deprecated.jl:70\u001b[39m"
      ]
     },
     "execution_count": 45,
     "metadata": {},
     "output_type": "execute_result"
    }
   ],
   "source": [
    "?names!"
   ]
  },
  {
   "cell_type": "code",
   "execution_count": 47,
   "metadata": {},
   "outputs": [
    {
     "data": {
      "text/latex": [
       "\\begin{verbatim}\n",
       "CSV.write(file, table; kwargs...) => file\n",
       "table |> CSV.write(file; kwargs...) => file\n",
       "\\end{verbatim}\n",
       "Write a \\href{https://github.com/JuliaData/Tables.jl}{Tables.jl interface input} to a csv file, given as an \\texttt{IO} argument or \\texttt{String}/FilePaths.jl type representing the file name to write to. Alternatively, \\texttt{CSV.RowWriter} creates a row iterator, producing a csv-formatted string for each row in an input table.\n",
       "\n",
       "Supported keyword arguments include:\n",
       "\n",
       "\\begin{itemize}\n",
       "\\item \\texttt{delim::Union\\{Char, String\\}=','}: a character or string to print out as the file's delimiter\n",
       "\n",
       "\n",
       "\\item \\texttt{quotechar::Char='\"'}: ascii character to use for quoting text fields that may contain delimiters or newlines\n",
       "\n",
       "\n",
       "\\item \\texttt{openquotechar::Char}: instead of \\texttt{quotechar}, use \\texttt{openquotechar} and \\texttt{closequotechar} to support different starting and ending quote characters\n",
       "\n",
       "\n",
       "\\item \\texttt{escapechar::Char='\"'}: ascii character used to escape quote characters in a text field\n",
       "\n",
       "\n",
       "\\item \\texttt{missingstring::String=\"\"}: string to print for \\texttt{missing} values\n",
       "\n",
       "\n",
       "\\item \\texttt{dateformat=Dates.default\\_format(T)}: the date format string to use for printing out \\texttt{Date} \\& \\texttt{DateTime} columns\n",
       "\n",
       "\n",
       "\\item \\texttt{append=false}: whether to append writing to an existing file/IO, if \\texttt{true}, it will not write column names by default\n",
       "\n",
       "\n",
       "\\item \\texttt{writeheader=!append}: whether to write an initial row of delimited column names, not written by default if appending\n",
       "\n",
       "\n",
       "\\item \\texttt{header}: pass a list of column names (Symbols or Strings) to use instead of the column names of the input table\n",
       "\n",
       "\n",
       "\\item \\texttt{newline='{\\textbackslash}n'}: character or string to use to separate rows (lines in the csv file)\n",
       "\n",
       "\n",
       "\\item \\texttt{quotestrings=false}: whether to force all strings to be quoted or not\n",
       "\n",
       "\n",
       "\\item \\texttt{decimal='.'}: character to use as the decimal point when writing floating point numbers\n",
       "\n",
       "\n",
       "\\item \\texttt{transform=(col,val)->val}: a function that is applied to every cell e.g. we can transform all \\texttt{nothing} values to \\texttt{missing} using \\texttt{(col, val) -> something(val, missing)}\n",
       "\n",
       "\n",
       "\\item \\texttt{bom=false}: whether to write a UTF-8 BOM header (0xEF 0xBB 0xBF) or not\n",
       "\n",
       "\\end{itemize}\n"
      ],
      "text/markdown": [
       "```\n",
       "CSV.write(file, table; kwargs...) => file\n",
       "table |> CSV.write(file; kwargs...) => file\n",
       "```\n",
       "\n",
       "Write a [Tables.jl interface input](https://github.com/JuliaData/Tables.jl) to a csv file, given as an `IO` argument or `String`/FilePaths.jl type representing the file name to write to. Alternatively, `CSV.RowWriter` creates a row iterator, producing a csv-formatted string for each row in an input table.\n",
       "\n",
       "Supported keyword arguments include:\n",
       "\n",
       "  * `delim::Union{Char, String}=','`: a character or string to print out as the file's delimiter\n",
       "  * `quotechar::Char='\"'`: ascii character to use for quoting text fields that may contain delimiters or newlines\n",
       "  * `openquotechar::Char`: instead of `quotechar`, use `openquotechar` and `closequotechar` to support different starting and ending quote characters\n",
       "  * `escapechar::Char='\"'`: ascii character used to escape quote characters in a text field\n",
       "  * `missingstring::String=\"\"`: string to print for `missing` values\n",
       "  * `dateformat=Dates.default_format(T)`: the date format string to use for printing out `Date` & `DateTime` columns\n",
       "  * `append=false`: whether to append writing to an existing file/IO, if `true`, it will not write column names by default\n",
       "  * `writeheader=!append`: whether to write an initial row of delimited column names, not written by default if appending\n",
       "  * `header`: pass a list of column names (Symbols or Strings) to use instead of the column names of the input table\n",
       "  * `newline='\\n'`: character or string to use to separate rows (lines in the csv file)\n",
       "  * `quotestrings=false`: whether to force all strings to be quoted or not\n",
       "  * `decimal='.'`: character to use as the decimal point when writing floating point numbers\n",
       "  * `transform=(col,val)->val`: a function that is applied to every cell e.g. we can transform all `nothing` values to `missing` using `(col, val) -> something(val, missing)`\n",
       "  * `bom=false`: whether to write a UTF-8 BOM header (0xEF 0xBB 0xBF) or not\n"
      ],
      "text/plain": [
       "\u001b[36m  CSV.write(file, table; kwargs...) => file\u001b[39m\n",
       "\u001b[36m  table |> CSV.write(file; kwargs...) => file\u001b[39m\n",
       "\n",
       "  Write a Tables.jl interface input (https://github.com/JuliaData/Tables.jl)\n",
       "  to a csv file, given as an \u001b[36mIO\u001b[39m argument or \u001b[36mString\u001b[39m/FilePaths.jl type\n",
       "  representing the file name to write to. Alternatively, \u001b[36mCSV.RowWriter\u001b[39m creates\n",
       "  a row iterator, producing a csv-formatted string for each row in an input\n",
       "  table.\n",
       "\n",
       "  Supported keyword arguments include:\n",
       "\n",
       "    •    \u001b[36mdelim::Union{Char, String}=','\u001b[39m: a character or string to print out\n",
       "        as the file's delimiter\n",
       "\n",
       "    •    \u001b[36mquotechar::Char='\"'\u001b[39m: ascii character to use for quoting text\n",
       "        fields that may contain delimiters or newlines\n",
       "\n",
       "    •    \u001b[36mopenquotechar::Char\u001b[39m: instead of \u001b[36mquotechar\u001b[39m, use \u001b[36mopenquotechar\u001b[39m and\n",
       "        \u001b[36mclosequotechar\u001b[39m to support different starting and ending quote\n",
       "        characters\n",
       "\n",
       "    •    \u001b[36mescapechar::Char='\"'\u001b[39m: ascii character used to escape quote\n",
       "        characters in a text field\n",
       "\n",
       "    •    \u001b[36mmissingstring::String=\"\"\u001b[39m: string to print for \u001b[36mmissing\u001b[39m values\n",
       "\n",
       "    •    \u001b[36mdateformat=Dates.default_format(T)\u001b[39m: the date format string to use\n",
       "        for printing out \u001b[36mDate\u001b[39m & \u001b[36mDateTime\u001b[39m columns\n",
       "\n",
       "    •    \u001b[36mappend=false\u001b[39m: whether to append writing to an existing file/IO, if\n",
       "        \u001b[36mtrue\u001b[39m, it will not write column names by default\n",
       "\n",
       "    •    \u001b[36mwriteheader=!append\u001b[39m: whether to write an initial row of delimited\n",
       "        column names, not written by default if appending\n",
       "\n",
       "    •    \u001b[36mheader\u001b[39m: pass a list of column names (Symbols or Strings) to use\n",
       "        instead of the column names of the input table\n",
       "\n",
       "    •    \u001b[36mnewline='\\n'\u001b[39m: character or string to use to separate rows (lines\n",
       "        in the csv file)\n",
       "\n",
       "    •    \u001b[36mquotestrings=false\u001b[39m: whether to force all strings to be quoted or\n",
       "        not\n",
       "\n",
       "    •    \u001b[36mdecimal='.'\u001b[39m: character to use as the decimal point when writing\n",
       "        floating point numbers\n",
       "\n",
       "    •    \u001b[36mtransform=(col,val)->val\u001b[39m: a function that is applied to every cell\n",
       "        e.g. we can transform all \u001b[36mnothing\u001b[39m values to \u001b[36mmissing\u001b[39m using \u001b[36m(col,\n",
       "        val) -> something(val, missing)\u001b[39m\n",
       "\n",
       "    •    \u001b[36mbom=false\u001b[39m: whether to write a UTF-8 BOM header (0xEF 0xBB 0xBF) or\n",
       "        not"
      ]
     },
     "execution_count": 47,
     "metadata": {},
     "output_type": "execute_result"
    }
   ],
   "source": [
    "?CSV.write"
   ]
  },
  {
   "cell_type": "code",
   "execution_count": 50,
   "metadata": {},
   "outputs": [
    {
     "name": "stderr",
     "output_type": "stream",
     "text": [
      "WARNING: using HDF5.file in module Main conflicts with an existing identifier.\n"
     ]
    },
    {
     "data": {
      "text/plain": [
       "true"
      ]
     },
     "execution_count": 50,
     "metadata": {},
     "output_type": "execute_result"
    }
   ],
   "source": [
    "using HDF5\n",
    "HDF5.exists(file,\"//KDP_AUX/Cw_Vnir_Matrix\")"
   ]
  },
  {
   "cell_type": "code",
   "execution_count": 51,
   "metadata": {},
   "outputs": [
    {
     "name": "stderr",
     "output_type": "stream",
     "text": [
      "HDF5-DIAG: Error detected in HDF5 (1.10.5) thread 0:\n",
      "  #000: E:/mingwbuild/mingw-w64-hdf5/src/hdf5-1.10.5/src/H5A.c line 425 in H5Aopen(): unable to load attribute info from object header for attribute: 'Start_index_EO_VNIR'\n",
      "    major: Attribute\n",
      "    minor: Can't open object\n",
      "  #001: E:/mingwbuild/mingw-w64-hdf5/src/hdf5-1.10.5/src/H5Aint.c line 433 in H5A__open(): unable to load attribute info from object header for attribute: 'Start_index_EO_VNIR'\n",
      "    major: Attribute\n",
      "    minor: Can't open object\n",
      "  #002: E:/mingwbuild/mingw-w64-hdf5/src/hdf5-1.10.5/src/H5Oattribute.c line 515 in H5O__attr_open_by_name(): can't locate attribute: 'Start_index_EO_VNIR'\n",
      "    major: Attribute\n",
      "    minor: Object not found\n"
     ]
    },
    {
     "ename": "LoadError",
     "evalue": "Error opening attribute //Start_index_EO_VNIR",
     "output_type": "error",
     "traceback": [
      "Error opening attribute //Start_index_EO_VNIR",
      "",
      "Stacktrace:",
      " [1] error(::String, ::String, ::String, ::String) at .\\error.jl:42",
      " [2] h5a_open at C:\\Users\\i am\\.julia\\packages\\HDF5\\T1b9x\\src\\HDF5.jl:2334 [inlined]",
      " [3] a_open(::HDF5File, ::String) at C:\\Users\\i am\\.julia\\packages\\HDF5\\T1b9x\\src\\HDF5.jl:867",
      " [4] a_read(::HDF5File, ::String) at C:\\Users\\i am\\.julia\\packages\\HDF5\\T1b9x\\src\\HDF5.jl:1284",
      " [5] read at C:\\Users\\i am\\.julia\\packages\\HDF5\\T1b9x\\src\\HDF5.jl:1575 [inlined]",
      " [6] getAttr(::HDF5File, ::String) at C:\\Users\\i am\\Documents\\GitHub\\stage-Machine-learning\\code\\julia\\hdfeos.jl:19",
      " [7] top-level scope at In[51]:1",
      " [8] include_string(::Function, ::Module, ::String, ::String) at .\\loading.jl:1091"
     ]
    }
   ],
   "source": [
    "getAttr(file, \"Start_index_EO_VNIR\")"
   ]
  },
  {
   "cell_type": "code",
   "execution_count": 55,
   "metadata": {},
   "outputs": [
    {
     "data": {
      "text/plain": [
       "getAttr2 (generic function with 1 method)"
      ]
     },
     "execution_count": 55,
     "metadata": {},
     "output_type": "execute_result"
    }
   ],
   "source": [
    "function getAttr2(file, name::String)    \n",
    "    read(attrs(file), name)\n",
    "end"
   ]
  },
  {
   "cell_type": "code",
   "execution_count": 4,
   "metadata": {},
   "outputs": [
    {
     "name": "stdout",
     "output_type": "stream",
     "text": [
      "ok\n"
     ]
    }
   ],
   "source": [
    "x = \"ciao\"\n",
    "if !isnothing(x)\n",
    "    println(\"ok\")\n",
    "end"
   ]
  },
  {
   "cell_type": "code",
   "execution_count": 24,
   "metadata": {},
   "outputs": [
    {
     "data": {
      "text/plain": [
       "6-element Array{Int64,1}:\n",
       " 1\n",
       " 3\n",
       " 4\n",
       " 5\n",
       " 6\n",
       " 2"
      ]
     },
     "execution_count": 24,
     "metadata": {},
     "output_type": "execute_result"
    }
   ],
   "source": [
    " A = rand([0, 1], 25, 25)\n",
    "ordA = [1,3,4,5,6,2]\n"
   ]
  },
  {
   "cell_type": "code",
   "execution_count": 25,
   "metadata": {},
   "outputs": [
    {
     "data": {
      "text/plain": [
       "7×25 Array{Int64,2}:\n",
       " 1  0  0  0  0  0  0  1  1  0  1  0  1  0  0  1  1  0  0  0  1  1  0  0  0\n",
       " 1  1  0  0  1  1  1  0  0  1  1  0  1  1  0  1  0  0  0  1  0  0  0  1  1\n",
       " 0  1  1  0  0  0  1  1  1  1  1  0  0  1  0  1  1  1  1  0  0  1  0  0  0\n",
       " 0  1  0  1  0  0  0  1  1  1  1  1  0  1  0  0  0  1  1  1  1  0  0  0  0\n",
       " 1  0  0  1  1  0  0  1  0  0  0  1  1  0  1  1  0  0  0  1  1  0  0  1  0\n",
       " 0  1  1  0  1  0  0  1  0  0  0  0  0  1  1  1  1  0  0  1  1  0  1  1  1\n",
       " 1  1  0  1  0  1  0  0  0  0  1  0  0  1  1  0  0  0  1  0  1  1  1  1  0"
      ]
     },
     "execution_count": 25,
     "metadata": {},
     "output_type": "execute_result"
    }
   ],
   "source": [
    "B = A[4:10,:]"
   ]
  },
  {
   "cell_type": "code",
   "execution_count": 27,
   "metadata": {},
   "outputs": [
    {
     "data": {
      "text/plain": [
       "6×25 Array{Int64,2}:\n",
       " 1  0  0  0  0  0  0  1  1  0  1  0  1  0  0  1  1  0  0  0  1  1  0  0  0\n",
       " 0  1  1  0  0  0  1  1  1  1  1  0  0  1  0  1  1  1  1  0  0  1  0  0  0\n",
       " 0  1  0  1  0  0  0  1  1  1  1  1  0  1  0  0  0  1  1  1  1  0  0  0  0\n",
       " 1  0  0  1  1  0  0  1  0  0  0  1  1  0  1  1  0  0  0  1  1  0  0  1  0\n",
       " 0  1  1  0  1  0  0  1  0  0  0  0  0  1  1  1  1  0  0  1  1  0  1  1  1\n",
       " 1  1  0  0  1  1  1  0  0  1  1  0  1  1  0  1  0  0  0  1  0  0  0  1  1"
      ]
     },
     "execution_count": 27,
     "metadata": {},
     "output_type": "execute_result"
    }
   ],
   "source": [
    "B[ordA,:]"
   ]
  },
  {
   "cell_type": "code",
   "execution_count": 74,
   "metadata": {},
   "outputs": [
    {
     "data": {
      "text/plain": [
       "49-element Array{Int64,1}:\n",
       "  1\n",
       "  2\n",
       "  3\n",
       "  4\n",
       "  5\n",
       "  6\n",
       "  7\n",
       "  8\n",
       "  9\n",
       " 10\n",
       " 11\n",
       " 12\n",
       " 13\n",
       "  ⋮\n",
       " 38\n",
       " 39\n",
       " 40\n",
       " 41\n",
       " 42\n",
       " 43\n",
       " 44\n",
       " 45\n",
       " 46\n",
       " 47\n",
       " 48\n",
       " 49"
      ]
     },
     "execution_count": 74,
     "metadata": {},
     "output_type": "execute_result"
    }
   ],
   "source": [
    "x = 7^2\n",
    "a = [1:x...]"
   ]
  },
  {
   "cell_type": "code",
   "execution_count": 75,
   "metadata": {},
   "outputs": [
    {
     "data": {
      "text/plain": [
       "7×7 Array{Int64,2}:\n",
       " 1   8  15  22  29  36  43\n",
       " 2   9  16  23  30  37  44\n",
       " 3  10  17  24  31  38  45\n",
       " 4  11  18  25  32  39  46\n",
       " 5  12  19  26  33  40  47\n",
       " 6  13  20  27  34  41  48\n",
       " 7  14  21  28  35  42  49"
      ]
     },
     "execution_count": 75,
     "metadata": {},
     "output_type": "execute_result"
    }
   ],
   "source": [
    "mA = reshape(a,7,7)\n"
   ]
  },
  {
   "cell_type": "code",
   "execution_count": 76,
   "metadata": {},
   "outputs": [
    {
     "data": {
      "text/plain": [
       "3×7 Array{Int64,2}:\n",
       " 2   9  16  23  30  37  44\n",
       " 3  10  17  24  31  38  45\n",
       " 4  11  18  25  32  39  46"
      ]
     },
     "execution_count": 76,
     "metadata": {},
     "output_type": "execute_result"
    }
   ],
   "source": [
    "mA = mA[2:4,:]"
   ]
  },
  {
   "cell_type": "code",
   "execution_count": 77,
   "metadata": {},
   "outputs": [
    {
     "data": {
      "text/plain": [
       "3×5 Array{Int64,2}:\n",
       " 16  23  30  37  44\n",
       " 17  24  31  38  45\n",
       " 18  25  32  39  46"
      ]
     },
     "execution_count": 77,
     "metadata": {},
     "output_type": "execute_result"
    }
   ],
   "source": [
    "tA = mA[:,mA[1,:].>15]"
   ]
  },
  {
   "cell_type": "code",
   "execution_count": 68,
   "metadata": {},
   "outputs": [
    {
     "data": {
      "text/plain": [
       "3×3 Array{Int64,2}:\n",
       " 6  3  0\n",
       " 7  4  1\n",
       " 8  5  2"
      ]
     },
     "execution_count": 68,
     "metadata": {},
     "output_type": "execute_result"
    }
   ],
   "source": [
    "ordA =mA[:,ord]"
   ]
  },
  {
   "cell_type": "code",
   "execution_count": 69,
   "metadata": {},
   "outputs": [
    {
     "data": {
      "text/plain": [
       "3×3 Array{Int64,2}:\n",
       " 6  3  0\n",
       " 7  0  1\n",
       " 8  5  2"
      ]
     },
     "execution_count": 69,
     "metadata": {},
     "output_type": "execute_result"
    }
   ],
   "source": [
    "ordA[2,2]=0\n",
    "ordA"
   ]
  },
  {
   "cell_type": "code",
   "execution_count": 70,
   "metadata": {},
   "outputs": [
    {
     "data": {
      "text/plain": [
       "3×2 Array{Int64,2}:\n",
       " 6  3\n",
       " 7  0\n",
       " 8  5"
      ]
     },
     "execution_count": 70,
     "metadata": {},
     "output_type": "execute_result"
    }
   ],
   "source": [
    "ordA = ordA[:,(ordA[1,:] .!=0)]"
   ]
  },
  {
   "cell_type": "code",
   "execution_count": 53,
   "metadata": {},
   "outputs": [
    {
     "data": {
      "text/plain": [
       "40×0 Array{Float32,2}"
      ]
     },
     "execution_count": 53,
     "metadata": {},
     "output_type": "execute_result"
    }
   ],
   "source": [
    "vnir_start = 3\n",
    "vnir_stop = 45\n",
    "swir_start = 8\n",
    "swir_stop = 47\n",
    "\n",
    "vnir_wl_mat = faux.getData(file, \"//KDP_AUX/Cw_Vnir_Matrix\")#prendo matrice intera NB: molti 0, sparse?\n",
    "vnir_wl_mat = vnir_wl_mat[vnir_start:vnir_stop,:]# solo righe vnir\n",
    "#vnir_wl_mat = vnir_wl_mat[:,order_vnir]#ordino righe secondo order_vnir\n",
    "vnir_wl_mat = vnir_wl_mat[:,(vnir_wl_mat[1,:].!=0)]#tolgo colonne che inzian con 0\n",
    "#stessa cosa per vnir fwhm\n",
    "vnir_fwhm_mat = faux.getData(file, \"KDP_AUX/Fwhm_Vnir_Matrix\")#prendo matrice intera NB: molti 0, sparse?\n",
    "vnir_fwhm_mat = vnir_fwhm_mat[vnir_start:vnir_stop,:]# solo righe vnir\n",
    "#vnir_fwhm_mat = vnir_fwhm_mat[:,order_vnir]#ordino colonne secondo order_vnir\n",
    "vnir_fwhm_mat = vnir_fwhm_mat[:,(vnir_fwhm_mat[1,:].!=0)]#tolgo colonne con i dove [1,i]==0\n",
    "#stessa cosa per swir\n",
    "swir_wl_mat = faux.getData(file, \"//KDP_AUX/Cw_Swir_Matrix\")\n",
    "swir_wl_mat = swir_wl_mat[swir_start:swir_stop,:]\n",
    "#swir_wl_mat = swir_wl_mat[:,order_swir]\n",
    "swir_wl_mat = swir_wl_mat[:,(swir_wl_mat[1,:].!=0)]\n",
    "swir_fwhm_mat = faux.getData(file, \"//KDP_AUX/Fwhm_Swir_Matrix\")\n",
    "swir_fwhm_mat = swir_fwhm_mat[swir_start:swir_stop,:]\n",
    "#swir_fwhm_mat = swir_fwhm_mat[:,order_swir]\n",
    "swir_fwhm_mat = swir_fwhm_mat[:,(swir_fwhm_mat[1,:].!=0)]"
   ]
  },
  {
   "cell_type": "code",
   "execution_count": 49,
   "metadata": {},
   "outputs": [
    {
     "data": {
      "text/plain": [
       "6×0 Array{Float32,2}"
      ]
     },
     "execution_count": 49,
     "metadata": {},
     "output_type": "execute_result"
    }
   ],
   "source": [
    "swir_fwhm_mat"
   ]
  },
  {
   "cell_type": "code",
   "execution_count": 78,
   "metadata": {},
   "outputs": [
    {
     "data": {
      "text/plain": [
       "3×2 Array{Int64,2}:\n",
       " 6  3\n",
       " 7  0\n",
       " 8  5"
      ]
     },
     "execution_count": 78,
     "metadata": {},
     "output_type": "execute_result"
    }
   ],
   "source": [
    "ordA"
   ]
  },
  {
   "cell_type": "code",
   "execution_count": 79,
   "metadata": {},
   "outputs": [
    {
     "data": {
      "text/plain": [
       "3×7 Array{Int64,2}:\n",
       " 2   9  16  23  30  37  44\n",
       " 3  10  17  24  31  38  45\n",
       " 4  11  18  25  32  39  46"
      ]
     },
     "execution_count": 79,
     "metadata": {},
     "output_type": "execute_result"
    }
   ],
   "source": [
    "mA"
   ]
  },
  {
   "cell_type": "code",
   "execution_count": 80,
   "metadata": {},
   "outputs": [
    {
     "data": {
      "text/plain": [
       "3×9 Array{Int64,2}:\n",
       " 6  3  2   9  16  23  30  37  44\n",
       " 7  0  3  10  17  24  31  38  45\n",
       " 8  5  4  11  18  25  32  39  46"
      ]
     },
     "execution_count": 80,
     "metadata": {},
     "output_type": "execute_result"
    }
   ],
   "source": [
    "[ordA mA]"
   ]
  },
  {
   "cell_type": "code",
   "execution_count": 82,
   "metadata": {},
   "outputs": [
    {
     "data": {
      "text/plain": [
       "21"
      ]
     },
     "execution_count": 82,
     "metadata": {},
     "output_type": "execute_result"
    }
   ],
   "source": [
    "length(mA)"
   ]
  },
  {
   "cell_type": "code",
   "execution_count": 83,
   "metadata": {},
   "outputs": [
    {
     "data": {
      "text/plain": [
       "Array{Int64,2}"
      ]
     },
     "execution_count": 83,
     "metadata": {},
     "output_type": "execute_result"
    }
   ],
   "source": [
    "typeof(mA)"
   ]
  },
  {
   "cell_type": "code",
   "execution_count": 85,
   "metadata": {},
   "outputs": [
    {
     "data": {
      "text/plain": [
       "7"
      ]
     },
     "execution_count": 85,
     "metadata": {},
     "output_type": "execute_result"
    }
   ],
   "source": [
    "length(mA[1,:])"
   ]
  },
  {
   "cell_type": "code",
   "execution_count": null,
   "metadata": {},
   "outputs": [],
   "source": []
  }
 ],
 "metadata": {
  "kernelspec": {
   "display_name": "Julia 1.5.1",
   "language": "julia",
   "name": "julia-1.5"
  },
  "language_info": {
   "file_extension": ".jl",
   "mimetype": "application/julia",
   "name": "julia",
   "version": "1.5.1"
  }
 },
 "nbformat": 4,
 "nbformat_minor": 4
}
