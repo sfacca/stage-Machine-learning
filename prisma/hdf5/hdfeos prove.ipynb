{
 "cells": [
  {
   "cell_type": "code",
   "execution_count": null,
   "metadata": {},
   "outputs": [],
   "source": [
    "#include(\"../../code/julia/hdfeos_convert.jl\")\n",
    "include(\"../../code/julia/hdf5 tree.jl\")\n",
    "include(\"../../code/julia/HDF5filesDict.jl\")\n",
    "include(\"../../code/julia/printHDF.jl\")\n",
    "include(\"../../code/julia/drawTree.jl\")\n",
    "closeall = HDF5fd.closeall"
   ]
  },
  {
   "cell_type": "code",
   "execution_count": null,
   "metadata": {},
   "outputs": [],
   "source": [
    "include(\"../../code/julia/hdfeos.jl\")"
   ]
  },
  {
   "cell_type": "code",
   "execution_count": null,
   "metadata": {},
   "outputs": [],
   "source": [
    "include(\"../../code/julia/faux.jl\")"
   ]
  },
  {
   "cell_type": "code",
   "execution_count": null,
   "metadata": {},
   "outputs": [],
   "source": [
    "openfiles = HDF5fd.filesDict()\n"
   ]
  },
  {
   "cell_type": "markdown",
   "metadata": {},
   "source": [
    "* https://github.com/lbusett/prismaread/blob/master/R/pr_convert.R"
   ]
  },
  {
   "cell_type": "code",
   "execution_count": null,
   "metadata": {},
   "outputs": [],
   "source": [
    "using SparseArrays\n",
    "in_file=\"data/PRS_L2D_STD_20200627102334_20200627102339_0001.he5\"\n",
    "file = HDF5fd.open(openfiles,in_file,\"r\")\n",
    "\n",
    "vnir_mat = faux.getData(file, \"//KDP_AUX/Cw_Vnir_Matrix\")\n",
    "@show count(x->x==0, vnir_mat)\n",
    "#vnir_mat = sparse(vnir_mat)\n",
    "vnir_mat\n"
   ]
  },
  {
   "cell_type": "code",
   "execution_count": null,
   "metadata": {},
   "outputs": [],
   "source": []
  },
  {
   "cell_type": "code",
   "execution_count": null,
   "metadata": {},
   "outputs": [],
   "source": [
    "closeall(openfiles)"
   ]
  },
  {
   "cell_type": "code",
   "execution_count": null,
   "metadata": {},
   "outputs": [],
   "source": [
    "a=[1,2,3,4,5]\n",
    "b=[6,7,8,9]\n",
    "c=[a...,b...]"
   ]
  },
  {
   "cell_type": "code",
   "execution_count": null,
   "metadata": {},
   "outputs": [],
   "source": [
    "c=vcat(a,b)"
   ]
  },
  {
   "cell_type": "code",
   "execution_count": null,
   "metadata": {},
   "outputs": [],
   "source": [
    "function tryIf(x)\n",
    "    if x in [1,2,3,\"asd\",false]\n",
    "        println(\"$x ok\")\n",
    "        else \n",
    "        println(\"$x non ok\")\n",
    "    end\n",
    "    \n",
    "end"
   ]
  },
  {
   "cell_type": "code",
   "execution_count": null,
   "metadata": {},
   "outputs": [],
   "source": [
    "x = \"ciao\"\n",
    "tryIf(1)\n",
    "tryIf(\"asd\")\n",
    "tryIf(\"kmkgnmg\")"
   ]
  },
  {
   "cell_type": "code",
   "execution_count": null,
   "metadata": {
    "scrolled": false
   },
   "outputs": [],
   "source": [
    "using CSV\n",
    "using DataFrames\n",
    "mkpath(\"downloads/\")\n",
    "download(\"https://github.com/sfacca/stage-Machine-learning/raw/master/extdata/md_indexes_list.txt\",\"downloads/indexes_list.txt\")\n",
    "index_list = CSV.read(\"downloads/indexes_list.txt\")\n",
    "\n",
    "select!(index_list, Not(:id))\n",
    "names(index_list)"
   ]
  },
  {
   "cell_type": "code",
   "execution_count": null,
   "metadata": {},
   "outputs": [],
   "source": [
    "index_list[:Formula]"
   ]
  },
  {
   "cell_type": "code",
   "execution_count": null,
   "metadata": {},
   "outputs": [],
   "source": [
    "using CSV\n",
    "using DataFrames\n",
    "using LinearAlgebra\n",
    "using DataFramesMeta\n",
    "#=mkpath(\"downloads\")\n",
    "download(\"https://github.com/sfacca/stage-Machine-learning/raw/master/extdata/md_indexes_list.txt\",\"downloads/indexes_list.txt\")\n",
    "=#\n",
    "index_list = CSV.read(\"downloads/indexes_list.txt\")\n",
    "select!(index_list, Not(:id))\n",
    "\n",
    "av_indexes= select(index_list, [:Name,:Formula])\n",
    "indexes = [\"ARI\",\"BGI\",\"BRI\"]\n",
    "sel_indexes = filter(row -> row.Name ∈ indexes, av_indexes)\n",
    "av_indexes\n"
   ]
  },
  {
   "cell_type": "code",
   "execution_count": null,
   "metadata": {},
   "outputs": [],
   "source": [
    "# get additional metadata\n",
    "    sunzen  = hdfeos.getAttr(file, \"Sun_zenith_angle\")\n",
    "    sunaz  = hdfeos.getAttr(file, \"Sun_azimuth_angle\")\n",
    "    acqtime  = hdfeos.getAttr(file, \"Product_StartTime\")\n",
    "\n",
    "ang_df = DataFrame(date = acqtime),sunzen = sunzen,sunaz = sunaz)\n",
    "CSV.write(\"out/ang_df.ang\",ang_df,delim=' ',quotechar='\"',quotestrings=true)"
   ]
  },
  {
   "cell_type": "code",
   "execution_count": null,
   "metadata": {},
   "outputs": [],
   "source": [
    "string(\"asd\",\"fgh\",\"_asd\")"
   ]
  },
  {
   "cell_type": "code",
   "execution_count": null,
   "metadata": {},
   "outputs": [],
   "source": [
    "function extractWvl(str::String)#prende stringa, ritorna array di numeri\n",
    "  currnum = 0\n",
    "  res::Array{Int,1} = []\n",
    "  intc = ['1','2','3','4','5','6','7','8','9','0']\n",
    "  afterR = false\n",
    "  for char in str\n",
    "    if afterR\n",
    "      if char in intc\n",
    "        currnum = currnum*10\n",
    "        currnum = currnum + parse(Int,char)             \n",
    "                \n",
    "      else\n",
    "        push!(res,currnum)\n",
    "        currnum=0\n",
    "        afterR = false\n",
    "      end    \n",
    "    end\n",
    "    if char == 'R'\n",
    "      afterR = true\n",
    "    end\n",
    "  end\n",
    "  push!(res,currnum)  \n",
    "  res\n",
    "end"
   ]
  },
  {
   "cell_type": "code",
   "execution_count": null,
   "metadata": {},
   "outputs": [],
   "source": [
    "req_wls = sort(unique(vcat(extractWvl.(av_indexes[:Formula])...)))"
   ]
  },
  {
   "cell_type": "code",
   "execution_count": null,
   "metadata": {},
   "outputs": [],
   "source": [
    "wl_vnir = rand(Float64,66)\n",
    "#1 prendiamo elem req_wls >= maximum(wl_vnir)\n",
    "sel_vnir = filter(item -> item <= maximum(wl_vnir) && item != 0,req_wls)"
   ]
  },
  {
   "cell_type": "code",
   "execution_count": null,
   "metadata": {},
   "outputs": [],
   "source": [
    "myArr = [1,4,5,2,0]\n",
    "minimum(filter(item -> item !=0,myArr))"
   ]
  },
  {
   "cell_type": "code",
   "execution_count": null,
   "metadata": {},
   "outputs": [],
   "source": [
    "a = [6,6,9,12,4,2,6]\n",
    "b= [9,87,6,87,33]\n",
    "x = unique(sort(a))\n"
   ]
  },
  {
   "cell_type": "code",
   "execution_count": null,
   "metadata": {},
   "outputs": [],
   "source": [
    "y = unique(sort(b))"
   ]
  },
  {
   "cell_type": "code",
   "execution_count": null,
   "metadata": {},
   "outputs": [],
   "source": [
    "checkCommon(usa,usb)"
   ]
  },
  {
   "cell_type": "code",
   "execution_count": null,
   "metadata": {},
   "outputs": [],
   "source": [
    "using ArchGDAL"
   ]
  },
  {
   "cell_type": "code",
   "execution_count": null,
   "metadata": {},
   "outputs": [],
   "source": [
    "wl_vnir"
   ]
  },
  {
   "cell_type": "code",
   "execution_count": null,
   "metadata": {},
   "outputs": [],
   "source": [
    "x = [1,2,3]\n",
    "y= 2\n",
    "@show z = x.-y\n",
    "@show za = abs.(x.-y)\n"
   ]
  },
  {
   "cell_type": "code",
   "execution_count": null,
   "metadata": {},
   "outputs": [],
   "source": [
    "function closestWvl(wvl::Array{Int64,1},x::Int64)\n",
    "  y = abs.(wvl.-x)\n",
    "  #lapply(selbands_vnir, FUN = function(x) which.min(abs(wl_vnir - x))))\n",
    "  minimum(abs.(wvl.-x))\n",
    "end\n",
    "function closestWvlFun(wvl::Array{Int64,1})\n",
    "  (x)->(minimum(abs.(wvl.-x)))\n",
    "end"
   ]
  },
  {
   "cell_type": "code",
   "execution_count": null,
   "metadata": {},
   "outputs": [],
   "source": [
    "wvl = [4,3,6,1,-5,1,2,5,6,1]\n",
    "x = [5,-8,4,1,4,7,8]\n",
    "closestWvlFun(wvl).(x)"
   ]
  },
  {
   "cell_type": "code",
   "execution_count": null,
   "metadata": {},
   "outputs": [],
   "source": [
    "wl_vnir[5]=0\n",
    "wl_vnir[12]=0\n",
    "\n",
    "seqbands_vnir = [1:66...]\n",
    "  for i in 1:66\n",
    "    if wl_vnir[i]==0\n",
    "      seqbands_vnir[i]=0      \n",
    "    end\n",
    "  end\n",
    "seqbands_vnir = filter(x->x!=0,seqbands_vnir)"
   ]
  },
  {
   "cell_type": "code",
   "execution_count": null,
   "metadata": {},
   "outputs": [],
   "source": [
    "seqbands_vnir = [1:66]"
   ]
  },
  {
   "cell_type": "code",
   "execution_count": null,
   "metadata": {},
   "outputs": [],
   "source": [
    "wl_vnir = wl_vnir[seqbands_vnir]"
   ]
  },
  {
   "cell_type": "markdown",
   "metadata": {},
   "source": [
    "*http://www.johnmyleswhite.com/notebook/2012/04/09/comparing-julia-and-rs-vocabularies/"
   ]
  },
  {
   "cell_type": "code",
   "execution_count": null,
   "metadata": {},
   "outputs": [],
   "source": [
    "using DataFrames\n",
    "c = [1,2,3]\n",
    "b=[4,56,6]\n",
    "d=DataFrame(\"parola parola\"=c,\"ta ta\"= b)"
   ]
  },
  {
   "cell_type": "code",
   "execution_count": null,
   "metadata": {},
   "outputs": [],
   "source": [
    "?round"
   ]
  },
  {
   "cell_type": "code",
   "execution_count": null,
   "metadata": {},
   "outputs": [],
   "source": [
    "c = [0.1234567,1.123456789,2.1234567890]\n",
    "round.(c,digits=3)"
   ]
  },
  {
   "cell_type": "code",
   "execution_count": null,
   "metadata": {},
   "outputs": [],
   "source": [
    "c=[12345,123456]\n",
    "round.(c/1000000,digits=5)"
   ]
  },
  {
   "cell_type": "code",
   "execution_count": null,
   "metadata": {},
   "outputs": [],
   "source": [
    "df = DataFrame(asd=[1,2],bcd=[3,4])\n",
    "rename!(df,[\"as d\",\"dd a\"])"
   ]
  },
  {
   "cell_type": "code",
   "execution_count": null,
   "metadata": {},
   "outputs": [],
   "source": [
    "?names!"
   ]
  },
  {
   "cell_type": "code",
   "execution_count": null,
   "metadata": {},
   "outputs": [],
   "source": [
    "?CSV.write"
   ]
  },
  {
   "cell_type": "code",
   "execution_count": null,
   "metadata": {},
   "outputs": [],
   "source": [
    "using HDF5\n",
    "HDF5.exists(file,\"//KDP_AUX/Cw_Vnir_Matrix\")"
   ]
  },
  {
   "cell_type": "code",
   "execution_count": null,
   "metadata": {},
   "outputs": [],
   "source": [
    "getAttr(file, \"Start_index_EO_VNIR\")"
   ]
  },
  {
   "cell_type": "code",
   "execution_count": null,
   "metadata": {},
   "outputs": [],
   "source": [
    "function getAttr2(file, name::String)    \n",
    "    read(attrs(file), name)\n",
    "end"
   ]
  },
  {
   "cell_type": "code",
   "execution_count": null,
   "metadata": {},
   "outputs": [],
   "source": [
    "x = \"ciao\"\n",
    "if !isnothing(x)\n",
    "    println(\"ok\")\n",
    "end"
   ]
  },
  {
   "cell_type": "code",
   "execution_count": null,
   "metadata": {},
   "outputs": [],
   "source": [
    " A = rand([0, 1], 25, 25)\n",
    "ordA = [1,3,4,5,6,2]\n"
   ]
  },
  {
   "cell_type": "code",
   "execution_count": null,
   "metadata": {},
   "outputs": [],
   "source": [
    "B = A[4:10,:]"
   ]
  },
  {
   "cell_type": "code",
   "execution_count": null,
   "metadata": {},
   "outputs": [],
   "source": [
    "B[ordA,:]"
   ]
  },
  {
   "cell_type": "code",
   "execution_count": null,
   "metadata": {},
   "outputs": [],
   "source": [
    "x = 7^2\n",
    "a = [1:x...]"
   ]
  },
  {
   "cell_type": "code",
   "execution_count": null,
   "metadata": {},
   "outputs": [],
   "source": [
    "mA = reshape(a,7,7)\n"
   ]
  },
  {
   "cell_type": "code",
   "execution_count": null,
   "metadata": {},
   "outputs": [],
   "source": [
    "mA = mA[2:4,:]"
   ]
  },
  {
   "cell_type": "code",
   "execution_count": null,
   "metadata": {},
   "outputs": [],
   "source": [
    "tA = mA[:,mA[1,:].>15]"
   ]
  },
  {
   "cell_type": "code",
   "execution_count": null,
   "metadata": {},
   "outputs": [],
   "source": [
    "ordA =mA[:,ord]"
   ]
  },
  {
   "cell_type": "code",
   "execution_count": null,
   "metadata": {},
   "outputs": [],
   "source": [
    "ordA[2,2]=0\n",
    "ordA"
   ]
  },
  {
   "cell_type": "code",
   "execution_count": null,
   "metadata": {},
   "outputs": [],
   "source": [
    "ordA = ordA[:,(ordA[1,:] .!=0)]"
   ]
  },
  {
   "cell_type": "code",
   "execution_count": null,
   "metadata": {},
   "outputs": [],
   "source": [
    "vnir_start = 3\n",
    "vnir_stop = 45\n",
    "swir_start = 8\n",
    "swir_stop = 47\n",
    "\n",
    "vnir_wl_mat = faux.getData(file, \"//KDP_AUX/Cw_Vnir_Matrix\")#prendo matrice intera NB: molti 0, sparse?\n",
    "vnir_wl_mat = vnir_wl_mat[vnir_start:vnir_stop,:]# solo righe vnir\n",
    "#vnir_wl_mat = vnir_wl_mat[:,order_vnir]#ordino righe secondo order_vnir\n",
    "vnir_wl_mat = vnir_wl_mat[:,(vnir_wl_mat[1,:].!=0)]#tolgo colonne che inzian con 0\n",
    "#stessa cosa per vnir fwhm\n",
    "vnir_fwhm_mat = faux.getData(file, \"KDP_AUX/Fwhm_Vnir_Matrix\")#prendo matrice intera NB: molti 0, sparse?\n",
    "vnir_fwhm_mat = vnir_fwhm_mat[vnir_start:vnir_stop,:]# solo righe vnir\n",
    "#vnir_fwhm_mat = vnir_fwhm_mat[:,order_vnir]#ordino colonne secondo order_vnir\n",
    "vnir_fwhm_mat = vnir_fwhm_mat[:,(vnir_fwhm_mat[1,:].!=0)]#tolgo colonne con i dove [1,i]==0\n",
    "#stessa cosa per swir\n",
    "swir_wl_mat = faux.getData(file, \"//KDP_AUX/Cw_Swir_Matrix\")\n",
    "swir_wl_mat = swir_wl_mat[swir_start:swir_stop,:]\n",
    "#swir_wl_mat = swir_wl_mat[:,order_swir]\n",
    "swir_wl_mat = swir_wl_mat[:,(swir_wl_mat[1,:].!=0)]\n",
    "swir_fwhm_mat = faux.getData(file, \"//KDP_AUX/Fwhm_Swir_Matrix\")\n",
    "swir_fwhm_mat = swir_fwhm_mat[swir_start:swir_stop,:]\n",
    "#swir_fwhm_mat = swir_fwhm_mat[:,order_swir]\n",
    "swir_fwhm_mat = swir_fwhm_mat[:,(swir_fwhm_mat[1,:].!=0)]"
   ]
  },
  {
   "cell_type": "code",
   "execution_count": null,
   "metadata": {},
   "outputs": [],
   "source": [
    "swir_fwhm_mat"
   ]
  },
  {
   "cell_type": "code",
   "execution_count": null,
   "metadata": {},
   "outputs": [],
   "source": [
    "ordA"
   ]
  },
  {
   "cell_type": "code",
   "execution_count": null,
   "metadata": {},
   "outputs": [],
   "source": [
    "mA"
   ]
  },
  {
   "cell_type": "code",
   "execution_count": null,
   "metadata": {},
   "outputs": [],
   "source": [
    "[ordA mA]"
   ]
  },
  {
   "cell_type": "code",
   "execution_count": null,
   "metadata": {},
   "outputs": [],
   "source": [
    "length(mA)"
   ]
  },
  {
   "cell_type": "code",
   "execution_count": null,
   "metadata": {},
   "outputs": [],
   "source": [
    "typeof(mA)"
   ]
  },
  {
   "cell_type": "code",
   "execution_count": null,
   "metadata": {},
   "outputs": [],
   "source": [
    "length(mA[1,:])"
   ]
  },
  {
   "cell_type": "code",
   "execution_count": null,
   "metadata": {},
   "outputs": [],
   "source": [
    "\n",
    "vnir_cube = faux.getData(file,string(\"HDFEOS/SWATHS/PRS_L2D_\",\"HRC\",\"/Data Fields/VNIR_Cube\"))"
   ]
  },
  {
   "cell_type": "code",
   "execution_count": null,
   "metadata": {},
   "outputs": [],
   "source": [
    "C = sparse(faux.getData(file,\"/HDFEOS/SWATHS/PRS_L2D_HCO/Data Fields/VNIR_Cube\"))"
   ]
  },
  {
   "cell_type": "code",
   "execution_count": null,
   "metadata": {},
   "outputs": [],
   "source": [
    "using SparseArrays"
   ]
  },
  {
   "cell_type": "code",
   "execution_count": 1,
   "metadata": {},
   "outputs": [
    {
     "name": "stdout",
     "output_type": "stream",
     "text": [
      "else of a\n"
     ]
    }
   ],
   "source": [
    "a= false\n",
    "b=true\n",
    "c=true\n",
    "if a\n",
    "    if b\n",
    "        println()\n",
    "    end\n",
    "else\n",
    "    println(\"else of a\")\n",
    "end"
   ]
  },
  {
   "cell_type": "code",
   "execution_count": 2,
   "metadata": {},
   "outputs": [
    {
     "data": {
      "text/plain": [
       "7-element Array{Int64,1}:\n",
       " -3\n",
       " -2\n",
       " -1\n",
       "  0\n",
       "  1\n",
       "  2\n",
       "  3"
      ]
     },
     "execution_count": 2,
     "metadata": {},
     "output_type": "execute_result"
    }
   ],
   "source": [
    "sat = [-3:3...]"
   ]
  },
  {
   "cell_type": "code",
   "execution_count": 8,
   "metadata": {},
   "outputs": [
    {
     "data": {
      "text/plain": [
       "String"
      ]
     },
     "execution_count": 8,
     "metadata": {},
     "output_type": "execute_result"
    }
   ],
   "source": [
    "x = [1:10...]\n",
    "typeof(join(x,\"b\"))"
   ]
  },
  {
   "cell_type": "code",
   "execution_count": 9,
   "metadata": {},
   "outputs": [
    {
     "ename": "LoadError",
     "evalue": "MethodError: no method matching +(::Int64, ::String)\nClosest candidates are:\n  +(::Any, ::Any, !Matched::Any, !Matched::Any...) at operators.jl:538\n  +(::T, !Matched::T) where T<:Union{Int128, Int16, Int32, Int64, Int8, UInt128, UInt16, UInt32, UInt64, UInt8} at int.jl:86\n  +(::Integer, !Matched::Integer) at int.jl:918\n  ...",
     "output_type": "error",
     "traceback": [
      "MethodError: no method matching +(::Int64, ::String)\nClosest candidates are:\n  +(::Any, ::Any, !Matched::Any, !Matched::Any...) at operators.jl:538\n  +(::T, !Matched::T) where T<:Union{Int128, Int16, Int32, Int64, Int8, UInt128, UInt16, UInt32, UInt64, UInt8} at int.jl:86\n  +(::Integer, !Matched::Integer) at int.jl:918\n  ...",
      "",
      "Stacktrace:",
      " [1] _broadcast_getindex_evalf at .\\broadcast.jl:648 [inlined]",
      " [2] _broadcast_getindex at .\\broadcast.jl:621 [inlined]",
      " [3] getindex at .\\broadcast.jl:575 [inlined]",
      " [4] copy at .\\broadcast.jl:876 [inlined]",
      " [5] materialize(::Base.Broadcast.Broadcasted{Base.Broadcast.DefaultArrayStyle{1},Nothing,typeof(+),Tuple{Array{Int64,1},Base.RefValue{String}}}) at .\\broadcast.jl:837",
      " [6] top-level scope at In[9]:1",
      " [7] include_string(::Function, ::Module, ::String, ::String) at .\\loading.jl:1091"
     ]
    }
   ],
   "source": [
    "x.+\"b\""
   ]
  },
  {
   "cell_type": "code",
   "execution_count": 12,
   "metadata": {},
   "outputs": [
    {
     "data": {
      "text/plain": [
       "10-element Array{String,1}:\n",
       " \"1b\"\n",
       " \"2b\"\n",
       " \"3b\"\n",
       " \"4b\"\n",
       " \"5b\"\n",
       " \"6b\"\n",
       " \"7b\"\n",
       " \"8b\"\n",
       " \"9b\"\n",
       " \"10b\""
      ]
     },
     "execution_count": 12,
     "metadata": {},
     "output_type": "execute_result"
    }
   ],
   "source": [
    "s = string.(x).*\"b\""
   ]
  },
  {
   "cell_type": "code",
   "execution_count": 14,
   "metadata": {},
   "outputs": [
    {
     "ename": "LoadError",
     "evalue": "syntax: invalid identifier name \"?\"",
     "output_type": "error",
     "traceback": [
      "syntax: invalid identifier name \"?\"",
      "",
      "Stacktrace:",
      " [1] top-level scope at In[14]:2",
      " [2] include_string(::Function, ::Module, ::String, ::String) at .\\loading.jl:1091"
     ]
    }
   ],
   "source": [
    "using DataFrames\n",
    "?rename!"
   ]
  },
  {
   "cell_type": "code",
   "execution_count": 16,
   "metadata": {},
   "outputs": [
    {
     "name": "stdout",
     "output_type": "stream",
     "text": [
      "search: \u001b[0m\u001b[1mr\u001b[22m\u001b[0m\u001b[1me\u001b[22m\u001b[0m\u001b[1mp\u001b[22m\u001b[0m\u001b[1ml\u001b[22m\u001b[0m\u001b[1ma\u001b[22m\u001b[0m\u001b[1mc\u001b[22m\u001b[0m\u001b[1me\u001b[22m \u001b[0m\u001b[1mr\u001b[22m\u001b[0m\u001b[1me\u001b[22m\u001b[0m\u001b[1mp\u001b[22m\u001b[0m\u001b[1ml\u001b[22m\u001b[0m\u001b[1ma\u001b[22m\u001b[0m\u001b[1mc\u001b[22m\u001b[0m\u001b[1me\u001b[22m! \u001b[0m\u001b[1mr\u001b[22m\u001b[0m\u001b[1me\u001b[22mdis\u001b[0m\u001b[1mp\u001b[22m\u001b[0m\u001b[1ml\u001b[22m\u001b[0m\u001b[1ma\u001b[22my\n",
      "\n"
     ]
    },
    {
     "data": {
      "text/latex": [
       "\\begin{verbatim}\n",
       "replace(A, old_new::Pair...; [count::Integer])\n",
       "\\end{verbatim}\n",
       "Return a copy of collection \\texttt{A} where, for each pair \\texttt{old=>new} in \\texttt{old\\_new}, all occurrences of \\texttt{old} are replaced by \\texttt{new}. Equality is determined using \\href{@ref}{\\texttt{isequal}}. If \\texttt{count} is specified, then replace at most \\texttt{count} occurrences in total.\n",
       "\n",
       "The element type of the result is chosen using promotion (see \\href{@ref}{\\texttt{promote\\_type}}) based on the element type of \\texttt{A} and on the types of the \\texttt{new} values in pairs. If \\texttt{count} is omitted and the element type of \\texttt{A} is a \\texttt{Union}, the element type of the result will not include singleton types which are replaced with values of a different type: for example, \\texttt{Union\\{T,Missing\\}} will become \\texttt{T} if \\texttt{missing} is replaced.\n",
       "\n",
       "See also \\href{@ref}{\\texttt{replace!}}.\n",
       "\n",
       "\\section{Examples}\n",
       "\\begin{verbatim}\n",
       "julia> replace([1, 2, 1, 3], 1=>0, 2=>4, count=2)\n",
       "4-element Array{Int64,1}:\n",
       " 0\n",
       " 4\n",
       " 1\n",
       " 3\n",
       "\n",
       "julia> replace([1, missing], missing=>0)\n",
       "2-element Array{Int64,1}:\n",
       " 1\n",
       " 0\n",
       "\\end{verbatim}\n",
       "\\rule{\\textwidth}{1pt}\n",
       "\\begin{verbatim}\n",
       "replace(new::Function, A; [count::Integer])\n",
       "\\end{verbatim}\n",
       "Return a copy of \\texttt{A} where each value \\texttt{x} in \\texttt{A} is replaced by \\texttt{new(x)}. If \\texttt{count} is specified, then replace at most \\texttt{count} values in total (replacements being defined as \\texttt{new(x) !== x}).\n",
       "\n",
       "\\section{Examples}\n",
       "\\begin{verbatim}\n",
       "julia> replace(x -> isodd(x) ? 2x : x, [1, 2, 3, 4])\n",
       "4-element Array{Int64,1}:\n",
       " 2\n",
       " 2\n",
       " 6\n",
       " 4\n",
       "\n",
       "julia> replace(Dict(1=>2, 3=>4)) do kv\n",
       "           first(kv) < 3 ? first(kv)=>3 : kv\n",
       "       end\n",
       "Dict{Int64,Int64} with 2 entries:\n",
       "  3 => 4\n",
       "  1 => 3\n",
       "\\end{verbatim}\n",
       "\\rule{\\textwidth}{1pt}\n",
       "\\begin{verbatim}\n",
       "replace(s::AbstractString, pat=>r; [count::Integer])\n",
       "\\end{verbatim}\n",
       "Search for the given pattern \\texttt{pat} in \\texttt{s}, and replace each occurrence with \\texttt{r}. If \\texttt{count} is provided, replace at most \\texttt{count} occurrences. \\texttt{pat} may be a single character, a vector or a set of characters, a string, or a regular expression. If \\texttt{r} is a function, each occurrence is replaced with \\texttt{r(s)} where \\texttt{s} is the matched substring (when \\texttt{pat} is a \\texttt{Regex} or \\texttt{AbstractString}) or character (when \\texttt{pat} is an \\texttt{AbstractChar} or a collection of \\texttt{AbstractChar}). If \\texttt{pat} is a regular expression and \\texttt{r} is a \\href{@ref}{\\texttt{SubstitutionString}}, then capture group references in \\texttt{r} are replaced with the corresponding matched text. To remove instances of \\texttt{pat} from \\texttt{string}, set \\texttt{r} to the empty \\texttt{String} (\\texttt{\"\"}).\n",
       "\n",
       "\\section{Examples}\n",
       "\\begin{verbatim}\n",
       "julia> replace(\"Python is a programming language.\", \"Python\" => \"Julia\")\n",
       "\"Julia is a programming language.\"\n",
       "\n",
       "julia> replace(\"The quick foxes run quickly.\", \"quick\" => \"slow\", count=1)\n",
       "\"The slow foxes run quickly.\"\n",
       "\n",
       "julia> replace(\"The quick foxes run quickly.\", \"quick\" => \"\", count=1)\n",
       "\"The  foxes run quickly.\"\n",
       "\n",
       "julia> replace(\"The quick foxes run quickly.\", r\"fox(es)?\" => s\"bus\\1\")\n",
       "\"The quick buses run quickly.\"\n",
       "\\end{verbatim}\n"
      ],
      "text/markdown": [
       "```\n",
       "replace(A, old_new::Pair...; [count::Integer])\n",
       "```\n",
       "\n",
       "Return a copy of collection `A` where, for each pair `old=>new` in `old_new`, all occurrences of `old` are replaced by `new`. Equality is determined using [`isequal`](@ref). If `count` is specified, then replace at most `count` occurrences in total.\n",
       "\n",
       "The element type of the result is chosen using promotion (see [`promote_type`](@ref)) based on the element type of `A` and on the types of the `new` values in pairs. If `count` is omitted and the element type of `A` is a `Union`, the element type of the result will not include singleton types which are replaced with values of a different type: for example, `Union{T,Missing}` will become `T` if `missing` is replaced.\n",
       "\n",
       "See also [`replace!`](@ref).\n",
       "\n",
       "# Examples\n",
       "\n",
       "```jldoctest\n",
       "julia> replace([1, 2, 1, 3], 1=>0, 2=>4, count=2)\n",
       "4-element Array{Int64,1}:\n",
       " 0\n",
       " 4\n",
       " 1\n",
       " 3\n",
       "\n",
       "julia> replace([1, missing], missing=>0)\n",
       "2-element Array{Int64,1}:\n",
       " 1\n",
       " 0\n",
       "```\n",
       "\n",
       "---\n",
       "\n",
       "```\n",
       "replace(new::Function, A; [count::Integer])\n",
       "```\n",
       "\n",
       "Return a copy of `A` where each value `x` in `A` is replaced by `new(x)`. If `count` is specified, then replace at most `count` values in total (replacements being defined as `new(x) !== x`).\n",
       "\n",
       "# Examples\n",
       "\n",
       "```jldoctest\n",
       "julia> replace(x -> isodd(x) ? 2x : x, [1, 2, 3, 4])\n",
       "4-element Array{Int64,1}:\n",
       " 2\n",
       " 2\n",
       " 6\n",
       " 4\n",
       "\n",
       "julia> replace(Dict(1=>2, 3=>4)) do kv\n",
       "           first(kv) < 3 ? first(kv)=>3 : kv\n",
       "       end\n",
       "Dict{Int64,Int64} with 2 entries:\n",
       "  3 => 4\n",
       "  1 => 3\n",
       "```\n",
       "\n",
       "---\n",
       "\n",
       "```\n",
       "replace(s::AbstractString, pat=>r; [count::Integer])\n",
       "```\n",
       "\n",
       "Search for the given pattern `pat` in `s`, and replace each occurrence with `r`. If `count` is provided, replace at most `count` occurrences. `pat` may be a single character, a vector or a set of characters, a string, or a regular expression. If `r` is a function, each occurrence is replaced with `r(s)` where `s` is the matched substring (when `pat` is a `Regex` or `AbstractString`) or character (when `pat` is an `AbstractChar` or a collection of `AbstractChar`). If `pat` is a regular expression and `r` is a [`SubstitutionString`](@ref), then capture group references in `r` are replaced with the corresponding matched text. To remove instances of `pat` from `string`, set `r` to the empty `String` (`\"\"`).\n",
       "\n",
       "# Examples\n",
       "\n",
       "```jldoctest\n",
       "julia> replace(\"Python is a programming language.\", \"Python\" => \"Julia\")\n",
       "\"Julia is a programming language.\"\n",
       "\n",
       "julia> replace(\"The quick foxes run quickly.\", \"quick\" => \"slow\", count=1)\n",
       "\"The slow foxes run quickly.\"\n",
       "\n",
       "julia> replace(\"The quick foxes run quickly.\", \"quick\" => \"\", count=1)\n",
       "\"The  foxes run quickly.\"\n",
       "\n",
       "julia> replace(\"The quick foxes run quickly.\", r\"fox(es)?\" => s\"bus\\1\")\n",
       "\"The quick buses run quickly.\"\n",
       "```\n"
      ],
      "text/plain": [
       "\u001b[36m  replace(A, old_new::Pair...; [count::Integer])\u001b[39m\n",
       "\n",
       "  Return a copy of collection \u001b[36mA\u001b[39m where, for each pair \u001b[36mold=>new\u001b[39m in \u001b[36mold_new\u001b[39m, all\n",
       "  occurrences of \u001b[36mold\u001b[39m are replaced by \u001b[36mnew\u001b[39m. Equality is determined using\n",
       "  \u001b[36misequal\u001b[39m. If \u001b[36mcount\u001b[39m is specified, then replace at most \u001b[36mcount\u001b[39m occurrences in\n",
       "  total.\n",
       "\n",
       "  The element type of the result is chosen using promotion (see \u001b[36mpromote_type\u001b[39m)\n",
       "  based on the element type of \u001b[36mA\u001b[39m and on the types of the \u001b[36mnew\u001b[39m values in pairs.\n",
       "  If \u001b[36mcount\u001b[39m is omitted and the element type of \u001b[36mA\u001b[39m is a \u001b[36mUnion\u001b[39m, the element type\n",
       "  of the result will not include singleton types which are replaced with\n",
       "  values of a different type: for example, \u001b[36mUnion{T,Missing}\u001b[39m will become \u001b[36mT\u001b[39m if\n",
       "  \u001b[36mmissing\u001b[39m is replaced.\n",
       "\n",
       "  See also \u001b[36mreplace!\u001b[39m.\n",
       "\n",
       "\u001b[1m  Examples\u001b[22m\n",
       "\u001b[1m  ≡≡≡≡≡≡≡≡≡≡\u001b[22m\n",
       "\n",
       "\u001b[36m  julia> replace([1, 2, 1, 3], 1=>0, 2=>4, count=2)\u001b[39m\n",
       "\u001b[36m  4-element Array{Int64,1}:\u001b[39m\n",
       "\u001b[36m   0\u001b[39m\n",
       "\u001b[36m   4\u001b[39m\n",
       "\u001b[36m   1\u001b[39m\n",
       "\u001b[36m   3\u001b[39m\n",
       "\u001b[36m  \u001b[39m\n",
       "\u001b[36m  julia> replace([1, missing], missing=>0)\u001b[39m\n",
       "\u001b[36m  2-element Array{Int64,1}:\u001b[39m\n",
       "\u001b[36m   1\u001b[39m\n",
       "\u001b[36m   0\u001b[39m\n",
       "\n",
       "  ────────────────────────────────────────────────────────────────────────────\n",
       "\n",
       "\u001b[36m  replace(new::Function, A; [count::Integer])\u001b[39m\n",
       "\n",
       "  Return a copy of \u001b[36mA\u001b[39m where each value \u001b[36mx\u001b[39m in \u001b[36mA\u001b[39m is replaced by \u001b[36mnew(x)\u001b[39m. If \u001b[36mcount\u001b[39m\n",
       "  is specified, then replace at most \u001b[36mcount\u001b[39m values in total (replacements being\n",
       "  defined as \u001b[36mnew(x) !== x\u001b[39m).\n",
       "\n",
       "\u001b[1m  Examples\u001b[22m\n",
       "\u001b[1m  ≡≡≡≡≡≡≡≡≡≡\u001b[22m\n",
       "\n",
       "\u001b[36m  julia> replace(x -> isodd(x) ? 2x : x, [1, 2, 3, 4])\u001b[39m\n",
       "\u001b[36m  4-element Array{Int64,1}:\u001b[39m\n",
       "\u001b[36m   2\u001b[39m\n",
       "\u001b[36m   2\u001b[39m\n",
       "\u001b[36m   6\u001b[39m\n",
       "\u001b[36m   4\u001b[39m\n",
       "\u001b[36m  \u001b[39m\n",
       "\u001b[36m  julia> replace(Dict(1=>2, 3=>4)) do kv\u001b[39m\n",
       "\u001b[36m             first(kv) < 3 ? first(kv)=>3 : kv\u001b[39m\n",
       "\u001b[36m         end\u001b[39m\n",
       "\u001b[36m  Dict{Int64,Int64} with 2 entries:\u001b[39m\n",
       "\u001b[36m    3 => 4\u001b[39m\n",
       "\u001b[36m    1 => 3\u001b[39m\n",
       "\n",
       "  ────────────────────────────────────────────────────────────────────────────\n",
       "\n",
       "\u001b[36m  replace(s::AbstractString, pat=>r; [count::Integer])\u001b[39m\n",
       "\n",
       "  Search for the given pattern \u001b[36mpat\u001b[39m in \u001b[36ms\u001b[39m, and replace each occurrence with \u001b[36mr\u001b[39m.\n",
       "  If \u001b[36mcount\u001b[39m is provided, replace at most \u001b[36mcount\u001b[39m occurrences. \u001b[36mpat\u001b[39m may be a single\n",
       "  character, a vector or a set of characters, a string, or a regular\n",
       "  expression. If \u001b[36mr\u001b[39m is a function, each occurrence is replaced with \u001b[36mr(s)\u001b[39m where\n",
       "  \u001b[36ms\u001b[39m is the matched substring (when \u001b[36mpat\u001b[39m is a \u001b[36mRegex\u001b[39m or \u001b[36mAbstractString\u001b[39m) or\n",
       "  character (when \u001b[36mpat\u001b[39m is an \u001b[36mAbstractChar\u001b[39m or a collection of \u001b[36mAbstractChar\u001b[39m). If\n",
       "  \u001b[36mpat\u001b[39m is a regular expression and \u001b[36mr\u001b[39m is a \u001b[36mSubstitutionString\u001b[39m, then capture\n",
       "  group references in \u001b[36mr\u001b[39m are replaced with the corresponding matched text. To\n",
       "  remove instances of \u001b[36mpat\u001b[39m from \u001b[36mstring\u001b[39m, set \u001b[36mr\u001b[39m to the empty \u001b[36mString\u001b[39m (\u001b[36m\"\"\u001b[39m).\n",
       "\n",
       "\u001b[1m  Examples\u001b[22m\n",
       "\u001b[1m  ≡≡≡≡≡≡≡≡≡≡\u001b[22m\n",
       "\n",
       "\u001b[36m  julia> replace(\"Python is a programming language.\", \"Python\" => \"Julia\")\u001b[39m\n",
       "\u001b[36m  \"Julia is a programming language.\"\u001b[39m\n",
       "\u001b[36m  \u001b[39m\n",
       "\u001b[36m  julia> replace(\"The quick foxes run quickly.\", \"quick\" => \"slow\", count=1)\u001b[39m\n",
       "\u001b[36m  \"The slow foxes run quickly.\"\u001b[39m\n",
       "\u001b[36m  \u001b[39m\n",
       "\u001b[36m  julia> replace(\"The quick foxes run quickly.\", \"quick\" => \"\", count=1)\u001b[39m\n",
       "\u001b[36m  \"The  foxes run quickly.\"\u001b[39m\n",
       "\u001b[36m  \u001b[39m\n",
       "\u001b[36m  julia> replace(\"The quick foxes run quickly.\", r\"fox(es)?\" => s\"bus\\1\")\u001b[39m\n",
       "\u001b[36m  \"The quick buses run quickly.\"\u001b[39m"
      ]
     },
     "execution_count": 16,
     "metadata": {},
     "output_type": "execute_result"
    }
   ],
   "source": [
    "?replace"
   ]
  },
  {
   "cell_type": "code",
   "execution_count": null,
   "metadata": {},
   "outputs": [],
   "source": []
  }
 ],
 "metadata": {
  "kernelspec": {
   "display_name": "Julia 1.5.1",
   "language": "julia",
   "name": "julia-1.5"
  },
  "language_info": {
   "file_extension": ".jl",
   "mimetype": "application/julia",
   "name": "julia",
   "version": "1.5.1"
  }
 },
 "nbformat": 4,
 "nbformat_minor": 4
}
