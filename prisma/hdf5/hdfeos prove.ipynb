{
 "cells": [
  {
   "cell_type": "code",
   "execution_count": 3,
   "metadata": {},
   "outputs": [
    {
     "name": "stderr",
     "output_type": "stream",
     "text": [
      "WARNING: replacing module HDF5Tree.\n",
      "WARNING: replacing module HDF5fd.\n",
      "WARNING: replacing module printHDF.\n",
      "WARNING: replacing module drawTree.\n"
     ]
    },
    {
     "data": {
      "text/plain": [
       "Main.drawTree"
      ]
     },
     "execution_count": 3,
     "metadata": {},
     "output_type": "execute_result"
    }
   ],
   "source": [
    "#include(\"../../codice/julia/hdfeos_convert.jl\")\n",
    "include(\"../../codice/julia/hdf5 tree.jl\")\n",
    "include(\"../../codice/julia/HDF5filesDict.jl\")\n",
    "include(\"../../codice/julia/printHDF.jl\")\n",
    "include(\"../../codice/julia/drawTree.jl\")"
   ]
  },
  {
   "cell_type": "code",
   "execution_count": 2,
   "metadata": {},
   "outputs": [
    {
     "data": {
      "text/plain": [
       "Main.HDF5fd.filesDict(Dict{Any,Any}(), 0)"
      ]
     },
     "execution_count": 2,
     "metadata": {},
     "output_type": "execute_result"
    }
   ],
   "source": [
    "openfiles = HDF5fd.filesDict()"
   ]
  },
  {
   "cell_type": "code",
   "execution_count": 5,
   "metadata": {},
   "outputs": [
    {
     "data": {
      "text/plain": [
       "66-element Array{Float32,1}:\n",
       "  0.0\n",
       "  0.0\n",
       "  0.0\n",
       " 12.911368\n",
       " 12.988625\n",
       " 13.529436\n",
       " 13.153065\n",
       " 12.756423\n",
       " 12.919401\n",
       " 13.084726\n",
       " 13.122369\n",
       " 13.102167\n",
       " 13.077453\n",
       "  ⋮\n",
       "  9.031113\n",
       "  8.956725\n",
       "  8.96158\n",
       "  8.964095\n",
       "  9.083489\n",
       "  9.148905\n",
       "  9.222981\n",
       "  9.254457\n",
       "  9.411242\n",
       "  9.845499\n",
       " 10.578098\n",
       " 11.421576"
      ]
     },
     "execution_count": 5,
     "metadata": {},
     "output_type": "execute_result"
    }
   ],
   "source": [
    "testfile=\"data/PRS_L2D_STD_20200627102334_20200627102339_0001.he5\"\n",
    "file = HDF5fd.open(openfiles,testfile,\"r\")\n",
    "proc_lev = hdfeos.getAttr(file, \"List_Fwhm_Vnir\")"
   ]
  },
  {
   "cell_type": "code",
   "execution_count": null,
   "metadata": {},
   "outputs": [],
   "source": [
    "HDF5fd.closeall(openfiles)"
   ]
  },
  {
   "cell_type": "code",
   "execution_count": 13,
   "metadata": {},
   "outputs": [
    {
     "data": {
      "text/plain": [
       "9-element Array{Int64,1}:\n",
       " 1\n",
       " 2\n",
       " 3\n",
       " 4\n",
       " 5\n",
       " 6\n",
       " 7\n",
       " 8\n",
       " 9"
      ]
     },
     "execution_count": 13,
     "metadata": {},
     "output_type": "execute_result"
    }
   ],
   "source": [
    "a=[1,2,3,4,5]\n",
    "b=[6,7,8,9]\n",
    "c=[a...,b...]"
   ]
  },
  {
   "cell_type": "code",
   "execution_count": 16,
   "metadata": {},
   "outputs": [
    {
     "data": {
      "text/plain": [
       "9-element Array{Int64,1}:\n",
       " 1\n",
       " 2\n",
       " 3\n",
       " 4\n",
       " 5\n",
       " 6\n",
       " 7\n",
       " 8\n",
       " 9"
      ]
     },
     "execution_count": 16,
     "metadata": {},
     "output_type": "execute_result"
    }
   ],
   "source": [
    "c=vcat(a,b)"
   ]
  },
  {
   "cell_type": "code",
   "execution_count": 20,
   "metadata": {},
   "outputs": [
    {
     "data": {
      "text/plain": [
       "tryIf (generic function with 1 method)"
      ]
     },
     "execution_count": 20,
     "metadata": {},
     "output_type": "execute_result"
    }
   ],
   "source": [
    "function tryIf(x)\n",
    "    if x in [1,2,3,\"asd\",false]\n",
    "        println(\"$x ok\")\n",
    "        else \n",
    "        println(\"$x non ok\")\n",
    "    end\n",
    "    \n",
    "end"
   ]
  },
  {
   "cell_type": "code",
   "execution_count": 22,
   "metadata": {},
   "outputs": [
    {
     "name": "stdout",
     "output_type": "stream",
     "text": [
      "1 ok\n",
      "asd ok\n"
     ]
    }
   ],
   "source": [
    "x = \"ciao\"\n",
    "tryIf(1)\n",
    "tryIf(\"asd\")"
   ]
  },
  {
   "cell_type": "code",
   "execution_count": 27,
   "metadata": {},
   "outputs": [
    {
     "data": {
      "text/html": [
       "<table class=\"data-frame\"><thead><tr><th></th><th>id</th><th>Name</th><th>Description</th><th>Formula</th><th>Sensitivity</th></tr><tr><th></th><th>Int64</th><th>String</th><th>String?</th><th>String</th><th>String?</th></tr></thead><tbody><p>132 rows × 6 columns (omitted printing of 1 columns)</p><tr><th>1</th><td>1</td><td>ARI</td><td>Anthocyanin Reflectance Index</td><td>1 / R550 - 1 / R700</td><td>Carotenoid content</td></tr><tr><th>2</th><td>2</td><td>BGI</td><td>Blue Green Pigment Index</td><td>R450 / R550</td><td>Dry Matter / Pigment</td></tr><tr><th>3</th><td>3</td><td>BRI</td><td>Blue Red Pigment Index</td><td>R450 / R690</td><td>Dry Matter / Pigment</td></tr><tr><th>4</th><td>4</td><td>CAI</td><td>Cellulose Absorption Index</td><td>0.5*(R2015 + R2195) - R2106</td><td>Dry Matter / Cellulose Absorption</td></tr><tr><th>5</th><td>5</td><td>CI</td><td>Curvative Index</td><td>(R675 * R690) / R683 ^ 2</td><td><em>missing</em></td></tr><tr><th>6</th><td>6</td><td>CI2</td><td><em>missing</em></td><td>R760 / R700 - 1</td><td><em>missing</em></td></tr><tr><th>7</th><td>7</td><td>CRI</td><td>Carotenoid Reflectance</td><td>1 / R510 - 1 / R550</td><td>Carotenoid content</td></tr><tr><th>8</th><td>8</td><td>CRI1</td><td><em>missing</em></td><td>1/R515 - 1/R550</td><td><em>missing</em></td></tr><tr><th>9</th><td>9</td><td>CRI2</td><td>Carotenoid Reflectance</td><td>1 / R510 - 1 / R700</td><td>Carotenoid content</td></tr><tr><th>10</th><td>10</td><td>CRI2</td><td><em>missing</em></td><td>1/R515 - 1/R770</td><td><em>missing</em></td></tr><tr><th>11</th><td>11</td><td>CRI3</td><td><em>missing</em></td><td>(1/R515 - 1/R550) * R770</td><td><em>missing</em></td></tr><tr><th>12</th><td>12</td><td>CRI4</td><td><em>missing</em></td><td>(1/R515 - 1/R700) * R770</td><td><em>missing</em></td></tr><tr><th>13</th><td>13</td><td>CSI</td><td>Carter Stress Index</td><td>R695 / R420</td><td>Chlorophyll</td></tr><tr><th>14</th><td>14</td><td>CSI2</td><td>Carter Stress Index</td><td>R695 / R760</td><td>Chlorophyll</td></tr><tr><th>15</th><td>15</td><td>CSI3</td><td>Carter Stress Index</td><td>R605 / R760</td><td><em>missing</em></td></tr><tr><th>16</th><td>16</td><td>CSI4</td><td>Carter Stress Index</td><td>R710 / R760</td><td><em>missing</em></td></tr><tr><th>17</th><td>17</td><td>CSI5</td><td>Carter Stress Index</td><td>R550</td><td><em>missing</em></td></tr><tr><th>18</th><td>18</td><td>CUR</td><td>Curvature Index</td><td>R675 * R550 / R2683</td><td>Flourescence</td></tr><tr><th>19</th><td>19</td><td>Datt</td><td><em>missing</em></td><td>(R850 - R710)/(R850 - R680)</td><td><em>missing</em></td></tr><tr><th>20</th><td>20</td><td>Datt2</td><td><em>missing</em></td><td>R850 / R710</td><td><em>missing</em></td></tr><tr><th>21</th><td>21</td><td>Datt4</td><td><em>missing</em></td><td>R672/(R550 * R708)</td><td><em>missing</em></td></tr><tr><th>22</th><td>22</td><td>Datt5</td><td><em>missing</em></td><td>R672 / R550</td><td><em>missing</em></td></tr><tr><th>23</th><td>23</td><td>Datt6</td><td><em>missing</em></td><td>R860 / (R550 * R708)</td><td><em>missing</em></td></tr><tr><th>24</th><td>24</td><td>Datt7</td><td><em>missing</em></td><td>(R860 - R2218) / (R860 - R1928)</td><td><em>missing</em></td></tr><tr><th>25</th><td>25</td><td>Datt8</td><td><em>missing</em></td><td>(R860 - R1788) / (R860 - R1928)</td><td><em>missing</em></td></tr><tr><th>26</th><td>26</td><td>DD</td><td><em>missing</em></td><td>(R749 - R720) - (R701 - R672)</td><td><em>missing</em></td></tr><tr><th>27</th><td>27</td><td>DDn</td><td><em>missing</em></td><td>2 * (R710 - R660 - R760)</td><td><em>missing</em></td></tr><tr><th>28</th><td>28</td><td>DSWI</td><td>Desease Water Stress Index</td><td>(R802 - R547) / (R1657 + R682)</td><td>Water Content</td></tr><tr><th>29</th><td>29</td><td>DWSI1</td><td>Desease Water Stress Index</td><td>R800 / R1660</td><td>Water Content</td></tr><tr><th>30</th><td>30</td><td>DWSI2</td><td>Desease Water Stress Index</td><td>R1660 / R550</td><td>Water Content</td></tr><tr><th>&vellip;</th><td>&vellip;</td><td>&vellip;</td><td>&vellip;</td><td>&vellip;</td><td>&vellip;</td></tr></tbody></table>"
      ],
      "text/latex": [
       "\\begin{tabular}{r|cccccc}\n",
       "\t& id & Name & Description & Formula & Sensitivity & \\\\\n",
       "\t\\hline\n",
       "\t& Int64 & String & String? & String & String? & \\\\\n",
       "\t\\hline\n",
       "\t1 & 1 & ARI & Anthocyanin Reflectance Index & 1 / R550 - 1 / R700 & Carotenoid content & $\\dots$ \\\\\n",
       "\t2 & 2 & BGI & Blue Green Pigment Index & R450 / R550 & Dry Matter / Pigment & $\\dots$ \\\\\n",
       "\t3 & 3 & BRI & Blue Red Pigment Index & R450 / R690 & Dry Matter / Pigment & $\\dots$ \\\\\n",
       "\t4 & 4 & CAI & Cellulose Absorption Index & 0.5*(R2015 + R2195) - R2106 & Dry Matter / Cellulose Absorption & $\\dots$ \\\\\n",
       "\t5 & 5 & CI & Curvative Index & (R675 * R690) / R683 \\^ 2 & \\emph{missing} & $\\dots$ \\\\\n",
       "\t6 & 6 & CI2 & \\emph{missing} & R760 / R700 - 1 & \\emph{missing} & $\\dots$ \\\\\n",
       "\t7 & 7 & CRI & Carotenoid Reflectance & 1 / R510 - 1 / R550 & Carotenoid content & $\\dots$ \\\\\n",
       "\t8 & 8 & CRI1 & \\emph{missing} & 1/R515 - 1/R550 & \\emph{missing} & $\\dots$ \\\\\n",
       "\t9 & 9 & CRI2 & Carotenoid Reflectance & 1 / R510 - 1 / R700 & Carotenoid content & $\\dots$ \\\\\n",
       "\t10 & 10 & CRI2 & \\emph{missing} & 1/R515 - 1/R770 & \\emph{missing} & $\\dots$ \\\\\n",
       "\t11 & 11 & CRI3 & \\emph{missing} & (1/R515 - 1/R550) * R770 & \\emph{missing} & $\\dots$ \\\\\n",
       "\t12 & 12 & CRI4 & \\emph{missing} & (1/R515 - 1/R700) * R770 & \\emph{missing} & $\\dots$ \\\\\n",
       "\t13 & 13 & CSI & Carter Stress Index & R695 / R420 & Chlorophyll & $\\dots$ \\\\\n",
       "\t14 & 14 & CSI2 & Carter Stress Index & R695 / R760 & Chlorophyll & $\\dots$ \\\\\n",
       "\t15 & 15 & CSI3 & Carter Stress Index & R605 / R760 & \\emph{missing} & $\\dots$ \\\\\n",
       "\t16 & 16 & CSI4 & Carter Stress Index & R710 / R760 & \\emph{missing} & $\\dots$ \\\\\n",
       "\t17 & 17 & CSI5 & Carter Stress Index & R550 & \\emph{missing} & $\\dots$ \\\\\n",
       "\t18 & 18 & CUR & Curvature Index & R675 * R550 / R2683 & Flourescence & $\\dots$ \\\\\n",
       "\t19 & 19 & Datt & \\emph{missing} & (R850 - R710)/(R850 - R680) & \\emph{missing} & $\\dots$ \\\\\n",
       "\t20 & 20 & Datt2 & \\emph{missing} & R850 / R710 & \\emph{missing} & $\\dots$ \\\\\n",
       "\t21 & 21 & Datt4 & \\emph{missing} & R672/(R550 * R708) & \\emph{missing} & $\\dots$ \\\\\n",
       "\t22 & 22 & Datt5 & \\emph{missing} & R672 / R550 & \\emph{missing} & $\\dots$ \\\\\n",
       "\t23 & 23 & Datt6 & \\emph{missing} & R860 / (R550 * R708) & \\emph{missing} & $\\dots$ \\\\\n",
       "\t24 & 24 & Datt7 & \\emph{missing} & (R860 - R2218) / (R860 - R1928) & \\emph{missing} & $\\dots$ \\\\\n",
       "\t25 & 25 & Datt8 & \\emph{missing} & (R860 - R1788) / (R860 - R1928) & \\emph{missing} & $\\dots$ \\\\\n",
       "\t26 & 26 & DD & \\emph{missing} & (R749 - R720) - (R701 - R672) & \\emph{missing} & $\\dots$ \\\\\n",
       "\t27 & 27 & DDn & \\emph{missing} & 2 * (R710 - R660 - R760) & \\emph{missing} & $\\dots$ \\\\\n",
       "\t28 & 28 & DSWI & Desease Water Stress Index & (R802 - R547) / (R1657 + R682) & Water Content & $\\dots$ \\\\\n",
       "\t29 & 29 & DWSI1 & Desease Water Stress Index & R800 / R1660 & Water Content & $\\dots$ \\\\\n",
       "\t30 & 30 & DWSI2 & Desease Water Stress Index & R1660 / R550 & Water Content & $\\dots$ \\\\\n",
       "\t$\\dots$ & $\\dots$ & $\\dots$ & $\\dots$ & $\\dots$ & $\\dots$ &  \\\\\n",
       "\\end{tabular}\n"
      ],
      "text/plain": [
       "132×6 DataFrame. Omitted printing of 3 columns\n",
       "│ Row │ id    │ Name          │ Description                   │\n",
       "│     │ \u001b[90mInt64\u001b[39m │ \u001b[90mString\u001b[39m        │ \u001b[90mUnion{Missing, String}\u001b[39m        │\n",
       "├─────┼───────┼───────────────┼───────────────────────────────┤\n",
       "│ 1   │ 1     │ ARI           │ Anthocyanin Reflectance Index │\n",
       "│ 2   │ 2     │ BGI           │ Blue Green Pigment Index      │\n",
       "│ 3   │ 3     │ BRI           │ Blue Red Pigment Index        │\n",
       "│ 4   │ 4     │ CAI           │ Cellulose Absorption Index    │\n",
       "│ 5   │ 5     │ CI            │ Curvative Index               │\n",
       "│ 6   │ 6     │ CI2           │ \u001b[90mmissing\u001b[39m                       │\n",
       "│ 7   │ 7     │ CRI           │ Carotenoid Reflectance        │\n",
       "│ 8   │ 8     │ CRI1          │ \u001b[90mmissing\u001b[39m                       │\n",
       "│ 9   │ 9     │ CRI2          │ Carotenoid Reflectance        │\n",
       "│ 10  │ 10    │ CRI2          │ \u001b[90mmissing\u001b[39m                       │\n",
       "⋮\n",
       "│ 122 │ 122   │ TCARI2/OSAVI2 │ \u001b[90mmissing\u001b[39m                       │\n",
       "│ 123 │ 123   │ TGI           │ \u001b[90mmissing\u001b[39m                       │\n",
       "│ 124 │ 124   │ TVI           │ Triangular Vegetation Index   │\n",
       "│ 125 │ 125   │ VOG1          │ Vogelmann Index               │\n",
       "│ 126 │ 126   │ VOG2          │ Vogelmann Index               │\n",
       "│ 127 │ 127   │ VOG3          │ Vogelmann Index               │\n",
       "│ 128 │ 128   │ ZTM           │ Zarco-Tejada & Miller         │\n",
       "│ 129 │ 129   │ myindex       │ My custom Index               │\n",
       "│ 130 │ 130   │ 009066L       │ My custom Index               │\n",
       "│ 131 │ 131   │ 009449D       │ My custom Index               │\n",
       "│ 132 │ 132   │ 008530N       │ My custom Index               │"
      ]
     },
     "execution_count": 27,
     "metadata": {},
     "output_type": "execute_result"
    }
   ],
   "source": [
    "using CSV\n",
    "mkpath(\"downloads\")\n",
    "#download(\"https://github.com/lbusett/prismaread/raw/master/inst/extdata/indexes_list.txt\",\"downloads/indexes_list.txt\")\n",
    "index_list = CSV.read(\"downloads/indexes_list.txt\")"
   ]
  },
  {
   "cell_type": "code",
   "execution_count": 26,
   "metadata": {},
   "outputs": [
    {
     "data": {
      "text/latex": [
       "\\texttt{CSV.read(source, sink::T; kwargs...)} => T\n",
       "\n",
       "Read and parses a delimited file, materializing directly using the \\texttt{sink} function.\n",
       "\n",
       "\\texttt{CSV.read} supports all the same keyword arguments as \\href{@ref}{\\texttt{CSV.File}}.\n",
       "\n"
      ],
      "text/markdown": [
       "`CSV.read(source, sink::T; kwargs...)` => T\n",
       "\n",
       "Read and parses a delimited file, materializing directly using the `sink` function.\n",
       "\n",
       "`CSV.read` supports all the same keyword arguments as [`CSV.File`](@ref).\n"
      ],
      "text/plain": [
       "  \u001b[36mCSV.read(source, sink::T; kwargs...)\u001b[39m => T\n",
       "\n",
       "  Read and parses a delimited file, materializing directly using the \u001b[36msink\u001b[39m\n",
       "  function.\n",
       "\n",
       "  \u001b[36mCSV.read\u001b[39m supports all the same keyword arguments as \u001b[36mCSV.File\u001b[39m."
      ]
     },
     "execution_count": 26,
     "metadata": {},
     "output_type": "execute_result"
    }
   ],
   "source": [
    "?CSV.read\n"
   ]
  },
  {
   "cell_type": "code",
   "execution_count": null,
   "metadata": {},
   "outputs": [],
   "source": []
  }
 ],
 "metadata": {
  "kernelspec": {
   "display_name": "Julia 1.5.1",
   "language": "julia",
   "name": "julia-1.5"
  },
  "language_info": {
   "file_extension": ".jl",
   "mimetype": "application/julia",
   "name": "julia",
   "version": "1.5.1"
  }
 },
 "nbformat": 4,
 "nbformat_minor": 4
}
