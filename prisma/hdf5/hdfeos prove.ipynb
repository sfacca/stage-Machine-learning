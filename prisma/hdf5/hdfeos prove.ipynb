{
 "cells": [
  {
   "cell_type": "code",
   "execution_count": 3,
   "metadata": {},
   "outputs": [
    {
     "name": "stderr",
     "output_type": "stream",
     "text": [
      "WARNING: replacing module HDF5Tree.\n",
      "WARNING: replacing module HDF5fd.\n",
      "WARNING: replacing module printHDF.\n",
      "WARNING: replacing module drawTree.\n"
     ]
    },
    {
     "data": {
      "text/plain": [
       "Main.drawTree"
      ]
     },
     "execution_count": 3,
     "metadata": {},
     "output_type": "execute_result"
    }
   ],
   "source": [
    "#include(\"../../codice/julia/hdfeos_convert.jl\")\n",
    "include(\"../../codice/julia/hdf5 tree.jl\")\n",
    "include(\"../../codice/julia/HDF5filesDict.jl\")\n",
    "include(\"../../codice/julia/printHDF.jl\")\n",
    "include(\"../../codice/julia/drawTree.jl\")"
   ]
  },
  {
   "cell_type": "code",
   "execution_count": 2,
   "metadata": {},
   "outputs": [
    {
     "data": {
      "text/plain": [
       "Main.HDF5fd.filesDict(Dict{Any,Any}(), 0)"
      ]
     },
     "execution_count": 2,
     "metadata": {},
     "output_type": "execute_result"
    }
   ],
   "source": [
    "openfiles = HDF5fd.filesDict()"
   ]
  },
  {
   "cell_type": "code",
   "execution_count": 5,
   "metadata": {},
   "outputs": [
    {
     "data": {
      "text/plain": [
       "66-element Array{Float32,1}:\n",
       "  0.0\n",
       "  0.0\n",
       "  0.0\n",
       " 12.911368\n",
       " 12.988625\n",
       " 13.529436\n",
       " 13.153065\n",
       " 12.756423\n",
       " 12.919401\n",
       " 13.084726\n",
       " 13.122369\n",
       " 13.102167\n",
       " 13.077453\n",
       "  ⋮\n",
       "  9.031113\n",
       "  8.956725\n",
       "  8.96158\n",
       "  8.964095\n",
       "  9.083489\n",
       "  9.148905\n",
       "  9.222981\n",
       "  9.254457\n",
       "  9.411242\n",
       "  9.845499\n",
       " 10.578098\n",
       " 11.421576"
      ]
     },
     "execution_count": 5,
     "metadata": {},
     "output_type": "execute_result"
    }
   ],
   "source": [
    "testfile=\"data/PRS_L2D_STD_20200627102334_20200627102339_0001.he5\"\n",
    "file = HDF5fd.open(openfiles,testfile,\"r\")\n",
    "proc_lev = hdfeos.getAttr(file, \"List_Fwhm_Vnir\")"
   ]
  },
  {
   "cell_type": "code",
   "execution_count": null,
   "metadata": {},
   "outputs": [],
   "source": [
    "HDF5fd.closeall(openfiles)"
   ]
  },
  {
   "cell_type": "code",
   "execution_count": 13,
   "metadata": {},
   "outputs": [
    {
     "data": {
      "text/plain": [
       "9-element Array{Int64,1}:\n",
       " 1\n",
       " 2\n",
       " 3\n",
       " 4\n",
       " 5\n",
       " 6\n",
       " 7\n",
       " 8\n",
       " 9"
      ]
     },
     "execution_count": 13,
     "metadata": {},
     "output_type": "execute_result"
    }
   ],
   "source": [
    "a=[1,2,3,4,5]\n",
    "b=[6,7,8,9]\n",
    "c=[a...,b...]"
   ]
  },
  {
   "cell_type": "code",
   "execution_count": 16,
   "metadata": {},
   "outputs": [
    {
     "data": {
      "text/plain": [
       "9-element Array{Int64,1}:\n",
       " 1\n",
       " 2\n",
       " 3\n",
       " 4\n",
       " 5\n",
       " 6\n",
       " 7\n",
       " 8\n",
       " 9"
      ]
     },
     "execution_count": 16,
     "metadata": {},
     "output_type": "execute_result"
    }
   ],
   "source": [
    "c=vcat(a,b)"
   ]
  },
  {
   "cell_type": "code",
   "execution_count": null,
   "metadata": {},
   "outputs": [],
   "source": []
  }
 ],
 "metadata": {
  "kernelspec": {
   "display_name": "Julia 1.5.1",
   "language": "julia",
   "name": "julia-1.5"
  },
  "language_info": {
   "file_extension": ".jl",
   "mimetype": "application/julia",
   "name": "julia",
   "version": "1.5.1"
  }
 },
 "nbformat": 4,
 "nbformat_minor": 4
}
