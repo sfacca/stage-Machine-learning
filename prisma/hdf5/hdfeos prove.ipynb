{
 "cells": [
  {
   "cell_type": "code",
   "execution_count": 42,
   "metadata": {},
   "outputs": [
    {
     "data": {
      "text/plain": [
       "Main.drawTree"
      ]
     },
     "execution_count": 42,
     "metadata": {},
     "output_type": "execute_result"
    }
   ],
   "source": [
    "include(\"../../code/julia/hdf5 tree.jl\")\n",
    "include(\"../../code/julia/printHDF.jl\")\n",
    "include(\"../../code/julia/drawTree.jl\")"
   ]
  },
  {
   "cell_type": "code",
   "execution_count": 43,
   "metadata": {},
   "outputs": [
    {
     "name": "stderr",
     "output_type": "stream",
     "text": [
      "WARNING: replacing module faux.\n"
     ]
    },
    {
     "data": {
      "text/plain": [
       "closeall (generic function with 1 method)"
      ]
     },
     "execution_count": 43,
     "metadata": {},
     "output_type": "execute_result"
    }
   ],
   "source": [
    "#include(\"../../code/julia/hdfeos_convert.jl\")\n",
    "include(\"../../code/julia/HDF5filesDict.jl\")\n",
    "include(\"../../code/julia/eos_create.jl\")\n",
    "closeall = HDF5fd.closeall"
   ]
  },
  {
   "cell_type": "code",
   "execution_count": null,
   "metadata": {},
   "outputs": [],
   "source": [
    "using BenchmarkTools"
   ]
  },
  {
   "cell_type": "code",
   "execution_count": 44,
   "metadata": {},
   "outputs": [
    {
     "data": {
      "text/plain": [
       "Main.hdfeos"
      ]
     },
     "execution_count": 44,
     "metadata": {},
     "output_type": "execute_result"
    }
   ],
   "source": [
    "include(\"../../code/julia/hdfeos.jl\")"
   ]
  },
  {
   "cell_type": "code",
   "execution_count": 45,
   "metadata": {},
   "outputs": [
    {
     "name": "stderr",
     "output_type": "stream",
     "text": [
      "WARNING: replacing module faux.\n"
     ]
    },
    {
     "data": {
      "text/plain": [
       "Main.faux"
      ]
     },
     "execution_count": 45,
     "metadata": {},
     "output_type": "execute_result"
    }
   ],
   "source": [
    "include(\"../../code/julia/faux.jl\")"
   ]
  },
  {
   "cell_type": "code",
   "execution_count": null,
   "metadata": {},
   "outputs": [],
   "source": [
    "const getAttr = faux.getAttr"
   ]
  },
  {
   "cell_type": "code",
   "execution_count": 46,
   "metadata": {},
   "outputs": [
    {
     "name": "stderr",
     "output_type": "stream",
     "text": [
      "WARNING: replacing module faux.\n",
      "WARNING: replacing module eos_geoloc.\n",
      "WARNING: replacing module errcube.\n",
      "WARNING: replacing module rastwrite_lines.\n"
     ]
    },
    {
     "data": {
      "text/plain": [
       "create_cube (generic function with 6 methods)"
      ]
     },
     "execution_count": 46,
     "metadata": {},
     "output_type": "execute_result"
    }
   ],
   "source": [
    "include(\"../../code/julia/eos_create.jl\")"
   ]
  },
  {
   "cell_type": "code",
   "execution_count": 47,
   "metadata": {},
   "outputs": [
    {
     "data": {
      "text/plain": [
       "Main.HDF5fd.filesDict(Dict{Any,Any}(), 0)"
      ]
     },
     "execution_count": 47,
     "metadata": {},
     "output_type": "execute_result"
    }
   ],
   "source": [
    "openfiles = HDF5fd.filesDict()\n"
   ]
  },
  {
   "cell_type": "code",
   "execution_count": 48,
   "metadata": {},
   "outputs": [
    {
     "name": "stderr",
     "output_type": "stream",
     "text": [
      "WARNING: replacing module rastwrite_lines.\n"
     ]
    },
    {
     "data": {
      "text/plain": [
       "Main.rastwrite_lines"
      ]
     },
     "execution_count": 48,
     "metadata": {},
     "output_type": "execute_result"
    }
   ],
   "source": [
    "include(\"../../code/julia/eos_rastwrite_lines.jl\")"
   ]
  },
  {
   "cell_type": "markdown",
   "metadata": {},
   "source": [
    "* https://github.com/lbusett/prismaread/blob/master/R/pr_convert.R"
   ]
  },
  {
   "cell_type": "code",
   "execution_count": 49,
   "metadata": {},
   "outputs": [
    {
     "data": {
      "text/plain": [
       "HDF5 data file: data/PRS_L2D_STD_20200627102334_20200627102339_0001.he5"
      ]
     },
     "execution_count": 49,
     "metadata": {},
     "output_type": "execute_result"
    }
   ],
   "source": [
    "\n",
    "f=\"data/PRS_L2D_STD_20200627102334_20200627102339_0001.he5\"\n",
    "in_file = HDF5fd.open(openfiles,f,\"r\")\n",
    "\n",
    "\n"
   ]
  },
  {
   "cell_type": "code",
   "execution_count": null,
   "metadata": {},
   "outputs": [],
   "source": []
  },
  {
   "cell_type": "code",
   "execution_count": null,
   "metadata": {},
   "outputs": [],
   "source": [
    "vnir_wl_mat = faux.getData(in_file, \"//KDP_AUX/Cw_Vnir_Matrix\")#prendo matrice intera NB: molti 0, sparse? \n",
    "vnir_fwhm_mat = faux.getData(in_file, \"KDP_AUX/Fwhm_Vnir_Matrix\")#prendo matrice intera NB: molti 0, sparse?\n",
    "\n",
    "swir_wl_mat = faux.getData(in_file, \"//KDP_AUX/Cw_Swir_Matrix\")\n",
    "swir_fwhm_mat = faux.getData(in_file, \"//KDP_AUX/Fwhm_Swir_Matrix\")"
   ]
  },
  {
   "cell_type": "code",
   "execution_count": null,
   "metadata": {},
   "outputs": [],
   "source": [
    "vnir_wl_mat"
   ]
  },
  {
   "cell_type": "code",
   "execution_count": null,
   "metadata": {},
   "outputs": [],
   "source": [
    "@btime vnir_wl_mat_nonfun = vnir_wl_mat[(vnir_wl_mat[:,1].!=0),:]"
   ]
  },
  {
   "cell_type": "code",
   "execution_count": null,
   "metadata": {},
   "outputs": [],
   "source": [
    "@btime swir_fun_nonz = faux.matCrop(vnir_wl_mat)"
   ]
  },
  {
   "cell_type": "raw",
   "metadata": {},
   "source": [
    "function matCrop(mat)\n",
    "    first = 0\n",
    "    last = 0\n",
    "    numrows= size(mat)[1]\n",
    "    for i in 1:numrows\n",
    "        if mat[i,1]!=0\n",
    "            last = i\n",
    "            if first ==0\n",
    "                first = i\n",
    "            end        \n",
    "        end    \n",
    "    end\n",
    "    mat[first:last,:]\n",
    "end"
   ]
  },
  {
   "cell_type": "code",
   "execution_count": null,
   "metadata": {},
   "outputs": [],
   "source": [
    "cvnir_wl = faux.matCrop(vnir_wl_mat)"
   ]
  },
  {
   "cell_type": "code",
   "execution_count": null,
   "metadata": {},
   "outputs": [],
   "source": [
    "\n",
    "cswir_wl = faux.matCrop(swir_wl_mat)"
   ]
  },
  {
   "cell_type": "code",
   "execution_count": null,
   "metadata": {},
   "outputs": [],
   "source": [
    "first = 0\n",
    "last = 0\n",
    "for i in 1:256\n",
    "    if vnir_fwhm_mat[i,1]!=0\n",
    "        last = i\n",
    "        if first ==0\n",
    "            first = i\n",
    "        end        \n",
    "    end    \n",
    "end\n",
    "@show last \n",
    "@show first\n",
    "last - first"
   ]
  },
  {
   "cell_type": "code",
   "execution_count": null,
   "metadata": {},
   "outputs": [],
   "source": [
    "size(vnir_wl_mat)"
   ]
  },
  {
   "cell_type": "code",
   "execution_count": null,
   "metadata": {},
   "outputs": [],
   "source": [
    "first = 0\n",
    "last = 0\n",
    "for i in 1:256\n",
    "    if swir_wl_mat[i,1]!=0\n",
    "        last = i\n",
    "        if first ==0\n",
    "            first = i\n",
    "        end        \n",
    "    end    \n",
    "end\n",
    "@show last \n",
    "@show first\n",
    "last - first"
   ]
  },
  {
   "cell_type": "code",
   "execution_count": null,
   "metadata": {},
   "outputs": [],
   "source": [
    "c = zeros(Int,3,3)\n",
    "c[1,2]=12\n",
    "c[2,1]=21\n",
    "c"
   ]
  },
  {
   "cell_type": "code",
   "execution_count": null,
   "metadata": {},
   "outputs": [],
   "source": [
    "a = zeros(Int,3,3)\n",
    "b = ones(Int,3,3)\n",
    "vcat(a,b)"
   ]
  },
  {
   "cell_type": "code",
   "execution_count": null,
   "metadata": {},
   "outputs": [],
   "source": [
    "closeall(openfiles)"
   ]
  },
  {
   "cell_type": "code",
   "execution_count": null,
   "metadata": {},
   "outputs": [],
   "source": [
    "faux.filename(in_file.filename)"
   ]
  },
  {
   "cell_type": "code",
   "execution_count": null,
   "metadata": {},
   "outputs": [],
   "source": [
    "include(\"../../code/julia/faux.jl\")"
   ]
  },
  {
   "cell_type": "code",
   "execution_count": null,
   "metadata": {},
   "outputs": [],
   "source": [
    "a=[1,2,3,4,5]\n",
    "b=[6,7,8,9]\n",
    "c=[a...,b...]"
   ]
  },
  {
   "cell_type": "code",
   "execution_count": null,
   "metadata": {},
   "outputs": [],
   "source": [
    "c=vcat(a,b)"
   ]
  },
  {
   "cell_type": "code",
   "execution_count": null,
   "metadata": {},
   "outputs": [],
   "source": [
    "using CSV\n",
    "using DataFrames\n",
    "using LinearAlgebra\n",
    "using DataFramesMeta\n",
    "#=mkpath(\"downloads\")\n",
    "download(\"https://github.com/sfacca/stage-Machine-learning/raw/master/extdata/md_indexes_list.txt\",\"downloads/indexes_list.txt\")\n",
    "=#\n",
    "index_list = CSV.read(\"downloads/indexes_list.txt\")\n",
    "select!(index_list, Not(:id))\n",
    "\n",
    "av_indexes= select(index_list, [:Name,:Formula])\n",
    "indexes = [\"ARI\",\"BGI\",\"BRI\"]\n",
    "sel_indexes = filter(row -> row.Name ∈ indexes, av_indexes)\n",
    "av_indexes\n"
   ]
  },
  {
   "cell_type": "code",
   "execution_count": null,
   "metadata": {},
   "outputs": [],
   "source": [
    "# get additional metadata\n",
    "    sunzen  = hdfeos.getAttr(file, \"Sun_zenith_angle\")\n",
    "    sunaz  = hdfeos.getAttr(file, \"Sun_azimuth_angle\")\n",
    "    acqtime  = hdfeos.getAttr(file, \"Product_StartTime\")\n",
    "\n",
    "ang_df = DataFrame(date = acqtime),sunzen = sunzen,sunaz = sunaz)\n",
    "CSV.write(\"out/ang_df.ang\",ang_df,delim=' ',quotechar='\"',quotestrings=true)"
   ]
  },
  {
   "cell_type": "code",
   "execution_count": null,
   "metadata": {},
   "outputs": [],
   "source": [
    "req_wls = sort(unique(vcat(extractWvl.(av_indexes[:Formula])...)))"
   ]
  },
  {
   "cell_type": "code",
   "execution_count": null,
   "metadata": {},
   "outputs": [],
   "source": [
    "wl_vnir = rand(Float64,66)\n",
    "#1 prendiamo elem req_wls >= maximum(wl_vnir)\n",
    "sel_vnir = filter(item -> item <= maximum(wl_vnir) && item != 0,req_wls)"
   ]
  },
  {
   "cell_type": "code",
   "execution_count": null,
   "metadata": {},
   "outputs": [],
   "source": [
    "myArr = [1,4,5,2,0]\n",
    "minimum(filter(item -> item !=0,myArr))"
   ]
  },
  {
   "cell_type": "code",
   "execution_count": null,
   "metadata": {},
   "outputs": [],
   "source": [
    "y = unique(sort(b))"
   ]
  },
  {
   "cell_type": "code",
   "execution_count": null,
   "metadata": {},
   "outputs": [],
   "source": [
    "checkCommon(usa,usb)"
   ]
  },
  {
   "cell_type": "code",
   "execution_count": null,
   "metadata": {},
   "outputs": [],
   "source": [
    "using ArchGDAL"
   ]
  },
  {
   "cell_type": "code",
   "execution_count": null,
   "metadata": {},
   "outputs": [],
   "source": [
    "wl_vnir"
   ]
  },
  {
   "cell_type": "code",
   "execution_count": null,
   "metadata": {},
   "outputs": [],
   "source": [
    "x = [1,2,3]\n",
    "y= 2\n",
    "@show z = x.-y\n",
    "@show za = abs.(x.-y)\n"
   ]
  },
  {
   "cell_type": "code",
   "execution_count": null,
   "metadata": {},
   "outputs": [],
   "source": [
    "function closestWvl(wvl::Array{Int64,1},x::Int64)\n",
    "  y = abs.(wvl.-x)\n",
    "  #lapply(selbands_vnir, FUN = function(x) which.min(abs(wl_vnir - x))))\n",
    "  minimum(abs.(wvl.-x))\n",
    "end\n",
    "function closestWvlFun(wvl::Array{Int64,1})\n",
    "  (x)->(minimum(abs.(wvl.-x)))\n",
    "end"
   ]
  },
  {
   "cell_type": "markdown",
   "metadata": {},
   "source": [
    "*http://www.johnmyleswhite.com/notebook/2012/04/09/comparing-julia-and-rs-vocabularies/"
   ]
  },
  {
   "cell_type": "code",
   "execution_count": null,
   "metadata": {},
   "outputs": [],
   "source": [
    "using DataFrames\n",
    "c = [1,2,3]\n",
    "b=[4,56,6]\n",
    "d=DataFrame(\"parola parola\"=c,\"ta ta\"= b)"
   ]
  },
  {
   "cell_type": "code",
   "execution_count": null,
   "metadata": {},
   "outputs": [],
   "source": [
    "?round"
   ]
  },
  {
   "cell_type": "code",
   "execution_count": null,
   "metadata": {},
   "outputs": [],
   "source": [
    "c = [0.1234567,1.123456789,2.1234567890]\n",
    "round.(c,digits=3)"
   ]
  },
  {
   "cell_type": "code",
   "execution_count": null,
   "metadata": {},
   "outputs": [],
   "source": [
    "c=[12345,123456]\n",
    "round.(c/1000000,digits=5)"
   ]
  },
  {
   "cell_type": "code",
   "execution_count": null,
   "metadata": {},
   "outputs": [],
   "source": [
    "df = DataFrame(asd=[1,2],bcd=[3,4])\n",
    "rename!(df,[\"as d\",\"dd a\"])"
   ]
  },
  {
   "cell_type": "code",
   "execution_count": null,
   "metadata": {},
   "outputs": [],
   "source": [
    "?names!"
   ]
  },
  {
   "cell_type": "code",
   "execution_count": null,
   "metadata": {},
   "outputs": [],
   "source": [
    "?CSV.write"
   ]
  },
  {
   "cell_type": "code",
   "execution_count": null,
   "metadata": {},
   "outputs": [],
   "source": [
    "using HDF5\n",
    "HDF5.exists(file,\"//KDP_AUX/Cw_Vnir_Matrix\")"
   ]
  },
  {
   "cell_type": "code",
   "execution_count": null,
   "metadata": {},
   "outputs": [],
   "source": [
    "getAttr(file, \"Start_index_EO_VNIR\")"
   ]
  },
  {
   "cell_type": "code",
   "execution_count": null,
   "metadata": {},
   "outputs": [],
   "source": [
    "function getAttr2(file, name::String)    \n",
    "    read(attrs(file), name)\n",
    "end"
   ]
  },
  {
   "cell_type": "code",
   "execution_count": null,
   "metadata": {},
   "outputs": [],
   "source": [
    "x = \"ciao\"\n",
    "if !isnothing(x)\n",
    "    println(\"ok\")\n",
    "end"
   ]
  },
  {
   "cell_type": "code",
   "execution_count": null,
   "metadata": {},
   "outputs": [],
   "source": [
    " A = rand([0, 1], 10,5)\n",
    "length(A[:,1])"
   ]
  },
  {
   "cell_type": "code",
   "execution_count": null,
   "metadata": {},
   "outputs": [],
   "source": [
    "B = A[4:10,:]"
   ]
  },
  {
   "cell_type": "code",
   "execution_count": null,
   "metadata": {},
   "outputs": [],
   "source": [
    "B[ordA,:]"
   ]
  },
  {
   "cell_type": "code",
   "execution_count": null,
   "metadata": {},
   "outputs": [],
   "source": [
    "x = 7^2\n",
    "a = [1:x...]"
   ]
  },
  {
   "cell_type": "code",
   "execution_count": null,
   "metadata": {},
   "outputs": [],
   "source": [
    "mA = reshape(a,7,7)\n"
   ]
  },
  {
   "cell_type": "code",
   "execution_count": null,
   "metadata": {},
   "outputs": [],
   "source": [
    "mA = mA[2:4,:]"
   ]
  },
  {
   "cell_type": "code",
   "execution_count": null,
   "metadata": {},
   "outputs": [],
   "source": [
    "tA = mA[:,mA[1,:].>15]"
   ]
  },
  {
   "cell_type": "code",
   "execution_count": null,
   "metadata": {},
   "outputs": [],
   "source": [
    "ordA =mA[:,ord]"
   ]
  },
  {
   "cell_type": "code",
   "execution_count": null,
   "metadata": {},
   "outputs": [],
   "source": [
    "ordA[2,2]=0\n",
    "ordA"
   ]
  },
  {
   "cell_type": "code",
   "execution_count": null,
   "metadata": {},
   "outputs": [],
   "source": [
    "ordA = ordA[:,(ordA[1,:] .!=0)]"
   ]
  },
  {
   "cell_type": "code",
   "execution_count": null,
   "metadata": {},
   "outputs": [],
   "source": [
    "vnir_start = 3\n",
    "vnir_stop = 45\n",
    "swir_start = 8\n",
    "swir_stop = 47\n",
    "\n",
    "vnir_wl_mat = faux.getData(file, \"//KDP_AUX/Cw_Vnir_Matrix\")#prendo matrice intera NB: molti 0, sparse?\n",
    "vnir_wl_mat = vnir_wl_mat[vnir_start:vnir_stop,:]# solo righe vnir\n",
    "#vnir_wl_mat = vnir_wl_mat[:,order_vnir]#ordino righe secondo order_vnir\n",
    "vnir_wl_mat = vnir_wl_mat[:,(vnir_wl_mat[1,:].!=0)]#tolgo colonne che inzian con 0\n",
    "#stessa cosa per vnir fwhm\n",
    "vnir_fwhm_mat = faux.getData(file, \"KDP_AUX/Fwhm_Vnir_Matrix\")#prendo matrice intera NB: molti 0, sparse?\n",
    "vnir_fwhm_mat = vnir_fwhm_mat[vnir_start:vnir_stop,:]# solo righe vnir\n",
    "#vnir_fwhm_mat = vnir_fwhm_mat[:,order_vnir]#ordino colonne secondo order_vnir\n",
    "vnir_fwhm_mat = vnir_fwhm_mat[:,(vnir_fwhm_mat[1,:].!=0)]#tolgo colonne con i dove [1,i]==0\n",
    "#stessa cosa per swir\n",
    "swir_wl_mat = faux.getData(file, \"//KDP_AUX/Cw_Swir_Matrix\")\n",
    "swir_wl_mat = swir_wl_mat[swir_start:swir_stop,:]\n",
    "#swir_wl_mat = swir_wl_mat[:,order_swir]\n",
    "swir_wl_mat = swir_wl_mat[:,(swir_wl_mat[1,:].!=0)]\n",
    "swir_fwhm_mat = faux.getData(file, \"//KDP_AUX/Fwhm_Swir_Matrix\")\n",
    "swir_fwhm_mat = swir_fwhm_mat[swir_start:swir_stop,:]\n",
    "#swir_fwhm_mat = swir_fwhm_mat[:,order_swir]\n",
    "swir_fwhm_mat = swir_fwhm_mat[:,(swir_fwhm_mat[1,:].!=0)]"
   ]
  },
  {
   "cell_type": "code",
   "execution_count": null,
   "metadata": {},
   "outputs": [],
   "source": [
    "swir_fwhm_mat"
   ]
  },
  {
   "cell_type": "code",
   "execution_count": null,
   "metadata": {},
   "outputs": [],
   "source": [
    "ordA"
   ]
  },
  {
   "cell_type": "code",
   "execution_count": null,
   "metadata": {},
   "outputs": [],
   "source": [
    "mA"
   ]
  },
  {
   "cell_type": "code",
   "execution_count": null,
   "metadata": {},
   "outputs": [],
   "source": [
    "[ordA mA]"
   ]
  },
  {
   "cell_type": "code",
   "execution_count": null,
   "metadata": {},
   "outputs": [],
   "source": [
    "length(mA)"
   ]
  },
  {
   "cell_type": "code",
   "execution_count": null,
   "metadata": {},
   "outputs": [],
   "source": [
    "typeof(mA)"
   ]
  },
  {
   "cell_type": "code",
   "execution_count": null,
   "metadata": {},
   "outputs": [],
   "source": [
    "length(mA[1,:])"
   ]
  },
  {
   "cell_type": "code",
   "execution_count": null,
   "metadata": {},
   "outputs": [],
   "source": [
    "\n",
    "vnir_cube = faux.getData(file,string(\"HDFEOS/SWATHS/PRS_L2D_\",\"HRC\",\"/Data Fields/VNIR_Cube\"))"
   ]
  },
  {
   "cell_type": "code",
   "execution_count": null,
   "metadata": {},
   "outputs": [],
   "source": [
    "using SparseArrays"
   ]
  },
  {
   "cell_type": "code",
   "execution_count": null,
   "metadata": {},
   "outputs": [],
   "source": [
    "a= false\n",
    "b=true\n",
    "c=true\n",
    "if a\n",
    "    if b\n",
    "        println()\n",
    "    end\n",
    "else\n",
    "    println(\"else of a\")\n",
    "end"
   ]
  },
  {
   "cell_type": "code",
   "execution_count": null,
   "metadata": {},
   "outputs": [],
   "source": [
    "sat = [-3:3...]"
   ]
  },
  {
   "cell_type": "code",
   "execution_count": null,
   "metadata": {},
   "outputs": [],
   "source": [
    "x = [1:10...]\n",
    "typeof(join(x,\"b\"))"
   ]
  },
  {
   "cell_type": "code",
   "execution_count": null,
   "metadata": {},
   "outputs": [],
   "source": [
    "x.+\"b\""
   ]
  },
  {
   "cell_type": "code",
   "execution_count": null,
   "metadata": {},
   "outputs": [],
   "source": [
    "s = string.(x).*\"b\""
   ]
  },
  {
   "cell_type": "code",
   "execution_count": null,
   "metadata": {},
   "outputs": [],
   "source": [
    "using DataFrames\n",
    "?rename!"
   ]
  },
  {
   "cell_type": "code",
   "execution_count": null,
   "metadata": {},
   "outputs": [],
   "source": [
    "?replace"
   ]
  },
  {
   "cell_type": "code",
   "execution_count": null,
   "metadata": {},
   "outputs": [],
   "source": [
    "?replace"
   ]
  },
  {
   "cell_type": "code",
   "execution_count": null,
   "metadata": {},
   "outputs": [],
   "source": [
    "x = 12\n",
    "y = 1.1\n",
    "@show supertype(typeof(x))\n",
    "supertype(typeof(y))"
   ]
  },
  {
   "cell_type": "code",
   "execution_count": null,
   "metadata": {},
   "outputs": [],
   "source": [
    "isa(x, Number)"
   ]
  },
  {
   "cell_type": "code",
   "execution_count": null,
   "metadata": {},
   "outputs": [],
   "source": [
    "using CSV\n"
   ]
  },
  {
   "cell_type": "code",
   "execution_count": null,
   "metadata": {},
   "outputs": [],
   "source": [
    "?CSV.write"
   ]
  },
  {
   "cell_type": "code",
   "execution_count": null,
   "metadata": {},
   "outputs": [],
   "source": [
    "round(4/3,digits=0)"
   ]
  },
  {
   "cell_type": "code",
   "execution_count": null,
   "metadata": {},
   "outputs": [],
   "source": [
    "x = Array{}(undef,3,3)"
   ]
  },
  {
   "cell_type": "code",
   "execution_count": null,
   "metadata": {},
   "outputs": [],
   "source": [
    "?Array"
   ]
  },
  {
   "cell_type": "code",
   "execution_count": null,
   "metadata": {},
   "outputs": [],
   "source": [
    "zeros(3,3)"
   ]
  },
  {
   "cell_type": "code",
   "execution_count": null,
   "metadata": {},
   "outputs": [],
   "source": [
    "?zeros"
   ]
  },
  {
   "cell_type": "code",
   "execution_count": null,
   "metadata": {},
   "outputs": [],
   "source": [
    "?replace"
   ]
  },
  {
   "cell_type": "code",
   "execution_count": null,
   "metadata": {},
   "outputs": [],
   "source": [
    "a = [1,2,3,4]\n",
    "reshape(a,2,2)"
   ]
  },
  {
   "cell_type": "code",
   "execution_count": null,
   "metadata": {},
   "outputs": [],
   "source": [
    "a = 1:6\n",
    "Array((1:5).')"
   ]
  },
  {
   "cell_type": "code",
   "execution_count": null,
   "metadata": {},
   "outputs": [],
   "source": [
    "reshape!(a,2,2)"
   ]
  },
  {
   "cell_type": "code",
   "execution_count": null,
   "metadata": {},
   "outputs": [],
   "source": [
    "using ArchGDAL"
   ]
  },
  {
   "cell_type": "code",
   "execution_count": null,
   "metadata": {},
   "outputs": [],
   "source": [
    "?ArchGDAL.write!"
   ]
  },
  {
   "cell_type": "code",
   "execution_count": null,
   "metadata": {},
   "outputs": [],
   "source": [
    "s = \"ASDF\"\n",
    "titlecase(s)"
   ]
  },
  {
   "cell_type": "code",
   "execution_count": null,
   "metadata": {},
   "outputs": [],
   "source": [
    "cube = faux.getData(f,\"HDFEOS/SWATHS/PRS_L2D_HCO/Data Fields/SWIR_Cube\")\n",
    "size(cube)"
   ]
  },
  {
   "cell_type": "code",
   "execution_count": null,
   "metadata": {},
   "outputs": [],
   "source": [
    "length(size(cube))"
   ]
  },
  {
   "cell_type": "code",
   "execution_count": 87,
   "metadata": {},
   "outputs": [
    {
     "name": "stderr",
     "output_type": "stream",
     "text": [
      "WARNING: replacing module hdfeos.\n",
      "WARNING: replacing module faux.\n",
      "WARNING: replacing module rastwrite_lines.\n"
     ]
    },
    {
     "data": {
      "text/plain": [
       "Main.rastwrite_lines"
      ]
     },
     "execution_count": 87,
     "metadata": {},
     "output_type": "execute_result"
    }
   ],
   "source": [
    "include(\"../../code/julia/hdfeos.jl\")\n",
    "include(\"../../code/julia/faux.jl\")\n",
    "include(\"../../code/julia/eos_rastwrite_lines.jl\")"
   ]
  },
  {
   "cell_type": "code",
   "execution_count": 51,
   "metadata": {},
   "outputs": [],
   "source": [
    "using ArchGDAL\n",
    "using CSV\n",
    "using DataFrames\n",
    "#test scritt rast_full con priorità vnir"
   ]
  },
  {
   "cell_type": "code",
   "execution_count": 52,
   "metadata": {},
   "outputs": [
    {
     "data": {
      "text/html": [
       "<table class=\"data-frame\"><thead><tr><th></th><th>band</th><th>orband</th><th>wl</th><th>fwhm</th></tr><tr><th></th><th>Int64</th><th>Int64</th><th>Float64</th><th>Float64</th></tr></thead><tbody><p>171 rows × 4 columns</p><tr><th>1</th><td>1</td><td>3</td><td>942.913</td><td>10.918</td></tr><tr><th>2</th><td>2</td><td>4</td><td>950.967</td><td>10.9559</td></tr><tr><th>3</th><td>3</td><td>5</td><td>959.471</td><td>12.0313</td></tr><tr><th>4</th><td>4</td><td>6</td><td>969.338</td><td>12.1034</td></tr><tr><th>5</th><td>5</td><td>7</td><td>978.683</td><td>12.2177</td></tr><tr><th>6</th><td>6</td><td>8</td><td>988.354</td><td>12.345</td></tr><tr><th>7</th><td>7</td><td>9</td><td>998.314</td><td>12.6989</td></tr><tr><th>8</th><td>8</td><td>10</td><td>1008.11</td><td>12.4385</td></tr><tr><th>9</th><td>9</td><td>11</td><td>1017.92</td><td>12.9587</td></tr><tr><th>10</th><td>10</td><td>12</td><td>1028.75</td><td>13.052</td></tr><tr><th>11</th><td>11</td><td>13</td><td>1037.74</td><td>13.277</td></tr><tr><th>12</th><td>12</td><td>14</td><td>1047.4</td><td>13.484</td></tr><tr><th>13</th><td>13</td><td>15</td><td>1057.36</td><td>13.6322</td></tr><tr><th>14</th><td>14</td><td>16</td><td>1067.59</td><td>13.842</td></tr><tr><th>15</th><td>15</td><td>17</td><td>1078.02</td><td>13.9698</td></tr><tr><th>16</th><td>16</td><td>18</td><td>1088.57</td><td>14.0512</td></tr><tr><th>17</th><td>17</td><td>19</td><td>1099.09</td><td>14.0362</td></tr><tr><th>18</th><td>18</td><td>20</td><td>1109.72</td><td>14.3827</td></tr><tr><th>19</th><td>19</td><td>21</td><td>1120.47</td><td>14.0123</td></tr><tr><th>20</th><td>20</td><td>22</td><td>1131.12</td><td>14.3221</td></tr><tr><th>21</th><td>21</td><td>23</td><td>1141.85</td><td>14.0725</td></tr><tr><th>22</th><td>22</td><td>24</td><td>1152.45</td><td>14.3032</td></tr><tr><th>23</th><td>23</td><td>25</td><td>1163.46</td><td>14.6405</td></tr><tr><th>24</th><td>24</td><td>26</td><td>1174.5</td><td>14.2831</td></tr><tr><th>25</th><td>25</td><td>27</td><td>1185.38</td><td>14.3641</td></tr><tr><th>26</th><td>26</td><td>28</td><td>1196.16</td><td>14.3308</td></tr><tr><th>27</th><td>27</td><td>29</td><td>1207.1</td><td>14.5383</td></tr><tr><th>28</th><td>28</td><td>30</td><td>1217.68</td><td>14.3581</td></tr><tr><th>29</th><td>29</td><td>31</td><td>1228.98</td><td>14.7285</td></tr><tr><th>30</th><td>30</td><td>32</td><td>1240.04</td><td>14.3441</td></tr><tr><th>&vellip;</th><td>&vellip;</td><td>&vellip;</td><td>&vellip;</td><td>&vellip;</td></tr></tbody></table>"
      ],
      "text/latex": [
       "\\begin{tabular}{r|cccc}\n",
       "\t& band & orband & wl & fwhm\\\\\n",
       "\t\\hline\n",
       "\t& Int64 & Int64 & Float64 & Float64\\\\\n",
       "\t\\hline\n",
       "\t1 & 1 & 3 & 942.913 & 10.918 \\\\\n",
       "\t2 & 2 & 4 & 950.967 & 10.9559 \\\\\n",
       "\t3 & 3 & 5 & 959.471 & 12.0313 \\\\\n",
       "\t4 & 4 & 6 & 969.338 & 12.1034 \\\\\n",
       "\t5 & 5 & 7 & 978.683 & 12.2177 \\\\\n",
       "\t6 & 6 & 8 & 988.354 & 12.345 \\\\\n",
       "\t7 & 7 & 9 & 998.314 & 12.6989 \\\\\n",
       "\t8 & 8 & 10 & 1008.11 & 12.4385 \\\\\n",
       "\t9 & 9 & 11 & 1017.92 & 12.9587 \\\\\n",
       "\t10 & 10 & 12 & 1028.75 & 13.052 \\\\\n",
       "\t11 & 11 & 13 & 1037.74 & 13.277 \\\\\n",
       "\t12 & 12 & 14 & 1047.4 & 13.484 \\\\\n",
       "\t13 & 13 & 15 & 1057.36 & 13.6322 \\\\\n",
       "\t14 & 14 & 16 & 1067.59 & 13.842 \\\\\n",
       "\t15 & 15 & 17 & 1078.02 & 13.9698 \\\\\n",
       "\t16 & 16 & 18 & 1088.57 & 14.0512 \\\\\n",
       "\t17 & 17 & 19 & 1099.09 & 14.0362 \\\\\n",
       "\t18 & 18 & 20 & 1109.72 & 14.3827 \\\\\n",
       "\t19 & 19 & 21 & 1120.47 & 14.0123 \\\\\n",
       "\t20 & 20 & 22 & 1131.12 & 14.3221 \\\\\n",
       "\t21 & 21 & 23 & 1141.85 & 14.0725 \\\\\n",
       "\t22 & 22 & 24 & 1152.45 & 14.3032 \\\\\n",
       "\t23 & 23 & 25 & 1163.46 & 14.6405 \\\\\n",
       "\t24 & 24 & 26 & 1174.5 & 14.2831 \\\\\n",
       "\t25 & 25 & 27 & 1185.38 & 14.3641 \\\\\n",
       "\t26 & 26 & 28 & 1196.16 & 14.3308 \\\\\n",
       "\t27 & 27 & 29 & 1207.1 & 14.5383 \\\\\n",
       "\t28 & 28 & 30 & 1217.68 & 14.3581 \\\\\n",
       "\t29 & 29 & 31 & 1228.98 & 14.7285 \\\\\n",
       "\t30 & 30 & 32 & 1240.04 & 14.3441 \\\\\n",
       "\t$\\dots$ & $\\dots$ & $\\dots$ & $\\dots$ & $\\dots$ \\\\\n",
       "\\end{tabular}\n"
      ],
      "text/plain": [
       "171×4 DataFrame\n",
       "│ Row │ band  │ orband │ wl      │ fwhm    │\n",
       "│     │ \u001b[90mInt64\u001b[39m │ \u001b[90mInt64\u001b[39m  │ \u001b[90mFloat64\u001b[39m │ \u001b[90mFloat64\u001b[39m │\n",
       "├─────┼───────┼────────┼─────────┼─────────┤\n",
       "│ 1   │ 1     │ 3      │ 942.913 │ 10.918  │\n",
       "│ 2   │ 2     │ 4      │ 950.967 │ 10.9559 │\n",
       "│ 3   │ 3     │ 5      │ 959.471 │ 12.0313 │\n",
       "│ 4   │ 4     │ 6      │ 969.338 │ 12.1034 │\n",
       "│ 5   │ 5     │ 7      │ 978.683 │ 12.2177 │\n",
       "│ 6   │ 6     │ 8      │ 988.354 │ 12.345  │\n",
       "│ 7   │ 7     │ 9      │ 998.314 │ 12.6989 │\n",
       "│ 8   │ 8     │ 10     │ 1008.11 │ 12.4385 │\n",
       "│ 9   │ 9     │ 11     │ 1017.92 │ 12.9587 │\n",
       "│ 10  │ 10    │ 12     │ 1028.75 │ 13.052  │\n",
       "⋮\n",
       "│ 161 │ 161   │ 163    │ 2428.37 │ 9.44328 │\n",
       "│ 162 │ 162   │ 164    │ 2435.3  │ 9.37404 │\n",
       "│ 163 │ 163   │ 165    │ 2442.16 │ 8.76996 │\n",
       "│ 164 │ 164   │ 166    │ 2448.9  │ 9.40947 │\n",
       "│ 165 │ 165   │ 167    │ 2456.3  │ 9.43895 │\n",
       "│ 166 │ 166   │ 168    │ 2462.79 │ 8.8837  │\n",
       "│ 167 │ 167   │ 169    │ 2469.39 │ 9.12707 │\n",
       "│ 168 │ 168   │ 170    │ 2476.76 │ 9.66423 │\n",
       "│ 169 │ 169   │ 171    │ 2483.57 │ 8.96724 │\n",
       "│ 170 │ 170   │ 172    │ 2490.01 │ 9.01312 │\n",
       "│ 171 │ 171   │ 173    │ 2496.85 │ 9.50537 │"
      ]
     },
     "execution_count": 52,
     "metadata": {},
     "output_type": "execute_result"
    }
   ],
   "source": [
    "bandvnir = CSV.read(\"out/PRS_L2D_STD_20200627102334_20200627102339_0001.he5_VNIR.wvl\")\n",
    "bandswir = CSV.read(\"out/PRS_L2D_STD_20200627102334_20200627102339_0001.he5_SWIR.wvl\")\n"
   ]
  },
  {
   "cell_type": "code",
   "execution_count": 57,
   "metadata": {},
   "outputs": [
    {
     "data": {
      "text/html": [
       "<p>DataFrameRow (4 columns)</p><table class=\"data-frame\"><thead><tr><th></th><th>band</th><th>orband</th><th>wl</th><th>fwhm</th></tr><tr><th></th><th>Int64</th><th>Int64</th><th>Float64</th><th>Float64</th></tr></thead><tbody><tr><th>170</th><td>170</td><td>172</td><td>2490.01</td><td>9.01312</td></tr></tbody></table>"
      ],
      "text/latex": [
       "\\begin{tabular}{r|cccc}\n",
       "\t& band & orband & wl & fwhm\\\\\n",
       "\t\\hline\n",
       "\t& Int64 & Int64 & Float64 & Float64\\\\\n",
       "\t\\hline\n",
       "\t170 & 170 & 172 & 2490.01 & 9.01312 \\\\\n",
       "\\end{tabular}\n"
      ],
      "text/plain": [
       "DataFrameRow\n",
       "│ Row │ band  │ orband │ wl      │ fwhm    │\n",
       "│     │ \u001b[90mInt64\u001b[39m │ \u001b[90mInt64\u001b[39m  │ \u001b[90mFloat64\u001b[39m │ \u001b[90mFloat64\u001b[39m │\n",
       "├─────┼───────┼────────┼─────────┼─────────┤\n",
       "│ 170 │ 170   │ 172    │ 2490.01 │ 9.01312 │"
      ]
     },
     "execution_count": 57,
     "metadata": {},
     "output_type": "execute_result"
    }
   ],
   "source": [
    "maxvnir = bandvnir[end,:]\n",
    "bandstoget = bandswir[end-1,:]"
   ]
  },
  {
   "cell_type": "code",
   "execution_count": 64,
   "metadata": {},
   "outputs": [
    {
     "data": {
      "text/html": [
       "<table class=\"data-frame\"><thead><tr><th></th><th>band</th><th>orband</th><th>wl</th><th>fwhm</th></tr><tr><th></th><th>Int64</th><th>Int64</th><th>Float64</th><th>Float64</th></tr></thead><tbody><p>230 rows × 4 columns</p><tr><th>1</th><td>1</td><td>4</td><td>402.307</td><td>11.4216</td></tr><tr><th>2</th><td>2</td><td>5</td><td>411.187</td><td>10.5781</td></tr><tr><th>3</th><td>3</td><td>6</td><td>419.255</td><td>9.8455</td></tr><tr><th>4</th><td>4</td><td>7</td><td>426.855</td><td>9.41124</td></tr><tr><th>5</th><td>5</td><td>8</td><td>434.198</td><td>9.25446</td></tr><tr><th>6</th><td>6</td><td>9</td><td>441.548</td><td>9.22298</td></tr><tr><th>7</th><td>7</td><td>10</td><td>448.923</td><td>9.1489</td></tr><tr><th>8</th><td>8</td><td>11</td><td>456.267</td><td>9.08349</td></tr><tr><th>9</th><td>9</td><td>12</td><td>463.619</td><td>8.9641</td></tr><tr><th>10</th><td>10</td><td>13</td><td>470.837</td><td>8.96158</td></tr><tr><th>11</th><td>11</td><td>14</td><td>478.064</td><td>8.95673</td></tr><tr><th>12</th><td>12</td><td>15</td><td>485.296</td><td>9.03111</td></tr><tr><th>13</th><td>13</td><td>16</td><td>492.589</td><td>9.20316</td></tr><tr><th>14</th><td>14</td><td>17</td><td>500.024</td><td>9.29735</td></tr><tr><th>15</th><td>15</td><td>18</td><td>507.549</td><td>9.36873</td></tr><tr><th>16</th><td>16</td><td>19</td><td>515.064</td><td>9.48857</td></tr><tr><th>17</th><td>17</td><td>20</td><td>522.802</td><td>9.63679</td></tr><tr><th>18</th><td>18</td><td>21</td><td>530.553</td><td>9.66709</td></tr><tr><th>19</th><td>19</td><td>22</td><td>538.371</td><td>9.78279</td></tr><tr><th>20</th><td>20</td><td>23</td><td>546.36</td><td>9.98511</td></tr><tr><th>21</th><td>21</td><td>24</td><td>554.442</td><td>10.0568</td></tr><tr><th>22</th><td>22</td><td>25</td><td>562.613</td><td>10.1749</td></tr><tr><th>23</th><td>23</td><td>26</td><td>570.877</td><td>10.3084</td></tr><tr><th>24</th><td>24</td><td>27</td><td>579.225</td><td>10.3993</td></tr><tr><th>25</th><td>25</td><td>28</td><td>587.695</td><td>10.5479</td></tr><tr><th>26</th><td>26</td><td>29</td><td>596.343</td><td>10.7937</td></tr><tr><th>27</th><td>27</td><td>30</td><td>605.256</td><td>10.9588</td></tr><tr><th>28</th><td>28</td><td>31</td><td>614.04</td><td>11.0394</td></tr><tr><th>29</th><td>29</td><td>32</td><td>623.061</td><td>11.2348</td></tr><tr><th>30</th><td>30</td><td>33</td><td>631.999</td><td>11.153</td></tr><tr><th>&vellip;</th><td>&vellip;</td><td>&vellip;</td><td>&vellip;</td><td>&vellip;</td></tr></tbody></table>"
      ],
      "text/latex": [
       "\\begin{tabular}{r|cccc}\n",
       "\t& band & orband & wl & fwhm\\\\\n",
       "\t\\hline\n",
       "\t& Int64 & Int64 & Float64 & Float64\\\\\n",
       "\t\\hline\n",
       "\t1 & 1 & 4 & 402.307 & 11.4216 \\\\\n",
       "\t2 & 2 & 5 & 411.187 & 10.5781 \\\\\n",
       "\t3 & 3 & 6 & 419.255 & 9.8455 \\\\\n",
       "\t4 & 4 & 7 & 426.855 & 9.41124 \\\\\n",
       "\t5 & 5 & 8 & 434.198 & 9.25446 \\\\\n",
       "\t6 & 6 & 9 & 441.548 & 9.22298 \\\\\n",
       "\t7 & 7 & 10 & 448.923 & 9.1489 \\\\\n",
       "\t8 & 8 & 11 & 456.267 & 9.08349 \\\\\n",
       "\t9 & 9 & 12 & 463.619 & 8.9641 \\\\\n",
       "\t10 & 10 & 13 & 470.837 & 8.96158 \\\\\n",
       "\t11 & 11 & 14 & 478.064 & 8.95673 \\\\\n",
       "\t12 & 12 & 15 & 485.296 & 9.03111 \\\\\n",
       "\t13 & 13 & 16 & 492.589 & 9.20316 \\\\\n",
       "\t14 & 14 & 17 & 500.024 & 9.29735 \\\\\n",
       "\t15 & 15 & 18 & 507.549 & 9.36873 \\\\\n",
       "\t16 & 16 & 19 & 515.064 & 9.48857 \\\\\n",
       "\t17 & 17 & 20 & 522.802 & 9.63679 \\\\\n",
       "\t18 & 18 & 21 & 530.553 & 9.66709 \\\\\n",
       "\t19 & 19 & 22 & 538.371 & 9.78279 \\\\\n",
       "\t20 & 20 & 23 & 546.36 & 9.98511 \\\\\n",
       "\t21 & 21 & 24 & 554.442 & 10.0568 \\\\\n",
       "\t22 & 22 & 25 & 562.613 & 10.1749 \\\\\n",
       "\t23 & 23 & 26 & 570.877 & 10.3084 \\\\\n",
       "\t24 & 24 & 27 & 579.225 & 10.3993 \\\\\n",
       "\t25 & 25 & 28 & 587.695 & 10.5479 \\\\\n",
       "\t26 & 26 & 29 & 596.343 & 10.7937 \\\\\n",
       "\t27 & 27 & 30 & 605.256 & 10.9588 \\\\\n",
       "\t28 & 28 & 31 & 614.04 & 11.0394 \\\\\n",
       "\t29 & 29 & 32 & 623.061 & 11.2348 \\\\\n",
       "\t30 & 30 & 33 & 631.999 & 11.153 \\\\\n",
       "\t$\\dots$ & $\\dots$ & $\\dots$ & $\\dots$ & $\\dots$ \\\\\n",
       "\\end{tabular}\n"
      ],
      "text/plain": [
       "230×4 DataFrame\n",
       "│ Row │ band  │ orband │ wl      │ fwhm    │\n",
       "│     │ \u001b[90mInt64\u001b[39m │ \u001b[90mInt64\u001b[39m  │ \u001b[90mFloat64\u001b[39m │ \u001b[90mFloat64\u001b[39m │\n",
       "├─────┼───────┼────────┼─────────┼─────────┤\n",
       "│ 1   │ 1     │ 4      │ 402.307 │ 11.4216 │\n",
       "│ 2   │ 2     │ 5      │ 411.187 │ 10.5781 │\n",
       "│ 3   │ 3     │ 6      │ 419.255 │ 9.8455  │\n",
       "│ 4   │ 4     │ 7      │ 426.855 │ 9.41124 │\n",
       "│ 5   │ 5     │ 8      │ 434.198 │ 9.25446 │\n",
       "│ 6   │ 6     │ 9      │ 441.548 │ 9.22298 │\n",
       "│ 7   │ 7     │ 10     │ 448.923 │ 9.1489  │\n",
       "│ 8   │ 8     │ 11     │ 456.267 │ 9.08349 │\n",
       "│ 9   │ 9     │ 12     │ 463.619 │ 8.9641  │\n",
       "│ 10  │ 10    │ 13     │ 470.837 │ 8.96158 │\n",
       "⋮\n",
       "│ 220 │ 161   │ 163    │ 2428.37 │ 9.44328 │\n",
       "│ 221 │ 162   │ 164    │ 2435.3  │ 9.37404 │\n",
       "│ 222 │ 163   │ 165    │ 2442.16 │ 8.76996 │\n",
       "│ 223 │ 164   │ 166    │ 2448.9  │ 9.40947 │\n",
       "│ 224 │ 165   │ 167    │ 2456.3  │ 9.43895 │\n",
       "│ 225 │ 166   │ 168    │ 2462.79 │ 8.8837  │\n",
       "│ 226 │ 167   │ 169    │ 2469.39 │ 9.12707 │\n",
       "│ 227 │ 168   │ 170    │ 2476.76 │ 9.66423 │\n",
       "│ 228 │ 169   │ 171    │ 2483.57 │ 8.96724 │\n",
       "│ 229 │ 170   │ 172    │ 2490.01 │ 9.01312 │\n",
       "│ 230 │ 171   │ 173    │ 2496.85 │ 9.50537 │"
      ]
     },
     "execution_count": 64,
     "metadata": {},
     "output_type": "execute_result"
    }
   ],
   "source": [
    "index=size(bandswir)[1]\n",
    "for i = 1:size(bandswir)[1]\n",
    "    if bandswir[i,:].wl > maxvnir.wl\n",
    "        index = i\n",
    "        break\n",
    "    end\n",
    "end\n",
    "swir_copied = bandswir[index:end,:]\n",
    "vnir_copied = bandvnir\n",
    "#index#"
   ]
  },
  {
   "cell_type": "code",
   "execution_count": 70,
   "metadata": {},
   "outputs": [
    {
     "data": {
      "text/html": [
       "<table class=\"data-frame\"><thead><tr><th></th><th>band</th><th>orband</th><th>wl</th><th>fwhm</th><th>type</th></tr><tr><th></th><th>Int64</th><th>Int64</th><th>Float64</th><th>Float64</th><th>String</th></tr></thead><tbody><p>230 rows × 5 columns</p><tr><th>1</th><td>1</td><td>4</td><td>402.307</td><td>11.4216</td><td>VNIR</td></tr><tr><th>2</th><td>2</td><td>5</td><td>411.187</td><td>10.5781</td><td>VNIR</td></tr><tr><th>3</th><td>3</td><td>6</td><td>419.255</td><td>9.8455</td><td>VNIR</td></tr><tr><th>4</th><td>4</td><td>7</td><td>426.855</td><td>9.41124</td><td>VNIR</td></tr><tr><th>5</th><td>5</td><td>8</td><td>434.198</td><td>9.25446</td><td>VNIR</td></tr><tr><th>6</th><td>6</td><td>9</td><td>441.548</td><td>9.22298</td><td>VNIR</td></tr><tr><th>7</th><td>7</td><td>10</td><td>448.923</td><td>9.1489</td><td>VNIR</td></tr><tr><th>8</th><td>8</td><td>11</td><td>456.267</td><td>9.08349</td><td>VNIR</td></tr><tr><th>9</th><td>9</td><td>12</td><td>463.619</td><td>8.9641</td><td>VNIR</td></tr><tr><th>10</th><td>10</td><td>13</td><td>470.837</td><td>8.96158</td><td>VNIR</td></tr><tr><th>11</th><td>11</td><td>14</td><td>478.064</td><td>8.95673</td><td>VNIR</td></tr><tr><th>12</th><td>12</td><td>15</td><td>485.296</td><td>9.03111</td><td>VNIR</td></tr><tr><th>13</th><td>13</td><td>16</td><td>492.589</td><td>9.20316</td><td>VNIR</td></tr><tr><th>14</th><td>14</td><td>17</td><td>500.024</td><td>9.29735</td><td>VNIR</td></tr><tr><th>15</th><td>15</td><td>18</td><td>507.549</td><td>9.36873</td><td>VNIR</td></tr><tr><th>16</th><td>16</td><td>19</td><td>515.064</td><td>9.48857</td><td>VNIR</td></tr><tr><th>17</th><td>17</td><td>20</td><td>522.802</td><td>9.63679</td><td>VNIR</td></tr><tr><th>18</th><td>18</td><td>21</td><td>530.553</td><td>9.66709</td><td>VNIR</td></tr><tr><th>19</th><td>19</td><td>22</td><td>538.371</td><td>9.78279</td><td>VNIR</td></tr><tr><th>20</th><td>20</td><td>23</td><td>546.36</td><td>9.98511</td><td>VNIR</td></tr><tr><th>21</th><td>21</td><td>24</td><td>554.442</td><td>10.0568</td><td>VNIR</td></tr><tr><th>22</th><td>22</td><td>25</td><td>562.613</td><td>10.1749</td><td>VNIR</td></tr><tr><th>23</th><td>23</td><td>26</td><td>570.877</td><td>10.3084</td><td>VNIR</td></tr><tr><th>24</th><td>24</td><td>27</td><td>579.225</td><td>10.3993</td><td>VNIR</td></tr><tr><th>25</th><td>25</td><td>28</td><td>587.695</td><td>10.5479</td><td>VNIR</td></tr><tr><th>26</th><td>26</td><td>29</td><td>596.343</td><td>10.7937</td><td>VNIR</td></tr><tr><th>27</th><td>27</td><td>30</td><td>605.256</td><td>10.9588</td><td>VNIR</td></tr><tr><th>28</th><td>28</td><td>31</td><td>614.04</td><td>11.0394</td><td>VNIR</td></tr><tr><th>29</th><td>29</td><td>32</td><td>623.061</td><td>11.2348</td><td>VNIR</td></tr><tr><th>30</th><td>30</td><td>33</td><td>631.999</td><td>11.153</td><td>VNIR</td></tr><tr><th>&vellip;</th><td>&vellip;</td><td>&vellip;</td><td>&vellip;</td><td>&vellip;</td><td>&vellip;</td></tr></tbody></table>"
      ],
      "text/latex": [
       "\\begin{tabular}{r|ccccc}\n",
       "\t& band & orband & wl & fwhm & type\\\\\n",
       "\t\\hline\n",
       "\t& Int64 & Int64 & Float64 & Float64 & String\\\\\n",
       "\t\\hline\n",
       "\t1 & 1 & 4 & 402.307 & 11.4216 & VNIR \\\\\n",
       "\t2 & 2 & 5 & 411.187 & 10.5781 & VNIR \\\\\n",
       "\t3 & 3 & 6 & 419.255 & 9.8455 & VNIR \\\\\n",
       "\t4 & 4 & 7 & 426.855 & 9.41124 & VNIR \\\\\n",
       "\t5 & 5 & 8 & 434.198 & 9.25446 & VNIR \\\\\n",
       "\t6 & 6 & 9 & 441.548 & 9.22298 & VNIR \\\\\n",
       "\t7 & 7 & 10 & 448.923 & 9.1489 & VNIR \\\\\n",
       "\t8 & 8 & 11 & 456.267 & 9.08349 & VNIR \\\\\n",
       "\t9 & 9 & 12 & 463.619 & 8.9641 & VNIR \\\\\n",
       "\t10 & 10 & 13 & 470.837 & 8.96158 & VNIR \\\\\n",
       "\t11 & 11 & 14 & 478.064 & 8.95673 & VNIR \\\\\n",
       "\t12 & 12 & 15 & 485.296 & 9.03111 & VNIR \\\\\n",
       "\t13 & 13 & 16 & 492.589 & 9.20316 & VNIR \\\\\n",
       "\t14 & 14 & 17 & 500.024 & 9.29735 & VNIR \\\\\n",
       "\t15 & 15 & 18 & 507.549 & 9.36873 & VNIR \\\\\n",
       "\t16 & 16 & 19 & 515.064 & 9.48857 & VNIR \\\\\n",
       "\t17 & 17 & 20 & 522.802 & 9.63679 & VNIR \\\\\n",
       "\t18 & 18 & 21 & 530.553 & 9.66709 & VNIR \\\\\n",
       "\t19 & 19 & 22 & 538.371 & 9.78279 & VNIR \\\\\n",
       "\t20 & 20 & 23 & 546.36 & 9.98511 & VNIR \\\\\n",
       "\t21 & 21 & 24 & 554.442 & 10.0568 & VNIR \\\\\n",
       "\t22 & 22 & 25 & 562.613 & 10.1749 & VNIR \\\\\n",
       "\t23 & 23 & 26 & 570.877 & 10.3084 & VNIR \\\\\n",
       "\t24 & 24 & 27 & 579.225 & 10.3993 & VNIR \\\\\n",
       "\t25 & 25 & 28 & 587.695 & 10.5479 & VNIR \\\\\n",
       "\t26 & 26 & 29 & 596.343 & 10.7937 & VNIR \\\\\n",
       "\t27 & 27 & 30 & 605.256 & 10.9588 & VNIR \\\\\n",
       "\t28 & 28 & 31 & 614.04 & 11.0394 & VNIR \\\\\n",
       "\t29 & 29 & 32 & 623.061 & 11.2348 & VNIR \\\\\n",
       "\t30 & 30 & 33 & 631.999 & 11.153 & VNIR \\\\\n",
       "\t$\\dots$ & $\\dots$ & $\\dots$ & $\\dots$ & $\\dots$ & $\\dots$ \\\\\n",
       "\\end{tabular}\n"
      ],
      "text/plain": [
       "230×5 DataFrame\n",
       "│ Row │ band  │ orband │ wl      │ fwhm    │ type   │\n",
       "│     │ \u001b[90mInt64\u001b[39m │ \u001b[90mInt64\u001b[39m  │ \u001b[90mFloat64\u001b[39m │ \u001b[90mFloat64\u001b[39m │ \u001b[90mString\u001b[39m │\n",
       "├─────┼───────┼────────┼─────────┼─────────┼────────┤\n",
       "│ 1   │ 1     │ 4      │ 402.307 │ 11.4216 │ VNIR   │\n",
       "│ 2   │ 2     │ 5      │ 411.187 │ 10.5781 │ VNIR   │\n",
       "│ 3   │ 3     │ 6      │ 419.255 │ 9.8455  │ VNIR   │\n",
       "│ 4   │ 4     │ 7      │ 426.855 │ 9.41124 │ VNIR   │\n",
       "│ 5   │ 5     │ 8      │ 434.198 │ 9.25446 │ VNIR   │\n",
       "│ 6   │ 6     │ 9      │ 441.548 │ 9.22298 │ VNIR   │\n",
       "│ 7   │ 7     │ 10     │ 448.923 │ 9.1489  │ VNIR   │\n",
       "│ 8   │ 8     │ 11     │ 456.267 │ 9.08349 │ VNIR   │\n",
       "│ 9   │ 9     │ 12     │ 463.619 │ 8.9641  │ VNIR   │\n",
       "│ 10  │ 10    │ 13     │ 470.837 │ 8.96158 │ VNIR   │\n",
       "⋮\n",
       "│ 220 │ 220   │ 163    │ 2428.37 │ 9.44328 │ SWIR   │\n",
       "│ 221 │ 221   │ 164    │ 2435.3  │ 9.37404 │ SWIR   │\n",
       "│ 222 │ 222   │ 165    │ 2442.16 │ 8.76996 │ SWIR   │\n",
       "│ 223 │ 223   │ 166    │ 2448.9  │ 9.40947 │ SWIR   │\n",
       "│ 224 │ 224   │ 167    │ 2456.3  │ 9.43895 │ SWIR   │\n",
       "│ 225 │ 225   │ 168    │ 2462.79 │ 8.8837  │ SWIR   │\n",
       "│ 226 │ 226   │ 169    │ 2469.39 │ 9.12707 │ SWIR   │\n",
       "│ 227 │ 227   │ 170    │ 2476.76 │ 9.66423 │ SWIR   │\n",
       "│ 228 │ 228   │ 171    │ 2483.57 │ 8.96724 │ SWIR   │\n",
       "│ 229 │ 229   │ 172    │ 2490.01 │ 9.01312 │ SWIR   │\n",
       "│ 230 │ 230   │ 173    │ 2496.85 │ 9.50537 │ SWIR   │"
      ]
     },
     "execution_count": 70,
     "metadata": {},
     "output_type": "execute_result"
    }
   ],
   "source": [
    "swir_copied[:type]=\"SWIR\"\n",
    "vnir_copied[:type]=\"VNIR\"\n",
    "total_wls = vcat(vnir_copied,swir_copied)\n",
    "total_wls[:band]=1:230\n"
   ]
  },
  {
   "cell_type": "code",
   "execution_count": 88,
   "metadata": {},
   "outputs": [
    {
     "name": "stdout",
     "output_type": "stream",
     "text": [
      "reading bands 5 to 171 , this might take a while...\n",
      "finished reading bands\n",
      "reading bands 1 to 63 , this might take a while...\n",
      "finished reading bands\n",
      "(size(vnir_cube))[3] = 63\n",
      "(size(swir_cube))[3] = 167\n"
     ]
    },
    {
     "data": {
      "text/plain": [
       "230"
      ]
     },
     "execution_count": 88,
     "metadata": {},
     "output_type": "execute_result"
    }
   ],
   "source": [
    "swir_cube = nothing\n",
    "gtf=nothing\n",
    "crs=nothing\n",
    "vnir_cube = nothing\n",
    "\n",
    "ArchGDAL.read(\"out/PRS_L2D_STD_20200627102334_20200627102339_0001.he5_SWIR.tif\") do dataset\n",
    "    global swir_cube = faux.getCube(dataset,index)#prendo swir solo da \n",
    "    global gtf = ArchGDAL.getgeotransform(dataset)\n",
    "    global crs = ArchGDAL.getproj(dataset)\n",
    "end\n",
    "ArchGDAL.read(\"out/PRS_L2D_STD_20200627102334_20200627102339_0001.he5_VNIR.tif\") do dataset\n",
    "    global vnir_cube = faux.getCube(dataset)#prendo tutto vnir\n",
    "end\n",
    "@show size(vnir_cube)[3]\n",
    "@show size(swir_cube)[3]\n",
    "size(vnir_cube)[3] + size(swir_cube)[3]"
   ]
  },
  {
   "cell_type": "code",
   "execution_count": 89,
   "metadata": {},
   "outputs": [
    {
     "data": {
      "text/plain": [
       "1235×1209×230 Array{UInt16,3}:\n",
       "[:, :, 1] =\n",
       " 0x0000  0x0000  0x0000  0x0000  0x0000  …  0x0000  0x0000  0x0000  0x0000\n",
       " 0x0000  0x0000  0x0000  0x0000  0x0000     0x0000  0x0000  0x0000  0x0000\n",
       " 0x0000  0x0000  0x0000  0x0000  0x0000     0x0000  0x0000  0x0000  0x0000\n",
       " 0x0000  0x0000  0x0000  0x0000  0x0000     0x0000  0x0000  0x0000  0x0000\n",
       " 0x0000  0x0000  0x0000  0x0000  0x0000     0x0000  0x0000  0x0000  0x0000\n",
       " 0x0000  0x0000  0x0000  0x0000  0x0000  …  0x0000  0x0000  0x0000  0x0000\n",
       " 0x0000  0x0000  0x0000  0x0000  0x0000     0x0000  0x0000  0x0000  0x0000\n",
       " 0x0000  0x0000  0x0000  0x0000  0x0000     0x0000  0x0000  0x0000  0x0000\n",
       " 0x0000  0x0000  0x0000  0x0000  0x0000     0x0000  0x0000  0x0000  0x0000\n",
       " 0x0000  0x0000  0x0000  0x0000  0x0000     0x0000  0x0000  0x0000  0x0000\n",
       " 0x0000  0x0000  0x0000  0x0000  0x0000  …  0x0000  0x0000  0x0000  0x0000\n",
       " 0x0000  0x0000  0x0000  0x0000  0x0000     0x0000  0x0000  0x0000  0x0000\n",
       " 0x0000  0x0000  0x0000  0x0000  0x0000     0x0000  0x0000  0x0000  0x0000\n",
       "      ⋮                                  ⋱       ⋮                  \n",
       " 0x0000  0x0000  0x0000  0x0000  0x0000     0x0000  0x0000  0x0000  0x0000\n",
       " 0x0000  0x0000  0x0000  0x0000  0x0000     0x0000  0x0000  0x0000  0x0000\n",
       " 0x0000  0x0000  0x0000  0x0000  0x0000  …  0x0000  0x0000  0x0000  0x0000\n",
       " 0x0000  0x0000  0x0000  0x0000  0x0000     0x0000  0x0000  0x0000  0x0000\n",
       " 0x0000  0x0000  0x0000  0x0000  0x0000     0x0000  0x0000  0x0000  0x0000\n",
       " 0x0000  0x0000  0x0000  0x0000  0x0000     0x0000  0x0000  0x0000  0x0000\n",
       " 0x0000  0x0000  0x0000  0x0000  0x0000     0x0000  0x0000  0x0000  0x0000\n",
       " 0x0000  0x0000  0x0000  0x0000  0x0000  …  0x0000  0x0000  0x0000  0x0000\n",
       " 0x0000  0x0000  0x0000  0x0000  0x0000     0x0000  0x0000  0x0000  0x0000\n",
       " 0x0000  0x0000  0x0000  0x0000  0x0000     0x0000  0x0000  0x0000  0x0000\n",
       " 0x0000  0x0000  0x0000  0x0000  0x0000     0x0000  0x0000  0x0000  0x0000\n",
       " 0x0000  0x0000  0x0000  0x0000  0x0000     0x0000  0x0000  0x0000  0x0000\n",
       "\n",
       "[:, :, 2] =\n",
       " 0x0000  0x0000  0x0000  0x0000  0x0000  …  0x0000  0x0000  0x0000  0x0000\n",
       " 0x0000  0x0000  0x0000  0x0000  0x0000     0x0000  0x0000  0x0000  0x0000\n",
       " 0x0000  0x0000  0x0000  0x0000  0x0000     0x0000  0x0000  0x0000  0x0000\n",
       " 0x0000  0x0000  0x0000  0x0000  0x0000     0x0000  0x0000  0x0000  0x0000\n",
       " 0x0000  0x0000  0x0000  0x0000  0x0000     0x0000  0x0000  0x0000  0x0000\n",
       " 0x0000  0x0000  0x0000  0x0000  0x0000  …  0x0000  0x0000  0x0000  0x0000\n",
       " 0x0000  0x0000  0x0000  0x0000  0x0000     0x0000  0x0000  0x0000  0x0000\n",
       " 0x0000  0x0000  0x0000  0x0000  0x0000     0x0000  0x0000  0x0000  0x0000\n",
       " 0x0000  0x0000  0x0000  0x0000  0x0000     0x0000  0x0000  0x0000  0x0000\n",
       " 0x0000  0x0000  0x0000  0x0000  0x0000     0x0000  0x0000  0x0000  0x0000\n",
       " 0x0000  0x0000  0x0000  0x0000  0x0000  …  0x0000  0x0000  0x0000  0x0000\n",
       " 0x0000  0x0000  0x0000  0x0000  0x0000     0x0000  0x0000  0x0000  0x0000\n",
       " 0x0000  0x0000  0x0000  0x0000  0x0000     0x0000  0x0000  0x0000  0x0000\n",
       "      ⋮                                  ⋱       ⋮                  \n",
       " 0x0000  0x0000  0x0000  0x0000  0x0000     0x0000  0x0000  0x0000  0x0000\n",
       " 0x0000  0x0000  0x0000  0x0000  0x0000     0x0000  0x0000  0x0000  0x0000\n",
       " 0x0000  0x0000  0x0000  0x0000  0x0000  …  0x0000  0x0000  0x0000  0x0000\n",
       " 0x0000  0x0000  0x0000  0x0000  0x0000     0x0000  0x0000  0x0000  0x0000\n",
       " 0x0000  0x0000  0x0000  0x0000  0x0000     0x0000  0x0000  0x0000  0x0000\n",
       " 0x0000  0x0000  0x0000  0x0000  0x0000     0x0000  0x0000  0x0000  0x0000\n",
       " 0x0000  0x0000  0x0000  0x0000  0x0000     0x0000  0x0000  0x0000  0x0000\n",
       " 0x0000  0x0000  0x0000  0x0000  0x0000  …  0x0000  0x0000  0x0000  0x0000\n",
       " 0x0000  0x0000  0x0000  0x0000  0x0000     0x0000  0x0000  0x0000  0x0000\n",
       " 0x0000  0x0000  0x0000  0x0000  0x0000     0x0000  0x0000  0x0000  0x0000\n",
       " 0x0000  0x0000  0x0000  0x0000  0x0000     0x0000  0x0000  0x0000  0x0000\n",
       " 0x0000  0x0000  0x0000  0x0000  0x0000     0x0000  0x0000  0x0000  0x0000\n",
       "\n",
       "[:, :, 3] =\n",
       " 0x0000  0x0000  0x0000  0x0000  0x0000  …  0x0000  0x0000  0x0000  0x0000\n",
       " 0x0000  0x0000  0x0000  0x0000  0x0000     0x0000  0x0000  0x0000  0x0000\n",
       " 0x0000  0x0000  0x0000  0x0000  0x0000     0x0000  0x0000  0x0000  0x0000\n",
       " 0x0000  0x0000  0x0000  0x0000  0x0000     0x0000  0x0000  0x0000  0x0000\n",
       " 0x0000  0x0000  0x0000  0x0000  0x0000     0x0000  0x0000  0x0000  0x0000\n",
       " 0x0000  0x0000  0x0000  0x0000  0x0000  …  0x0000  0x0000  0x0000  0x0000\n",
       " 0x0000  0x0000  0x0000  0x0000  0x0000     0x0000  0x0000  0x0000  0x0000\n",
       " 0x0000  0x0000  0x0000  0x0000  0x0000     0x0000  0x0000  0x0000  0x0000\n",
       " 0x0000  0x0000  0x0000  0x0000  0x0000     0x0000  0x0000  0x0000  0x0000\n",
       " 0x0000  0x0000  0x0000  0x0000  0x0000     0x0000  0x0000  0x0000  0x0000\n",
       " 0x0000  0x0000  0x0000  0x0000  0x0000  …  0x0000  0x0000  0x0000  0x0000\n",
       " 0x0000  0x0000  0x0000  0x0000  0x0000     0x0000  0x0000  0x0000  0x0000\n",
       " 0x0000  0x0000  0x0000  0x0000  0x0000     0x0000  0x0000  0x0000  0x0000\n",
       "      ⋮                                  ⋱       ⋮                  \n",
       " 0x0000  0x0000  0x0000  0x0000  0x0000     0x0000  0x0000  0x0000  0x0000\n",
       " 0x0000  0x0000  0x0000  0x0000  0x0000     0x0000  0x0000  0x0000  0x0000\n",
       " 0x0000  0x0000  0x0000  0x0000  0x0000  …  0x0000  0x0000  0x0000  0x0000\n",
       " 0x0000  0x0000  0x0000  0x0000  0x0000     0x0000  0x0000  0x0000  0x0000\n",
       " 0x0000  0x0000  0x0000  0x0000  0x0000     0x0000  0x0000  0x0000  0x0000\n",
       " 0x0000  0x0000  0x0000  0x0000  0x0000     0x0000  0x0000  0x0000  0x0000\n",
       " 0x0000  0x0000  0x0000  0x0000  0x0000     0x0000  0x0000  0x0000  0x0000\n",
       " 0x0000  0x0000  0x0000  0x0000  0x0000  …  0x0000  0x0000  0x0000  0x0000\n",
       " 0x0000  0x0000  0x0000  0x0000  0x0000     0x0000  0x0000  0x0000  0x0000\n",
       " 0x0000  0x0000  0x0000  0x0000  0x0000     0x0000  0x0000  0x0000  0x0000\n",
       " 0x0000  0x0000  0x0000  0x0000  0x0000     0x0000  0x0000  0x0000  0x0000\n",
       " 0x0000  0x0000  0x0000  0x0000  0x0000     0x0000  0x0000  0x0000  0x0000\n",
       "\n",
       "...\n",
       "\n",
       "[:, :, 228] =\n",
       " 0x0000  0x0000  0x0000  0x0000  0x0000  …  0x0000  0x0000  0x0000  0x0000\n",
       " 0x0000  0x0000  0x0000  0x0000  0x0000     0x0000  0x0000  0x0000  0x0000\n",
       " 0x0000  0x0000  0x0000  0x0000  0x0000     0x0000  0x0000  0x0000  0x0000\n",
       " 0x0000  0x0000  0x0000  0x0000  0x0000     0x0000  0x0000  0x0000  0x0000\n",
       " 0x0000  0x0000  0x0000  0x0000  0x0000     0x0000  0x0000  0x0000  0x0000\n",
       " 0x0000  0x0000  0x0000  0x0000  0x0000  …  0x0000  0x0000  0x0000  0x0000\n",
       " 0x0000  0x0000  0x0000  0x0000  0x0000     0x0000  0x0000  0x0000  0x0000\n",
       " 0x0000  0x0000  0x0000  0x0000  0x0000     0x0000  0x0000  0x0000  0x0000\n",
       " 0x0000  0x0000  0x0000  0x0000  0x0000     0x0000  0x0000  0x0000  0x0000\n",
       " 0x0000  0x0000  0x0000  0x0000  0x0000     0x0000  0x0000  0x0000  0x0000\n",
       " 0x0000  0x0000  0x0000  0x0000  0x0000  …  0x0000  0x0000  0x0000  0x0000\n",
       " 0x0000  0x0000  0x0000  0x0000  0x0000     0x0000  0x0000  0x0000  0x0000\n",
       " 0x0000  0x0000  0x0000  0x0000  0x0000     0x0000  0x0000  0x0000  0x0000\n",
       "      ⋮                                  ⋱       ⋮                  \n",
       " 0x0000  0x0000  0x0000  0x0000  0x0000     0x0000  0x0000  0x0000  0x0000\n",
       " 0x0000  0x0000  0x0000  0x0000  0x0000     0x0000  0x0000  0x0000  0x0000\n",
       " 0x0000  0x0000  0x0000  0x0000  0x0000  …  0x0000  0x0000  0x0000  0x0000\n",
       " 0x0000  0x0000  0x0000  0x0000  0x0000     0x0000  0x0000  0x0000  0x0000\n",
       " 0x0000  0x0000  0x0000  0x0000  0x0000     0x0000  0x0000  0x0000  0x0000\n",
       " 0x0000  0x0000  0x0000  0x0000  0x0000     0x0000  0x0000  0x0000  0x0000\n",
       " 0x0000  0x0000  0x0000  0x0000  0x0000     0x0000  0x0000  0x0000  0x0000\n",
       " 0x0000  0x0000  0x0000  0x0000  0x0000  …  0x0000  0x0000  0x0000  0x0000\n",
       " 0x0000  0x0000  0x0000  0x0000  0x0000     0x0000  0x0000  0x0000  0x0000\n",
       " 0x0000  0x0000  0x0000  0x0000  0x0000     0x0000  0x0000  0x0000  0x0000\n",
       " 0x0000  0x0000  0x0000  0x0000  0x0000     0x0000  0x0000  0x0000  0x0000\n",
       " 0x0000  0x0000  0x0000  0x0000  0x0000     0x0000  0x0000  0x0000  0x0000\n",
       "\n",
       "[:, :, 229] =\n",
       " 0x0000  0x0000  0x0000  0x0000  0x0000  …  0x0000  0x0000  0x0000  0x0000\n",
       " 0x0000  0x0000  0x0000  0x0000  0x0000     0x0000  0x0000  0x0000  0x0000\n",
       " 0x0000  0x0000  0x0000  0x0000  0x0000     0x0000  0x0000  0x0000  0x0000\n",
       " 0x0000  0x0000  0x0000  0x0000  0x0000     0x0000  0x0000  0x0000  0x0000\n",
       " 0x0000  0x0000  0x0000  0x0000  0x0000     0x0000  0x0000  0x0000  0x0000\n",
       " 0x0000  0x0000  0x0000  0x0000  0x0000  …  0x0000  0x0000  0x0000  0x0000\n",
       " 0x0000  0x0000  0x0000  0x0000  0x0000     0x0000  0x0000  0x0000  0x0000\n",
       " 0x0000  0x0000  0x0000  0x0000  0x0000     0x0000  0x0000  0x0000  0x0000\n",
       " 0x0000  0x0000  0x0000  0x0000  0x0000     0x0000  0x0000  0x0000  0x0000\n",
       " 0x0000  0x0000  0x0000  0x0000  0x0000     0x0000  0x0000  0x0000  0x0000\n",
       " 0x0000  0x0000  0x0000  0x0000  0x0000  …  0x0000  0x0000  0x0000  0x0000\n",
       " 0x0000  0x0000  0x0000  0x0000  0x0000     0x0000  0x0000  0x0000  0x0000\n",
       " 0x0000  0x0000  0x0000  0x0000  0x0000     0x0000  0x0000  0x0000  0x0000\n",
       "      ⋮                                  ⋱       ⋮                  \n",
       " 0x0000  0x0000  0x0000  0x0000  0x0000     0x0000  0x0000  0x0000  0x0000\n",
       " 0x0000  0x0000  0x0000  0x0000  0x0000     0x0000  0x0000  0x0000  0x0000\n",
       " 0x0000  0x0000  0x0000  0x0000  0x0000  …  0x0000  0x0000  0x0000  0x0000\n",
       " 0x0000  0x0000  0x0000  0x0000  0x0000     0x0000  0x0000  0x0000  0x0000\n",
       " 0x0000  0x0000  0x0000  0x0000  0x0000     0x0000  0x0000  0x0000  0x0000\n",
       " 0x0000  0x0000  0x0000  0x0000  0x0000     0x0000  0x0000  0x0000  0x0000\n",
       " 0x0000  0x0000  0x0000  0x0000  0x0000     0x0000  0x0000  0x0000  0x0000\n",
       " 0x0000  0x0000  0x0000  0x0000  0x0000  …  0x0000  0x0000  0x0000  0x0000\n",
       " 0x0000  0x0000  0x0000  0x0000  0x0000     0x0000  0x0000  0x0000  0x0000\n",
       " 0x0000  0x0000  0x0000  0x0000  0x0000     0x0000  0x0000  0x0000  0x0000\n",
       " 0x0000  0x0000  0x0000  0x0000  0x0000     0x0000  0x0000  0x0000  0x0000\n",
       " 0x0000  0x0000  0x0000  0x0000  0x0000     0x0000  0x0000  0x0000  0x0000\n",
       "\n",
       "[:, :, 230] =\n",
       " 0x0000  0x0000  0x0000  0x0000  0x0000  …  0x0000  0x0000  0x0000  0x0000\n",
       " 0x0000  0x0000  0x0000  0x0000  0x0000     0x0000  0x0000  0x0000  0x0000\n",
       " 0x0000  0x0000  0x0000  0x0000  0x0000     0x0000  0x0000  0x0000  0x0000\n",
       " 0x0000  0x0000  0x0000  0x0000  0x0000     0x0000  0x0000  0x0000  0x0000\n",
       " 0x0000  0x0000  0x0000  0x0000  0x0000     0x0000  0x0000  0x0000  0x0000\n",
       " 0x0000  0x0000  0x0000  0x0000  0x0000  …  0x0000  0x0000  0x0000  0x0000\n",
       " 0x0000  0x0000  0x0000  0x0000  0x0000     0x0000  0x0000  0x0000  0x0000\n",
       " 0x0000  0x0000  0x0000  0x0000  0x0000     0x0000  0x0000  0x0000  0x0000\n",
       " 0x0000  0x0000  0x0000  0x0000  0x0000     0x0000  0x0000  0x0000  0x0000\n",
       " 0x0000  0x0000  0x0000  0x0000  0x0000     0x0000  0x0000  0x0000  0x0000\n",
       " 0x0000  0x0000  0x0000  0x0000  0x0000  …  0x0000  0x0000  0x0000  0x0000\n",
       " 0x0000  0x0000  0x0000  0x0000  0x0000     0x0000  0x0000  0x0000  0x0000\n",
       " 0x0000  0x0000  0x0000  0x0000  0x0000     0x0000  0x0000  0x0000  0x0000\n",
       "      ⋮                                  ⋱       ⋮                  \n",
       " 0x0000  0x0000  0x0000  0x0000  0x0000     0x0000  0x0000  0x0000  0x0000\n",
       " 0x0000  0x0000  0x0000  0x0000  0x0000     0x0000  0x0000  0x0000  0x0000\n",
       " 0x0000  0x0000  0x0000  0x0000  0x0000  …  0x0000  0x0000  0x0000  0x0000\n",
       " 0x0000  0x0000  0x0000  0x0000  0x0000     0x0000  0x0000  0x0000  0x0000\n",
       " 0x0000  0x0000  0x0000  0x0000  0x0000     0x0000  0x0000  0x0000  0x0000\n",
       " 0x0000  0x0000  0x0000  0x0000  0x0000     0x0000  0x0000  0x0000  0x0000\n",
       " 0x0000  0x0000  0x0000  0x0000  0x0000     0x0000  0x0000  0x0000  0x0000\n",
       " 0x0000  0x0000  0x0000  0x0000  0x0000  …  0x0000  0x0000  0x0000  0x0000\n",
       " 0x0000  0x0000  0x0000  0x0000  0x0000     0x0000  0x0000  0x0000  0x0000\n",
       " 0x0000  0x0000  0x0000  0x0000  0x0000     0x0000  0x0000  0x0000  0x0000\n",
       " 0x0000  0x0000  0x0000  0x0000  0x0000     0x0000  0x0000  0x0000  0x0000\n",
       " 0x0000  0x0000  0x0000  0x0000  0x0000     0x0000  0x0000  0x0000  0x0000"
      ]
     },
     "execution_count": 89,
     "metadata": {},
     "output_type": "execute_result"
    }
   ],
   "source": [
    "cube = cat(vnir_cube,swir_cube,dims=3)"
   ]
  },
  {
   "cell_type": "code",
   "execution_count": 102,
   "metadata": {},
   "outputs": [],
   "source": [
    "notcube = nothing"
   ]
  },
  {
   "cell_type": "code",
   "execution_count": 103,
   "metadata": {},
   "outputs": [
    {
     "ename": "LoadError",
     "evalue": "DimensionMismatch(\"mismatch in dimension 1 (expected 1 got 1235)\")",
     "output_type": "error",
     "traceback": [
      "DimensionMismatch(\"mismatch in dimension 1 (expected 1 got 1235)\")",
      "",
      "Stacktrace:",
      " [1] _cs at .\\abstractarray.jl:1501 [inlined]",
      " [2] _cshp at .\\abstractarray.jl:1497 [inlined]",
      " [3] cat_shape at .\\abstractarray.jl:1476 [inlined] (repeats 2 times)",
      " [4] _cat_t(::Int64, ::Type{T} where T, ::Nothing, ::Vararg{Any,N} where N) at .\\abstractarray.jl:1521",
      " [5] cat_t(::Type{Union{Nothing, UInt16}}, ::Nothing, ::Vararg{Any,N} where N; dims::Int64) at .\\abstractarray.jl:1518",
      " [6] _cat(::Int64, ::Nothing, ::Vararg{Any,N} where N) at .\\abstractarray.jl:1516",
      " [7] cat(::Nothing, ::Vararg{Any,N} where N; dims::Int64) at .\\abstractarray.jl:1654",
      " [8] top-level scope at In[103]:1",
      " [9] include_string(::Function, ::Module, ::String, ::String) at .\\loading.jl:1091"
     ]
    }
   ],
   "source": [
    "ccc = cat(notcube, swir_cube, dims = 3)"
   ]
  },
  {
   "cell_type": "code",
   "execution_count": 90,
   "metadata": {},
   "outputs": [
    {
     "data": {
      "text/plain": [
       "(1235, 1209, 63)"
      ]
     },
     "execution_count": 90,
     "metadata": {},
     "output_type": "execute_result"
    }
   ],
   "source": [
    "size(vnir_cube)"
   ]
  },
  {
   "cell_type": "code",
   "execution_count": 92,
   "metadata": {},
   "outputs": [
    {
     "data": {
      "text/plain": [
       "\"out/PRS_L2D_STD_20200627102334_20200627102339_0001.he5_FULL.tif\""
      ]
     },
     "execution_count": 92,
     "metadata": {},
     "output_type": "execute_result"
    }
   ],
   "source": [
    "size(swir_cube)\n",
    "out_file_full = \"out/PRS_L2D_STD_20200627102334_20200627102339_0001.he5_FULL.tif\""
   ]
  },
  {
   "cell_type": "code",
   "execution_count": 93,
   "metadata": {},
   "outputs": [
    {
     "name": "stdout",
     "output_type": "stream",
     "text": [
      "preparing to write tiff\n",
      "writing bands in  empty tiff\n",
      "finished writing bands\n",
      "setting geotransform\n",
      "setting crs string\n",
      "finished writing on out/PRS_L2D_STD_20200627102334_20200627102339_0001.he5_FULL.tif.tif\n"
     ]
    }
   ],
   "source": [
    "rastwrite_lines.write(cube,\n",
    "        out_file_full,\n",
    "        gtf,\n",
    "        crs\n",
    "        )"
   ]
  },
  {
   "cell_type": "code",
   "execution_count": 98,
   "metadata": {},
   "outputs": [
    {
     "data": {
      "text/plain": [
       "String[]"
      ]
     },
     "execution_count": 98,
     "metadata": {},
     "output_type": "execute_result"
    }
   ],
   "source": [
    "problems = Array{String,1}(undef,0)"
   ]
  },
  {
   "cell_type": "code",
   "execution_count": 101,
   "metadata": {},
   "outputs": [
    {
     "data": {
      "text/plain": [
       "2-element Array{String,1}:\n",
       " \"ciao\"\n",
       " \"ciao\""
      ]
     },
     "execution_count": 101,
     "metadata": {},
     "output_type": "execute_result"
    }
   ],
   "source": [
    "push!(problems, \"ciao\")"
   ]
  },
  {
   "cell_type": "code",
   "execution_count": 95,
   "metadata": {},
   "outputs": [
    {
     "data": {
      "text/plain": [
       "\"out/PRS_L2D_STD_20200627102334_20200627102339_0001.he5_FULL.wvl\""
      ]
     },
     "execution_count": 95,
     "metadata": {},
     "output_type": "execute_result"
    }
   ],
   "source": [
    "CSV.write(\"out/PRS_L2D_STD_20200627102334_20200627102339_0001.he5_FULL.wvl\",total_wls)"
   ]
  },
  {
   "cell_type": "code",
   "execution_count": 94,
   "metadata": {},
   "outputs": [
    {
     "data": {
      "text/latex": [
       "\\begin{verbatim}\n",
       "CSV.write(file, table; kwargs...) => file\n",
       "table |> CSV.write(file; kwargs...) => file\n",
       "\\end{verbatim}\n",
       "Write a \\href{https://github.com/JuliaData/Tables.jl}{Tables.jl interface input} to a csv file, given as an \\texttt{IO} argument or \\texttt{String}/FilePaths.jl type representing the file name to write to. Alternatively, \\texttt{CSV.RowWriter} creates a row iterator, producing a csv-formatted string for each row in an input table.\n",
       "\n",
       "Supported keyword arguments include:\n",
       "\n",
       "\\begin{itemize}\n",
       "\\item \\texttt{delim::Union\\{Char, String\\}=','}: a character or string to print out as the file's delimiter\n",
       "\n",
       "\n",
       "\\item \\texttt{quotechar::Char='\"'}: ascii character to use for quoting text fields that may contain delimiters or newlines\n",
       "\n",
       "\n",
       "\\item \\texttt{openquotechar::Char}: instead of \\texttt{quotechar}, use \\texttt{openquotechar} and \\texttt{closequotechar} to support different starting and ending quote characters\n",
       "\n",
       "\n",
       "\\item \\texttt{escapechar::Char='\"'}: ascii character used to escape quote characters in a text field\n",
       "\n",
       "\n",
       "\\item \\texttt{missingstring::String=\"\"}: string to print for \\texttt{missing} values\n",
       "\n",
       "\n",
       "\\item \\texttt{dateformat=Dates.default\\_format(T)}: the date format string to use for printing out \\texttt{Date} \\& \\texttt{DateTime} columns\n",
       "\n",
       "\n",
       "\\item \\texttt{append=false}: whether to append writing to an existing file/IO, if \\texttt{true}, it will not write column names by default\n",
       "\n",
       "\n",
       "\\item \\texttt{writeheader=!append}: whether to write an initial row of delimited column names, not written by default if appending\n",
       "\n",
       "\n",
       "\\item \\texttt{header}: pass a list of column names (Symbols or Strings) to use instead of the column names of the input table\n",
       "\n",
       "\n",
       "\\item \\texttt{newline='{\\textbackslash}n'}: character or string to use to separate rows (lines in the csv file)\n",
       "\n",
       "\n",
       "\\item \\texttt{quotestrings=false}: whether to force all strings to be quoted or not\n",
       "\n",
       "\n",
       "\\item \\texttt{decimal='.'}: character to use as the decimal point when writing floating point numbers\n",
       "\n",
       "\n",
       "\\item \\texttt{transform=(col,val)->val}: a function that is applied to every cell e.g. we can transform all \\texttt{nothing} values to \\texttt{missing} using \\texttt{(col, val) -> something(val, missing)}\n",
       "\n",
       "\n",
       "\\item \\texttt{bom=false}: whether to write a UTF-8 BOM header (0xEF 0xBB 0xBF) or not\n",
       "\n",
       "\\end{itemize}\n"
      ],
      "text/markdown": [
       "```\n",
       "CSV.write(file, table; kwargs...) => file\n",
       "table |> CSV.write(file; kwargs...) => file\n",
       "```\n",
       "\n",
       "Write a [Tables.jl interface input](https://github.com/JuliaData/Tables.jl) to a csv file, given as an `IO` argument or `String`/FilePaths.jl type representing the file name to write to. Alternatively, `CSV.RowWriter` creates a row iterator, producing a csv-formatted string for each row in an input table.\n",
       "\n",
       "Supported keyword arguments include:\n",
       "\n",
       "  * `delim::Union{Char, String}=','`: a character or string to print out as the file's delimiter\n",
       "  * `quotechar::Char='\"'`: ascii character to use for quoting text fields that may contain delimiters or newlines\n",
       "  * `openquotechar::Char`: instead of `quotechar`, use `openquotechar` and `closequotechar` to support different starting and ending quote characters\n",
       "  * `escapechar::Char='\"'`: ascii character used to escape quote characters in a text field\n",
       "  * `missingstring::String=\"\"`: string to print for `missing` values\n",
       "  * `dateformat=Dates.default_format(T)`: the date format string to use for printing out `Date` & `DateTime` columns\n",
       "  * `append=false`: whether to append writing to an existing file/IO, if `true`, it will not write column names by default\n",
       "  * `writeheader=!append`: whether to write an initial row of delimited column names, not written by default if appending\n",
       "  * `header`: pass a list of column names (Symbols or Strings) to use instead of the column names of the input table\n",
       "  * `newline='\\n'`: character or string to use to separate rows (lines in the csv file)\n",
       "  * `quotestrings=false`: whether to force all strings to be quoted or not\n",
       "  * `decimal='.'`: character to use as the decimal point when writing floating point numbers\n",
       "  * `transform=(col,val)->val`: a function that is applied to every cell e.g. we can transform all `nothing` values to `missing` using `(col, val) -> something(val, missing)`\n",
       "  * `bom=false`: whether to write a UTF-8 BOM header (0xEF 0xBB 0xBF) or not\n"
      ],
      "text/plain": [
       "\u001b[36m  CSV.write(file, table; kwargs...) => file\u001b[39m\n",
       "\u001b[36m  table |> CSV.write(file; kwargs...) => file\u001b[39m\n",
       "\n",
       "  Write a Tables.jl interface input (https://github.com/JuliaData/Tables.jl)\n",
       "  to a csv file, given as an \u001b[36mIO\u001b[39m argument or \u001b[36mString\u001b[39m/FilePaths.jl type\n",
       "  representing the file name to write to. Alternatively, \u001b[36mCSV.RowWriter\u001b[39m creates\n",
       "  a row iterator, producing a csv-formatted string for each row in an input\n",
       "  table.\n",
       "\n",
       "  Supported keyword arguments include:\n",
       "\n",
       "    •    \u001b[36mdelim::Union{Char, String}=','\u001b[39m: a character or string to print out\n",
       "        as the file's delimiter\n",
       "\n",
       "    •    \u001b[36mquotechar::Char='\"'\u001b[39m: ascii character to use for quoting text\n",
       "        fields that may contain delimiters or newlines\n",
       "\n",
       "    •    \u001b[36mopenquotechar::Char\u001b[39m: instead of \u001b[36mquotechar\u001b[39m, use \u001b[36mopenquotechar\u001b[39m and\n",
       "        \u001b[36mclosequotechar\u001b[39m to support different starting and ending quote\n",
       "        characters\n",
       "\n",
       "    •    \u001b[36mescapechar::Char='\"'\u001b[39m: ascii character used to escape quote\n",
       "        characters in a text field\n",
       "\n",
       "    •    \u001b[36mmissingstring::String=\"\"\u001b[39m: string to print for \u001b[36mmissing\u001b[39m values\n",
       "\n",
       "    •    \u001b[36mdateformat=Dates.default_format(T)\u001b[39m: the date format string to use\n",
       "        for printing out \u001b[36mDate\u001b[39m & \u001b[36mDateTime\u001b[39m columns\n",
       "\n",
       "    •    \u001b[36mappend=false\u001b[39m: whether to append writing to an existing file/IO, if\n",
       "        \u001b[36mtrue\u001b[39m, it will not write column names by default\n",
       "\n",
       "    •    \u001b[36mwriteheader=!append\u001b[39m: whether to write an initial row of delimited\n",
       "        column names, not written by default if appending\n",
       "\n",
       "    •    \u001b[36mheader\u001b[39m: pass a list of column names (Symbols or Strings) to use\n",
       "        instead of the column names of the input table\n",
       "\n",
       "    •    \u001b[36mnewline='\\n'\u001b[39m: character or string to use to separate rows (lines\n",
       "        in the csv file)\n",
       "\n",
       "    •    \u001b[36mquotestrings=false\u001b[39m: whether to force all strings to be quoted or\n",
       "        not\n",
       "\n",
       "    •    \u001b[36mdecimal='.'\u001b[39m: character to use as the decimal point when writing\n",
       "        floating point numbers\n",
       "\n",
       "    •    \u001b[36mtransform=(col,val)->val\u001b[39m: a function that is applied to every cell\n",
       "        e.g. we can transform all \u001b[36mnothing\u001b[39m values to \u001b[36mmissing\u001b[39m using \u001b[36m(col,\n",
       "        val) -> something(val, missing)\u001b[39m\n",
       "\n",
       "    •    \u001b[36mbom=false\u001b[39m: whether to write a UTF-8 BOM header (0xEF 0xBB 0xBF) or\n",
       "        not"
      ]
     },
     "execution_count": 94,
     "metadata": {},
     "output_type": "execute_result"
    }
   ],
   "source": [
    "?CSV.write"
   ]
  },
  {
   "cell_type": "code",
   "execution_count": null,
   "metadata": {},
   "outputs": [],
   "source": [
    "swir_raster = ArchGDAL.readraster(\"out/PRS_L2D_STD_20200627102334_20200627102339_0001.he5_SWIR.tif\")\n",
    "#append di bande > index\n",
    "\n"
   ]
  },
  {
   "cell_type": "code",
   "execution_count": 33,
   "metadata": {},
   "outputs": [
    {
     "name": "stderr",
     "output_type": "stream",
     "text": [
      "WARNING: replacing module faux.\n"
     ]
    },
    {
     "data": {
      "text/plain": [
       "Main.faux"
      ]
     },
     "execution_count": 33,
     "metadata": {},
     "output_type": "execute_result"
    }
   ],
   "source": [
    "include(\"../../code/julia/faux.jl\")"
   ]
  },
  {
   "cell_type": "code",
   "execution_count": null,
   "metadata": {},
   "outputs": [],
   "source": []
  },
  {
   "cell_type": "code",
   "execution_count": 30,
   "metadata": {},
   "outputs": [],
   "source": [
    "using ArchGDAL\n",
    "using BenchmarkTools"
   ]
  },
  {
   "cell_type": "code",
   "execution_count": 34,
   "metadata": {},
   "outputs": [
    {
     "name": "stdout",
     "output_type": "stream",
     "text": [
      "  3.655812 seconds (126.51 k allocations: 5.963 GiB, 14.55% gc time)\n"
     ]
    },
    {
     "data": {
      "text/plain": [
       "1235×1209×63 Array{UInt16,3}:\n",
       "[:, :, 1] =\n",
       " 0x0000  0x0000  0x0000  0x0000  0x0000  …  0x0000  0x0000  0x0000  0x0000\n",
       " 0x0000  0x0000  0x0000  0x0000  0x0000     0x0000  0x0000  0x0000  0x0000\n",
       " 0x0000  0x0000  0x0000  0x0000  0x0000     0x0000  0x0000  0x0000  0x0000\n",
       " 0x0000  0x0000  0x0000  0x0000  0x0000     0x0000  0x0000  0x0000  0x0000\n",
       " 0x0000  0x0000  0x0000  0x0000  0x0000     0x0000  0x0000  0x0000  0x0000\n",
       " 0x0000  0x0000  0x0000  0x0000  0x0000  …  0x0000  0x0000  0x0000  0x0000\n",
       " 0x0000  0x0000  0x0000  0x0000  0x0000     0x0000  0x0000  0x0000  0x0000\n",
       " 0x0000  0x0000  0x0000  0x0000  0x0000     0x0000  0x0000  0x0000  0x0000\n",
       " 0x0000  0x0000  0x0000  0x0000  0x0000     0x0000  0x0000  0x0000  0x0000\n",
       " 0x0000  0x0000  0x0000  0x0000  0x0000     0x0000  0x0000  0x0000  0x0000\n",
       " 0x0000  0x0000  0x0000  0x0000  0x0000  …  0x0000  0x0000  0x0000  0x0000\n",
       " 0x0000  0x0000  0x0000  0x0000  0x0000     0x0000  0x0000  0x0000  0x0000\n",
       " 0x0000  0x0000  0x0000  0x0000  0x0000     0x0000  0x0000  0x0000  0x0000\n",
       "      ⋮                                  ⋱       ⋮                  \n",
       " 0x0000  0x0000  0x0000  0x0000  0x0000     0x0000  0x0000  0x0000  0x0000\n",
       " 0x0000  0x0000  0x0000  0x0000  0x0000     0x0000  0x0000  0x0000  0x0000\n",
       " 0x0000  0x0000  0x0000  0x0000  0x0000  …  0x0000  0x0000  0x0000  0x0000\n",
       " 0x0000  0x0000  0x0000  0x0000  0x0000     0x0000  0x0000  0x0000  0x0000\n",
       " 0x0000  0x0000  0x0000  0x0000  0x0000     0x0000  0x0000  0x0000  0x0000\n",
       " 0x0000  0x0000  0x0000  0x0000  0x0000     0x0000  0x0000  0x0000  0x0000\n",
       " 0x0000  0x0000  0x0000  0x0000  0x0000     0x0000  0x0000  0x0000  0x0000\n",
       " 0x0000  0x0000  0x0000  0x0000  0x0000  …  0x0000  0x0000  0x0000  0x0000\n",
       " 0x0000  0x0000  0x0000  0x0000  0x0000     0x0000  0x0000  0x0000  0x0000\n",
       " 0x0000  0x0000  0x0000  0x0000  0x0000     0x0000  0x0000  0x0000  0x0000\n",
       " 0x0000  0x0000  0x0000  0x0000  0x0000     0x0000  0x0000  0x0000  0x0000\n",
       " 0x0000  0x0000  0x0000  0x0000  0x0000     0x0000  0x0000  0x0000  0x0000\n",
       "\n",
       "[:, :, 2] =\n",
       " 0x0000  0x0000  0x0000  0x0000  0x0000  …  0x0000  0x0000  0x0000  0x0000\n",
       " 0x0000  0x0000  0x0000  0x0000  0x0000     0x0000  0x0000  0x0000  0x0000\n",
       " 0x0000  0x0000  0x0000  0x0000  0x0000     0x0000  0x0000  0x0000  0x0000\n",
       " 0x0000  0x0000  0x0000  0x0000  0x0000     0x0000  0x0000  0x0000  0x0000\n",
       " 0x0000  0x0000  0x0000  0x0000  0x0000     0x0000  0x0000  0x0000  0x0000\n",
       " 0x0000  0x0000  0x0000  0x0000  0x0000  …  0x0000  0x0000  0x0000  0x0000\n",
       " 0x0000  0x0000  0x0000  0x0000  0x0000     0x0000  0x0000  0x0000  0x0000\n",
       " 0x0000  0x0000  0x0000  0x0000  0x0000     0x0000  0x0000  0x0000  0x0000\n",
       " 0x0000  0x0000  0x0000  0x0000  0x0000     0x0000  0x0000  0x0000  0x0000\n",
       " 0x0000  0x0000  0x0000  0x0000  0x0000     0x0000  0x0000  0x0000  0x0000\n",
       " 0x0000  0x0000  0x0000  0x0000  0x0000  …  0x0000  0x0000  0x0000  0x0000\n",
       " 0x0000  0x0000  0x0000  0x0000  0x0000     0x0000  0x0000  0x0000  0x0000\n",
       " 0x0000  0x0000  0x0000  0x0000  0x0000     0x0000  0x0000  0x0000  0x0000\n",
       "      ⋮                                  ⋱       ⋮                  \n",
       " 0x0000  0x0000  0x0000  0x0000  0x0000     0x0000  0x0000  0x0000  0x0000\n",
       " 0x0000  0x0000  0x0000  0x0000  0x0000     0x0000  0x0000  0x0000  0x0000\n",
       " 0x0000  0x0000  0x0000  0x0000  0x0000  …  0x0000  0x0000  0x0000  0x0000\n",
       " 0x0000  0x0000  0x0000  0x0000  0x0000     0x0000  0x0000  0x0000  0x0000\n",
       " 0x0000  0x0000  0x0000  0x0000  0x0000     0x0000  0x0000  0x0000  0x0000\n",
       " 0x0000  0x0000  0x0000  0x0000  0x0000     0x0000  0x0000  0x0000  0x0000\n",
       " 0x0000  0x0000  0x0000  0x0000  0x0000     0x0000  0x0000  0x0000  0x0000\n",
       " 0x0000  0x0000  0x0000  0x0000  0x0000  …  0x0000  0x0000  0x0000  0x0000\n",
       " 0x0000  0x0000  0x0000  0x0000  0x0000     0x0000  0x0000  0x0000  0x0000\n",
       " 0x0000  0x0000  0x0000  0x0000  0x0000     0x0000  0x0000  0x0000  0x0000\n",
       " 0x0000  0x0000  0x0000  0x0000  0x0000     0x0000  0x0000  0x0000  0x0000\n",
       " 0x0000  0x0000  0x0000  0x0000  0x0000     0x0000  0x0000  0x0000  0x0000\n",
       "\n",
       "[:, :, 3] =\n",
       " 0x0000  0x0000  0x0000  0x0000  0x0000  …  0x0000  0x0000  0x0000  0x0000\n",
       " 0x0000  0x0000  0x0000  0x0000  0x0000     0x0000  0x0000  0x0000  0x0000\n",
       " 0x0000  0x0000  0x0000  0x0000  0x0000     0x0000  0x0000  0x0000  0x0000\n",
       " 0x0000  0x0000  0x0000  0x0000  0x0000     0x0000  0x0000  0x0000  0x0000\n",
       " 0x0000  0x0000  0x0000  0x0000  0x0000     0x0000  0x0000  0x0000  0x0000\n",
       " 0x0000  0x0000  0x0000  0x0000  0x0000  …  0x0000  0x0000  0x0000  0x0000\n",
       " 0x0000  0x0000  0x0000  0x0000  0x0000     0x0000  0x0000  0x0000  0x0000\n",
       " 0x0000  0x0000  0x0000  0x0000  0x0000     0x0000  0x0000  0x0000  0x0000\n",
       " 0x0000  0x0000  0x0000  0x0000  0x0000     0x0000  0x0000  0x0000  0x0000\n",
       " 0x0000  0x0000  0x0000  0x0000  0x0000     0x0000  0x0000  0x0000  0x0000\n",
       " 0x0000  0x0000  0x0000  0x0000  0x0000  …  0x0000  0x0000  0x0000  0x0000\n",
       " 0x0000  0x0000  0x0000  0x0000  0x0000     0x0000  0x0000  0x0000  0x0000\n",
       " 0x0000  0x0000  0x0000  0x0000  0x0000     0x0000  0x0000  0x0000  0x0000\n",
       "      ⋮                                  ⋱       ⋮                  \n",
       " 0x0000  0x0000  0x0000  0x0000  0x0000     0x0000  0x0000  0x0000  0x0000\n",
       " 0x0000  0x0000  0x0000  0x0000  0x0000     0x0000  0x0000  0x0000  0x0000\n",
       " 0x0000  0x0000  0x0000  0x0000  0x0000  …  0x0000  0x0000  0x0000  0x0000\n",
       " 0x0000  0x0000  0x0000  0x0000  0x0000     0x0000  0x0000  0x0000  0x0000\n",
       " 0x0000  0x0000  0x0000  0x0000  0x0000     0x0000  0x0000  0x0000  0x0000\n",
       " 0x0000  0x0000  0x0000  0x0000  0x0000     0x0000  0x0000  0x0000  0x0000\n",
       " 0x0000  0x0000  0x0000  0x0000  0x0000     0x0000  0x0000  0x0000  0x0000\n",
       " 0x0000  0x0000  0x0000  0x0000  0x0000  …  0x0000  0x0000  0x0000  0x0000\n",
       " 0x0000  0x0000  0x0000  0x0000  0x0000     0x0000  0x0000  0x0000  0x0000\n",
       " 0x0000  0x0000  0x0000  0x0000  0x0000     0x0000  0x0000  0x0000  0x0000\n",
       " 0x0000  0x0000  0x0000  0x0000  0x0000     0x0000  0x0000  0x0000  0x0000\n",
       " 0x0000  0x0000  0x0000  0x0000  0x0000     0x0000  0x0000  0x0000  0x0000\n",
       "\n",
       "...\n",
       "\n",
       "[:, :, 61] =\n",
       " 0x0000  0x0000  0x0000  0x0000  0x0000  …  0x0000  0x0000  0x0000  0x0000\n",
       " 0x0000  0x0000  0x0000  0x0000  0x0000     0x0000  0x0000  0x0000  0x0000\n",
       " 0x0000  0x0000  0x0000  0x0000  0x0000     0x0000  0x0000  0x0000  0x0000\n",
       " 0x0000  0x0000  0x0000  0x0000  0x0000     0x0000  0x0000  0x0000  0x0000\n",
       " 0x0000  0x0000  0x0000  0x0000  0x0000     0x0000  0x0000  0x0000  0x0000\n",
       " 0x0000  0x0000  0x0000  0x0000  0x0000  …  0x0000  0x0000  0x0000  0x0000\n",
       " 0x0000  0x0000  0x0000  0x0000  0x0000     0x0000  0x0000  0x0000  0x0000\n",
       " 0x0000  0x0000  0x0000  0x0000  0x0000     0x0000  0x0000  0x0000  0x0000\n",
       " 0x0000  0x0000  0x0000  0x0000  0x0000     0x0000  0x0000  0x0000  0x0000\n",
       " 0x0000  0x0000  0x0000  0x0000  0x0000     0x0000  0x0000  0x0000  0x0000\n",
       " 0x0000  0x0000  0x0000  0x0000  0x0000  …  0x0000  0x0000  0x0000  0x0000\n",
       " 0x0000  0x0000  0x0000  0x0000  0x0000     0x0000  0x0000  0x0000  0x0000\n",
       " 0x0000  0x0000  0x0000  0x0000  0x0000     0x0000  0x0000  0x0000  0x0000\n",
       "      ⋮                                  ⋱       ⋮                  \n",
       " 0x0000  0x0000  0x0000  0x0000  0x0000     0x0000  0x0000  0x0000  0x0000\n",
       " 0x0000  0x0000  0x0000  0x0000  0x0000     0x0000  0x0000  0x0000  0x0000\n",
       " 0x0000  0x0000  0x0000  0x0000  0x0000  …  0x0000  0x0000  0x0000  0x0000\n",
       " 0x0000  0x0000  0x0000  0x0000  0x0000     0x0000  0x0000  0x0000  0x0000\n",
       " 0x0000  0x0000  0x0000  0x0000  0x0000     0x0000  0x0000  0x0000  0x0000\n",
       " 0x0000  0x0000  0x0000  0x0000  0x0000     0x0000  0x0000  0x0000  0x0000\n",
       " 0x0000  0x0000  0x0000  0x0000  0x0000     0x0000  0x0000  0x0000  0x0000\n",
       " 0x0000  0x0000  0x0000  0x0000  0x0000  …  0x0000  0x0000  0x0000  0x0000\n",
       " 0x0000  0x0000  0x0000  0x0000  0x0000     0x0000  0x0000  0x0000  0x0000\n",
       " 0x0000  0x0000  0x0000  0x0000  0x0000     0x0000  0x0000  0x0000  0x0000\n",
       " 0x0000  0x0000  0x0000  0x0000  0x0000     0x0000  0x0000  0x0000  0x0000\n",
       " 0x0000  0x0000  0x0000  0x0000  0x0000     0x0000  0x0000  0x0000  0x0000\n",
       "\n",
       "[:, :, 62] =\n",
       " 0x0000  0x0000  0x0000  0x0000  0x0000  …  0x0000  0x0000  0x0000  0x0000\n",
       " 0x0000  0x0000  0x0000  0x0000  0x0000     0x0000  0x0000  0x0000  0x0000\n",
       " 0x0000  0x0000  0x0000  0x0000  0x0000     0x0000  0x0000  0x0000  0x0000\n",
       " 0x0000  0x0000  0x0000  0x0000  0x0000     0x0000  0x0000  0x0000  0x0000\n",
       " 0x0000  0x0000  0x0000  0x0000  0x0000     0x0000  0x0000  0x0000  0x0000\n",
       " 0x0000  0x0000  0x0000  0x0000  0x0000  …  0x0000  0x0000  0x0000  0x0000\n",
       " 0x0000  0x0000  0x0000  0x0000  0x0000     0x0000  0x0000  0x0000  0x0000\n",
       " 0x0000  0x0000  0x0000  0x0000  0x0000     0x0000  0x0000  0x0000  0x0000\n",
       " 0x0000  0x0000  0x0000  0x0000  0x0000     0x0000  0x0000  0x0000  0x0000\n",
       " 0x0000  0x0000  0x0000  0x0000  0x0000     0x0000  0x0000  0x0000  0x0000\n",
       " 0x0000  0x0000  0x0000  0x0000  0x0000  …  0x0000  0x0000  0x0000  0x0000\n",
       " 0x0000  0x0000  0x0000  0x0000  0x0000     0x0000  0x0000  0x0000  0x0000\n",
       " 0x0000  0x0000  0x0000  0x0000  0x0000     0x0000  0x0000  0x0000  0x0000\n",
       "      ⋮                                  ⋱       ⋮                  \n",
       " 0x0000  0x0000  0x0000  0x0000  0x0000     0x0000  0x0000  0x0000  0x0000\n",
       " 0x0000  0x0000  0x0000  0x0000  0x0000     0x0000  0x0000  0x0000  0x0000\n",
       " 0x0000  0x0000  0x0000  0x0000  0x0000  …  0x0000  0x0000  0x0000  0x0000\n",
       " 0x0000  0x0000  0x0000  0x0000  0x0000     0x0000  0x0000  0x0000  0x0000\n",
       " 0x0000  0x0000  0x0000  0x0000  0x0000     0x0000  0x0000  0x0000  0x0000\n",
       " 0x0000  0x0000  0x0000  0x0000  0x0000     0x0000  0x0000  0x0000  0x0000\n",
       " 0x0000  0x0000  0x0000  0x0000  0x0000     0x0000  0x0000  0x0000  0x0000\n",
       " 0x0000  0x0000  0x0000  0x0000  0x0000  …  0x0000  0x0000  0x0000  0x0000\n",
       " 0x0000  0x0000  0x0000  0x0000  0x0000     0x0000  0x0000  0x0000  0x0000\n",
       " 0x0000  0x0000  0x0000  0x0000  0x0000     0x0000  0x0000  0x0000  0x0000\n",
       " 0x0000  0x0000  0x0000  0x0000  0x0000     0x0000  0x0000  0x0000  0x0000\n",
       " 0x0000  0x0000  0x0000  0x0000  0x0000     0x0000  0x0000  0x0000  0x0000\n",
       "\n",
       "[:, :, 63] =\n",
       " 0x0000  0x0000  0x0000  0x0000  0x0000  …  0x0000  0x0000  0x0000  0x0000\n",
       " 0x0000  0x0000  0x0000  0x0000  0x0000     0x0000  0x0000  0x0000  0x0000\n",
       " 0x0000  0x0000  0x0000  0x0000  0x0000     0x0000  0x0000  0x0000  0x0000\n",
       " 0x0000  0x0000  0x0000  0x0000  0x0000     0x0000  0x0000  0x0000  0x0000\n",
       " 0x0000  0x0000  0x0000  0x0000  0x0000     0x0000  0x0000  0x0000  0x0000\n",
       " 0x0000  0x0000  0x0000  0x0000  0x0000  …  0x0000  0x0000  0x0000  0x0000\n",
       " 0x0000  0x0000  0x0000  0x0000  0x0000     0x0000  0x0000  0x0000  0x0000\n",
       " 0x0000  0x0000  0x0000  0x0000  0x0000     0x0000  0x0000  0x0000  0x0000\n",
       " 0x0000  0x0000  0x0000  0x0000  0x0000     0x0000  0x0000  0x0000  0x0000\n",
       " 0x0000  0x0000  0x0000  0x0000  0x0000     0x0000  0x0000  0x0000  0x0000\n",
       " 0x0000  0x0000  0x0000  0x0000  0x0000  …  0x0000  0x0000  0x0000  0x0000\n",
       " 0x0000  0x0000  0x0000  0x0000  0x0000     0x0000  0x0000  0x0000  0x0000\n",
       " 0x0000  0x0000  0x0000  0x0000  0x0000     0x0000  0x0000  0x0000  0x0000\n",
       "      ⋮                                  ⋱       ⋮                  \n",
       " 0x0000  0x0000  0x0000  0x0000  0x0000     0x0000  0x0000  0x0000  0x0000\n",
       " 0x0000  0x0000  0x0000  0x0000  0x0000     0x0000  0x0000  0x0000  0x0000\n",
       " 0x0000  0x0000  0x0000  0x0000  0x0000  …  0x0000  0x0000  0x0000  0x0000\n",
       " 0x0000  0x0000  0x0000  0x0000  0x0000     0x0000  0x0000  0x0000  0x0000\n",
       " 0x0000  0x0000  0x0000  0x0000  0x0000     0x0000  0x0000  0x0000  0x0000\n",
       " 0x0000  0x0000  0x0000  0x0000  0x0000     0x0000  0x0000  0x0000  0x0000\n",
       " 0x0000  0x0000  0x0000  0x0000  0x0000     0x0000  0x0000  0x0000  0x0000\n",
       " 0x0000  0x0000  0x0000  0x0000  0x0000  …  0x0000  0x0000  0x0000  0x0000\n",
       " 0x0000  0x0000  0x0000  0x0000  0x0000     0x0000  0x0000  0x0000  0x0000\n",
       " 0x0000  0x0000  0x0000  0x0000  0x0000     0x0000  0x0000  0x0000  0x0000\n",
       " 0x0000  0x0000  0x0000  0x0000  0x0000     0x0000  0x0000  0x0000  0x0000\n",
       " 0x0000  0x0000  0x0000  0x0000  0x0000     0x0000  0x0000  0x0000  0x0000"
      ]
     },
     "execution_count": 34,
     "metadata": {},
     "output_type": "execute_result"
    }
   ],
   "source": [
    "ArchGDAL.read(\"out/PRS_L2D_STD_20200627102334_20200627102339_0001.he5_VNIR.tif\") do ds\n",
    "    ds = ds\n",
    "    @time faux.getCube(ds)\n",
    "end"
   ]
  },
  {
   "cell_type": "code",
   "execution_count": 24,
   "metadata": {},
   "outputs": [
    {
     "data": {
      "text/plain": [
       "ArchGDAL.RasterDataset{UInt16,ArchGDAL.IDataset}"
      ]
     },
     "execution_count": 24,
     "metadata": {},
     "output_type": "execute_result"
    }
   ],
   "source": [
    "typeof(dataset)"
   ]
  },
  {
   "cell_type": "code",
   "execution_count": 35,
   "metadata": {},
   "outputs": [
    {
     "data": {
      "text/plain": [
       "ArchGDAL.IRasterBand{UInt16}"
      ]
     },
     "execution_count": 35,
     "metadata": {},
     "output_type": "execute_result"
    }
   ],
   "source": [
    "band = ArchGDAL.getband(dataset,2)\n",
    "typeof(band)"
   ]
  },
  {
   "cell_type": "code",
   "execution_count": 21,
   "metadata": {},
   "outputs": [
    {
     "name": "stdout",
     "output_type": "stream",
     "text": [
      "  425.000 μs (5 allocations: 2.85 MiB)\n"
     ]
    },
    {
     "data": {
      "text/plain": [
       "1235×1209 Array{UInt16,2}:\n",
       " 0x0000  0x0000  0x0000  0x0000  0x0000  …  0x0000  0x0000  0x0000  0x0000\n",
       " 0x0000  0x0000  0x0000  0x0000  0x0000     0x0000  0x0000  0x0000  0x0000\n",
       " 0x0000  0x0000  0x0000  0x0000  0x0000     0x0000  0x0000  0x0000  0x0000\n",
       " 0x0000  0x0000  0x0000  0x0000  0x0000     0x0000  0x0000  0x0000  0x0000\n",
       " 0x0000  0x0000  0x0000  0x0000  0x0000     0x0000  0x0000  0x0000  0x0000\n",
       " 0x0000  0x0000  0x0000  0x0000  0x0000  …  0x0000  0x0000  0x0000  0x0000\n",
       " 0x0000  0x0000  0x0000  0x0000  0x0000     0x0000  0x0000  0x0000  0x0000\n",
       " 0x0000  0x0000  0x0000  0x0000  0x0000     0x0000  0x0000  0x0000  0x0000\n",
       " 0x0000  0x0000  0x0000  0x0000  0x0000     0x0000  0x0000  0x0000  0x0000\n",
       " 0x0000  0x0000  0x0000  0x0000  0x0000     0x0000  0x0000  0x0000  0x0000\n",
       " 0x0000  0x0000  0x0000  0x0000  0x0000  …  0x0000  0x0000  0x0000  0x0000\n",
       " 0x0000  0x0000  0x0000  0x0000  0x0000     0x0000  0x0000  0x0000  0x0000\n",
       " 0x0000  0x0000  0x0000  0x0000  0x0000     0x0000  0x0000  0x0000  0x0000\n",
       "      ⋮                                  ⋱       ⋮                  \n",
       " 0x0000  0x0000  0x0000  0x0000  0x0000     0x0000  0x0000  0x0000  0x0000\n",
       " 0x0000  0x0000  0x0000  0x0000  0x0000     0x0000  0x0000  0x0000  0x0000\n",
       " 0x0000  0x0000  0x0000  0x0000  0x0000  …  0x0000  0x0000  0x0000  0x0000\n",
       " 0x0000  0x0000  0x0000  0x0000  0x0000     0x0000  0x0000  0x0000  0x0000\n",
       " 0x0000  0x0000  0x0000  0x0000  0x0000     0x0000  0x0000  0x0000  0x0000\n",
       " 0x0000  0x0000  0x0000  0x0000  0x0000     0x0000  0x0000  0x0000  0x0000\n",
       " 0x0000  0x0000  0x0000  0x0000  0x0000     0x0000  0x0000  0x0000  0x0000\n",
       " 0x0000  0x0000  0x0000  0x0000  0x0000  …  0x0000  0x0000  0x0000  0x0000\n",
       " 0x0000  0x0000  0x0000  0x0000  0x0000     0x0000  0x0000  0x0000  0x0000\n",
       " 0x0000  0x0000  0x0000  0x0000  0x0000     0x0000  0x0000  0x0000  0x0000\n",
       " 0x0000  0x0000  0x0000  0x0000  0x0000     0x0000  0x0000  0x0000  0x0000\n",
       " 0x0000  0x0000  0x0000  0x0000  0x0000     0x0000  0x0000  0x0000  0x0000"
      ]
     },
     "execution_count": 21,
     "metadata": {},
     "output_type": "execute_result"
    }
   ],
   "source": [
    "@btime ArchGDAL.read(ArchGDAL.getband(dataset,2))"
   ]
  },
  {
   "cell_type": "code",
   "execution_count": 39,
   "metadata": {},
   "outputs": [
    {
     "data": {
      "text/plain": [
       "7-element Array{Any,1}:\n",
       " #undef\n",
       " #undef\n",
       " #undef\n",
       " #undef\n",
       " #undef\n",
       " #undef\n",
       " #undef"
      ]
     },
     "execution_count": 39,
     "metadata": {},
     "output_type": "execute_result"
    }
   ],
   "source": [
    "bands= Array{Any,1}(undef, 7)"
   ]
  },
  {
   "cell_type": "code",
   "execution_count": 41,
   "metadata": {},
   "outputs": [
    {
     "data": {
      "text/plain": [
       "7-element Array{ArchGDAL.IRasterBand,1}:\n",
       " #undef\n",
       " #undef\n",
       " #undef\n",
       " #undef\n",
       " #undef\n",
       " #undef\n",
       " #undef"
      ]
     },
     "execution_count": 41,
     "metadata": {},
     "output_type": "execute_result"
    }
   ],
   "source": [
    "bands= Array{ArchGDAL.IRasterBand, 1}(undef, 7)"
   ]
  },
  {
   "cell_type": "code",
   "execution_count": null,
   "metadata": {},
   "outputs": [],
   "source": []
  }
 ],
 "metadata": {
  "kernelspec": {
   "display_name": "Julia 1.5.1",
   "language": "julia",
   "name": "julia-1.5"
  },
  "language_info": {
   "file_extension": ".jl",
   "mimetype": "application/julia",
   "name": "julia",
   "version": "1.5.1"
  }
 },
 "nbformat": 4,
 "nbformat_minor": 4
}
