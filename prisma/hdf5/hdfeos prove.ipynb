{
 "cells": [
  {
   "cell_type": "code",
   "execution_count": 181,
   "metadata": {},
   "outputs": [
    {
     "name": "stderr",
     "output_type": "stream",
     "text": [
      "┌ Info: Precompiling HDF5 [f67ccb44-e63f-5c2f-98bd-6dc0ccc4ba2f]\n",
      "└ @ Base loading.jl:1278\n"
     ]
    },
    {
     "data": {
      "text/plain": [
       "Main.drawTree"
      ]
     },
     "execution_count": 181,
     "metadata": {},
     "output_type": "execute_result"
    }
   ],
   "source": [
    "#include(\"../../codice/julia/hdfeos_convert.jl\")\n",
    "include(\"../../codice/julia/hdf5 tree.jl\")\n",
    "include(\"../../codice/julia/HDF5filesDict.jl\")\n",
    "include(\"../../codice/julia/printHDF.jl\")\n",
    "include(\"../../codice/julia/drawTree.jl\")"
   ]
  },
  {
   "cell_type": "code",
   "execution_count": 184,
   "metadata": {},
   "outputs": [
    {
     "name": "stderr",
     "output_type": "stream",
     "text": [
      "WARNING: replacing module hdfeos.\n"
     ]
    },
    {
     "ename": "LoadError",
     "evalue": "LoadError: LoadError: UndefVarError: @c_str not defined\nin expression starting at C:\\Users\\i am\\Documents\\GitHub\\stage-Machine-learning\\codice\\julia\\hdfeos_convert.jl:131\nin expression starting at C:\\Users\\i am\\Documents\\GitHub\\stage-Machine-learning\\codice\\julia\\hdfeos_convert.jl:70",
     "output_type": "error",
     "traceback": [
      "LoadError: LoadError: UndefVarError: @c_str not defined\nin expression starting at C:\\Users\\i am\\Documents\\GitHub\\stage-Machine-learning\\codice\\julia\\hdfeos_convert.jl:131\nin expression starting at C:\\Users\\i am\\Documents\\GitHub\\stage-Machine-learning\\codice\\julia\\hdfeos_convert.jl:70",
      "",
      "Stacktrace:",
      " [1] top-level scope",
      " [2] include(::String) at .\\client.jl:457",
      " [3] top-level scope at In[184]:1",
      " [4] include_string(::Function, ::Module, ::String, ::String) at .\\loading.jl:1091"
     ]
    }
   ],
   "source": [
    "include(\"../../codice/julia/hdfeos_convert.jl\")"
   ]
  },
  {
   "cell_type": "code",
   "execution_count": 186,
   "metadata": {},
   "outputs": [
    {
     "data": {
      "text/plain": [
       "Main.HDF5fd.filesDict(Dict{Any,Any}(), 0)"
      ]
     },
     "execution_count": 186,
     "metadata": {},
     "output_type": "execute_result"
    }
   ],
   "source": [
    "openfiles = HDF5fd.filesDict()"
   ]
  },
  {
   "cell_type": "markdown",
   "metadata": {},
   "source": [
    "* https://github.com/lbusett/prismaread/blob/master/R/pr_convert.R"
   ]
  },
  {
   "cell_type": "code",
   "execution_count": 187,
   "metadata": {},
   "outputs": [
    {
     "data": {
      "text/plain": [
       "66-element Array{Float32,1}:\n",
       "  0.0\n",
       "  0.0\n",
       "  0.0\n",
       " 12.911368\n",
       " 12.988625\n",
       " 13.529436\n",
       " 13.153065\n",
       " 12.756423\n",
       " 12.919401\n",
       " 13.084726\n",
       " 13.122369\n",
       " 13.102167\n",
       " 13.077453\n",
       "  ⋮\n",
       "  9.031113\n",
       "  8.956725\n",
       "  8.96158\n",
       "  8.964095\n",
       "  9.083489\n",
       "  9.148905\n",
       "  9.222981\n",
       "  9.254457\n",
       "  9.411242\n",
       "  9.845499\n",
       " 10.578098\n",
       " 11.421576"
      ]
     },
     "execution_count": 187,
     "metadata": {},
     "output_type": "execute_result"
    }
   ],
   "source": [
    "testfile=\"data/PRS_L2D_STD_20200627102334_20200627102339_0001.he5\"\n",
    "file = HDF5fd.open(openfiles,testfile,\"r\")\n",
    "proc_lev = hdfeos.getAttr(file, \"List_Fwhm_Vnir\")"
   ]
  },
  {
   "cell_type": "code",
   "execution_count": null,
   "metadata": {},
   "outputs": [],
   "source": [
    "HDF5fd.closeall(openfiles)"
   ]
  },
  {
   "cell_type": "code",
   "execution_count": 13,
   "metadata": {},
   "outputs": [
    {
     "data": {
      "text/plain": [
       "9-element Array{Int64,1}:\n",
       " 1\n",
       " 2\n",
       " 3\n",
       " 4\n",
       " 5\n",
       " 6\n",
       " 7\n",
       " 8\n",
       " 9"
      ]
     },
     "execution_count": 13,
     "metadata": {},
     "output_type": "execute_result"
    }
   ],
   "source": [
    "a=[1,2,3,4,5]\n",
    "b=[6,7,8,9]\n",
    "c=[a...,b...]"
   ]
  },
  {
   "cell_type": "code",
   "execution_count": 16,
   "metadata": {},
   "outputs": [
    {
     "data": {
      "text/plain": [
       "9-element Array{Int64,1}:\n",
       " 1\n",
       " 2\n",
       " 3\n",
       " 4\n",
       " 5\n",
       " 6\n",
       " 7\n",
       " 8\n",
       " 9"
      ]
     },
     "execution_count": 16,
     "metadata": {},
     "output_type": "execute_result"
    }
   ],
   "source": [
    "c=vcat(a,b)"
   ]
  },
  {
   "cell_type": "code",
   "execution_count": 20,
   "metadata": {},
   "outputs": [
    {
     "data": {
      "text/plain": [
       "tryIf (generic function with 1 method)"
      ]
     },
     "execution_count": 20,
     "metadata": {},
     "output_type": "execute_result"
    }
   ],
   "source": [
    "function tryIf(x)\n",
    "    if x in [1,2,3,\"asd\",false]\n",
    "        println(\"$x ok\")\n",
    "        else \n",
    "        println(\"$x non ok\")\n",
    "    end\n",
    "    \n",
    "end"
   ]
  },
  {
   "cell_type": "code",
   "execution_count": 22,
   "metadata": {},
   "outputs": [
    {
     "name": "stdout",
     "output_type": "stream",
     "text": [
      "1 ok\n",
      "asd ok\n"
     ]
    }
   ],
   "source": [
    "x = \"ciao\"\n",
    "tryIf(1)\n",
    "tryIf(\"asd\")"
   ]
  },
  {
   "cell_type": "code",
   "execution_count": 39,
   "metadata": {
    "scrolled": false
   },
   "outputs": [
    {
     "data": {
      "text/html": [
       "<table class=\"data-frame\"><thead><tr><th></th><th>Name</th><th>Description</th><th>Formula</th><th>Sensitivity</th></tr><tr><th></th><th>String</th><th>String?</th><th>String</th><th>String?</th></tr></thead><tbody><p>132 rows × 5 columns (omitted printing of 1 columns)</p><tr><th>1</th><td>ARI</td><td>Anthocyanin Reflectance Index</td><td>1 / R550 - 1 / R700</td><td>Carotenoid content</td></tr><tr><th>2</th><td>BGI</td><td>Blue Green Pigment Index</td><td>R450 / R550</td><td>Dry Matter / Pigment</td></tr><tr><th>3</th><td>BRI</td><td>Blue Red Pigment Index</td><td>R450 / R690</td><td>Dry Matter / Pigment</td></tr><tr><th>4</th><td>CAI</td><td>Cellulose Absorption Index</td><td>0.5*(R2015 + R2195) - R2106</td><td>Dry Matter / Cellulose Absorption</td></tr><tr><th>5</th><td>CI</td><td>Curvative Index</td><td>(R675 * R690) / R683 ^ 2</td><td><em>missing</em></td></tr><tr><th>6</th><td>CI2</td><td><em>missing</em></td><td>R760 / R700 - 1</td><td><em>missing</em></td></tr><tr><th>7</th><td>CRI</td><td>Carotenoid Reflectance</td><td>1 / R510 - 1 / R550</td><td>Carotenoid content</td></tr><tr><th>8</th><td>CRI1</td><td><em>missing</em></td><td>1/R515 - 1/R550</td><td><em>missing</em></td></tr><tr><th>9</th><td>CRI2</td><td>Carotenoid Reflectance</td><td>1 / R510 - 1 / R700</td><td>Carotenoid content</td></tr><tr><th>10</th><td>CRI2</td><td><em>missing</em></td><td>1/R515 - 1/R770</td><td><em>missing</em></td></tr><tr><th>11</th><td>CRI3</td><td><em>missing</em></td><td>(1/R515 - 1/R550) * R770</td><td><em>missing</em></td></tr><tr><th>12</th><td>CRI4</td><td><em>missing</em></td><td>(1/R515 - 1/R700) * R770</td><td><em>missing</em></td></tr><tr><th>13</th><td>CSI</td><td>Carter Stress Index</td><td>R695 / R420</td><td>Chlorophyll</td></tr><tr><th>14</th><td>CSI2</td><td>Carter Stress Index</td><td>R695 / R760</td><td>Chlorophyll</td></tr><tr><th>15</th><td>CSI3</td><td>Carter Stress Index</td><td>R605 / R760</td><td><em>missing</em></td></tr><tr><th>16</th><td>CSI4</td><td>Carter Stress Index</td><td>R710 / R760</td><td><em>missing</em></td></tr><tr><th>17</th><td>CSI5</td><td>Carter Stress Index</td><td>R550</td><td><em>missing</em></td></tr><tr><th>18</th><td>CUR</td><td>Curvature Index</td><td>R675 * R550 / R2683</td><td>Flourescence</td></tr><tr><th>19</th><td>Datt</td><td><em>missing</em></td><td>(R850 - R710)/(R850 - R680)</td><td><em>missing</em></td></tr><tr><th>20</th><td>Datt2</td><td><em>missing</em></td><td>R850 / R710</td><td><em>missing</em></td></tr><tr><th>21</th><td>Datt4</td><td><em>missing</em></td><td>R672/(R550 * R708)</td><td><em>missing</em></td></tr><tr><th>22</th><td>Datt5</td><td><em>missing</em></td><td>R672 / R550</td><td><em>missing</em></td></tr><tr><th>23</th><td>Datt6</td><td><em>missing</em></td><td>R860 / (R550 * R708)</td><td><em>missing</em></td></tr><tr><th>24</th><td>Datt7</td><td><em>missing</em></td><td>(R860 - R2218) / (R860 - R1928)</td><td><em>missing</em></td></tr><tr><th>25</th><td>Datt8</td><td><em>missing</em></td><td>(R860 - R1788) / (R860 - R1928)</td><td><em>missing</em></td></tr><tr><th>26</th><td>DD</td><td><em>missing</em></td><td>(R749 - R720) - (R701 - R672)</td><td><em>missing</em></td></tr><tr><th>27</th><td>DDn</td><td><em>missing</em></td><td>2 * (R710 - R660 - R760)</td><td><em>missing</em></td></tr><tr><th>28</th><td>DSWI</td><td>Desease Water Stress Index</td><td>(R802 - R547) / (R1657 + R682)</td><td>Water Content</td></tr><tr><th>29</th><td>DWSI1</td><td>Desease Water Stress Index</td><td>R800 / R1660</td><td>Water Content</td></tr><tr><th>30</th><td>DWSI2</td><td>Desease Water Stress Index</td><td>R1660 / R550</td><td>Water Content</td></tr><tr><th>&vellip;</th><td>&vellip;</td><td>&vellip;</td><td>&vellip;</td><td>&vellip;</td></tr></tbody></table>"
      ],
      "text/latex": [
       "\\begin{tabular}{r|ccccc}\n",
       "\t& Name & Description & Formula & Sensitivity & \\\\\n",
       "\t\\hline\n",
       "\t& String & String? & String & String? & \\\\\n",
       "\t\\hline\n",
       "\t1 & ARI & Anthocyanin Reflectance Index & 1 / R550 - 1 / R700 & Carotenoid content & $\\dots$ \\\\\n",
       "\t2 & BGI & Blue Green Pigment Index & R450 / R550 & Dry Matter / Pigment & $\\dots$ \\\\\n",
       "\t3 & BRI & Blue Red Pigment Index & R450 / R690 & Dry Matter / Pigment & $\\dots$ \\\\\n",
       "\t4 & CAI & Cellulose Absorption Index & 0.5*(R2015 + R2195) - R2106 & Dry Matter / Cellulose Absorption & $\\dots$ \\\\\n",
       "\t5 & CI & Curvative Index & (R675 * R690) / R683 \\^ 2 & \\emph{missing} & $\\dots$ \\\\\n",
       "\t6 & CI2 & \\emph{missing} & R760 / R700 - 1 & \\emph{missing} & $\\dots$ \\\\\n",
       "\t7 & CRI & Carotenoid Reflectance & 1 / R510 - 1 / R550 & Carotenoid content & $\\dots$ \\\\\n",
       "\t8 & CRI1 & \\emph{missing} & 1/R515 - 1/R550 & \\emph{missing} & $\\dots$ \\\\\n",
       "\t9 & CRI2 & Carotenoid Reflectance & 1 / R510 - 1 / R700 & Carotenoid content & $\\dots$ \\\\\n",
       "\t10 & CRI2 & \\emph{missing} & 1/R515 - 1/R770 & \\emph{missing} & $\\dots$ \\\\\n",
       "\t11 & CRI3 & \\emph{missing} & (1/R515 - 1/R550) * R770 & \\emph{missing} & $\\dots$ \\\\\n",
       "\t12 & CRI4 & \\emph{missing} & (1/R515 - 1/R700) * R770 & \\emph{missing} & $\\dots$ \\\\\n",
       "\t13 & CSI & Carter Stress Index & R695 / R420 & Chlorophyll & $\\dots$ \\\\\n",
       "\t14 & CSI2 & Carter Stress Index & R695 / R760 & Chlorophyll & $\\dots$ \\\\\n",
       "\t15 & CSI3 & Carter Stress Index & R605 / R760 & \\emph{missing} & $\\dots$ \\\\\n",
       "\t16 & CSI4 & Carter Stress Index & R710 / R760 & \\emph{missing} & $\\dots$ \\\\\n",
       "\t17 & CSI5 & Carter Stress Index & R550 & \\emph{missing} & $\\dots$ \\\\\n",
       "\t18 & CUR & Curvature Index & R675 * R550 / R2683 & Flourescence & $\\dots$ \\\\\n",
       "\t19 & Datt & \\emph{missing} & (R850 - R710)/(R850 - R680) & \\emph{missing} & $\\dots$ \\\\\n",
       "\t20 & Datt2 & \\emph{missing} & R850 / R710 & \\emph{missing} & $\\dots$ \\\\\n",
       "\t21 & Datt4 & \\emph{missing} & R672/(R550 * R708) & \\emph{missing} & $\\dots$ \\\\\n",
       "\t22 & Datt5 & \\emph{missing} & R672 / R550 & \\emph{missing} & $\\dots$ \\\\\n",
       "\t23 & Datt6 & \\emph{missing} & R860 / (R550 * R708) & \\emph{missing} & $\\dots$ \\\\\n",
       "\t24 & Datt7 & \\emph{missing} & (R860 - R2218) / (R860 - R1928) & \\emph{missing} & $\\dots$ \\\\\n",
       "\t25 & Datt8 & \\emph{missing} & (R860 - R1788) / (R860 - R1928) & \\emph{missing} & $\\dots$ \\\\\n",
       "\t26 & DD & \\emph{missing} & (R749 - R720) - (R701 - R672) & \\emph{missing} & $\\dots$ \\\\\n",
       "\t27 & DDn & \\emph{missing} & 2 * (R710 - R660 - R760) & \\emph{missing} & $\\dots$ \\\\\n",
       "\t28 & DSWI & Desease Water Stress Index & (R802 - R547) / (R1657 + R682) & Water Content & $\\dots$ \\\\\n",
       "\t29 & DWSI1 & Desease Water Stress Index & R800 / R1660 & Water Content & $\\dots$ \\\\\n",
       "\t30 & DWSI2 & Desease Water Stress Index & R1660 / R550 & Water Content & $\\dots$ \\\\\n",
       "\t$\\dots$ & $\\dots$ & $\\dots$ & $\\dots$ & $\\dots$ &  \\\\\n",
       "\\end{tabular}\n"
      ],
      "text/plain": [
       "132×5 DataFrame. Omitted printing of 3 columns\n",
       "│ Row │ Name          │ Description                   │\n",
       "│     │ \u001b[90mString\u001b[39m        │ \u001b[90mUnion{Missing, String}\u001b[39m        │\n",
       "├─────┼───────────────┼───────────────────────────────┤\n",
       "│ 1   │ ARI           │ Anthocyanin Reflectance Index │\n",
       "│ 2   │ BGI           │ Blue Green Pigment Index      │\n",
       "│ 3   │ BRI           │ Blue Red Pigment Index        │\n",
       "│ 4   │ CAI           │ Cellulose Absorption Index    │\n",
       "│ 5   │ CI            │ Curvative Index               │\n",
       "│ 6   │ CI2           │ \u001b[90mmissing\u001b[39m                       │\n",
       "│ 7   │ CRI           │ Carotenoid Reflectance        │\n",
       "│ 8   │ CRI1          │ \u001b[90mmissing\u001b[39m                       │\n",
       "│ 9   │ CRI2          │ Carotenoid Reflectance        │\n",
       "│ 10  │ CRI2          │ \u001b[90mmissing\u001b[39m                       │\n",
       "⋮\n",
       "│ 122 │ TCARI2/OSAVI2 │ \u001b[90mmissing\u001b[39m                       │\n",
       "│ 123 │ TGI           │ \u001b[90mmissing\u001b[39m                       │\n",
       "│ 124 │ TVI           │ Triangular Vegetation Index   │\n",
       "│ 125 │ VOG1          │ Vogelmann Index               │\n",
       "│ 126 │ VOG2          │ Vogelmann Index               │\n",
       "│ 127 │ VOG3          │ Vogelmann Index               │\n",
       "│ 128 │ ZTM           │ Zarco-Tejada & Miller         │\n",
       "│ 129 │ myindex       │ My custom Index               │\n",
       "│ 130 │ 009066L       │ My custom Index               │\n",
       "│ 131 │ 009449D       │ My custom Index               │\n",
       "│ 132 │ 008530N       │ My custom Index               │"
      ]
     },
     "execution_count": 39,
     "metadata": {},
     "output_type": "execute_result"
    }
   ],
   "source": [
    "using CSV\n",
    "using DataFrames\n",
    "mkpath(\"downloads\")\n",
    "download(\"https://github.com/sfacca/stage-Machine-learning/raw/master/extdata/md_indexes_list.txt\",\"downloads/indexes_list.txt\")\n",
    "index_list = CSV.read(\"downloads/indexes_list.txt\")\n",
    "\n",
    "select!(index_list, Not(:id))"
   ]
  },
  {
   "cell_type": "code",
   "execution_count": 41,
   "metadata": {},
   "outputs": [
    {
     "data": {
      "text/plain": [
       "132-element Array{String,1}:\n",
       " \"1 / R550 - 1 / R700\"\n",
       " \"R450 / R550\"\n",
       " \"R450 / R690\"\n",
       " \"0.5*(R2015 + R2195) - R2106\"\n",
       " \"(R675 * R690) / R683 ^ 2\"\n",
       " \"R760 / R700 - 1\"\n",
       " \"1 / R510 - 1 / R550\"\n",
       " \"1/R515 - 1/R550\"\n",
       " \"1 / R510 - 1 / R700\"\n",
       " \"1/R515 - 1/R770\"\n",
       " \"(1/R515 - 1/R550) * R770\"\n",
       " \"(1/R515 - 1/R700) * R770\"\n",
       " \"R695 / R420\"\n",
       " ⋮\n",
       " \"3 * ((R750 - R705) - 0.2 * (R750 - R550)*(R750/R705))\"\n",
       " \"(3 * ((R750 - R705) - 0.2 * (R750 - R550)*(R750/R705))) / ((1 + 0.16) * (R750 - R705) / (R750 + R705 + 0.16))\"\n",
       " \"0\"\n",
       " \"0.5 * (120 * (R750 - R550) - 200 * (R670 - R550))\"\n",
       " \"R740/R720\"\n",
       " \"(R734 - R747)/(R715 + R726)\"\n",
       " \"(R734 - R747)/(R715 + R720)\"\n",
       " \"R750 / R710\"\n",
       " \"R600 / R700\"\n",
       " \"R600 / R700\"\n",
       " \"R600 / R700\"\n",
       " \"R600 / R700\""
      ]
     },
     "execution_count": 41,
     "metadata": {},
     "output_type": "execute_result"
    }
   ],
   "source": [
    "index_list[:Formula]"
   ]
  },
  {
   "cell_type": "code",
   "execution_count": 179,
   "metadata": {},
   "outputs": [
    {
     "data": {
      "text/html": [
       "<table class=\"data-frame\"><thead><tr><th></th><th>Name</th><th>Formula</th></tr><tr><th></th><th>String</th><th>String</th></tr></thead><tbody><p>132 rows × 2 columns</p><tr><th>1</th><td>ARI</td><td>1 / R550 - 1 / R700</td></tr><tr><th>2</th><td>BGI</td><td>R450 / R550</td></tr><tr><th>3</th><td>BRI</td><td>R450 / R690</td></tr><tr><th>4</th><td>CAI</td><td>0.5*(R2015 + R2195) - R2106</td></tr><tr><th>5</th><td>CI</td><td>(R675 * R690) / R683 ^ 2</td></tr><tr><th>6</th><td>CI2</td><td>R760 / R700 - 1</td></tr><tr><th>7</th><td>CRI</td><td>1 / R510 - 1 / R550</td></tr><tr><th>8</th><td>CRI1</td><td>1/R515 - 1/R550</td></tr><tr><th>9</th><td>CRI2</td><td>1 / R510 - 1 / R700</td></tr><tr><th>10</th><td>CRI2</td><td>1/R515 - 1/R770</td></tr><tr><th>11</th><td>CRI3</td><td>(1/R515 - 1/R550) * R770</td></tr><tr><th>12</th><td>CRI4</td><td>(1/R515 - 1/R700) * R770</td></tr><tr><th>13</th><td>CSI</td><td>R695 / R420</td></tr><tr><th>14</th><td>CSI2</td><td>R695 / R760</td></tr><tr><th>15</th><td>CSI3</td><td>R605 / R760</td></tr><tr><th>16</th><td>CSI4</td><td>R710 / R760</td></tr><tr><th>17</th><td>CSI5</td><td>R550</td></tr><tr><th>18</th><td>CUR</td><td>R675 * R550 / R2683</td></tr><tr><th>19</th><td>Datt</td><td>(R850 - R710)/(R850 - R680)</td></tr><tr><th>20</th><td>Datt2</td><td>R850 / R710</td></tr><tr><th>21</th><td>Datt4</td><td>R672/(R550 * R708)</td></tr><tr><th>22</th><td>Datt5</td><td>R672 / R550</td></tr><tr><th>23</th><td>Datt6</td><td>R860 / (R550 * R708)</td></tr><tr><th>24</th><td>Datt7</td><td>(R860 - R2218) / (R860 - R1928)</td></tr><tr><th>25</th><td>Datt8</td><td>(R860 - R1788) / (R860 - R1928)</td></tr><tr><th>26</th><td>DD</td><td>(R749 - R720) - (R701 - R672)</td></tr><tr><th>27</th><td>DDn</td><td>2 * (R710 - R660 - R760)</td></tr><tr><th>28</th><td>DSWI</td><td>(R802 - R547) / (R1657 + R682)</td></tr><tr><th>29</th><td>DWSI1</td><td>R800 / R1660</td></tr><tr><th>30</th><td>DWSI2</td><td>R1660 / R550</td></tr><tr><th>&vellip;</th><td>&vellip;</td><td>&vellip;</td></tr></tbody></table>"
      ],
      "text/latex": [
       "\\begin{tabular}{r|cc}\n",
       "\t& Name & Formula\\\\\n",
       "\t\\hline\n",
       "\t& String & String\\\\\n",
       "\t\\hline\n",
       "\t1 & ARI & 1 / R550 - 1 / R700 \\\\\n",
       "\t2 & BGI & R450 / R550 \\\\\n",
       "\t3 & BRI & R450 / R690 \\\\\n",
       "\t4 & CAI & 0.5*(R2015 + R2195) - R2106 \\\\\n",
       "\t5 & CI & (R675 * R690) / R683 \\^ 2 \\\\\n",
       "\t6 & CI2 & R760 / R700 - 1 \\\\\n",
       "\t7 & CRI & 1 / R510 - 1 / R550 \\\\\n",
       "\t8 & CRI1 & 1/R515 - 1/R550 \\\\\n",
       "\t9 & CRI2 & 1 / R510 - 1 / R700 \\\\\n",
       "\t10 & CRI2 & 1/R515 - 1/R770 \\\\\n",
       "\t11 & CRI3 & (1/R515 - 1/R550) * R770 \\\\\n",
       "\t12 & CRI4 & (1/R515 - 1/R700) * R770 \\\\\n",
       "\t13 & CSI & R695 / R420 \\\\\n",
       "\t14 & CSI2 & R695 / R760 \\\\\n",
       "\t15 & CSI3 & R605 / R760 \\\\\n",
       "\t16 & CSI4 & R710 / R760 \\\\\n",
       "\t17 & CSI5 & R550 \\\\\n",
       "\t18 & CUR & R675 * R550 / R2683 \\\\\n",
       "\t19 & Datt & (R850 - R710)/(R850 - R680) \\\\\n",
       "\t20 & Datt2 & R850 / R710 \\\\\n",
       "\t21 & Datt4 & R672/(R550 * R708) \\\\\n",
       "\t22 & Datt5 & R672 / R550 \\\\\n",
       "\t23 & Datt6 & R860 / (R550 * R708) \\\\\n",
       "\t24 & Datt7 & (R860 - R2218) / (R860 - R1928) \\\\\n",
       "\t25 & Datt8 & (R860 - R1788) / (R860 - R1928) \\\\\n",
       "\t26 & DD & (R749 - R720) - (R701 - R672) \\\\\n",
       "\t27 & DDn & 2 * (R710 - R660 - R760) \\\\\n",
       "\t28 & DSWI & (R802 - R547) / (R1657 + R682) \\\\\n",
       "\t29 & DWSI1 & R800 / R1660 \\\\\n",
       "\t30 & DWSI2 & R1660 / R550 \\\\\n",
       "\t$\\dots$ & $\\dots$ & $\\dots$ \\\\\n",
       "\\end{tabular}\n"
      ],
      "text/plain": [
       "132×2 DataFrame. Omitted printing of 1 columns\n",
       "│ Row │ Name          │\n",
       "│     │ \u001b[90mString\u001b[39m        │\n",
       "├─────┼───────────────┤\n",
       "│ 1   │ ARI           │\n",
       "│ 2   │ BGI           │\n",
       "│ 3   │ BRI           │\n",
       "│ 4   │ CAI           │\n",
       "│ 5   │ CI            │\n",
       "│ 6   │ CI2           │\n",
       "│ 7   │ CRI           │\n",
       "│ 8   │ CRI1          │\n",
       "│ 9   │ CRI2          │\n",
       "│ 10  │ CRI2          │\n",
       "⋮\n",
       "│ 122 │ TCARI2/OSAVI2 │\n",
       "│ 123 │ TGI           │\n",
       "│ 124 │ TVI           │\n",
       "│ 125 │ VOG1          │\n",
       "│ 126 │ VOG2          │\n",
       "│ 127 │ VOG3          │\n",
       "│ 128 │ ZTM           │\n",
       "│ 129 │ myindex       │\n",
       "│ 130 │ 009066L       │\n",
       "│ 131 │ 009449D       │\n",
       "│ 132 │ 008530N       │"
      ]
     },
     "execution_count": 179,
     "metadata": {},
     "output_type": "execute_result"
    }
   ],
   "source": [
    "using CSV\n",
    "using DataFrames\n",
    "using LinearAlgebra\n",
    "using DataFramesMeta\n",
    "#=mkpath(\"downloads\")\n",
    "download(\"https://github.com/sfacca/stage-Machine-learning/raw/master/extdata/md_indexes_list.txt\",\"downloads/indexes_list.txt\")\n",
    "=#\n",
    "index_list = CSV.read(\"downloads/indexes_list.txt\")\n",
    "select!(index_list, Not(:id))\n",
    "\n",
    "av_indexes= select(index_list, [:Name,:Formula])\n",
    "indexes = [\"ARI\",\"BGI\",\"BRI\"]\n",
    "sel_indexes = filter(row -> row.Name ∈ indexes, av_indexes)\n",
    "av_indexes\n"
   ]
  },
  {
   "cell_type": "code",
   "execution_count": 202,
   "metadata": {},
   "outputs": [
    {
     "ename": "LoadError",
     "evalue": "SystemError: opening file \"C:\\\\Users\\\\IAM~1\\\\AppData\\\\Local\\\\Tempout/ang_df.ang\": No such file or directory",
     "output_type": "error",
     "traceback": [
      "SystemError: opening file \"C:\\\\Users\\\\IAM~1\\\\AppData\\\\Local\\\\Tempout/ang_df.ang\": No such file or directory",
      "",
      "Stacktrace:",
      " [1] systemerror(::String, ::Int32; extrainfo::Nothing) at .\\error.jl:168",
      " [2] #systemerror#48 at .\\error.jl:167 [inlined]",
      " [3] systemerror at .\\error.jl:167 [inlined]",
      " [4] open(::String; lock::Bool, read::Nothing, write::Nothing, create::Nothing, truncate::Bool, append::Nothing) at .\\iostream.jl:284",
      " [5] open(::String, ::String; lock::Bool) at .\\iostream.jl:346",
      " [6] open(::String, ::String) at .\\iostream.jl:346",
      " [7] open(::CSV.var\"#73#74\"{CSV.var\"#66#67\"{Bool,Bool,Tables.Schema{(:date, :sunzen, :sunaz),Tuple{String,Float32,Float32}},DataFrames.DataFrameRows{DataFrame,DataFrames.Index},CSV.Options{UInt8,UInt8,Nothing,Tuple{},CSV.var\"#62#64\"},Tuple{Symbol,Symbol,Symbol},Int64,Int64,Array{UInt8,1}}}, ::String, ::Vararg{String,N} where N; kwargs::Base.Iterators.Pairs{Union{},Union{},Tuple{},NamedTuple{(),Tuple{}}}) at .\\io.jl:323",
      " [8] open at .\\io.jl:323 [inlined]",
      " [9] with at C:\\Users\\i am\\.julia\\packages\\CSV\\MKemC\\src\\write.jl:246 [inlined]",
      " [10] #write#65 at C:\\Users\\i am\\.julia\\packages\\CSV\\MKemC\\src\\write.jl:174 [inlined]",
      " [11] write(::String, ::DataFrame; delim::Char, quotechar::Char, openquotechar::Nothing, closequotechar::Nothing, escapechar::Char, newline::Char, decimal::Char, dateformat::Nothing, quotestrings::Bool, missingstring::String, transform::CSV.var\"#62#64\", bom::Bool, append::Bool, writeheader::Nothing, kwargs::Base.Iterators.Pairs{Union{},Union{},Tuple{},NamedTuple{(),Tuple{}}}) at C:\\Users\\i am\\.julia\\packages\\CSV\\MKemC\\src\\write.jl:162",
      " [12] top-level scope at In[202]:7",
      " [13] include_string(::Function, ::Module, ::String, ::String) at .\\loading.jl:1091"
     ]
    }
   ],
   "source": [
    "# get additional metadata\n",
    "    sunzen  = hdfeos.getAttr(file, \"Sun_zenith_angle\")\n",
    "    sunaz  = hdfeos.getAttr(file, \"Sun_azimuth_angle\")\n",
    "    acqtime  = hdfeos.getAttr(file, \"Product_StartTime\")\n",
    "\n",
    "ang_df = DataFrame(date = acqtime),sunzen = sunzen,sunaz = sunaz)\n",
    "CSV.write(\"out/ang_df.ang\",ang_df,delim=' ',quotechar='\"',quotestrings=true)"
   ]
  },
  {
   "cell_type": "code",
   "execution_count": 201,
   "metadata": {},
   "outputs": [
    {
     "data": {
      "text/plain": [
       "\"asdfgh_asd\""
      ]
     },
     "execution_count": 201,
     "metadata": {},
     "output_type": "execute_result"
    }
   ],
   "source": [
    "string(\"asd\",\"fgh\",\"_asd\")"
   ]
  },
  {
   "cell_type": "code",
   "execution_count": 141,
   "metadata": {},
   "outputs": [
    {
     "data": {
      "text/plain": [
       "extractWvl (generic function with 1 method)"
      ]
     },
     "execution_count": 141,
     "metadata": {},
     "output_type": "execute_result"
    }
   ],
   "source": [
    "function extractWvl(str::String)#prende stringa, ritorna array di numeri\n",
    "  currnum = 0\n",
    "  res::Array{Int,1} = []\n",
    "  intc = ['1','2','3','4','5','6','7','8','9','0']\n",
    "  afterR = false\n",
    "  for char in str\n",
    "    if afterR\n",
    "      if char in intc\n",
    "        currnum = currnum*10\n",
    "        currnum = currnum + parse(Int,char)             \n",
    "                \n",
    "      else\n",
    "        push!(res,currnum)\n",
    "        currnum=0\n",
    "        afterR = false\n",
    "      end    \n",
    "    end\n",
    "    if char == 'R'\n",
    "      afterR = true\n",
    "    end\n",
    "  end\n",
    "  push!(res,currnum)  \n",
    "  res\n",
    "end"
   ]
  },
  {
   "cell_type": "code",
   "execution_count": 142,
   "metadata": {},
   "outputs": [
    {
     "data": {
      "text/plain": [
       "92-element Array{Int64,1}:\n",
       "    0\n",
       "  415\n",
       "  420\n",
       "  430\n",
       "  435\n",
       "  440\n",
       "  445\n",
       "  450\n",
       "  470\n",
       "  475\n",
       "  500\n",
       "  510\n",
       "  513\n",
       "    ⋮\n",
       " 1928\n",
       " 2015\n",
       " 2090\n",
       " 2106\n",
       " 2133\n",
       " 2195\n",
       " 2209\n",
       " 2210\n",
       " 2218\n",
       " 2225\n",
       " 2280\n",
       " 2683"
      ]
     },
     "execution_count": 142,
     "metadata": {},
     "output_type": "execute_result"
    }
   ],
   "source": [
    "req_wls = sort(unique(vcat(extractWvl.(av_indexes[:Formula])...)))"
   ]
  },
  {
   "cell_type": "code",
   "execution_count": 234,
   "metadata": {},
   "outputs": [
    {
     "data": {
      "text/plain": [
       "Int64[]"
      ]
     },
     "execution_count": 234,
     "metadata": {},
     "output_type": "execute_result"
    }
   ],
   "source": [
    "wl_vnir = rand(Float64,66)\n",
    "#1 prendiamo elem req_wls >= maximum(wl_vnir)\n",
    "sel_vnir = filter(item -> item <= maximum(wl_vnir) && item != 0,req_wls)"
   ]
  },
  {
   "cell_type": "code",
   "execution_count": 152,
   "metadata": {},
   "outputs": [
    {
     "data": {
      "text/plain": [
       "1"
      ]
     },
     "execution_count": 152,
     "metadata": {},
     "output_type": "execute_result"
    }
   ],
   "source": [
    "myArr = [1,4,5,2,0]\n",
    "minimum(filter(item -> item !=0,myArr))"
   ]
  },
  {
   "cell_type": "code",
   "execution_count": 176,
   "metadata": {},
   "outputs": [
    {
     "data": {
      "text/plain": [
       "5-element Array{Int64,1}:\n",
       "  2\n",
       "  4\n",
       "  6\n",
       "  9\n",
       " 12"
      ]
     },
     "execution_count": 176,
     "metadata": {},
     "output_type": "execute_result"
    }
   ],
   "source": [
    "a = [6,6,9,12,4,2,6]\n",
    "b= [9,87,6,87,33]\n",
    "x = unique(sort(a))\n"
   ]
  },
  {
   "cell_type": "code",
   "execution_count": 177,
   "metadata": {},
   "outputs": [
    {
     "data": {
      "text/plain": [
       "4-element Array{Int64,1}:\n",
       "  6\n",
       "  9\n",
       " 33\n",
       " 87"
      ]
     },
     "execution_count": 177,
     "metadata": {},
     "output_type": "execute_result"
    }
   ],
   "source": [
    "y = unique(sort(b))"
   ]
  },
  {
   "cell_type": "code",
   "execution_count": 178,
   "metadata": {},
   "outputs": [
    {
     "data": {
      "text/plain": [
       "true"
      ]
     },
     "execution_count": 178,
     "metadata": {},
     "output_type": "execute_result"
    }
   ],
   "source": [
    "checkCommon(usa,usb)"
   ]
  },
  {
   "cell_type": "code",
   "execution_count": 203,
   "metadata": {},
   "outputs": [
    {
     "name": "stderr",
     "output_type": "stream",
     "text": [
      "┌ Info: Precompiling ArchGDAL [c9ce4bd3-c3d5-55b8-8973-c0e20141b8c3]\n",
      "└ @ Base loading.jl:1278\n"
     ]
    }
   ],
   "source": [
    "using ArchGDAL"
   ]
  },
  {
   "cell_type": "code",
   "execution_count": 204,
   "metadata": {},
   "outputs": [
    {
     "data": {
      "text/plain": [
       "4-element Array{Int64,1}:\n",
       "   22\n",
       "   15\n",
       "  996\n",
       " 1000"
      ]
     },
     "execution_count": 204,
     "metadata": {},
     "output_type": "execute_result"
    }
   ],
   "source": [
    "wl_vnir"
   ]
  },
  {
   "cell_type": "code",
   "execution_count": 211,
   "metadata": {},
   "outputs": [
    {
     "name": "stdout",
     "output_type": "stream",
     "text": [
      "z = x .- y = [-1, 0, 1]\n",
      "za = abs.(x .- y) = [1, 0, 1]\n"
     ]
    },
    {
     "data": {
      "text/plain": [
       "3-element Array{Int64,1}:\n",
       " 1\n",
       " 0\n",
       " 1"
      ]
     },
     "execution_count": 211,
     "metadata": {},
     "output_type": "execute_result"
    }
   ],
   "source": [
    "x = [1,2,3]\n",
    "y= 2\n",
    "@show z = x.-y\n",
    "@show za = abs.(x.-y)\n"
   ]
  },
  {
   "cell_type": "code",
   "execution_count": 229,
   "metadata": {},
   "outputs": [
    {
     "data": {
      "text/plain": [
       "closestWvlFun (generic function with 1 method)"
      ]
     },
     "execution_count": 229,
     "metadata": {},
     "output_type": "execute_result"
    }
   ],
   "source": [
    "function closestWvl(wvl::Array{Int64,1},x::Int64)\n",
    "  y = abs.(wvl.-x)\n",
    "  #lapply(selbands_vnir, FUN = function(x) which.min(abs(wl_vnir - x))))\n",
    "  minimum(abs.(wvl.-x))\n",
    "end\n",
    "function closestWvlFun(wvl::Array{Int64,1})\n",
    "  (x)->(minimum(abs.(wvl.-x)))\n",
    "end"
   ]
  },
  {
   "cell_type": "code",
   "execution_count": 230,
   "metadata": {},
   "outputs": [
    {
     "data": {
      "text/plain": [
       "7-element Array{Int64,1}:\n",
       " 0\n",
       " 3\n",
       " 0\n",
       " 0\n",
       " 0\n",
       " 1\n",
       " 2"
      ]
     },
     "execution_count": 230,
     "metadata": {},
     "output_type": "execute_result"
    }
   ],
   "source": [
    "wvl = [4,3,6,1,-5,1,2,5,6,1]\n",
    "x = [5,-8,4,1,4,7,8]\n",
    "closestWvlFun(wvl).(x)"
   ]
  },
  {
   "cell_type": "code",
   "execution_count": 238,
   "metadata": {},
   "outputs": [
    {
     "data": {
      "text/plain": [
       "64-element Array{Int64,1}:\n",
       "  1\n",
       "  2\n",
       "  3\n",
       "  4\n",
       "  6\n",
       "  7\n",
       "  8\n",
       "  9\n",
       " 10\n",
       " 11\n",
       " 13\n",
       " 14\n",
       " 15\n",
       "  ⋮\n",
       " 55\n",
       " 56\n",
       " 57\n",
       " 58\n",
       " 59\n",
       " 60\n",
       " 61\n",
       " 62\n",
       " 63\n",
       " 64\n",
       " 65\n",
       " 66"
      ]
     },
     "execution_count": 238,
     "metadata": {},
     "output_type": "execute_result"
    }
   ],
   "source": [
    "wl_vnir[5]=0\n",
    "wl_vnir[12]=0\n",
    "\n",
    "seqbands_vnir = [1:66...]\n",
    "  for i in 1:66\n",
    "    if wl_vnir[i]==0\n",
    "      seqbands_vnir[i]=0      \n",
    "    end\n",
    "  end\n",
    "seqbands_vnir = filter(x->x!=0,seqbands_vnir)"
   ]
  },
  {
   "cell_type": "code",
   "execution_count": 236,
   "metadata": {},
   "outputs": [
    {
     "data": {
      "text/plain": [
       "1-element Array{UnitRange{Int64},1}:\n",
       " 1:66"
      ]
     },
     "execution_count": 236,
     "metadata": {},
     "output_type": "execute_result"
    }
   ],
   "source": [
    "seqbands_vnir = [1:66]"
   ]
  },
  {
   "cell_type": "code",
   "execution_count": 239,
   "metadata": {},
   "outputs": [
    {
     "data": {
      "text/plain": [
       "64-element Array{Float64,1}:\n",
       " 0.31389783015988226\n",
       " 0.9780051176715132\n",
       " 0.7314546886905584\n",
       " 0.7737076983924149\n",
       " 0.5595092474008283\n",
       " 0.6168637817063221\n",
       " 0.4497328202445632\n",
       " 0.5049079094583413\n",
       " 0.24034062038311466\n",
       " 0.008912052209757881\n",
       " 0.5687309419046183\n",
       " 0.755433700549019\n",
       " 0.25222311499937056\n",
       " ⋮\n",
       " 0.07091653265743392\n",
       " 0.5991900796453336\n",
       " 0.3995412014357924\n",
       " 0.8524441395956297\n",
       " 0.5929465621765531\n",
       " 0.22614649147622456\n",
       " 0.43785731465921507\n",
       " 0.3880152749585053\n",
       " 0.45006544454605346\n",
       " 0.17590459833502692\n",
       " 0.560132104627866\n",
       " 0.979478647374749"
      ]
     },
     "execution_count": 239,
     "metadata": {},
     "output_type": "execute_result"
    }
   ],
   "source": [
    "wl_vnir = wl_vnir[seqbands_vnir]"
   ]
  },
  {
   "cell_type": "code",
   "execution_count": null,
   "metadata": {},
   "outputs": [],
   "source": []
  }
 ],
 "metadata": {
  "kernelspec": {
   "display_name": "Julia 1.5.1",
   "language": "julia",
   "name": "julia-1.5"
  },
  "language_info": {
   "file_extension": ".jl",
   "mimetype": "application/julia",
   "name": "julia",
   "version": "1.5.1"
  }
 },
 "nbformat": 4,
 "nbformat_minor": 4
}
