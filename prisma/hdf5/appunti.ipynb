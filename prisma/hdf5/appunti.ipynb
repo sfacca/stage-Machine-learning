{
 "cells": [
  {
   "cell_type": "markdown",
   "metadata": {},
   "source": [
    "# appunti hdf5\n",
    "\n",
    "formato per scambio di dati autodescrittivi \n",
    "\n",
    "autodescrittivo: data set, eg array n dimensionale di numeri, ha metadati addizionali associati ad esso che descrivono cose come rango \n",
    "\tdell'array, numero di elementi in ogni dimensione, etc\n",
    "\t\n",
    "prende principi da programmazione orientata agli ogg\n",
    "\n",
    "array n-dim, immagini e tabelle possono esser immagazzinati nello stesso file ma in oggetti diversi\n",
    "\n",
    "utente può capire contenuti del file a cui accede nei termini dei vari tipi di dati oggetto hdf5, segue descriz tipi dati oggetto\n",
    "\n",
    "## hdf5 file struct\n",
    "\n",
    "file hdf5 = directory + collection di data obj\n",
    "\n",
    "ogni data obj ha un entry nella directory contenente puntatore a locazione del data obj, e informazione sul datatype\n",
    "\n",
    "++ su datatypes: https://portal.hdfgroup.org/display/HDF5/Datatype+Basics\n",
    "\n",
    "ci sono solo due data obj fondamentali in hdf5: groups e namespaces\n",
    "\n",
    "file hdf5 sono organizzati gerarchicamente con due strutture primarie: groups, datasets\n"
   ]
  },
  {
   "cell_type": "code",
   "execution_count": 5,
   "metadata": {},
   "outputs": [
    {
     "data": {
      "application/vnd.vega.v5+json": {
       "data": [
        {
         "name": "tree",
         "transform": [
          {
           "key": "id",
           "parentKey": "parent",
           "type": "stratify"
          },
          {
           "as": [
            "y",
            "x",
            "depth",
            "children"
           ],
           "method": {
            "signal": "layout"
           },
           "separation": {
            "signal": "separation"
           },
           "size": [
            {
             "signal": "height"
            },
            {
             "signal": "width - 100"
            }
           ],
           "type": "tree"
          }
         ],
         "values": [
          {
           "id": 1,
           "name": "GROUP",
           "parent": null
          },
          {
           "id": 2,
           "name": "HEADER",
           "parent": 1
          },
          {
           "id": 3,
           "name": "ATTRIBUTES",
           "parent": 1
          },
          {
           "id": 4,
           "name": "DATASET",
           "parent": 1
          },
          {
           "id": 5,
           "name": "NAME",
           "parent": 3
          },
          {
           "id": 6,
           "name": "DATATYTPE",
           "parent": 3
          },
          {
           "id": 7,
           "name": "DATASPACE",
           "parent": 3
          },
          {
           "id": 8,
           "name": "DATA",
           "parent": 3
          },
          {
           "id": 9,
           "name": "HEADER",
           "parent": 4
          },
          {
           "id": 10,
           "name": "DATA ARRAY",
           "parent": 4
          },
          {
           "id": 11,
           "name": "ATTRIBUTES",
           "parent": 4
          },
          {
           "id": 12,
           "name": "NAME",
           "parent": 9
          },
          {
           "id": 13,
           "name": "DATATYPE",
           "parent": 9
          },
          {
           "id": 14,
           "name": "DATASPACE",
           "parent": 9
          },
          {
           "id": 15,
           "name": "STORAGE LAYOUT",
           "parent": 9
          },
          {
           "id": 16,
           "name": "NAME",
           "parent": 11
          },
          {
           "id": 17,
           "name": "DATATYTPE",
           "parent": 11
          },
          {
           "id": 18,
           "name": "DATASPACE",
           "parent": 11
          },
          {
           "id": 19,
           "name": "DATA",
           "parent": 11
          }
         ]
        },
        {
         "name": "links",
         "source": "tree",
         "transform": [
          {
           "type": "treelinks"
          },
          {
           "orient": "horizontal",
           "shape": {
            "signal": "links"
           },
           "type": "linkpath"
          }
         ]
        }
       ],
       "height": 800,
       "marks": [
        {
         "encode": {
          "update": {
           "path": {
            "field": "path"
           },
           "stroke": {
            "value": "#ccc"
           }
          }
         },
         "from": {
          "data": "links"
         },
         "type": "path"
        },
        {
         "encode": {
          "enter": {
           "size": {
            "value": 100
           },
           "stroke": {
            "value": "#fff"
           }
          },
          "update": {
           "fill": {
            "field": "depth",
            "scale": "color"
           },
           "x": {
            "field": "x"
           },
           "y": {
            "field": "y"
           }
          }
         },
         "from": {
          "data": "tree"
         },
         "type": "symbol"
        },
        {
         "encode": {
          "enter": {
           "baseline": {
            "value": "middle"
           },
           "fontSize": {
            "value": 9
           },
           "text": {
            "field": "name"
           }
          },
          "update": {
           "align": {
            "signal": "datum.children ? 'right' : 'left'"
           },
           "dx": {
            "signal": "datum.children ? -7 : 7"
           },
           "opacity": {
            "signal": "labels ? 1 : 0"
           },
           "x": {
            "field": "x"
           },
           "y": {
            "field": "y"
           }
          }
         },
         "from": {
          "data": "tree"
         },
         "type": "text"
        }
       ],
       "padding": 1,
       "scales": [
        {
         "domain": {
          "data": "tree",
          "field": "depth"
         },
         "name": "color",
         "range": {
          "scheme": "magma"
         },
         "type": "linear",
         "zero": true
        }
       ],
       "signals": [
        {
         "bind": {
          "input": "checkbox"
         },
         "name": "labels",
         "value": true
        },
        {
         "bind": {
          "input": "radio",
          "options": [
           "tidy",
           "cluster"
          ]
         },
         "name": "layout",
         "value": "tidy"
        },
        {
         "bind": {
          "input": "select",
          "options": [
           "line",
           "curve",
           "diagonal",
           "orthogonal"
          ]
         },
         "name": "links",
         "value": "orthogonal"
        },
        {
         "bind": {
          "input": "checkbox"
         },
         "name": "separation",
         "value": true
        }
       ],
       "width": 600
      },
      "image/png": "[encoded data removed]",
      "image/svg+xml": [
       "<?xml version=\"1.0\" encoding=\"utf-8\"?>\n",
       "<!DOCTYPE svg PUBLIC \"-//W3C//DTD SVG 1.1//EN\" \"http://www.w3.org/Graphics/SVG/1.1/DTD/svg11.dtd\">\n",
       "<svg class=\"marks\" width=\"643\" height=\"802\" viewBox=\"0 0 643 802\" version=\"1.1\" xmlns=\"http://www.w3.org/2000/svg\" xmlns:xlink=\"http://www.w3.org/1999/xlink\"><g fill=\"none\" stroke-miterlimit=\"10\" transform=\"translate(42,1)\"><g class=\"mark-group role-frame root\" role=\"graphics-object\" aria-roledescription=\"group mark container\"><g transform=\"translate(0,0)\"><path class=\"background\" aria-hidden=\"true\" d=\"M0,0h600v800h-600Z\"></path><g><g class=\"mark-path role-mark\" role=\"graphics-symbol\" aria-roledescription=\"path mark container\"><path transform=\"translate(0,0)\" d=\"M0,296.2962962962963V88.88888888888889H166.66666666666666\" stroke=\"#ccc\"></path><path transform=\"translate(0,0)\" d=\"M0,296.2962962962963V148.14814814814815H166.66666666666666\" stroke=\"#ccc\"></path><path transform=\"translate(0,0)\" d=\"M0,296.2962962962963V503.7037037037037H166.66666666666666\" stroke=\"#ccc\"></path><path transform=\"translate(0,0)\" d=\"M166.66666666666666,148.14814814814815V59.25925925925926H333.3333333333333\" stroke=\"#ccc\"></path><path transform=\"translate(0,0)\" d=\"M166.66666666666666,148.14814814814815V118.51851851851852H333.3333333333333\" stroke=\"#ccc\"></path><path transform=\"translate(0,0)\" d=\"M166.66666666666666,148.14814814814815V177.77777777777777H333.3333333333333\" stroke=\"#ccc\"></path><path transform=\"translate(0,0)\" d=\"M166.66666666666666,148.14814814814815V237.03703703703704H333.3333333333333\" stroke=\"#ccc\"></path><path transform=\"translate(0,0)\" d=\"M166.66666666666666,503.7037037037037V355.55555555555554H333.3333333333333\" stroke=\"#ccc\"></path><path transform=\"translate(0,0)\" d=\"M166.66666666666666,503.7037037037037V503.7037037037037H333.3333333333333\" stroke=\"#ccc\"></path><path transform=\"translate(0,0)\" d=\"M166.66666666666666,503.7037037037037V651.8518518518518H333.3333333333333\" stroke=\"#ccc\"></path><path transform=\"translate(0,0)\" d=\"M333.3333333333333,355.55555555555554V266.6666666666667H500\" stroke=\"#ccc\"></path><path transform=\"translate(0,0)\" d=\"M333.3333333333333,355.55555555555554V325.9259259259259H500\" stroke=\"#ccc\"></path><path transform=\"translate(0,0)\" d=\"M333.3333333333333,355.55555555555554V385.18518518518516H500\" stroke=\"#ccc\"></path><path transform=\"translate(0,0)\" d=\"M333.3333333333333,355.55555555555554V444.44444444444446H500\" stroke=\"#ccc\"></path><path transform=\"translate(0,0)\" d=\"M333.3333333333333,651.8518518518518V562.9629629629629H500\" stroke=\"#ccc\"></path><path transform=\"translate(0,0)\" d=\"M333.3333333333333,651.8518518518518V622.2222222222222H500\" stroke=\"#ccc\"></path><path transform=\"translate(0,0)\" d=\"M333.3333333333333,651.8518518518518V681.4814814814815H500\" stroke=\"#ccc\"></path><path transform=\"translate(0,0)\" d=\"M333.3333333333333,651.8518518518518V740.7407407407408H500\" stroke=\"#ccc\"></path></g><g class=\"mark-symbol role-mark\" role=\"graphics-symbol\" aria-roledescription=\"symbol mark container\"><path transform=\"translate(0,296.2962962962963)\" d=\"M5,0A5,5,0,1,1,-5,0A5,5,0,1,1,5,0\" fill=\"rgb(0, 0, 4)\" stroke=\"#fff\"></path><path transform=\"translate(166.66666666666666,88.88888888888889)\" d=\"M5,0A5,5,0,1,1,-5,0A5,5,0,1,1,5,0\" fill=\"rgb(114, 31, 129)\" stroke=\"#fff\"></path><path transform=\"translate(166.66666666666666,148.14814814814815)\" d=\"M5,0A5,5,0,1,1,-5,0A5,5,0,1,1,5,0\" fill=\"rgb(114, 31, 129)\" stroke=\"#fff\"></path><path transform=\"translate(166.66666666666666,503.7037037037037)\" d=\"M5,0A5,5,0,1,1,-5,0A5,5,0,1,1,5,0\" fill=\"rgb(114, 31, 129)\" stroke=\"#fff\"></path><path transform=\"translate(333.3333333333333,59.25925925925926)\" d=\"M5,0A5,5,0,1,1,-5,0A5,5,0,1,1,5,0\" fill=\"rgb(241, 96, 93)\" stroke=\"#fff\"></path><path transform=\"translate(333.3333333333333,118.51851851851852)\" d=\"M5,0A5,5,0,1,1,-5,0A5,5,0,1,1,5,0\" fill=\"rgb(241, 96, 93)\" stroke=\"#fff\"></path><path transform=\"translate(333.3333333333333,177.77777777777777)\" d=\"M5,0A5,5,0,1,1,-5,0A5,5,0,1,1,5,0\" fill=\"rgb(241, 96, 93)\" stroke=\"#fff\"></path><path transform=\"translate(333.3333333333333,237.03703703703704)\" d=\"M5,0A5,5,0,1,1,-5,0A5,5,0,1,1,5,0\" fill=\"rgb(241, 96, 93)\" stroke=\"#fff\"></path><path transform=\"translate(333.3333333333333,355.55555555555554)\" d=\"M5,0A5,5,0,1,1,-5,0A5,5,0,1,1,5,0\" fill=\"rgb(241, 96, 93)\" stroke=\"#fff\"></path><path transform=\"translate(333.3333333333333,503.7037037037037)\" d=\"M5,0A5,5,0,1,1,-5,0A5,5,0,1,1,5,0\" fill=\"rgb(241, 96, 93)\" stroke=\"#fff\"></path><path transform=\"translate(333.3333333333333,651.8518518518518)\" d=\"M5,0A5,5,0,1,1,-5,0A5,5,0,1,1,5,0\" fill=\"rgb(241, 96, 93)\" stroke=\"#fff\"></path><path transform=\"translate(500,266.6666666666667)\" d=\"M5,0A5,5,0,1,1,-5,0A5,5,0,1,1,5,0\" fill=\"rgb(252, 253, 191)\" stroke=\"#fff\"></path><path transform=\"translate(500,325.9259259259259)\" d=\"M5,0A5,5,0,1,1,-5,0A5,5,0,1,1,5,0\" fill=\"rgb(252, 253, 191)\" stroke=\"#fff\"></path><path transform=\"translate(500,385.18518518518516)\" d=\"M5,0A5,5,0,1,1,-5,0A5,5,0,1,1,5,0\" fill=\"rgb(252, 253, 191)\" stroke=\"#fff\"></path><path transform=\"translate(500,444.44444444444446)\" d=\"M5,0A5,5,0,1,1,-5,0A5,5,0,1,1,5,0\" fill=\"rgb(252, 253, 191)\" stroke=\"#fff\"></path><path transform=\"translate(500,562.9629629629629)\" d=\"M5,0A5,5,0,1,1,-5,0A5,5,0,1,1,5,0\" fill=\"rgb(252, 253, 191)\" stroke=\"#fff\"></path><path transform=\"translate(500,622.2222222222222)\" d=\"M5,0A5,5,0,1,1,-5,0A5,5,0,1,1,5,0\" fill=\"rgb(252, 253, 191)\" stroke=\"#fff\"></path><path transform=\"translate(500,681.4814814814815)\" d=\"M5,0A5,5,0,1,1,-5,0A5,5,0,1,1,5,0\" fill=\"rgb(252, 253, 191)\" stroke=\"#fff\"></path><path transform=\"translate(500,740.7407407407408)\" d=\"M5,0A5,5,0,1,1,-5,0A5,5,0,1,1,5,0\" fill=\"rgb(252, 253, 191)\" stroke=\"#fff\"></path></g><g class=\"mark-text role-mark\" role=\"graphics-object\" aria-roledescription=\"text mark container\"><text text-anchor=\"end\" transform=\"translate(-7,299.2962962962963)\" font-family=\"sans-serif\" font-size=\"9px\" fill=\"#000\" opacity=\"1\">GROUP</text><text text-anchor=\"start\" transform=\"translate(173.66666666666666,91.88888888888889)\" font-family=\"sans-serif\" font-size=\"9px\" fill=\"#000\" opacity=\"1\">HEADER</text><text text-anchor=\"end\" transform=\"translate(159.66666666666666,151.14814814814815)\" font-family=\"sans-serif\" font-size=\"9px\" fill=\"#000\" opacity=\"1\">ATTRIBUTES</text><text text-anchor=\"end\" transform=\"translate(159.66666666666666,506.7037037037037)\" font-family=\"sans-serif\" font-size=\"9px\" fill=\"#000\" opacity=\"1\">DATASET</text><text text-anchor=\"start\" transform=\"translate(340.3333333333333,62.25925925925926)\" font-family=\"sans-serif\" font-size=\"9px\" fill=\"#000\" opacity=\"1\">NAME</text><text text-anchor=\"start\" transform=\"translate(340.3333333333333,121.51851851851852)\" font-family=\"sans-serif\" font-size=\"9px\" fill=\"#000\" opacity=\"1\">DATATYTPE</text><text text-anchor=\"start\" transform=\"translate(340.3333333333333,180.77777777777777)\" font-family=\"sans-serif\" font-size=\"9px\" fill=\"#000\" opacity=\"1\">DATASPACE</text><text text-anchor=\"start\" transform=\"translate(340.3333333333333,240.03703703703704)\" font-family=\"sans-serif\" font-size=\"9px\" fill=\"#000\" opacity=\"1\">DATA</text><text text-anchor=\"end\" transform=\"translate(326.3333333333333,358.55555555555554)\" font-family=\"sans-serif\" font-size=\"9px\" fill=\"#000\" opacity=\"1\">HEADER</text><text text-anchor=\"start\" transform=\"translate(340.3333333333333,506.7037037037037)\" font-family=\"sans-serif\" font-size=\"9px\" fill=\"#000\" opacity=\"1\">DATA ARRAY</text><text text-anchor=\"end\" transform=\"translate(326.3333333333333,654.8518518518518)\" font-family=\"sans-serif\" font-size=\"9px\" fill=\"#000\" opacity=\"1\">ATTRIBUTES</text><text text-anchor=\"start\" transform=\"translate(507,269.6666666666667)\" font-family=\"sans-serif\" font-size=\"9px\" fill=\"#000\" opacity=\"1\">NAME</text><text text-anchor=\"start\" transform=\"translate(507,328.9259259259259)\" font-family=\"sans-serif\" font-size=\"9px\" fill=\"#000\" opacity=\"1\">DATATYPE</text><text text-anchor=\"start\" transform=\"translate(507,388.18518518518516)\" font-family=\"sans-serif\" font-size=\"9px\" fill=\"#000\" opacity=\"1\">DATASPACE</text><text text-anchor=\"start\" transform=\"translate(507,447.44444444444446)\" font-family=\"sans-serif\" font-size=\"9px\" fill=\"#000\" opacity=\"1\">STORAGE LAYOUT</text><text text-anchor=\"start\" transform=\"translate(507,565.9629629629629)\" font-family=\"sans-serif\" font-size=\"9px\" fill=\"#000\" opacity=\"1\">NAME</text><text text-anchor=\"start\" transform=\"translate(507,625.2222222222222)\" font-family=\"sans-serif\" font-size=\"9px\" fill=\"#000\" opacity=\"1\">DATATYTPE</text><text text-anchor=\"start\" transform=\"translate(507,684.4814814814815)\" font-family=\"sans-serif\" font-size=\"9px\" fill=\"#000\" opacity=\"1\">DATASPACE</text><text text-anchor=\"start\" transform=\"translate(507,743.7407407407408)\" font-family=\"sans-serif\" font-size=\"9px\" fill=\"#000\" opacity=\"1\">DATA</text></g></g><path class=\"foreground\" aria-hidden=\"true\" d=\"\" display=\"none\"></path></g></g></g></svg>\n"
      ],
      "text/plain": [
       "@vgplot(\n",
       "    height=800,\n",
       "    padding=1,\n",
       "    marks=[\n",
       "        {\n",
       "            encode={\n",
       "                update={\n",
       "                    stroke={\n",
       "                        value=\"#ccc\"\n",
       "                    },\n",
       "                    path={\n",
       "                        field=\"path\"\n",
       "                    }\n",
       "                }\n",
       "            },\n",
       "            from={\n",
       "                data=\"links\"\n",
       "            },\n",
       "            type=\"path\"\n",
       "        },\n",
       "        {\n",
       "            encode={\n",
       "                update={\n",
       "                    x={\n",
       "                        field=\"x\"\n",
       "                    },\n",
       "                    fill={\n",
       "                        field=\"depth\",\n",
       "                        scale=\"color\"\n",
       "                    },\n",
       "                    y={\n",
       "                        field=\"y\"\n",
       "                    }\n",
       "                },\n",
       "                enter={\n",
       "                    stroke={\n",
       "                        value=\"#fff\"\n",
       "                    },\n",
       "                    size={\n",
       "                        value=100\n",
       "                    }\n",
       "                }\n",
       "            },\n",
       "            from={\n",
       "                data=\"tree\"\n",
       "            },\n",
       "            type=\"symbol\"\n",
       "        },\n",
       "        {\n",
       "            encode={\n",
       "                update={\n",
       "                    align={\n",
       "                        signal=\"datum.children ? 'right' : 'left'\"\n",
       "                    },\n",
       "                    x={\n",
       "                        field=\"x\"\n",
       "                    },\n",
       "                    dx={\n",
       "                        signal=\"datum.children ? -7 : 7\"\n",
       "                    },\n",
       "                    opacity={\n",
       "                        signal=\"labels ? 1 : 0\"\n",
       "                    },\n",
       "                    y={\n",
       "                        field=\"y\"\n",
       "                    }\n",
       "                },\n",
       "                enter={\n",
       "                    fontSize={\n",
       "                        value=9\n",
       "                    },\n",
       "                    text={\n",
       "                        field=\"name\"\n",
       "                    },\n",
       "                    baseline={\n",
       "                        value=\"middle\"\n",
       "                    }\n",
       "                }\n",
       "            },\n",
       "            from={\n",
       "                data=\"tree\"\n",
       "            },\n",
       "            type=\"text\"\n",
       "        }\n",
       "    ],\n",
       "    data=[\n",
       "        {\n",
       "            name=\"tree\",\n",
       "            values=...,\n",
       "            transform=[\n",
       "                {\n",
       "                    key=\"id\",\n",
       "                    parentKey=\"parent\",\n",
       "                    type=\"stratify\"\n",
       "                },\n",
       "                {\n",
       "                    method={\n",
       "                        signal=\"layout\"\n",
       "                    },\n",
       "                    separation={\n",
       "                        signal=\"separation\"\n",
       "                    },\n",
       "                    as=[\n",
       "                        \"y\",\n",
       "                        \"x\",\n",
       "                        \"depth\",\n",
       "                        \"children\"\n",
       "                    ],\n",
       "                    size=[\n",
       "                        {\n",
       "                            signal=\"height\"\n",
       "                        },\n",
       "                        {\n",
       "                            signal=\"width - 100\"\n",
       "                        }\n",
       "                    ],\n",
       "                    type=\"tree\"\n",
       "                }\n",
       "            ]\n",
       "        },\n",
       "        {\n",
       "            name=\"links\",\n",
       "            source=\"tree\",\n",
       "            transform=[\n",
       "                {\n",
       "                    type=\"treelinks\"\n",
       "                },\n",
       "                {\n",
       "                    shape={\n",
       "                        signal=\"links\"\n",
       "                    },\n",
       "                    type=\"linkpath\",\n",
       "                    orient=\"horizontal\"\n",
       "                }\n",
       "            ]\n",
       "        }\n",
       "    ],\n",
       "    scales=[\n",
       "        {\n",
       "            name=\"color\",\n",
       "            zero=true,\n",
       "            range={\n",
       "                scheme=\"magma\"\n",
       "            },\n",
       "            domain={\n",
       "                data=\"tree\",\n",
       "                field=\"depth\"\n",
       "            },\n",
       "            type=\"linear\"\n",
       "        }\n",
       "    ],\n",
       "    width=600,\n",
       "    signals=[\n",
       "        {\n",
       "            name=\"labels\",\n",
       "            bind={\n",
       "                input=\"checkbox\"\n",
       "            },\n",
       "            value=true\n",
       "        },\n",
       "        {\n",
       "            name=\"layout\",\n",
       "            bind={\n",
       "                options=[\n",
       "                    \"tidy\",\n",
       "                    \"cluster\"\n",
       "                ],\n",
       "                input=\"radio\"\n",
       "            },\n",
       "            value=\"tidy\"\n",
       "        },\n",
       "        {\n",
       "            name=\"links\",\n",
       "            bind={\n",
       "                options=[\n",
       "                    \"line\",\n",
       "                    \"curve\",\n",
       "                    \"diagonal\",\n",
       "                    \"orthogonal\"\n",
       "                ],\n",
       "                input=\"select\"\n",
       "            },\n",
       "            value=\"orthogonal\"\n",
       "        },\n",
       "        {\n",
       "            name=\"separation\",\n",
       "            bind={\n",
       "                input=\"checkbox\"\n",
       "            },\n",
       "            value=true\n",
       "        }\n",
       "    ]\n",
       ")"
      ]
     },
     "execution_count": 5,
     "metadata": {},
     "output_type": "execute_result"
    }
   ],
   "source": [
    "using CSV\n",
    "mylab = CSV.read(\"LABELS.txt\")\n",
    "using VegaLite\n",
    "@vgplot(\n",
    "    height=800,\n",
    "    padding=1,\n",
    "    marks=[\n",
    "        {\n",
    "            encode={\n",
    "                update={\n",
    "                    stroke={\n",
    "                        value=\"#ccc\"\n",
    "                    },\n",
    "                    path={\n",
    "                        field=\"path\"\n",
    "                    }\n",
    "                }\n",
    "            },\n",
    "            from={\n",
    "                data=\"links\"\n",
    "            },\n",
    "            type=\"path\"\n",
    "        },\n",
    "        {\n",
    "            encode={\n",
    "                update={\n",
    "                    x={\n",
    "                        field=\"x\"\n",
    "                    },\n",
    "                    fill={\n",
    "                        field=\"depth\",\n",
    "                        scale=\"color\"\n",
    "                    },\n",
    "                    y={\n",
    "                        field=\"y\"\n",
    "                    }\n",
    "                },\n",
    "                enter={\n",
    "                    stroke={\n",
    "                        value=\"#fff\"\n",
    "                    },\n",
    "                    size={\n",
    "                        value=100\n",
    "                    }\n",
    "                }\n",
    "            },\n",
    "            from={\n",
    "                data=\"tree\"\n",
    "            },\n",
    "            type=\"symbol\"\n",
    "        },\n",
    "        {\n",
    "            encode={\n",
    "                update={\n",
    "                    align={\n",
    "                        signal=\"datum.children ? 'right' : 'left'\"\n",
    "                    },\n",
    "                    x={\n",
    "                        field=\"x\"\n",
    "                    },\n",
    "                    dx={\n",
    "                        signal=\"datum.children ? -7 : 7\"\n",
    "                    },\n",
    "                    opacity={\n",
    "                        signal=\"labels ? 1 : 0\"\n",
    "                    },\n",
    "                    y={\n",
    "                        field=\"y\"\n",
    "                    }\n",
    "                },\n",
    "                enter={\n",
    "                    fontSize={\n",
    "                        value=9\n",
    "                    },\n",
    "                    text={\n",
    "                        field=\"name\"\n",
    "                    },\n",
    "                    baseline={\n",
    "                        value=\"middle\"\n",
    "                    }\n",
    "                }\n",
    "            },\n",
    "            from={\n",
    "                data=\"tree\"\n",
    "            },\n",
    "            type=\"text\"\n",
    "        }\n",
    "    ],\n",
    "    data=[\n",
    "        {\n",
    "            name=\"tree\",\n",
    "            values=mylab,\n",
    "            transform=[\n",
    "                {\n",
    "                    key=\"id\",\n",
    "                    parentKey=\"parent\",\n",
    "                    type=\"stratify\"\n",
    "                },\n",
    "                {\n",
    "                    method={\n",
    "                        signal=\"layout\"\n",
    "                    },\n",
    "                    separation={\n",
    "                        signal=\"separation\"\n",
    "                    },\n",
    "                    as=[\n",
    "                        \"y\",\n",
    "                        \"x\",\n",
    "                        \"depth\",\n",
    "                        \"children\"\n",
    "                    ],\n",
    "                    size=[\n",
    "                        {\n",
    "                            signal=\"height\"\n",
    "                        },\n",
    "                        {\n",
    "                            signal=\"width - 100\"\n",
    "                        }\n",
    "                    ],\n",
    "                    type=\"tree\"\n",
    "                }\n",
    "            ]\n",
    "        },\n",
    "        {\n",
    "            name=\"links\",\n",
    "            source=\"tree\",\n",
    "            transform=[\n",
    "                {\n",
    "                    type=\"treelinks\"\n",
    "                },\n",
    "                {\n",
    "                    shape={\n",
    "                        signal=\"links\"\n",
    "                    },\n",
    "                    type=\"linkpath\",\n",
    "                    orient=\"horizontal\"\n",
    "                }\n",
    "            ]\n",
    "        }\n",
    "    ],\n",
    "    scales=[\n",
    "        {\n",
    "            name=\"color\",\n",
    "            zero=true,\n",
    "            range={\n",
    "                scheme=\"magma\"\n",
    "            },\n",
    "            domain={\n",
    "                data=\"tree\",\n",
    "                field=\"depth\"\n",
    "            },\n",
    "            type=\"linear\"\n",
    "        }\n",
    "    ],\n",
    "    width=600,\n",
    "    signals=[\n",
    "        {\n",
    "            name=\"labels\",\n",
    "            bind={\n",
    "                input=\"checkbox\"\n",
    "            },\n",
    "            value=true\n",
    "        },\n",
    "        {\n",
    "            name=\"layout\",\n",
    "            bind={\n",
    "                options=[\n",
    "                    \"tidy\",\n",
    "                    \"cluster\"\n",
    "                ],\n",
    "                input=\"radio\"\n",
    "            },\n",
    "            value=\"tidy\"\n",
    "        },\n",
    "        {\n",
    "            name=\"links\",\n",
    "            bind={\n",
    "                options=[\n",
    "                    \"line\",\n",
    "                    \"curve\",\n",
    "                    \"diagonal\",\n",
    "                    \"orthogonal\"\n",
    "                ],\n",
    "                input=\"select\"\n",
    "            },\n",
    "            value=\"orthogonal\"\n",
    "        },\n",
    "        {\n",
    "            name=\"separation\",\n",
    "            bind={\n",
    "                input=\"checkbox\"\n",
    "            },\n",
    "            value=true\n",
    "        }\n",
    "    ]\n",
    ")"
   ]
  },
  {
   "cell_type": "code",
   "execution_count": 3,
   "metadata": {},
   "outputs": [
    {
     "name": "stderr",
     "output_type": "stream",
     "text": [
      "┌ Info: Precompiling VegaLite [112f6efa-9a02-5b7d-90c0-432ed331239a]\n",
      "└ @ Base loading.jl:1278\n"
     ]
    }
   ],
   "source": []
  },
  {
   "cell_type": "code",
   "execution_count": 4,
   "metadata": {},
   "outputs": [
    {
     "ename": "LoadError",
     "evalue": "ArgumentError: Package VegaDatasets not found in current path:\n- Run `import Pkg; Pkg.add(\"VegaDatasets\")` to install the VegaDatasets package.\n",
     "output_type": "error",
     "traceback": [
      "ArgumentError: Package VegaDatasets not found in current path:\n- Run `import Pkg; Pkg.add(\"VegaDatasets\")` to install the VegaDatasets package.\n",
      "",
      "Stacktrace:",
      " [1] require(::Module, ::Symbol) at .\\loading.jl:893",
      " [2] include_string(::Function, ::Module, ::String, ::String) at .\\loading.jl:1091"
     ]
    }
   ],
   "source": []
  },
  {
   "cell_type": "markdown",
   "metadata": {},
   "source": [
    "## gruppi\n",
    "\n",
    "un gruppo hdf5 è una struttura contenente 0 o + oggetti\n",
    "\n",
    "ogni gruppo contiene 2 parti: \n",
    "\n",
    "1. header: contiene nome gruppo, lista di attributi del gruppo\n",
    "\n",
    "2. tabella simboli: lista tutti gli oggetti hdf5 appartenenti al gruppo\n",
    "    \n",
    "gerarchia gruppi/membri è simile a directory/file e path in UNIX:\n",
    "\n",
    "/ <- indica gruppo root\n",
    "\n",
    "/foo <- indica membro foo del gruppo root\n",
    "\n",
    "/foo/loo <- indica membro loo del gruppo foo, il gruppo foo è membro del gruppo root\n",
    "    \n",
    "## dataset\n",
    "\n",
    "dataset sono array multidimensionali di dati con metadati annessi, un dataset è immagazzinato in due parti: header e data array\n",
    "\n",
    "### dataset header\n",
    "\n",
    "contiene informazioni necessarie all interpretazione della porzione array del dataset e metadati(o puntatori a metadati)  che descrivano o annotino il dataset.\n",
    "\n",
    "informazioni nell'header includono: nome dell oggetto, dimensioni oggetto, number-type dell oggetto, info su come i dati stessi sono salvati a disco e ** altre informazioni usate dalla lib per velocizzare accesso dati ** o garantirne integrità\n",
    "\n",
    "ci son 4 classi di info in ogni header:\n",
    "\n",
    "1. nome <- sequenza di caratteri ascii alfanumerici\n",
    "2. datatype <- descrive disposizione specifica dei bit del dataset, è immutabile, ci sono due categorie di datatype: dt atomico e dt composto\n",
    "    \n",
    "    1. datatype atomico: ogni datatype atomico appartiene a una determinata classe e possiede determinate caratteristiche come dimensioni, ordine, precisione e offset. ** documento considera solo alcune di queste caratteristiche **\n",
    "        classi atomiche includono integer, float, data/ora, string, bit field, opaque. \n",
    "        proprietà integer includono dimensioni, endianità, firmatura(se il dato è stato firmato o no).\n",
    "        proprietà float includono dimensioni e locazione di esponente e mantissa, locazione bit di segno.\n",
    "        maggior parte delle app usano datatype predefiniti supportati dai loro compilatori, questi dt sono chiamati datatype nativi per aumentare portabilità, app dovrebbero quasi sempre usare la designazione NATIVE per descrivere valori dato in memoria. \n",
    "        architettura nativa ha nomi base che non seguono le stesse regole degli altri, nomi di tipi nativi sono simili a nomi di tipo in C\n",
    "    \n",
    " 2. datatype composti: collection di dt semplici, rappresentati in unità singola (simile a struct in C).\n",
    "    parti di un dt composto si chiamano membri, i membri di un dt composto posson esser di qualsiasi dt, incluso altro dt composto. $ \\grave{E} $ possibile lettura singola di un membro senza leggere il resto del dt composto.\n",
    "    in genere ogni dataset ha il proprio datatype ma si può usare un named datatype per condividere datatype tra + dataset.\n",
    "    named dt è immagazzinato nel file indipendentemente da ogni dataset ed è referenziato da ogni dataset che seguono quel tipo.\n",
    "    named dt possono avere una lista attributi\n",
    "    NB: named datatype => committed datatype, han cambiato terminologia\n",
    "    @ hdf5 user guide https://portal.hdfgroup.org/display/HDF5/HDF5+User+Guides p18, p173+\n",
    "    \n",
    "\n",
    "3. dataspace <- descrive dimensionalità del dataset, le dimensioni di un dataset possono essere fisse o illimitate (quindi estendibili), è una lista di dimensioni con le grandezze correnti e massime(se dataset illimitato gradezza massima è settata al valore dato dalla variabile interna H5P_UNLIMITED), contiene anche rango(numero di dimensioni) del data array.\n",
    "    dataspace può definire partizioni dati per poter svolgere operazioni di i/o solo su parti selezionate.\n",
    "    dato un dataset n-dimensionale si possono fare selezioni parziali in 4 modi: \n",
    "        1. selezionando hyperslab n-dimensionali logicamente contigui, \n",
    "        2. seleziona hyperslab non logicamente contigui consistenti di blocchi d elementi(hyperslab) equidistanti, \n",
    "        3. seleziona un unione di hyperslab, \n",
    "        4. seleziona lista di punti indipendenti\n",
    "    hyperslab: hyperslab in hdf5 è un pattern rettangolare definito da 4 array  \n",
    "    vedi anche http://davis.lbl.gov/Manuals/HDF5-1.8.7/UG/12_Dataspaces.html         \n",
    "    https://support.hdfgroup.org/HDF5/Tutor/select.html per tutorial\n",
    "    \n",
    "| Parametro\t| Descrizione |\n",
    "|---|---|\n",
    "| Offset\t| The starting location for the hyperslab.| \n",
    "| Stride\t| The number of elements to separate each element or block to be selected.| \n",
    "| Count\t| The number of elements or blocks to select along each dimension.| \n",
    "| Block\t| The size of the block selected from the dataspace.| \n",
    "    \n",
    "4. storage layout <- continuo per default (salvato linearmente allo stesso modo di come viene organizzato in memoria)\n",
    "    esistono 2 altri layout definit al momento in hdf5: \n",
    "    1. compact: usato quaqndo l'ammontare di dati è piccolo da poter esser immagazzinato direttamente nell'object header\n",
    "    2. chunked: divisione del dataset in pezzi equidimensionali salvati separatamente, ha tre benefici:         \n",
    "        1. permette buona performance quando si accede a sottoinsiemi dei dataset, anche quando sottoinsieme da sciegliere è ortogonale al normale accesso del dataset.\n",
    "        2. permette di comprimere dataset grandi pur mantenendo buone prestazioni quando si accede a parti del dataset\n",
    "        3. permette di aumentare efficientemente le dimensioni del dataset in ogni direzione\n",
    "\n",
    "            \n",
    "## attributi HDF5\n",
    "\n",
    "un attributo hdf5 è un piccolo dataset con nome che può essere allegato a dataset primari, gruppi o named datatype\n",
    "è un piccolo oggetto di metadati che descrive natura o uso previsto di un oggetto dati primario.\n",
    "è diviso in due parti: nome, value(che contiene data entry dello stesso data type)\n",
    "\n",
    "gli attribvuti son assunti molto piccoli quindi son sempre  storati nell'header dell oggetto a cui si riferiscono. attributi hdf5 sono quindi gestiti tramite interfaccia di attribuyti speciale: H5A, ideata per allegare facilmente attributi a data obj primary come dataset di metadati e a minimizzare requisiti di storaggio.\n",
    "attributi, per l'accesso, possono essere identificati tramite nome o indice. uso di indice permette di iterare tutti gli attributi di un determinato data object.     \n",
    "     \n",
    "   \n",
    "    \n",
    "\n",
    "\n",
    "\n"
   ]
  },
  {
   "cell_type": "markdown",
   "metadata": {},
   "source": [
    "++ sunto contenuto prodotti dei 3 livelli del prisma http://prisma-i.it/index.php/en/data-access/89-data-access/115-prisma-data-access-description "
   ]
  },
  {
   "cell_type": "markdown",
   "metadata": {},
   "source": [
    "# hdf-eos5\n",
    "hdf-eos5 è un estensione a hdf che stabilisce standard per storare dati eos(earth observing system) ed aggiunge 4 datatypes\n",
    "ogni datatype nuyovo è combinazione di datatype hdf5 standard ed è  servito da una api propria.\n",
    "la libreria hdf-eos5 è la somma di queste API\n",
    "\n",
    "EDF-EOS5 estende HDF5 dando le seguenti features:\n",
    "\n",
    "1. un modo per immagazzinare dati geolocati in remote sensing missions definendo 4 datatipi nuovi composti di oggetti hdf5 standard:\n",
    "    1. Point interface: per dati con informazioni geolocate annesse ma che non hanno organizzazione spaziale o temporale ben definita\n",
    "    2. Swath interface: per data ordinata nel tempo come satellite swath(serie di scanlines ordinate nel tempo) o profilers\n",
    "    3. Grid interface: per dati organizzati in maniera rettilinea su proiezione ben definita e supportata esplicitamente\n",
    "    4. Zonal Average interface: per dati non associati a informazioni geolocate specifiche\n",
    "\n",
    "2. un modo per fornire servizi di search su tutto il sistema: software di operazione scrive metadati speciali che riassumono informazioni spaziotemporali, qualità e stato di produzione dei dati prodotti. \n",
    "    l'insieme completo dei metadati è scritto nei file prodotto in un attributo globale come blocco testo continuo. ovvero i vari campi non son scritti come attributi singoli ma il totale di tutti i campi è scritto come singolo attributo\n",
    "    \n",
    "3. 4 nuovi tipi di attributo\n",
    "    1. attributi globali: si riferiscono a tutto il contenuto del file hdf5\n",
    "    2. attributi oggetto: si riferiscono ad un oggetto specifico\n",
    "    3. attributi gruppo: si riferiscono ad un gruppo specifico\n",
    "    4. attributi locali: sono attributi di campo riferiti a un campo dati (data field)\n",
    "    \n",
    "## datatipo Swath\n",
    "\n",
    "il PRISMA  cattura immagini in maniera pushbroom raccogliendo informazioni(scan lines) ordinate temporalmente su un campo di vista che si muove lungo una direzione(traccia) perpendicolare alle scan line stesse.\n",
    "il dt swath è ideato per storare informazioni di questo tipo quindi il livello1 usa questo dt per raccogliere esprimere dati\n",
    "\n",
    "lo scopo del dt swath è il mappare dati scientifdici a punti specifici sulla superficie della terra. lo swath consiste di 4 parti: \n",
    "\n",
    "1. data fields: parte principale degli swath dal punto di vista scientifico. contengono generamente dati grezzi (spesso contatori) presi dal sensore o parametri derivati da quei dati su base personale del valore. tutti gli altri dati dello swath servono o a fornire informazioni su data field o a supportare particolari tipi di accesso ad essi. sono generalmente array con 1-8 dimensioni, in genere 2. possono essere in qualsiasi tipo di C\n",
    "2. campi di geolocazione: permettono allo swath di essere localizzato precisamente rispetto alla supoerfice della terra. per far ciò l'iterfaccia swath richiede la presenza di coppie di campi longitudinali/latitudinali (\"Latitude\" e “Longitude”), questi campi possono essere in una o due dimensioni ed avere qualiasi tipo\n",
    "3. dimensioni: le dimensioni definiscono gli assi deicampi dati e geolocazione dandogli nome e grandezze. ogni asse di ogni campo dati/geoloc deve quindi avere un campo dimensione associato\n",
    "4. mappe di dimensione: definiscono, uno a uno, la relazione tra ogni dimensione di ogni campo geoloc con la dimensione corrispettiva in ogni campo dati. quando le dimenisoni di dati e geoloc differiscono, la relazione tra essi è definita da campi offset e increment\n",
    "\n",
    "in hdf-eos5 è anche supportata la spezzettatura degli swath, cosa necessaria alla definizione di swath estendibili"
   ]
  },
  {
   "cell_type": "markdown",
   "metadata": {},
   "source": [
    "\n",
    "\n",
    "++ toolkit hdf eos : https://hdfeos.org/software/library.php"
   ]
  },
  {
   "cell_type": "markdown",
   "metadata": {},
   "source": [
    "++ intro a hdf5 http://davis.lbl.gov/Manuals/HDF5-1.8.7/H5.intro.html"
   ]
  },
  {
   "cell_type": "code",
   "execution_count": null,
   "metadata": {},
   "outputs": [],
   "source": []
  }
 ],
 "metadata": {
  "kernelspec": {
   "display_name": "Julia 1.5.1",
   "language": "julia",
   "name": "julia-1.5"
  },
  "language_info": {
   "file_extension": ".jl",
   "mimetype": "application/julia",
   "name": "julia",
   "version": "1.5.1"
  }
 },
 "nbformat": 4,
 "nbformat_minor": 4
}
