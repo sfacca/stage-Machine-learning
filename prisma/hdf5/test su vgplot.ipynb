{
 "cells": [
  {
   "cell_type": "markdown",
   "metadata": {},
   "source": [
    "# Test su vgplot"
   ]
  },
  {
   "cell_type": "code",
   "execution_count": 5,
   "metadata": {},
   "outputs": [
    {
     "name": "stderr",
     "output_type": "stream",
     "text": [
      "\u001b[32m\u001b[1m Activating\u001b[22m\u001b[39m new environment at `C:\\Users\\i am\\Documents\\GitHub\\stage-Machine-learning\\prisma\\hdf5\\Project.toml`\n",
      "\u001b[32m\u001b[1m   Updating\u001b[22m\u001b[39m registry at `C:\\Users\\i am\\.julia\\registries\\General`\n",
      "\u001b[32m\u001b[1mNo Changes\u001b[22m\u001b[39m to `C:\\Users\\i am\\Documents\\GitHub\\stage-Machine-learning\\prisma\\hdf5\\Project.toml`\n",
      "\u001b[32m\u001b[1mNo Changes\u001b[22m\u001b[39m to `C:\\Users\\i am\\Documents\\GitHub\\stage-Machine-learning\\prisma\\hdf5\\Manifest.toml`\n"
     ]
    }
   ],
   "source": [
    "using Pkg\n",
    "Pkg.activate(\".\")\n",
    "Pkg.instantiate()"
   ]
  },
  {
   "cell_type": "code",
   "execution_count": 12,
   "metadata": {},
   "outputs": [
    {
     "name": "stderr",
     "output_type": "stream",
     "text": [
      "\u001b[32m\u001b[1m  Resolving\u001b[22m\u001b[39m package versions...\n",
      "\u001b[32m\u001b[1mNo Changes\u001b[22m\u001b[39m to `C:\\Users\\i am\\.julia\\environments\\v1.5\\Project.toml`\n",
      "\u001b[32m\u001b[1mNo Changes\u001b[22m\u001b[39m to `C:\\Users\\i am\\.julia\\environments\\v1.5\\Manifest.toml`\n",
      "\u001b[32m\u001b[1m  Resolving\u001b[22m\u001b[39m package versions...\n",
      "\u001b[32m\u001b[1mNo Changes\u001b[22m\u001b[39m to `C:\\Users\\i am\\.julia\\environments\\v1.5\\Project.toml`\n",
      "\u001b[32m\u001b[1mNo Changes\u001b[22m\u001b[39m to `C:\\Users\\i am\\.julia\\environments\\v1.5\\Manifest.toml`\n"
     ]
    }
   ],
   "source": [
    "using VegaLite\n",
    "using DataFrames"
   ]
  },
  {
   "cell_type": "markdown",
   "metadata": {},
   "source": [
    "La matrice @vgplot del pacchetto vegalite prende in ingresso un dato sotto forma simile a un JSON che serve a definire forma struttura e dati del grafo da generare.  \n",
    "\n",
    "+ height::int = altezza grafico ottenuto  \n",
    "+ marks::array di {encode,from,type} = attributi grafici del grafico\n",
    "  un blocco {encode, from, type} rappresenta un elemento del grafico  \n",
    " + type = path rappresenta le linee che collegano i vari nodi  \n",
    " + type = symbol da una rappresentazione grafica al nodo stesso  \n",
    " + type = text è il testo scritto sul nodo\n",
    "+ data::array di insiemi di coppie nome valore = ogni elemento di data rappresenta una caratteristica da rappresentare\n",
    "   ogni elemento presenta un nome (usato dai marks per prendere dati con il loro campo from), dei dati (anche referenziati), e può avere una trasformazione da applicare ad essi\n",
    "+ singals = è un insieme di definizioni di caratteristicher che possoon essere delle enumerazioni, per poi poter scambiare i valori a runtime\n",
    "    \n"
   ]
  },
  {
   "cell_type": "code",
   "execution_count": 17,
   "metadata": {},
   "outputs": [
    {
     "data": {
      "application/vnd.vega.v5+json": {
       "data": [
        {
         "name": "tree",
         "transform": [
          {
           "key": "id",
           "parentKey": "parent",
           "type": "stratify"
          },
          {
           "as": [
            "y",
            "x",
            "depth",
            "children"
           ],
           "method": {
            "signal": "layout"
           },
           "separation": {
            "signal": "separation"
           },
           "size": [
            {
             "signal": "height"
            },
            {
             "signal": "width - 100"
            }
           ],
           "type": "tree"
          }
         ],
         "values": [
          {
           "id": 1,
           "name": "GROUP",
           "parent": null
          },
          {
           "id": 2,
           "name": "HEADER",
           "parent": 1
          },
          {
           "id": 3,
           "name": "ATTRIBUTES",
           "parent": 1
          },
          {
           "id": 4,
           "name": "DATASET",
           "parent": 1
          },
          {
           "id": 5,
           "name": "NAME",
           "parent": 3
          },
          {
           "id": 6,
           "name": "DATATYTPE",
           "parent": 3
          },
          {
           "id": 7,
           "name": "DATASPACE",
           "parent": 3
          },
          {
           "id": 8,
           "name": "DATA",
           "parent": 3
          },
          {
           "id": 9,
           "name": "HEADER",
           "parent": 4
          },
          {
           "id": 10,
           "name": "DATA ARRAY",
           "parent": 4
          },
          {
           "id": 11,
           "name": "ATTRIBUTES",
           "parent": 4
          },
          {
           "id": 12,
           "name": "NAME",
           "parent": 9
          },
          {
           "id": 13,
           "name": "DATATYPE",
           "parent": 9
          },
          {
           "id": 14,
           "name": "DATASPACE",
           "parent": 9
          },
          {
           "id": 15,
           "name": "STORAGE LAYOUT",
           "parent": 9
          },
          {
           "id": 16,
           "name": "NAME",
           "parent": 11
          },
          {
           "id": 17,
           "name": "DATATYTPE",
           "parent": 11
          },
          {
           "id": 18,
           "name": "DATASPACE",
           "parent": 11
          },
          {
           "id": 19,
           "name": "DATA",
           "parent": 11
          }
         ]
        },
        {
         "name": "links",
         "source": "tree",
         "transform": [
          {
           "type": "treelinks"
          },
          {
           "orient": "horizontal",
           "shape": {
            "signal": "links"
           },
           "type": "linkpath"
          }
         ]
        }
       ],
       "height": 800,
       "marks": [
        {
         "encode": {
          "update": {
           "path": {
            "field": "path"
           },
           "stroke": {
            "value": "#ccc"
           }
          }
         },
         "from": {
          "data": "links"
         },
         "type": "path"
        },
        {
         "encode": {
          "enter": {
           "size": {
            "value": 100
           },
           "stroke": {
            "value": "#fff"
           }
          },
          "update": {
           "fill": {
            "field": "depth",
            "scale": "color"
           },
           "x": {
            "field": "x"
           },
           "y": {
            "field": "y"
           }
          }
         },
         "from": {
          "data": "tree"
         },
         "type": "symbol"
        },
        {
         "encode": {
          "enter": {
           "baseline": {
            "value": "middle"
           },
           "fontSize": {
            "value": 9
           },
           "text": {
            "field": "name"
           }
          },
          "update": {
           "align": {
            "signal": "'right'"
           },
           "dx": {
            "signal": "datum.children ? -7 : 7"
           },
           "opacity": 1,
           "x": {
            "field": "x"
           },
           "y": {
            "field": "y"
           }
          }
         },
         "from": {
          "data": "tree"
         },
         "type": "text"
        }
       ],
       "scales": [
        {
         "domain": {
          "data": "tree",
          "field": "depth"
         },
         "name": "color",
         "range": {
          "scheme": "magma"
         },
         "type": "linear",
         "zero": true
        }
       ],
       "signals": [
        {
         "bind": {
          "input": "checkbox"
         },
         "name": "labels",
         "value": true
        },
        {
         "bind": {
          "input": "radio",
          "options": [
           "tidy",
           "cluster"
          ]
         },
         "name": "layout",
         "value": "tidy"
        },
        {
         "bind": {
          "input": "select",
          "options": [
           "line",
           "curve",
           "diagonal",
           "orthogonal"
          ]
         },
         "name": "links",
         "value": "orthogonal"
        },
        {
         "bind": {
          "input": "checkbox"
         },
         "name": "separation",
         "value": true
        }
       ],
       "width": 600
      },
      "image/png": "[encoded data removed]",
      "image/svg+xml": [
       "<?xml version=\"1.0\" encoding=\"utf-8\"?>\n",
       "<!DOCTYPE svg PUBLIC \"-//W3C//DTD SVG 1.1//EN\" \"http://www.w3.org/Graphics/SVG/1.1/DTD/svg11.dtd\">\n",
       "<svg class=\"marks\" width=\"641\" height=\"800\" viewBox=\"0 0 641 800\" version=\"1.1\" xmlns=\"http://www.w3.org/2000/svg\" xmlns:xlink=\"http://www.w3.org/1999/xlink\"><g fill=\"none\" stroke-miterlimit=\"10\" transform=\"translate(41,0)\"><g class=\"mark-group role-frame root\" role=\"graphics-object\" aria-roledescription=\"group mark container\"><g transform=\"translate(0,0)\"><path class=\"background\" aria-hidden=\"true\" d=\"M0,0h600v800h-600Z\"></path><g><g class=\"mark-path role-mark\" role=\"graphics-symbol\" aria-roledescription=\"path mark container\"><path transform=\"translate(0,0)\" d=\"M0,296.2962962962963V88.88888888888889H166.66666666666666\" stroke=\"#ccc\"></path><path transform=\"translate(0,0)\" d=\"M0,296.2962962962963V148.14814814814815H166.66666666666666\" stroke=\"#ccc\"></path><path transform=\"translate(0,0)\" d=\"M0,296.2962962962963V503.7037037037037H166.66666666666666\" stroke=\"#ccc\"></path><path transform=\"translate(0,0)\" d=\"M166.66666666666666,148.14814814814815V59.25925925925926H333.3333333333333\" stroke=\"#ccc\"></path><path transform=\"translate(0,0)\" d=\"M166.66666666666666,148.14814814814815V118.51851851851852H333.3333333333333\" stroke=\"#ccc\"></path><path transform=\"translate(0,0)\" d=\"M166.66666666666666,148.14814814814815V177.77777777777777H333.3333333333333\" stroke=\"#ccc\"></path><path transform=\"translate(0,0)\" d=\"M166.66666666666666,148.14814814814815V237.03703703703704H333.3333333333333\" stroke=\"#ccc\"></path><path transform=\"translate(0,0)\" d=\"M166.66666666666666,503.7037037037037V355.55555555555554H333.3333333333333\" stroke=\"#ccc\"></path><path transform=\"translate(0,0)\" d=\"M166.66666666666666,503.7037037037037V503.7037037037037H333.3333333333333\" stroke=\"#ccc\"></path><path transform=\"translate(0,0)\" d=\"M166.66666666666666,503.7037037037037V651.8518518518518H333.3333333333333\" stroke=\"#ccc\"></path><path transform=\"translate(0,0)\" d=\"M333.3333333333333,355.55555555555554V266.6666666666667H500\" stroke=\"#ccc\"></path><path transform=\"translate(0,0)\" d=\"M333.3333333333333,355.55555555555554V325.9259259259259H500\" stroke=\"#ccc\"></path><path transform=\"translate(0,0)\" d=\"M333.3333333333333,355.55555555555554V385.18518518518516H500\" stroke=\"#ccc\"></path><path transform=\"translate(0,0)\" d=\"M333.3333333333333,355.55555555555554V444.44444444444446H500\" stroke=\"#ccc\"></path><path transform=\"translate(0,0)\" d=\"M333.3333333333333,651.8518518518518V562.9629629629629H500\" stroke=\"#ccc\"></path><path transform=\"translate(0,0)\" d=\"M333.3333333333333,651.8518518518518V622.2222222222222H500\" stroke=\"#ccc\"></path><path transform=\"translate(0,0)\" d=\"M333.3333333333333,651.8518518518518V681.4814814814815H500\" stroke=\"#ccc\"></path><path transform=\"translate(0,0)\" d=\"M333.3333333333333,651.8518518518518V740.7407407407408H500\" stroke=\"#ccc\"></path></g><g class=\"mark-symbol role-mark\" role=\"graphics-symbol\" aria-roledescription=\"symbol mark container\"><path transform=\"translate(0,296.2962962962963)\" d=\"M5,0A5,5,0,1,1,-5,0A5,5,0,1,1,5,0\" fill=\"rgb(0, 0, 4)\" stroke=\"#fff\"></path><path transform=\"translate(166.66666666666666,88.88888888888889)\" d=\"M5,0A5,5,0,1,1,-5,0A5,5,0,1,1,5,0\" fill=\"rgb(114, 31, 129)\" stroke=\"#fff\"></path><path transform=\"translate(166.66666666666666,148.14814814814815)\" d=\"M5,0A5,5,0,1,1,-5,0A5,5,0,1,1,5,0\" fill=\"rgb(114, 31, 129)\" stroke=\"#fff\"></path><path transform=\"translate(166.66666666666666,503.7037037037037)\" d=\"M5,0A5,5,0,1,1,-5,0A5,5,0,1,1,5,0\" fill=\"rgb(114, 31, 129)\" stroke=\"#fff\"></path><path transform=\"translate(333.3333333333333,59.25925925925926)\" d=\"M5,0A5,5,0,1,1,-5,0A5,5,0,1,1,5,0\" fill=\"rgb(241, 96, 93)\" stroke=\"#fff\"></path><path transform=\"translate(333.3333333333333,118.51851851851852)\" d=\"M5,0A5,5,0,1,1,-5,0A5,5,0,1,1,5,0\" fill=\"rgb(241, 96, 93)\" stroke=\"#fff\"></path><path transform=\"translate(333.3333333333333,177.77777777777777)\" d=\"M5,0A5,5,0,1,1,-5,0A5,5,0,1,1,5,0\" fill=\"rgb(241, 96, 93)\" stroke=\"#fff\"></path><path transform=\"translate(333.3333333333333,237.03703703703704)\" d=\"M5,0A5,5,0,1,1,-5,0A5,5,0,1,1,5,0\" fill=\"rgb(241, 96, 93)\" stroke=\"#fff\"></path><path transform=\"translate(333.3333333333333,355.55555555555554)\" d=\"M5,0A5,5,0,1,1,-5,0A5,5,0,1,1,5,0\" fill=\"rgb(241, 96, 93)\" stroke=\"#fff\"></path><path transform=\"translate(333.3333333333333,503.7037037037037)\" d=\"M5,0A5,5,0,1,1,-5,0A5,5,0,1,1,5,0\" fill=\"rgb(241, 96, 93)\" stroke=\"#fff\"></path><path transform=\"translate(333.3333333333333,651.8518518518518)\" d=\"M5,0A5,5,0,1,1,-5,0A5,5,0,1,1,5,0\" fill=\"rgb(241, 96, 93)\" stroke=\"#fff\"></path><path transform=\"translate(500,266.6666666666667)\" d=\"M5,0A5,5,0,1,1,-5,0A5,5,0,1,1,5,0\" fill=\"rgb(252, 253, 191)\" stroke=\"#fff\"></path><path transform=\"translate(500,325.9259259259259)\" d=\"M5,0A5,5,0,1,1,-5,0A5,5,0,1,1,5,0\" fill=\"rgb(252, 253, 191)\" stroke=\"#fff\"></path><path transform=\"translate(500,385.18518518518516)\" d=\"M5,0A5,5,0,1,1,-5,0A5,5,0,1,1,5,0\" fill=\"rgb(252, 253, 191)\" stroke=\"#fff\"></path><path transform=\"translate(500,444.44444444444446)\" d=\"M5,0A5,5,0,1,1,-5,0A5,5,0,1,1,5,0\" fill=\"rgb(252, 253, 191)\" stroke=\"#fff\"></path><path transform=\"translate(500,562.9629629629629)\" d=\"M5,0A5,5,0,1,1,-5,0A5,5,0,1,1,5,0\" fill=\"rgb(252, 253, 191)\" stroke=\"#fff\"></path><path transform=\"translate(500,622.2222222222222)\" d=\"M5,0A5,5,0,1,1,-5,0A5,5,0,1,1,5,0\" fill=\"rgb(252, 253, 191)\" stroke=\"#fff\"></path><path transform=\"translate(500,681.4814814814815)\" d=\"M5,0A5,5,0,1,1,-5,0A5,5,0,1,1,5,0\" fill=\"rgb(252, 253, 191)\" stroke=\"#fff\"></path><path transform=\"translate(500,740.7407407407408)\" d=\"M5,0A5,5,0,1,1,-5,0A5,5,0,1,1,5,0\" fill=\"rgb(252, 253, 191)\" stroke=\"#fff\"></path></g><g class=\"mark-text role-mark\" role=\"graphics-object\" aria-roledescription=\"text mark container\"><text text-anchor=\"end\" transform=\"translate(-7,299.2962962962963)\" font-family=\"sans-serif\" font-size=\"9px\" fill=\"#000\">GROUP</text><text text-anchor=\"end\" transform=\"translate(173.66666666666666,91.88888888888889)\" font-family=\"sans-serif\" font-size=\"9px\" fill=\"#000\">HEADER</text><text text-anchor=\"end\" transform=\"translate(159.66666666666666,151.14814814814815)\" font-family=\"sans-serif\" font-size=\"9px\" fill=\"#000\">ATTRIBUTES</text><text text-anchor=\"end\" transform=\"translate(159.66666666666666,506.7037037037037)\" font-family=\"sans-serif\" font-size=\"9px\" fill=\"#000\">DATASET</text><text text-anchor=\"end\" transform=\"translate(340.3333333333333,62.25925925925926)\" font-family=\"sans-serif\" font-size=\"9px\" fill=\"#000\">NAME</text><text text-anchor=\"end\" transform=\"translate(340.3333333333333,121.51851851851852)\" font-family=\"sans-serif\" font-size=\"9px\" fill=\"#000\">DATATYTPE</text><text text-anchor=\"end\" transform=\"translate(340.3333333333333,180.77777777777777)\" font-family=\"sans-serif\" font-size=\"9px\" fill=\"#000\">DATASPACE</text><text text-anchor=\"end\" transform=\"translate(340.3333333333333,240.03703703703704)\" font-family=\"sans-serif\" font-size=\"9px\" fill=\"#000\">DATA</text><text text-anchor=\"end\" transform=\"translate(326.3333333333333,358.55555555555554)\" font-family=\"sans-serif\" font-size=\"9px\" fill=\"#000\">HEADER</text><text text-anchor=\"end\" transform=\"translate(340.3333333333333,506.7037037037037)\" font-family=\"sans-serif\" font-size=\"9px\" fill=\"#000\">DATA ARRAY</text><text text-anchor=\"end\" transform=\"translate(326.3333333333333,654.8518518518518)\" font-family=\"sans-serif\" font-size=\"9px\" fill=\"#000\">ATTRIBUTES</text><text text-anchor=\"end\" transform=\"translate(507,269.6666666666667)\" font-family=\"sans-serif\" font-size=\"9px\" fill=\"#000\">NAME</text><text text-anchor=\"end\" transform=\"translate(507,328.9259259259259)\" font-family=\"sans-serif\" font-size=\"9px\" fill=\"#000\">DATATYPE</text><text text-anchor=\"end\" transform=\"translate(507,388.18518518518516)\" font-family=\"sans-serif\" font-size=\"9px\" fill=\"#000\">DATASPACE</text><text text-anchor=\"end\" transform=\"translate(507,447.44444444444446)\" font-family=\"sans-serif\" font-size=\"9px\" fill=\"#000\">STORAGE LAYOUT</text><text text-anchor=\"end\" transform=\"translate(507,565.9629629629629)\" font-family=\"sans-serif\" font-size=\"9px\" fill=\"#000\">NAME</text><text text-anchor=\"end\" transform=\"translate(507,625.2222222222222)\" font-family=\"sans-serif\" font-size=\"9px\" fill=\"#000\">DATATYTPE</text><text text-anchor=\"end\" transform=\"translate(507,684.4814814814815)\" font-family=\"sans-serif\" font-size=\"9px\" fill=\"#000\">DATASPACE</text><text text-anchor=\"end\" transform=\"translate(507,743.7407407407408)\" font-family=\"sans-serif\" font-size=\"9px\" fill=\"#000\">DATA</text></g></g><path class=\"foreground\" aria-hidden=\"true\" d=\"\" display=\"none\"></path></g></g></g></svg>\n"
      ],
      "text/plain": [
       "@vgplot(\n",
       "    height=800,\n",
       "    marks=[\n",
       "        {\n",
       "            encode={\n",
       "                update={\n",
       "                    stroke={\n",
       "                        value=\"#ccc\"\n",
       "                    },\n",
       "                    path={\n",
       "                        field=\"path\"\n",
       "                    }\n",
       "                }\n",
       "            },\n",
       "            from={\n",
       "                data=\"links\"\n",
       "            },\n",
       "            type=\"path\"\n",
       "        },\n",
       "        {\n",
       "            encode={\n",
       "                update={\n",
       "                    x={\n",
       "                        field=\"x\"\n",
       "                    },\n",
       "                    fill={\n",
       "                        field=\"depth\",\n",
       "                        scale=\"color\"\n",
       "                    },\n",
       "                    y={\n",
       "                        field=\"y\"\n",
       "                    }\n",
       "                },\n",
       "                enter={\n",
       "                    stroke={\n",
       "                        value=\"#fff\"\n",
       "                    },\n",
       "                    size={\n",
       "                        value=100\n",
       "                    }\n",
       "                }\n",
       "            },\n",
       "            from={\n",
       "                data=\"tree\"\n",
       "            },\n",
       "            type=\"symbol\"\n",
       "        },\n",
       "        {\n",
       "            encode={\n",
       "                update={\n",
       "                    align={\n",
       "                        signal=\"'right'\"\n",
       "                    },\n",
       "                    x={\n",
       "                        field=\"x\"\n",
       "                    },\n",
       "                    dx={\n",
       "                        signal=\"datum.children ? -7 : 7\"\n",
       "                    },\n",
       "                    opacity=1,\n",
       "                    y={\n",
       "                        field=\"y\"\n",
       "                    }\n",
       "                },\n",
       "                enter={\n",
       "                    fontSize={\n",
       "                        value=9\n",
       "                    },\n",
       "                    text={\n",
       "                        field=\"name\"\n",
       "                    },\n",
       "                    baseline={\n",
       "                        value=\"middle\"\n",
       "                    }\n",
       "                }\n",
       "            },\n",
       "            from={\n",
       "                data=\"tree\"\n",
       "            },\n",
       "            type=\"text\"\n",
       "        }\n",
       "    ],\n",
       "    data=[\n",
       "        {\n",
       "            name=\"tree\",\n",
       "            values=...,\n",
       "            transform=[\n",
       "                {\n",
       "                    key=\"id\",\n",
       "                    parentKey=\"parent\",\n",
       "                    type=\"stratify\"\n",
       "                },\n",
       "                {\n",
       "                    method={\n",
       "                        signal=\"layout\"\n",
       "                    },\n",
       "                    separation={\n",
       "                        signal=\"separation\"\n",
       "                    },\n",
       "                    as=[\n",
       "                        \"y\",\n",
       "                        \"x\",\n",
       "                        \"depth\",\n",
       "                        \"children\"\n",
       "                    ],\n",
       "                    size=[\n",
       "                        {\n",
       "                            signal=\"height\"\n",
       "                        },\n",
       "                        {\n",
       "                            signal=\"width - 100\"\n",
       "                        }\n",
       "                    ],\n",
       "                    type=\"tree\"\n",
       "                }\n",
       "            ]\n",
       "        },\n",
       "        {\n",
       "            name=\"links\",\n",
       "            source=\"tree\",\n",
       "            transform=[\n",
       "                {\n",
       "                    type=\"treelinks\"\n",
       "                },\n",
       "                {\n",
       "                    shape={\n",
       "                        signal=\"links\"\n",
       "                    },\n",
       "                    type=\"linkpath\",\n",
       "                    orient=\"horizontal\"\n",
       "                }\n",
       "            ]\n",
       "        }\n",
       "    ],\n",
       "    scales=[\n",
       "        {\n",
       "            name=\"color\",\n",
       "            zero=true,\n",
       "            range={\n",
       "                scheme=\"magma\"\n",
       "            },\n",
       "            domain={\n",
       "                data=\"tree\",\n",
       "                field=\"depth\"\n",
       "            },\n",
       "            type=\"linear\"\n",
       "        }\n",
       "    ],\n",
       "    width=600,\n",
       "    signals=[\n",
       "        {\n",
       "            name=\"labels\",\n",
       "            bind={\n",
       "                input=\"checkbox\"\n",
       "            },\n",
       "            value=true\n",
       "        },\n",
       "        {\n",
       "            name=\"layout\",\n",
       "            bind={\n",
       "                options=[\n",
       "                    \"tidy\",\n",
       "                    \"cluster\"\n",
       "                ],\n",
       "                input=\"radio\"\n",
       "            },\n",
       "            value=\"tidy\"\n",
       "        },\n",
       "        {\n",
       "            name=\"links\",\n",
       "            bind={\n",
       "                options=[\n",
       "                    \"line\",\n",
       "                    \"curve\",\n",
       "                    \"diagonal\",\n",
       "                    \"orthogonal\"\n",
       "                ],\n",
       "                input=\"select\"\n",
       "            },\n",
       "            value=\"orthogonal\"\n",
       "        },\n",
       "        {\n",
       "            name=\"separation\",\n",
       "            bind={\n",
       "                input=\"checkbox\"\n",
       "            },\n",
       "            value=true\n",
       "        }\n",
       "    ]\n",
       ")"
      ]
     },
     "execution_count": 17,
     "metadata": {},
     "output_type": "execute_result"
    }
   ],
   "source": [
    "using CSV\n",
    "mylab = CSV.read(\"LABELS.txt\")\n",
    "using VegaLite\n",
    "@vgplot(\n",
    "    height=800,\n",
    "    marks=[\n",
    "        {\n",
    "            encode={\n",
    "                update={\n",
    "                    stroke={\n",
    "                        value=\"#ccc\"\n",
    "                    },\n",
    "                    path={\n",
    "                        field=\"path\"\n",
    "                    }\n",
    "                }\n",
    "            },\n",
    "            from={\n",
    "                data=\"links\"\n",
    "            },\n",
    "            type=\"path\"\n",
    "        },\n",
    "        {\n",
    "            encode={\n",
    "                update={\n",
    "                    x={\n",
    "                        field=\"x\"\n",
    "                    },\n",
    "                    fill={\n",
    "                        field=\"depth\",\n",
    "                        scale=\"color\"\n",
    "                    },\n",
    "                    y={\n",
    "                        field=\"y\"\n",
    "                    }\n",
    "                },\n",
    "                enter={\n",
    "                    stroke={\n",
    "                        value=\"#fff\"\n",
    "                    },\n",
    "                    size={\n",
    "                        value=100\n",
    "                    }\n",
    "                }\n",
    "            },\n",
    "            from={\n",
    "                data=\"tree\"\n",
    "            },\n",
    "            type=\"symbol\"\n",
    "        },\n",
    "        {\n",
    "            encode={\n",
    "                update={\n",
    "                    align={\n",
    "                        signal=\"'right'\"\n",
    "                    },\n",
    "                    x={\n",
    "                        field=\"x\"\n",
    "                    },\n",
    "                    dx={\n",
    "                        signal=\"datum.children ? -7 : 7\"\n",
    "                    },\n",
    "                    opacity=1\n",
    "                ,\n",
    "                    y={\n",
    "                        field=\"y\"\n",
    "                    }\n",
    "                },\n",
    "                enter={\n",
    "                    fontSize={\n",
    "                        value=9\n",
    "                    },\n",
    "                    text={\n",
    "                        field=\"name\"\n",
    "                    },\n",
    "                    baseline={\n",
    "                        value=\"middle\"\n",
    "                    }\n",
    "                }\n",
    "            },\n",
    "            from={\n",
    "                data=\"tree\"\n",
    "            },\n",
    "            type=\"text\"\n",
    "        }\n",
    "    ],\n",
    "    data=[\n",
    "        {\n",
    "            name=\"tree\",\n",
    "            values=mylab,\n",
    "            transform=[\n",
    "                {\n",
    "                    key=\"id\",\n",
    "                    parentKey=\"parent\",\n",
    "                    type=\"stratify\"\n",
    "                },\n",
    "                {\n",
    "                    method={\n",
    "                        signal=\"layout\"\n",
    "                    },\n",
    "                    separation={\n",
    "                        signal=\"separation\"\n",
    "                    },\n",
    "                    as=[\n",
    "                        \"y\",\n",
    "                        \"x\",\n",
    "                        \"depth\",\n",
    "                        \"children\"\n",
    "                    ],\n",
    "                    size=[\n",
    "                        {\n",
    "                            signal=\"height\"\n",
    "                        },\n",
    "                        {\n",
    "                            signal=\"width - 100\"\n",
    "                        }\n",
    "                    ],\n",
    "                    type=\"tree\"\n",
    "                }\n",
    "            ]\n",
    "        },\n",
    "        {\n",
    "            name=\"links\",\n",
    "            source=\"tree\",\n",
    "            transform=[\n",
    "                {\n",
    "                    type=\"treelinks\"\n",
    "                },\n",
    "                {\n",
    "                    shape={\n",
    "                        signal=\"links\"\n",
    "                    },\n",
    "                    type=\"linkpath\",\n",
    "                    orient=\"horizontal\"\n",
    "                }\n",
    "            ]\n",
    "        }\n",
    "    ],\n",
    "    scales=[\n",
    "        {\n",
    "            name=\"color\",\n",
    "            zero=true,\n",
    "            range={\n",
    "                scheme=\"magma\"\n",
    "            },\n",
    "            domain={\n",
    "                data=\"tree\",\n",
    "                field=\"depth\"\n",
    "            },\n",
    "            type=\"linear\"\n",
    "        }\n",
    "    ],\n",
    "    width=600,\n",
    "    signals=[\n",
    "        {\n",
    "            name=\"labels\",\n",
    "            bind={\n",
    "                input=\"checkbox\"\n",
    "            },\n",
    "            value=true\n",
    "        },\n",
    "        {\n",
    "            name=\"layout\",\n",
    "            bind={\n",
    "                options=[\n",
    "                    \"tidy\",\n",
    "                    \"cluster\"\n",
    "                ],\n",
    "                input=\"radio\"\n",
    "            },\n",
    "            value=\"tidy\"\n",
    "        },\n",
    "        {\n",
    "            name=\"links\",\n",
    "            bind={\n",
    "                options=[\n",
    "                    \"line\",\n",
    "                    \"curve\",\n",
    "                    \"diagonal\",\n",
    "                    \"orthogonal\"\n",
    "                ],\n",
    "                input=\"select\"\n",
    "            },\n",
    "            value=\"orthogonal\"\n",
    "        },\n",
    "        {\n",
    "            name=\"separation\",\n",
    "            bind={\n",
    "                input=\"checkbox\"\n",
    "            },\n",
    "            value=true\n",
    "        }\n",
    "    ]\n",
    ")"
   ]
  },
  {
   "cell_type": "code",
   "execution_count": 27,
   "metadata": {},
   "outputs": [
    {
     "data": {
      "text/html": [
       "<table class=\"data-frame\"><thead><tr><th></th><th>id</th><th>name</th><th>parent</th></tr><tr><th></th><th>Int64</th><th>String</th><th>Int64?</th></tr></thead><tbody><p>19 rows × 3 columns</p><tr><th>1</th><td>1</td><td>GROUP</td><td><em>missing</em></td></tr><tr><th>2</th><td>2</td><td>HEADER</td><td>1</td></tr><tr><th>3</th><td>3</td><td>ATTRIBUTES</td><td>1</td></tr><tr><th>4</th><td>4</td><td>DATASET</td><td>1</td></tr><tr><th>5</th><td>5</td><td>NAME</td><td>3</td></tr><tr><th>6</th><td>6</td><td>DATATYTPE</td><td>3</td></tr><tr><th>7</th><td>7</td><td>DATASPACE</td><td>3</td></tr><tr><th>8</th><td>8</td><td>DATA</td><td>3</td></tr><tr><th>9</th><td>9</td><td>HEADER</td><td>4</td></tr><tr><th>10</th><td>10</td><td>DATA ARRAY</td><td>4</td></tr><tr><th>11</th><td>11</td><td>ATTRIBUTES</td><td>4</td></tr><tr><th>12</th><td>12</td><td>NAME</td><td>9</td></tr><tr><th>13</th><td>13</td><td>DATATYPE</td><td>9</td></tr><tr><th>14</th><td>14</td><td>DATASPACE</td><td>9</td></tr><tr><th>15</th><td>15</td><td>STORAGE LAYOUT</td><td>9</td></tr><tr><th>16</th><td>16</td><td>NAME</td><td>2</td></tr><tr><th>17</th><td>17</td><td>DATATYTPE</td><td>2</td></tr><tr><th>18</th><td>18</td><td>DATASPACE</td><td>2</td></tr><tr><th>19</th><td>19</td><td>DATA</td><td>2</td></tr></tbody></table>"
      ],
      "text/latex": [
       "\\begin{tabular}{r|ccc}\n",
       "\t& id & name & parent\\\\\n",
       "\t\\hline\n",
       "\t& Int64 & String & Int64?\\\\\n",
       "\t\\hline\n",
       "\t1 & 1 & GROUP & \\emph{missing} \\\\\n",
       "\t2 & 2 & HEADER & 1 \\\\\n",
       "\t3 & 3 & ATTRIBUTES & 1 \\\\\n",
       "\t4 & 4 & DATASET & 1 \\\\\n",
       "\t5 & 5 & NAME & 3 \\\\\n",
       "\t6 & 6 & DATATYTPE & 3 \\\\\n",
       "\t7 & 7 & DATASPACE & 3 \\\\\n",
       "\t8 & 8 & DATA & 3 \\\\\n",
       "\t9 & 9 & HEADER & 4 \\\\\n",
       "\t10 & 10 & DATA ARRAY & 4 \\\\\n",
       "\t11 & 11 & ATTRIBUTES & 4 \\\\\n",
       "\t12 & 12 & NAME & 9 \\\\\n",
       "\t13 & 13 & DATATYPE & 9 \\\\\n",
       "\t14 & 14 & DATASPACE & 9 \\\\\n",
       "\t15 & 15 & STORAGE LAYOUT & 9 \\\\\n",
       "\t16 & 16 & NAME & 2 \\\\\n",
       "\t17 & 17 & DATATYTPE & 2 \\\\\n",
       "\t18 & 18 & DATASPACE & 2 \\\\\n",
       "\t19 & 19 & DATA & 2 \\\\\n",
       "\\end{tabular}\n"
      ],
      "text/plain": [
       "19×3 DataFrame\n",
       "│ Row │ id    │ name           │ parent  │\n",
       "│     │ \u001b[90mInt64\u001b[39m │ \u001b[90mString\u001b[39m         │ \u001b[90mInt64?\u001b[39m  │\n",
       "├─────┼───────┼────────────────┼─────────┤\n",
       "│ 1   │ 1     │ GROUP          │ \u001b[90mmissing\u001b[39m │\n",
       "│ 2   │ 2     │ HEADER         │ 1       │\n",
       "│ 3   │ 3     │ ATTRIBUTES     │ 1       │\n",
       "│ 4   │ 4     │ DATASET        │ 1       │\n",
       "│ 5   │ 5     │ NAME           │ 3       │\n",
       "│ 6   │ 6     │ DATATYTPE      │ 3       │\n",
       "│ 7   │ 7     │ DATASPACE      │ 3       │\n",
       "│ 8   │ 8     │ DATA           │ 3       │\n",
       "│ 9   │ 9     │ HEADER         │ 4       │\n",
       "│ 10  │ 10    │ DATA ARRAY     │ 4       │\n",
       "│ 11  │ 11    │ ATTRIBUTES     │ 4       │\n",
       "│ 12  │ 12    │ NAME           │ 9       │\n",
       "│ 13  │ 13    │ DATATYPE       │ 9       │\n",
       "│ 14  │ 14    │ DATASPACE      │ 9       │\n",
       "│ 15  │ 15    │ STORAGE LAYOUT │ 9       │\n",
       "│ 16  │ 16    │ NAME           │ 2       │\n",
       "│ 17  │ 17    │ DATATYTPE      │ 2       │\n",
       "│ 18  │ 18    │ DATASPACE      │ 2       │\n",
       "│ 19  │ 19    │ DATA           │ 2       │"
      ]
     },
     "execution_count": 27,
     "metadata": {},
     "output_type": "execute_result"
    }
   ],
   "source": [
    "using CSV\n",
    "mylab = CSV.read(\"LABELS.txt\")"
   ]
  },
  {
   "cell_type": "code",
   "execution_count": 38,
   "metadata": {},
   "outputs": [
    {
     "data": {
      "application/vnd.vega.v5+json": {
       "data": [
        {
         "name": "tree",
         "transform": [
          {
           "key": "id",
           "parentKey": "parent",
           "type": "stratify"
          },
          {
           "as": [
            "y",
            "x",
            "depth",
            "children"
           ],
           "method": {
            "signal": "layout"
           },
           "separation": {
            "signal": "separation"
           },
           "size": [
            {
             "signal": "height"
            },
            {
             "signal": "width - 100"
            }
           ],
           "type": "tree"
          }
         ],
         "values": [
          {
           "id": 1,
           "name": "GROUP",
           "parent": null
          },
          {
           "id": 2,
           "name": "HEADER",
           "parent": 1
          },
          {
           "id": 3,
           "name": "ATTRIBUTES",
           "parent": 1
          },
          {
           "id": 4,
           "name": "DATASET",
           "parent": 1
          },
          {
           "id": 5,
           "name": "NAME",
           "parent": 3
          },
          {
           "id": 6,
           "name": "DATATYTPE",
           "parent": 3
          },
          {
           "id": 7,
           "name": "DATASPACE",
           "parent": 3
          },
          {
           "id": 8,
           "name": "DATA",
           "parent": 3
          },
          {
           "id": 9,
           "name": "HEADER",
           "parent": 4
          },
          {
           "id": 10,
           "name": "DATA ARRAY",
           "parent": 4
          },
          {
           "id": 11,
           "name": "ATTRIBUTES",
           "parent": 4
          },
          {
           "id": 12,
           "name": "NAME",
           "parent": 9
          },
          {
           "id": 13,
           "name": "DATATYPE",
           "parent": 9
          },
          {
           "id": 14,
           "name": "DATASPACE",
           "parent": 9
          },
          {
           "id": 15,
           "name": "STORAGE LAYOUT",
           "parent": 9
          },
          {
           "id": 16,
           "name": "NAME",
           "parent": 11
          },
          {
           "id": 17,
           "name": "DATATYTPE",
           "parent": 11
          },
          {
           "id": 18,
           "name": "DATASPACE",
           "parent": 11
          },
          {
           "id": 19,
           "name": "DATA",
           "parent": 11
          }
         ]
        },
        {
         "name": "links",
         "source": "tree",
         "transform": [
          {
           "type": "treelinks"
          },
          {
           "orient": "horizontal",
           "shape": {
            "signal": "links"
           },
           "type": "linkpath"
          }
         ]
        }
       ],
       "height": 800,
       "marks": [
        {
         "encode": {
          "update": {
           "path": {
            "field": "path"
           },
           "stroke": {
            "value": "#ccc"
           }
          }
         },
         "from": {
          "data": "links"
         },
         "type": "path"
        },
        {
         "encode": {
          "enter": {
           "size": {
            "value": 100
           },
           "stroke": {
            "value": "#fff"
           }
          },
          "update": {
           "fill": {
            "field": "depth",
            "scale": "color"
           },
           "x": {
            "field": "x"
           },
           "y": {
            "field": "y"
           }
          }
         },
         "from": {
          "data": "tree"
         },
         "type": "symbol"
        },
        {
         "encode": {
          "enter": {
           "baseline": {
            "value": "middle"
           },
           "fontSize": {
            "value": 9
           },
           "text": {
            "field": "name"
           }
          },
          "update": {
           "align": {
            "signal": "datum.children ? 'right' : 'left'"
           },
           "dx": {
            "signal": "datum.children ? -7 : 7"
           },
           "opacity": {
            "signal": "labels ? 1 : 0"
           },
           "x": {
            "field": "x"
           },
           "y": {
            "field": "y"
           }
          }
         },
         "from": {
          "data": "tree"
         },
         "type": "text"
        }
       ],
       "padding": 1,
       "scales": [
        {
         "domain": {
          "data": "tree",
          "field": "depth"
         },
         "name": "color",
         "range": {
          "scheme": "magma"
         },
         "type": "linear",
         "zero": true
        }
       ],
       "signals": [
        {
         "bind": {
          "input": "checkbox"
         },
         "name": "labels",
         "value": true
        },
        {
         "bind": {
          "input": "radio",
          "options": [
           "tidy",
           "cluster"
          ]
         },
         "name": "layout",
         "value": "tidy"
        },
        {
         "bind": {
          "input": "select",
          "options": [
           "line",
           "curve",
           "diagonal",
           "orthogonal"
          ]
         },
         "name": "links",
         "value": "orthogonal"
        },
        {
         "bind": {
          "input": "checkbox"
         },
         "name": "separation",
         "value": true
        }
       ],
       "width": 600
      },
      "image/png": "[encoded data removed]",
      "image/svg+xml": [
       "<?xml version=\"1.0\" encoding=\"utf-8\"?>\n",
       "<!DOCTYPE svg PUBLIC \"-//W3C//DTD SVG 1.1//EN\" \"http://www.w3.org/Graphics/SVG/1.1/DTD/svg11.dtd\">\n",
       "<svg class=\"marks\" width=\"643\" height=\"802\" viewBox=\"0 0 643 802\" version=\"1.1\" xmlns=\"http://www.w3.org/2000/svg\" xmlns:xlink=\"http://www.w3.org/1999/xlink\"><g fill=\"none\" stroke-miterlimit=\"10\" transform=\"translate(42,1)\"><g class=\"mark-group role-frame root\" role=\"graphics-object\" aria-roledescription=\"group mark container\"><g transform=\"translate(0,0)\"><path class=\"background\" aria-hidden=\"true\" d=\"M0,0h600v800h-600Z\"></path><g><g class=\"mark-path role-mark\" role=\"graphics-symbol\" aria-roledescription=\"path mark container\"><path transform=\"translate(0,0)\" d=\"M0,296.2962962962963V88.88888888888889H166.66666666666666\" stroke=\"#ccc\"></path><path transform=\"translate(0,0)\" d=\"M0,296.2962962962963V148.14814814814815H166.66666666666666\" stroke=\"#ccc\"></path><path transform=\"translate(0,0)\" d=\"M0,296.2962962962963V503.7037037037037H166.66666666666666\" stroke=\"#ccc\"></path><path transform=\"translate(0,0)\" d=\"M166.66666666666666,148.14814814814815V59.25925925925926H333.3333333333333\" stroke=\"#ccc\"></path><path transform=\"translate(0,0)\" d=\"M166.66666666666666,148.14814814814815V118.51851851851852H333.3333333333333\" stroke=\"#ccc\"></path><path transform=\"translate(0,0)\" d=\"M166.66666666666666,148.14814814814815V177.77777777777777H333.3333333333333\" stroke=\"#ccc\"></path><path transform=\"translate(0,0)\" d=\"M166.66666666666666,148.14814814814815V237.03703703703704H333.3333333333333\" stroke=\"#ccc\"></path><path transform=\"translate(0,0)\" d=\"M166.66666666666666,503.7037037037037V355.55555555555554H333.3333333333333\" stroke=\"#ccc\"></path><path transform=\"translate(0,0)\" d=\"M166.66666666666666,503.7037037037037V503.7037037037037H333.3333333333333\" stroke=\"#ccc\"></path><path transform=\"translate(0,0)\" d=\"M166.66666666666666,503.7037037037037V651.8518518518518H333.3333333333333\" stroke=\"#ccc\"></path><path transform=\"translate(0,0)\" d=\"M333.3333333333333,355.55555555555554V266.6666666666667H500\" stroke=\"#ccc\"></path><path transform=\"translate(0,0)\" d=\"M333.3333333333333,355.55555555555554V325.9259259259259H500\" stroke=\"#ccc\"></path><path transform=\"translate(0,0)\" d=\"M333.3333333333333,355.55555555555554V385.18518518518516H500\" stroke=\"#ccc\"></path><path transform=\"translate(0,0)\" d=\"M333.3333333333333,355.55555555555554V444.44444444444446H500\" stroke=\"#ccc\"></path><path transform=\"translate(0,0)\" d=\"M333.3333333333333,651.8518518518518V562.9629629629629H500\" stroke=\"#ccc\"></path><path transform=\"translate(0,0)\" d=\"M333.3333333333333,651.8518518518518V622.2222222222222H500\" stroke=\"#ccc\"></path><path transform=\"translate(0,0)\" d=\"M333.3333333333333,651.8518518518518V681.4814814814815H500\" stroke=\"#ccc\"></path><path transform=\"translate(0,0)\" d=\"M333.3333333333333,651.8518518518518V740.7407407407408H500\" stroke=\"#ccc\"></path></g><g class=\"mark-symbol role-mark\" role=\"graphics-symbol\" aria-roledescription=\"symbol mark container\"><path transform=\"translate(0,296.2962962962963)\" d=\"M5,0A5,5,0,1,1,-5,0A5,5,0,1,1,5,0\" fill=\"rgb(0, 0, 4)\" stroke=\"#fff\"></path><path transform=\"translate(166.66666666666666,88.88888888888889)\" d=\"M5,0A5,5,0,1,1,-5,0A5,5,0,1,1,5,0\" fill=\"rgb(114, 31, 129)\" stroke=\"#fff\"></path><path transform=\"translate(166.66666666666666,148.14814814814815)\" d=\"M5,0A5,5,0,1,1,-5,0A5,5,0,1,1,5,0\" fill=\"rgb(114, 31, 129)\" stroke=\"#fff\"></path><path transform=\"translate(166.66666666666666,503.7037037037037)\" d=\"M5,0A5,5,0,1,1,-5,0A5,5,0,1,1,5,0\" fill=\"rgb(114, 31, 129)\" stroke=\"#fff\"></path><path transform=\"translate(333.3333333333333,59.25925925925926)\" d=\"M5,0A5,5,0,1,1,-5,0A5,5,0,1,1,5,0\" fill=\"rgb(241, 96, 93)\" stroke=\"#fff\"></path><path transform=\"translate(333.3333333333333,118.51851851851852)\" d=\"M5,0A5,5,0,1,1,-5,0A5,5,0,1,1,5,0\" fill=\"rgb(241, 96, 93)\" stroke=\"#fff\"></path><path transform=\"translate(333.3333333333333,177.77777777777777)\" d=\"M5,0A5,5,0,1,1,-5,0A5,5,0,1,1,5,0\" fill=\"rgb(241, 96, 93)\" stroke=\"#fff\"></path><path transform=\"translate(333.3333333333333,237.03703703703704)\" d=\"M5,0A5,5,0,1,1,-5,0A5,5,0,1,1,5,0\" fill=\"rgb(241, 96, 93)\" stroke=\"#fff\"></path><path transform=\"translate(333.3333333333333,355.55555555555554)\" d=\"M5,0A5,5,0,1,1,-5,0A5,5,0,1,1,5,0\" fill=\"rgb(241, 96, 93)\" stroke=\"#fff\"></path><path transform=\"translate(333.3333333333333,503.7037037037037)\" d=\"M5,0A5,5,0,1,1,-5,0A5,5,0,1,1,5,0\" fill=\"rgb(241, 96, 93)\" stroke=\"#fff\"></path><path transform=\"translate(333.3333333333333,651.8518518518518)\" d=\"M5,0A5,5,0,1,1,-5,0A5,5,0,1,1,5,0\" fill=\"rgb(241, 96, 93)\" stroke=\"#fff\"></path><path transform=\"translate(500,266.6666666666667)\" d=\"M5,0A5,5,0,1,1,-5,0A5,5,0,1,1,5,0\" fill=\"rgb(252, 253, 191)\" stroke=\"#fff\"></path><path transform=\"translate(500,325.9259259259259)\" d=\"M5,0A5,5,0,1,1,-5,0A5,5,0,1,1,5,0\" fill=\"rgb(252, 253, 191)\" stroke=\"#fff\"></path><path transform=\"translate(500,385.18518518518516)\" d=\"M5,0A5,5,0,1,1,-5,0A5,5,0,1,1,5,0\" fill=\"rgb(252, 253, 191)\" stroke=\"#fff\"></path><path transform=\"translate(500,444.44444444444446)\" d=\"M5,0A5,5,0,1,1,-5,0A5,5,0,1,1,5,0\" fill=\"rgb(252, 253, 191)\" stroke=\"#fff\"></path><path transform=\"translate(500,562.9629629629629)\" d=\"M5,0A5,5,0,1,1,-5,0A5,5,0,1,1,5,0\" fill=\"rgb(252, 253, 191)\" stroke=\"#fff\"></path><path transform=\"translate(500,622.2222222222222)\" d=\"M5,0A5,5,0,1,1,-5,0A5,5,0,1,1,5,0\" fill=\"rgb(252, 253, 191)\" stroke=\"#fff\"></path><path transform=\"translate(500,681.4814814814815)\" d=\"M5,0A5,5,0,1,1,-5,0A5,5,0,1,1,5,0\" fill=\"rgb(252, 253, 191)\" stroke=\"#fff\"></path><path transform=\"translate(500,740.7407407407408)\" d=\"M5,0A5,5,0,1,1,-5,0A5,5,0,1,1,5,0\" fill=\"rgb(252, 253, 191)\" stroke=\"#fff\"></path></g><g class=\"mark-text role-mark\" role=\"graphics-object\" aria-roledescription=\"text mark container\"><text text-anchor=\"end\" transform=\"translate(-7,299.2962962962963)\" font-family=\"sans-serif\" font-size=\"9px\" fill=\"#000\" opacity=\"1\">GROUP</text><text text-anchor=\"start\" transform=\"translate(173.66666666666666,91.88888888888889)\" font-family=\"sans-serif\" font-size=\"9px\" fill=\"#000\" opacity=\"1\">HEADER</text><text text-anchor=\"end\" transform=\"translate(159.66666666666666,151.14814814814815)\" font-family=\"sans-serif\" font-size=\"9px\" fill=\"#000\" opacity=\"1\">ATTRIBUTES</text><text text-anchor=\"end\" transform=\"translate(159.66666666666666,506.7037037037037)\" font-family=\"sans-serif\" font-size=\"9px\" fill=\"#000\" opacity=\"1\">DATASET</text><text text-anchor=\"start\" transform=\"translate(340.3333333333333,62.25925925925926)\" font-family=\"sans-serif\" font-size=\"9px\" fill=\"#000\" opacity=\"1\">NAME</text><text text-anchor=\"start\" transform=\"translate(340.3333333333333,121.51851851851852)\" font-family=\"sans-serif\" font-size=\"9px\" fill=\"#000\" opacity=\"1\">DATATYTPE</text><text text-anchor=\"start\" transform=\"translate(340.3333333333333,180.77777777777777)\" font-family=\"sans-serif\" font-size=\"9px\" fill=\"#000\" opacity=\"1\">DATASPACE</text><text text-anchor=\"start\" transform=\"translate(340.3333333333333,240.03703703703704)\" font-family=\"sans-serif\" font-size=\"9px\" fill=\"#000\" opacity=\"1\">DATA</text><text text-anchor=\"end\" transform=\"translate(326.3333333333333,358.55555555555554)\" font-family=\"sans-serif\" font-size=\"9px\" fill=\"#000\" opacity=\"1\">HEADER</text><text text-anchor=\"start\" transform=\"translate(340.3333333333333,506.7037037037037)\" font-family=\"sans-serif\" font-size=\"9px\" fill=\"#000\" opacity=\"1\">DATA ARRAY</text><text text-anchor=\"end\" transform=\"translate(326.3333333333333,654.8518518518518)\" font-family=\"sans-serif\" font-size=\"9px\" fill=\"#000\" opacity=\"1\">ATTRIBUTES</text><text text-anchor=\"start\" transform=\"translate(507,269.6666666666667)\" font-family=\"sans-serif\" font-size=\"9px\" fill=\"#000\" opacity=\"1\">NAME</text><text text-anchor=\"start\" transform=\"translate(507,328.9259259259259)\" font-family=\"sans-serif\" font-size=\"9px\" fill=\"#000\" opacity=\"1\">DATATYPE</text><text text-anchor=\"start\" transform=\"translate(507,388.18518518518516)\" font-family=\"sans-serif\" font-size=\"9px\" fill=\"#000\" opacity=\"1\">DATASPACE</text><text text-anchor=\"start\" transform=\"translate(507,447.44444444444446)\" font-family=\"sans-serif\" font-size=\"9px\" fill=\"#000\" opacity=\"1\">STORAGE LAYOUT</text><text text-anchor=\"start\" transform=\"translate(507,565.9629629629629)\" font-family=\"sans-serif\" font-size=\"9px\" fill=\"#000\" opacity=\"1\">NAME</text><text text-anchor=\"start\" transform=\"translate(507,625.2222222222222)\" font-family=\"sans-serif\" font-size=\"9px\" fill=\"#000\" opacity=\"1\">DATATYTPE</text><text text-anchor=\"start\" transform=\"translate(507,684.4814814814815)\" font-family=\"sans-serif\" font-size=\"9px\" fill=\"#000\" opacity=\"1\">DATASPACE</text><text text-anchor=\"start\" transform=\"translate(507,743.7407407407408)\" font-family=\"sans-serif\" font-size=\"9px\" fill=\"#000\" opacity=\"1\">DATA</text></g></g><path class=\"foreground\" aria-hidden=\"true\" d=\"\" display=\"none\"></path></g></g></g></svg>\n"
      ],
      "text/plain": [
       "@vgplot(\n",
       "    height=800,\n",
       "    padding=1,\n",
       "    marks=[\n",
       "        {\n",
       "            encode={\n",
       "                update={\n",
       "                    stroke={\n",
       "                        value=\"#ccc\"\n",
       "                    },\n",
       "                    path={\n",
       "                        field=\"path\"\n",
       "                    }\n",
       "                }\n",
       "            },\n",
       "            from={\n",
       "                data=\"links\"\n",
       "            },\n",
       "            type=\"path\"\n",
       "        },\n",
       "        {\n",
       "            encode={\n",
       "                update={\n",
       "                    x={\n",
       "                        field=\"x\"\n",
       "                    },\n",
       "                    fill={\n",
       "                        field=\"depth\",\n",
       "                        scale=\"color\"\n",
       "                    },\n",
       "                    y={\n",
       "                        field=\"y\"\n",
       "                    }\n",
       "                },\n",
       "                enter={\n",
       "                    stroke={\n",
       "                        value=\"#fff\"\n",
       "                    },\n",
       "                    size={\n",
       "                        value=100\n",
       "                    }\n",
       "                }\n",
       "            },\n",
       "            from={\n",
       "                data=\"tree\"\n",
       "            },\n",
       "            type=\"symbol\"\n",
       "        },\n",
       "        {\n",
       "            encode={\n",
       "                update={\n",
       "                    align={\n",
       "                        signal=\"datum.children ? 'right' : 'left'\"\n",
       "                    },\n",
       "                    x={\n",
       "                        field=\"x\"\n",
       "                    },\n",
       "                    dx={\n",
       "                        signal=\"datum.children ? -7 : 7\"\n",
       "                    },\n",
       "                    opacity={\n",
       "                        signal=\"labels ? 1 : 0\"\n",
       "                    },\n",
       "                    y={\n",
       "                        field=\"y\"\n",
       "                    }\n",
       "                },\n",
       "                enter={\n",
       "                    fontSize={\n",
       "                        value=9\n",
       "                    },\n",
       "                    text={\n",
       "                        field=\"name\"\n",
       "                    },\n",
       "                    baseline={\n",
       "                        value=\"middle\"\n",
       "                    }\n",
       "                }\n",
       "            },\n",
       "            from={\n",
       "                data=\"tree\"\n",
       "            },\n",
       "            type=\"text\"\n",
       "        }\n",
       "    ],\n",
       "    data=[\n",
       "        {\n",
       "            name=\"tree\",\n",
       "            values=...,\n",
       "            transform=[\n",
       "                {\n",
       "                    key=\"id\",\n",
       "                    parentKey=\"parent\",\n",
       "                    type=\"stratify\"\n",
       "                },\n",
       "                {\n",
       "                    method={\n",
       "                        signal=\"layout\"\n",
       "                    },\n",
       "                    separation={\n",
       "                        signal=\"separation\"\n",
       "                    },\n",
       "                    as=[\n",
       "                        \"y\",\n",
       "                        \"x\",\n",
       "                        \"depth\",\n",
       "                        \"children\"\n",
       "                    ],\n",
       "                    size=[\n",
       "                        {\n",
       "                            signal=\"height\"\n",
       "                        },\n",
       "                        {\n",
       "                            signal=\"width - 100\"\n",
       "                        }\n",
       "                    ],\n",
       "                    type=\"tree\"\n",
       "                }\n",
       "            ]\n",
       "        },\n",
       "        {\n",
       "            name=\"links\",\n",
       "            source=\"tree\",\n",
       "            transform=[\n",
       "                {\n",
       "                    type=\"treelinks\"\n",
       "                },\n",
       "                {\n",
       "                    shape={\n",
       "                        signal=\"links\"\n",
       "                    },\n",
       "                    type=\"linkpath\",\n",
       "                    orient=\"horizontal\"\n",
       "                }\n",
       "            ]\n",
       "        }\n",
       "    ],\n",
       "    scales=[\n",
       "        {\n",
       "            name=\"color\",\n",
       "            zero=true,\n",
       "            range={\n",
       "                scheme=\"magma\"\n",
       "            },\n",
       "            domain={\n",
       "                data=\"tree\",\n",
       "                field=\"depth\"\n",
       "            },\n",
       "            type=\"linear\"\n",
       "        }\n",
       "    ],\n",
       "    width=600,\n",
       "    signals=[\n",
       "        {\n",
       "            name=\"labels\",\n",
       "            bind={\n",
       "                input=\"checkbox\"\n",
       "            },\n",
       "            value=true\n",
       "        },\n",
       "        {\n",
       "            name=\"layout\",\n",
       "            bind={\n",
       "                options=[\n",
       "                    \"tidy\",\n",
       "                    \"cluster\"\n",
       "                ],\n",
       "                input=\"radio\"\n",
       "            },\n",
       "            value=\"tidy\"\n",
       "        },\n",
       "        {\n",
       "            name=\"links\",\n",
       "            bind={\n",
       "                options=[\n",
       "                    \"line\",\n",
       "                    \"curve\",\n",
       "                    \"diagonal\",\n",
       "                    \"orthogonal\"\n",
       "                ],\n",
       "                input=\"select\"\n",
       "            },\n",
       "            value=\"orthogonal\"\n",
       "        },\n",
       "        {\n",
       "            name=\"separation\",\n",
       "            bind={\n",
       "                input=\"checkbox\"\n",
       "            },\n",
       "            value=true\n",
       "        }\n",
       "    ]\n",
       ")"
      ]
     },
     "execution_count": 38,
     "metadata": {},
     "output_type": "execute_result"
    }
   ],
   "source": []
  },
  {
   "cell_type": "code",
   "execution_count": 11,
   "metadata": {},
   "outputs": [
    {
     "data": {
      "application/vnd.dataresource+json": {
       "data": [
        {
         "id": 1,
         "name": "flare",
         "parent": null,
         "size": null
        },
        {
         "id": 2,
         "name": "analytics",
         "parent": 1,
         "size": null
        },
        {
         "id": 3,
         "name": "cluster",
         "parent": 2,
         "size": null
        },
        {
         "id": 4,
         "name": "AgglomerativeCluster",
         "parent": 3,
         "size": 3938
        },
        {
         "id": 5,
         "name": "CommunityStructure",
         "parent": 3,
         "size": 3812
        },
        {
         "id": 6,
         "name": "HierarchicalCluster",
         "parent": 3,
         "size": 6714
        },
        {
         "id": 7,
         "name": "MergeEdge",
         "parent": 3,
         "size": 743
        },
        {
         "id": 8,
         "name": "graph",
         "parent": 2,
         "size": null
        },
        {
         "id": 9,
         "name": "BetweennessCentrality",
         "parent": 8,
         "size": 3534
        },
        {
         "id": 10,
         "name": "LinkDistance",
         "parent": 8,
         "size": 5731
        },
        {
         "id": 11,
         "name": "MaxFlowMinCut",
         "parent": 8,
         "size": 7840
        },
        {
         "id": 12,
         "name": "ShortestPaths",
         "parent": 8,
         "size": 5914
        },
        {
         "id": 13,
         "name": "SpanningTree",
         "parent": 8,
         "size": 3416
        },
        {
         "id": 14,
         "name": "optimization",
         "parent": 2,
         "size": null
        },
        {
         "id": 15,
         "name": "AspectRatioBanker",
         "parent": 14,
         "size": 7074
        },
        {
         "id": 16,
         "name": "animate",
         "parent": 1,
         "size": null
        },
        {
         "id": 17,
         "name": "Easing",
         "parent": 16,
         "size": 17010
        },
        {
         "id": 18,
         "name": "FunctionSequence",
         "parent": 16,
         "size": 5842
        },
        {
         "id": 19,
         "name": "interpolate",
         "parent": 16,
         "size": null
        },
        {
         "id": 20,
         "name": "ArrayInterpolator",
         "parent": 19,
         "size": 1983
        },
        {
         "id": 21,
         "name": "ColorInterpolator",
         "parent": 19,
         "size": 2047
        },
        {
         "id": 22,
         "name": "DateInterpolator",
         "parent": 19,
         "size": 1375
        },
        {
         "id": 23,
         "name": "Interpolator",
         "parent": 19,
         "size": 8746
        },
        {
         "id": 24,
         "name": "MatrixInterpolator",
         "parent": 19,
         "size": 2202
        },
        {
         "id": 25,
         "name": "NumberInterpolator",
         "parent": 19,
         "size": 1382
        },
        {
         "id": 26,
         "name": "ObjectInterpolator",
         "parent": 19,
         "size": 1629
        },
        {
         "id": 27,
         "name": "PointInterpolator",
         "parent": 19,
         "size": 1675
        },
        {
         "id": 28,
         "name": "RectangleInterpolator",
         "parent": 19,
         "size": 2042
        },
        {
         "id": 29,
         "name": "ISchedulable",
         "parent": 16,
         "size": 1041
        },
        {
         "id": 30,
         "name": "Parallel",
         "parent": 16,
         "size": 5176
        },
        {
         "id": 31,
         "name": "Pause",
         "parent": 16,
         "size": 449
        },
        {
         "id": 32,
         "name": "Scheduler",
         "parent": 16,
         "size": 5593
        },
        {
         "id": 33,
         "name": "Sequence",
         "parent": 16,
         "size": 5534
        },
        {
         "id": 34,
         "name": "Transition",
         "parent": 16,
         "size": 9201
        },
        {
         "id": 35,
         "name": "Transitioner",
         "parent": 16,
         "size": 19975
        },
        {
         "id": 36,
         "name": "TransitionEvent",
         "parent": 16,
         "size": 1116
        },
        {
         "id": 37,
         "name": "Tween",
         "parent": 16,
         "size": 6006
        },
        {
         "id": 38,
         "name": "data",
         "parent": 1,
         "size": null
        },
        {
         "id": 39,
         "name": "converters",
         "parent": 38,
         "size": null
        },
        {
         "id": 40,
         "name": "Converters",
         "parent": 39,
         "size": 721
        },
        {
         "id": 41,
         "name": "DelimitedTextConverter",
         "parent": 39,
         "size": 4294
        },
        {
         "id": 42,
         "name": "GraphMLConverter",
         "parent": 39,
         "size": 9800
        },
        {
         "id": 43,
         "name": "IDataConverter",
         "parent": 39,
         "size": 1314
        },
        {
         "id": 44,
         "name": "JSONConverter",
         "parent": 39,
         "size": 2220
        },
        {
         "id": 45,
         "name": "DataField",
         "parent": 38,
         "size": 1759
        },
        {
         "id": 46,
         "name": "DataSchema",
         "parent": 38,
         "size": 2165
        },
        {
         "id": 47,
         "name": "DataSet",
         "parent": 38,
         "size": 586
        },
        {
         "id": 48,
         "name": "DataSource",
         "parent": 38,
         "size": 3331
        },
        {
         "id": 49,
         "name": "DataTable",
         "parent": 38,
         "size": 772
        },
        {
         "id": 50,
         "name": "DataUtil",
         "parent": 38,
         "size": 3322
        },
        {
         "id": 51,
         "name": "display",
         "parent": 1,
         "size": null
        },
        {
         "id": 52,
         "name": "DirtySprite",
         "parent": 51,
         "size": 8833
        },
        {
         "id": 53,
         "name": "LineSprite",
         "parent": 51,
         "size": 1732
        },
        {
         "id": 54,
         "name": "RectSprite",
         "parent": 51,
         "size": 3623
        },
        {
         "id": 55,
         "name": "TextSprite",
         "parent": 51,
         "size": 10066
        },
        {
         "id": 56,
         "name": "flex",
         "parent": 1,
         "size": null
        },
        {
         "id": 57,
         "name": "FlareVis",
         "parent": 56,
         "size": 4116
        },
        {
         "id": 58,
         "name": "physics",
         "parent": 1,
         "size": null
        },
        {
         "id": 59,
         "name": "DragForce",
         "parent": 58,
         "size": 1082
        },
        {
         "id": 60,
         "name": "GravityForce",
         "parent": 58,
         "size": 1336
        },
        {
         "id": 61,
         "name": "IForce",
         "parent": 58,
         "size": 319
        },
        {
         "id": 62,
         "name": "NBodyForce",
         "parent": 58,
         "size": 10498
        },
        {
         "id": 63,
         "name": "Particle",
         "parent": 58,
         "size": 2822
        },
        {
         "id": 64,
         "name": "Simulation",
         "parent": 58,
         "size": 9983
        },
        {
         "id": 65,
         "name": "Spring",
         "parent": 58,
         "size": 2213
        },
        {
         "id": 66,
         "name": "SpringForce",
         "parent": 58,
         "size": 1681
        },
        {
         "id": 67,
         "name": "query",
         "parent": 1,
         "size": null
        },
        {
         "id": 68,
         "name": "AggregateExpression",
         "parent": 67,
         "size": 1616
        },
        {
         "id": 69,
         "name": "And",
         "parent": 67,
         "size": 1027
        },
        {
         "id": 70,
         "name": "Arithmetic",
         "parent": 67,
         "size": 3891
        },
        {
         "id": 71,
         "name": "Average",
         "parent": 67,
         "size": 891
        },
        {
         "id": 72,
         "name": "BinaryExpression",
         "parent": 67,
         "size": 2893
        },
        {
         "id": 73,
         "name": "Comparison",
         "parent": 67,
         "size": 5103
        },
        {
         "id": 74,
         "name": "CompositeExpression",
         "parent": 67,
         "size": 3677
        },
        {
         "id": 75,
         "name": "Count",
         "parent": 67,
         "size": 781
        },
        {
         "id": 76,
         "name": "DateUtil",
         "parent": 67,
         "size": 4141
        },
        {
         "id": 77,
         "name": "Distinct",
         "parent": 67,
         "size": 933
        },
        {
         "id": 78,
         "name": "Expression",
         "parent": 67,
         "size": 5130
        },
        {
         "id": 79,
         "name": "ExpressionIterator",
         "parent": 67,
         "size": 3617
        },
        {
         "id": 80,
         "name": "Fn",
         "parent": 67,
         "size": 3240
        },
        {
         "id": 81,
         "name": "If",
         "parent": 67,
         "size": 2732
        },
        {
         "id": 82,
         "name": "IsA",
         "parent": 67,
         "size": 2039
        },
        {
         "id": 83,
         "name": "Literal",
         "parent": 67,
         "size": 1214
        },
        {
         "id": 84,
         "name": "Match",
         "parent": 67,
         "size": 3748
        },
        {
         "id": 85,
         "name": "Maximum",
         "parent": 67,
         "size": 843
        },
        {
         "id": 86,
         "name": "methods",
         "parent": 67,
         "size": null
        },
        {
         "id": 87,
         "name": "add",
         "parent": 86,
         "size": 593
        },
        {
         "id": 88,
         "name": "and",
         "parent": 86,
         "size": 330
        },
        {
         "id": 89,
         "name": "average",
         "parent": 86,
         "size": 287
        },
        {
         "id": 90,
         "name": "count",
         "parent": 86,
         "size": 277
        },
        {
         "id": 91,
         "name": "distinct",
         "parent": 86,
         "size": 292
        },
        {
         "id": 92,
         "name": "div",
         "parent": 86,
         "size": 595
        },
        {
         "id": 93,
         "name": "eq",
         "parent": 86,
         "size": 594
        },
        {
         "id": 94,
         "name": "fn",
         "parent": 86,
         "size": 460
        },
        {
         "id": 95,
         "name": "gt",
         "parent": 86,
         "size": 603
        },
        {
         "id": 96,
         "name": "gte",
         "parent": 86,
         "size": 625
        },
        {
         "id": 97,
         "name": "iff",
         "parent": 86,
         "size": 748
        },
        {
         "id": 98,
         "name": "isa",
         "parent": 86,
         "size": 461
        },
        {
         "id": 99,
         "name": "lt",
         "parent": 86,
         "size": 597
        },
        {
         "id": 100,
         "name": "lte",
         "parent": 86,
         "size": 619
        },
        {
         "id": 101,
         "name": "max",
         "parent": 86,
         "size": 283
        },
        {
         "id": 102,
         "name": "min",
         "parent": 86,
         "size": 283
        },
        {
         "id": 103,
         "name": "mod",
         "parent": 86,
         "size": 591
        },
        {
         "id": 104,
         "name": "mul",
         "parent": 86,
         "size": 603
        },
        {
         "id": 105,
         "name": "neq",
         "parent": 86,
         "size": 599
        },
        {
         "id": 106,
         "name": "not",
         "parent": 86,
         "size": 386
        },
        {
         "id": 107,
         "name": "or",
         "parent": 86,
         "size": 323
        },
        {
         "id": 108,
         "name": "orderby",
         "parent": 86,
         "size": 307
        },
        {
         "id": 109,
         "name": "range",
         "parent": 86,
         "size": 772
        },
        {
         "id": 110,
         "name": "select",
         "parent": 86,
         "size": 296
        },
        {
         "id": 111,
         "name": "stddev",
         "parent": 86,
         "size": 363
        },
        {
         "id": 112,
         "name": "sub",
         "parent": 86,
         "size": 600
        },
        {
         "id": 113,
         "name": "sum",
         "parent": 86,
         "size": 280
        },
        {
         "id": 114,
         "name": "update",
         "parent": 86,
         "size": 307
        },
        {
         "id": 115,
         "name": "variance",
         "parent": 86,
         "size": 335
        },
        {
         "id": 116,
         "name": "where",
         "parent": 86,
         "size": 299
        },
        {
         "id": 117,
         "name": "xor",
         "parent": 86,
         "size": 354
        },
        {
         "id": 118,
         "name": "_",
         "parent": 86,
         "size": 264
        },
        {
         "id": 119,
         "name": "Minimum",
         "parent": 67,
         "size": 843
        },
        {
         "id": 120,
         "name": "Not",
         "parent": 67,
         "size": 1554
        },
        {
         "id": 121,
         "name": "Or",
         "parent": 67,
         "size": 970
        },
        {
         "id": 122,
         "name": "Query",
         "parent": 67,
         "size": 13896
        },
        {
         "id": 123,
         "name": "Range",
         "parent": 67,
         "size": 1594
        },
        {
         "id": 124,
         "name": "StringUtil",
         "parent": 67,
         "size": 4130
        },
        {
         "id": 125,
         "name": "Sum",
         "parent": 67,
         "size": 791
        },
        {
         "id": 126,
         "name": "Variable",
         "parent": 67,
         "size": 1124
        },
        {
         "id": 127,
         "name": "Variance",
         "parent": 67,
         "size": 1876
        },
        {
         "id": 128,
         "name": "Xor",
         "parent": 67,
         "size": 1101
        },
        {
         "id": 129,
         "name": "scale",
         "parent": 1,
         "size": null
        },
        {
         "id": 130,
         "name": "IScaleMap",
         "parent": 129,
         "size": 2105
        },
        {
         "id": 131,
         "name": "LinearScale",
         "parent": 129,
         "size": 1316
        },
        {
         "id": 132,
         "name": "LogScale",
         "parent": 129,
         "size": 3151
        },
        {
         "id": 133,
         "name": "OrdinalScale",
         "parent": 129,
         "size": 3770
        },
        {
         "id": 134,
         "name": "QuantileScale",
         "parent": 129,
         "size": 2435
        },
        {
         "id": 135,
         "name": "QuantitativeScale",
         "parent": 129,
         "size": 4839
        },
        {
         "id": 136,
         "name": "RootScale",
         "parent": 129,
         "size": 1756
        },
        {
         "id": 137,
         "name": "Scale",
         "parent": 129,
         "size": 4268
        },
        {
         "id": 138,
         "name": "ScaleType",
         "parent": 129,
         "size": 1821
        },
        {
         "id": 139,
         "name": "TimeScale",
         "parent": 129,
         "size": 5833
        },
        {
         "id": 140,
         "name": "util",
         "parent": 1,
         "size": null
        },
        {
         "id": 141,
         "name": "Arrays",
         "parent": 140,
         "size": 8258
        },
        {
         "id": 142,
         "name": "Colors",
         "parent": 140,
         "size": 10001
        },
        {
         "id": 143,
         "name": "Dates",
         "parent": 140,
         "size": 8217
        },
        {
         "id": 144,
         "name": "Displays",
         "parent": 140,
         "size": 12555
        },
        {
         "id": 145,
         "name": "Filter",
         "parent": 140,
         "size": 2324
        },
        {
         "id": 146,
         "name": "Geometry",
         "parent": 140,
         "size": 10993
        },
        {
         "id": 147,
         "name": "heap",
         "parent": 140,
         "size": null
        },
        {
         "id": 148,
         "name": "FibonacciHeap",
         "parent": 147,
         "size": 9354
        },
        {
         "id": 149,
         "name": "HeapNode",
         "parent": 147,
         "size": 1233
        },
        {
         "id": 150,
         "name": "IEvaluable",
         "parent": 140,
         "size": 335
        },
        {
         "id": 151,
         "name": "IPredicate",
         "parent": 140,
         "size": 383
        },
        {
         "id": 152,
         "name": "IValueProxy",
         "parent": 140,
         "size": 874
        },
        {
         "id": 153,
         "name": "math",
         "parent": 140,
         "size": null
        },
        {
         "id": 154,
         "name": "DenseMatrix",
         "parent": 153,
         "size": 3165
        },
        {
         "id": 155,
         "name": "IMatrix",
         "parent": 153,
         "size": 2815
        },
        {
         "id": 156,
         "name": "SparseMatrix",
         "parent": 153,
         "size": 3366
        },
        {
         "id": 157,
         "name": "Maths",
         "parent": 140,
         "size": 17705
        },
        {
         "id": 158,
         "name": "Orientation",
         "parent": 140,
         "size": 1486
        },
        {
         "id": 159,
         "name": "palette",
         "parent": 140,
         "size": null
        },
        {
         "id": 160,
         "name": "ColorPalette",
         "parent": 159,
         "size": 6367
        },
        {
         "id": 161,
         "name": "Palette",
         "parent": 159,
         "size": 1229
        },
        {
         "id": 162,
         "name": "ShapePalette",
         "parent": 159,
         "size": 2059
        },
        {
         "id": 163,
         "name": "SizePalette",
         "parent": 159,
         "size": 2291
        },
        {
         "id": 164,
         "name": "Property",
         "parent": 140,
         "size": 5559
        },
        {
         "id": 165,
         "name": "Shapes",
         "parent": 140,
         "size": 19118
        },
        {
         "id": 166,
         "name": "Sort",
         "parent": 140,
         "size": 6887
        },
        {
         "id": 167,
         "name": "Stats",
         "parent": 140,
         "size": 6557
        },
        {
         "id": 168,
         "name": "Strings",
         "parent": 140,
         "size": 22026
        },
        {
         "id": 169,
         "name": "vis",
         "parent": 1,
         "size": null
        },
        {
         "id": 170,
         "name": "axis",
         "parent": 169,
         "size": null
        },
        {
         "id": 171,
         "name": "Axes",
         "parent": 170,
         "size": 1302
        },
        {
         "id": 172,
         "name": "Axis",
         "parent": 170,
         "size": 24593
        },
        {
         "id": 173,
         "name": "AxisGridLine",
         "parent": 170,
         "size": 652
        },
        {
         "id": 174,
         "name": "AxisLabel",
         "parent": 170,
         "size": 636
        },
        {
         "id": 175,
         "name": "CartesianAxes",
         "parent": 170,
         "size": 6703
        },
        {
         "id": 176,
         "name": "controls",
         "parent": 169,
         "size": null
        },
        {
         "id": 177,
         "name": "AnchorControl",
         "parent": 176,
         "size": 2138
        },
        {
         "id": 178,
         "name": "ClickControl",
         "parent": 176,
         "size": 3824
        },
        {
         "id": 179,
         "name": "Control",
         "parent": 176,
         "size": 1353
        },
        {
         "id": 180,
         "name": "ControlList",
         "parent": 176,
         "size": 4665
        },
        {
         "id": 181,
         "name": "DragControl",
         "parent": 176,
         "size": 2649
        },
        {
         "id": 182,
         "name": "ExpandControl",
         "parent": 176,
         "size": 2832
        },
        {
         "id": 183,
         "name": "HoverControl",
         "parent": 176,
         "size": 4896
        },
        {
         "id": 184,
         "name": "IControl",
         "parent": 176,
         "size": 763
        },
        {
         "id": 185,
         "name": "PanZoomControl",
         "parent": 176,
         "size": 5222
        },
        {
         "id": 186,
         "name": "SelectionControl",
         "parent": 176,
         "size": 7862
        },
        {
         "id": 187,
         "name": "TooltipControl",
         "parent": 176,
         "size": 8435
        },
        {
         "id": 188,
         "name": "data",
         "parent": 169,
         "size": null
        },
        {
         "id": 189,
         "name": "Data",
         "parent": 188,
         "size": 20544
        },
        {
         "id": 190,
         "name": "DataList",
         "parent": 188,
         "size": 19788
        },
        {
         "id": 191,
         "name": "DataSprite",
         "parent": 188,
         "size": 10349
        },
        {
         "id": 192,
         "name": "EdgeSprite",
         "parent": 188,
         "size": 3301
        },
        {
         "id": 193,
         "name": "NodeSprite",
         "parent": 188,
         "size": 19382
        },
        {
         "id": 194,
         "name": "render",
         "parent": 188,
         "size": null
        },
        {
         "id": 195,
         "name": "ArrowType",
         "parent": 194,
         "size": 698
        },
        {
         "id": 196,
         "name": "EdgeRenderer",
         "parent": 194,
         "size": 5569
        },
        {
         "id": 197,
         "name": "IRenderer",
         "parent": 194,
         "size": 353
        },
        {
         "id": 198,
         "name": "ShapeRenderer",
         "parent": 194,
         "size": 2247
        },
        {
         "id": 199,
         "name": "ScaleBinding",
         "parent": 188,
         "size": 11275
        },
        {
         "id": 200,
         "name": "Tree",
         "parent": 188,
         "size": 7147
        },
        {
         "id": 201,
         "name": "TreeBuilder",
         "parent": 188,
         "size": 9930
        },
        {
         "id": 202,
         "name": "events",
         "parent": 169,
         "size": null
        },
        {
         "id": 203,
         "name": "DataEvent",
         "parent": 202,
         "size": 2313
        },
        {
         "id": 204,
         "name": "SelectionEvent",
         "parent": 202,
         "size": 1880
        },
        {
         "id": 205,
         "name": "TooltipEvent",
         "parent": 202,
         "size": 1701
        },
        {
         "id": 206,
         "name": "VisualizationEvent",
         "parent": 202,
         "size": 1117
        },
        {
         "id": 207,
         "name": "legend",
         "parent": 169,
         "size": null
        },
        {
         "id": 208,
         "name": "Legend",
         "parent": 207,
         "size": 20859
        },
        {
         "id": 209,
         "name": "LegendItem",
         "parent": 207,
         "size": 4614
        },
        {
         "id": 210,
         "name": "LegendRange",
         "parent": 207,
         "size": 10530
        },
        {
         "id": 211,
         "name": "operator",
         "parent": 169,
         "size": null
        },
        {
         "id": 212,
         "name": "distortion",
         "parent": 211,
         "size": null
        },
        {
         "id": 213,
         "name": "BifocalDistortion",
         "parent": 212,
         "size": 4461
        },
        {
         "id": 214,
         "name": "Distortion",
         "parent": 212,
         "size": 6314
        },
        {
         "id": 215,
         "name": "FisheyeDistortion",
         "parent": 212,
         "size": 3444
        },
        {
         "id": 216,
         "name": "encoder",
         "parent": 211,
         "size": null
        },
        {
         "id": 217,
         "name": "ColorEncoder",
         "parent": 216,
         "size": 3179
        },
        {
         "id": 218,
         "name": "Encoder",
         "parent": 216,
         "size": 4060
        },
        {
         "id": 219,
         "name": "PropertyEncoder",
         "parent": 216,
         "size": 4138
        },
        {
         "id": 220,
         "name": "ShapeEncoder",
         "parent": 216,
         "size": 1690
        },
        {
         "id": 221,
         "name": "SizeEncoder",
         "parent": 216,
         "size": 1830
        },
        {
         "id": 222,
         "name": "filter",
         "parent": 211,
         "size": null
        },
        {
         "id": 223,
         "name": "FisheyeTreeFilter",
         "parent": 222,
         "size": 5219
        },
        {
         "id": 224,
         "name": "GraphDistanceFilter",
         "parent": 222,
         "size": 3165
        },
        {
         "id": 225,
         "name": "VisibilityFilter",
         "parent": 222,
         "size": 3509
        },
        {
         "id": 226,
         "name": "IOperator",
         "parent": 211,
         "size": 1286
        },
        {
         "id": 227,
         "name": "label",
         "parent": 211,
         "size": null
        },
        {
         "id": 228,
         "name": "Labeler",
         "parent": 227,
         "size": 9956
        },
        {
         "id": 229,
         "name": "RadialLabeler",
         "parent": 227,
         "size": 3899
        },
        {
         "id": 230,
         "name": "StackedAreaLabeler",
         "parent": 227,
         "size": 3202
        },
        {
         "id": 231,
         "name": "layout",
         "parent": 211,
         "size": null
        },
        {
         "id": 232,
         "name": "AxisLayout",
         "parent": 231,
         "size": 6725
        },
        {
         "id": 233,
         "name": "BundledEdgeRouter",
         "parent": 231,
         "size": 3727
        },
        {
         "id": 234,
         "name": "CircleLayout",
         "parent": 231,
         "size": 9317
        },
        {
         "id": 235,
         "name": "CirclePackingLayout",
         "parent": 231,
         "size": 12003
        },
        {
         "id": 236,
         "name": "DendrogramLayout",
         "parent": 231,
         "size": 4853
        },
        {
         "id": 237,
         "name": "ForceDirectedLayout",
         "parent": 231,
         "size": 8411
        },
        {
         "id": 238,
         "name": "IcicleTreeLayout",
         "parent": 231,
         "size": 4864
        },
        {
         "id": 239,
         "name": "IndentedTreeLayout",
         "parent": 231,
         "size": 3174
        },
        {
         "id": 240,
         "name": "Layout",
         "parent": 231,
         "size": 7881
        },
        {
         "id": 241,
         "name": "NodeLinkTreeLayout",
         "parent": 231,
         "size": 12870
        },
        {
         "id": 242,
         "name": "PieLayout",
         "parent": 231,
         "size": 2728
        },
        {
         "id": 243,
         "name": "RadialTreeLayout",
         "parent": 231,
         "size": 12348
        },
        {
         "id": 244,
         "name": "RandomLayout",
         "parent": 231,
         "size": 870
        },
        {
         "id": 245,
         "name": "StackedAreaLayout",
         "parent": 231,
         "size": 9121
        },
        {
         "id": 246,
         "name": "TreeMapLayout",
         "parent": 231,
         "size": 9191
        },
        {
         "id": 247,
         "name": "Operator",
         "parent": 211,
         "size": 2490
        },
        {
         "id": 248,
         "name": "OperatorList",
         "parent": 211,
         "size": 5248
        },
        {
         "id": 249,
         "name": "OperatorSequence",
         "parent": 211,
         "size": 4190
        },
        {
         "id": 250,
         "name": "OperatorSwitch",
         "parent": 211,
         "size": 2581
        },
        {
         "id": 251,
         "name": "SortOperator",
         "parent": 211,
         "size": 2023
        },
        {
         "id": 252,
         "name": "Visualization",
         "parent": 169,
         "size": 16540
        }
       ],
       "schema": {
        "fields": [
         {
          "name": "id",
          "type": "integer"
         },
         {
          "name": "name",
          "type": "string"
         },
         {
          "name": "parent",
          "type": "integer"
         },
         {
          "name": "size",
          "type": "integer"
         }
        ]
       }
      },
      "text/html": [
       "<table><thead><tr><th>id</th><th>name</th><th>parent</th><th>size</th></tr></thead><tbody><tr><td>1</td><td>&quot;flare&quot;</td><td>#NA</td><td>#NA</td></tr><tr><td>2</td><td>&quot;analytics&quot;</td><td>1</td><td>#NA</td></tr><tr><td>3</td><td>&quot;cluster&quot;</td><td>2</td><td>#NA</td></tr><tr><td>4</td><td>&quot;AgglomerativeCluster&quot;</td><td>3</td><td>3938</td></tr><tr><td>5</td><td>&quot;CommunityStructure&quot;</td><td>3</td><td>3812</td></tr><tr><td>6</td><td>&quot;HierarchicalCluster&quot;</td><td>3</td><td>6714</td></tr><tr><td>7</td><td>&quot;MergeEdge&quot;</td><td>3</td><td>743</td></tr><tr><td>8</td><td>&quot;graph&quot;</td><td>2</td><td>#NA</td></tr><tr><td>9</td><td>&quot;BetweennessCentrality&quot;</td><td>8</td><td>3534</td></tr><tr><td>10</td><td>&quot;LinkDistance&quot;</td><td>8</td><td>5731</td></tr><tr><td>&vellip;</td><td>&vellip;</td><td>&vellip;</td><td>&vellip;</td></tr></tbody></table><p>... with 242 more rows.</p>"
      ],
      "text/plain": [
       "252x4 Vega dataset\n",
       "id │ name                  │ parent │ size\n",
       "───┼───────────────────────┼────────┼─────\n",
       "1  │ flare                 │ \u001b[90m#NA   \u001b[39m │ \u001b[90m#NA \u001b[39m\n",
       "2  │ analytics             │ 1      │ \u001b[90m#NA \u001b[39m\n",
       "3  │ cluster               │ 2      │ \u001b[90m#NA \u001b[39m\n",
       "4  │ AgglomerativeCluster  │ 3      │ 3938\n",
       "5  │ CommunityStructure    │ 3      │ 3812\n",
       "6  │ HierarchicalCluster   │ 3      │ 6714\n",
       "7  │ MergeEdge             │ 3      │ 743 \n",
       "8  │ graph                 │ 2      │ \u001b[90m#NA \u001b[39m\n",
       "9  │ BetweennessCentrality │ 8      │ 3534\n",
       "10 │ LinkDistance          │ 8      │ 5731\n",
       "... with 242 more rows"
      ]
     },
     "execution_count": 11,
     "metadata": {},
     "output_type": "execute_result"
    }
   ],
   "source": [
    "dataset(\"flare\")"
   ]
  },
  {
   "cell_type": "code",
   "execution_count": null,
   "metadata": {},
   "outputs": [],
   "source": []
  }
 ],
 "metadata": {
  "kernelspec": {
   "display_name": "Julia 1.5.1",
   "language": "julia",
   "name": "julia-1.5"
  },
  "language_info": {
   "file_extension": ".jl",
   "mimetype": "application/julia",
   "name": "julia",
   "version": "1.5.1"
  }
 },
 "nbformat": 4,
 "nbformat_minor": 4
}
