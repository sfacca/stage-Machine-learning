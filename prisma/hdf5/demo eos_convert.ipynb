{
 "cells": [
  {
   "cell_type": "code",
   "execution_count": 7,
   "metadata": {},
   "outputs": [
    {
     "name": "stderr",
     "output_type": "stream",
     "text": [
      "WARNING: replacing module HDF5fd.\n",
      "WARNING: replacing module eos_convert.\n",
      "WARNING: replacing module faux.\n",
      "WARNING: replacing module rastwrite_lines.\n",
      "WARNING: replacing module faux.\n",
      "WARNING: replacing module faux.\n",
      "WARNING: replacing module eos_geoloc.\n",
      "WARNING: replacing module rastwrite_lines.\n",
      "WARNING: replacing module rastwrite_lines.\n"
     ]
    },
    {
     "data": {
      "text/plain": [
       "Main.eos_convert"
      ]
     },
     "execution_count": 7,
     "metadata": {},
     "output_type": "execute_result"
    }
   ],
   "source": [
    "include(\"../../code/julia/HDF5filesDict.jl\")\n",
    "include(\"../../code/julia/eos_convert.jl\")"
   ]
  },
  {
   "cell_type": "code",
   "execution_count": 2,
   "metadata": {},
   "outputs": [
    {
     "data": {
      "text/plain": [
       "closeall (generic function with 1 method)"
      ]
     },
     "execution_count": 2,
     "metadata": {},
     "output_type": "execute_result"
    }
   ],
   "source": [
    "const closeall = HDF5fd.closeall"
   ]
  },
  {
   "cell_type": "code",
   "execution_count": 3,
   "metadata": {},
   "outputs": [],
   "source": [
    "openfiles = HDF5fd.filesDict();"
   ]
  },
  {
   "cell_type": "code",
   "execution_count": 4,
   "metadata": {},
   "outputs": [],
   "source": [
    "filename=\"data/PRS_L2D_STD_20200627102334_20200627102339_0001.he5\"\n",
    "\n",
    "in_file = HDF5fd.open(openfiles,filename,\"r\");"
   ]
  },
  {
   "cell_type": "markdown",
   "metadata": {},
   "source": [
    "# usecase 1: conversione completa  \n",
    "tutte le bande di vnir e swir  \n",
    "pancromatico  \n",
    "creazione file geotiff:  \n",
    "1. solo vnir\n",
    "2. solo swir\n",
    "3. pancromatico\n",
    "4. vnir+swir (full)  \n",
    "creazione file meta sulle bande(lunghezza, ampiezza)"
   ]
  },
  {
   "cell_type": "code",
   "execution_count": 5,
   "metadata": {},
   "outputs": [
    {
     "data": {
      "text/plain": [
       "\"out/try1/PRS_L2D_STD_20200627102334_20200627102339_0001.tif\""
      ]
     },
     "execution_count": 5,
     "metadata": {},
     "output_type": "execute_result"
    }
   ],
   "source": [
    "out_file = \"out/try1/PRS_L2D_STD_20200627102334_20200627102339_0001.tif\""
   ]
  },
  {
   "cell_type": "code",
   "execution_count": 9,
   "metadata": {},
   "outputs": [
    {
     "name": "stdout",
     "output_type": "stream",
     "text": [
      "out_folder = faux.dirname(out_file) = \"out/try1/\"\n",
      "creating folder out/try1/\n",
      "made folder\n",
      "loading attributes...\n",
      "building VNIR raster...\n",
      "####### create_cube start #########\n",
      "eos_create_VNIR\n",
      "processing level: 2D\n",
      "prendo cubo da HDF5 data file: data/PRS_L2D_STD_20200627102334_20200627102339_0001.he5 HDFEOS/SWATHS/PRS_L2D_HCO/Data Fields/VNIR_Cube\n",
      "prendo vnir\n",
      "no selbands, prendo tutto\n",
      "creating cube...\n",
      "Band: 1 not present\n",
      "Band: 2 not present\n",
      "Band: 3 not present\n",
      "Importing Band: 4 (402.30698) of: 1:66\n",
      "applico cubo errori\n",
      "tolto 0 pixel con errori\n",
      "Importing Band: 5 (411.18665) of: 1:66\n",
      "applico cubo errori\n",
      "tolto 0 pixel con errori\n",
      "Importing Band: 6 (419.25522) of: 1:66\n",
      "applico cubo errori\n",
      "tolto 0 pixel con errori\n",
      "Importing Band: 7 (426.85532) of: 1:66\n",
      "applico cubo errori\n",
      "tolto 0 pixel con errori\n",
      "Importing Band: 8 (434.19843) of: 1:66\n",
      "applico cubo errori\n",
      "tolto 0 pixel con errori\n",
      "Importing Band: 9 (441.5481) of: 1:66\n",
      "applico cubo errori\n",
      "tolto 0 pixel con errori\n",
      "Importing Band: 10 (448.92273) of: 1:66\n",
      "applico cubo errori\n",
      "tolto 0 pixel con errori\n",
      "Importing Band: 11 (456.2667) of: 1:66\n",
      "applico cubo errori\n",
      "tolto 0 pixel con errori\n",
      "Importing Band: 12 (463.61877) of: 1:66\n",
      "applico cubo errori\n",
      "tolto 0 pixel con errori\n",
      "Importing Band: 13 (470.8365) of: 1:66\n",
      "applico cubo errori\n",
      "tolto 0 pixel con errori\n",
      "Importing Band: 14 (478.0636) of: 1:66\n",
      "applico cubo errori\n",
      "tolto 0 pixel con errori\n",
      "Importing Band: 15 (485.2955) of: 1:66\n",
      "applico cubo errori\n",
      "tolto 0 pixel con errori\n",
      "Importing Band: 16 (492.58875) of: 1:66\n",
      "applico cubo errori\n",
      "tolto 0 pixel con errori\n",
      "Importing Band: 17 (500.0243) of: 1:66\n",
      "applico cubo errori\n",
      "tolto 0 pixel con errori\n",
      "Importing Band: 18 (507.54922) of: 1:66\n",
      "applico cubo errori\n",
      "tolto 0 pixel con errori\n",
      "Importing Band: 19 (515.06354) of: 1:66\n",
      "applico cubo errori\n",
      "tolto 0 pixel con errori\n",
      "Importing Band: 20 (522.80164) of: 1:66\n",
      "applico cubo errori\n",
      "tolto 0 pixel con errori\n",
      "Importing Band: 21 (530.55286) of: 1:66\n",
      "applico cubo errori\n",
      "tolto 0 pixel con errori\n",
      "Importing Band: 22 (538.37146) of: 1:66\n",
      "applico cubo errori\n",
      "tolto 0 pixel con errori\n",
      "Importing Band: 23 (546.3602) of: 1:66\n",
      "applico cubo errori\n",
      "tolto 0 pixel con errori\n",
      "Importing Band: 24 (554.4424) of: 1:66\n",
      "applico cubo errori\n",
      "tolto 0 pixel con errori\n",
      "Importing Band: 25 (562.61285) of: 1:66\n",
      "applico cubo errori\n",
      "tolto 0 pixel con errori\n",
      "Importing Band: 26 (570.87744) of: 1:66\n",
      "applico cubo errori\n",
      "tolto 0 pixel con errori\n",
      "Importing Band: 27 (579.22534) of: 1:66\n",
      "applico cubo errori\n",
      "tolto 0 pixel con errori\n",
      "Importing Band: 28 (587.69464) of: 1:66\n",
      "applico cubo errori\n",
      "tolto 0 pixel con errori\n",
      "Importing Band: 29 (596.34344) of: 1:66\n",
      "applico cubo errori\n",
      "tolto 0 pixel con errori\n",
      "Importing Band: 30 (605.25635) of: 1:66\n",
      "applico cubo errori\n",
      "tolto 0 pixel con errori\n",
      "Importing Band: 31 (614.0397) of: 1:66\n",
      "applico cubo errori\n",
      "tolto 0 pixel con errori\n",
      "Importing Band: 32 (623.06067) of: 1:66\n",
      "applico cubo errori\n",
      "tolto 0 pixel con errori\n",
      "Importing Band: 33 (631.9994) of: 1:66\n",
      "applico cubo errori\n",
      "tolto 0 pixel con errori\n",
      "Importing Band: 34 (641.1912) of: 1:66\n",
      "applico cubo errori\n",
      "tolto 0 pixel con errori\n",
      "Importing Band: 35 (650.6488) of: 1:66\n",
      "applico cubo errori\n",
      "tolto 0 pixel con errori\n",
      "Importing Band: 36 (660.12164) of: 1:66\n",
      "applico cubo errori\n",
      "tolto 0 pixel con errori\n",
      "Importing Band: 37 (669.6728) of: 1:66\n",
      "applico cubo errori\n",
      "tolto 0 pixel con errori\n",
      "Importing Band: 38 (679.32697) of: 1:66\n",
      "applico cubo errori\n",
      "tolto 0 pixel con errori\n",
      "Importing Band: 39 (689.27) of: 1:66\n",
      "applico cubo errori\n",
      "tolto 0 pixel con errori\n",
      "Importing Band: 40 (698.95276) of: 1:66\n",
      "applico cubo errori\n",
      "tolto 0 pixel con errori\n",
      "Importing Band: 41 (708.84326) of: 1:66\n",
      "applico cubo errori\n",
      "tolto 0 pixel con errori\n",
      "Importing Band: 42 (719.0215) of: 1:66\n",
      "applico cubo errori\n",
      "tolto 0 pixel con errori\n",
      "Importing Band: 43 (729.0935) of: 1:66\n",
      "applico cubo errori\n",
      "tolto 0 pixel con errori\n",
      "Importing Band: 44 (739.2641) of: 1:66\n",
      "applico cubo errori\n",
      "tolto 0 pixel con errori\n",
      "Importing Band: 45 (749.5765) of: 1:66\n",
      "applico cubo errori\n",
      "tolto 0 pixel con errori\n",
      "Importing Band: 46 (759.94037) of: 1:66\n",
      "applico cubo errori\n",
      "tolto 0 pixel con errori\n",
      "Importing Band: 47 (770.3736) of: 1:66\n",
      "applico cubo errori\n",
      "tolto 0 pixel con errori\n",
      "Importing Band: 48 (780.75714) of: 1:66\n",
      "applico cubo errori\n",
      "tolto 0 pixel con errori\n",
      "Importing Band: 49 (791.2043) of: 1:66\n",
      "applico cubo errori\n",
      "tolto 0 pixel con errori\n",
      "Importing Band: 50 (801.77826) of: 1:66\n",
      "applico cubo errori\n",
      "tolto 0 pixel con errori\n",
      "Importing Band: 51 (812.3819) of: 1:66\n",
      "applico cubo errori\n",
      "tolto 0 pixel con errori\n",
      "Importing Band: 52 (822.98755) of: 1:66\n",
      "applico cubo errori\n",
      "tolto 0 pixel con errori\n",
      "Importing Band: 53 (833.593) of: 1:66\n",
      "applico cubo errori\n",
      "tolto 0 pixel con errori\n",
      "Importing Band: 54 (844.26776) of: 1:66\n",
      "applico cubo errori\n",
      "tolto 0 pixel con errori\n",
      "Importing Band: 55 (855.02203) of: 1:66\n",
      "applico cubo errori\n",
      "tolto 0 pixel con errori\n",
      "Importing Band: 56 (865.789) of: 1:66\n",
      "applico cubo errori\n",
      "tolto 0 pixel con errori\n",
      "Importing Band: 57 (876.4779) of: 1:66\n",
      "applico cubo errori\n",
      "tolto 0 pixel con errori\n",
      "Importing Band: 58 (887.10297) of: 1:66\n",
      "applico cubo errori\n",
      "tolto 0 pixel con errori\n",
      "Importing Band: 59 (897.8235) of: 1:66\n",
      "applico cubo errori\n",
      "tolto 0 pixel con errori\n",
      "Importing Band: 60 (908.48267) of: 1:66\n",
      "applico cubo errori\n",
      "tolto 0 pixel con errori\n",
      "Importing Band: 61 (919.018) of: 1:66\n",
      "applico cubo errori\n",
      "tolto 0 pixel con errori\n",
      "Importing Band: 62 (929.23267) of: 1:66\n",
      "applico cubo errori\n",
      "tolto 0 pixel con errori\n",
      "Importing Band: 63 (939.7026) of: 1:66\n",
      "applico cubo errori\n",
      "tolto 0 pixel con errori\n",
      "Importing Band: 64 (951.18774) of: 1:66\n",
      "applico cubo errori\n",
      "tolto 0 pixel con errori\n",
      "Importing Band: 65 (962.1076) of: 1:66\n",
      "applico cubo errori\n",
      "tolto 0 pixel con errori\n",
      "Importing Band: 66 (972.4814) of: 1:66\n",
      "applico cubo errori\n",
      "tolto 0 pixel con errori\n",
      "cube created\n",
      "cube has (1235, 1209, 63) dims\n",
      "- Writing raster -\n",
      "getting geoloc info\n",
      "building geotranform array\n",
      "building coordinate reference system string\n",
      "preparing to write tiff\n",
      "file out/try1/PRS_L2D_STD_20200627102334_20200627102339_0001_VNIR.tif already exists\n",
      "set overwrite to true to overwrite\n",
      "building err cube with bands [4, 5, 6, 7, 8, 9, 10, 11, 12, 13, 14, 15, 16, 17, 18, 19, 20, 21, 22, 23, 24, 25, 26, 27, 28, 29, 30, 31, 32, 33, 34, 35, 36, 37, 38, 39, 40, 41, 42, 43, 44, 45, 46, 47, 48, 49, 50, 51, 52, 53, 54, 55, 56, 57, 58, 59, 60, 61, 62, 63, 64, 65, 66]\n",
      "getting indexes [4, 5, 6, 7, 8, 9, 10, 11, 12, 13, 14, 15, 16, 17, 18, 19, 20, 21, 22, 23, 24, 25, 26, 27, 28, 29, 30, 31, 32, 33, 34, 35, 36, 37, 38, 39, 40, 41, 42, 43, 44, 45, 46, 47, 48, 49, 50, 51, 52, 53, 54, 55, 56, 57, 58, 59, 60, 61, 62, 63, 64, 65, 66] from error cube\n",
      "created error cube of (1235, 1209, 63) dimensions\n",
      "preparing to write tiff\n",
      "file out/try1/PRS_L2D_STD_20200627102334_20200627102339_0001_VNIR_ERR.tif already exists\n",
      "set overwrite to true to overwrite\n",
      "creating and writing dataframe of selected bands with wavelengths and bandwidths\n",
      "####### create_cube end #########\n"
     ]
    }
   ],
   "source": [
    "eos_convert.maketif(in_file,out_file;allowed_errors=[0,1,2,3,4],SWIR=false,PAN=false,FULL=false)"
   ]
  },
  {
   "cell_type": "markdown",
   "metadata": {},
   "source": [
    "# usecase 2: selezione bande  \n",
    "come usecase 1 ma chiedendo solo alcune bande (o bande più vicine alle richieste)\n"
   ]
  },
  {
   "cell_type": "code",
   "execution_count": 13,
   "metadata": {},
   "outputs": [
    {
     "data": {
      "text/plain": [
       "\"out/try2/PRS_L2D_STD_20200627102334_20200627102339_0001.tif\""
      ]
     },
     "execution_count": 13,
     "metadata": {},
     "output_type": "execute_result"
    }
   ],
   "source": [
    "out_file2 = \"out/try2/PRS_L2D_STD_20200627102334_20200627102339_0001.tif\""
   ]
  },
  {
   "cell_type": "code",
   "execution_count": 14,
   "metadata": {},
   "outputs": [],
   "source": [
    "selbands_vnir = [400,500,700,900,340,330]#inserire bande vnir desiderate qui\n",
    "selbands_swir = [1200,3000,2900,2100,1320];#inserire bande vnir desiderate qui"
   ]
  },
  {
   "cell_type": "code",
   "execution_count": 15,
   "metadata": {},
   "outputs": [
    {
     "name": "stdout",
     "output_type": "stream",
     "text": [
      "out_folder = faux.dirname(out_file) = \"out/try2/\"\n",
      "creating folder out/try2/\n",
      "made folder\n",
      "loading attributes...\n",
      "building VNIR raster...\n",
      "####### create_cube start #########\n",
      "eos_create_VNIR\n",
      "processing level: 2D\n",
      "prendo cubo da HDF5 data file: data/PRS_L2D_STD_20200627102334_20200627102339_0001.he5 HDFEOS/SWATHS/PRS_L2D_HCO/Data Fields/VNIR_Cube\n",
      "prendo vnir\n",
      "VNIR wavelengths requested: Float32[330.0, 340.0, 400.0, 500.0, 700.0, 900.0]\n",
      "closest VNIR wavelengths: Float32[402.30698, 402.30698, 402.30698, 500.0243, 698.95276, 897.8235]\n",
      "creating cube...\n",
      "Importing Band: 4 (402.30698) of: 1:66\n",
      "Importing Band: 4 (402.30698) of: 1:66\n",
      "Importing Band: 4 (402.30698) of: 1:66\n",
      "Importing Band: 17 (500.0243) of: 1:66\n",
      "Importing Band: 40 (698.95276) of: 1:66\n",
      "Importing Band: 59 (897.8235) of: 1:66\n",
      "cube created\n",
      "cube has (1235, 1209, 6) dims\n",
      "- Writing raster -\n",
      "getting geoloc info\n",
      "building geotranform array\n",
      "building coordinate reference system string\n",
      "preparing to write tiff\n",
      "file out/try2/PRS_L2D_STD_20200627102334_20200627102339_0001_VNIR.tif already exists\n",
      "overwrite set, removing file\n",
      "writing bands in  empty tiff\n",
      "finished writing bands\n",
      "setting geotransform\n",
      "setting crs string\n",
      "finished writing on out/try2/PRS_L2D_STD_20200627102334_20200627102339_0001_VNIR.tif\n",
      "creating and writing dataframe of selected bands with wavelengths and bandwidths\n",
      "####### create_cube end #########\n",
      "building VNIR raster...\n",
      "####### create_cube start #########\n",
      "eos_create_SWIR\n",
      "processing level: 2D\n",
      "prendo cubo da HDF5 data file: data/PRS_L2D_STD_20200627102334_20200627102339_0001.he5 HDFEOS/SWATHS/PRS_L2D_HCO/Data Fields/SWIR_Cube\n",
      "prendo swir\n",
      "SWIR wavelengths requested: Float32[1200.0, 1320.0, 2100.0, 2900.0, 3000.0]\n",
      "closest SWIR wavelengths: Float32[1196.1561, 1316.9906, 2102.517, 2496.8467, 2496.8467]\n",
      "creating cube...\n",
      "Importing Band: 28 (1196.1561) of: 1:173\n",
      "Importing Band: 39 (1316.9906) of: 1:173\n",
      "Importing Band: 120 (2102.517) of: 1:173\n",
      "Importing Band: 173 (2496.8467) of: 1:173\n",
      "Importing Band: 173 (2496.8467) of: 1:173\n",
      "cube created\n",
      "cube has (1235, 1209, 5) dims\n",
      "- Writing raster -\n",
      "getting geoloc info\n",
      "building geotranform array\n",
      "building coordinate reference system string\n",
      "preparing to write tiff\n",
      "file out/try2/PRS_L2D_STD_20200627102334_20200627102339_0001_SWIR.tif already exists\n",
      "overwrite set, removing file\n",
      "writing bands in  empty tiff\n",
      "finished writing bands\n",
      "setting geotransform\n",
      "setting crs string\n",
      "finished writing on out/try2/PRS_L2D_STD_20200627102334_20200627102339_0001_SWIR.tif\n",
      "creating and writing dataframe of selected bands with wavelengths and bandwidths\n",
      "####### create_cube end #########\n",
      "getting geoloc info\n",
      "building geotranform array\n",
      "building coordinate reference system string\n",
      "reading bands 1 to 5 , this might take a while...\n",
      "finished reading bands\n",
      "reading bands 1 to 6 , this might take a while...\n",
      "finished reading bands\n",
      "preparing to write tiff\n",
      "file out/try2/PRS_L2D_STD_20200627102334_20200627102339_0001_FULL.tif already exists\n",
      "overwrite set, removing file\n",
      "writing bands in  empty tiff\n",
      "finished writing bands\n",
      "setting geotransform\n",
      "setting crs string\n",
      "finished writing on out/try2/PRS_L2D_STD_20200627102334_20200627102339_0001_FULL.tif\n",
      "getting geoloc info\n",
      "building geotranform array\n",
      "building coordinate reference system string\n",
      "preparing to write tiff\n",
      "file out/try2/PRS_L2D_STD_20200627102334_20200627102339_0001_PAN.tif already exists\n",
      "overwrite set, removing file\n",
      "writing bands in  empty tiff\n",
      "finished writing bands\n",
      "setting geotransform\n",
      "setting crs string\n",
      "finished writing on out/try2/PRS_L2D_STD_20200627102334_20200627102339_0001_PAN.tif\n"
     ]
    },
    {
     "data": {
      "text/plain": [
       "\"out/try2/PRS_L2D_STD_20200627102334_20200627102339_0001_PAN.tif\""
      ]
     },
     "execution_count": 15,
     "metadata": {},
     "output_type": "execute_result"
    }
   ],
   "source": [
    "eos_convert.maketif(in_file,##NB: in_file dev esser già aperto, a diff di pr_convert    \n",
    "      out_file2;\n",
    "    selbands_vnir=selbands_vnir,\n",
    "    selbands_swir=selbands_swir,\n",
    "    overwrite=true)#setto overwrite=true per sovrascrivere file vecchi"
   ]
  },
  {
   "cell_type": "markdown",
   "metadata": {},
   "source": [
    "# usecase 3: matrice errori\n",
    "\n",
    "legenda errcube:  \n",
    "* x_{ibj} = 0 -> pixel_{ij} della banda b va bene\n",
    "* x_{ibj} = 1 -> pixel_{ij} della banda b Invalid pixel from L1 product\n",
    "* x_{ibj} = 2 -> pixel_{ij} della banda b Negative value after atcor\n",
    "* x_{ibj} = 3 -> pixel_{ij} della banda b Saturated value after atcor\n",
    "\n",
    "diamo alla funzione un array di errori concessi"
   ]
  },
  {
   "cell_type": "code",
   "execution_count": 16,
   "metadata": {},
   "outputs": [
    {
     "data": {
      "text/plain": [
       "1-element Array{Int64,1}:\n",
       " 0"
      ]
     },
     "execution_count": 16,
     "metadata": {},
     "output_type": "execute_result"
    }
   ],
   "source": [
    "allowed = [0]"
   ]
  },
  {
   "cell_type": "code",
   "execution_count": 17,
   "metadata": {},
   "outputs": [
    {
     "data": {
      "text/plain": [
       "\"out/try3/PRS_L2D_STD_20200627102334_20200627102339_0001.tif\""
      ]
     },
     "execution_count": 17,
     "metadata": {},
     "output_type": "execute_result"
    }
   ],
   "source": [
    "out_file3 = \"out/try3/PRS_L2D_STD_20200627102334_20200627102339_0001.tif\""
   ]
  },
  {
   "cell_type": "code",
   "execution_count": 18,
   "metadata": {},
   "outputs": [
    {
     "name": "stdout",
     "output_type": "stream",
     "text": [
      "out_folder = faux.dirname(out_file) = \"out/try3/\"\n",
      "creating folder out/try3/\n",
      "made folder\n",
      "loading attributes...\n",
      "building VNIR raster...\n",
      "####### create_cube start #########\n",
      "eos_create_VNIR\n",
      "processing level: 2D\n",
      "prendo cubo da HDF5 data file: data/PRS_L2D_STD_20200627102334_20200627102339_0001.he5 HDFEOS/SWATHS/PRS_L2D_HCO/Data Fields/VNIR_Cube\n",
      "prendo vnir\n",
      "VNIR wavelengths requested: Float32[330.0, 340.0, 400.0, 500.0, 700.0, 900.0]\n",
      "closest VNIR wavelengths: Float32[402.30698, 402.30698, 402.30698, 500.0243, 698.95276, 897.8235]\n",
      "creating cube...\n",
      "Importing Band: 4 (402.30698) of: 1:66\n",
      "applico cubo errori\n",
      "tolto 416041 pixel con errori\n",
      "Importing Band: 4 (402.30698) of: 1:66\n",
      "applico cubo errori\n",
      "tolto 416041 pixel con errori\n",
      "Importing Band: 4 (402.30698) of: 1:66\n",
      "applico cubo errori\n",
      "tolto 416041 pixel con errori\n",
      "Importing Band: 17 (500.0243) of: 1:66\n",
      "applico cubo errori\n",
      "tolto 1702 pixel con errori\n",
      "Importing Band: 40 (698.95276) of: 1:66\n",
      "applico cubo errori\n",
      "tolto 1679 pixel con errori\n",
      "Importing Band: 59 (897.8235) of: 1:66\n",
      "applico cubo errori\n",
      "tolto 1683 pixel con errori\n",
      "cube created\n",
      "cube has (1235, 1209, 6) dims\n",
      "- Writing raster -\n",
      "getting geoloc info\n",
      "building geotranform array\n",
      "building coordinate reference system string\n",
      "preparing to write tiff\n",
      "file out/try3/PRS_L2D_STD_20200627102334_20200627102339_0001_VNIR.tif already exists\n",
      "overwrite set, removing file\n",
      "writing bands in  empty tiff\n",
      "finished writing bands\n",
      "setting geotransform\n",
      "setting crs string\n",
      "finished writing on out/try3/PRS_L2D_STD_20200627102334_20200627102339_0001_VNIR.tif\n",
      "building err cube with bands [4, 4, 4, 17, 40, 59]\n",
      "getting indexes [4, 4, 4, 17, 40, 59] from error cube\n",
      "created error cube of (1235, 1209, 6) dimensions\n",
      "preparing to write tiff\n",
      "file out/try3/PRS_L2D_STD_20200627102334_20200627102339_0001_VNIR_ERR.tif already exists\n",
      "overwrite set, removing file\n",
      "writing bands in  empty tiff\n",
      "finished writing bands\n",
      "setting geotransform\n",
      "setting crs string\n",
      "finished writing on out/try3/PRS_L2D_STD_20200627102334_20200627102339_0001_VNIR_ERR.tif\n",
      "creating and writing dataframe of selected bands with wavelengths and bandwidths\n",
      "####### create_cube end #########\n",
      "building VNIR raster...\n",
      "####### create_cube start #########\n",
      "eos_create_SWIR\n",
      "processing level: 2D\n",
      "prendo cubo da HDF5 data file: data/PRS_L2D_STD_20200627102334_20200627102339_0001.he5 HDFEOS/SWATHS/PRS_L2D_HCO/Data Fields/SWIR_Cube\n",
      "prendo swir\n",
      "SWIR wavelengths requested: Float32[1200.0, 1320.0, 2100.0, 2900.0, 3000.0]\n",
      "closest SWIR wavelengths: Float32[1196.1561, 1316.9906, 2102.517, 2496.8467, 2496.8467]\n",
      "creating cube...\n",
      "Importing Band: 28 (1196.1561) of: 1:173\n",
      "applico cubo errori\n",
      "tolto 3767 pixel con errori\n",
      "Importing Band: 39 (1316.9906) of: 1:173\n",
      "applico cubo errori\n",
      "tolto 1773 pixel con errori\n",
      "Importing Band: 120 (2102.517) of: 1:173\n",
      "applico cubo errori\n",
      "tolto 2729 pixel con errori\n",
      "Importing Band: 173 (2496.8467) of: 1:173\n",
      "applico cubo errori\n",
      "tolto 906383 pixel con errori\n",
      "Importing Band: 173 (2496.8467) of: 1:173\n",
      "applico cubo errori\n",
      "tolto 906383 pixel con errori\n",
      "cube created\n",
      "cube has (1235, 1209, 5) dims\n",
      "- Writing raster -\n",
      "getting geoloc info\n",
      "building geotranform array\n",
      "building coordinate reference system string\n",
      "preparing to write tiff\n",
      "file out/try3/PRS_L2D_STD_20200627102334_20200627102339_0001_SWIR.tif already exists\n",
      "overwrite set, removing file\n",
      "writing bands in  empty tiff\n",
      "finished writing bands\n",
      "setting geotransform\n",
      "setting crs string\n",
      "finished writing on out/try3/PRS_L2D_STD_20200627102334_20200627102339_0001_SWIR.tif\n",
      "building err cube with bands [28, 39, 120, 173, 173]\n",
      "getting indexes [28, 39, 120, 173, 173] from error cube\n",
      "created error cube of (1235, 1209, 5) dimensions\n",
      "preparing to write tiff\n",
      "file out/try3/PRS_L2D_STD_20200627102334_20200627102339_0001_SWIR_ERR.tif already exists\n",
      "overwrite set, removing file\n",
      "writing bands in  empty tiff\n",
      "finished writing bands\n",
      "setting geotransform\n",
      "setting crs string\n",
      "finished writing on out/try3/PRS_L2D_STD_20200627102334_20200627102339_0001_SWIR_ERR.tif\n",
      "creating and writing dataframe of selected bands with wavelengths and bandwidths\n",
      "####### create_cube end #########\n",
      "getting geoloc info\n",
      "building geotranform array\n",
      "building coordinate reference system string\n",
      "reading bands 1 to 5 , this might take a while...\n",
      "finished reading bands\n",
      "reading bands 1 to 6 , this might take a while...\n",
      "finished reading bands\n",
      "preparing to write tiff\n",
      "file out/try3/PRS_L2D_STD_20200627102334_20200627102339_0001_FULL.tif already exists\n",
      "overwrite set, removing file\n",
      "writing bands in  empty tiff\n",
      "finished writing bands\n",
      "setting geotransform\n",
      "setting crs string\n",
      "finished writing on out/try3/PRS_L2D_STD_20200627102334_20200627102339_0001_FULL.tif\n",
      "getting geoloc info\n",
      "building geotranform array\n",
      "building coordinate reference system string\n",
      "preparing to write tiff\n",
      "file out/try3/PRS_L2D_STD_20200627102334_20200627102339_0001_PAN.tif already exists\n",
      "overwrite set, removing file\n",
      "writing bands in  empty tiff\n",
      "finished writing bands\n",
      "setting geotransform\n",
      "setting crs string\n",
      "finished writing on out/try3/PRS_L2D_STD_20200627102334_20200627102339_0001_PAN.tif\n"
     ]
    },
    {
     "data": {
      "text/plain": [
       "\"out/try3/PRS_L2D_STD_20200627102334_20200627102339_0001_PAN.tif\""
      ]
     },
     "execution_count": 18,
     "metadata": {},
     "output_type": "execute_result"
    }
   ],
   "source": [
    "eos_convert.maketif(in_file,##NB: in_file dev esser già aperto, a diff di pr_convert    \n",
    "      out_file3;\n",
    "    selbands_vnir=selbands_vnir,\n",
    "    selbands_swir=selbands_swir,\n",
    "    overwrite=true,#setto overwrite=true per sovrascrivere file vecchi\n",
    "    allowed_errors = allowed)"
   ]
  },
  {
   "cell_type": "code",
   "execution_count": 19,
   "metadata": {},
   "outputs": [
    {
     "name": "stdout",
     "output_type": "stream",
     "text": [
      "chiuso 1 file\n"
     ]
    }
   ],
   "source": [
    "closeall(openfiles)"
   ]
  },
  {
   "cell_type": "code",
   "execution_count": 10,
   "metadata": {},
   "outputs": [
    {
     "data": {
      "text/plain": [
       "10500"
      ]
     },
     "execution_count": 10,
     "metadata": {},
     "output_type": "execute_result"
    }
   ],
   "source": [
    "750 * 7 * 2"
   ]
  },
  {
   "cell_type": "code",
   "execution_count": null,
   "metadata": {},
   "outputs": [],
   "source": []
  }
 ],
 "metadata": {
  "kernelspec": {
   "display_name": "Julia 1.5.1",
   "language": "julia",
   "name": "julia-1.5"
  },
  "language_info": {
   "file_extension": ".jl",
   "mimetype": "application/julia",
   "name": "julia",
   "version": "1.5.1"
  }
 },
 "nbformat": 4,
 "nbformat_minor": 4
}
