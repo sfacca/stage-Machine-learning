{
 "cells": [
  {
   "cell_type": "code",
   "execution_count": 75,
   "metadata": {},
   "outputs": [
    {
     "name": "stderr",
     "output_type": "stream",
     "text": [
      "WARNING: replacing module HDF5fd.\n",
      "WARNING: replacing module eos_convert.\n",
      "WARNING: replacing module faux.\n",
      "WARNING: replacing module faux.\n",
      "WARNING: replacing module rastwrite_lines.\n",
      "WARNING: replacing module faux.\n",
      "WARNING: replacing module faux.\n",
      "WARNING: replacing module eos_geoloc.\n",
      "WARNING: replacing module errcube.\n",
      "WARNING: replacing module rastwrite_lines.\n",
      "WARNING: replacing module rastwrite_lines.\n",
      "WARNING: replacing module faux.\n",
      "WARNING: replacing module rastwrite_lines.\n",
      "WARNING: replacing module eos_geoloc.\n",
      "WARNING: replacing module rastwrite_lines.\n",
      "WARNING: replacing module faux.\n",
      "WARNING: replacing module faux.\n",
      "WARNING: replacing module eos_geoloc.\n",
      "WARNING: replacing module errcube.\n",
      "WARNING: replacing module rastwrite_lines.\n",
      "WARNING: replacing module rastwrite_lines.\n"
     ]
    },
    {
     "data": {
      "text/plain": [
       "Main.eos_convert"
      ]
     },
     "execution_count": 75,
     "metadata": {},
     "output_type": "execute_result"
    }
   ],
   "source": [
    "include(\"../../code/julia/HDF5filesDict.jl\")\n",
    "include(\"../../code/julia/eos_convert.jl\")"
   ]
  },
  {
   "cell_type": "code",
   "execution_count": 69,
   "metadata": {},
   "outputs": [
    {
     "ename": "LoadError",
     "evalue": "invalid redefinition of constant closeall",
     "output_type": "error",
     "traceback": [
      "invalid redefinition of constant closeall",
      "",
      "Stacktrace:",
      " [1] top-level scope at In[69]:1",
      " [2] include_string(::Function, ::Module, ::String, ::String) at .\\loading.jl:1091",
      " [3] execute_code(::String, ::String) at C:\\Users\\i am\\.julia\\packages\\IJulia\\rWZ9e\\src\\execute_request.jl:27",
      " [4] execute_request(::ZMQ.Socket, ::IJulia.Msg) at C:\\Users\\i am\\.julia\\packages\\IJulia\\rWZ9e\\src\\execute_request.jl:86",
      " [5] #invokelatest#1 at .\\essentials.jl:710 [inlined]",
      " [6] invokelatest at .\\essentials.jl:709 [inlined]",
      " [7] eventloop(::ZMQ.Socket) at C:\\Users\\i am\\.julia\\packages\\IJulia\\rWZ9e\\src\\eventloop.jl:8",
      " [8] (::IJulia.var\"#15#18\")() at .\\task.jl:356"
     ]
    }
   ],
   "source": [
    "const closeall = HDF5fd.closeall"
   ]
  },
  {
   "cell_type": "code",
   "execution_count": 3,
   "metadata": {},
   "outputs": [],
   "source": [
    "openfiles = HDF5fd.filesDict();"
   ]
  },
  {
   "cell_type": "code",
   "execution_count": 4,
   "metadata": {},
   "outputs": [],
   "source": [
    "filename=\"data/PRS_L2D_STD_20200627102334_20200627102339_0001.he5\"\n",
    "in_file = HDF5fd.open(openfiles,filename,\"r\");"
   ]
  },
  {
   "cell_type": "markdown",
   "metadata": {},
   "source": [
    "# usecase 1: conversione completa  \n",
    "tutte le bande di vnir e swir  \n",
    "pancromatico  \n",
    "creazione file geotiff:  \n",
    "1. solo vnir\n",
    "2. solo swir\n",
    "3. pancromatico\n",
    "4. vnir+swir (full)  \n",
    "creazione file meta sulle bande(lunghezza, ampiezza)"
   ]
  },
  {
   "cell_type": "code",
   "execution_count": null,
   "metadata": {},
   "outputs": [],
   "source": [
    "out_file = \"out/try1/PRS_L2D_STD_20200627102334_20200627102339_0001.tif\""
   ]
  },
  {
   "cell_type": "code",
   "execution_count": null,
   "metadata": {},
   "outputs": [],
   "source": [
    "eos_convert(in_file,out_file)"
   ]
  },
  {
   "cell_type": "code",
   "execution_count": null,
   "metadata": {},
   "outputs": [],
   "source": [
    "closeall(openfiles)"
   ]
  },
  {
   "cell_type": "markdown",
   "metadata": {},
   "source": [
    "# usecase 2: selezione bande  \n",
    "come usecase 1 ma chiedendo solo alcune bande (o bande più vicine alle richieste)\n"
   ]
  },
  {
   "cell_type": "code",
   "execution_count": 5,
   "metadata": {},
   "outputs": [
    {
     "data": {
      "text/plain": [
       "\"out/try2/PRS_L2D_STD_20200627102334_20200627102339_0001.tif\""
      ]
     },
     "execution_count": 5,
     "metadata": {},
     "output_type": "execute_result"
    }
   ],
   "source": [
    "out_file2 = \"out/try2/PRS_L2D_STD_20200627102334_20200627102339_0001.tif\""
   ]
  },
  {
   "cell_type": "code",
   "execution_count": 34,
   "metadata": {},
   "outputs": [],
   "source": [
    "selbands_vnir = [400,500,700,900,340,330]#inserire bande vnir desiderate qui\n",
    "selbands_swir = [1200,3000,2900,2100,1320];#inserire bande vnir desiderate qui"
   ]
  },
  {
   "cell_type": "code",
   "execution_count": 31,
   "metadata": {},
   "outputs": [
    {
     "name": "stdout",
     "output_type": "stream",
     "text": [
      "out_folder = faux.dirname(out_file) = \"out/try2/\"\n",
      "creating folder out/try2/\n",
      "made folder\n",
      "loading attributes...\n",
      "building VNIR raster...\n",
      "####### create_cube start #########\n",
      "eos_create_VNIR\n",
      "processing level: 2D\n",
      "prendo cubo da HDF5 data file: data/PRS_L2D_STD_20200627102334_20200627102339_0001.he5 HDFEOS/SWATHS/PRS_L2D_HCO/Data Fields/VNIR_Cube\n",
      "prendo vnir\n",
      "VNIR wavelengths requested: Float32[400.0, 500.0, 700.0, 900.0]\n",
      "closest VNIR wavelengths: Float32[402.30698, 500.0243, 698.95276, 897.8235]\n",
      "creating cube...\n",
      "Importing Band: 4 (402.30698) of: 1:66\n",
      "Importing Band: 17 (500.0243) of: 1:66\n",
      "Importing Band: 40 (698.95276) of: 1:66\n",
      "Importing Band: 59 (897.8235) of: 1:66\n",
      "cube created\n",
      "cube has (1235, 1209, 4) dims\n",
      "- Writing raster -\n",
      "getting geoloc info\n",
      "building geotranform array\n",
      "building coordinate reference system string\n",
      "preparing to write tiff\n",
      "file out/try2/PRS_L2D_STD_20200627102334_20200627102339_0001_VNIR.tif already exists\n",
      "overwrite set, removing file\n",
      "writing bands in  empty tiff\n",
      "finished writing bands\n",
      "setting geotransform\n",
      "setting crs string\n",
      "finished writing on out/try2/PRS_L2D_STD_20200627102334_20200627102339_0001_VNIR.tif\n",
      "creating and writing dataframe of selected bands with wavelengths and bandwidths\n",
      "####### create_cube end #########\n",
      "building VNIR raster...\n",
      "####### create_cube start #########\n",
      "eos_create_SWIR\n",
      "processing level: 2D\n",
      "prendo cubo da HDF5 data file: data/PRS_L2D_STD_20200627102334_20200627102339_0001.he5 HDFEOS/SWATHS/PRS_L2D_HCO/Data Fields/SWIR_Cube\n",
      "prendo swir\n",
      "SWIR wavelengths requested: Float32[1200.0, 2100.0, 2900.0, 3000.0]\n",
      "closest SWIR wavelengths: Float32[1196.1561, 2102.517, 2496.8467, 2496.8467]\n",
      "creating cube...\n",
      "Importing Band: 28 (1196.1561) of: 1:173\n",
      "Importing Band: 120 (2102.517) of: 1:173\n",
      "Importing Band: 173 (2496.8467) of: 1:173\n",
      "Importing Band: 173 (2496.8467) of: 1:173\n",
      "cube created\n",
      "cube has (1235, 1209, 4) dims\n",
      "- Writing raster -\n",
      "getting geoloc info\n",
      "building geotranform array\n",
      "building coordinate reference system string\n",
      "preparing to write tiff\n",
      "file out/try2/PRS_L2D_STD_20200627102334_20200627102339_0001_SWIR.tif already exists\n",
      "set overwrite to true to overwrite\n",
      "creating and writing dataframe of selected bands with wavelengths and bandwidths\n",
      "####### create_cube end #########\n",
      "getting geoloc info\n",
      "building geotranform array\n",
      "building coordinate reference system string\n",
      "reading bands 1 to 3 , this might take a while...\n",
      "finished reading bands\n",
      "reading bands 1 to 4 , this might take a while...\n",
      "finished reading bands\n",
      "preparing to write tiff\n",
      "file out/try2/PRS_L2D_STD_20200627102334_20200627102339_0001_FULL.tif already exists\n",
      "overwrite set, removing file\n",
      "writing bands in  empty tiff\n",
      "finished writing bands\n",
      "setting geotransform\n",
      "setting crs string\n",
      "finished writing on out/try2/PRS_L2D_STD_20200627102334_20200627102339_0001_FULL.tif\n",
      "getting geoloc info\n",
      "building geotranform array\n",
      "building coordinate reference system string\n",
      "preparing to write tiff\n",
      "file out/try2/PRS_L2D_STD_20200627102334_20200627102339_0001_PAN.tif already exists\n",
      "overwrite set, removing file\n",
      "writing bands in  empty tiff\n",
      "finished writing bands\n",
      "setting geotransform\n",
      "setting crs string\n",
      "finished writing on out/try2/PRS_L2D_STD_20200627102334_20200627102339_0001_PAN.tif\n"
     ]
    },
    {
     "data": {
      "text/plain": [
       "\"out/try2/PRS_L2D_STD_20200627102334_20200627102339_0001_PAN.tif\""
      ]
     },
     "execution_count": 31,
     "metadata": {},
     "output_type": "execute_result"
    }
   ],
   "source": [
    "eos_convert.maketif(in_file,##NB: in_file dev esser già aperto, a diff di pr_convert    \n",
    "      out_file2;\n",
    "    selbands_vnir=selbands_vnir,\n",
    "    selbands_swir=selbands_swir,\n",
    "    overwrite=true)#setto overwrite=true per sovrascrivere file vecchi"
   ]
  },
  {
   "cell_type": "markdown",
   "metadata": {},
   "source": [
    "# usecase 3: matrice errori\n",
    "\n",
    "legenda errcube:  \n",
    "* x_{ibj} = 0 -> pixel_{ij} della banda b va bene\n",
    "* x_{ibj} = 1 -> pixel_{ij} della banda b Invalid pixel from L1 product\n",
    "* x_{ibj} = 2 -> pixel_{ij} della banda b Negative value after atcor\n",
    "* x_{ibj} = 3 -> pixel_{ij} della banda b Saturated value after atcor\n",
    "\n",
    "diamo alla funzione un array di errori concessi"
   ]
  },
  {
   "cell_type": "code",
   "execution_count": 92,
   "metadata": {},
   "outputs": [
    {
     "data": {
      "text/plain": [
       "2-element Array{Int64,1}:\n",
       " 0\n",
       " 1"
      ]
     },
     "execution_count": 92,
     "metadata": {},
     "output_type": "execute_result"
    }
   ],
   "source": [
    "allowed = [0,1]"
   ]
  },
  {
   "cell_type": "code",
   "execution_count": 93,
   "metadata": {},
   "outputs": [
    {
     "data": {
      "text/plain": [
       "\"out/try3/PRS_L2D_STD_20200627102334_20200627102339_0001.tif\""
      ]
     },
     "execution_count": 93,
     "metadata": {},
     "output_type": "execute_result"
    }
   ],
   "source": [
    "out_file3 = \"out/try3/PRS_L2D_STD_20200627102334_20200627102339_0001.tif\""
   ]
  },
  {
   "cell_type": "code",
   "execution_count": 96,
   "metadata": {},
   "outputs": [
    {
     "name": "stdout",
     "output_type": "stream",
     "text": [
      "out_folder = faux.dirname(out_file) = \"out/try3/\"\n",
      "creating folder out/try3/\n",
      "made folder\n",
      "loading attributes...\n",
      "building VNIR raster...\n",
      "####### create_cube start #########\n",
      "eos_create_VNIR\n",
      "processing level: 2D\n",
      "prendo cubo da HDF5 data file: data/PRS_L2D_STD_20200627102334_20200627102339_0001.he5 HDFEOS/SWATHS/PRS_L2D_HCO/Data Fields/VNIR_Cube\n",
      "prendo vnir\n",
      "VNIR wavelengths requested: Float32[330.0, 340.0, 400.0, 500.0, 700.0, 900.0]\n",
      "closest VNIR wavelengths: Float32[402.30698, 402.30698, 402.30698, 500.0243, 698.95276, 897.8235]\n",
      "creating cube...\n",
      "Importing Band: 4 (402.30698) of: 1:66\n",
      "applico cubo errori\n",
      "tolto 18898 pixel con errori\n",
      "Importing Band: 4 (402.30698) of: 1:66\n",
      "applico cubo errori\n",
      "tolto 18898 pixel con errori\n",
      "Importing Band: 4 (402.30698) of: 1:66\n",
      "applico cubo errori\n",
      "tolto 18898 pixel con errori\n",
      "Importing Band: 17 (500.0243) of: 1:66\n",
      "applico cubo errori\n",
      "tolto 1685 pixel con errori\n",
      "Importing Band: 40 (698.95276) of: 1:66\n",
      "applico cubo errori\n",
      "tolto 1656 pixel con errori\n",
      "Importing Band: 59 (897.8235) of: 1:66\n",
      "applico cubo errori\n",
      "tolto 622 pixel con errori\n",
      "cube created\n",
      "cube has (1235, 1209, 6) dims\n",
      "- Writing raster -\n",
      "getting geoloc info\n",
      "building geotranform array\n",
      "building coordinate reference system string\n",
      "preparing to write tiff\n",
      "file out/try3/PRS_L2D_STD_20200627102334_20200627102339_0001_VNIR.tif already exists\n",
      "overwrite set, removing file\n",
      "writing bands in  empty tiff\n",
      "finished writing bands\n",
      "setting geotransform\n",
      "setting crs string\n",
      "finished writing on out/try3/PRS_L2D_STD_20200627102334_20200627102339_0001_VNIR.tif\n",
      "building err cube with bands [4, 4, 4, 17, 40, 59]\n",
      "getting indexes [4, 4, 4, 17, 40, 59] from error cube\n",
      "preparing to write tiff\n",
      "file out/try3/PRS_L2D_STD_20200627102334_20200627102339_0001_VNIR_ERR.tif already exists\n",
      "overwrite set, removing file\n",
      "writing bands in  empty tiff\n",
      "finished writing bands\n",
      "setting geotransform\n",
      "setting crs string\n",
      "finished writing on out/try3/PRS_L2D_STD_20200627102334_20200627102339_0001_VNIR_ERR.tif\n",
      "creating and writing dataframe of selected bands with wavelengths and bandwidths\n",
      "####### create_cube end #########\n",
      "building VNIR raster...\n",
      "####### create_cube start #########\n",
      "eos_create_SWIR\n",
      "processing level: 2D\n",
      "prendo cubo da HDF5 data file: data/PRS_L2D_STD_20200627102334_20200627102339_0001.he5 HDFEOS/SWATHS/PRS_L2D_HCO/Data Fields/SWIR_Cube\n",
      "prendo swir\n",
      "SWIR wavelengths requested: Float32[1200.0, 1320.0, 2100.0, 2900.0, 3000.0]\n",
      "closest SWIR wavelengths: Float32[1196.1561, 1316.9906, 2102.517, 2496.8467, 2496.8467]\n",
      "creating cube...\n",
      "Importing Band: 28 (1196.1561) of: 1:173\n",
      "applico cubo errori\n",
      "tolto 566 pixel con errori\n",
      "Importing Band: 39 (1316.9906) of: 1:173\n",
      "applico cubo errori\n",
      "tolto 665 pixel con errori\n",
      "Importing Band: 120 (2102.517) of: 1:173\n",
      "applico cubo errori\n",
      "tolto 376 pixel con errori\n",
      "Importing Band: 173 (2496.8467) of: 1:173\n",
      "applico cubo errori\n",
      "tolto 2 pixel con errori\n",
      "Importing Band: 173 (2496.8467) of: 1:173\n",
      "applico cubo errori\n",
      "tolto 2 pixel con errori\n",
      "cube created\n",
      "cube has (1235, 1209, 5) dims\n",
      "- Writing raster -\n",
      "getting geoloc info\n",
      "building geotranform array\n",
      "building coordinate reference system string\n",
      "preparing to write tiff\n",
      "file out/try3/PRS_L2D_STD_20200627102334_20200627102339_0001_SWIR.tif already exists\n",
      "overwrite set, removing file\n",
      "writing bands in  empty tiff\n",
      "finished writing bands\n",
      "setting geotransform\n",
      "setting crs string\n",
      "finished writing on out/try3/PRS_L2D_STD_20200627102334_20200627102339_0001_SWIR.tif\n",
      "building err cube with bands [28, 39, 120, 173, 173]\n",
      "getting indexes [28, 39, 120, 173, 173] from error cube\n",
      "preparing to write tiff\n",
      "file out/try3/PRS_L2D_STD_20200627102334_20200627102339_0001_SWIR_ERR.tif already exists\n",
      "overwrite set, removing file\n",
      "writing bands in  empty tiff\n",
      "finished writing bands\n",
      "setting geotransform\n",
      "setting crs string\n",
      "finished writing on out/try3/PRS_L2D_STD_20200627102334_20200627102339_0001_SWIR_ERR.tif\n",
      "creating and writing dataframe of selected bands with wavelengths and bandwidths\n",
      "####### create_cube end #########\n",
      "getting geoloc info\n",
      "building geotranform array\n",
      "building coordinate reference system string\n",
      "reading bands 1 to 5 , this might take a while...\n",
      "finished reading bands\n",
      "reading bands 1 to 6 , this might take a while...\n",
      "finished reading bands\n",
      "preparing to write tiff\n",
      "file out/try3/PRS_L2D_STD_20200627102334_20200627102339_0001_FULL.tif already exists\n",
      "overwrite set, removing file\n",
      "writing bands in  empty tiff\n",
      "finished writing bands\n",
      "setting geotransform\n",
      "setting crs string\n",
      "finished writing on out/try3/PRS_L2D_STD_20200627102334_20200627102339_0001_FULL.tif\n",
      "getting geoloc info\n",
      "building geotranform array\n",
      "building coordinate reference system string\n",
      "preparing to write tiff\n",
      "file out/try3/PRS_L2D_STD_20200627102334_20200627102339_0001_PAN.tif already exists\n",
      "overwrite set, removing file\n",
      "writing bands in  empty tiff\n",
      "finished writing bands\n",
      "setting geotransform\n",
      "setting crs string\n",
      "finished writing on out/try3/PRS_L2D_STD_20200627102334_20200627102339_0001_PAN.tif\n"
     ]
    },
    {
     "data": {
      "text/plain": [
       "\"out/try3/PRS_L2D_STD_20200627102334_20200627102339_0001_PAN.tif\""
      ]
     },
     "execution_count": 96,
     "metadata": {},
     "output_type": "execute_result"
    }
   ],
   "source": [
    "eos_convert.maketif(in_file,##NB: in_file dev esser già aperto, a diff di pr_convert    \n",
    "      out_file3;\n",
    "    selbands_vnir=selbands_vnir,\n",
    "    selbands_swir=selbands_swir,\n",
    "    overwrite=true,#setto overwrite=true per sovrascrivere file vecchi\n",
    "    allowed_errors = allowed)"
   ]
  },
  {
   "cell_type": "code",
   "execution_count": 95,
   "metadata": {},
   "outputs": [
    {
     "name": "stderr",
     "output_type": "stream",
     "text": [
      "WARNING: replacing module eos_convert.\n",
      "WARNING: replacing module faux.\n",
      "WARNING: replacing module faux.\n",
      "WARNING: replacing module rastwrite_lines.\n",
      "WARNING: replacing module faux.\n",
      "WARNING: replacing module faux.\n",
      "WARNING: replacing module eos_geoloc.\n",
      "WARNING: replacing module errcube.\n",
      "WARNING: replacing module rastwrite_lines.\n",
      "WARNING: replacing module rastwrite_lines.\n",
      "WARNING: replacing module faux.\n",
      "WARNING: replacing module rastwrite_lines.\n",
      "WARNING: replacing module eos_geoloc.\n",
      "WARNING: replacing module rastwrite_lines.\n",
      "WARNING: replacing module faux.\n",
      "WARNING: replacing module faux.\n",
      "WARNING: replacing module eos_geoloc.\n",
      "WARNING: replacing module errcube.\n",
      "WARNING: replacing module rastwrite_lines.\n",
      "WARNING: replacing module rastwrite_lines.\n"
     ]
    },
    {
     "data": {
      "text/plain": [
       "Main.eos_convert"
      ]
     },
     "execution_count": 95,
     "metadata": {},
     "output_type": "execute_result"
    }
   ],
   "source": [
    "include(\"../../code/julia/eos_convert.jl\")"
   ]
  }
 ],
 "metadata": {
  "kernelspec": {
   "display_name": "Julia 1.5.1",
   "language": "julia",
   "name": "julia-1.5"
  },
  "language_info": {
   "file_extension": ".jl",
   "mimetype": "application/julia",
   "name": "julia",
   "version": "1.5.1"
  }
 },
 "nbformat": 4,
 "nbformat_minor": 4
}
