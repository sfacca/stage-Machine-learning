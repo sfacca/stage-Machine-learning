{
 "cells": [
  {
   "cell_type": "code",
   "execution_count": 52,
   "metadata": {},
   "outputs": [
    {
     "name": "stderr",
     "output_type": "stream",
     "text": [
      "WARNING: replacing module HDF5fd.\n",
      "WARNING: replacing module eos_convert.\n",
      "WARNING: replacing module faux.\n",
      "WARNING: replacing module faux.\n",
      "WARNING: replacing module faux.\n",
      "WARNING: replacing module faux.\n",
      "WARNING: replacing module eos_geoloc.\n",
      "WARNING: replacing module errcube.\n",
      "WARNING: replacing module rastwrite_lines.\n",
      "WARNING: replacing module faux.\n",
      "WARNING: replacing module rastwrite_lines.\n",
      "WARNING: replacing module eos_geoloc.\n",
      "WARNING: replacing module rastwrite_lines.\n",
      "WARNING: replacing module faux.\n"
     ]
    },
    {
     "data": {
      "text/plain": [
       "Main.eos_convert"
      ]
     },
     "execution_count": 52,
     "metadata": {},
     "output_type": "execute_result"
    }
   ],
   "source": [
    "include(\"../../code/julia/HDF5filesDict.jl\")\n",
    "include(\"../../code/julia/eos_convert.jl\")"
   ]
  },
  {
   "cell_type": "code",
   "execution_count": 2,
   "metadata": {},
   "outputs": [
    {
     "data": {
      "text/plain": [
       "closeall (generic function with 1 method)"
      ]
     },
     "execution_count": 2,
     "metadata": {},
     "output_type": "execute_result"
    }
   ],
   "source": [
    "const closeall = HDF5fd.closeall"
   ]
  },
  {
   "cell_type": "code",
   "execution_count": 4,
   "metadata": {},
   "outputs": [],
   "source": [
    "openfiles = HDF5fd.filesDict();"
   ]
  },
  {
   "cell_type": "code",
   "execution_count": 19,
   "metadata": {},
   "outputs": [
    {
     "data": {
      "text/plain": [
       "\"out/try1/PRS_L2D_STD_20200627102334_20200627102339_0001.tif\""
      ]
     },
     "execution_count": 19,
     "metadata": {},
     "output_type": "execute_result"
    }
   ],
   "source": [
    "filename=\"data/PRS_L2D_STD_20200627102334_20200627102339_0001.he5\"\n",
    "in_file = HDF5fd.open(openfiles,filename,\"r\");"
   ]
  },
  {
   "cell_type": "markdown",
   "metadata": {},
   "source": [
    "# usecase 1: conversione completa  \n",
    "tutte le bande di vnir e swir  \n",
    "pancromatico  \n",
    "creazione file geotiff:  \n",
    "1. solo vnir\n",
    "2. solo swir\n",
    "3. pancromatico\n",
    "4. vnir+swir (full)  \n",
    "creazione file meta sulle bande(lunghezza, ampiezza)"
   ]
  },
  {
   "cell_type": "code",
   "execution_count": null,
   "metadata": {},
   "outputs": [],
   "source": [
    "out_file = \"out/try1/PRS_L2D_STD_20200627102334_20200627102339_0001.tif\""
   ]
  },
  {
   "cell_type": "code",
   "execution_count": 53,
   "metadata": {},
   "outputs": [
    {
     "name": "stdout",
     "output_type": "stream",
     "text": [
      "file out/try1/PRS_L2D_STD_20200627102334_20200627102339_0001_VNIR.tif already exists, set overwrite to true\n",
      "file out/try1/PRS_L2D_STD_20200627102334_20200627102339_0001_SWIR.tif already exists, set overwrite to true\n",
      "getting geoloc info\n",
      "building geotranform array\n",
      "building coordinate reference system string\n",
      "crs: PROJCS[\"WGS 84 / UTM zone 32N\",GEOGCS[\"WGS 84\",DATUM[\"WGS_1984\",SPHEROID[\"WGS 84\",6378137,298.257223563,AUTHORITY[\"EPSG\",\"7030\"]],AUTHORITY[\"EPSG\",\"6326\"]],PRIMEM[\"Greenwich\",0,AUTHORITY[\"EPSG\",\"8901\"]],UNIT[\"degree\",0.0174532925199433,AUTHORITY[\"EPSG\",\"9122\"]],AUTHORITY[\"EPSG\",\"4326\"]],PROJECTION[\"Transverse_Mercator\"],PARAMETER[\"latitude_of_origin\",0],PARAMETER[\"central_meridian\",9],PARAMETER[\"scale_factor\",0.9996],PARAMETER[\"false_easting\",500000],PARAMETER[\"false_northing\",0],UNIT[\"metre\",1,AUTHORITY[\"EPSG\",\"9001\"]],AXIS[\"Easting\",EAST],AXIS[\"Northing\",NORTH],AUTHORITY[\"EPSG\",\"32632\"]]\n",
      "reading bands 5 to 171 , this might take a while...\n",
      "finished reading bands\n",
      "reading bands 1 to 63 , this might take a while...\n",
      "finished reading bands\n",
      "preparing to write tiff\n",
      "writing bands in  empty tiff\n",
      "finished writing bands\n",
      "setting geotransform\n",
      "setting crs string\n",
      "finished writing on out/try1/PRS_L2D_STD_20200627102334_20200627102339_0001_FULL.tif\n",
      "out/try1/PRS_L2D_STD_20200627102334_20200627102339_0001_PAN.tif già esistente\n",
      "getting geoloc info\n",
      "building geotranform array\n",
      "building coordinate reference system string\n",
      "crs: PROJCS[\"WGS 84 / UTM zone 32N\",GEOGCS[\"WGS 84\",DATUM[\"WGS_1984\",SPHEROID[\"WGS 84\",6378137,298.257223563,AUTHORITY[\"EPSG\",\"7030\"]],AUTHORITY[\"EPSG\",\"6326\"]],PRIMEM[\"Greenwich\",0,AUTHORITY[\"EPSG\",\"8901\"]],UNIT[\"degree\",0.0174532925199433,AUTHORITY[\"EPSG\",\"9122\"]],AUTHORITY[\"EPSG\",\"4326\"]],PROJECTION[\"Transverse_Mercator\"],PARAMETER[\"latitude_of_origin\",0],PARAMETER[\"central_meridian\",9],PARAMETER[\"scale_factor\",0.9996],PARAMETER[\"false_easting\",500000],PARAMETER[\"false_northing\",0],UNIT[\"metre\",1,AUTHORITY[\"EPSG\",\"9001\"]],AXIS[\"Easting\",EAST],AXIS[\"Northing\",NORTH],AUTHORITY[\"EPSG\",\"32632\"]]\n",
      "preparing to write tiff\n",
      "writing bands in  empty tiff\n",
      "finished writing bands\n",
      "setting geotransform\n",
      "setting crs string\n",
      "finished writing on out/try1/PRS_L2D_STD_20200627102334_20200627102339_0001_PAN.tif\n"
     ]
    },
    {
     "data": {
      "text/plain": [
       "\"out/try1/PRS_L2D_STD_20200627102334_20200627102339_0001_PAN.tif\""
      ]
     },
     "execution_count": 53,
     "metadata": {},
     "output_type": "execute_result"
    }
   ],
   "source": [
    "eos_convert.convert(in_file,out_file)"
   ]
  },
  {
   "cell_type": "code",
   "execution_count": 54,
   "metadata": {},
   "outputs": [
    {
     "name": "stdout",
     "output_type": "stream",
     "text": [
      "chiuso 1 file\n"
     ]
    }
   ],
   "source": [
    "closeall(openfiles)"
   ]
  },
  {
   "cell_type": "markdown",
   "metadata": {},
   "source": [
    "# usecase 2: selezione bande  \n",
    "come usecase 1 ma chiedendo solo alcune bande (o bande più vicine alle richieste)\n"
   ]
  },
  {
   "cell_type": "code",
   "execution_count": 56,
   "metadata": {},
   "outputs": [
    {
     "data": {
      "text/plain": [
       "\"out/try2/PRS_L2D_STD_20200627102334_20200627102339_0001.tif\""
      ]
     },
     "execution_count": 56,
     "metadata": {},
     "output_type": "execute_result"
    }
   ],
   "source": [
    "out_file2 = \"out/try2/PRS_L2D_STD_20200627102334_20200627102339_0001.tif\""
   ]
  },
  {
   "cell_type": "code",
   "execution_count": null,
   "metadata": {},
   "outputs": [],
   "source": [
    "selbands_vnir = []#inserire bande vnir desiderate qui\n",
    "selbands_swir = []#inserire bande vnir desiderate qui"
   ]
  },
  {
   "cell_type": "code",
   "execution_count": null,
   "metadata": {},
   "outputs": [],
   "source": [
    "eos_convert.convert(in_file2,##NB: in_file dev esser già aperto, a diff di pr_convert    \n",
    "      out_file,      \n",
    "      \"HCO\",      \n",
    "      true,#boolean: true-> crea tif pancroatico\n",
    "      true,#boolean: true-> crea tif cubo vnir\n",
    "      true, #boolean: true-> crea tif pancroatico\n",
    "      true,#boolean: true-> crea tif pancroatico\n",
    "      \"VNIR\",\n",
    "      false,\n",
    "      selbands_vnir, \n",
    "      selbands_swir)"
   ]
  }
 ],
 "metadata": {
  "kernelspec": {
   "display_name": "Julia 1.5.1",
   "language": "julia",
   "name": "julia-1.5"
  },
  "language_info": {
   "file_extension": ".jl",
   "mimetype": "application/julia",
   "name": "julia",
   "version": "1.5.1"
  }
 },
 "nbformat": 4,
 "nbformat_minor": 4
}
