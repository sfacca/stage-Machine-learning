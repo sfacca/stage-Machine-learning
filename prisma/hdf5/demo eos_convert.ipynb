{
 "cells": [
  {
   "cell_type": "code",
   "execution_count": 11,
   "metadata": {},
   "outputs": [
    {
     "name": "stderr",
     "output_type": "stream",
     "text": [
      "WARNING: replacing module HDF5fd.\n",
      "WARNING: replacing module eos_convert.\n",
      "WARNING: replacing module faux.\n",
      "WARNING: replacing module rastwrite_lines.\n",
      "WARNING: replacing module faux.\n",
      "WARNING: replacing module faux.\n",
      "WARNING: replacing module eos_geoloc.\n",
      "WARNING: replacing module rastwrite_lines.\n",
      "WARNING: replacing module rastwrite_lines.\n"
     ]
    },
    {
     "data": {
      "text/plain": [
       "Main.eos_convert"
      ]
     },
     "execution_count": 11,
     "metadata": {},
     "output_type": "execute_result"
    }
   ],
   "source": [
    "include(\"../../code/julia/HDF5filesDict.jl\")\n",
    "include(\"../../code/julia/eos_convert.jl\")"
   ]
  },
  {
   "cell_type": "code",
   "execution_count": 2,
   "metadata": {},
   "outputs": [
    {
     "data": {
      "text/plain": [
       "closeall (generic function with 1 method)"
      ]
     },
     "execution_count": 2,
     "metadata": {},
     "output_type": "execute_result"
    }
   ],
   "source": [
    "const closeall = HDF5fd.closeall"
   ]
  },
  {
   "cell_type": "code",
   "execution_count": 3,
   "metadata": {},
   "outputs": [],
   "source": [
    "openfiles = HDF5fd.filesDict();"
   ]
  },
  {
   "cell_type": "code",
   "execution_count": 4,
   "metadata": {},
   "outputs": [],
   "source": [
    "filename=\"data/PRS_L2D_STD_20200627102334_20200627102339_0001.he5\"\n",
    "in_file = HDF5fd.open(openfiles,filename,\"r\");"
   ]
  },
  {
   "cell_type": "markdown",
   "metadata": {},
   "source": [
    "# usecase 1: conversione completa  \n",
    "tutte le bande di vnir e swir  \n",
    "pancromatico  \n",
    "creazione file geotiff:  \n",
    "1. solo vnir\n",
    "2. solo swir\n",
    "3. pancromatico\n",
    "4. vnir+swir (full)  \n",
    "creazione file meta sulle bande(lunghezza, ampiezza)"
   ]
  },
  {
   "cell_type": "code",
   "execution_count": 5,
   "metadata": {},
   "outputs": [
    {
     "data": {
      "text/plain": [
       "\"out/try1/PRS_L2D_STD_20200627102334_20200627102339_0001.tif\""
      ]
     },
     "execution_count": 5,
     "metadata": {},
     "output_type": "execute_result"
    }
   ],
   "source": [
    "out_file = \"out/try1/PRS_L2D_STD_20200627102334_20200627102339_0001.tif\""
   ]
  },
  {
   "cell_type": "code",
   "execution_count": 12,
   "metadata": {},
   "outputs": [
    {
     "name": "stdout",
     "output_type": "stream",
     "text": [
      "out_folder = faux.dirname(out_file) = \"out/try1/\"\n",
      "creating folder out/try1/\n",
      "made folder\n",
      "loading attributes...\n",
      "building VNIR raster...\n",
      "####### create_cube start #########\n",
      "eos_create_VNIR\n",
      "processing level: 2D\n",
      "prendo cubo da HDF5 data file: data/PRS_L2D_STD_20200627102334_20200627102339_0001.he5 HDFEOS/SWATHS/PRS_L2D_HCO/Data Fields/VNIR_Cube\n",
      "prendo vnir\n",
      "no selbands, prendo tutto\n",
      "creating cube...\n",
      "Band: 1 not present\n",
      "Band: 2 not present\n",
      "Band: 3 not present\n",
      "Importing Band: 4 (402.30698) of: 1:66\n",
      "Importing Band: 5 (411.18665) of: 1:66\n",
      "Importing Band: 6 (419.25522) of: 1:66\n",
      "Importing Band: 7 (426.85532) of: 1:66\n",
      "Importing Band: 8 (434.19843) of: 1:66\n",
      "Importing Band: 9 (441.5481) of: 1:66\n",
      "Importing Band: 10 (448.92273) of: 1:66\n",
      "Importing Band: 11 (456.2667) of: 1:66\n",
      "Importing Band: 12 (463.61877) of: 1:66\n",
      "Importing Band: 13 (470.8365) of: 1:66\n",
      "Importing Band: 14 (478.0636) of: 1:66\n",
      "Importing Band: 15 (485.2955) of: 1:66\n",
      "Importing Band: 16 (492.58875) of: 1:66\n",
      "Importing Band: 17 (500.0243) of: 1:66\n",
      "Importing Band: 18 (507.54922) of: 1:66\n",
      "Importing Band: 19 (515.06354) of: 1:66\n",
      "Importing Band: 20 (522.80164) of: 1:66\n",
      "Importing Band: 21 (530.55286) of: 1:66\n",
      "Importing Band: 22 (538.37146) of: 1:66\n",
      "Importing Band: 23 (546.3602) of: 1:66\n",
      "Importing Band: 24 (554.4424) of: 1:66\n",
      "Importing Band: 25 (562.61285) of: 1:66\n",
      "Importing Band: 26 (570.87744) of: 1:66\n",
      "Importing Band: 27 (579.22534) of: 1:66\n",
      "Importing Band: 28 (587.69464) of: 1:66\n",
      "Importing Band: 29 (596.34344) of: 1:66\n",
      "Importing Band: 30 (605.25635) of: 1:66\n",
      "Importing Band: 31 (614.0397) of: 1:66\n",
      "Importing Band: 32 (623.06067) of: 1:66\n",
      "Importing Band: 33 (631.9994) of: 1:66\n",
      "Importing Band: 34 (641.1912) of: 1:66\n",
      "Importing Band: 35 (650.6488) of: 1:66\n",
      "Importing Band: 36 (660.12164) of: 1:66\n",
      "Importing Band: 37 (669.6728) of: 1:66\n",
      "Importing Band: 38 (679.32697) of: 1:66\n",
      "Importing Band: 39 (689.27) of: 1:66\n",
      "Importing Band: 40 (698.95276) of: 1:66\n",
      "Importing Band: 41 (708.84326) of: 1:66\n",
      "Importing Band: 42 (719.0215) of: 1:66\n",
      "Importing Band: 43 (729.0935) of: 1:66\n",
      "Importing Band: 44 (739.2641) of: 1:66\n",
      "Importing Band: 45 (749.5765) of: 1:66\n",
      "Importing Band: 46 (759.94037) of: 1:66\n",
      "Importing Band: 47 (770.3736) of: 1:66\n",
      "Importing Band: 48 (780.75714) of: 1:66\n",
      "Importing Band: 49 (791.2043) of: 1:66\n",
      "Importing Band: 50 (801.77826) of: 1:66\n",
      "Importing Band: 51 (812.3819) of: 1:66\n",
      "Importing Band: 52 (822.98755) of: 1:66\n",
      "Importing Band: 53 (833.593) of: 1:66\n",
      "Importing Band: 54 (844.26776) of: 1:66\n",
      "Importing Band: 55 (855.02203) of: 1:66\n",
      "Importing Band: 56 (865.789) of: 1:66\n",
      "Importing Band: 57 (876.4779) of: 1:66\n",
      "Importing Band: 58 (887.10297) of: 1:66\n",
      "Importing Band: 59 (897.8235) of: 1:66\n",
      "Importing Band: 60 (908.48267) of: 1:66\n",
      "Importing Band: 61 (919.018) of: 1:66\n",
      "Importing Band: 62 (929.23267) of: 1:66\n",
      "Importing Band: 63 (939.7026) of: 1:66\n",
      "Importing Band: 64 (951.18774) of: 1:66\n",
      "Importing Band: 65 (962.1076) of: 1:66\n",
      "Importing Band: 66 (972.4814) of: 1:66\n",
      "cube created\n",
      "cube has (1235, 1209, 63) dims\n",
      "- Writing raster -\n",
      "getting geoloc info\n",
      "building geotranform array\n",
      "building coordinate reference system string\n",
      "preparing to write tiff\n",
      "file out/try1/PRS_L2D_STD_20200627102334_20200627102339_0001_VNIR.tif already exists\n",
      "set overwrite to true to overwrite\n",
      "creating and writing dataframe of selected bands with wavelengths and bandwidths\n",
      "####### create_cube end #########\n",
      "building VNIR raster...\n",
      "####### create_cube start #########\n",
      "eos_create_SWIR\n",
      "processing level: 2D\n",
      "prendo cubo da HDF5 data file: data/PRS_L2D_STD_20200627102334_20200627102339_0001.he5 HDFEOS/SWATHS/PRS_L2D_HCO/Data Fields/SWIR_Cube\n",
      "prendo swir\n",
      "no selbands, prendo tutto\n",
      "creating cube...\n",
      "Band: 1 not present\n",
      "Band: 2 not present\n",
      "Importing Band: 3 (942.9125) of: 1:173\n",
      "Importing Band: 4 (950.9671) of: 1:173\n",
      "Importing Band: 5 (959.4708) of: 1:173\n",
      "Importing Band: 6 (969.3384) of: 1:173\n",
      "Importing Band: 7 (978.68256) of: 1:173\n",
      "Importing Band: 8 (988.3542) of: 1:173\n",
      "Importing Band: 9 (998.3145) of: 1:173\n",
      "Importing Band: 10 (1008.11426) of: 1:173\n",
      "Importing Band: 11 (1017.92206) of: 1:173\n",
      "Importing Band: 12 (1028.7452) of: 1:173\n",
      "Importing Band: 13 (1037.7394) of: 1:173\n",
      "Importing Band: 14 (1047.4034) of: 1:173\n",
      "Importing Band: 15 (1057.3585) of: 1:173\n",
      "Importing Band: 16 (1067.589) of: 1:173\n",
      "Importing Band: 17 (1078.019) of: 1:173\n",
      "Importing Band: 18 (1088.5704) of: 1:173\n",
      "Importing Band: 19 (1099.0891) of: 1:173\n",
      "Importing Band: 20 (1109.724) of: 1:173\n",
      "Importing Band: 21 (1120.4741) of: 1:173\n",
      "Importing Band: 22 (1131.1246) of: 1:173\n",
      "Importing Band: 23 (1141.8513) of: 1:173\n",
      "Importing Band: 24 (1152.4513) of: 1:173\n",
      "Importing Band: 25 (1163.4624) of: 1:173\n",
      "Importing Band: 26 (1174.5045) of: 1:173\n",
      "Importing Band: 27 (1185.3763) of: 1:173\n",
      "Importing Band: 28 (1196.1561) of: 1:173\n",
      "Importing Band: 29 (1207.0968) of: 1:173\n",
      "Importing Band: 30 (1217.6769) of: 1:173\n",
      "Importing Band: 31 (1228.9778) of: 1:173\n",
      "Importing Band: 32 (1240.039) of: 1:173\n",
      "Importing Band: 33 (1250.7747) of: 1:173\n",
      "Importing Band: 34 (1262.3119) of: 1:173\n",
      "Importing Band: 35 (1273.2849) of: 1:173\n",
      "Importing Band: 36 (1284.256) of: 1:173\n",
      "Importing Band: 37 (1295.1713) of: 1:173\n",
      "Importing Band: 38 (1306.028) of: 1:173\n",
      "Importing Band: 39 (1316.9906) of: 1:173\n",
      "Importing Band: 40 (1328.0659) of: 1:173\n",
      "Importing Band: 41 (1338.9255) of: 1:173\n",
      "Importing Band: 42 (1349.5776) of: 1:173\n",
      "Importing Band: 43 (1360.8188) of: 1:173\n",
      "Importing Band: 44 (1372.6971) of: 1:173\n",
      "Importing Band: 45 (1382.9774) of: 1:173\n",
      "Importing Band: 46 (1394.4984) of: 1:173\n",
      "Importing Band: 47 (1405.3613) of: 1:173\n",
      "Importing Band: 48 (1416.2845) of: 1:173\n",
      "Importing Band: 49 (1427.0751) of: 1:173\n",
      "Importing Band: 50 (1438.1364) of: 1:173\n",
      "Importing Band: 51 (1448.8906) of: 1:173\n",
      "Importing Band: 52 (1459.0394) of: 1:173\n",
      "Importing Band: 53 (1469.6742) of: 1:173\n",
      "Importing Band: 54 (1480.595) of: 1:173\n",
      "Importing Band: 55 (1491.1715) of: 1:173\n",
      "Importing Band: 56 (1501.7516) of: 1:173\n",
      "Importing Band: 57 (1512.3888) of: 1:173\n",
      "Importing Band: 58 (1522.9829) of: 1:173\n",
      "Importing Band: 59 (1533.5404) of: 1:173\n",
      "Importing Band: 60 (1544.0078) of: 1:173\n",
      "Importing Band: 61 (1554.5532) of: 1:173\n",
      "Importing Band: 62 (1565.0934) of: 1:173\n",
      "Importing Band: 63 (1575.3665) of: 1:173\n",
      "Importing Band: 64 (1585.6056) of: 1:173\n",
      "Importing Band: 65 (1595.9495) of: 1:173\n",
      "Importing Band: 66 (1606.2151) of: 1:173\n",
      "Importing Band: 67 (1616.5557) of: 1:173\n",
      "Importing Band: 68 (1626.7543) of: 1:173\n",
      "Importing Band: 69 (1636.8278) of: 1:173\n",
      "Importing Band: 70 (1646.9432) of: 1:173\n",
      "Importing Band: 71 (1656.7543) of: 1:173\n",
      "Importing Band: 72 (1666.9418) of: 1:173\n",
      "Importing Band: 73 (1677.1025) of: 1:173\n",
      "Importing Band: 74 (1687.1427) of: 1:173\n",
      "Importing Band: 75 (1696.9769) of: 1:173\n",
      "Importing Band: 76 (1706.775) of: 1:173\n",
      "Importing Band: 77 (1716.5677) of: 1:173\n",
      "Importing Band: 78 (1726.4131) of: 1:173\n",
      "Importing Band: 79 (1736.2291) of: 1:173\n",
      "Importing Band: 80 (1745.8966) of: 1:173\n",
      "Importing Band: 81 (1755.5168) of: 1:173\n",
      "Importing Band: 82 (1765.2238) of: 1:173\n",
      "Importing Band: 83 (1774.8856) of: 1:173\n",
      "Importing Band: 84 (1784.4108) of: 1:173\n",
      "Importing Band: 85 (1793.659) of: 1:173\n",
      "Importing Band: 86 (1803.3405) of: 1:173\n",
      "Importing Band: 87 (1812.7944) of: 1:173\n",
      "Importing Band: 88 (1822.1156) of: 1:173\n",
      "Importing Band: 89 (1831.7087) of: 1:173\n",
      "Importing Band: 90 (1841.0182) of: 1:173\n",
      "Importing Band: 91 (1850.2476) of: 1:173\n",
      "Importing Band: 92 (1859.2682) of: 1:173\n",
      "Importing Band: 93 (1868.0004) of: 1:173\n",
      "Importing Band: 94 (1878.4316) of: 1:173\n",
      "Importing Band: 95 (1886.7803) of: 1:173\n",
      "Importing Band: 96 (1895.8186) of: 1:173\n",
      "Importing Band: 97 (1904.5936) of: 1:173\n",
      "Importing Band: 98 (1914.0193) of: 1:173\n",
      "Importing Band: 99 (1923.0553) of: 1:173\n",
      "Importing Band: 100 (1931.9612) of: 1:173\n",
      "Importing Band: 101 (1940.799) of: 1:173\n",
      "Importing Band: 102 (1949.6094) of: 1:173\n",
      "Importing Band: 103 (1958.3417) of: 1:173\n",
      "Importing Band: 104 (1967.0269) of: 1:173\n",
      "Importing Band: 105 (1975.7551) of: 1:173\n",
      "Importing Band: 106 (1984.5131) of: 1:173\n",
      "Importing Band: 107 (1993.2593) of: 1:173\n",
      "Importing Band: 108 (2001.8124) of: 1:173\n",
      "Importing Band: 109 (2010.3817) of: 1:173\n",
      "Importing Band: 110 (2019.0186) of: 1:173\n",
      "Importing Band: 111 (2027.4476) of: 1:173\n",
      "Importing Band: 112 (2035.9652) of: 1:173\n",
      "Importing Band: 113 (2044.393) of: 1:173\n",
      "Importing Band: 114 (2052.7288) of: 1:173\n",
      "Importing Band: 115 (2061.1108) of: 1:173\n",
      "Importing Band: 116 (2069.5098) of: 1:173\n",
      "Importing Band: 117 (2077.7244) of: 1:173\n",
      "Importing Band: 118 (2086.0688) of: 1:173\n",
      "Importing Band: 119 (2094.383) of: 1:173\n",
      "Importing Band: 120 (2102.517) of: 1:173\n",
      "Importing Band: 121 (2110.7913) of: 1:173\n",
      "Importing Band: 122 (2118.924) of: 1:173\n",
      "Importing Band: 123 (2127.0664) of: 1:173\n",
      "Importing Band: 124 (2135.204) of: 1:173\n",
      "Importing Band: 125 (2143.1985) of: 1:173\n",
      "Importing Band: 126 (2151.0962) of: 1:173\n",
      "Importing Band: 127 (2159.2566) of: 1:173\n",
      "Importing Band: 128 (2167.2263) of: 1:173\n",
      "Importing Band: 129 (2175.0403) of: 1:173\n",
      "Importing Band: 130 (2183.1565) of: 1:173\n",
      "Importing Band: 131 (2190.8054) of: 1:173\n",
      "Importing Band: 132 (2198.859) of: 1:173\n",
      "Importing Band: 133 (2206.5698) of: 1:173\n",
      "Importing Band: 134 (2214.3093) of: 1:173\n",
      "Importing Band: 135 (2222.1665) of: 1:173\n",
      "Importing Band: 136 (2229.7244) of: 1:173\n",
      "Importing Band: 137 (2237.6187) of: 1:173\n",
      "Importing Band: 138 (2245.187) of: 1:173\n",
      "Importing Band: 139 (2252.8188) of: 1:173\n",
      "Importing Band: 140 (2260.6008) of: 1:173\n",
      "Importing Band: 141 (2268.0142) of: 1:173\n",
      "Importing Band: 142 (2275.7373) of: 1:173\n",
      "Importing Band: 143 (2283.2505) of: 1:173\n",
      "Importing Band: 144 (2290.5444) of: 1:173\n",
      "Importing Band: 145 (2298.3037) of: 1:173\n",
      "Importing Band: 146 (2305.477) of: 1:173\n",
      "Importing Band: 147 (2312.8794) of: 1:173\n",
      "Importing Band: 148 (2320.6113) of: 1:173\n",
      "Importing Band: 149 (2327.5823) of: 1:173\n",
      "Importing Band: 150 (2335.2031) of: 1:173\n",
      "Importing Band: 151 (2342.5625) of: 1:173\n",
      "Importing Band: 152 (2349.5508) of: 1:173\n",
      "Importing Band: 153 (2356.9917) of: 1:173\n",
      "Importing Band: 154 (2364.3455) of: 1:173\n",
      "Importing Band: 155 (2371.312) of: 1:173\n",
      "Importing Band: 156 (2378.4797) of: 1:173\n",
      "Importing Band: 157 (2385.7798) of: 1:173\n",
      "Importing Band: 158 (2392.8196) of: 1:173\n",
      "Importing Band: 159 (2399.7744) of: 1:173\n",
      "Importing Band: 160 (2407.3086) of: 1:173\n",
      "Importing Band: 161 (2414.1338) of: 1:173\n",
      "Importing Band: 162 (2420.959) of: 1:173\n",
      "Importing Band: 163 (2428.3699) of: 1:173\n",
      "Importing Band: 164 (2435.3022) of: 1:173\n",
      "Importing Band: 165 (2442.1633) of: 1:173\n",
      "Importing Band: 166 (2448.8987) of: 1:173\n",
      "Importing Band: 167 (2456.3005) of: 1:173\n",
      "Importing Band: 168 (2462.7883) of: 1:173\n",
      "Importing Band: 169 (2469.3916) of: 1:173\n",
      "Importing Band: 170 (2476.7615) of: 1:173\n",
      "Importing Band: 171 (2483.5676) of: 1:173\n",
      "Importing Band: 172 (2490.0066) of: 1:173\n",
      "Importing Band: 173 (2496.8467) of: 1:173\n",
      "cube created\n",
      "cube has (1235, 1209, 171) dims\n",
      "- Writing raster -\n",
      "getting geoloc info\n",
      "building geotranform array\n",
      "building coordinate reference system string\n",
      "preparing to write tiff\n",
      "file out/try1/PRS_L2D_STD_20200627102334_20200627102339_0001_SWIR.tif already exists\n",
      "set overwrite to true to overwrite\n",
      "creating and writing dataframe of selected bands with wavelengths and bandwidths\n",
      "####### create_cube end #########\n",
      "getting geoloc info\n",
      "building geotranform array\n",
      "building coordinate reference system string\n",
      "file out/try1/PRS_L2D_STD_20200627102334_20200627102339_0001_FULL.tif already exists and overwrite is false\n"
     ]
    },
    {
     "name": "stderr",
     "output_type": "stream",
     "text": [
      "┌ Warning: errori in create_full!\n",
      "└ @ Main.eos_convert C:\\Users\\i am\\Documents\\GitHub\\stage-Machine-learning\\code\\julia\\eos_create_FULL.jl:39\n"
     ]
    },
    {
     "name": "stdout",
     "output_type": "stream",
     "text": [
      "[\"file out/try1/PRS_L2D_STD_20200627102334_20200627102339_0001_FULL.tif already exists and overwrite is false\"]\n",
      "getting geoloc info\n",
      "building geotranform array\n",
      "building coordinate reference system string\n",
      "preparing to write tiff\n",
      "file out/try1/PRS_L2D_STD_20200627102334_20200627102339_0001_PAN.tif already exists\n",
      "set overwrite to true to overwrite\n"
     ]
    }
   ],
   "source": [
    "eos_convert.maketif(in_file,out_file)"
   ]
  },
  {
   "cell_type": "markdown",
   "metadata": {},
   "source": [
    "# usecase 2: selezione bande  \n",
    "come usecase 1 ma chiedendo solo alcune bande (o bande più vicine alle richieste)\n"
   ]
  },
  {
   "cell_type": "code",
   "execution_count": 13,
   "metadata": {},
   "outputs": [
    {
     "data": {
      "text/plain": [
       "\"out/try2/PRS_L2D_STD_20200627102334_20200627102339_0001.tif\""
      ]
     },
     "execution_count": 13,
     "metadata": {},
     "output_type": "execute_result"
    }
   ],
   "source": [
    "out_file2 = \"out/try2/PRS_L2D_STD_20200627102334_20200627102339_0001.tif\""
   ]
  },
  {
   "cell_type": "code",
   "execution_count": 14,
   "metadata": {},
   "outputs": [],
   "source": [
    "selbands_vnir = [400,500,700,900,340,330]#inserire bande vnir desiderate qui\n",
    "selbands_swir = [1200,3000,2900,2100,1320];#inserire bande vnir desiderate qui"
   ]
  },
  {
   "cell_type": "code",
   "execution_count": 15,
   "metadata": {},
   "outputs": [
    {
     "name": "stdout",
     "output_type": "stream",
     "text": [
      "out_folder = faux.dirname(out_file) = \"out/try2/\"\n",
      "creating folder out/try2/\n",
      "made folder\n",
      "loading attributes...\n",
      "building VNIR raster...\n",
      "####### create_cube start #########\n",
      "eos_create_VNIR\n",
      "processing level: 2D\n",
      "prendo cubo da HDF5 data file: data/PRS_L2D_STD_20200627102334_20200627102339_0001.he5 HDFEOS/SWATHS/PRS_L2D_HCO/Data Fields/VNIR_Cube\n",
      "prendo vnir\n",
      "VNIR wavelengths requested: Float32[330.0, 340.0, 400.0, 500.0, 700.0, 900.0]\n",
      "closest VNIR wavelengths: Float32[402.30698, 402.30698, 402.30698, 500.0243, 698.95276, 897.8235]\n",
      "creating cube...\n",
      "Importing Band: 4 (402.30698) of: 1:66\n",
      "Importing Band: 4 (402.30698) of: 1:66\n",
      "Importing Band: 4 (402.30698) of: 1:66\n",
      "Importing Band: 17 (500.0243) of: 1:66\n",
      "Importing Band: 40 (698.95276) of: 1:66\n",
      "Importing Band: 59 (897.8235) of: 1:66\n",
      "cube created\n",
      "cube has (1235, 1209, 6) dims\n",
      "- Writing raster -\n",
      "getting geoloc info\n",
      "building geotranform array\n",
      "building coordinate reference system string\n",
      "preparing to write tiff\n",
      "file out/try2/PRS_L2D_STD_20200627102334_20200627102339_0001_VNIR.tif already exists\n",
      "overwrite set, removing file\n",
      "writing bands in  empty tiff\n",
      "finished writing bands\n",
      "setting geotransform\n",
      "setting crs string\n",
      "finished writing on out/try2/PRS_L2D_STD_20200627102334_20200627102339_0001_VNIR.tif\n",
      "creating and writing dataframe of selected bands with wavelengths and bandwidths\n",
      "####### create_cube end #########\n",
      "building VNIR raster...\n",
      "####### create_cube start #########\n",
      "eos_create_SWIR\n",
      "processing level: 2D\n",
      "prendo cubo da HDF5 data file: data/PRS_L2D_STD_20200627102334_20200627102339_0001.he5 HDFEOS/SWATHS/PRS_L2D_HCO/Data Fields/SWIR_Cube\n",
      "prendo swir\n",
      "SWIR wavelengths requested: Float32[1200.0, 1320.0, 2100.0, 2900.0, 3000.0]\n",
      "closest SWIR wavelengths: Float32[1196.1561, 1316.9906, 2102.517, 2496.8467, 2496.8467]\n",
      "creating cube...\n",
      "Importing Band: 28 (1196.1561) of: 1:173\n",
      "Importing Band: 39 (1316.9906) of: 1:173\n",
      "Importing Band: 120 (2102.517) of: 1:173\n",
      "Importing Band: 173 (2496.8467) of: 1:173\n",
      "Importing Band: 173 (2496.8467) of: 1:173\n",
      "cube created\n",
      "cube has (1235, 1209, 5) dims\n",
      "- Writing raster -\n",
      "getting geoloc info\n",
      "building geotranform array\n",
      "building coordinate reference system string\n",
      "preparing to write tiff\n",
      "file out/try2/PRS_L2D_STD_20200627102334_20200627102339_0001_SWIR.tif already exists\n",
      "overwrite set, removing file\n",
      "writing bands in  empty tiff\n",
      "finished writing bands\n",
      "setting geotransform\n",
      "setting crs string\n",
      "finished writing on out/try2/PRS_L2D_STD_20200627102334_20200627102339_0001_SWIR.tif\n",
      "creating and writing dataframe of selected bands with wavelengths and bandwidths\n",
      "####### create_cube end #########\n",
      "getting geoloc info\n",
      "building geotranform array\n",
      "building coordinate reference system string\n",
      "reading bands 1 to 5 , this might take a while...\n",
      "finished reading bands\n",
      "reading bands 1 to 6 , this might take a while...\n",
      "finished reading bands\n",
      "preparing to write tiff\n",
      "file out/try2/PRS_L2D_STD_20200627102334_20200627102339_0001_FULL.tif already exists\n",
      "overwrite set, removing file\n",
      "writing bands in  empty tiff\n",
      "finished writing bands\n",
      "setting geotransform\n",
      "setting crs string\n",
      "finished writing on out/try2/PRS_L2D_STD_20200627102334_20200627102339_0001_FULL.tif\n",
      "getting geoloc info\n",
      "building geotranform array\n",
      "building coordinate reference system string\n",
      "preparing to write tiff\n",
      "file out/try2/PRS_L2D_STD_20200627102334_20200627102339_0001_PAN.tif already exists\n",
      "overwrite set, removing file\n",
      "writing bands in  empty tiff\n",
      "finished writing bands\n",
      "setting geotransform\n",
      "setting crs string\n",
      "finished writing on out/try2/PRS_L2D_STD_20200627102334_20200627102339_0001_PAN.tif\n"
     ]
    },
    {
     "data": {
      "text/plain": [
       "\"out/try2/PRS_L2D_STD_20200627102334_20200627102339_0001_PAN.tif\""
      ]
     },
     "execution_count": 15,
     "metadata": {},
     "output_type": "execute_result"
    }
   ],
   "source": [
    "eos_convert.maketif(in_file,##NB: in_file dev esser già aperto, a diff di pr_convert    \n",
    "      out_file2;\n",
    "    selbands_vnir=selbands_vnir,\n",
    "    selbands_swir=selbands_swir,\n",
    "    overwrite=true)#setto overwrite=true per sovrascrivere file vecchi"
   ]
  },
  {
   "cell_type": "markdown",
   "metadata": {},
   "source": [
    "# usecase 3: matrice errori\n",
    "\n",
    "legenda errcube:  \n",
    "* x_{ibj} = 0 -> pixel_{ij} della banda b va bene\n",
    "* x_{ibj} = 1 -> pixel_{ij} della banda b Invalid pixel from L1 product\n",
    "* x_{ibj} = 2 -> pixel_{ij} della banda b Negative value after atcor\n",
    "* x_{ibj} = 3 -> pixel_{ij} della banda b Saturated value after atcor\n",
    "\n",
    "diamo alla funzione un array di errori concessi"
   ]
  },
  {
   "cell_type": "code",
   "execution_count": 16,
   "metadata": {},
   "outputs": [
    {
     "data": {
      "text/plain": [
       "1-element Array{Int64,1}:\n",
       " 0"
      ]
     },
     "execution_count": 16,
     "metadata": {},
     "output_type": "execute_result"
    }
   ],
   "source": [
    "allowed = [0]"
   ]
  },
  {
   "cell_type": "code",
   "execution_count": 17,
   "metadata": {},
   "outputs": [
    {
     "data": {
      "text/plain": [
       "\"out/try3/PRS_L2D_STD_20200627102334_20200627102339_0001.tif\""
      ]
     },
     "execution_count": 17,
     "metadata": {},
     "output_type": "execute_result"
    }
   ],
   "source": [
    "out_file3 = \"out/try3/PRS_L2D_STD_20200627102334_20200627102339_0001.tif\""
   ]
  },
  {
   "cell_type": "code",
   "execution_count": 18,
   "metadata": {},
   "outputs": [
    {
     "name": "stdout",
     "output_type": "stream",
     "text": [
      "out_folder = faux.dirname(out_file) = \"out/try3/\"\n",
      "creating folder out/try3/\n",
      "made folder\n",
      "loading attributes...\n",
      "building VNIR raster...\n",
      "####### create_cube start #########\n",
      "eos_create_VNIR\n",
      "processing level: 2D\n",
      "prendo cubo da HDF5 data file: data/PRS_L2D_STD_20200627102334_20200627102339_0001.he5 HDFEOS/SWATHS/PRS_L2D_HCO/Data Fields/VNIR_Cube\n",
      "prendo vnir\n",
      "VNIR wavelengths requested: Float32[330.0, 340.0, 400.0, 500.0, 700.0, 900.0]\n",
      "closest VNIR wavelengths: Float32[402.30698, 402.30698, 402.30698, 500.0243, 698.95276, 897.8235]\n",
      "creating cube...\n",
      "Importing Band: 4 (402.30698) of: 1:66\n",
      "applico cubo errori\n",
      "tolto 416041 pixel con errori\n",
      "Importing Band: 4 (402.30698) of: 1:66\n",
      "applico cubo errori\n",
      "tolto 416041 pixel con errori\n",
      "Importing Band: 4 (402.30698) of: 1:66\n",
      "applico cubo errori\n",
      "tolto 416041 pixel con errori\n",
      "Importing Band: 17 (500.0243) of: 1:66\n",
      "applico cubo errori\n",
      "tolto 1702 pixel con errori\n",
      "Importing Band: 40 (698.95276) of: 1:66\n",
      "applico cubo errori\n",
      "tolto 1679 pixel con errori\n",
      "Importing Band: 59 (897.8235) of: 1:66\n",
      "applico cubo errori\n",
      "tolto 1683 pixel con errori\n",
      "cube created\n",
      "cube has (1235, 1209, 6) dims\n",
      "- Writing raster -\n",
      "getting geoloc info\n",
      "building geotranform array\n",
      "building coordinate reference system string\n",
      "preparing to write tiff\n",
      "file out/try3/PRS_L2D_STD_20200627102334_20200627102339_0001_VNIR.tif already exists\n",
      "overwrite set, removing file\n",
      "writing bands in  empty tiff\n",
      "finished writing bands\n",
      "setting geotransform\n",
      "setting crs string\n",
      "finished writing on out/try3/PRS_L2D_STD_20200627102334_20200627102339_0001_VNIR.tif\n",
      "building err cube with bands [4, 4, 4, 17, 40, 59]\n",
      "getting indexes [4, 4, 4, 17, 40, 59] from error cube\n",
      "created error cube of (1235, 1209, 6) dimensions\n",
      "preparing to write tiff\n",
      "file out/try3/PRS_L2D_STD_20200627102334_20200627102339_0001_VNIR_ERR.tif already exists\n",
      "overwrite set, removing file\n",
      "writing bands in  empty tiff\n",
      "finished writing bands\n",
      "setting geotransform\n",
      "setting crs string\n",
      "finished writing on out/try3/PRS_L2D_STD_20200627102334_20200627102339_0001_VNIR_ERR.tif\n",
      "creating and writing dataframe of selected bands with wavelengths and bandwidths\n",
      "####### create_cube end #########\n",
      "building VNIR raster...\n",
      "####### create_cube start #########\n",
      "eos_create_SWIR\n",
      "processing level: 2D\n",
      "prendo cubo da HDF5 data file: data/PRS_L2D_STD_20200627102334_20200627102339_0001.he5 HDFEOS/SWATHS/PRS_L2D_HCO/Data Fields/SWIR_Cube\n",
      "prendo swir\n",
      "SWIR wavelengths requested: Float32[1200.0, 1320.0, 2100.0, 2900.0, 3000.0]\n",
      "closest SWIR wavelengths: Float32[1196.1561, 1316.9906, 2102.517, 2496.8467, 2496.8467]\n",
      "creating cube...\n",
      "Importing Band: 28 (1196.1561) of: 1:173\n",
      "applico cubo errori\n",
      "tolto 3767 pixel con errori\n",
      "Importing Band: 39 (1316.9906) of: 1:173\n",
      "applico cubo errori\n",
      "tolto 1773 pixel con errori\n",
      "Importing Band: 120 (2102.517) of: 1:173\n",
      "applico cubo errori\n",
      "tolto 2729 pixel con errori\n",
      "Importing Band: 173 (2496.8467) of: 1:173\n",
      "applico cubo errori\n",
      "tolto 906383 pixel con errori\n",
      "Importing Band: 173 (2496.8467) of: 1:173\n",
      "applico cubo errori\n",
      "tolto 906383 pixel con errori\n",
      "cube created\n",
      "cube has (1235, 1209, 5) dims\n",
      "- Writing raster -\n",
      "getting geoloc info\n",
      "building geotranform array\n",
      "building coordinate reference system string\n",
      "preparing to write tiff\n",
      "file out/try3/PRS_L2D_STD_20200627102334_20200627102339_0001_SWIR.tif already exists\n",
      "overwrite set, removing file\n",
      "writing bands in  empty tiff\n",
      "finished writing bands\n",
      "setting geotransform\n",
      "setting crs string\n",
      "finished writing on out/try3/PRS_L2D_STD_20200627102334_20200627102339_0001_SWIR.tif\n",
      "building err cube with bands [28, 39, 120, 173, 173]\n",
      "getting indexes [28, 39, 120, 173, 173] from error cube\n",
      "created error cube of (1235, 1209, 5) dimensions\n",
      "preparing to write tiff\n",
      "file out/try3/PRS_L2D_STD_20200627102334_20200627102339_0001_SWIR_ERR.tif already exists\n",
      "overwrite set, removing file\n",
      "writing bands in  empty tiff\n",
      "finished writing bands\n",
      "setting geotransform\n",
      "setting crs string\n",
      "finished writing on out/try3/PRS_L2D_STD_20200627102334_20200627102339_0001_SWIR_ERR.tif\n",
      "creating and writing dataframe of selected bands with wavelengths and bandwidths\n",
      "####### create_cube end #########\n",
      "getting geoloc info\n",
      "building geotranform array\n",
      "building coordinate reference system string\n",
      "reading bands 1 to 5 , this might take a while...\n",
      "finished reading bands\n",
      "reading bands 1 to 6 , this might take a while...\n",
      "finished reading bands\n",
      "preparing to write tiff\n",
      "file out/try3/PRS_L2D_STD_20200627102334_20200627102339_0001_FULL.tif already exists\n",
      "overwrite set, removing file\n",
      "writing bands in  empty tiff\n",
      "finished writing bands\n",
      "setting geotransform\n",
      "setting crs string\n",
      "finished writing on out/try3/PRS_L2D_STD_20200627102334_20200627102339_0001_FULL.tif\n",
      "getting geoloc info\n",
      "building geotranform array\n",
      "building coordinate reference system string\n",
      "preparing to write tiff\n",
      "file out/try3/PRS_L2D_STD_20200627102334_20200627102339_0001_PAN.tif already exists\n",
      "overwrite set, removing file\n",
      "writing bands in  empty tiff\n",
      "finished writing bands\n",
      "setting geotransform\n",
      "setting crs string\n",
      "finished writing on out/try3/PRS_L2D_STD_20200627102334_20200627102339_0001_PAN.tif\n"
     ]
    },
    {
     "data": {
      "text/plain": [
       "\"out/try3/PRS_L2D_STD_20200627102334_20200627102339_0001_PAN.tif\""
      ]
     },
     "execution_count": 18,
     "metadata": {},
     "output_type": "execute_result"
    }
   ],
   "source": [
    "eos_convert.maketif(in_file,##NB: in_file dev esser già aperto, a diff di pr_convert    \n",
    "      out_file3;\n",
    "    selbands_vnir=selbands_vnir,\n",
    "    selbands_swir=selbands_swir,\n",
    "    overwrite=true,#setto overwrite=true per sovrascrivere file vecchi\n",
    "    allowed_errors = allowed)"
   ]
  },
  {
   "cell_type": "code",
   "execution_count": 19,
   "metadata": {},
   "outputs": [
    {
     "name": "stdout",
     "output_type": "stream",
     "text": [
      "chiuso 1 file\n"
     ]
    }
   ],
   "source": [
    "closeall(openfiles)"
   ]
  }
 ],
 "metadata": {
  "kernelspec": {
   "display_name": "Julia 1.5.1",
   "language": "julia",
   "name": "julia-1.5"
  },
  "language_info": {
   "file_extension": ".jl",
   "mimetype": "application/julia",
   "name": "julia",
   "version": "1.5.1"
  }
 },
 "nbformat": 4,
 "nbformat_minor": 4
}
