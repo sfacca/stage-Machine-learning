{
 "cells": [
  {
   "cell_type": "markdown",
   "metadata": {},
   "source": [
    "+ http://www.acgeospatial.co.uk/julia-prt2/  \n",
    "+ http://www.acgeospatial.co.uk/julia-prt3/  \n",
    "+ https://yeesian.com/ArchGDAL.jl/dev/quickstart/"
   ]
  },
  {
   "cell_type": "code",
   "execution_count": 2,
   "metadata": {},
   "outputs": [
    {
     "name": "stderr",
     "output_type": "stream",
     "text": [
      "\u001b[32m\u001b[1m Activating\u001b[22m\u001b[39m environment at `C:\\Users\\i am\\Documents\\GitHub\\stage-Machine-learning\\prisma\\hdf5\\Project.toml`\n",
      "\u001b[32m\u001b[1m   Updating\u001b[22m\u001b[39m registry at `C:\\Users\\i am\\.julia\\registries\\General`\n",
      "\u001b[32m\u001b[1m  Resolving\u001b[22m\u001b[39m package versions...\n",
      "\u001b[32m\u001b[1mNo Changes\u001b[22m\u001b[39m to `C:\\Users\\i am\\Documents\\GitHub\\stage-Machine-learning\\prisma\\hdf5\\Project.toml`\n",
      "\u001b[32m\u001b[1mNo Changes\u001b[22m\u001b[39m to `C:\\Users\\i am\\Documents\\GitHub\\stage-Machine-learning\\prisma\\hdf5\\Manifest.toml`\n"
     ]
    },
    {
     "data": {
      "text/plain": [
       "ArchGDAL"
      ]
     },
     "execution_count": 2,
     "metadata": {},
     "output_type": "execute_result"
    }
   ],
   "source": [
    "using Pkg\n",
    "Pkg.activate(\".\")\n",
    "Pkg.instantiate()\n",
    "Pkg.add(\"FileIO\")\n",
    "\n",
    "mkpath(\"downloads\")\n",
    "mkpath(\"out\")\n",
    "\n",
    "using ArchGDAL; const AG = ArchGDAL"
   ]
  },
  {
   "cell_type": "code",
   "execution_count": 3,
   "metadata": {},
   "outputs": [
    {
     "data": {
      "text/plain": [
       "Main.HDF5fd"
      ]
     },
     "execution_count": 3,
     "metadata": {},
     "output_type": "execute_result"
    }
   ],
   "source": [
    "using HDF5\n",
    "include(\"../../code/julia/HDF5filesDict.jl\")"
   ]
  },
  {
   "cell_type": "code",
   "execution_count": 4,
   "metadata": {},
   "outputs": [
    {
     "ename": "LoadError",
     "evalue": "LoadError: syntax: unexpected \"=\"\nin expression starting at C:\\Users\\i am\\Documents\\GitHub\\stage-Machine-learning\\code\\julia\\faux.jl:38",
     "output_type": "error",
     "traceback": [
      "LoadError: syntax: unexpected \"=\"\nin expression starting at C:\\Users\\i am\\Documents\\GitHub\\stage-Machine-learning\\code\\julia\\faux.jl:38",
      "",
      "Stacktrace:",
      " [1] top-level scope at C:\\Users\\i am\\Documents\\GitHub\\stage-Machine-learning\\code\\julia\\faux.jl:38",
      " [2] include(::String) at .\\client.jl:457",
      " [3] top-level scope at In[4]:1",
      " [4] include_string(::Function, ::Module, ::String, ::String) at .\\loading.jl:1091"
     ]
    }
   ],
   "source": [
    "include(\"../../code/julia/faux.jl\")"
   ]
  },
  {
   "cell_type": "code",
   "execution_count": 5,
   "metadata": {},
   "outputs": [
    {
     "ename": "LoadError",
     "evalue": "could not open file C:\\Users\\i am\\Documents\\GitHub\\stage-Machine-learning\\code\\julia\\eos_get_geoloc.jl",
     "output_type": "error",
     "traceback": [
      "could not open file C:\\Users\\i am\\Documents\\GitHub\\stage-Machine-learning\\code\\julia\\eos_get_geoloc.jl",
      "",
      "Stacktrace:",
      " [1] include(::String) at .\\client.jl:457",
      " [2] top-level scope at In[5]:1",
      " [3] include_string(::Function, ::Module, ::String, ::String) at .\\loading.jl:1091"
     ]
    }
   ],
   "source": [
    "include(\"../../code/julia/eos_get_geoloc.jl\")"
   ]
  },
  {
   "cell_type": "code",
   "execution_count": 6,
   "metadata": {},
   "outputs": [],
   "source": [
    "using Plots"
   ]
  },
  {
   "cell_type": "markdown",
   "metadata": {},
   "source": [
    "# @GeoTiff\n",
    "\n",
    "https://en.wikipedia.org/wiki/GeoTIFF  \n",
    "\n",
    "https://en.wikipedia.org/wiki/TIFF  \n",
    "\n",
    "https://en.wikipedia.org/wiki/Raster_graphics\n",
    "\n",
    "tl;dr: abbiamo un raster (matrice di pixel) con metadati (numero bande, geolocation(lat, lon)), all interno di tiff, salvati tramite ArchGDAL -> GDAL, con i dati letti dai hdf prisma(cubi vnir+swir)\n",
    "\n",
    "dove troviamo dati geoloc in prod l2d?  \n",
    "* matrice lat: hdf5\\swaths\\PRS_L2d_(h per hypersp cube, p per panchromatic)CO\\geolocation fields\\latitude  \n",
    "* matrice lon: hdf5\\swaths\\PRS_L2d_(h per hypersp cube, p per panchromatic)CO\\geolocation fields\\longitude\n",
    "\n",
    "con le due mat abbiamo latitudine/longitudine di ogni pixel del raster\n",
    "\n",
    "dove troviamo il cubo? (raster x bande)  \n",
    "* cubo vnir:  hdf5\\swaths\\PRS_L2d_hCO\\data fields\\vnir_cube  \n",
    "* cubo swir:  hdf5\\swaths\\PRS_L2d_hCO\\data fields\\swir_cube  \n"
   ]
  },
  {
   "cell_type": "code",
   "execution_count": 7,
   "metadata": {},
   "outputs": [
    {
     "data": {
      "text/plain": [
       "HDF5 data file: data/PRS_L2D_STD_20200627102334_20200627102339_0001.he5"
      ]
     },
     "execution_count": 7,
     "metadata": {},
     "output_type": "execute_result"
    }
   ],
   "source": [
    "openfiles = HDF5fd.filesDict()\n",
    "# 1 apriamo file hdf5\n",
    "f = HDF5fd.open(openfiles, \"data/PRS_L2D_STD_20200627102334_20200627102339_0001.he5\", \"r\")\n",
    "\n"
   ]
  },
  {
   "cell_type": "code",
   "execution_count": 8,
   "metadata": {},
   "outputs": [
    {
     "ename": "LoadError",
     "evalue": "UndefVarError: faux not defined",
     "output_type": "error",
     "traceback": [
      "UndefVarError: faux not defined",
      "",
      "Stacktrace:",
      " [1] top-level scope at In[8]:3",
      " [2] include_string(::Function, ::Module, ::String, ::String) at .\\loading.jl:1091"
     ]
    }
   ],
   "source": [
    "# 2 prendiamo raster di una banda\n",
    "\n",
    "cube = faux.getData(f, \"HDFEOS/SWATHS/PRS_L2D_HCO/Data Fields/SWIR_Cube\");"
   ]
  },
  {
   "cell_type": "code",
   "execution_count": 9,
   "metadata": {},
   "outputs": [
    {
     "ename": "LoadError",
     "evalue": "UndefVarError: cube not defined",
     "output_type": "error",
     "traceback": [
      "UndefVarError: cube not defined",
      "",
      "Stacktrace:",
      " [1] top-level scope at In[9]:2",
      " [2] include_string(::Function, ::Module, ::String, ::String) at .\\loading.jl:1091"
     ]
    }
   ],
   "source": [
    "# cubo X,band,Y, vogliamo una matrice X,Y per una banda\n",
    "band = cube[:,2,:]"
   ]
  },
  {
   "cell_type": "code",
   "execution_count": 10,
   "metadata": {},
   "outputs": [
    {
     "ename": "LoadError",
     "evalue": "UndefVarError: band not defined",
     "output_type": "error",
     "traceback": [
      "UndefVarError: band not defined",
      "",
      "Stacktrace:",
      " [1] top-level scope at In[10]:2",
      " [2] include_string(::Function, ::Module, ::String, ::String) at .\\loading.jl:1091"
     ]
    }
   ],
   "source": [
    "#nb: sparse\n",
    "count(!iszero,band)/(length(band))"
   ]
  },
  {
   "cell_type": "code",
   "execution_count": 11,
   "metadata": {},
   "outputs": [
    {
     "ename": "LoadError",
     "evalue": "UndefVarError: faux not defined",
     "output_type": "error",
     "traceback": [
      "UndefVarError: faux not defined",
      "",
      "Stacktrace:",
      " [1] top-level scope at In[11]:4",
      " [2] include_string(::Function, ::Module, ::String, ::String) at .\\loading.jl:1091"
     ]
    }
   ],
   "source": [
    "# 3 prendiamo matrici lat e lon, risoluzione pixel\n",
    "#lat = faux.getData(file, \"HDFEOS/SWATHS/PRS_L2D_HCO/Geolocation Fields/Latitude\")\n",
    "#lon = faux.getData(file, \"HDFEOS/SWATHS/PRS_L2D_HCO/Geolocation Fields/Longitude\")\n",
    "proc_lev = faux.getAttr(f, \"Processing_Level\")\n",
    "source = \"HCO\"\n",
    "wvl = \"SWIR\"\n",
    "geo = eos_get_geoloc.get_geoloc(f,proc_lev,source,wvl,nothing)"
   ]
  },
  {
   "cell_type": "code",
   "execution_count": 12,
   "metadata": {},
   "outputs": [
    {
     "name": "stdout",
     "output_type": "stream",
     "text": [
      "chiuso 1 file\n"
     ]
    }
   ],
   "source": [
    "#possiamo chiudere il file\n",
    "HDF5fd.closeall(openfiles)"
   ]
  },
  {
   "cell_type": "code",
   "execution_count": 13,
   "metadata": {},
   "outputs": [
    {
     "ename": "LoadError",
     "evalue": "UndefVarError: geo not defined",
     "output_type": "error",
     "traceback": [
      "UndefVarError: geo not defined",
      "",
      "Stacktrace:",
      " [1] top-level scope at In[13]:2",
      " [2] include_string(::Function, ::Module, ::String, ::String) at .\\loading.jl:1091"
     ]
    }
   ],
   "source": [
    "# 4 creiamo parte metadati, per raster servono coord del pixel all angolo in alto a sinistra, risoluzione di un pixel e origine definita tramite crs\n",
    "ulpixel = (x=geo.xmin,y=geo.ymax)\n",
    "width = length(geo.lat[:,1])\n",
    "height = length(geo.lat[1,:])\n",
    "#calcoliamo risoluzione come distanza tra \n",
    "res = (geo.xmin - geo.xmax)/width# \\approx (geo.ymin - geo.ymax)/height\n",
    "\n",
    "#archgdal prende geoloc come array:\n",
    "gtf = [\n",
    "    ulpixel.x,#distanza in mt sull asse delle x del pixel topleft dall origine\n",
    "    res,\n",
    "    0,#per rotazione\n",
    "    ulpixel.y,#distanza in mt sull asse delle y del pixel topleft dall origine\n",
    "    0,\n",
    "    -res\n",
    "]\n",
    "gtf = convert(Array{Float64,1}, gtf)\n",
    "# creiamo stringa crs\n",
    "crs = AG.toWKT(AG.importEPSG(geo.proj_epsg))"
   ]
  },
  {
   "cell_type": "code",
   "execution_count": 14,
   "metadata": {},
   "outputs": [
    {
     "ename": "LoadError",
     "evalue": "UndefVarError: width not defined",
     "output_type": "error",
     "traceback": [
      "UndefVarError: width not defined",
      "",
      "Stacktrace:",
      " [1] top-level scope at In[14]:2",
      " [2] include_string(::Function, ::Module, ::String, ::String) at .\\loading.jl:1091"
     ]
    }
   ],
   "source": [
    "# 5 scriviamo tutto\n",
    "AG.create(\n",
    "    \"out/temporary.tif\",\n",
    "    driver = AG.getdriver(\"GTiff\"),\n",
    "    width=width,\n",
    "    height=height,\n",
    "    nbands=1,\n",
    "    dtype=UInt16\n",
    ") do dataset\n",
    "    AG.write!(dataset, band, 1)\n",
    "    AG.setgeotransform!(dataset, gtf)\n",
    "    AG.setproj!(dataset, crs)\n",
    "end"
   ]
  },
  {
   "cell_type": "code",
   "execution_count": 15,
   "metadata": {},
   "outputs": [
    {
     "data": {
      "image/png": "[encoded data removed]",
      "text/plain": [
       "1209×1235 Array{Gray{N0f16},2} with eltype Gray{Normed{UInt16,16}}:\n",
       " Gray{N0f16}(0.0)  Gray{N0f16}(0.0)  …  Gray{N0f16}(0.0)  Gray{N0f16}(0.0)\n",
       " Gray{N0f16}(0.0)  Gray{N0f16}(0.0)     Gray{N0f16}(0.0)  Gray{N0f16}(0.0)\n",
       " Gray{N0f16}(0.0)  Gray{N0f16}(0.0)     Gray{N0f16}(0.0)  Gray{N0f16}(0.0)\n",
       " Gray{N0f16}(0.0)  Gray{N0f16}(0.0)     Gray{N0f16}(0.0)  Gray{N0f16}(0.0)\n",
       " Gray{N0f16}(0.0)  Gray{N0f16}(0.0)     Gray{N0f16}(0.0)  Gray{N0f16}(0.0)\n",
       " Gray{N0f16}(0.0)  Gray{N0f16}(0.0)  …  Gray{N0f16}(0.0)  Gray{N0f16}(0.0)\n",
       " Gray{N0f16}(0.0)  Gray{N0f16}(0.0)     Gray{N0f16}(0.0)  Gray{N0f16}(0.0)\n",
       " Gray{N0f16}(0.0)  Gray{N0f16}(0.0)     Gray{N0f16}(0.0)  Gray{N0f16}(0.0)\n",
       " Gray{N0f16}(0.0)  Gray{N0f16}(0.0)     Gray{N0f16}(0.0)  Gray{N0f16}(0.0)\n",
       " Gray{N0f16}(0.0)  Gray{N0f16}(0.0)     Gray{N0f16}(0.0)  Gray{N0f16}(0.0)\n",
       " Gray{N0f16}(0.0)  Gray{N0f16}(0.0)  …  Gray{N0f16}(0.0)  Gray{N0f16}(0.0)\n",
       " Gray{N0f16}(0.0)  Gray{N0f16}(0.0)     Gray{N0f16}(0.0)  Gray{N0f16}(0.0)\n",
       " Gray{N0f16}(0.0)  Gray{N0f16}(0.0)     Gray{N0f16}(0.0)  Gray{N0f16}(0.0)\n",
       " ⋮                                   ⋱                    \n",
       " Gray{N0f16}(0.0)  Gray{N0f16}(0.0)     Gray{N0f16}(0.0)  Gray{N0f16}(0.0)\n",
       " Gray{N0f16}(0.0)  Gray{N0f16}(0.0)     Gray{N0f16}(0.0)  Gray{N0f16}(0.0)\n",
       " Gray{N0f16}(0.0)  Gray{N0f16}(0.0)     Gray{N0f16}(0.0)  Gray{N0f16}(0.0)\n",
       " Gray{N0f16}(0.0)  Gray{N0f16}(0.0)  …  Gray{N0f16}(0.0)  Gray{N0f16}(0.0)\n",
       " Gray{N0f16}(0.0)  Gray{N0f16}(0.0)     Gray{N0f16}(0.0)  Gray{N0f16}(0.0)\n",
       " Gray{N0f16}(0.0)  Gray{N0f16}(0.0)     Gray{N0f16}(0.0)  Gray{N0f16}(0.0)\n",
       " Gray{N0f16}(0.0)  Gray{N0f16}(0.0)     Gray{N0f16}(0.0)  Gray{N0f16}(0.0)\n",
       " Gray{N0f16}(0.0)  Gray{N0f16}(0.0)     Gray{N0f16}(0.0)  Gray{N0f16}(0.0)\n",
       " Gray{N0f16}(0.0)  Gray{N0f16}(0.0)  …  Gray{N0f16}(0.0)  Gray{N0f16}(0.0)\n",
       " Gray{N0f16}(0.0)  Gray{N0f16}(0.0)     Gray{N0f16}(0.0)  Gray{N0f16}(0.0)\n",
       " Gray{N0f16}(0.0)  Gray{N0f16}(0.0)     Gray{N0f16}(0.0)  Gray{N0f16}(0.0)\n",
       " Gray{N0f16}(0.0)  Gray{N0f16}(0.0)     Gray{N0f16}(0.0)  Gray{N0f16}(0.0)"
      ]
     },
     "execution_count": 15,
     "metadata": {},
     "output_type": "execute_result"
    }
   ],
   "source": [
    "using Images, FileIO\n",
    "# specify the path to your local image file\n",
    "img_path = \"out/temporary.tif\"\n",
    "img = load(img_path)"
   ]
  },
  {
   "cell_type": "code",
   "execution_count": 16,
   "metadata": {},
   "outputs": [],
   "source": [
    "#yay"
   ]
  },
  {
   "cell_type": "code",
   "execution_count": 26,
   "metadata": {},
   "outputs": [
    {
     "name": "stderr",
     "output_type": "stream",
     "text": [
      "WARNING: replacing module eos_demo.\n"
     ]
    },
    {
     "data": {
      "text/plain": [
       "Main.eos_demo"
      ]
     },
     "execution_count": 26,
     "metadata": {},
     "output_type": "execute_result"
    }
   ],
   "source": [
    "include(\"../../code/julia/eos_PANdemo.jl\")"
   ]
  },
  {
   "cell_type": "code",
   "execution_count": 1,
   "metadata": {},
   "outputs": [
    {
     "ename": "LoadError",
     "evalue": "UndefVarError: eos_demo not defined",
     "output_type": "error",
     "traceback": [
      "UndefVarError: eos_demo not defined",
      "",
      "Stacktrace:",
      " [1] top-level scope at In[1]:5",
      " [2] include_string(::Function, ::Module, ::String, ::String) at .\\loading.jl:1091"
     ]
    }
   ],
   "source": [
    "#piccola demo per far vedere i pancromatici di prodotti livello 2d\n",
    "\n",
    "hdf = \"data/PRS_L2D_STD_20200627102334_20200627102339_0001.he5\"\n",
    "img_path = \"out/mytiff2.tif\"\n",
    "eos_demo.demo(hdf,img_path,true)\n",
    "img = load(img_path)"
   ]
  },
  {
   "cell_type": "code",
   "execution_count": 137,
   "metadata": {},
   "outputs": [],
   "source": [
    "# nuvole??????"
   ]
  },
  {
   "cell_type": "code",
   "execution_count": 29,
   "metadata": {},
   "outputs": [
    {
     "ename": "LoadError",
     "evalue": "IOError: unlink: resource busy or locked (EBUSY)",
     "output_type": "error",
     "traceback": [
      "IOError: unlink: resource busy or locked (EBUSY)",
      "",
      "Stacktrace:",
      " [1] uv_error at .\\libuv.jl:97 [inlined]",
      " [2] unlink(::String) at .\\file.jl:888",
      " [3] rm(::String; force::Bool, recursive::Bool) at .\\file.jl:268",
      " [4] rm(::String) at .\\file.jl:260",
      " [5] top-level scope at In[29]:1",
      " [6] include_string(::Function, ::Module, ::String, ::String) at .\\loading.jl:1091"
     ]
    }
   ],
   "source": [
    "rm(img_path)"
   ]
  },
  {
   "cell_type": "code",
   "execution_count": null,
   "metadata": {},
   "outputs": [],
   "source": [
    "## geoloc errato\n",
    "# risultato specchiato?"
   ]
  }
 ],
 "metadata": {
  "kernelspec": {
   "display_name": "Julia 1.5.1",
   "language": "julia",
   "name": "julia-1.5"
  },
  "language_info": {
   "file_extension": ".jl",
   "mimetype": "application/julia",
   "name": "julia",
   "version": "1.5.1"
  }
 },
 "nbformat": 4,
 "nbformat_minor": 4
}
