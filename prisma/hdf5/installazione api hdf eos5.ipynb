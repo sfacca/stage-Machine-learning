{
 "cells": [
  {
   "cell_type": "markdown",
   "metadata": {},
   "source": [
    "# installazione hdf eos5 da windows\n",
    "1. scarica toolkit SDPTK da https://wiki.earthdata.nasa.gov/display/DAS/Toolkit+Downloads\n",
    "2. info su install sono a https://git.earthdata.nasa.gov/rest/git-lfs/storage/DAS/sdptoolkit/b233846c983d7a9c2d26f4800f1c43f00e0ea243ea97bb31426aa9f52bf9ec40?response-content-disposition=attachment%3B%20filename%3D%22UG.pdf%22%3B%20filename*%3Dutf-8%27%27UG.pdf\n",
    "3. gli script sono bash script, per lanciarli da win serve WSL, vedi https://www.thewindowsclub.com/how-to-run-sh-or-shell-script-file-in-windows-10\n",
    "4. ~Error: In 64-bit linux platform the env. variable LINUX_BRAND must be et to linux32 or linux64 before running this script.~\n",
    "5. ~no~\n",
    "\n",
    "1. ~enable wsl2, reboot~\n",
    "2. ~microsoft store -> search linux -> ubuntu -> install/get app~\n",
    "3. ~start -> ubuntu -> installing this might take a few minutes~\n",
    "4. ~no~\n",
    "\n",
    "1. ~apri INSTALL-HDF~\n",
    "2. ~ctrl+f LINUX_BRAND~\n",
    "3. ~elimina/edita~\n",
    "4. ~serve hdf-4.2.13.tar.gz da https://support.hdfgroup.org/ftp/HDF/releases/HDF4.2.13/src/~\n",
    "5. ~da cmd prompt:~\n",
    " 1. ~cd a cartella TOOLKIT/bin~\n",
    " 3. ~# bash INSTALL-HDF~\n",
    " 4. ~installl fallisce se ci sono spazi nella path~~\n",
    "1. cd a path del toolkit\n",
    "2. bash bin/INSTALL\n",
    "3. serve zlib da https://zlib.net/\n",
    "4. make: not found Run of 'make' failed.\n",
    "5. serve make https://stat545.com/make-windows.html\n",
    " 1. installa da https://sourceforge.net/projects/gnuwin32/files/make/3.81/make-3.81.exe/download?use_mirror=deac-fra&download=\n",
    " 2. aggiungi path della cartella bin di quel che hai installato (default C:\\Program Files (x86)\\GnuWin32\\bin) a env var PATH\n",
    "6. bash bin/INSTALL\n",
    "7. make: not found\n",
    "8. http://gnuwin32.sourceforge.net/packages/zlib.htm\n",
    "9. https://github.com/horta/zlib.install\n",
    "10. mancano ancora cose...\n",
    "11. installa \"Desktop development with C++\" dal setup pacchetti di visual studio (trovabile in new project -> altro)\n",
    "6. bash bin/INSTALL\n",
    "7. make: not found"
   ]
  },
  {
   "cell_type": "markdown",
   "metadata": {},
   "source": [
    "# requisiti windows\n",
    "\n",
    "1. ZLIB http://gnuwin32.sourceforge.net/packages/zlib.htm#:~:text=zlib%20is%20designed%20to%20be,is%20itself%20portable%20across%20platforms.  \n",
    "1. G++ / http://www.mingw.org   \n",
    "1. MAKE / http://gnuwin32.sourceforge.net/packages/make.htm   \n",
    "1. JPEG / http://gnuwin32.sourceforge.net/packages/jpeg.htm  \n",
    "1. GFORTRAN / https://gcc.gnu.org/wiki/GFortranBinariesWindows  \n",
    "1. BISON / http://gnuwin32.sourceforge.net/packages/bison.htm  \n",
    "1. FLEX / http://gnuwin32.sourceforge.net/packages/flex.htm    \n",
    "1. FILE / http://gnuwin32.sourceforge.net/packages/file.htm  \n"
   ]
  },
  {
   "cell_type": "code",
   "execution_count": null,
   "metadata": {},
   "outputs": [],
   "source": []
  }
 ],
 "metadata": {
  "kernelspec": {
   "display_name": "Julia 1.5.1",
   "language": "julia",
   "name": "julia-1.5"
  },
  "language_info": {
   "file_extension": ".jl",
   "mimetype": "application/julia",
   "name": "julia",
   "version": "1.5.1"
  }
 },
 "nbformat": 4,
 "nbformat_minor": 4
}
